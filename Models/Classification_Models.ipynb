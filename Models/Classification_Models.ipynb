{
 "cells": [
  {
   "cell_type": "markdown",
   "id": "41f145b3",
   "metadata": {},
   "source": [
    "## Decision Tree"
   ]
  },
  {
   "cell_type": "markdown",
   "id": "84370fd9",
   "metadata": {},
   "source": [
    "## Import Required Libraries"
   ]
  },
  {
   "cell_type": "code",
   "execution_count": 16,
   "id": "4aad1273",
   "metadata": {},
   "outputs": [],
   "source": [
    "import pandas as pd\n",
    "import numpy as np\n",
    "import matplotlib.pyplot as plt\n",
    "import seaborn as sns\n",
    "\n",
    "from sklearn.model_selection import train_test_split\n",
    "from sklearn.tree import DecisionTreeClassifier, plot_tree\n",
    "from sklearn.metrics import classification_report, confusion_matrix, accuracy_score\n",
    "import plotly.express as px\n",
    "import plotly.graph_objects as go\n",
    "from sklearn.ensemble import RandomForestClassifier\n"
   ]
  },
  {
   "cell_type": "markdown",
   "id": "1d634fac",
   "metadata": {},
   "source": [
    "## Load and Preprocess the Dataset"
   ]
  },
  {
   "cell_type": "code",
   "execution_count": 7,
   "id": "ce1ebde5",
   "metadata": {},
   "outputs": [
    {
     "data": {
      "text/html": [
       "<div>\n",
       "<style scoped>\n",
       "    .dataframe tbody tr th:only-of-type {\n",
       "        vertical-align: middle;\n",
       "    }\n",
       "\n",
       "    .dataframe tbody tr th {\n",
       "        vertical-align: top;\n",
       "    }\n",
       "\n",
       "    .dataframe thead th {\n",
       "        text-align: right;\n",
       "    }\n",
       "</style>\n",
       "<table border=\"1\" class=\"dataframe\">\n",
       "  <thead>\n",
       "    <tr style=\"text-align: right;\">\n",
       "      <th></th>\n",
       "      <th>A</th>\n",
       "      <th>C</th>\n",
       "      <th>D</th>\n",
       "      <th>E</th>\n",
       "      <th>F</th>\n",
       "      <th>G</th>\n",
       "      <th>H</th>\n",
       "      <th>I</th>\n",
       "      <th>K</th>\n",
       "      <th>L</th>\n",
       "      <th>...</th>\n",
       "      <th>P</th>\n",
       "      <th>Q</th>\n",
       "      <th>R</th>\n",
       "      <th>S</th>\n",
       "      <th>T</th>\n",
       "      <th>V</th>\n",
       "      <th>W</th>\n",
       "      <th>Y</th>\n",
       "      <th>Sequence_Length</th>\n",
       "      <th>label_encoded</th>\n",
       "    </tr>\n",
       "  </thead>\n",
       "  <tbody>\n",
       "    <tr>\n",
       "      <th>0</th>\n",
       "      <td>3</td>\n",
       "      <td>0</td>\n",
       "      <td>0</td>\n",
       "      <td>1</td>\n",
       "      <td>3</td>\n",
       "      <td>1</td>\n",
       "      <td>0</td>\n",
       "      <td>2</td>\n",
       "      <td>0</td>\n",
       "      <td>9</td>\n",
       "      <td>...</td>\n",
       "      <td>0</td>\n",
       "      <td>0</td>\n",
       "      <td>1</td>\n",
       "      <td>1</td>\n",
       "      <td>4</td>\n",
       "      <td>5</td>\n",
       "      <td>0</td>\n",
       "      <td>0</td>\n",
       "      <td>31</td>\n",
       "      <td>0</td>\n",
       "    </tr>\n",
       "    <tr>\n",
       "      <th>1</th>\n",
       "      <td>3</td>\n",
       "      <td>0</td>\n",
       "      <td>0</td>\n",
       "      <td>1</td>\n",
       "      <td>3</td>\n",
       "      <td>1</td>\n",
       "      <td>0</td>\n",
       "      <td>2</td>\n",
       "      <td>0</td>\n",
       "      <td>9</td>\n",
       "      <td>...</td>\n",
       "      <td>0</td>\n",
       "      <td>0</td>\n",
       "      <td>1</td>\n",
       "      <td>1</td>\n",
       "      <td>4</td>\n",
       "      <td>5</td>\n",
       "      <td>0</td>\n",
       "      <td>0</td>\n",
       "      <td>31</td>\n",
       "      <td>0</td>\n",
       "    </tr>\n",
       "    <tr>\n",
       "      <th>2</th>\n",
       "      <td>3</td>\n",
       "      <td>0</td>\n",
       "      <td>0</td>\n",
       "      <td>1</td>\n",
       "      <td>3</td>\n",
       "      <td>1</td>\n",
       "      <td>0</td>\n",
       "      <td>2</td>\n",
       "      <td>0</td>\n",
       "      <td>9</td>\n",
       "      <td>...</td>\n",
       "      <td>0</td>\n",
       "      <td>0</td>\n",
       "      <td>1</td>\n",
       "      <td>1</td>\n",
       "      <td>4</td>\n",
       "      <td>5</td>\n",
       "      <td>0</td>\n",
       "      <td>0</td>\n",
       "      <td>31</td>\n",
       "      <td>0</td>\n",
       "    </tr>\n",
       "    <tr>\n",
       "      <th>3</th>\n",
       "      <td>3</td>\n",
       "      <td>0</td>\n",
       "      <td>0</td>\n",
       "      <td>1</td>\n",
       "      <td>3</td>\n",
       "      <td>1</td>\n",
       "      <td>0</td>\n",
       "      <td>2</td>\n",
       "      <td>0</td>\n",
       "      <td>9</td>\n",
       "      <td>...</td>\n",
       "      <td>0</td>\n",
       "      <td>0</td>\n",
       "      <td>1</td>\n",
       "      <td>1</td>\n",
       "      <td>4</td>\n",
       "      <td>5</td>\n",
       "      <td>0</td>\n",
       "      <td>0</td>\n",
       "      <td>31</td>\n",
       "      <td>0</td>\n",
       "    </tr>\n",
       "    <tr>\n",
       "      <th>4</th>\n",
       "      <td>3</td>\n",
       "      <td>0</td>\n",
       "      <td>0</td>\n",
       "      <td>1</td>\n",
       "      <td>3</td>\n",
       "      <td>1</td>\n",
       "      <td>0</td>\n",
       "      <td>2</td>\n",
       "      <td>0</td>\n",
       "      <td>9</td>\n",
       "      <td>...</td>\n",
       "      <td>0</td>\n",
       "      <td>0</td>\n",
       "      <td>1</td>\n",
       "      <td>1</td>\n",
       "      <td>4</td>\n",
       "      <td>5</td>\n",
       "      <td>0</td>\n",
       "      <td>0</td>\n",
       "      <td>31</td>\n",
       "      <td>0</td>\n",
       "    </tr>\n",
       "  </tbody>\n",
       "</table>\n",
       "<p>5 rows × 22 columns</p>\n",
       "</div>"
      ],
      "text/plain": [
       "   A  C  D  E  F  G  H  I  K  L  ...  P  Q  R  S  T  V  W  Y  Sequence_Length  \\\n",
       "0  3  0  0  1  3  1  0  2  0  9  ...  0  0  1  1  4  5  0  0               31   \n",
       "1  3  0  0  1  3  1  0  2  0  9  ...  0  0  1  1  4  5  0  0               31   \n",
       "2  3  0  0  1  3  1  0  2  0  9  ...  0  0  1  1  4  5  0  0               31   \n",
       "3  3  0  0  1  3  1  0  2  0  9  ...  0  0  1  1  4  5  0  0               31   \n",
       "4  3  0  0  1  3  1  0  2  0  9  ...  0  0  1  1  4  5  0  0               31   \n",
       "\n",
       "   label_encoded  \n",
       "0              0  \n",
       "1              0  \n",
       "2              0  \n",
       "3              0  \n",
       "4              0  \n",
       "\n",
       "[5 rows x 22 columns]"
      ]
     },
     "execution_count": 7,
     "metadata": {},
     "output_type": "execute_result"
    }
   ],
   "source": [
    "csv_path = r\"C:\\Users\\Blue Sky\\Desktop\\Dav\\COVID-Protein-Analysis\\genome_sequences_cleaned.csv\"\n",
    "df = pd.read_csv(csv_path)\n",
    "\n",
    "# Display first few rows to confirm loading\n",
    "df.head()"
   ]
  },
  {
   "cell_type": "markdown",
   "id": "31d05e8b",
   "metadata": {},
   "source": [
    "## Split Data into Features and Target"
   ]
  },
  {
   "cell_type": "code",
   "execution_count": 29,
   "id": "32e7e6e0",
   "metadata": {},
   "outputs": [],
   "source": [
    "# Features: A-Z + Sequence_Length\n",
    "X = df.drop(columns=['label_encoded'])\n",
    "y = df['label_encoded']\n",
    "\n",
    "# Train-test split\n",
    "X_train, X_test, y_train, y_test = train_test_split(X, y, test_size=0.2, random_state=42, stratify=y)\n"
   ]
  },
  {
   "cell_type": "markdown",
   "id": "be58c769",
   "metadata": {},
   "source": [
    "## Train the Decision Tree Classifier"
   ]
  },
  {
   "cell_type": "code",
   "execution_count": 10,
   "id": "fcd61e65",
   "metadata": {},
   "outputs": [],
   "source": [
    "clf = DecisionTreeClassifier(random_state=42)\n",
    "clf.fit(X_train, y_train)\n",
    "\n",
    "# Predictions\n",
    "y_pred = clf.predict(X_test)\n"
   ]
  },
  {
   "cell_type": "markdown",
   "id": "d338adcf",
   "metadata": {},
   "source": [
    "## Evaluation Metrics"
   ]
  },
  {
   "cell_type": "code",
   "execution_count": 11,
   "id": "6c1bf8fa",
   "metadata": {},
   "outputs": [
    {
     "name": "stdout",
     "output_type": "stream",
     "text": [
      "Accuracy: 0.9743\n",
      "\n",
      "Classification Report:\n",
      "\n",
      "              precision    recall  f1-score   support\n",
      "\n",
      "           0       0.98      0.99      0.99      1550\n",
      "           1       0.93      0.95      0.94      1105\n",
      "           2       1.00      0.99      1.00      1970\n",
      "           3       0.97      0.93      0.95      1016\n",
      "\n",
      "    accuracy                           0.97      5641\n",
      "   macro avg       0.97      0.97      0.97      5641\n",
      "weighted avg       0.97      0.97      0.97      5641\n",
      "\n"
     ]
    }
   ],
   "source": [
    "# Accuracy\n",
    "acc = accuracy_score(y_test, y_pred)\n",
    "print(f\"Accuracy: {acc:.4f}\")\n",
    "\n",
    "# Classification Report\n",
    "print(\"\\nClassification Report:\\n\")\n",
    "print(classification_report(y_test, y_pred))\n"
   ]
  },
  {
   "cell_type": "markdown",
   "id": "d46abe6d",
   "metadata": {},
   "source": [
    "## Confusion Matrix Plot"
   ]
  },
  {
   "cell_type": "code",
   "execution_count": 12,
   "id": "e2c5cc5b",
   "metadata": {},
   "outputs": [
    {
     "data": {
      "application/vnd.plotly.v1+json": {
       "config": {
        "plotlyServerURL": "https://plot.ly"
       },
       "data": [
        {
         "coloraxis": "coloraxis",
         "hovertemplate": "Predicted: %{x}<br>Actual: %{y}<br>Count: %{z}<extra></extra>",
         "name": "0",
         "texttemplate": "%{z}",
         "type": "heatmap",
         "x": {
          "bdata": "AAECAw==",
          "dtype": "i1"
         },
         "xaxis": "x",
         "y": {
          "bdata": "AAECAw==",
          "dtype": "i1"
         },
         "yaxis": "y",
         "z": {
          "bdata": "AAYKAAIAAgAaAB8EAAAYAAAABACnBwcAAwBDAAAAsgM=",
          "dtype": "i2",
          "shape": "4, 4"
         }
        }
       ],
       "layout": {
        "coloraxis": {
         "colorbar": {
          "title": {
           "text": "Count"
          }
         },
         "colorscale": [
          [
           0,
           "rgb(247,251,255)"
          ],
          [
           0.125,
           "rgb(222,235,247)"
          ],
          [
           0.25,
           "rgb(198,219,239)"
          ],
          [
           0.375,
           "rgb(158,202,225)"
          ],
          [
           0.5,
           "rgb(107,174,214)"
          ],
          [
           0.625,
           "rgb(66,146,198)"
          ],
          [
           0.75,
           "rgb(33,113,181)"
          ],
          [
           0.875,
           "rgb(8,81,156)"
          ],
          [
           1,
           "rgb(8,48,107)"
          ]
         ]
        },
        "margin": {
         "t": 60
        },
        "template": {
         "data": {
          "bar": [
           {
            "error_x": {
             "color": "#2a3f5f"
            },
            "error_y": {
             "color": "#2a3f5f"
            },
            "marker": {
             "line": {
              "color": "#E5ECF6",
              "width": 0.5
             },
             "pattern": {
              "fillmode": "overlay",
              "size": 10,
              "solidity": 0.2
             }
            },
            "type": "bar"
           }
          ],
          "barpolar": [
           {
            "marker": {
             "line": {
              "color": "#E5ECF6",
              "width": 0.5
             },
             "pattern": {
              "fillmode": "overlay",
              "size": 10,
              "solidity": 0.2
             }
            },
            "type": "barpolar"
           }
          ],
          "carpet": [
           {
            "aaxis": {
             "endlinecolor": "#2a3f5f",
             "gridcolor": "white",
             "linecolor": "white",
             "minorgridcolor": "white",
             "startlinecolor": "#2a3f5f"
            },
            "baxis": {
             "endlinecolor": "#2a3f5f",
             "gridcolor": "white",
             "linecolor": "white",
             "minorgridcolor": "white",
             "startlinecolor": "#2a3f5f"
            },
            "type": "carpet"
           }
          ],
          "choropleth": [
           {
            "colorbar": {
             "outlinewidth": 0,
             "ticks": ""
            },
            "type": "choropleth"
           }
          ],
          "contour": [
           {
            "colorbar": {
             "outlinewidth": 0,
             "ticks": ""
            },
            "colorscale": [
             [
              0,
              "#0d0887"
             ],
             [
              0.1111111111111111,
              "#46039f"
             ],
             [
              0.2222222222222222,
              "#7201a8"
             ],
             [
              0.3333333333333333,
              "#9c179e"
             ],
             [
              0.4444444444444444,
              "#bd3786"
             ],
             [
              0.5555555555555556,
              "#d8576b"
             ],
             [
              0.6666666666666666,
              "#ed7953"
             ],
             [
              0.7777777777777778,
              "#fb9f3a"
             ],
             [
              0.8888888888888888,
              "#fdca26"
             ],
             [
              1,
              "#f0f921"
             ]
            ],
            "type": "contour"
           }
          ],
          "contourcarpet": [
           {
            "colorbar": {
             "outlinewidth": 0,
             "ticks": ""
            },
            "type": "contourcarpet"
           }
          ],
          "heatmap": [
           {
            "colorbar": {
             "outlinewidth": 0,
             "ticks": ""
            },
            "colorscale": [
             [
              0,
              "#0d0887"
             ],
             [
              0.1111111111111111,
              "#46039f"
             ],
             [
              0.2222222222222222,
              "#7201a8"
             ],
             [
              0.3333333333333333,
              "#9c179e"
             ],
             [
              0.4444444444444444,
              "#bd3786"
             ],
             [
              0.5555555555555556,
              "#d8576b"
             ],
             [
              0.6666666666666666,
              "#ed7953"
             ],
             [
              0.7777777777777778,
              "#fb9f3a"
             ],
             [
              0.8888888888888888,
              "#fdca26"
             ],
             [
              1,
              "#f0f921"
             ]
            ],
            "type": "heatmap"
           }
          ],
          "histogram": [
           {
            "marker": {
             "pattern": {
              "fillmode": "overlay",
              "size": 10,
              "solidity": 0.2
             }
            },
            "type": "histogram"
           }
          ],
          "histogram2d": [
           {
            "colorbar": {
             "outlinewidth": 0,
             "ticks": ""
            },
            "colorscale": [
             [
              0,
              "#0d0887"
             ],
             [
              0.1111111111111111,
              "#46039f"
             ],
             [
              0.2222222222222222,
              "#7201a8"
             ],
             [
              0.3333333333333333,
              "#9c179e"
             ],
             [
              0.4444444444444444,
              "#bd3786"
             ],
             [
              0.5555555555555556,
              "#d8576b"
             ],
             [
              0.6666666666666666,
              "#ed7953"
             ],
             [
              0.7777777777777778,
              "#fb9f3a"
             ],
             [
              0.8888888888888888,
              "#fdca26"
             ],
             [
              1,
              "#f0f921"
             ]
            ],
            "type": "histogram2d"
           }
          ],
          "histogram2dcontour": [
           {
            "colorbar": {
             "outlinewidth": 0,
             "ticks": ""
            },
            "colorscale": [
             [
              0,
              "#0d0887"
             ],
             [
              0.1111111111111111,
              "#46039f"
             ],
             [
              0.2222222222222222,
              "#7201a8"
             ],
             [
              0.3333333333333333,
              "#9c179e"
             ],
             [
              0.4444444444444444,
              "#bd3786"
             ],
             [
              0.5555555555555556,
              "#d8576b"
             ],
             [
              0.6666666666666666,
              "#ed7953"
             ],
             [
              0.7777777777777778,
              "#fb9f3a"
             ],
             [
              0.8888888888888888,
              "#fdca26"
             ],
             [
              1,
              "#f0f921"
             ]
            ],
            "type": "histogram2dcontour"
           }
          ],
          "mesh3d": [
           {
            "colorbar": {
             "outlinewidth": 0,
             "ticks": ""
            },
            "type": "mesh3d"
           }
          ],
          "parcoords": [
           {
            "line": {
             "colorbar": {
              "outlinewidth": 0,
              "ticks": ""
             }
            },
            "type": "parcoords"
           }
          ],
          "pie": [
           {
            "automargin": true,
            "type": "pie"
           }
          ],
          "scatter": [
           {
            "fillpattern": {
             "fillmode": "overlay",
             "size": 10,
             "solidity": 0.2
            },
            "type": "scatter"
           }
          ],
          "scatter3d": [
           {
            "line": {
             "colorbar": {
              "outlinewidth": 0,
              "ticks": ""
             }
            },
            "marker": {
             "colorbar": {
              "outlinewidth": 0,
              "ticks": ""
             }
            },
            "type": "scatter3d"
           }
          ],
          "scattercarpet": [
           {
            "marker": {
             "colorbar": {
              "outlinewidth": 0,
              "ticks": ""
             }
            },
            "type": "scattercarpet"
           }
          ],
          "scattergeo": [
           {
            "marker": {
             "colorbar": {
              "outlinewidth": 0,
              "ticks": ""
             }
            },
            "type": "scattergeo"
           }
          ],
          "scattergl": [
           {
            "marker": {
             "colorbar": {
              "outlinewidth": 0,
              "ticks": ""
             }
            },
            "type": "scattergl"
           }
          ],
          "scattermap": [
           {
            "marker": {
             "colorbar": {
              "outlinewidth": 0,
              "ticks": ""
             }
            },
            "type": "scattermap"
           }
          ],
          "scattermapbox": [
           {
            "marker": {
             "colorbar": {
              "outlinewidth": 0,
              "ticks": ""
             }
            },
            "type": "scattermapbox"
           }
          ],
          "scatterpolar": [
           {
            "marker": {
             "colorbar": {
              "outlinewidth": 0,
              "ticks": ""
             }
            },
            "type": "scatterpolar"
           }
          ],
          "scatterpolargl": [
           {
            "marker": {
             "colorbar": {
              "outlinewidth": 0,
              "ticks": ""
             }
            },
            "type": "scatterpolargl"
           }
          ],
          "scatterternary": [
           {
            "marker": {
             "colorbar": {
              "outlinewidth": 0,
              "ticks": ""
             }
            },
            "type": "scatterternary"
           }
          ],
          "surface": [
           {
            "colorbar": {
             "outlinewidth": 0,
             "ticks": ""
            },
            "colorscale": [
             [
              0,
              "#0d0887"
             ],
             [
              0.1111111111111111,
              "#46039f"
             ],
             [
              0.2222222222222222,
              "#7201a8"
             ],
             [
              0.3333333333333333,
              "#9c179e"
             ],
             [
              0.4444444444444444,
              "#bd3786"
             ],
             [
              0.5555555555555556,
              "#d8576b"
             ],
             [
              0.6666666666666666,
              "#ed7953"
             ],
             [
              0.7777777777777778,
              "#fb9f3a"
             ],
             [
              0.8888888888888888,
              "#fdca26"
             ],
             [
              1,
              "#f0f921"
             ]
            ],
            "type": "surface"
           }
          ],
          "table": [
           {
            "cells": {
             "fill": {
              "color": "#EBF0F8"
             },
             "line": {
              "color": "white"
             }
            },
            "header": {
             "fill": {
              "color": "#C8D4E3"
             },
             "line": {
              "color": "white"
             }
            },
            "type": "table"
           }
          ]
         },
         "layout": {
          "annotationdefaults": {
           "arrowcolor": "#2a3f5f",
           "arrowhead": 0,
           "arrowwidth": 1
          },
          "autotypenumbers": "strict",
          "coloraxis": {
           "colorbar": {
            "outlinewidth": 0,
            "ticks": ""
           }
          },
          "colorscale": {
           "diverging": [
            [
             0,
             "#8e0152"
            ],
            [
             0.1,
             "#c51b7d"
            ],
            [
             0.2,
             "#de77ae"
            ],
            [
             0.3,
             "#f1b6da"
            ],
            [
             0.4,
             "#fde0ef"
            ],
            [
             0.5,
             "#f7f7f7"
            ],
            [
             0.6,
             "#e6f5d0"
            ],
            [
             0.7,
             "#b8e186"
            ],
            [
             0.8,
             "#7fbc41"
            ],
            [
             0.9,
             "#4d9221"
            ],
            [
             1,
             "#276419"
            ]
           ],
           "sequential": [
            [
             0,
             "#0d0887"
            ],
            [
             0.1111111111111111,
             "#46039f"
            ],
            [
             0.2222222222222222,
             "#7201a8"
            ],
            [
             0.3333333333333333,
             "#9c179e"
            ],
            [
             0.4444444444444444,
             "#bd3786"
            ],
            [
             0.5555555555555556,
             "#d8576b"
            ],
            [
             0.6666666666666666,
             "#ed7953"
            ],
            [
             0.7777777777777778,
             "#fb9f3a"
            ],
            [
             0.8888888888888888,
             "#fdca26"
            ],
            [
             1,
             "#f0f921"
            ]
           ],
           "sequentialminus": [
            [
             0,
             "#0d0887"
            ],
            [
             0.1111111111111111,
             "#46039f"
            ],
            [
             0.2222222222222222,
             "#7201a8"
            ],
            [
             0.3333333333333333,
             "#9c179e"
            ],
            [
             0.4444444444444444,
             "#bd3786"
            ],
            [
             0.5555555555555556,
             "#d8576b"
            ],
            [
             0.6666666666666666,
             "#ed7953"
            ],
            [
             0.7777777777777778,
             "#fb9f3a"
            ],
            [
             0.8888888888888888,
             "#fdca26"
            ],
            [
             1,
             "#f0f921"
            ]
           ]
          },
          "colorway": [
           "#636efa",
           "#EF553B",
           "#00cc96",
           "#ab63fa",
           "#FFA15A",
           "#19d3f3",
           "#FF6692",
           "#B6E880",
           "#FF97FF",
           "#FECB52"
          ],
          "font": {
           "color": "#2a3f5f"
          },
          "geo": {
           "bgcolor": "white",
           "lakecolor": "white",
           "landcolor": "#E5ECF6",
           "showlakes": true,
           "showland": true,
           "subunitcolor": "white"
          },
          "hoverlabel": {
           "align": "left"
          },
          "hovermode": "closest",
          "mapbox": {
           "style": "light"
          },
          "paper_bgcolor": "white",
          "plot_bgcolor": "#E5ECF6",
          "polar": {
           "angularaxis": {
            "gridcolor": "white",
            "linecolor": "white",
            "ticks": ""
           },
           "bgcolor": "#E5ECF6",
           "radialaxis": {
            "gridcolor": "white",
            "linecolor": "white",
            "ticks": ""
           }
          },
          "scene": {
           "xaxis": {
            "backgroundcolor": "#E5ECF6",
            "gridcolor": "white",
            "gridwidth": 2,
            "linecolor": "white",
            "showbackground": true,
            "ticks": "",
            "zerolinecolor": "white"
           },
           "yaxis": {
            "backgroundcolor": "#E5ECF6",
            "gridcolor": "white",
            "gridwidth": 2,
            "linecolor": "white",
            "showbackground": true,
            "ticks": "",
            "zerolinecolor": "white"
           },
           "zaxis": {
            "backgroundcolor": "#E5ECF6",
            "gridcolor": "white",
            "gridwidth": 2,
            "linecolor": "white",
            "showbackground": true,
            "ticks": "",
            "zerolinecolor": "white"
           }
          },
          "shapedefaults": {
           "line": {
            "color": "#2a3f5f"
           }
          },
          "ternary": {
           "aaxis": {
            "gridcolor": "white",
            "linecolor": "white",
            "ticks": ""
           },
           "baxis": {
            "gridcolor": "white",
            "linecolor": "white",
            "ticks": ""
           },
           "bgcolor": "#E5ECF6",
           "caxis": {
            "gridcolor": "white",
            "linecolor": "white",
            "ticks": ""
           }
          },
          "title": {
           "x": 0.05
          },
          "xaxis": {
           "automargin": true,
           "gridcolor": "white",
           "linecolor": "white",
           "ticks": "",
           "title": {
            "standoff": 15
           },
           "zerolinecolor": "white",
           "zerolinewidth": 2
          },
          "yaxis": {
           "automargin": true,
           "gridcolor": "white",
           "linecolor": "white",
           "ticks": "",
           "title": {
            "standoff": 15
           },
           "zerolinecolor": "white",
           "zerolinewidth": 2
          }
         }
        },
        "title": {
         "text": "Confusion Matrix (Plotly)"
        },
        "xaxis": {
         "anchor": "y",
         "constrain": "domain",
         "domain": [
          0,
          1
         ],
         "scaleanchor": "y",
         "title": {
          "text": "Predicted"
         }
        },
        "yaxis": {
         "anchor": "x",
         "autorange": "reversed",
         "constrain": "domain",
         "domain": [
          0,
          1
         ],
         "title": {
          "text": "Actual"
         }
        }
       }
      }
     },
     "metadata": {},
     "output_type": "display_data"
    }
   ],
   "source": [
    "# Create a confusion matrix\n",
    "cm = confusion_matrix(y_test, y_pred)\n",
    "labels = np.unique(y)\n",
    "\n",
    "fig = px.imshow(\n",
    "    cm,\n",
    "    labels=dict(x=\"Predicted\", y=\"Actual\", color=\"Count\"),\n",
    "    x=labels,\n",
    "    y=labels,\n",
    "    color_continuous_scale='Blues',\n",
    "    text_auto=True\n",
    ")\n",
    "\n",
    "fig.update_layout(title=\"Confusion Matrix (Plotly)\")\n",
    "fig.show()\n"
   ]
  },
  {
   "cell_type": "markdown",
   "id": "80fb8fc5",
   "metadata": {},
   "source": [
    "## Feature Importance Plot"
   ]
  },
  {
   "cell_type": "code",
   "execution_count": 14,
   "id": "06b3acb7",
   "metadata": {},
   "outputs": [
    {
     "data": {
      "application/vnd.plotly.v1+json": {
       "config": {
        "plotlyServerURL": "https://plot.ly"
       },
       "data": [
        {
         "hovertemplate": "Importance=%{marker.color}<br>Feature=%{y}<extra></extra>",
         "legendgroup": "",
         "marker": {
          "color": {
           "bdata": "YTDzLGRs2T+Oa98VyFPAPxXG3BGUMsA/L8xMbAJptT+EauQTSdWlP3l/+bcYsaQ/O/Gh1EzAoT97NCMwMTueP+vShKorhZw/8s7/jdAXkT8=",
           "dtype": "f8"
          },
          "coloraxis": "coloraxis",
          "pattern": {
           "shape": ""
          }
         },
         "name": "",
         "orientation": "h",
         "showlegend": false,
         "textposition": "auto",
         "type": "bar",
         "x": {
          "bdata": "YTDzLGRs2T+Oa98VyFPAPxXG3BGUMsA/L8xMbAJptT+EauQTSdWlP3l/+bcYsaQ/O/Gh1EzAoT97NCMwMTueP+vShKorhZw/8s7/jdAXkT8=",
          "dtype": "f8"
         },
         "xaxis": "x",
         "y": [
          "Q",
          "I",
          "L",
          "F",
          "V",
          "Y",
          "A",
          "Sequence_Length",
          "M",
          "T"
         ],
         "yaxis": "y"
        }
       ],
       "layout": {
        "barmode": "relative",
        "coloraxis": {
         "colorbar": {
          "title": {
           "text": "Importance"
          }
         },
         "colorscale": [
          [
           0,
           "#440154"
          ],
          [
           0.1111111111111111,
           "#482878"
          ],
          [
           0.2222222222222222,
           "#3e4989"
          ],
          [
           0.3333333333333333,
           "#31688e"
          ],
          [
           0.4444444444444444,
           "#26828e"
          ],
          [
           0.5555555555555556,
           "#1f9e89"
          ],
          [
           0.6666666666666666,
           "#35b779"
          ],
          [
           0.7777777777777778,
           "#6ece58"
          ],
          [
           0.8888888888888888,
           "#b5de2b"
          ],
          [
           1,
           "#fde725"
          ]
         ]
        },
        "legend": {
         "tracegroupgap": 0
        },
        "template": {
         "data": {
          "bar": [
           {
            "error_x": {
             "color": "#2a3f5f"
            },
            "error_y": {
             "color": "#2a3f5f"
            },
            "marker": {
             "line": {
              "color": "#E5ECF6",
              "width": 0.5
             },
             "pattern": {
              "fillmode": "overlay",
              "size": 10,
              "solidity": 0.2
             }
            },
            "type": "bar"
           }
          ],
          "barpolar": [
           {
            "marker": {
             "line": {
              "color": "#E5ECF6",
              "width": 0.5
             },
             "pattern": {
              "fillmode": "overlay",
              "size": 10,
              "solidity": 0.2
             }
            },
            "type": "barpolar"
           }
          ],
          "carpet": [
           {
            "aaxis": {
             "endlinecolor": "#2a3f5f",
             "gridcolor": "white",
             "linecolor": "white",
             "minorgridcolor": "white",
             "startlinecolor": "#2a3f5f"
            },
            "baxis": {
             "endlinecolor": "#2a3f5f",
             "gridcolor": "white",
             "linecolor": "white",
             "minorgridcolor": "white",
             "startlinecolor": "#2a3f5f"
            },
            "type": "carpet"
           }
          ],
          "choropleth": [
           {
            "colorbar": {
             "outlinewidth": 0,
             "ticks": ""
            },
            "type": "choropleth"
           }
          ],
          "contour": [
           {
            "colorbar": {
             "outlinewidth": 0,
             "ticks": ""
            },
            "colorscale": [
             [
              0,
              "#0d0887"
             ],
             [
              0.1111111111111111,
              "#46039f"
             ],
             [
              0.2222222222222222,
              "#7201a8"
             ],
             [
              0.3333333333333333,
              "#9c179e"
             ],
             [
              0.4444444444444444,
              "#bd3786"
             ],
             [
              0.5555555555555556,
              "#d8576b"
             ],
             [
              0.6666666666666666,
              "#ed7953"
             ],
             [
              0.7777777777777778,
              "#fb9f3a"
             ],
             [
              0.8888888888888888,
              "#fdca26"
             ],
             [
              1,
              "#f0f921"
             ]
            ],
            "type": "contour"
           }
          ],
          "contourcarpet": [
           {
            "colorbar": {
             "outlinewidth": 0,
             "ticks": ""
            },
            "type": "contourcarpet"
           }
          ],
          "heatmap": [
           {
            "colorbar": {
             "outlinewidth": 0,
             "ticks": ""
            },
            "colorscale": [
             [
              0,
              "#0d0887"
             ],
             [
              0.1111111111111111,
              "#46039f"
             ],
             [
              0.2222222222222222,
              "#7201a8"
             ],
             [
              0.3333333333333333,
              "#9c179e"
             ],
             [
              0.4444444444444444,
              "#bd3786"
             ],
             [
              0.5555555555555556,
              "#d8576b"
             ],
             [
              0.6666666666666666,
              "#ed7953"
             ],
             [
              0.7777777777777778,
              "#fb9f3a"
             ],
             [
              0.8888888888888888,
              "#fdca26"
             ],
             [
              1,
              "#f0f921"
             ]
            ],
            "type": "heatmap"
           }
          ],
          "histogram": [
           {
            "marker": {
             "pattern": {
              "fillmode": "overlay",
              "size": 10,
              "solidity": 0.2
             }
            },
            "type": "histogram"
           }
          ],
          "histogram2d": [
           {
            "colorbar": {
             "outlinewidth": 0,
             "ticks": ""
            },
            "colorscale": [
             [
              0,
              "#0d0887"
             ],
             [
              0.1111111111111111,
              "#46039f"
             ],
             [
              0.2222222222222222,
              "#7201a8"
             ],
             [
              0.3333333333333333,
              "#9c179e"
             ],
             [
              0.4444444444444444,
              "#bd3786"
             ],
             [
              0.5555555555555556,
              "#d8576b"
             ],
             [
              0.6666666666666666,
              "#ed7953"
             ],
             [
              0.7777777777777778,
              "#fb9f3a"
             ],
             [
              0.8888888888888888,
              "#fdca26"
             ],
             [
              1,
              "#f0f921"
             ]
            ],
            "type": "histogram2d"
           }
          ],
          "histogram2dcontour": [
           {
            "colorbar": {
             "outlinewidth": 0,
             "ticks": ""
            },
            "colorscale": [
             [
              0,
              "#0d0887"
             ],
             [
              0.1111111111111111,
              "#46039f"
             ],
             [
              0.2222222222222222,
              "#7201a8"
             ],
             [
              0.3333333333333333,
              "#9c179e"
             ],
             [
              0.4444444444444444,
              "#bd3786"
             ],
             [
              0.5555555555555556,
              "#d8576b"
             ],
             [
              0.6666666666666666,
              "#ed7953"
             ],
             [
              0.7777777777777778,
              "#fb9f3a"
             ],
             [
              0.8888888888888888,
              "#fdca26"
             ],
             [
              1,
              "#f0f921"
             ]
            ],
            "type": "histogram2dcontour"
           }
          ],
          "mesh3d": [
           {
            "colorbar": {
             "outlinewidth": 0,
             "ticks": ""
            },
            "type": "mesh3d"
           }
          ],
          "parcoords": [
           {
            "line": {
             "colorbar": {
              "outlinewidth": 0,
              "ticks": ""
             }
            },
            "type": "parcoords"
           }
          ],
          "pie": [
           {
            "automargin": true,
            "type": "pie"
           }
          ],
          "scatter": [
           {
            "fillpattern": {
             "fillmode": "overlay",
             "size": 10,
             "solidity": 0.2
            },
            "type": "scatter"
           }
          ],
          "scatter3d": [
           {
            "line": {
             "colorbar": {
              "outlinewidth": 0,
              "ticks": ""
             }
            },
            "marker": {
             "colorbar": {
              "outlinewidth": 0,
              "ticks": ""
             }
            },
            "type": "scatter3d"
           }
          ],
          "scattercarpet": [
           {
            "marker": {
             "colorbar": {
              "outlinewidth": 0,
              "ticks": ""
             }
            },
            "type": "scattercarpet"
           }
          ],
          "scattergeo": [
           {
            "marker": {
             "colorbar": {
              "outlinewidth": 0,
              "ticks": ""
             }
            },
            "type": "scattergeo"
           }
          ],
          "scattergl": [
           {
            "marker": {
             "colorbar": {
              "outlinewidth": 0,
              "ticks": ""
             }
            },
            "type": "scattergl"
           }
          ],
          "scattermap": [
           {
            "marker": {
             "colorbar": {
              "outlinewidth": 0,
              "ticks": ""
             }
            },
            "type": "scattermap"
           }
          ],
          "scattermapbox": [
           {
            "marker": {
             "colorbar": {
              "outlinewidth": 0,
              "ticks": ""
             }
            },
            "type": "scattermapbox"
           }
          ],
          "scatterpolar": [
           {
            "marker": {
             "colorbar": {
              "outlinewidth": 0,
              "ticks": ""
             }
            },
            "type": "scatterpolar"
           }
          ],
          "scatterpolargl": [
           {
            "marker": {
             "colorbar": {
              "outlinewidth": 0,
              "ticks": ""
             }
            },
            "type": "scatterpolargl"
           }
          ],
          "scatterternary": [
           {
            "marker": {
             "colorbar": {
              "outlinewidth": 0,
              "ticks": ""
             }
            },
            "type": "scatterternary"
           }
          ],
          "surface": [
           {
            "colorbar": {
             "outlinewidth": 0,
             "ticks": ""
            },
            "colorscale": [
             [
              0,
              "#0d0887"
             ],
             [
              0.1111111111111111,
              "#46039f"
             ],
             [
              0.2222222222222222,
              "#7201a8"
             ],
             [
              0.3333333333333333,
              "#9c179e"
             ],
             [
              0.4444444444444444,
              "#bd3786"
             ],
             [
              0.5555555555555556,
              "#d8576b"
             ],
             [
              0.6666666666666666,
              "#ed7953"
             ],
             [
              0.7777777777777778,
              "#fb9f3a"
             ],
             [
              0.8888888888888888,
              "#fdca26"
             ],
             [
              1,
              "#f0f921"
             ]
            ],
            "type": "surface"
           }
          ],
          "table": [
           {
            "cells": {
             "fill": {
              "color": "#EBF0F8"
             },
             "line": {
              "color": "white"
             }
            },
            "header": {
             "fill": {
              "color": "#C8D4E3"
             },
             "line": {
              "color": "white"
             }
            },
            "type": "table"
           }
          ]
         },
         "layout": {
          "annotationdefaults": {
           "arrowcolor": "#2a3f5f",
           "arrowhead": 0,
           "arrowwidth": 1
          },
          "autotypenumbers": "strict",
          "coloraxis": {
           "colorbar": {
            "outlinewidth": 0,
            "ticks": ""
           }
          },
          "colorscale": {
           "diverging": [
            [
             0,
             "#8e0152"
            ],
            [
             0.1,
             "#c51b7d"
            ],
            [
             0.2,
             "#de77ae"
            ],
            [
             0.3,
             "#f1b6da"
            ],
            [
             0.4,
             "#fde0ef"
            ],
            [
             0.5,
             "#f7f7f7"
            ],
            [
             0.6,
             "#e6f5d0"
            ],
            [
             0.7,
             "#b8e186"
            ],
            [
             0.8,
             "#7fbc41"
            ],
            [
             0.9,
             "#4d9221"
            ],
            [
             1,
             "#276419"
            ]
           ],
           "sequential": [
            [
             0,
             "#0d0887"
            ],
            [
             0.1111111111111111,
             "#46039f"
            ],
            [
             0.2222222222222222,
             "#7201a8"
            ],
            [
             0.3333333333333333,
             "#9c179e"
            ],
            [
             0.4444444444444444,
             "#bd3786"
            ],
            [
             0.5555555555555556,
             "#d8576b"
            ],
            [
             0.6666666666666666,
             "#ed7953"
            ],
            [
             0.7777777777777778,
             "#fb9f3a"
            ],
            [
             0.8888888888888888,
             "#fdca26"
            ],
            [
             1,
             "#f0f921"
            ]
           ],
           "sequentialminus": [
            [
             0,
             "#0d0887"
            ],
            [
             0.1111111111111111,
             "#46039f"
            ],
            [
             0.2222222222222222,
             "#7201a8"
            ],
            [
             0.3333333333333333,
             "#9c179e"
            ],
            [
             0.4444444444444444,
             "#bd3786"
            ],
            [
             0.5555555555555556,
             "#d8576b"
            ],
            [
             0.6666666666666666,
             "#ed7953"
            ],
            [
             0.7777777777777778,
             "#fb9f3a"
            ],
            [
             0.8888888888888888,
             "#fdca26"
            ],
            [
             1,
             "#f0f921"
            ]
           ]
          },
          "colorway": [
           "#636efa",
           "#EF553B",
           "#00cc96",
           "#ab63fa",
           "#FFA15A",
           "#19d3f3",
           "#FF6692",
           "#B6E880",
           "#FF97FF",
           "#FECB52"
          ],
          "font": {
           "color": "#2a3f5f"
          },
          "geo": {
           "bgcolor": "white",
           "lakecolor": "white",
           "landcolor": "#E5ECF6",
           "showlakes": true,
           "showland": true,
           "subunitcolor": "white"
          },
          "hoverlabel": {
           "align": "left"
          },
          "hovermode": "closest",
          "mapbox": {
           "style": "light"
          },
          "paper_bgcolor": "white",
          "plot_bgcolor": "#E5ECF6",
          "polar": {
           "angularaxis": {
            "gridcolor": "white",
            "linecolor": "white",
            "ticks": ""
           },
           "bgcolor": "#E5ECF6",
           "radialaxis": {
            "gridcolor": "white",
            "linecolor": "white",
            "ticks": ""
           }
          },
          "scene": {
           "xaxis": {
            "backgroundcolor": "#E5ECF6",
            "gridcolor": "white",
            "gridwidth": 2,
            "linecolor": "white",
            "showbackground": true,
            "ticks": "",
            "zerolinecolor": "white"
           },
           "yaxis": {
            "backgroundcolor": "#E5ECF6",
            "gridcolor": "white",
            "gridwidth": 2,
            "linecolor": "white",
            "showbackground": true,
            "ticks": "",
            "zerolinecolor": "white"
           },
           "zaxis": {
            "backgroundcolor": "#E5ECF6",
            "gridcolor": "white",
            "gridwidth": 2,
            "linecolor": "white",
            "showbackground": true,
            "ticks": "",
            "zerolinecolor": "white"
           }
          },
          "shapedefaults": {
           "line": {
            "color": "#2a3f5f"
           }
          },
          "ternary": {
           "aaxis": {
            "gridcolor": "white",
            "linecolor": "white",
            "ticks": ""
           },
           "baxis": {
            "gridcolor": "white",
            "linecolor": "white",
            "ticks": ""
           },
           "bgcolor": "#E5ECF6",
           "caxis": {
            "gridcolor": "white",
            "linecolor": "white",
            "ticks": ""
           }
          },
          "title": {
           "x": 0.05
          },
          "xaxis": {
           "automargin": true,
           "gridcolor": "white",
           "linecolor": "white",
           "ticks": "",
           "title": {
            "standoff": 15
           },
           "zerolinecolor": "white",
           "zerolinewidth": 2
          },
          "yaxis": {
           "automargin": true,
           "gridcolor": "white",
           "linecolor": "white",
           "ticks": "",
           "title": {
            "standoff": 15
           },
           "zerolinecolor": "white",
           "zerolinewidth": 2
          }
         }
        },
        "title": {
         "text": "Top 10 Important Features (Plotly)"
        },
        "xaxis": {
         "anchor": "y",
         "domain": [
          0,
          1
         ],
         "title": {
          "text": "Importance"
         }
        },
        "yaxis": {
         "anchor": "x",
         "categoryorder": "total ascending",
         "domain": [
          0,
          1
         ],
         "title": {
          "text": "Feature"
         }
        }
       }
      }
     },
     "metadata": {},
     "output_type": "display_data"
    }
   ],
   "source": [
    "# Use the existing feature importance data\n",
    "feat_imp_df = pd.DataFrame({\n",
    "    'Feature': X.columns,\n",
    "    'Importance': clf.feature_importances_\n",
    "}).sort_values(by='Importance', ascending=False).head(10)\n",
    "\n",
    "fig = px.bar(\n",
    "    feat_imp_df,\n",
    "    x='Importance',\n",
    "    y='Feature',\n",
    "    orientation='h',\n",
    "    color='Importance',\n",
    "    title='Top 10 Important Features (Plotly)',\n",
    "    color_continuous_scale='viridis'\n",
    ")\n",
    "\n",
    "fig.update_layout(yaxis={'categoryorder':'total ascending'})\n",
    "fig.show()\n",
    "\n"
   ]
  },
  {
   "cell_type": "markdown",
   "id": "46c99d84",
   "metadata": {},
   "source": [
    "## KDE"
   ]
  },
  {
   "cell_type": "code",
   "execution_count": 36,
   "id": "86eecf0b",
   "metadata": {},
   "outputs": [
    {
     "data": {
      "application/vnd.plotly.v1+json": {
       "config": {
        "plotlyServerURL": "https://plot.ly"
       },
       "data": [
        {
         "contours": {
          "coloring": "fill",
          "showlabels": true
         },
         "hovertemplate": "Predicted_Label=2<br>A=%{x}<br>G=%{y}<br>count=%{z}<extra></extra>",
         "legendgroup": "2",
         "line": {
          "color": "rgb(228,26,28)"
         },
         "name": "2",
         "showlegend": true,
         "type": "histogram2dcontour",
         "x": {
          "bdata": "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",
          "dtype": "i1"
         },
         "xaxis": "x",
         "xbingroup": "x",
         "y": {
          "bdata": "EBEBAAEqIRkqKioqEwEhFgAqKhIAByoqDQUPEyEBIRMPDishBAMqAAAqByoqARABEBMqKioZKioQDyEAERcSDBIBISEhEA4qKioqCwYVAQEAKhQqASEDAREYACoiFgYhARcqASEBEyoZBwEUDiESBSohDgEhEA4qAQEhAQABKhErKg8FKgMYKhMOESoqKhABAQEBFQEqERAVHRQhDioBAQwBKiEWIiEqKioqISoQKiohDg4eIRAqFRMqAAEJKhMqAQEBKgoGAQwOKhETEAkqISEqKg8TAQEBKg8qDyEqECo2IQQGASoqFyEODwUDERABCgMOEyEBASoBBwERKioBEgEKDioKERIhEioKAQIqGRIBFgQqGCoqAyEqAQ4qAQQqEQ4EDhENGA4OKhQWFiEqKhETKgQHDwEBKg8FKgwNDwEBASohAQEPASIBAQEVCCEhDioBIQ8qIQEBFioBIRAqIQIiKh8FAQEqDgYrARAXARUqFAIqISoqKgkiKgYiKggqAgMRKgEqDg8rKiETISoBISEADhQSKgQhAQwFBwEBDBUhHRkMDxgqKioRAAEqCRwqIgAPIRMBAQ4PKh0WAgEqDwUBAAEWKioXKhcqASEBKiohGAEMARgWDgoOBBABKgAhIQMBKg8UAhMpKioAKg4QCQ0BKg8qIRcBAAkqEw4hKhYBKiohESEBBgESKioWDwEqKgwiEQAhKgECASoqIQEGARkqCyoADysQASoAARkDEyoBDyoREiIVASoqKiEhKhYqAQEJEgMXAQEBKgQAKisOAhQhIQAqESEKASkBKhsBCAwqAQEVKhYPKgENKioVKggOABQqKgEVKg4BFioRKgUAASEQDxYABAAqIQURBQEBDhEIEwARACoqIQERDBghByoTFiohAQEVKioEDRMqKg4BKiEKIgEqEBEiISoBBSoTECoOBCohExcFARMFASoDGBMBASoBKioBKhUPIQUPFioYCRMRFCEqDyoqHhoqGRQSECoWKgUhIQcVGCIAEw4BKgkRAQEKISohEQ4BDhUiKioqEyoSGAEVIhEWFwgQEioqKhUqFQ8qIQEBEAEQIRQPBQEqBgMUEQEpASoqAQ8qEyoqIQcADgEVAQESKyEBISEOEAQDEBEDKg4HIRshKhMVKioqKg4WFwwQKioqEBoqACoOKiEPIREhBgQqKg0BKgENISENASEqDwABEQEMKiEPEAUqFQ4LKg4qECIqBg8BKgEDASoHAhQTGikqEioAKgEMKioqISEPFwEEFhkCDg4qDAEBCQEqKgErAg4UKhMPDgUBKgQqAxQBIQEAKhYPAQ4qKiIiIQEqISohBgwiACEBEQEWBwEDByoWKw4qKioqEhERKgYhEhAOFBMEKisNKgwhISoiAQEBKhYhDwQOKgEBFSoKDwAQHA8EAQ4iIRIqFA8qASEqABcqBysCESohASoMEyoqKg8AAQwBKg8WASoAEyEPDggMBRYRKhkTAQEkKw4qBQEJKhMBACoqDwMhBQEiEA4VKhABKioqKiEBERURESoqKgoqBAEqISohIRAhEAUBEA8BKhoqDAgMIQEqFgEqAREBAyoqDwoBISoqKgEOKioqIRUqERYSEyELIQwEIQAhKiETKg4RIhEPAQETAQYhKgMqDgAhKioBDg8qEgUhEBIhCAEQASoqDyErKioWKwkBKioqDCoEFCoBISoqAgEQASoqEBwKDhIKGAIAHBMXFSoJAAUOCSohKhApAQYODg4PDioiKioBAAcqEQAPKRAFDQEREQEBDwAOAQEhDioRDwIEIQEOISoUDSoQHxENKiEXFSoBEQEAAQEAIQYqASohCRAGBCEBKgUBASoRIiohAwESEioBDw8qKioOFRAqDhMEKhIhAQwGBQ4qISEBBgUBBgAAEAcUAQEqKhMTDgMhIQ8hECoREwEqBwErAQEQKioqDioqEAUVDCoBFAYBFRMREg4RERMAARIqAREBKgEaKiABEQUBIgEVGw4PBQQqDCoMKgoqARIRIRgBDwEcKgYhIREqExAMKgEBKhEhKiIqAAkSACEhASoqBQEBEQAOESoWESoPDAUqEQ4AAgUBFyEBBSohFRQMDiEqKhMOKgEFECEqDioqGAEPECoXHhMPCAIBKhIBDxEhAQEBARkUCgESIQ4qDwkTEAkYDwYQKiABDw8qDgEHIQEQKhYqASoOKhMqIRAqCQwKKRcEKiohISEhDyoOKioEKgIQEwkUFCoqKgEqDwcIASoBKiEhARAqDgAVCwUQACEqAAwCEyETEA4qDSERKioqIQAQKh8qKiorCxUqKg0qAQEBASsFFRAWEAIhASEqKggTIRYqFSoSISohBSoWKioqAQ0QAyoqDgQqAREWASIJBxEqKhMqASoRKgMhIQ4hARMSFgEGDyoWAyEIDisqFwQUAA0JKhMqKg4iDhAqIgIqKiEqBCoBIRYXASEhDwAhESoRAQEqKgEVACohDwEVASsBDgQiAQEQKioVARQGDA4qGyoPAwYqARESKhIMDhsBISoSKhEBKg4BDwYCASohBAAhKgAPARQAIQEPKhUOEBASKioBKgAPFSEhASoXEgsUIQEBASoUKg8hASoBAioPARMi",
          "dtype": "i1"
         },
         "yaxis": "y",
         "ybingroup": "y"
        },
        {
         "contours": {
          "coloring": "fill",
          "showlabels": true
         },
         "hovertemplate": "Predicted_Label=1<br>A=%{x}<br>G=%{y}<br>count=%{z}<extra></extra>",
         "legendgroup": "1",
         "line": {
          "color": "rgb(55,126,184)"
         },
         "name": "1",
         "showlegend": true,
         "type": "histogram2dcontour",
         "x": {
          "bdata": "OAQABA4aPgslBAsaBBMGFwUZEgclDSUJARglBA0lJSUlBCUSNxoURhoHBBoEGgQlAgYUEhoFOg4EAAUFJSUaGhMaEyUlBCUSFCUTGiUCJQUSEhofJRIlKxsEGQEaBSUEJS0SPwQlBQQlJRc5GRoOLAQSJQU3FRolEwIaGiUEGgElEyUlAgUaGgMlBCUGAwQkEg0VJQ0aASUaBQQEDQklFhcUGgAFBAwOAgAEGhoaG0ABJSUlJSUsBCUJJRclJRMIGgQEASUlJRMUBBIJJQEOA0QFCxoaAQIpAiUvChoMBwUTAxEaJQQJAhIaQQYlBAUDBQAlAhEEJRIlBAwlGholJQkFGhoxFCUlJRIKJRoaCSUCBSUlBAQaDhoEExolQQQSBQQlBAQaEgQyJQVAGgIBBCUaDCUlBCVINRQMPBoJJQUCEiUlGgElJQIRGgUAGiUEJRoTACUKHQQlPQYjCRoFEgwOGhoPDRojAkI5EyUREyUXBQQFJTMMJSUEBRMlCgQDBCUFLiUPPiUEBSU9PR4aMSISEw0DJSUPGj4lDAUCNSVCBUUPJRADDAwlGiUWEwIOGhoEARolGgkFJSUEJQkwGwACCRAbQxEEFwYlDAUCBBEACSUBAgQEBCQkPAAODSUlBRMFBQIlPw0MMUclJCQBJRhDDwIAExolDColCUMlNSUCJRoNEiUUGjAqOQQlJSU1JSQaISU1AwQRHAFBJSUEBhUTJRoEABsIGw0TBBslEiUlGBMaGgwJBQUlBQ8OBCUTJTUEAiUGMTEdBAsEGhoOFAQGBCUvJQ0IAQsEGhMaJQkaJQAlGAQlBCUaBAUEJSUEBiVAOyUMEyUlGgsaDAwlCwUeLCUAJQIBRAEJJQA0JQQELxoTBBoEJR4dGgQaGhMSBCUMAQcFJSUlAg0FEgs1GSUlGgYlGgUlJS8lJQwVBgIlGhYlBAglBAkOBSUNFSMtCRwEJSUNGhMlJSUUGiUaJSUABDoFHyUaCxoLDRoTJQUBQzoEGhAlJQUJNgMKDAUlAA0EGhIbBgUGGiUHDQ0FBQEJAQAaJQUlBiUzGyUTGiUiBCUGJQAOGhUeEwEaBBo2KxMEF0QlRRoNDjMOBQUEJQ0GDhsEGRoESCUuJRolQxMFBAkNEyUaGiUaCSVBGhQlBCUaBQkEBCUUHAMEBwBHJRclGgUEGiAEJSUaEgwaDTQjDhwcJQQEQQcEBAk0JRkEDRUCJQwaBCUaBCURAgUtAQwFDhMFBQ4NGiUEKRQEEw0NBSwFPA0RBBcTEwQUDCU4JUAAJRolBCUFJCUBGgAaBCUaJQwlGiUEEQ0AMyULCSU5BBoTABQaJSUJJQIUJRMlBC4aBRMaCSUrBAQHJQ8TLQUFGCUlCgAEJRMJJQkhGhEeDAwFGgcEHRolFAYaERgEDAE6BQsFJQQzOBYFFyUaGgIlOhMTPQwlJQk6OAQEGiUCDRMCEyURDQQyDBQJBRMSDQwlFCUlJRoGGiULJQNIEyUlJRoFJQUEJRMMDwcEGhElJSUlBBoEDEUFAhpFJRMCDAI2BBMEDRoJGholDgQEMg0FJRA1BBovBCUtGQkA",
          "dtype": "i1"
         },
         "xaxis": "x",
         "xbingroup": "x",
         "y": {
          "bdata": "GAEAARMiFhEqAQwQAQ4BFQYPDgQqCSoRABgqAQ4qKioqASoOFiETFSEQASEBIQEqAQ8bEyEBGw4BAAwHKiohIQ4hDioqASoOEyoRISoAKgwVDiEKKg4qExABEgAQBSoBKhYOFQEqAQEqKhUfECIOFQELKgEUEiEqCgAhISoBIQUqDioqAQUhIQoqASoEAgEqDhIKKg4hACohAQEBCQsqDxUTIQABAQ8SAAABIiEhEB0AKhYqKioSAyoEKhAqKg4DIQEMAioqKg4AAQ4EKgASAxUBESIhAQEPACoUAiEGCAwOCA8hKgURAQ4hFQQqAQEBAQIqAA8BKg4qAQ8qISEqKhYMIiEXIioqKg4EKiEhESoABSoqAQEhEg4BEiEqFQQOBQEqAQEQDgUMKgERIQEAByohDyoqASoVDBMPGCEEKgUBFyoqIQUqKgEJIQUAISoBKiEOACoFCQEqGAYqFiEBFRAOISEWEBEqARMZDioJESoQAQEBKhYPKioBBRIqBAUIASoBGCoVFSoFASoVExEhGA0ODgwGKioUIRMrDgEFEioSDBARKgoEBg8qISoREgETISEBACIqIRYGKioJKgQVEAABEQoWFQgBFQQrEAEAAQ8CBCoAAQEBASorEwATDSoqAQ4BBQAqHAkPFhIqKioAKhcWCQEADiEqExAqBBEqFSoBKiEJDioTIRUUEAEqKioaKiohECoPBQEPEAAXKioBCRQRKiEBABgQEQkSARIqDioqDxIhIQcRDAEqBQcTASoOKhQBASoEDhkeAQoBIiISEwEEASoWKg4RAxEBIQ4hKhAhKgIpDgEqASoiAQYBKioFBCoaFioPDioqIREhGAYqBgENEyoAKgYAEgAWKgAXKgEBHSEOASIBKhUoIQEhIREXASoPAgQBKioqAQwGDgoaDyoqIQQqIQEqKhIqKg8VBQYqIQ0qAQQqAREOASoJESoUBBIDKioJIQ4qKioNISohKioAAxQBECohCyESDiEOKgwDFBcBIRErKgwEEgoSDwwqAA0BIQ4QBAEEISoKCRYBAQAEAwAhKgEqBCoUCCoOISoiASoIKgAFIRoQDgAhASESEw4BDRMqFiEOCxMODAMBKgYEFhABDyEBEioTKiEqEw4BARYGEiohISohESoWIRMqASohBREBBSoTDQYBCwAYKg0qIgEBIRABKiohDg8hERoqExcoKgEBFgUBAREVKg0BCRYAKg8hASohASoPAAETABMOEw4BBAgQECoBEhMFDgkJARQFHxELAxIODgETECsXKhUCKiEqASoHKioAIQAhASohKgYqIioBDwkAEioKBCobASERAhMhKioKKgATKg4qARkiBw4iESoXAQEIKhYRFQEBDioqDQABKg4EKhYSIRcQDwYBIQ0BDiEqEwQhDw4BDwAeDBQMKgEaDw8BECohIQQqGBESFQ8qKgkdEgEDISkCCREADioXCQEVDxMEAQ4OCQ8qEyoqKSEGIioUKgQTDioqKiEBKgUBKg4PIBAFEBcqKioqASEBDxIMBiEVKg4BEAIXBREBCSERISErEwEBHRIFKgAXASESASoWDhEA",
          "dtype": "i1"
         },
         "yaxis": "y",
         "ybingroup": "y"
        },
        {
         "contours": {
          "coloring": "fill",
          "showlabels": true
         },
         "hovertemplate": "Predicted_Label=0<br>A=%{x}<br>G=%{y}<br>count=%{z}<extra></extra>",
         "legendgroup": "0",
         "line": {
          "color": "rgb(77,175,74)"
         },
         "name": "0",
         "showlegend": true,
         "type": "histogram2dcontour",
         "x": {
          "bdata": "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",
          "dtype": "i1"
         },
         "xaxis": "x",
         "xbingroup": "x",
         "y": {
          "bdata": "ISEqKgEBDg8qIQUNDAEOAQAODRAXEw4qFhIDDwEqFSohGA4VEQ8BDg4VECERFhEBFiERKgEBKgEqBBIhKhQhEgEFAA4QKgUBDxUOISoOKgcrERghDxkBEyoRKhIRKg4EAQESESEAKgEqBSoqDgEJIQETARIDISoMDAAhDhUhCQENHwECKgAVASEAFRIABQ4UDwAADyEYBQ4BKiohKg4BKgoPEh4qARARBQIKEwEqARohASoqAAAqFAQhAQEBIQABACEhEgADDioYFyoBKioOCgEFCQEqDxEBEAEqBQEXKioOAxEBAQEWAAEGIRMQBSEqDwEBACIBKioqASEEHBEBAgwPDyorExYBAQwBECsVKg4TKgEqASoADQAJASoqKSoSKgEZKiEPARMDAQcUIREqDBMqIREBIRIqEgYhKSoADg4JFxUqFQUSKioEAQYhExgBKiEqKioTAQEqIQEqFgsFDiEXKioqFiohACEFASoBARIFAhUOACoFKg8EKhcqAQEqEQ8OEioZBBUAASoQIQEBDioqAQ4qKgAVKiEqHQIQKgUPKgMqIQAAGSoFASoFKioBECoqISoOAQQBKhEhISoODyoqABUBKisqAQQGAQQqKgEUEQIqIQUEAQoFAA0BARMGISEBAQEqAQUqIg8VCCESFRIBFCEhISoqKg0JKgEqKioqDhARARUBAQQUEiERKSoBIQ0BISoUKioLKiohECoBDiEBAQMSAAIhBSoRACoBDwEBHSERAQEhARQqAREFDgQEKgwQDyoPKgIhASoqKgwOByoqDhERACoGKhEqKhQBKioAASoqISoqAQETACEPFQ8JKgEBKioqEiEeECoBByEBKhMiASoMEw4qKiEIFAEPFxkRKgAqDw4qKioQEQABESoTIRAOKioBDQkJKhEQFyoBDgESKhEqDw0BDgEOBQEQAQEMESoqKgAqBAEqKiohIQUNKiEOAyoqBQUhCgAqCAEBKioqAQ4bBAoKDyoqDiEADiIaKhESARINKg4TBRIMASoEIQEOEiohCAEBGQMKAQEOFBEMAQ4NDiEFKioOFQwTAQkqARUqAAAEASEPDhAGEiEhAQcPASoiDyoMFgERAisqEAYhIQoBKg4TKg4DBCEqAQAOEAQqISoSAQQqIQchISoVCgwCASohDiohKgAWAQ8AKgYhFAEJDhMBEiEAKgURISoOKioTDgsBAQ4PAyoBDiIBHwERESkEDxYqASEhKioMABAVDykqAiEBDgATByEBFQYqIQEBKiESACEhFAEIDw4qBCEqARQOKioQKiEKChAMIQEOASoRAyoGAQMCASEBDhIQKhQXDAQFGxUAKgEqKiEDFCohGCoPDxMPAxABKhEGCSoMEioOKhYBFwUJDysiKg4hEioCAQIhEwEqAQEEKg8OKhEqGBAOBCIBKgEqASEJASEAIQ8EAQwBExIqESEhIRUAKhEqKgMCExEBKgwqKgwPGAEhAQAqKgEPDioBAQ4TDRMQAQEDKg4hKgEaEQQhDiohASoqIREPEwEqIQkAAQwUESoAFgEEFg0BISECAxEhEAAREQEPDgIBEA4QIQ8BISEqESohBRYQAAYdGCEUKgEBASoUEw8QDAELFwoECgEqKgcGESEqFQQFBQAhBgcCISoOChMLCQAqASErKgEqKgoqEQEqACoqECENGQQADgEZIxAqAQEYEQEqARABIioVKhEAFREqKioPGioPASkqDyoQDw4qIRgBKioRAQEWKgEqGCoQFhIAISEBKioLBQ4EISoqAQMADQ4qFwAPAQQRASoDAQ4PIQEbKhUqBAEhKgEBFA8iEiIPKyoBDxcBAAAVKioBKgMKDioOExIhKhAEAwgBGBITKgoqDyEAFQECABIOKyoaKgEqBw0MBREhKgQRBSEVIgQSKioOFioBCQEhEiIqKgUHISoqKgUhBiohKiEhKhIVAQYRDgghKioOASoVAREOASEhACEqCwYKAREUBSEEIQEqIQQqFAAhAhAOEQ4qECoqKiohKhAAACoMESEqCCoAASE=",
          "dtype": "i1"
         },
         "yaxis": "y",
         "ybingroup": "y"
        },
        {
         "contours": {
          "coloring": "fill",
          "showlabels": true
         },
         "hovertemplate": "Predicted_Label=3<br>A=%{x}<br>G=%{y}<br>count=%{z}<extra></extra>",
         "legendgroup": "3",
         "line": {
          "color": "rgb(152,78,163)"
         },
         "name": "3",
         "showlegend": true,
         "type": "histogram2dcontour",
         "x": {
          "bdata": "JRoNJQwlBSUBBBMlGCUXQCUDGhcDBQoCCAJGGgQMJSISBCUBESUTEAwlCQQaQBslGgUJJRoECRIADAQZJQUlJRoJGjMlJC8EBAYaGgoTJRYXCQUXEwsEAQIQBBQCAhoFFAEFNRE4EwQBJQYENxQNBQwEDAsCNwEEBA0lMAURGhElBQQMJQUaDxEIGzAUQwUaGhcJCQUDBSUTJSUEGiUEBRoNJRQIJTAEJSUlBBMSGhoEGgQMBBoTGT4tCRoFEjYlLxMKJQkaJSUCJRo6CQwEByULIyUaBBowASUEAQUMRSUTJS0RJSUWJRAlMxglEyQlGhMaBRMlJQUEGhMUJQURBRYaCgkHJCUFBCURFAUEGg0aBCVAOQUFDAUACwEFBA0aBBolGgkEGAQOJT0BEQ4wJRMGCRQFOiUMBBcEGggBBBEECT0SBBMRDAglEgMCAg4EGgQEJRkRJQERPRMAACUlDQUEJQwDQEIlERElEyUaPgkEDwQTJT0lJQEOPCUlBSUlCxIMJRolEwwGBCUaEgwlAQQlACUzJSUOAgQDJT4lEiUlJSUBRQEbJSUEGiUJECUkGQkFDAkJMRkGGhoTJQUEDSUSGhsEBBoEQA4TKzYlBAwJMSUEBQwDBSUGEwUTBBoaJQgEGgUMBQEEGiUAGiUlMRFDBSUMExEUDQkaJRMlCRoaBAwEPxolGiVDJQQGJRoGDAQMGgQKLxoUBTUYJRYaEyUaBCUlJTYMBiUlGh4FJA0uAwQFOCUBDRoXCyUlChUVFgUyFCUxEwAaJRoFBAAXEiUbDBMYEwUlGiUaGgURAhMMCQklAQwNJQQBMzUXGRo+BRMaGSUlBSUaLg0TGiUOBw0ABA4lJSU7JQUIBBNBBDclGiVEKBQaJSUyAiUNBAUBASUNRCUbASUMGiUlJQQaGhAaBQIaJSUMAiUjGgwaBAklJSUlJQUWExolBCUaCwkBGgI+BwkEACVCBQYCEiUaJQU1EwQLAhslBgUaFh4lJTACJRoGGjYEBAIFPyUHDAUaGgQSGiUBBBMJE0UTGiUEBBoJGiU5JUICGhoxFBNEABIFEwMaJQwlAyUlDxoFJRIaDQ0JBSUlAh8AAkAFAzRDEyUlJSUlExQaJRoABAQlAhoYJQwKBEUaDholAiQlJSUSJRolJS4aBQkaEgQJEwcELCUlCUNJAhMlEhkbBCUQNBoaLRolEho8BBolEyUMBUMMJQEaJQIOL0EaEyUvFSQaATglGgQOJQUFJQkbJSUEEiUaBAkBIg8YFiUEJRoECQwaGhoBGiUFJQwNCTYlJQ0aEhElDAQ=",
          "dtype": "i1"
         },
         "xaxis": "x",
         "xbingroup": "x",
         "y": {
          "bdata": "KiETKg8qAioDAQ4qDSoVHioCIRUBARIJEAASIgEFKyIVASoAGCoOEQ8qDQEhGBAqEAUWKiEBBBUCDwEYKgQqKiEWEBQqDREBAQoSIRUSKggIBAwVEgoBAAYOARAAAyEBEwAFGg8RDgECKgsBGhASAQUBDwoBGAYBAQUqFQwXIQwqDAMPKgchFA8RCBYTEwQhIRURFgEKASoOKioBISoBDCEJKhEGKhABKioqAQ4OISEBIQMRAREODBIVESEHDhwqFBEDKwQhKyoAKiEdCg8BAioDKiohASETBysBAAUQFioRKhQRKioNKgUqEQ8qDioqIQ4hBREqKgEFIREOKgEPBRohCwQCKioMASoPEwwBIQkhASoSFgEFDwYAEQIBARUhByIqIREBDQEUKhMDDw4SKg4PERMBECoQARUBIQoFBQ4BBRwOAQ4PBgYqDgEBABgBIQEBKhEPKgAPFg4BACoqCQEBKhIGHRYqDw8qDiohFhEBEQERKhkqKgIZGyoqAioqEQ4QKiErEQYEASohDhAqAAEqBSoTKioNAAEGKhUqDioqKioDFQAQKioBISoKCSoqFxEBDwQRFw0NISESKgUBESoPIRABASEBFAYSGxcqAQ8RFioBBRIBAyoKEgERASEhKgMBIQcPBAABISoAIioqEg8WASoGDhATEgQhKhEOESEPBQYBEiEqISoVKgEGKiIEEAEPIQEJFiEGBRcIKg8gESohASoqKhgLBCoqIRAFKhYYCgEBJSoACiEVCikqCiEVFQEXECoaEgAhKiEBAQIVDioRDxIYDgEqISohIQEMARERBAQqAg0JKgEAExAVFRATAQ4hDiorASohGAkOESoNAgwFAQIqKioRKgEMBA4TARMqISoVDBUhKioUASoSAQwAACoJFSoTACoPISoqKgEhIQAhAQEhKioQASoqEA8hARYqKioqKgUQEiEqASohAhEAIQEVAQQBAioUAQcDCSohKgwaDgEHARApBAUiEBgqKhEAKiEEIRUFAQEFIyoNDwEiIQEOISsDAREEEhUSECoBAiERISocKhUAIiEYExEQAA4BDgIhKhArCioqCyEBKw4hEw8WByoqCRAAABIBAR4VDioqKioqDhMhKiEAAQEqASEPKg8HBRQhByEqASoqKSoMKiEqKg4hARYhDgEEDgcBGCoqBBQSAQoqDg8PASsRJCEhESEqDiEXASEpDioQDBMPKgMhKgETFhYhFyoSGCohAxcqEQESKgwBKhYRKioBFwohAREABxYRECoBKiEBBA8iISEAISoBKhAOBBgqKgkhEBEqEAE=",
          "dtype": "i1"
         },
         "yaxis": "y",
         "ybingroup": "y"
        }
       ],
       "layout": {
        "legend": {
         "title": {
          "text": "Predicted Class"
         },
         "tracegroupgap": 0
        },
        "template": {
         "data": {
          "bar": [
           {
            "error_x": {
             "color": "#2a3f5f"
            },
            "error_y": {
             "color": "#2a3f5f"
            },
            "marker": {
             "line": {
              "color": "#E5ECF6",
              "width": 0.5
             },
             "pattern": {
              "fillmode": "overlay",
              "size": 10,
              "solidity": 0.2
             }
            },
            "type": "bar"
           }
          ],
          "barpolar": [
           {
            "marker": {
             "line": {
              "color": "#E5ECF6",
              "width": 0.5
             },
             "pattern": {
              "fillmode": "overlay",
              "size": 10,
              "solidity": 0.2
             }
            },
            "type": "barpolar"
           }
          ],
          "carpet": [
           {
            "aaxis": {
             "endlinecolor": "#2a3f5f",
             "gridcolor": "white",
             "linecolor": "white",
             "minorgridcolor": "white",
             "startlinecolor": "#2a3f5f"
            },
            "baxis": {
             "endlinecolor": "#2a3f5f",
             "gridcolor": "white",
             "linecolor": "white",
             "minorgridcolor": "white",
             "startlinecolor": "#2a3f5f"
            },
            "type": "carpet"
           }
          ],
          "choropleth": [
           {
            "colorbar": {
             "outlinewidth": 0,
             "ticks": ""
            },
            "type": "choropleth"
           }
          ],
          "contour": [
           {
            "colorbar": {
             "outlinewidth": 0,
             "ticks": ""
            },
            "colorscale": [
             [
              0,
              "#0d0887"
             ],
             [
              0.1111111111111111,
              "#46039f"
             ],
             [
              0.2222222222222222,
              "#7201a8"
             ],
             [
              0.3333333333333333,
              "#9c179e"
             ],
             [
              0.4444444444444444,
              "#bd3786"
             ],
             [
              0.5555555555555556,
              "#d8576b"
             ],
             [
              0.6666666666666666,
              "#ed7953"
             ],
             [
              0.7777777777777778,
              "#fb9f3a"
             ],
             [
              0.8888888888888888,
              "#fdca26"
             ],
             [
              1,
              "#f0f921"
             ]
            ],
            "type": "contour"
           }
          ],
          "contourcarpet": [
           {
            "colorbar": {
             "outlinewidth": 0,
             "ticks": ""
            },
            "type": "contourcarpet"
           }
          ],
          "heatmap": [
           {
            "colorbar": {
             "outlinewidth": 0,
             "ticks": ""
            },
            "colorscale": [
             [
              0,
              "#0d0887"
             ],
             [
              0.1111111111111111,
              "#46039f"
             ],
             [
              0.2222222222222222,
              "#7201a8"
             ],
             [
              0.3333333333333333,
              "#9c179e"
             ],
             [
              0.4444444444444444,
              "#bd3786"
             ],
             [
              0.5555555555555556,
              "#d8576b"
             ],
             [
              0.6666666666666666,
              "#ed7953"
             ],
             [
              0.7777777777777778,
              "#fb9f3a"
             ],
             [
              0.8888888888888888,
              "#fdca26"
             ],
             [
              1,
              "#f0f921"
             ]
            ],
            "type": "heatmap"
           }
          ],
          "histogram": [
           {
            "marker": {
             "pattern": {
              "fillmode": "overlay",
              "size": 10,
              "solidity": 0.2
             }
            },
            "type": "histogram"
           }
          ],
          "histogram2d": [
           {
            "colorbar": {
             "outlinewidth": 0,
             "ticks": ""
            },
            "colorscale": [
             [
              0,
              "#0d0887"
             ],
             [
              0.1111111111111111,
              "#46039f"
             ],
             [
              0.2222222222222222,
              "#7201a8"
             ],
             [
              0.3333333333333333,
              "#9c179e"
             ],
             [
              0.4444444444444444,
              "#bd3786"
             ],
             [
              0.5555555555555556,
              "#d8576b"
             ],
             [
              0.6666666666666666,
              "#ed7953"
             ],
             [
              0.7777777777777778,
              "#fb9f3a"
             ],
             [
              0.8888888888888888,
              "#fdca26"
             ],
             [
              1,
              "#f0f921"
             ]
            ],
            "type": "histogram2d"
           }
          ],
          "histogram2dcontour": [
           {
            "colorbar": {
             "outlinewidth": 0,
             "ticks": ""
            },
            "colorscale": [
             [
              0,
              "#0d0887"
             ],
             [
              0.1111111111111111,
              "#46039f"
             ],
             [
              0.2222222222222222,
              "#7201a8"
             ],
             [
              0.3333333333333333,
              "#9c179e"
             ],
             [
              0.4444444444444444,
              "#bd3786"
             ],
             [
              0.5555555555555556,
              "#d8576b"
             ],
             [
              0.6666666666666666,
              "#ed7953"
             ],
             [
              0.7777777777777778,
              "#fb9f3a"
             ],
             [
              0.8888888888888888,
              "#fdca26"
             ],
             [
              1,
              "#f0f921"
             ]
            ],
            "type": "histogram2dcontour"
           }
          ],
          "mesh3d": [
           {
            "colorbar": {
             "outlinewidth": 0,
             "ticks": ""
            },
            "type": "mesh3d"
           }
          ],
          "parcoords": [
           {
            "line": {
             "colorbar": {
              "outlinewidth": 0,
              "ticks": ""
             }
            },
            "type": "parcoords"
           }
          ],
          "pie": [
           {
            "automargin": true,
            "type": "pie"
           }
          ],
          "scatter": [
           {
            "fillpattern": {
             "fillmode": "overlay",
             "size": 10,
             "solidity": 0.2
            },
            "type": "scatter"
           }
          ],
          "scatter3d": [
           {
            "line": {
             "colorbar": {
              "outlinewidth": 0,
              "ticks": ""
             }
            },
            "marker": {
             "colorbar": {
              "outlinewidth": 0,
              "ticks": ""
             }
            },
            "type": "scatter3d"
           }
          ],
          "scattercarpet": [
           {
            "marker": {
             "colorbar": {
              "outlinewidth": 0,
              "ticks": ""
             }
            },
            "type": "scattercarpet"
           }
          ],
          "scattergeo": [
           {
            "marker": {
             "colorbar": {
              "outlinewidth": 0,
              "ticks": ""
             }
            },
            "type": "scattergeo"
           }
          ],
          "scattergl": [
           {
            "marker": {
             "colorbar": {
              "outlinewidth": 0,
              "ticks": ""
             }
            },
            "type": "scattergl"
           }
          ],
          "scattermap": [
           {
            "marker": {
             "colorbar": {
              "outlinewidth": 0,
              "ticks": ""
             }
            },
            "type": "scattermap"
           }
          ],
          "scattermapbox": [
           {
            "marker": {
             "colorbar": {
              "outlinewidth": 0,
              "ticks": ""
             }
            },
            "type": "scattermapbox"
           }
          ],
          "scatterpolar": [
           {
            "marker": {
             "colorbar": {
              "outlinewidth": 0,
              "ticks": ""
             }
            },
            "type": "scatterpolar"
           }
          ],
          "scatterpolargl": [
           {
            "marker": {
             "colorbar": {
              "outlinewidth": 0,
              "ticks": ""
             }
            },
            "type": "scatterpolargl"
           }
          ],
          "scatterternary": [
           {
            "marker": {
             "colorbar": {
              "outlinewidth": 0,
              "ticks": ""
             }
            },
            "type": "scatterternary"
           }
          ],
          "surface": [
           {
            "colorbar": {
             "outlinewidth": 0,
             "ticks": ""
            },
            "colorscale": [
             [
              0,
              "#0d0887"
             ],
             [
              0.1111111111111111,
              "#46039f"
             ],
             [
              0.2222222222222222,
              "#7201a8"
             ],
             [
              0.3333333333333333,
              "#9c179e"
             ],
             [
              0.4444444444444444,
              "#bd3786"
             ],
             [
              0.5555555555555556,
              "#d8576b"
             ],
             [
              0.6666666666666666,
              "#ed7953"
             ],
             [
              0.7777777777777778,
              "#fb9f3a"
             ],
             [
              0.8888888888888888,
              "#fdca26"
             ],
             [
              1,
              "#f0f921"
             ]
            ],
            "type": "surface"
           }
          ],
          "table": [
           {
            "cells": {
             "fill": {
              "color": "#EBF0F8"
             },
             "line": {
              "color": "white"
             }
            },
            "header": {
             "fill": {
              "color": "#C8D4E3"
             },
             "line": {
              "color": "white"
             }
            },
            "type": "table"
           }
          ]
         },
         "layout": {
          "annotationdefaults": {
           "arrowcolor": "#2a3f5f",
           "arrowhead": 0,
           "arrowwidth": 1
          },
          "autotypenumbers": "strict",
          "coloraxis": {
           "colorbar": {
            "outlinewidth": 0,
            "ticks": ""
           }
          },
          "colorscale": {
           "diverging": [
            [
             0,
             "#8e0152"
            ],
            [
             0.1,
             "#c51b7d"
            ],
            [
             0.2,
             "#de77ae"
            ],
            [
             0.3,
             "#f1b6da"
            ],
            [
             0.4,
             "#fde0ef"
            ],
            [
             0.5,
             "#f7f7f7"
            ],
            [
             0.6,
             "#e6f5d0"
            ],
            [
             0.7,
             "#b8e186"
            ],
            [
             0.8,
             "#7fbc41"
            ],
            [
             0.9,
             "#4d9221"
            ],
            [
             1,
             "#276419"
            ]
           ],
           "sequential": [
            [
             0,
             "#0d0887"
            ],
            [
             0.1111111111111111,
             "#46039f"
            ],
            [
             0.2222222222222222,
             "#7201a8"
            ],
            [
             0.3333333333333333,
             "#9c179e"
            ],
            [
             0.4444444444444444,
             "#bd3786"
            ],
            [
             0.5555555555555556,
             "#d8576b"
            ],
            [
             0.6666666666666666,
             "#ed7953"
            ],
            [
             0.7777777777777778,
             "#fb9f3a"
            ],
            [
             0.8888888888888888,
             "#fdca26"
            ],
            [
             1,
             "#f0f921"
            ]
           ],
           "sequentialminus": [
            [
             0,
             "#0d0887"
            ],
            [
             0.1111111111111111,
             "#46039f"
            ],
            [
             0.2222222222222222,
             "#7201a8"
            ],
            [
             0.3333333333333333,
             "#9c179e"
            ],
            [
             0.4444444444444444,
             "#bd3786"
            ],
            [
             0.5555555555555556,
             "#d8576b"
            ],
            [
             0.6666666666666666,
             "#ed7953"
            ],
            [
             0.7777777777777778,
             "#fb9f3a"
            ],
            [
             0.8888888888888888,
             "#fdca26"
            ],
            [
             1,
             "#f0f921"
            ]
           ]
          },
          "colorway": [
           "#636efa",
           "#EF553B",
           "#00cc96",
           "#ab63fa",
           "#FFA15A",
           "#19d3f3",
           "#FF6692",
           "#B6E880",
           "#FF97FF",
           "#FECB52"
          ],
          "font": {
           "color": "#2a3f5f"
          },
          "geo": {
           "bgcolor": "white",
           "lakecolor": "white",
           "landcolor": "#E5ECF6",
           "showlakes": true,
           "showland": true,
           "subunitcolor": "white"
          },
          "hoverlabel": {
           "align": "left"
          },
          "hovermode": "closest",
          "mapbox": {
           "style": "light"
          },
          "paper_bgcolor": "white",
          "plot_bgcolor": "#E5ECF6",
          "polar": {
           "angularaxis": {
            "gridcolor": "white",
            "linecolor": "white",
            "ticks": ""
           },
           "bgcolor": "#E5ECF6",
           "radialaxis": {
            "gridcolor": "white",
            "linecolor": "white",
            "ticks": ""
           }
          },
          "scene": {
           "xaxis": {
            "backgroundcolor": "#E5ECF6",
            "gridcolor": "white",
            "gridwidth": 2,
            "linecolor": "white",
            "showbackground": true,
            "ticks": "",
            "zerolinecolor": "white"
           },
           "yaxis": {
            "backgroundcolor": "#E5ECF6",
            "gridcolor": "white",
            "gridwidth": 2,
            "linecolor": "white",
            "showbackground": true,
            "ticks": "",
            "zerolinecolor": "white"
           },
           "zaxis": {
            "backgroundcolor": "#E5ECF6",
            "gridcolor": "white",
            "gridwidth": 2,
            "linecolor": "white",
            "showbackground": true,
            "ticks": "",
            "zerolinecolor": "white"
           }
          },
          "shapedefaults": {
           "line": {
            "color": "#2a3f5f"
           }
          },
          "ternary": {
           "aaxis": {
            "gridcolor": "white",
            "linecolor": "white",
            "ticks": ""
           },
           "baxis": {
            "gridcolor": "white",
            "linecolor": "white",
            "ticks": ""
           },
           "bgcolor": "#E5ECF6",
           "caxis": {
            "gridcolor": "white",
            "linecolor": "white",
            "ticks": ""
           }
          },
          "title": {
           "x": 0.05
          },
          "xaxis": {
           "automargin": true,
           "gridcolor": "white",
           "linecolor": "white",
           "ticks": "",
           "title": {
            "standoff": 15
           },
           "zerolinecolor": "white",
           "zerolinewidth": 2
          },
          "yaxis": {
           "automargin": true,
           "gridcolor": "white",
           "linecolor": "white",
           "ticks": "",
           "title": {
            "standoff": 15
           },
           "zerolinecolor": "white",
           "zerolinewidth": 2
          }
         }
        },
        "title": {
         "text": "KDE-like Density Contour: Feature A vs G by Predicted Class"
        },
        "xaxis": {
         "anchor": "y",
         "domain": [
          0,
          1
         ],
         "title": {
          "text": "Frequency of Amino Acid A"
         }
        },
        "yaxis": {
         "anchor": "x",
         "domain": [
          0,
          1
         ],
         "title": {
          "text": "Frequency of Amino Acid G"
         }
        }
       }
      }
     },
     "metadata": {},
     "output_type": "display_data"
    }
   ],
   "source": [
    "import pandas as pd\n",
    "import plotly.express as px\n",
    "from sklearn.preprocessing import LabelEncoder\n",
    "\n",
    "kde_df = X_test[['A', 'G']].copy()\n",
    "kde_df['Predicted_Label'] = y_pred\n",
    "\n",
    "fig = px.density_contour(\n",
    "    kde_df,\n",
    "    x='A',\n",
    "    y='G',\n",
    "    color='Predicted_Label',\n",
    "    title='KDE-like Density Contour: Feature A vs G by Predicted Class',\n",
    "    color_discrete_sequence=px.colors.qualitative.Set1\n",
    ")\n",
    "\n",
    "fig.update_traces(contours_coloring=\"fill\", contours_showlabels=True)\n",
    "fig.update_layout(\n",
    "    xaxis_title='Frequency of Amino Acid A',\n",
    "    yaxis_title='Frequency of Amino Acid G',\n",
    "    legend_title='Predicted Class'\n",
    ")\n",
    "\n",
    "fig.show()\n"
   ]
  },
  {
   "cell_type": "markdown",
   "id": "965695f4",
   "metadata": {},
   "source": [
    "##  Random Forest"
   ]
  },
  {
   "cell_type": "markdown",
   "id": "b1b6b2c3",
   "metadata": {},
   "source": [
    "## Prepare Data and Train"
   ]
  },
  {
   "cell_type": "code",
   "execution_count": 18,
   "id": "10c77b80",
   "metadata": {},
   "outputs": [
    {
     "name": "stdout",
     "output_type": "stream",
     "text": [
      "Accuracy: 0.9794362701648643\n",
      "              precision    recall  f1-score   support\n",
      "\n",
      "           0       0.99      0.99      0.99      1526\n",
      "           1       0.93      0.97      0.95      1134\n",
      "           2       1.00      1.00      1.00      1961\n",
      "           3       0.97      0.94      0.95      1020\n",
      "\n",
      "    accuracy                           0.98      5641\n",
      "   macro avg       0.97      0.97      0.97      5641\n",
      "weighted avg       0.98      0.98      0.98      5641\n",
      "\n"
     ]
    }
   ],
   "source": [
    "# Load data\n",
    "csv_path = r\"C:\\Users\\Blue Sky\\Desktop\\Dav\\COVID-Protein-Analysis\\genome_sequences_cleaned.csv\"\n",
    "df = pd.read_csv(csv_path)\n",
    "\n",
    "# Features and label\n",
    "X = df.drop(columns=[\"label_encoded\"])  # Drop the target\n",
    "y = df[\"label_encoded\"]  # Target variable\n",
    "\n",
    "# Train-test split\n",
    "X_train, X_test, y_train, y_test = train_test_split(X, y, test_size=0.2, random_state=42)\n",
    "\n",
    "# Train model\n",
    "rf_model = RandomForestClassifier(n_estimators=100, random_state=42)\n",
    "rf_model.fit(X_train, y_train)\n",
    "\n",
    "# Predict\n",
    "y_pred = rf_model.predict(X_test)\n",
    "\n",
    "# Evaluation\n",
    "print(\"Accuracy:\", accuracy_score(y_test, y_pred))\n",
    "print(classification_report(y_test, y_pred))\n"
   ]
  },
  {
   "cell_type": "markdown",
   "id": "84eb7168",
   "metadata": {},
   "source": [
    "## Confusion Matrix Plot"
   ]
  },
  {
   "cell_type": "code",
   "execution_count": 22,
   "id": "6045fcba",
   "metadata": {},
   "outputs": [
    {
     "data": {
      "application/vnd.plotly.v1+json": {
       "config": {
        "plotlyServerURL": "https://plot.ly"
       },
       "data": [
        {
         "colorscale": [
          [
           0,
           "rgb(247,251,255)"
          ],
          [
           0.125,
           "rgb(222,235,247)"
          ],
          [
           0.25,
           "rgb(198,219,239)"
          ],
          [
           0.375,
           "rgb(158,202,225)"
          ],
          [
           0.5,
           "rgb(107,174,214)"
          ],
          [
           0.625,
           "rgb(66,146,198)"
          ],
          [
           0.75,
           "rgb(33,113,181)"
          ],
          [
           0.875,
           "rgb(8,81,156)"
          ],
          [
           1,
           "rgb(8,48,107)"
          ]
         ],
         "hoverinfo": "z",
         "reversescale": false,
         "showscale": true,
         "type": "heatmap",
         "x": [
          "0",
          "1",
          "2",
          "3"
         ],
         "xgap": 3,
         "y": [
          "0",
          "1",
          "2",
          "3"
         ],
         "ygap": 3,
         "z": {
          "bdata": "6AUNAAAAAQAKAFAEAQATAAAAAACjBwYAAQBBAAAAugM=",
          "dtype": "i2",
          "shape": "4, 4"
         }
        }
       ],
       "layout": {
        "annotations": [
         {
          "font": {
           "color": "#FFFFFF"
          },
          "showarrow": false,
          "text": "1512",
          "x": "0",
          "xref": "x",
          "y": "0",
          "yref": "y"
         },
         {
          "font": {
           "color": "#000000"
          },
          "showarrow": false,
          "text": "13",
          "x": "1",
          "xref": "x",
          "y": "0",
          "yref": "y"
         },
         {
          "font": {
           "color": "#000000"
          },
          "showarrow": false,
          "text": "0",
          "x": "2",
          "xref": "x",
          "y": "0",
          "yref": "y"
         },
         {
          "font": {
           "color": "#000000"
          },
          "showarrow": false,
          "text": "1",
          "x": "3",
          "xref": "x",
          "y": "0",
          "yref": "y"
         },
         {
          "font": {
           "color": "#000000"
          },
          "showarrow": false,
          "text": "10",
          "x": "0",
          "xref": "x",
          "y": "1",
          "yref": "y"
         },
         {
          "font": {
           "color": "#FFFFFF"
          },
          "showarrow": false,
          "text": "1104",
          "x": "1",
          "xref": "x",
          "y": "1",
          "yref": "y"
         },
         {
          "font": {
           "color": "#000000"
          },
          "showarrow": false,
          "text": "1",
          "x": "2",
          "xref": "x",
          "y": "1",
          "yref": "y"
         },
         {
          "font": {
           "color": "#000000"
          },
          "showarrow": false,
          "text": "19",
          "x": "3",
          "xref": "x",
          "y": "1",
          "yref": "y"
         },
         {
          "font": {
           "color": "#000000"
          },
          "showarrow": false,
          "text": "0",
          "x": "0",
          "xref": "x",
          "y": "2",
          "yref": "y"
         },
         {
          "font": {
           "color": "#000000"
          },
          "showarrow": false,
          "text": "0",
          "x": "1",
          "xref": "x",
          "y": "2",
          "yref": "y"
         },
         {
          "font": {
           "color": "#FFFFFF"
          },
          "showarrow": false,
          "text": "1955",
          "x": "2",
          "xref": "x",
          "y": "2",
          "yref": "y"
         },
         {
          "font": {
           "color": "#000000"
          },
          "showarrow": false,
          "text": "6",
          "x": "3",
          "xref": "x",
          "y": "2",
          "yref": "y"
         },
         {
          "font": {
           "color": "#000000"
          },
          "showarrow": false,
          "text": "1",
          "x": "0",
          "xref": "x",
          "y": "3",
          "yref": "y"
         },
         {
          "font": {
           "color": "#000000"
          },
          "showarrow": false,
          "text": "65",
          "x": "1",
          "xref": "x",
          "y": "3",
          "yref": "y"
         },
         {
          "font": {
           "color": "#000000"
          },
          "showarrow": false,
          "text": "0",
          "x": "2",
          "xref": "x",
          "y": "3",
          "yref": "y"
         },
         {
          "font": {
           "color": "#000000"
          },
          "showarrow": false,
          "text": "954",
          "x": "3",
          "xref": "x",
          "y": "3",
          "yref": "y"
         }
        ],
        "template": {
         "data": {
          "bar": [
           {
            "error_x": {
             "color": "#2a3f5f"
            },
            "error_y": {
             "color": "#2a3f5f"
            },
            "marker": {
             "line": {
              "color": "#E5ECF6",
              "width": 0.5
             },
             "pattern": {
              "fillmode": "overlay",
              "size": 10,
              "solidity": 0.2
             }
            },
            "type": "bar"
           }
          ],
          "barpolar": [
           {
            "marker": {
             "line": {
              "color": "#E5ECF6",
              "width": 0.5
             },
             "pattern": {
              "fillmode": "overlay",
              "size": 10,
              "solidity": 0.2
             }
            },
            "type": "barpolar"
           }
          ],
          "carpet": [
           {
            "aaxis": {
             "endlinecolor": "#2a3f5f",
             "gridcolor": "white",
             "linecolor": "white",
             "minorgridcolor": "white",
             "startlinecolor": "#2a3f5f"
            },
            "baxis": {
             "endlinecolor": "#2a3f5f",
             "gridcolor": "white",
             "linecolor": "white",
             "minorgridcolor": "white",
             "startlinecolor": "#2a3f5f"
            },
            "type": "carpet"
           }
          ],
          "choropleth": [
           {
            "colorbar": {
             "outlinewidth": 0,
             "ticks": ""
            },
            "type": "choropleth"
           }
          ],
          "contour": [
           {
            "colorbar": {
             "outlinewidth": 0,
             "ticks": ""
            },
            "colorscale": [
             [
              0,
              "#0d0887"
             ],
             [
              0.1111111111111111,
              "#46039f"
             ],
             [
              0.2222222222222222,
              "#7201a8"
             ],
             [
              0.3333333333333333,
              "#9c179e"
             ],
             [
              0.4444444444444444,
              "#bd3786"
             ],
             [
              0.5555555555555556,
              "#d8576b"
             ],
             [
              0.6666666666666666,
              "#ed7953"
             ],
             [
              0.7777777777777778,
              "#fb9f3a"
             ],
             [
              0.8888888888888888,
              "#fdca26"
             ],
             [
              1,
              "#f0f921"
             ]
            ],
            "type": "contour"
           }
          ],
          "contourcarpet": [
           {
            "colorbar": {
             "outlinewidth": 0,
             "ticks": ""
            },
            "type": "contourcarpet"
           }
          ],
          "heatmap": [
           {
            "colorbar": {
             "outlinewidth": 0,
             "ticks": ""
            },
            "colorscale": [
             [
              0,
              "#0d0887"
             ],
             [
              0.1111111111111111,
              "#46039f"
             ],
             [
              0.2222222222222222,
              "#7201a8"
             ],
             [
              0.3333333333333333,
              "#9c179e"
             ],
             [
              0.4444444444444444,
              "#bd3786"
             ],
             [
              0.5555555555555556,
              "#d8576b"
             ],
             [
              0.6666666666666666,
              "#ed7953"
             ],
             [
              0.7777777777777778,
              "#fb9f3a"
             ],
             [
              0.8888888888888888,
              "#fdca26"
             ],
             [
              1,
              "#f0f921"
             ]
            ],
            "type": "heatmap"
           }
          ],
          "histogram": [
           {
            "marker": {
             "pattern": {
              "fillmode": "overlay",
              "size": 10,
              "solidity": 0.2
             }
            },
            "type": "histogram"
           }
          ],
          "histogram2d": [
           {
            "colorbar": {
             "outlinewidth": 0,
             "ticks": ""
            },
            "colorscale": [
             [
              0,
              "#0d0887"
             ],
             [
              0.1111111111111111,
              "#46039f"
             ],
             [
              0.2222222222222222,
              "#7201a8"
             ],
             [
              0.3333333333333333,
              "#9c179e"
             ],
             [
              0.4444444444444444,
              "#bd3786"
             ],
             [
              0.5555555555555556,
              "#d8576b"
             ],
             [
              0.6666666666666666,
              "#ed7953"
             ],
             [
              0.7777777777777778,
              "#fb9f3a"
             ],
             [
              0.8888888888888888,
              "#fdca26"
             ],
             [
              1,
              "#f0f921"
             ]
            ],
            "type": "histogram2d"
           }
          ],
          "histogram2dcontour": [
           {
            "colorbar": {
             "outlinewidth": 0,
             "ticks": ""
            },
            "colorscale": [
             [
              0,
              "#0d0887"
             ],
             [
              0.1111111111111111,
              "#46039f"
             ],
             [
              0.2222222222222222,
              "#7201a8"
             ],
             [
              0.3333333333333333,
              "#9c179e"
             ],
             [
              0.4444444444444444,
              "#bd3786"
             ],
             [
              0.5555555555555556,
              "#d8576b"
             ],
             [
              0.6666666666666666,
              "#ed7953"
             ],
             [
              0.7777777777777778,
              "#fb9f3a"
             ],
             [
              0.8888888888888888,
              "#fdca26"
             ],
             [
              1,
              "#f0f921"
             ]
            ],
            "type": "histogram2dcontour"
           }
          ],
          "mesh3d": [
           {
            "colorbar": {
             "outlinewidth": 0,
             "ticks": ""
            },
            "type": "mesh3d"
           }
          ],
          "parcoords": [
           {
            "line": {
             "colorbar": {
              "outlinewidth": 0,
              "ticks": ""
             }
            },
            "type": "parcoords"
           }
          ],
          "pie": [
           {
            "automargin": true,
            "type": "pie"
           }
          ],
          "scatter": [
           {
            "fillpattern": {
             "fillmode": "overlay",
             "size": 10,
             "solidity": 0.2
            },
            "type": "scatter"
           }
          ],
          "scatter3d": [
           {
            "line": {
             "colorbar": {
              "outlinewidth": 0,
              "ticks": ""
             }
            },
            "marker": {
             "colorbar": {
              "outlinewidth": 0,
              "ticks": ""
             }
            },
            "type": "scatter3d"
           }
          ],
          "scattercarpet": [
           {
            "marker": {
             "colorbar": {
              "outlinewidth": 0,
              "ticks": ""
             }
            },
            "type": "scattercarpet"
           }
          ],
          "scattergeo": [
           {
            "marker": {
             "colorbar": {
              "outlinewidth": 0,
              "ticks": ""
             }
            },
            "type": "scattergeo"
           }
          ],
          "scattergl": [
           {
            "marker": {
             "colorbar": {
              "outlinewidth": 0,
              "ticks": ""
             }
            },
            "type": "scattergl"
           }
          ],
          "scattermap": [
           {
            "marker": {
             "colorbar": {
              "outlinewidth": 0,
              "ticks": ""
             }
            },
            "type": "scattermap"
           }
          ],
          "scattermapbox": [
           {
            "marker": {
             "colorbar": {
              "outlinewidth": 0,
              "ticks": ""
             }
            },
            "type": "scattermapbox"
           }
          ],
          "scatterpolar": [
           {
            "marker": {
             "colorbar": {
              "outlinewidth": 0,
              "ticks": ""
             }
            },
            "type": "scatterpolar"
           }
          ],
          "scatterpolargl": [
           {
            "marker": {
             "colorbar": {
              "outlinewidth": 0,
              "ticks": ""
             }
            },
            "type": "scatterpolargl"
           }
          ],
          "scatterternary": [
           {
            "marker": {
             "colorbar": {
              "outlinewidth": 0,
              "ticks": ""
             }
            },
            "type": "scatterternary"
           }
          ],
          "surface": [
           {
            "colorbar": {
             "outlinewidth": 0,
             "ticks": ""
            },
            "colorscale": [
             [
              0,
              "#0d0887"
             ],
             [
              0.1111111111111111,
              "#46039f"
             ],
             [
              0.2222222222222222,
              "#7201a8"
             ],
             [
              0.3333333333333333,
              "#9c179e"
             ],
             [
              0.4444444444444444,
              "#bd3786"
             ],
             [
              0.5555555555555556,
              "#d8576b"
             ],
             [
              0.6666666666666666,
              "#ed7953"
             ],
             [
              0.7777777777777778,
              "#fb9f3a"
             ],
             [
              0.8888888888888888,
              "#fdca26"
             ],
             [
              1,
              "#f0f921"
             ]
            ],
            "type": "surface"
           }
          ],
          "table": [
           {
            "cells": {
             "fill": {
              "color": "#EBF0F8"
             },
             "line": {
              "color": "white"
             }
            },
            "header": {
             "fill": {
              "color": "#C8D4E3"
             },
             "line": {
              "color": "white"
             }
            },
            "type": "table"
           }
          ]
         },
         "layout": {
          "annotationdefaults": {
           "arrowcolor": "#2a3f5f",
           "arrowhead": 0,
           "arrowwidth": 1
          },
          "autotypenumbers": "strict",
          "coloraxis": {
           "colorbar": {
            "outlinewidth": 0,
            "ticks": ""
           }
          },
          "colorscale": {
           "diverging": [
            [
             0,
             "#8e0152"
            ],
            [
             0.1,
             "#c51b7d"
            ],
            [
             0.2,
             "#de77ae"
            ],
            [
             0.3,
             "#f1b6da"
            ],
            [
             0.4,
             "#fde0ef"
            ],
            [
             0.5,
             "#f7f7f7"
            ],
            [
             0.6,
             "#e6f5d0"
            ],
            [
             0.7,
             "#b8e186"
            ],
            [
             0.8,
             "#7fbc41"
            ],
            [
             0.9,
             "#4d9221"
            ],
            [
             1,
             "#276419"
            ]
           ],
           "sequential": [
            [
             0,
             "#0d0887"
            ],
            [
             0.1111111111111111,
             "#46039f"
            ],
            [
             0.2222222222222222,
             "#7201a8"
            ],
            [
             0.3333333333333333,
             "#9c179e"
            ],
            [
             0.4444444444444444,
             "#bd3786"
            ],
            [
             0.5555555555555556,
             "#d8576b"
            ],
            [
             0.6666666666666666,
             "#ed7953"
            ],
            [
             0.7777777777777778,
             "#fb9f3a"
            ],
            [
             0.8888888888888888,
             "#fdca26"
            ],
            [
             1,
             "#f0f921"
            ]
           ],
           "sequentialminus": [
            [
             0,
             "#0d0887"
            ],
            [
             0.1111111111111111,
             "#46039f"
            ],
            [
             0.2222222222222222,
             "#7201a8"
            ],
            [
             0.3333333333333333,
             "#9c179e"
            ],
            [
             0.4444444444444444,
             "#bd3786"
            ],
            [
             0.5555555555555556,
             "#d8576b"
            ],
            [
             0.6666666666666666,
             "#ed7953"
            ],
            [
             0.7777777777777778,
             "#fb9f3a"
            ],
            [
             0.8888888888888888,
             "#fdca26"
            ],
            [
             1,
             "#f0f921"
            ]
           ]
          },
          "colorway": [
           "#636efa",
           "#EF553B",
           "#00cc96",
           "#ab63fa",
           "#FFA15A",
           "#19d3f3",
           "#FF6692",
           "#B6E880",
           "#FF97FF",
           "#FECB52"
          ],
          "font": {
           "color": "#2a3f5f"
          },
          "geo": {
           "bgcolor": "white",
           "lakecolor": "white",
           "landcolor": "#E5ECF6",
           "showlakes": true,
           "showland": true,
           "subunitcolor": "white"
          },
          "hoverlabel": {
           "align": "left"
          },
          "hovermode": "closest",
          "mapbox": {
           "style": "light"
          },
          "paper_bgcolor": "white",
          "plot_bgcolor": "#E5ECF6",
          "polar": {
           "angularaxis": {
            "gridcolor": "white",
            "linecolor": "white",
            "ticks": ""
           },
           "bgcolor": "#E5ECF6",
           "radialaxis": {
            "gridcolor": "white",
            "linecolor": "white",
            "ticks": ""
           }
          },
          "scene": {
           "xaxis": {
            "backgroundcolor": "#E5ECF6",
            "gridcolor": "white",
            "gridwidth": 2,
            "linecolor": "white",
            "showbackground": true,
            "ticks": "",
            "zerolinecolor": "white"
           },
           "yaxis": {
            "backgroundcolor": "#E5ECF6",
            "gridcolor": "white",
            "gridwidth": 2,
            "linecolor": "white",
            "showbackground": true,
            "ticks": "",
            "zerolinecolor": "white"
           },
           "zaxis": {
            "backgroundcolor": "#E5ECF6",
            "gridcolor": "white",
            "gridwidth": 2,
            "linecolor": "white",
            "showbackground": true,
            "ticks": "",
            "zerolinecolor": "white"
           }
          },
          "shapedefaults": {
           "line": {
            "color": "#2a3f5f"
           }
          },
          "ternary": {
           "aaxis": {
            "gridcolor": "white",
            "linecolor": "white",
            "ticks": ""
           },
           "baxis": {
            "gridcolor": "white",
            "linecolor": "white",
            "ticks": ""
           },
           "bgcolor": "#E5ECF6",
           "caxis": {
            "gridcolor": "white",
            "linecolor": "white",
            "ticks": ""
           }
          },
          "title": {
           "x": 0.05
          },
          "xaxis": {
           "automargin": true,
           "gridcolor": "white",
           "linecolor": "white",
           "ticks": "",
           "title": {
            "standoff": 15
           },
           "zerolinecolor": "white",
           "zerolinewidth": 2
          },
          "yaxis": {
           "automargin": true,
           "gridcolor": "white",
           "linecolor": "white",
           "ticks": "",
           "title": {
            "standoff": 15
           },
           "zerolinecolor": "white",
           "zerolinewidth": 2
          }
         }
        },
        "title": {
         "text": "Confusion Matrix - Random Forest"
        },
        "xaxis": {
         "dtick": 1,
         "gridcolor": "rgb(0, 0, 0)",
         "side": "top",
         "ticks": "",
         "title": {
          "text": "Predicted Label"
         }
        },
        "yaxis": {
         "dtick": 1,
         "ticks": "",
         "ticksuffix": "  ",
         "title": {
          "text": "True Label"
         }
        }
       }
      }
     },
     "metadata": {},
     "output_type": "display_data"
    }
   ],
   "source": [
    "\n",
    "\n",
    "# Compute confusion matrix\n",
    "cm = confusion_matrix(y_test, y_pred)\n",
    "labels = rf_model.classes_  # Unique class labels\n",
    "\n",
    "# Convert to string for axis labels\n",
    "labels_str = [str(label) for label in labels]\n",
    "\n",
    "# Create annotated heatmap\n",
    "fig = ff.create_annotated_heatmap(\n",
    "    z=cm,\n",
    "    x=labels_str,\n",
    "    y=labels_str,\n",
    "    colorscale='Blues',\n",
    "    showscale=True,\n",
    "    hoverinfo=\"z\",\n",
    "    xgap=3,\n",
    "    ygap=3\n",
    ")\n",
    "\n",
    "fig.update_layout(\n",
    "    title=\"Confusion Matrix - Random Forest\",\n",
    "    xaxis=dict(title='Predicted Label'),\n",
    "    yaxis=dict(title='True Label')\n",
    ")\n",
    "\n",
    "fig.show()\n"
   ]
  },
  {
   "cell_type": "markdown",
   "id": "f4d3442e",
   "metadata": {},
   "source": [
    "## Feature Importance Plot"
   ]
  },
  {
   "cell_type": "code",
   "execution_count": 19,
   "id": "5ca65c76",
   "metadata": {},
   "outputs": [
    {
     "data": {
      "application/vnd.plotly.v1+json": {
       "config": {
        "plotlyServerURL": "https://plot.ly"
       },
       "data": [
        {
         "hovertemplate": "Feature=%{x}<br>Importance Score=%{marker.color}<extra></extra>",
         "legendgroup": "",
         "marker": {
          "color": {
           "bdata": "PYN3RCyBuz9FxOFk9iK2P6tCb4KvErM/3XjCBuSwsj86GAKizymyPyeqm80wIrE/7ZahuuynsD9fS8qnFC2tP0iKcYPgw6k/+YD+470kqD8lfc1kYTKkP9inEWij/KM/HneZti/Noz8WxctoweGdPwTmwJgAPJ0/rzYm2YrInD8PrUApLvmbP37CGVavlZo/toAj2Q9CmD+5OPDxHC6QP3p4PgkxIXY/",
           "dtype": "f8"
          },
          "coloraxis": "coloraxis",
          "pattern": {
           "shape": ""
          }
         },
         "name": "",
         "orientation": "v",
         "showlegend": false,
         "textposition": "auto",
         "type": "bar",
         "x": [
          "Q",
          "G",
          "I",
          "N",
          "K",
          "S",
          "P",
          "Sequence_Length",
          "R",
          "V",
          "A",
          "T",
          "L",
          "M",
          "E",
          "F",
          "C",
          "D",
          "Y",
          "W",
          "H"
         ],
         "xaxis": "x",
         "y": {
          "bdata": "PYN3RCyBuz9FxOFk9iK2P6tCb4KvErM/3XjCBuSwsj86GAKizymyPyeqm80wIrE/7ZahuuynsD9fS8qnFC2tP0iKcYPgw6k/+YD+470kqD8lfc1kYTKkP9inEWij/KM/HneZti/Noz8WxctoweGdPwTmwJgAPJ0/rzYm2YrInD8PrUApLvmbP37CGVavlZo/toAj2Q9CmD+5OPDxHC6QP3p4PgkxIXY/",
          "dtype": "f8"
         },
         "yaxis": "y"
        }
       ],
       "layout": {
        "barmode": "relative",
        "coloraxis": {
         "colorbar": {
          "title": {
           "text": "Importance Score"
          }
         },
         "colorscale": [
          [
           0,
           "#0d0887"
          ],
          [
           0.1111111111111111,
           "#46039f"
          ],
          [
           0.2222222222222222,
           "#7201a8"
          ],
          [
           0.3333333333333333,
           "#9c179e"
          ],
          [
           0.4444444444444444,
           "#bd3786"
          ],
          [
           0.5555555555555556,
           "#d8576b"
          ],
          [
           0.6666666666666666,
           "#ed7953"
          ],
          [
           0.7777777777777778,
           "#fb9f3a"
          ],
          [
           0.8888888888888888,
           "#fdca26"
          ],
          [
           1,
           "#f0f921"
          ]
         ]
        },
        "legend": {
         "tracegroupgap": 0
        },
        "template": {
         "data": {
          "bar": [
           {
            "error_x": {
             "color": "#2a3f5f"
            },
            "error_y": {
             "color": "#2a3f5f"
            },
            "marker": {
             "line": {
              "color": "#E5ECF6",
              "width": 0.5
             },
             "pattern": {
              "fillmode": "overlay",
              "size": 10,
              "solidity": 0.2
             }
            },
            "type": "bar"
           }
          ],
          "barpolar": [
           {
            "marker": {
             "line": {
              "color": "#E5ECF6",
              "width": 0.5
             },
             "pattern": {
              "fillmode": "overlay",
              "size": 10,
              "solidity": 0.2
             }
            },
            "type": "barpolar"
           }
          ],
          "carpet": [
           {
            "aaxis": {
             "endlinecolor": "#2a3f5f",
             "gridcolor": "white",
             "linecolor": "white",
             "minorgridcolor": "white",
             "startlinecolor": "#2a3f5f"
            },
            "baxis": {
             "endlinecolor": "#2a3f5f",
             "gridcolor": "white",
             "linecolor": "white",
             "minorgridcolor": "white",
             "startlinecolor": "#2a3f5f"
            },
            "type": "carpet"
           }
          ],
          "choropleth": [
           {
            "colorbar": {
             "outlinewidth": 0,
             "ticks": ""
            },
            "type": "choropleth"
           }
          ],
          "contour": [
           {
            "colorbar": {
             "outlinewidth": 0,
             "ticks": ""
            },
            "colorscale": [
             [
              0,
              "#0d0887"
             ],
             [
              0.1111111111111111,
              "#46039f"
             ],
             [
              0.2222222222222222,
              "#7201a8"
             ],
             [
              0.3333333333333333,
              "#9c179e"
             ],
             [
              0.4444444444444444,
              "#bd3786"
             ],
             [
              0.5555555555555556,
              "#d8576b"
             ],
             [
              0.6666666666666666,
              "#ed7953"
             ],
             [
              0.7777777777777778,
              "#fb9f3a"
             ],
             [
              0.8888888888888888,
              "#fdca26"
             ],
             [
              1,
              "#f0f921"
             ]
            ],
            "type": "contour"
           }
          ],
          "contourcarpet": [
           {
            "colorbar": {
             "outlinewidth": 0,
             "ticks": ""
            },
            "type": "contourcarpet"
           }
          ],
          "heatmap": [
           {
            "colorbar": {
             "outlinewidth": 0,
             "ticks": ""
            },
            "colorscale": [
             [
              0,
              "#0d0887"
             ],
             [
              0.1111111111111111,
              "#46039f"
             ],
             [
              0.2222222222222222,
              "#7201a8"
             ],
             [
              0.3333333333333333,
              "#9c179e"
             ],
             [
              0.4444444444444444,
              "#bd3786"
             ],
             [
              0.5555555555555556,
              "#d8576b"
             ],
             [
              0.6666666666666666,
              "#ed7953"
             ],
             [
              0.7777777777777778,
              "#fb9f3a"
             ],
             [
              0.8888888888888888,
              "#fdca26"
             ],
             [
              1,
              "#f0f921"
             ]
            ],
            "type": "heatmap"
           }
          ],
          "histogram": [
           {
            "marker": {
             "pattern": {
              "fillmode": "overlay",
              "size": 10,
              "solidity": 0.2
             }
            },
            "type": "histogram"
           }
          ],
          "histogram2d": [
           {
            "colorbar": {
             "outlinewidth": 0,
             "ticks": ""
            },
            "colorscale": [
             [
              0,
              "#0d0887"
             ],
             [
              0.1111111111111111,
              "#46039f"
             ],
             [
              0.2222222222222222,
              "#7201a8"
             ],
             [
              0.3333333333333333,
              "#9c179e"
             ],
             [
              0.4444444444444444,
              "#bd3786"
             ],
             [
              0.5555555555555556,
              "#d8576b"
             ],
             [
              0.6666666666666666,
              "#ed7953"
             ],
             [
              0.7777777777777778,
              "#fb9f3a"
             ],
             [
              0.8888888888888888,
              "#fdca26"
             ],
             [
              1,
              "#f0f921"
             ]
            ],
            "type": "histogram2d"
           }
          ],
          "histogram2dcontour": [
           {
            "colorbar": {
             "outlinewidth": 0,
             "ticks": ""
            },
            "colorscale": [
             [
              0,
              "#0d0887"
             ],
             [
              0.1111111111111111,
              "#46039f"
             ],
             [
              0.2222222222222222,
              "#7201a8"
             ],
             [
              0.3333333333333333,
              "#9c179e"
             ],
             [
              0.4444444444444444,
              "#bd3786"
             ],
             [
              0.5555555555555556,
              "#d8576b"
             ],
             [
              0.6666666666666666,
              "#ed7953"
             ],
             [
              0.7777777777777778,
              "#fb9f3a"
             ],
             [
              0.8888888888888888,
              "#fdca26"
             ],
             [
              1,
              "#f0f921"
             ]
            ],
            "type": "histogram2dcontour"
           }
          ],
          "mesh3d": [
           {
            "colorbar": {
             "outlinewidth": 0,
             "ticks": ""
            },
            "type": "mesh3d"
           }
          ],
          "parcoords": [
           {
            "line": {
             "colorbar": {
              "outlinewidth": 0,
              "ticks": ""
             }
            },
            "type": "parcoords"
           }
          ],
          "pie": [
           {
            "automargin": true,
            "type": "pie"
           }
          ],
          "scatter": [
           {
            "fillpattern": {
             "fillmode": "overlay",
             "size": 10,
             "solidity": 0.2
            },
            "type": "scatter"
           }
          ],
          "scatter3d": [
           {
            "line": {
             "colorbar": {
              "outlinewidth": 0,
              "ticks": ""
             }
            },
            "marker": {
             "colorbar": {
              "outlinewidth": 0,
              "ticks": ""
             }
            },
            "type": "scatter3d"
           }
          ],
          "scattercarpet": [
           {
            "marker": {
             "colorbar": {
              "outlinewidth": 0,
              "ticks": ""
             }
            },
            "type": "scattercarpet"
           }
          ],
          "scattergeo": [
           {
            "marker": {
             "colorbar": {
              "outlinewidth": 0,
              "ticks": ""
             }
            },
            "type": "scattergeo"
           }
          ],
          "scattergl": [
           {
            "marker": {
             "colorbar": {
              "outlinewidth": 0,
              "ticks": ""
             }
            },
            "type": "scattergl"
           }
          ],
          "scattermap": [
           {
            "marker": {
             "colorbar": {
              "outlinewidth": 0,
              "ticks": ""
             }
            },
            "type": "scattermap"
           }
          ],
          "scattermapbox": [
           {
            "marker": {
             "colorbar": {
              "outlinewidth": 0,
              "ticks": ""
             }
            },
            "type": "scattermapbox"
           }
          ],
          "scatterpolar": [
           {
            "marker": {
             "colorbar": {
              "outlinewidth": 0,
              "ticks": ""
             }
            },
            "type": "scatterpolar"
           }
          ],
          "scatterpolargl": [
           {
            "marker": {
             "colorbar": {
              "outlinewidth": 0,
              "ticks": ""
             }
            },
            "type": "scatterpolargl"
           }
          ],
          "scatterternary": [
           {
            "marker": {
             "colorbar": {
              "outlinewidth": 0,
              "ticks": ""
             }
            },
            "type": "scatterternary"
           }
          ],
          "surface": [
           {
            "colorbar": {
             "outlinewidth": 0,
             "ticks": ""
            },
            "colorscale": [
             [
              0,
              "#0d0887"
             ],
             [
              0.1111111111111111,
              "#46039f"
             ],
             [
              0.2222222222222222,
              "#7201a8"
             ],
             [
              0.3333333333333333,
              "#9c179e"
             ],
             [
              0.4444444444444444,
              "#bd3786"
             ],
             [
              0.5555555555555556,
              "#d8576b"
             ],
             [
              0.6666666666666666,
              "#ed7953"
             ],
             [
              0.7777777777777778,
              "#fb9f3a"
             ],
             [
              0.8888888888888888,
              "#fdca26"
             ],
             [
              1,
              "#f0f921"
             ]
            ],
            "type": "surface"
           }
          ],
          "table": [
           {
            "cells": {
             "fill": {
              "color": "#EBF0F8"
             },
             "line": {
              "color": "white"
             }
            },
            "header": {
             "fill": {
              "color": "#C8D4E3"
             },
             "line": {
              "color": "white"
             }
            },
            "type": "table"
           }
          ]
         },
         "layout": {
          "annotationdefaults": {
           "arrowcolor": "#2a3f5f",
           "arrowhead": 0,
           "arrowwidth": 1
          },
          "autotypenumbers": "strict",
          "coloraxis": {
           "colorbar": {
            "outlinewidth": 0,
            "ticks": ""
           }
          },
          "colorscale": {
           "diverging": [
            [
             0,
             "#8e0152"
            ],
            [
             0.1,
             "#c51b7d"
            ],
            [
             0.2,
             "#de77ae"
            ],
            [
             0.3,
             "#f1b6da"
            ],
            [
             0.4,
             "#fde0ef"
            ],
            [
             0.5,
             "#f7f7f7"
            ],
            [
             0.6,
             "#e6f5d0"
            ],
            [
             0.7,
             "#b8e186"
            ],
            [
             0.8,
             "#7fbc41"
            ],
            [
             0.9,
             "#4d9221"
            ],
            [
             1,
             "#276419"
            ]
           ],
           "sequential": [
            [
             0,
             "#0d0887"
            ],
            [
             0.1111111111111111,
             "#46039f"
            ],
            [
             0.2222222222222222,
             "#7201a8"
            ],
            [
             0.3333333333333333,
             "#9c179e"
            ],
            [
             0.4444444444444444,
             "#bd3786"
            ],
            [
             0.5555555555555556,
             "#d8576b"
            ],
            [
             0.6666666666666666,
             "#ed7953"
            ],
            [
             0.7777777777777778,
             "#fb9f3a"
            ],
            [
             0.8888888888888888,
             "#fdca26"
            ],
            [
             1,
             "#f0f921"
            ]
           ],
           "sequentialminus": [
            [
             0,
             "#0d0887"
            ],
            [
             0.1111111111111111,
             "#46039f"
            ],
            [
             0.2222222222222222,
             "#7201a8"
            ],
            [
             0.3333333333333333,
             "#9c179e"
            ],
            [
             0.4444444444444444,
             "#bd3786"
            ],
            [
             0.5555555555555556,
             "#d8576b"
            ],
            [
             0.6666666666666666,
             "#ed7953"
            ],
            [
             0.7777777777777778,
             "#fb9f3a"
            ],
            [
             0.8888888888888888,
             "#fdca26"
            ],
            [
             1,
             "#f0f921"
            ]
           ]
          },
          "colorway": [
           "#636efa",
           "#EF553B",
           "#00cc96",
           "#ab63fa",
           "#FFA15A",
           "#19d3f3",
           "#FF6692",
           "#B6E880",
           "#FF97FF",
           "#FECB52"
          ],
          "font": {
           "color": "#2a3f5f"
          },
          "geo": {
           "bgcolor": "white",
           "lakecolor": "white",
           "landcolor": "#E5ECF6",
           "showlakes": true,
           "showland": true,
           "subunitcolor": "white"
          },
          "hoverlabel": {
           "align": "left"
          },
          "hovermode": "closest",
          "mapbox": {
           "style": "light"
          },
          "paper_bgcolor": "white",
          "plot_bgcolor": "#E5ECF6",
          "polar": {
           "angularaxis": {
            "gridcolor": "white",
            "linecolor": "white",
            "ticks": ""
           },
           "bgcolor": "#E5ECF6",
           "radialaxis": {
            "gridcolor": "white",
            "linecolor": "white",
            "ticks": ""
           }
          },
          "scene": {
           "xaxis": {
            "backgroundcolor": "#E5ECF6",
            "gridcolor": "white",
            "gridwidth": 2,
            "linecolor": "white",
            "showbackground": true,
            "ticks": "",
            "zerolinecolor": "white"
           },
           "yaxis": {
            "backgroundcolor": "#E5ECF6",
            "gridcolor": "white",
            "gridwidth": 2,
            "linecolor": "white",
            "showbackground": true,
            "ticks": "",
            "zerolinecolor": "white"
           },
           "zaxis": {
            "backgroundcolor": "#E5ECF6",
            "gridcolor": "white",
            "gridwidth": 2,
            "linecolor": "white",
            "showbackground": true,
            "ticks": "",
            "zerolinecolor": "white"
           }
          },
          "shapedefaults": {
           "line": {
            "color": "#2a3f5f"
           }
          },
          "ternary": {
           "aaxis": {
            "gridcolor": "white",
            "linecolor": "white",
            "ticks": ""
           },
           "baxis": {
            "gridcolor": "white",
            "linecolor": "white",
            "ticks": ""
           },
           "bgcolor": "#E5ECF6",
           "caxis": {
            "gridcolor": "white",
            "linecolor": "white",
            "ticks": ""
           }
          },
          "title": {
           "x": 0.05
          },
          "xaxis": {
           "automargin": true,
           "gridcolor": "white",
           "linecolor": "white",
           "ticks": "",
           "title": {
            "standoff": 15
           },
           "zerolinecolor": "white",
           "zerolinewidth": 2
          },
          "yaxis": {
           "automargin": true,
           "gridcolor": "white",
           "linecolor": "white",
           "ticks": "",
           "title": {
            "standoff": 15
           },
           "zerolinecolor": "white",
           "zerolinewidth": 2
          }
         }
        },
        "title": {
         "text": "Feature Importances - Random Forest"
        },
        "xaxis": {
         "anchor": "y",
         "domain": [
          0,
          1
         ],
         "title": {
          "text": "Feature"
         }
        },
        "yaxis": {
         "anchor": "x",
         "domain": [
          0,
          1
         ],
         "title": {
          "text": "Importance Score"
         }
        }
       }
      }
     },
     "metadata": {},
     "output_type": "display_data"
    }
   ],
   "source": [
    "\n",
    "# Get feature importances\n",
    "importances = rf_model.feature_importances_\n",
    "feature_names = X.columns\n",
    "\n",
    "# Create DataFrame for plotting\n",
    "importance_df = pd.DataFrame({\n",
    "    'Feature': feature_names,\n",
    "    'Importance': importances\n",
    "}).sort_values(by='Importance', ascending=False)\n",
    "\n",
    "# Plotly bar chart\n",
    "fig = px.bar(importance_df, x='Feature', y='Importance',\n",
    "             title=\"Feature Importances - Random Forest\",\n",
    "             labels={'Importance': 'Importance Score'},\n",
    "             color='Importance')\n",
    "fig.show()\n"
   ]
  },
  {
   "cell_type": "markdown",
   "id": "246b9c58",
   "metadata": {},
   "source": [
    "## KDE Plots"
   ]
  },
  {
   "cell_type": "code",
   "execution_count": 21,
   "id": "6f1e0de2",
   "metadata": {},
   "outputs": [
    {
     "data": {
      "application/vnd.plotly.v1+json": {
       "config": {
        "plotlyServerURL": "https://plot.ly"
       },
       "data": [
        {
         "legendgroup": "0",
         "marker": {
          "color": "rgb(31, 119, 180)"
         },
         "mode": "lines",
         "name": "0",
         "showlegend": true,
         "type": "scatter",
         "x": [
          0,
          0.042,
          0.084,
          0.126,
          0.168,
          0.21,
          0.252,
          0.294,
          0.336,
          0.378,
          0.42,
          0.462,
          0.504,
          0.546,
          0.588,
          0.63,
          0.672,
          0.714,
          0.756,
          0.798,
          0.84,
          0.882,
          0.924,
          0.966,
          1.008,
          1.05,
          1.092,
          1.134,
          1.176,
          1.218,
          1.26,
          1.302,
          1.344,
          1.386,
          1.428,
          1.47,
          1.512,
          1.554,
          1.596,
          1.638,
          1.68,
          1.722,
          1.764,
          1.806,
          1.848,
          1.89,
          1.932,
          1.974,
          2.016,
          2.058,
          2.1,
          2.142,
          2.184,
          2.226,
          2.268,
          2.31,
          2.352,
          2.394,
          2.436,
          2.478,
          2.52,
          2.562,
          2.604,
          2.646,
          2.688,
          2.73,
          2.772,
          2.814,
          2.856,
          2.898,
          2.94,
          2.982,
          3.024,
          3.066,
          3.108,
          3.15,
          3.192,
          3.234,
          3.276,
          3.318,
          3.36,
          3.402,
          3.444,
          3.486,
          3.528,
          3.57,
          3.612,
          3.654,
          3.696,
          3.738,
          3.78,
          3.822,
          3.864,
          3.906,
          3.948,
          3.99,
          4.032,
          4.074,
          4.116,
          4.158,
          4.2,
          4.242,
          4.284,
          4.326,
          4.368,
          4.41,
          4.452,
          4.494,
          4.536,
          4.578,
          4.62,
          4.662,
          4.704,
          4.746,
          4.788,
          4.83,
          4.872,
          4.914,
          4.956,
          4.998,
          5.04,
          5.082,
          5.124,
          5.166,
          5.208,
          5.25,
          5.292,
          5.334,
          5.376,
          5.418,
          5.46,
          5.502,
          5.544,
          5.586,
          5.628,
          5.67,
          5.712,
          5.754,
          5.796,
          5.838,
          5.88,
          5.922,
          5.964,
          6.006,
          6.048,
          6.09,
          6.132,
          6.174,
          6.216,
          6.258,
          6.3,
          6.342,
          6.384,
          6.426,
          6.468,
          6.51,
          6.552,
          6.594,
          6.636,
          6.678,
          6.72,
          6.762,
          6.804,
          6.846,
          6.888,
          6.93,
          6.972,
          7.014,
          7.056,
          7.098,
          7.14,
          7.182,
          7.224,
          7.266,
          7.308,
          7.35,
          7.392,
          7.434,
          7.476,
          7.518,
          7.56,
          7.602,
          7.644,
          7.686,
          7.728,
          7.77,
          7.812,
          7.854,
          7.896,
          7.938,
          7.98,
          8.022,
          8.064,
          8.106,
          8.148,
          8.19,
          8.232,
          8.274,
          8.316,
          8.358,
          8.4,
          8.442,
          8.484,
          8.526,
          8.568,
          8.61,
          8.652,
          8.694,
          8.736,
          8.778,
          8.82,
          8.862,
          8.904,
          8.946,
          8.988,
          9.03,
          9.072,
          9.114,
          9.156,
          9.198,
          9.24,
          9.282,
          9.324,
          9.366,
          9.408,
          9.45,
          9.492,
          9.534,
          9.576,
          9.618,
          9.66,
          9.702,
          9.744,
          9.786,
          9.828,
          9.87,
          9.912,
          9.954,
          9.996,
          10.038,
          10.08,
          10.122,
          10.164,
          10.206,
          10.248,
          10.29,
          10.332,
          10.374,
          10.416,
          10.458,
          10.5,
          10.542,
          10.584,
          10.626,
          10.668,
          10.71,
          10.752,
          10.794,
          10.836,
          10.878,
          10.92,
          10.962,
          11.004,
          11.046,
          11.088,
          11.13,
          11.172,
          11.214,
          11.256,
          11.298,
          11.34,
          11.382,
          11.424,
          11.466,
          11.508,
          11.55,
          11.592,
          11.634,
          11.676,
          11.718,
          11.76,
          11.802,
          11.844,
          11.886,
          11.928,
          11.97,
          12.012,
          12.054,
          12.096,
          12.138,
          12.18,
          12.222,
          12.264,
          12.306,
          12.348,
          12.39,
          12.432,
          12.474,
          12.516,
          12.558,
          12.6,
          12.642,
          12.684,
          12.726,
          12.768,
          12.81,
          12.852,
          12.894,
          12.936,
          12.978,
          13.02,
          13.062,
          13.104,
          13.146,
          13.188,
          13.23,
          13.272,
          13.314,
          13.356,
          13.398,
          13.44,
          13.482,
          13.524,
          13.566,
          13.608,
          13.65,
          13.692,
          13.734,
          13.776,
          13.818,
          13.86,
          13.902,
          13.944,
          13.986,
          14.028,
          14.07,
          14.112,
          14.154,
          14.196,
          14.238,
          14.28,
          14.322,
          14.364,
          14.406,
          14.448,
          14.49,
          14.532,
          14.574,
          14.616,
          14.658,
          14.7,
          14.742,
          14.784,
          14.826,
          14.868,
          14.91,
          14.952,
          14.994,
          15.036,
          15.078,
          15.12,
          15.162,
          15.204,
          15.246,
          15.288,
          15.33,
          15.372,
          15.414,
          15.456,
          15.498,
          15.54,
          15.582,
          15.624,
          15.666,
          15.708,
          15.75,
          15.792,
          15.834,
          15.876,
          15.918,
          15.96,
          16.002,
          16.044,
          16.086,
          16.128,
          16.17,
          16.212,
          16.254,
          16.296,
          16.338,
          16.38,
          16.422,
          16.464,
          16.506,
          16.548,
          16.59,
          16.632,
          16.674,
          16.716,
          16.758,
          16.8,
          16.842,
          16.884,
          16.926,
          16.968,
          17.01,
          17.052,
          17.094,
          17.136,
          17.178,
          17.22,
          17.262,
          17.304,
          17.346,
          17.388,
          17.43,
          17.472,
          17.514,
          17.556,
          17.598,
          17.64,
          17.682,
          17.724,
          17.766,
          17.808,
          17.85,
          17.892,
          17.934,
          17.976,
          18.018,
          18.06,
          18.102,
          18.144,
          18.186,
          18.228,
          18.27,
          18.312,
          18.354,
          18.396,
          18.438,
          18.48,
          18.522,
          18.564,
          18.606,
          18.648,
          18.69,
          18.732,
          18.774,
          18.816,
          18.858,
          18.9,
          18.942,
          18.984,
          19.026,
          19.068,
          19.11,
          19.152,
          19.194,
          19.236,
          19.278,
          19.32,
          19.362,
          19.404,
          19.446,
          19.488,
          19.53,
          19.572,
          19.614,
          19.656,
          19.698,
          19.74,
          19.782,
          19.824,
          19.866,
          19.908,
          19.95,
          19.992,
          20.034,
          20.076,
          20.118,
          20.16,
          20.202,
          20.244,
          20.286,
          20.328,
          20.37,
          20.412,
          20.454,
          20.496,
          20.538,
          20.58,
          20.622,
          20.664,
          20.706,
          20.748,
          20.79,
          20.832,
          20.874,
          20.916,
          20.958
         ],
         "xaxis": "x",
         "y": {
          "bdata": "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",
          "dtype": "f8"
         },
         "yaxis": "y"
        },
        {
         "legendgroup": "1",
         "marker": {
          "color": "rgb(255, 127, 14)"
         },
         "mode": "lines",
         "name": "1",
         "showlegend": true,
         "type": "scatter",
         "x": [
          0,
          0.078,
          0.156,
          0.234,
          0.312,
          0.39,
          0.468,
          0.546,
          0.624,
          0.702,
          0.78,
          0.858,
          0.936,
          1.014,
          1.092,
          1.17,
          1.248,
          1.326,
          1.404,
          1.482,
          1.56,
          1.638,
          1.716,
          1.794,
          1.872,
          1.95,
          2.028,
          2.106,
          2.184,
          2.262,
          2.34,
          2.418,
          2.496,
          2.574,
          2.652,
          2.73,
          2.808,
          2.886,
          2.964,
          3.042,
          3.12,
          3.198,
          3.276,
          3.354,
          3.432,
          3.51,
          3.588,
          3.666,
          3.744,
          3.822,
          3.9,
          3.978,
          4.056,
          4.134,
          4.212,
          4.29,
          4.368,
          4.446,
          4.524,
          4.602,
          4.68,
          4.758,
          4.836,
          4.914,
          4.992,
          5.07,
          5.148,
          5.226,
          5.304,
          5.382,
          5.46,
          5.538,
          5.616,
          5.694,
          5.772,
          5.85,
          5.928,
          6.006,
          6.084,
          6.162,
          6.24,
          6.318,
          6.396,
          6.474,
          6.552,
          6.63,
          6.708,
          6.786,
          6.864,
          6.942,
          7.02,
          7.098,
          7.176,
          7.254,
          7.332,
          7.41,
          7.488,
          7.566,
          7.644,
          7.722,
          7.8,
          7.878,
          7.956,
          8.034,
          8.112,
          8.19,
          8.268,
          8.346,
          8.424,
          8.502,
          8.58,
          8.658,
          8.736,
          8.814,
          8.892,
          8.97,
          9.048,
          9.126,
          9.204,
          9.282,
          9.36,
          9.438,
          9.516,
          9.594,
          9.672,
          9.75,
          9.828,
          9.906,
          9.984,
          10.062,
          10.14,
          10.218,
          10.296,
          10.374,
          10.452,
          10.53,
          10.608,
          10.686,
          10.764,
          10.842,
          10.92,
          10.998,
          11.076,
          11.154,
          11.232,
          11.31,
          11.388,
          11.466,
          11.544,
          11.622,
          11.7,
          11.778,
          11.856,
          11.934,
          12.012,
          12.09,
          12.168,
          12.246,
          12.324,
          12.402,
          12.48,
          12.558,
          12.636,
          12.714,
          12.792,
          12.87,
          12.948,
          13.026,
          13.104,
          13.182,
          13.26,
          13.338,
          13.416,
          13.494,
          13.572,
          13.65,
          13.728,
          13.806,
          13.884,
          13.962,
          14.04,
          14.118,
          14.196,
          14.274,
          14.352,
          14.43,
          14.508,
          14.586,
          14.664,
          14.742,
          14.82,
          14.898,
          14.976,
          15.054,
          15.132,
          15.21,
          15.288,
          15.366,
          15.444,
          15.522,
          15.6,
          15.678,
          15.756,
          15.834,
          15.912,
          15.99,
          16.068,
          16.146,
          16.224,
          16.302,
          16.38,
          16.458,
          16.536,
          16.614,
          16.692,
          16.77,
          16.848,
          16.926,
          17.004,
          17.082,
          17.16,
          17.238,
          17.316,
          17.394,
          17.472,
          17.55,
          17.628,
          17.706,
          17.784,
          17.862,
          17.94,
          18.018,
          18.096,
          18.174,
          18.252,
          18.33,
          18.408,
          18.486,
          18.564,
          18.642,
          18.72,
          18.798,
          18.876,
          18.954,
          19.032,
          19.11,
          19.188,
          19.266,
          19.344,
          19.422,
          19.5,
          19.578,
          19.656,
          19.734,
          19.812,
          19.89,
          19.968,
          20.046,
          20.124,
          20.202,
          20.28,
          20.358,
          20.436,
          20.514,
          20.592,
          20.67,
          20.748,
          20.826,
          20.904,
          20.982,
          21.06,
          21.138,
          21.216,
          21.294,
          21.372,
          21.45,
          21.528,
          21.606,
          21.684,
          21.762,
          21.84,
          21.918,
          21.996,
          22.074,
          22.152,
          22.23,
          22.308,
          22.386,
          22.464,
          22.542,
          22.62,
          22.698,
          22.776,
          22.854,
          22.932,
          23.01,
          23.088,
          23.166,
          23.244,
          23.322,
          23.4,
          23.478,
          23.556,
          23.634,
          23.712,
          23.79,
          23.868,
          23.946,
          24.024,
          24.102,
          24.18,
          24.258,
          24.336,
          24.414,
          24.492,
          24.57,
          24.648,
          24.726,
          24.804,
          24.882,
          24.96,
          25.038,
          25.116,
          25.194,
          25.272,
          25.35,
          25.428,
          25.506,
          25.584,
          25.662,
          25.74,
          25.818,
          25.896,
          25.974,
          26.052,
          26.13,
          26.208,
          26.286,
          26.364,
          26.442,
          26.52,
          26.598,
          26.676,
          26.754,
          26.832,
          26.91,
          26.988,
          27.066,
          27.144,
          27.222,
          27.3,
          27.378,
          27.456,
          27.534,
          27.612,
          27.69,
          27.768,
          27.846,
          27.924,
          28.002,
          28.08,
          28.158,
          28.236,
          28.314,
          28.392,
          28.47,
          28.548,
          28.626,
          28.704,
          28.782,
          28.86,
          28.938,
          29.016,
          29.094,
          29.172,
          29.25,
          29.328,
          29.406,
          29.484,
          29.562,
          29.64,
          29.718,
          29.796,
          29.874,
          29.952,
          30.03,
          30.108,
          30.186,
          30.264,
          30.342,
          30.42,
          30.498,
          30.576,
          30.654,
          30.732,
          30.81,
          30.888,
          30.966,
          31.044,
          31.122,
          31.2,
          31.278,
          31.356,
          31.434,
          31.512,
          31.59,
          31.668,
          31.746,
          31.824,
          31.902,
          31.98,
          32.058,
          32.136,
          32.214,
          32.292,
          32.37,
          32.448,
          32.526,
          32.604,
          32.682,
          32.76,
          32.838,
          32.916,
          32.994,
          33.072,
          33.15,
          33.228,
          33.306,
          33.384,
          33.462,
          33.54,
          33.618,
          33.696,
          33.774,
          33.852,
          33.93,
          34.008,
          34.086,
          34.164,
          34.242,
          34.32,
          34.398,
          34.476,
          34.554,
          34.632,
          34.71,
          34.788,
          34.866,
          34.944,
          35.022,
          35.1,
          35.178,
          35.256,
          35.334,
          35.412,
          35.49,
          35.568,
          35.646,
          35.724,
          35.802,
          35.88,
          35.958,
          36.036,
          36.114,
          36.192,
          36.27,
          36.348,
          36.426,
          36.504,
          36.582,
          36.66,
          36.738,
          36.816,
          36.894,
          36.972,
          37.05,
          37.128,
          37.206,
          37.284,
          37.362,
          37.44,
          37.518,
          37.596,
          37.674,
          37.752,
          37.83,
          37.908,
          37.986,
          38.064,
          38.142,
          38.22,
          38.298,
          38.376,
          38.454,
          38.532,
          38.61,
          38.688,
          38.766,
          38.844,
          38.922
         ],
         "xaxis": "x",
         "y": {
          "bdata": "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",
          "dtype": "f8"
         },
         "yaxis": "y"
        },
        {
         "legendgroup": "2",
         "marker": {
          "color": "rgb(44, 160, 44)"
         },
         "mode": "lines",
         "name": "2",
         "showlegend": true,
         "type": "scatter",
         "x": [
          0,
          0.072,
          0.144,
          0.216,
          0.288,
          0.36,
          0.432,
          0.504,
          0.576,
          0.648,
          0.72,
          0.792,
          0.864,
          0.936,
          1.008,
          1.08,
          1.152,
          1.224,
          1.296,
          1.368,
          1.44,
          1.512,
          1.584,
          1.656,
          1.728,
          1.8,
          1.872,
          1.944,
          2.016,
          2.088,
          2.16,
          2.232,
          2.304,
          2.376,
          2.448,
          2.52,
          2.592,
          2.664,
          2.736,
          2.808,
          2.88,
          2.952,
          3.024,
          3.096,
          3.168,
          3.24,
          3.312,
          3.384,
          3.456,
          3.528,
          3.6,
          3.672,
          3.744,
          3.816,
          3.888,
          3.96,
          4.032,
          4.104,
          4.176,
          4.248,
          4.32,
          4.392,
          4.464,
          4.536,
          4.608,
          4.68,
          4.752,
          4.824,
          4.896,
          4.968,
          5.04,
          5.112,
          5.184,
          5.256,
          5.328,
          5.4,
          5.472,
          5.544,
          5.616,
          5.688,
          5.76,
          5.832,
          5.904,
          5.976,
          6.048,
          6.12,
          6.192,
          6.264,
          6.336,
          6.408,
          6.48,
          6.552,
          6.624,
          6.696,
          6.768,
          6.84,
          6.912,
          6.984,
          7.056,
          7.128,
          7.2,
          7.272,
          7.344,
          7.416,
          7.488,
          7.56,
          7.632,
          7.704,
          7.776,
          7.848,
          7.92,
          7.992,
          8.064,
          8.136,
          8.208,
          8.28,
          8.352,
          8.424,
          8.496,
          8.568,
          8.64,
          8.712,
          8.784,
          8.856,
          8.928,
          9,
          9.072,
          9.144,
          9.216,
          9.288,
          9.36,
          9.432,
          9.504,
          9.576,
          9.648,
          9.72,
          9.792,
          9.864,
          9.936,
          10.008,
          10.08,
          10.152,
          10.224,
          10.296,
          10.368,
          10.44,
          10.512,
          10.584,
          10.656,
          10.728,
          10.8,
          10.872,
          10.944,
          11.016,
          11.088,
          11.16,
          11.232,
          11.304,
          11.376,
          11.448,
          11.52,
          11.592,
          11.664,
          11.736,
          11.808,
          11.88,
          11.952,
          12.024,
          12.096,
          12.168,
          12.24,
          12.312,
          12.384,
          12.456,
          12.528,
          12.6,
          12.672,
          12.744,
          12.816,
          12.888,
          12.96,
          13.032,
          13.104,
          13.176,
          13.248,
          13.32,
          13.392,
          13.464,
          13.536,
          13.608,
          13.68,
          13.752,
          13.824,
          13.896,
          13.968,
          14.04,
          14.112,
          14.184,
          14.256,
          14.328,
          14.4,
          14.472,
          14.544,
          14.616,
          14.688,
          14.76,
          14.832,
          14.904,
          14.976,
          15.048,
          15.12,
          15.192,
          15.264,
          15.336,
          15.408,
          15.48,
          15.552,
          15.624,
          15.696,
          15.768,
          15.84,
          15.912,
          15.984,
          16.056,
          16.128,
          16.2,
          16.272,
          16.344,
          16.416,
          16.488,
          16.56,
          16.632,
          16.704,
          16.776,
          16.848,
          16.92,
          16.992,
          17.064,
          17.136,
          17.208,
          17.28,
          17.352,
          17.424,
          17.496,
          17.568,
          17.64,
          17.712,
          17.784,
          17.856,
          17.928,
          18,
          18.072,
          18.144,
          18.216,
          18.288,
          18.36,
          18.432,
          18.504,
          18.576,
          18.648,
          18.72,
          18.792,
          18.864,
          18.936,
          19.008,
          19.08,
          19.152,
          19.224,
          19.296,
          19.368,
          19.44,
          19.512,
          19.584,
          19.656,
          19.728,
          19.8,
          19.872,
          19.944,
          20.016,
          20.088,
          20.16,
          20.232,
          20.304,
          20.376,
          20.448,
          20.52,
          20.592,
          20.664,
          20.736,
          20.808,
          20.88,
          20.952,
          21.024,
          21.096,
          21.168,
          21.24,
          21.312,
          21.384,
          21.456,
          21.528,
          21.6,
          21.672,
          21.744,
          21.816,
          21.888,
          21.96,
          22.032,
          22.104,
          22.176,
          22.248,
          22.32,
          22.392,
          22.464,
          22.536,
          22.608,
          22.68,
          22.752,
          22.824,
          22.896,
          22.968,
          23.04,
          23.112,
          23.184,
          23.256,
          23.328,
          23.4,
          23.472,
          23.544,
          23.616,
          23.688,
          23.76,
          23.832,
          23.904,
          23.976,
          24.048,
          24.12,
          24.192,
          24.264,
          24.336,
          24.408,
          24.48,
          24.552,
          24.624,
          24.696,
          24.768,
          24.84,
          24.912,
          24.984,
          25.056,
          25.128,
          25.2,
          25.272,
          25.344,
          25.416,
          25.488,
          25.56,
          25.632,
          25.704,
          25.776,
          25.848,
          25.92,
          25.992,
          26.064,
          26.136,
          26.208,
          26.28,
          26.352,
          26.424,
          26.496,
          26.568,
          26.64,
          26.712,
          26.784,
          26.856,
          26.928,
          27,
          27.072,
          27.144,
          27.216,
          27.288,
          27.36,
          27.432,
          27.504,
          27.576,
          27.648,
          27.72,
          27.792,
          27.864,
          27.936,
          28.008,
          28.08,
          28.152,
          28.224,
          28.296,
          28.368,
          28.44,
          28.512,
          28.584,
          28.656,
          28.728,
          28.8,
          28.872,
          28.944,
          29.016,
          29.088,
          29.16,
          29.232,
          29.304,
          29.376,
          29.448,
          29.52,
          29.592,
          29.664,
          29.736,
          29.808,
          29.88,
          29.952,
          30.024,
          30.096,
          30.168,
          30.24,
          30.312,
          30.384,
          30.456,
          30.528,
          30.6,
          30.672,
          30.744,
          30.816,
          30.888,
          30.96,
          31.032,
          31.104,
          31.176,
          31.248,
          31.32,
          31.392,
          31.464,
          31.536,
          31.608,
          31.68,
          31.752,
          31.824,
          31.896,
          31.968,
          32.04,
          32.112,
          32.184,
          32.256,
          32.328,
          32.4,
          32.472,
          32.544,
          32.616,
          32.688,
          32.76,
          32.832,
          32.904,
          32.976,
          33.048,
          33.12,
          33.192,
          33.264,
          33.336,
          33.408,
          33.48,
          33.552,
          33.624,
          33.696,
          33.768,
          33.84,
          33.912,
          33.984,
          34.056,
          34.128,
          34.2,
          34.272,
          34.344,
          34.416,
          34.488,
          34.56,
          34.632,
          34.704,
          34.776,
          34.848,
          34.92,
          34.992,
          35.064,
          35.136,
          35.208,
          35.28,
          35.352,
          35.424,
          35.496,
          35.568,
          35.64,
          35.712,
          35.784,
          35.856,
          35.928
         ],
         "xaxis": "x",
         "y": {
          "bdata": "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",
          "dtype": "f8"
         },
         "yaxis": "y"
        },
        {
         "legendgroup": "3",
         "marker": {
          "color": "rgb(214, 39, 40)"
         },
         "mode": "lines",
         "name": "3",
         "showlegend": true,
         "type": "scatter",
         "x": [
          0,
          0.07,
          0.14,
          0.21,
          0.28,
          0.35,
          0.42,
          0.49,
          0.56,
          0.63,
          0.7,
          0.77,
          0.84,
          0.91,
          0.98,
          1.05,
          1.12,
          1.19,
          1.26,
          1.33,
          1.4,
          1.47,
          1.54,
          1.61,
          1.68,
          1.75,
          1.82,
          1.89,
          1.96,
          2.03,
          2.1,
          2.17,
          2.24,
          2.31,
          2.38,
          2.45,
          2.52,
          2.59,
          2.66,
          2.73,
          2.8,
          2.87,
          2.94,
          3.01,
          3.08,
          3.15,
          3.22,
          3.29,
          3.36,
          3.43,
          3.5,
          3.57,
          3.64,
          3.71,
          3.78,
          3.85,
          3.92,
          3.99,
          4.06,
          4.13,
          4.2,
          4.27,
          4.34,
          4.41,
          4.48,
          4.55,
          4.62,
          4.69,
          4.76,
          4.83,
          4.9,
          4.97,
          5.04,
          5.11,
          5.18,
          5.25,
          5.32,
          5.39,
          5.46,
          5.53,
          5.6,
          5.67,
          5.74,
          5.81,
          5.88,
          5.95,
          6.02,
          6.09,
          6.16,
          6.23,
          6.3,
          6.37,
          6.44,
          6.51,
          6.58,
          6.65,
          6.72,
          6.79,
          6.86,
          6.93,
          7,
          7.07,
          7.14,
          7.21,
          7.28,
          7.35,
          7.42,
          7.49,
          7.56,
          7.63,
          7.7,
          7.77,
          7.84,
          7.91,
          7.98,
          8.05,
          8.12,
          8.19,
          8.26,
          8.33,
          8.4,
          8.47,
          8.54,
          8.61,
          8.68,
          8.75,
          8.82,
          8.89,
          8.96,
          9.03,
          9.1,
          9.17,
          9.24,
          9.31,
          9.38,
          9.45,
          9.52,
          9.59,
          9.66,
          9.73,
          9.8,
          9.87,
          9.94,
          10.01,
          10.08,
          10.15,
          10.22,
          10.29,
          10.36,
          10.43,
          10.5,
          10.57,
          10.64,
          10.71,
          10.78,
          10.85,
          10.92,
          10.99,
          11.06,
          11.13,
          11.2,
          11.27,
          11.34,
          11.41,
          11.48,
          11.55,
          11.62,
          11.69,
          11.76,
          11.83,
          11.9,
          11.97,
          12.04,
          12.11,
          12.18,
          12.25,
          12.32,
          12.39,
          12.46,
          12.53,
          12.6,
          12.67,
          12.74,
          12.81,
          12.88,
          12.95,
          13.02,
          13.09,
          13.16,
          13.23,
          13.3,
          13.37,
          13.44,
          13.51,
          13.58,
          13.65,
          13.72,
          13.79,
          13.86,
          13.93,
          14,
          14.07,
          14.14,
          14.21,
          14.28,
          14.35,
          14.42,
          14.49,
          14.56,
          14.63,
          14.7,
          14.77,
          14.84,
          14.91,
          14.98,
          15.05,
          15.12,
          15.19,
          15.26,
          15.33,
          15.4,
          15.47,
          15.54,
          15.61,
          15.68,
          15.75,
          15.82,
          15.89,
          15.96,
          16.03,
          16.1,
          16.17,
          16.24,
          16.31,
          16.38,
          16.45,
          16.52,
          16.59,
          16.66,
          16.73,
          16.8,
          16.87,
          16.94,
          17.01,
          17.08,
          17.15,
          17.22,
          17.29,
          17.36,
          17.43,
          17.5,
          17.57,
          17.64,
          17.71,
          17.78,
          17.85,
          17.92,
          17.99,
          18.06,
          18.13,
          18.2,
          18.27,
          18.34,
          18.41,
          18.48,
          18.55,
          18.62,
          18.69,
          18.76,
          18.83,
          18.9,
          18.97,
          19.04,
          19.11,
          19.18,
          19.25,
          19.32,
          19.39,
          19.46,
          19.53,
          19.6,
          19.67,
          19.74,
          19.81,
          19.88,
          19.95,
          20.02,
          20.09,
          20.16,
          20.23,
          20.3,
          20.37,
          20.44,
          20.51,
          20.58,
          20.65,
          20.72,
          20.79,
          20.86,
          20.93,
          21,
          21.07,
          21.14,
          21.21,
          21.28,
          21.35,
          21.42,
          21.49,
          21.56,
          21.63,
          21.7,
          21.77,
          21.84,
          21.91,
          21.98,
          22.05,
          22.12,
          22.19,
          22.26,
          22.33,
          22.4,
          22.47,
          22.54,
          22.61,
          22.68,
          22.75,
          22.82,
          22.89,
          22.96,
          23.03,
          23.1,
          23.17,
          23.24,
          23.31,
          23.38,
          23.45,
          23.52,
          23.59,
          23.66,
          23.73,
          23.8,
          23.87,
          23.94,
          24.01,
          24.08,
          24.15,
          24.22,
          24.29,
          24.36,
          24.43,
          24.5,
          24.57,
          24.64,
          24.71,
          24.78,
          24.85,
          24.92,
          24.99,
          25.06,
          25.13,
          25.2,
          25.27,
          25.34,
          25.41,
          25.48,
          25.55,
          25.62,
          25.69,
          25.76,
          25.83,
          25.9,
          25.97,
          26.04,
          26.11,
          26.18,
          26.25,
          26.32,
          26.39,
          26.46,
          26.53,
          26.6,
          26.67,
          26.74,
          26.81,
          26.88,
          26.95,
          27.02,
          27.09,
          27.16,
          27.23,
          27.3,
          27.37,
          27.44,
          27.51,
          27.58,
          27.65,
          27.72,
          27.79,
          27.86,
          27.93,
          28,
          28.07,
          28.14,
          28.21,
          28.28,
          28.35,
          28.42,
          28.49,
          28.56,
          28.63,
          28.7,
          28.77,
          28.84,
          28.91,
          28.98,
          29.05,
          29.12,
          29.19,
          29.26,
          29.33,
          29.4,
          29.47,
          29.54,
          29.61,
          29.68,
          29.75,
          29.82,
          29.89,
          29.96,
          30.03,
          30.1,
          30.17,
          30.24,
          30.31,
          30.38,
          30.45,
          30.52,
          30.59,
          30.66,
          30.73,
          30.8,
          30.87,
          30.94,
          31.01,
          31.08,
          31.15,
          31.22,
          31.29,
          31.36,
          31.43,
          31.5,
          31.57,
          31.64,
          31.71,
          31.78,
          31.85,
          31.92,
          31.99,
          32.06,
          32.13,
          32.2,
          32.27,
          32.34,
          32.41,
          32.48,
          32.55,
          32.62,
          32.69,
          32.76,
          32.83,
          32.9,
          32.97,
          33.04,
          33.11,
          33.18,
          33.25,
          33.32,
          33.39,
          33.46,
          33.53,
          33.6,
          33.67,
          33.74,
          33.81,
          33.88,
          33.95,
          34.02,
          34.09,
          34.16,
          34.23,
          34.3,
          34.37,
          34.44,
          34.51,
          34.58,
          34.65,
          34.72,
          34.79,
          34.86,
          34.93
         ],
         "xaxis": "x",
         "y": {
          "bdata": "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",
          "dtype": "f8"
         },
         "yaxis": "y"
        }
       ],
       "layout": {
        "barmode": "overlay",
        "hovermode": "closest",
        "legend": {
         "traceorder": "reversed"
        },
        "template": {
         "data": {
          "bar": [
           {
            "error_x": {
             "color": "#2a3f5f"
            },
            "error_y": {
             "color": "#2a3f5f"
            },
            "marker": {
             "line": {
              "color": "#E5ECF6",
              "width": 0.5
             },
             "pattern": {
              "fillmode": "overlay",
              "size": 10,
              "solidity": 0.2
             }
            },
            "type": "bar"
           }
          ],
          "barpolar": [
           {
            "marker": {
             "line": {
              "color": "#E5ECF6",
              "width": 0.5
             },
             "pattern": {
              "fillmode": "overlay",
              "size": 10,
              "solidity": 0.2
             }
            },
            "type": "barpolar"
           }
          ],
          "carpet": [
           {
            "aaxis": {
             "endlinecolor": "#2a3f5f",
             "gridcolor": "white",
             "linecolor": "white",
             "minorgridcolor": "white",
             "startlinecolor": "#2a3f5f"
            },
            "baxis": {
             "endlinecolor": "#2a3f5f",
             "gridcolor": "white",
             "linecolor": "white",
             "minorgridcolor": "white",
             "startlinecolor": "#2a3f5f"
            },
            "type": "carpet"
           }
          ],
          "choropleth": [
           {
            "colorbar": {
             "outlinewidth": 0,
             "ticks": ""
            },
            "type": "choropleth"
           }
          ],
          "contour": [
           {
            "colorbar": {
             "outlinewidth": 0,
             "ticks": ""
            },
            "colorscale": [
             [
              0,
              "#0d0887"
             ],
             [
              0.1111111111111111,
              "#46039f"
             ],
             [
              0.2222222222222222,
              "#7201a8"
             ],
             [
              0.3333333333333333,
              "#9c179e"
             ],
             [
              0.4444444444444444,
              "#bd3786"
             ],
             [
              0.5555555555555556,
              "#d8576b"
             ],
             [
              0.6666666666666666,
              "#ed7953"
             ],
             [
              0.7777777777777778,
              "#fb9f3a"
             ],
             [
              0.8888888888888888,
              "#fdca26"
             ],
             [
              1,
              "#f0f921"
             ]
            ],
            "type": "contour"
           }
          ],
          "contourcarpet": [
           {
            "colorbar": {
             "outlinewidth": 0,
             "ticks": ""
            },
            "type": "contourcarpet"
           }
          ],
          "heatmap": [
           {
            "colorbar": {
             "outlinewidth": 0,
             "ticks": ""
            },
            "colorscale": [
             [
              0,
              "#0d0887"
             ],
             [
              0.1111111111111111,
              "#46039f"
             ],
             [
              0.2222222222222222,
              "#7201a8"
             ],
             [
              0.3333333333333333,
              "#9c179e"
             ],
             [
              0.4444444444444444,
              "#bd3786"
             ],
             [
              0.5555555555555556,
              "#d8576b"
             ],
             [
              0.6666666666666666,
              "#ed7953"
             ],
             [
              0.7777777777777778,
              "#fb9f3a"
             ],
             [
              0.8888888888888888,
              "#fdca26"
             ],
             [
              1,
              "#f0f921"
             ]
            ],
            "type": "heatmap"
           }
          ],
          "histogram": [
           {
            "marker": {
             "pattern": {
              "fillmode": "overlay",
              "size": 10,
              "solidity": 0.2
             }
            },
            "type": "histogram"
           }
          ],
          "histogram2d": [
           {
            "colorbar": {
             "outlinewidth": 0,
             "ticks": ""
            },
            "colorscale": [
             [
              0,
              "#0d0887"
             ],
             [
              0.1111111111111111,
              "#46039f"
             ],
             [
              0.2222222222222222,
              "#7201a8"
             ],
             [
              0.3333333333333333,
              "#9c179e"
             ],
             [
              0.4444444444444444,
              "#bd3786"
             ],
             [
              0.5555555555555556,
              "#d8576b"
             ],
             [
              0.6666666666666666,
              "#ed7953"
             ],
             [
              0.7777777777777778,
              "#fb9f3a"
             ],
             [
              0.8888888888888888,
              "#fdca26"
             ],
             [
              1,
              "#f0f921"
             ]
            ],
            "type": "histogram2d"
           }
          ],
          "histogram2dcontour": [
           {
            "colorbar": {
             "outlinewidth": 0,
             "ticks": ""
            },
            "colorscale": [
             [
              0,
              "#0d0887"
             ],
             [
              0.1111111111111111,
              "#46039f"
             ],
             [
              0.2222222222222222,
              "#7201a8"
             ],
             [
              0.3333333333333333,
              "#9c179e"
             ],
             [
              0.4444444444444444,
              "#bd3786"
             ],
             [
              0.5555555555555556,
              "#d8576b"
             ],
             [
              0.6666666666666666,
              "#ed7953"
             ],
             [
              0.7777777777777778,
              "#fb9f3a"
             ],
             [
              0.8888888888888888,
              "#fdca26"
             ],
             [
              1,
              "#f0f921"
             ]
            ],
            "type": "histogram2dcontour"
           }
          ],
          "mesh3d": [
           {
            "colorbar": {
             "outlinewidth": 0,
             "ticks": ""
            },
            "type": "mesh3d"
           }
          ],
          "parcoords": [
           {
            "line": {
             "colorbar": {
              "outlinewidth": 0,
              "ticks": ""
             }
            },
            "type": "parcoords"
           }
          ],
          "pie": [
           {
            "automargin": true,
            "type": "pie"
           }
          ],
          "scatter": [
           {
            "fillpattern": {
             "fillmode": "overlay",
             "size": 10,
             "solidity": 0.2
            },
            "type": "scatter"
           }
          ],
          "scatter3d": [
           {
            "line": {
             "colorbar": {
              "outlinewidth": 0,
              "ticks": ""
             }
            },
            "marker": {
             "colorbar": {
              "outlinewidth": 0,
              "ticks": ""
             }
            },
            "type": "scatter3d"
           }
          ],
          "scattercarpet": [
           {
            "marker": {
             "colorbar": {
              "outlinewidth": 0,
              "ticks": ""
             }
            },
            "type": "scattercarpet"
           }
          ],
          "scattergeo": [
           {
            "marker": {
             "colorbar": {
              "outlinewidth": 0,
              "ticks": ""
             }
            },
            "type": "scattergeo"
           }
          ],
          "scattergl": [
           {
            "marker": {
             "colorbar": {
              "outlinewidth": 0,
              "ticks": ""
             }
            },
            "type": "scattergl"
           }
          ],
          "scattermap": [
           {
            "marker": {
             "colorbar": {
              "outlinewidth": 0,
              "ticks": ""
             }
            },
            "type": "scattermap"
           }
          ],
          "scattermapbox": [
           {
            "marker": {
             "colorbar": {
              "outlinewidth": 0,
              "ticks": ""
             }
            },
            "type": "scattermapbox"
           }
          ],
          "scatterpolar": [
           {
            "marker": {
             "colorbar": {
              "outlinewidth": 0,
              "ticks": ""
             }
            },
            "type": "scatterpolar"
           }
          ],
          "scatterpolargl": [
           {
            "marker": {
             "colorbar": {
              "outlinewidth": 0,
              "ticks": ""
             }
            },
            "type": "scatterpolargl"
           }
          ],
          "scatterternary": [
           {
            "marker": {
             "colorbar": {
              "outlinewidth": 0,
              "ticks": ""
             }
            },
            "type": "scatterternary"
           }
          ],
          "surface": [
           {
            "colorbar": {
             "outlinewidth": 0,
             "ticks": ""
            },
            "colorscale": [
             [
              0,
              "#0d0887"
             ],
             [
              0.1111111111111111,
              "#46039f"
             ],
             [
              0.2222222222222222,
              "#7201a8"
             ],
             [
              0.3333333333333333,
              "#9c179e"
             ],
             [
              0.4444444444444444,
              "#bd3786"
             ],
             [
              0.5555555555555556,
              "#d8576b"
             ],
             [
              0.6666666666666666,
              "#ed7953"
             ],
             [
              0.7777777777777778,
              "#fb9f3a"
             ],
             [
              0.8888888888888888,
              "#fdca26"
             ],
             [
              1,
              "#f0f921"
             ]
            ],
            "type": "surface"
           }
          ],
          "table": [
           {
            "cells": {
             "fill": {
              "color": "#EBF0F8"
             },
             "line": {
              "color": "white"
             }
            },
            "header": {
             "fill": {
              "color": "#C8D4E3"
             },
             "line": {
              "color": "white"
             }
            },
            "type": "table"
           }
          ]
         },
         "layout": {
          "annotationdefaults": {
           "arrowcolor": "#2a3f5f",
           "arrowhead": 0,
           "arrowwidth": 1
          },
          "autotypenumbers": "strict",
          "coloraxis": {
           "colorbar": {
            "outlinewidth": 0,
            "ticks": ""
           }
          },
          "colorscale": {
           "diverging": [
            [
             0,
             "#8e0152"
            ],
            [
             0.1,
             "#c51b7d"
            ],
            [
             0.2,
             "#de77ae"
            ],
            [
             0.3,
             "#f1b6da"
            ],
            [
             0.4,
             "#fde0ef"
            ],
            [
             0.5,
             "#f7f7f7"
            ],
            [
             0.6,
             "#e6f5d0"
            ],
            [
             0.7,
             "#b8e186"
            ],
            [
             0.8,
             "#7fbc41"
            ],
            [
             0.9,
             "#4d9221"
            ],
            [
             1,
             "#276419"
            ]
           ],
           "sequential": [
            [
             0,
             "#0d0887"
            ],
            [
             0.1111111111111111,
             "#46039f"
            ],
            [
             0.2222222222222222,
             "#7201a8"
            ],
            [
             0.3333333333333333,
             "#9c179e"
            ],
            [
             0.4444444444444444,
             "#bd3786"
            ],
            [
             0.5555555555555556,
             "#d8576b"
            ],
            [
             0.6666666666666666,
             "#ed7953"
            ],
            [
             0.7777777777777778,
             "#fb9f3a"
            ],
            [
             0.8888888888888888,
             "#fdca26"
            ],
            [
             1,
             "#f0f921"
            ]
           ],
           "sequentialminus": [
            [
             0,
             "#0d0887"
            ],
            [
             0.1111111111111111,
             "#46039f"
            ],
            [
             0.2222222222222222,
             "#7201a8"
            ],
            [
             0.3333333333333333,
             "#9c179e"
            ],
            [
             0.4444444444444444,
             "#bd3786"
            ],
            [
             0.5555555555555556,
             "#d8576b"
            ],
            [
             0.6666666666666666,
             "#ed7953"
            ],
            [
             0.7777777777777778,
             "#fb9f3a"
            ],
            [
             0.8888888888888888,
             "#fdca26"
            ],
            [
             1,
             "#f0f921"
            ]
           ]
          },
          "colorway": [
           "#636efa",
           "#EF553B",
           "#00cc96",
           "#ab63fa",
           "#FFA15A",
           "#19d3f3",
           "#FF6692",
           "#B6E880",
           "#FF97FF",
           "#FECB52"
          ],
          "font": {
           "color": "#2a3f5f"
          },
          "geo": {
           "bgcolor": "white",
           "lakecolor": "white",
           "landcolor": "#E5ECF6",
           "showlakes": true,
           "showland": true,
           "subunitcolor": "white"
          },
          "hoverlabel": {
           "align": "left"
          },
          "hovermode": "closest",
          "mapbox": {
           "style": "light"
          },
          "paper_bgcolor": "white",
          "plot_bgcolor": "#E5ECF6",
          "polar": {
           "angularaxis": {
            "gridcolor": "white",
            "linecolor": "white",
            "ticks": ""
           },
           "bgcolor": "#E5ECF6",
           "radialaxis": {
            "gridcolor": "white",
            "linecolor": "white",
            "ticks": ""
           }
          },
          "scene": {
           "xaxis": {
            "backgroundcolor": "#E5ECF6",
            "gridcolor": "white",
            "gridwidth": 2,
            "linecolor": "white",
            "showbackground": true,
            "ticks": "",
            "zerolinecolor": "white"
           },
           "yaxis": {
            "backgroundcolor": "#E5ECF6",
            "gridcolor": "white",
            "gridwidth": 2,
            "linecolor": "white",
            "showbackground": true,
            "ticks": "",
            "zerolinecolor": "white"
           },
           "zaxis": {
            "backgroundcolor": "#E5ECF6",
            "gridcolor": "white",
            "gridwidth": 2,
            "linecolor": "white",
            "showbackground": true,
            "ticks": "",
            "zerolinecolor": "white"
           }
          },
          "shapedefaults": {
           "line": {
            "color": "#2a3f5f"
           }
          },
          "ternary": {
           "aaxis": {
            "gridcolor": "white",
            "linecolor": "white",
            "ticks": ""
           },
           "baxis": {
            "gridcolor": "white",
            "linecolor": "white",
            "ticks": ""
           },
           "bgcolor": "#E5ECF6",
           "caxis": {
            "gridcolor": "white",
            "linecolor": "white",
            "ticks": ""
           }
          },
          "title": {
           "x": 0.05
          },
          "xaxis": {
           "automargin": true,
           "gridcolor": "white",
           "linecolor": "white",
           "ticks": "",
           "title": {
            "standoff": 15
           },
           "zerolinecolor": "white",
           "zerolinewidth": 2
          },
          "yaxis": {
           "automargin": true,
           "gridcolor": "white",
           "linecolor": "white",
           "ticks": "",
           "title": {
            "standoff": 15
           },
           "zerolinecolor": "white",
           "zerolinewidth": 2
          }
         }
        },
        "title": {
         "text": "KDE Plot for Feature: Q"
        },
        "xaxis": {
         "anchor": "y2",
         "domain": [
          0,
          1
         ],
         "zeroline": false
        },
        "yaxis": {
         "anchor": "free",
         "domain": [
          0,
          1
         ],
         "position": 0
        }
       }
      }
     },
     "metadata": {},
     "output_type": "display_data"
    },
    {
     "data": {
      "application/vnd.plotly.v1+json": {
       "config": {
        "plotlyServerURL": "https://plot.ly"
       },
       "data": [
        {
         "legendgroup": "0",
         "marker": {
          "color": "rgb(31, 119, 180)"
         },
         "mode": "lines",
         "name": "0",
         "showlegend": true,
         "type": "scatter",
         "x": [
          0,
          0.078,
          0.156,
          0.234,
          0.312,
          0.39,
          0.468,
          0.546,
          0.624,
          0.702,
          0.78,
          0.858,
          0.936,
          1.014,
          1.092,
          1.17,
          1.248,
          1.326,
          1.404,
          1.482,
          1.56,
          1.638,
          1.716,
          1.794,
          1.872,
          1.95,
          2.028,
          2.106,
          2.184,
          2.262,
          2.34,
          2.418,
          2.496,
          2.574,
          2.652,
          2.73,
          2.808,
          2.886,
          2.964,
          3.042,
          3.12,
          3.198,
          3.276,
          3.354,
          3.432,
          3.51,
          3.588,
          3.666,
          3.744,
          3.822,
          3.9,
          3.978,
          4.056,
          4.134,
          4.212,
          4.29,
          4.368,
          4.446,
          4.524,
          4.602,
          4.68,
          4.758,
          4.836,
          4.914,
          4.992,
          5.07,
          5.148,
          5.226,
          5.304,
          5.382,
          5.46,
          5.538,
          5.616,
          5.694,
          5.772,
          5.85,
          5.928,
          6.006,
          6.084,
          6.162,
          6.24,
          6.318,
          6.396,
          6.474,
          6.552,
          6.63,
          6.708,
          6.786,
          6.864,
          6.942,
          7.02,
          7.098,
          7.176,
          7.254,
          7.332,
          7.41,
          7.488,
          7.566,
          7.644,
          7.722,
          7.8,
          7.878,
          7.956,
          8.034,
          8.112,
          8.19,
          8.268,
          8.346,
          8.424,
          8.502,
          8.58,
          8.658,
          8.736,
          8.814,
          8.892,
          8.97,
          9.048,
          9.126,
          9.204,
          9.282,
          9.36,
          9.438,
          9.516,
          9.594,
          9.672,
          9.75,
          9.828,
          9.906,
          9.984,
          10.062,
          10.14,
          10.218,
          10.296,
          10.374,
          10.452,
          10.53,
          10.608,
          10.686,
          10.764,
          10.842,
          10.92,
          10.998,
          11.076,
          11.154,
          11.232,
          11.31,
          11.388,
          11.466,
          11.544,
          11.622,
          11.7,
          11.778,
          11.856,
          11.934,
          12.012,
          12.09,
          12.168,
          12.246,
          12.324,
          12.402,
          12.48,
          12.558,
          12.636,
          12.714,
          12.792,
          12.87,
          12.948,
          13.026,
          13.104,
          13.182,
          13.26,
          13.338,
          13.416,
          13.494,
          13.572,
          13.65,
          13.728,
          13.806,
          13.884,
          13.962,
          14.04,
          14.118,
          14.196,
          14.274,
          14.352,
          14.43,
          14.508,
          14.586,
          14.664,
          14.742,
          14.82,
          14.898,
          14.976,
          15.054,
          15.132,
          15.21,
          15.288,
          15.366,
          15.444,
          15.522,
          15.6,
          15.678,
          15.756,
          15.834,
          15.912,
          15.99,
          16.068,
          16.146,
          16.224,
          16.302,
          16.38,
          16.458,
          16.536,
          16.614,
          16.692,
          16.77,
          16.848,
          16.926,
          17.004,
          17.082,
          17.16,
          17.238,
          17.316,
          17.394,
          17.472,
          17.55,
          17.628,
          17.706,
          17.784,
          17.862,
          17.94,
          18.018,
          18.096,
          18.174,
          18.252,
          18.33,
          18.408,
          18.486,
          18.564,
          18.642,
          18.72,
          18.798,
          18.876,
          18.954,
          19.032,
          19.11,
          19.188,
          19.266,
          19.344,
          19.422,
          19.5,
          19.578,
          19.656,
          19.734,
          19.812,
          19.89,
          19.968,
          20.046,
          20.124,
          20.202,
          20.28,
          20.358,
          20.436,
          20.514,
          20.592,
          20.67,
          20.748,
          20.826,
          20.904,
          20.982,
          21.06,
          21.138,
          21.216,
          21.294,
          21.372,
          21.45,
          21.528,
          21.606,
          21.684,
          21.762,
          21.84,
          21.918,
          21.996,
          22.074,
          22.152,
          22.23,
          22.308,
          22.386,
          22.464,
          22.542,
          22.62,
          22.698,
          22.776,
          22.854,
          22.932,
          23.01,
          23.088,
          23.166,
          23.244,
          23.322,
          23.4,
          23.478,
          23.556,
          23.634,
          23.712,
          23.79,
          23.868,
          23.946,
          24.024,
          24.102,
          24.18,
          24.258,
          24.336,
          24.414,
          24.492,
          24.57,
          24.648,
          24.726,
          24.804,
          24.882,
          24.96,
          25.038,
          25.116,
          25.194,
          25.272,
          25.35,
          25.428,
          25.506,
          25.584,
          25.662,
          25.74,
          25.818,
          25.896,
          25.974,
          26.052,
          26.13,
          26.208,
          26.286,
          26.364,
          26.442,
          26.52,
          26.598,
          26.676,
          26.754,
          26.832,
          26.91,
          26.988,
          27.066,
          27.144,
          27.222,
          27.3,
          27.378,
          27.456,
          27.534,
          27.612,
          27.69,
          27.768,
          27.846,
          27.924,
          28.002,
          28.08,
          28.158,
          28.236,
          28.314,
          28.392,
          28.47,
          28.548,
          28.626,
          28.704,
          28.782,
          28.86,
          28.938,
          29.016,
          29.094,
          29.172,
          29.25,
          29.328,
          29.406,
          29.484,
          29.562,
          29.64,
          29.718,
          29.796,
          29.874,
          29.952,
          30.03,
          30.108,
          30.186,
          30.264,
          30.342,
          30.42,
          30.498,
          30.576,
          30.654,
          30.732,
          30.81,
          30.888,
          30.966,
          31.044,
          31.122,
          31.2,
          31.278,
          31.356,
          31.434,
          31.512,
          31.59,
          31.668,
          31.746,
          31.824,
          31.902,
          31.98,
          32.058,
          32.136,
          32.214,
          32.292,
          32.37,
          32.448,
          32.526,
          32.604,
          32.682,
          32.76,
          32.838,
          32.916,
          32.994,
          33.072,
          33.15,
          33.228,
          33.306,
          33.384,
          33.462,
          33.54,
          33.618,
          33.696,
          33.774,
          33.852,
          33.93,
          34.008,
          34.086,
          34.164,
          34.242,
          34.32,
          34.398,
          34.476,
          34.554,
          34.632,
          34.71,
          34.788,
          34.866,
          34.944,
          35.022,
          35.1,
          35.178,
          35.256,
          35.334,
          35.412,
          35.49,
          35.568,
          35.646,
          35.724,
          35.802,
          35.88,
          35.958,
          36.036,
          36.114,
          36.192,
          36.27,
          36.348,
          36.426,
          36.504,
          36.582,
          36.66,
          36.738,
          36.816,
          36.894,
          36.972,
          37.05,
          37.128,
          37.206,
          37.284,
          37.362,
          37.44,
          37.518,
          37.596,
          37.674,
          37.752,
          37.83,
          37.908,
          37.986,
          38.064,
          38.142,
          38.22,
          38.298,
          38.376,
          38.454,
          38.532,
          38.61,
          38.688,
          38.766,
          38.844,
          38.922
         ],
         "xaxis": "x",
         "y": {
          "bdata": "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",
          "dtype": "f8"
         },
         "yaxis": "y"
        },
        {
         "legendgroup": "1",
         "marker": {
          "color": "rgb(255, 127, 14)"
         },
         "mode": "lines",
         "name": "1",
         "showlegend": true,
         "type": "scatter",
         "x": [
          0,
          0.108,
          0.216,
          0.324,
          0.432,
          0.54,
          0.648,
          0.756,
          0.864,
          0.972,
          1.08,
          1.188,
          1.296,
          1.404,
          1.512,
          1.62,
          1.728,
          1.836,
          1.944,
          2.052,
          2.16,
          2.268,
          2.376,
          2.484,
          2.592,
          2.7,
          2.808,
          2.916,
          3.024,
          3.132,
          3.24,
          3.348,
          3.456,
          3.564,
          3.672,
          3.78,
          3.888,
          3.996,
          4.104,
          4.212,
          4.32,
          4.428,
          4.536,
          4.644,
          4.752,
          4.86,
          4.968,
          5.076,
          5.184,
          5.292,
          5.4,
          5.508,
          5.616,
          5.724,
          5.832,
          5.94,
          6.048,
          6.156,
          6.264,
          6.372,
          6.48,
          6.588,
          6.696,
          6.804,
          6.912,
          7.02,
          7.128,
          7.236,
          7.344,
          7.452,
          7.56,
          7.668,
          7.776,
          7.884,
          7.992,
          8.1,
          8.208,
          8.316,
          8.424,
          8.532,
          8.64,
          8.748,
          8.856,
          8.964,
          9.072,
          9.18,
          9.288,
          9.396,
          9.504,
          9.612,
          9.72,
          9.828,
          9.936,
          10.044,
          10.152,
          10.26,
          10.368,
          10.476,
          10.584,
          10.692,
          10.8,
          10.908,
          11.016,
          11.124,
          11.232,
          11.34,
          11.448,
          11.556,
          11.664,
          11.772,
          11.88,
          11.988,
          12.096,
          12.204,
          12.312,
          12.42,
          12.528,
          12.636,
          12.744,
          12.852,
          12.96,
          13.068,
          13.176,
          13.284,
          13.392,
          13.5,
          13.608,
          13.716,
          13.824,
          13.932,
          14.04,
          14.148,
          14.256,
          14.364,
          14.472,
          14.58,
          14.688,
          14.796,
          14.904,
          15.012,
          15.12,
          15.228,
          15.336,
          15.444,
          15.552,
          15.66,
          15.768,
          15.876,
          15.984,
          16.092,
          16.2,
          16.308,
          16.416,
          16.524,
          16.632,
          16.74,
          16.848,
          16.956,
          17.064,
          17.172,
          17.28,
          17.388,
          17.496,
          17.604,
          17.712,
          17.82,
          17.928,
          18.036,
          18.144,
          18.252,
          18.36,
          18.468,
          18.576,
          18.684,
          18.792,
          18.9,
          19.008,
          19.116,
          19.224,
          19.332,
          19.44,
          19.548,
          19.656,
          19.764,
          19.872,
          19.98,
          20.088,
          20.196,
          20.304,
          20.412,
          20.52,
          20.628,
          20.736,
          20.844,
          20.952,
          21.06,
          21.168,
          21.276,
          21.384,
          21.492,
          21.6,
          21.708,
          21.816,
          21.924,
          22.032,
          22.14,
          22.248,
          22.356,
          22.464,
          22.572,
          22.68,
          22.788,
          22.896,
          23.004,
          23.112,
          23.22,
          23.328,
          23.436,
          23.544,
          23.652,
          23.76,
          23.868,
          23.976,
          24.084,
          24.192,
          24.3,
          24.408,
          24.516,
          24.624,
          24.732,
          24.84,
          24.948,
          25.056,
          25.164,
          25.272,
          25.38,
          25.488,
          25.596,
          25.704,
          25.812,
          25.92,
          26.028,
          26.136,
          26.244,
          26.352,
          26.46,
          26.568,
          26.676,
          26.784,
          26.892,
          27,
          27.108,
          27.216,
          27.324,
          27.432,
          27.54,
          27.648,
          27.756,
          27.864,
          27.972,
          28.08,
          28.188,
          28.296,
          28.404,
          28.512,
          28.62,
          28.728,
          28.836,
          28.944,
          29.052,
          29.16,
          29.268,
          29.376,
          29.484,
          29.592,
          29.7,
          29.808,
          29.916,
          30.024,
          30.132,
          30.24,
          30.348,
          30.456,
          30.564,
          30.672,
          30.78,
          30.888,
          30.996,
          31.104,
          31.212,
          31.32,
          31.428,
          31.536,
          31.644,
          31.752,
          31.86,
          31.968,
          32.076,
          32.184,
          32.292,
          32.4,
          32.508,
          32.616,
          32.724,
          32.832,
          32.94,
          33.048,
          33.156,
          33.264,
          33.372,
          33.48,
          33.588,
          33.696,
          33.804,
          33.912,
          34.02,
          34.128,
          34.236,
          34.344,
          34.452,
          34.56,
          34.668,
          34.776,
          34.884,
          34.992,
          35.1,
          35.208,
          35.316,
          35.424,
          35.532,
          35.64,
          35.748,
          35.856,
          35.964,
          36.072,
          36.18,
          36.288,
          36.396,
          36.504,
          36.612,
          36.72,
          36.828,
          36.936,
          37.044,
          37.152,
          37.26,
          37.368,
          37.476,
          37.584,
          37.692,
          37.8,
          37.908,
          38.016,
          38.124,
          38.232,
          38.34,
          38.448,
          38.556,
          38.664,
          38.772,
          38.88,
          38.988,
          39.096,
          39.204,
          39.312,
          39.42,
          39.528,
          39.636,
          39.744,
          39.852,
          39.96,
          40.068,
          40.176,
          40.284,
          40.392,
          40.5,
          40.608,
          40.716,
          40.824,
          40.932,
          41.04,
          41.148,
          41.256,
          41.364,
          41.472,
          41.58,
          41.688,
          41.796,
          41.904,
          42.012,
          42.12,
          42.228,
          42.336,
          42.444,
          42.552,
          42.66,
          42.768,
          42.876,
          42.984,
          43.092,
          43.2,
          43.308,
          43.416,
          43.524,
          43.632,
          43.74,
          43.848,
          43.956,
          44.064,
          44.172,
          44.28,
          44.388,
          44.496,
          44.604,
          44.712,
          44.82,
          44.928,
          45.036,
          45.144,
          45.252,
          45.36,
          45.468,
          45.576,
          45.684,
          45.792,
          45.9,
          46.008,
          46.116,
          46.224,
          46.332,
          46.44,
          46.548,
          46.656,
          46.764,
          46.872,
          46.98,
          47.088,
          47.196,
          47.304,
          47.412,
          47.52,
          47.628,
          47.736,
          47.844,
          47.952,
          48.06,
          48.168,
          48.276,
          48.384,
          48.492,
          48.6,
          48.708,
          48.816,
          48.924,
          49.032,
          49.14,
          49.248,
          49.356,
          49.464,
          49.572,
          49.68,
          49.788,
          49.896,
          50.004,
          50.112,
          50.22,
          50.328,
          50.436,
          50.544,
          50.652,
          50.76,
          50.868,
          50.976,
          51.084,
          51.192,
          51.3,
          51.408,
          51.516,
          51.624,
          51.732,
          51.84,
          51.948,
          52.056,
          52.164,
          52.272,
          52.38,
          52.488,
          52.596,
          52.704,
          52.812,
          52.92,
          53.028,
          53.136,
          53.244,
          53.352,
          53.46,
          53.568,
          53.676,
          53.784,
          53.892
         ],
         "xaxis": "x",
         "y": {
          "bdata": "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",
          "dtype": "f8"
         },
         "yaxis": "y"
        },
        {
         "legendgroup": "2",
         "marker": {
          "color": "rgb(44, 160, 44)"
         },
         "mode": "lines",
         "name": "2",
         "showlegend": true,
         "type": "scatter",
         "x": [
          0,
          0.086,
          0.172,
          0.258,
          0.344,
          0.43,
          0.516,
          0.602,
          0.688,
          0.774,
          0.86,
          0.946,
          1.032,
          1.118,
          1.204,
          1.29,
          1.376,
          1.462,
          1.548,
          1.634,
          1.72,
          1.806,
          1.892,
          1.978,
          2.064,
          2.15,
          2.236,
          2.322,
          2.408,
          2.494,
          2.58,
          2.666,
          2.752,
          2.838,
          2.924,
          3.01,
          3.096,
          3.182,
          3.268,
          3.354,
          3.44,
          3.526,
          3.612,
          3.698,
          3.784,
          3.87,
          3.956,
          4.042,
          4.128,
          4.214,
          4.3,
          4.386,
          4.472,
          4.558,
          4.644,
          4.73,
          4.816,
          4.902,
          4.988,
          5.074,
          5.16,
          5.246,
          5.332,
          5.418,
          5.504,
          5.59,
          5.676,
          5.762,
          5.848,
          5.934,
          6.02,
          6.106,
          6.192,
          6.278,
          6.364,
          6.45,
          6.536,
          6.622,
          6.708,
          6.794,
          6.88,
          6.966,
          7.052,
          7.138,
          7.224,
          7.31,
          7.396,
          7.482,
          7.568,
          7.654,
          7.74,
          7.826,
          7.912,
          7.998,
          8.084,
          8.17,
          8.256,
          8.342,
          8.428,
          8.514,
          8.6,
          8.686,
          8.772,
          8.858,
          8.944,
          9.03,
          9.116,
          9.202,
          9.288,
          9.374,
          9.46,
          9.546,
          9.632,
          9.718,
          9.804,
          9.89,
          9.976,
          10.062,
          10.148,
          10.234,
          10.32,
          10.406,
          10.492,
          10.578,
          10.664,
          10.75,
          10.836,
          10.922,
          11.008,
          11.094,
          11.18,
          11.266,
          11.352,
          11.438,
          11.524,
          11.61,
          11.696,
          11.782,
          11.868,
          11.954,
          12.04,
          12.126,
          12.212,
          12.298,
          12.384,
          12.47,
          12.556,
          12.642,
          12.728,
          12.814,
          12.9,
          12.986,
          13.072,
          13.158,
          13.244,
          13.33,
          13.416,
          13.502,
          13.588,
          13.674,
          13.76,
          13.846,
          13.932,
          14.018,
          14.104,
          14.19,
          14.276,
          14.362,
          14.448,
          14.534,
          14.62,
          14.706,
          14.792,
          14.878,
          14.964,
          15.05,
          15.136,
          15.222,
          15.308,
          15.394,
          15.48,
          15.566,
          15.652,
          15.738,
          15.824,
          15.91,
          15.996,
          16.082,
          16.168,
          16.254,
          16.34,
          16.426,
          16.512,
          16.598,
          16.684,
          16.77,
          16.856,
          16.942,
          17.028,
          17.114,
          17.2,
          17.286,
          17.372,
          17.458,
          17.544,
          17.63,
          17.716,
          17.802,
          17.888,
          17.974,
          18.06,
          18.146,
          18.232,
          18.318,
          18.404,
          18.49,
          18.576,
          18.662,
          18.748,
          18.834,
          18.92,
          19.006,
          19.092,
          19.178,
          19.264,
          19.35,
          19.436,
          19.522,
          19.608,
          19.694,
          19.78,
          19.866,
          19.952,
          20.038,
          20.124,
          20.21,
          20.296,
          20.382,
          20.468,
          20.554,
          20.64,
          20.726,
          20.812,
          20.898,
          20.984,
          21.07,
          21.156,
          21.242,
          21.328,
          21.414,
          21.5,
          21.586,
          21.672,
          21.758,
          21.844,
          21.93,
          22.016,
          22.102,
          22.188,
          22.274,
          22.36,
          22.446,
          22.532,
          22.618,
          22.704,
          22.79,
          22.876,
          22.962,
          23.048,
          23.134,
          23.22,
          23.306,
          23.392,
          23.478,
          23.564,
          23.65,
          23.736,
          23.822,
          23.908,
          23.994,
          24.08,
          24.166,
          24.252,
          24.338,
          24.424,
          24.51,
          24.596,
          24.682,
          24.768,
          24.854,
          24.94,
          25.026,
          25.112,
          25.198,
          25.284,
          25.37,
          25.456,
          25.542,
          25.628,
          25.714,
          25.8,
          25.886,
          25.972,
          26.058,
          26.144,
          26.23,
          26.316,
          26.402,
          26.488,
          26.574,
          26.66,
          26.746,
          26.832,
          26.918,
          27.004,
          27.09,
          27.176,
          27.262,
          27.348,
          27.434,
          27.52,
          27.606,
          27.692,
          27.778,
          27.864,
          27.95,
          28.036,
          28.122,
          28.208,
          28.294,
          28.38,
          28.466,
          28.552,
          28.638,
          28.724,
          28.81,
          28.896,
          28.982,
          29.068,
          29.154,
          29.24,
          29.326,
          29.412,
          29.498,
          29.584,
          29.67,
          29.756,
          29.842,
          29.928,
          30.014,
          30.1,
          30.186,
          30.272,
          30.358,
          30.444,
          30.53,
          30.616,
          30.702,
          30.788,
          30.874,
          30.96,
          31.046,
          31.132,
          31.218,
          31.304,
          31.39,
          31.476,
          31.562,
          31.648,
          31.734,
          31.82,
          31.906,
          31.992,
          32.078,
          32.164,
          32.25,
          32.336,
          32.422,
          32.508,
          32.594,
          32.68,
          32.766,
          32.852,
          32.938,
          33.024,
          33.11,
          33.196,
          33.282,
          33.368,
          33.454,
          33.54,
          33.626,
          33.712,
          33.798,
          33.884,
          33.97,
          34.056,
          34.142,
          34.228,
          34.314,
          34.4,
          34.486,
          34.572,
          34.658,
          34.744,
          34.83,
          34.916,
          35.002,
          35.088,
          35.174,
          35.26,
          35.346,
          35.432,
          35.518,
          35.604,
          35.69,
          35.776,
          35.862,
          35.948,
          36.034,
          36.12,
          36.206,
          36.292,
          36.378,
          36.464,
          36.55,
          36.636,
          36.722,
          36.808,
          36.894,
          36.98,
          37.066,
          37.152,
          37.238,
          37.324,
          37.41,
          37.496,
          37.582,
          37.668,
          37.754,
          37.84,
          37.926,
          38.012,
          38.098,
          38.184,
          38.27,
          38.356,
          38.442,
          38.528,
          38.614,
          38.7,
          38.786,
          38.872,
          38.958,
          39.044,
          39.13,
          39.216,
          39.302,
          39.388,
          39.474,
          39.56,
          39.646,
          39.732,
          39.818,
          39.904,
          39.99,
          40.076,
          40.162,
          40.248,
          40.334,
          40.42,
          40.506,
          40.592,
          40.678,
          40.764,
          40.85,
          40.936,
          41.022,
          41.108,
          41.194,
          41.28,
          41.366,
          41.452,
          41.538,
          41.624,
          41.71,
          41.796,
          41.882,
          41.968,
          42.054,
          42.14,
          42.226,
          42.312,
          42.398,
          42.484,
          42.57,
          42.656,
          42.742,
          42.828,
          42.914
         ],
         "xaxis": "x",
         "y": {
          "bdata": "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",
          "dtype": "f8"
         },
         "yaxis": "y"
        },
        {
         "legendgroup": "3",
         "marker": {
          "color": "rgb(214, 39, 40)"
         },
         "mode": "lines",
         "name": "3",
         "showlegend": true,
         "type": "scatter",
         "x": [
          0,
          0.088,
          0.176,
          0.264,
          0.352,
          0.44,
          0.528,
          0.616,
          0.704,
          0.792,
          0.88,
          0.968,
          1.056,
          1.144,
          1.232,
          1.32,
          1.408,
          1.496,
          1.584,
          1.672,
          1.76,
          1.848,
          1.936,
          2.024,
          2.112,
          2.2,
          2.288,
          2.376,
          2.464,
          2.552,
          2.64,
          2.728,
          2.816,
          2.904,
          2.992,
          3.08,
          3.168,
          3.256,
          3.344,
          3.432,
          3.52,
          3.608,
          3.696,
          3.784,
          3.872,
          3.96,
          4.048,
          4.136,
          4.224,
          4.312,
          4.4,
          4.488,
          4.576,
          4.664,
          4.752,
          4.84,
          4.928,
          5.016,
          5.104,
          5.192,
          5.28,
          5.368,
          5.456,
          5.544,
          5.632,
          5.72,
          5.808,
          5.896,
          5.984,
          6.072,
          6.16,
          6.248,
          6.336,
          6.424,
          6.512,
          6.6,
          6.688,
          6.776,
          6.864,
          6.952,
          7.04,
          7.128,
          7.216,
          7.304,
          7.392,
          7.48,
          7.568,
          7.656,
          7.744,
          7.832,
          7.92,
          8.008,
          8.096,
          8.184,
          8.272,
          8.36,
          8.448,
          8.536,
          8.624,
          8.712,
          8.8,
          8.888,
          8.976,
          9.064,
          9.152,
          9.24,
          9.328,
          9.416,
          9.504,
          9.592,
          9.68,
          9.768,
          9.856,
          9.944,
          10.032,
          10.12,
          10.208,
          10.296,
          10.384,
          10.472,
          10.56,
          10.648,
          10.736,
          10.824,
          10.912,
          11,
          11.088,
          11.176,
          11.264,
          11.352,
          11.44,
          11.528,
          11.616,
          11.704,
          11.792,
          11.88,
          11.968,
          12.056,
          12.144,
          12.232,
          12.32,
          12.408,
          12.496,
          12.584,
          12.672,
          12.76,
          12.848,
          12.936,
          13.024,
          13.112,
          13.2,
          13.288,
          13.376,
          13.464,
          13.552,
          13.64,
          13.728,
          13.816,
          13.904,
          13.992,
          14.08,
          14.168,
          14.256,
          14.344,
          14.432,
          14.52,
          14.608,
          14.696,
          14.784,
          14.872,
          14.96,
          15.048,
          15.136,
          15.224,
          15.312,
          15.4,
          15.488,
          15.576,
          15.664,
          15.752,
          15.84,
          15.928,
          16.016,
          16.104,
          16.192,
          16.28,
          16.368,
          16.456,
          16.544,
          16.632,
          16.72,
          16.808,
          16.896,
          16.984,
          17.072,
          17.16,
          17.248,
          17.336,
          17.424,
          17.512,
          17.6,
          17.688,
          17.776,
          17.864,
          17.952,
          18.04,
          18.128,
          18.216,
          18.304,
          18.392,
          18.48,
          18.568,
          18.656,
          18.744,
          18.832,
          18.92,
          19.008,
          19.096,
          19.184,
          19.272,
          19.36,
          19.448,
          19.536,
          19.624,
          19.712,
          19.8,
          19.888,
          19.976,
          20.064,
          20.152,
          20.24,
          20.328,
          20.416,
          20.504,
          20.592,
          20.68,
          20.768,
          20.856,
          20.944,
          21.032,
          21.12,
          21.208,
          21.296,
          21.384,
          21.472,
          21.56,
          21.648,
          21.736,
          21.824,
          21.912,
          22,
          22.088,
          22.176,
          22.264,
          22.352,
          22.44,
          22.528,
          22.616,
          22.704,
          22.792,
          22.88,
          22.968,
          23.056,
          23.144,
          23.232,
          23.32,
          23.408,
          23.496,
          23.584,
          23.672,
          23.76,
          23.848,
          23.936,
          24.024,
          24.112,
          24.2,
          24.288,
          24.376,
          24.464,
          24.552,
          24.64,
          24.728,
          24.816,
          24.904,
          24.992,
          25.08,
          25.168,
          25.256,
          25.344,
          25.432,
          25.52,
          25.608,
          25.696,
          25.784,
          25.872,
          25.96,
          26.048,
          26.136,
          26.224,
          26.312,
          26.4,
          26.488,
          26.576,
          26.664,
          26.752,
          26.84,
          26.928,
          27.016,
          27.104,
          27.192,
          27.28,
          27.368,
          27.456,
          27.544,
          27.632,
          27.72,
          27.808,
          27.896,
          27.984,
          28.072,
          28.16,
          28.248,
          28.336,
          28.424,
          28.512,
          28.6,
          28.688,
          28.776,
          28.864,
          28.952,
          29.04,
          29.128,
          29.216,
          29.304,
          29.392,
          29.48,
          29.568,
          29.656,
          29.744,
          29.832,
          29.92,
          30.008,
          30.096,
          30.184,
          30.272,
          30.36,
          30.448,
          30.536,
          30.624,
          30.712,
          30.8,
          30.888,
          30.976,
          31.064,
          31.152,
          31.24,
          31.328,
          31.416,
          31.504,
          31.592,
          31.68,
          31.768,
          31.856,
          31.944,
          32.032,
          32.12,
          32.208,
          32.296,
          32.384,
          32.472,
          32.56,
          32.648,
          32.736,
          32.824,
          32.912,
          33,
          33.088,
          33.176,
          33.264,
          33.352,
          33.44,
          33.528,
          33.616,
          33.704,
          33.792,
          33.88,
          33.968,
          34.056,
          34.144,
          34.232,
          34.32,
          34.408,
          34.496,
          34.584,
          34.672,
          34.76,
          34.848,
          34.936,
          35.024,
          35.112,
          35.2,
          35.288,
          35.376,
          35.464,
          35.552,
          35.64,
          35.728,
          35.816,
          35.904,
          35.992,
          36.08,
          36.168,
          36.256,
          36.344,
          36.432,
          36.52,
          36.608,
          36.696,
          36.784,
          36.872,
          36.96,
          37.048,
          37.136,
          37.224,
          37.312,
          37.4,
          37.488,
          37.576,
          37.664,
          37.752,
          37.84,
          37.928,
          38.016,
          38.104,
          38.192,
          38.28,
          38.368,
          38.456,
          38.544,
          38.632,
          38.72,
          38.808,
          38.896,
          38.984,
          39.072,
          39.16,
          39.248,
          39.336,
          39.424,
          39.512,
          39.6,
          39.688,
          39.776,
          39.864,
          39.952,
          40.04,
          40.128,
          40.216,
          40.304,
          40.392,
          40.48,
          40.568,
          40.656,
          40.744,
          40.832,
          40.92,
          41.008,
          41.096,
          41.184,
          41.272,
          41.36,
          41.448,
          41.536,
          41.624,
          41.712,
          41.8,
          41.888,
          41.976,
          42.064,
          42.152,
          42.24,
          42.328,
          42.416,
          42.504,
          42.592,
          42.68,
          42.768,
          42.856,
          42.944,
          43.032,
          43.12,
          43.208,
          43.296,
          43.384,
          43.472,
          43.56,
          43.648,
          43.736,
          43.824,
          43.912
         ],
         "xaxis": "x",
         "y": {
          "bdata": "Xd1zktA9sD/8ijlylouwP02Ibo/j0rA/nt8hMXoTsT/OkpiOKE2xP8la8DXJf7E/0JhzTEOrsT9lJKOnis+xP8Lvnb6f7LE/kgw0dI8Csj+50pa6chGyPwkdOBJuGbI/88cC5rAasj+Yk6THdBWyP00jIo/8CbI/75ReYZP4sT9/OJ+hi+GxPx58X9I9xbE/ea3/aQeksT/Jh/qfSX6xPxl8WDdoVLE/dzkNS8gmsT8M7csgz/WwPxC0qgbhwbA/yrWmP2CLsD8MMsICrFKwP/HSDpAfGLA/0B0FvSK4rz9Epe7JpD2vP0RDYABbwa4/DGdn7s1Drj9zToA9eMWtPwLiHjjGRq0/Uj03jRXIrD8lCh5QtUmsP3XEIzLmy6s/0B1s8tpOqz/eYrn/uNKqP4klNUeZV6o/oX2tKondqT8c2EuYi2SpPzBudz2a7Kg/FSVjzqZ1qD+SN7RbnP+nPwcWvK9giqc/gYLqrNUVpz/FWWOn2qGmP9NDA7RNLqY/QNiU5wy7pT/FFYGB90elPz1i3/3u1KQ/HeJuC9hhpD8tq7Bim+6jPyoDDXwme6M/QZOhI2wHoz+7SgfqZJOiPxcTCnIPH6I/e2Tum3CqoT+QXXePkzWhP3wqaKaJwKA/KbazOWpLoD/nQ+inpKyfP/tZLpjIwp4/oy7alo7ZnT8YzOiETfGcPxzLrJ9jCpw/qJweOjUlmz/Pr2RoK0KaPzDZPqSyYZk/QyyucDmEmD9ic8cCL6qXPyuYHvUB1JY/rhipCh8Clj9/nVkF8DSVPxAyE5TabJQ/Jx7sWj+qkz+hkhIYee2SP1RGBOfbNpI/z9Ewo7SGkT8kqI9qSN2QPxWfMEDUOpA/cGeznBk/jz9m2MCOPBeOP/izL8hY/ow/QpbN/KT0iz9fTcaMR/qKP2l2TCBXD4o/zgjjcNsziT8IhlI8zmeIP0uFQl0cq4c/sfBqBaf9hj/QQFUVRV+GPxdWr43Ez4U/Cfk9FuxOhT9hHYeWfNyEPz/SUtwyeIQ/OaEiTMkhhD+CeriX+diDP70muHZ+nYM/uthYXRVvgz+iV/8sgE2DP9RTeNqGOIM/105lBfkvgz97Mkl8rzODP+Mhf6iNQ4M/42ZI3YJfgz/y2wmFi4eDP9JcySeyu4M/PzYCRhD8gz/OVAEDz0iEPxMJKJonooQ/tFu5mmMIhT9s/zPm3HuFP4hZsm39/IU/mflbqz6Mhj9F+p7VKCqHP5urrMpR14c/rR+Qs1uUiD+35yVf82GJP3FXP1bOQIo/nG1Mq6gxiz8VhAOJQjWMP7kEoIRdTI0/UbBzubl3jj9TXKW0EriPP3iRhhwOh5A/1uIRcj89kT8sWvZe6v6RP75HTN9SzJI/y5GqKrKlkz+M8Cj+NIuUP90KNPP5fJU/gWmI6Q97lj/VeK2KdIWXP+RhNO0SnJg/KCHNXcK+mT+tXvhTRe2aP3BFs5dIJ5w/h3X3nGJsnT/ViksZE7yePwDldGvhCqA/t1sb5GG8oD+uorCuKHKhP/Esi47IK6I/phQbwMnooj+FwLqHqqijPwOgZ+DfaqQ/N67SSNYupT+wibms8vOlPwOMAGiTuaY/lyuWYBF/pz/0fsMzwUOoP74bNnP0Bqk/PzrI7frHqT9uTNX/I4aqP/euxea/QKs/MhxsEyH3qz8H/dN2naisP6RJOMWPVK0/BQ4Iq1j6rT8LcR3wX5muP8lunoUVMa8/v+Vge/LArz82EQ7tPCSwP/zVFrCcY7A/LVueD2WesD9KxMh8aNSwP70YQn9/BbE/LT750ogxsT8jVJt1aVixP8XCTaQMerE/M+5hymOWsT8zt/RhZq2xPwynm8cRv7E/Oh5qAmnLsT9geriBdNKxP1g9LtJB1LE/shqeS+PQsT8mFki5b8ixP6NZEv4Bu7E/T+89triosT/S+QnYtZGxP1iknlQedrE/ss16uhlWsT9ndXza0TGxP0UydnByCbE/Ngcc0CjdsD+LaOmWI62wP377eWOSebA/mFenkqVCsD8AfZkCjgiwPysWq7f5lq8/osFvwEYXrz9vi1h/ZZKuP8vBwOS3CK4/Gls1MJ96rT9mnqS4e+isP0ncNL2sUqw/6YjbPZC5qz9p48jagh2rP3gGvbnffqo/x/ZgcADeqT+qscfyPDupPz2VR4Xrlqg/b+nqsGDxpz8Lp8U570qnP4xijhboo6Y/2bbnaJr8pT9LjdZ1U1WlP1qR751erqQ/Dv/SVAUIpD/RF5oXj2KjPxWX5GFBvqI/zDE/oV8boj+OZqYmK3qhPxV58xXj2qA/6FgMU8Q9oD8xLHbZEkafPyGePArVFZ4/bAVlbzrrnD9GVAf6qMabP/DsTxiBqJo/KMFtdB2RmT9rEQew0oCYP6WA6xzvd5c/b5fjc7p2lj/r3qaKdX2VP7LRKApajJQ/WwmRJpqjkz/EyVJaYMOSP2LT8SXP65E/MFoV1gAdkT+XoZRRB1eQP6XwU+LXM48/653hxF7LjT/khoAvk3SMP3skrYxTL4s/KBVD6Gz7iT8f3Xwsm9iIP1yXIIKJxoc/bU0Q1dLEhj+Ttt99AtOFP5ylcBCV8IQ/4MXvTvkchD+Hqd8/kVeDP/XvNGWzn4I/08XeEaz0gT+MaXjavlWBPyofTR0owoA/gxZVnR45gD8srMJWqnN/P0uVpbD4hn4//y/sVYiqfT8oROynu9x8P9AclLT6G3w/CJgkdbZmez943AToa7t6P/bZdPumGHo/YhagPwV9eT9aqHxXOOd4P3a/9SAIVng/4i8YjlTIdz93z0kqFz13P0yQ/Edks3Y/ykTC1Gsqdj++px/TeaF1P1A583r2F3U/1YCvAmaNdD+TRgEVaAF0P2+4ufe2c3M/x5r0aSbkcj9kvG5AolJyP7eV08csv3E/WLxw9dwpcT9LyDZv3JJwP3RodOjK9G8/3BEFXoHBbj+Apsn1hYxtPyjG00qWVmw/iIK4aH8gaz+DeSJxGetpP2DdsGlDt2g/wP50P9+FZz9tHbELzldmP8aYraPsLWU/kmWYexAJZD/BznniBOpiP4AnYpuI0WE/mGca1kvAYD9gybgP3W1fP3ul4EX+a10/D2sUVfN7Wz8dGNE9jp5ZP8OWFHl61Fc/+3KuED0eVj82XZpDNXxUP2HlW6ed7lI/1TyIto11UT98Dz68+xBQP7rCbRh+gU0/e1m07iQJSz8Cu3zaLbhIP2KzjnesjUY/lTITvouIRD8KIXWpk6dCP40mcs9u6UA/w7c+pl+ZPj/1WNxErZ87P3BuGt+q4jg/bzqPtCpfNj/C/muA9RE0P/kVRVrS9zE/mbPHzo0NMD+IJYVYAKAsP4vGowUmeCk/f8zitoudJj93B1pYZAokP8/rQSQduSE/1Tflb8VIHz9YY6nESY4bP0it3YwyORg/vVFS3HlAFT++5C3UqZsSP8iBWzbcQhA/84hwC3FdDD/vUCDU4bAIP62Ezhh8cwU/OW7EObSZAj8WYg5g9hgAP0UvqnQ0z/s+EnEeD6z59z6wGIllYqH0Pu3YxXXtt/E+lvaJZp5g7j4suypTtf3pPoaUtnczMuY+HfHcd2fr4j4T2Q4PqhjgPvWIBjtfVts+iVkkdbgr1z4dWTfbNJrTPupnGT9pjdA+BNajKMXmyz7LF719x3jHPvvzKWpRtcM+S/+Hkl2EwD6Zl6WSB6K7Plr3TdQ5Erc+g6H4It85sz5v6amClPuvPr16eukZjao+EMX7i///pT55CSvJrTGiPi5LjzoMCZ4+gPGxqXW+mD4ioFItdViUPkjSpqtbspA+kPz0cRFaiz4NpkQCRVyGPuqhutPOPoI+Yb4pVFq4fT4BmsGosil4PtgiYjXKnHM+/6AYKd/Kbz4N3VlXnL1pPho32qyh1GQ+mVg+E1/dYD5h0LPhilxbPuxAA+HfSlY+LVHLGhBPUj5S/Q6Od3tOPi4J37m96kk+sPF78Gm6Rj7KAfKo2MhEPjO5wEdHA0Q+RFcGNmFlRD4y1mdEXvlFPpn6kIi22Eg+TdzBX3QtTT6G28D/GJpRPi7a14lqn1U+BODbNRDcWj7LVjdvDspgPlNMpAaSDmU+27Ihw9Vwaj68GR1GVplwPiIHUMZ+0nQ+Q9j7smMVej7Z0P2pLU+APgvLubBZW4Q+X3hJ9plbiT4wEN/PiYWPPiKA3YTbjJM+8X8ButMymD7ZwyWYGeOdPhrCt8uPaqI+4/OlGHmlpj7G6iJThMmrPmaBB5OWArE+M8vTEbDHtD43QTsEa1S5PvJvaebOzr4++9Hdhraxwj5nSjK5LaPGPjTJtPUmWss+aGOzD/R80D4XYT7WqNXTPirQK/jPztc+tkNiC6CD3D5z83FsrgnhPo8tgmPrUOQ+Gd/9kfor6D5sJeu0JbLsPqQ9QVru/vA+IVO3hIUW9D7n3CsYubD3PkbPmmOE4Ps+kU4dcpddAD+gbfzKPywDPzQmUMF4aQY/YDKFgPQjCj+4cLx89GsOP6fyk9mxqRE/nGVRCvh2FD/J1k1LkagXP0pHLas6Shs/P/1ulbNoHz8zAZf84ggiP48LljYmqiQ/VDQs9RqgJz/z/mJYQ/MqP7q4jPOqrC4/of2I4PFqMT/Ag32AgLwzPy1P3uRHUDY/oUF3isYrOT8k9IaKrFQ8P2GcMtPT0D8/TVLvbBvTQT9vEuvbcu1DP4SVTdN8OkY/D+aAa0O9SD+Fm2lSxnhLP9j+DBjyb04/YxtVW8vSUD8Sd6GxLo5SP/1yF9xea1Q/ebQRKHlrVj/J8H52do9YP36AQyUl2Fo/6yYX4SJGXT+2c6d01tlfP1Fz8dW0SWE/FOgXsmG5Yj9LmvHxwDtkP+S2P8p60GU/z0IEHg53Zz9IbwNpzi5pP62aSQbi9mo/EX174EDObD/X5ACZs7NuP+b3CpnpUnA/wiY9o4RRcT8oqelryFRyPxDSc927W3M/zetTU1BldD/Z4EL0YnB1Pwki+16+e3Y/2TkVqByGdz9gIBGmKY54P56RIYeFknk/5SvUqseRej+wbEC4gYp7P6osCehCe3w/L6Y4eJtifT/red4+ID9+P3aOYU9uD38/MQW0pS7Sfz+PAwblDEOAPxsHu6/9lIA/PgrEx1regD9rodkioh6BP730lRZgVYE/4X+OsjCCgT/qOu3vwKSBP/stgLHPvIE/YS3vjy7KgT+AKJhuwsyBP+3NdtaDxIE/g6JvFX+xgT+i3lMh1JOBP7UY9T62a4E/W1+gbms5gT9iaFKgS/2AP5uC5LK/t4A/depOQkBpgD8QXeRJVBKAP0pZMEAfZ38/UmfgoyKbfj+TRGjJA8J9Pw==",
          "dtype": "f8"
         },
         "yaxis": "y"
        }
       ],
       "layout": {
        "barmode": "overlay",
        "hovermode": "closest",
        "legend": {
         "traceorder": "reversed"
        },
        "template": {
         "data": {
          "bar": [
           {
            "error_x": {
             "color": "#2a3f5f"
            },
            "error_y": {
             "color": "#2a3f5f"
            },
            "marker": {
             "line": {
              "color": "#E5ECF6",
              "width": 0.5
             },
             "pattern": {
              "fillmode": "overlay",
              "size": 10,
              "solidity": 0.2
             }
            },
            "type": "bar"
           }
          ],
          "barpolar": [
           {
            "marker": {
             "line": {
              "color": "#E5ECF6",
              "width": 0.5
             },
             "pattern": {
              "fillmode": "overlay",
              "size": 10,
              "solidity": 0.2
             }
            },
            "type": "barpolar"
           }
          ],
          "carpet": [
           {
            "aaxis": {
             "endlinecolor": "#2a3f5f",
             "gridcolor": "white",
             "linecolor": "white",
             "minorgridcolor": "white",
             "startlinecolor": "#2a3f5f"
            },
            "baxis": {
             "endlinecolor": "#2a3f5f",
             "gridcolor": "white",
             "linecolor": "white",
             "minorgridcolor": "white",
             "startlinecolor": "#2a3f5f"
            },
            "type": "carpet"
           }
          ],
          "choropleth": [
           {
            "colorbar": {
             "outlinewidth": 0,
             "ticks": ""
            },
            "type": "choropleth"
           }
          ],
          "contour": [
           {
            "colorbar": {
             "outlinewidth": 0,
             "ticks": ""
            },
            "colorscale": [
             [
              0,
              "#0d0887"
             ],
             [
              0.1111111111111111,
              "#46039f"
             ],
             [
              0.2222222222222222,
              "#7201a8"
             ],
             [
              0.3333333333333333,
              "#9c179e"
             ],
             [
              0.4444444444444444,
              "#bd3786"
             ],
             [
              0.5555555555555556,
              "#d8576b"
             ],
             [
              0.6666666666666666,
              "#ed7953"
             ],
             [
              0.7777777777777778,
              "#fb9f3a"
             ],
             [
              0.8888888888888888,
              "#fdca26"
             ],
             [
              1,
              "#f0f921"
             ]
            ],
            "type": "contour"
           }
          ],
          "contourcarpet": [
           {
            "colorbar": {
             "outlinewidth": 0,
             "ticks": ""
            },
            "type": "contourcarpet"
           }
          ],
          "heatmap": [
           {
            "colorbar": {
             "outlinewidth": 0,
             "ticks": ""
            },
            "colorscale": [
             [
              0,
              "#0d0887"
             ],
             [
              0.1111111111111111,
              "#46039f"
             ],
             [
              0.2222222222222222,
              "#7201a8"
             ],
             [
              0.3333333333333333,
              "#9c179e"
             ],
             [
              0.4444444444444444,
              "#bd3786"
             ],
             [
              0.5555555555555556,
              "#d8576b"
             ],
             [
              0.6666666666666666,
              "#ed7953"
             ],
             [
              0.7777777777777778,
              "#fb9f3a"
             ],
             [
              0.8888888888888888,
              "#fdca26"
             ],
             [
              1,
              "#f0f921"
             ]
            ],
            "type": "heatmap"
           }
          ],
          "histogram": [
           {
            "marker": {
             "pattern": {
              "fillmode": "overlay",
              "size": 10,
              "solidity": 0.2
             }
            },
            "type": "histogram"
           }
          ],
          "histogram2d": [
           {
            "colorbar": {
             "outlinewidth": 0,
             "ticks": ""
            },
            "colorscale": [
             [
              0,
              "#0d0887"
             ],
             [
              0.1111111111111111,
              "#46039f"
             ],
             [
              0.2222222222222222,
              "#7201a8"
             ],
             [
              0.3333333333333333,
              "#9c179e"
             ],
             [
              0.4444444444444444,
              "#bd3786"
             ],
             [
              0.5555555555555556,
              "#d8576b"
             ],
             [
              0.6666666666666666,
              "#ed7953"
             ],
             [
              0.7777777777777778,
              "#fb9f3a"
             ],
             [
              0.8888888888888888,
              "#fdca26"
             ],
             [
              1,
              "#f0f921"
             ]
            ],
            "type": "histogram2d"
           }
          ],
          "histogram2dcontour": [
           {
            "colorbar": {
             "outlinewidth": 0,
             "ticks": ""
            },
            "colorscale": [
             [
              0,
              "#0d0887"
             ],
             [
              0.1111111111111111,
              "#46039f"
             ],
             [
              0.2222222222222222,
              "#7201a8"
             ],
             [
              0.3333333333333333,
              "#9c179e"
             ],
             [
              0.4444444444444444,
              "#bd3786"
             ],
             [
              0.5555555555555556,
              "#d8576b"
             ],
             [
              0.6666666666666666,
              "#ed7953"
             ],
             [
              0.7777777777777778,
              "#fb9f3a"
             ],
             [
              0.8888888888888888,
              "#fdca26"
             ],
             [
              1,
              "#f0f921"
             ]
            ],
            "type": "histogram2dcontour"
           }
          ],
          "mesh3d": [
           {
            "colorbar": {
             "outlinewidth": 0,
             "ticks": ""
            },
            "type": "mesh3d"
           }
          ],
          "parcoords": [
           {
            "line": {
             "colorbar": {
              "outlinewidth": 0,
              "ticks": ""
             }
            },
            "type": "parcoords"
           }
          ],
          "pie": [
           {
            "automargin": true,
            "type": "pie"
           }
          ],
          "scatter": [
           {
            "fillpattern": {
             "fillmode": "overlay",
             "size": 10,
             "solidity": 0.2
            },
            "type": "scatter"
           }
          ],
          "scatter3d": [
           {
            "line": {
             "colorbar": {
              "outlinewidth": 0,
              "ticks": ""
             }
            },
            "marker": {
             "colorbar": {
              "outlinewidth": 0,
              "ticks": ""
             }
            },
            "type": "scatter3d"
           }
          ],
          "scattercarpet": [
           {
            "marker": {
             "colorbar": {
              "outlinewidth": 0,
              "ticks": ""
             }
            },
            "type": "scattercarpet"
           }
          ],
          "scattergeo": [
           {
            "marker": {
             "colorbar": {
              "outlinewidth": 0,
              "ticks": ""
             }
            },
            "type": "scattergeo"
           }
          ],
          "scattergl": [
           {
            "marker": {
             "colorbar": {
              "outlinewidth": 0,
              "ticks": ""
             }
            },
            "type": "scattergl"
           }
          ],
          "scattermap": [
           {
            "marker": {
             "colorbar": {
              "outlinewidth": 0,
              "ticks": ""
             }
            },
            "type": "scattermap"
           }
          ],
          "scattermapbox": [
           {
            "marker": {
             "colorbar": {
              "outlinewidth": 0,
              "ticks": ""
             }
            },
            "type": "scattermapbox"
           }
          ],
          "scatterpolar": [
           {
            "marker": {
             "colorbar": {
              "outlinewidth": 0,
              "ticks": ""
             }
            },
            "type": "scatterpolar"
           }
          ],
          "scatterpolargl": [
           {
            "marker": {
             "colorbar": {
              "outlinewidth": 0,
              "ticks": ""
             }
            },
            "type": "scatterpolargl"
           }
          ],
          "scatterternary": [
           {
            "marker": {
             "colorbar": {
              "outlinewidth": 0,
              "ticks": ""
             }
            },
            "type": "scatterternary"
           }
          ],
          "surface": [
           {
            "colorbar": {
             "outlinewidth": 0,
             "ticks": ""
            },
            "colorscale": [
             [
              0,
              "#0d0887"
             ],
             [
              0.1111111111111111,
              "#46039f"
             ],
             [
              0.2222222222222222,
              "#7201a8"
             ],
             [
              0.3333333333333333,
              "#9c179e"
             ],
             [
              0.4444444444444444,
              "#bd3786"
             ],
             [
              0.5555555555555556,
              "#d8576b"
             ],
             [
              0.6666666666666666,
              "#ed7953"
             ],
             [
              0.7777777777777778,
              "#fb9f3a"
             ],
             [
              0.8888888888888888,
              "#fdca26"
             ],
             [
              1,
              "#f0f921"
             ]
            ],
            "type": "surface"
           }
          ],
          "table": [
           {
            "cells": {
             "fill": {
              "color": "#EBF0F8"
             },
             "line": {
              "color": "white"
             }
            },
            "header": {
             "fill": {
              "color": "#C8D4E3"
             },
             "line": {
              "color": "white"
             }
            },
            "type": "table"
           }
          ]
         },
         "layout": {
          "annotationdefaults": {
           "arrowcolor": "#2a3f5f",
           "arrowhead": 0,
           "arrowwidth": 1
          },
          "autotypenumbers": "strict",
          "coloraxis": {
           "colorbar": {
            "outlinewidth": 0,
            "ticks": ""
           }
          },
          "colorscale": {
           "diverging": [
            [
             0,
             "#8e0152"
            ],
            [
             0.1,
             "#c51b7d"
            ],
            [
             0.2,
             "#de77ae"
            ],
            [
             0.3,
             "#f1b6da"
            ],
            [
             0.4,
             "#fde0ef"
            ],
            [
             0.5,
             "#f7f7f7"
            ],
            [
             0.6,
             "#e6f5d0"
            ],
            [
             0.7,
             "#b8e186"
            ],
            [
             0.8,
             "#7fbc41"
            ],
            [
             0.9,
             "#4d9221"
            ],
            [
             1,
             "#276419"
            ]
           ],
           "sequential": [
            [
             0,
             "#0d0887"
            ],
            [
             0.1111111111111111,
             "#46039f"
            ],
            [
             0.2222222222222222,
             "#7201a8"
            ],
            [
             0.3333333333333333,
             "#9c179e"
            ],
            [
             0.4444444444444444,
             "#bd3786"
            ],
            [
             0.5555555555555556,
             "#d8576b"
            ],
            [
             0.6666666666666666,
             "#ed7953"
            ],
            [
             0.7777777777777778,
             "#fb9f3a"
            ],
            [
             0.8888888888888888,
             "#fdca26"
            ],
            [
             1,
             "#f0f921"
            ]
           ],
           "sequentialminus": [
            [
             0,
             "#0d0887"
            ],
            [
             0.1111111111111111,
             "#46039f"
            ],
            [
             0.2222222222222222,
             "#7201a8"
            ],
            [
             0.3333333333333333,
             "#9c179e"
            ],
            [
             0.4444444444444444,
             "#bd3786"
            ],
            [
             0.5555555555555556,
             "#d8576b"
            ],
            [
             0.6666666666666666,
             "#ed7953"
            ],
            [
             0.7777777777777778,
             "#fb9f3a"
            ],
            [
             0.8888888888888888,
             "#fdca26"
            ],
            [
             1,
             "#f0f921"
            ]
           ]
          },
          "colorway": [
           "#636efa",
           "#EF553B",
           "#00cc96",
           "#ab63fa",
           "#FFA15A",
           "#19d3f3",
           "#FF6692",
           "#B6E880",
           "#FF97FF",
           "#FECB52"
          ],
          "font": {
           "color": "#2a3f5f"
          },
          "geo": {
           "bgcolor": "white",
           "lakecolor": "white",
           "landcolor": "#E5ECF6",
           "showlakes": true,
           "showland": true,
           "subunitcolor": "white"
          },
          "hoverlabel": {
           "align": "left"
          },
          "hovermode": "closest",
          "mapbox": {
           "style": "light"
          },
          "paper_bgcolor": "white",
          "plot_bgcolor": "#E5ECF6",
          "polar": {
           "angularaxis": {
            "gridcolor": "white",
            "linecolor": "white",
            "ticks": ""
           },
           "bgcolor": "#E5ECF6",
           "radialaxis": {
            "gridcolor": "white",
            "linecolor": "white",
            "ticks": ""
           }
          },
          "scene": {
           "xaxis": {
            "backgroundcolor": "#E5ECF6",
            "gridcolor": "white",
            "gridwidth": 2,
            "linecolor": "white",
            "showbackground": true,
            "ticks": "",
            "zerolinecolor": "white"
           },
           "yaxis": {
            "backgroundcolor": "#E5ECF6",
            "gridcolor": "white",
            "gridwidth": 2,
            "linecolor": "white",
            "showbackground": true,
            "ticks": "",
            "zerolinecolor": "white"
           },
           "zaxis": {
            "backgroundcolor": "#E5ECF6",
            "gridcolor": "white",
            "gridwidth": 2,
            "linecolor": "white",
            "showbackground": true,
            "ticks": "",
            "zerolinecolor": "white"
           }
          },
          "shapedefaults": {
           "line": {
            "color": "#2a3f5f"
           }
          },
          "ternary": {
           "aaxis": {
            "gridcolor": "white",
            "linecolor": "white",
            "ticks": ""
           },
           "baxis": {
            "gridcolor": "white",
            "linecolor": "white",
            "ticks": ""
           },
           "bgcolor": "#E5ECF6",
           "caxis": {
            "gridcolor": "white",
            "linecolor": "white",
            "ticks": ""
           }
          },
          "title": {
           "x": 0.05
          },
          "xaxis": {
           "automargin": true,
           "gridcolor": "white",
           "linecolor": "white",
           "ticks": "",
           "title": {
            "standoff": 15
           },
           "zerolinecolor": "white",
           "zerolinewidth": 2
          },
          "yaxis": {
           "automargin": true,
           "gridcolor": "white",
           "linecolor": "white",
           "ticks": "",
           "title": {
            "standoff": 15
           },
           "zerolinecolor": "white",
           "zerolinewidth": 2
          }
         }
        },
        "title": {
         "text": "KDE Plot for Feature: G"
        },
        "xaxis": {
         "anchor": "y2",
         "domain": [
          0,
          1
         ],
         "zeroline": false
        },
        "yaxis": {
         "anchor": "free",
         "domain": [
          0,
          1
         ],
         "position": 0
        }
       }
      }
     },
     "metadata": {},
     "output_type": "display_data"
    },
    {
     "data": {
      "application/vnd.plotly.v1+json": {
       "config": {
        "plotlyServerURL": "https://plot.ly"
       },
       "data": [
        {
         "legendgroup": "0",
         "marker": {
          "color": "rgb(31, 119, 180)"
         },
         "mode": "lines",
         "name": "0",
         "showlegend": true,
         "type": "scatter",
         "x": [
          0,
          0.052,
          0.104,
          0.156,
          0.208,
          0.26,
          0.312,
          0.364,
          0.416,
          0.468,
          0.52,
          0.572,
          0.624,
          0.676,
          0.728,
          0.78,
          0.832,
          0.884,
          0.936,
          0.988,
          1.04,
          1.092,
          1.144,
          1.196,
          1.248,
          1.3,
          1.352,
          1.404,
          1.456,
          1.508,
          1.56,
          1.612,
          1.664,
          1.716,
          1.768,
          1.82,
          1.872,
          1.924,
          1.976,
          2.028,
          2.08,
          2.132,
          2.184,
          2.236,
          2.288,
          2.34,
          2.392,
          2.444,
          2.496,
          2.548,
          2.6,
          2.652,
          2.704,
          2.756,
          2.808,
          2.86,
          2.912,
          2.964,
          3.016,
          3.068,
          3.12,
          3.172,
          3.224,
          3.276,
          3.328,
          3.38,
          3.432,
          3.484,
          3.536,
          3.588,
          3.64,
          3.692,
          3.744,
          3.796,
          3.848,
          3.9,
          3.952,
          4.004,
          4.056,
          4.108,
          4.16,
          4.212,
          4.264,
          4.316,
          4.368,
          4.42,
          4.472,
          4.524,
          4.576,
          4.628,
          4.68,
          4.732,
          4.784,
          4.836,
          4.888,
          4.94,
          4.992,
          5.044,
          5.096,
          5.148,
          5.2,
          5.252,
          5.304,
          5.356,
          5.408,
          5.46,
          5.512,
          5.564,
          5.616,
          5.668,
          5.72,
          5.772,
          5.824,
          5.876,
          5.928,
          5.98,
          6.032,
          6.084,
          6.136,
          6.188,
          6.24,
          6.292,
          6.344,
          6.396,
          6.448,
          6.5,
          6.552,
          6.604,
          6.656,
          6.708,
          6.76,
          6.812,
          6.864,
          6.916,
          6.968,
          7.02,
          7.072,
          7.124,
          7.176,
          7.228,
          7.28,
          7.332,
          7.384,
          7.436,
          7.488,
          7.54,
          7.592,
          7.644,
          7.696,
          7.748,
          7.8,
          7.852,
          7.904,
          7.956,
          8.008,
          8.06,
          8.112,
          8.164,
          8.216,
          8.268,
          8.32,
          8.372,
          8.424,
          8.476,
          8.528,
          8.58,
          8.632,
          8.684,
          8.736,
          8.788,
          8.84,
          8.892,
          8.944,
          8.996,
          9.048,
          9.1,
          9.152,
          9.204,
          9.256,
          9.308,
          9.36,
          9.412,
          9.464,
          9.516,
          9.568,
          9.62,
          9.672,
          9.724,
          9.776,
          9.828,
          9.88,
          9.932,
          9.984,
          10.036,
          10.088,
          10.14,
          10.192,
          10.244,
          10.296,
          10.348,
          10.4,
          10.452,
          10.504,
          10.556,
          10.608,
          10.66,
          10.712,
          10.764,
          10.816,
          10.868,
          10.92,
          10.972,
          11.024,
          11.076,
          11.128,
          11.18,
          11.232,
          11.284,
          11.336,
          11.388,
          11.44,
          11.492,
          11.544,
          11.596,
          11.648,
          11.7,
          11.752,
          11.804,
          11.856,
          11.908,
          11.96,
          12.012,
          12.064,
          12.116,
          12.168,
          12.22,
          12.272,
          12.324,
          12.376,
          12.428,
          12.48,
          12.532,
          12.584,
          12.636,
          12.688,
          12.74,
          12.792,
          12.844,
          12.896,
          12.948,
          13,
          13.052,
          13.104,
          13.156,
          13.208,
          13.26,
          13.312,
          13.364,
          13.416,
          13.468,
          13.52,
          13.572,
          13.624,
          13.676,
          13.728,
          13.78,
          13.832,
          13.884,
          13.936,
          13.988,
          14.04,
          14.092,
          14.144,
          14.196,
          14.248,
          14.3,
          14.352,
          14.404,
          14.456,
          14.508,
          14.56,
          14.612,
          14.664,
          14.716,
          14.768,
          14.82,
          14.872,
          14.924,
          14.976,
          15.028,
          15.08,
          15.132,
          15.184,
          15.236,
          15.288,
          15.34,
          15.392,
          15.444,
          15.496,
          15.548,
          15.6,
          15.652,
          15.704,
          15.756,
          15.808,
          15.86,
          15.912,
          15.964,
          16.016,
          16.068,
          16.12,
          16.172,
          16.224,
          16.276,
          16.328,
          16.38,
          16.432,
          16.484,
          16.536,
          16.588,
          16.64,
          16.692,
          16.744,
          16.796,
          16.848,
          16.9,
          16.952,
          17.004,
          17.056,
          17.108,
          17.16,
          17.212,
          17.264,
          17.316,
          17.368,
          17.42,
          17.472,
          17.524,
          17.576,
          17.628,
          17.68,
          17.732,
          17.784,
          17.836,
          17.888,
          17.94,
          17.992,
          18.044,
          18.096,
          18.148,
          18.2,
          18.252,
          18.304,
          18.356,
          18.408,
          18.46,
          18.512,
          18.564,
          18.616,
          18.668,
          18.72,
          18.772,
          18.824,
          18.876,
          18.928,
          18.98,
          19.032,
          19.084,
          19.136,
          19.188,
          19.24,
          19.292,
          19.344,
          19.396,
          19.448,
          19.5,
          19.552,
          19.604,
          19.656,
          19.708,
          19.76,
          19.812,
          19.864,
          19.916,
          19.968,
          20.02,
          20.072,
          20.124,
          20.176,
          20.228,
          20.28,
          20.332,
          20.384,
          20.436,
          20.488,
          20.54,
          20.592,
          20.644,
          20.696,
          20.748,
          20.8,
          20.852,
          20.904,
          20.956,
          21.008,
          21.06,
          21.112,
          21.164,
          21.216,
          21.268,
          21.32,
          21.372,
          21.424,
          21.476,
          21.528,
          21.58,
          21.632,
          21.684,
          21.736,
          21.788,
          21.84,
          21.892,
          21.944,
          21.996,
          22.048,
          22.1,
          22.152,
          22.204,
          22.256,
          22.308,
          22.36,
          22.412,
          22.464,
          22.516,
          22.568,
          22.62,
          22.672,
          22.724,
          22.776,
          22.828,
          22.88,
          22.932,
          22.984,
          23.036,
          23.088,
          23.14,
          23.192,
          23.244,
          23.296,
          23.348,
          23.4,
          23.452,
          23.504,
          23.556,
          23.608,
          23.66,
          23.712,
          23.764,
          23.816,
          23.868,
          23.92,
          23.972,
          24.024,
          24.076,
          24.128,
          24.18,
          24.232,
          24.284,
          24.336,
          24.388,
          24.44,
          24.492,
          24.544,
          24.596,
          24.648,
          24.7,
          24.752,
          24.804,
          24.856,
          24.908,
          24.96,
          25.012,
          25.064,
          25.116,
          25.168,
          25.22,
          25.272,
          25.324,
          25.376,
          25.428,
          25.48,
          25.532,
          25.584,
          25.636,
          25.688,
          25.74,
          25.792,
          25.844,
          25.896,
          25.948
         ],
         "xaxis": "x",
         "y": {
          "bdata": "krW50gAWiT+NqKgGpwiKP3Gd9SUW8Yo/3S7NeNzhiz/sstDQI/CMP3xozf7KMY4//NTh4i27jz8WNX/zZ86QP5He7wKT8JE/mTzobmBFkz/1hEvUicmUP52SWPYEdZY/Es8S6EU7mD82ElnA/AuaP60nQ7BF1Js/y3MmvTSAnT9iLfs6mvyeP1rrnAlqHKA/dnuZpT2UoD/7hTADX+KgPz6kllmeBqE/CqP+WiYEoT8Adp1KSeGgP/wHwdL7pqA/9oadtQhgoD8MNp+YEBigP/YkrcPetJ8/U0GOV0hinz9wHciNskefP22fvQdObp8/gKbiskzYnz+UsrF0YECgP7+bdrMerqA/OBZ3ZRQtoT//7o4FUrOhP3q/2m1pNqI//1d8vaSsoj+lDfbtLg6jPzSP7NUNVqM/tHninNGCoz8bxeAd5ZajP38uGbt0mKM/yNA4veyQoz9Q2i9fHIyjP4mASd8Vl6M/AEXmJ+2+oz/J0lTTfA+kP0zZtqpbkqQ/kH4gyCpOpT9ulOEOXkamP0DIpeuVe6c/g2S+zpLsqD++nH1/uZeqPz63ooMMfaw/1qsP+Gugrj+3Aooe7oWwP7O/WWbD6LE/oguWxpCGsz8Wwdb0NHK1P3z1Pr81w7c/Fb5kiq+Uuj+L0VfyhgO+Px/jgEvzFcE/eVmCERWTwz9OcUCxt4HGP+pyE/AN5ck/qmzr1lq5zT96mQNcXfnQP5YSnO48PtM/npGHq5Cc1T/3sfKqqQHYPw6U4fi9V9o/hycSsCGH3D+2wuscy3feP/A+FMGACeA/6nlEQoei4D9v31iWY//gPyuaDM5hG+E/WMvGAhL14D+kkPqxZo7gPxkEykIX2d8/akzer/Mu3j81s07yqDLcP9RjqfE/+9k/0irU49Cg1z9yIWww2TrVP3ELEJ/B3tI/9f2uu7Oe0D+h4EqZpBHNP75aT+e4Tck/KyIskW78xT8suYmmnyDDP+4C82iAtsA/qSd1AXxqvT+rpoLifCG6PyhbHSCmdrc/gQ7rnG5OtT/4Qx9ogY+zP0gacr5hJLI/BgiIv0v8sD8ovRt6XguwP77rkB5XlK4/UVL3kaZprT/zqRkKs5OsPzwvtT7BEaw/NoxWaOjiqz9zvR7tDQSsP/BPVp97bqw/vES47C8XrT+gySsq8e6tP64hfJUX464/Vl49Z+7erz+b82t1vmawPzUwzSe/zbA/6+1WVKUcsT9E6BXgOk6xP8+Jz2R4YLE/LS/+58RUsT/Z08nF2i+xP9XtuCBS+bA/oaYSJNu6sD+MT41UO3+wP5RJDhMoUbA/hMMPmhw6sD8RRMutSkGwP7pCPNbCarA/1FLehOu2sD9N3KqLViKxP5BAypb6pbE/nteI7cs3sj8vm1KwpcuyP0LlPS1sVLM/hHCYsErFsz+qcEcl7BK0P0G4zU+ONLQ/6Oz6btMktD+s2uArPeKzPyTXDTJFb7M/OlJIcBLSsj8Ueqeg1BOyP4EqsA/ZP7E/9kXQnXJisD+oRkDOpQ+vP3GE2Qfmda0/fQMYD08JrD8193Z369WqP8wYCrZw4ak/KhlXYDIrqT/+vVMKuKyoP36b5EfeWqg/l5yRQV4nqD9970aajgKoP9cTB7os3ac/dVpbDf+ppz/shTIHJ1+nPzUUN9wD96Y/J09o0pNwpj+4iC8yUM+lPwnGhOaNGqU/bYY9OnlcpD9kFH2szKCjP2DzYbBo86I/uKkM4/Neoj+1erjXqOuhPw3LD3hwnqE/0eMb5V54oT/sqpvJnXahP7JvS1PDkqE/+uRdvonDoT9g4Pmg0f2hP1I69+LRNaI/OwLvNVRgoj+r8IhP3HOiP3UEcx2baaI/KpuBTBU+oj+Yb5MabfGhP/2ynpBJh6E/4dgl0l8GoT+9HDcDrXegP8eQSqTuyp8/2vpbR2S0nj/X/IRpx76dPyXOMyxT+Zw/X1xv0OptnD8wcL5wKSCcP979oCYdDZw//jj3dbArnD+HGFS+sm2cP+5ismRgwZw/vXr0/j4TnT9Nj+g4GlCdP3wy1iHsZp0/CDCxL39KnT+mbWwOofKcP9TV4zvKXJw/8YP1/C2Mmz+Q7qWfNomaP/2NtGeBYJk/SSC0PnohmD8Is4f8v9yWPwIPvQx+opU/K22EJeeAlD+3NXoZ94KTP/lUYGmYr5I/wJvbWz4Jkj8MQIxy942RPw9ar4HvN5E/OpaEwE3+kD8h/ongUtaQP9Q7uUWWtJA/VEZ5KECOkD9AdjipIFqQP6jq/UKJEZA/eVLUv6thjz981xxXOG+OP461PCADUY0/L6NKEIMRjD9yP9dK676KP7UFhEZsaYk/DAATNlkhiD+tGgy4ZPWGPzGxYFUi8YU/TnvdefAbhT8HzYygYXiEPz9GkfQsBIQ/b/WqOaC4gz9NDfzkf4uDP4j85Rw4cIM/MrDauzpZgz9uXO3kYzmDPxDG1kRABYM/yboSYRW0gj+/S36dlECCP2HmNeMrqYE/vrFT4PHvgD9OrtFzNhqAPzneHMKRX34/dWb76Bd0fD+8ZQCL54V6P8TXchQSqHg/4t2YbRbrdj81Nv7Yilt1P5IEba1GAXQ/YowwxBbfcj9BdVVH+PJxP1UquSvINnE/BnZpSUuhcD8+N7B4bCdwP7WZQFIXe28//KO93XSxbj8ZNXH7jt9tP2B2dFgE+Gw/kbgozFDzaz9v1SW29s9qPwhsUlcBkmk/E9XE0/tBaD/gTxmNhOtmPxXSG3irm2U/NWkbp0tfZD+I/wTDjEFjP1b1DWGxSmI/PwSVMkx/YT+WB0xa6d9gP2r9sissaWA/SjJ3llUUYD+7glE5O7BfPyj0/4OGU18/yJNFt2X8Xj8WaitNRZZeP7AOk6QREF4/YaJ6YqhdXT/cjO5zsXhcP/L2zvjTYFs/M++KU00bWj/60AilALJYP024AIQhMlc//3h9paSqVT8l/VLqoypUPyGN7PPgv1I/CeNIrIp1UT/ijNUsYFNQPyXeNwx/uk4/sZPPFEUmTT/2rieDAONLP1s61mAA5Eo/L4o11csYSj/Y7snJL29JP7WKt3ZI1Ug/o/sxr1E7SD8ouDsaE5VHPxYV/0zL2kY/WP3/U4wJRj8E0yzuCyNFPy1Nifz3LEQ/NcXyIOsvQz9bH8FDJTZCPy28ETovSkE/7+4SBJB1QD9EEAL0an8/P2jc/QNVWj4/We+6JVZ+PT9Q5X31Nuc8P/sATn+7ijw/Zd1YCO1ZPD+0MVr41kI8P3/+a4uBMjw/joI5dPEWPD/fX6oP9uA7P9Bz17WXhTs/+w3oBQT/Oj88aVRR5Uw6P/KDfNMidDk/BqCeZRd+OD/3IhE0Wnc3P3rsq0M/bjY/1DUQajtxNT//OEdUWI00P99Y83rhzDM/bTZdFWs2Mz8x46hCScwyP749Iv+AjDI/ikyFcC9xMj+orGPyV3EyP7g0CT3/gTI/8k9V7nKXMj/ir/07maYyP09uDuUkpjI/waYBco2PMj/az+D5sl8yPwSt2CseFzI/toW/Qdi5MT/PSjic4U4xP4oZxPZX3zA/jm4WWmV1MD/o0tpnFhswP4JhJZlxsi8/ylPU0sJsLz9EA+meamwvP78OQdoSsi8/f3Yrk+MbMD/SQwci3XgwP+/zp0Xd5zA/Xup+KJdfMT9WYo7osNYxP32MmyTzRDI/VyJYOl+kMj/lgfEMDPIyP6Lm3lSuLjM/q6BupbleMz+z3mPIEYozPxfDq89PuzM/W2gbIar+Mz+zegyRmWA0P19hgDVe7DQ/n1Ag9ouqNT8nfnlEyJ82P5qQO3vfyzc/z97GK1EpOT8ZmryYZ606P8vdoKzgSDw/1IC6Mx/pPT9n7Myay3k/P/iod9hec0A/cHJTTv8OQT/+W5Zk1ohBP8LUBv3F3EE/ooDUHQkKQj9t0LpNZxNCPzjVbKML/0E/82gpDgDWQT+o36BbV6NBPwyS7qEZc0E/SNZR7Q1RQT8wfHyIgEdBP+cI72EmXkE/V1ltwzuZQT84WS389vhBP7BLf05feUI/Mbw/PY4SQz+8u3RKVrlDPzxi3YI/YEQ/nWod/sD4RD9wsAnVl3RFP1sHIcQYx0U/cHoJMFrmRT8gnLKNGMxFPzmDv9E+dkU/dTixoAbnRD8CbKVOryREP8BDxfTVOEM/W3cvpYIvQj8KZaj0BRZBP9Z/2dOL8z8/ABYeMTPOPT9UGzDbntA7P9frLS3oCTo/HtQRrc+COD/60L48jj03Py/4jdZENjY/9aDabfNjNT+gY6TU07k0P4VebXHuKDQ/dNAbdLyhMz8u+izgrRUzPzl5FH5weDI/TeZah97AMT93eRlfh+kwP06w2wSh4S8/e33Tg2+xLT9yWqJSkUwrPw5EWue5wSg/XOIRRIUiJj/5X1uUw4EjPw+RuMTx8SA/5+OKlgMIHT+etGYvEI0YP2Ubn4arihQ/K+9EevQSET9vt5UgcmYMP4ZUdKFR6gc/ZfLuIZ3ABD/1MNYoLPcCP19OsMZHnQI/CwGw5JfFAz9paJW++oYGPzojRzUM/Ao/1rGDgKCgED9XDIZszrgUPxlw1L0Y0Rk/riO1l17uHz/JyNyieYYjP6SAqRftjic/fFY9bz0CLD8scRg6SmUwP8ClKo405TI/0RBgMYRuNT+gf6Pw7us3Pz0j7LE6Rjo/JSUj8otlPD+rA15U6DI+P2jvYPrKmT8/zHbVttFEQD+1bajXi3tAP59l5HdzbkA/UEUGAyoeQD8QYHPKCx0/P3xOxzKKjD0/lh1yXg+dOz8MQg+pQWQ5P0Zto76h+TY/ygt3ovh0ND9MBoN/5ewxP9MMuyhV6y4/T7BsuZ1AKj9QqbmwPfQlP4S+WkEXGSI/7pJeNXd1HT+9NHzmqbwXP4AbdSXSBxM/zJAxuxifDj9uzjGuug8JP0cN76h7RQU/dSMkPUUkAz/uF4DMupICPwoR3OmNewM/xH6NqGvNBT+XtXdBqnkJP4mQ9JX6cQ4/TobI5btSEj/0V3jkv/4VPyRimEVkLRo/K5UrOpPJHj/GyF9IG9whP9qm93cvbCQ/AnRbIB0CJz9mJSG3bYkpPzDpHRhe7Ss/2Had1WMaLj9gOTDS0v8vP4RZdlC7yDA/WPygtXdkMT+0LiEAUtMxP817P0ERGTI/vB6HMes8Mj8UQP3XBUkyP2yksaSlSTI/1FHIhRdMMj/f+Y8Fb10yPwgjysE2iTI/AnxPtjTYMj9CYZRsY08zP2ohoA897zM/plM6+m2zND9vqqlG+pI1P9RkOjrWgDY/f+58W+VsNz8Mhk30SEU4P+bkMQDe9zg/xJbDLsVzOT8B1Lxszqo5Pw==",
          "dtype": "f8"
         },
         "yaxis": "y"
        },
        {
         "legendgroup": "1",
         "marker": {
          "color": "rgb(255, 127, 14)"
         },
         "mode": "lines",
         "name": "1",
         "showlegend": true,
         "type": "scatter",
         "x": [
          0,
          0.054,
          0.108,
          0.162,
          0.216,
          0.27,
          0.324,
          0.378,
          0.432,
          0.486,
          0.54,
          0.594,
          0.648,
          0.702,
          0.756,
          0.81,
          0.864,
          0.918,
          0.972,
          1.026,
          1.08,
          1.134,
          1.188,
          1.242,
          1.296,
          1.35,
          1.404,
          1.458,
          1.512,
          1.566,
          1.62,
          1.674,
          1.728,
          1.782,
          1.836,
          1.89,
          1.944,
          1.998,
          2.052,
          2.106,
          2.16,
          2.214,
          2.268,
          2.322,
          2.376,
          2.43,
          2.484,
          2.538,
          2.592,
          2.646,
          2.7,
          2.754,
          2.808,
          2.862,
          2.916,
          2.97,
          3.024,
          3.078,
          3.132,
          3.186,
          3.24,
          3.294,
          3.348,
          3.402,
          3.456,
          3.51,
          3.564,
          3.618,
          3.672,
          3.726,
          3.78,
          3.834,
          3.888,
          3.942,
          3.996,
          4.05,
          4.104,
          4.158,
          4.212,
          4.266,
          4.32,
          4.374,
          4.428,
          4.482,
          4.536,
          4.59,
          4.644,
          4.698,
          4.752,
          4.806,
          4.86,
          4.914,
          4.968,
          5.022,
          5.076,
          5.13,
          5.184,
          5.238,
          5.292,
          5.346,
          5.4,
          5.454,
          5.508,
          5.562,
          5.616,
          5.67,
          5.724,
          5.778,
          5.832,
          5.886,
          5.94,
          5.994,
          6.048,
          6.102,
          6.156,
          6.21,
          6.264,
          6.318,
          6.372,
          6.426,
          6.48,
          6.534,
          6.588,
          6.642,
          6.696,
          6.75,
          6.804,
          6.858,
          6.912,
          6.966,
          7.02,
          7.074,
          7.128,
          7.182,
          7.236,
          7.29,
          7.344,
          7.398,
          7.452,
          7.506,
          7.56,
          7.614,
          7.668,
          7.722,
          7.776,
          7.83,
          7.884,
          7.938,
          7.992,
          8.046,
          8.1,
          8.154,
          8.208,
          8.262,
          8.316,
          8.37,
          8.424,
          8.478,
          8.532,
          8.586,
          8.64,
          8.694,
          8.748,
          8.802,
          8.856,
          8.91,
          8.964,
          9.018,
          9.072,
          9.126,
          9.18,
          9.234,
          9.288,
          9.342,
          9.396,
          9.45,
          9.504,
          9.558,
          9.612,
          9.666,
          9.72,
          9.774,
          9.828,
          9.882,
          9.936,
          9.99,
          10.044,
          10.098,
          10.152,
          10.206,
          10.26,
          10.314,
          10.368,
          10.422,
          10.476,
          10.53,
          10.584,
          10.638,
          10.692,
          10.746,
          10.8,
          10.854,
          10.908,
          10.962,
          11.016,
          11.07,
          11.124,
          11.178,
          11.232,
          11.286,
          11.34,
          11.394,
          11.448,
          11.502,
          11.556,
          11.61,
          11.664,
          11.718,
          11.772,
          11.826,
          11.88,
          11.934,
          11.988,
          12.042,
          12.096,
          12.15,
          12.204,
          12.258,
          12.312,
          12.366,
          12.42,
          12.474,
          12.528,
          12.582,
          12.636,
          12.69,
          12.744,
          12.798,
          12.852,
          12.906,
          12.96,
          13.014,
          13.068,
          13.122,
          13.176,
          13.23,
          13.284,
          13.338,
          13.392,
          13.446,
          13.5,
          13.554,
          13.608,
          13.662,
          13.716,
          13.77,
          13.824,
          13.878,
          13.932,
          13.986,
          14.04,
          14.094,
          14.148,
          14.202,
          14.256,
          14.31,
          14.364,
          14.418,
          14.472,
          14.526,
          14.58,
          14.634,
          14.688,
          14.742,
          14.796,
          14.85,
          14.904,
          14.958,
          15.012,
          15.066,
          15.12,
          15.174,
          15.228,
          15.282,
          15.336,
          15.39,
          15.444,
          15.498,
          15.552,
          15.606,
          15.66,
          15.714,
          15.768,
          15.822,
          15.876,
          15.93,
          15.984,
          16.038,
          16.092,
          16.146,
          16.2,
          16.254,
          16.308,
          16.362,
          16.416,
          16.47,
          16.524,
          16.578,
          16.632,
          16.686,
          16.74,
          16.794,
          16.848,
          16.902,
          16.956,
          17.01,
          17.064,
          17.118,
          17.172,
          17.226,
          17.28,
          17.334,
          17.388,
          17.442,
          17.496,
          17.55,
          17.604,
          17.658,
          17.712,
          17.766,
          17.82,
          17.874,
          17.928,
          17.982,
          18.036,
          18.09,
          18.144,
          18.198,
          18.252,
          18.306,
          18.36,
          18.414,
          18.468,
          18.522,
          18.576,
          18.63,
          18.684,
          18.738,
          18.792,
          18.846,
          18.9,
          18.954,
          19.008,
          19.062,
          19.116,
          19.17,
          19.224,
          19.278,
          19.332,
          19.386,
          19.44,
          19.494,
          19.548,
          19.602,
          19.656,
          19.71,
          19.764,
          19.818,
          19.872,
          19.926,
          19.98,
          20.034,
          20.088,
          20.142,
          20.196,
          20.25,
          20.304,
          20.358,
          20.412,
          20.466,
          20.52,
          20.574,
          20.628,
          20.682,
          20.736,
          20.79,
          20.844,
          20.898,
          20.952,
          21.006,
          21.06,
          21.114,
          21.168,
          21.222,
          21.276,
          21.33,
          21.384,
          21.438,
          21.492,
          21.546,
          21.6,
          21.654,
          21.708,
          21.762,
          21.816,
          21.87,
          21.924,
          21.978,
          22.032,
          22.086,
          22.14,
          22.194,
          22.248,
          22.302,
          22.356,
          22.41,
          22.464,
          22.518,
          22.572,
          22.626,
          22.68,
          22.734,
          22.788,
          22.842,
          22.896,
          22.95,
          23.004,
          23.058,
          23.112,
          23.166,
          23.22,
          23.274,
          23.328,
          23.382,
          23.436,
          23.49,
          23.544,
          23.598,
          23.652,
          23.706,
          23.76,
          23.814,
          23.868,
          23.922,
          23.976,
          24.03,
          24.084,
          24.138,
          24.192,
          24.246,
          24.3,
          24.354,
          24.408,
          24.462,
          24.516,
          24.57,
          24.624,
          24.678,
          24.732,
          24.786,
          24.84,
          24.894,
          24.948,
          25.002,
          25.056,
          25.11,
          25.164,
          25.218,
          25.272,
          25.326,
          25.38,
          25.434,
          25.488,
          25.542,
          25.596,
          25.65,
          25.704,
          25.758,
          25.812,
          25.866,
          25.92,
          25.974,
          26.028,
          26.082,
          26.136,
          26.19,
          26.244,
          26.298,
          26.352,
          26.406,
          26.46,
          26.514,
          26.568,
          26.622,
          26.676,
          26.73,
          26.784,
          26.838,
          26.892,
          26.946
         ],
         "xaxis": "x",
         "y": {
          "bdata": "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",
          "dtype": "f8"
         },
         "yaxis": "y"
        },
        {
         "legendgroup": "2",
         "marker": {
          "color": "rgb(44, 160, 44)"
         },
         "mode": "lines",
         "name": "2",
         "showlegend": true,
         "type": "scatter",
         "x": [
          0,
          0.032,
          0.064,
          0.096,
          0.128,
          0.16,
          0.192,
          0.224,
          0.256,
          0.288,
          0.32,
          0.352,
          0.384,
          0.416,
          0.448,
          0.48,
          0.512,
          0.544,
          0.576,
          0.608,
          0.64,
          0.672,
          0.704,
          0.736,
          0.768,
          0.8,
          0.832,
          0.864,
          0.896,
          0.928,
          0.96,
          0.992,
          1.024,
          1.056,
          1.088,
          1.12,
          1.152,
          1.184,
          1.216,
          1.248,
          1.28,
          1.312,
          1.344,
          1.376,
          1.408,
          1.44,
          1.472,
          1.504,
          1.536,
          1.568,
          1.6,
          1.632,
          1.664,
          1.696,
          1.728,
          1.76,
          1.792,
          1.824,
          1.856,
          1.888,
          1.92,
          1.952,
          1.984,
          2.016,
          2.048,
          2.08,
          2.112,
          2.144,
          2.176,
          2.208,
          2.24,
          2.272,
          2.304,
          2.336,
          2.368,
          2.4,
          2.432,
          2.464,
          2.496,
          2.528,
          2.56,
          2.592,
          2.624,
          2.656,
          2.688,
          2.72,
          2.752,
          2.784,
          2.816,
          2.848,
          2.88,
          2.912,
          2.944,
          2.976,
          3.008,
          3.04,
          3.072,
          3.104,
          3.136,
          3.168,
          3.2,
          3.232,
          3.264,
          3.296,
          3.328,
          3.36,
          3.392,
          3.424,
          3.456,
          3.488,
          3.52,
          3.552,
          3.584,
          3.616,
          3.648,
          3.68,
          3.712,
          3.744,
          3.776,
          3.808,
          3.84,
          3.872,
          3.904,
          3.936,
          3.968,
          4,
          4.032,
          4.064,
          4.096,
          4.128,
          4.16,
          4.192,
          4.224,
          4.256,
          4.288,
          4.32,
          4.352,
          4.384,
          4.416,
          4.448,
          4.48,
          4.512,
          4.544,
          4.576,
          4.608,
          4.64,
          4.672,
          4.704,
          4.736,
          4.768,
          4.8,
          4.832,
          4.864,
          4.896,
          4.928,
          4.96,
          4.992,
          5.024,
          5.056,
          5.088,
          5.12,
          5.152,
          5.184,
          5.216,
          5.248,
          5.28,
          5.312,
          5.344,
          5.376,
          5.408,
          5.44,
          5.472,
          5.504,
          5.536,
          5.568,
          5.6,
          5.632,
          5.664,
          5.696,
          5.728,
          5.76,
          5.792,
          5.824,
          5.856,
          5.888,
          5.92,
          5.952,
          5.984,
          6.016,
          6.048,
          6.08,
          6.112,
          6.144,
          6.176,
          6.208,
          6.24,
          6.272,
          6.304,
          6.336,
          6.368,
          6.4,
          6.432,
          6.464,
          6.496,
          6.528,
          6.56,
          6.592,
          6.624,
          6.656,
          6.688,
          6.72,
          6.752,
          6.784,
          6.816,
          6.848,
          6.88,
          6.912,
          6.944,
          6.976,
          7.008,
          7.04,
          7.072,
          7.104,
          7.136,
          7.168,
          7.2,
          7.232,
          7.264,
          7.296,
          7.328,
          7.36,
          7.392,
          7.424,
          7.456,
          7.488,
          7.52,
          7.552,
          7.584,
          7.616,
          7.648,
          7.68,
          7.712,
          7.744,
          7.776,
          7.808,
          7.84,
          7.872,
          7.904,
          7.936,
          7.968,
          8,
          8.032,
          8.064,
          8.096,
          8.128,
          8.16,
          8.192,
          8.224,
          8.256,
          8.288,
          8.32,
          8.352,
          8.384,
          8.416,
          8.448,
          8.48,
          8.512,
          8.544,
          8.576,
          8.608,
          8.64,
          8.672,
          8.704,
          8.736,
          8.768,
          8.8,
          8.832,
          8.864,
          8.896,
          8.928,
          8.96,
          8.992,
          9.024,
          9.056,
          9.088,
          9.12,
          9.152,
          9.184,
          9.216,
          9.248,
          9.28,
          9.312,
          9.344,
          9.376,
          9.408,
          9.44,
          9.472,
          9.504,
          9.536,
          9.568,
          9.6,
          9.632,
          9.664,
          9.696,
          9.728,
          9.76,
          9.792,
          9.824,
          9.856,
          9.888,
          9.92,
          9.952,
          9.984,
          10.016,
          10.048,
          10.08,
          10.112,
          10.144,
          10.176,
          10.208,
          10.24,
          10.272,
          10.304,
          10.336,
          10.368,
          10.4,
          10.432,
          10.464,
          10.496,
          10.528,
          10.56,
          10.592,
          10.624,
          10.656,
          10.688,
          10.72,
          10.752,
          10.784,
          10.816,
          10.848,
          10.88,
          10.912,
          10.944,
          10.976,
          11.008,
          11.04,
          11.072,
          11.104,
          11.136,
          11.168,
          11.2,
          11.232,
          11.264,
          11.296,
          11.328,
          11.36,
          11.392,
          11.424,
          11.456,
          11.488,
          11.52,
          11.552,
          11.584,
          11.616,
          11.648,
          11.68,
          11.712,
          11.744,
          11.776,
          11.808,
          11.84,
          11.872,
          11.904,
          11.936,
          11.968,
          12,
          12.032,
          12.064,
          12.096,
          12.128,
          12.16,
          12.192,
          12.224,
          12.256,
          12.288,
          12.32,
          12.352,
          12.384,
          12.416,
          12.448,
          12.48,
          12.512,
          12.544,
          12.576,
          12.608,
          12.64,
          12.672,
          12.704,
          12.736,
          12.768,
          12.8,
          12.832,
          12.864,
          12.896,
          12.928,
          12.96,
          12.992,
          13.024,
          13.056,
          13.088,
          13.12,
          13.152,
          13.184,
          13.216,
          13.248,
          13.28,
          13.312,
          13.344,
          13.376,
          13.408,
          13.44,
          13.472,
          13.504,
          13.536,
          13.568,
          13.6,
          13.632,
          13.664,
          13.696,
          13.728,
          13.76,
          13.792,
          13.824,
          13.856,
          13.888,
          13.92,
          13.952,
          13.984,
          14.016,
          14.048,
          14.08,
          14.112,
          14.144,
          14.176,
          14.208,
          14.24,
          14.272,
          14.304,
          14.336,
          14.368,
          14.4,
          14.432,
          14.464,
          14.496,
          14.528,
          14.56,
          14.592,
          14.624,
          14.656,
          14.688,
          14.72,
          14.752,
          14.784,
          14.816,
          14.848,
          14.88,
          14.912,
          14.944,
          14.976,
          15.008,
          15.04,
          15.072,
          15.104,
          15.136,
          15.168,
          15.2,
          15.232,
          15.264,
          15.296,
          15.328,
          15.36,
          15.392,
          15.424,
          15.456,
          15.488,
          15.52,
          15.552,
          15.584,
          15.616,
          15.648,
          15.68,
          15.712,
          15.744,
          15.776,
          15.808,
          15.84,
          15.872,
          15.904,
          15.936,
          15.968
         ],
         "xaxis": "x",
         "y": {
          "bdata": "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",
          "dtype": "f8"
         },
         "yaxis": "y"
        },
        {
         "legendgroup": "3",
         "marker": {
          "color": "rgb(214, 39, 40)"
         },
         "mode": "lines",
         "name": "3",
         "showlegend": true,
         "type": "scatter",
         "x": [
          0,
          0.044,
          0.088,
          0.132,
          0.176,
          0.22,
          0.264,
          0.308,
          0.352,
          0.396,
          0.44,
          0.484,
          0.528,
          0.572,
          0.616,
          0.66,
          0.704,
          0.748,
          0.792,
          0.836,
          0.88,
          0.924,
          0.968,
          1.012,
          1.056,
          1.1,
          1.144,
          1.188,
          1.232,
          1.276,
          1.32,
          1.364,
          1.408,
          1.452,
          1.496,
          1.54,
          1.584,
          1.628,
          1.672,
          1.716,
          1.76,
          1.804,
          1.848,
          1.892,
          1.936,
          1.98,
          2.024,
          2.068,
          2.112,
          2.156,
          2.2,
          2.244,
          2.288,
          2.332,
          2.376,
          2.42,
          2.464,
          2.508,
          2.552,
          2.596,
          2.64,
          2.684,
          2.728,
          2.772,
          2.816,
          2.86,
          2.904,
          2.948,
          2.992,
          3.036,
          3.08,
          3.124,
          3.168,
          3.212,
          3.256,
          3.3,
          3.344,
          3.388,
          3.432,
          3.476,
          3.52,
          3.564,
          3.608,
          3.652,
          3.696,
          3.74,
          3.784,
          3.828,
          3.872,
          3.916,
          3.96,
          4.004,
          4.048,
          4.092,
          4.136,
          4.18,
          4.224,
          4.268,
          4.312,
          4.356,
          4.4,
          4.444,
          4.488,
          4.532,
          4.576,
          4.62,
          4.664,
          4.708,
          4.752,
          4.796,
          4.84,
          4.884,
          4.928,
          4.972,
          5.016,
          5.06,
          5.104,
          5.148,
          5.192,
          5.236,
          5.28,
          5.324,
          5.368,
          5.412,
          5.456,
          5.5,
          5.544,
          5.588,
          5.632,
          5.676,
          5.72,
          5.764,
          5.808,
          5.852,
          5.896,
          5.94,
          5.984,
          6.028,
          6.072,
          6.116,
          6.16,
          6.204,
          6.248,
          6.292,
          6.336,
          6.38,
          6.424,
          6.468,
          6.512,
          6.556,
          6.6,
          6.644,
          6.688,
          6.732,
          6.776,
          6.82,
          6.864,
          6.908,
          6.952,
          6.996,
          7.04,
          7.084,
          7.128,
          7.172,
          7.216,
          7.26,
          7.304,
          7.348,
          7.392,
          7.436,
          7.48,
          7.524,
          7.568,
          7.612,
          7.656,
          7.7,
          7.744,
          7.788,
          7.832,
          7.876,
          7.92,
          7.964,
          8.008,
          8.052,
          8.096,
          8.14,
          8.184,
          8.228,
          8.272,
          8.316,
          8.36,
          8.404,
          8.448,
          8.492,
          8.536,
          8.58,
          8.624,
          8.668,
          8.712,
          8.756,
          8.8,
          8.844,
          8.888,
          8.932,
          8.976,
          9.02,
          9.064,
          9.108,
          9.152,
          9.196,
          9.24,
          9.284,
          9.328,
          9.372,
          9.416,
          9.46,
          9.504,
          9.548,
          9.592,
          9.636,
          9.68,
          9.724,
          9.768,
          9.812,
          9.856,
          9.9,
          9.944,
          9.988,
          10.032,
          10.076,
          10.12,
          10.164,
          10.208,
          10.252,
          10.296,
          10.34,
          10.384,
          10.428,
          10.472,
          10.516,
          10.56,
          10.604,
          10.648,
          10.692,
          10.736,
          10.78,
          10.824,
          10.868,
          10.912,
          10.956,
          11,
          11.044,
          11.088,
          11.132,
          11.176,
          11.22,
          11.264,
          11.308,
          11.352,
          11.396,
          11.44,
          11.484,
          11.528,
          11.572,
          11.616,
          11.66,
          11.704,
          11.748,
          11.792,
          11.836,
          11.88,
          11.924,
          11.968,
          12.012,
          12.056,
          12.1,
          12.144,
          12.188,
          12.232,
          12.276,
          12.32,
          12.364,
          12.408,
          12.452,
          12.496,
          12.54,
          12.584,
          12.628,
          12.672,
          12.716,
          12.76,
          12.804,
          12.848,
          12.892,
          12.936,
          12.98,
          13.024,
          13.068,
          13.112,
          13.156,
          13.2,
          13.244,
          13.288,
          13.332,
          13.376,
          13.42,
          13.464,
          13.508,
          13.552,
          13.596,
          13.64,
          13.684,
          13.728,
          13.772,
          13.816,
          13.86,
          13.904,
          13.948,
          13.992,
          14.036,
          14.08,
          14.124,
          14.168,
          14.212,
          14.256,
          14.3,
          14.344,
          14.388,
          14.432,
          14.476,
          14.52,
          14.564,
          14.608,
          14.652,
          14.696,
          14.74,
          14.784,
          14.828,
          14.872,
          14.916,
          14.96,
          15.004,
          15.048,
          15.092,
          15.136,
          15.18,
          15.224,
          15.268,
          15.312,
          15.356,
          15.4,
          15.444,
          15.488,
          15.532,
          15.576,
          15.62,
          15.664,
          15.708,
          15.752,
          15.796,
          15.84,
          15.884,
          15.928,
          15.972,
          16.016,
          16.06,
          16.104,
          16.148,
          16.192,
          16.236,
          16.28,
          16.324,
          16.368,
          16.412,
          16.456,
          16.5,
          16.544,
          16.588,
          16.632,
          16.676,
          16.72,
          16.764,
          16.808,
          16.852,
          16.896,
          16.94,
          16.984,
          17.028,
          17.072,
          17.116,
          17.16,
          17.204,
          17.248,
          17.292,
          17.336,
          17.38,
          17.424,
          17.468,
          17.512,
          17.556,
          17.6,
          17.644,
          17.688,
          17.732,
          17.776,
          17.82,
          17.864,
          17.908,
          17.952,
          17.996,
          18.04,
          18.084,
          18.128,
          18.172,
          18.216,
          18.26,
          18.304,
          18.348,
          18.392,
          18.436,
          18.48,
          18.524,
          18.568,
          18.612,
          18.656,
          18.7,
          18.744,
          18.788,
          18.832,
          18.876,
          18.92,
          18.964,
          19.008,
          19.052,
          19.096,
          19.14,
          19.184,
          19.228,
          19.272,
          19.316,
          19.36,
          19.404,
          19.448,
          19.492,
          19.536,
          19.58,
          19.624,
          19.668,
          19.712,
          19.756,
          19.8,
          19.844,
          19.888,
          19.932,
          19.976,
          20.02,
          20.064,
          20.108,
          20.152,
          20.196,
          20.24,
          20.284,
          20.328,
          20.372,
          20.416,
          20.46,
          20.504,
          20.548,
          20.592,
          20.636,
          20.68,
          20.724,
          20.768,
          20.812,
          20.856,
          20.9,
          20.944,
          20.988,
          21.032,
          21.076,
          21.12,
          21.164,
          21.208,
          21.252,
          21.296,
          21.34,
          21.384,
          21.428,
          21.472,
          21.516,
          21.56,
          21.604,
          21.648,
          21.692,
          21.736,
          21.78,
          21.824,
          21.868,
          21.912,
          21.956
         ],
         "xaxis": "x",
         "y": {
          "bdata": "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",
          "dtype": "f8"
         },
         "yaxis": "y"
        }
       ],
       "layout": {
        "barmode": "overlay",
        "hovermode": "closest",
        "legend": {
         "traceorder": "reversed"
        },
        "template": {
         "data": {
          "bar": [
           {
            "error_x": {
             "color": "#2a3f5f"
            },
            "error_y": {
             "color": "#2a3f5f"
            },
            "marker": {
             "line": {
              "color": "#E5ECF6",
              "width": 0.5
             },
             "pattern": {
              "fillmode": "overlay",
              "size": 10,
              "solidity": 0.2
             }
            },
            "type": "bar"
           }
          ],
          "barpolar": [
           {
            "marker": {
             "line": {
              "color": "#E5ECF6",
              "width": 0.5
             },
             "pattern": {
              "fillmode": "overlay",
              "size": 10,
              "solidity": 0.2
             }
            },
            "type": "barpolar"
           }
          ],
          "carpet": [
           {
            "aaxis": {
             "endlinecolor": "#2a3f5f",
             "gridcolor": "white",
             "linecolor": "white",
             "minorgridcolor": "white",
             "startlinecolor": "#2a3f5f"
            },
            "baxis": {
             "endlinecolor": "#2a3f5f",
             "gridcolor": "white",
             "linecolor": "white",
             "minorgridcolor": "white",
             "startlinecolor": "#2a3f5f"
            },
            "type": "carpet"
           }
          ],
          "choropleth": [
           {
            "colorbar": {
             "outlinewidth": 0,
             "ticks": ""
            },
            "type": "choropleth"
           }
          ],
          "contour": [
           {
            "colorbar": {
             "outlinewidth": 0,
             "ticks": ""
            },
            "colorscale": [
             [
              0,
              "#0d0887"
             ],
             [
              0.1111111111111111,
              "#46039f"
             ],
             [
              0.2222222222222222,
              "#7201a8"
             ],
             [
              0.3333333333333333,
              "#9c179e"
             ],
             [
              0.4444444444444444,
              "#bd3786"
             ],
             [
              0.5555555555555556,
              "#d8576b"
             ],
             [
              0.6666666666666666,
              "#ed7953"
             ],
             [
              0.7777777777777778,
              "#fb9f3a"
             ],
             [
              0.8888888888888888,
              "#fdca26"
             ],
             [
              1,
              "#f0f921"
             ]
            ],
            "type": "contour"
           }
          ],
          "contourcarpet": [
           {
            "colorbar": {
             "outlinewidth": 0,
             "ticks": ""
            },
            "type": "contourcarpet"
           }
          ],
          "heatmap": [
           {
            "colorbar": {
             "outlinewidth": 0,
             "ticks": ""
            },
            "colorscale": [
             [
              0,
              "#0d0887"
             ],
             [
              0.1111111111111111,
              "#46039f"
             ],
             [
              0.2222222222222222,
              "#7201a8"
             ],
             [
              0.3333333333333333,
              "#9c179e"
             ],
             [
              0.4444444444444444,
              "#bd3786"
             ],
             [
              0.5555555555555556,
              "#d8576b"
             ],
             [
              0.6666666666666666,
              "#ed7953"
             ],
             [
              0.7777777777777778,
              "#fb9f3a"
             ],
             [
              0.8888888888888888,
              "#fdca26"
             ],
             [
              1,
              "#f0f921"
             ]
            ],
            "type": "heatmap"
           }
          ],
          "histogram": [
           {
            "marker": {
             "pattern": {
              "fillmode": "overlay",
              "size": 10,
              "solidity": 0.2
             }
            },
            "type": "histogram"
           }
          ],
          "histogram2d": [
           {
            "colorbar": {
             "outlinewidth": 0,
             "ticks": ""
            },
            "colorscale": [
             [
              0,
              "#0d0887"
             ],
             [
              0.1111111111111111,
              "#46039f"
             ],
             [
              0.2222222222222222,
              "#7201a8"
             ],
             [
              0.3333333333333333,
              "#9c179e"
             ],
             [
              0.4444444444444444,
              "#bd3786"
             ],
             [
              0.5555555555555556,
              "#d8576b"
             ],
             [
              0.6666666666666666,
              "#ed7953"
             ],
             [
              0.7777777777777778,
              "#fb9f3a"
             ],
             [
              0.8888888888888888,
              "#fdca26"
             ],
             [
              1,
              "#f0f921"
             ]
            ],
            "type": "histogram2d"
           }
          ],
          "histogram2dcontour": [
           {
            "colorbar": {
             "outlinewidth": 0,
             "ticks": ""
            },
            "colorscale": [
             [
              0,
              "#0d0887"
             ],
             [
              0.1111111111111111,
              "#46039f"
             ],
             [
              0.2222222222222222,
              "#7201a8"
             ],
             [
              0.3333333333333333,
              "#9c179e"
             ],
             [
              0.4444444444444444,
              "#bd3786"
             ],
             [
              0.5555555555555556,
              "#d8576b"
             ],
             [
              0.6666666666666666,
              "#ed7953"
             ],
             [
              0.7777777777777778,
              "#fb9f3a"
             ],
             [
              0.8888888888888888,
              "#fdca26"
             ],
             [
              1,
              "#f0f921"
             ]
            ],
            "type": "histogram2dcontour"
           }
          ],
          "mesh3d": [
           {
            "colorbar": {
             "outlinewidth": 0,
             "ticks": ""
            },
            "type": "mesh3d"
           }
          ],
          "parcoords": [
           {
            "line": {
             "colorbar": {
              "outlinewidth": 0,
              "ticks": ""
             }
            },
            "type": "parcoords"
           }
          ],
          "pie": [
           {
            "automargin": true,
            "type": "pie"
           }
          ],
          "scatter": [
           {
            "fillpattern": {
             "fillmode": "overlay",
             "size": 10,
             "solidity": 0.2
            },
            "type": "scatter"
           }
          ],
          "scatter3d": [
           {
            "line": {
             "colorbar": {
              "outlinewidth": 0,
              "ticks": ""
             }
            },
            "marker": {
             "colorbar": {
              "outlinewidth": 0,
              "ticks": ""
             }
            },
            "type": "scatter3d"
           }
          ],
          "scattercarpet": [
           {
            "marker": {
             "colorbar": {
              "outlinewidth": 0,
              "ticks": ""
             }
            },
            "type": "scattercarpet"
           }
          ],
          "scattergeo": [
           {
            "marker": {
             "colorbar": {
              "outlinewidth": 0,
              "ticks": ""
             }
            },
            "type": "scattergeo"
           }
          ],
          "scattergl": [
           {
            "marker": {
             "colorbar": {
              "outlinewidth": 0,
              "ticks": ""
             }
            },
            "type": "scattergl"
           }
          ],
          "scattermap": [
           {
            "marker": {
             "colorbar": {
              "outlinewidth": 0,
              "ticks": ""
             }
            },
            "type": "scattermap"
           }
          ],
          "scattermapbox": [
           {
            "marker": {
             "colorbar": {
              "outlinewidth": 0,
              "ticks": ""
             }
            },
            "type": "scattermapbox"
           }
          ],
          "scatterpolar": [
           {
            "marker": {
             "colorbar": {
              "outlinewidth": 0,
              "ticks": ""
             }
            },
            "type": "scatterpolar"
           }
          ],
          "scatterpolargl": [
           {
            "marker": {
             "colorbar": {
              "outlinewidth": 0,
              "ticks": ""
             }
            },
            "type": "scatterpolargl"
           }
          ],
          "scatterternary": [
           {
            "marker": {
             "colorbar": {
              "outlinewidth": 0,
              "ticks": ""
             }
            },
            "type": "scatterternary"
           }
          ],
          "surface": [
           {
            "colorbar": {
             "outlinewidth": 0,
             "ticks": ""
            },
            "colorscale": [
             [
              0,
              "#0d0887"
             ],
             [
              0.1111111111111111,
              "#46039f"
             ],
             [
              0.2222222222222222,
              "#7201a8"
             ],
             [
              0.3333333333333333,
              "#9c179e"
             ],
             [
              0.4444444444444444,
              "#bd3786"
             ],
             [
              0.5555555555555556,
              "#d8576b"
             ],
             [
              0.6666666666666666,
              "#ed7953"
             ],
             [
              0.7777777777777778,
              "#fb9f3a"
             ],
             [
              0.8888888888888888,
              "#fdca26"
             ],
             [
              1,
              "#f0f921"
             ]
            ],
            "type": "surface"
           }
          ],
          "table": [
           {
            "cells": {
             "fill": {
              "color": "#EBF0F8"
             },
             "line": {
              "color": "white"
             }
            },
            "header": {
             "fill": {
              "color": "#C8D4E3"
             },
             "line": {
              "color": "white"
             }
            },
            "type": "table"
           }
          ]
         },
         "layout": {
          "annotationdefaults": {
           "arrowcolor": "#2a3f5f",
           "arrowhead": 0,
           "arrowwidth": 1
          },
          "autotypenumbers": "strict",
          "coloraxis": {
           "colorbar": {
            "outlinewidth": 0,
            "ticks": ""
           }
          },
          "colorscale": {
           "diverging": [
            [
             0,
             "#8e0152"
            ],
            [
             0.1,
             "#c51b7d"
            ],
            [
             0.2,
             "#de77ae"
            ],
            [
             0.3,
             "#f1b6da"
            ],
            [
             0.4,
             "#fde0ef"
            ],
            [
             0.5,
             "#f7f7f7"
            ],
            [
             0.6,
             "#e6f5d0"
            ],
            [
             0.7,
             "#b8e186"
            ],
            [
             0.8,
             "#7fbc41"
            ],
            [
             0.9,
             "#4d9221"
            ],
            [
             1,
             "#276419"
            ]
           ],
           "sequential": [
            [
             0,
             "#0d0887"
            ],
            [
             0.1111111111111111,
             "#46039f"
            ],
            [
             0.2222222222222222,
             "#7201a8"
            ],
            [
             0.3333333333333333,
             "#9c179e"
            ],
            [
             0.4444444444444444,
             "#bd3786"
            ],
            [
             0.5555555555555556,
             "#d8576b"
            ],
            [
             0.6666666666666666,
             "#ed7953"
            ],
            [
             0.7777777777777778,
             "#fb9f3a"
            ],
            [
             0.8888888888888888,
             "#fdca26"
            ],
            [
             1,
             "#f0f921"
            ]
           ],
           "sequentialminus": [
            [
             0,
             "#0d0887"
            ],
            [
             0.1111111111111111,
             "#46039f"
            ],
            [
             0.2222222222222222,
             "#7201a8"
            ],
            [
             0.3333333333333333,
             "#9c179e"
            ],
            [
             0.4444444444444444,
             "#bd3786"
            ],
            [
             0.5555555555555556,
             "#d8576b"
            ],
            [
             0.6666666666666666,
             "#ed7953"
            ],
            [
             0.7777777777777778,
             "#fb9f3a"
            ],
            [
             0.8888888888888888,
             "#fdca26"
            ],
            [
             1,
             "#f0f921"
            ]
           ]
          },
          "colorway": [
           "#636efa",
           "#EF553B",
           "#00cc96",
           "#ab63fa",
           "#FFA15A",
           "#19d3f3",
           "#FF6692",
           "#B6E880",
           "#FF97FF",
           "#FECB52"
          ],
          "font": {
           "color": "#2a3f5f"
          },
          "geo": {
           "bgcolor": "white",
           "lakecolor": "white",
           "landcolor": "#E5ECF6",
           "showlakes": true,
           "showland": true,
           "subunitcolor": "white"
          },
          "hoverlabel": {
           "align": "left"
          },
          "hovermode": "closest",
          "mapbox": {
           "style": "light"
          },
          "paper_bgcolor": "white",
          "plot_bgcolor": "#E5ECF6",
          "polar": {
           "angularaxis": {
            "gridcolor": "white",
            "linecolor": "white",
            "ticks": ""
           },
           "bgcolor": "#E5ECF6",
           "radialaxis": {
            "gridcolor": "white",
            "linecolor": "white",
            "ticks": ""
           }
          },
          "scene": {
           "xaxis": {
            "backgroundcolor": "#E5ECF6",
            "gridcolor": "white",
            "gridwidth": 2,
            "linecolor": "white",
            "showbackground": true,
            "ticks": "",
            "zerolinecolor": "white"
           },
           "yaxis": {
            "backgroundcolor": "#E5ECF6",
            "gridcolor": "white",
            "gridwidth": 2,
            "linecolor": "white",
            "showbackground": true,
            "ticks": "",
            "zerolinecolor": "white"
           },
           "zaxis": {
            "backgroundcolor": "#E5ECF6",
            "gridcolor": "white",
            "gridwidth": 2,
            "linecolor": "white",
            "showbackground": true,
            "ticks": "",
            "zerolinecolor": "white"
           }
          },
          "shapedefaults": {
           "line": {
            "color": "#2a3f5f"
           }
          },
          "ternary": {
           "aaxis": {
            "gridcolor": "white",
            "linecolor": "white",
            "ticks": ""
           },
           "baxis": {
            "gridcolor": "white",
            "linecolor": "white",
            "ticks": ""
           },
           "bgcolor": "#E5ECF6",
           "caxis": {
            "gridcolor": "white",
            "linecolor": "white",
            "ticks": ""
           }
          },
          "title": {
           "x": 0.05
          },
          "xaxis": {
           "automargin": true,
           "gridcolor": "white",
           "linecolor": "white",
           "ticks": "",
           "title": {
            "standoff": 15
           },
           "zerolinecolor": "white",
           "zerolinewidth": 2
          },
          "yaxis": {
           "automargin": true,
           "gridcolor": "white",
           "linecolor": "white",
           "ticks": "",
           "title": {
            "standoff": 15
           },
           "zerolinecolor": "white",
           "zerolinewidth": 2
          }
         }
        },
        "title": {
         "text": "KDE Plot for Feature: I"
        },
        "xaxis": {
         "anchor": "y2",
         "domain": [
          0,
          1
         ],
         "zeroline": false
        },
        "yaxis": {
         "anchor": "free",
         "domain": [
          0,
          1
         ],
         "position": 0
        }
       }
      }
     },
     "metadata": {},
     "output_type": "display_data"
    }
   ],
   "source": [
    "import plotly.figure_factory as ff\n",
    "\n",
    "# Example: Select top 3 features for KDE\n",
    "top_features = importance_df['Feature'].head(3).tolist()\n",
    "\n",
    "# Prepare KDEs for each class\n",
    "for feature in top_features:\n",
    "    class_values = []\n",
    "    class_names = []\n",
    "\n",
    "    for label in y.unique():\n",
    "        class_values.append(df[df['label_encoded'] == label][feature])\n",
    "        class_names.append(str(label))\n",
    "    \n",
    "    fig = ff.create_distplot(class_values, class_names, show_hist=False, show_rug=False)\n",
    "    fig.update_layout(title=f\"KDE Plot for Feature: {feature}\")\n",
    "    fig.show()\n"
   ]
  }
 ],
 "metadata": {
  "kernelspec": {
   "display_name": "Python 3",
   "language": "python",
   "name": "python3"
  },
  "language_info": {
   "codemirror_mode": {
    "name": "ipython",
    "version": 3
   },
   "file_extension": ".py",
   "mimetype": "text/x-python",
   "name": "python",
   "nbconvert_exporter": "python",
   "pygments_lexer": "ipython3",
   "version": "3.11.0"
  }
 },
 "nbformat": 4,
 "nbformat_minor": 5
}
