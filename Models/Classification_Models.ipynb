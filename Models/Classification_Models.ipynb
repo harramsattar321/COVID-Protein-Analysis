{
 "cells": [
  {
   "cell_type": "markdown",
   "id": "41f145b3",
   "metadata": {},
   "source": [
    "## Decision Tree"
   ]
  },
  {
   "cell_type": "markdown",
   "id": "84370fd9",
   "metadata": {},
   "source": [
    "## Import Required Libraries"
   ]
  },
  {
   "cell_type": "code",
   "execution_count": null,
   "id": "4aad1273",
   "metadata": {},
   "outputs": [],
   "source": [
    "import pandas as pd\n",
    "import numpy as np\n",
    "import matplotlib.pyplot as plt\n",
    "import seaborn as sns\n",
    "\n",
    "from sklearn.model_selection import train_test_split\n",
    "from sklearn.metrics import confusion_matrix\n",
    "from sklearn.tree import DecisionTreeClassifier, plot_tree\n",
    "from sklearn.metrics import classification_report, confusion_matrix, accuracy_score\n",
    "import plotly.express as px\n",
    "import plotly.graph_objects as go\n",
    "import plotly.figure_factory as ff\n",
    "from sklearn.ensemble import RandomForestClassifier\n",
    "from sklearn.linear_model import LogisticRegression\n",
    "from sklearn.inspection import permutation_importance\n",
    "\n",
    "# from tensorflow.keras.models import Sequential\n",
    "# from tensorflow.keras.layers import Dense\n",
    "# from tensorflow.keras.utils import to_categorical\n",
    "\n",
    "from sklearn.base import BaseEstimator, ClassifierMixin"
   ]
  },
  {
   "cell_type": "markdown",
   "id": "1d634fac",
   "metadata": {},
   "source": [
    "## Load and Preprocess the Dataset"
   ]
  },
  {
   "cell_type": "code",
   "execution_count": 17,
   "id": "ce1ebde5",
   "metadata": {},
   "outputs": [
    {
     "data": {
      "text/html": [
       "<div>\n",
       "<style scoped>\n",
       "    .dataframe tbody tr th:only-of-type {\n",
       "        vertical-align: middle;\n",
       "    }\n",
       "\n",
       "    .dataframe tbody tr th {\n",
       "        vertical-align: top;\n",
       "    }\n",
       "\n",
       "    .dataframe thead th {\n",
       "        text-align: right;\n",
       "    }\n",
       "</style>\n",
       "<table border=\"1\" class=\"dataframe\">\n",
       "  <thead>\n",
       "    <tr style=\"text-align: right;\">\n",
       "      <th></th>\n",
       "      <th>A</th>\n",
       "      <th>C</th>\n",
       "      <th>D</th>\n",
       "      <th>E</th>\n",
       "      <th>F</th>\n",
       "      <th>G</th>\n",
       "      <th>H</th>\n",
       "      <th>I</th>\n",
       "      <th>K</th>\n",
       "      <th>L</th>\n",
       "      <th>...</th>\n",
       "      <th>P</th>\n",
       "      <th>Q</th>\n",
       "      <th>R</th>\n",
       "      <th>S</th>\n",
       "      <th>T</th>\n",
       "      <th>V</th>\n",
       "      <th>W</th>\n",
       "      <th>Y</th>\n",
       "      <th>Sequence_Length</th>\n",
       "      <th>label_encoded</th>\n",
       "    </tr>\n",
       "  </thead>\n",
       "  <tbody>\n",
       "    <tr>\n",
       "      <th>0</th>\n",
       "      <td>3</td>\n",
       "      <td>0</td>\n",
       "      <td>0</td>\n",
       "      <td>1</td>\n",
       "      <td>3</td>\n",
       "      <td>1</td>\n",
       "      <td>0</td>\n",
       "      <td>2</td>\n",
       "      <td>0</td>\n",
       "      <td>9</td>\n",
       "      <td>...</td>\n",
       "      <td>0</td>\n",
       "      <td>0</td>\n",
       "      <td>1</td>\n",
       "      <td>1</td>\n",
       "      <td>4</td>\n",
       "      <td>5</td>\n",
       "      <td>0</td>\n",
       "      <td>0</td>\n",
       "      <td>31</td>\n",
       "      <td>0</td>\n",
       "    </tr>\n",
       "    <tr>\n",
       "      <th>1</th>\n",
       "      <td>3</td>\n",
       "      <td>0</td>\n",
       "      <td>0</td>\n",
       "      <td>1</td>\n",
       "      <td>3</td>\n",
       "      <td>1</td>\n",
       "      <td>0</td>\n",
       "      <td>2</td>\n",
       "      <td>0</td>\n",
       "      <td>9</td>\n",
       "      <td>...</td>\n",
       "      <td>0</td>\n",
       "      <td>0</td>\n",
       "      <td>1</td>\n",
       "      <td>1</td>\n",
       "      <td>4</td>\n",
       "      <td>5</td>\n",
       "      <td>0</td>\n",
       "      <td>0</td>\n",
       "      <td>31</td>\n",
       "      <td>0</td>\n",
       "    </tr>\n",
       "    <tr>\n",
       "      <th>2</th>\n",
       "      <td>3</td>\n",
       "      <td>0</td>\n",
       "      <td>0</td>\n",
       "      <td>1</td>\n",
       "      <td>3</td>\n",
       "      <td>1</td>\n",
       "      <td>0</td>\n",
       "      <td>2</td>\n",
       "      <td>0</td>\n",
       "      <td>9</td>\n",
       "      <td>...</td>\n",
       "      <td>0</td>\n",
       "      <td>0</td>\n",
       "      <td>1</td>\n",
       "      <td>1</td>\n",
       "      <td>4</td>\n",
       "      <td>5</td>\n",
       "      <td>0</td>\n",
       "      <td>0</td>\n",
       "      <td>31</td>\n",
       "      <td>0</td>\n",
       "    </tr>\n",
       "    <tr>\n",
       "      <th>3</th>\n",
       "      <td>3</td>\n",
       "      <td>0</td>\n",
       "      <td>0</td>\n",
       "      <td>1</td>\n",
       "      <td>3</td>\n",
       "      <td>1</td>\n",
       "      <td>0</td>\n",
       "      <td>2</td>\n",
       "      <td>0</td>\n",
       "      <td>9</td>\n",
       "      <td>...</td>\n",
       "      <td>0</td>\n",
       "      <td>0</td>\n",
       "      <td>1</td>\n",
       "      <td>1</td>\n",
       "      <td>4</td>\n",
       "      <td>5</td>\n",
       "      <td>0</td>\n",
       "      <td>0</td>\n",
       "      <td>31</td>\n",
       "      <td>0</td>\n",
       "    </tr>\n",
       "    <tr>\n",
       "      <th>4</th>\n",
       "      <td>3</td>\n",
       "      <td>0</td>\n",
       "      <td>0</td>\n",
       "      <td>1</td>\n",
       "      <td>3</td>\n",
       "      <td>1</td>\n",
       "      <td>0</td>\n",
       "      <td>2</td>\n",
       "      <td>0</td>\n",
       "      <td>9</td>\n",
       "      <td>...</td>\n",
       "      <td>0</td>\n",
       "      <td>0</td>\n",
       "      <td>1</td>\n",
       "      <td>1</td>\n",
       "      <td>4</td>\n",
       "      <td>5</td>\n",
       "      <td>0</td>\n",
       "      <td>0</td>\n",
       "      <td>31</td>\n",
       "      <td>0</td>\n",
       "    </tr>\n",
       "  </tbody>\n",
       "</table>\n",
       "<p>5 rows × 22 columns</p>\n",
       "</div>"
      ],
      "text/plain": [
       "   A  C  D  E  F  G  H  I  K  L  ...  P  Q  R  S  T  V  W  Y  Sequence_Length  \\\n",
       "0  3  0  0  1  3  1  0  2  0  9  ...  0  0  1  1  4  5  0  0               31   \n",
       "1  3  0  0  1  3  1  0  2  0  9  ...  0  0  1  1  4  5  0  0               31   \n",
       "2  3  0  0  1  3  1  0  2  0  9  ...  0  0  1  1  4  5  0  0               31   \n",
       "3  3  0  0  1  3  1  0  2  0  9  ...  0  0  1  1  4  5  0  0               31   \n",
       "4  3  0  0  1  3  1  0  2  0  9  ...  0  0  1  1  4  5  0  0               31   \n",
       "\n",
       "   label_encoded  \n",
       "0              0  \n",
       "1              0  \n",
       "2              0  \n",
       "3              0  \n",
       "4              0  \n",
       "\n",
       "[5 rows x 22 columns]"
      ]
     },
     "execution_count": 17,
     "metadata": {},
     "output_type": "execute_result"
    }
   ],
   "source": [
    "csv_path = r\"../genome_sequences_cleaned.csv\"\n",
    "df = pd.read_csv(csv_path)\n",
    "\n",
    "# Display first few rows to confirm loading\n",
    "df.head()"
   ]
  },
  {
   "cell_type": "markdown",
   "id": "31d05e8b",
   "metadata": {},
   "source": [
    "## Split Data into Features and Target"
   ]
  },
  {
   "cell_type": "code",
   "execution_count": null,
   "id": "32e7e6e0",
   "metadata": {},
   "outputs": [],
   "source": [
    "# Features: A-Z + Sequence_Length\n",
    "X = df.drop(columns=['label_encoded'])\n",
    "y = df['label_encoded']\n",
    "\n",
    "# Train-test split\n",
    "X_train, X_test, y_train, y_test = train_test_split(X, y, test_size=0.2, random_state=42, stratify=y)\n"
   ]
  },
  {
   "cell_type": "markdown",
   "id": "be58c769",
   "metadata": {},
   "source": [
    "## Train the Decision Tree Classifier"
   ]
  },
  {
   "cell_type": "code",
   "execution_count": 6,
   "id": "fcd61e65",
   "metadata": {},
   "outputs": [],
   "source": [
    "clf = DecisionTreeClassifier(random_state=42)\n",
    "clf.fit(X_train, y_train)\n",
    "\n",
    "# Predictions\n",
    "y_pred = clf.predict(X_test)\n"
   ]
  },
  {
   "cell_type": "markdown",
   "id": "d338adcf",
   "metadata": {},
   "source": [
    "## Evaluation Metrics"
   ]
  },
  {
   "cell_type": "code",
   "execution_count": null,
   "id": "6c1bf8fa",
   "metadata": {},
   "outputs": [
    {
     "name": "stdout",
     "output_type": "stream",
     "text": [
      "Accuracy: 0.9743\n",
      "\n",
      "Classification Report:\n",
      "\n",
      "              precision    recall  f1-score   support\n",
      "\n",
      "           0       0.98      0.99      0.99      1550\n",
      "           1       0.93      0.95      0.94      1105\n",
      "           2       1.00      0.99      1.00      1970\n",
      "           3       0.97      0.93      0.95      1016\n",
      "\n",
      "    accuracy                           0.97      5641\n",
      "   macro avg       0.97      0.97      0.97      5641\n",
      "weighted avg       0.97      0.97      0.97      5641\n",
      "\n"
     ]
    }
   ],
   "source": [
    "# Accuracy\n",
    "acc = accuracy_score(y_test, y_pred)\n",
    "print(f\"Accuracy: {acc:.4f}\")\n",
    "\n",
    "# Classification Report\n",
    "print(\"\\nClassification Report:\\n\")\n",
    "print(classification_report(y_test, y_pred))\n"
   ]
  },
  {
   "cell_type": "markdown",
   "id": "d46abe6d",
   "metadata": {},
   "source": [
    "## Confusion Matrix Plot"
   ]
  },
  {
   "cell_type": "code",
   "execution_count": 8,
   "id": "e2c5cc5b",
   "metadata": {},
   "outputs": [
    {
     "data": {
      "application/vnd.plotly.v1+json": {
       "config": {
        "plotlyServerURL": "https://plot.ly"
       },
       "data": [
        {
         "coloraxis": "coloraxis",
         "hovertemplate": "Predicted: %{x}<br>Actual: %{y}<br>Count: %{z}<extra></extra>",
         "name": "0",
         "texttemplate": "%{z}",
         "type": "heatmap",
         "x": {
          "bdata": "AAECAw==",
          "dtype": "i1"
         },
         "xaxis": "x",
         "y": {
          "bdata": "AAECAw==",
          "dtype": "i1"
         },
         "yaxis": "y",
         "z": {
          "bdata": "AAYKAAIAAgAaAB8EAAAYAAAABACnBwcAAwBDAAAAsgM=",
          "dtype": "i2",
          "shape": "4, 4"
         }
        }
       ],
       "layout": {
        "coloraxis": {
         "colorbar": {
          "title": {
           "text": "Count"
          }
         },
         "colorscale": [
          [
           0,
           "rgb(247,251,255)"
          ],
          [
           0.125,
           "rgb(222,235,247)"
          ],
          [
           0.25,
           "rgb(198,219,239)"
          ],
          [
           0.375,
           "rgb(158,202,225)"
          ],
          [
           0.5,
           "rgb(107,174,214)"
          ],
          [
           0.625,
           "rgb(66,146,198)"
          ],
          [
           0.75,
           "rgb(33,113,181)"
          ],
          [
           0.875,
           "rgb(8,81,156)"
          ],
          [
           1,
           "rgb(8,48,107)"
          ]
         ]
        },
        "margin": {
         "t": 60
        },
        "template": {
         "data": {
          "bar": [
           {
            "error_x": {
             "color": "#2a3f5f"
            },
            "error_y": {
             "color": "#2a3f5f"
            },
            "marker": {
             "line": {
              "color": "#E5ECF6",
              "width": 0.5
             },
             "pattern": {
              "fillmode": "overlay",
              "size": 10,
              "solidity": 0.2
             }
            },
            "type": "bar"
           }
          ],
          "barpolar": [
           {
            "marker": {
             "line": {
              "color": "#E5ECF6",
              "width": 0.5
             },
             "pattern": {
              "fillmode": "overlay",
              "size": 10,
              "solidity": 0.2
             }
            },
            "type": "barpolar"
           }
          ],
          "carpet": [
           {
            "aaxis": {
             "endlinecolor": "#2a3f5f",
             "gridcolor": "white",
             "linecolor": "white",
             "minorgridcolor": "white",
             "startlinecolor": "#2a3f5f"
            },
            "baxis": {
             "endlinecolor": "#2a3f5f",
             "gridcolor": "white",
             "linecolor": "white",
             "minorgridcolor": "white",
             "startlinecolor": "#2a3f5f"
            },
            "type": "carpet"
           }
          ],
          "choropleth": [
           {
            "colorbar": {
             "outlinewidth": 0,
             "ticks": ""
            },
            "type": "choropleth"
           }
          ],
          "contour": [
           {
            "colorbar": {
             "outlinewidth": 0,
             "ticks": ""
            },
            "colorscale": [
             [
              0,
              "#0d0887"
             ],
             [
              0.1111111111111111,
              "#46039f"
             ],
             [
              0.2222222222222222,
              "#7201a8"
             ],
             [
              0.3333333333333333,
              "#9c179e"
             ],
             [
              0.4444444444444444,
              "#bd3786"
             ],
             [
              0.5555555555555556,
              "#d8576b"
             ],
             [
              0.6666666666666666,
              "#ed7953"
             ],
             [
              0.7777777777777778,
              "#fb9f3a"
             ],
             [
              0.8888888888888888,
              "#fdca26"
             ],
             [
              1,
              "#f0f921"
             ]
            ],
            "type": "contour"
           }
          ],
          "contourcarpet": [
           {
            "colorbar": {
             "outlinewidth": 0,
             "ticks": ""
            },
            "type": "contourcarpet"
           }
          ],
          "heatmap": [
           {
            "colorbar": {
             "outlinewidth": 0,
             "ticks": ""
            },
            "colorscale": [
             [
              0,
              "#0d0887"
             ],
             [
              0.1111111111111111,
              "#46039f"
             ],
             [
              0.2222222222222222,
              "#7201a8"
             ],
             [
              0.3333333333333333,
              "#9c179e"
             ],
             [
              0.4444444444444444,
              "#bd3786"
             ],
             [
              0.5555555555555556,
              "#d8576b"
             ],
             [
              0.6666666666666666,
              "#ed7953"
             ],
             [
              0.7777777777777778,
              "#fb9f3a"
             ],
             [
              0.8888888888888888,
              "#fdca26"
             ],
             [
              1,
              "#f0f921"
             ]
            ],
            "type": "heatmap"
           }
          ],
          "histogram": [
           {
            "marker": {
             "pattern": {
              "fillmode": "overlay",
              "size": 10,
              "solidity": 0.2
             }
            },
            "type": "histogram"
           }
          ],
          "histogram2d": [
           {
            "colorbar": {
             "outlinewidth": 0,
             "ticks": ""
            },
            "colorscale": [
             [
              0,
              "#0d0887"
             ],
             [
              0.1111111111111111,
              "#46039f"
             ],
             [
              0.2222222222222222,
              "#7201a8"
             ],
             [
              0.3333333333333333,
              "#9c179e"
             ],
             [
              0.4444444444444444,
              "#bd3786"
             ],
             [
              0.5555555555555556,
              "#d8576b"
             ],
             [
              0.6666666666666666,
              "#ed7953"
             ],
             [
              0.7777777777777778,
              "#fb9f3a"
             ],
             [
              0.8888888888888888,
              "#fdca26"
             ],
             [
              1,
              "#f0f921"
             ]
            ],
            "type": "histogram2d"
           }
          ],
          "histogram2dcontour": [
           {
            "colorbar": {
             "outlinewidth": 0,
             "ticks": ""
            },
            "colorscale": [
             [
              0,
              "#0d0887"
             ],
             [
              0.1111111111111111,
              "#46039f"
             ],
             [
              0.2222222222222222,
              "#7201a8"
             ],
             [
              0.3333333333333333,
              "#9c179e"
             ],
             [
              0.4444444444444444,
              "#bd3786"
             ],
             [
              0.5555555555555556,
              "#d8576b"
             ],
             [
              0.6666666666666666,
              "#ed7953"
             ],
             [
              0.7777777777777778,
              "#fb9f3a"
             ],
             [
              0.8888888888888888,
              "#fdca26"
             ],
             [
              1,
              "#f0f921"
             ]
            ],
            "type": "histogram2dcontour"
           }
          ],
          "mesh3d": [
           {
            "colorbar": {
             "outlinewidth": 0,
             "ticks": ""
            },
            "type": "mesh3d"
           }
          ],
          "parcoords": [
           {
            "line": {
             "colorbar": {
              "outlinewidth": 0,
              "ticks": ""
             }
            },
            "type": "parcoords"
           }
          ],
          "pie": [
           {
            "automargin": true,
            "type": "pie"
           }
          ],
          "scatter": [
           {
            "fillpattern": {
             "fillmode": "overlay",
             "size": 10,
             "solidity": 0.2
            },
            "type": "scatter"
           }
          ],
          "scatter3d": [
           {
            "line": {
             "colorbar": {
              "outlinewidth": 0,
              "ticks": ""
             }
            },
            "marker": {
             "colorbar": {
              "outlinewidth": 0,
              "ticks": ""
             }
            },
            "type": "scatter3d"
           }
          ],
          "scattercarpet": [
           {
            "marker": {
             "colorbar": {
              "outlinewidth": 0,
              "ticks": ""
             }
            },
            "type": "scattercarpet"
           }
          ],
          "scattergeo": [
           {
            "marker": {
             "colorbar": {
              "outlinewidth": 0,
              "ticks": ""
             }
            },
            "type": "scattergeo"
           }
          ],
          "scattergl": [
           {
            "marker": {
             "colorbar": {
              "outlinewidth": 0,
              "ticks": ""
             }
            },
            "type": "scattergl"
           }
          ],
          "scattermap": [
           {
            "marker": {
             "colorbar": {
              "outlinewidth": 0,
              "ticks": ""
             }
            },
            "type": "scattermap"
           }
          ],
          "scattermapbox": [
           {
            "marker": {
             "colorbar": {
              "outlinewidth": 0,
              "ticks": ""
             }
            },
            "type": "scattermapbox"
           }
          ],
          "scatterpolar": [
           {
            "marker": {
             "colorbar": {
              "outlinewidth": 0,
              "ticks": ""
             }
            },
            "type": "scatterpolar"
           }
          ],
          "scatterpolargl": [
           {
            "marker": {
             "colorbar": {
              "outlinewidth": 0,
              "ticks": ""
             }
            },
            "type": "scatterpolargl"
           }
          ],
          "scatterternary": [
           {
            "marker": {
             "colorbar": {
              "outlinewidth": 0,
              "ticks": ""
             }
            },
            "type": "scatterternary"
           }
          ],
          "surface": [
           {
            "colorbar": {
             "outlinewidth": 0,
             "ticks": ""
            },
            "colorscale": [
             [
              0,
              "#0d0887"
             ],
             [
              0.1111111111111111,
              "#46039f"
             ],
             [
              0.2222222222222222,
              "#7201a8"
             ],
             [
              0.3333333333333333,
              "#9c179e"
             ],
             [
              0.4444444444444444,
              "#bd3786"
             ],
             [
              0.5555555555555556,
              "#d8576b"
             ],
             [
              0.6666666666666666,
              "#ed7953"
             ],
             [
              0.7777777777777778,
              "#fb9f3a"
             ],
             [
              0.8888888888888888,
              "#fdca26"
             ],
             [
              1,
              "#f0f921"
             ]
            ],
            "type": "surface"
           }
          ],
          "table": [
           {
            "cells": {
             "fill": {
              "color": "#EBF0F8"
             },
             "line": {
              "color": "white"
             }
            },
            "header": {
             "fill": {
              "color": "#C8D4E3"
             },
             "line": {
              "color": "white"
             }
            },
            "type": "table"
           }
          ]
         },
         "layout": {
          "annotationdefaults": {
           "arrowcolor": "#2a3f5f",
           "arrowhead": 0,
           "arrowwidth": 1
          },
          "autotypenumbers": "strict",
          "coloraxis": {
           "colorbar": {
            "outlinewidth": 0,
            "ticks": ""
           }
          },
          "colorscale": {
           "diverging": [
            [
             0,
             "#8e0152"
            ],
            [
             0.1,
             "#c51b7d"
            ],
            [
             0.2,
             "#de77ae"
            ],
            [
             0.3,
             "#f1b6da"
            ],
            [
             0.4,
             "#fde0ef"
            ],
            [
             0.5,
             "#f7f7f7"
            ],
            [
             0.6,
             "#e6f5d0"
            ],
            [
             0.7,
             "#b8e186"
            ],
            [
             0.8,
             "#7fbc41"
            ],
            [
             0.9,
             "#4d9221"
            ],
            [
             1,
             "#276419"
            ]
           ],
           "sequential": [
            [
             0,
             "#0d0887"
            ],
            [
             0.1111111111111111,
             "#46039f"
            ],
            [
             0.2222222222222222,
             "#7201a8"
            ],
            [
             0.3333333333333333,
             "#9c179e"
            ],
            [
             0.4444444444444444,
             "#bd3786"
            ],
            [
             0.5555555555555556,
             "#d8576b"
            ],
            [
             0.6666666666666666,
             "#ed7953"
            ],
            [
             0.7777777777777778,
             "#fb9f3a"
            ],
            [
             0.8888888888888888,
             "#fdca26"
            ],
            [
             1,
             "#f0f921"
            ]
           ],
           "sequentialminus": [
            [
             0,
             "#0d0887"
            ],
            [
             0.1111111111111111,
             "#46039f"
            ],
            [
             0.2222222222222222,
             "#7201a8"
            ],
            [
             0.3333333333333333,
             "#9c179e"
            ],
            [
             0.4444444444444444,
             "#bd3786"
            ],
            [
             0.5555555555555556,
             "#d8576b"
            ],
            [
             0.6666666666666666,
             "#ed7953"
            ],
            [
             0.7777777777777778,
             "#fb9f3a"
            ],
            [
             0.8888888888888888,
             "#fdca26"
            ],
            [
             1,
             "#f0f921"
            ]
           ]
          },
          "colorway": [
           "#636efa",
           "#EF553B",
           "#00cc96",
           "#ab63fa",
           "#FFA15A",
           "#19d3f3",
           "#FF6692",
           "#B6E880",
           "#FF97FF",
           "#FECB52"
          ],
          "font": {
           "color": "#2a3f5f"
          },
          "geo": {
           "bgcolor": "white",
           "lakecolor": "white",
           "landcolor": "#E5ECF6",
           "showlakes": true,
           "showland": true,
           "subunitcolor": "white"
          },
          "hoverlabel": {
           "align": "left"
          },
          "hovermode": "closest",
          "mapbox": {
           "style": "light"
          },
          "paper_bgcolor": "white",
          "plot_bgcolor": "#E5ECF6",
          "polar": {
           "angularaxis": {
            "gridcolor": "white",
            "linecolor": "white",
            "ticks": ""
           },
           "bgcolor": "#E5ECF6",
           "radialaxis": {
            "gridcolor": "white",
            "linecolor": "white",
            "ticks": ""
           }
          },
          "scene": {
           "xaxis": {
            "backgroundcolor": "#E5ECF6",
            "gridcolor": "white",
            "gridwidth": 2,
            "linecolor": "white",
            "showbackground": true,
            "ticks": "",
            "zerolinecolor": "white"
           },
           "yaxis": {
            "backgroundcolor": "#E5ECF6",
            "gridcolor": "white",
            "gridwidth": 2,
            "linecolor": "white",
            "showbackground": true,
            "ticks": "",
            "zerolinecolor": "white"
           },
           "zaxis": {
            "backgroundcolor": "#E5ECF6",
            "gridcolor": "white",
            "gridwidth": 2,
            "linecolor": "white",
            "showbackground": true,
            "ticks": "",
            "zerolinecolor": "white"
           }
          },
          "shapedefaults": {
           "line": {
            "color": "#2a3f5f"
           }
          },
          "ternary": {
           "aaxis": {
            "gridcolor": "white",
            "linecolor": "white",
            "ticks": ""
           },
           "baxis": {
            "gridcolor": "white",
            "linecolor": "white",
            "ticks": ""
           },
           "bgcolor": "#E5ECF6",
           "caxis": {
            "gridcolor": "white",
            "linecolor": "white",
            "ticks": ""
           }
          },
          "title": {
           "x": 0.05
          },
          "xaxis": {
           "automargin": true,
           "gridcolor": "white",
           "linecolor": "white",
           "ticks": "",
           "title": {
            "standoff": 15
           },
           "zerolinecolor": "white",
           "zerolinewidth": 2
          },
          "yaxis": {
           "automargin": true,
           "gridcolor": "white",
           "linecolor": "white",
           "ticks": "",
           "title": {
            "standoff": 15
           },
           "zerolinecolor": "white",
           "zerolinewidth": 2
          }
         }
        },
        "title": {
         "text": "Confusion Matrix (Plotly)"
        },
        "xaxis": {
         "anchor": "y",
         "constrain": "domain",
         "domain": [
          0,
          1
         ],
         "scaleanchor": "y",
         "title": {
          "text": "Predicted"
         }
        },
        "yaxis": {
         "anchor": "x",
         "autorange": "reversed",
         "constrain": "domain",
         "domain": [
          0,
          1
         ],
         "title": {
          "text": "Actual"
         }
        }
       }
      }
     },
     "metadata": {},
     "output_type": "display_data"
    }
   ],
   "source": [
    "# Create a confusion matrix\n",
    "cm = confusion_matrix(y_test, y_pred)\n",
    "labels = np.unique(y)\n",
    "\n",
    "fig = px.imshow(\n",
    "    cm,\n",
    "    labels=dict(x=\"Predicted\", y=\"Actual\", color=\"Count\"),\n",
    "    x=labels,\n",
    "    y=labels,\n",
    "    color_continuous_scale='Blues',\n",
    "    text_auto=True\n",
    ")\n",
    "\n",
    "fig.update_layout(title=\"Confusion Matrix (Plotly)\")\n",
    "fig.show()\n"
   ]
  },
  {
   "cell_type": "markdown",
   "id": "80fb8fc5",
   "metadata": {},
   "source": [
    "## Feature Importance Plot"
   ]
  },
  {
   "cell_type": "code",
   "execution_count": 9,
   "id": "06b3acb7",
   "metadata": {},
   "outputs": [
    {
     "data": {
      "application/vnd.plotly.v1+json": {
       "config": {
        "plotlyServerURL": "https://plot.ly"
       },
       "data": [
        {
         "hovertemplate": "Importance=%{marker.color}<br>Feature=%{y}<extra></extra>",
         "legendgroup": "",
         "marker": {
          "color": {
           "bdata": "YTDzLGRs2T+Oa98VyFPAPxXG3BGUMsA/L8xMbAJptT+EauQTSdWlP3l/+bcYsaQ/O/Gh1EzAoT97NCMwMTueP+vShKorhZw/8s7/jdAXkT8=",
           "dtype": "f8"
          },
          "coloraxis": "coloraxis",
          "pattern": {
           "shape": ""
          }
         },
         "name": "",
         "orientation": "h",
         "showlegend": false,
         "textposition": "auto",
         "type": "bar",
         "x": {
          "bdata": "YTDzLGRs2T+Oa98VyFPAPxXG3BGUMsA/L8xMbAJptT+EauQTSdWlP3l/+bcYsaQ/O/Gh1EzAoT97NCMwMTueP+vShKorhZw/8s7/jdAXkT8=",
          "dtype": "f8"
         },
         "xaxis": "x",
         "y": [
          "Q",
          "I",
          "L",
          "F",
          "V",
          "Y",
          "A",
          "Sequence_Length",
          "M",
          "T"
         ],
         "yaxis": "y"
        }
       ],
       "layout": {
        "barmode": "relative",
        "coloraxis": {
         "colorbar": {
          "title": {
           "text": "Importance"
          }
         },
         "colorscale": [
          [
           0,
           "#440154"
          ],
          [
           0.1111111111111111,
           "#482878"
          ],
          [
           0.2222222222222222,
           "#3e4989"
          ],
          [
           0.3333333333333333,
           "#31688e"
          ],
          [
           0.4444444444444444,
           "#26828e"
          ],
          [
           0.5555555555555556,
           "#1f9e89"
          ],
          [
           0.6666666666666666,
           "#35b779"
          ],
          [
           0.7777777777777778,
           "#6ece58"
          ],
          [
           0.8888888888888888,
           "#b5de2b"
          ],
          [
           1,
           "#fde725"
          ]
         ]
        },
        "legend": {
         "tracegroupgap": 0
        },
        "template": {
         "data": {
          "bar": [
           {
            "error_x": {
             "color": "#2a3f5f"
            },
            "error_y": {
             "color": "#2a3f5f"
            },
            "marker": {
             "line": {
              "color": "#E5ECF6",
              "width": 0.5
             },
             "pattern": {
              "fillmode": "overlay",
              "size": 10,
              "solidity": 0.2
             }
            },
            "type": "bar"
           }
          ],
          "barpolar": [
           {
            "marker": {
             "line": {
              "color": "#E5ECF6",
              "width": 0.5
             },
             "pattern": {
              "fillmode": "overlay",
              "size": 10,
              "solidity": 0.2
             }
            },
            "type": "barpolar"
           }
          ],
          "carpet": [
           {
            "aaxis": {
             "endlinecolor": "#2a3f5f",
             "gridcolor": "white",
             "linecolor": "white",
             "minorgridcolor": "white",
             "startlinecolor": "#2a3f5f"
            },
            "baxis": {
             "endlinecolor": "#2a3f5f",
             "gridcolor": "white",
             "linecolor": "white",
             "minorgridcolor": "white",
             "startlinecolor": "#2a3f5f"
            },
            "type": "carpet"
           }
          ],
          "choropleth": [
           {
            "colorbar": {
             "outlinewidth": 0,
             "ticks": ""
            },
            "type": "choropleth"
           }
          ],
          "contour": [
           {
            "colorbar": {
             "outlinewidth": 0,
             "ticks": ""
            },
            "colorscale": [
             [
              0,
              "#0d0887"
             ],
             [
              0.1111111111111111,
              "#46039f"
             ],
             [
              0.2222222222222222,
              "#7201a8"
             ],
             [
              0.3333333333333333,
              "#9c179e"
             ],
             [
              0.4444444444444444,
              "#bd3786"
             ],
             [
              0.5555555555555556,
              "#d8576b"
             ],
             [
              0.6666666666666666,
              "#ed7953"
             ],
             [
              0.7777777777777778,
              "#fb9f3a"
             ],
             [
              0.8888888888888888,
              "#fdca26"
             ],
             [
              1,
              "#f0f921"
             ]
            ],
            "type": "contour"
           }
          ],
          "contourcarpet": [
           {
            "colorbar": {
             "outlinewidth": 0,
             "ticks": ""
            },
            "type": "contourcarpet"
           }
          ],
          "heatmap": [
           {
            "colorbar": {
             "outlinewidth": 0,
             "ticks": ""
            },
            "colorscale": [
             [
              0,
              "#0d0887"
             ],
             [
              0.1111111111111111,
              "#46039f"
             ],
             [
              0.2222222222222222,
              "#7201a8"
             ],
             [
              0.3333333333333333,
              "#9c179e"
             ],
             [
              0.4444444444444444,
              "#bd3786"
             ],
             [
              0.5555555555555556,
              "#d8576b"
             ],
             [
              0.6666666666666666,
              "#ed7953"
             ],
             [
              0.7777777777777778,
              "#fb9f3a"
             ],
             [
              0.8888888888888888,
              "#fdca26"
             ],
             [
              1,
              "#f0f921"
             ]
            ],
            "type": "heatmap"
           }
          ],
          "histogram": [
           {
            "marker": {
             "pattern": {
              "fillmode": "overlay",
              "size": 10,
              "solidity": 0.2
             }
            },
            "type": "histogram"
           }
          ],
          "histogram2d": [
           {
            "colorbar": {
             "outlinewidth": 0,
             "ticks": ""
            },
            "colorscale": [
             [
              0,
              "#0d0887"
             ],
             [
              0.1111111111111111,
              "#46039f"
             ],
             [
              0.2222222222222222,
              "#7201a8"
             ],
             [
              0.3333333333333333,
              "#9c179e"
             ],
             [
              0.4444444444444444,
              "#bd3786"
             ],
             [
              0.5555555555555556,
              "#d8576b"
             ],
             [
              0.6666666666666666,
              "#ed7953"
             ],
             [
              0.7777777777777778,
              "#fb9f3a"
             ],
             [
              0.8888888888888888,
              "#fdca26"
             ],
             [
              1,
              "#f0f921"
             ]
            ],
            "type": "histogram2d"
           }
          ],
          "histogram2dcontour": [
           {
            "colorbar": {
             "outlinewidth": 0,
             "ticks": ""
            },
            "colorscale": [
             [
              0,
              "#0d0887"
             ],
             [
              0.1111111111111111,
              "#46039f"
             ],
             [
              0.2222222222222222,
              "#7201a8"
             ],
             [
              0.3333333333333333,
              "#9c179e"
             ],
             [
              0.4444444444444444,
              "#bd3786"
             ],
             [
              0.5555555555555556,
              "#d8576b"
             ],
             [
              0.6666666666666666,
              "#ed7953"
             ],
             [
              0.7777777777777778,
              "#fb9f3a"
             ],
             [
              0.8888888888888888,
              "#fdca26"
             ],
             [
              1,
              "#f0f921"
             ]
            ],
            "type": "histogram2dcontour"
           }
          ],
          "mesh3d": [
           {
            "colorbar": {
             "outlinewidth": 0,
             "ticks": ""
            },
            "type": "mesh3d"
           }
          ],
          "parcoords": [
           {
            "line": {
             "colorbar": {
              "outlinewidth": 0,
              "ticks": ""
             }
            },
            "type": "parcoords"
           }
          ],
          "pie": [
           {
            "automargin": true,
            "type": "pie"
           }
          ],
          "scatter": [
           {
            "fillpattern": {
             "fillmode": "overlay",
             "size": 10,
             "solidity": 0.2
            },
            "type": "scatter"
           }
          ],
          "scatter3d": [
           {
            "line": {
             "colorbar": {
              "outlinewidth": 0,
              "ticks": ""
             }
            },
            "marker": {
             "colorbar": {
              "outlinewidth": 0,
              "ticks": ""
             }
            },
            "type": "scatter3d"
           }
          ],
          "scattercarpet": [
           {
            "marker": {
             "colorbar": {
              "outlinewidth": 0,
              "ticks": ""
             }
            },
            "type": "scattercarpet"
           }
          ],
          "scattergeo": [
           {
            "marker": {
             "colorbar": {
              "outlinewidth": 0,
              "ticks": ""
             }
            },
            "type": "scattergeo"
           }
          ],
          "scattergl": [
           {
            "marker": {
             "colorbar": {
              "outlinewidth": 0,
              "ticks": ""
             }
            },
            "type": "scattergl"
           }
          ],
          "scattermap": [
           {
            "marker": {
             "colorbar": {
              "outlinewidth": 0,
              "ticks": ""
             }
            },
            "type": "scattermap"
           }
          ],
          "scattermapbox": [
           {
            "marker": {
             "colorbar": {
              "outlinewidth": 0,
              "ticks": ""
             }
            },
            "type": "scattermapbox"
           }
          ],
          "scatterpolar": [
           {
            "marker": {
             "colorbar": {
              "outlinewidth": 0,
              "ticks": ""
             }
            },
            "type": "scatterpolar"
           }
          ],
          "scatterpolargl": [
           {
            "marker": {
             "colorbar": {
              "outlinewidth": 0,
              "ticks": ""
             }
            },
            "type": "scatterpolargl"
           }
          ],
          "scatterternary": [
           {
            "marker": {
             "colorbar": {
              "outlinewidth": 0,
              "ticks": ""
             }
            },
            "type": "scatterternary"
           }
          ],
          "surface": [
           {
            "colorbar": {
             "outlinewidth": 0,
             "ticks": ""
            },
            "colorscale": [
             [
              0,
              "#0d0887"
             ],
             [
              0.1111111111111111,
              "#46039f"
             ],
             [
              0.2222222222222222,
              "#7201a8"
             ],
             [
              0.3333333333333333,
              "#9c179e"
             ],
             [
              0.4444444444444444,
              "#bd3786"
             ],
             [
              0.5555555555555556,
              "#d8576b"
             ],
             [
              0.6666666666666666,
              "#ed7953"
             ],
             [
              0.7777777777777778,
              "#fb9f3a"
             ],
             [
              0.8888888888888888,
              "#fdca26"
             ],
             [
              1,
              "#f0f921"
             ]
            ],
            "type": "surface"
           }
          ],
          "table": [
           {
            "cells": {
             "fill": {
              "color": "#EBF0F8"
             },
             "line": {
              "color": "white"
             }
            },
            "header": {
             "fill": {
              "color": "#C8D4E3"
             },
             "line": {
              "color": "white"
             }
            },
            "type": "table"
           }
          ]
         },
         "layout": {
          "annotationdefaults": {
           "arrowcolor": "#2a3f5f",
           "arrowhead": 0,
           "arrowwidth": 1
          },
          "autotypenumbers": "strict",
          "coloraxis": {
           "colorbar": {
            "outlinewidth": 0,
            "ticks": ""
           }
          },
          "colorscale": {
           "diverging": [
            [
             0,
             "#8e0152"
            ],
            [
             0.1,
             "#c51b7d"
            ],
            [
             0.2,
             "#de77ae"
            ],
            [
             0.3,
             "#f1b6da"
            ],
            [
             0.4,
             "#fde0ef"
            ],
            [
             0.5,
             "#f7f7f7"
            ],
            [
             0.6,
             "#e6f5d0"
            ],
            [
             0.7,
             "#b8e186"
            ],
            [
             0.8,
             "#7fbc41"
            ],
            [
             0.9,
             "#4d9221"
            ],
            [
             1,
             "#276419"
            ]
           ],
           "sequential": [
            [
             0,
             "#0d0887"
            ],
            [
             0.1111111111111111,
             "#46039f"
            ],
            [
             0.2222222222222222,
             "#7201a8"
            ],
            [
             0.3333333333333333,
             "#9c179e"
            ],
            [
             0.4444444444444444,
             "#bd3786"
            ],
            [
             0.5555555555555556,
             "#d8576b"
            ],
            [
             0.6666666666666666,
             "#ed7953"
            ],
            [
             0.7777777777777778,
             "#fb9f3a"
            ],
            [
             0.8888888888888888,
             "#fdca26"
            ],
            [
             1,
             "#f0f921"
            ]
           ],
           "sequentialminus": [
            [
             0,
             "#0d0887"
            ],
            [
             0.1111111111111111,
             "#46039f"
            ],
            [
             0.2222222222222222,
             "#7201a8"
            ],
            [
             0.3333333333333333,
             "#9c179e"
            ],
            [
             0.4444444444444444,
             "#bd3786"
            ],
            [
             0.5555555555555556,
             "#d8576b"
            ],
            [
             0.6666666666666666,
             "#ed7953"
            ],
            [
             0.7777777777777778,
             "#fb9f3a"
            ],
            [
             0.8888888888888888,
             "#fdca26"
            ],
            [
             1,
             "#f0f921"
            ]
           ]
          },
          "colorway": [
           "#636efa",
           "#EF553B",
           "#00cc96",
           "#ab63fa",
           "#FFA15A",
           "#19d3f3",
           "#FF6692",
           "#B6E880",
           "#FF97FF",
           "#FECB52"
          ],
          "font": {
           "color": "#2a3f5f"
          },
          "geo": {
           "bgcolor": "white",
           "lakecolor": "white",
           "landcolor": "#E5ECF6",
           "showlakes": true,
           "showland": true,
           "subunitcolor": "white"
          },
          "hoverlabel": {
           "align": "left"
          },
          "hovermode": "closest",
          "mapbox": {
           "style": "light"
          },
          "paper_bgcolor": "white",
          "plot_bgcolor": "#E5ECF6",
          "polar": {
           "angularaxis": {
            "gridcolor": "white",
            "linecolor": "white",
            "ticks": ""
           },
           "bgcolor": "#E5ECF6",
           "radialaxis": {
            "gridcolor": "white",
            "linecolor": "white",
            "ticks": ""
           }
          },
          "scene": {
           "xaxis": {
            "backgroundcolor": "#E5ECF6",
            "gridcolor": "white",
            "gridwidth": 2,
            "linecolor": "white",
            "showbackground": true,
            "ticks": "",
            "zerolinecolor": "white"
           },
           "yaxis": {
            "backgroundcolor": "#E5ECF6",
            "gridcolor": "white",
            "gridwidth": 2,
            "linecolor": "white",
            "showbackground": true,
            "ticks": "",
            "zerolinecolor": "white"
           },
           "zaxis": {
            "backgroundcolor": "#E5ECF6",
            "gridcolor": "white",
            "gridwidth": 2,
            "linecolor": "white",
            "showbackground": true,
            "ticks": "",
            "zerolinecolor": "white"
           }
          },
          "shapedefaults": {
           "line": {
            "color": "#2a3f5f"
           }
          },
          "ternary": {
           "aaxis": {
            "gridcolor": "white",
            "linecolor": "white",
            "ticks": ""
           },
           "baxis": {
            "gridcolor": "white",
            "linecolor": "white",
            "ticks": ""
           },
           "bgcolor": "#E5ECF6",
           "caxis": {
            "gridcolor": "white",
            "linecolor": "white",
            "ticks": ""
           }
          },
          "title": {
           "x": 0.05
          },
          "xaxis": {
           "automargin": true,
           "gridcolor": "white",
           "linecolor": "white",
           "ticks": "",
           "title": {
            "standoff": 15
           },
           "zerolinecolor": "white",
           "zerolinewidth": 2
          },
          "yaxis": {
           "automargin": true,
           "gridcolor": "white",
           "linecolor": "white",
           "ticks": "",
           "title": {
            "standoff": 15
           },
           "zerolinecolor": "white",
           "zerolinewidth": 2
          }
         }
        },
        "title": {
         "text": "Top 10 Important Features (Plotly)"
        },
        "xaxis": {
         "anchor": "y",
         "domain": [
          0,
          1
         ],
         "title": {
          "text": "Importance"
         }
        },
        "yaxis": {
         "anchor": "x",
         "categoryorder": "total ascending",
         "domain": [
          0,
          1
         ],
         "title": {
          "text": "Feature"
         }
        }
       }
      }
     },
     "metadata": {},
     "output_type": "display_data"
    }
   ],
   "source": [
    "# Use the existing feature importance data\n",
    "feat_imp_df = pd.DataFrame({\n",
    "    'Feature': X.columns,\n",
    "    'Importance': clf.feature_importances_\n",
    "}).sort_values(by='Importance', ascending=False).head(10)\n",
    "\n",
    "fig = px.bar(\n",
    "    feat_imp_df,\n",
    "    x='Importance',\n",
    "    y='Feature',\n",
    "    orientation='h',\n",
    "    color='Importance',\n",
    "    title='Top 10 Important Features (Plotly)',\n",
    "    color_continuous_scale='viridis'\n",
    ")\n",
    "\n",
    "fig.update_layout(yaxis={'categoryorder':'total ascending'})\n",
    "fig.show()\n",
    "\n"
   ]
  },
  {
   "cell_type": "markdown",
   "id": "46c99d84",
   "metadata": {},
   "source": [
    "## KDE"
   ]
  },
  {
   "cell_type": "code",
   "execution_count": 10,
   "id": "86eecf0b",
   "metadata": {},
   "outputs": [
    {
     "data": {
      "application/vnd.plotly.v1+json": {
       "config": {
        "plotlyServerURL": "https://plot.ly"
       },
       "data": [
        {
         "contours": {
          "coloring": "fill",
          "showlabels": true
         },
         "hovertemplate": "Predicted_Label=0<br>A=%{x}<br>G=%{y}<br>count=%{z}<extra></extra>",
         "legendgroup": "0",
         "line": {
          "color": "rgb(228,26,28)"
         },
         "name": "0",
         "showlegend": true,
         "type": "histogram2dcontour",
         "x": {
          "bdata": "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",
          "dtype": "i1"
         },
         "xaxis": "x",
         "xbingroup": "x",
         "y": {
          "bdata": "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",
          "dtype": "i1"
         },
         "yaxis": "y",
         "ybingroup": "y"
        },
        {
         "contours": {
          "coloring": "fill",
          "showlabels": true
         },
         "hovertemplate": "Predicted_Label=2<br>A=%{x}<br>G=%{y}<br>count=%{z}<extra></extra>",
         "legendgroup": "2",
         "line": {
          "color": "rgb(55,126,184)"
         },
         "name": "2",
         "showlegend": true,
         "type": "histogram2dcontour",
         "x": {
          "bdata": "GiUlGhoaJSUlJSUaJSUlJRoaJCUlJSUlJSUaGiUlGiUaJSUlJSUlJSUaJSUlJSUlJSUlJRoAGhoaGholJRoaJRwlGholJSUaJSUaGiQaJSUaIxolJSUlJRoaGholGholGiUlGiUlGSUaJSUaGgAlJSUAJSUlJRoaJSUlJSUlJSUlGiUlGiUlJSUaJSUlJRolGholJSUlGiUlJSUaGiUlJRolJSUaACUaJSUlGiUlJRolJRoaJRolJRolJSUaGiUlGiUaJRoaGiUlJSUlJBoaJSUaGiUaGiUlJRoaGiUlJSUlJSUaABolJSUlABolGholJRolJSUaACUlJSUlGiUlJRoAJSUaGholJSUlJSUlJSUlJRoaJSUlJSUlJRoaJSUlJRoaJSUlGhoaGiUaJiUaGholGhoaJRMlGholGiUlABolJSUlJSUlGholJSUaGholJSUaJSUaJSUlJSUlJSUlJRolJRolGiUlGiUaGiUlJRoaJSUlGholJSUaGiUlJRolGholJSUlJSUlJRolGholGhoaJRolJSUlJSUaJSUlJSUlGiUaGiUaJSUlJSUlGiUjGiUaJRoeJSUlGiUlABoaGiUaJRolJSUlJRolJSUlJSUlJSUlJSUlJRolGiUlGhoaJBolJSUaJRolGiUlJSUlJSUaJSUlGiUaJSUaJSUaABolJSUaJSUaJSUlJSUlGholACUlJCMaGiUaJSUaJSUlGiMaJSUkJSUlJRolJRolJRoaGiUAJSUaJQAlJSUkJSUaACUlJSUlJSUlGiUlJSUlGiUaJRolJSUlJSUlJSUaGiUlGiUlJSUaJSUaJSUlJRolJSUlGiUaGhoaGiUlJRolJSUlJSUaJRoaJRolGholJRolJRolJRolJSUlJSUlJRolGhoaJRolJSUaJSUlJSUlGiUaGiUAJRokJSUaJSUlJSUlJRolJRolGhoaACUAGiUlJCUlGiUlGiUaGholJSUlJSUlGiUlJSUlGiUlJSUlJSUkJCUaJSUlGiUlGiUlJSUlGiUlJSUlJSUlJSUlJSUlJSUlGiUlJSUlJSUaGhojJSUAGgAaGholGholJRolJRolJBolJSUlJSUlJSUaJSUlJSUlJSUaJSUlGiUlGiMlJRolJSUaGiUaJSUlJRoaJSUlGiUlJSUAJSUlGiUlJRolGiUlJRolJSUaJCUlJCUlGiUlJSUlJRolJRolJSUlJSUaJSUaJSUaGiUaJSUaGiUlJSUlJQAaJSUlJSUlJSUlJRoaJSUaJBolJSUlGiUlJRoaGholGiUaGiUlGiUlJSUaGiUlGiUlJRoaJSUaABolJSUAGholJSUlJSUAJSUlJRolJSUkJRoAJRolGiUaJRoaJSUaJRoaJQAaGiUdJRoaGhokGholJRolGiUlJSUlGiUlGiUlJSUlJSUhJSUaGiUaGholJSUlGiUaJRolJSUlGhoaJSUlJRolJRolJSUkJSUlJBolGholJSUaJRolGiUaJBolJSUlJSUaJSMlGiUaJSUlJSUlGiUlJRolGholGholJRolGiUlJSUaGiUlJRolJSUlGiUlJQAAGiUlGholJSUaGholGiUlJSUlJSUlGholIxoaGiUaJRolABolJRoaJSUaJSUAJRoaGhoAGholGiUlGiUlJRolJSUaGhoaGholJSUlJRolJSUlGiUlJSUlJSUaJSUlJSUaJRoaJQAlGiUlJRokJRolJRoaJSUAJRolJRolGiUlJSUlGiUlJSUlJSUaJSUaJSUlGiUaJRolJSUlGiUlJSUlGiUaGiUlJRolGiUaJRolGholJSUaJRolJSUlJSUaGiUlJSUaGhoaGiUlJQAaJSUlGiUlGhoaGholJSUlJSUaGiUaGiUaGiUaJSUjARolJRolJSUlJSUlIyUlJRoaJSUlGhoAJSUlJSUlJRoaJSUlGholGholJRolGholJBolJRolJRolJRolACUlJSUlGholJSUaGiUAGiUlJSUlGhoaJhoaGiUlJSUaGiUlJRoaJSUlJSUaGiUlGhoaJSUlGiUlJSUlJRokJSUlGgAaGhoAJSUaGhoaJRoaJSUlGholJSUlJQAaJRolJCUlJSUlJSUlJRoaJSUlABolGiUaGiUaJSUAGiUAJRoaJSUlIholGiQlJRolGiUlJSUaJRolJSUaJSUlJSUlJSUlJRolJSUAJQAlJSUlJRoaGholGiUlJSUaGiUlJSUlJSUlJSUlJSUaGiUaJSUlJRoAGiUAABoaABolGiUlJSUaGhwlJRolGholJSUaJRolJCUlJCQaJRolJSUlJSUlJSUlJRolGholJRolJSQaGholGiUlGiUlJRolJSUlGiUlJSUlGholJQAaJSUlJSUlJSUlJSUlJSMlGholGiUaGhoaGiUaJSUlGholJSUlJSUlGhoaJSUaJSUlACUlGiUlJSUlGiUlGiUlGiUaJRoaJSUaGhokJSUaJRolJSUjJBolJSUaGholJRolGiUaJSUlJSUlGiUlGiUlGholJSUlGiUaJSUlJRoaJRoaGiUaGgAAGholJSUAGiUaGiUaGhoaGiUlJSUlACQlGhoaJSUAGhoaJSUlJSUlJSUaJRolGiUAJSUlJRoAJSUAGho=",
          "dtype": "i1"
         },
         "xaxis": "x",
         "xbingroup": "x",
         "y": {
          "bdata": "ISoqISEhKioqKioiKioqKiEhKioqKioqKiohISoqISohKioqKioqKiohKioqKioqKioqKiEAISEhISEqKiEiKhYqISEqKiohKiohISoiKiohKiEqKioqKiEhISEqISEqISoqISoqISohKiohIQAqKioAKisqKiEhKioqKioqKioqISoqISoqKiohKioqKiEqIiEqKioqISoqKiohISoqKiEqKiohACoiKioqISoqKiEqKiEhKiEqKiEqKiohISoqISohKiEhISoqKioqKiEhKiohISohISoqKiEhISoqKioqKiohACEqKioqACIqISEqKiEqKiohACoqKioqISoqKiEAKiohISEqKioqKioqKioqKiEhKioqKioqKiEiKioqKiEhKioqISIhISohKiohISEqISIhKh8qISEqISoqACIqKioqKioqISEqKiohIiEqKioiKiohKioqKioqKioqKiEqKiEqISoqISohISoqKiEhKiopISEqKiohISoqKiIqISEqKioqKioqKiEqIiEqISEhKiEqKioqKiohKSoqKioqISohISohKioqKioqISoqISohKiEqKioqISoqACEhISohKiEqKioqKiEqKikqKioqKioqKioqKiEqISoqISEhKiEqKiohKiEqISoqKioqKiohKioqIiohKiohKiohACEqKiohKiohKioqKioqISEqACoqKiohIiohKiohKioqISohKioqKioqKiEqKiEqKiEhISoAKiohKQAqKioqKiohACoqKioqKioqISoqKioqIiohKiEqKioqKioqKiohISoqISoqKiohKiohKioqKiEqKioqISohISEhISoqKiEqKioqKioiKiEhKiEqISEqKiIqKiEqKiEqKioqKioqKiEqISEiKiEqKiohKiopKioqISohISoAKiEqKiohKioqKioqKiEqKiEqISEiACoAISoqKioqISoqISohISIqKioqKioqIioqKioqISoqKioqKioqKiohKioqISoqISoqKioqISoqKioqKioqKioqKioqKSoqISoqKioqKiohISEqKioAIQAhISEqISEqKiEqKiEqKiEqKioqKioqKiohKioqKioqKiohKioqIioqISoqKiEqKiohISohKioqKiEhKioqISoqKioAKioqISoqKiEqISoqKiEqKioiKioqKioqISoqKioqKiEpKiEqKioqKioiKiohKiohISohKiohISoqKioqKgAhKioqKikqKioqKiEhKiohKiEqKioqIioqKiIhIiEqISohISoqISoqKioiISoqISoqKiEhKiohACEqKioAIiIqKioqKioAKioqKiEqKioqKiEAKiEqISohKiIhKiohKiEhKgAiISooKiEiISEqISEqKiEqISoqKioqIioqISoqKioqKioqKiohISohISEqKioqISohKiEqKioqISEgKioqKiEqKiEqKioqKioqKiEqISEqKioiKiEqISohKiEqKioqKiohKioqISohKioqKioqISoqKiEqISEqISEpKiEqISoqKiohISoqKiEqKioqISoqKgAAISoqISEqKiohIiEqISoqKioqKSoqISEqKiEhISohKiEqACEqKiEhKikiKioAKiEhISEAISEqISoqISoqKiEqKiohISEhISEqKioqKiErKioqISoqKioqKiohKioqKiohKiEhKgAqISoqKiEqKiEqKiEhKioAKiEqKiEpISoqKioqIioqKioqKiohKiohKikqISohKiEqKioqISoqKioqISoiISoqKiEqISohKiEqISEqKiohKiEqKioqKiohIioqKiohISEhISoqKgAhKioqISoqIiEhISEqKioqKiohISohIiohISohKioqGCEqKiEqKioqKioqKioqKiEhKioqISEAKioqKioqKiEhKioqISEqISEqKiEqISEqKiEqKiEqKiEqKiEqACoqKioqISEqKioiISoAISoqKioqISEhKiEhISopKioiISoqKiEhKioqKiohIioqISEhKioqISoqKioqKiEqKioqIQAhIiEAKiohISEhKiEhKioqIiEqKioqKgAhKyEqKioqKioqKioqKiEhKioqACIqISohISohKioAISoAKiEhKioqIyIqIioqKiIqICoqKiohKiEqKiohKioqKioqKioqKiEpKioAKgAqKSoqKiEhISEqISoqKiohISoqKioqKioqKioqKiohISohKioqKiEAISoAACEhACEqISoqKiohIQsqKiEqISEqKiohKiEqKioqKiohKiEpKioqKioqKioqKiEqISEqKiEpKiohISEqISoqISoqKiEqKioqISoqKioqIiIqKgAiKioqKioqKioqKisqKiopISEqIiohISEhISohKioqISErKioqKioqISEhKioiKSoqACoqIioqKioqISoqISoqISohKiEhKiohISIqKiohKiEqKioqKiEqKiohISIqKiEqISoiKioqKioqISoqISoqISEqKioqISohKioqKiEhKiEhISohIQAAISEqKioAISohISohIiEhISoqKioqACoqISEhKioAISEhKioqKioqKiohKiEqISoAKioqKiEAKioAIiE=",
          "dtype": "i1"
         },
         "yaxis": "y",
         "ybingroup": "y"
        },
        {
         "contours": {
          "coloring": "fill",
          "showlabels": true
         },
         "hovertemplate": "Predicted_Label=3<br>A=%{x}<br>G=%{y}<br>count=%{z}<extra></extra>",
         "legendgroup": "3",
         "line": {
          "color": "rgb(77,175,74)"
         },
         "name": "3",
         "showlegend": true,
         "type": "histogram2dcontour",
         "x": {
          "bdata": "CQIADQIODAwEAAwBDQILAQ4NDSUDAQ4BAgkBBQQNCQoODAgJDQIJCSUHCQIBEQIGDQEOAAQRBQwOCQkNDQQFBQIJDAQADA0UBAIJAQUNBw4MEA4CBA4OAgQJAQIMCwINBQABDwMCDAMBFAENAQUTAgIGDQEBAQAJBAELBA0FDgIJCQsJAwwMAw4CAAAFDg0EAgQBDAELAgIJAgkJBgwRBQQMCQwJBQEOBQQIAgwCAA4FCQMCCQIKACUAAQkAJQIMJQQAAQ0MAQMCDQQFDAIMCQwCCQEFDgoJAg0JDAkCAAUlBQQBBAICDgwFDgUNDg0lAQUCDAUBDAwEAA4BAQwlCQUFBAICEgEFDAkBAgAFDgABCSUABQEJDAwODQIACgQlBAIBJQIFDAIMAQQMAQwFCgEJAwkJAgQEDgwCCQACJQEFCQYJDQAFCQIJDgUCAgIMBAIJJQwEAA4CBQ0EEQ8MDgIMDgIJAg0JAQUCAQkJAgIFCQwbAQwlDAIAAAEJAQIBACQEDA4NBAoMDAUJAgkMDwECAgIAAQwNBQEIAgEMECUlDAQECQElDAEBAAwBDAAMAhwNDQwMAQEMAAwLCQwABQQJDAwJDgQECQQJBQcBEQICBSULDQ4MBAkNCAENEw0JJQIACQwJBQwFDQEBDAUDBAABBQ0MAwwDAwEMBAMlDAgOAQoOASUJDQ0JBAsMCQQDDAwJEgIEEiUCCQwNDAIMAAEMAg0MAQsEBQwJJQUJDAIOJQ0BBQwCAgMFDQUNBQkDDgIJAQwCCQQBCwwBBQ0EDQkEAgEADQwBDQkNACUMCQMKDAMNCwIOAQwBCQkBCQANAQUMAQAEAQ0DJQkLAwIIJQ0BAwkEDgEABAUBAAwNDAUCDgIFAgwMDQ4MCQQJDAECAA0FDAwBCQEBDAkCCQwBBQcJCQIBAgwJDAAJAQAMDQ0MDgwMAgQNAQQJCQwFBQ0HAAIMDAEFDgQJJQgCBSUJBAEBAgwMBQ4JBAAIAgENCQQBAQkJBQ0JCw0MDAUCBQkCDQgEBAIMJQECAhEABQkOAgUJAgwBDQEDJQEJDgEPCwkNEQkCDAANBAwJCQIMJQUODAkDAgQMDAkCBSUNDQ0ODAwMDgIJDAkRDAQMBwwNBQQMAQQLAgECAAQMDgECBAIMJQoMEQIEASYMAgECCRERCQQTDCUJDAIRAQIECQwECw0EDg4DAQsRAwEEDAwBDAUlAQEMBQITBxEBCQECBAIODCUFBQwCBQwJDg0JEgIJAQMJJQ4ACwQJDQwFCQwMBAEEDA0MCQAFDg4EBAwMAQMNDAkMDg==",
          "dtype": "i1"
         },
         "xaxis": "x",
         "xbingroup": "x",
         "y": {
          "bdata": "EQAAEwETDw8BABIDDQEMABMODisCAxIAABEABwEOERIODxARDAARESsQEQAAGAEPEQAOAAEXBw8TDQQQDgEFBQAEDwMCDw4QAQEUAAUMEA4SERMAAQ4TAQEEAwAQCgEPBQAADwoGEAIAEAASAAUOAAMPDgAAAAMRAQAKAw4FEwERCwoRCg8PChIAAgIKExIBAQEADwAKAQAEABEEDw8XBQMPERAEBQASBwMRAQ8AABMFEQoBEQEEAisCAxECKwAPKwEAABIPAAQBDAMHEQEPEQ8DEQAHEwQRABMRDwQAAgUrBQEAAQAAEg8FEgUMEworAAUBEAUADw8BAA0AAA8qBAUFBQECFwAFDwQAAQIFEgAABCsABQMEDxAOEAEAEgMqAQEAKwEFDwEPAwEPAA8FBAARARERAAEBFBAABAABKwAFEQ8RDAIFBAEREwUAAAAQAQERKw4BARMBBQ0BDhEPEwEQEwEEABARAAUBAwQEAQEFEQ8WAA8rEAABAgMEAAEAACsBDxMNAQ4TEgURABEPEQABAQEAAhMRBQARAQAQEysrDwMBEQMqEAAABRAADwATAAYNDQ8PAwAPAA8LERAABQEREA8EEwEBEQENBxAAFwEBBSoKERIPAQQOEQMODhEQKwICBA8RBRIFDQADDwUKAQAABxEPBA8KCgAYAwcrEhENABITACsEDRIEAQoPEQEKDw8EFwABFysCEQ8MDwAQAAAPAQwPAAoBBQ8RKwUREAETKw4DBQ8AAAQFEgcOBREKDgEEAA8ABAEAChAABQwBDhEDAQMCDg8DEREMACsPBAoSDwIRDwETAxEABAQABAESAAUQAwABAA4EKwQKCgIQKw4AChEDDQAFAQUDAhAODwUADgAHABAPDRMPEQERDwABARIFDw8CBAAAEBEBBA8ABQ4RBAEAAA8EEAARAwIPEREPExAPAQEOAAERBA8FBQ0QAAAQDwMFEwERKhEABysRAQAAARMPDhMEAQIRAAAQBAECAxERBQ4ECg4PDwUBBREAEREDAQAQKwAAARcCBQQOAQURBw8ADAACKwMEEwAOCgQPFxEADwINAQ8RBAAQKwcTEBEKAQEPDxEABysTDw4TDxAPEAAEDwQXDwIPDRASBQEPAAEUAQABAgEPBwABAwAQKw0PFwEBACsPAgMABBcQBAMODysEDwEXAAEHEQ8BFBADExIEAwoXBAABDxAADwUrAgMPBQEXEBcABAMBAQASDysFBxABBRAREhIRFwERAAIEKxMACgEREg8FBBAPAQABEA4PBAIOEQ4BAQ8QAAIREBEPEw==",
          "dtype": "i1"
         },
         "yaxis": "y",
         "ybingroup": "y"
        },
        {
         "contours": {
          "coloring": "fill",
          "showlabels": true
         },
         "hovertemplate": "Predicted_Label=1<br>A=%{x}<br>G=%{y}<br>count=%{z}<extra></extra>",
         "legendgroup": "1",
         "line": {
          "color": "rgb(152,78,163)"
         },
         "name": "1",
         "showlegend": true,
         "type": "histogram2dcontour",
         "x": {
          "bdata": "EhQLBAUYBAYTBBIRExgWFxgTFxEGBRkSBw0RDRgYExcXAhcSEhQTDAoiDAkUEhgTCwUHExMTBBISEwkMBRMSBBIXHw4TExkSBCUREwkTAhITBhcXBA0KExMNEhQXBgUTBQUTEw0BExcTDxMNEwYhBwsSExkTEhURBBQEEwQNExEXChQTExMCFAMYDAYlEgYGExMCExMYEhIEARcJCQ0LExQaDhMFAwUIEQQFHxMCFBESDAMSCxEbFAwKBQwEBxMMBSUTFwMREQkFBBMSGwwGBRERFBsFDQUSEhcSExIRFBgSEw0EDxMZHAkFBQQNExIUDhITChESJRMRCBMTAgkTFwcLEhkSDAQJExIGAQUGEwQTFhIQBxENFBMUEwQJExMTCRMUEQQPARMREwcRExERFwoWHQoTBgkGEgcFFxETDRQFERMGEwcNBAULBBcJBA0EDBMKBBsEEwMTBxMCAwQYExEBCAMDCBEOEhMTFhIbHxQNFwwFFQkCCBcGFAEEExEFFwcTChcQCQMSDBMRDBMIFxIEExITFAcUFxsOCQUEFxAZEBERFTIXEQYTFxETBBMHBQUSDQgTEw0XExMDBBEJCQgGERMRDRETGBMTAxIMBQkHBRALEg0SBxMMEwYUExETDQYTBhIQAxEnBAYTEgUTGwgGDQMSExIFExIFEwwJEBITBQwRGQ8MEw0ZDQYBExQLEwYSHQkaExIUFwYREwQLDggSEwUFDRIUGRgEBggTBQYTBRMEEwwMCAUEEhMRBQsBDBMLFBMTDBECEwYTBQkTEAYMExkREhQJBgkTBhMvFwQRDBMGGxMPHhMSBBMTFwYVCgcNBgUGBQkKEwUSFAgRGBkUBgUaCQMOExMjEgkNFQYCEwwGDQoIBQUGDRMJCgwNDRMXGxMKFQQVExQTBAUTEhMSEQgLChMOCxcSEwUTEgYRCQkTGBMHEAoFEwUNERITBgQCBhIHDQwSEQETDA0DEQYNFwkbDRkSEyIFEwYOFRMYBxINExMHFAwYFw4SDRcSDBMTExMOBQwXBQUIBwQREw0WBhEFDgwUBg0FEhMTCRIJCAUTDSUNEhMTGRMHDRMUExgQBA0UBwcFBQkGExcSEBMMHBMcBhEXBxMUEhIaBQwTGRMMEwwNCRIKExMEERYRBhMLFBMKBAUTBAwTExMFDhMGAhASFAsEBAUTERMYDQkTDRkMEwYHCRQHERMTFBgJDQYKBAInDAcFBAQRBBgNEgIEARIXEwUMEw0TEQ0BExMFBBEtExQUEwkHEhMUAxMTExMRDRMNGAgRBBcSBxcPDxMSCQoCHxENBQkXEwIJExwMEw0FAxMUGBQGCQsRBQUFFBQECgQGDRMCFxMTEgkEBgQNEQkSExcTEwcBBhMGBhQTFA0EExIKExQSDRIUEAYFDRMMCBEUEhMXDBISEwUXExMCGAYLDwYECR0EFRELExMJGxMFBQIFCRMMDQwTEQgCDBMEExMIBRINEiUTExIRDCIKCQQJFxIFEAYXEwYNEgU=",
          "dtype": "i1"
         },
         "xaxis": "x",
         "xbingroup": "x",
         "y": {
          "bdata": "DhMRBQINAAcMBQ4PDg0QFRcOFQ8EBg8OBAMPCRgYDhUVCRUOEhMOBQsiBgMbExgOBgwHDg4OBQ4OERYODBEOBRUVChgODhgOBysPDhYOBA4OChUVBQkVEg4JCxMIBgwKDBIOEQkFDhUSDA4JDQQ2BAYOEhcOFAoPBRMFDgcJDg8VChMOEg4FEgQYBQMWDgQEEQ4EDhENDg4DBhQWFgUDDhMYBw4MBQwDDAwMCg4JAA8OCAMOEQ8IEwYCBAYFCA4GDCsOFQgPDxYCBQ4OCQYEDA8PEwgMCQwOEBUODg4PEw0ODgkFEg4MDBYMDAcJEQ4iDA4RAw8OKxIPBg4OCQoSFQIDDhgOBgUWDg4EBwEDEQcODQ4FCQ8JEw4TDgUWDhIRBg4SDwUMBREJDgYPDg8PFQUaCQsOBhYBDgIMFQ8OCRMMCREEDgIJCgYRCAwWBRUFDRIQBwgFDggOFQ4EBQUNDg8DBAYEBQ8ODg4OFA4IChMNFQYMGAcFChUEEwUFDg8MFQgSChUKBQQOBg4PBhEGDQ4FEg4OEwUTFRgYFgYJFQ0RCg8JExQVDwQOFA8OBRIHAgUOCQoRDgkVDhEGBQ8WBAgEDw4PCQ8RFw4OBw4GAgQGAxERDgkOBxEGDgQTEg8OCQQOBw4OBQ8eBwkRDgwOGBAECQYOEg4MEg4FDgcKCQ4RDAYPFwcDDgkNCQ0CDhMREgQOHgwiEQ8TDQQPDgURBgIOEgwMCQ4TDg4FBAMOAwoSBg4FEQgGAwwFDg4PBBEHBg4GFg4SBg8GDgUQDBYOFAQGDgwQDhMIAxYRBA4dFQUOBg4MHA4NFQ4OBREOFQYMBwQJBAwEBhYJDgYOBgcPCCIMBAgMFgYKEQ4kDgQJFQUGEAsEAwQECgwCCQ4WCgYJCg4VCQ4KIQUVEg0RCAwOCxIODwMLDw4KEhUODgwSDgQPFhYSGA4EEQwMDgwNDA4RBAcGBA4KCQYODwISDQkIDwQIFRYICRUODiIMDggFGg4cCg4JDg4CEwYXFQIOCQ0OBhIODg4LDAQVDAMMAwQPDgYYBA8FFgMVBgkMDg4OFg4WFwwRCSsGDhIODRECCQ4TERgABQkTBgsMCQYEEQ0OABEDFxIoEg8VBQ4TEg8QDAYODQ4GDgYJFhMHDhIDDxAPBA4CEw4JBQwRDAYOEQ4ECA0HAyAJExEFBQwODw4MCQIOCRgGEQQFFhAGCw4OExQMCQQKBQAKBg0HBQUPBQ4FDgYHBQ4VEQwGDgkSDwkFEg4KAhAIERMTEQoKDg4TAg4SDg4PCQ4JGBgPBhUOCBULFhEOFg0JEA8JDAoXDgQWDhMGDgkHCA4TGBMEFgsPDAwMExMFBwUEDQ4EFRESDAkDBAgJDxYOERUODgcFBA0EARMKFgkDDg4KDhMOCQ4TEQYDBA4GCA8TDg4NCQ4ODgwVDg4HDQQMIAQFFhEFGA8REhEWCRIMDAYEFg4GDAYODwMCBhIFEQ4IDA4JDgoRDg4PBgcPBgUEFQ4BAAQUEgsJEAw=",
          "dtype": "i1"
         },
         "yaxis": "y",
         "ybingroup": "y"
        }
       ],
       "layout": {
        "legend": {
         "title": {
          "text": "Predicted Class"
         },
         "tracegroupgap": 0
        },
        "template": {
         "data": {
          "bar": [
           {
            "error_x": {
             "color": "#2a3f5f"
            },
            "error_y": {
             "color": "#2a3f5f"
            },
            "marker": {
             "line": {
              "color": "#E5ECF6",
              "width": 0.5
             },
             "pattern": {
              "fillmode": "overlay",
              "size": 10,
              "solidity": 0.2
             }
            },
            "type": "bar"
           }
          ],
          "barpolar": [
           {
            "marker": {
             "line": {
              "color": "#E5ECF6",
              "width": 0.5
             },
             "pattern": {
              "fillmode": "overlay",
              "size": 10,
              "solidity": 0.2
             }
            },
            "type": "barpolar"
           }
          ],
          "carpet": [
           {
            "aaxis": {
             "endlinecolor": "#2a3f5f",
             "gridcolor": "white",
             "linecolor": "white",
             "minorgridcolor": "white",
             "startlinecolor": "#2a3f5f"
            },
            "baxis": {
             "endlinecolor": "#2a3f5f",
             "gridcolor": "white",
             "linecolor": "white",
             "minorgridcolor": "white",
             "startlinecolor": "#2a3f5f"
            },
            "type": "carpet"
           }
          ],
          "choropleth": [
           {
            "colorbar": {
             "outlinewidth": 0,
             "ticks": ""
            },
            "type": "choropleth"
           }
          ],
          "contour": [
           {
            "colorbar": {
             "outlinewidth": 0,
             "ticks": ""
            },
            "colorscale": [
             [
              0,
              "#0d0887"
             ],
             [
              0.1111111111111111,
              "#46039f"
             ],
             [
              0.2222222222222222,
              "#7201a8"
             ],
             [
              0.3333333333333333,
              "#9c179e"
             ],
             [
              0.4444444444444444,
              "#bd3786"
             ],
             [
              0.5555555555555556,
              "#d8576b"
             ],
             [
              0.6666666666666666,
              "#ed7953"
             ],
             [
              0.7777777777777778,
              "#fb9f3a"
             ],
             [
              0.8888888888888888,
              "#fdca26"
             ],
             [
              1,
              "#f0f921"
             ]
            ],
            "type": "contour"
           }
          ],
          "contourcarpet": [
           {
            "colorbar": {
             "outlinewidth": 0,
             "ticks": ""
            },
            "type": "contourcarpet"
           }
          ],
          "heatmap": [
           {
            "colorbar": {
             "outlinewidth": 0,
             "ticks": ""
            },
            "colorscale": [
             [
              0,
              "#0d0887"
             ],
             [
              0.1111111111111111,
              "#46039f"
             ],
             [
              0.2222222222222222,
              "#7201a8"
             ],
             [
              0.3333333333333333,
              "#9c179e"
             ],
             [
              0.4444444444444444,
              "#bd3786"
             ],
             [
              0.5555555555555556,
              "#d8576b"
             ],
             [
              0.6666666666666666,
              "#ed7953"
             ],
             [
              0.7777777777777778,
              "#fb9f3a"
             ],
             [
              0.8888888888888888,
              "#fdca26"
             ],
             [
              1,
              "#f0f921"
             ]
            ],
            "type": "heatmap"
           }
          ],
          "histogram": [
           {
            "marker": {
             "pattern": {
              "fillmode": "overlay",
              "size": 10,
              "solidity": 0.2
             }
            },
            "type": "histogram"
           }
          ],
          "histogram2d": [
           {
            "colorbar": {
             "outlinewidth": 0,
             "ticks": ""
            },
            "colorscale": [
             [
              0,
              "#0d0887"
             ],
             [
              0.1111111111111111,
              "#46039f"
             ],
             [
              0.2222222222222222,
              "#7201a8"
             ],
             [
              0.3333333333333333,
              "#9c179e"
             ],
             [
              0.4444444444444444,
              "#bd3786"
             ],
             [
              0.5555555555555556,
              "#d8576b"
             ],
             [
              0.6666666666666666,
              "#ed7953"
             ],
             [
              0.7777777777777778,
              "#fb9f3a"
             ],
             [
              0.8888888888888888,
              "#fdca26"
             ],
             [
              1,
              "#f0f921"
             ]
            ],
            "type": "histogram2d"
           }
          ],
          "histogram2dcontour": [
           {
            "colorbar": {
             "outlinewidth": 0,
             "ticks": ""
            },
            "colorscale": [
             [
              0,
              "#0d0887"
             ],
             [
              0.1111111111111111,
              "#46039f"
             ],
             [
              0.2222222222222222,
              "#7201a8"
             ],
             [
              0.3333333333333333,
              "#9c179e"
             ],
             [
              0.4444444444444444,
              "#bd3786"
             ],
             [
              0.5555555555555556,
              "#d8576b"
             ],
             [
              0.6666666666666666,
              "#ed7953"
             ],
             [
              0.7777777777777778,
              "#fb9f3a"
             ],
             [
              0.8888888888888888,
              "#fdca26"
             ],
             [
              1,
              "#f0f921"
             ]
            ],
            "type": "histogram2dcontour"
           }
          ],
          "mesh3d": [
           {
            "colorbar": {
             "outlinewidth": 0,
             "ticks": ""
            },
            "type": "mesh3d"
           }
          ],
          "parcoords": [
           {
            "line": {
             "colorbar": {
              "outlinewidth": 0,
              "ticks": ""
             }
            },
            "type": "parcoords"
           }
          ],
          "pie": [
           {
            "automargin": true,
            "type": "pie"
           }
          ],
          "scatter": [
           {
            "fillpattern": {
             "fillmode": "overlay",
             "size": 10,
             "solidity": 0.2
            },
            "type": "scatter"
           }
          ],
          "scatter3d": [
           {
            "line": {
             "colorbar": {
              "outlinewidth": 0,
              "ticks": ""
             }
            },
            "marker": {
             "colorbar": {
              "outlinewidth": 0,
              "ticks": ""
             }
            },
            "type": "scatter3d"
           }
          ],
          "scattercarpet": [
           {
            "marker": {
             "colorbar": {
              "outlinewidth": 0,
              "ticks": ""
             }
            },
            "type": "scattercarpet"
           }
          ],
          "scattergeo": [
           {
            "marker": {
             "colorbar": {
              "outlinewidth": 0,
              "ticks": ""
             }
            },
            "type": "scattergeo"
           }
          ],
          "scattergl": [
           {
            "marker": {
             "colorbar": {
              "outlinewidth": 0,
              "ticks": ""
             }
            },
            "type": "scattergl"
           }
          ],
          "scattermap": [
           {
            "marker": {
             "colorbar": {
              "outlinewidth": 0,
              "ticks": ""
             }
            },
            "type": "scattermap"
           }
          ],
          "scattermapbox": [
           {
            "marker": {
             "colorbar": {
              "outlinewidth": 0,
              "ticks": ""
             }
            },
            "type": "scattermapbox"
           }
          ],
          "scatterpolar": [
           {
            "marker": {
             "colorbar": {
              "outlinewidth": 0,
              "ticks": ""
             }
            },
            "type": "scatterpolar"
           }
          ],
          "scatterpolargl": [
           {
            "marker": {
             "colorbar": {
              "outlinewidth": 0,
              "ticks": ""
             }
            },
            "type": "scatterpolargl"
           }
          ],
          "scatterternary": [
           {
            "marker": {
             "colorbar": {
              "outlinewidth": 0,
              "ticks": ""
             }
            },
            "type": "scatterternary"
           }
          ],
          "surface": [
           {
            "colorbar": {
             "outlinewidth": 0,
             "ticks": ""
            },
            "colorscale": [
             [
              0,
              "#0d0887"
             ],
             [
              0.1111111111111111,
              "#46039f"
             ],
             [
              0.2222222222222222,
              "#7201a8"
             ],
             [
              0.3333333333333333,
              "#9c179e"
             ],
             [
              0.4444444444444444,
              "#bd3786"
             ],
             [
              0.5555555555555556,
              "#d8576b"
             ],
             [
              0.6666666666666666,
              "#ed7953"
             ],
             [
              0.7777777777777778,
              "#fb9f3a"
             ],
             [
              0.8888888888888888,
              "#fdca26"
             ],
             [
              1,
              "#f0f921"
             ]
            ],
            "type": "surface"
           }
          ],
          "table": [
           {
            "cells": {
             "fill": {
              "color": "#EBF0F8"
             },
             "line": {
              "color": "white"
             }
            },
            "header": {
             "fill": {
              "color": "#C8D4E3"
             },
             "line": {
              "color": "white"
             }
            },
            "type": "table"
           }
          ]
         },
         "layout": {
          "annotationdefaults": {
           "arrowcolor": "#2a3f5f",
           "arrowhead": 0,
           "arrowwidth": 1
          },
          "autotypenumbers": "strict",
          "coloraxis": {
           "colorbar": {
            "outlinewidth": 0,
            "ticks": ""
           }
          },
          "colorscale": {
           "diverging": [
            [
             0,
             "#8e0152"
            ],
            [
             0.1,
             "#c51b7d"
            ],
            [
             0.2,
             "#de77ae"
            ],
            [
             0.3,
             "#f1b6da"
            ],
            [
             0.4,
             "#fde0ef"
            ],
            [
             0.5,
             "#f7f7f7"
            ],
            [
             0.6,
             "#e6f5d0"
            ],
            [
             0.7,
             "#b8e186"
            ],
            [
             0.8,
             "#7fbc41"
            ],
            [
             0.9,
             "#4d9221"
            ],
            [
             1,
             "#276419"
            ]
           ],
           "sequential": [
            [
             0,
             "#0d0887"
            ],
            [
             0.1111111111111111,
             "#46039f"
            ],
            [
             0.2222222222222222,
             "#7201a8"
            ],
            [
             0.3333333333333333,
             "#9c179e"
            ],
            [
             0.4444444444444444,
             "#bd3786"
            ],
            [
             0.5555555555555556,
             "#d8576b"
            ],
            [
             0.6666666666666666,
             "#ed7953"
            ],
            [
             0.7777777777777778,
             "#fb9f3a"
            ],
            [
             0.8888888888888888,
             "#fdca26"
            ],
            [
             1,
             "#f0f921"
            ]
           ],
           "sequentialminus": [
            [
             0,
             "#0d0887"
            ],
            [
             0.1111111111111111,
             "#46039f"
            ],
            [
             0.2222222222222222,
             "#7201a8"
            ],
            [
             0.3333333333333333,
             "#9c179e"
            ],
            [
             0.4444444444444444,
             "#bd3786"
            ],
            [
             0.5555555555555556,
             "#d8576b"
            ],
            [
             0.6666666666666666,
             "#ed7953"
            ],
            [
             0.7777777777777778,
             "#fb9f3a"
            ],
            [
             0.8888888888888888,
             "#fdca26"
            ],
            [
             1,
             "#f0f921"
            ]
           ]
          },
          "colorway": [
           "#636efa",
           "#EF553B",
           "#00cc96",
           "#ab63fa",
           "#FFA15A",
           "#19d3f3",
           "#FF6692",
           "#B6E880",
           "#FF97FF",
           "#FECB52"
          ],
          "font": {
           "color": "#2a3f5f"
          },
          "geo": {
           "bgcolor": "white",
           "lakecolor": "white",
           "landcolor": "#E5ECF6",
           "showlakes": true,
           "showland": true,
           "subunitcolor": "white"
          },
          "hoverlabel": {
           "align": "left"
          },
          "hovermode": "closest",
          "mapbox": {
           "style": "light"
          },
          "paper_bgcolor": "white",
          "plot_bgcolor": "#E5ECF6",
          "polar": {
           "angularaxis": {
            "gridcolor": "white",
            "linecolor": "white",
            "ticks": ""
           },
           "bgcolor": "#E5ECF6",
           "radialaxis": {
            "gridcolor": "white",
            "linecolor": "white",
            "ticks": ""
           }
          },
          "scene": {
           "xaxis": {
            "backgroundcolor": "#E5ECF6",
            "gridcolor": "white",
            "gridwidth": 2,
            "linecolor": "white",
            "showbackground": true,
            "ticks": "",
            "zerolinecolor": "white"
           },
           "yaxis": {
            "backgroundcolor": "#E5ECF6",
            "gridcolor": "white",
            "gridwidth": 2,
            "linecolor": "white",
            "showbackground": true,
            "ticks": "",
            "zerolinecolor": "white"
           },
           "zaxis": {
            "backgroundcolor": "#E5ECF6",
            "gridcolor": "white",
            "gridwidth": 2,
            "linecolor": "white",
            "showbackground": true,
            "ticks": "",
            "zerolinecolor": "white"
           }
          },
          "shapedefaults": {
           "line": {
            "color": "#2a3f5f"
           }
          },
          "ternary": {
           "aaxis": {
            "gridcolor": "white",
            "linecolor": "white",
            "ticks": ""
           },
           "baxis": {
            "gridcolor": "white",
            "linecolor": "white",
            "ticks": ""
           },
           "bgcolor": "#E5ECF6",
           "caxis": {
            "gridcolor": "white",
            "linecolor": "white",
            "ticks": ""
           }
          },
          "title": {
           "x": 0.05
          },
          "xaxis": {
           "automargin": true,
           "gridcolor": "white",
           "linecolor": "white",
           "ticks": "",
           "title": {
            "standoff": 15
           },
           "zerolinecolor": "white",
           "zerolinewidth": 2
          },
          "yaxis": {
           "automargin": true,
           "gridcolor": "white",
           "linecolor": "white",
           "ticks": "",
           "title": {
            "standoff": 15
           },
           "zerolinecolor": "white",
           "zerolinewidth": 2
          }
         }
        },
        "title": {
         "text": "KDE-like Density Contour: Feature A vs G by Predicted Class"
        },
        "xaxis": {
         "anchor": "y",
         "domain": [
          0,
          1
         ],
         "title": {
          "text": "Frequency of Amino Acid A"
         }
        },
        "yaxis": {
         "anchor": "x",
         "domain": [
          0,
          1
         ],
         "title": {
          "text": "Frequency of Amino Acid G"
         }
        }
       }
      }
     },
     "metadata": {},
     "output_type": "display_data"
    }
   ],
   "source": [
    "import pandas as pd\n",
    "import plotly.express as px\n",
    "from sklearn.preprocessing import LabelEncoder\n",
    "\n",
    "kde_df = X_test[['A', 'G']].copy()\n",
    "kde_df['Predicted_Label'] = y_pred\n",
    "\n",
    "fig = px.density_contour(\n",
    "    kde_df,\n",
    "    x='A',\n",
    "    y='G',\n",
    "    color='Predicted_Label',\n",
    "    title='KDE-like Density Contour: Feature A vs G by Predicted Class',\n",
    "    color_discrete_sequence=px.colors.qualitative.Set1\n",
    ")\n",
    "\n",
    "fig.update_traces(contours_coloring=\"fill\", contours_showlabels=True)\n",
    "fig.update_layout(\n",
    "    xaxis_title='Frequency of Amino Acid A',\n",
    "    yaxis_title='Frequency of Amino Acid G',\n",
    "    legend_title='Predicted Class'\n",
    ")\n",
    "\n",
    "fig.show()\n"
   ]
  },
  {
   "cell_type": "markdown",
   "id": "965695f4",
   "metadata": {},
   "source": [
    "##  Random Forest"
   ]
  },
  {
   "cell_type": "markdown",
   "id": "b1b6b2c3",
   "metadata": {},
   "source": [
    "## Prepare Data and Train"
   ]
  },
  {
   "cell_type": "code",
   "execution_count": 14,
   "id": "10c77b80",
   "metadata": {},
   "outputs": [
    {
     "name": "stdout",
     "output_type": "stream",
     "text": [
      "Accuracy: 0.9794362701648643\n",
      "              precision    recall  f1-score   support\n",
      "\n",
      "           0       0.99      0.99      0.99      1526\n",
      "           1       0.93      0.97      0.95      1134\n",
      "           2       1.00      1.00      1.00      1961\n",
      "           3       0.97      0.94      0.95      1020\n",
      "\n",
      "    accuracy                           0.98      5641\n",
      "   macro avg       0.97      0.97      0.97      5641\n",
      "weighted avg       0.98      0.98      0.98      5641\n",
      "\n"
     ]
    }
   ],
   "source": [
    "# Load data\n",
    "csv_path = r\"../genome_sequences_cleaned.csv\"\n",
    "df = pd.read_csv(csv_path)\n",
    "\n",
    "# Features and label\n",
    "X = df.drop(columns=[\"label_encoded\"])  # Drop the target\n",
    "y = df[\"label_encoded\"]  # Target variable\n",
    "\n",
    "# Train-test split\n",
    "X_train, X_test, y_train, y_test = train_test_split(X, y, test_size=0.2, random_state=42)\n",
    "\n",
    "# Train model\n",
    "rf_model = RandomForestClassifier(n_estimators=100, random_state=42)\n",
    "rf_model.fit(X_train, y_train)\n",
    "\n",
    "# Predict\n",
    "y_pred = rf_model.predict(X_test)\n",
    "\n",
    "# Evaluation\n",
    "print(\"Accuracy:\", accuracy_score(y_test, y_pred))\n",
    "print(classification_report(y_test, y_pred))\n"
   ]
  },
  {
   "cell_type": "markdown",
   "id": "84eb7168",
   "metadata": {},
   "source": [
    "## Confusion Matrix Plot"
   ]
  },
  {
   "cell_type": "code",
   "execution_count": 13,
   "id": "6045fcba",
   "metadata": {},
   "outputs": [
    {
     "ename": "NameError",
     "evalue": "name 'ff' is not defined",
     "output_type": "error",
     "traceback": [
      "\u001b[31m---------------------------------------------------------------------------\u001b[39m",
      "\u001b[31mNameError\u001b[39m                                 Traceback (most recent call last)",
      "\u001b[36mCell\u001b[39m\u001b[36m \u001b[39m\u001b[32mIn[13]\u001b[39m\u001b[32m, line 9\u001b[39m\n\u001b[32m      6\u001b[39m labels_str = [\u001b[38;5;28mstr\u001b[39m(label) \u001b[38;5;28;01mfor\u001b[39;00m label \u001b[38;5;129;01min\u001b[39;00m labels]\n\u001b[32m      8\u001b[39m \u001b[38;5;66;03m# Create annotated heatmap\u001b[39;00m\n\u001b[32m----> \u001b[39m\u001b[32m9\u001b[39m fig = \u001b[43mff\u001b[49m.create_annotated_heatmap(\n\u001b[32m     10\u001b[39m     z=cm,\n\u001b[32m     11\u001b[39m     x=labels_str,\n\u001b[32m     12\u001b[39m     y=labels_str,\n\u001b[32m     13\u001b[39m     colorscale=\u001b[33m'\u001b[39m\u001b[33mBlues\u001b[39m\u001b[33m'\u001b[39m,\n\u001b[32m     14\u001b[39m     showscale=\u001b[38;5;28;01mTrue\u001b[39;00m,\n\u001b[32m     15\u001b[39m     hoverinfo=\u001b[33m\"\u001b[39m\u001b[33mz\u001b[39m\u001b[33m\"\u001b[39m,\n\u001b[32m     16\u001b[39m     xgap=\u001b[32m3\u001b[39m,\n\u001b[32m     17\u001b[39m     ygap=\u001b[32m3\u001b[39m\n\u001b[32m     18\u001b[39m )\n\u001b[32m     20\u001b[39m fig.update_layout(\n\u001b[32m     21\u001b[39m     title=\u001b[33m\"\u001b[39m\u001b[33mConfusion Matrix - Random Forest\u001b[39m\u001b[33m\"\u001b[39m,\n\u001b[32m     22\u001b[39m     xaxis=\u001b[38;5;28mdict\u001b[39m(title=\u001b[33m'\u001b[39m\u001b[33mPredicted Label\u001b[39m\u001b[33m'\u001b[39m),\n\u001b[32m     23\u001b[39m     yaxis=\u001b[38;5;28mdict\u001b[39m(title=\u001b[33m'\u001b[39m\u001b[33mTrue Label\u001b[39m\u001b[33m'\u001b[39m)\n\u001b[32m     24\u001b[39m )\n\u001b[32m     26\u001b[39m fig.show()\n",
      "\u001b[31mNameError\u001b[39m: name 'ff' is not defined"
     ]
    }
   ],
   "source": [
    "\n",
    "\n",
    "# Compute confusion matrix\n",
    "cm = confusion_matrix(y_test, y_pred)\n",
    "labels = rf_model.classes_  # Unique class labels\n",
    "\n",
    "# Convert to string for axis labels\n",
    "labels_str = [str(label) for label in labels]\n",
    "\n",
    "# Create annotated heatmap\n",
    "fig = ff.create_annotated_heatmap(\n",
    "    z=cm,\n",
    "    x=labels_str,\n",
    "    y=labels_str,\n",
    "    colorscale='Blues',\n",
    "    showscale=True,\n",
    "    hoverinfo=\"z\",\n",
    "    xgap=3,\n",
    "    ygap=3\n",
    ")\n",
    "\n",
    "fig.update_layout(\n",
    "    title=\"Confusion Matrix - Random Forest\",\n",
    "    xaxis=dict(title='Predicted Label'),\n",
    "    yaxis=dict(title='True Label')\n",
    ")\n",
    "\n",
    "fig.show()\n"
   ]
  },
  {
   "cell_type": "markdown",
   "id": "f4d3442e",
   "metadata": {},
   "source": [
    "## Feature Importance Plot"
   ]
  },
  {
   "cell_type": "code",
   "execution_count": 15,
   "id": "5ca65c76",
   "metadata": {},
   "outputs": [
    {
     "data": {
      "application/vnd.plotly.v1+json": {
       "config": {
        "plotlyServerURL": "https://plot.ly"
       },
       "data": [
        {
         "hovertemplate": "Feature=%{x}<br>Importance Score=%{marker.color}<extra></extra>",
         "legendgroup": "",
         "marker": {
          "color": {
           "bdata": "PYN3RCyBuz9FxOFk9iK2P6tCb4KvErM/3XjCBuSwsj86GAKizymyPyeqm80wIrE/7ZahuuynsD9fS8qnFC2tP0iKcYPgw6k/+YD+470kqD8lfc1kYTKkP9inEWij/KM/HneZti/Noz8WxctoweGdPwTmwJgAPJ0/rzYm2YrInD8PrUApLvmbP37CGVavlZo/toAj2Q9CmD+5OPDxHC6QP3p4PgkxIXY/",
           "dtype": "f8"
          },
          "coloraxis": "coloraxis",
          "pattern": {
           "shape": ""
          }
         },
         "name": "",
         "orientation": "v",
         "showlegend": false,
         "textposition": "auto",
         "type": "bar",
         "x": [
          "Q",
          "G",
          "I",
          "N",
          "K",
          "S",
          "P",
          "Sequence_Length",
          "R",
          "V",
          "A",
          "T",
          "L",
          "M",
          "E",
          "F",
          "C",
          "D",
          "Y",
          "W",
          "H"
         ],
         "xaxis": "x",
         "y": {
          "bdata": "PYN3RCyBuz9FxOFk9iK2P6tCb4KvErM/3XjCBuSwsj86GAKizymyPyeqm80wIrE/7ZahuuynsD9fS8qnFC2tP0iKcYPgw6k/+YD+470kqD8lfc1kYTKkP9inEWij/KM/HneZti/Noz8WxctoweGdPwTmwJgAPJ0/rzYm2YrInD8PrUApLvmbP37CGVavlZo/toAj2Q9CmD+5OPDxHC6QP3p4PgkxIXY/",
          "dtype": "f8"
         },
         "yaxis": "y"
        }
       ],
       "layout": {
        "barmode": "relative",
        "coloraxis": {
         "colorbar": {
          "title": {
           "text": "Importance Score"
          }
         },
         "colorscale": [
          [
           0,
           "#0d0887"
          ],
          [
           0.1111111111111111,
           "#46039f"
          ],
          [
           0.2222222222222222,
           "#7201a8"
          ],
          [
           0.3333333333333333,
           "#9c179e"
          ],
          [
           0.4444444444444444,
           "#bd3786"
          ],
          [
           0.5555555555555556,
           "#d8576b"
          ],
          [
           0.6666666666666666,
           "#ed7953"
          ],
          [
           0.7777777777777778,
           "#fb9f3a"
          ],
          [
           0.8888888888888888,
           "#fdca26"
          ],
          [
           1,
           "#f0f921"
          ]
         ]
        },
        "legend": {
         "tracegroupgap": 0
        },
        "template": {
         "data": {
          "bar": [
           {
            "error_x": {
             "color": "#2a3f5f"
            },
            "error_y": {
             "color": "#2a3f5f"
            },
            "marker": {
             "line": {
              "color": "#E5ECF6",
              "width": 0.5
             },
             "pattern": {
              "fillmode": "overlay",
              "size": 10,
              "solidity": 0.2
             }
            },
            "type": "bar"
           }
          ],
          "barpolar": [
           {
            "marker": {
             "line": {
              "color": "#E5ECF6",
              "width": 0.5
             },
             "pattern": {
              "fillmode": "overlay",
              "size": 10,
              "solidity": 0.2
             }
            },
            "type": "barpolar"
           }
          ],
          "carpet": [
           {
            "aaxis": {
             "endlinecolor": "#2a3f5f",
             "gridcolor": "white",
             "linecolor": "white",
             "minorgridcolor": "white",
             "startlinecolor": "#2a3f5f"
            },
            "baxis": {
             "endlinecolor": "#2a3f5f",
             "gridcolor": "white",
             "linecolor": "white",
             "minorgridcolor": "white",
             "startlinecolor": "#2a3f5f"
            },
            "type": "carpet"
           }
          ],
          "choropleth": [
           {
            "colorbar": {
             "outlinewidth": 0,
             "ticks": ""
            },
            "type": "choropleth"
           }
          ],
          "contour": [
           {
            "colorbar": {
             "outlinewidth": 0,
             "ticks": ""
            },
            "colorscale": [
             [
              0,
              "#0d0887"
             ],
             [
              0.1111111111111111,
              "#46039f"
             ],
             [
              0.2222222222222222,
              "#7201a8"
             ],
             [
              0.3333333333333333,
              "#9c179e"
             ],
             [
              0.4444444444444444,
              "#bd3786"
             ],
             [
              0.5555555555555556,
              "#d8576b"
             ],
             [
              0.6666666666666666,
              "#ed7953"
             ],
             [
              0.7777777777777778,
              "#fb9f3a"
             ],
             [
              0.8888888888888888,
              "#fdca26"
             ],
             [
              1,
              "#f0f921"
             ]
            ],
            "type": "contour"
           }
          ],
          "contourcarpet": [
           {
            "colorbar": {
             "outlinewidth": 0,
             "ticks": ""
            },
            "type": "contourcarpet"
           }
          ],
          "heatmap": [
           {
            "colorbar": {
             "outlinewidth": 0,
             "ticks": ""
            },
            "colorscale": [
             [
              0,
              "#0d0887"
             ],
             [
              0.1111111111111111,
              "#46039f"
             ],
             [
              0.2222222222222222,
              "#7201a8"
             ],
             [
              0.3333333333333333,
              "#9c179e"
             ],
             [
              0.4444444444444444,
              "#bd3786"
             ],
             [
              0.5555555555555556,
              "#d8576b"
             ],
             [
              0.6666666666666666,
              "#ed7953"
             ],
             [
              0.7777777777777778,
              "#fb9f3a"
             ],
             [
              0.8888888888888888,
              "#fdca26"
             ],
             [
              1,
              "#f0f921"
             ]
            ],
            "type": "heatmap"
           }
          ],
          "histogram": [
           {
            "marker": {
             "pattern": {
              "fillmode": "overlay",
              "size": 10,
              "solidity": 0.2
             }
            },
            "type": "histogram"
           }
          ],
          "histogram2d": [
           {
            "colorbar": {
             "outlinewidth": 0,
             "ticks": ""
            },
            "colorscale": [
             [
              0,
              "#0d0887"
             ],
             [
              0.1111111111111111,
              "#46039f"
             ],
             [
              0.2222222222222222,
              "#7201a8"
             ],
             [
              0.3333333333333333,
              "#9c179e"
             ],
             [
              0.4444444444444444,
              "#bd3786"
             ],
             [
              0.5555555555555556,
              "#d8576b"
             ],
             [
              0.6666666666666666,
              "#ed7953"
             ],
             [
              0.7777777777777778,
              "#fb9f3a"
             ],
             [
              0.8888888888888888,
              "#fdca26"
             ],
             [
              1,
              "#f0f921"
             ]
            ],
            "type": "histogram2d"
           }
          ],
          "histogram2dcontour": [
           {
            "colorbar": {
             "outlinewidth": 0,
             "ticks": ""
            },
            "colorscale": [
             [
              0,
              "#0d0887"
             ],
             [
              0.1111111111111111,
              "#46039f"
             ],
             [
              0.2222222222222222,
              "#7201a8"
             ],
             [
              0.3333333333333333,
              "#9c179e"
             ],
             [
              0.4444444444444444,
              "#bd3786"
             ],
             [
              0.5555555555555556,
              "#d8576b"
             ],
             [
              0.6666666666666666,
              "#ed7953"
             ],
             [
              0.7777777777777778,
              "#fb9f3a"
             ],
             [
              0.8888888888888888,
              "#fdca26"
             ],
             [
              1,
              "#f0f921"
             ]
            ],
            "type": "histogram2dcontour"
           }
          ],
          "mesh3d": [
           {
            "colorbar": {
             "outlinewidth": 0,
             "ticks": ""
            },
            "type": "mesh3d"
           }
          ],
          "parcoords": [
           {
            "line": {
             "colorbar": {
              "outlinewidth": 0,
              "ticks": ""
             }
            },
            "type": "parcoords"
           }
          ],
          "pie": [
           {
            "automargin": true,
            "type": "pie"
           }
          ],
          "scatter": [
           {
            "fillpattern": {
             "fillmode": "overlay",
             "size": 10,
             "solidity": 0.2
            },
            "type": "scatter"
           }
          ],
          "scatter3d": [
           {
            "line": {
             "colorbar": {
              "outlinewidth": 0,
              "ticks": ""
             }
            },
            "marker": {
             "colorbar": {
              "outlinewidth": 0,
              "ticks": ""
             }
            },
            "type": "scatter3d"
           }
          ],
          "scattercarpet": [
           {
            "marker": {
             "colorbar": {
              "outlinewidth": 0,
              "ticks": ""
             }
            },
            "type": "scattercarpet"
           }
          ],
          "scattergeo": [
           {
            "marker": {
             "colorbar": {
              "outlinewidth": 0,
              "ticks": ""
             }
            },
            "type": "scattergeo"
           }
          ],
          "scattergl": [
           {
            "marker": {
             "colorbar": {
              "outlinewidth": 0,
              "ticks": ""
             }
            },
            "type": "scattergl"
           }
          ],
          "scattermap": [
           {
            "marker": {
             "colorbar": {
              "outlinewidth": 0,
              "ticks": ""
             }
            },
            "type": "scattermap"
           }
          ],
          "scattermapbox": [
           {
            "marker": {
             "colorbar": {
              "outlinewidth": 0,
              "ticks": ""
             }
            },
            "type": "scattermapbox"
           }
          ],
          "scatterpolar": [
           {
            "marker": {
             "colorbar": {
              "outlinewidth": 0,
              "ticks": ""
             }
            },
            "type": "scatterpolar"
           }
          ],
          "scatterpolargl": [
           {
            "marker": {
             "colorbar": {
              "outlinewidth": 0,
              "ticks": ""
             }
            },
            "type": "scatterpolargl"
           }
          ],
          "scatterternary": [
           {
            "marker": {
             "colorbar": {
              "outlinewidth": 0,
              "ticks": ""
             }
            },
            "type": "scatterternary"
           }
          ],
          "surface": [
           {
            "colorbar": {
             "outlinewidth": 0,
             "ticks": ""
            },
            "colorscale": [
             [
              0,
              "#0d0887"
             ],
             [
              0.1111111111111111,
              "#46039f"
             ],
             [
              0.2222222222222222,
              "#7201a8"
             ],
             [
              0.3333333333333333,
              "#9c179e"
             ],
             [
              0.4444444444444444,
              "#bd3786"
             ],
             [
              0.5555555555555556,
              "#d8576b"
             ],
             [
              0.6666666666666666,
              "#ed7953"
             ],
             [
              0.7777777777777778,
              "#fb9f3a"
             ],
             [
              0.8888888888888888,
              "#fdca26"
             ],
             [
              1,
              "#f0f921"
             ]
            ],
            "type": "surface"
           }
          ],
          "table": [
           {
            "cells": {
             "fill": {
              "color": "#EBF0F8"
             },
             "line": {
              "color": "white"
             }
            },
            "header": {
             "fill": {
              "color": "#C8D4E3"
             },
             "line": {
              "color": "white"
             }
            },
            "type": "table"
           }
          ]
         },
         "layout": {
          "annotationdefaults": {
           "arrowcolor": "#2a3f5f",
           "arrowhead": 0,
           "arrowwidth": 1
          },
          "autotypenumbers": "strict",
          "coloraxis": {
           "colorbar": {
            "outlinewidth": 0,
            "ticks": ""
           }
          },
          "colorscale": {
           "diverging": [
            [
             0,
             "#8e0152"
            ],
            [
             0.1,
             "#c51b7d"
            ],
            [
             0.2,
             "#de77ae"
            ],
            [
             0.3,
             "#f1b6da"
            ],
            [
             0.4,
             "#fde0ef"
            ],
            [
             0.5,
             "#f7f7f7"
            ],
            [
             0.6,
             "#e6f5d0"
            ],
            [
             0.7,
             "#b8e186"
            ],
            [
             0.8,
             "#7fbc41"
            ],
            [
             0.9,
             "#4d9221"
            ],
            [
             1,
             "#276419"
            ]
           ],
           "sequential": [
            [
             0,
             "#0d0887"
            ],
            [
             0.1111111111111111,
             "#46039f"
            ],
            [
             0.2222222222222222,
             "#7201a8"
            ],
            [
             0.3333333333333333,
             "#9c179e"
            ],
            [
             0.4444444444444444,
             "#bd3786"
            ],
            [
             0.5555555555555556,
             "#d8576b"
            ],
            [
             0.6666666666666666,
             "#ed7953"
            ],
            [
             0.7777777777777778,
             "#fb9f3a"
            ],
            [
             0.8888888888888888,
             "#fdca26"
            ],
            [
             1,
             "#f0f921"
            ]
           ],
           "sequentialminus": [
            [
             0,
             "#0d0887"
            ],
            [
             0.1111111111111111,
             "#46039f"
            ],
            [
             0.2222222222222222,
             "#7201a8"
            ],
            [
             0.3333333333333333,
             "#9c179e"
            ],
            [
             0.4444444444444444,
             "#bd3786"
            ],
            [
             0.5555555555555556,
             "#d8576b"
            ],
            [
             0.6666666666666666,
             "#ed7953"
            ],
            [
             0.7777777777777778,
             "#fb9f3a"
            ],
            [
             0.8888888888888888,
             "#fdca26"
            ],
            [
             1,
             "#f0f921"
            ]
           ]
          },
          "colorway": [
           "#636efa",
           "#EF553B",
           "#00cc96",
           "#ab63fa",
           "#FFA15A",
           "#19d3f3",
           "#FF6692",
           "#B6E880",
           "#FF97FF",
           "#FECB52"
          ],
          "font": {
           "color": "#2a3f5f"
          },
          "geo": {
           "bgcolor": "white",
           "lakecolor": "white",
           "landcolor": "#E5ECF6",
           "showlakes": true,
           "showland": true,
           "subunitcolor": "white"
          },
          "hoverlabel": {
           "align": "left"
          },
          "hovermode": "closest",
          "mapbox": {
           "style": "light"
          },
          "paper_bgcolor": "white",
          "plot_bgcolor": "#E5ECF6",
          "polar": {
           "angularaxis": {
            "gridcolor": "white",
            "linecolor": "white",
            "ticks": ""
           },
           "bgcolor": "#E5ECF6",
           "radialaxis": {
            "gridcolor": "white",
            "linecolor": "white",
            "ticks": ""
           }
          },
          "scene": {
           "xaxis": {
            "backgroundcolor": "#E5ECF6",
            "gridcolor": "white",
            "gridwidth": 2,
            "linecolor": "white",
            "showbackground": true,
            "ticks": "",
            "zerolinecolor": "white"
           },
           "yaxis": {
            "backgroundcolor": "#E5ECF6",
            "gridcolor": "white",
            "gridwidth": 2,
            "linecolor": "white",
            "showbackground": true,
            "ticks": "",
            "zerolinecolor": "white"
           },
           "zaxis": {
            "backgroundcolor": "#E5ECF6",
            "gridcolor": "white",
            "gridwidth": 2,
            "linecolor": "white",
            "showbackground": true,
            "ticks": "",
            "zerolinecolor": "white"
           }
          },
          "shapedefaults": {
           "line": {
            "color": "#2a3f5f"
           }
          },
          "ternary": {
           "aaxis": {
            "gridcolor": "white",
            "linecolor": "white",
            "ticks": ""
           },
           "baxis": {
            "gridcolor": "white",
            "linecolor": "white",
            "ticks": ""
           },
           "bgcolor": "#E5ECF6",
           "caxis": {
            "gridcolor": "white",
            "linecolor": "white",
            "ticks": ""
           }
          },
          "title": {
           "x": 0.05
          },
          "xaxis": {
           "automargin": true,
           "gridcolor": "white",
           "linecolor": "white",
           "ticks": "",
           "title": {
            "standoff": 15
           },
           "zerolinecolor": "white",
           "zerolinewidth": 2
          },
          "yaxis": {
           "automargin": true,
           "gridcolor": "white",
           "linecolor": "white",
           "ticks": "",
           "title": {
            "standoff": 15
           },
           "zerolinecolor": "white",
           "zerolinewidth": 2
          }
         }
        },
        "title": {
         "text": "Feature Importances - Random Forest"
        },
        "xaxis": {
         "anchor": "y",
         "domain": [
          0,
          1
         ],
         "title": {
          "text": "Feature"
         }
        },
        "yaxis": {
         "anchor": "x",
         "domain": [
          0,
          1
         ],
         "title": {
          "text": "Importance Score"
         }
        }
       }
      }
     },
     "metadata": {},
     "output_type": "display_data"
    }
   ],
   "source": [
    "\n",
    "# Get feature importances\n",
    "importances = rf_model.feature_importances_\n",
    "feature_names = X.columns\n",
    "\n",
    "# Create DataFrame for plotting\n",
    "importance_df = pd.DataFrame({\n",
    "    'Feature': feature_names,\n",
    "    'Importance': importances\n",
    "}).sort_values(by='Importance', ascending=False)\n",
    "\n",
    "# Plotly bar chart\n",
    "fig = px.bar(importance_df, x='Feature', y='Importance',\n",
    "             title=\"Feature Importances - Random Forest\",\n",
    "             labels={'Importance': 'Importance Score'},\n",
    "             color='Importance')\n",
    "fig.show()\n"
   ]
  },
  {
   "cell_type": "markdown",
   "id": "246b9c58",
   "metadata": {},
   "source": [
    "## KDE Plots"
   ]
  },
  {
   "cell_type": "code",
   "execution_count": 16,
   "id": "6f1e0de2",
   "metadata": {},
   "outputs": [
    {
     "data": {
      "application/vnd.plotly.v1+json": {
       "config": {
        "plotlyServerURL": "https://plot.ly"
       },
       "data": [
        {
         "legendgroup": "0",
         "marker": {
          "color": "rgb(31, 119, 180)"
         },
         "mode": "lines",
         "name": "0",
         "showlegend": true,
         "type": "scatter",
         "x": [
          0,
          0.042,
          0.084,
          0.126,
          0.168,
          0.21,
          0.252,
          0.294,
          0.336,
          0.378,
          0.42,
          0.462,
          0.504,
          0.546,
          0.588,
          0.63,
          0.672,
          0.714,
          0.756,
          0.798,
          0.84,
          0.882,
          0.924,
          0.966,
          1.008,
          1.05,
          1.092,
          1.134,
          1.176,
          1.218,
          1.26,
          1.302,
          1.344,
          1.386,
          1.428,
          1.47,
          1.512,
          1.554,
          1.596,
          1.638,
          1.68,
          1.722,
          1.764,
          1.806,
          1.848,
          1.89,
          1.932,
          1.974,
          2.016,
          2.058,
          2.1,
          2.142,
          2.184,
          2.226,
          2.268,
          2.31,
          2.352,
          2.394,
          2.436,
          2.478,
          2.52,
          2.562,
          2.604,
          2.646,
          2.688,
          2.73,
          2.772,
          2.814,
          2.856,
          2.898,
          2.94,
          2.982,
          3.024,
          3.066,
          3.108,
          3.15,
          3.192,
          3.234,
          3.276,
          3.318,
          3.36,
          3.402,
          3.444,
          3.486,
          3.528,
          3.57,
          3.612,
          3.654,
          3.696,
          3.738,
          3.78,
          3.822,
          3.864,
          3.906,
          3.948,
          3.99,
          4.032,
          4.074,
          4.116,
          4.158,
          4.2,
          4.242,
          4.284,
          4.326,
          4.368,
          4.41,
          4.452,
          4.494,
          4.536,
          4.578,
          4.62,
          4.662,
          4.704,
          4.746,
          4.788,
          4.83,
          4.872,
          4.914,
          4.956,
          4.998,
          5.04,
          5.082,
          5.124,
          5.166,
          5.208,
          5.25,
          5.292,
          5.334,
          5.376,
          5.418,
          5.46,
          5.502,
          5.544,
          5.586,
          5.628,
          5.67,
          5.712,
          5.754,
          5.796,
          5.838,
          5.88,
          5.922,
          5.964,
          6.006,
          6.048,
          6.09,
          6.132,
          6.174,
          6.216,
          6.258,
          6.3,
          6.342,
          6.384,
          6.426,
          6.468,
          6.51,
          6.552,
          6.594,
          6.636,
          6.678,
          6.72,
          6.762,
          6.804,
          6.846,
          6.888,
          6.93,
          6.972,
          7.014,
          7.056,
          7.098,
          7.14,
          7.182,
          7.224,
          7.266,
          7.308,
          7.35,
          7.392,
          7.434,
          7.476,
          7.518,
          7.56,
          7.602,
          7.644,
          7.686,
          7.728,
          7.77,
          7.812,
          7.854,
          7.896,
          7.938,
          7.98,
          8.022,
          8.064,
          8.106,
          8.148,
          8.19,
          8.232,
          8.274,
          8.316,
          8.358,
          8.4,
          8.442,
          8.484,
          8.526,
          8.568,
          8.61,
          8.652,
          8.694,
          8.736,
          8.778,
          8.82,
          8.862,
          8.904,
          8.946,
          8.988,
          9.03,
          9.072,
          9.114,
          9.156,
          9.198,
          9.24,
          9.282,
          9.324,
          9.366,
          9.408,
          9.45,
          9.492,
          9.534,
          9.576,
          9.618,
          9.66,
          9.702,
          9.744,
          9.786,
          9.828,
          9.87,
          9.912,
          9.954,
          9.996,
          10.038,
          10.08,
          10.122,
          10.164,
          10.206,
          10.248,
          10.29,
          10.332,
          10.374,
          10.416,
          10.458,
          10.5,
          10.542,
          10.584,
          10.626,
          10.668,
          10.71,
          10.752,
          10.794,
          10.836,
          10.878,
          10.92,
          10.962,
          11.004,
          11.046,
          11.088,
          11.13,
          11.172,
          11.214,
          11.256,
          11.298,
          11.34,
          11.382,
          11.424,
          11.466,
          11.508,
          11.55,
          11.592,
          11.634,
          11.676,
          11.718,
          11.76,
          11.802,
          11.844,
          11.886,
          11.928,
          11.97,
          12.012,
          12.054,
          12.096,
          12.138,
          12.18,
          12.222,
          12.264,
          12.306,
          12.348,
          12.39,
          12.432,
          12.474,
          12.516,
          12.558,
          12.6,
          12.642,
          12.684,
          12.726,
          12.768,
          12.81,
          12.852,
          12.894,
          12.936,
          12.978,
          13.02,
          13.062,
          13.104,
          13.146,
          13.188,
          13.23,
          13.272,
          13.314,
          13.356,
          13.398,
          13.44,
          13.482,
          13.524,
          13.566,
          13.608,
          13.65,
          13.692,
          13.734,
          13.776,
          13.818,
          13.86,
          13.902,
          13.944,
          13.986,
          14.028,
          14.07,
          14.112,
          14.154,
          14.196,
          14.238,
          14.28,
          14.322,
          14.364,
          14.406,
          14.448,
          14.49,
          14.532,
          14.574,
          14.616,
          14.658,
          14.7,
          14.742,
          14.784,
          14.826,
          14.868,
          14.91,
          14.952,
          14.994,
          15.036,
          15.078,
          15.12,
          15.162,
          15.204,
          15.246,
          15.288,
          15.33,
          15.372,
          15.414,
          15.456,
          15.498,
          15.54,
          15.582,
          15.624,
          15.666,
          15.708,
          15.75,
          15.792,
          15.834,
          15.876,
          15.918,
          15.96,
          16.002,
          16.044,
          16.086,
          16.128,
          16.17,
          16.212,
          16.254,
          16.296,
          16.338,
          16.38,
          16.422,
          16.464,
          16.506,
          16.548,
          16.59,
          16.632,
          16.674,
          16.716,
          16.758,
          16.8,
          16.842,
          16.884,
          16.926,
          16.968,
          17.01,
          17.052,
          17.094,
          17.136,
          17.178,
          17.22,
          17.262,
          17.304,
          17.346,
          17.388,
          17.43,
          17.472,
          17.514,
          17.556,
          17.598,
          17.64,
          17.682,
          17.724,
          17.766,
          17.808,
          17.85,
          17.892,
          17.934,
          17.976,
          18.018,
          18.06,
          18.102,
          18.144,
          18.186,
          18.228,
          18.27,
          18.312,
          18.354,
          18.396,
          18.438,
          18.48,
          18.522,
          18.564,
          18.606,
          18.648,
          18.69,
          18.732,
          18.774,
          18.816,
          18.858,
          18.9,
          18.942,
          18.984,
          19.026,
          19.068,
          19.11,
          19.152,
          19.194,
          19.236,
          19.278,
          19.32,
          19.362,
          19.404,
          19.446,
          19.488,
          19.53,
          19.572,
          19.614,
          19.656,
          19.698,
          19.74,
          19.782,
          19.824,
          19.866,
          19.908,
          19.95,
          19.992,
          20.034,
          20.076,
          20.118,
          20.16,
          20.202,
          20.244,
          20.286,
          20.328,
          20.37,
          20.412,
          20.454,
          20.496,
          20.538,
          20.58,
          20.622,
          20.664,
          20.706,
          20.748,
          20.79,
          20.832,
          20.874,
          20.916,
          20.958
         ],
         "xaxis": "x",
         "y": {
          "bdata": "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",
          "dtype": "f8"
         },
         "yaxis": "y"
        },
        {
         "legendgroup": "1",
         "marker": {
          "color": "rgb(255, 127, 14)"
         },
         "mode": "lines",
         "name": "1",
         "showlegend": true,
         "type": "scatter",
         "x": [
          0,
          0.078,
          0.156,
          0.234,
          0.312,
          0.39,
          0.468,
          0.546,
          0.624,
          0.702,
          0.78,
          0.858,
          0.936,
          1.014,
          1.092,
          1.17,
          1.248,
          1.326,
          1.404,
          1.482,
          1.56,
          1.638,
          1.716,
          1.794,
          1.872,
          1.95,
          2.028,
          2.106,
          2.184,
          2.262,
          2.34,
          2.418,
          2.496,
          2.574,
          2.652,
          2.73,
          2.808,
          2.886,
          2.964,
          3.042,
          3.12,
          3.198,
          3.276,
          3.354,
          3.432,
          3.51,
          3.588,
          3.666,
          3.744,
          3.822,
          3.9,
          3.978,
          4.056,
          4.134,
          4.212,
          4.29,
          4.368,
          4.446,
          4.524,
          4.602,
          4.68,
          4.758,
          4.836,
          4.914,
          4.992,
          5.07,
          5.148,
          5.226,
          5.304,
          5.382,
          5.46,
          5.538,
          5.616,
          5.694,
          5.772,
          5.85,
          5.928,
          6.006,
          6.084,
          6.162,
          6.24,
          6.318,
          6.396,
          6.474,
          6.552,
          6.63,
          6.708,
          6.786,
          6.864,
          6.942,
          7.02,
          7.098,
          7.176,
          7.254,
          7.332,
          7.41,
          7.488,
          7.566,
          7.644,
          7.722,
          7.8,
          7.878,
          7.956,
          8.034,
          8.112,
          8.19,
          8.268,
          8.346,
          8.424,
          8.502,
          8.58,
          8.658,
          8.736,
          8.814,
          8.892,
          8.97,
          9.048,
          9.126,
          9.204,
          9.282,
          9.36,
          9.438,
          9.516,
          9.594,
          9.672,
          9.75,
          9.828,
          9.906,
          9.984,
          10.062,
          10.14,
          10.218,
          10.296,
          10.374,
          10.452,
          10.53,
          10.608,
          10.686,
          10.764,
          10.842,
          10.92,
          10.998,
          11.076,
          11.154,
          11.232,
          11.31,
          11.388,
          11.466,
          11.544,
          11.622,
          11.7,
          11.778,
          11.856,
          11.934,
          12.012,
          12.09,
          12.168,
          12.246,
          12.324,
          12.402,
          12.48,
          12.558,
          12.636,
          12.714,
          12.792,
          12.87,
          12.948,
          13.026,
          13.104,
          13.182,
          13.26,
          13.338,
          13.416,
          13.494,
          13.572,
          13.65,
          13.728,
          13.806,
          13.884,
          13.962,
          14.04,
          14.118,
          14.196,
          14.274,
          14.352,
          14.43,
          14.508,
          14.586,
          14.664,
          14.742,
          14.82,
          14.898,
          14.976,
          15.054,
          15.132,
          15.21,
          15.288,
          15.366,
          15.444,
          15.522,
          15.6,
          15.678,
          15.756,
          15.834,
          15.912,
          15.99,
          16.068,
          16.146,
          16.224,
          16.302,
          16.38,
          16.458,
          16.536,
          16.614,
          16.692,
          16.77,
          16.848,
          16.926,
          17.004,
          17.082,
          17.16,
          17.238,
          17.316,
          17.394,
          17.472,
          17.55,
          17.628,
          17.706,
          17.784,
          17.862,
          17.94,
          18.018,
          18.096,
          18.174,
          18.252,
          18.33,
          18.408,
          18.486,
          18.564,
          18.642,
          18.72,
          18.798,
          18.876,
          18.954,
          19.032,
          19.11,
          19.188,
          19.266,
          19.344,
          19.422,
          19.5,
          19.578,
          19.656,
          19.734,
          19.812,
          19.89,
          19.968,
          20.046,
          20.124,
          20.202,
          20.28,
          20.358,
          20.436,
          20.514,
          20.592,
          20.67,
          20.748,
          20.826,
          20.904,
          20.982,
          21.06,
          21.138,
          21.216,
          21.294,
          21.372,
          21.45,
          21.528,
          21.606,
          21.684,
          21.762,
          21.84,
          21.918,
          21.996,
          22.074,
          22.152,
          22.23,
          22.308,
          22.386,
          22.464,
          22.542,
          22.62,
          22.698,
          22.776,
          22.854,
          22.932,
          23.01,
          23.088,
          23.166,
          23.244,
          23.322,
          23.4,
          23.478,
          23.556,
          23.634,
          23.712,
          23.79,
          23.868,
          23.946,
          24.024,
          24.102,
          24.18,
          24.258,
          24.336,
          24.414,
          24.492,
          24.57,
          24.648,
          24.726,
          24.804,
          24.882,
          24.96,
          25.038,
          25.116,
          25.194,
          25.272,
          25.35,
          25.428,
          25.506,
          25.584,
          25.662,
          25.74,
          25.818,
          25.896,
          25.974,
          26.052,
          26.13,
          26.208,
          26.286,
          26.364,
          26.442,
          26.52,
          26.598,
          26.676,
          26.754,
          26.832,
          26.91,
          26.988,
          27.066,
          27.144,
          27.222,
          27.3,
          27.378,
          27.456,
          27.534,
          27.612,
          27.69,
          27.768,
          27.846,
          27.924,
          28.002,
          28.08,
          28.158,
          28.236,
          28.314,
          28.392,
          28.47,
          28.548,
          28.626,
          28.704,
          28.782,
          28.86,
          28.938,
          29.016,
          29.094,
          29.172,
          29.25,
          29.328,
          29.406,
          29.484,
          29.562,
          29.64,
          29.718,
          29.796,
          29.874,
          29.952,
          30.03,
          30.108,
          30.186,
          30.264,
          30.342,
          30.42,
          30.498,
          30.576,
          30.654,
          30.732,
          30.81,
          30.888,
          30.966,
          31.044,
          31.122,
          31.2,
          31.278,
          31.356,
          31.434,
          31.512,
          31.59,
          31.668,
          31.746,
          31.824,
          31.902,
          31.98,
          32.058,
          32.136,
          32.214,
          32.292,
          32.37,
          32.448,
          32.526,
          32.604,
          32.682,
          32.76,
          32.838,
          32.916,
          32.994,
          33.072,
          33.15,
          33.228,
          33.306,
          33.384,
          33.462,
          33.54,
          33.618,
          33.696,
          33.774,
          33.852,
          33.93,
          34.008,
          34.086,
          34.164,
          34.242,
          34.32,
          34.398,
          34.476,
          34.554,
          34.632,
          34.71,
          34.788,
          34.866,
          34.944,
          35.022,
          35.1,
          35.178,
          35.256,
          35.334,
          35.412,
          35.49,
          35.568,
          35.646,
          35.724,
          35.802,
          35.88,
          35.958,
          36.036,
          36.114,
          36.192,
          36.27,
          36.348,
          36.426,
          36.504,
          36.582,
          36.66,
          36.738,
          36.816,
          36.894,
          36.972,
          37.05,
          37.128,
          37.206,
          37.284,
          37.362,
          37.44,
          37.518,
          37.596,
          37.674,
          37.752,
          37.83,
          37.908,
          37.986,
          38.064,
          38.142,
          38.22,
          38.298,
          38.376,
          38.454,
          38.532,
          38.61,
          38.688,
          38.766,
          38.844,
          38.922
         ],
         "xaxis": "x",
         "y": {
          "bdata": "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",
          "dtype": "f8"
         },
         "yaxis": "y"
        },
        {
         "legendgroup": "2",
         "marker": {
          "color": "rgb(44, 160, 44)"
         },
         "mode": "lines",
         "name": "2",
         "showlegend": true,
         "type": "scatter",
         "x": [
          0,
          0.072,
          0.144,
          0.216,
          0.288,
          0.36,
          0.432,
          0.504,
          0.576,
          0.648,
          0.72,
          0.792,
          0.864,
          0.936,
          1.008,
          1.08,
          1.152,
          1.224,
          1.296,
          1.368,
          1.44,
          1.512,
          1.584,
          1.656,
          1.728,
          1.8,
          1.872,
          1.944,
          2.016,
          2.088,
          2.16,
          2.232,
          2.304,
          2.376,
          2.448,
          2.52,
          2.592,
          2.664,
          2.736,
          2.808,
          2.88,
          2.952,
          3.024,
          3.096,
          3.168,
          3.24,
          3.312,
          3.384,
          3.456,
          3.528,
          3.6,
          3.672,
          3.744,
          3.816,
          3.888,
          3.96,
          4.032,
          4.104,
          4.176,
          4.248,
          4.32,
          4.392,
          4.464,
          4.536,
          4.608,
          4.68,
          4.752,
          4.824,
          4.896,
          4.968,
          5.04,
          5.112,
          5.184,
          5.256,
          5.328,
          5.4,
          5.472,
          5.544,
          5.616,
          5.688,
          5.76,
          5.832,
          5.904,
          5.976,
          6.048,
          6.12,
          6.192,
          6.264,
          6.336,
          6.408,
          6.48,
          6.552,
          6.624,
          6.696,
          6.768,
          6.84,
          6.912,
          6.984,
          7.056,
          7.128,
          7.2,
          7.272,
          7.344,
          7.416,
          7.488,
          7.56,
          7.632,
          7.704,
          7.776,
          7.848,
          7.92,
          7.992,
          8.064,
          8.136,
          8.208,
          8.28,
          8.352,
          8.424,
          8.496,
          8.568,
          8.64,
          8.712,
          8.784,
          8.856,
          8.928,
          9,
          9.072,
          9.144,
          9.216,
          9.288,
          9.36,
          9.432,
          9.504,
          9.576,
          9.648,
          9.72,
          9.792,
          9.864,
          9.936,
          10.008,
          10.08,
          10.152,
          10.224,
          10.296,
          10.368,
          10.44,
          10.512,
          10.584,
          10.656,
          10.728,
          10.8,
          10.872,
          10.944,
          11.016,
          11.088,
          11.16,
          11.232,
          11.304,
          11.376,
          11.448,
          11.52,
          11.592,
          11.664,
          11.736,
          11.808,
          11.88,
          11.952,
          12.024,
          12.096,
          12.168,
          12.24,
          12.312,
          12.384,
          12.456,
          12.528,
          12.6,
          12.672,
          12.744,
          12.816,
          12.888,
          12.96,
          13.032,
          13.104,
          13.176,
          13.248,
          13.32,
          13.392,
          13.464,
          13.536,
          13.608,
          13.68,
          13.752,
          13.824,
          13.896,
          13.968,
          14.04,
          14.112,
          14.184,
          14.256,
          14.328,
          14.4,
          14.472,
          14.544,
          14.616,
          14.688,
          14.76,
          14.832,
          14.904,
          14.976,
          15.048,
          15.12,
          15.192,
          15.264,
          15.336,
          15.408,
          15.48,
          15.552,
          15.624,
          15.696,
          15.768,
          15.84,
          15.912,
          15.984,
          16.056,
          16.128,
          16.2,
          16.272,
          16.344,
          16.416,
          16.488,
          16.56,
          16.632,
          16.704,
          16.776,
          16.848,
          16.92,
          16.992,
          17.064,
          17.136,
          17.208,
          17.28,
          17.352,
          17.424,
          17.496,
          17.568,
          17.64,
          17.712,
          17.784,
          17.856,
          17.928,
          18,
          18.072,
          18.144,
          18.216,
          18.288,
          18.36,
          18.432,
          18.504,
          18.576,
          18.648,
          18.72,
          18.792,
          18.864,
          18.936,
          19.008,
          19.08,
          19.152,
          19.224,
          19.296,
          19.368,
          19.44,
          19.512,
          19.584,
          19.656,
          19.728,
          19.8,
          19.872,
          19.944,
          20.016,
          20.088,
          20.16,
          20.232,
          20.304,
          20.376,
          20.448,
          20.52,
          20.592,
          20.664,
          20.736,
          20.808,
          20.88,
          20.952,
          21.024,
          21.096,
          21.168,
          21.24,
          21.312,
          21.384,
          21.456,
          21.528,
          21.6,
          21.672,
          21.744,
          21.816,
          21.888,
          21.96,
          22.032,
          22.104,
          22.176,
          22.248,
          22.32,
          22.392,
          22.464,
          22.536,
          22.608,
          22.68,
          22.752,
          22.824,
          22.896,
          22.968,
          23.04,
          23.112,
          23.184,
          23.256,
          23.328,
          23.4,
          23.472,
          23.544,
          23.616,
          23.688,
          23.76,
          23.832,
          23.904,
          23.976,
          24.048,
          24.12,
          24.192,
          24.264,
          24.336,
          24.408,
          24.48,
          24.552,
          24.624,
          24.696,
          24.768,
          24.84,
          24.912,
          24.984,
          25.056,
          25.128,
          25.2,
          25.272,
          25.344,
          25.416,
          25.488,
          25.56,
          25.632,
          25.704,
          25.776,
          25.848,
          25.92,
          25.992,
          26.064,
          26.136,
          26.208,
          26.28,
          26.352,
          26.424,
          26.496,
          26.568,
          26.64,
          26.712,
          26.784,
          26.856,
          26.928,
          27,
          27.072,
          27.144,
          27.216,
          27.288,
          27.36,
          27.432,
          27.504,
          27.576,
          27.648,
          27.72,
          27.792,
          27.864,
          27.936,
          28.008,
          28.08,
          28.152,
          28.224,
          28.296,
          28.368,
          28.44,
          28.512,
          28.584,
          28.656,
          28.728,
          28.8,
          28.872,
          28.944,
          29.016,
          29.088,
          29.16,
          29.232,
          29.304,
          29.376,
          29.448,
          29.52,
          29.592,
          29.664,
          29.736,
          29.808,
          29.88,
          29.952,
          30.024,
          30.096,
          30.168,
          30.24,
          30.312,
          30.384,
          30.456,
          30.528,
          30.6,
          30.672,
          30.744,
          30.816,
          30.888,
          30.96,
          31.032,
          31.104,
          31.176,
          31.248,
          31.32,
          31.392,
          31.464,
          31.536,
          31.608,
          31.68,
          31.752,
          31.824,
          31.896,
          31.968,
          32.04,
          32.112,
          32.184,
          32.256,
          32.328,
          32.4,
          32.472,
          32.544,
          32.616,
          32.688,
          32.76,
          32.832,
          32.904,
          32.976,
          33.048,
          33.12,
          33.192,
          33.264,
          33.336,
          33.408,
          33.48,
          33.552,
          33.624,
          33.696,
          33.768,
          33.84,
          33.912,
          33.984,
          34.056,
          34.128,
          34.2,
          34.272,
          34.344,
          34.416,
          34.488,
          34.56,
          34.632,
          34.704,
          34.776,
          34.848,
          34.92,
          34.992,
          35.064,
          35.136,
          35.208,
          35.28,
          35.352,
          35.424,
          35.496,
          35.568,
          35.64,
          35.712,
          35.784,
          35.856,
          35.928
         ],
         "xaxis": "x",
         "y": {
          "bdata": "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",
          "dtype": "f8"
         },
         "yaxis": "y"
        },
        {
         "legendgroup": "3",
         "marker": {
          "color": "rgb(214, 39, 40)"
         },
         "mode": "lines",
         "name": "3",
         "showlegend": true,
         "type": "scatter",
         "x": [
          0,
          0.07,
          0.14,
          0.21,
          0.28,
          0.35,
          0.42,
          0.49,
          0.56,
          0.63,
          0.7,
          0.77,
          0.84,
          0.91,
          0.98,
          1.05,
          1.12,
          1.19,
          1.26,
          1.33,
          1.4,
          1.47,
          1.54,
          1.61,
          1.68,
          1.75,
          1.82,
          1.89,
          1.96,
          2.03,
          2.1,
          2.17,
          2.24,
          2.31,
          2.38,
          2.45,
          2.52,
          2.59,
          2.66,
          2.73,
          2.8,
          2.87,
          2.94,
          3.01,
          3.08,
          3.15,
          3.22,
          3.29,
          3.36,
          3.43,
          3.5,
          3.57,
          3.64,
          3.71,
          3.78,
          3.85,
          3.92,
          3.99,
          4.06,
          4.13,
          4.2,
          4.27,
          4.34,
          4.41,
          4.48,
          4.55,
          4.62,
          4.69,
          4.76,
          4.83,
          4.9,
          4.97,
          5.04,
          5.11,
          5.18,
          5.25,
          5.32,
          5.39,
          5.46,
          5.53,
          5.6,
          5.67,
          5.74,
          5.81,
          5.88,
          5.95,
          6.02,
          6.09,
          6.16,
          6.23,
          6.3,
          6.37,
          6.44,
          6.51,
          6.58,
          6.65,
          6.72,
          6.79,
          6.86,
          6.93,
          7,
          7.07,
          7.14,
          7.21,
          7.28,
          7.35,
          7.42,
          7.49,
          7.56,
          7.63,
          7.7,
          7.77,
          7.84,
          7.91,
          7.98,
          8.05,
          8.12,
          8.19,
          8.26,
          8.33,
          8.4,
          8.47,
          8.54,
          8.61,
          8.68,
          8.75,
          8.82,
          8.89,
          8.96,
          9.03,
          9.1,
          9.17,
          9.24,
          9.31,
          9.38,
          9.45,
          9.52,
          9.59,
          9.66,
          9.73,
          9.8,
          9.87,
          9.94,
          10.01,
          10.08,
          10.15,
          10.22,
          10.29,
          10.36,
          10.43,
          10.5,
          10.57,
          10.64,
          10.71,
          10.78,
          10.85,
          10.92,
          10.99,
          11.06,
          11.13,
          11.2,
          11.27,
          11.34,
          11.41,
          11.48,
          11.55,
          11.62,
          11.69,
          11.76,
          11.83,
          11.9,
          11.97,
          12.04,
          12.11,
          12.18,
          12.25,
          12.32,
          12.39,
          12.46,
          12.53,
          12.6,
          12.67,
          12.74,
          12.81,
          12.88,
          12.95,
          13.02,
          13.09,
          13.16,
          13.23,
          13.3,
          13.37,
          13.44,
          13.51,
          13.58,
          13.65,
          13.72,
          13.79,
          13.86,
          13.93,
          14,
          14.07,
          14.14,
          14.21,
          14.28,
          14.35,
          14.42,
          14.49,
          14.56,
          14.63,
          14.7,
          14.77,
          14.84,
          14.91,
          14.98,
          15.05,
          15.12,
          15.19,
          15.26,
          15.33,
          15.4,
          15.47,
          15.54,
          15.61,
          15.68,
          15.75,
          15.82,
          15.89,
          15.96,
          16.03,
          16.1,
          16.17,
          16.24,
          16.31,
          16.38,
          16.45,
          16.52,
          16.59,
          16.66,
          16.73,
          16.8,
          16.87,
          16.94,
          17.01,
          17.08,
          17.15,
          17.22,
          17.29,
          17.36,
          17.43,
          17.5,
          17.57,
          17.64,
          17.71,
          17.78,
          17.85,
          17.92,
          17.99,
          18.06,
          18.13,
          18.2,
          18.27,
          18.34,
          18.41,
          18.48,
          18.55,
          18.62,
          18.69,
          18.76,
          18.83,
          18.9,
          18.97,
          19.04,
          19.11,
          19.18,
          19.25,
          19.32,
          19.39,
          19.46,
          19.53,
          19.6,
          19.67,
          19.74,
          19.81,
          19.88,
          19.95,
          20.02,
          20.09,
          20.16,
          20.23,
          20.3,
          20.37,
          20.44,
          20.51,
          20.58,
          20.65,
          20.72,
          20.79,
          20.86,
          20.93,
          21,
          21.07,
          21.14,
          21.21,
          21.28,
          21.35,
          21.42,
          21.49,
          21.56,
          21.63,
          21.7,
          21.77,
          21.84,
          21.91,
          21.98,
          22.05,
          22.12,
          22.19,
          22.26,
          22.33,
          22.4,
          22.47,
          22.54,
          22.61,
          22.68,
          22.75,
          22.82,
          22.89,
          22.96,
          23.03,
          23.1,
          23.17,
          23.24,
          23.31,
          23.38,
          23.45,
          23.52,
          23.59,
          23.66,
          23.73,
          23.8,
          23.87,
          23.94,
          24.01,
          24.08,
          24.15,
          24.22,
          24.29,
          24.36,
          24.43,
          24.5,
          24.57,
          24.64,
          24.71,
          24.78,
          24.85,
          24.92,
          24.99,
          25.06,
          25.13,
          25.2,
          25.27,
          25.34,
          25.41,
          25.48,
          25.55,
          25.62,
          25.69,
          25.76,
          25.83,
          25.9,
          25.97,
          26.04,
          26.11,
          26.18,
          26.25,
          26.32,
          26.39,
          26.46,
          26.53,
          26.6,
          26.67,
          26.74,
          26.81,
          26.88,
          26.95,
          27.02,
          27.09,
          27.16,
          27.23,
          27.3,
          27.37,
          27.44,
          27.51,
          27.58,
          27.65,
          27.72,
          27.79,
          27.86,
          27.93,
          28,
          28.07,
          28.14,
          28.21,
          28.28,
          28.35,
          28.42,
          28.49,
          28.56,
          28.63,
          28.7,
          28.77,
          28.84,
          28.91,
          28.98,
          29.05,
          29.12,
          29.19,
          29.26,
          29.33,
          29.4,
          29.47,
          29.54,
          29.61,
          29.68,
          29.75,
          29.82,
          29.89,
          29.96,
          30.03,
          30.1,
          30.17,
          30.24,
          30.31,
          30.38,
          30.45,
          30.52,
          30.59,
          30.66,
          30.73,
          30.8,
          30.87,
          30.94,
          31.01,
          31.08,
          31.15,
          31.22,
          31.29,
          31.36,
          31.43,
          31.5,
          31.57,
          31.64,
          31.71,
          31.78,
          31.85,
          31.92,
          31.99,
          32.06,
          32.13,
          32.2,
          32.27,
          32.34,
          32.41,
          32.48,
          32.55,
          32.62,
          32.69,
          32.76,
          32.83,
          32.9,
          32.97,
          33.04,
          33.11,
          33.18,
          33.25,
          33.32,
          33.39,
          33.46,
          33.53,
          33.6,
          33.67,
          33.74,
          33.81,
          33.88,
          33.95,
          34.02,
          34.09,
          34.16,
          34.23,
          34.3,
          34.37,
          34.44,
          34.51,
          34.58,
          34.65,
          34.72,
          34.79,
          34.86,
          34.93
         ],
         "xaxis": "x",
         "y": {
          "bdata": "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",
          "dtype": "f8"
         },
         "yaxis": "y"
        }
       ],
       "layout": {
        "barmode": "overlay",
        "hovermode": "closest",
        "legend": {
         "traceorder": "reversed"
        },
        "template": {
         "data": {
          "bar": [
           {
            "error_x": {
             "color": "#2a3f5f"
            },
            "error_y": {
             "color": "#2a3f5f"
            },
            "marker": {
             "line": {
              "color": "#E5ECF6",
              "width": 0.5
             },
             "pattern": {
              "fillmode": "overlay",
              "size": 10,
              "solidity": 0.2
             }
            },
            "type": "bar"
           }
          ],
          "barpolar": [
           {
            "marker": {
             "line": {
              "color": "#E5ECF6",
              "width": 0.5
             },
             "pattern": {
              "fillmode": "overlay",
              "size": 10,
              "solidity": 0.2
             }
            },
            "type": "barpolar"
           }
          ],
          "carpet": [
           {
            "aaxis": {
             "endlinecolor": "#2a3f5f",
             "gridcolor": "white",
             "linecolor": "white",
             "minorgridcolor": "white",
             "startlinecolor": "#2a3f5f"
            },
            "baxis": {
             "endlinecolor": "#2a3f5f",
             "gridcolor": "white",
             "linecolor": "white",
             "minorgridcolor": "white",
             "startlinecolor": "#2a3f5f"
            },
            "type": "carpet"
           }
          ],
          "choropleth": [
           {
            "colorbar": {
             "outlinewidth": 0,
             "ticks": ""
            },
            "type": "choropleth"
           }
          ],
          "contour": [
           {
            "colorbar": {
             "outlinewidth": 0,
             "ticks": ""
            },
            "colorscale": [
             [
              0,
              "#0d0887"
             ],
             [
              0.1111111111111111,
              "#46039f"
             ],
             [
              0.2222222222222222,
              "#7201a8"
             ],
             [
              0.3333333333333333,
              "#9c179e"
             ],
             [
              0.4444444444444444,
              "#bd3786"
             ],
             [
              0.5555555555555556,
              "#d8576b"
             ],
             [
              0.6666666666666666,
              "#ed7953"
             ],
             [
              0.7777777777777778,
              "#fb9f3a"
             ],
             [
              0.8888888888888888,
              "#fdca26"
             ],
             [
              1,
              "#f0f921"
             ]
            ],
            "type": "contour"
           }
          ],
          "contourcarpet": [
           {
            "colorbar": {
             "outlinewidth": 0,
             "ticks": ""
            },
            "type": "contourcarpet"
           }
          ],
          "heatmap": [
           {
            "colorbar": {
             "outlinewidth": 0,
             "ticks": ""
            },
            "colorscale": [
             [
              0,
              "#0d0887"
             ],
             [
              0.1111111111111111,
              "#46039f"
             ],
             [
              0.2222222222222222,
              "#7201a8"
             ],
             [
              0.3333333333333333,
              "#9c179e"
             ],
             [
              0.4444444444444444,
              "#bd3786"
             ],
             [
              0.5555555555555556,
              "#d8576b"
             ],
             [
              0.6666666666666666,
              "#ed7953"
             ],
             [
              0.7777777777777778,
              "#fb9f3a"
             ],
             [
              0.8888888888888888,
              "#fdca26"
             ],
             [
              1,
              "#f0f921"
             ]
            ],
            "type": "heatmap"
           }
          ],
          "histogram": [
           {
            "marker": {
             "pattern": {
              "fillmode": "overlay",
              "size": 10,
              "solidity": 0.2
             }
            },
            "type": "histogram"
           }
          ],
          "histogram2d": [
           {
            "colorbar": {
             "outlinewidth": 0,
             "ticks": ""
            },
            "colorscale": [
             [
              0,
              "#0d0887"
             ],
             [
              0.1111111111111111,
              "#46039f"
             ],
             [
              0.2222222222222222,
              "#7201a8"
             ],
             [
              0.3333333333333333,
              "#9c179e"
             ],
             [
              0.4444444444444444,
              "#bd3786"
             ],
             [
              0.5555555555555556,
              "#d8576b"
             ],
             [
              0.6666666666666666,
              "#ed7953"
             ],
             [
              0.7777777777777778,
              "#fb9f3a"
             ],
             [
              0.8888888888888888,
              "#fdca26"
             ],
             [
              1,
              "#f0f921"
             ]
            ],
            "type": "histogram2d"
           }
          ],
          "histogram2dcontour": [
           {
            "colorbar": {
             "outlinewidth": 0,
             "ticks": ""
            },
            "colorscale": [
             [
              0,
              "#0d0887"
             ],
             [
              0.1111111111111111,
              "#46039f"
             ],
             [
              0.2222222222222222,
              "#7201a8"
             ],
             [
              0.3333333333333333,
              "#9c179e"
             ],
             [
              0.4444444444444444,
              "#bd3786"
             ],
             [
              0.5555555555555556,
              "#d8576b"
             ],
             [
              0.6666666666666666,
              "#ed7953"
             ],
             [
              0.7777777777777778,
              "#fb9f3a"
             ],
             [
              0.8888888888888888,
              "#fdca26"
             ],
             [
              1,
              "#f0f921"
             ]
            ],
            "type": "histogram2dcontour"
           }
          ],
          "mesh3d": [
           {
            "colorbar": {
             "outlinewidth": 0,
             "ticks": ""
            },
            "type": "mesh3d"
           }
          ],
          "parcoords": [
           {
            "line": {
             "colorbar": {
              "outlinewidth": 0,
              "ticks": ""
             }
            },
            "type": "parcoords"
           }
          ],
          "pie": [
           {
            "automargin": true,
            "type": "pie"
           }
          ],
          "scatter": [
           {
            "fillpattern": {
             "fillmode": "overlay",
             "size": 10,
             "solidity": 0.2
            },
            "type": "scatter"
           }
          ],
          "scatter3d": [
           {
            "line": {
             "colorbar": {
              "outlinewidth": 0,
              "ticks": ""
             }
            },
            "marker": {
             "colorbar": {
              "outlinewidth": 0,
              "ticks": ""
             }
            },
            "type": "scatter3d"
           }
          ],
          "scattercarpet": [
           {
            "marker": {
             "colorbar": {
              "outlinewidth": 0,
              "ticks": ""
             }
            },
            "type": "scattercarpet"
           }
          ],
          "scattergeo": [
           {
            "marker": {
             "colorbar": {
              "outlinewidth": 0,
              "ticks": ""
             }
            },
            "type": "scattergeo"
           }
          ],
          "scattergl": [
           {
            "marker": {
             "colorbar": {
              "outlinewidth": 0,
              "ticks": ""
             }
            },
            "type": "scattergl"
           }
          ],
          "scattermap": [
           {
            "marker": {
             "colorbar": {
              "outlinewidth": 0,
              "ticks": ""
             }
            },
            "type": "scattermap"
           }
          ],
          "scattermapbox": [
           {
            "marker": {
             "colorbar": {
              "outlinewidth": 0,
              "ticks": ""
             }
            },
            "type": "scattermapbox"
           }
          ],
          "scatterpolar": [
           {
            "marker": {
             "colorbar": {
              "outlinewidth": 0,
              "ticks": ""
             }
            },
            "type": "scatterpolar"
           }
          ],
          "scatterpolargl": [
           {
            "marker": {
             "colorbar": {
              "outlinewidth": 0,
              "ticks": ""
             }
            },
            "type": "scatterpolargl"
           }
          ],
          "scatterternary": [
           {
            "marker": {
             "colorbar": {
              "outlinewidth": 0,
              "ticks": ""
             }
            },
            "type": "scatterternary"
           }
          ],
          "surface": [
           {
            "colorbar": {
             "outlinewidth": 0,
             "ticks": ""
            },
            "colorscale": [
             [
              0,
              "#0d0887"
             ],
             [
              0.1111111111111111,
              "#46039f"
             ],
             [
              0.2222222222222222,
              "#7201a8"
             ],
             [
              0.3333333333333333,
              "#9c179e"
             ],
             [
              0.4444444444444444,
              "#bd3786"
             ],
             [
              0.5555555555555556,
              "#d8576b"
             ],
             [
              0.6666666666666666,
              "#ed7953"
             ],
             [
              0.7777777777777778,
              "#fb9f3a"
             ],
             [
              0.8888888888888888,
              "#fdca26"
             ],
             [
              1,
              "#f0f921"
             ]
            ],
            "type": "surface"
           }
          ],
          "table": [
           {
            "cells": {
             "fill": {
              "color": "#EBF0F8"
             },
             "line": {
              "color": "white"
             }
            },
            "header": {
             "fill": {
              "color": "#C8D4E3"
             },
             "line": {
              "color": "white"
             }
            },
            "type": "table"
           }
          ]
         },
         "layout": {
          "annotationdefaults": {
           "arrowcolor": "#2a3f5f",
           "arrowhead": 0,
           "arrowwidth": 1
          },
          "autotypenumbers": "strict",
          "coloraxis": {
           "colorbar": {
            "outlinewidth": 0,
            "ticks": ""
           }
          },
          "colorscale": {
           "diverging": [
            [
             0,
             "#8e0152"
            ],
            [
             0.1,
             "#c51b7d"
            ],
            [
             0.2,
             "#de77ae"
            ],
            [
             0.3,
             "#f1b6da"
            ],
            [
             0.4,
             "#fde0ef"
            ],
            [
             0.5,
             "#f7f7f7"
            ],
            [
             0.6,
             "#e6f5d0"
            ],
            [
             0.7,
             "#b8e186"
            ],
            [
             0.8,
             "#7fbc41"
            ],
            [
             0.9,
             "#4d9221"
            ],
            [
             1,
             "#276419"
            ]
           ],
           "sequential": [
            [
             0,
             "#0d0887"
            ],
            [
             0.1111111111111111,
             "#46039f"
            ],
            [
             0.2222222222222222,
             "#7201a8"
            ],
            [
             0.3333333333333333,
             "#9c179e"
            ],
            [
             0.4444444444444444,
             "#bd3786"
            ],
            [
             0.5555555555555556,
             "#d8576b"
            ],
            [
             0.6666666666666666,
             "#ed7953"
            ],
            [
             0.7777777777777778,
             "#fb9f3a"
            ],
            [
             0.8888888888888888,
             "#fdca26"
            ],
            [
             1,
             "#f0f921"
            ]
           ],
           "sequentialminus": [
            [
             0,
             "#0d0887"
            ],
            [
             0.1111111111111111,
             "#46039f"
            ],
            [
             0.2222222222222222,
             "#7201a8"
            ],
            [
             0.3333333333333333,
             "#9c179e"
            ],
            [
             0.4444444444444444,
             "#bd3786"
            ],
            [
             0.5555555555555556,
             "#d8576b"
            ],
            [
             0.6666666666666666,
             "#ed7953"
            ],
            [
             0.7777777777777778,
             "#fb9f3a"
            ],
            [
             0.8888888888888888,
             "#fdca26"
            ],
            [
             1,
             "#f0f921"
            ]
           ]
          },
          "colorway": [
           "#636efa",
           "#EF553B",
           "#00cc96",
           "#ab63fa",
           "#FFA15A",
           "#19d3f3",
           "#FF6692",
           "#B6E880",
           "#FF97FF",
           "#FECB52"
          ],
          "font": {
           "color": "#2a3f5f"
          },
          "geo": {
           "bgcolor": "white",
           "lakecolor": "white",
           "landcolor": "#E5ECF6",
           "showlakes": true,
           "showland": true,
           "subunitcolor": "white"
          },
          "hoverlabel": {
           "align": "left"
          },
          "hovermode": "closest",
          "mapbox": {
           "style": "light"
          },
          "paper_bgcolor": "white",
          "plot_bgcolor": "#E5ECF6",
          "polar": {
           "angularaxis": {
            "gridcolor": "white",
            "linecolor": "white",
            "ticks": ""
           },
           "bgcolor": "#E5ECF6",
           "radialaxis": {
            "gridcolor": "white",
            "linecolor": "white",
            "ticks": ""
           }
          },
          "scene": {
           "xaxis": {
            "backgroundcolor": "#E5ECF6",
            "gridcolor": "white",
            "gridwidth": 2,
            "linecolor": "white",
            "showbackground": true,
            "ticks": "",
            "zerolinecolor": "white"
           },
           "yaxis": {
            "backgroundcolor": "#E5ECF6",
            "gridcolor": "white",
            "gridwidth": 2,
            "linecolor": "white",
            "showbackground": true,
            "ticks": "",
            "zerolinecolor": "white"
           },
           "zaxis": {
            "backgroundcolor": "#E5ECF6",
            "gridcolor": "white",
            "gridwidth": 2,
            "linecolor": "white",
            "showbackground": true,
            "ticks": "",
            "zerolinecolor": "white"
           }
          },
          "shapedefaults": {
           "line": {
            "color": "#2a3f5f"
           }
          },
          "ternary": {
           "aaxis": {
            "gridcolor": "white",
            "linecolor": "white",
            "ticks": ""
           },
           "baxis": {
            "gridcolor": "white",
            "linecolor": "white",
            "ticks": ""
           },
           "bgcolor": "#E5ECF6",
           "caxis": {
            "gridcolor": "white",
            "linecolor": "white",
            "ticks": ""
           }
          },
          "title": {
           "x": 0.05
          },
          "xaxis": {
           "automargin": true,
           "gridcolor": "white",
           "linecolor": "white",
           "ticks": "",
           "title": {
            "standoff": 15
           },
           "zerolinecolor": "white",
           "zerolinewidth": 2
          },
          "yaxis": {
           "automargin": true,
           "gridcolor": "white",
           "linecolor": "white",
           "ticks": "",
           "title": {
            "standoff": 15
           },
           "zerolinecolor": "white",
           "zerolinewidth": 2
          }
         }
        },
        "title": {
         "text": "KDE Plot for Feature: Q"
        },
        "xaxis": {
         "anchor": "y2",
         "domain": [
          0,
          1
         ],
         "zeroline": false
        },
        "yaxis": {
         "anchor": "free",
         "domain": [
          0,
          1
         ],
         "position": 0
        }
       }
      }
     },
     "metadata": {},
     "output_type": "display_data"
    },
    {
     "data": {
      "application/vnd.plotly.v1+json": {
       "config": {
        "plotlyServerURL": "https://plot.ly"
       },
       "data": [
        {
         "legendgroup": "0",
         "marker": {
          "color": "rgb(31, 119, 180)"
         },
         "mode": "lines",
         "name": "0",
         "showlegend": true,
         "type": "scatter",
         "x": [
          0,
          0.078,
          0.156,
          0.234,
          0.312,
          0.39,
          0.468,
          0.546,
          0.624,
          0.702,
          0.78,
          0.858,
          0.936,
          1.014,
          1.092,
          1.17,
          1.248,
          1.326,
          1.404,
          1.482,
          1.56,
          1.638,
          1.716,
          1.794,
          1.872,
          1.95,
          2.028,
          2.106,
          2.184,
          2.262,
          2.34,
          2.418,
          2.496,
          2.574,
          2.652,
          2.73,
          2.808,
          2.886,
          2.964,
          3.042,
          3.12,
          3.198,
          3.276,
          3.354,
          3.432,
          3.51,
          3.588,
          3.666,
          3.744,
          3.822,
          3.9,
          3.978,
          4.056,
          4.134,
          4.212,
          4.29,
          4.368,
          4.446,
          4.524,
          4.602,
          4.68,
          4.758,
          4.836,
          4.914,
          4.992,
          5.07,
          5.148,
          5.226,
          5.304,
          5.382,
          5.46,
          5.538,
          5.616,
          5.694,
          5.772,
          5.85,
          5.928,
          6.006,
          6.084,
          6.162,
          6.24,
          6.318,
          6.396,
          6.474,
          6.552,
          6.63,
          6.708,
          6.786,
          6.864,
          6.942,
          7.02,
          7.098,
          7.176,
          7.254,
          7.332,
          7.41,
          7.488,
          7.566,
          7.644,
          7.722,
          7.8,
          7.878,
          7.956,
          8.034,
          8.112,
          8.19,
          8.268,
          8.346,
          8.424,
          8.502,
          8.58,
          8.658,
          8.736,
          8.814,
          8.892,
          8.97,
          9.048,
          9.126,
          9.204,
          9.282,
          9.36,
          9.438,
          9.516,
          9.594,
          9.672,
          9.75,
          9.828,
          9.906,
          9.984,
          10.062,
          10.14,
          10.218,
          10.296,
          10.374,
          10.452,
          10.53,
          10.608,
          10.686,
          10.764,
          10.842,
          10.92,
          10.998,
          11.076,
          11.154,
          11.232,
          11.31,
          11.388,
          11.466,
          11.544,
          11.622,
          11.7,
          11.778,
          11.856,
          11.934,
          12.012,
          12.09,
          12.168,
          12.246,
          12.324,
          12.402,
          12.48,
          12.558,
          12.636,
          12.714,
          12.792,
          12.87,
          12.948,
          13.026,
          13.104,
          13.182,
          13.26,
          13.338,
          13.416,
          13.494,
          13.572,
          13.65,
          13.728,
          13.806,
          13.884,
          13.962,
          14.04,
          14.118,
          14.196,
          14.274,
          14.352,
          14.43,
          14.508,
          14.586,
          14.664,
          14.742,
          14.82,
          14.898,
          14.976,
          15.054,
          15.132,
          15.21,
          15.288,
          15.366,
          15.444,
          15.522,
          15.6,
          15.678,
          15.756,
          15.834,
          15.912,
          15.99,
          16.068,
          16.146,
          16.224,
          16.302,
          16.38,
          16.458,
          16.536,
          16.614,
          16.692,
          16.77,
          16.848,
          16.926,
          17.004,
          17.082,
          17.16,
          17.238,
          17.316,
          17.394,
          17.472,
          17.55,
          17.628,
          17.706,
          17.784,
          17.862,
          17.94,
          18.018,
          18.096,
          18.174,
          18.252,
          18.33,
          18.408,
          18.486,
          18.564,
          18.642,
          18.72,
          18.798,
          18.876,
          18.954,
          19.032,
          19.11,
          19.188,
          19.266,
          19.344,
          19.422,
          19.5,
          19.578,
          19.656,
          19.734,
          19.812,
          19.89,
          19.968,
          20.046,
          20.124,
          20.202,
          20.28,
          20.358,
          20.436,
          20.514,
          20.592,
          20.67,
          20.748,
          20.826,
          20.904,
          20.982,
          21.06,
          21.138,
          21.216,
          21.294,
          21.372,
          21.45,
          21.528,
          21.606,
          21.684,
          21.762,
          21.84,
          21.918,
          21.996,
          22.074,
          22.152,
          22.23,
          22.308,
          22.386,
          22.464,
          22.542,
          22.62,
          22.698,
          22.776,
          22.854,
          22.932,
          23.01,
          23.088,
          23.166,
          23.244,
          23.322,
          23.4,
          23.478,
          23.556,
          23.634,
          23.712,
          23.79,
          23.868,
          23.946,
          24.024,
          24.102,
          24.18,
          24.258,
          24.336,
          24.414,
          24.492,
          24.57,
          24.648,
          24.726,
          24.804,
          24.882,
          24.96,
          25.038,
          25.116,
          25.194,
          25.272,
          25.35,
          25.428,
          25.506,
          25.584,
          25.662,
          25.74,
          25.818,
          25.896,
          25.974,
          26.052,
          26.13,
          26.208,
          26.286,
          26.364,
          26.442,
          26.52,
          26.598,
          26.676,
          26.754,
          26.832,
          26.91,
          26.988,
          27.066,
          27.144,
          27.222,
          27.3,
          27.378,
          27.456,
          27.534,
          27.612,
          27.69,
          27.768,
          27.846,
          27.924,
          28.002,
          28.08,
          28.158,
          28.236,
          28.314,
          28.392,
          28.47,
          28.548,
          28.626,
          28.704,
          28.782,
          28.86,
          28.938,
          29.016,
          29.094,
          29.172,
          29.25,
          29.328,
          29.406,
          29.484,
          29.562,
          29.64,
          29.718,
          29.796,
          29.874,
          29.952,
          30.03,
          30.108,
          30.186,
          30.264,
          30.342,
          30.42,
          30.498,
          30.576,
          30.654,
          30.732,
          30.81,
          30.888,
          30.966,
          31.044,
          31.122,
          31.2,
          31.278,
          31.356,
          31.434,
          31.512,
          31.59,
          31.668,
          31.746,
          31.824,
          31.902,
          31.98,
          32.058,
          32.136,
          32.214,
          32.292,
          32.37,
          32.448,
          32.526,
          32.604,
          32.682,
          32.76,
          32.838,
          32.916,
          32.994,
          33.072,
          33.15,
          33.228,
          33.306,
          33.384,
          33.462,
          33.54,
          33.618,
          33.696,
          33.774,
          33.852,
          33.93,
          34.008,
          34.086,
          34.164,
          34.242,
          34.32,
          34.398,
          34.476,
          34.554,
          34.632,
          34.71,
          34.788,
          34.866,
          34.944,
          35.022,
          35.1,
          35.178,
          35.256,
          35.334,
          35.412,
          35.49,
          35.568,
          35.646,
          35.724,
          35.802,
          35.88,
          35.958,
          36.036,
          36.114,
          36.192,
          36.27,
          36.348,
          36.426,
          36.504,
          36.582,
          36.66,
          36.738,
          36.816,
          36.894,
          36.972,
          37.05,
          37.128,
          37.206,
          37.284,
          37.362,
          37.44,
          37.518,
          37.596,
          37.674,
          37.752,
          37.83,
          37.908,
          37.986,
          38.064,
          38.142,
          38.22,
          38.298,
          38.376,
          38.454,
          38.532,
          38.61,
          38.688,
          38.766,
          38.844,
          38.922
         ],
         "xaxis": "x",
         "y": {
          "bdata": "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",
          "dtype": "f8"
         },
         "yaxis": "y"
        },
        {
         "legendgroup": "1",
         "marker": {
          "color": "rgb(255, 127, 14)"
         },
         "mode": "lines",
         "name": "1",
         "showlegend": true,
         "type": "scatter",
         "x": [
          0,
          0.108,
          0.216,
          0.324,
          0.432,
          0.54,
          0.648,
          0.756,
          0.864,
          0.972,
          1.08,
          1.188,
          1.296,
          1.404,
          1.512,
          1.62,
          1.728,
          1.836,
          1.944,
          2.052,
          2.16,
          2.268,
          2.376,
          2.484,
          2.592,
          2.7,
          2.808,
          2.916,
          3.024,
          3.132,
          3.24,
          3.348,
          3.456,
          3.564,
          3.672,
          3.78,
          3.888,
          3.996,
          4.104,
          4.212,
          4.32,
          4.428,
          4.536,
          4.644,
          4.752,
          4.86,
          4.968,
          5.076,
          5.184,
          5.292,
          5.4,
          5.508,
          5.616,
          5.724,
          5.832,
          5.94,
          6.048,
          6.156,
          6.264,
          6.372,
          6.48,
          6.588,
          6.696,
          6.804,
          6.912,
          7.02,
          7.128,
          7.236,
          7.344,
          7.452,
          7.56,
          7.668,
          7.776,
          7.884,
          7.992,
          8.1,
          8.208,
          8.316,
          8.424,
          8.532,
          8.64,
          8.748,
          8.856,
          8.964,
          9.072,
          9.18,
          9.288,
          9.396,
          9.504,
          9.612,
          9.72,
          9.828,
          9.936,
          10.044,
          10.152,
          10.26,
          10.368,
          10.476,
          10.584,
          10.692,
          10.8,
          10.908,
          11.016,
          11.124,
          11.232,
          11.34,
          11.448,
          11.556,
          11.664,
          11.772,
          11.88,
          11.988,
          12.096,
          12.204,
          12.312,
          12.42,
          12.528,
          12.636,
          12.744,
          12.852,
          12.96,
          13.068,
          13.176,
          13.284,
          13.392,
          13.5,
          13.608,
          13.716,
          13.824,
          13.932,
          14.04,
          14.148,
          14.256,
          14.364,
          14.472,
          14.58,
          14.688,
          14.796,
          14.904,
          15.012,
          15.12,
          15.228,
          15.336,
          15.444,
          15.552,
          15.66,
          15.768,
          15.876,
          15.984,
          16.092,
          16.2,
          16.308,
          16.416,
          16.524,
          16.632,
          16.74,
          16.848,
          16.956,
          17.064,
          17.172,
          17.28,
          17.388,
          17.496,
          17.604,
          17.712,
          17.82,
          17.928,
          18.036,
          18.144,
          18.252,
          18.36,
          18.468,
          18.576,
          18.684,
          18.792,
          18.9,
          19.008,
          19.116,
          19.224,
          19.332,
          19.44,
          19.548,
          19.656,
          19.764,
          19.872,
          19.98,
          20.088,
          20.196,
          20.304,
          20.412,
          20.52,
          20.628,
          20.736,
          20.844,
          20.952,
          21.06,
          21.168,
          21.276,
          21.384,
          21.492,
          21.6,
          21.708,
          21.816,
          21.924,
          22.032,
          22.14,
          22.248,
          22.356,
          22.464,
          22.572,
          22.68,
          22.788,
          22.896,
          23.004,
          23.112,
          23.22,
          23.328,
          23.436,
          23.544,
          23.652,
          23.76,
          23.868,
          23.976,
          24.084,
          24.192,
          24.3,
          24.408,
          24.516,
          24.624,
          24.732,
          24.84,
          24.948,
          25.056,
          25.164,
          25.272,
          25.38,
          25.488,
          25.596,
          25.704,
          25.812,
          25.92,
          26.028,
          26.136,
          26.244,
          26.352,
          26.46,
          26.568,
          26.676,
          26.784,
          26.892,
          27,
          27.108,
          27.216,
          27.324,
          27.432,
          27.54,
          27.648,
          27.756,
          27.864,
          27.972,
          28.08,
          28.188,
          28.296,
          28.404,
          28.512,
          28.62,
          28.728,
          28.836,
          28.944,
          29.052,
          29.16,
          29.268,
          29.376,
          29.484,
          29.592,
          29.7,
          29.808,
          29.916,
          30.024,
          30.132,
          30.24,
          30.348,
          30.456,
          30.564,
          30.672,
          30.78,
          30.888,
          30.996,
          31.104,
          31.212,
          31.32,
          31.428,
          31.536,
          31.644,
          31.752,
          31.86,
          31.968,
          32.076,
          32.184,
          32.292,
          32.4,
          32.508,
          32.616,
          32.724,
          32.832,
          32.94,
          33.048,
          33.156,
          33.264,
          33.372,
          33.48,
          33.588,
          33.696,
          33.804,
          33.912,
          34.02,
          34.128,
          34.236,
          34.344,
          34.452,
          34.56,
          34.668,
          34.776,
          34.884,
          34.992,
          35.1,
          35.208,
          35.316,
          35.424,
          35.532,
          35.64,
          35.748,
          35.856,
          35.964,
          36.072,
          36.18,
          36.288,
          36.396,
          36.504,
          36.612,
          36.72,
          36.828,
          36.936,
          37.044,
          37.152,
          37.26,
          37.368,
          37.476,
          37.584,
          37.692,
          37.8,
          37.908,
          38.016,
          38.124,
          38.232,
          38.34,
          38.448,
          38.556,
          38.664,
          38.772,
          38.88,
          38.988,
          39.096,
          39.204,
          39.312,
          39.42,
          39.528,
          39.636,
          39.744,
          39.852,
          39.96,
          40.068,
          40.176,
          40.284,
          40.392,
          40.5,
          40.608,
          40.716,
          40.824,
          40.932,
          41.04,
          41.148,
          41.256,
          41.364,
          41.472,
          41.58,
          41.688,
          41.796,
          41.904,
          42.012,
          42.12,
          42.228,
          42.336,
          42.444,
          42.552,
          42.66,
          42.768,
          42.876,
          42.984,
          43.092,
          43.2,
          43.308,
          43.416,
          43.524,
          43.632,
          43.74,
          43.848,
          43.956,
          44.064,
          44.172,
          44.28,
          44.388,
          44.496,
          44.604,
          44.712,
          44.82,
          44.928,
          45.036,
          45.144,
          45.252,
          45.36,
          45.468,
          45.576,
          45.684,
          45.792,
          45.9,
          46.008,
          46.116,
          46.224,
          46.332,
          46.44,
          46.548,
          46.656,
          46.764,
          46.872,
          46.98,
          47.088,
          47.196,
          47.304,
          47.412,
          47.52,
          47.628,
          47.736,
          47.844,
          47.952,
          48.06,
          48.168,
          48.276,
          48.384,
          48.492,
          48.6,
          48.708,
          48.816,
          48.924,
          49.032,
          49.14,
          49.248,
          49.356,
          49.464,
          49.572,
          49.68,
          49.788,
          49.896,
          50.004,
          50.112,
          50.22,
          50.328,
          50.436,
          50.544,
          50.652,
          50.76,
          50.868,
          50.976,
          51.084,
          51.192,
          51.3,
          51.408,
          51.516,
          51.624,
          51.732,
          51.84,
          51.948,
          52.056,
          52.164,
          52.272,
          52.38,
          52.488,
          52.596,
          52.704,
          52.812,
          52.92,
          53.028,
          53.136,
          53.244,
          53.352,
          53.46,
          53.568,
          53.676,
          53.784,
          53.892
         ],
         "xaxis": "x",
         "y": {
          "bdata": "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",
          "dtype": "f8"
         },
         "yaxis": "y"
        },
        {
         "legendgroup": "2",
         "marker": {
          "color": "rgb(44, 160, 44)"
         },
         "mode": "lines",
         "name": "2",
         "showlegend": true,
         "type": "scatter",
         "x": [
          0,
          0.086,
          0.172,
          0.258,
          0.344,
          0.43,
          0.516,
          0.602,
          0.688,
          0.774,
          0.86,
          0.946,
          1.032,
          1.118,
          1.204,
          1.29,
          1.376,
          1.462,
          1.548,
          1.634,
          1.72,
          1.806,
          1.892,
          1.978,
          2.064,
          2.15,
          2.236,
          2.322,
          2.408,
          2.494,
          2.58,
          2.666,
          2.752,
          2.838,
          2.924,
          3.01,
          3.096,
          3.182,
          3.268,
          3.354,
          3.44,
          3.526,
          3.612,
          3.698,
          3.784,
          3.87,
          3.956,
          4.042,
          4.128,
          4.214,
          4.3,
          4.386,
          4.472,
          4.558,
          4.644,
          4.73,
          4.816,
          4.902,
          4.988,
          5.074,
          5.16,
          5.246,
          5.332,
          5.418,
          5.504,
          5.59,
          5.676,
          5.762,
          5.848,
          5.934,
          6.02,
          6.106,
          6.192,
          6.278,
          6.364,
          6.45,
          6.536,
          6.622,
          6.708,
          6.794,
          6.88,
          6.966,
          7.052,
          7.138,
          7.224,
          7.31,
          7.396,
          7.482,
          7.568,
          7.654,
          7.74,
          7.826,
          7.912,
          7.998,
          8.084,
          8.17,
          8.256,
          8.342,
          8.428,
          8.514,
          8.6,
          8.686,
          8.772,
          8.858,
          8.944,
          9.03,
          9.116,
          9.202,
          9.288,
          9.374,
          9.46,
          9.546,
          9.632,
          9.718,
          9.804,
          9.89,
          9.976,
          10.062,
          10.148,
          10.234,
          10.32,
          10.406,
          10.492,
          10.578,
          10.664,
          10.75,
          10.836,
          10.922,
          11.008,
          11.094,
          11.18,
          11.266,
          11.352,
          11.438,
          11.524,
          11.61,
          11.696,
          11.782,
          11.868,
          11.954,
          12.04,
          12.126,
          12.212,
          12.298,
          12.384,
          12.47,
          12.556,
          12.642,
          12.728,
          12.814,
          12.9,
          12.986,
          13.072,
          13.158,
          13.244,
          13.33,
          13.416,
          13.502,
          13.588,
          13.674,
          13.76,
          13.846,
          13.932,
          14.018,
          14.104,
          14.19,
          14.276,
          14.362,
          14.448,
          14.534,
          14.62,
          14.706,
          14.792,
          14.878,
          14.964,
          15.05,
          15.136,
          15.222,
          15.308,
          15.394,
          15.48,
          15.566,
          15.652,
          15.738,
          15.824,
          15.91,
          15.996,
          16.082,
          16.168,
          16.254,
          16.34,
          16.426,
          16.512,
          16.598,
          16.684,
          16.77,
          16.856,
          16.942,
          17.028,
          17.114,
          17.2,
          17.286,
          17.372,
          17.458,
          17.544,
          17.63,
          17.716,
          17.802,
          17.888,
          17.974,
          18.06,
          18.146,
          18.232,
          18.318,
          18.404,
          18.49,
          18.576,
          18.662,
          18.748,
          18.834,
          18.92,
          19.006,
          19.092,
          19.178,
          19.264,
          19.35,
          19.436,
          19.522,
          19.608,
          19.694,
          19.78,
          19.866,
          19.952,
          20.038,
          20.124,
          20.21,
          20.296,
          20.382,
          20.468,
          20.554,
          20.64,
          20.726,
          20.812,
          20.898,
          20.984,
          21.07,
          21.156,
          21.242,
          21.328,
          21.414,
          21.5,
          21.586,
          21.672,
          21.758,
          21.844,
          21.93,
          22.016,
          22.102,
          22.188,
          22.274,
          22.36,
          22.446,
          22.532,
          22.618,
          22.704,
          22.79,
          22.876,
          22.962,
          23.048,
          23.134,
          23.22,
          23.306,
          23.392,
          23.478,
          23.564,
          23.65,
          23.736,
          23.822,
          23.908,
          23.994,
          24.08,
          24.166,
          24.252,
          24.338,
          24.424,
          24.51,
          24.596,
          24.682,
          24.768,
          24.854,
          24.94,
          25.026,
          25.112,
          25.198,
          25.284,
          25.37,
          25.456,
          25.542,
          25.628,
          25.714,
          25.8,
          25.886,
          25.972,
          26.058,
          26.144,
          26.23,
          26.316,
          26.402,
          26.488,
          26.574,
          26.66,
          26.746,
          26.832,
          26.918,
          27.004,
          27.09,
          27.176,
          27.262,
          27.348,
          27.434,
          27.52,
          27.606,
          27.692,
          27.778,
          27.864,
          27.95,
          28.036,
          28.122,
          28.208,
          28.294,
          28.38,
          28.466,
          28.552,
          28.638,
          28.724,
          28.81,
          28.896,
          28.982,
          29.068,
          29.154,
          29.24,
          29.326,
          29.412,
          29.498,
          29.584,
          29.67,
          29.756,
          29.842,
          29.928,
          30.014,
          30.1,
          30.186,
          30.272,
          30.358,
          30.444,
          30.53,
          30.616,
          30.702,
          30.788,
          30.874,
          30.96,
          31.046,
          31.132,
          31.218,
          31.304,
          31.39,
          31.476,
          31.562,
          31.648,
          31.734,
          31.82,
          31.906,
          31.992,
          32.078,
          32.164,
          32.25,
          32.336,
          32.422,
          32.508,
          32.594,
          32.68,
          32.766,
          32.852,
          32.938,
          33.024,
          33.11,
          33.196,
          33.282,
          33.368,
          33.454,
          33.54,
          33.626,
          33.712,
          33.798,
          33.884,
          33.97,
          34.056,
          34.142,
          34.228,
          34.314,
          34.4,
          34.486,
          34.572,
          34.658,
          34.744,
          34.83,
          34.916,
          35.002,
          35.088,
          35.174,
          35.26,
          35.346,
          35.432,
          35.518,
          35.604,
          35.69,
          35.776,
          35.862,
          35.948,
          36.034,
          36.12,
          36.206,
          36.292,
          36.378,
          36.464,
          36.55,
          36.636,
          36.722,
          36.808,
          36.894,
          36.98,
          37.066,
          37.152,
          37.238,
          37.324,
          37.41,
          37.496,
          37.582,
          37.668,
          37.754,
          37.84,
          37.926,
          38.012,
          38.098,
          38.184,
          38.27,
          38.356,
          38.442,
          38.528,
          38.614,
          38.7,
          38.786,
          38.872,
          38.958,
          39.044,
          39.13,
          39.216,
          39.302,
          39.388,
          39.474,
          39.56,
          39.646,
          39.732,
          39.818,
          39.904,
          39.99,
          40.076,
          40.162,
          40.248,
          40.334,
          40.42,
          40.506,
          40.592,
          40.678,
          40.764,
          40.85,
          40.936,
          41.022,
          41.108,
          41.194,
          41.28,
          41.366,
          41.452,
          41.538,
          41.624,
          41.71,
          41.796,
          41.882,
          41.968,
          42.054,
          42.14,
          42.226,
          42.312,
          42.398,
          42.484,
          42.57,
          42.656,
          42.742,
          42.828,
          42.914
         ],
         "xaxis": "x",
         "y": {
          "bdata": "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",
          "dtype": "f8"
         },
         "yaxis": "y"
        },
        {
         "legendgroup": "3",
         "marker": {
          "color": "rgb(214, 39, 40)"
         },
         "mode": "lines",
         "name": "3",
         "showlegend": true,
         "type": "scatter",
         "x": [
          0,
          0.088,
          0.176,
          0.264,
          0.352,
          0.44,
          0.528,
          0.616,
          0.704,
          0.792,
          0.88,
          0.968,
          1.056,
          1.144,
          1.232,
          1.32,
          1.408,
          1.496,
          1.584,
          1.672,
          1.76,
          1.848,
          1.936,
          2.024,
          2.112,
          2.2,
          2.288,
          2.376,
          2.464,
          2.552,
          2.64,
          2.728,
          2.816,
          2.904,
          2.992,
          3.08,
          3.168,
          3.256,
          3.344,
          3.432,
          3.52,
          3.608,
          3.696,
          3.784,
          3.872,
          3.96,
          4.048,
          4.136,
          4.224,
          4.312,
          4.4,
          4.488,
          4.576,
          4.664,
          4.752,
          4.84,
          4.928,
          5.016,
          5.104,
          5.192,
          5.28,
          5.368,
          5.456,
          5.544,
          5.632,
          5.72,
          5.808,
          5.896,
          5.984,
          6.072,
          6.16,
          6.248,
          6.336,
          6.424,
          6.512,
          6.6,
          6.688,
          6.776,
          6.864,
          6.952,
          7.04,
          7.128,
          7.216,
          7.304,
          7.392,
          7.48,
          7.568,
          7.656,
          7.744,
          7.832,
          7.92,
          8.008,
          8.096,
          8.184,
          8.272,
          8.36,
          8.448,
          8.536,
          8.624,
          8.712,
          8.8,
          8.888,
          8.976,
          9.064,
          9.152,
          9.24,
          9.328,
          9.416,
          9.504,
          9.592,
          9.68,
          9.768,
          9.856,
          9.944,
          10.032,
          10.12,
          10.208,
          10.296,
          10.384,
          10.472,
          10.56,
          10.648,
          10.736,
          10.824,
          10.912,
          11,
          11.088,
          11.176,
          11.264,
          11.352,
          11.44,
          11.528,
          11.616,
          11.704,
          11.792,
          11.88,
          11.968,
          12.056,
          12.144,
          12.232,
          12.32,
          12.408,
          12.496,
          12.584,
          12.672,
          12.76,
          12.848,
          12.936,
          13.024,
          13.112,
          13.2,
          13.288,
          13.376,
          13.464,
          13.552,
          13.64,
          13.728,
          13.816,
          13.904,
          13.992,
          14.08,
          14.168,
          14.256,
          14.344,
          14.432,
          14.52,
          14.608,
          14.696,
          14.784,
          14.872,
          14.96,
          15.048,
          15.136,
          15.224,
          15.312,
          15.4,
          15.488,
          15.576,
          15.664,
          15.752,
          15.84,
          15.928,
          16.016,
          16.104,
          16.192,
          16.28,
          16.368,
          16.456,
          16.544,
          16.632,
          16.72,
          16.808,
          16.896,
          16.984,
          17.072,
          17.16,
          17.248,
          17.336,
          17.424,
          17.512,
          17.6,
          17.688,
          17.776,
          17.864,
          17.952,
          18.04,
          18.128,
          18.216,
          18.304,
          18.392,
          18.48,
          18.568,
          18.656,
          18.744,
          18.832,
          18.92,
          19.008,
          19.096,
          19.184,
          19.272,
          19.36,
          19.448,
          19.536,
          19.624,
          19.712,
          19.8,
          19.888,
          19.976,
          20.064,
          20.152,
          20.24,
          20.328,
          20.416,
          20.504,
          20.592,
          20.68,
          20.768,
          20.856,
          20.944,
          21.032,
          21.12,
          21.208,
          21.296,
          21.384,
          21.472,
          21.56,
          21.648,
          21.736,
          21.824,
          21.912,
          22,
          22.088,
          22.176,
          22.264,
          22.352,
          22.44,
          22.528,
          22.616,
          22.704,
          22.792,
          22.88,
          22.968,
          23.056,
          23.144,
          23.232,
          23.32,
          23.408,
          23.496,
          23.584,
          23.672,
          23.76,
          23.848,
          23.936,
          24.024,
          24.112,
          24.2,
          24.288,
          24.376,
          24.464,
          24.552,
          24.64,
          24.728,
          24.816,
          24.904,
          24.992,
          25.08,
          25.168,
          25.256,
          25.344,
          25.432,
          25.52,
          25.608,
          25.696,
          25.784,
          25.872,
          25.96,
          26.048,
          26.136,
          26.224,
          26.312,
          26.4,
          26.488,
          26.576,
          26.664,
          26.752,
          26.84,
          26.928,
          27.016,
          27.104,
          27.192,
          27.28,
          27.368,
          27.456,
          27.544,
          27.632,
          27.72,
          27.808,
          27.896,
          27.984,
          28.072,
          28.16,
          28.248,
          28.336,
          28.424,
          28.512,
          28.6,
          28.688,
          28.776,
          28.864,
          28.952,
          29.04,
          29.128,
          29.216,
          29.304,
          29.392,
          29.48,
          29.568,
          29.656,
          29.744,
          29.832,
          29.92,
          30.008,
          30.096,
          30.184,
          30.272,
          30.36,
          30.448,
          30.536,
          30.624,
          30.712,
          30.8,
          30.888,
          30.976,
          31.064,
          31.152,
          31.24,
          31.328,
          31.416,
          31.504,
          31.592,
          31.68,
          31.768,
          31.856,
          31.944,
          32.032,
          32.12,
          32.208,
          32.296,
          32.384,
          32.472,
          32.56,
          32.648,
          32.736,
          32.824,
          32.912,
          33,
          33.088,
          33.176,
          33.264,
          33.352,
          33.44,
          33.528,
          33.616,
          33.704,
          33.792,
          33.88,
          33.968,
          34.056,
          34.144,
          34.232,
          34.32,
          34.408,
          34.496,
          34.584,
          34.672,
          34.76,
          34.848,
          34.936,
          35.024,
          35.112,
          35.2,
          35.288,
          35.376,
          35.464,
          35.552,
          35.64,
          35.728,
          35.816,
          35.904,
          35.992,
          36.08,
          36.168,
          36.256,
          36.344,
          36.432,
          36.52,
          36.608,
          36.696,
          36.784,
          36.872,
          36.96,
          37.048,
          37.136,
          37.224,
          37.312,
          37.4,
          37.488,
          37.576,
          37.664,
          37.752,
          37.84,
          37.928,
          38.016,
          38.104,
          38.192,
          38.28,
          38.368,
          38.456,
          38.544,
          38.632,
          38.72,
          38.808,
          38.896,
          38.984,
          39.072,
          39.16,
          39.248,
          39.336,
          39.424,
          39.512,
          39.6,
          39.688,
          39.776,
          39.864,
          39.952,
          40.04,
          40.128,
          40.216,
          40.304,
          40.392,
          40.48,
          40.568,
          40.656,
          40.744,
          40.832,
          40.92,
          41.008,
          41.096,
          41.184,
          41.272,
          41.36,
          41.448,
          41.536,
          41.624,
          41.712,
          41.8,
          41.888,
          41.976,
          42.064,
          42.152,
          42.24,
          42.328,
          42.416,
          42.504,
          42.592,
          42.68,
          42.768,
          42.856,
          42.944,
          43.032,
          43.12,
          43.208,
          43.296,
          43.384,
          43.472,
          43.56,
          43.648,
          43.736,
          43.824,
          43.912
         ],
         "xaxis": "x",
         "y": {
          "bdata": "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",
          "dtype": "f8"
         },
         "yaxis": "y"
        }
       ],
       "layout": {
        "barmode": "overlay",
        "hovermode": "closest",
        "legend": {
         "traceorder": "reversed"
        },
        "template": {
         "data": {
          "bar": [
           {
            "error_x": {
             "color": "#2a3f5f"
            },
            "error_y": {
             "color": "#2a3f5f"
            },
            "marker": {
             "line": {
              "color": "#E5ECF6",
              "width": 0.5
             },
             "pattern": {
              "fillmode": "overlay",
              "size": 10,
              "solidity": 0.2
             }
            },
            "type": "bar"
           }
          ],
          "barpolar": [
           {
            "marker": {
             "line": {
              "color": "#E5ECF6",
              "width": 0.5
             },
             "pattern": {
              "fillmode": "overlay",
              "size": 10,
              "solidity": 0.2
             }
            },
            "type": "barpolar"
           }
          ],
          "carpet": [
           {
            "aaxis": {
             "endlinecolor": "#2a3f5f",
             "gridcolor": "white",
             "linecolor": "white",
             "minorgridcolor": "white",
             "startlinecolor": "#2a3f5f"
            },
            "baxis": {
             "endlinecolor": "#2a3f5f",
             "gridcolor": "white",
             "linecolor": "white",
             "minorgridcolor": "white",
             "startlinecolor": "#2a3f5f"
            },
            "type": "carpet"
           }
          ],
          "choropleth": [
           {
            "colorbar": {
             "outlinewidth": 0,
             "ticks": ""
            },
            "type": "choropleth"
           }
          ],
          "contour": [
           {
            "colorbar": {
             "outlinewidth": 0,
             "ticks": ""
            },
            "colorscale": [
             [
              0,
              "#0d0887"
             ],
             [
              0.1111111111111111,
              "#46039f"
             ],
             [
              0.2222222222222222,
              "#7201a8"
             ],
             [
              0.3333333333333333,
              "#9c179e"
             ],
             [
              0.4444444444444444,
              "#bd3786"
             ],
             [
              0.5555555555555556,
              "#d8576b"
             ],
             [
              0.6666666666666666,
              "#ed7953"
             ],
             [
              0.7777777777777778,
              "#fb9f3a"
             ],
             [
              0.8888888888888888,
              "#fdca26"
             ],
             [
              1,
              "#f0f921"
             ]
            ],
            "type": "contour"
           }
          ],
          "contourcarpet": [
           {
            "colorbar": {
             "outlinewidth": 0,
             "ticks": ""
            },
            "type": "contourcarpet"
           }
          ],
          "heatmap": [
           {
            "colorbar": {
             "outlinewidth": 0,
             "ticks": ""
            },
            "colorscale": [
             [
              0,
              "#0d0887"
             ],
             [
              0.1111111111111111,
              "#46039f"
             ],
             [
              0.2222222222222222,
              "#7201a8"
             ],
             [
              0.3333333333333333,
              "#9c179e"
             ],
             [
              0.4444444444444444,
              "#bd3786"
             ],
             [
              0.5555555555555556,
              "#d8576b"
             ],
             [
              0.6666666666666666,
              "#ed7953"
             ],
             [
              0.7777777777777778,
              "#fb9f3a"
             ],
             [
              0.8888888888888888,
              "#fdca26"
             ],
             [
              1,
              "#f0f921"
             ]
            ],
            "type": "heatmap"
           }
          ],
          "histogram": [
           {
            "marker": {
             "pattern": {
              "fillmode": "overlay",
              "size": 10,
              "solidity": 0.2
             }
            },
            "type": "histogram"
           }
          ],
          "histogram2d": [
           {
            "colorbar": {
             "outlinewidth": 0,
             "ticks": ""
            },
            "colorscale": [
             [
              0,
              "#0d0887"
             ],
             [
              0.1111111111111111,
              "#46039f"
             ],
             [
              0.2222222222222222,
              "#7201a8"
             ],
             [
              0.3333333333333333,
              "#9c179e"
             ],
             [
              0.4444444444444444,
              "#bd3786"
             ],
             [
              0.5555555555555556,
              "#d8576b"
             ],
             [
              0.6666666666666666,
              "#ed7953"
             ],
             [
              0.7777777777777778,
              "#fb9f3a"
             ],
             [
              0.8888888888888888,
              "#fdca26"
             ],
             [
              1,
              "#f0f921"
             ]
            ],
            "type": "histogram2d"
           }
          ],
          "histogram2dcontour": [
           {
            "colorbar": {
             "outlinewidth": 0,
             "ticks": ""
            },
            "colorscale": [
             [
              0,
              "#0d0887"
             ],
             [
              0.1111111111111111,
              "#46039f"
             ],
             [
              0.2222222222222222,
              "#7201a8"
             ],
             [
              0.3333333333333333,
              "#9c179e"
             ],
             [
              0.4444444444444444,
              "#bd3786"
             ],
             [
              0.5555555555555556,
              "#d8576b"
             ],
             [
              0.6666666666666666,
              "#ed7953"
             ],
             [
              0.7777777777777778,
              "#fb9f3a"
             ],
             [
              0.8888888888888888,
              "#fdca26"
             ],
             [
              1,
              "#f0f921"
             ]
            ],
            "type": "histogram2dcontour"
           }
          ],
          "mesh3d": [
           {
            "colorbar": {
             "outlinewidth": 0,
             "ticks": ""
            },
            "type": "mesh3d"
           }
          ],
          "parcoords": [
           {
            "line": {
             "colorbar": {
              "outlinewidth": 0,
              "ticks": ""
             }
            },
            "type": "parcoords"
           }
          ],
          "pie": [
           {
            "automargin": true,
            "type": "pie"
           }
          ],
          "scatter": [
           {
            "fillpattern": {
             "fillmode": "overlay",
             "size": 10,
             "solidity": 0.2
            },
            "type": "scatter"
           }
          ],
          "scatter3d": [
           {
            "line": {
             "colorbar": {
              "outlinewidth": 0,
              "ticks": ""
             }
            },
            "marker": {
             "colorbar": {
              "outlinewidth": 0,
              "ticks": ""
             }
            },
            "type": "scatter3d"
           }
          ],
          "scattercarpet": [
           {
            "marker": {
             "colorbar": {
              "outlinewidth": 0,
              "ticks": ""
             }
            },
            "type": "scattercarpet"
           }
          ],
          "scattergeo": [
           {
            "marker": {
             "colorbar": {
              "outlinewidth": 0,
              "ticks": ""
             }
            },
            "type": "scattergeo"
           }
          ],
          "scattergl": [
           {
            "marker": {
             "colorbar": {
              "outlinewidth": 0,
              "ticks": ""
             }
            },
            "type": "scattergl"
           }
          ],
          "scattermap": [
           {
            "marker": {
             "colorbar": {
              "outlinewidth": 0,
              "ticks": ""
             }
            },
            "type": "scattermap"
           }
          ],
          "scattermapbox": [
           {
            "marker": {
             "colorbar": {
              "outlinewidth": 0,
              "ticks": ""
             }
            },
            "type": "scattermapbox"
           }
          ],
          "scatterpolar": [
           {
            "marker": {
             "colorbar": {
              "outlinewidth": 0,
              "ticks": ""
             }
            },
            "type": "scatterpolar"
           }
          ],
          "scatterpolargl": [
           {
            "marker": {
             "colorbar": {
              "outlinewidth": 0,
              "ticks": ""
             }
            },
            "type": "scatterpolargl"
           }
          ],
          "scatterternary": [
           {
            "marker": {
             "colorbar": {
              "outlinewidth": 0,
              "ticks": ""
             }
            },
            "type": "scatterternary"
           }
          ],
          "surface": [
           {
            "colorbar": {
             "outlinewidth": 0,
             "ticks": ""
            },
            "colorscale": [
             [
              0,
              "#0d0887"
             ],
             [
              0.1111111111111111,
              "#46039f"
             ],
             [
              0.2222222222222222,
              "#7201a8"
             ],
             [
              0.3333333333333333,
              "#9c179e"
             ],
             [
              0.4444444444444444,
              "#bd3786"
             ],
             [
              0.5555555555555556,
              "#d8576b"
             ],
             [
              0.6666666666666666,
              "#ed7953"
             ],
             [
              0.7777777777777778,
              "#fb9f3a"
             ],
             [
              0.8888888888888888,
              "#fdca26"
             ],
             [
              1,
              "#f0f921"
             ]
            ],
            "type": "surface"
           }
          ],
          "table": [
           {
            "cells": {
             "fill": {
              "color": "#EBF0F8"
             },
             "line": {
              "color": "white"
             }
            },
            "header": {
             "fill": {
              "color": "#C8D4E3"
             },
             "line": {
              "color": "white"
             }
            },
            "type": "table"
           }
          ]
         },
         "layout": {
          "annotationdefaults": {
           "arrowcolor": "#2a3f5f",
           "arrowhead": 0,
           "arrowwidth": 1
          },
          "autotypenumbers": "strict",
          "coloraxis": {
           "colorbar": {
            "outlinewidth": 0,
            "ticks": ""
           }
          },
          "colorscale": {
           "diverging": [
            [
             0,
             "#8e0152"
            ],
            [
             0.1,
             "#c51b7d"
            ],
            [
             0.2,
             "#de77ae"
            ],
            [
             0.3,
             "#f1b6da"
            ],
            [
             0.4,
             "#fde0ef"
            ],
            [
             0.5,
             "#f7f7f7"
            ],
            [
             0.6,
             "#e6f5d0"
            ],
            [
             0.7,
             "#b8e186"
            ],
            [
             0.8,
             "#7fbc41"
            ],
            [
             0.9,
             "#4d9221"
            ],
            [
             1,
             "#276419"
            ]
           ],
           "sequential": [
            [
             0,
             "#0d0887"
            ],
            [
             0.1111111111111111,
             "#46039f"
            ],
            [
             0.2222222222222222,
             "#7201a8"
            ],
            [
             0.3333333333333333,
             "#9c179e"
            ],
            [
             0.4444444444444444,
             "#bd3786"
            ],
            [
             0.5555555555555556,
             "#d8576b"
            ],
            [
             0.6666666666666666,
             "#ed7953"
            ],
            [
             0.7777777777777778,
             "#fb9f3a"
            ],
            [
             0.8888888888888888,
             "#fdca26"
            ],
            [
             1,
             "#f0f921"
            ]
           ],
           "sequentialminus": [
            [
             0,
             "#0d0887"
            ],
            [
             0.1111111111111111,
             "#46039f"
            ],
            [
             0.2222222222222222,
             "#7201a8"
            ],
            [
             0.3333333333333333,
             "#9c179e"
            ],
            [
             0.4444444444444444,
             "#bd3786"
            ],
            [
             0.5555555555555556,
             "#d8576b"
            ],
            [
             0.6666666666666666,
             "#ed7953"
            ],
            [
             0.7777777777777778,
             "#fb9f3a"
            ],
            [
             0.8888888888888888,
             "#fdca26"
            ],
            [
             1,
             "#f0f921"
            ]
           ]
          },
          "colorway": [
           "#636efa",
           "#EF553B",
           "#00cc96",
           "#ab63fa",
           "#FFA15A",
           "#19d3f3",
           "#FF6692",
           "#B6E880",
           "#FF97FF",
           "#FECB52"
          ],
          "font": {
           "color": "#2a3f5f"
          },
          "geo": {
           "bgcolor": "white",
           "lakecolor": "white",
           "landcolor": "#E5ECF6",
           "showlakes": true,
           "showland": true,
           "subunitcolor": "white"
          },
          "hoverlabel": {
           "align": "left"
          },
          "hovermode": "closest",
          "mapbox": {
           "style": "light"
          },
          "paper_bgcolor": "white",
          "plot_bgcolor": "#E5ECF6",
          "polar": {
           "angularaxis": {
            "gridcolor": "white",
            "linecolor": "white",
            "ticks": ""
           },
           "bgcolor": "#E5ECF6",
           "radialaxis": {
            "gridcolor": "white",
            "linecolor": "white",
            "ticks": ""
           }
          },
          "scene": {
           "xaxis": {
            "backgroundcolor": "#E5ECF6",
            "gridcolor": "white",
            "gridwidth": 2,
            "linecolor": "white",
            "showbackground": true,
            "ticks": "",
            "zerolinecolor": "white"
           },
           "yaxis": {
            "backgroundcolor": "#E5ECF6",
            "gridcolor": "white",
            "gridwidth": 2,
            "linecolor": "white",
            "showbackground": true,
            "ticks": "",
            "zerolinecolor": "white"
           },
           "zaxis": {
            "backgroundcolor": "#E5ECF6",
            "gridcolor": "white",
            "gridwidth": 2,
            "linecolor": "white",
            "showbackground": true,
            "ticks": "",
            "zerolinecolor": "white"
           }
          },
          "shapedefaults": {
           "line": {
            "color": "#2a3f5f"
           }
          },
          "ternary": {
           "aaxis": {
            "gridcolor": "white",
            "linecolor": "white",
            "ticks": ""
           },
           "baxis": {
            "gridcolor": "white",
            "linecolor": "white",
            "ticks": ""
           },
           "bgcolor": "#E5ECF6",
           "caxis": {
            "gridcolor": "white",
            "linecolor": "white",
            "ticks": ""
           }
          },
          "title": {
           "x": 0.05
          },
          "xaxis": {
           "automargin": true,
           "gridcolor": "white",
           "linecolor": "white",
           "ticks": "",
           "title": {
            "standoff": 15
           },
           "zerolinecolor": "white",
           "zerolinewidth": 2
          },
          "yaxis": {
           "automargin": true,
           "gridcolor": "white",
           "linecolor": "white",
           "ticks": "",
           "title": {
            "standoff": 15
           },
           "zerolinecolor": "white",
           "zerolinewidth": 2
          }
         }
        },
        "title": {
         "text": "KDE Plot for Feature: G"
        },
        "xaxis": {
         "anchor": "y2",
         "domain": [
          0,
          1
         ],
         "zeroline": false
        },
        "yaxis": {
         "anchor": "free",
         "domain": [
          0,
          1
         ],
         "position": 0
        }
       }
      }
     },
     "metadata": {},
     "output_type": "display_data"
    },
    {
     "data": {
      "application/vnd.plotly.v1+json": {
       "config": {
        "plotlyServerURL": "https://plot.ly"
       },
       "data": [
        {
         "legendgroup": "0",
         "marker": {
          "color": "rgb(31, 119, 180)"
         },
         "mode": "lines",
         "name": "0",
         "showlegend": true,
         "type": "scatter",
         "x": [
          0,
          0.052,
          0.104,
          0.156,
          0.208,
          0.26,
          0.312,
          0.364,
          0.416,
          0.468,
          0.52,
          0.572,
          0.624,
          0.676,
          0.728,
          0.78,
          0.832,
          0.884,
          0.936,
          0.988,
          1.04,
          1.092,
          1.144,
          1.196,
          1.248,
          1.3,
          1.352,
          1.404,
          1.456,
          1.508,
          1.56,
          1.612,
          1.664,
          1.716,
          1.768,
          1.82,
          1.872,
          1.924,
          1.976,
          2.028,
          2.08,
          2.132,
          2.184,
          2.236,
          2.288,
          2.34,
          2.392,
          2.444,
          2.496,
          2.548,
          2.6,
          2.652,
          2.704,
          2.756,
          2.808,
          2.86,
          2.912,
          2.964,
          3.016,
          3.068,
          3.12,
          3.172,
          3.224,
          3.276,
          3.328,
          3.38,
          3.432,
          3.484,
          3.536,
          3.588,
          3.64,
          3.692,
          3.744,
          3.796,
          3.848,
          3.9,
          3.952,
          4.004,
          4.056,
          4.108,
          4.16,
          4.212,
          4.264,
          4.316,
          4.368,
          4.42,
          4.472,
          4.524,
          4.576,
          4.628,
          4.68,
          4.732,
          4.784,
          4.836,
          4.888,
          4.94,
          4.992,
          5.044,
          5.096,
          5.148,
          5.2,
          5.252,
          5.304,
          5.356,
          5.408,
          5.46,
          5.512,
          5.564,
          5.616,
          5.668,
          5.72,
          5.772,
          5.824,
          5.876,
          5.928,
          5.98,
          6.032,
          6.084,
          6.136,
          6.188,
          6.24,
          6.292,
          6.344,
          6.396,
          6.448,
          6.5,
          6.552,
          6.604,
          6.656,
          6.708,
          6.76,
          6.812,
          6.864,
          6.916,
          6.968,
          7.02,
          7.072,
          7.124,
          7.176,
          7.228,
          7.28,
          7.332,
          7.384,
          7.436,
          7.488,
          7.54,
          7.592,
          7.644,
          7.696,
          7.748,
          7.8,
          7.852,
          7.904,
          7.956,
          8.008,
          8.06,
          8.112,
          8.164,
          8.216,
          8.268,
          8.32,
          8.372,
          8.424,
          8.476,
          8.528,
          8.58,
          8.632,
          8.684,
          8.736,
          8.788,
          8.84,
          8.892,
          8.944,
          8.996,
          9.048,
          9.1,
          9.152,
          9.204,
          9.256,
          9.308,
          9.36,
          9.412,
          9.464,
          9.516,
          9.568,
          9.62,
          9.672,
          9.724,
          9.776,
          9.828,
          9.88,
          9.932,
          9.984,
          10.036,
          10.088,
          10.14,
          10.192,
          10.244,
          10.296,
          10.348,
          10.4,
          10.452,
          10.504,
          10.556,
          10.608,
          10.66,
          10.712,
          10.764,
          10.816,
          10.868,
          10.92,
          10.972,
          11.024,
          11.076,
          11.128,
          11.18,
          11.232,
          11.284,
          11.336,
          11.388,
          11.44,
          11.492,
          11.544,
          11.596,
          11.648,
          11.7,
          11.752,
          11.804,
          11.856,
          11.908,
          11.96,
          12.012,
          12.064,
          12.116,
          12.168,
          12.22,
          12.272,
          12.324,
          12.376,
          12.428,
          12.48,
          12.532,
          12.584,
          12.636,
          12.688,
          12.74,
          12.792,
          12.844,
          12.896,
          12.948,
          13,
          13.052,
          13.104,
          13.156,
          13.208,
          13.26,
          13.312,
          13.364,
          13.416,
          13.468,
          13.52,
          13.572,
          13.624,
          13.676,
          13.728,
          13.78,
          13.832,
          13.884,
          13.936,
          13.988,
          14.04,
          14.092,
          14.144,
          14.196,
          14.248,
          14.3,
          14.352,
          14.404,
          14.456,
          14.508,
          14.56,
          14.612,
          14.664,
          14.716,
          14.768,
          14.82,
          14.872,
          14.924,
          14.976,
          15.028,
          15.08,
          15.132,
          15.184,
          15.236,
          15.288,
          15.34,
          15.392,
          15.444,
          15.496,
          15.548,
          15.6,
          15.652,
          15.704,
          15.756,
          15.808,
          15.86,
          15.912,
          15.964,
          16.016,
          16.068,
          16.12,
          16.172,
          16.224,
          16.276,
          16.328,
          16.38,
          16.432,
          16.484,
          16.536,
          16.588,
          16.64,
          16.692,
          16.744,
          16.796,
          16.848,
          16.9,
          16.952,
          17.004,
          17.056,
          17.108,
          17.16,
          17.212,
          17.264,
          17.316,
          17.368,
          17.42,
          17.472,
          17.524,
          17.576,
          17.628,
          17.68,
          17.732,
          17.784,
          17.836,
          17.888,
          17.94,
          17.992,
          18.044,
          18.096,
          18.148,
          18.2,
          18.252,
          18.304,
          18.356,
          18.408,
          18.46,
          18.512,
          18.564,
          18.616,
          18.668,
          18.72,
          18.772,
          18.824,
          18.876,
          18.928,
          18.98,
          19.032,
          19.084,
          19.136,
          19.188,
          19.24,
          19.292,
          19.344,
          19.396,
          19.448,
          19.5,
          19.552,
          19.604,
          19.656,
          19.708,
          19.76,
          19.812,
          19.864,
          19.916,
          19.968,
          20.02,
          20.072,
          20.124,
          20.176,
          20.228,
          20.28,
          20.332,
          20.384,
          20.436,
          20.488,
          20.54,
          20.592,
          20.644,
          20.696,
          20.748,
          20.8,
          20.852,
          20.904,
          20.956,
          21.008,
          21.06,
          21.112,
          21.164,
          21.216,
          21.268,
          21.32,
          21.372,
          21.424,
          21.476,
          21.528,
          21.58,
          21.632,
          21.684,
          21.736,
          21.788,
          21.84,
          21.892,
          21.944,
          21.996,
          22.048,
          22.1,
          22.152,
          22.204,
          22.256,
          22.308,
          22.36,
          22.412,
          22.464,
          22.516,
          22.568,
          22.62,
          22.672,
          22.724,
          22.776,
          22.828,
          22.88,
          22.932,
          22.984,
          23.036,
          23.088,
          23.14,
          23.192,
          23.244,
          23.296,
          23.348,
          23.4,
          23.452,
          23.504,
          23.556,
          23.608,
          23.66,
          23.712,
          23.764,
          23.816,
          23.868,
          23.92,
          23.972,
          24.024,
          24.076,
          24.128,
          24.18,
          24.232,
          24.284,
          24.336,
          24.388,
          24.44,
          24.492,
          24.544,
          24.596,
          24.648,
          24.7,
          24.752,
          24.804,
          24.856,
          24.908,
          24.96,
          25.012,
          25.064,
          25.116,
          25.168,
          25.22,
          25.272,
          25.324,
          25.376,
          25.428,
          25.48,
          25.532,
          25.584,
          25.636,
          25.688,
          25.74,
          25.792,
          25.844,
          25.896,
          25.948
         ],
         "xaxis": "x",
         "y": {
          "bdata": "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",
          "dtype": "f8"
         },
         "yaxis": "y"
        },
        {
         "legendgroup": "1",
         "marker": {
          "color": "rgb(255, 127, 14)"
         },
         "mode": "lines",
         "name": "1",
         "showlegend": true,
         "type": "scatter",
         "x": [
          0,
          0.054,
          0.108,
          0.162,
          0.216,
          0.27,
          0.324,
          0.378,
          0.432,
          0.486,
          0.54,
          0.594,
          0.648,
          0.702,
          0.756,
          0.81,
          0.864,
          0.918,
          0.972,
          1.026,
          1.08,
          1.134,
          1.188,
          1.242,
          1.296,
          1.35,
          1.404,
          1.458,
          1.512,
          1.566,
          1.62,
          1.674,
          1.728,
          1.782,
          1.836,
          1.89,
          1.944,
          1.998,
          2.052,
          2.106,
          2.16,
          2.214,
          2.268,
          2.322,
          2.376,
          2.43,
          2.484,
          2.538,
          2.592,
          2.646,
          2.7,
          2.754,
          2.808,
          2.862,
          2.916,
          2.97,
          3.024,
          3.078,
          3.132,
          3.186,
          3.24,
          3.294,
          3.348,
          3.402,
          3.456,
          3.51,
          3.564,
          3.618,
          3.672,
          3.726,
          3.78,
          3.834,
          3.888,
          3.942,
          3.996,
          4.05,
          4.104,
          4.158,
          4.212,
          4.266,
          4.32,
          4.374,
          4.428,
          4.482,
          4.536,
          4.59,
          4.644,
          4.698,
          4.752,
          4.806,
          4.86,
          4.914,
          4.968,
          5.022,
          5.076,
          5.13,
          5.184,
          5.238,
          5.292,
          5.346,
          5.4,
          5.454,
          5.508,
          5.562,
          5.616,
          5.67,
          5.724,
          5.778,
          5.832,
          5.886,
          5.94,
          5.994,
          6.048,
          6.102,
          6.156,
          6.21,
          6.264,
          6.318,
          6.372,
          6.426,
          6.48,
          6.534,
          6.588,
          6.642,
          6.696,
          6.75,
          6.804,
          6.858,
          6.912,
          6.966,
          7.02,
          7.074,
          7.128,
          7.182,
          7.236,
          7.29,
          7.344,
          7.398,
          7.452,
          7.506,
          7.56,
          7.614,
          7.668,
          7.722,
          7.776,
          7.83,
          7.884,
          7.938,
          7.992,
          8.046,
          8.1,
          8.154,
          8.208,
          8.262,
          8.316,
          8.37,
          8.424,
          8.478,
          8.532,
          8.586,
          8.64,
          8.694,
          8.748,
          8.802,
          8.856,
          8.91,
          8.964,
          9.018,
          9.072,
          9.126,
          9.18,
          9.234,
          9.288,
          9.342,
          9.396,
          9.45,
          9.504,
          9.558,
          9.612,
          9.666,
          9.72,
          9.774,
          9.828,
          9.882,
          9.936,
          9.99,
          10.044,
          10.098,
          10.152,
          10.206,
          10.26,
          10.314,
          10.368,
          10.422,
          10.476,
          10.53,
          10.584,
          10.638,
          10.692,
          10.746,
          10.8,
          10.854,
          10.908,
          10.962,
          11.016,
          11.07,
          11.124,
          11.178,
          11.232,
          11.286,
          11.34,
          11.394,
          11.448,
          11.502,
          11.556,
          11.61,
          11.664,
          11.718,
          11.772,
          11.826,
          11.88,
          11.934,
          11.988,
          12.042,
          12.096,
          12.15,
          12.204,
          12.258,
          12.312,
          12.366,
          12.42,
          12.474,
          12.528,
          12.582,
          12.636,
          12.69,
          12.744,
          12.798,
          12.852,
          12.906,
          12.96,
          13.014,
          13.068,
          13.122,
          13.176,
          13.23,
          13.284,
          13.338,
          13.392,
          13.446,
          13.5,
          13.554,
          13.608,
          13.662,
          13.716,
          13.77,
          13.824,
          13.878,
          13.932,
          13.986,
          14.04,
          14.094,
          14.148,
          14.202,
          14.256,
          14.31,
          14.364,
          14.418,
          14.472,
          14.526,
          14.58,
          14.634,
          14.688,
          14.742,
          14.796,
          14.85,
          14.904,
          14.958,
          15.012,
          15.066,
          15.12,
          15.174,
          15.228,
          15.282,
          15.336,
          15.39,
          15.444,
          15.498,
          15.552,
          15.606,
          15.66,
          15.714,
          15.768,
          15.822,
          15.876,
          15.93,
          15.984,
          16.038,
          16.092,
          16.146,
          16.2,
          16.254,
          16.308,
          16.362,
          16.416,
          16.47,
          16.524,
          16.578,
          16.632,
          16.686,
          16.74,
          16.794,
          16.848,
          16.902,
          16.956,
          17.01,
          17.064,
          17.118,
          17.172,
          17.226,
          17.28,
          17.334,
          17.388,
          17.442,
          17.496,
          17.55,
          17.604,
          17.658,
          17.712,
          17.766,
          17.82,
          17.874,
          17.928,
          17.982,
          18.036,
          18.09,
          18.144,
          18.198,
          18.252,
          18.306,
          18.36,
          18.414,
          18.468,
          18.522,
          18.576,
          18.63,
          18.684,
          18.738,
          18.792,
          18.846,
          18.9,
          18.954,
          19.008,
          19.062,
          19.116,
          19.17,
          19.224,
          19.278,
          19.332,
          19.386,
          19.44,
          19.494,
          19.548,
          19.602,
          19.656,
          19.71,
          19.764,
          19.818,
          19.872,
          19.926,
          19.98,
          20.034,
          20.088,
          20.142,
          20.196,
          20.25,
          20.304,
          20.358,
          20.412,
          20.466,
          20.52,
          20.574,
          20.628,
          20.682,
          20.736,
          20.79,
          20.844,
          20.898,
          20.952,
          21.006,
          21.06,
          21.114,
          21.168,
          21.222,
          21.276,
          21.33,
          21.384,
          21.438,
          21.492,
          21.546,
          21.6,
          21.654,
          21.708,
          21.762,
          21.816,
          21.87,
          21.924,
          21.978,
          22.032,
          22.086,
          22.14,
          22.194,
          22.248,
          22.302,
          22.356,
          22.41,
          22.464,
          22.518,
          22.572,
          22.626,
          22.68,
          22.734,
          22.788,
          22.842,
          22.896,
          22.95,
          23.004,
          23.058,
          23.112,
          23.166,
          23.22,
          23.274,
          23.328,
          23.382,
          23.436,
          23.49,
          23.544,
          23.598,
          23.652,
          23.706,
          23.76,
          23.814,
          23.868,
          23.922,
          23.976,
          24.03,
          24.084,
          24.138,
          24.192,
          24.246,
          24.3,
          24.354,
          24.408,
          24.462,
          24.516,
          24.57,
          24.624,
          24.678,
          24.732,
          24.786,
          24.84,
          24.894,
          24.948,
          25.002,
          25.056,
          25.11,
          25.164,
          25.218,
          25.272,
          25.326,
          25.38,
          25.434,
          25.488,
          25.542,
          25.596,
          25.65,
          25.704,
          25.758,
          25.812,
          25.866,
          25.92,
          25.974,
          26.028,
          26.082,
          26.136,
          26.19,
          26.244,
          26.298,
          26.352,
          26.406,
          26.46,
          26.514,
          26.568,
          26.622,
          26.676,
          26.73,
          26.784,
          26.838,
          26.892,
          26.946
         ],
         "xaxis": "x",
         "y": {
          "bdata": "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",
          "dtype": "f8"
         },
         "yaxis": "y"
        },
        {
         "legendgroup": "2",
         "marker": {
          "color": "rgb(44, 160, 44)"
         },
         "mode": "lines",
         "name": "2",
         "showlegend": true,
         "type": "scatter",
         "x": [
          0,
          0.032,
          0.064,
          0.096,
          0.128,
          0.16,
          0.192,
          0.224,
          0.256,
          0.288,
          0.32,
          0.352,
          0.384,
          0.416,
          0.448,
          0.48,
          0.512,
          0.544,
          0.576,
          0.608,
          0.64,
          0.672,
          0.704,
          0.736,
          0.768,
          0.8,
          0.832,
          0.864,
          0.896,
          0.928,
          0.96,
          0.992,
          1.024,
          1.056,
          1.088,
          1.12,
          1.152,
          1.184,
          1.216,
          1.248,
          1.28,
          1.312,
          1.344,
          1.376,
          1.408,
          1.44,
          1.472,
          1.504,
          1.536,
          1.568,
          1.6,
          1.632,
          1.664,
          1.696,
          1.728,
          1.76,
          1.792,
          1.824,
          1.856,
          1.888,
          1.92,
          1.952,
          1.984,
          2.016,
          2.048,
          2.08,
          2.112,
          2.144,
          2.176,
          2.208,
          2.24,
          2.272,
          2.304,
          2.336,
          2.368,
          2.4,
          2.432,
          2.464,
          2.496,
          2.528,
          2.56,
          2.592,
          2.624,
          2.656,
          2.688,
          2.72,
          2.752,
          2.784,
          2.816,
          2.848,
          2.88,
          2.912,
          2.944,
          2.976,
          3.008,
          3.04,
          3.072,
          3.104,
          3.136,
          3.168,
          3.2,
          3.232,
          3.264,
          3.296,
          3.328,
          3.36,
          3.392,
          3.424,
          3.456,
          3.488,
          3.52,
          3.552,
          3.584,
          3.616,
          3.648,
          3.68,
          3.712,
          3.744,
          3.776,
          3.808,
          3.84,
          3.872,
          3.904,
          3.936,
          3.968,
          4,
          4.032,
          4.064,
          4.096,
          4.128,
          4.16,
          4.192,
          4.224,
          4.256,
          4.288,
          4.32,
          4.352,
          4.384,
          4.416,
          4.448,
          4.48,
          4.512,
          4.544,
          4.576,
          4.608,
          4.64,
          4.672,
          4.704,
          4.736,
          4.768,
          4.8,
          4.832,
          4.864,
          4.896,
          4.928,
          4.96,
          4.992,
          5.024,
          5.056,
          5.088,
          5.12,
          5.152,
          5.184,
          5.216,
          5.248,
          5.28,
          5.312,
          5.344,
          5.376,
          5.408,
          5.44,
          5.472,
          5.504,
          5.536,
          5.568,
          5.6,
          5.632,
          5.664,
          5.696,
          5.728,
          5.76,
          5.792,
          5.824,
          5.856,
          5.888,
          5.92,
          5.952,
          5.984,
          6.016,
          6.048,
          6.08,
          6.112,
          6.144,
          6.176,
          6.208,
          6.24,
          6.272,
          6.304,
          6.336,
          6.368,
          6.4,
          6.432,
          6.464,
          6.496,
          6.528,
          6.56,
          6.592,
          6.624,
          6.656,
          6.688,
          6.72,
          6.752,
          6.784,
          6.816,
          6.848,
          6.88,
          6.912,
          6.944,
          6.976,
          7.008,
          7.04,
          7.072,
          7.104,
          7.136,
          7.168,
          7.2,
          7.232,
          7.264,
          7.296,
          7.328,
          7.36,
          7.392,
          7.424,
          7.456,
          7.488,
          7.52,
          7.552,
          7.584,
          7.616,
          7.648,
          7.68,
          7.712,
          7.744,
          7.776,
          7.808,
          7.84,
          7.872,
          7.904,
          7.936,
          7.968,
          8,
          8.032,
          8.064,
          8.096,
          8.128,
          8.16,
          8.192,
          8.224,
          8.256,
          8.288,
          8.32,
          8.352,
          8.384,
          8.416,
          8.448,
          8.48,
          8.512,
          8.544,
          8.576,
          8.608,
          8.64,
          8.672,
          8.704,
          8.736,
          8.768,
          8.8,
          8.832,
          8.864,
          8.896,
          8.928,
          8.96,
          8.992,
          9.024,
          9.056,
          9.088,
          9.12,
          9.152,
          9.184,
          9.216,
          9.248,
          9.28,
          9.312,
          9.344,
          9.376,
          9.408,
          9.44,
          9.472,
          9.504,
          9.536,
          9.568,
          9.6,
          9.632,
          9.664,
          9.696,
          9.728,
          9.76,
          9.792,
          9.824,
          9.856,
          9.888,
          9.92,
          9.952,
          9.984,
          10.016,
          10.048,
          10.08,
          10.112,
          10.144,
          10.176,
          10.208,
          10.24,
          10.272,
          10.304,
          10.336,
          10.368,
          10.4,
          10.432,
          10.464,
          10.496,
          10.528,
          10.56,
          10.592,
          10.624,
          10.656,
          10.688,
          10.72,
          10.752,
          10.784,
          10.816,
          10.848,
          10.88,
          10.912,
          10.944,
          10.976,
          11.008,
          11.04,
          11.072,
          11.104,
          11.136,
          11.168,
          11.2,
          11.232,
          11.264,
          11.296,
          11.328,
          11.36,
          11.392,
          11.424,
          11.456,
          11.488,
          11.52,
          11.552,
          11.584,
          11.616,
          11.648,
          11.68,
          11.712,
          11.744,
          11.776,
          11.808,
          11.84,
          11.872,
          11.904,
          11.936,
          11.968,
          12,
          12.032,
          12.064,
          12.096,
          12.128,
          12.16,
          12.192,
          12.224,
          12.256,
          12.288,
          12.32,
          12.352,
          12.384,
          12.416,
          12.448,
          12.48,
          12.512,
          12.544,
          12.576,
          12.608,
          12.64,
          12.672,
          12.704,
          12.736,
          12.768,
          12.8,
          12.832,
          12.864,
          12.896,
          12.928,
          12.96,
          12.992,
          13.024,
          13.056,
          13.088,
          13.12,
          13.152,
          13.184,
          13.216,
          13.248,
          13.28,
          13.312,
          13.344,
          13.376,
          13.408,
          13.44,
          13.472,
          13.504,
          13.536,
          13.568,
          13.6,
          13.632,
          13.664,
          13.696,
          13.728,
          13.76,
          13.792,
          13.824,
          13.856,
          13.888,
          13.92,
          13.952,
          13.984,
          14.016,
          14.048,
          14.08,
          14.112,
          14.144,
          14.176,
          14.208,
          14.24,
          14.272,
          14.304,
          14.336,
          14.368,
          14.4,
          14.432,
          14.464,
          14.496,
          14.528,
          14.56,
          14.592,
          14.624,
          14.656,
          14.688,
          14.72,
          14.752,
          14.784,
          14.816,
          14.848,
          14.88,
          14.912,
          14.944,
          14.976,
          15.008,
          15.04,
          15.072,
          15.104,
          15.136,
          15.168,
          15.2,
          15.232,
          15.264,
          15.296,
          15.328,
          15.36,
          15.392,
          15.424,
          15.456,
          15.488,
          15.52,
          15.552,
          15.584,
          15.616,
          15.648,
          15.68,
          15.712,
          15.744,
          15.776,
          15.808,
          15.84,
          15.872,
          15.904,
          15.936,
          15.968
         ],
         "xaxis": "x",
         "y": {
          "bdata": "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",
          "dtype": "f8"
         },
         "yaxis": "y"
        },
        {
         "legendgroup": "3",
         "marker": {
          "color": "rgb(214, 39, 40)"
         },
         "mode": "lines",
         "name": "3",
         "showlegend": true,
         "type": "scatter",
         "x": [
          0,
          0.044,
          0.088,
          0.132,
          0.176,
          0.22,
          0.264,
          0.308,
          0.352,
          0.396,
          0.44,
          0.484,
          0.528,
          0.572,
          0.616,
          0.66,
          0.704,
          0.748,
          0.792,
          0.836,
          0.88,
          0.924,
          0.968,
          1.012,
          1.056,
          1.1,
          1.144,
          1.188,
          1.232,
          1.276,
          1.32,
          1.364,
          1.408,
          1.452,
          1.496,
          1.54,
          1.584,
          1.628,
          1.672,
          1.716,
          1.76,
          1.804,
          1.848,
          1.892,
          1.936,
          1.98,
          2.024,
          2.068,
          2.112,
          2.156,
          2.2,
          2.244,
          2.288,
          2.332,
          2.376,
          2.42,
          2.464,
          2.508,
          2.552,
          2.596,
          2.64,
          2.684,
          2.728,
          2.772,
          2.816,
          2.86,
          2.904,
          2.948,
          2.992,
          3.036,
          3.08,
          3.124,
          3.168,
          3.212,
          3.256,
          3.3,
          3.344,
          3.388,
          3.432,
          3.476,
          3.52,
          3.564,
          3.608,
          3.652,
          3.696,
          3.74,
          3.784,
          3.828,
          3.872,
          3.916,
          3.96,
          4.004,
          4.048,
          4.092,
          4.136,
          4.18,
          4.224,
          4.268,
          4.312,
          4.356,
          4.4,
          4.444,
          4.488,
          4.532,
          4.576,
          4.62,
          4.664,
          4.708,
          4.752,
          4.796,
          4.84,
          4.884,
          4.928,
          4.972,
          5.016,
          5.06,
          5.104,
          5.148,
          5.192,
          5.236,
          5.28,
          5.324,
          5.368,
          5.412,
          5.456,
          5.5,
          5.544,
          5.588,
          5.632,
          5.676,
          5.72,
          5.764,
          5.808,
          5.852,
          5.896,
          5.94,
          5.984,
          6.028,
          6.072,
          6.116,
          6.16,
          6.204,
          6.248,
          6.292,
          6.336,
          6.38,
          6.424,
          6.468,
          6.512,
          6.556,
          6.6,
          6.644,
          6.688,
          6.732,
          6.776,
          6.82,
          6.864,
          6.908,
          6.952,
          6.996,
          7.04,
          7.084,
          7.128,
          7.172,
          7.216,
          7.26,
          7.304,
          7.348,
          7.392,
          7.436,
          7.48,
          7.524,
          7.568,
          7.612,
          7.656,
          7.7,
          7.744,
          7.788,
          7.832,
          7.876,
          7.92,
          7.964,
          8.008,
          8.052,
          8.096,
          8.14,
          8.184,
          8.228,
          8.272,
          8.316,
          8.36,
          8.404,
          8.448,
          8.492,
          8.536,
          8.58,
          8.624,
          8.668,
          8.712,
          8.756,
          8.8,
          8.844,
          8.888,
          8.932,
          8.976,
          9.02,
          9.064,
          9.108,
          9.152,
          9.196,
          9.24,
          9.284,
          9.328,
          9.372,
          9.416,
          9.46,
          9.504,
          9.548,
          9.592,
          9.636,
          9.68,
          9.724,
          9.768,
          9.812,
          9.856,
          9.9,
          9.944,
          9.988,
          10.032,
          10.076,
          10.12,
          10.164,
          10.208,
          10.252,
          10.296,
          10.34,
          10.384,
          10.428,
          10.472,
          10.516,
          10.56,
          10.604,
          10.648,
          10.692,
          10.736,
          10.78,
          10.824,
          10.868,
          10.912,
          10.956,
          11,
          11.044,
          11.088,
          11.132,
          11.176,
          11.22,
          11.264,
          11.308,
          11.352,
          11.396,
          11.44,
          11.484,
          11.528,
          11.572,
          11.616,
          11.66,
          11.704,
          11.748,
          11.792,
          11.836,
          11.88,
          11.924,
          11.968,
          12.012,
          12.056,
          12.1,
          12.144,
          12.188,
          12.232,
          12.276,
          12.32,
          12.364,
          12.408,
          12.452,
          12.496,
          12.54,
          12.584,
          12.628,
          12.672,
          12.716,
          12.76,
          12.804,
          12.848,
          12.892,
          12.936,
          12.98,
          13.024,
          13.068,
          13.112,
          13.156,
          13.2,
          13.244,
          13.288,
          13.332,
          13.376,
          13.42,
          13.464,
          13.508,
          13.552,
          13.596,
          13.64,
          13.684,
          13.728,
          13.772,
          13.816,
          13.86,
          13.904,
          13.948,
          13.992,
          14.036,
          14.08,
          14.124,
          14.168,
          14.212,
          14.256,
          14.3,
          14.344,
          14.388,
          14.432,
          14.476,
          14.52,
          14.564,
          14.608,
          14.652,
          14.696,
          14.74,
          14.784,
          14.828,
          14.872,
          14.916,
          14.96,
          15.004,
          15.048,
          15.092,
          15.136,
          15.18,
          15.224,
          15.268,
          15.312,
          15.356,
          15.4,
          15.444,
          15.488,
          15.532,
          15.576,
          15.62,
          15.664,
          15.708,
          15.752,
          15.796,
          15.84,
          15.884,
          15.928,
          15.972,
          16.016,
          16.06,
          16.104,
          16.148,
          16.192,
          16.236,
          16.28,
          16.324,
          16.368,
          16.412,
          16.456,
          16.5,
          16.544,
          16.588,
          16.632,
          16.676,
          16.72,
          16.764,
          16.808,
          16.852,
          16.896,
          16.94,
          16.984,
          17.028,
          17.072,
          17.116,
          17.16,
          17.204,
          17.248,
          17.292,
          17.336,
          17.38,
          17.424,
          17.468,
          17.512,
          17.556,
          17.6,
          17.644,
          17.688,
          17.732,
          17.776,
          17.82,
          17.864,
          17.908,
          17.952,
          17.996,
          18.04,
          18.084,
          18.128,
          18.172,
          18.216,
          18.26,
          18.304,
          18.348,
          18.392,
          18.436,
          18.48,
          18.524,
          18.568,
          18.612,
          18.656,
          18.7,
          18.744,
          18.788,
          18.832,
          18.876,
          18.92,
          18.964,
          19.008,
          19.052,
          19.096,
          19.14,
          19.184,
          19.228,
          19.272,
          19.316,
          19.36,
          19.404,
          19.448,
          19.492,
          19.536,
          19.58,
          19.624,
          19.668,
          19.712,
          19.756,
          19.8,
          19.844,
          19.888,
          19.932,
          19.976,
          20.02,
          20.064,
          20.108,
          20.152,
          20.196,
          20.24,
          20.284,
          20.328,
          20.372,
          20.416,
          20.46,
          20.504,
          20.548,
          20.592,
          20.636,
          20.68,
          20.724,
          20.768,
          20.812,
          20.856,
          20.9,
          20.944,
          20.988,
          21.032,
          21.076,
          21.12,
          21.164,
          21.208,
          21.252,
          21.296,
          21.34,
          21.384,
          21.428,
          21.472,
          21.516,
          21.56,
          21.604,
          21.648,
          21.692,
          21.736,
          21.78,
          21.824,
          21.868,
          21.912,
          21.956
         ],
         "xaxis": "x",
         "y": {
          "bdata": "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",
          "dtype": "f8"
         },
         "yaxis": "y"
        }
       ],
       "layout": {
        "barmode": "overlay",
        "hovermode": "closest",
        "legend": {
         "traceorder": "reversed"
        },
        "template": {
         "data": {
          "bar": [
           {
            "error_x": {
             "color": "#2a3f5f"
            },
            "error_y": {
             "color": "#2a3f5f"
            },
            "marker": {
             "line": {
              "color": "#E5ECF6",
              "width": 0.5
             },
             "pattern": {
              "fillmode": "overlay",
              "size": 10,
              "solidity": 0.2
             }
            },
            "type": "bar"
           }
          ],
          "barpolar": [
           {
            "marker": {
             "line": {
              "color": "#E5ECF6",
              "width": 0.5
             },
             "pattern": {
              "fillmode": "overlay",
              "size": 10,
              "solidity": 0.2
             }
            },
            "type": "barpolar"
           }
          ],
          "carpet": [
           {
            "aaxis": {
             "endlinecolor": "#2a3f5f",
             "gridcolor": "white",
             "linecolor": "white",
             "minorgridcolor": "white",
             "startlinecolor": "#2a3f5f"
            },
            "baxis": {
             "endlinecolor": "#2a3f5f",
             "gridcolor": "white",
             "linecolor": "white",
             "minorgridcolor": "white",
             "startlinecolor": "#2a3f5f"
            },
            "type": "carpet"
           }
          ],
          "choropleth": [
           {
            "colorbar": {
             "outlinewidth": 0,
             "ticks": ""
            },
            "type": "choropleth"
           }
          ],
          "contour": [
           {
            "colorbar": {
             "outlinewidth": 0,
             "ticks": ""
            },
            "colorscale": [
             [
              0,
              "#0d0887"
             ],
             [
              0.1111111111111111,
              "#46039f"
             ],
             [
              0.2222222222222222,
              "#7201a8"
             ],
             [
              0.3333333333333333,
              "#9c179e"
             ],
             [
              0.4444444444444444,
              "#bd3786"
             ],
             [
              0.5555555555555556,
              "#d8576b"
             ],
             [
              0.6666666666666666,
              "#ed7953"
             ],
             [
              0.7777777777777778,
              "#fb9f3a"
             ],
             [
              0.8888888888888888,
              "#fdca26"
             ],
             [
              1,
              "#f0f921"
             ]
            ],
            "type": "contour"
           }
          ],
          "contourcarpet": [
           {
            "colorbar": {
             "outlinewidth": 0,
             "ticks": ""
            },
            "type": "contourcarpet"
           }
          ],
          "heatmap": [
           {
            "colorbar": {
             "outlinewidth": 0,
             "ticks": ""
            },
            "colorscale": [
             [
              0,
              "#0d0887"
             ],
             [
              0.1111111111111111,
              "#46039f"
             ],
             [
              0.2222222222222222,
              "#7201a8"
             ],
             [
              0.3333333333333333,
              "#9c179e"
             ],
             [
              0.4444444444444444,
              "#bd3786"
             ],
             [
              0.5555555555555556,
              "#d8576b"
             ],
             [
              0.6666666666666666,
              "#ed7953"
             ],
             [
              0.7777777777777778,
              "#fb9f3a"
             ],
             [
              0.8888888888888888,
              "#fdca26"
             ],
             [
              1,
              "#f0f921"
             ]
            ],
            "type": "heatmap"
           }
          ],
          "histogram": [
           {
            "marker": {
             "pattern": {
              "fillmode": "overlay",
              "size": 10,
              "solidity": 0.2
             }
            },
            "type": "histogram"
           }
          ],
          "histogram2d": [
           {
            "colorbar": {
             "outlinewidth": 0,
             "ticks": ""
            },
            "colorscale": [
             [
              0,
              "#0d0887"
             ],
             [
              0.1111111111111111,
              "#46039f"
             ],
             [
              0.2222222222222222,
              "#7201a8"
             ],
             [
              0.3333333333333333,
              "#9c179e"
             ],
             [
              0.4444444444444444,
              "#bd3786"
             ],
             [
              0.5555555555555556,
              "#d8576b"
             ],
             [
              0.6666666666666666,
              "#ed7953"
             ],
             [
              0.7777777777777778,
              "#fb9f3a"
             ],
             [
              0.8888888888888888,
              "#fdca26"
             ],
             [
              1,
              "#f0f921"
             ]
            ],
            "type": "histogram2d"
           }
          ],
          "histogram2dcontour": [
           {
            "colorbar": {
             "outlinewidth": 0,
             "ticks": ""
            },
            "colorscale": [
             [
              0,
              "#0d0887"
             ],
             [
              0.1111111111111111,
              "#46039f"
             ],
             [
              0.2222222222222222,
              "#7201a8"
             ],
             [
              0.3333333333333333,
              "#9c179e"
             ],
             [
              0.4444444444444444,
              "#bd3786"
             ],
             [
              0.5555555555555556,
              "#d8576b"
             ],
             [
              0.6666666666666666,
              "#ed7953"
             ],
             [
              0.7777777777777778,
              "#fb9f3a"
             ],
             [
              0.8888888888888888,
              "#fdca26"
             ],
             [
              1,
              "#f0f921"
             ]
            ],
            "type": "histogram2dcontour"
           }
          ],
          "mesh3d": [
           {
            "colorbar": {
             "outlinewidth": 0,
             "ticks": ""
            },
            "type": "mesh3d"
           }
          ],
          "parcoords": [
           {
            "line": {
             "colorbar": {
              "outlinewidth": 0,
              "ticks": ""
             }
            },
            "type": "parcoords"
           }
          ],
          "pie": [
           {
            "automargin": true,
            "type": "pie"
           }
          ],
          "scatter": [
           {
            "fillpattern": {
             "fillmode": "overlay",
             "size": 10,
             "solidity": 0.2
            },
            "type": "scatter"
           }
          ],
          "scatter3d": [
           {
            "line": {
             "colorbar": {
              "outlinewidth": 0,
              "ticks": ""
             }
            },
            "marker": {
             "colorbar": {
              "outlinewidth": 0,
              "ticks": ""
             }
            },
            "type": "scatter3d"
           }
          ],
          "scattercarpet": [
           {
            "marker": {
             "colorbar": {
              "outlinewidth": 0,
              "ticks": ""
             }
            },
            "type": "scattercarpet"
           }
          ],
          "scattergeo": [
           {
            "marker": {
             "colorbar": {
              "outlinewidth": 0,
              "ticks": ""
             }
            },
            "type": "scattergeo"
           }
          ],
          "scattergl": [
           {
            "marker": {
             "colorbar": {
              "outlinewidth": 0,
              "ticks": ""
             }
            },
            "type": "scattergl"
           }
          ],
          "scattermap": [
           {
            "marker": {
             "colorbar": {
              "outlinewidth": 0,
              "ticks": ""
             }
            },
            "type": "scattermap"
           }
          ],
          "scattermapbox": [
           {
            "marker": {
             "colorbar": {
              "outlinewidth": 0,
              "ticks": ""
             }
            },
            "type": "scattermapbox"
           }
          ],
          "scatterpolar": [
           {
            "marker": {
             "colorbar": {
              "outlinewidth": 0,
              "ticks": ""
             }
            },
            "type": "scatterpolar"
           }
          ],
          "scatterpolargl": [
           {
            "marker": {
             "colorbar": {
              "outlinewidth": 0,
              "ticks": ""
             }
            },
            "type": "scatterpolargl"
           }
          ],
          "scatterternary": [
           {
            "marker": {
             "colorbar": {
              "outlinewidth": 0,
              "ticks": ""
             }
            },
            "type": "scatterternary"
           }
          ],
          "surface": [
           {
            "colorbar": {
             "outlinewidth": 0,
             "ticks": ""
            },
            "colorscale": [
             [
              0,
              "#0d0887"
             ],
             [
              0.1111111111111111,
              "#46039f"
             ],
             [
              0.2222222222222222,
              "#7201a8"
             ],
             [
              0.3333333333333333,
              "#9c179e"
             ],
             [
              0.4444444444444444,
              "#bd3786"
             ],
             [
              0.5555555555555556,
              "#d8576b"
             ],
             [
              0.6666666666666666,
              "#ed7953"
             ],
             [
              0.7777777777777778,
              "#fb9f3a"
             ],
             [
              0.8888888888888888,
              "#fdca26"
             ],
             [
              1,
              "#f0f921"
             ]
            ],
            "type": "surface"
           }
          ],
          "table": [
           {
            "cells": {
             "fill": {
              "color": "#EBF0F8"
             },
             "line": {
              "color": "white"
             }
            },
            "header": {
             "fill": {
              "color": "#C8D4E3"
             },
             "line": {
              "color": "white"
             }
            },
            "type": "table"
           }
          ]
         },
         "layout": {
          "annotationdefaults": {
           "arrowcolor": "#2a3f5f",
           "arrowhead": 0,
           "arrowwidth": 1
          },
          "autotypenumbers": "strict",
          "coloraxis": {
           "colorbar": {
            "outlinewidth": 0,
            "ticks": ""
           }
          },
          "colorscale": {
           "diverging": [
            [
             0,
             "#8e0152"
            ],
            [
             0.1,
             "#c51b7d"
            ],
            [
             0.2,
             "#de77ae"
            ],
            [
             0.3,
             "#f1b6da"
            ],
            [
             0.4,
             "#fde0ef"
            ],
            [
             0.5,
             "#f7f7f7"
            ],
            [
             0.6,
             "#e6f5d0"
            ],
            [
             0.7,
             "#b8e186"
            ],
            [
             0.8,
             "#7fbc41"
            ],
            [
             0.9,
             "#4d9221"
            ],
            [
             1,
             "#276419"
            ]
           ],
           "sequential": [
            [
             0,
             "#0d0887"
            ],
            [
             0.1111111111111111,
             "#46039f"
            ],
            [
             0.2222222222222222,
             "#7201a8"
            ],
            [
             0.3333333333333333,
             "#9c179e"
            ],
            [
             0.4444444444444444,
             "#bd3786"
            ],
            [
             0.5555555555555556,
             "#d8576b"
            ],
            [
             0.6666666666666666,
             "#ed7953"
            ],
            [
             0.7777777777777778,
             "#fb9f3a"
            ],
            [
             0.8888888888888888,
             "#fdca26"
            ],
            [
             1,
             "#f0f921"
            ]
           ],
           "sequentialminus": [
            [
             0,
             "#0d0887"
            ],
            [
             0.1111111111111111,
             "#46039f"
            ],
            [
             0.2222222222222222,
             "#7201a8"
            ],
            [
             0.3333333333333333,
             "#9c179e"
            ],
            [
             0.4444444444444444,
             "#bd3786"
            ],
            [
             0.5555555555555556,
             "#d8576b"
            ],
            [
             0.6666666666666666,
             "#ed7953"
            ],
            [
             0.7777777777777778,
             "#fb9f3a"
            ],
            [
             0.8888888888888888,
             "#fdca26"
            ],
            [
             1,
             "#f0f921"
            ]
           ]
          },
          "colorway": [
           "#636efa",
           "#EF553B",
           "#00cc96",
           "#ab63fa",
           "#FFA15A",
           "#19d3f3",
           "#FF6692",
           "#B6E880",
           "#FF97FF",
           "#FECB52"
          ],
          "font": {
           "color": "#2a3f5f"
          },
          "geo": {
           "bgcolor": "white",
           "lakecolor": "white",
           "landcolor": "#E5ECF6",
           "showlakes": true,
           "showland": true,
           "subunitcolor": "white"
          },
          "hoverlabel": {
           "align": "left"
          },
          "hovermode": "closest",
          "mapbox": {
           "style": "light"
          },
          "paper_bgcolor": "white",
          "plot_bgcolor": "#E5ECF6",
          "polar": {
           "angularaxis": {
            "gridcolor": "white",
            "linecolor": "white",
            "ticks": ""
           },
           "bgcolor": "#E5ECF6",
           "radialaxis": {
            "gridcolor": "white",
            "linecolor": "white",
            "ticks": ""
           }
          },
          "scene": {
           "xaxis": {
            "backgroundcolor": "#E5ECF6",
            "gridcolor": "white",
            "gridwidth": 2,
            "linecolor": "white",
            "showbackground": true,
            "ticks": "",
            "zerolinecolor": "white"
           },
           "yaxis": {
            "backgroundcolor": "#E5ECF6",
            "gridcolor": "white",
            "gridwidth": 2,
            "linecolor": "white",
            "showbackground": true,
            "ticks": "",
            "zerolinecolor": "white"
           },
           "zaxis": {
            "backgroundcolor": "#E5ECF6",
            "gridcolor": "white",
            "gridwidth": 2,
            "linecolor": "white",
            "showbackground": true,
            "ticks": "",
            "zerolinecolor": "white"
           }
          },
          "shapedefaults": {
           "line": {
            "color": "#2a3f5f"
           }
          },
          "ternary": {
           "aaxis": {
            "gridcolor": "white",
            "linecolor": "white",
            "ticks": ""
           },
           "baxis": {
            "gridcolor": "white",
            "linecolor": "white",
            "ticks": ""
           },
           "bgcolor": "#E5ECF6",
           "caxis": {
            "gridcolor": "white",
            "linecolor": "white",
            "ticks": ""
           }
          },
          "title": {
           "x": 0.05
          },
          "xaxis": {
           "automargin": true,
           "gridcolor": "white",
           "linecolor": "white",
           "ticks": "",
           "title": {
            "standoff": 15
           },
           "zerolinecolor": "white",
           "zerolinewidth": 2
          },
          "yaxis": {
           "automargin": true,
           "gridcolor": "white",
           "linecolor": "white",
           "ticks": "",
           "title": {
            "standoff": 15
           },
           "zerolinecolor": "white",
           "zerolinewidth": 2
          }
         }
        },
        "title": {
         "text": "KDE Plot for Feature: I"
        },
        "xaxis": {
         "anchor": "y2",
         "domain": [
          0,
          1
         ],
         "zeroline": false
        },
        "yaxis": {
         "anchor": "free",
         "domain": [
          0,
          1
         ],
         "position": 0
        }
       }
      }
     },
     "metadata": {},
     "output_type": "display_data"
    }
   ],
   "source": [
    "import plotly.figure_factory as ff\n",
    "\n",
    "# Example: Select top 3 features for KDE\n",
    "top_features = importance_df['Feature'].head(3).tolist()\n",
    "\n",
    "# Prepare KDEs for each class\n",
    "for feature in top_features:\n",
    "    class_values = []\n",
    "    class_names = []\n",
    "\n",
    "    for label in y.unique():\n",
    "        class_values.append(df[df['label_encoded'] == label][feature])\n",
    "        class_names.append(str(label))\n",
    "    \n",
    "    fig = ff.create_distplot(class_values, class_names, show_hist=False, show_rug=False)\n",
    "    fig.update_layout(title=f\"KDE Plot for Feature: {feature}\")\n",
    "    fig.show()\n"
   ]
  },
  {
   "cell_type": "markdown",
   "id": "93738685",
   "metadata": {},
   "source": [
    "# Logistic Regression"
   ]
  },
  {
   "cell_type": "markdown",
   "id": "97c19b72",
   "metadata": {},
   "source": [
    "## Load and Preprocess the Dataset"
   ]
  },
  {
   "cell_type": "code",
   "execution_count": null,
   "id": "647b4138",
   "metadata": {},
   "outputs": [
    {
     "data": {
      "text/html": [
       "<div>\n",
       "<style scoped>\n",
       "    .dataframe tbody tr th:only-of-type {\n",
       "        vertical-align: middle;\n",
       "    }\n",
       "\n",
       "    .dataframe tbody tr th {\n",
       "        vertical-align: top;\n",
       "    }\n",
       "\n",
       "    .dataframe thead th {\n",
       "        text-align: right;\n",
       "    }\n",
       "</style>\n",
       "<table border=\"1\" class=\"dataframe\">\n",
       "  <thead>\n",
       "    <tr style=\"text-align: right;\">\n",
       "      <th></th>\n",
       "      <th>A</th>\n",
       "      <th>C</th>\n",
       "      <th>D</th>\n",
       "      <th>E</th>\n",
       "      <th>F</th>\n",
       "      <th>G</th>\n",
       "      <th>H</th>\n",
       "      <th>I</th>\n",
       "      <th>K</th>\n",
       "      <th>L</th>\n",
       "      <th>...</th>\n",
       "      <th>P</th>\n",
       "      <th>Q</th>\n",
       "      <th>R</th>\n",
       "      <th>S</th>\n",
       "      <th>T</th>\n",
       "      <th>V</th>\n",
       "      <th>W</th>\n",
       "      <th>Y</th>\n",
       "      <th>Sequence_Length</th>\n",
       "      <th>label_encoded</th>\n",
       "    </tr>\n",
       "  </thead>\n",
       "  <tbody>\n",
       "    <tr>\n",
       "      <th>0</th>\n",
       "      <td>3</td>\n",
       "      <td>0</td>\n",
       "      <td>0</td>\n",
       "      <td>1</td>\n",
       "      <td>3</td>\n",
       "      <td>1</td>\n",
       "      <td>0</td>\n",
       "      <td>2</td>\n",
       "      <td>0</td>\n",
       "      <td>9</td>\n",
       "      <td>...</td>\n",
       "      <td>0</td>\n",
       "      <td>0</td>\n",
       "      <td>1</td>\n",
       "      <td>1</td>\n",
       "      <td>4</td>\n",
       "      <td>5</td>\n",
       "      <td>0</td>\n",
       "      <td>0</td>\n",
       "      <td>31</td>\n",
       "      <td>0</td>\n",
       "    </tr>\n",
       "    <tr>\n",
       "      <th>1</th>\n",
       "      <td>3</td>\n",
       "      <td>0</td>\n",
       "      <td>0</td>\n",
       "      <td>1</td>\n",
       "      <td>3</td>\n",
       "      <td>1</td>\n",
       "      <td>0</td>\n",
       "      <td>2</td>\n",
       "      <td>0</td>\n",
       "      <td>9</td>\n",
       "      <td>...</td>\n",
       "      <td>0</td>\n",
       "      <td>0</td>\n",
       "      <td>1</td>\n",
       "      <td>1</td>\n",
       "      <td>4</td>\n",
       "      <td>5</td>\n",
       "      <td>0</td>\n",
       "      <td>0</td>\n",
       "      <td>31</td>\n",
       "      <td>0</td>\n",
       "    </tr>\n",
       "    <tr>\n",
       "      <th>2</th>\n",
       "      <td>3</td>\n",
       "      <td>0</td>\n",
       "      <td>0</td>\n",
       "      <td>1</td>\n",
       "      <td>3</td>\n",
       "      <td>1</td>\n",
       "      <td>0</td>\n",
       "      <td>2</td>\n",
       "      <td>0</td>\n",
       "      <td>9</td>\n",
       "      <td>...</td>\n",
       "      <td>0</td>\n",
       "      <td>0</td>\n",
       "      <td>1</td>\n",
       "      <td>1</td>\n",
       "      <td>4</td>\n",
       "      <td>5</td>\n",
       "      <td>0</td>\n",
       "      <td>0</td>\n",
       "      <td>31</td>\n",
       "      <td>0</td>\n",
       "    </tr>\n",
       "    <tr>\n",
       "      <th>3</th>\n",
       "      <td>3</td>\n",
       "      <td>0</td>\n",
       "      <td>0</td>\n",
       "      <td>1</td>\n",
       "      <td>3</td>\n",
       "      <td>1</td>\n",
       "      <td>0</td>\n",
       "      <td>2</td>\n",
       "      <td>0</td>\n",
       "      <td>9</td>\n",
       "      <td>...</td>\n",
       "      <td>0</td>\n",
       "      <td>0</td>\n",
       "      <td>1</td>\n",
       "      <td>1</td>\n",
       "      <td>4</td>\n",
       "      <td>5</td>\n",
       "      <td>0</td>\n",
       "      <td>0</td>\n",
       "      <td>31</td>\n",
       "      <td>0</td>\n",
       "    </tr>\n",
       "    <tr>\n",
       "      <th>4</th>\n",
       "      <td>3</td>\n",
       "      <td>0</td>\n",
       "      <td>0</td>\n",
       "      <td>1</td>\n",
       "      <td>3</td>\n",
       "      <td>1</td>\n",
       "      <td>0</td>\n",
       "      <td>2</td>\n",
       "      <td>0</td>\n",
       "      <td>9</td>\n",
       "      <td>...</td>\n",
       "      <td>0</td>\n",
       "      <td>0</td>\n",
       "      <td>1</td>\n",
       "      <td>1</td>\n",
       "      <td>4</td>\n",
       "      <td>5</td>\n",
       "      <td>0</td>\n",
       "      <td>0</td>\n",
       "      <td>31</td>\n",
       "      <td>0</td>\n",
       "    </tr>\n",
       "  </tbody>\n",
       "</table>\n",
       "<p>5 rows × 22 columns</p>\n",
       "</div>"
      ],
      "text/plain": [
       "   A  C  D  E  F  G  H  I  K  L  ...  P  Q  R  S  T  V  W  Y  Sequence_Length  \\\n",
       "0  3  0  0  1  3  1  0  2  0  9  ...  0  0  1  1  4  5  0  0               31   \n",
       "1  3  0  0  1  3  1  0  2  0  9  ...  0  0  1  1  4  5  0  0               31   \n",
       "2  3  0  0  1  3  1  0  2  0  9  ...  0  0  1  1  4  5  0  0               31   \n",
       "3  3  0  0  1  3  1  0  2  0  9  ...  0  0  1  1  4  5  0  0               31   \n",
       "4  3  0  0  1  3  1  0  2  0  9  ...  0  0  1  1  4  5  0  0               31   \n",
       "\n",
       "   label_encoded  \n",
       "0              0  \n",
       "1              0  \n",
       "2              0  \n",
       "3              0  \n",
       "4              0  \n",
       "\n",
       "[5 rows x 22 columns]"
      ]
     },
     "execution_count": 32,
     "metadata": {},
     "output_type": "execute_result"
    }
   ],
   "source": [
    "csv_path = r\"../genome_sequences_cleaned.csv\"\n",
    "df = pd.read_csv(csv_path)\n",
    "\n",
    "# Display first few rows to confirm loading\n",
    "df.head()\n"
   ]
  },
  {
   "cell_type": "markdown",
   "id": "9e6aab86",
   "metadata": {},
   "source": [
    "## Split Data into Features and Target"
   ]
  },
  {
   "cell_type": "code",
   "execution_count": null,
   "id": "30b63a11",
   "metadata": {},
   "outputs": [],
   "source": [
    "# Features: A-Z + Sequence_Length\n",
    "X = df.drop(columns=['label_encoded'])\n",
    "y = df['label_encoded']\n",
    "\n",
    "# Train-test split\n",
    "X_train, X_test, y_train, y_test = train_test_split(X, y, test_size=0.2, random_state=42, stratify=y)"
   ]
  },
  {
   "cell_type": "markdown",
   "id": "bf5c7325",
   "metadata": {},
   "source": [
    "## Train Logistic regression"
   ]
  },
  {
   "cell_type": "code",
   "execution_count": 34,
   "id": "8853afaa",
   "metadata": {},
   "outputs": [
    {
     "name": "stderr",
     "output_type": "stream",
     "text": [
      "c:\\Users\\Administrator\\AppData\\Local\\Programs\\Python\\Python313\\Lib\\site-packages\\sklearn\\linear_model\\_logistic.py:465: ConvergenceWarning:\n",
      "\n",
      "lbfgs failed to converge (status=1):\n",
      "STOP: TOTAL NO. OF ITERATIONS REACHED LIMIT.\n",
      "\n",
      "Increase the number of iterations (max_iter) or scale the data as shown in:\n",
      "    https://scikit-learn.org/stable/modules/preprocessing.html\n",
      "Please also refer to the documentation for alternative solver options:\n",
      "    https://scikit-learn.org/stable/modules/linear_model.html#logistic-regression\n",
      "\n"
     ]
    }
   ],
   "source": [
    "logistic_model = LogisticRegression(max_iter=1000)\n",
    "logistic_model.fit(X_train, y_train)\n",
    "y_pred = logistic_model.predict(X_test)"
   ]
  },
  {
   "cell_type": "markdown",
   "id": "0753e77e",
   "metadata": {},
   "source": [
    "## Evaluation metrics"
   ]
  },
  {
   "cell_type": "code",
   "execution_count": 35,
   "id": "36a0d8fa",
   "metadata": {},
   "outputs": [
    {
     "name": "stdout",
     "output_type": "stream",
     "text": [
      "Accuracy: 0.9236\n",
      "\n",
      "Classification Report:\n",
      "\n",
      "              precision    recall  f1-score   support\n",
      "\n",
      "           0       0.90      0.94      0.92      1550\n",
      "           1       0.88      0.84      0.86      1105\n",
      "           2       0.99      0.99      0.99      1970\n",
      "           3       0.87      0.86      0.86      1016\n",
      "\n",
      "    accuracy                           0.92      5641\n",
      "   macro avg       0.91      0.91      0.91      5641\n",
      "weighted avg       0.92      0.92      0.92      5641\n",
      "\n"
     ]
    }
   ],
   "source": [
    "# Accuracy\n",
    "acc = accuracy_score(y_test, y_pred)\n",
    "print(f\"Accuracy: {acc:.4f}\")\n",
    "\n",
    "# Classification Report\n",
    "print(\"\\nClassification Report:\\n\")\n",
    "print(classification_report(y_test, y_pred))"
   ]
  },
  {
   "cell_type": "markdown",
   "id": "b5251ecf",
   "metadata": {},
   "source": [
    "## Confusion Matrix Plot"
   ]
  },
  {
   "cell_type": "code",
   "execution_count": 36,
   "id": "edbe0736",
   "metadata": {},
   "outputs": [
    {
     "data": {
      "application/vnd.plotly.v1+json": {
       "config": {
        "plotlyServerURL": "https://plot.ly"
       },
       "data": [
        {
         "colorscale": [
          [
           0,
           "rgb(247,251,255)"
          ],
          [
           0.125,
           "rgb(222,235,247)"
          ],
          [
           0.25,
           "rgb(198,219,239)"
          ],
          [
           0.375,
           "rgb(158,202,225)"
          ],
          [
           0.5,
           "rgb(107,174,214)"
          ],
          [
           0.625,
           "rgb(66,146,198)"
          ],
          [
           0.75,
           "rgb(33,113,181)"
          ],
          [
           0.875,
           "rgb(8,81,156)"
          ],
          [
           1,
           "rgb(8,48,107)"
          ]
         ],
         "reversescale": false,
         "showscale": true,
         "type": "heatmap",
         "x": [
          "Predicted Class 0",
          "Predicted Class 1",
          "Predicted Class 2",
          "Predicted Class 3"
         ],
         "y": [
          "Actual Class 0",
          "Actual Class 1",
          "Actual Class 2",
          "Actual Class 3"
         ],
         "z": {
          "bdata": "sgUsAAEALwBgAJ0DAwBRAAAABwClBwYAOgBQAAgAZgM=",
          "dtype": "i2",
          "shape": "4, 4"
         }
        }
       ],
       "layout": {
        "annotations": [
         {
          "font": {
           "color": "#FFFFFF"
          },
          "showarrow": false,
          "text": "1458",
          "x": "Predicted Class 0",
          "xref": "x",
          "y": "Actual Class 0",
          "yref": "y"
         },
         {
          "font": {
           "color": "#000000"
          },
          "showarrow": false,
          "text": "44",
          "x": "Predicted Class 1",
          "xref": "x",
          "y": "Actual Class 0",
          "yref": "y"
         },
         {
          "font": {
           "color": "#000000"
          },
          "showarrow": false,
          "text": "1",
          "x": "Predicted Class 2",
          "xref": "x",
          "y": "Actual Class 0",
          "yref": "y"
         },
         {
          "font": {
           "color": "#000000"
          },
          "showarrow": false,
          "text": "47",
          "x": "Predicted Class 3",
          "xref": "x",
          "y": "Actual Class 0",
          "yref": "y"
         },
         {
          "font": {
           "color": "#000000"
          },
          "showarrow": false,
          "text": "96",
          "x": "Predicted Class 0",
          "xref": "x",
          "y": "Actual Class 1",
          "yref": "y"
         },
         {
          "font": {
           "color": "#000000"
          },
          "showarrow": false,
          "text": "925",
          "x": "Predicted Class 1",
          "xref": "x",
          "y": "Actual Class 1",
          "yref": "y"
         },
         {
          "font": {
           "color": "#000000"
          },
          "showarrow": false,
          "text": "3",
          "x": "Predicted Class 2",
          "xref": "x",
          "y": "Actual Class 1",
          "yref": "y"
         },
         {
          "font": {
           "color": "#000000"
          },
          "showarrow": false,
          "text": "81",
          "x": "Predicted Class 3",
          "xref": "x",
          "y": "Actual Class 1",
          "yref": "y"
         },
         {
          "font": {
           "color": "#000000"
          },
          "showarrow": false,
          "text": "0",
          "x": "Predicted Class 0",
          "xref": "x",
          "y": "Actual Class 2",
          "yref": "y"
         },
         {
          "font": {
           "color": "#000000"
          },
          "showarrow": false,
          "text": "7",
          "x": "Predicted Class 1",
          "xref": "x",
          "y": "Actual Class 2",
          "yref": "y"
         },
         {
          "font": {
           "color": "#FFFFFF"
          },
          "showarrow": false,
          "text": "1957",
          "x": "Predicted Class 2",
          "xref": "x",
          "y": "Actual Class 2",
          "yref": "y"
         },
         {
          "font": {
           "color": "#000000"
          },
          "showarrow": false,
          "text": "6",
          "x": "Predicted Class 3",
          "xref": "x",
          "y": "Actual Class 2",
          "yref": "y"
         },
         {
          "font": {
           "color": "#000000"
          },
          "showarrow": false,
          "text": "58",
          "x": "Predicted Class 0",
          "xref": "x",
          "y": "Actual Class 3",
          "yref": "y"
         },
         {
          "font": {
           "color": "#000000"
          },
          "showarrow": false,
          "text": "80",
          "x": "Predicted Class 1",
          "xref": "x",
          "y": "Actual Class 3",
          "yref": "y"
         },
         {
          "font": {
           "color": "#000000"
          },
          "showarrow": false,
          "text": "8",
          "x": "Predicted Class 2",
          "xref": "x",
          "y": "Actual Class 3",
          "yref": "y"
         },
         {
          "font": {
           "color": "#000000"
          },
          "showarrow": false,
          "text": "870",
          "x": "Predicted Class 3",
          "xref": "x",
          "y": "Actual Class 3",
          "yref": "y"
         }
        ],
        "margin": {
         "l": 50,
         "t": 50
        },
        "template": {
         "data": {
          "bar": [
           {
            "error_x": {
             "color": "#2a3f5f"
            },
            "error_y": {
             "color": "#2a3f5f"
            },
            "marker": {
             "line": {
              "color": "#E5ECF6",
              "width": 0.5
             },
             "pattern": {
              "fillmode": "overlay",
              "size": 10,
              "solidity": 0.2
             }
            },
            "type": "bar"
           }
          ],
          "barpolar": [
           {
            "marker": {
             "line": {
              "color": "#E5ECF6",
              "width": 0.5
             },
             "pattern": {
              "fillmode": "overlay",
              "size": 10,
              "solidity": 0.2
             }
            },
            "type": "barpolar"
           }
          ],
          "carpet": [
           {
            "aaxis": {
             "endlinecolor": "#2a3f5f",
             "gridcolor": "white",
             "linecolor": "white",
             "minorgridcolor": "white",
             "startlinecolor": "#2a3f5f"
            },
            "baxis": {
             "endlinecolor": "#2a3f5f",
             "gridcolor": "white",
             "linecolor": "white",
             "minorgridcolor": "white",
             "startlinecolor": "#2a3f5f"
            },
            "type": "carpet"
           }
          ],
          "choropleth": [
           {
            "colorbar": {
             "outlinewidth": 0,
             "ticks": ""
            },
            "type": "choropleth"
           }
          ],
          "contour": [
           {
            "colorbar": {
             "outlinewidth": 0,
             "ticks": ""
            },
            "colorscale": [
             [
              0,
              "#0d0887"
             ],
             [
              0.1111111111111111,
              "#46039f"
             ],
             [
              0.2222222222222222,
              "#7201a8"
             ],
             [
              0.3333333333333333,
              "#9c179e"
             ],
             [
              0.4444444444444444,
              "#bd3786"
             ],
             [
              0.5555555555555556,
              "#d8576b"
             ],
             [
              0.6666666666666666,
              "#ed7953"
             ],
             [
              0.7777777777777778,
              "#fb9f3a"
             ],
             [
              0.8888888888888888,
              "#fdca26"
             ],
             [
              1,
              "#f0f921"
             ]
            ],
            "type": "contour"
           }
          ],
          "contourcarpet": [
           {
            "colorbar": {
             "outlinewidth": 0,
             "ticks": ""
            },
            "type": "contourcarpet"
           }
          ],
          "heatmap": [
           {
            "colorbar": {
             "outlinewidth": 0,
             "ticks": ""
            },
            "colorscale": [
             [
              0,
              "#0d0887"
             ],
             [
              0.1111111111111111,
              "#46039f"
             ],
             [
              0.2222222222222222,
              "#7201a8"
             ],
             [
              0.3333333333333333,
              "#9c179e"
             ],
             [
              0.4444444444444444,
              "#bd3786"
             ],
             [
              0.5555555555555556,
              "#d8576b"
             ],
             [
              0.6666666666666666,
              "#ed7953"
             ],
             [
              0.7777777777777778,
              "#fb9f3a"
             ],
             [
              0.8888888888888888,
              "#fdca26"
             ],
             [
              1,
              "#f0f921"
             ]
            ],
            "type": "heatmap"
           }
          ],
          "histogram": [
           {
            "marker": {
             "pattern": {
              "fillmode": "overlay",
              "size": 10,
              "solidity": 0.2
             }
            },
            "type": "histogram"
           }
          ],
          "histogram2d": [
           {
            "colorbar": {
             "outlinewidth": 0,
             "ticks": ""
            },
            "colorscale": [
             [
              0,
              "#0d0887"
             ],
             [
              0.1111111111111111,
              "#46039f"
             ],
             [
              0.2222222222222222,
              "#7201a8"
             ],
             [
              0.3333333333333333,
              "#9c179e"
             ],
             [
              0.4444444444444444,
              "#bd3786"
             ],
             [
              0.5555555555555556,
              "#d8576b"
             ],
             [
              0.6666666666666666,
              "#ed7953"
             ],
             [
              0.7777777777777778,
              "#fb9f3a"
             ],
             [
              0.8888888888888888,
              "#fdca26"
             ],
             [
              1,
              "#f0f921"
             ]
            ],
            "type": "histogram2d"
           }
          ],
          "histogram2dcontour": [
           {
            "colorbar": {
             "outlinewidth": 0,
             "ticks": ""
            },
            "colorscale": [
             [
              0,
              "#0d0887"
             ],
             [
              0.1111111111111111,
              "#46039f"
             ],
             [
              0.2222222222222222,
              "#7201a8"
             ],
             [
              0.3333333333333333,
              "#9c179e"
             ],
             [
              0.4444444444444444,
              "#bd3786"
             ],
             [
              0.5555555555555556,
              "#d8576b"
             ],
             [
              0.6666666666666666,
              "#ed7953"
             ],
             [
              0.7777777777777778,
              "#fb9f3a"
             ],
             [
              0.8888888888888888,
              "#fdca26"
             ],
             [
              1,
              "#f0f921"
             ]
            ],
            "type": "histogram2dcontour"
           }
          ],
          "mesh3d": [
           {
            "colorbar": {
             "outlinewidth": 0,
             "ticks": ""
            },
            "type": "mesh3d"
           }
          ],
          "parcoords": [
           {
            "line": {
             "colorbar": {
              "outlinewidth": 0,
              "ticks": ""
             }
            },
            "type": "parcoords"
           }
          ],
          "pie": [
           {
            "automargin": true,
            "type": "pie"
           }
          ],
          "scatter": [
           {
            "fillpattern": {
             "fillmode": "overlay",
             "size": 10,
             "solidity": 0.2
            },
            "type": "scatter"
           }
          ],
          "scatter3d": [
           {
            "line": {
             "colorbar": {
              "outlinewidth": 0,
              "ticks": ""
             }
            },
            "marker": {
             "colorbar": {
              "outlinewidth": 0,
              "ticks": ""
             }
            },
            "type": "scatter3d"
           }
          ],
          "scattercarpet": [
           {
            "marker": {
             "colorbar": {
              "outlinewidth": 0,
              "ticks": ""
             }
            },
            "type": "scattercarpet"
           }
          ],
          "scattergeo": [
           {
            "marker": {
             "colorbar": {
              "outlinewidth": 0,
              "ticks": ""
             }
            },
            "type": "scattergeo"
           }
          ],
          "scattergl": [
           {
            "marker": {
             "colorbar": {
              "outlinewidth": 0,
              "ticks": ""
             }
            },
            "type": "scattergl"
           }
          ],
          "scattermap": [
           {
            "marker": {
             "colorbar": {
              "outlinewidth": 0,
              "ticks": ""
             }
            },
            "type": "scattermap"
           }
          ],
          "scattermapbox": [
           {
            "marker": {
             "colorbar": {
              "outlinewidth": 0,
              "ticks": ""
             }
            },
            "type": "scattermapbox"
           }
          ],
          "scatterpolar": [
           {
            "marker": {
             "colorbar": {
              "outlinewidth": 0,
              "ticks": ""
             }
            },
            "type": "scatterpolar"
           }
          ],
          "scatterpolargl": [
           {
            "marker": {
             "colorbar": {
              "outlinewidth": 0,
              "ticks": ""
             }
            },
            "type": "scatterpolargl"
           }
          ],
          "scatterternary": [
           {
            "marker": {
             "colorbar": {
              "outlinewidth": 0,
              "ticks": ""
             }
            },
            "type": "scatterternary"
           }
          ],
          "surface": [
           {
            "colorbar": {
             "outlinewidth": 0,
             "ticks": ""
            },
            "colorscale": [
             [
              0,
              "#0d0887"
             ],
             [
              0.1111111111111111,
              "#46039f"
             ],
             [
              0.2222222222222222,
              "#7201a8"
             ],
             [
              0.3333333333333333,
              "#9c179e"
             ],
             [
              0.4444444444444444,
              "#bd3786"
             ],
             [
              0.5555555555555556,
              "#d8576b"
             ],
             [
              0.6666666666666666,
              "#ed7953"
             ],
             [
              0.7777777777777778,
              "#fb9f3a"
             ],
             [
              0.8888888888888888,
              "#fdca26"
             ],
             [
              1,
              "#f0f921"
             ]
            ],
            "type": "surface"
           }
          ],
          "table": [
           {
            "cells": {
             "fill": {
              "color": "#EBF0F8"
             },
             "line": {
              "color": "white"
             }
            },
            "header": {
             "fill": {
              "color": "#C8D4E3"
             },
             "line": {
              "color": "white"
             }
            },
            "type": "table"
           }
          ]
         },
         "layout": {
          "annotationdefaults": {
           "arrowcolor": "#2a3f5f",
           "arrowhead": 0,
           "arrowwidth": 1
          },
          "autotypenumbers": "strict",
          "coloraxis": {
           "colorbar": {
            "outlinewidth": 0,
            "ticks": ""
           }
          },
          "colorscale": {
           "diverging": [
            [
             0,
             "#8e0152"
            ],
            [
             0.1,
             "#c51b7d"
            ],
            [
             0.2,
             "#de77ae"
            ],
            [
             0.3,
             "#f1b6da"
            ],
            [
             0.4,
             "#fde0ef"
            ],
            [
             0.5,
             "#f7f7f7"
            ],
            [
             0.6,
             "#e6f5d0"
            ],
            [
             0.7,
             "#b8e186"
            ],
            [
             0.8,
             "#7fbc41"
            ],
            [
             0.9,
             "#4d9221"
            ],
            [
             1,
             "#276419"
            ]
           ],
           "sequential": [
            [
             0,
             "#0d0887"
            ],
            [
             0.1111111111111111,
             "#46039f"
            ],
            [
             0.2222222222222222,
             "#7201a8"
            ],
            [
             0.3333333333333333,
             "#9c179e"
            ],
            [
             0.4444444444444444,
             "#bd3786"
            ],
            [
             0.5555555555555556,
             "#d8576b"
            ],
            [
             0.6666666666666666,
             "#ed7953"
            ],
            [
             0.7777777777777778,
             "#fb9f3a"
            ],
            [
             0.8888888888888888,
             "#fdca26"
            ],
            [
             1,
             "#f0f921"
            ]
           ],
           "sequentialminus": [
            [
             0,
             "#0d0887"
            ],
            [
             0.1111111111111111,
             "#46039f"
            ],
            [
             0.2222222222222222,
             "#7201a8"
            ],
            [
             0.3333333333333333,
             "#9c179e"
            ],
            [
             0.4444444444444444,
             "#bd3786"
            ],
            [
             0.5555555555555556,
             "#d8576b"
            ],
            [
             0.6666666666666666,
             "#ed7953"
            ],
            [
             0.7777777777777778,
             "#fb9f3a"
            ],
            [
             0.8888888888888888,
             "#fdca26"
            ],
            [
             1,
             "#f0f921"
            ]
           ]
          },
          "colorway": [
           "#636efa",
           "#EF553B",
           "#00cc96",
           "#ab63fa",
           "#FFA15A",
           "#19d3f3",
           "#FF6692",
           "#B6E880",
           "#FF97FF",
           "#FECB52"
          ],
          "font": {
           "color": "#2a3f5f"
          },
          "geo": {
           "bgcolor": "white",
           "lakecolor": "white",
           "landcolor": "#E5ECF6",
           "showlakes": true,
           "showland": true,
           "subunitcolor": "white"
          },
          "hoverlabel": {
           "align": "left"
          },
          "hovermode": "closest",
          "mapbox": {
           "style": "light"
          },
          "paper_bgcolor": "white",
          "plot_bgcolor": "#E5ECF6",
          "polar": {
           "angularaxis": {
            "gridcolor": "white",
            "linecolor": "white",
            "ticks": ""
           },
           "bgcolor": "#E5ECF6",
           "radialaxis": {
            "gridcolor": "white",
            "linecolor": "white",
            "ticks": ""
           }
          },
          "scene": {
           "xaxis": {
            "backgroundcolor": "#E5ECF6",
            "gridcolor": "white",
            "gridwidth": 2,
            "linecolor": "white",
            "showbackground": true,
            "ticks": "",
            "zerolinecolor": "white"
           },
           "yaxis": {
            "backgroundcolor": "#E5ECF6",
            "gridcolor": "white",
            "gridwidth": 2,
            "linecolor": "white",
            "showbackground": true,
            "ticks": "",
            "zerolinecolor": "white"
           },
           "zaxis": {
            "backgroundcolor": "#E5ECF6",
            "gridcolor": "white",
            "gridwidth": 2,
            "linecolor": "white",
            "showbackground": true,
            "ticks": "",
            "zerolinecolor": "white"
           }
          },
          "shapedefaults": {
           "line": {
            "color": "#2a3f5f"
           }
          },
          "ternary": {
           "aaxis": {
            "gridcolor": "white",
            "linecolor": "white",
            "ticks": ""
           },
           "baxis": {
            "gridcolor": "white",
            "linecolor": "white",
            "ticks": ""
           },
           "bgcolor": "#E5ECF6",
           "caxis": {
            "gridcolor": "white",
            "linecolor": "white",
            "ticks": ""
           }
          },
          "title": {
           "x": 0.05
          },
          "xaxis": {
           "automargin": true,
           "gridcolor": "white",
           "linecolor": "white",
           "ticks": "",
           "title": {
            "standoff": 15
           },
           "zerolinecolor": "white",
           "zerolinewidth": 2
          },
          "yaxis": {
           "automargin": true,
           "gridcolor": "white",
           "linecolor": "white",
           "ticks": "",
           "title": {
            "standoff": 15
           },
           "zerolinecolor": "white",
           "zerolinewidth": 2
          }
         }
        },
        "title": {
         "text": "Confusion Matrix"
        },
        "xaxis": {
         "dtick": 1,
         "gridcolor": "rgb(0, 0, 0)",
         "side": "top",
         "ticks": ""
        },
        "yaxis": {
         "dtick": 1,
         "ticks": "",
         "ticksuffix": "  "
        }
       }
      }
     },
     "metadata": {},
     "output_type": "display_data"
    }
   ],
   "source": [
    "cm = confusion_matrix(y_test, y_pred)\n",
    "\n",
    "# Get class labels dynamically from unique y values\n",
    "labels = [f\"Class {i}\" for i in np.unique(y_test)]\n",
    "\n",
    "# Annotated heatmap\n",
    "cm_fig = ff.create_annotated_heatmap(\n",
    "    z=cm,\n",
    "    x=[f\"Predicted {i}\" for i in labels],\n",
    "    y=[f\"Actual {i}\" for i in labels],\n",
    "    colorscale='Blues',\n",
    "    showscale=True\n",
    ")\n",
    "cm_fig.update_layout(title=\"Confusion Matrix\", margin=dict(t=50, l=50))\n",
    "cm_fig.show()"
   ]
  },
  {
   "cell_type": "markdown",
   "id": "26831f5a",
   "metadata": {},
   "source": [
    "## Feature Importance Plot"
   ]
  },
  {
   "cell_type": "code",
   "execution_count": 37,
   "id": "7af9d5e8",
   "metadata": {},
   "outputs": [
    {
     "data": {
      "application/vnd.plotly.v1+json": {
       "config": {
        "plotlyServerURL": "https://plot.ly"
       },
       "data": [
        {
         "hovertemplate": "Feature=%{x}<br>Coefficient Magnitude=%{y}<extra></extra>",
         "legendgroup": "",
         "marker": {
          "color": "#636efa",
          "pattern": {
           "shape": ""
          }
         },
         "name": "",
         "orientation": "v",
         "showlegend": false,
         "textposition": "auto",
         "type": "bar",
         "x": [
          "E",
          "C",
          "K",
          "V",
          "Y",
          "R",
          "M",
          "W",
          "Q",
          "G",
          "T",
          "L",
          "H",
          "N",
          "D",
          "Sequence_Length",
          "I",
          "F",
          "A",
          "S",
          "P"
         ],
         "xaxis": "x",
         "y": {
          "bdata": "ZddpJgUm6z8bvM/nnZbpP+Kz/76fk+g/8/rvS2355z8U9ss99OHjP/bwwBhq3d0/ufSnlFH53D8Cy6NTCxLbPw0oq+E4ItM/+/jvh6cw0T9Ex+P31yjOP77ychqeXs0/TELOf0B2yD8qsY+rrI3HP4DpoFbK7cY/p40s9ERHtz/kzpXzhIi2P2VtqYidHKs/4mIWWJcNoz8GKS+0PxyhP2y5jL1UbJs/",
          "dtype": "f8"
         },
         "yaxis": "y"
        }
       ],
       "layout": {
        "barmode": "relative",
        "legend": {
         "tracegroupgap": 0
        },
        "template": {
         "data": {
          "bar": [
           {
            "error_x": {
             "color": "#2a3f5f"
            },
            "error_y": {
             "color": "#2a3f5f"
            },
            "marker": {
             "line": {
              "color": "#E5ECF6",
              "width": 0.5
             },
             "pattern": {
              "fillmode": "overlay",
              "size": 10,
              "solidity": 0.2
             }
            },
            "type": "bar"
           }
          ],
          "barpolar": [
           {
            "marker": {
             "line": {
              "color": "#E5ECF6",
              "width": 0.5
             },
             "pattern": {
              "fillmode": "overlay",
              "size": 10,
              "solidity": 0.2
             }
            },
            "type": "barpolar"
           }
          ],
          "carpet": [
           {
            "aaxis": {
             "endlinecolor": "#2a3f5f",
             "gridcolor": "white",
             "linecolor": "white",
             "minorgridcolor": "white",
             "startlinecolor": "#2a3f5f"
            },
            "baxis": {
             "endlinecolor": "#2a3f5f",
             "gridcolor": "white",
             "linecolor": "white",
             "minorgridcolor": "white",
             "startlinecolor": "#2a3f5f"
            },
            "type": "carpet"
           }
          ],
          "choropleth": [
           {
            "colorbar": {
             "outlinewidth": 0,
             "ticks": ""
            },
            "type": "choropleth"
           }
          ],
          "contour": [
           {
            "colorbar": {
             "outlinewidth": 0,
             "ticks": ""
            },
            "colorscale": [
             [
              0,
              "#0d0887"
             ],
             [
              0.1111111111111111,
              "#46039f"
             ],
             [
              0.2222222222222222,
              "#7201a8"
             ],
             [
              0.3333333333333333,
              "#9c179e"
             ],
             [
              0.4444444444444444,
              "#bd3786"
             ],
             [
              0.5555555555555556,
              "#d8576b"
             ],
             [
              0.6666666666666666,
              "#ed7953"
             ],
             [
              0.7777777777777778,
              "#fb9f3a"
             ],
             [
              0.8888888888888888,
              "#fdca26"
             ],
             [
              1,
              "#f0f921"
             ]
            ],
            "type": "contour"
           }
          ],
          "contourcarpet": [
           {
            "colorbar": {
             "outlinewidth": 0,
             "ticks": ""
            },
            "type": "contourcarpet"
           }
          ],
          "heatmap": [
           {
            "colorbar": {
             "outlinewidth": 0,
             "ticks": ""
            },
            "colorscale": [
             [
              0,
              "#0d0887"
             ],
             [
              0.1111111111111111,
              "#46039f"
             ],
             [
              0.2222222222222222,
              "#7201a8"
             ],
             [
              0.3333333333333333,
              "#9c179e"
             ],
             [
              0.4444444444444444,
              "#bd3786"
             ],
             [
              0.5555555555555556,
              "#d8576b"
             ],
             [
              0.6666666666666666,
              "#ed7953"
             ],
             [
              0.7777777777777778,
              "#fb9f3a"
             ],
             [
              0.8888888888888888,
              "#fdca26"
             ],
             [
              1,
              "#f0f921"
             ]
            ],
            "type": "heatmap"
           }
          ],
          "histogram": [
           {
            "marker": {
             "pattern": {
              "fillmode": "overlay",
              "size": 10,
              "solidity": 0.2
             }
            },
            "type": "histogram"
           }
          ],
          "histogram2d": [
           {
            "colorbar": {
             "outlinewidth": 0,
             "ticks": ""
            },
            "colorscale": [
             [
              0,
              "#0d0887"
             ],
             [
              0.1111111111111111,
              "#46039f"
             ],
             [
              0.2222222222222222,
              "#7201a8"
             ],
             [
              0.3333333333333333,
              "#9c179e"
             ],
             [
              0.4444444444444444,
              "#bd3786"
             ],
             [
              0.5555555555555556,
              "#d8576b"
             ],
             [
              0.6666666666666666,
              "#ed7953"
             ],
             [
              0.7777777777777778,
              "#fb9f3a"
             ],
             [
              0.8888888888888888,
              "#fdca26"
             ],
             [
              1,
              "#f0f921"
             ]
            ],
            "type": "histogram2d"
           }
          ],
          "histogram2dcontour": [
           {
            "colorbar": {
             "outlinewidth": 0,
             "ticks": ""
            },
            "colorscale": [
             [
              0,
              "#0d0887"
             ],
             [
              0.1111111111111111,
              "#46039f"
             ],
             [
              0.2222222222222222,
              "#7201a8"
             ],
             [
              0.3333333333333333,
              "#9c179e"
             ],
             [
              0.4444444444444444,
              "#bd3786"
             ],
             [
              0.5555555555555556,
              "#d8576b"
             ],
             [
              0.6666666666666666,
              "#ed7953"
             ],
             [
              0.7777777777777778,
              "#fb9f3a"
             ],
             [
              0.8888888888888888,
              "#fdca26"
             ],
             [
              1,
              "#f0f921"
             ]
            ],
            "type": "histogram2dcontour"
           }
          ],
          "mesh3d": [
           {
            "colorbar": {
             "outlinewidth": 0,
             "ticks": ""
            },
            "type": "mesh3d"
           }
          ],
          "parcoords": [
           {
            "line": {
             "colorbar": {
              "outlinewidth": 0,
              "ticks": ""
             }
            },
            "type": "parcoords"
           }
          ],
          "pie": [
           {
            "automargin": true,
            "type": "pie"
           }
          ],
          "scatter": [
           {
            "fillpattern": {
             "fillmode": "overlay",
             "size": 10,
             "solidity": 0.2
            },
            "type": "scatter"
           }
          ],
          "scatter3d": [
           {
            "line": {
             "colorbar": {
              "outlinewidth": 0,
              "ticks": ""
             }
            },
            "marker": {
             "colorbar": {
              "outlinewidth": 0,
              "ticks": ""
             }
            },
            "type": "scatter3d"
           }
          ],
          "scattercarpet": [
           {
            "marker": {
             "colorbar": {
              "outlinewidth": 0,
              "ticks": ""
             }
            },
            "type": "scattercarpet"
           }
          ],
          "scattergeo": [
           {
            "marker": {
             "colorbar": {
              "outlinewidth": 0,
              "ticks": ""
             }
            },
            "type": "scattergeo"
           }
          ],
          "scattergl": [
           {
            "marker": {
             "colorbar": {
              "outlinewidth": 0,
              "ticks": ""
             }
            },
            "type": "scattergl"
           }
          ],
          "scattermap": [
           {
            "marker": {
             "colorbar": {
              "outlinewidth": 0,
              "ticks": ""
             }
            },
            "type": "scattermap"
           }
          ],
          "scattermapbox": [
           {
            "marker": {
             "colorbar": {
              "outlinewidth": 0,
              "ticks": ""
             }
            },
            "type": "scattermapbox"
           }
          ],
          "scatterpolar": [
           {
            "marker": {
             "colorbar": {
              "outlinewidth": 0,
              "ticks": ""
             }
            },
            "type": "scatterpolar"
           }
          ],
          "scatterpolargl": [
           {
            "marker": {
             "colorbar": {
              "outlinewidth": 0,
              "ticks": ""
             }
            },
            "type": "scatterpolargl"
           }
          ],
          "scatterternary": [
           {
            "marker": {
             "colorbar": {
              "outlinewidth": 0,
              "ticks": ""
             }
            },
            "type": "scatterternary"
           }
          ],
          "surface": [
           {
            "colorbar": {
             "outlinewidth": 0,
             "ticks": ""
            },
            "colorscale": [
             [
              0,
              "#0d0887"
             ],
             [
              0.1111111111111111,
              "#46039f"
             ],
             [
              0.2222222222222222,
              "#7201a8"
             ],
             [
              0.3333333333333333,
              "#9c179e"
             ],
             [
              0.4444444444444444,
              "#bd3786"
             ],
             [
              0.5555555555555556,
              "#d8576b"
             ],
             [
              0.6666666666666666,
              "#ed7953"
             ],
             [
              0.7777777777777778,
              "#fb9f3a"
             ],
             [
              0.8888888888888888,
              "#fdca26"
             ],
             [
              1,
              "#f0f921"
             ]
            ],
            "type": "surface"
           }
          ],
          "table": [
           {
            "cells": {
             "fill": {
              "color": "#EBF0F8"
             },
             "line": {
              "color": "white"
             }
            },
            "header": {
             "fill": {
              "color": "#C8D4E3"
             },
             "line": {
              "color": "white"
             }
            },
            "type": "table"
           }
          ]
         },
         "layout": {
          "annotationdefaults": {
           "arrowcolor": "#2a3f5f",
           "arrowhead": 0,
           "arrowwidth": 1
          },
          "autotypenumbers": "strict",
          "coloraxis": {
           "colorbar": {
            "outlinewidth": 0,
            "ticks": ""
           }
          },
          "colorscale": {
           "diverging": [
            [
             0,
             "#8e0152"
            ],
            [
             0.1,
             "#c51b7d"
            ],
            [
             0.2,
             "#de77ae"
            ],
            [
             0.3,
             "#f1b6da"
            ],
            [
             0.4,
             "#fde0ef"
            ],
            [
             0.5,
             "#f7f7f7"
            ],
            [
             0.6,
             "#e6f5d0"
            ],
            [
             0.7,
             "#b8e186"
            ],
            [
             0.8,
             "#7fbc41"
            ],
            [
             0.9,
             "#4d9221"
            ],
            [
             1,
             "#276419"
            ]
           ],
           "sequential": [
            [
             0,
             "#0d0887"
            ],
            [
             0.1111111111111111,
             "#46039f"
            ],
            [
             0.2222222222222222,
             "#7201a8"
            ],
            [
             0.3333333333333333,
             "#9c179e"
            ],
            [
             0.4444444444444444,
             "#bd3786"
            ],
            [
             0.5555555555555556,
             "#d8576b"
            ],
            [
             0.6666666666666666,
             "#ed7953"
            ],
            [
             0.7777777777777778,
             "#fb9f3a"
            ],
            [
             0.8888888888888888,
             "#fdca26"
            ],
            [
             1,
             "#f0f921"
            ]
           ],
           "sequentialminus": [
            [
             0,
             "#0d0887"
            ],
            [
             0.1111111111111111,
             "#46039f"
            ],
            [
             0.2222222222222222,
             "#7201a8"
            ],
            [
             0.3333333333333333,
             "#9c179e"
            ],
            [
             0.4444444444444444,
             "#bd3786"
            ],
            [
             0.5555555555555556,
             "#d8576b"
            ],
            [
             0.6666666666666666,
             "#ed7953"
            ],
            [
             0.7777777777777778,
             "#fb9f3a"
            ],
            [
             0.8888888888888888,
             "#fdca26"
            ],
            [
             1,
             "#f0f921"
            ]
           ]
          },
          "colorway": [
           "#636efa",
           "#EF553B",
           "#00cc96",
           "#ab63fa",
           "#FFA15A",
           "#19d3f3",
           "#FF6692",
           "#B6E880",
           "#FF97FF",
           "#FECB52"
          ],
          "font": {
           "color": "#2a3f5f"
          },
          "geo": {
           "bgcolor": "white",
           "lakecolor": "white",
           "landcolor": "#E5ECF6",
           "showlakes": true,
           "showland": true,
           "subunitcolor": "white"
          },
          "hoverlabel": {
           "align": "left"
          },
          "hovermode": "closest",
          "mapbox": {
           "style": "light"
          },
          "paper_bgcolor": "white",
          "plot_bgcolor": "#E5ECF6",
          "polar": {
           "angularaxis": {
            "gridcolor": "white",
            "linecolor": "white",
            "ticks": ""
           },
           "bgcolor": "#E5ECF6",
           "radialaxis": {
            "gridcolor": "white",
            "linecolor": "white",
            "ticks": ""
           }
          },
          "scene": {
           "xaxis": {
            "backgroundcolor": "#E5ECF6",
            "gridcolor": "white",
            "gridwidth": 2,
            "linecolor": "white",
            "showbackground": true,
            "ticks": "",
            "zerolinecolor": "white"
           },
           "yaxis": {
            "backgroundcolor": "#E5ECF6",
            "gridcolor": "white",
            "gridwidth": 2,
            "linecolor": "white",
            "showbackground": true,
            "ticks": "",
            "zerolinecolor": "white"
           },
           "zaxis": {
            "backgroundcolor": "#E5ECF6",
            "gridcolor": "white",
            "gridwidth": 2,
            "linecolor": "white",
            "showbackground": true,
            "ticks": "",
            "zerolinecolor": "white"
           }
          },
          "shapedefaults": {
           "line": {
            "color": "#2a3f5f"
           }
          },
          "ternary": {
           "aaxis": {
            "gridcolor": "white",
            "linecolor": "white",
            "ticks": ""
           },
           "baxis": {
            "gridcolor": "white",
            "linecolor": "white",
            "ticks": ""
           },
           "bgcolor": "#E5ECF6",
           "caxis": {
            "gridcolor": "white",
            "linecolor": "white",
            "ticks": ""
           }
          },
          "title": {
           "x": 0.05
          },
          "xaxis": {
           "automargin": true,
           "gridcolor": "white",
           "linecolor": "white",
           "ticks": "",
           "title": {
            "standoff": 15
           },
           "zerolinecolor": "white",
           "zerolinewidth": 2
          },
          "yaxis": {
           "automargin": true,
           "gridcolor": "white",
           "linecolor": "white",
           "ticks": "",
           "title": {
            "standoff": 15
           },
           "zerolinecolor": "white",
           "zerolinewidth": 2
          }
         }
        },
        "title": {
         "text": "Feature Importance (Logistic Regression)"
        },
        "xaxis": {
         "anchor": "y",
         "domain": [
          0,
          1
         ],
         "title": {
          "text": "Feature"
         }
        },
        "yaxis": {
         "anchor": "x",
         "domain": [
          0,
          1
         ],
         "title": {
          "text": "Coefficient Magnitude"
         }
        }
       }
      }
     },
     "metadata": {},
     "output_type": "display_data"
    }
   ],
   "source": [
    "feature_importance = pd.DataFrame({\n",
    "    'Feature': X.columns,\n",
    "    'Importance': np.abs(logistic_model.coef_[0])\n",
    "}).sort_values(by='Importance', ascending=False)\n",
    "\n",
    "importance_fig = px.bar(feature_importance, x='Feature', y='Importance',\n",
    "                        title=\"Feature Importance (Logistic Regression)\",\n",
    "                        labels={'Importance': 'Coefficient Magnitude'})\n",
    "importance_fig.show()"
   ]
  },
  {
   "cell_type": "markdown",
   "id": "1bd5d9af",
   "metadata": {},
   "source": [
    "## KDE Plots"
   ]
  },
  {
   "cell_type": "code",
   "execution_count": 38,
   "id": "d632c457",
   "metadata": {},
   "outputs": [
    {
     "data": {
      "application/vnd.plotly.v1+json": {
       "config": {
        "plotlyServerURL": "https://plot.ly"
       },
       "data": [
        {
         "legendgroup": "0",
         "marker": {
          "color": "rgb(31, 119, 180)"
         },
         "mode": "lines",
         "name": "0",
         "showlegend": true,
         "type": "scatter",
         "x": [
          0,
          0.044,
          0.088,
          0.132,
          0.176,
          0.22,
          0.264,
          0.308,
          0.352,
          0.396,
          0.44,
          0.484,
          0.528,
          0.572,
          0.616,
          0.66,
          0.704,
          0.748,
          0.792,
          0.836,
          0.88,
          0.924,
          0.968,
          1.012,
          1.056,
          1.1,
          1.144,
          1.188,
          1.232,
          1.276,
          1.32,
          1.364,
          1.408,
          1.452,
          1.496,
          1.54,
          1.584,
          1.628,
          1.672,
          1.716,
          1.76,
          1.804,
          1.848,
          1.892,
          1.936,
          1.98,
          2.024,
          2.068,
          2.112,
          2.156,
          2.2,
          2.244,
          2.288,
          2.332,
          2.376,
          2.42,
          2.464,
          2.508,
          2.552,
          2.596,
          2.64,
          2.684,
          2.728,
          2.772,
          2.816,
          2.86,
          2.904,
          2.948,
          2.992,
          3.036,
          3.08,
          3.124,
          3.168,
          3.212,
          3.256,
          3.3,
          3.344,
          3.388,
          3.432,
          3.476,
          3.52,
          3.564,
          3.608,
          3.652,
          3.696,
          3.74,
          3.784,
          3.828,
          3.872,
          3.916,
          3.96,
          4.004,
          4.048,
          4.092,
          4.136,
          4.18,
          4.224,
          4.268,
          4.312,
          4.356,
          4.4,
          4.444,
          4.488,
          4.532,
          4.576,
          4.62,
          4.664,
          4.708,
          4.752,
          4.796,
          4.84,
          4.884,
          4.928,
          4.972,
          5.016,
          5.06,
          5.104,
          5.148,
          5.192,
          5.236,
          5.28,
          5.324,
          5.368,
          5.412,
          5.456,
          5.5,
          5.544,
          5.588,
          5.632,
          5.676,
          5.72,
          5.764,
          5.808,
          5.852,
          5.896,
          5.94,
          5.984,
          6.028,
          6.072,
          6.116,
          6.16,
          6.204,
          6.248,
          6.292,
          6.336,
          6.38,
          6.424,
          6.468,
          6.512,
          6.556,
          6.6,
          6.644,
          6.688,
          6.732,
          6.776,
          6.82,
          6.864,
          6.908,
          6.952,
          6.996,
          7.04,
          7.084,
          7.128,
          7.172,
          7.216,
          7.26,
          7.304,
          7.348,
          7.392,
          7.436,
          7.48,
          7.524,
          7.568,
          7.612,
          7.656,
          7.7,
          7.744,
          7.788,
          7.832,
          7.876,
          7.92,
          7.964,
          8.008,
          8.052,
          8.096,
          8.14,
          8.184,
          8.228,
          8.272,
          8.316,
          8.36,
          8.404,
          8.448,
          8.492,
          8.536,
          8.58,
          8.624,
          8.668,
          8.712,
          8.756,
          8.8,
          8.844,
          8.888,
          8.932,
          8.976,
          9.02,
          9.064,
          9.108,
          9.152,
          9.196,
          9.24,
          9.284,
          9.328,
          9.372,
          9.416,
          9.46,
          9.504,
          9.548,
          9.592,
          9.636,
          9.68,
          9.724,
          9.768,
          9.812,
          9.856,
          9.9,
          9.944,
          9.988,
          10.032,
          10.076,
          10.12,
          10.164,
          10.208,
          10.252,
          10.296,
          10.34,
          10.384,
          10.428,
          10.472,
          10.516,
          10.56,
          10.604,
          10.648,
          10.692,
          10.736,
          10.78,
          10.824,
          10.868,
          10.912,
          10.956,
          11,
          11.044,
          11.088,
          11.132,
          11.176,
          11.22,
          11.264,
          11.308,
          11.352,
          11.396,
          11.44,
          11.484,
          11.528,
          11.572,
          11.616,
          11.66,
          11.704,
          11.748,
          11.792,
          11.836,
          11.88,
          11.924,
          11.968,
          12.012,
          12.056,
          12.1,
          12.144,
          12.188,
          12.232,
          12.276,
          12.32,
          12.364,
          12.408,
          12.452,
          12.496,
          12.54,
          12.584,
          12.628,
          12.672,
          12.716,
          12.76,
          12.804,
          12.848,
          12.892,
          12.936,
          12.98,
          13.024,
          13.068,
          13.112,
          13.156,
          13.2,
          13.244,
          13.288,
          13.332,
          13.376,
          13.42,
          13.464,
          13.508,
          13.552,
          13.596,
          13.64,
          13.684,
          13.728,
          13.772,
          13.816,
          13.86,
          13.904,
          13.948,
          13.992,
          14.036,
          14.08,
          14.124,
          14.168,
          14.212,
          14.256,
          14.3,
          14.344,
          14.388,
          14.432,
          14.476,
          14.52,
          14.564,
          14.608,
          14.652,
          14.696,
          14.74,
          14.784,
          14.828,
          14.872,
          14.916,
          14.96,
          15.004,
          15.048,
          15.092,
          15.136,
          15.18,
          15.224,
          15.268,
          15.312,
          15.356,
          15.4,
          15.444,
          15.488,
          15.532,
          15.576,
          15.62,
          15.664,
          15.708,
          15.752,
          15.796,
          15.84,
          15.884,
          15.928,
          15.972,
          16.016,
          16.06,
          16.104,
          16.148,
          16.192,
          16.236,
          16.28,
          16.324,
          16.368,
          16.412,
          16.456,
          16.5,
          16.544,
          16.588,
          16.632,
          16.676,
          16.72,
          16.764,
          16.808,
          16.852,
          16.896,
          16.94,
          16.984,
          17.028,
          17.072,
          17.116,
          17.16,
          17.204,
          17.248,
          17.292,
          17.336,
          17.38,
          17.424,
          17.468,
          17.512,
          17.556,
          17.6,
          17.644,
          17.688,
          17.732,
          17.776,
          17.82,
          17.864,
          17.908,
          17.952,
          17.996,
          18.04,
          18.084,
          18.128,
          18.172,
          18.216,
          18.26,
          18.304,
          18.348,
          18.392,
          18.436,
          18.48,
          18.524,
          18.568,
          18.612,
          18.656,
          18.7,
          18.744,
          18.788,
          18.832,
          18.876,
          18.92,
          18.964,
          19.008,
          19.052,
          19.096,
          19.14,
          19.184,
          19.228,
          19.272,
          19.316,
          19.36,
          19.404,
          19.448,
          19.492,
          19.536,
          19.58,
          19.624,
          19.668,
          19.712,
          19.756,
          19.8,
          19.844,
          19.888,
          19.932,
          19.976,
          20.02,
          20.064,
          20.108,
          20.152,
          20.196,
          20.24,
          20.284,
          20.328,
          20.372,
          20.416,
          20.46,
          20.504,
          20.548,
          20.592,
          20.636,
          20.68,
          20.724,
          20.768,
          20.812,
          20.856,
          20.9,
          20.944,
          20.988,
          21.032,
          21.076,
          21.12,
          21.164,
          21.208,
          21.252,
          21.296,
          21.34,
          21.384,
          21.428,
          21.472,
          21.516,
          21.56,
          21.604,
          21.648,
          21.692,
          21.736,
          21.78,
          21.824,
          21.868,
          21.912,
          21.956
         ],
         "xaxis": "x",
         "y": {
          "bdata": "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",
          "dtype": "f8"
         },
         "yaxis": "y"
        },
        {
         "legendgroup": "1",
         "marker": {
          "color": "rgb(255, 127, 14)"
         },
         "mode": "lines",
         "name": "1",
         "showlegend": true,
         "type": "scatter",
         "x": [
          0,
          0.044,
          0.088,
          0.132,
          0.176,
          0.22,
          0.264,
          0.308,
          0.352,
          0.396,
          0.44,
          0.484,
          0.528,
          0.572,
          0.616,
          0.66,
          0.704,
          0.748,
          0.792,
          0.836,
          0.88,
          0.924,
          0.968,
          1.012,
          1.056,
          1.1,
          1.144,
          1.188,
          1.232,
          1.276,
          1.32,
          1.364,
          1.408,
          1.452,
          1.496,
          1.54,
          1.584,
          1.628,
          1.672,
          1.716,
          1.76,
          1.804,
          1.848,
          1.892,
          1.936,
          1.98,
          2.024,
          2.068,
          2.112,
          2.156,
          2.2,
          2.244,
          2.288,
          2.332,
          2.376,
          2.42,
          2.464,
          2.508,
          2.552,
          2.596,
          2.64,
          2.684,
          2.728,
          2.772,
          2.816,
          2.86,
          2.904,
          2.948,
          2.992,
          3.036,
          3.08,
          3.124,
          3.168,
          3.212,
          3.256,
          3.3,
          3.344,
          3.388,
          3.432,
          3.476,
          3.52,
          3.564,
          3.608,
          3.652,
          3.696,
          3.74,
          3.784,
          3.828,
          3.872,
          3.916,
          3.96,
          4.004,
          4.048,
          4.092,
          4.136,
          4.18,
          4.224,
          4.268,
          4.312,
          4.356,
          4.4,
          4.444,
          4.488,
          4.532,
          4.576,
          4.62,
          4.664,
          4.708,
          4.752,
          4.796,
          4.84,
          4.884,
          4.928,
          4.972,
          5.016,
          5.06,
          5.104,
          5.148,
          5.192,
          5.236,
          5.28,
          5.324,
          5.368,
          5.412,
          5.456,
          5.5,
          5.544,
          5.588,
          5.632,
          5.676,
          5.72,
          5.764,
          5.808,
          5.852,
          5.896,
          5.94,
          5.984,
          6.028,
          6.072,
          6.116,
          6.16,
          6.204,
          6.248,
          6.292,
          6.336,
          6.38,
          6.424,
          6.468,
          6.512,
          6.556,
          6.6,
          6.644,
          6.688,
          6.732,
          6.776,
          6.82,
          6.864,
          6.908,
          6.952,
          6.996,
          7.04,
          7.084,
          7.128,
          7.172,
          7.216,
          7.26,
          7.304,
          7.348,
          7.392,
          7.436,
          7.48,
          7.524,
          7.568,
          7.612,
          7.656,
          7.7,
          7.744,
          7.788,
          7.832,
          7.876,
          7.92,
          7.964,
          8.008,
          8.052,
          8.096,
          8.14,
          8.184,
          8.228,
          8.272,
          8.316,
          8.36,
          8.404,
          8.448,
          8.492,
          8.536,
          8.58,
          8.624,
          8.668,
          8.712,
          8.756,
          8.8,
          8.844,
          8.888,
          8.932,
          8.976,
          9.02,
          9.064,
          9.108,
          9.152,
          9.196,
          9.24,
          9.284,
          9.328,
          9.372,
          9.416,
          9.46,
          9.504,
          9.548,
          9.592,
          9.636,
          9.68,
          9.724,
          9.768,
          9.812,
          9.856,
          9.9,
          9.944,
          9.988,
          10.032,
          10.076,
          10.12,
          10.164,
          10.208,
          10.252,
          10.296,
          10.34,
          10.384,
          10.428,
          10.472,
          10.516,
          10.56,
          10.604,
          10.648,
          10.692,
          10.736,
          10.78,
          10.824,
          10.868,
          10.912,
          10.956,
          11,
          11.044,
          11.088,
          11.132,
          11.176,
          11.22,
          11.264,
          11.308,
          11.352,
          11.396,
          11.44,
          11.484,
          11.528,
          11.572,
          11.616,
          11.66,
          11.704,
          11.748,
          11.792,
          11.836,
          11.88,
          11.924,
          11.968,
          12.012,
          12.056,
          12.1,
          12.144,
          12.188,
          12.232,
          12.276,
          12.32,
          12.364,
          12.408,
          12.452,
          12.496,
          12.54,
          12.584,
          12.628,
          12.672,
          12.716,
          12.76,
          12.804,
          12.848,
          12.892,
          12.936,
          12.98,
          13.024,
          13.068,
          13.112,
          13.156,
          13.2,
          13.244,
          13.288,
          13.332,
          13.376,
          13.42,
          13.464,
          13.508,
          13.552,
          13.596,
          13.64,
          13.684,
          13.728,
          13.772,
          13.816,
          13.86,
          13.904,
          13.948,
          13.992,
          14.036,
          14.08,
          14.124,
          14.168,
          14.212,
          14.256,
          14.3,
          14.344,
          14.388,
          14.432,
          14.476,
          14.52,
          14.564,
          14.608,
          14.652,
          14.696,
          14.74,
          14.784,
          14.828,
          14.872,
          14.916,
          14.96,
          15.004,
          15.048,
          15.092,
          15.136,
          15.18,
          15.224,
          15.268,
          15.312,
          15.356,
          15.4,
          15.444,
          15.488,
          15.532,
          15.576,
          15.62,
          15.664,
          15.708,
          15.752,
          15.796,
          15.84,
          15.884,
          15.928,
          15.972,
          16.016,
          16.06,
          16.104,
          16.148,
          16.192,
          16.236,
          16.28,
          16.324,
          16.368,
          16.412,
          16.456,
          16.5,
          16.544,
          16.588,
          16.632,
          16.676,
          16.72,
          16.764,
          16.808,
          16.852,
          16.896,
          16.94,
          16.984,
          17.028,
          17.072,
          17.116,
          17.16,
          17.204,
          17.248,
          17.292,
          17.336,
          17.38,
          17.424,
          17.468,
          17.512,
          17.556,
          17.6,
          17.644,
          17.688,
          17.732,
          17.776,
          17.82,
          17.864,
          17.908,
          17.952,
          17.996,
          18.04,
          18.084,
          18.128,
          18.172,
          18.216,
          18.26,
          18.304,
          18.348,
          18.392,
          18.436,
          18.48,
          18.524,
          18.568,
          18.612,
          18.656,
          18.7,
          18.744,
          18.788,
          18.832,
          18.876,
          18.92,
          18.964,
          19.008,
          19.052,
          19.096,
          19.14,
          19.184,
          19.228,
          19.272,
          19.316,
          19.36,
          19.404,
          19.448,
          19.492,
          19.536,
          19.58,
          19.624,
          19.668,
          19.712,
          19.756,
          19.8,
          19.844,
          19.888,
          19.932,
          19.976,
          20.02,
          20.064,
          20.108,
          20.152,
          20.196,
          20.24,
          20.284,
          20.328,
          20.372,
          20.416,
          20.46,
          20.504,
          20.548,
          20.592,
          20.636,
          20.68,
          20.724,
          20.768,
          20.812,
          20.856,
          20.9,
          20.944,
          20.988,
          21.032,
          21.076,
          21.12,
          21.164,
          21.208,
          21.252,
          21.296,
          21.34,
          21.384,
          21.428,
          21.472,
          21.516,
          21.56,
          21.604,
          21.648,
          21.692,
          21.736,
          21.78,
          21.824,
          21.868,
          21.912,
          21.956
         ],
         "xaxis": "x",
         "y": {
          "bdata": "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",
          "dtype": "f8"
         },
         "yaxis": "y"
        },
        {
         "legendgroup": "2",
         "marker": {
          "color": "rgb(44, 160, 44)"
         },
         "mode": "lines",
         "name": "2",
         "showlegend": true,
         "type": "scatter",
         "x": [
          0,
          0.024,
          0.048,
          0.072,
          0.096,
          0.12,
          0.144,
          0.168,
          0.192,
          0.216,
          0.24,
          0.264,
          0.288,
          0.312,
          0.336,
          0.36,
          0.384,
          0.408,
          0.432,
          0.456,
          0.48,
          0.504,
          0.528,
          0.552,
          0.576,
          0.6,
          0.624,
          0.648,
          0.672,
          0.696,
          0.72,
          0.744,
          0.768,
          0.792,
          0.816,
          0.84,
          0.864,
          0.888,
          0.912,
          0.936,
          0.96,
          0.984,
          1.008,
          1.032,
          1.056,
          1.08,
          1.104,
          1.128,
          1.152,
          1.176,
          1.2,
          1.224,
          1.248,
          1.272,
          1.296,
          1.32,
          1.344,
          1.368,
          1.392,
          1.416,
          1.44,
          1.464,
          1.488,
          1.512,
          1.536,
          1.56,
          1.584,
          1.608,
          1.632,
          1.656,
          1.68,
          1.704,
          1.728,
          1.752,
          1.776,
          1.8,
          1.824,
          1.848,
          1.872,
          1.896,
          1.92,
          1.944,
          1.968,
          1.992,
          2.016,
          2.04,
          2.064,
          2.088,
          2.112,
          2.136,
          2.16,
          2.184,
          2.208,
          2.232,
          2.256,
          2.28,
          2.304,
          2.328,
          2.352,
          2.376,
          2.4,
          2.424,
          2.448,
          2.472,
          2.496,
          2.52,
          2.544,
          2.568,
          2.592,
          2.616,
          2.64,
          2.664,
          2.688,
          2.712,
          2.736,
          2.76,
          2.784,
          2.808,
          2.832,
          2.856,
          2.88,
          2.904,
          2.928,
          2.952,
          2.976,
          3,
          3.024,
          3.048,
          3.072,
          3.096,
          3.12,
          3.144,
          3.168,
          3.192,
          3.216,
          3.24,
          3.264,
          3.288,
          3.312,
          3.336,
          3.36,
          3.384,
          3.408,
          3.432,
          3.456,
          3.48,
          3.504,
          3.528,
          3.552,
          3.576,
          3.6,
          3.624,
          3.648,
          3.672,
          3.696,
          3.72,
          3.744,
          3.768,
          3.792,
          3.816,
          3.84,
          3.864,
          3.888,
          3.912,
          3.936,
          3.96,
          3.984,
          4.008,
          4.032,
          4.056,
          4.08,
          4.104,
          4.128,
          4.152,
          4.176,
          4.2,
          4.224,
          4.248,
          4.272,
          4.296,
          4.32,
          4.344,
          4.368,
          4.392,
          4.416,
          4.44,
          4.464,
          4.488,
          4.512,
          4.536,
          4.56,
          4.584,
          4.608,
          4.632,
          4.656,
          4.68,
          4.704,
          4.728,
          4.752,
          4.776,
          4.8,
          4.824,
          4.848,
          4.872,
          4.896,
          4.92,
          4.944,
          4.968,
          4.992,
          5.016,
          5.04,
          5.064,
          5.088,
          5.112,
          5.136,
          5.16,
          5.184,
          5.208,
          5.232,
          5.256,
          5.28,
          5.304,
          5.328,
          5.352,
          5.376,
          5.4,
          5.424,
          5.448,
          5.472,
          5.496,
          5.52,
          5.544,
          5.568,
          5.592,
          5.616,
          5.64,
          5.664,
          5.688,
          5.712,
          5.736,
          5.76,
          5.784,
          5.808,
          5.832,
          5.856,
          5.88,
          5.904,
          5.928,
          5.952,
          5.976,
          6,
          6.024,
          6.048,
          6.072,
          6.096,
          6.12,
          6.144,
          6.168,
          6.192,
          6.216,
          6.24,
          6.264,
          6.288,
          6.312,
          6.336,
          6.36,
          6.384,
          6.408,
          6.432,
          6.456,
          6.48,
          6.504,
          6.528,
          6.552,
          6.576,
          6.6,
          6.624,
          6.648,
          6.672,
          6.696,
          6.72,
          6.744,
          6.768,
          6.792,
          6.816,
          6.84,
          6.864,
          6.888,
          6.912,
          6.936,
          6.96,
          6.984,
          7.008,
          7.032,
          7.056,
          7.08,
          7.104,
          7.128,
          7.152,
          7.176,
          7.2,
          7.224,
          7.248,
          7.272,
          7.296,
          7.32,
          7.344,
          7.368,
          7.392,
          7.416,
          7.44,
          7.464,
          7.488,
          7.512,
          7.536,
          7.56,
          7.584,
          7.608,
          7.632,
          7.656,
          7.68,
          7.704,
          7.728,
          7.752,
          7.776,
          7.8,
          7.824,
          7.848,
          7.872,
          7.896,
          7.92,
          7.944,
          7.968,
          7.992,
          8.016,
          8.04,
          8.064,
          8.088,
          8.112,
          8.136,
          8.16,
          8.184,
          8.208,
          8.232,
          8.256,
          8.28,
          8.304,
          8.328,
          8.352,
          8.376,
          8.4,
          8.424,
          8.448,
          8.472,
          8.496,
          8.52,
          8.544,
          8.568,
          8.592,
          8.616,
          8.64,
          8.664,
          8.688,
          8.712,
          8.736,
          8.76,
          8.784,
          8.808,
          8.832,
          8.856,
          8.88,
          8.904,
          8.928,
          8.952,
          8.976,
          9,
          9.024,
          9.048,
          9.072,
          9.096,
          9.12,
          9.144,
          9.168,
          9.192,
          9.216,
          9.24,
          9.264,
          9.288,
          9.312,
          9.336,
          9.36,
          9.384,
          9.408,
          9.432,
          9.456,
          9.48,
          9.504,
          9.528,
          9.552,
          9.576,
          9.6,
          9.624,
          9.648,
          9.672,
          9.696,
          9.72,
          9.744,
          9.768,
          9.792,
          9.816,
          9.84,
          9.864,
          9.888,
          9.912,
          9.936,
          9.96,
          9.984,
          10.008,
          10.032,
          10.056,
          10.08,
          10.104,
          10.128,
          10.152,
          10.176,
          10.2,
          10.224,
          10.248,
          10.272,
          10.296,
          10.32,
          10.344,
          10.368,
          10.392,
          10.416,
          10.44,
          10.464,
          10.488,
          10.512,
          10.536,
          10.56,
          10.584,
          10.608,
          10.632,
          10.656,
          10.68,
          10.704,
          10.728,
          10.752,
          10.776,
          10.8,
          10.824,
          10.848,
          10.872,
          10.896,
          10.92,
          10.944,
          10.968,
          10.992,
          11.016,
          11.04,
          11.064,
          11.088,
          11.112,
          11.136,
          11.16,
          11.184,
          11.208,
          11.232,
          11.256,
          11.28,
          11.304,
          11.328,
          11.352,
          11.376,
          11.4,
          11.424,
          11.448,
          11.472,
          11.496,
          11.52,
          11.544,
          11.568,
          11.592,
          11.616,
          11.64,
          11.664,
          11.688,
          11.712,
          11.736,
          11.76,
          11.784,
          11.808,
          11.832,
          11.856,
          11.88,
          11.904,
          11.928,
          11.952,
          11.976
         ],
         "xaxis": "x",
         "y": {
          "bdata": "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",
          "dtype": "f8"
         },
         "yaxis": "y"
        },
        {
         "legendgroup": "3",
         "marker": {
          "color": "rgb(214, 39, 40)"
         },
         "mode": "lines",
         "name": "3",
         "showlegend": true,
         "type": "scatter",
         "x": [
          0,
          0.028,
          0.056,
          0.084,
          0.112,
          0.14,
          0.168,
          0.196,
          0.224,
          0.252,
          0.28,
          0.308,
          0.336,
          0.364,
          0.392,
          0.42,
          0.448,
          0.476,
          0.504,
          0.532,
          0.56,
          0.588,
          0.616,
          0.644,
          0.672,
          0.7,
          0.728,
          0.756,
          0.784,
          0.812,
          0.84,
          0.868,
          0.896,
          0.924,
          0.952,
          0.98,
          1.008,
          1.036,
          1.064,
          1.092,
          1.12,
          1.148,
          1.176,
          1.204,
          1.232,
          1.26,
          1.288,
          1.316,
          1.344,
          1.372,
          1.4,
          1.428,
          1.456,
          1.484,
          1.512,
          1.54,
          1.568,
          1.596,
          1.624,
          1.652,
          1.68,
          1.708,
          1.736,
          1.764,
          1.792,
          1.82,
          1.848,
          1.876,
          1.904,
          1.932,
          1.96,
          1.988,
          2.016,
          2.044,
          2.072,
          2.1,
          2.128,
          2.156,
          2.184,
          2.212,
          2.24,
          2.268,
          2.296,
          2.324,
          2.352,
          2.38,
          2.408,
          2.436,
          2.464,
          2.492,
          2.52,
          2.548,
          2.576,
          2.604,
          2.632,
          2.66,
          2.688,
          2.716,
          2.744,
          2.772,
          2.8,
          2.828,
          2.856,
          2.884,
          2.912,
          2.94,
          2.968,
          2.996,
          3.024,
          3.052,
          3.08,
          3.108,
          3.136,
          3.164,
          3.192,
          3.22,
          3.248,
          3.276,
          3.304,
          3.332,
          3.36,
          3.388,
          3.416,
          3.444,
          3.472,
          3.5,
          3.528,
          3.556,
          3.584,
          3.612,
          3.64,
          3.668,
          3.696,
          3.724,
          3.752,
          3.78,
          3.808,
          3.836,
          3.864,
          3.892,
          3.92,
          3.948,
          3.976,
          4.004,
          4.032,
          4.06,
          4.088,
          4.116,
          4.144,
          4.172,
          4.2,
          4.228,
          4.256,
          4.284,
          4.312,
          4.34,
          4.368,
          4.396,
          4.424,
          4.452,
          4.48,
          4.508,
          4.536,
          4.564,
          4.592,
          4.62,
          4.648,
          4.676,
          4.704,
          4.732,
          4.76,
          4.788,
          4.816,
          4.844,
          4.872,
          4.9,
          4.928,
          4.956,
          4.984,
          5.012,
          5.04,
          5.068,
          5.096,
          5.124,
          5.152,
          5.18,
          5.208,
          5.236,
          5.264,
          5.292,
          5.32,
          5.348,
          5.376,
          5.404,
          5.432,
          5.46,
          5.488,
          5.516,
          5.544,
          5.572,
          5.6,
          5.628,
          5.656,
          5.684,
          5.712,
          5.74,
          5.768,
          5.796,
          5.824,
          5.852,
          5.88,
          5.908,
          5.936,
          5.964,
          5.992,
          6.02,
          6.048,
          6.076,
          6.104,
          6.132,
          6.16,
          6.188,
          6.216,
          6.244,
          6.272,
          6.3,
          6.328,
          6.356,
          6.384,
          6.412,
          6.44,
          6.468,
          6.496,
          6.524,
          6.552,
          6.58,
          6.608,
          6.636,
          6.664,
          6.692,
          6.72,
          6.748,
          6.776,
          6.804,
          6.832,
          6.86,
          6.888,
          6.916,
          6.944,
          6.972,
          7,
          7.028,
          7.056,
          7.084,
          7.112,
          7.14,
          7.168,
          7.196,
          7.224,
          7.252,
          7.28,
          7.308,
          7.336,
          7.364,
          7.392,
          7.42,
          7.448,
          7.476,
          7.504,
          7.532,
          7.56,
          7.588,
          7.616,
          7.644,
          7.672,
          7.7,
          7.728,
          7.756,
          7.784,
          7.812,
          7.84,
          7.868,
          7.896,
          7.924,
          7.952,
          7.98,
          8.008,
          8.036,
          8.064,
          8.092,
          8.12,
          8.148,
          8.176,
          8.204,
          8.232,
          8.26,
          8.288,
          8.316,
          8.344,
          8.372,
          8.4,
          8.428,
          8.456,
          8.484,
          8.512,
          8.54,
          8.568,
          8.596,
          8.624,
          8.652,
          8.68,
          8.708,
          8.736,
          8.764,
          8.792,
          8.82,
          8.848,
          8.876,
          8.904,
          8.932,
          8.96,
          8.988,
          9.016,
          9.044,
          9.072,
          9.1,
          9.128,
          9.156,
          9.184,
          9.212,
          9.24,
          9.268,
          9.296,
          9.324,
          9.352,
          9.38,
          9.408,
          9.436,
          9.464,
          9.492,
          9.52,
          9.548,
          9.576,
          9.604,
          9.632,
          9.66,
          9.688,
          9.716,
          9.744,
          9.772,
          9.8,
          9.828,
          9.856,
          9.884,
          9.912,
          9.94,
          9.968,
          9.996,
          10.024,
          10.052,
          10.08,
          10.108,
          10.136,
          10.164,
          10.192,
          10.22,
          10.248,
          10.276,
          10.304,
          10.332,
          10.36,
          10.388,
          10.416,
          10.444,
          10.472,
          10.5,
          10.528,
          10.556,
          10.584,
          10.612,
          10.64,
          10.668,
          10.696,
          10.724,
          10.752,
          10.78,
          10.808,
          10.836,
          10.864,
          10.892,
          10.92,
          10.948,
          10.976,
          11.004,
          11.032,
          11.06,
          11.088,
          11.116,
          11.144,
          11.172,
          11.2,
          11.228,
          11.256,
          11.284,
          11.312,
          11.34,
          11.368,
          11.396,
          11.424,
          11.452,
          11.48,
          11.508,
          11.536,
          11.564,
          11.592,
          11.62,
          11.648,
          11.676,
          11.704,
          11.732,
          11.76,
          11.788,
          11.816,
          11.844,
          11.872,
          11.9,
          11.928,
          11.956,
          11.984,
          12.012,
          12.04,
          12.068,
          12.096,
          12.124,
          12.152,
          12.18,
          12.208,
          12.236,
          12.264,
          12.292,
          12.32,
          12.348,
          12.376,
          12.404,
          12.432,
          12.46,
          12.488,
          12.516,
          12.544,
          12.572,
          12.6,
          12.628,
          12.656,
          12.684,
          12.712,
          12.74,
          12.768,
          12.796,
          12.824,
          12.852,
          12.88,
          12.908,
          12.936,
          12.964,
          12.992,
          13.02,
          13.048,
          13.076,
          13.104,
          13.132,
          13.16,
          13.188,
          13.216,
          13.244,
          13.272,
          13.3,
          13.328,
          13.356,
          13.384,
          13.412,
          13.44,
          13.468,
          13.496,
          13.524,
          13.552,
          13.58,
          13.608,
          13.636,
          13.664,
          13.692,
          13.72,
          13.748,
          13.776,
          13.804,
          13.832,
          13.86,
          13.888,
          13.916,
          13.944,
          13.972
         ],
         "xaxis": "x",
         "y": {
          "bdata": "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",
          "dtype": "f8"
         },
         "yaxis": "y"
        }
       ],
       "layout": {
        "barmode": "overlay",
        "hovermode": "closest",
        "legend": {
         "traceorder": "reversed"
        },
        "template": {
         "data": {
          "bar": [
           {
            "error_x": {
             "color": "#2a3f5f"
            },
            "error_y": {
             "color": "#2a3f5f"
            },
            "marker": {
             "line": {
              "color": "#E5ECF6",
              "width": 0.5
             },
             "pattern": {
              "fillmode": "overlay",
              "size": 10,
              "solidity": 0.2
             }
            },
            "type": "bar"
           }
          ],
          "barpolar": [
           {
            "marker": {
             "line": {
              "color": "#E5ECF6",
              "width": 0.5
             },
             "pattern": {
              "fillmode": "overlay",
              "size": 10,
              "solidity": 0.2
             }
            },
            "type": "barpolar"
           }
          ],
          "carpet": [
           {
            "aaxis": {
             "endlinecolor": "#2a3f5f",
             "gridcolor": "white",
             "linecolor": "white",
             "minorgridcolor": "white",
             "startlinecolor": "#2a3f5f"
            },
            "baxis": {
             "endlinecolor": "#2a3f5f",
             "gridcolor": "white",
             "linecolor": "white",
             "minorgridcolor": "white",
             "startlinecolor": "#2a3f5f"
            },
            "type": "carpet"
           }
          ],
          "choropleth": [
           {
            "colorbar": {
             "outlinewidth": 0,
             "ticks": ""
            },
            "type": "choropleth"
           }
          ],
          "contour": [
           {
            "colorbar": {
             "outlinewidth": 0,
             "ticks": ""
            },
            "colorscale": [
             [
              0,
              "#0d0887"
             ],
             [
              0.1111111111111111,
              "#46039f"
             ],
             [
              0.2222222222222222,
              "#7201a8"
             ],
             [
              0.3333333333333333,
              "#9c179e"
             ],
             [
              0.4444444444444444,
              "#bd3786"
             ],
             [
              0.5555555555555556,
              "#d8576b"
             ],
             [
              0.6666666666666666,
              "#ed7953"
             ],
             [
              0.7777777777777778,
              "#fb9f3a"
             ],
             [
              0.8888888888888888,
              "#fdca26"
             ],
             [
              1,
              "#f0f921"
             ]
            ],
            "type": "contour"
           }
          ],
          "contourcarpet": [
           {
            "colorbar": {
             "outlinewidth": 0,
             "ticks": ""
            },
            "type": "contourcarpet"
           }
          ],
          "heatmap": [
           {
            "colorbar": {
             "outlinewidth": 0,
             "ticks": ""
            },
            "colorscale": [
             [
              0,
              "#0d0887"
             ],
             [
              0.1111111111111111,
              "#46039f"
             ],
             [
              0.2222222222222222,
              "#7201a8"
             ],
             [
              0.3333333333333333,
              "#9c179e"
             ],
             [
              0.4444444444444444,
              "#bd3786"
             ],
             [
              0.5555555555555556,
              "#d8576b"
             ],
             [
              0.6666666666666666,
              "#ed7953"
             ],
             [
              0.7777777777777778,
              "#fb9f3a"
             ],
             [
              0.8888888888888888,
              "#fdca26"
             ],
             [
              1,
              "#f0f921"
             ]
            ],
            "type": "heatmap"
           }
          ],
          "histogram": [
           {
            "marker": {
             "pattern": {
              "fillmode": "overlay",
              "size": 10,
              "solidity": 0.2
             }
            },
            "type": "histogram"
           }
          ],
          "histogram2d": [
           {
            "colorbar": {
             "outlinewidth": 0,
             "ticks": ""
            },
            "colorscale": [
             [
              0,
              "#0d0887"
             ],
             [
              0.1111111111111111,
              "#46039f"
             ],
             [
              0.2222222222222222,
              "#7201a8"
             ],
             [
              0.3333333333333333,
              "#9c179e"
             ],
             [
              0.4444444444444444,
              "#bd3786"
             ],
             [
              0.5555555555555556,
              "#d8576b"
             ],
             [
              0.6666666666666666,
              "#ed7953"
             ],
             [
              0.7777777777777778,
              "#fb9f3a"
             ],
             [
              0.8888888888888888,
              "#fdca26"
             ],
             [
              1,
              "#f0f921"
             ]
            ],
            "type": "histogram2d"
           }
          ],
          "histogram2dcontour": [
           {
            "colorbar": {
             "outlinewidth": 0,
             "ticks": ""
            },
            "colorscale": [
             [
              0,
              "#0d0887"
             ],
             [
              0.1111111111111111,
              "#46039f"
             ],
             [
              0.2222222222222222,
              "#7201a8"
             ],
             [
              0.3333333333333333,
              "#9c179e"
             ],
             [
              0.4444444444444444,
              "#bd3786"
             ],
             [
              0.5555555555555556,
              "#d8576b"
             ],
             [
              0.6666666666666666,
              "#ed7953"
             ],
             [
              0.7777777777777778,
              "#fb9f3a"
             ],
             [
              0.8888888888888888,
              "#fdca26"
             ],
             [
              1,
              "#f0f921"
             ]
            ],
            "type": "histogram2dcontour"
           }
          ],
          "mesh3d": [
           {
            "colorbar": {
             "outlinewidth": 0,
             "ticks": ""
            },
            "type": "mesh3d"
           }
          ],
          "parcoords": [
           {
            "line": {
             "colorbar": {
              "outlinewidth": 0,
              "ticks": ""
             }
            },
            "type": "parcoords"
           }
          ],
          "pie": [
           {
            "automargin": true,
            "type": "pie"
           }
          ],
          "scatter": [
           {
            "fillpattern": {
             "fillmode": "overlay",
             "size": 10,
             "solidity": 0.2
            },
            "type": "scatter"
           }
          ],
          "scatter3d": [
           {
            "line": {
             "colorbar": {
              "outlinewidth": 0,
              "ticks": ""
             }
            },
            "marker": {
             "colorbar": {
              "outlinewidth": 0,
              "ticks": ""
             }
            },
            "type": "scatter3d"
           }
          ],
          "scattercarpet": [
           {
            "marker": {
             "colorbar": {
              "outlinewidth": 0,
              "ticks": ""
             }
            },
            "type": "scattercarpet"
           }
          ],
          "scattergeo": [
           {
            "marker": {
             "colorbar": {
              "outlinewidth": 0,
              "ticks": ""
             }
            },
            "type": "scattergeo"
           }
          ],
          "scattergl": [
           {
            "marker": {
             "colorbar": {
              "outlinewidth": 0,
              "ticks": ""
             }
            },
            "type": "scattergl"
           }
          ],
          "scattermap": [
           {
            "marker": {
             "colorbar": {
              "outlinewidth": 0,
              "ticks": ""
             }
            },
            "type": "scattermap"
           }
          ],
          "scattermapbox": [
           {
            "marker": {
             "colorbar": {
              "outlinewidth": 0,
              "ticks": ""
             }
            },
            "type": "scattermapbox"
           }
          ],
          "scatterpolar": [
           {
            "marker": {
             "colorbar": {
              "outlinewidth": 0,
              "ticks": ""
             }
            },
            "type": "scatterpolar"
           }
          ],
          "scatterpolargl": [
           {
            "marker": {
             "colorbar": {
              "outlinewidth": 0,
              "ticks": ""
             }
            },
            "type": "scatterpolargl"
           }
          ],
          "scatterternary": [
           {
            "marker": {
             "colorbar": {
              "outlinewidth": 0,
              "ticks": ""
             }
            },
            "type": "scatterternary"
           }
          ],
          "surface": [
           {
            "colorbar": {
             "outlinewidth": 0,
             "ticks": ""
            },
            "colorscale": [
             [
              0,
              "#0d0887"
             ],
             [
              0.1111111111111111,
              "#46039f"
             ],
             [
              0.2222222222222222,
              "#7201a8"
             ],
             [
              0.3333333333333333,
              "#9c179e"
             ],
             [
              0.4444444444444444,
              "#bd3786"
             ],
             [
              0.5555555555555556,
              "#d8576b"
             ],
             [
              0.6666666666666666,
              "#ed7953"
             ],
             [
              0.7777777777777778,
              "#fb9f3a"
             ],
             [
              0.8888888888888888,
              "#fdca26"
             ],
             [
              1,
              "#f0f921"
             ]
            ],
            "type": "surface"
           }
          ],
          "table": [
           {
            "cells": {
             "fill": {
              "color": "#EBF0F8"
             },
             "line": {
              "color": "white"
             }
            },
            "header": {
             "fill": {
              "color": "#C8D4E3"
             },
             "line": {
              "color": "white"
             }
            },
            "type": "table"
           }
          ]
         },
         "layout": {
          "annotationdefaults": {
           "arrowcolor": "#2a3f5f",
           "arrowhead": 0,
           "arrowwidth": 1
          },
          "autotypenumbers": "strict",
          "coloraxis": {
           "colorbar": {
            "outlinewidth": 0,
            "ticks": ""
           }
          },
          "colorscale": {
           "diverging": [
            [
             0,
             "#8e0152"
            ],
            [
             0.1,
             "#c51b7d"
            ],
            [
             0.2,
             "#de77ae"
            ],
            [
             0.3,
             "#f1b6da"
            ],
            [
             0.4,
             "#fde0ef"
            ],
            [
             0.5,
             "#f7f7f7"
            ],
            [
             0.6,
             "#e6f5d0"
            ],
            [
             0.7,
             "#b8e186"
            ],
            [
             0.8,
             "#7fbc41"
            ],
            [
             0.9,
             "#4d9221"
            ],
            [
             1,
             "#276419"
            ]
           ],
           "sequential": [
            [
             0,
             "#0d0887"
            ],
            [
             0.1111111111111111,
             "#46039f"
            ],
            [
             0.2222222222222222,
             "#7201a8"
            ],
            [
             0.3333333333333333,
             "#9c179e"
            ],
            [
             0.4444444444444444,
             "#bd3786"
            ],
            [
             0.5555555555555556,
             "#d8576b"
            ],
            [
             0.6666666666666666,
             "#ed7953"
            ],
            [
             0.7777777777777778,
             "#fb9f3a"
            ],
            [
             0.8888888888888888,
             "#fdca26"
            ],
            [
             1,
             "#f0f921"
            ]
           ],
           "sequentialminus": [
            [
             0,
             "#0d0887"
            ],
            [
             0.1111111111111111,
             "#46039f"
            ],
            [
             0.2222222222222222,
             "#7201a8"
            ],
            [
             0.3333333333333333,
             "#9c179e"
            ],
            [
             0.4444444444444444,
             "#bd3786"
            ],
            [
             0.5555555555555556,
             "#d8576b"
            ],
            [
             0.6666666666666666,
             "#ed7953"
            ],
            [
             0.7777777777777778,
             "#fb9f3a"
            ],
            [
             0.8888888888888888,
             "#fdca26"
            ],
            [
             1,
             "#f0f921"
            ]
           ]
          },
          "colorway": [
           "#636efa",
           "#EF553B",
           "#00cc96",
           "#ab63fa",
           "#FFA15A",
           "#19d3f3",
           "#FF6692",
           "#B6E880",
           "#FF97FF",
           "#FECB52"
          ],
          "font": {
           "color": "#2a3f5f"
          },
          "geo": {
           "bgcolor": "white",
           "lakecolor": "white",
           "landcolor": "#E5ECF6",
           "showlakes": true,
           "showland": true,
           "subunitcolor": "white"
          },
          "hoverlabel": {
           "align": "left"
          },
          "hovermode": "closest",
          "mapbox": {
           "style": "light"
          },
          "paper_bgcolor": "white",
          "plot_bgcolor": "#E5ECF6",
          "polar": {
           "angularaxis": {
            "gridcolor": "white",
            "linecolor": "white",
            "ticks": ""
           },
           "bgcolor": "#E5ECF6",
           "radialaxis": {
            "gridcolor": "white",
            "linecolor": "white",
            "ticks": ""
           }
          },
          "scene": {
           "xaxis": {
            "backgroundcolor": "#E5ECF6",
            "gridcolor": "white",
            "gridwidth": 2,
            "linecolor": "white",
            "showbackground": true,
            "ticks": "",
            "zerolinecolor": "white"
           },
           "yaxis": {
            "backgroundcolor": "#E5ECF6",
            "gridcolor": "white",
            "gridwidth": 2,
            "linecolor": "white",
            "showbackground": true,
            "ticks": "",
            "zerolinecolor": "white"
           },
           "zaxis": {
            "backgroundcolor": "#E5ECF6",
            "gridcolor": "white",
            "gridwidth": 2,
            "linecolor": "white",
            "showbackground": true,
            "ticks": "",
            "zerolinecolor": "white"
           }
          },
          "shapedefaults": {
           "line": {
            "color": "#2a3f5f"
           }
          },
          "ternary": {
           "aaxis": {
            "gridcolor": "white",
            "linecolor": "white",
            "ticks": ""
           },
           "baxis": {
            "gridcolor": "white",
            "linecolor": "white",
            "ticks": ""
           },
           "bgcolor": "#E5ECF6",
           "caxis": {
            "gridcolor": "white",
            "linecolor": "white",
            "ticks": ""
           }
          },
          "title": {
           "x": 0.05
          },
          "xaxis": {
           "automargin": true,
           "gridcolor": "white",
           "linecolor": "white",
           "ticks": "",
           "title": {
            "standoff": 15
           },
           "zerolinecolor": "white",
           "zerolinewidth": 2
          },
          "yaxis": {
           "automargin": true,
           "gridcolor": "white",
           "linecolor": "white",
           "ticks": "",
           "title": {
            "standoff": 15
           },
           "zerolinecolor": "white",
           "zerolinewidth": 2
          }
         }
        },
        "title": {
         "text": "KDE Plot for Feature: E"
        },
        "xaxis": {
         "anchor": "y2",
         "domain": [
          0,
          1
         ],
         "zeroline": false
        },
        "yaxis": {
         "anchor": "free",
         "domain": [
          0,
          1
         ],
         "position": 0
        }
       }
      }
     },
     "metadata": {},
     "output_type": "display_data"
    },
    {
     "data": {
      "application/vnd.plotly.v1+json": {
       "config": {
        "plotlyServerURL": "https://plot.ly"
       },
       "data": [
        {
         "legendgroup": "0",
         "marker": {
          "color": "rgb(31, 119, 180)"
         },
         "mode": "lines",
         "name": "0",
         "showlegend": true,
         "type": "scatter",
         "x": [
          0,
          0.03,
          0.06,
          0.09,
          0.12,
          0.15,
          0.18,
          0.21,
          0.24,
          0.27,
          0.3,
          0.33,
          0.36,
          0.39,
          0.42,
          0.45,
          0.48,
          0.51,
          0.54,
          0.57,
          0.6,
          0.63,
          0.66,
          0.69,
          0.72,
          0.75,
          0.78,
          0.81,
          0.84,
          0.87,
          0.9,
          0.93,
          0.96,
          0.99,
          1.02,
          1.05,
          1.08,
          1.11,
          1.14,
          1.17,
          1.2,
          1.23,
          1.26,
          1.29,
          1.32,
          1.35,
          1.38,
          1.41,
          1.44,
          1.47,
          1.5,
          1.53,
          1.56,
          1.59,
          1.62,
          1.65,
          1.68,
          1.71,
          1.74,
          1.77,
          1.8,
          1.83,
          1.86,
          1.89,
          1.92,
          1.95,
          1.98,
          2.01,
          2.04,
          2.07,
          2.1,
          2.13,
          2.16,
          2.19,
          2.22,
          2.25,
          2.28,
          2.31,
          2.34,
          2.37,
          2.4,
          2.43,
          2.46,
          2.49,
          2.52,
          2.55,
          2.58,
          2.61,
          2.64,
          2.67,
          2.7,
          2.73,
          2.76,
          2.79,
          2.82,
          2.85,
          2.88,
          2.91,
          2.94,
          2.97,
          3,
          3.03,
          3.06,
          3.09,
          3.12,
          3.15,
          3.18,
          3.21,
          3.24,
          3.27,
          3.3,
          3.33,
          3.36,
          3.39,
          3.42,
          3.45,
          3.48,
          3.51,
          3.54,
          3.57,
          3.6,
          3.63,
          3.66,
          3.69,
          3.72,
          3.75,
          3.78,
          3.81,
          3.84,
          3.87,
          3.9,
          3.93,
          3.96,
          3.99,
          4.02,
          4.05,
          4.08,
          4.11,
          4.14,
          4.17,
          4.2,
          4.23,
          4.26,
          4.29,
          4.32,
          4.35,
          4.38,
          4.41,
          4.44,
          4.47,
          4.5,
          4.53,
          4.56,
          4.59,
          4.62,
          4.65,
          4.68,
          4.71,
          4.74,
          4.77,
          4.8,
          4.83,
          4.86,
          4.89,
          4.92,
          4.95,
          4.98,
          5.01,
          5.04,
          5.07,
          5.1,
          5.13,
          5.16,
          5.19,
          5.22,
          5.25,
          5.28,
          5.31,
          5.34,
          5.37,
          5.4,
          5.43,
          5.46,
          5.49,
          5.52,
          5.55,
          5.58,
          5.61,
          5.64,
          5.67,
          5.7,
          5.73,
          5.76,
          5.79,
          5.82,
          5.85,
          5.88,
          5.91,
          5.94,
          5.97,
          6,
          6.03,
          6.06,
          6.09,
          6.12,
          6.15,
          6.18,
          6.21,
          6.24,
          6.27,
          6.3,
          6.33,
          6.36,
          6.39,
          6.42,
          6.45,
          6.48,
          6.51,
          6.54,
          6.57,
          6.6,
          6.63,
          6.66,
          6.69,
          6.72,
          6.75,
          6.78,
          6.81,
          6.84,
          6.87,
          6.9,
          6.93,
          6.96,
          6.99,
          7.02,
          7.05,
          7.08,
          7.11,
          7.14,
          7.17,
          7.2,
          7.23,
          7.26,
          7.29,
          7.32,
          7.35,
          7.38,
          7.41,
          7.44,
          7.47,
          7.5,
          7.53,
          7.56,
          7.59,
          7.62,
          7.65,
          7.68,
          7.71,
          7.74,
          7.77,
          7.8,
          7.83,
          7.86,
          7.89,
          7.92,
          7.95,
          7.98,
          8.01,
          8.04,
          8.07,
          8.1,
          8.13,
          8.16,
          8.19,
          8.22,
          8.25,
          8.28,
          8.31,
          8.34,
          8.37,
          8.4,
          8.43,
          8.46,
          8.49,
          8.52,
          8.55,
          8.58,
          8.61,
          8.64,
          8.67,
          8.7,
          8.73,
          8.76,
          8.79,
          8.82,
          8.85,
          8.88,
          8.91,
          8.94,
          8.97,
          9,
          9.03,
          9.06,
          9.09,
          9.12,
          9.15,
          9.18,
          9.21,
          9.24,
          9.27,
          9.3,
          9.33,
          9.36,
          9.39,
          9.42,
          9.45,
          9.48,
          9.51,
          9.54,
          9.57,
          9.6,
          9.63,
          9.66,
          9.69,
          9.72,
          9.75,
          9.78,
          9.81,
          9.84,
          9.87,
          9.9,
          9.93,
          9.96,
          9.99,
          10.02,
          10.05,
          10.08,
          10.11,
          10.14,
          10.17,
          10.2,
          10.23,
          10.26,
          10.29,
          10.32,
          10.35,
          10.38,
          10.41,
          10.44,
          10.47,
          10.5,
          10.53,
          10.56,
          10.59,
          10.62,
          10.65,
          10.68,
          10.71,
          10.74,
          10.77,
          10.8,
          10.83,
          10.86,
          10.89,
          10.92,
          10.95,
          10.98,
          11.01,
          11.04,
          11.07,
          11.1,
          11.13,
          11.16,
          11.19,
          11.22,
          11.25,
          11.28,
          11.31,
          11.34,
          11.37,
          11.4,
          11.43,
          11.46,
          11.49,
          11.52,
          11.55,
          11.58,
          11.61,
          11.64,
          11.67,
          11.7,
          11.73,
          11.76,
          11.79,
          11.82,
          11.85,
          11.88,
          11.91,
          11.94,
          11.97,
          12,
          12.03,
          12.06,
          12.09,
          12.12,
          12.15,
          12.18,
          12.21,
          12.24,
          12.27,
          12.3,
          12.33,
          12.36,
          12.39,
          12.42,
          12.45,
          12.48,
          12.51,
          12.54,
          12.57,
          12.6,
          12.63,
          12.66,
          12.69,
          12.72,
          12.75,
          12.78,
          12.81,
          12.84,
          12.87,
          12.9,
          12.93,
          12.96,
          12.99,
          13.02,
          13.05,
          13.08,
          13.11,
          13.14,
          13.17,
          13.2,
          13.23,
          13.26,
          13.29,
          13.32,
          13.35,
          13.38,
          13.41,
          13.44,
          13.47,
          13.5,
          13.53,
          13.56,
          13.59,
          13.62,
          13.65,
          13.68,
          13.71,
          13.74,
          13.77,
          13.8,
          13.83,
          13.86,
          13.89,
          13.92,
          13.95,
          13.98,
          14.01,
          14.04,
          14.07,
          14.1,
          14.13,
          14.16,
          14.19,
          14.22,
          14.25,
          14.28,
          14.31,
          14.34,
          14.37,
          14.4,
          14.43,
          14.46,
          14.49,
          14.52,
          14.55,
          14.58,
          14.61,
          14.64,
          14.67,
          14.7,
          14.73,
          14.76,
          14.79,
          14.82,
          14.85,
          14.88,
          14.91,
          14.94,
          14.97
         ],
         "xaxis": "x",
         "y": {
          "bdata": "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",
          "dtype": "f8"
         },
         "yaxis": "y"
        },
        {
         "legendgroup": "1",
         "marker": {
          "color": "rgb(255, 127, 14)"
         },
         "mode": "lines",
         "name": "1",
         "showlegend": true,
         "type": "scatter",
         "x": [
          0,
          0.03,
          0.06,
          0.09,
          0.12,
          0.15,
          0.18,
          0.21,
          0.24,
          0.27,
          0.3,
          0.33,
          0.36,
          0.39,
          0.42,
          0.45,
          0.48,
          0.51,
          0.54,
          0.57,
          0.6,
          0.63,
          0.66,
          0.69,
          0.72,
          0.75,
          0.78,
          0.81,
          0.84,
          0.87,
          0.9,
          0.93,
          0.96,
          0.99,
          1.02,
          1.05,
          1.08,
          1.11,
          1.14,
          1.17,
          1.2,
          1.23,
          1.26,
          1.29,
          1.32,
          1.35,
          1.38,
          1.41,
          1.44,
          1.47,
          1.5,
          1.53,
          1.56,
          1.59,
          1.62,
          1.65,
          1.68,
          1.71,
          1.74,
          1.77,
          1.8,
          1.83,
          1.86,
          1.89,
          1.92,
          1.95,
          1.98,
          2.01,
          2.04,
          2.07,
          2.1,
          2.13,
          2.16,
          2.19,
          2.22,
          2.25,
          2.28,
          2.31,
          2.34,
          2.37,
          2.4,
          2.43,
          2.46,
          2.49,
          2.52,
          2.55,
          2.58,
          2.61,
          2.64,
          2.67,
          2.7,
          2.73,
          2.76,
          2.79,
          2.82,
          2.85,
          2.88,
          2.91,
          2.94,
          2.97,
          3,
          3.03,
          3.06,
          3.09,
          3.12,
          3.15,
          3.18,
          3.21,
          3.24,
          3.27,
          3.3,
          3.33,
          3.36,
          3.39,
          3.42,
          3.45,
          3.48,
          3.51,
          3.54,
          3.57,
          3.6,
          3.63,
          3.66,
          3.69,
          3.72,
          3.75,
          3.78,
          3.81,
          3.84,
          3.87,
          3.9,
          3.93,
          3.96,
          3.99,
          4.02,
          4.05,
          4.08,
          4.11,
          4.14,
          4.17,
          4.2,
          4.23,
          4.26,
          4.29,
          4.32,
          4.35,
          4.38,
          4.41,
          4.44,
          4.47,
          4.5,
          4.53,
          4.56,
          4.59,
          4.62,
          4.65,
          4.68,
          4.71,
          4.74,
          4.77,
          4.8,
          4.83,
          4.86,
          4.89,
          4.92,
          4.95,
          4.98,
          5.01,
          5.04,
          5.07,
          5.1,
          5.13,
          5.16,
          5.19,
          5.22,
          5.25,
          5.28,
          5.31,
          5.34,
          5.37,
          5.4,
          5.43,
          5.46,
          5.49,
          5.52,
          5.55,
          5.58,
          5.61,
          5.64,
          5.67,
          5.7,
          5.73,
          5.76,
          5.79,
          5.82,
          5.85,
          5.88,
          5.91,
          5.94,
          5.97,
          6,
          6.03,
          6.06,
          6.09,
          6.12,
          6.15,
          6.18,
          6.21,
          6.24,
          6.27,
          6.3,
          6.33,
          6.36,
          6.39,
          6.42,
          6.45,
          6.48,
          6.51,
          6.54,
          6.57,
          6.6,
          6.63,
          6.66,
          6.69,
          6.72,
          6.75,
          6.78,
          6.81,
          6.84,
          6.87,
          6.9,
          6.93,
          6.96,
          6.99,
          7.02,
          7.05,
          7.08,
          7.11,
          7.14,
          7.17,
          7.2,
          7.23,
          7.26,
          7.29,
          7.32,
          7.35,
          7.38,
          7.41,
          7.44,
          7.47,
          7.5,
          7.53,
          7.56,
          7.59,
          7.62,
          7.65,
          7.68,
          7.71,
          7.74,
          7.77,
          7.8,
          7.83,
          7.86,
          7.89,
          7.92,
          7.95,
          7.98,
          8.01,
          8.04,
          8.07,
          8.1,
          8.13,
          8.16,
          8.19,
          8.22,
          8.25,
          8.28,
          8.31,
          8.34,
          8.37,
          8.4,
          8.43,
          8.46,
          8.49,
          8.52,
          8.55,
          8.58,
          8.61,
          8.64,
          8.67,
          8.7,
          8.73,
          8.76,
          8.79,
          8.82,
          8.85,
          8.88,
          8.91,
          8.94,
          8.97,
          9,
          9.03,
          9.06,
          9.09,
          9.12,
          9.15,
          9.18,
          9.21,
          9.24,
          9.27,
          9.3,
          9.33,
          9.36,
          9.39,
          9.42,
          9.45,
          9.48,
          9.51,
          9.54,
          9.57,
          9.6,
          9.63,
          9.66,
          9.69,
          9.72,
          9.75,
          9.78,
          9.81,
          9.84,
          9.87,
          9.9,
          9.93,
          9.96,
          9.99,
          10.02,
          10.05,
          10.08,
          10.11,
          10.14,
          10.17,
          10.2,
          10.23,
          10.26,
          10.29,
          10.32,
          10.35,
          10.38,
          10.41,
          10.44,
          10.47,
          10.5,
          10.53,
          10.56,
          10.59,
          10.62,
          10.65,
          10.68,
          10.71,
          10.74,
          10.77,
          10.8,
          10.83,
          10.86,
          10.89,
          10.92,
          10.95,
          10.98,
          11.01,
          11.04,
          11.07,
          11.1,
          11.13,
          11.16,
          11.19,
          11.22,
          11.25,
          11.28,
          11.31,
          11.34,
          11.37,
          11.4,
          11.43,
          11.46,
          11.49,
          11.52,
          11.55,
          11.58,
          11.61,
          11.64,
          11.67,
          11.7,
          11.73,
          11.76,
          11.79,
          11.82,
          11.85,
          11.88,
          11.91,
          11.94,
          11.97,
          12,
          12.03,
          12.06,
          12.09,
          12.12,
          12.15,
          12.18,
          12.21,
          12.24,
          12.27,
          12.3,
          12.33,
          12.36,
          12.39,
          12.42,
          12.45,
          12.48,
          12.51,
          12.54,
          12.57,
          12.6,
          12.63,
          12.66,
          12.69,
          12.72,
          12.75,
          12.78,
          12.81,
          12.84,
          12.87,
          12.9,
          12.93,
          12.96,
          12.99,
          13.02,
          13.05,
          13.08,
          13.11,
          13.14,
          13.17,
          13.2,
          13.23,
          13.26,
          13.29,
          13.32,
          13.35,
          13.38,
          13.41,
          13.44,
          13.47,
          13.5,
          13.53,
          13.56,
          13.59,
          13.62,
          13.65,
          13.68,
          13.71,
          13.74,
          13.77,
          13.8,
          13.83,
          13.86,
          13.89,
          13.92,
          13.95,
          13.98,
          14.01,
          14.04,
          14.07,
          14.1,
          14.13,
          14.16,
          14.19,
          14.22,
          14.25,
          14.28,
          14.31,
          14.34,
          14.37,
          14.4,
          14.43,
          14.46,
          14.49,
          14.52,
          14.55,
          14.58,
          14.61,
          14.64,
          14.67,
          14.7,
          14.73,
          14.76,
          14.79,
          14.82,
          14.85,
          14.88,
          14.91,
          14.94,
          14.97
         ],
         "xaxis": "x",
         "y": {
          "bdata": "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",
          "dtype": "f8"
         },
         "yaxis": "y"
        },
        {
         "legendgroup": "2",
         "marker": {
          "color": "rgb(44, 160, 44)"
         },
         "mode": "lines",
         "name": "2",
         "showlegend": true,
         "type": "scatter",
         "x": [
          0,
          0.002,
          0.004,
          0.006,
          0.008,
          0.01,
          0.012,
          0.014,
          0.016,
          0.018,
          0.02,
          0.022,
          0.024,
          0.026,
          0.028,
          0.03,
          0.032,
          0.034,
          0.036,
          0.038,
          0.04,
          0.042,
          0.044,
          0.046,
          0.048,
          0.05,
          0.052,
          0.054,
          0.056,
          0.058,
          0.06,
          0.062,
          0.064,
          0.066,
          0.068,
          0.07,
          0.072,
          0.074,
          0.076,
          0.078,
          0.08,
          0.082,
          0.084,
          0.086,
          0.088,
          0.09,
          0.092,
          0.094,
          0.096,
          0.098,
          0.1,
          0.102,
          0.104,
          0.106,
          0.108,
          0.11,
          0.112,
          0.114,
          0.116,
          0.118,
          0.12,
          0.122,
          0.124,
          0.126,
          0.128,
          0.13,
          0.132,
          0.134,
          0.136,
          0.138,
          0.14,
          0.142,
          0.144,
          0.146,
          0.148,
          0.15,
          0.152,
          0.154,
          0.156,
          0.158,
          0.16,
          0.162,
          0.164,
          0.166,
          0.168,
          0.17,
          0.172,
          0.174,
          0.176,
          0.178,
          0.18,
          0.182,
          0.184,
          0.186,
          0.188,
          0.19,
          0.192,
          0.194,
          0.196,
          0.198,
          0.2,
          0.202,
          0.204,
          0.206,
          0.208,
          0.21,
          0.212,
          0.214,
          0.216,
          0.218,
          0.22,
          0.222,
          0.224,
          0.226,
          0.228,
          0.23,
          0.232,
          0.234,
          0.236,
          0.238,
          0.24,
          0.242,
          0.244,
          0.246,
          0.248,
          0.25,
          0.252,
          0.254,
          0.256,
          0.258,
          0.26,
          0.262,
          0.264,
          0.266,
          0.268,
          0.27,
          0.272,
          0.274,
          0.276,
          0.278,
          0.28,
          0.282,
          0.284,
          0.286,
          0.288,
          0.29,
          0.292,
          0.294,
          0.296,
          0.298,
          0.3,
          0.302,
          0.304,
          0.306,
          0.308,
          0.31,
          0.312,
          0.314,
          0.316,
          0.318,
          0.32,
          0.322,
          0.324,
          0.326,
          0.328,
          0.33,
          0.332,
          0.334,
          0.336,
          0.338,
          0.34,
          0.342,
          0.344,
          0.346,
          0.348,
          0.35,
          0.352,
          0.354,
          0.356,
          0.358,
          0.36,
          0.362,
          0.364,
          0.366,
          0.368,
          0.37,
          0.372,
          0.374,
          0.376,
          0.378,
          0.38,
          0.382,
          0.384,
          0.386,
          0.388,
          0.39,
          0.392,
          0.394,
          0.396,
          0.398,
          0.4,
          0.402,
          0.404,
          0.406,
          0.408,
          0.41,
          0.412,
          0.414,
          0.416,
          0.418,
          0.42,
          0.422,
          0.424,
          0.426,
          0.428,
          0.43,
          0.432,
          0.434,
          0.436,
          0.438,
          0.44,
          0.442,
          0.444,
          0.446,
          0.448,
          0.45,
          0.452,
          0.454,
          0.456,
          0.458,
          0.46,
          0.462,
          0.464,
          0.466,
          0.468,
          0.47,
          0.472,
          0.474,
          0.476,
          0.478,
          0.48,
          0.482,
          0.484,
          0.486,
          0.488,
          0.49,
          0.492,
          0.494,
          0.496,
          0.498,
          0.5,
          0.502,
          0.504,
          0.506,
          0.508,
          0.51,
          0.512,
          0.514,
          0.516,
          0.518,
          0.52,
          0.522,
          0.524,
          0.526,
          0.528,
          0.53,
          0.532,
          0.534,
          0.536,
          0.538,
          0.54,
          0.542,
          0.544,
          0.546,
          0.548,
          0.55,
          0.552,
          0.554,
          0.556,
          0.558,
          0.56,
          0.562,
          0.564,
          0.566,
          0.568,
          0.57,
          0.572,
          0.574,
          0.576,
          0.578,
          0.58,
          0.582,
          0.584,
          0.586,
          0.588,
          0.59,
          0.592,
          0.594,
          0.596,
          0.598,
          0.6,
          0.602,
          0.604,
          0.606,
          0.608,
          0.61,
          0.612,
          0.614,
          0.616,
          0.618,
          0.62,
          0.622,
          0.624,
          0.626,
          0.628,
          0.63,
          0.632,
          0.634,
          0.636,
          0.638,
          0.64,
          0.642,
          0.644,
          0.646,
          0.648,
          0.65,
          0.652,
          0.654,
          0.656,
          0.658,
          0.66,
          0.662,
          0.664,
          0.666,
          0.668,
          0.67,
          0.672,
          0.674,
          0.676,
          0.678,
          0.68,
          0.682,
          0.684,
          0.686,
          0.688,
          0.69,
          0.692,
          0.694,
          0.696,
          0.698,
          0.7,
          0.702,
          0.704,
          0.706,
          0.708,
          0.71,
          0.712,
          0.714,
          0.716,
          0.718,
          0.72,
          0.722,
          0.724,
          0.726,
          0.728,
          0.73,
          0.732,
          0.734,
          0.736,
          0.738,
          0.74,
          0.742,
          0.744,
          0.746,
          0.748,
          0.75,
          0.752,
          0.754,
          0.756,
          0.758,
          0.76,
          0.762,
          0.764,
          0.766,
          0.768,
          0.77,
          0.772,
          0.774,
          0.776,
          0.778,
          0.78,
          0.782,
          0.784,
          0.786,
          0.788,
          0.79,
          0.792,
          0.794,
          0.796,
          0.798,
          0.8,
          0.802,
          0.804,
          0.806,
          0.808,
          0.81,
          0.812,
          0.814,
          0.816,
          0.818,
          0.82,
          0.822,
          0.824,
          0.826,
          0.828,
          0.83,
          0.832,
          0.834,
          0.836,
          0.838,
          0.84,
          0.842,
          0.844,
          0.846,
          0.848,
          0.85,
          0.852,
          0.854,
          0.856,
          0.858,
          0.86,
          0.862,
          0.864,
          0.866,
          0.868,
          0.87,
          0.872,
          0.874,
          0.876,
          0.878,
          0.88,
          0.882,
          0.884,
          0.886,
          0.888,
          0.89,
          0.892,
          0.894,
          0.896,
          0.898,
          0.9,
          0.902,
          0.904,
          0.906,
          0.908,
          0.91,
          0.912,
          0.914,
          0.916,
          0.918,
          0.92,
          0.922,
          0.924,
          0.926,
          0.928,
          0.93,
          0.932,
          0.934,
          0.936,
          0.938,
          0.94,
          0.942,
          0.944,
          0.946,
          0.948,
          0.95,
          0.952,
          0.954,
          0.956,
          0.958,
          0.96,
          0.962,
          0.964,
          0.966,
          0.968,
          0.97,
          0.972,
          0.974,
          0.976,
          0.978,
          0.98,
          0.982,
          0.984,
          0.986,
          0.988,
          0.99,
          0.992,
          0.994,
          0.996,
          0.998
         ],
         "xaxis": "x",
         "y": {
          "bdata": "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",
          "dtype": "f8"
         },
         "yaxis": "y"
        },
        {
         "legendgroup": "3",
         "marker": {
          "color": "rgb(214, 39, 40)"
         },
         "mode": "lines",
         "name": "3",
         "showlegend": true,
         "type": "scatter",
         "x": [
          0,
          0.028,
          0.056,
          0.084,
          0.112,
          0.14,
          0.168,
          0.196,
          0.224,
          0.252,
          0.28,
          0.308,
          0.336,
          0.364,
          0.392,
          0.42,
          0.448,
          0.476,
          0.504,
          0.532,
          0.56,
          0.588,
          0.616,
          0.644,
          0.672,
          0.7,
          0.728,
          0.756,
          0.784,
          0.812,
          0.84,
          0.868,
          0.896,
          0.924,
          0.952,
          0.98,
          1.008,
          1.036,
          1.064,
          1.092,
          1.12,
          1.148,
          1.176,
          1.204,
          1.232,
          1.26,
          1.288,
          1.316,
          1.344,
          1.372,
          1.4,
          1.428,
          1.456,
          1.484,
          1.512,
          1.54,
          1.568,
          1.596,
          1.624,
          1.652,
          1.68,
          1.708,
          1.736,
          1.764,
          1.792,
          1.82,
          1.848,
          1.876,
          1.904,
          1.932,
          1.96,
          1.988,
          2.016,
          2.044,
          2.072,
          2.1,
          2.128,
          2.156,
          2.184,
          2.212,
          2.24,
          2.268,
          2.296,
          2.324,
          2.352,
          2.38,
          2.408,
          2.436,
          2.464,
          2.492,
          2.52,
          2.548,
          2.576,
          2.604,
          2.632,
          2.66,
          2.688,
          2.716,
          2.744,
          2.772,
          2.8,
          2.828,
          2.856,
          2.884,
          2.912,
          2.94,
          2.968,
          2.996,
          3.024,
          3.052,
          3.08,
          3.108,
          3.136,
          3.164,
          3.192,
          3.22,
          3.248,
          3.276,
          3.304,
          3.332,
          3.36,
          3.388,
          3.416,
          3.444,
          3.472,
          3.5,
          3.528,
          3.556,
          3.584,
          3.612,
          3.64,
          3.668,
          3.696,
          3.724,
          3.752,
          3.78,
          3.808,
          3.836,
          3.864,
          3.892,
          3.92,
          3.948,
          3.976,
          4.004,
          4.032,
          4.06,
          4.088,
          4.116,
          4.144,
          4.172,
          4.2,
          4.228,
          4.256,
          4.284,
          4.312,
          4.34,
          4.368,
          4.396,
          4.424,
          4.452,
          4.48,
          4.508,
          4.536,
          4.564,
          4.592,
          4.62,
          4.648,
          4.676,
          4.704,
          4.732,
          4.76,
          4.788,
          4.816,
          4.844,
          4.872,
          4.9,
          4.928,
          4.956,
          4.984,
          5.012,
          5.04,
          5.068,
          5.096,
          5.124,
          5.152,
          5.18,
          5.208,
          5.236,
          5.264,
          5.292,
          5.32,
          5.348,
          5.376,
          5.404,
          5.432,
          5.46,
          5.488,
          5.516,
          5.544,
          5.572,
          5.6,
          5.628,
          5.656,
          5.684,
          5.712,
          5.74,
          5.768,
          5.796,
          5.824,
          5.852,
          5.88,
          5.908,
          5.936,
          5.964,
          5.992,
          6.02,
          6.048,
          6.076,
          6.104,
          6.132,
          6.16,
          6.188,
          6.216,
          6.244,
          6.272,
          6.3,
          6.328,
          6.356,
          6.384,
          6.412,
          6.44,
          6.468,
          6.496,
          6.524,
          6.552,
          6.58,
          6.608,
          6.636,
          6.664,
          6.692,
          6.72,
          6.748,
          6.776,
          6.804,
          6.832,
          6.86,
          6.888,
          6.916,
          6.944,
          6.972,
          7,
          7.028,
          7.056,
          7.084,
          7.112,
          7.14,
          7.168,
          7.196,
          7.224,
          7.252,
          7.28,
          7.308,
          7.336,
          7.364,
          7.392,
          7.42,
          7.448,
          7.476,
          7.504,
          7.532,
          7.56,
          7.588,
          7.616,
          7.644,
          7.672,
          7.7,
          7.728,
          7.756,
          7.784,
          7.812,
          7.84,
          7.868,
          7.896,
          7.924,
          7.952,
          7.98,
          8.008,
          8.036,
          8.064,
          8.092,
          8.12,
          8.148,
          8.176,
          8.204,
          8.232,
          8.26,
          8.288,
          8.316,
          8.344,
          8.372,
          8.4,
          8.428,
          8.456,
          8.484,
          8.512,
          8.54,
          8.568,
          8.596,
          8.624,
          8.652,
          8.68,
          8.708,
          8.736,
          8.764,
          8.792,
          8.82,
          8.848,
          8.876,
          8.904,
          8.932,
          8.96,
          8.988,
          9.016,
          9.044,
          9.072,
          9.1,
          9.128,
          9.156,
          9.184,
          9.212,
          9.24,
          9.268,
          9.296,
          9.324,
          9.352,
          9.38,
          9.408,
          9.436,
          9.464,
          9.492,
          9.52,
          9.548,
          9.576,
          9.604,
          9.632,
          9.66,
          9.688,
          9.716,
          9.744,
          9.772,
          9.8,
          9.828,
          9.856,
          9.884,
          9.912,
          9.94,
          9.968,
          9.996,
          10.024,
          10.052,
          10.08,
          10.108,
          10.136,
          10.164,
          10.192,
          10.22,
          10.248,
          10.276,
          10.304,
          10.332,
          10.36,
          10.388,
          10.416,
          10.444,
          10.472,
          10.5,
          10.528,
          10.556,
          10.584,
          10.612,
          10.64,
          10.668,
          10.696,
          10.724,
          10.752,
          10.78,
          10.808,
          10.836,
          10.864,
          10.892,
          10.92,
          10.948,
          10.976,
          11.004,
          11.032,
          11.06,
          11.088,
          11.116,
          11.144,
          11.172,
          11.2,
          11.228,
          11.256,
          11.284,
          11.312,
          11.34,
          11.368,
          11.396,
          11.424,
          11.452,
          11.48,
          11.508,
          11.536,
          11.564,
          11.592,
          11.62,
          11.648,
          11.676,
          11.704,
          11.732,
          11.76,
          11.788,
          11.816,
          11.844,
          11.872,
          11.9,
          11.928,
          11.956,
          11.984,
          12.012,
          12.04,
          12.068,
          12.096,
          12.124,
          12.152,
          12.18,
          12.208,
          12.236,
          12.264,
          12.292,
          12.32,
          12.348,
          12.376,
          12.404,
          12.432,
          12.46,
          12.488,
          12.516,
          12.544,
          12.572,
          12.6,
          12.628,
          12.656,
          12.684,
          12.712,
          12.74,
          12.768,
          12.796,
          12.824,
          12.852,
          12.88,
          12.908,
          12.936,
          12.964,
          12.992,
          13.02,
          13.048,
          13.076,
          13.104,
          13.132,
          13.16,
          13.188,
          13.216,
          13.244,
          13.272,
          13.3,
          13.328,
          13.356,
          13.384,
          13.412,
          13.44,
          13.468,
          13.496,
          13.524,
          13.552,
          13.58,
          13.608,
          13.636,
          13.664,
          13.692,
          13.72,
          13.748,
          13.776,
          13.804,
          13.832,
          13.86,
          13.888,
          13.916,
          13.944,
          13.972
         ],
         "xaxis": "x",
         "y": {
          "bdata": "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",
          "dtype": "f8"
         },
         "yaxis": "y"
        }
       ],
       "layout": {
        "barmode": "overlay",
        "hovermode": "closest",
        "legend": {
         "traceorder": "reversed"
        },
        "template": {
         "data": {
          "bar": [
           {
            "error_x": {
             "color": "#2a3f5f"
            },
            "error_y": {
             "color": "#2a3f5f"
            },
            "marker": {
             "line": {
              "color": "#E5ECF6",
              "width": 0.5
             },
             "pattern": {
              "fillmode": "overlay",
              "size": 10,
              "solidity": 0.2
             }
            },
            "type": "bar"
           }
          ],
          "barpolar": [
           {
            "marker": {
             "line": {
              "color": "#E5ECF6",
              "width": 0.5
             },
             "pattern": {
              "fillmode": "overlay",
              "size": 10,
              "solidity": 0.2
             }
            },
            "type": "barpolar"
           }
          ],
          "carpet": [
           {
            "aaxis": {
             "endlinecolor": "#2a3f5f",
             "gridcolor": "white",
             "linecolor": "white",
             "minorgridcolor": "white",
             "startlinecolor": "#2a3f5f"
            },
            "baxis": {
             "endlinecolor": "#2a3f5f",
             "gridcolor": "white",
             "linecolor": "white",
             "minorgridcolor": "white",
             "startlinecolor": "#2a3f5f"
            },
            "type": "carpet"
           }
          ],
          "choropleth": [
           {
            "colorbar": {
             "outlinewidth": 0,
             "ticks": ""
            },
            "type": "choropleth"
           }
          ],
          "contour": [
           {
            "colorbar": {
             "outlinewidth": 0,
             "ticks": ""
            },
            "colorscale": [
             [
              0,
              "#0d0887"
             ],
             [
              0.1111111111111111,
              "#46039f"
             ],
             [
              0.2222222222222222,
              "#7201a8"
             ],
             [
              0.3333333333333333,
              "#9c179e"
             ],
             [
              0.4444444444444444,
              "#bd3786"
             ],
             [
              0.5555555555555556,
              "#d8576b"
             ],
             [
              0.6666666666666666,
              "#ed7953"
             ],
             [
              0.7777777777777778,
              "#fb9f3a"
             ],
             [
              0.8888888888888888,
              "#fdca26"
             ],
             [
              1,
              "#f0f921"
             ]
            ],
            "type": "contour"
           }
          ],
          "contourcarpet": [
           {
            "colorbar": {
             "outlinewidth": 0,
             "ticks": ""
            },
            "type": "contourcarpet"
           }
          ],
          "heatmap": [
           {
            "colorbar": {
             "outlinewidth": 0,
             "ticks": ""
            },
            "colorscale": [
             [
              0,
              "#0d0887"
             ],
             [
              0.1111111111111111,
              "#46039f"
             ],
             [
              0.2222222222222222,
              "#7201a8"
             ],
             [
              0.3333333333333333,
              "#9c179e"
             ],
             [
              0.4444444444444444,
              "#bd3786"
             ],
             [
              0.5555555555555556,
              "#d8576b"
             ],
             [
              0.6666666666666666,
              "#ed7953"
             ],
             [
              0.7777777777777778,
              "#fb9f3a"
             ],
             [
              0.8888888888888888,
              "#fdca26"
             ],
             [
              1,
              "#f0f921"
             ]
            ],
            "type": "heatmap"
           }
          ],
          "histogram": [
           {
            "marker": {
             "pattern": {
              "fillmode": "overlay",
              "size": 10,
              "solidity": 0.2
             }
            },
            "type": "histogram"
           }
          ],
          "histogram2d": [
           {
            "colorbar": {
             "outlinewidth": 0,
             "ticks": ""
            },
            "colorscale": [
             [
              0,
              "#0d0887"
             ],
             [
              0.1111111111111111,
              "#46039f"
             ],
             [
              0.2222222222222222,
              "#7201a8"
             ],
             [
              0.3333333333333333,
              "#9c179e"
             ],
             [
              0.4444444444444444,
              "#bd3786"
             ],
             [
              0.5555555555555556,
              "#d8576b"
             ],
             [
              0.6666666666666666,
              "#ed7953"
             ],
             [
              0.7777777777777778,
              "#fb9f3a"
             ],
             [
              0.8888888888888888,
              "#fdca26"
             ],
             [
              1,
              "#f0f921"
             ]
            ],
            "type": "histogram2d"
           }
          ],
          "histogram2dcontour": [
           {
            "colorbar": {
             "outlinewidth": 0,
             "ticks": ""
            },
            "colorscale": [
             [
              0,
              "#0d0887"
             ],
             [
              0.1111111111111111,
              "#46039f"
             ],
             [
              0.2222222222222222,
              "#7201a8"
             ],
             [
              0.3333333333333333,
              "#9c179e"
             ],
             [
              0.4444444444444444,
              "#bd3786"
             ],
             [
              0.5555555555555556,
              "#d8576b"
             ],
             [
              0.6666666666666666,
              "#ed7953"
             ],
             [
              0.7777777777777778,
              "#fb9f3a"
             ],
             [
              0.8888888888888888,
              "#fdca26"
             ],
             [
              1,
              "#f0f921"
             ]
            ],
            "type": "histogram2dcontour"
           }
          ],
          "mesh3d": [
           {
            "colorbar": {
             "outlinewidth": 0,
             "ticks": ""
            },
            "type": "mesh3d"
           }
          ],
          "parcoords": [
           {
            "line": {
             "colorbar": {
              "outlinewidth": 0,
              "ticks": ""
             }
            },
            "type": "parcoords"
           }
          ],
          "pie": [
           {
            "automargin": true,
            "type": "pie"
           }
          ],
          "scatter": [
           {
            "fillpattern": {
             "fillmode": "overlay",
             "size": 10,
             "solidity": 0.2
            },
            "type": "scatter"
           }
          ],
          "scatter3d": [
           {
            "line": {
             "colorbar": {
              "outlinewidth": 0,
              "ticks": ""
             }
            },
            "marker": {
             "colorbar": {
              "outlinewidth": 0,
              "ticks": ""
             }
            },
            "type": "scatter3d"
           }
          ],
          "scattercarpet": [
           {
            "marker": {
             "colorbar": {
              "outlinewidth": 0,
              "ticks": ""
             }
            },
            "type": "scattercarpet"
           }
          ],
          "scattergeo": [
           {
            "marker": {
             "colorbar": {
              "outlinewidth": 0,
              "ticks": ""
             }
            },
            "type": "scattergeo"
           }
          ],
          "scattergl": [
           {
            "marker": {
             "colorbar": {
              "outlinewidth": 0,
              "ticks": ""
             }
            },
            "type": "scattergl"
           }
          ],
          "scattermap": [
           {
            "marker": {
             "colorbar": {
              "outlinewidth": 0,
              "ticks": ""
             }
            },
            "type": "scattermap"
           }
          ],
          "scattermapbox": [
           {
            "marker": {
             "colorbar": {
              "outlinewidth": 0,
              "ticks": ""
             }
            },
            "type": "scattermapbox"
           }
          ],
          "scatterpolar": [
           {
            "marker": {
             "colorbar": {
              "outlinewidth": 0,
              "ticks": ""
             }
            },
            "type": "scatterpolar"
           }
          ],
          "scatterpolargl": [
           {
            "marker": {
             "colorbar": {
              "outlinewidth": 0,
              "ticks": ""
             }
            },
            "type": "scatterpolargl"
           }
          ],
          "scatterternary": [
           {
            "marker": {
             "colorbar": {
              "outlinewidth": 0,
              "ticks": ""
             }
            },
            "type": "scatterternary"
           }
          ],
          "surface": [
           {
            "colorbar": {
             "outlinewidth": 0,
             "ticks": ""
            },
            "colorscale": [
             [
              0,
              "#0d0887"
             ],
             [
              0.1111111111111111,
              "#46039f"
             ],
             [
              0.2222222222222222,
              "#7201a8"
             ],
             [
              0.3333333333333333,
              "#9c179e"
             ],
             [
              0.4444444444444444,
              "#bd3786"
             ],
             [
              0.5555555555555556,
              "#d8576b"
             ],
             [
              0.6666666666666666,
              "#ed7953"
             ],
             [
              0.7777777777777778,
              "#fb9f3a"
             ],
             [
              0.8888888888888888,
              "#fdca26"
             ],
             [
              1,
              "#f0f921"
             ]
            ],
            "type": "surface"
           }
          ],
          "table": [
           {
            "cells": {
             "fill": {
              "color": "#EBF0F8"
             },
             "line": {
              "color": "white"
             }
            },
            "header": {
             "fill": {
              "color": "#C8D4E3"
             },
             "line": {
              "color": "white"
             }
            },
            "type": "table"
           }
          ]
         },
         "layout": {
          "annotationdefaults": {
           "arrowcolor": "#2a3f5f",
           "arrowhead": 0,
           "arrowwidth": 1
          },
          "autotypenumbers": "strict",
          "coloraxis": {
           "colorbar": {
            "outlinewidth": 0,
            "ticks": ""
           }
          },
          "colorscale": {
           "diverging": [
            [
             0,
             "#8e0152"
            ],
            [
             0.1,
             "#c51b7d"
            ],
            [
             0.2,
             "#de77ae"
            ],
            [
             0.3,
             "#f1b6da"
            ],
            [
             0.4,
             "#fde0ef"
            ],
            [
             0.5,
             "#f7f7f7"
            ],
            [
             0.6,
             "#e6f5d0"
            ],
            [
             0.7,
             "#b8e186"
            ],
            [
             0.8,
             "#7fbc41"
            ],
            [
             0.9,
             "#4d9221"
            ],
            [
             1,
             "#276419"
            ]
           ],
           "sequential": [
            [
             0,
             "#0d0887"
            ],
            [
             0.1111111111111111,
             "#46039f"
            ],
            [
             0.2222222222222222,
             "#7201a8"
            ],
            [
             0.3333333333333333,
             "#9c179e"
            ],
            [
             0.4444444444444444,
             "#bd3786"
            ],
            [
             0.5555555555555556,
             "#d8576b"
            ],
            [
             0.6666666666666666,
             "#ed7953"
            ],
            [
             0.7777777777777778,
             "#fb9f3a"
            ],
            [
             0.8888888888888888,
             "#fdca26"
            ],
            [
             1,
             "#f0f921"
            ]
           ],
           "sequentialminus": [
            [
             0,
             "#0d0887"
            ],
            [
             0.1111111111111111,
             "#46039f"
            ],
            [
             0.2222222222222222,
             "#7201a8"
            ],
            [
             0.3333333333333333,
             "#9c179e"
            ],
            [
             0.4444444444444444,
             "#bd3786"
            ],
            [
             0.5555555555555556,
             "#d8576b"
            ],
            [
             0.6666666666666666,
             "#ed7953"
            ],
            [
             0.7777777777777778,
             "#fb9f3a"
            ],
            [
             0.8888888888888888,
             "#fdca26"
            ],
            [
             1,
             "#f0f921"
            ]
           ]
          },
          "colorway": [
           "#636efa",
           "#EF553B",
           "#00cc96",
           "#ab63fa",
           "#FFA15A",
           "#19d3f3",
           "#FF6692",
           "#B6E880",
           "#FF97FF",
           "#FECB52"
          ],
          "font": {
           "color": "#2a3f5f"
          },
          "geo": {
           "bgcolor": "white",
           "lakecolor": "white",
           "landcolor": "#E5ECF6",
           "showlakes": true,
           "showland": true,
           "subunitcolor": "white"
          },
          "hoverlabel": {
           "align": "left"
          },
          "hovermode": "closest",
          "mapbox": {
           "style": "light"
          },
          "paper_bgcolor": "white",
          "plot_bgcolor": "#E5ECF6",
          "polar": {
           "angularaxis": {
            "gridcolor": "white",
            "linecolor": "white",
            "ticks": ""
           },
           "bgcolor": "#E5ECF6",
           "radialaxis": {
            "gridcolor": "white",
            "linecolor": "white",
            "ticks": ""
           }
          },
          "scene": {
           "xaxis": {
            "backgroundcolor": "#E5ECF6",
            "gridcolor": "white",
            "gridwidth": 2,
            "linecolor": "white",
            "showbackground": true,
            "ticks": "",
            "zerolinecolor": "white"
           },
           "yaxis": {
            "backgroundcolor": "#E5ECF6",
            "gridcolor": "white",
            "gridwidth": 2,
            "linecolor": "white",
            "showbackground": true,
            "ticks": "",
            "zerolinecolor": "white"
           },
           "zaxis": {
            "backgroundcolor": "#E5ECF6",
            "gridcolor": "white",
            "gridwidth": 2,
            "linecolor": "white",
            "showbackground": true,
            "ticks": "",
            "zerolinecolor": "white"
           }
          },
          "shapedefaults": {
           "line": {
            "color": "#2a3f5f"
           }
          },
          "ternary": {
           "aaxis": {
            "gridcolor": "white",
            "linecolor": "white",
            "ticks": ""
           },
           "baxis": {
            "gridcolor": "white",
            "linecolor": "white",
            "ticks": ""
           },
           "bgcolor": "#E5ECF6",
           "caxis": {
            "gridcolor": "white",
            "linecolor": "white",
            "ticks": ""
           }
          },
          "title": {
           "x": 0.05
          },
          "xaxis": {
           "automargin": true,
           "gridcolor": "white",
           "linecolor": "white",
           "ticks": "",
           "title": {
            "standoff": 15
           },
           "zerolinecolor": "white",
           "zerolinewidth": 2
          },
          "yaxis": {
           "automargin": true,
           "gridcolor": "white",
           "linecolor": "white",
           "ticks": "",
           "title": {
            "standoff": 15
           },
           "zerolinecolor": "white",
           "zerolinewidth": 2
          }
         }
        },
        "title": {
         "text": "KDE Plot for Feature: C"
        },
        "xaxis": {
         "anchor": "y2",
         "domain": [
          0,
          1
         ],
         "zeroline": false
        },
        "yaxis": {
         "anchor": "free",
         "domain": [
          0,
          1
         ],
         "position": 0
        }
       }
      }
     },
     "metadata": {},
     "output_type": "display_data"
    },
    {
     "data": {
      "application/vnd.plotly.v1+json": {
       "config": {
        "plotlyServerURL": "https://plot.ly"
       },
       "data": [
        {
         "legendgroup": "0",
         "marker": {
          "color": "rgb(31, 119, 180)"
         },
         "mode": "lines",
         "name": "0",
         "showlegend": true,
         "type": "scatter",
         "x": [
          0,
          0.062,
          0.124,
          0.186,
          0.248,
          0.31,
          0.372,
          0.434,
          0.496,
          0.558,
          0.62,
          0.682,
          0.744,
          0.806,
          0.868,
          0.93,
          0.992,
          1.054,
          1.116,
          1.178,
          1.24,
          1.302,
          1.364,
          1.426,
          1.488,
          1.55,
          1.612,
          1.674,
          1.736,
          1.798,
          1.86,
          1.922,
          1.984,
          2.046,
          2.108,
          2.17,
          2.232,
          2.294,
          2.356,
          2.418,
          2.48,
          2.542,
          2.604,
          2.666,
          2.728,
          2.79,
          2.852,
          2.914,
          2.976,
          3.038,
          3.1,
          3.162,
          3.224,
          3.286,
          3.348,
          3.41,
          3.472,
          3.534,
          3.596,
          3.658,
          3.72,
          3.782,
          3.844,
          3.906,
          3.968,
          4.03,
          4.092,
          4.154,
          4.216,
          4.278,
          4.34,
          4.402,
          4.464,
          4.526,
          4.588,
          4.65,
          4.712,
          4.774,
          4.836,
          4.898,
          4.96,
          5.022,
          5.084,
          5.146,
          5.208,
          5.27,
          5.332,
          5.394,
          5.456,
          5.518,
          5.58,
          5.642,
          5.704,
          5.766,
          5.828,
          5.89,
          5.952,
          6.014,
          6.076,
          6.138,
          6.2,
          6.262,
          6.324,
          6.386,
          6.448,
          6.51,
          6.572,
          6.634,
          6.696,
          6.758,
          6.82,
          6.882,
          6.944,
          7.006,
          7.068,
          7.13,
          7.192,
          7.254,
          7.316,
          7.378,
          7.44,
          7.502,
          7.564,
          7.626,
          7.688,
          7.75,
          7.812,
          7.874,
          7.936,
          7.998,
          8.06,
          8.122,
          8.184,
          8.246,
          8.308,
          8.37,
          8.432,
          8.494,
          8.556,
          8.618,
          8.68,
          8.742,
          8.804,
          8.866,
          8.928,
          8.99,
          9.052,
          9.114,
          9.176,
          9.238,
          9.3,
          9.362,
          9.424,
          9.486,
          9.548,
          9.61,
          9.672,
          9.734,
          9.796,
          9.858,
          9.92,
          9.982,
          10.044,
          10.106,
          10.168,
          10.23,
          10.292,
          10.354,
          10.416,
          10.478,
          10.54,
          10.602,
          10.664,
          10.726,
          10.788,
          10.85,
          10.912,
          10.974,
          11.036,
          11.098,
          11.16,
          11.222,
          11.284,
          11.346,
          11.408,
          11.47,
          11.532,
          11.594,
          11.656,
          11.718,
          11.78,
          11.842,
          11.904,
          11.966,
          12.028,
          12.09,
          12.152,
          12.214,
          12.276,
          12.338,
          12.4,
          12.462,
          12.524,
          12.586,
          12.648,
          12.71,
          12.772,
          12.834,
          12.896,
          12.958,
          13.02,
          13.082,
          13.144,
          13.206,
          13.268,
          13.33,
          13.392,
          13.454,
          13.516,
          13.578,
          13.64,
          13.702,
          13.764,
          13.826,
          13.888,
          13.95,
          14.012,
          14.074,
          14.136,
          14.198,
          14.26,
          14.322,
          14.384,
          14.446,
          14.508,
          14.57,
          14.632,
          14.694,
          14.756,
          14.818,
          14.88,
          14.942,
          15.004,
          15.066,
          15.128,
          15.19,
          15.252,
          15.314,
          15.376,
          15.438,
          15.5,
          15.562,
          15.624,
          15.686,
          15.748,
          15.81,
          15.872,
          15.934,
          15.996,
          16.058,
          16.12,
          16.182,
          16.244,
          16.306,
          16.368,
          16.43,
          16.492,
          16.554,
          16.616,
          16.678,
          16.74,
          16.802,
          16.864,
          16.926,
          16.988,
          17.05,
          17.112,
          17.174,
          17.236,
          17.298,
          17.36,
          17.422,
          17.484,
          17.546,
          17.608,
          17.67,
          17.732,
          17.794,
          17.856,
          17.918,
          17.98,
          18.042,
          18.104,
          18.166,
          18.228,
          18.29,
          18.352,
          18.414,
          18.476,
          18.538,
          18.6,
          18.662,
          18.724,
          18.786,
          18.848,
          18.91,
          18.972,
          19.034,
          19.096,
          19.158,
          19.22,
          19.282,
          19.344,
          19.406,
          19.468,
          19.53,
          19.592,
          19.654,
          19.716,
          19.778,
          19.84,
          19.902,
          19.964,
          20.026,
          20.088,
          20.15,
          20.212,
          20.274,
          20.336,
          20.398,
          20.46,
          20.522,
          20.584,
          20.646,
          20.708,
          20.77,
          20.832,
          20.894,
          20.956,
          21.018,
          21.08,
          21.142,
          21.204,
          21.266,
          21.328,
          21.39,
          21.452,
          21.514,
          21.576,
          21.638,
          21.7,
          21.762,
          21.824,
          21.886,
          21.948,
          22.01,
          22.072,
          22.134,
          22.196,
          22.258,
          22.32,
          22.382,
          22.444,
          22.506,
          22.568,
          22.63,
          22.692,
          22.754,
          22.816,
          22.878,
          22.94,
          23.002,
          23.064,
          23.126,
          23.188,
          23.25,
          23.312,
          23.374,
          23.436,
          23.498,
          23.56,
          23.622,
          23.684,
          23.746,
          23.808,
          23.87,
          23.932,
          23.994,
          24.056,
          24.118,
          24.18,
          24.242,
          24.304,
          24.366,
          24.428,
          24.49,
          24.552,
          24.614,
          24.676,
          24.738,
          24.8,
          24.862,
          24.924,
          24.986,
          25.048,
          25.11,
          25.172,
          25.234,
          25.296,
          25.358,
          25.42,
          25.482,
          25.544,
          25.606,
          25.668,
          25.73,
          25.792,
          25.854,
          25.916,
          25.978,
          26.04,
          26.102,
          26.164,
          26.226,
          26.288,
          26.35,
          26.412,
          26.474,
          26.536,
          26.598,
          26.66,
          26.722,
          26.784,
          26.846,
          26.908,
          26.97,
          27.032,
          27.094,
          27.156,
          27.218,
          27.28,
          27.342,
          27.404,
          27.466,
          27.528,
          27.59,
          27.652,
          27.714,
          27.776,
          27.838,
          27.9,
          27.962,
          28.024,
          28.086,
          28.148,
          28.21,
          28.272,
          28.334,
          28.396,
          28.458,
          28.52,
          28.582,
          28.644,
          28.706,
          28.768,
          28.83,
          28.892,
          28.954,
          29.016,
          29.078,
          29.14,
          29.202,
          29.264,
          29.326,
          29.388,
          29.45,
          29.512,
          29.574,
          29.636,
          29.698,
          29.76,
          29.822,
          29.884,
          29.946,
          30.008,
          30.07,
          30.132,
          30.194,
          30.256,
          30.318,
          30.38,
          30.442,
          30.504,
          30.566,
          30.628,
          30.69,
          30.752,
          30.814,
          30.876,
          30.938
         ],
         "xaxis": "x",
         "y": {
          "bdata": "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",
          "dtype": "f8"
         },
         "yaxis": "y"
        },
        {
         "legendgroup": "1",
         "marker": {
          "color": "rgb(255, 127, 14)"
         },
         "mode": "lines",
         "name": "1",
         "showlegend": true,
         "type": "scatter",
         "x": [
          0,
          0.066,
          0.132,
          0.198,
          0.264,
          0.33,
          0.396,
          0.462,
          0.528,
          0.594,
          0.66,
          0.726,
          0.792,
          0.858,
          0.924,
          0.99,
          1.056,
          1.122,
          1.188,
          1.254,
          1.32,
          1.386,
          1.452,
          1.518,
          1.584,
          1.65,
          1.716,
          1.782,
          1.848,
          1.914,
          1.98,
          2.046,
          2.112,
          2.178,
          2.244,
          2.31,
          2.376,
          2.442,
          2.508,
          2.574,
          2.64,
          2.706,
          2.772,
          2.838,
          2.904,
          2.97,
          3.036,
          3.102,
          3.168,
          3.234,
          3.3,
          3.366,
          3.432,
          3.498,
          3.564,
          3.63,
          3.696,
          3.762,
          3.828,
          3.894,
          3.96,
          4.026,
          4.092,
          4.158,
          4.224,
          4.29,
          4.356,
          4.422,
          4.488,
          4.554,
          4.62,
          4.686,
          4.752,
          4.818,
          4.884,
          4.95,
          5.016,
          5.082,
          5.148,
          5.214,
          5.28,
          5.346,
          5.412,
          5.478,
          5.544,
          5.61,
          5.676,
          5.742,
          5.808,
          5.874,
          5.94,
          6.006,
          6.072,
          6.138,
          6.204,
          6.27,
          6.336,
          6.402,
          6.468,
          6.534,
          6.6,
          6.666,
          6.732,
          6.798,
          6.864,
          6.93,
          6.996,
          7.062,
          7.128,
          7.194,
          7.26,
          7.326,
          7.392,
          7.458,
          7.524,
          7.59,
          7.656,
          7.722,
          7.788,
          7.854,
          7.92,
          7.986,
          8.052,
          8.118,
          8.184,
          8.25,
          8.316,
          8.382,
          8.448,
          8.514,
          8.58,
          8.646,
          8.712,
          8.778,
          8.844,
          8.91,
          8.976,
          9.042,
          9.108,
          9.174,
          9.24,
          9.306,
          9.372,
          9.438,
          9.504,
          9.57,
          9.636,
          9.702,
          9.768,
          9.834,
          9.9,
          9.966,
          10.032,
          10.098,
          10.164,
          10.23,
          10.296,
          10.362,
          10.428,
          10.494,
          10.56,
          10.626,
          10.692,
          10.758,
          10.824,
          10.89,
          10.956,
          11.022,
          11.088,
          11.154,
          11.22,
          11.286,
          11.352,
          11.418,
          11.484,
          11.55,
          11.616,
          11.682,
          11.748,
          11.814,
          11.88,
          11.946,
          12.012,
          12.078,
          12.144,
          12.21,
          12.276,
          12.342,
          12.408,
          12.474,
          12.54,
          12.606,
          12.672,
          12.738,
          12.804,
          12.87,
          12.936,
          13.002,
          13.068,
          13.134,
          13.2,
          13.266,
          13.332,
          13.398,
          13.464,
          13.53,
          13.596,
          13.662,
          13.728,
          13.794,
          13.86,
          13.926,
          13.992,
          14.058,
          14.124,
          14.19,
          14.256,
          14.322,
          14.388,
          14.454,
          14.52,
          14.586,
          14.652,
          14.718,
          14.784,
          14.85,
          14.916,
          14.982,
          15.048,
          15.114,
          15.18,
          15.246,
          15.312,
          15.378,
          15.444,
          15.51,
          15.576,
          15.642,
          15.708,
          15.774,
          15.84,
          15.906,
          15.972,
          16.038,
          16.104,
          16.17,
          16.236,
          16.302,
          16.368,
          16.434,
          16.5,
          16.566,
          16.632,
          16.698,
          16.764,
          16.83,
          16.896,
          16.962,
          17.028,
          17.094,
          17.16,
          17.226,
          17.292,
          17.358,
          17.424,
          17.49,
          17.556,
          17.622,
          17.688,
          17.754,
          17.82,
          17.886,
          17.952,
          18.018,
          18.084,
          18.15,
          18.216,
          18.282,
          18.348,
          18.414,
          18.48,
          18.546,
          18.612,
          18.678,
          18.744,
          18.81,
          18.876,
          18.942,
          19.008,
          19.074,
          19.14,
          19.206,
          19.272,
          19.338,
          19.404,
          19.47,
          19.536,
          19.602,
          19.668,
          19.734,
          19.8,
          19.866,
          19.932,
          19.998,
          20.064,
          20.13,
          20.196,
          20.262,
          20.328,
          20.394,
          20.46,
          20.526,
          20.592,
          20.658,
          20.724,
          20.79,
          20.856,
          20.922,
          20.988,
          21.054,
          21.12,
          21.186,
          21.252,
          21.318,
          21.384,
          21.45,
          21.516,
          21.582,
          21.648,
          21.714,
          21.78,
          21.846,
          21.912,
          21.978,
          22.044,
          22.11,
          22.176,
          22.242,
          22.308,
          22.374,
          22.44,
          22.506,
          22.572,
          22.638,
          22.704,
          22.77,
          22.836,
          22.902,
          22.968,
          23.034,
          23.1,
          23.166,
          23.232,
          23.298,
          23.364,
          23.43,
          23.496,
          23.562,
          23.628,
          23.694,
          23.76,
          23.826,
          23.892,
          23.958,
          24.024,
          24.09,
          24.156,
          24.222,
          24.288,
          24.354,
          24.42,
          24.486,
          24.552,
          24.618,
          24.684,
          24.75,
          24.816,
          24.882,
          24.948,
          25.014,
          25.08,
          25.146,
          25.212,
          25.278,
          25.344,
          25.41,
          25.476,
          25.542,
          25.608,
          25.674,
          25.74,
          25.806,
          25.872,
          25.938,
          26.004,
          26.07,
          26.136,
          26.202,
          26.268,
          26.334,
          26.4,
          26.466,
          26.532,
          26.598,
          26.664,
          26.73,
          26.796,
          26.862,
          26.928,
          26.994,
          27.06,
          27.126,
          27.192,
          27.258,
          27.324,
          27.39,
          27.456,
          27.522,
          27.588,
          27.654,
          27.72,
          27.786,
          27.852,
          27.918,
          27.984,
          28.05,
          28.116,
          28.182,
          28.248,
          28.314,
          28.38,
          28.446,
          28.512,
          28.578,
          28.644,
          28.71,
          28.776,
          28.842,
          28.908,
          28.974,
          29.04,
          29.106,
          29.172,
          29.238,
          29.304,
          29.37,
          29.436,
          29.502,
          29.568,
          29.634,
          29.7,
          29.766,
          29.832,
          29.898,
          29.964,
          30.03,
          30.096,
          30.162,
          30.228,
          30.294,
          30.36,
          30.426,
          30.492,
          30.558,
          30.624,
          30.69,
          30.756,
          30.822,
          30.888,
          30.954,
          31.02,
          31.086,
          31.152,
          31.218,
          31.284,
          31.35,
          31.416,
          31.482,
          31.548,
          31.614,
          31.68,
          31.746,
          31.812,
          31.878,
          31.944,
          32.01,
          32.076,
          32.142,
          32.208,
          32.274,
          32.34,
          32.406,
          32.472,
          32.538,
          32.604,
          32.67,
          32.736,
          32.802,
          32.868,
          32.934
         ],
         "xaxis": "x",
         "y": {
          "bdata": "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",
          "dtype": "f8"
         },
         "yaxis": "y"
        },
        {
         "legendgroup": "2",
         "marker": {
          "color": "rgb(44, 160, 44)"
         },
         "mode": "lines",
         "name": "2",
         "showlegend": true,
         "type": "scatter",
         "x": [
          0,
          0.068,
          0.136,
          0.204,
          0.272,
          0.34,
          0.408,
          0.476,
          0.544,
          0.612,
          0.68,
          0.748,
          0.816,
          0.884,
          0.952,
          1.02,
          1.088,
          1.156,
          1.224,
          1.292,
          1.36,
          1.428,
          1.496,
          1.564,
          1.632,
          1.7,
          1.768,
          1.836,
          1.904,
          1.972,
          2.04,
          2.108,
          2.176,
          2.244,
          2.312,
          2.38,
          2.448,
          2.516,
          2.584,
          2.652,
          2.72,
          2.788,
          2.856,
          2.924,
          2.992,
          3.06,
          3.128,
          3.196,
          3.264,
          3.332,
          3.4,
          3.468,
          3.536,
          3.604,
          3.672,
          3.74,
          3.808,
          3.876,
          3.944,
          4.012,
          4.08,
          4.148,
          4.216,
          4.284,
          4.352,
          4.42,
          4.488,
          4.556,
          4.624,
          4.692,
          4.76,
          4.828,
          4.896,
          4.964,
          5.032,
          5.1,
          5.168,
          5.236,
          5.304,
          5.372,
          5.44,
          5.508,
          5.576,
          5.644,
          5.712,
          5.78,
          5.848,
          5.916,
          5.984,
          6.052,
          6.12,
          6.188,
          6.256,
          6.324,
          6.392,
          6.46,
          6.528,
          6.596,
          6.664,
          6.732,
          6.8,
          6.868,
          6.936,
          7.004,
          7.072,
          7.14,
          7.208,
          7.276,
          7.344,
          7.412,
          7.48,
          7.548,
          7.616,
          7.684,
          7.752,
          7.82,
          7.888,
          7.956,
          8.024,
          8.092,
          8.16,
          8.228,
          8.296,
          8.364,
          8.432,
          8.5,
          8.568,
          8.636,
          8.704,
          8.772,
          8.84,
          8.908,
          8.976,
          9.044,
          9.112,
          9.18,
          9.248,
          9.316,
          9.384,
          9.452,
          9.52,
          9.588,
          9.656,
          9.724,
          9.792,
          9.86,
          9.928,
          9.996,
          10.064,
          10.132,
          10.2,
          10.268,
          10.336,
          10.404,
          10.472,
          10.54,
          10.608,
          10.676,
          10.744,
          10.812,
          10.88,
          10.948,
          11.016,
          11.084,
          11.152,
          11.22,
          11.288,
          11.356,
          11.424,
          11.492,
          11.56,
          11.628,
          11.696,
          11.764,
          11.832,
          11.9,
          11.968,
          12.036,
          12.104,
          12.172,
          12.24,
          12.308,
          12.376,
          12.444,
          12.512,
          12.58,
          12.648,
          12.716,
          12.784,
          12.852,
          12.92,
          12.988,
          13.056,
          13.124,
          13.192,
          13.26,
          13.328,
          13.396,
          13.464,
          13.532,
          13.6,
          13.668,
          13.736,
          13.804,
          13.872,
          13.94,
          14.008,
          14.076,
          14.144,
          14.212,
          14.28,
          14.348,
          14.416,
          14.484,
          14.552,
          14.62,
          14.688,
          14.756,
          14.824,
          14.892,
          14.96,
          15.028,
          15.096,
          15.164,
          15.232,
          15.3,
          15.368,
          15.436,
          15.504,
          15.572,
          15.64,
          15.708,
          15.776,
          15.844,
          15.912,
          15.98,
          16.048,
          16.116,
          16.184,
          16.252,
          16.32,
          16.388,
          16.456,
          16.524,
          16.592,
          16.66,
          16.728,
          16.796,
          16.864,
          16.932,
          17,
          17.068,
          17.136,
          17.204,
          17.272,
          17.34,
          17.408,
          17.476,
          17.544,
          17.612,
          17.68,
          17.748,
          17.816,
          17.884,
          17.952,
          18.02,
          18.088,
          18.156,
          18.224,
          18.292,
          18.36,
          18.428,
          18.496,
          18.564,
          18.632,
          18.7,
          18.768,
          18.836,
          18.904,
          18.972,
          19.04,
          19.108,
          19.176,
          19.244,
          19.312,
          19.38,
          19.448,
          19.516,
          19.584,
          19.652,
          19.72,
          19.788,
          19.856,
          19.924,
          19.992,
          20.06,
          20.128,
          20.196,
          20.264,
          20.332,
          20.4,
          20.468,
          20.536,
          20.604,
          20.672,
          20.74,
          20.808,
          20.876,
          20.944,
          21.012,
          21.08,
          21.148,
          21.216,
          21.284,
          21.352,
          21.42,
          21.488,
          21.556,
          21.624,
          21.692,
          21.76,
          21.828,
          21.896,
          21.964,
          22.032,
          22.1,
          22.168,
          22.236,
          22.304,
          22.372,
          22.44,
          22.508,
          22.576,
          22.644,
          22.712,
          22.78,
          22.848,
          22.916,
          22.984,
          23.052,
          23.12,
          23.188,
          23.256,
          23.324,
          23.392,
          23.46,
          23.528,
          23.596,
          23.664,
          23.732,
          23.8,
          23.868,
          23.936,
          24.004,
          24.072,
          24.14,
          24.208,
          24.276,
          24.344,
          24.412,
          24.48,
          24.548,
          24.616,
          24.684,
          24.752,
          24.82,
          24.888,
          24.956,
          25.024,
          25.092,
          25.16,
          25.228,
          25.296,
          25.364,
          25.432,
          25.5,
          25.568,
          25.636,
          25.704,
          25.772,
          25.84,
          25.908,
          25.976,
          26.044,
          26.112,
          26.18,
          26.248,
          26.316,
          26.384,
          26.452,
          26.52,
          26.588,
          26.656,
          26.724,
          26.792,
          26.86,
          26.928,
          26.996,
          27.064,
          27.132,
          27.2,
          27.268,
          27.336,
          27.404,
          27.472,
          27.54,
          27.608,
          27.676,
          27.744,
          27.812,
          27.88,
          27.948,
          28.016,
          28.084,
          28.152,
          28.22,
          28.288,
          28.356,
          28.424,
          28.492,
          28.56,
          28.628,
          28.696,
          28.764,
          28.832,
          28.9,
          28.968,
          29.036,
          29.104,
          29.172,
          29.24,
          29.308,
          29.376,
          29.444,
          29.512,
          29.58,
          29.648,
          29.716,
          29.784,
          29.852,
          29.92,
          29.988,
          30.056,
          30.124,
          30.192,
          30.26,
          30.328,
          30.396,
          30.464,
          30.532,
          30.6,
          30.668,
          30.736,
          30.804,
          30.872,
          30.94,
          31.008,
          31.076,
          31.144,
          31.212,
          31.28,
          31.348,
          31.416,
          31.484,
          31.552,
          31.62,
          31.688,
          31.756,
          31.824,
          31.892,
          31.96,
          32.028,
          32.096,
          32.164,
          32.232,
          32.3,
          32.368,
          32.436,
          32.504,
          32.572,
          32.64,
          32.708,
          32.776,
          32.844,
          32.912,
          32.98,
          33.048,
          33.116,
          33.184,
          33.252,
          33.32,
          33.388,
          33.456,
          33.524,
          33.592,
          33.66,
          33.728,
          33.796,
          33.864,
          33.932
         ],
         "xaxis": "x",
         "y": {
          "bdata": "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",
          "dtype": "f8"
         },
         "yaxis": "y"
        },
        {
         "legendgroup": "3",
         "marker": {
          "color": "rgb(214, 39, 40)"
         },
         "mode": "lines",
         "name": "3",
         "showlegend": true,
         "type": "scatter",
         "x": [
          0,
          0.064,
          0.128,
          0.192,
          0.256,
          0.32,
          0.384,
          0.448,
          0.512,
          0.576,
          0.64,
          0.704,
          0.768,
          0.832,
          0.896,
          0.96,
          1.024,
          1.088,
          1.152,
          1.216,
          1.28,
          1.344,
          1.408,
          1.472,
          1.536,
          1.6,
          1.664,
          1.728,
          1.792,
          1.856,
          1.92,
          1.984,
          2.048,
          2.112,
          2.176,
          2.24,
          2.304,
          2.368,
          2.432,
          2.496,
          2.56,
          2.624,
          2.688,
          2.752,
          2.816,
          2.88,
          2.944,
          3.008,
          3.072,
          3.136,
          3.2,
          3.264,
          3.328,
          3.392,
          3.456,
          3.52,
          3.584,
          3.648,
          3.712,
          3.776,
          3.84,
          3.904,
          3.968,
          4.032,
          4.096,
          4.16,
          4.224,
          4.288,
          4.352,
          4.416,
          4.48,
          4.544,
          4.608,
          4.672,
          4.736,
          4.8,
          4.864,
          4.928,
          4.992,
          5.056,
          5.12,
          5.184,
          5.248,
          5.312,
          5.376,
          5.44,
          5.504,
          5.568,
          5.632,
          5.696,
          5.76,
          5.824,
          5.888,
          5.952,
          6.016,
          6.08,
          6.144,
          6.208,
          6.272,
          6.336,
          6.4,
          6.464,
          6.528,
          6.592,
          6.656,
          6.72,
          6.784,
          6.848,
          6.912,
          6.976,
          7.04,
          7.104,
          7.168,
          7.232,
          7.296,
          7.36,
          7.424,
          7.488,
          7.552,
          7.616,
          7.68,
          7.744,
          7.808,
          7.872,
          7.936,
          8,
          8.064,
          8.128,
          8.192,
          8.256,
          8.32,
          8.384,
          8.448,
          8.512,
          8.576,
          8.64,
          8.704,
          8.768,
          8.832,
          8.896,
          8.96,
          9.024,
          9.088,
          9.152,
          9.216,
          9.28,
          9.344,
          9.408,
          9.472,
          9.536,
          9.6,
          9.664,
          9.728,
          9.792,
          9.856,
          9.92,
          9.984,
          10.048,
          10.112,
          10.176,
          10.24,
          10.304,
          10.368,
          10.432,
          10.496,
          10.56,
          10.624,
          10.688,
          10.752,
          10.816,
          10.88,
          10.944,
          11.008,
          11.072,
          11.136,
          11.2,
          11.264,
          11.328,
          11.392,
          11.456,
          11.52,
          11.584,
          11.648,
          11.712,
          11.776,
          11.84,
          11.904,
          11.968,
          12.032,
          12.096,
          12.16,
          12.224,
          12.288,
          12.352,
          12.416,
          12.48,
          12.544,
          12.608,
          12.672,
          12.736,
          12.8,
          12.864,
          12.928,
          12.992,
          13.056,
          13.12,
          13.184,
          13.248,
          13.312,
          13.376,
          13.44,
          13.504,
          13.568,
          13.632,
          13.696,
          13.76,
          13.824,
          13.888,
          13.952,
          14.016,
          14.08,
          14.144,
          14.208,
          14.272,
          14.336,
          14.4,
          14.464,
          14.528,
          14.592,
          14.656,
          14.72,
          14.784,
          14.848,
          14.912,
          14.976,
          15.04,
          15.104,
          15.168,
          15.232,
          15.296,
          15.36,
          15.424,
          15.488,
          15.552,
          15.616,
          15.68,
          15.744,
          15.808,
          15.872,
          15.936,
          16,
          16.064,
          16.128,
          16.192,
          16.256,
          16.32,
          16.384,
          16.448,
          16.512,
          16.576,
          16.64,
          16.704,
          16.768,
          16.832,
          16.896,
          16.96,
          17.024,
          17.088,
          17.152,
          17.216,
          17.28,
          17.344,
          17.408,
          17.472,
          17.536,
          17.6,
          17.664,
          17.728,
          17.792,
          17.856,
          17.92,
          17.984,
          18.048,
          18.112,
          18.176,
          18.24,
          18.304,
          18.368,
          18.432,
          18.496,
          18.56,
          18.624,
          18.688,
          18.752,
          18.816,
          18.88,
          18.944,
          19.008,
          19.072,
          19.136,
          19.2,
          19.264,
          19.328,
          19.392,
          19.456,
          19.52,
          19.584,
          19.648,
          19.712,
          19.776,
          19.84,
          19.904,
          19.968,
          20.032,
          20.096,
          20.16,
          20.224,
          20.288,
          20.352,
          20.416,
          20.48,
          20.544,
          20.608,
          20.672,
          20.736,
          20.8,
          20.864,
          20.928,
          20.992,
          21.056,
          21.12,
          21.184,
          21.248,
          21.312,
          21.376,
          21.44,
          21.504,
          21.568,
          21.632,
          21.696,
          21.76,
          21.824,
          21.888,
          21.952,
          22.016,
          22.08,
          22.144,
          22.208,
          22.272,
          22.336,
          22.4,
          22.464,
          22.528,
          22.592,
          22.656,
          22.72,
          22.784,
          22.848,
          22.912,
          22.976,
          23.04,
          23.104,
          23.168,
          23.232,
          23.296,
          23.36,
          23.424,
          23.488,
          23.552,
          23.616,
          23.68,
          23.744,
          23.808,
          23.872,
          23.936,
          24,
          24.064,
          24.128,
          24.192,
          24.256,
          24.32,
          24.384,
          24.448,
          24.512,
          24.576,
          24.64,
          24.704,
          24.768,
          24.832,
          24.896,
          24.96,
          25.024,
          25.088,
          25.152,
          25.216,
          25.28,
          25.344,
          25.408,
          25.472,
          25.536,
          25.6,
          25.664,
          25.728,
          25.792,
          25.856,
          25.92,
          25.984,
          26.048,
          26.112,
          26.176,
          26.24,
          26.304,
          26.368,
          26.432,
          26.496,
          26.56,
          26.624,
          26.688,
          26.752,
          26.816,
          26.88,
          26.944,
          27.008,
          27.072,
          27.136,
          27.2,
          27.264,
          27.328,
          27.392,
          27.456,
          27.52,
          27.584,
          27.648,
          27.712,
          27.776,
          27.84,
          27.904,
          27.968,
          28.032,
          28.096,
          28.16,
          28.224,
          28.288,
          28.352,
          28.416,
          28.48,
          28.544,
          28.608,
          28.672,
          28.736,
          28.8,
          28.864,
          28.928,
          28.992,
          29.056,
          29.12,
          29.184,
          29.248,
          29.312,
          29.376,
          29.44,
          29.504,
          29.568,
          29.632,
          29.696,
          29.76,
          29.824,
          29.888,
          29.952,
          30.016,
          30.08,
          30.144,
          30.208,
          30.272,
          30.336,
          30.4,
          30.464,
          30.528,
          30.592,
          30.656,
          30.72,
          30.784,
          30.848,
          30.912,
          30.976,
          31.04,
          31.104,
          31.168,
          31.232,
          31.296,
          31.36,
          31.424,
          31.488,
          31.552,
          31.616,
          31.68,
          31.744,
          31.808,
          31.872,
          31.936
         ],
         "xaxis": "x",
         "y": {
          "bdata": "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",
          "dtype": "f8"
         },
         "yaxis": "y"
        }
       ],
       "layout": {
        "barmode": "overlay",
        "hovermode": "closest",
        "legend": {
         "traceorder": "reversed"
        },
        "template": {
         "data": {
          "bar": [
           {
            "error_x": {
             "color": "#2a3f5f"
            },
            "error_y": {
             "color": "#2a3f5f"
            },
            "marker": {
             "line": {
              "color": "#E5ECF6",
              "width": 0.5
             },
             "pattern": {
              "fillmode": "overlay",
              "size": 10,
              "solidity": 0.2
             }
            },
            "type": "bar"
           }
          ],
          "barpolar": [
           {
            "marker": {
             "line": {
              "color": "#E5ECF6",
              "width": 0.5
             },
             "pattern": {
              "fillmode": "overlay",
              "size": 10,
              "solidity": 0.2
             }
            },
            "type": "barpolar"
           }
          ],
          "carpet": [
           {
            "aaxis": {
             "endlinecolor": "#2a3f5f",
             "gridcolor": "white",
             "linecolor": "white",
             "minorgridcolor": "white",
             "startlinecolor": "#2a3f5f"
            },
            "baxis": {
             "endlinecolor": "#2a3f5f",
             "gridcolor": "white",
             "linecolor": "white",
             "minorgridcolor": "white",
             "startlinecolor": "#2a3f5f"
            },
            "type": "carpet"
           }
          ],
          "choropleth": [
           {
            "colorbar": {
             "outlinewidth": 0,
             "ticks": ""
            },
            "type": "choropleth"
           }
          ],
          "contour": [
           {
            "colorbar": {
             "outlinewidth": 0,
             "ticks": ""
            },
            "colorscale": [
             [
              0,
              "#0d0887"
             ],
             [
              0.1111111111111111,
              "#46039f"
             ],
             [
              0.2222222222222222,
              "#7201a8"
             ],
             [
              0.3333333333333333,
              "#9c179e"
             ],
             [
              0.4444444444444444,
              "#bd3786"
             ],
             [
              0.5555555555555556,
              "#d8576b"
             ],
             [
              0.6666666666666666,
              "#ed7953"
             ],
             [
              0.7777777777777778,
              "#fb9f3a"
             ],
             [
              0.8888888888888888,
              "#fdca26"
             ],
             [
              1,
              "#f0f921"
             ]
            ],
            "type": "contour"
           }
          ],
          "contourcarpet": [
           {
            "colorbar": {
             "outlinewidth": 0,
             "ticks": ""
            },
            "type": "contourcarpet"
           }
          ],
          "heatmap": [
           {
            "colorbar": {
             "outlinewidth": 0,
             "ticks": ""
            },
            "colorscale": [
             [
              0,
              "#0d0887"
             ],
             [
              0.1111111111111111,
              "#46039f"
             ],
             [
              0.2222222222222222,
              "#7201a8"
             ],
             [
              0.3333333333333333,
              "#9c179e"
             ],
             [
              0.4444444444444444,
              "#bd3786"
             ],
             [
              0.5555555555555556,
              "#d8576b"
             ],
             [
              0.6666666666666666,
              "#ed7953"
             ],
             [
              0.7777777777777778,
              "#fb9f3a"
             ],
             [
              0.8888888888888888,
              "#fdca26"
             ],
             [
              1,
              "#f0f921"
             ]
            ],
            "type": "heatmap"
           }
          ],
          "histogram": [
           {
            "marker": {
             "pattern": {
              "fillmode": "overlay",
              "size": 10,
              "solidity": 0.2
             }
            },
            "type": "histogram"
           }
          ],
          "histogram2d": [
           {
            "colorbar": {
             "outlinewidth": 0,
             "ticks": ""
            },
            "colorscale": [
             [
              0,
              "#0d0887"
             ],
             [
              0.1111111111111111,
              "#46039f"
             ],
             [
              0.2222222222222222,
              "#7201a8"
             ],
             [
              0.3333333333333333,
              "#9c179e"
             ],
             [
              0.4444444444444444,
              "#bd3786"
             ],
             [
              0.5555555555555556,
              "#d8576b"
             ],
             [
              0.6666666666666666,
              "#ed7953"
             ],
             [
              0.7777777777777778,
              "#fb9f3a"
             ],
             [
              0.8888888888888888,
              "#fdca26"
             ],
             [
              1,
              "#f0f921"
             ]
            ],
            "type": "histogram2d"
           }
          ],
          "histogram2dcontour": [
           {
            "colorbar": {
             "outlinewidth": 0,
             "ticks": ""
            },
            "colorscale": [
             [
              0,
              "#0d0887"
             ],
             [
              0.1111111111111111,
              "#46039f"
             ],
             [
              0.2222222222222222,
              "#7201a8"
             ],
             [
              0.3333333333333333,
              "#9c179e"
             ],
             [
              0.4444444444444444,
              "#bd3786"
             ],
             [
              0.5555555555555556,
              "#d8576b"
             ],
             [
              0.6666666666666666,
              "#ed7953"
             ],
             [
              0.7777777777777778,
              "#fb9f3a"
             ],
             [
              0.8888888888888888,
              "#fdca26"
             ],
             [
              1,
              "#f0f921"
             ]
            ],
            "type": "histogram2dcontour"
           }
          ],
          "mesh3d": [
           {
            "colorbar": {
             "outlinewidth": 0,
             "ticks": ""
            },
            "type": "mesh3d"
           }
          ],
          "parcoords": [
           {
            "line": {
             "colorbar": {
              "outlinewidth": 0,
              "ticks": ""
             }
            },
            "type": "parcoords"
           }
          ],
          "pie": [
           {
            "automargin": true,
            "type": "pie"
           }
          ],
          "scatter": [
           {
            "fillpattern": {
             "fillmode": "overlay",
             "size": 10,
             "solidity": 0.2
            },
            "type": "scatter"
           }
          ],
          "scatter3d": [
           {
            "line": {
             "colorbar": {
              "outlinewidth": 0,
              "ticks": ""
             }
            },
            "marker": {
             "colorbar": {
              "outlinewidth": 0,
              "ticks": ""
             }
            },
            "type": "scatter3d"
           }
          ],
          "scattercarpet": [
           {
            "marker": {
             "colorbar": {
              "outlinewidth": 0,
              "ticks": ""
             }
            },
            "type": "scattercarpet"
           }
          ],
          "scattergeo": [
           {
            "marker": {
             "colorbar": {
              "outlinewidth": 0,
              "ticks": ""
             }
            },
            "type": "scattergeo"
           }
          ],
          "scattergl": [
           {
            "marker": {
             "colorbar": {
              "outlinewidth": 0,
              "ticks": ""
             }
            },
            "type": "scattergl"
           }
          ],
          "scattermap": [
           {
            "marker": {
             "colorbar": {
              "outlinewidth": 0,
              "ticks": ""
             }
            },
            "type": "scattermap"
           }
          ],
          "scattermapbox": [
           {
            "marker": {
             "colorbar": {
              "outlinewidth": 0,
              "ticks": ""
             }
            },
            "type": "scattermapbox"
           }
          ],
          "scatterpolar": [
           {
            "marker": {
             "colorbar": {
              "outlinewidth": 0,
              "ticks": ""
             }
            },
            "type": "scatterpolar"
           }
          ],
          "scatterpolargl": [
           {
            "marker": {
             "colorbar": {
              "outlinewidth": 0,
              "ticks": ""
             }
            },
            "type": "scatterpolargl"
           }
          ],
          "scatterternary": [
           {
            "marker": {
             "colorbar": {
              "outlinewidth": 0,
              "ticks": ""
             }
            },
            "type": "scatterternary"
           }
          ],
          "surface": [
           {
            "colorbar": {
             "outlinewidth": 0,
             "ticks": ""
            },
            "colorscale": [
             [
              0,
              "#0d0887"
             ],
             [
              0.1111111111111111,
              "#46039f"
             ],
             [
              0.2222222222222222,
              "#7201a8"
             ],
             [
              0.3333333333333333,
              "#9c179e"
             ],
             [
              0.4444444444444444,
              "#bd3786"
             ],
             [
              0.5555555555555556,
              "#d8576b"
             ],
             [
              0.6666666666666666,
              "#ed7953"
             ],
             [
              0.7777777777777778,
              "#fb9f3a"
             ],
             [
              0.8888888888888888,
              "#fdca26"
             ],
             [
              1,
              "#f0f921"
             ]
            ],
            "type": "surface"
           }
          ],
          "table": [
           {
            "cells": {
             "fill": {
              "color": "#EBF0F8"
             },
             "line": {
              "color": "white"
             }
            },
            "header": {
             "fill": {
              "color": "#C8D4E3"
             },
             "line": {
              "color": "white"
             }
            },
            "type": "table"
           }
          ]
         },
         "layout": {
          "annotationdefaults": {
           "arrowcolor": "#2a3f5f",
           "arrowhead": 0,
           "arrowwidth": 1
          },
          "autotypenumbers": "strict",
          "coloraxis": {
           "colorbar": {
            "outlinewidth": 0,
            "ticks": ""
           }
          },
          "colorscale": {
           "diverging": [
            [
             0,
             "#8e0152"
            ],
            [
             0.1,
             "#c51b7d"
            ],
            [
             0.2,
             "#de77ae"
            ],
            [
             0.3,
             "#f1b6da"
            ],
            [
             0.4,
             "#fde0ef"
            ],
            [
             0.5,
             "#f7f7f7"
            ],
            [
             0.6,
             "#e6f5d0"
            ],
            [
             0.7,
             "#b8e186"
            ],
            [
             0.8,
             "#7fbc41"
            ],
            [
             0.9,
             "#4d9221"
            ],
            [
             1,
             "#276419"
            ]
           ],
           "sequential": [
            [
             0,
             "#0d0887"
            ],
            [
             0.1111111111111111,
             "#46039f"
            ],
            [
             0.2222222222222222,
             "#7201a8"
            ],
            [
             0.3333333333333333,
             "#9c179e"
            ],
            [
             0.4444444444444444,
             "#bd3786"
            ],
            [
             0.5555555555555556,
             "#d8576b"
            ],
            [
             0.6666666666666666,
             "#ed7953"
            ],
            [
             0.7777777777777778,
             "#fb9f3a"
            ],
            [
             0.8888888888888888,
             "#fdca26"
            ],
            [
             1,
             "#f0f921"
            ]
           ],
           "sequentialminus": [
            [
             0,
             "#0d0887"
            ],
            [
             0.1111111111111111,
             "#46039f"
            ],
            [
             0.2222222222222222,
             "#7201a8"
            ],
            [
             0.3333333333333333,
             "#9c179e"
            ],
            [
             0.4444444444444444,
             "#bd3786"
            ],
            [
             0.5555555555555556,
             "#d8576b"
            ],
            [
             0.6666666666666666,
             "#ed7953"
            ],
            [
             0.7777777777777778,
             "#fb9f3a"
            ],
            [
             0.8888888888888888,
             "#fdca26"
            ],
            [
             1,
             "#f0f921"
            ]
           ]
          },
          "colorway": [
           "#636efa",
           "#EF553B",
           "#00cc96",
           "#ab63fa",
           "#FFA15A",
           "#19d3f3",
           "#FF6692",
           "#B6E880",
           "#FF97FF",
           "#FECB52"
          ],
          "font": {
           "color": "#2a3f5f"
          },
          "geo": {
           "bgcolor": "white",
           "lakecolor": "white",
           "landcolor": "#E5ECF6",
           "showlakes": true,
           "showland": true,
           "subunitcolor": "white"
          },
          "hoverlabel": {
           "align": "left"
          },
          "hovermode": "closest",
          "mapbox": {
           "style": "light"
          },
          "paper_bgcolor": "white",
          "plot_bgcolor": "#E5ECF6",
          "polar": {
           "angularaxis": {
            "gridcolor": "white",
            "linecolor": "white",
            "ticks": ""
           },
           "bgcolor": "#E5ECF6",
           "radialaxis": {
            "gridcolor": "white",
            "linecolor": "white",
            "ticks": ""
           }
          },
          "scene": {
           "xaxis": {
            "backgroundcolor": "#E5ECF6",
            "gridcolor": "white",
            "gridwidth": 2,
            "linecolor": "white",
            "showbackground": true,
            "ticks": "",
            "zerolinecolor": "white"
           },
           "yaxis": {
            "backgroundcolor": "#E5ECF6",
            "gridcolor": "white",
            "gridwidth": 2,
            "linecolor": "white",
            "showbackground": true,
            "ticks": "",
            "zerolinecolor": "white"
           },
           "zaxis": {
            "backgroundcolor": "#E5ECF6",
            "gridcolor": "white",
            "gridwidth": 2,
            "linecolor": "white",
            "showbackground": true,
            "ticks": "",
            "zerolinecolor": "white"
           }
          },
          "shapedefaults": {
           "line": {
            "color": "#2a3f5f"
           }
          },
          "ternary": {
           "aaxis": {
            "gridcolor": "white",
            "linecolor": "white",
            "ticks": ""
           },
           "baxis": {
            "gridcolor": "white",
            "linecolor": "white",
            "ticks": ""
           },
           "bgcolor": "#E5ECF6",
           "caxis": {
            "gridcolor": "white",
            "linecolor": "white",
            "ticks": ""
           }
          },
          "title": {
           "x": 0.05
          },
          "xaxis": {
           "automargin": true,
           "gridcolor": "white",
           "linecolor": "white",
           "ticks": "",
           "title": {
            "standoff": 15
           },
           "zerolinecolor": "white",
           "zerolinewidth": 2
          },
          "yaxis": {
           "automargin": true,
           "gridcolor": "white",
           "linecolor": "white",
           "ticks": "",
           "title": {
            "standoff": 15
           },
           "zerolinecolor": "white",
           "zerolinewidth": 2
          }
         }
        },
        "title": {
         "text": "KDE Plot for Feature: K"
        },
        "xaxis": {
         "anchor": "y2",
         "domain": [
          0,
          1
         ],
         "zeroline": false
        },
        "yaxis": {
         "anchor": "free",
         "domain": [
          0,
          1
         ],
         "position": 0
        }
       }
      }
     },
     "metadata": {},
     "output_type": "display_data"
    }
   ],
   "source": [
    "top_features = feature_importance['Feature'].head(3).tolist()\n",
    "\n",
    "# Prepare KDEs for each class\n",
    "for feature in top_features:\n",
    "    class_values = []\n",
    "    class_names = []\n",
    "\n",
    "    for label in y.unique():\n",
    "        class_values.append(df[df['label_encoded'] == label][feature])\n",
    "        class_names.append(str(label))\n",
    "    \n",
    "    fig = ff.create_distplot(class_values, class_names, show_hist=False, show_rug=False)\n",
    "    fig.update_layout(title=f\"KDE Plot for Feature: {feature}\")\n",
    "    fig.show()"
   ]
  },
  {
   "cell_type": "markdown",
   "id": "99535739",
   "metadata": {},
   "source": [
    "## Artificial Neural Network"
   ]
  },
  {
   "cell_type": "markdown",
   "id": "234092b3",
   "metadata": {},
   "source": [
    "## Load and Preprocess the Dataset"
   ]
  },
  {
   "cell_type": "code",
   "execution_count": 40,
   "id": "95056525",
   "metadata": {},
   "outputs": [
    {
     "data": {
      "text/html": [
       "<div>\n",
       "<style scoped>\n",
       "    .dataframe tbody tr th:only-of-type {\n",
       "        vertical-align: middle;\n",
       "    }\n",
       "\n",
       "    .dataframe tbody tr th {\n",
       "        vertical-align: top;\n",
       "    }\n",
       "\n",
       "    .dataframe thead th {\n",
       "        text-align: right;\n",
       "    }\n",
       "</style>\n",
       "<table border=\"1\" class=\"dataframe\">\n",
       "  <thead>\n",
       "    <tr style=\"text-align: right;\">\n",
       "      <th></th>\n",
       "      <th>A</th>\n",
       "      <th>C</th>\n",
       "      <th>D</th>\n",
       "      <th>E</th>\n",
       "      <th>F</th>\n",
       "      <th>G</th>\n",
       "      <th>H</th>\n",
       "      <th>I</th>\n",
       "      <th>K</th>\n",
       "      <th>L</th>\n",
       "      <th>...</th>\n",
       "      <th>P</th>\n",
       "      <th>Q</th>\n",
       "      <th>R</th>\n",
       "      <th>S</th>\n",
       "      <th>T</th>\n",
       "      <th>V</th>\n",
       "      <th>W</th>\n",
       "      <th>Y</th>\n",
       "      <th>Sequence_Length</th>\n",
       "      <th>label_encoded</th>\n",
       "    </tr>\n",
       "  </thead>\n",
       "  <tbody>\n",
       "    <tr>\n",
       "      <th>0</th>\n",
       "      <td>3</td>\n",
       "      <td>0</td>\n",
       "      <td>0</td>\n",
       "      <td>1</td>\n",
       "      <td>3</td>\n",
       "      <td>1</td>\n",
       "      <td>0</td>\n",
       "      <td>2</td>\n",
       "      <td>0</td>\n",
       "      <td>9</td>\n",
       "      <td>...</td>\n",
       "      <td>0</td>\n",
       "      <td>0</td>\n",
       "      <td>1</td>\n",
       "      <td>1</td>\n",
       "      <td>4</td>\n",
       "      <td>5</td>\n",
       "      <td>0</td>\n",
       "      <td>0</td>\n",
       "      <td>31</td>\n",
       "      <td>0</td>\n",
       "    </tr>\n",
       "    <tr>\n",
       "      <th>1</th>\n",
       "      <td>3</td>\n",
       "      <td>0</td>\n",
       "      <td>0</td>\n",
       "      <td>1</td>\n",
       "      <td>3</td>\n",
       "      <td>1</td>\n",
       "      <td>0</td>\n",
       "      <td>2</td>\n",
       "      <td>0</td>\n",
       "      <td>9</td>\n",
       "      <td>...</td>\n",
       "      <td>0</td>\n",
       "      <td>0</td>\n",
       "      <td>1</td>\n",
       "      <td>1</td>\n",
       "      <td>4</td>\n",
       "      <td>5</td>\n",
       "      <td>0</td>\n",
       "      <td>0</td>\n",
       "      <td>31</td>\n",
       "      <td>0</td>\n",
       "    </tr>\n",
       "    <tr>\n",
       "      <th>2</th>\n",
       "      <td>3</td>\n",
       "      <td>0</td>\n",
       "      <td>0</td>\n",
       "      <td>1</td>\n",
       "      <td>3</td>\n",
       "      <td>1</td>\n",
       "      <td>0</td>\n",
       "      <td>2</td>\n",
       "      <td>0</td>\n",
       "      <td>9</td>\n",
       "      <td>...</td>\n",
       "      <td>0</td>\n",
       "      <td>0</td>\n",
       "      <td>1</td>\n",
       "      <td>1</td>\n",
       "      <td>4</td>\n",
       "      <td>5</td>\n",
       "      <td>0</td>\n",
       "      <td>0</td>\n",
       "      <td>31</td>\n",
       "      <td>0</td>\n",
       "    </tr>\n",
       "    <tr>\n",
       "      <th>3</th>\n",
       "      <td>3</td>\n",
       "      <td>0</td>\n",
       "      <td>0</td>\n",
       "      <td>1</td>\n",
       "      <td>3</td>\n",
       "      <td>1</td>\n",
       "      <td>0</td>\n",
       "      <td>2</td>\n",
       "      <td>0</td>\n",
       "      <td>9</td>\n",
       "      <td>...</td>\n",
       "      <td>0</td>\n",
       "      <td>0</td>\n",
       "      <td>1</td>\n",
       "      <td>1</td>\n",
       "      <td>4</td>\n",
       "      <td>5</td>\n",
       "      <td>0</td>\n",
       "      <td>0</td>\n",
       "      <td>31</td>\n",
       "      <td>0</td>\n",
       "    </tr>\n",
       "    <tr>\n",
       "      <th>4</th>\n",
       "      <td>3</td>\n",
       "      <td>0</td>\n",
       "      <td>0</td>\n",
       "      <td>1</td>\n",
       "      <td>3</td>\n",
       "      <td>1</td>\n",
       "      <td>0</td>\n",
       "      <td>2</td>\n",
       "      <td>0</td>\n",
       "      <td>9</td>\n",
       "      <td>...</td>\n",
       "      <td>0</td>\n",
       "      <td>0</td>\n",
       "      <td>1</td>\n",
       "      <td>1</td>\n",
       "      <td>4</td>\n",
       "      <td>5</td>\n",
       "      <td>0</td>\n",
       "      <td>0</td>\n",
       "      <td>31</td>\n",
       "      <td>0</td>\n",
       "    </tr>\n",
       "  </tbody>\n",
       "</table>\n",
       "<p>5 rows × 22 columns</p>\n",
       "</div>"
      ],
      "text/plain": [
       "   A  C  D  E  F  G  H  I  K  L  ...  P  Q  R  S  T  V  W  Y  Sequence_Length  \\\n",
       "0  3  0  0  1  3  1  0  2  0  9  ...  0  0  1  1  4  5  0  0               31   \n",
       "1  3  0  0  1  3  1  0  2  0  9  ...  0  0  1  1  4  5  0  0               31   \n",
       "2  3  0  0  1  3  1  0  2  0  9  ...  0  0  1  1  4  5  0  0               31   \n",
       "3  3  0  0  1  3  1  0  2  0  9  ...  0  0  1  1  4  5  0  0               31   \n",
       "4  3  0  0  1  3  1  0  2  0  9  ...  0  0  1  1  4  5  0  0               31   \n",
       "\n",
       "   label_encoded  \n",
       "0              0  \n",
       "1              0  \n",
       "2              0  \n",
       "3              0  \n",
       "4              0  \n",
       "\n",
       "[5 rows x 22 columns]"
      ]
     },
     "execution_count": 40,
     "metadata": {},
     "output_type": "execute_result"
    }
   ],
   "source": [
    "csv_path = r\"../genome_sequences_cleaned.csv\"\n",
    "df = pd.read_csv(csv_path)\n",
    "\n",
    "# Display first few rows to confirm loading\n",
    "df.head()"
   ]
  },
  {
   "cell_type": "markdown",
   "id": "56733651",
   "metadata": {},
   "source": [
    "## Split Data into Features and Target"
   ]
  },
  {
   "cell_type": "code",
   "execution_count": 42,
   "id": "853f059c",
   "metadata": {},
   "outputs": [],
   "source": [
    "# Features: A-Z + Sequence_Length\n",
    "X = df.drop(columns=['label_encoded'])\n",
    "y = df['label_encoded']\n",
    "\n",
    "# Train-test split\n",
    "X_train, X_test, y_train, y_test = train_test_split(X, y, test_size=0.2, random_state=42, stratify=y)"
   ]
  },
  {
   "cell_type": "markdown",
   "id": "5f174751",
   "metadata": {},
   "source": [
    "## Train ANN"
   ]
  },
  {
   "cell_type": "code",
   "execution_count": null,
   "id": "4f452f7b",
   "metadata": {},
   "outputs": [],
   "source": [
    "ANN_model = Sequential([\n",
    "    Dense(10, activation='relu', input_shape=(X_train.shape[1],)),\n",
    "    Dense(10, activation='relu'),\n",
    "    Dense(3, activation='softmax')  # 3 classes in Iris\n",
    "])\n",
    "\n",
    "# Compile model\n",
    "ANN_model.compile(optimizer='adam', loss='categorical_crossentropy', metrics=['accuracy'])\n",
    "\n",
    "# Train model\n",
    "history = ANN_model.fit(X_train, y_train, epochs=100, batch_size=8, verbose=0)"
   ]
  },
  {
   "cell_type": "markdown",
   "id": "1c0c59d8",
   "metadata": {},
   "source": [
    "## Evaluation Metrics"
   ]
  },
  {
   "cell_type": "code",
   "execution_count": null,
   "id": "4b36e187",
   "metadata": {},
   "outputs": [],
   "source": [
    "# Evaluate model\n",
    "loss, accuracy = ANN_model.evaluate(X_test, y_test, verbose=0)\n",
    "print(f\"Test Accuracy: {accuracy:.4f}\")\n",
    "\n",
    "# Predict on test set\n",
    "y_pred_probs = ANN_model.predict(X_test)\n",
    "y_pred = np.argmax(y_pred_probs, axis=1)\n",
    "y_true = np.argmax(y_test, axis=1)\n",
    "\n",
    "# Classification Report\n",
    "print(\"\\nClassification Report:\")\n",
    "print(classification_report(y_true, y_pred, target_names=df.target_names))"
   ]
  },
  {
   "cell_type": "markdown",
   "id": "89c3fb02",
   "metadata": {},
   "source": [
    "## Confusion Matrix Plot"
   ]
  },
  {
   "cell_type": "code",
   "execution_count": null,
   "id": "bce51354",
   "metadata": {},
   "outputs": [],
   "source": [
    "cm = confusion_matrix(y_true, y_pred)\n",
    "labels = [f\"Class {i}\" for i in np.unique(y_true)]\n",
    "\n",
    "fig_cm = ff.create_annotated_heatmap(\n",
    "    z=cm,\n",
    "    x=[f\"Predicted {l}\" for l in labels],\n",
    "    y=[f\"Actual {l}\" for l in labels],\n",
    "    colorscale='Viridis'\n",
    ")\n",
    "fig_cm.update_layout(title_text='Confusion Matrix', margin=dict(t=50, l=100))\n",
    "fig_cm.show()"
   ]
  },
  {
   "cell_type": "markdown",
   "id": "7665bf05",
   "metadata": {},
   "source": [
    "## Feature Importance Plot"
   ]
  },
  {
   "cell_type": "code",
   "execution_count": null,
   "id": "1a321e11",
   "metadata": {},
   "outputs": [],
   "source": [
    "class ANNWrapper(BaseEstimator, ClassifierMixin):\n",
    "    def __init__(self, model):\n",
    "        self.model = model\n",
    "    \n",
    "    def fit(self, X, y): return self\n",
    "    def predict(self, X):\n",
    "        return np.argmax(self.model.predict(X), axis=1)\n",
    "\n",
    "# Wrap your model\n",
    "wrapped_model = ANNWrapper(ANN_model)\n",
    "result = permutation_importance(wrapped_model, X_test, y_true, n_repeats=10, random_state=42)\n",
    "\n",
    "# Plot\n",
    "feat_names = [f\"Feature {i}\" for i in range(X_test.shape[1])]\n",
    "fig_imp = px.bar(\n",
    "    x=result.importances_mean,\n",
    "    y=feat_names,\n",
    "    orientation='h',\n",
    "    labels={'x': 'Importance', 'y': 'Feature'},\n",
    "    title='Feature Importance (Permutation)'\n",
    ")\n",
    "fig_imp.update_layout(yaxis=dict(autorange=\"reversed\"))\n",
    "fig_imp.show()\n"
   ]
  },
  {
   "cell_type": "markdown",
   "id": "2cf7e7ad",
   "metadata": {},
   "source": [
    "## KDE Plots"
   ]
  },
  {
   "cell_type": "code",
   "execution_count": null,
   "id": "5bb9733e",
   "metadata": {},
   "outputs": [],
   "source": [
    "# Convert to DataFrame for Plotly\n",
    "df_probs = pd.DataFrame(y_pred_probs, columns=[f\"Class {i}\" for i in range(y_pred_probs.shape[1])])\n",
    "df_probs['True Class'] = y_true\n",
    "\n",
    "# Melt to long format for KDE\n",
    "df_melted = df_probs.melt(id_vars='True Class', var_name='Predicted Class', value_name='Probability')\n",
    "\n",
    "# KDE plot\n",
    "fig_kde = px.violin(df_melted, x=\"Predicted Class\", y=\"Probability\", color=\"True Class\", box=True, points=\"all\",\n",
    "                    title=\"KDE of Prediction Probabilities by True Class\")\n",
    "fig_kde.show()"
   ]
  },
  {
   "cell_type": "markdown",
   "id": "a21c3917",
   "metadata": {},
   "source": [
    "### KNN Classifier"
   ]
  },
  {
   "cell_type": "code",
   "execution_count": 1,
   "id": "c9851fff",
   "metadata": {},
   "outputs": [
    {
     "name": "stdout",
     "output_type": "stream",
     "text": [
      "Accuracy: 0.98\n",
      "\n",
      "Classification Report:\n",
      "               precision    recall  f1-score   support\n",
      "\n",
      "           0       0.99      0.99      0.99      1526\n",
      "           1       0.94      0.96      0.95      1134\n",
      "           2       1.00      0.99      1.00      1961\n",
      "           3       0.96      0.94      0.95      1020\n",
      "\n",
      "    accuracy                           0.98      5641\n",
      "   macro avg       0.97      0.97      0.97      5641\n",
      "weighted avg       0.98      0.98      0.98      5641\n",
      "\n"
     ]
    }
   ],
   "source": [
    "import pandas as pd\n",
    "from sklearn.model_selection import train_test_split\n",
    "from sklearn.preprocessing import StandardScaler\n",
    "from sklearn.neighbors import KNeighborsClassifier\n",
    "from sklearn.metrics import accuracy_score, classification_report\n",
    "\n",
    "# Load the dataset\n",
    "df = pd.read_csv(\"../genome_sequences_cleaned.csv\")\n",
    "\n",
    "# Separate features and label\n",
    "X = df.drop(columns=['label_encoded'])\n",
    "y = df['label_encoded']\n",
    "\n",
    "# Split the data into training and testing sets (80% train, 20% test)\n",
    "X_train, X_test, y_train, y_test = train_test_split(X, y, test_size=0.2, random_state=42)\n",
    "\n",
    "# Normalize the features using StandardScaler\n",
    "scaler = StandardScaler()\n",
    "X_train_scaled = scaler.fit_transform(X_train)\n",
    "X_test_scaled = scaler.transform(X_test)\n",
    "\n",
    "# Initialize the KNN model (k=3, can be tuned)\n",
    "knn = KNeighborsClassifier(n_neighbors=3)\n",
    "\n",
    "# Train the KNN model\n",
    "knn.fit(X_train_scaled, y_train)\n",
    "\n",
    "# Predict on the test set\n",
    "y_pred = knn.predict(X_test_scaled)\n",
    "\n",
    "# Evaluate model performance\n",
    "accuracy = accuracy_score(y_test, y_pred)\n",
    "print(f\"Accuracy: {accuracy:.2f}\")\n",
    "print(\"\\nClassification Report:\\n\", classification_report(y_test, y_pred))\n"
   ]
  },
  {
   "cell_type": "markdown",
   "id": "2030c6fb",
   "metadata": {},
   "source": [
    "### Confusion Matrix with Plotly"
   ]
  },
  {
   "cell_type": "code",
   "execution_count": 2,
   "id": "16dfa780",
   "metadata": {},
   "outputs": [
    {
     "data": {
      "application/vnd.plotly.v1+json": {
       "config": {
        "plotlyServerURL": "https://plot.ly"
       },
       "data": [
        {
         "colorscale": [
          [
           0,
           "rgb(247,251,255)"
          ],
          [
           0.125,
           "rgb(222,235,247)"
          ],
          [
           0.25,
           "rgb(198,219,239)"
          ],
          [
           0.375,
           "rgb(158,202,225)"
          ],
          [
           0.5,
           "rgb(107,174,214)"
          ],
          [
           0.625,
           "rgb(66,146,198)"
          ],
          [
           0.75,
           "rgb(33,113,181)"
          ],
          [
           0.875,
           "rgb(8,81,156)"
          ],
          [
           1,
           "rgb(8,48,107)"
          ]
         ],
         "reversescale": false,
         "showscale": true,
         "type": "heatmap",
         "x": [
          0,
          1,
          2,
          3
         ],
         "y": [
          0,
          1,
          2,
          3
         ],
         "z": {
          "bdata": "7AUIAAAAAgATAEIEAQAYAAAAAACeBwsAAQBBAAAAugM=",
          "dtype": "i2",
          "shape": "4, 4"
         }
        }
       ],
       "layout": {
        "annotations": [
         {
          "font": {
           "color": "#FFFFFF"
          },
          "showarrow": false,
          "text": "1516",
          "x": 0,
          "xref": "x",
          "y": 0,
          "yref": "y"
         },
         {
          "font": {
           "color": "#000000"
          },
          "showarrow": false,
          "text": "8",
          "x": 1,
          "xref": "x",
          "y": 0,
          "yref": "y"
         },
         {
          "font": {
           "color": "#000000"
          },
          "showarrow": false,
          "text": "0",
          "x": 2,
          "xref": "x",
          "y": 0,
          "yref": "y"
         },
         {
          "font": {
           "color": "#000000"
          },
          "showarrow": false,
          "text": "2",
          "x": 3,
          "xref": "x",
          "y": 0,
          "yref": "y"
         },
         {
          "font": {
           "color": "#000000"
          },
          "showarrow": false,
          "text": "19",
          "x": 0,
          "xref": "x",
          "y": 1,
          "yref": "y"
         },
         {
          "font": {
           "color": "#FFFFFF"
          },
          "showarrow": false,
          "text": "1090",
          "x": 1,
          "xref": "x",
          "y": 1,
          "yref": "y"
         },
         {
          "font": {
           "color": "#000000"
          },
          "showarrow": false,
          "text": "1",
          "x": 2,
          "xref": "x",
          "y": 1,
          "yref": "y"
         },
         {
          "font": {
           "color": "#000000"
          },
          "showarrow": false,
          "text": "24",
          "x": 3,
          "xref": "x",
          "y": 1,
          "yref": "y"
         },
         {
          "font": {
           "color": "#000000"
          },
          "showarrow": false,
          "text": "0",
          "x": 0,
          "xref": "x",
          "y": 2,
          "yref": "y"
         },
         {
          "font": {
           "color": "#000000"
          },
          "showarrow": false,
          "text": "0",
          "x": 1,
          "xref": "x",
          "y": 2,
          "yref": "y"
         },
         {
          "font": {
           "color": "#FFFFFF"
          },
          "showarrow": false,
          "text": "1950",
          "x": 2,
          "xref": "x",
          "y": 2,
          "yref": "y"
         },
         {
          "font": {
           "color": "#000000"
          },
          "showarrow": false,
          "text": "11",
          "x": 3,
          "xref": "x",
          "y": 2,
          "yref": "y"
         },
         {
          "font": {
           "color": "#000000"
          },
          "showarrow": false,
          "text": "1",
          "x": 0,
          "xref": "x",
          "y": 3,
          "yref": "y"
         },
         {
          "font": {
           "color": "#000000"
          },
          "showarrow": false,
          "text": "65",
          "x": 1,
          "xref": "x",
          "y": 3,
          "yref": "y"
         },
         {
          "font": {
           "color": "#000000"
          },
          "showarrow": false,
          "text": "0",
          "x": 2,
          "xref": "x",
          "y": 3,
          "yref": "y"
         },
         {
          "font": {
           "color": "#000000"
          },
          "showarrow": false,
          "text": "954",
          "x": 3,
          "xref": "x",
          "y": 3,
          "yref": "y"
         }
        ],
        "template": {
         "data": {
          "bar": [
           {
            "error_x": {
             "color": "#2a3f5f"
            },
            "error_y": {
             "color": "#2a3f5f"
            },
            "marker": {
             "line": {
              "color": "#E5ECF6",
              "width": 0.5
             },
             "pattern": {
              "fillmode": "overlay",
              "size": 10,
              "solidity": 0.2
             }
            },
            "type": "bar"
           }
          ],
          "barpolar": [
           {
            "marker": {
             "line": {
              "color": "#E5ECF6",
              "width": 0.5
             },
             "pattern": {
              "fillmode": "overlay",
              "size": 10,
              "solidity": 0.2
             }
            },
            "type": "barpolar"
           }
          ],
          "carpet": [
           {
            "aaxis": {
             "endlinecolor": "#2a3f5f",
             "gridcolor": "white",
             "linecolor": "white",
             "minorgridcolor": "white",
             "startlinecolor": "#2a3f5f"
            },
            "baxis": {
             "endlinecolor": "#2a3f5f",
             "gridcolor": "white",
             "linecolor": "white",
             "minorgridcolor": "white",
             "startlinecolor": "#2a3f5f"
            },
            "type": "carpet"
           }
          ],
          "choropleth": [
           {
            "colorbar": {
             "outlinewidth": 0,
             "ticks": ""
            },
            "type": "choropleth"
           }
          ],
          "contour": [
           {
            "colorbar": {
             "outlinewidth": 0,
             "ticks": ""
            },
            "colorscale": [
             [
              0,
              "#0d0887"
             ],
             [
              0.1111111111111111,
              "#46039f"
             ],
             [
              0.2222222222222222,
              "#7201a8"
             ],
             [
              0.3333333333333333,
              "#9c179e"
             ],
             [
              0.4444444444444444,
              "#bd3786"
             ],
             [
              0.5555555555555556,
              "#d8576b"
             ],
             [
              0.6666666666666666,
              "#ed7953"
             ],
             [
              0.7777777777777778,
              "#fb9f3a"
             ],
             [
              0.8888888888888888,
              "#fdca26"
             ],
             [
              1,
              "#f0f921"
             ]
            ],
            "type": "contour"
           }
          ],
          "contourcarpet": [
           {
            "colorbar": {
             "outlinewidth": 0,
             "ticks": ""
            },
            "type": "contourcarpet"
           }
          ],
          "heatmap": [
           {
            "colorbar": {
             "outlinewidth": 0,
             "ticks": ""
            },
            "colorscale": [
             [
              0,
              "#0d0887"
             ],
             [
              0.1111111111111111,
              "#46039f"
             ],
             [
              0.2222222222222222,
              "#7201a8"
             ],
             [
              0.3333333333333333,
              "#9c179e"
             ],
             [
              0.4444444444444444,
              "#bd3786"
             ],
             [
              0.5555555555555556,
              "#d8576b"
             ],
             [
              0.6666666666666666,
              "#ed7953"
             ],
             [
              0.7777777777777778,
              "#fb9f3a"
             ],
             [
              0.8888888888888888,
              "#fdca26"
             ],
             [
              1,
              "#f0f921"
             ]
            ],
            "type": "heatmap"
           }
          ],
          "histogram": [
           {
            "marker": {
             "pattern": {
              "fillmode": "overlay",
              "size": 10,
              "solidity": 0.2
             }
            },
            "type": "histogram"
           }
          ],
          "histogram2d": [
           {
            "colorbar": {
             "outlinewidth": 0,
             "ticks": ""
            },
            "colorscale": [
             [
              0,
              "#0d0887"
             ],
             [
              0.1111111111111111,
              "#46039f"
             ],
             [
              0.2222222222222222,
              "#7201a8"
             ],
             [
              0.3333333333333333,
              "#9c179e"
             ],
             [
              0.4444444444444444,
              "#bd3786"
             ],
             [
              0.5555555555555556,
              "#d8576b"
             ],
             [
              0.6666666666666666,
              "#ed7953"
             ],
             [
              0.7777777777777778,
              "#fb9f3a"
             ],
             [
              0.8888888888888888,
              "#fdca26"
             ],
             [
              1,
              "#f0f921"
             ]
            ],
            "type": "histogram2d"
           }
          ],
          "histogram2dcontour": [
           {
            "colorbar": {
             "outlinewidth": 0,
             "ticks": ""
            },
            "colorscale": [
             [
              0,
              "#0d0887"
             ],
             [
              0.1111111111111111,
              "#46039f"
             ],
             [
              0.2222222222222222,
              "#7201a8"
             ],
             [
              0.3333333333333333,
              "#9c179e"
             ],
             [
              0.4444444444444444,
              "#bd3786"
             ],
             [
              0.5555555555555556,
              "#d8576b"
             ],
             [
              0.6666666666666666,
              "#ed7953"
             ],
             [
              0.7777777777777778,
              "#fb9f3a"
             ],
             [
              0.8888888888888888,
              "#fdca26"
             ],
             [
              1,
              "#f0f921"
             ]
            ],
            "type": "histogram2dcontour"
           }
          ],
          "mesh3d": [
           {
            "colorbar": {
             "outlinewidth": 0,
             "ticks": ""
            },
            "type": "mesh3d"
           }
          ],
          "parcoords": [
           {
            "line": {
             "colorbar": {
              "outlinewidth": 0,
              "ticks": ""
             }
            },
            "type": "parcoords"
           }
          ],
          "pie": [
           {
            "automargin": true,
            "type": "pie"
           }
          ],
          "scatter": [
           {
            "fillpattern": {
             "fillmode": "overlay",
             "size": 10,
             "solidity": 0.2
            },
            "type": "scatter"
           }
          ],
          "scatter3d": [
           {
            "line": {
             "colorbar": {
              "outlinewidth": 0,
              "ticks": ""
             }
            },
            "marker": {
             "colorbar": {
              "outlinewidth": 0,
              "ticks": ""
             }
            },
            "type": "scatter3d"
           }
          ],
          "scattercarpet": [
           {
            "marker": {
             "colorbar": {
              "outlinewidth": 0,
              "ticks": ""
             }
            },
            "type": "scattercarpet"
           }
          ],
          "scattergeo": [
           {
            "marker": {
             "colorbar": {
              "outlinewidth": 0,
              "ticks": ""
             }
            },
            "type": "scattergeo"
           }
          ],
          "scattergl": [
           {
            "marker": {
             "colorbar": {
              "outlinewidth": 0,
              "ticks": ""
             }
            },
            "type": "scattergl"
           }
          ],
          "scattermap": [
           {
            "marker": {
             "colorbar": {
              "outlinewidth": 0,
              "ticks": ""
             }
            },
            "type": "scattermap"
           }
          ],
          "scattermapbox": [
           {
            "marker": {
             "colorbar": {
              "outlinewidth": 0,
              "ticks": ""
             }
            },
            "type": "scattermapbox"
           }
          ],
          "scatterpolar": [
           {
            "marker": {
             "colorbar": {
              "outlinewidth": 0,
              "ticks": ""
             }
            },
            "type": "scatterpolar"
           }
          ],
          "scatterpolargl": [
           {
            "marker": {
             "colorbar": {
              "outlinewidth": 0,
              "ticks": ""
             }
            },
            "type": "scatterpolargl"
           }
          ],
          "scatterternary": [
           {
            "marker": {
             "colorbar": {
              "outlinewidth": 0,
              "ticks": ""
             }
            },
            "type": "scatterternary"
           }
          ],
          "surface": [
           {
            "colorbar": {
             "outlinewidth": 0,
             "ticks": ""
            },
            "colorscale": [
             [
              0,
              "#0d0887"
             ],
             [
              0.1111111111111111,
              "#46039f"
             ],
             [
              0.2222222222222222,
              "#7201a8"
             ],
             [
              0.3333333333333333,
              "#9c179e"
             ],
             [
              0.4444444444444444,
              "#bd3786"
             ],
             [
              0.5555555555555556,
              "#d8576b"
             ],
             [
              0.6666666666666666,
              "#ed7953"
             ],
             [
              0.7777777777777778,
              "#fb9f3a"
             ],
             [
              0.8888888888888888,
              "#fdca26"
             ],
             [
              1,
              "#f0f921"
             ]
            ],
            "type": "surface"
           }
          ],
          "table": [
           {
            "cells": {
             "fill": {
              "color": "#EBF0F8"
             },
             "line": {
              "color": "white"
             }
            },
            "header": {
             "fill": {
              "color": "#C8D4E3"
             },
             "line": {
              "color": "white"
             }
            },
            "type": "table"
           }
          ]
         },
         "layout": {
          "annotationdefaults": {
           "arrowcolor": "#2a3f5f",
           "arrowhead": 0,
           "arrowwidth": 1
          },
          "autotypenumbers": "strict",
          "coloraxis": {
           "colorbar": {
            "outlinewidth": 0,
            "ticks": ""
           }
          },
          "colorscale": {
           "diverging": [
            [
             0,
             "#8e0152"
            ],
            [
             0.1,
             "#c51b7d"
            ],
            [
             0.2,
             "#de77ae"
            ],
            [
             0.3,
             "#f1b6da"
            ],
            [
             0.4,
             "#fde0ef"
            ],
            [
             0.5,
             "#f7f7f7"
            ],
            [
             0.6,
             "#e6f5d0"
            ],
            [
             0.7,
             "#b8e186"
            ],
            [
             0.8,
             "#7fbc41"
            ],
            [
             0.9,
             "#4d9221"
            ],
            [
             1,
             "#276419"
            ]
           ],
           "sequential": [
            [
             0,
             "#0d0887"
            ],
            [
             0.1111111111111111,
             "#46039f"
            ],
            [
             0.2222222222222222,
             "#7201a8"
            ],
            [
             0.3333333333333333,
             "#9c179e"
            ],
            [
             0.4444444444444444,
             "#bd3786"
            ],
            [
             0.5555555555555556,
             "#d8576b"
            ],
            [
             0.6666666666666666,
             "#ed7953"
            ],
            [
             0.7777777777777778,
             "#fb9f3a"
            ],
            [
             0.8888888888888888,
             "#fdca26"
            ],
            [
             1,
             "#f0f921"
            ]
           ],
           "sequentialminus": [
            [
             0,
             "#0d0887"
            ],
            [
             0.1111111111111111,
             "#46039f"
            ],
            [
             0.2222222222222222,
             "#7201a8"
            ],
            [
             0.3333333333333333,
             "#9c179e"
            ],
            [
             0.4444444444444444,
             "#bd3786"
            ],
            [
             0.5555555555555556,
             "#d8576b"
            ],
            [
             0.6666666666666666,
             "#ed7953"
            ],
            [
             0.7777777777777778,
             "#fb9f3a"
            ],
            [
             0.8888888888888888,
             "#fdca26"
            ],
            [
             1,
             "#f0f921"
            ]
           ]
          },
          "colorway": [
           "#636efa",
           "#EF553B",
           "#00cc96",
           "#ab63fa",
           "#FFA15A",
           "#19d3f3",
           "#FF6692",
           "#B6E880",
           "#FF97FF",
           "#FECB52"
          ],
          "font": {
           "color": "#2a3f5f"
          },
          "geo": {
           "bgcolor": "white",
           "lakecolor": "white",
           "landcolor": "#E5ECF6",
           "showlakes": true,
           "showland": true,
           "subunitcolor": "white"
          },
          "hoverlabel": {
           "align": "left"
          },
          "hovermode": "closest",
          "mapbox": {
           "style": "light"
          },
          "paper_bgcolor": "white",
          "plot_bgcolor": "#E5ECF6",
          "polar": {
           "angularaxis": {
            "gridcolor": "white",
            "linecolor": "white",
            "ticks": ""
           },
           "bgcolor": "#E5ECF6",
           "radialaxis": {
            "gridcolor": "white",
            "linecolor": "white",
            "ticks": ""
           }
          },
          "scene": {
           "xaxis": {
            "backgroundcolor": "#E5ECF6",
            "gridcolor": "white",
            "gridwidth": 2,
            "linecolor": "white",
            "showbackground": true,
            "ticks": "",
            "zerolinecolor": "white"
           },
           "yaxis": {
            "backgroundcolor": "#E5ECF6",
            "gridcolor": "white",
            "gridwidth": 2,
            "linecolor": "white",
            "showbackground": true,
            "ticks": "",
            "zerolinecolor": "white"
           },
           "zaxis": {
            "backgroundcolor": "#E5ECF6",
            "gridcolor": "white",
            "gridwidth": 2,
            "linecolor": "white",
            "showbackground": true,
            "ticks": "",
            "zerolinecolor": "white"
           }
          },
          "shapedefaults": {
           "line": {
            "color": "#2a3f5f"
           }
          },
          "ternary": {
           "aaxis": {
            "gridcolor": "white",
            "linecolor": "white",
            "ticks": ""
           },
           "baxis": {
            "gridcolor": "white",
            "linecolor": "white",
            "ticks": ""
           },
           "bgcolor": "#E5ECF6",
           "caxis": {
            "gridcolor": "white",
            "linecolor": "white",
            "ticks": ""
           }
          },
          "title": {
           "x": 0.05
          },
          "xaxis": {
           "automargin": true,
           "gridcolor": "white",
           "linecolor": "white",
           "ticks": "",
           "title": {
            "standoff": 15
           },
           "zerolinecolor": "white",
           "zerolinewidth": 2
          },
          "yaxis": {
           "automargin": true,
           "gridcolor": "white",
           "linecolor": "white",
           "ticks": "",
           "title": {
            "standoff": 15
           },
           "zerolinecolor": "white",
           "zerolinewidth": 2
          }
         }
        },
        "title": {
         "text": "Confusion Matrix - KNN Classifier"
        },
        "xaxis": {
         "dtick": 1,
         "gridcolor": "rgb(0, 0, 0)",
         "side": "top",
         "ticks": "",
         "title": {
          "text": "Predicted Label"
         }
        },
        "yaxis": {
         "dtick": 1,
         "ticks": "",
         "ticksuffix": "  ",
         "title": {
          "text": "True Label"
         }
        }
       }
      }
     },
     "metadata": {},
     "output_type": "display_data"
    }
   ],
   "source": [
    "import plotly.figure_factory as ff\n",
    "from sklearn.metrics import confusion_matrix\n",
    "import pandas as pd\n",
    "\n",
    "cm = confusion_matrix(y_test, y_pred)\n",
    "cm_df = pd.DataFrame(cm, index=sorted(y.unique()), columns=sorted(y.unique()))\n",
    "\n",
    "fig = ff.create_annotated_heatmap(\n",
    "    z=cm_df.values,\n",
    "    x=cm_df.columns.tolist(),\n",
    "    y=cm_df.index.tolist(),\n",
    "    colorscale='Blues',\n",
    "    annotation_text=cm_df.values.astype(str),\n",
    "    showscale=True\n",
    ")\n",
    "\n",
    "fig.update_layout(\n",
    "    title='Confusion Matrix - KNN Classifier',\n",
    "    xaxis_title='Predicted Label',\n",
    "    yaxis_title='True Label'\n",
    ")\n",
    "fig.show()\n"
   ]
  },
  {
   "cell_type": "markdown",
   "id": "cf5b6a1c",
   "metadata": {},
   "source": [
    "### Feature Importance (Permutation Method)"
   ]
  },
  {
   "cell_type": "code",
   "execution_count": 3,
   "id": "0b44ae9c",
   "metadata": {},
   "outputs": [
    {
     "data": {
      "application/vnd.plotly.v1+json": {
       "config": {
        "plotlyServerURL": "https://plot.ly"
       },
       "data": [
        {
         "hovertemplate": "Feature=%{x}<br>Importance=%{y}<extra></extra>",
         "legendgroup": "",
         "marker": {
          "color": "#636efa",
          "pattern": {
           "shape": ""
          }
         },
         "name": "",
         "orientation": "v",
         "showlegend": false,
         "textposition": "auto",
         "type": "bar",
         "x": [
          "E",
          "T",
          "Y",
          "H",
          "S",
          "V",
          "I",
          "W",
          "M",
          "G",
          "D",
          "F",
          "K",
          "N",
          "L",
          "A",
          "C",
          "R",
          "P",
          "Q",
          "Sequence_Length"
         ],
         "xaxis": "x",
         "y": {
          "bdata": "v/VR4p1hwT96pHMH12m/PyKCW9YbObw/rXMYolEWuT/ekKPn6/24PwLkYKE8iLY/dSbECXzWtT+V8SiFFdG0P6GLLb4j1rM/VWRaHZYZsT8d0e8y5DKtPx1c8aAs16k/hvM6xVZIpj/eVnt3ZK+kP94oraIRraQ/XaErva58oz8I00uWNbCiP0Z7jiYINps/NgHs5tZvlj8tjAQXeDWBPw3tWzDwxXA/",
          "dtype": "f8"
         },
         "yaxis": "y"
        }
       ],
       "layout": {
        "barmode": "relative",
        "legend": {
         "tracegroupgap": 0
        },
        "template": {
         "data": {
          "bar": [
           {
            "error_x": {
             "color": "#2a3f5f"
            },
            "error_y": {
             "color": "#2a3f5f"
            },
            "marker": {
             "line": {
              "color": "#E5ECF6",
              "width": 0.5
             },
             "pattern": {
              "fillmode": "overlay",
              "size": 10,
              "solidity": 0.2
             }
            },
            "type": "bar"
           }
          ],
          "barpolar": [
           {
            "marker": {
             "line": {
              "color": "#E5ECF6",
              "width": 0.5
             },
             "pattern": {
              "fillmode": "overlay",
              "size": 10,
              "solidity": 0.2
             }
            },
            "type": "barpolar"
           }
          ],
          "carpet": [
           {
            "aaxis": {
             "endlinecolor": "#2a3f5f",
             "gridcolor": "white",
             "linecolor": "white",
             "minorgridcolor": "white",
             "startlinecolor": "#2a3f5f"
            },
            "baxis": {
             "endlinecolor": "#2a3f5f",
             "gridcolor": "white",
             "linecolor": "white",
             "minorgridcolor": "white",
             "startlinecolor": "#2a3f5f"
            },
            "type": "carpet"
           }
          ],
          "choropleth": [
           {
            "colorbar": {
             "outlinewidth": 0,
             "ticks": ""
            },
            "type": "choropleth"
           }
          ],
          "contour": [
           {
            "colorbar": {
             "outlinewidth": 0,
             "ticks": ""
            },
            "colorscale": [
             [
              0,
              "#0d0887"
             ],
             [
              0.1111111111111111,
              "#46039f"
             ],
             [
              0.2222222222222222,
              "#7201a8"
             ],
             [
              0.3333333333333333,
              "#9c179e"
             ],
             [
              0.4444444444444444,
              "#bd3786"
             ],
             [
              0.5555555555555556,
              "#d8576b"
             ],
             [
              0.6666666666666666,
              "#ed7953"
             ],
             [
              0.7777777777777778,
              "#fb9f3a"
             ],
             [
              0.8888888888888888,
              "#fdca26"
             ],
             [
              1,
              "#f0f921"
             ]
            ],
            "type": "contour"
           }
          ],
          "contourcarpet": [
           {
            "colorbar": {
             "outlinewidth": 0,
             "ticks": ""
            },
            "type": "contourcarpet"
           }
          ],
          "heatmap": [
           {
            "colorbar": {
             "outlinewidth": 0,
             "ticks": ""
            },
            "colorscale": [
             [
              0,
              "#0d0887"
             ],
             [
              0.1111111111111111,
              "#46039f"
             ],
             [
              0.2222222222222222,
              "#7201a8"
             ],
             [
              0.3333333333333333,
              "#9c179e"
             ],
             [
              0.4444444444444444,
              "#bd3786"
             ],
             [
              0.5555555555555556,
              "#d8576b"
             ],
             [
              0.6666666666666666,
              "#ed7953"
             ],
             [
              0.7777777777777778,
              "#fb9f3a"
             ],
             [
              0.8888888888888888,
              "#fdca26"
             ],
             [
              1,
              "#f0f921"
             ]
            ],
            "type": "heatmap"
           }
          ],
          "histogram": [
           {
            "marker": {
             "pattern": {
              "fillmode": "overlay",
              "size": 10,
              "solidity": 0.2
             }
            },
            "type": "histogram"
           }
          ],
          "histogram2d": [
           {
            "colorbar": {
             "outlinewidth": 0,
             "ticks": ""
            },
            "colorscale": [
             [
              0,
              "#0d0887"
             ],
             [
              0.1111111111111111,
              "#46039f"
             ],
             [
              0.2222222222222222,
              "#7201a8"
             ],
             [
              0.3333333333333333,
              "#9c179e"
             ],
             [
              0.4444444444444444,
              "#bd3786"
             ],
             [
              0.5555555555555556,
              "#d8576b"
             ],
             [
              0.6666666666666666,
              "#ed7953"
             ],
             [
              0.7777777777777778,
              "#fb9f3a"
             ],
             [
              0.8888888888888888,
              "#fdca26"
             ],
             [
              1,
              "#f0f921"
             ]
            ],
            "type": "histogram2d"
           }
          ],
          "histogram2dcontour": [
           {
            "colorbar": {
             "outlinewidth": 0,
             "ticks": ""
            },
            "colorscale": [
             [
              0,
              "#0d0887"
             ],
             [
              0.1111111111111111,
              "#46039f"
             ],
             [
              0.2222222222222222,
              "#7201a8"
             ],
             [
              0.3333333333333333,
              "#9c179e"
             ],
             [
              0.4444444444444444,
              "#bd3786"
             ],
             [
              0.5555555555555556,
              "#d8576b"
             ],
             [
              0.6666666666666666,
              "#ed7953"
             ],
             [
              0.7777777777777778,
              "#fb9f3a"
             ],
             [
              0.8888888888888888,
              "#fdca26"
             ],
             [
              1,
              "#f0f921"
             ]
            ],
            "type": "histogram2dcontour"
           }
          ],
          "mesh3d": [
           {
            "colorbar": {
             "outlinewidth": 0,
             "ticks": ""
            },
            "type": "mesh3d"
           }
          ],
          "parcoords": [
           {
            "line": {
             "colorbar": {
              "outlinewidth": 0,
              "ticks": ""
             }
            },
            "type": "parcoords"
           }
          ],
          "pie": [
           {
            "automargin": true,
            "type": "pie"
           }
          ],
          "scatter": [
           {
            "fillpattern": {
             "fillmode": "overlay",
             "size": 10,
             "solidity": 0.2
            },
            "type": "scatter"
           }
          ],
          "scatter3d": [
           {
            "line": {
             "colorbar": {
              "outlinewidth": 0,
              "ticks": ""
             }
            },
            "marker": {
             "colorbar": {
              "outlinewidth": 0,
              "ticks": ""
             }
            },
            "type": "scatter3d"
           }
          ],
          "scattercarpet": [
           {
            "marker": {
             "colorbar": {
              "outlinewidth": 0,
              "ticks": ""
             }
            },
            "type": "scattercarpet"
           }
          ],
          "scattergeo": [
           {
            "marker": {
             "colorbar": {
              "outlinewidth": 0,
              "ticks": ""
             }
            },
            "type": "scattergeo"
           }
          ],
          "scattergl": [
           {
            "marker": {
             "colorbar": {
              "outlinewidth": 0,
              "ticks": ""
             }
            },
            "type": "scattergl"
           }
          ],
          "scattermap": [
           {
            "marker": {
             "colorbar": {
              "outlinewidth": 0,
              "ticks": ""
             }
            },
            "type": "scattermap"
           }
          ],
          "scattermapbox": [
           {
            "marker": {
             "colorbar": {
              "outlinewidth": 0,
              "ticks": ""
             }
            },
            "type": "scattermapbox"
           }
          ],
          "scatterpolar": [
           {
            "marker": {
             "colorbar": {
              "outlinewidth": 0,
              "ticks": ""
             }
            },
            "type": "scatterpolar"
           }
          ],
          "scatterpolargl": [
           {
            "marker": {
             "colorbar": {
              "outlinewidth": 0,
              "ticks": ""
             }
            },
            "type": "scatterpolargl"
           }
          ],
          "scatterternary": [
           {
            "marker": {
             "colorbar": {
              "outlinewidth": 0,
              "ticks": ""
             }
            },
            "type": "scatterternary"
           }
          ],
          "surface": [
           {
            "colorbar": {
             "outlinewidth": 0,
             "ticks": ""
            },
            "colorscale": [
             [
              0,
              "#0d0887"
             ],
             [
              0.1111111111111111,
              "#46039f"
             ],
             [
              0.2222222222222222,
              "#7201a8"
             ],
             [
              0.3333333333333333,
              "#9c179e"
             ],
             [
              0.4444444444444444,
              "#bd3786"
             ],
             [
              0.5555555555555556,
              "#d8576b"
             ],
             [
              0.6666666666666666,
              "#ed7953"
             ],
             [
              0.7777777777777778,
              "#fb9f3a"
             ],
             [
              0.8888888888888888,
              "#fdca26"
             ],
             [
              1,
              "#f0f921"
             ]
            ],
            "type": "surface"
           }
          ],
          "table": [
           {
            "cells": {
             "fill": {
              "color": "#EBF0F8"
             },
             "line": {
              "color": "white"
             }
            },
            "header": {
             "fill": {
              "color": "#C8D4E3"
             },
             "line": {
              "color": "white"
             }
            },
            "type": "table"
           }
          ]
         },
         "layout": {
          "annotationdefaults": {
           "arrowcolor": "#2a3f5f",
           "arrowhead": 0,
           "arrowwidth": 1
          },
          "autotypenumbers": "strict",
          "coloraxis": {
           "colorbar": {
            "outlinewidth": 0,
            "ticks": ""
           }
          },
          "colorscale": {
           "diverging": [
            [
             0,
             "#8e0152"
            ],
            [
             0.1,
             "#c51b7d"
            ],
            [
             0.2,
             "#de77ae"
            ],
            [
             0.3,
             "#f1b6da"
            ],
            [
             0.4,
             "#fde0ef"
            ],
            [
             0.5,
             "#f7f7f7"
            ],
            [
             0.6,
             "#e6f5d0"
            ],
            [
             0.7,
             "#b8e186"
            ],
            [
             0.8,
             "#7fbc41"
            ],
            [
             0.9,
             "#4d9221"
            ],
            [
             1,
             "#276419"
            ]
           ],
           "sequential": [
            [
             0,
             "#0d0887"
            ],
            [
             0.1111111111111111,
             "#46039f"
            ],
            [
             0.2222222222222222,
             "#7201a8"
            ],
            [
             0.3333333333333333,
             "#9c179e"
            ],
            [
             0.4444444444444444,
             "#bd3786"
            ],
            [
             0.5555555555555556,
             "#d8576b"
            ],
            [
             0.6666666666666666,
             "#ed7953"
            ],
            [
             0.7777777777777778,
             "#fb9f3a"
            ],
            [
             0.8888888888888888,
             "#fdca26"
            ],
            [
             1,
             "#f0f921"
            ]
           ],
           "sequentialminus": [
            [
             0,
             "#0d0887"
            ],
            [
             0.1111111111111111,
             "#46039f"
            ],
            [
             0.2222222222222222,
             "#7201a8"
            ],
            [
             0.3333333333333333,
             "#9c179e"
            ],
            [
             0.4444444444444444,
             "#bd3786"
            ],
            [
             0.5555555555555556,
             "#d8576b"
            ],
            [
             0.6666666666666666,
             "#ed7953"
            ],
            [
             0.7777777777777778,
             "#fb9f3a"
            ],
            [
             0.8888888888888888,
             "#fdca26"
            ],
            [
             1,
             "#f0f921"
            ]
           ]
          },
          "colorway": [
           "#636efa",
           "#EF553B",
           "#00cc96",
           "#ab63fa",
           "#FFA15A",
           "#19d3f3",
           "#FF6692",
           "#B6E880",
           "#FF97FF",
           "#FECB52"
          ],
          "font": {
           "color": "#2a3f5f"
          },
          "geo": {
           "bgcolor": "white",
           "lakecolor": "white",
           "landcolor": "#E5ECF6",
           "showlakes": true,
           "showland": true,
           "subunitcolor": "white"
          },
          "hoverlabel": {
           "align": "left"
          },
          "hovermode": "closest",
          "mapbox": {
           "style": "light"
          },
          "paper_bgcolor": "white",
          "plot_bgcolor": "#E5ECF6",
          "polar": {
           "angularaxis": {
            "gridcolor": "white",
            "linecolor": "white",
            "ticks": ""
           },
           "bgcolor": "#E5ECF6",
           "radialaxis": {
            "gridcolor": "white",
            "linecolor": "white",
            "ticks": ""
           }
          },
          "scene": {
           "xaxis": {
            "backgroundcolor": "#E5ECF6",
            "gridcolor": "white",
            "gridwidth": 2,
            "linecolor": "white",
            "showbackground": true,
            "ticks": "",
            "zerolinecolor": "white"
           },
           "yaxis": {
            "backgroundcolor": "#E5ECF6",
            "gridcolor": "white",
            "gridwidth": 2,
            "linecolor": "white",
            "showbackground": true,
            "ticks": "",
            "zerolinecolor": "white"
           },
           "zaxis": {
            "backgroundcolor": "#E5ECF6",
            "gridcolor": "white",
            "gridwidth": 2,
            "linecolor": "white",
            "showbackground": true,
            "ticks": "",
            "zerolinecolor": "white"
           }
          },
          "shapedefaults": {
           "line": {
            "color": "#2a3f5f"
           }
          },
          "ternary": {
           "aaxis": {
            "gridcolor": "white",
            "linecolor": "white",
            "ticks": ""
           },
           "baxis": {
            "gridcolor": "white",
            "linecolor": "white",
            "ticks": ""
           },
           "bgcolor": "#E5ECF6",
           "caxis": {
            "gridcolor": "white",
            "linecolor": "white",
            "ticks": ""
           }
          },
          "title": {
           "x": 0.05
          },
          "xaxis": {
           "automargin": true,
           "gridcolor": "white",
           "linecolor": "white",
           "ticks": "",
           "title": {
            "standoff": 15
           },
           "zerolinecolor": "white",
           "zerolinewidth": 2
          },
          "yaxis": {
           "automargin": true,
           "gridcolor": "white",
           "linecolor": "white",
           "ticks": "",
           "title": {
            "standoff": 15
           },
           "zerolinecolor": "white",
           "zerolinewidth": 2
          }
         }
        },
        "title": {
         "text": "Feature Importance (Permutation) - KNN Classifier"
        },
        "xaxis": {
         "anchor": "y",
         "domain": [
          0,
          1
         ],
         "tickangle": 45,
         "title": {
          "text": "Feature"
         }
        },
        "yaxis": {
         "anchor": "x",
         "domain": [
          0,
          1
         ],
         "title": {
          "text": "Importance"
         }
        }
       }
      }
     },
     "metadata": {},
     "output_type": "display_data"
    }
   ],
   "source": [
    "from sklearn.inspection import permutation_importance\n",
    "import plotly.express as px\n",
    "\n",
    "result = permutation_importance(knn, X_test_scaled, y_test, n_repeats=10, random_state=42)\n",
    "\n",
    "importance_df = pd.DataFrame({\n",
    "    'Feature': X.columns,\n",
    "    'Importance': result.importances_mean\n",
    "}).sort_values(by='Importance', ascending=False)\n",
    "\n",
    "fig = px.bar(\n",
    "    importance_df,\n",
    "    x='Feature',\n",
    "    y='Importance',\n",
    "    title='Feature Importance (Permutation) - KNN Classifier'\n",
    ")\n",
    "fig.update_layout(xaxis_tickangle=45)\n",
    "fig.show()\n"
   ]
  },
  {
   "cell_type": "markdown",
   "id": "9604786c",
   "metadata": {},
   "source": [
    "### KDE plot "
   ]
  },
  {
   "cell_type": "code",
   "execution_count": 4,
   "id": "f582005a",
   "metadata": {},
   "outputs": [
    {
     "data": {
      "application/vnd.plotly.v1+json": {
       "config": {
        "plotlyServerURL": "https://plot.ly"
       },
       "data": [
        {
         "mode": "lines",
         "name": "Label 0",
         "type": "scatter",
         "x": {
          "bdata": "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",
          "dtype": "f8"
         },
         "y": {
          "bdata": "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",
          "dtype": "f8"
         }
        },
        {
         "mode": "lines",
         "name": "Label 1",
         "type": "scatter",
         "x": {
          "bdata": "/oWus0OH+r/60jTnRSr6v/UfuxpIzfm/8WxBTkpw+b/suceBTBP5v+gGTrVOtvi/5FPU6FBZ+L/foFocU/z3v9vt4E9Vn/e/1jpng1dC97/Sh+22WeX2v83Uc+pbiPa/ySH6HV4r9r/EboBRYM71v8C7BoVicfW/vAiNuGQU9b+3VRPsZrf0v7OimR9pWvS/ru8fU2v987+qPKaGbaDzv6aJLLpvQ/O/oday7XHm8r+dIzkhdInyv5hwv1R2LPK/lL1FiHjP8b+QCsy7enLxv4tXUu98FfG/hqTYIn+48L+C8V5WgVvwv/x8yhMH/e+/8xbXegtD77/qsOPhD4nuv+FK8EgUz+2/2OT8rxgV7b/PfgkXHVvsv8YYFn4hoeu/vrIi5SXn6r+1TC9MKi3qv6zmO7Muc+m/o4BIGjO56L+aGlWBN//nv5G0Yeg7Ree/iU5uT0CL5r+A6Hq2RNHlv3eChx1JF+W/bhyUhE1d5L9mtqDrUaPjv1xQrVJW6eK/VOq5uVov4r9KhMYgX3Xhv0Ie04dju+C/OLjf7mcB4L9gpNir2I7ev1DY8XnhGt2/PAwLSOqm278sQCQW8zLavxh0PeT7vti/CKhWsgRL17/422+ADdfVv+QPiU4WY9S/1EOiHB/v0r/Ad7vqJ3vRv7Cr1LgwB9C/OL/bDXMmzb8YJw6qhD7Kv/iOQEaWVse/0PZy4qduxL+wXqV+uYbBvxCNrzWWPb2/0FwUbrltt7+ALHmm3J2xv4D4u73/m6e/ADALXYz4l78A2M3TJyNHv0BSzt9ZhpY/wIkdf+bipj8g9SkHUEGxP2Alxc4sEbc/sFVglgnhvD/4wv0uc1jBPyBby5JhQMQ/QPOY9k8oxz9oi2ZaPhDKP4gjNL4s+Mw/qLsBIhvgzz/oqefCBGTRP/h1zvT719I/DEK1JvNL1D8cDpxY6r/VPzDagorhM9c/QKZpvNin2D9QclDuzxvaP2A+NyDHj9s/eAoeUr4D3T+I1gSEtXfeP5ii67Ws698/VDfp89Gv4D9cndyMzWnhP2gD0CXJI+I/cGnDvsTd4j94z7ZXwJfjP4A1qvC7UeQ/jJudibcL5T+UAZEis8XlP5xnhLuuf+Y/pM13VKo55z+sM2vtpfPnP7iZXoahreg/wP9RH51n6T/IZUW4mCHqP9DLOFGU2+o/2DEs6o+V6z/klx+Di0/sP+z9EhyHCe0/9GMGtYLD7T/8yflNfn3uPwQw7eZ5N+8/EJbgf3Xx7z8M/mmMuFXwPxCx41i2svA/FGRdJbQP8T8aF9fxsWzxPx7KUL6vyfE/In3Kiq0m8j8mMERXq4PyPyrjvSOp4PI/MJY38KY98z80SbG8pJrzPzj8Komi9/M/PK+kVaBU9D9AYh4inrH0P0YVmO6bDvU/SsgRu5lr9T9Oe4uHl8j1P1IuBVSVJfY/VuF+IJOC9j9clPjskN/2P2BHcrmOPPc/ZPrrhYyZ9z9orWVSivb3P25g3x6IU/g/chNZ64Ww+D92xtK3gw35P3p5TISBavk/fizGUH/H+T+E3z8dfST6P4iSuel6gfo/jEUztnje+j+Q+KyCdjv7P5SrJk90mPs/ml6gG3L1+z+eERrob1L8P6LEk7Rtr/w/pncNgWsM/T+qKodNaWn9P7DdABpnxv0/tJB65mQj/j+4Q/SyYoD+P7z2bX9g3f4/wqnnS146/z/GXGEYXJf/P8oP2+RZ9P8/Z2Gq2KsoAEDpOue+KlcAQGwUJKWphQBA7u1giyi0AEBwx51xp+IAQPKg2lcmEQFAdHoXPqU/AUD3U1QkJG4BQHktkQqjnAFA+wbO8CHLAUB94ArXoPkBQP+5R70fKAJAgpOEo55WAkAEbcGJHYUCQIZG/m+cswJACSA7VhviAkCL+Xc8mhADQA3TtCIZPwNAj6zxCJhtA0ARhi7vFpwDQJNfa9WVygNAFTmouxT5A0CXEuWhkycEQBvsIYgSVgRAncVebpGEBEAfn5tUELMEQKF42DqP4QRAI1IVIQ4QBUClK1IHjT4FQCcFj+0LbQVAqd7L04qbBUAruAi6CcoFQK2RRaCI+AVAMWuChgcnBkCzRL9shlUGQDUe/FIFhAZAt/c4OYSyBkA50XUfA+EGQA==",
          "dtype": "f8"
         },
         "y": {
          "bdata": "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",
          "dtype": "f8"
         }
        },
        {
         "mode": "lines",
         "name": "Label 2",
         "type": "scatter",
         "x": {
          "bdata": "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",
          "dtype": "f8"
         },
         "y": {
          "bdata": "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",
          "dtype": "f8"
         }
        },
        {
         "mode": "lines",
         "name": "Label 3",
         "type": "scatter",
         "x": {
          "bdata": "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",
          "dtype": "f8"
         },
         "y": {
          "bdata": "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",
          "dtype": "f8"
         }
        }
       ],
       "layout": {
        "template": {
         "data": {
          "bar": [
           {
            "error_x": {
             "color": "#2a3f5f"
            },
            "error_y": {
             "color": "#2a3f5f"
            },
            "marker": {
             "line": {
              "color": "#E5ECF6",
              "width": 0.5
             },
             "pattern": {
              "fillmode": "overlay",
              "size": 10,
              "solidity": 0.2
             }
            },
            "type": "bar"
           }
          ],
          "barpolar": [
           {
            "marker": {
             "line": {
              "color": "#E5ECF6",
              "width": 0.5
             },
             "pattern": {
              "fillmode": "overlay",
              "size": 10,
              "solidity": 0.2
             }
            },
            "type": "barpolar"
           }
          ],
          "carpet": [
           {
            "aaxis": {
             "endlinecolor": "#2a3f5f",
             "gridcolor": "white",
             "linecolor": "white",
             "minorgridcolor": "white",
             "startlinecolor": "#2a3f5f"
            },
            "baxis": {
             "endlinecolor": "#2a3f5f",
             "gridcolor": "white",
             "linecolor": "white",
             "minorgridcolor": "white",
             "startlinecolor": "#2a3f5f"
            },
            "type": "carpet"
           }
          ],
          "choropleth": [
           {
            "colorbar": {
             "outlinewidth": 0,
             "ticks": ""
            },
            "type": "choropleth"
           }
          ],
          "contour": [
           {
            "colorbar": {
             "outlinewidth": 0,
             "ticks": ""
            },
            "colorscale": [
             [
              0,
              "#0d0887"
             ],
             [
              0.1111111111111111,
              "#46039f"
             ],
             [
              0.2222222222222222,
              "#7201a8"
             ],
             [
              0.3333333333333333,
              "#9c179e"
             ],
             [
              0.4444444444444444,
              "#bd3786"
             ],
             [
              0.5555555555555556,
              "#d8576b"
             ],
             [
              0.6666666666666666,
              "#ed7953"
             ],
             [
              0.7777777777777778,
              "#fb9f3a"
             ],
             [
              0.8888888888888888,
              "#fdca26"
             ],
             [
              1,
              "#f0f921"
             ]
            ],
            "type": "contour"
           }
          ],
          "contourcarpet": [
           {
            "colorbar": {
             "outlinewidth": 0,
             "ticks": ""
            },
            "type": "contourcarpet"
           }
          ],
          "heatmap": [
           {
            "colorbar": {
             "outlinewidth": 0,
             "ticks": ""
            },
            "colorscale": [
             [
              0,
              "#0d0887"
             ],
             [
              0.1111111111111111,
              "#46039f"
             ],
             [
              0.2222222222222222,
              "#7201a8"
             ],
             [
              0.3333333333333333,
              "#9c179e"
             ],
             [
              0.4444444444444444,
              "#bd3786"
             ],
             [
              0.5555555555555556,
              "#d8576b"
             ],
             [
              0.6666666666666666,
              "#ed7953"
             ],
             [
              0.7777777777777778,
              "#fb9f3a"
             ],
             [
              0.8888888888888888,
              "#fdca26"
             ],
             [
              1,
              "#f0f921"
             ]
            ],
            "type": "heatmap"
           }
          ],
          "histogram": [
           {
            "marker": {
             "pattern": {
              "fillmode": "overlay",
              "size": 10,
              "solidity": 0.2
             }
            },
            "type": "histogram"
           }
          ],
          "histogram2d": [
           {
            "colorbar": {
             "outlinewidth": 0,
             "ticks": ""
            },
            "colorscale": [
             [
              0,
              "#0d0887"
             ],
             [
              0.1111111111111111,
              "#46039f"
             ],
             [
              0.2222222222222222,
              "#7201a8"
             ],
             [
              0.3333333333333333,
              "#9c179e"
             ],
             [
              0.4444444444444444,
              "#bd3786"
             ],
             [
              0.5555555555555556,
              "#d8576b"
             ],
             [
              0.6666666666666666,
              "#ed7953"
             ],
             [
              0.7777777777777778,
              "#fb9f3a"
             ],
             [
              0.8888888888888888,
              "#fdca26"
             ],
             [
              1,
              "#f0f921"
             ]
            ],
            "type": "histogram2d"
           }
          ],
          "histogram2dcontour": [
           {
            "colorbar": {
             "outlinewidth": 0,
             "ticks": ""
            },
            "colorscale": [
             [
              0,
              "#0d0887"
             ],
             [
              0.1111111111111111,
              "#46039f"
             ],
             [
              0.2222222222222222,
              "#7201a8"
             ],
             [
              0.3333333333333333,
              "#9c179e"
             ],
             [
              0.4444444444444444,
              "#bd3786"
             ],
             [
              0.5555555555555556,
              "#d8576b"
             ],
             [
              0.6666666666666666,
              "#ed7953"
             ],
             [
              0.7777777777777778,
              "#fb9f3a"
             ],
             [
              0.8888888888888888,
              "#fdca26"
             ],
             [
              1,
              "#f0f921"
             ]
            ],
            "type": "histogram2dcontour"
           }
          ],
          "mesh3d": [
           {
            "colorbar": {
             "outlinewidth": 0,
             "ticks": ""
            },
            "type": "mesh3d"
           }
          ],
          "parcoords": [
           {
            "line": {
             "colorbar": {
              "outlinewidth": 0,
              "ticks": ""
             }
            },
            "type": "parcoords"
           }
          ],
          "pie": [
           {
            "automargin": true,
            "type": "pie"
           }
          ],
          "scatter": [
           {
            "fillpattern": {
             "fillmode": "overlay",
             "size": 10,
             "solidity": 0.2
            },
            "type": "scatter"
           }
          ],
          "scatter3d": [
           {
            "line": {
             "colorbar": {
              "outlinewidth": 0,
              "ticks": ""
             }
            },
            "marker": {
             "colorbar": {
              "outlinewidth": 0,
              "ticks": ""
             }
            },
            "type": "scatter3d"
           }
          ],
          "scattercarpet": [
           {
            "marker": {
             "colorbar": {
              "outlinewidth": 0,
              "ticks": ""
             }
            },
            "type": "scattercarpet"
           }
          ],
          "scattergeo": [
           {
            "marker": {
             "colorbar": {
              "outlinewidth": 0,
              "ticks": ""
             }
            },
            "type": "scattergeo"
           }
          ],
          "scattergl": [
           {
            "marker": {
             "colorbar": {
              "outlinewidth": 0,
              "ticks": ""
             }
            },
            "type": "scattergl"
           }
          ],
          "scattermap": [
           {
            "marker": {
             "colorbar": {
              "outlinewidth": 0,
              "ticks": ""
             }
            },
            "type": "scattermap"
           }
          ],
          "scattermapbox": [
           {
            "marker": {
             "colorbar": {
              "outlinewidth": 0,
              "ticks": ""
             }
            },
            "type": "scattermapbox"
           }
          ],
          "scatterpolar": [
           {
            "marker": {
             "colorbar": {
              "outlinewidth": 0,
              "ticks": ""
             }
            },
            "type": "scatterpolar"
           }
          ],
          "scatterpolargl": [
           {
            "marker": {
             "colorbar": {
              "outlinewidth": 0,
              "ticks": ""
             }
            },
            "type": "scatterpolargl"
           }
          ],
          "scatterternary": [
           {
            "marker": {
             "colorbar": {
              "outlinewidth": 0,
              "ticks": ""
             }
            },
            "type": "scatterternary"
           }
          ],
          "surface": [
           {
            "colorbar": {
             "outlinewidth": 0,
             "ticks": ""
            },
            "colorscale": [
             [
              0,
              "#0d0887"
             ],
             [
              0.1111111111111111,
              "#46039f"
             ],
             [
              0.2222222222222222,
              "#7201a8"
             ],
             [
              0.3333333333333333,
              "#9c179e"
             ],
             [
              0.4444444444444444,
              "#bd3786"
             ],
             [
              0.5555555555555556,
              "#d8576b"
             ],
             [
              0.6666666666666666,
              "#ed7953"
             ],
             [
              0.7777777777777778,
              "#fb9f3a"
             ],
             [
              0.8888888888888888,
              "#fdca26"
             ],
             [
              1,
              "#f0f921"
             ]
            ],
            "type": "surface"
           }
          ],
          "table": [
           {
            "cells": {
             "fill": {
              "color": "#EBF0F8"
             },
             "line": {
              "color": "white"
             }
            },
            "header": {
             "fill": {
              "color": "#C8D4E3"
             },
             "line": {
              "color": "white"
             }
            },
            "type": "table"
           }
          ]
         },
         "layout": {
          "annotationdefaults": {
           "arrowcolor": "#2a3f5f",
           "arrowhead": 0,
           "arrowwidth": 1
          },
          "autotypenumbers": "strict",
          "coloraxis": {
           "colorbar": {
            "outlinewidth": 0,
            "ticks": ""
           }
          },
          "colorscale": {
           "diverging": [
            [
             0,
             "#8e0152"
            ],
            [
             0.1,
             "#c51b7d"
            ],
            [
             0.2,
             "#de77ae"
            ],
            [
             0.3,
             "#f1b6da"
            ],
            [
             0.4,
             "#fde0ef"
            ],
            [
             0.5,
             "#f7f7f7"
            ],
            [
             0.6,
             "#e6f5d0"
            ],
            [
             0.7,
             "#b8e186"
            ],
            [
             0.8,
             "#7fbc41"
            ],
            [
             0.9,
             "#4d9221"
            ],
            [
             1,
             "#276419"
            ]
           ],
           "sequential": [
            [
             0,
             "#0d0887"
            ],
            [
             0.1111111111111111,
             "#46039f"
            ],
            [
             0.2222222222222222,
             "#7201a8"
            ],
            [
             0.3333333333333333,
             "#9c179e"
            ],
            [
             0.4444444444444444,
             "#bd3786"
            ],
            [
             0.5555555555555556,
             "#d8576b"
            ],
            [
             0.6666666666666666,
             "#ed7953"
            ],
            [
             0.7777777777777778,
             "#fb9f3a"
            ],
            [
             0.8888888888888888,
             "#fdca26"
            ],
            [
             1,
             "#f0f921"
            ]
           ],
           "sequentialminus": [
            [
             0,
             "#0d0887"
            ],
            [
             0.1111111111111111,
             "#46039f"
            ],
            [
             0.2222222222222222,
             "#7201a8"
            ],
            [
             0.3333333333333333,
             "#9c179e"
            ],
            [
             0.4444444444444444,
             "#bd3786"
            ],
            [
             0.5555555555555556,
             "#d8576b"
            ],
            [
             0.6666666666666666,
             "#ed7953"
            ],
            [
             0.7777777777777778,
             "#fb9f3a"
            ],
            [
             0.8888888888888888,
             "#fdca26"
            ],
            [
             1,
             "#f0f921"
            ]
           ]
          },
          "colorway": [
           "#636efa",
           "#EF553B",
           "#00cc96",
           "#ab63fa",
           "#FFA15A",
           "#19d3f3",
           "#FF6692",
           "#B6E880",
           "#FF97FF",
           "#FECB52"
          ],
          "font": {
           "color": "#2a3f5f"
          },
          "geo": {
           "bgcolor": "white",
           "lakecolor": "white",
           "landcolor": "#E5ECF6",
           "showlakes": true,
           "showland": true,
           "subunitcolor": "white"
          },
          "hoverlabel": {
           "align": "left"
          },
          "hovermode": "closest",
          "mapbox": {
           "style": "light"
          },
          "paper_bgcolor": "white",
          "plot_bgcolor": "#E5ECF6",
          "polar": {
           "angularaxis": {
            "gridcolor": "white",
            "linecolor": "white",
            "ticks": ""
           },
           "bgcolor": "#E5ECF6",
           "radialaxis": {
            "gridcolor": "white",
            "linecolor": "white",
            "ticks": ""
           }
          },
          "scene": {
           "xaxis": {
            "backgroundcolor": "#E5ECF6",
            "gridcolor": "white",
            "gridwidth": 2,
            "linecolor": "white",
            "showbackground": true,
            "ticks": "",
            "zerolinecolor": "white"
           },
           "yaxis": {
            "backgroundcolor": "#E5ECF6",
            "gridcolor": "white",
            "gridwidth": 2,
            "linecolor": "white",
            "showbackground": true,
            "ticks": "",
            "zerolinecolor": "white"
           },
           "zaxis": {
            "backgroundcolor": "#E5ECF6",
            "gridcolor": "white",
            "gridwidth": 2,
            "linecolor": "white",
            "showbackground": true,
            "ticks": "",
            "zerolinecolor": "white"
           }
          },
          "shapedefaults": {
           "line": {
            "color": "#2a3f5f"
           }
          },
          "ternary": {
           "aaxis": {
            "gridcolor": "white",
            "linecolor": "white",
            "ticks": ""
           },
           "baxis": {
            "gridcolor": "white",
            "linecolor": "white",
            "ticks": ""
           },
           "bgcolor": "#E5ECF6",
           "caxis": {
            "gridcolor": "white",
            "linecolor": "white",
            "ticks": ""
           }
          },
          "title": {
           "x": 0.05
          },
          "xaxis": {
           "automargin": true,
           "gridcolor": "white",
           "linecolor": "white",
           "ticks": "",
           "title": {
            "standoff": 15
           },
           "zerolinecolor": "white",
           "zerolinewidth": 2
          },
          "yaxis": {
           "automargin": true,
           "gridcolor": "white",
           "linecolor": "white",
           "ticks": "",
           "title": {
            "standoff": 15
           },
           "zerolinecolor": "white",
           "zerolinewidth": 2
          }
         }
        },
        "title": {
         "text": "KDE Plot for Feature 'E' by Label"
        },
        "xaxis": {
         "title": {
          "text": "E"
         }
        },
        "yaxis": {
         "title": {
          "text": "Density"
         }
        }
       }
      }
     },
     "metadata": {},
     "output_type": "display_data"
    },
    {
     "data": {
      "application/vnd.plotly.v1+json": {
       "config": {
        "plotlyServerURL": "https://plot.ly"
       },
       "data": [
        {
         "mode": "lines",
         "name": "Label 0",
         "type": "scatter",
         "x": {
          "bdata": "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",
          "dtype": "f8"
         },
         "y": {
          "bdata": "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",
          "dtype": "f8"
         }
        },
        {
         "mode": "lines",
         "name": "Label 1",
         "type": "scatter",
         "x": {
          "bdata": "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",
          "dtype": "f8"
         },
         "y": {
          "bdata": "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",
          "dtype": "f8"
         }
        },
        {
         "mode": "lines",
         "name": "Label 2",
         "type": "scatter",
         "x": {
          "bdata": "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",
          "dtype": "f8"
         },
         "y": {
          "bdata": "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",
          "dtype": "f8"
         }
        },
        {
         "mode": "lines",
         "name": "Label 3",
         "type": "scatter",
         "x": {
          "bdata": "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",
          "dtype": "f8"
         },
         "y": {
          "bdata": "w7OKdhYf3D+l7Y7937/dP2ax/AHKU98/ZH6CK51r4D+81KGyYiPhP7q2KVmez+E/YNwZud1u4j9pqTZs2P/iP6JTqf1zgeM/jSmQnMby4z9lhrqVGFPkP1EzAajkoeQ/dIgMUtfe5D888ldBzQnlP4UcexDRIuU/PLL+hRgq5T/JlD+FASDlP57mRuAOBeU/7KlXNOXZ5D+ljrXzR5/kP5NHX7YWVuQ/0eG74Ur/4z/Yvy6t9ZvjP04nxX8+LeM/fRZKmmG04j8PuHv5rjLiP1P0QFaJqeE/1nzWJWUa4T/VwBl6x4bgP1q7vESJ4N8/g+X13vyw3j96Fn4DRILdPzIvBxrKV9w/K+JXCwU12z+C87NhbR3aP4sJ4DN1FNk/OozP7n0d2D+7qnEhzTvXPzPVgnyActY/CLdVRYHE1T/ZwduFdzTVP3xmi029xNQ/eUbcXVJ31D8pUrWh0E3UP4KnF9FhSdQ/h51GobZq1D8LsV/d/7HUP4/FervpHtU/0+rFtpmw1T/643onr2XWP8TSDb5GPNc/CGbN7wAy2D9in+pIC0TZP3iVYnssb9o/BOjI5NKv2z9rf/8nJQLdP+zpRl0UYt4/l/qqRG/L3z9VIkLr+pzgP/NmpUK2VOE/5+5MQtcK4j/hl+Y5X73iP1dckG9qauM/wL4AFDYQ5D+YaWLFJK3kP4k+gJHBP+U/S1SvfsHG5T+ULFy5A0HmP2sUhpiQreY/Bu4gvJcL5z/MJN+TbVrnPy7QPqKImec/bkhOzn7I5z/LCHUOA+fnP1KhOqjj9Oc/KJGoLQny5z89HxZKdt7nP9PG3FdIuuc/MPi3oLiF5z+bNX0VHkHnP6i7RDnv7OY/VLF/8cOJ5j8xqcvoVhjmPy4D7jWGmeU/yFf8AlMO5T+XnW8B4HfkP/qcT41u1+M/8t0Celou4z+tA5ucFH7iP+eeoj8cyOE/PbOWwfcN4T+d9rWvLFHgP+bn8HJvJt8/u1hGugmr3T9y2LxW0DLcP+DZtu0uwNo/LPiObUpV2T+j9YKg+fPXP673ecvAndY/FXqfadBT1T+0OdfpBhfUP/+28Cr159I/Bo2zUeXG0T9N4Tt647PQP/lwm2uPXc8/zV1hf4FuzT9sNwCtvZnLP6xYc2U83sk/6ruOS+E6yD9jo/kIjK7GP+PNAzYmOMU/6Ni9CK7Wwz94GLm2PYnCP38v36YPT8E/UTIfu38nwD9jAnM0FCS+PxuML++PHLw/i+stw9U3uj9s+Qg9bnW4PxbXKC771LY/7Hg6eCtWtT/JC1d+r/izP71257guvLI/z6hwtj6gsT+8/0mkW6SwP/Y/G6XEj68/sYRREhcUrj8KX/Hk0NOsP0ZskLW/zKs/dBMLFVj8qj8Ah6Eisl+qP2iMrN6G86k/yk3jSi60qT/m73Cfnp2pP+Pxcwttq6k/Bd2cmdDYqT8sBIfhpyCqPyYN9SiCfao/6rdXfKzpqj8TqzMVQ1+rP9obhSJH2Ks/OBxsuLhOrD912OJXtLysPxFFcyyTHK0/Ef1h1AxprT+1aIlOWZ2tP9n954VRta0/6Ren6YytrT9CIvCSeoOtP9VFwad0Na0/3nxJ8MzCrD/4P0Tu0SusP2erzyzMcas/1xSw6/OWqj8bcdayX56pPzlHgLrsi6g/9tuBYiJkpz9c9MkqEiymP1ztWbw16aQ/4WNHk0yhoz/iQpHAOlqiP922VQjqGaE/h6h/tVzMnz/HQUajXImdP83dugGgdZs/Tfh+FlSbmT/TY30v8QOYP9RJdvIquJY/fECrRuW/lT8CSubIKyKVP/aCvKQp5ZQ/t9s5yR8OlT97aCS5V6GVP377xaoRopY/H4gHQW0SmD8bjMfVTPOZP0qkKAg0RJw/czeA/CIDnz8TlME0OBahP1dfRJFS3aI/Cg63Hi7TpD8Ko9mYFfOmPxZ7DatKN6k/KbfV9gaZqz+WMZfBhRCuP1bmdqmLSrA/4MdWTp+OsT8CNFSgbM+yPyJz0LqoB7Q/IwZ0WuwxtT+rfDbD1Ei2P/ErpR0nR7c/RyRM/PQnuD/AuPeSwOa4Pz/TrhWff7k/n0EDt1fvuT9lA4LVfTO6PycsBxaFSro/o69Xas4zuj/OFRdVre+5Pw==",
          "dtype": "f8"
         }
        }
       ],
       "layout": {
        "template": {
         "data": {
          "bar": [
           {
            "error_x": {
             "color": "#2a3f5f"
            },
            "error_y": {
             "color": "#2a3f5f"
            },
            "marker": {
             "line": {
              "color": "#E5ECF6",
              "width": 0.5
             },
             "pattern": {
              "fillmode": "overlay",
              "size": 10,
              "solidity": 0.2
             }
            },
            "type": "bar"
           }
          ],
          "barpolar": [
           {
            "marker": {
             "line": {
              "color": "#E5ECF6",
              "width": 0.5
             },
             "pattern": {
              "fillmode": "overlay",
              "size": 10,
              "solidity": 0.2
             }
            },
            "type": "barpolar"
           }
          ],
          "carpet": [
           {
            "aaxis": {
             "endlinecolor": "#2a3f5f",
             "gridcolor": "white",
             "linecolor": "white",
             "minorgridcolor": "white",
             "startlinecolor": "#2a3f5f"
            },
            "baxis": {
             "endlinecolor": "#2a3f5f",
             "gridcolor": "white",
             "linecolor": "white",
             "minorgridcolor": "white",
             "startlinecolor": "#2a3f5f"
            },
            "type": "carpet"
           }
          ],
          "choropleth": [
           {
            "colorbar": {
             "outlinewidth": 0,
             "ticks": ""
            },
            "type": "choropleth"
           }
          ],
          "contour": [
           {
            "colorbar": {
             "outlinewidth": 0,
             "ticks": ""
            },
            "colorscale": [
             [
              0,
              "#0d0887"
             ],
             [
              0.1111111111111111,
              "#46039f"
             ],
             [
              0.2222222222222222,
              "#7201a8"
             ],
             [
              0.3333333333333333,
              "#9c179e"
             ],
             [
              0.4444444444444444,
              "#bd3786"
             ],
             [
              0.5555555555555556,
              "#d8576b"
             ],
             [
              0.6666666666666666,
              "#ed7953"
             ],
             [
              0.7777777777777778,
              "#fb9f3a"
             ],
             [
              0.8888888888888888,
              "#fdca26"
             ],
             [
              1,
              "#f0f921"
             ]
            ],
            "type": "contour"
           }
          ],
          "contourcarpet": [
           {
            "colorbar": {
             "outlinewidth": 0,
             "ticks": ""
            },
            "type": "contourcarpet"
           }
          ],
          "heatmap": [
           {
            "colorbar": {
             "outlinewidth": 0,
             "ticks": ""
            },
            "colorscale": [
             [
              0,
              "#0d0887"
             ],
             [
              0.1111111111111111,
              "#46039f"
             ],
             [
              0.2222222222222222,
              "#7201a8"
             ],
             [
              0.3333333333333333,
              "#9c179e"
             ],
             [
              0.4444444444444444,
              "#bd3786"
             ],
             [
              0.5555555555555556,
              "#d8576b"
             ],
             [
              0.6666666666666666,
              "#ed7953"
             ],
             [
              0.7777777777777778,
              "#fb9f3a"
             ],
             [
              0.8888888888888888,
              "#fdca26"
             ],
             [
              1,
              "#f0f921"
             ]
            ],
            "type": "heatmap"
           }
          ],
          "histogram": [
           {
            "marker": {
             "pattern": {
              "fillmode": "overlay",
              "size": 10,
              "solidity": 0.2
             }
            },
            "type": "histogram"
           }
          ],
          "histogram2d": [
           {
            "colorbar": {
             "outlinewidth": 0,
             "ticks": ""
            },
            "colorscale": [
             [
              0,
              "#0d0887"
             ],
             [
              0.1111111111111111,
              "#46039f"
             ],
             [
              0.2222222222222222,
              "#7201a8"
             ],
             [
              0.3333333333333333,
              "#9c179e"
             ],
             [
              0.4444444444444444,
              "#bd3786"
             ],
             [
              0.5555555555555556,
              "#d8576b"
             ],
             [
              0.6666666666666666,
              "#ed7953"
             ],
             [
              0.7777777777777778,
              "#fb9f3a"
             ],
             [
              0.8888888888888888,
              "#fdca26"
             ],
             [
              1,
              "#f0f921"
             ]
            ],
            "type": "histogram2d"
           }
          ],
          "histogram2dcontour": [
           {
            "colorbar": {
             "outlinewidth": 0,
             "ticks": ""
            },
            "colorscale": [
             [
              0,
              "#0d0887"
             ],
             [
              0.1111111111111111,
              "#46039f"
             ],
             [
              0.2222222222222222,
              "#7201a8"
             ],
             [
              0.3333333333333333,
              "#9c179e"
             ],
             [
              0.4444444444444444,
              "#bd3786"
             ],
             [
              0.5555555555555556,
              "#d8576b"
             ],
             [
              0.6666666666666666,
              "#ed7953"
             ],
             [
              0.7777777777777778,
              "#fb9f3a"
             ],
             [
              0.8888888888888888,
              "#fdca26"
             ],
             [
              1,
              "#f0f921"
             ]
            ],
            "type": "histogram2dcontour"
           }
          ],
          "mesh3d": [
           {
            "colorbar": {
             "outlinewidth": 0,
             "ticks": ""
            },
            "type": "mesh3d"
           }
          ],
          "parcoords": [
           {
            "line": {
             "colorbar": {
              "outlinewidth": 0,
              "ticks": ""
             }
            },
            "type": "parcoords"
           }
          ],
          "pie": [
           {
            "automargin": true,
            "type": "pie"
           }
          ],
          "scatter": [
           {
            "fillpattern": {
             "fillmode": "overlay",
             "size": 10,
             "solidity": 0.2
            },
            "type": "scatter"
           }
          ],
          "scatter3d": [
           {
            "line": {
             "colorbar": {
              "outlinewidth": 0,
              "ticks": ""
             }
            },
            "marker": {
             "colorbar": {
              "outlinewidth": 0,
              "ticks": ""
             }
            },
            "type": "scatter3d"
           }
          ],
          "scattercarpet": [
           {
            "marker": {
             "colorbar": {
              "outlinewidth": 0,
              "ticks": ""
             }
            },
            "type": "scattercarpet"
           }
          ],
          "scattergeo": [
           {
            "marker": {
             "colorbar": {
              "outlinewidth": 0,
              "ticks": ""
             }
            },
            "type": "scattergeo"
           }
          ],
          "scattergl": [
           {
            "marker": {
             "colorbar": {
              "outlinewidth": 0,
              "ticks": ""
             }
            },
            "type": "scattergl"
           }
          ],
          "scattermap": [
           {
            "marker": {
             "colorbar": {
              "outlinewidth": 0,
              "ticks": ""
             }
            },
            "type": "scattermap"
           }
          ],
          "scattermapbox": [
           {
            "marker": {
             "colorbar": {
              "outlinewidth": 0,
              "ticks": ""
             }
            },
            "type": "scattermapbox"
           }
          ],
          "scatterpolar": [
           {
            "marker": {
             "colorbar": {
              "outlinewidth": 0,
              "ticks": ""
             }
            },
            "type": "scatterpolar"
           }
          ],
          "scatterpolargl": [
           {
            "marker": {
             "colorbar": {
              "outlinewidth": 0,
              "ticks": ""
             }
            },
            "type": "scatterpolargl"
           }
          ],
          "scatterternary": [
           {
            "marker": {
             "colorbar": {
              "outlinewidth": 0,
              "ticks": ""
             }
            },
            "type": "scatterternary"
           }
          ],
          "surface": [
           {
            "colorbar": {
             "outlinewidth": 0,
             "ticks": ""
            },
            "colorscale": [
             [
              0,
              "#0d0887"
             ],
             [
              0.1111111111111111,
              "#46039f"
             ],
             [
              0.2222222222222222,
              "#7201a8"
             ],
             [
              0.3333333333333333,
              "#9c179e"
             ],
             [
              0.4444444444444444,
              "#bd3786"
             ],
             [
              0.5555555555555556,
              "#d8576b"
             ],
             [
              0.6666666666666666,
              "#ed7953"
             ],
             [
              0.7777777777777778,
              "#fb9f3a"
             ],
             [
              0.8888888888888888,
              "#fdca26"
             ],
             [
              1,
              "#f0f921"
             ]
            ],
            "type": "surface"
           }
          ],
          "table": [
           {
            "cells": {
             "fill": {
              "color": "#EBF0F8"
             },
             "line": {
              "color": "white"
             }
            },
            "header": {
             "fill": {
              "color": "#C8D4E3"
             },
             "line": {
              "color": "white"
             }
            },
            "type": "table"
           }
          ]
         },
         "layout": {
          "annotationdefaults": {
           "arrowcolor": "#2a3f5f",
           "arrowhead": 0,
           "arrowwidth": 1
          },
          "autotypenumbers": "strict",
          "coloraxis": {
           "colorbar": {
            "outlinewidth": 0,
            "ticks": ""
           }
          },
          "colorscale": {
           "diverging": [
            [
             0,
             "#8e0152"
            ],
            [
             0.1,
             "#c51b7d"
            ],
            [
             0.2,
             "#de77ae"
            ],
            [
             0.3,
             "#f1b6da"
            ],
            [
             0.4,
             "#fde0ef"
            ],
            [
             0.5,
             "#f7f7f7"
            ],
            [
             0.6,
             "#e6f5d0"
            ],
            [
             0.7,
             "#b8e186"
            ],
            [
             0.8,
             "#7fbc41"
            ],
            [
             0.9,
             "#4d9221"
            ],
            [
             1,
             "#276419"
            ]
           ],
           "sequential": [
            [
             0,
             "#0d0887"
            ],
            [
             0.1111111111111111,
             "#46039f"
            ],
            [
             0.2222222222222222,
             "#7201a8"
            ],
            [
             0.3333333333333333,
             "#9c179e"
            ],
            [
             0.4444444444444444,
             "#bd3786"
            ],
            [
             0.5555555555555556,
             "#d8576b"
            ],
            [
             0.6666666666666666,
             "#ed7953"
            ],
            [
             0.7777777777777778,
             "#fb9f3a"
            ],
            [
             0.8888888888888888,
             "#fdca26"
            ],
            [
             1,
             "#f0f921"
            ]
           ],
           "sequentialminus": [
            [
             0,
             "#0d0887"
            ],
            [
             0.1111111111111111,
             "#46039f"
            ],
            [
             0.2222222222222222,
             "#7201a8"
            ],
            [
             0.3333333333333333,
             "#9c179e"
            ],
            [
             0.4444444444444444,
             "#bd3786"
            ],
            [
             0.5555555555555556,
             "#d8576b"
            ],
            [
             0.6666666666666666,
             "#ed7953"
            ],
            [
             0.7777777777777778,
             "#fb9f3a"
            ],
            [
             0.8888888888888888,
             "#fdca26"
            ],
            [
             1,
             "#f0f921"
            ]
           ]
          },
          "colorway": [
           "#636efa",
           "#EF553B",
           "#00cc96",
           "#ab63fa",
           "#FFA15A",
           "#19d3f3",
           "#FF6692",
           "#B6E880",
           "#FF97FF",
           "#FECB52"
          ],
          "font": {
           "color": "#2a3f5f"
          },
          "geo": {
           "bgcolor": "white",
           "lakecolor": "white",
           "landcolor": "#E5ECF6",
           "showlakes": true,
           "showland": true,
           "subunitcolor": "white"
          },
          "hoverlabel": {
           "align": "left"
          },
          "hovermode": "closest",
          "mapbox": {
           "style": "light"
          },
          "paper_bgcolor": "white",
          "plot_bgcolor": "#E5ECF6",
          "polar": {
           "angularaxis": {
            "gridcolor": "white",
            "linecolor": "white",
            "ticks": ""
           },
           "bgcolor": "#E5ECF6",
           "radialaxis": {
            "gridcolor": "white",
            "linecolor": "white",
            "ticks": ""
           }
          },
          "scene": {
           "xaxis": {
            "backgroundcolor": "#E5ECF6",
            "gridcolor": "white",
            "gridwidth": 2,
            "linecolor": "white",
            "showbackground": true,
            "ticks": "",
            "zerolinecolor": "white"
           },
           "yaxis": {
            "backgroundcolor": "#E5ECF6",
            "gridcolor": "white",
            "gridwidth": 2,
            "linecolor": "white",
            "showbackground": true,
            "ticks": "",
            "zerolinecolor": "white"
           },
           "zaxis": {
            "backgroundcolor": "#E5ECF6",
            "gridcolor": "white",
            "gridwidth": 2,
            "linecolor": "white",
            "showbackground": true,
            "ticks": "",
            "zerolinecolor": "white"
           }
          },
          "shapedefaults": {
           "line": {
            "color": "#2a3f5f"
           }
          },
          "ternary": {
           "aaxis": {
            "gridcolor": "white",
            "linecolor": "white",
            "ticks": ""
           },
           "baxis": {
            "gridcolor": "white",
            "linecolor": "white",
            "ticks": ""
           },
           "bgcolor": "#E5ECF6",
           "caxis": {
            "gridcolor": "white",
            "linecolor": "white",
            "ticks": ""
           }
          },
          "title": {
           "x": 0.05
          },
          "xaxis": {
           "automargin": true,
           "gridcolor": "white",
           "linecolor": "white",
           "ticks": "",
           "title": {
            "standoff": 15
           },
           "zerolinecolor": "white",
           "zerolinewidth": 2
          },
          "yaxis": {
           "automargin": true,
           "gridcolor": "white",
           "linecolor": "white",
           "ticks": "",
           "title": {
            "standoff": 15
           },
           "zerolinecolor": "white",
           "zerolinewidth": 2
          }
         }
        },
        "title": {
         "text": "KDE Plot for Feature 'T' by Label"
        },
        "xaxis": {
         "title": {
          "text": "T"
         }
        },
        "yaxis": {
         "title": {
          "text": "Density"
         }
        }
       }
      }
     },
     "metadata": {},
     "output_type": "display_data"
    },
    {
     "data": {
      "application/vnd.plotly.v1+json": {
       "config": {
        "plotlyServerURL": "https://plot.ly"
       },
       "data": [
        {
         "mode": "lines",
         "name": "Label 0",
         "type": "scatter",
         "x": {
          "bdata": "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",
          "dtype": "f8"
         },
         "y": {
          "bdata": "HL0NZYPemj9zn+n3U3qcP1Cdb7RvEZ4/LaKQELPHnz8exl7LAOGgPwDqKTubD6I/CnLZG+N4oz/ieFq81h2lP8Gd9ij+9qY/iM9Wu1H2qD/L0UWjHAurPwdvZmM0J60/GUabV29Erz/TqMdzg7SwP+gpp6LO1LE/J2iDA/4Tsz9SQAveI4e0P8cLbl+cQ7Y/HOsYkF9auD9LzLxrjdO6PzXPXOBYq70/bPjZT6powD/Vfze5XhXCP6/eNSLfy8M/aX7u8Xd9xT9ahKBw1SDHP5J06TOptcg/5ZWq1dhGyj8VwL2td+rLP0z8rxg7v80/R97SYa7nzz/asZFPBULRP8AQ3eUM1tI/3jbfkma11D80lF4QiN7WP6PR2rxrStk/xR94nUHw2z/kKHE7xMreP4nJKPMN7+A/upTHCGie4j+NT1OfEYXkP27PdEw5vOY/+21plGph6T+lplm8FpHsPxSUckTAL/A/h9MmV51o8j9mvvTdYOr0Pyo+nO9jn/c/SsTECT1l+j+iq2uFLw/9P9wDqeTFav8/NHH3Bv6iAEB6y37O/ToBQJOnDOWcbgFAVBmZEuo3AUBwkbEArJoAQLtQzI+fR/8/WxdJ6wHP/D+BE8k1lvz5P69lr0qfA/c/4bGh2UsT9D+9HBgLzVHxP27/7c7Vsu0/yW45qZVv6T8btvpEW97lP1WHNWgu8uI/WL4kDk+T4D8NsfPLt0vdPz6/BAyRHto/WOUWH+dz1z/+6hX6Wi3VP4KW+5nhONM/gikGM7GN0T/sS3igBijQPw0WYTMZCs4/e8BOqbk/zD+ZalwhPeDKP//Lu3SX1Mk/gV3u4n4CyT+oZK4831DIP7fwNAw+rMc/s7VIjNcJxz+AiB5oqmjGPyd1HhM50MU/tw3R61hNxT/ISkBO2u3EP6GF0OYSvMQ/DABRAVO7xD/1gB64EubEPzBM1GE8LsU/zlHOcn5/xT+UPrCSG8PFP8cR7Ndc5MU/RQhGVanUxT+cNX+dXY7FPyE2bWXHFcU/6UwC3BN4xD+ijM+IcsjDPyHuheYQHMM/HsVVMs+Fwj9JbNm+mBLCPwcn6LUgx8E/unvIGHKfwT8i6MINWpDBP2UTU1BNisE/MlUR/Rp9wT+KHrY9mFvBP0WkRLl4HsE/Y4T667vFwD/8SicQa1jAP/czihKGxb8/vNnNX3nmvj8kxkXBQi6+PwFjt4Xbrr0/gKrwkFxtvT8NtFdSjGC9P3JBou2Acr0/QVbNS+uEvT+kZNAzEne9Pz+TqIYxLL0/I4S7H+mQvD9y0ACSp567P9h4NLp1XLo/sQ5L2RvduD+pTdDlJTu3P19ELJS0k7U/w9TkAzcBtD8ohGIUGJeyP+KqQcgiX7E/TLEt8PZYsD8R4woS6fauP8uvRk1Eb60/SObFHqn4qz8d45BQmXOqPx7RkA03yag/hMK+WLDupj/UBILx/OWkP4MU5iYyvKI/magAyyGGoD9iuBfgabicP6VIHZfmrJg/pBnHL+sSlT++YTuuXAmSP57S431dSI8/BXySYwLciz9Wrb7OEtaJP9jxio5MOIk/jNiUzi0Cij+g+LcwPDKMP81Mj4Smw48/ErL2tWJUkj9x6I9W82GVPwxs17k18Jg/QQKdkjfXnD8QPCMktnCgPxj3cCk6Z6I/QKGG0kwspD/U2KEMK56lP/w19ltXoKY/FMe/t28fpz+vDQ9a6xOnPzartRcug6Y/XUz2wa9+pT8DY7HLVyGkP5VBVOuIi6I/sI5rOJjeoD+Ezus2AnGePyEY8+wfYZs/ztOSDAGrmD/KubendVqWP449TeQLbJQ/Y1rJ3InRkj9P9jR9WXeRPzANUFe8SZA/9k/MfKVxjj+OA8kNwnWMP8Pn0d9cmYo/svvwiIPgiD+B8n3sF1WHPxFYRS9qAYY/nWNBK3TrhD/lfkkbwBGEP6HY8CCEaoM/KDFW/O7kgj/5hkuTJmyCP1yD4HEm64E/bkFV8Y9QgT96831gl5GAPwpDToH8Vn8/YIHknc5GfT89xyydXgl7P6UrptWBvHg/ZnVXoQh/dj/NgQioHWt0P/SbP1QvknI/Hy9ztf76cD+lziNY20NvP8QFzGRg9mw/DOdiyWLsaj/U3xWQsgJpPw==",
          "dtype": "f8"
         }
        },
        {
         "mode": "lines",
         "name": "Label 1",
         "type": "scatter",
         "x": {
          "bdata": "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",
          "dtype": "f8"
         },
         "y": {
          "bdata": "ebpwa2+puz8yB3kB1eu9PxgIxaQWG8A/NTR6YI1CwT+vDTW2uGrCPwdgCFQoksM/gaCvQZy3xD9nanmEDNrFP86MYRKt+MY/d9lwqO0SyD+0xeJhdSjJPwpIgEAaOco/eIKbLNVEyz9phbNEs0vMP67BSprFTc0/FY+mqxBLzj8ILAMDfUPPP0YOni9lG9A/VBE7U0OS0D8Y/yXRBAbRP2K3QxU7dtE/44wqe2Di0T8USH5q3knSP0DvSMwVrNI/Of+gSGkI0z9XvkGQSF7TP5/AVtg7rdM//PRvou700z9V06zwODXUP5uhVR4mbtQ/N89jvfif1D/qF5QOK8vUP4guJ+dr8NQ/DAxyGJgQ1T+U8qussCzVPxdJOIXORdU/HUnuFBRd1T9JypURnnPVP6kEMgl0itU/i21EyXmi1T8BUat4YrzVP1Jc3imm2NU/H7WOhXr31T9HLg8AzxjWP0oUh9lMPNY/7yXe9Fph1j9gpVJeJYfWP2IOJCuorNY/BlmYMb3Q1j8CGlP1K/LWP2N2hQi7D9c/Ha+XD0Io1z9Mw/CKuzrXP0xhj4lVRtc/GQUrb4BK1z8Q1EIJ+0bXP4ZrWkfbO9c/rMXzCpMp1z/5l6aq8BDXP+om3O8a89Y/ranOhojR1j8Wr+EK863WPyVogwxGitY//xOwn4po1j8R9wAx0ErWP+uI9YgTM9Y//YfqByUj1j8HWgY/jxzWP7pqYhl/INY/t2oky64v1j/3hYqwVErWP48d/ysXcNY/eaCJZwag1j+yRpqjnNjWPx8dc3TFF9c/DUax+uta1z9cIlTGD5/XP08U7LLf4Nc/fBg3rdkc2D//lvD8bU/YPwgEwmckddg/0iJ0UsGK2D+0OA/xaI3YPyUYI6G+etg/BCRZtP5Q2D8ZToQ7EQ/YP7uzr8eUtNc/gWe5kOBB1z83xj73/bfWP2QGBuCZGNY/rrIl5+5l1T8qkeXWqaLUP5zLGyHK0dM/UGtJS4D20j8zbYRKDBTSPw5MHbSdLdE/x3HibTdG0D+sMJxlMMHOP2mD2a1R/sw/vZXfgeFHyz/U0VY2IaHJP8hoZ6SFDMg/6gQYOsKLxj9tx/QP3B/FP0N3RKZCycM/61Ts0+uHwj+nem+NcFvBP9C/i3MoQ8A/hOm/B4V8vj8EY7OLs5e8PwvxyqoK1ro/M82GXcc1uT9pFiQhQ7W3P6/Bw0T6UrY/Wp3Fk4wNtT96w0pquuOzP9XKWT1g1LI/h4LYZ3LesT+yQb+r+gCxP15/IVkYO7A/KXSSAgcYrz/pWCAiJuatP0FxV16K36w/aeuQppEDrD/YEsWBDlKrP7z1atJXy6o/9pZSaFJwqj87rzqgcUKqP/VIM9KsQ6o/19GSCWh2qj896pFnT92qP5gpcpYle6s/KCdmxoZSrD9ku8a9omWtP2wx9YDxta4/1JlcdPMhsD9v0c4KVQexP0MVmv3qCbI/Vu7tGKQnsz/pjglogV20P7Z5nZ2Sp7U/oMsnWP8Atz+6cI3iHWS4P6pX4jOXyrk/rJhuBZctuz9nkBvtBYa8PybAqpfKzL0/TkVZlA77vj8FCeZZQQXAP0pmtGnPesA/PVYciuzbwD/tDhN56CbBP+5e2re1WsE/btQSQ+92wT8djZaX1XvBP2NLMEpDasE/ZuC+D5pDwT+++PeZqQnBPzPiSxeSvsA/q05oaaRkwD8LbtB/hPy/PxgRcWSAG78/mccNbpcqvj8I6dHtrC29Pzc6U/kPKLw/Ft6ddmwcuz8zQuupyQy6P60NjhSV+rg/0VXFlrfmtz8hpPQhstG2P8Rvyei+u7U/jyXi4vOktD8qmYmmY42zP2le7QM6dbI/6zv8Y9JcsT+v+N2gxkSwPzjuGJnrW64/XSXsIwYzrD+20+H9mhGqPzfytQrE+qc/mrgLsdLxpT8UawftJvqjP1gP3lgFF6I/v37SfG9LoD8DRJheAjSdP5AJ8TeqCZo/GGQRheMalz/5lffrfmmUP4z1sFoO9pE/shfsbOV/jz8qbiUt7oqLPzwV3d3sB4g/vspyixDwhD9LkyskYjuCPyx2dYhMwn8/rqbyVnWwez/eSs8j1i54PxFgz4t0K3U/FryYaDuVcj+uMzQwVVxwPw==",
          "dtype": "f8"
         }
        },
        {
         "mode": "lines",
         "name": "Label 2",
         "type": "scatter",
         "x": {
          "bdata": "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",
          "dtype": "f8"
         },
         "y": {
          "bdata": "a86lN1/Fdz9lHHhEghF+P/DuN8rlQIM/HjFGGqDXiD+FSanb3A+QP8HXhv9ttpQ/9oH2aRKGmj+xqjrEvs6gP9xCyIgvB6U/Xfe94hHsqT/dzeTboHGvPy+PNo1yv7I/48kPln72tT8r1yP42EO5Py4NlhzCh7w/v/tiz5mevz+jECFmojHBP+SsfeH/WMI/urLo7qo1wz+TQVpocrvDPxrr1l3M4sM/cvGrzoupwz9NQCqSFhPDP0OtqkUUKMI/ASB5tqD1wD8ZBvtBOBi/P9ZJX1t++7s/gjXOMTy6uD/z+bvDine1P09ptcUmUrI/ohI24pvFrj8ikh1vuHapPz8JYldJzaQ/nSbn19jRoD84y2NEfQObP3g2efI9o5U/HDm0WkZgkT99lwuobyKMP59TcaJGFYc/+XXeVHhFgz95+akz+meAPzkbwmYMe3w/BwlIQe0neT9ZyFoAQox2P9Gt/A0rdXQ/H/csLk/Dcj/cUiy2MmZxPxG5QYZqV3A/dsmEGjwsbz8cc7pwVEZuP5cyDj8y/G0/fVuc7xBGbj9emBGhBhNvP+UXsNRBJHA/KvYFGbPhcD+q/lgLKa1xP+louG11cHI/T3kN58AVcz9wkn5bY4lzP/z/5ayHu3M/IzOmD22hcz+k3Nf0JDZzP8CoGP68enI/FJJck9Z1cT9eYcsfvzJwP7B+Vn1UgG0/bGS9f3Bdaj8+S+yJ7B5nP46H4IQD5WM/DR0g5uDLYD/MMq9uRtRbP5S4u2ZAoFY/3jifK8EPUj+Wqv792FZMP2LQ7agM5UU/jds3twy7QD/08IIZZoM5P7piGhsevjM/Fm1CgCPsLz+iCwlQSAwsP7YzhHresis/ppPC9/vbLj/YljpWC9UyP89l1gLEMDg/lhGGXJivPz+nS1uRocJEP6LWt8To8Eo/kHqYrMw5UT+qjVzuhqdVP3iK76LVulo/faNOg9kwYD/t9bxqtj5jP27itaMmcWY/CMT6B1CsaT8eeSMbl89sP2FLsD6Ot28/mtR6FzkgcT/icBT9eyRyPz1uiL6P2nI/NJ9Ec1s4cz9+xhwcoThzPwxWlrmG23I/0iIjk6cmcj9pMdHZsyRxP0fhO0hzyW8/kL8h64zybD8jPilRRe9pPw4n7WTv7mY/nMX5xH8mZD++g3n/1dNhPykXj4ZfRGA/bAJtcTfAXz9X0i7mFjphP3m5VnNpJ2U/9k9nTZHdbD8DJsmdPAx1P1E5IZvJo38/vt/Bqf3vhz/ASSoK7v2RP2yeqa8+sZo/evuzhIN6oz8O3adNuuyrP1xc6uTTpbM/weJw7jYhuz/SZ2Y3WGDCP7xuYKELbMg/8TDHEPzWzz/qdFjpQlzUPzLNRH09i9k/ANc9T+Nv3z8wtldmBfriP0V6DddUeeY//2TZj+0b6j+tKugLOMHtP5mAfx/IofA/bKcaFU898j/8Sc5FIJ/zPyUAS8TgtPQ/YQeVqn1v9T/BdPGxhsT1P1OeHc4lr/U/PUUR6pMw9T/iytyF+0/0PyJdOijNGfM/mc7PJZye8T/BWBwyUuPvP1a2o22QTuw/a8lnraam6D8UxJKPpA/lP+5eAbHyp+E/j43saUAO3T/kdNnOD3vXPx1IEDp1qdI/YvXCryZCzT8YeEkOB8LGPy7l2MGOxsE/zsYRxl+BvD8bE78dCUq4P/nZjSFC47Y/LrBObS9luD9CAjcmsAm9P/iyLCIcl8I/07MyMpuoyD9iBa1+ooLQPyvyujGw/9U/bDVOJ0zz3D9GpLRpMr/iP8VZD9NQ2uc/5ZSiZuTK7T/SSY3z6UHyP4deLz1X9PU/nHJ+Yznm+T9NGFXG7fj9P2NAE5VcAwFAUsFUNl3yAkD4iEOc1rIEQGRzQ2GhLgZAkUTmaN1RB0BRtlHyqgwIQK4bCyebVAhA4VZVsKklCEAk8FfqnoIHQGI+WbHNdAZAuhD5VjULBUDmeQZvJFkDQImjDISIdAFAFPS1Dj7o/j/7VKwBeNv6P1lCmlmn6fY//QBAYs4y8z+deSMjkp3vPz6/iVvmmek/jhjmGjJp5D9OFzXLBwzgP88rKBGk79g/rkPveQw00z+WprrtIG3NP9JCuV/PiMY/BhQx83VWwT8Nq46LrfG6Pw==",
          "dtype": "f8"
         }
        },
        {
         "mode": "lines",
         "name": "Label 3",
         "type": "scatter",
         "x": {
          "bdata": "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",
          "dtype": "f8"
         },
         "y": {
          "bdata": "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",
          "dtype": "f8"
         }
        }
       ],
       "layout": {
        "template": {
         "data": {
          "bar": [
           {
            "error_x": {
             "color": "#2a3f5f"
            },
            "error_y": {
             "color": "#2a3f5f"
            },
            "marker": {
             "line": {
              "color": "#E5ECF6",
              "width": 0.5
             },
             "pattern": {
              "fillmode": "overlay",
              "size": 10,
              "solidity": 0.2
             }
            },
            "type": "bar"
           }
          ],
          "barpolar": [
           {
            "marker": {
             "line": {
              "color": "#E5ECF6",
              "width": 0.5
             },
             "pattern": {
              "fillmode": "overlay",
              "size": 10,
              "solidity": 0.2
             }
            },
            "type": "barpolar"
           }
          ],
          "carpet": [
           {
            "aaxis": {
             "endlinecolor": "#2a3f5f",
             "gridcolor": "white",
             "linecolor": "white",
             "minorgridcolor": "white",
             "startlinecolor": "#2a3f5f"
            },
            "baxis": {
             "endlinecolor": "#2a3f5f",
             "gridcolor": "white",
             "linecolor": "white",
             "minorgridcolor": "white",
             "startlinecolor": "#2a3f5f"
            },
            "type": "carpet"
           }
          ],
          "choropleth": [
           {
            "colorbar": {
             "outlinewidth": 0,
             "ticks": ""
            },
            "type": "choropleth"
           }
          ],
          "contour": [
           {
            "colorbar": {
             "outlinewidth": 0,
             "ticks": ""
            },
            "colorscale": [
             [
              0,
              "#0d0887"
             ],
             [
              0.1111111111111111,
              "#46039f"
             ],
             [
              0.2222222222222222,
              "#7201a8"
             ],
             [
              0.3333333333333333,
              "#9c179e"
             ],
             [
              0.4444444444444444,
              "#bd3786"
             ],
             [
              0.5555555555555556,
              "#d8576b"
             ],
             [
              0.6666666666666666,
              "#ed7953"
             ],
             [
              0.7777777777777778,
              "#fb9f3a"
             ],
             [
              0.8888888888888888,
              "#fdca26"
             ],
             [
              1,
              "#f0f921"
             ]
            ],
            "type": "contour"
           }
          ],
          "contourcarpet": [
           {
            "colorbar": {
             "outlinewidth": 0,
             "ticks": ""
            },
            "type": "contourcarpet"
           }
          ],
          "heatmap": [
           {
            "colorbar": {
             "outlinewidth": 0,
             "ticks": ""
            },
            "colorscale": [
             [
              0,
              "#0d0887"
             ],
             [
              0.1111111111111111,
              "#46039f"
             ],
             [
              0.2222222222222222,
              "#7201a8"
             ],
             [
              0.3333333333333333,
              "#9c179e"
             ],
             [
              0.4444444444444444,
              "#bd3786"
             ],
             [
              0.5555555555555556,
              "#d8576b"
             ],
             [
              0.6666666666666666,
              "#ed7953"
             ],
             [
              0.7777777777777778,
              "#fb9f3a"
             ],
             [
              0.8888888888888888,
              "#fdca26"
             ],
             [
              1,
              "#f0f921"
             ]
            ],
            "type": "heatmap"
           }
          ],
          "histogram": [
           {
            "marker": {
             "pattern": {
              "fillmode": "overlay",
              "size": 10,
              "solidity": 0.2
             }
            },
            "type": "histogram"
           }
          ],
          "histogram2d": [
           {
            "colorbar": {
             "outlinewidth": 0,
             "ticks": ""
            },
            "colorscale": [
             [
              0,
              "#0d0887"
             ],
             [
              0.1111111111111111,
              "#46039f"
             ],
             [
              0.2222222222222222,
              "#7201a8"
             ],
             [
              0.3333333333333333,
              "#9c179e"
             ],
             [
              0.4444444444444444,
              "#bd3786"
             ],
             [
              0.5555555555555556,
              "#d8576b"
             ],
             [
              0.6666666666666666,
              "#ed7953"
             ],
             [
              0.7777777777777778,
              "#fb9f3a"
             ],
             [
              0.8888888888888888,
              "#fdca26"
             ],
             [
              1,
              "#f0f921"
             ]
            ],
            "type": "histogram2d"
           }
          ],
          "histogram2dcontour": [
           {
            "colorbar": {
             "outlinewidth": 0,
             "ticks": ""
            },
            "colorscale": [
             [
              0,
              "#0d0887"
             ],
             [
              0.1111111111111111,
              "#46039f"
             ],
             [
              0.2222222222222222,
              "#7201a8"
             ],
             [
              0.3333333333333333,
              "#9c179e"
             ],
             [
              0.4444444444444444,
              "#bd3786"
             ],
             [
              0.5555555555555556,
              "#d8576b"
             ],
             [
              0.6666666666666666,
              "#ed7953"
             ],
             [
              0.7777777777777778,
              "#fb9f3a"
             ],
             [
              0.8888888888888888,
              "#fdca26"
             ],
             [
              1,
              "#f0f921"
             ]
            ],
            "type": "histogram2dcontour"
           }
          ],
          "mesh3d": [
           {
            "colorbar": {
             "outlinewidth": 0,
             "ticks": ""
            },
            "type": "mesh3d"
           }
          ],
          "parcoords": [
           {
            "line": {
             "colorbar": {
              "outlinewidth": 0,
              "ticks": ""
             }
            },
            "type": "parcoords"
           }
          ],
          "pie": [
           {
            "automargin": true,
            "type": "pie"
           }
          ],
          "scatter": [
           {
            "fillpattern": {
             "fillmode": "overlay",
             "size": 10,
             "solidity": 0.2
            },
            "type": "scatter"
           }
          ],
          "scatter3d": [
           {
            "line": {
             "colorbar": {
              "outlinewidth": 0,
              "ticks": ""
             }
            },
            "marker": {
             "colorbar": {
              "outlinewidth": 0,
              "ticks": ""
             }
            },
            "type": "scatter3d"
           }
          ],
          "scattercarpet": [
           {
            "marker": {
             "colorbar": {
              "outlinewidth": 0,
              "ticks": ""
             }
            },
            "type": "scattercarpet"
           }
          ],
          "scattergeo": [
           {
            "marker": {
             "colorbar": {
              "outlinewidth": 0,
              "ticks": ""
             }
            },
            "type": "scattergeo"
           }
          ],
          "scattergl": [
           {
            "marker": {
             "colorbar": {
              "outlinewidth": 0,
              "ticks": ""
             }
            },
            "type": "scattergl"
           }
          ],
          "scattermap": [
           {
            "marker": {
             "colorbar": {
              "outlinewidth": 0,
              "ticks": ""
             }
            },
            "type": "scattermap"
           }
          ],
          "scattermapbox": [
           {
            "marker": {
             "colorbar": {
              "outlinewidth": 0,
              "ticks": ""
             }
            },
            "type": "scattermapbox"
           }
          ],
          "scatterpolar": [
           {
            "marker": {
             "colorbar": {
              "outlinewidth": 0,
              "ticks": ""
             }
            },
            "type": "scatterpolar"
           }
          ],
          "scatterpolargl": [
           {
            "marker": {
             "colorbar": {
              "outlinewidth": 0,
              "ticks": ""
             }
            },
            "type": "scatterpolargl"
           }
          ],
          "scatterternary": [
           {
            "marker": {
             "colorbar": {
              "outlinewidth": 0,
              "ticks": ""
             }
            },
            "type": "scatterternary"
           }
          ],
          "surface": [
           {
            "colorbar": {
             "outlinewidth": 0,
             "ticks": ""
            },
            "colorscale": [
             [
              0,
              "#0d0887"
             ],
             [
              0.1111111111111111,
              "#46039f"
             ],
             [
              0.2222222222222222,
              "#7201a8"
             ],
             [
              0.3333333333333333,
              "#9c179e"
             ],
             [
              0.4444444444444444,
              "#bd3786"
             ],
             [
              0.5555555555555556,
              "#d8576b"
             ],
             [
              0.6666666666666666,
              "#ed7953"
             ],
             [
              0.7777777777777778,
              "#fb9f3a"
             ],
             [
              0.8888888888888888,
              "#fdca26"
             ],
             [
              1,
              "#f0f921"
             ]
            ],
            "type": "surface"
           }
          ],
          "table": [
           {
            "cells": {
             "fill": {
              "color": "#EBF0F8"
             },
             "line": {
              "color": "white"
             }
            },
            "header": {
             "fill": {
              "color": "#C8D4E3"
             },
             "line": {
              "color": "white"
             }
            },
            "type": "table"
           }
          ]
         },
         "layout": {
          "annotationdefaults": {
           "arrowcolor": "#2a3f5f",
           "arrowhead": 0,
           "arrowwidth": 1
          },
          "autotypenumbers": "strict",
          "coloraxis": {
           "colorbar": {
            "outlinewidth": 0,
            "ticks": ""
           }
          },
          "colorscale": {
           "diverging": [
            [
             0,
             "#8e0152"
            ],
            [
             0.1,
             "#c51b7d"
            ],
            [
             0.2,
             "#de77ae"
            ],
            [
             0.3,
             "#f1b6da"
            ],
            [
             0.4,
             "#fde0ef"
            ],
            [
             0.5,
             "#f7f7f7"
            ],
            [
             0.6,
             "#e6f5d0"
            ],
            [
             0.7,
             "#b8e186"
            ],
            [
             0.8,
             "#7fbc41"
            ],
            [
             0.9,
             "#4d9221"
            ],
            [
             1,
             "#276419"
            ]
           ],
           "sequential": [
            [
             0,
             "#0d0887"
            ],
            [
             0.1111111111111111,
             "#46039f"
            ],
            [
             0.2222222222222222,
             "#7201a8"
            ],
            [
             0.3333333333333333,
             "#9c179e"
            ],
            [
             0.4444444444444444,
             "#bd3786"
            ],
            [
             0.5555555555555556,
             "#d8576b"
            ],
            [
             0.6666666666666666,
             "#ed7953"
            ],
            [
             0.7777777777777778,
             "#fb9f3a"
            ],
            [
             0.8888888888888888,
             "#fdca26"
            ],
            [
             1,
             "#f0f921"
            ]
           ],
           "sequentialminus": [
            [
             0,
             "#0d0887"
            ],
            [
             0.1111111111111111,
             "#46039f"
            ],
            [
             0.2222222222222222,
             "#7201a8"
            ],
            [
             0.3333333333333333,
             "#9c179e"
            ],
            [
             0.4444444444444444,
             "#bd3786"
            ],
            [
             0.5555555555555556,
             "#d8576b"
            ],
            [
             0.6666666666666666,
             "#ed7953"
            ],
            [
             0.7777777777777778,
             "#fb9f3a"
            ],
            [
             0.8888888888888888,
             "#fdca26"
            ],
            [
             1,
             "#f0f921"
            ]
           ]
          },
          "colorway": [
           "#636efa",
           "#EF553B",
           "#00cc96",
           "#ab63fa",
           "#FFA15A",
           "#19d3f3",
           "#FF6692",
           "#B6E880",
           "#FF97FF",
           "#FECB52"
          ],
          "font": {
           "color": "#2a3f5f"
          },
          "geo": {
           "bgcolor": "white",
           "lakecolor": "white",
           "landcolor": "#E5ECF6",
           "showlakes": true,
           "showland": true,
           "subunitcolor": "white"
          },
          "hoverlabel": {
           "align": "left"
          },
          "hovermode": "closest",
          "mapbox": {
           "style": "light"
          },
          "paper_bgcolor": "white",
          "plot_bgcolor": "#E5ECF6",
          "polar": {
           "angularaxis": {
            "gridcolor": "white",
            "linecolor": "white",
            "ticks": ""
           },
           "bgcolor": "#E5ECF6",
           "radialaxis": {
            "gridcolor": "white",
            "linecolor": "white",
            "ticks": ""
           }
          },
          "scene": {
           "xaxis": {
            "backgroundcolor": "#E5ECF6",
            "gridcolor": "white",
            "gridwidth": 2,
            "linecolor": "white",
            "showbackground": true,
            "ticks": "",
            "zerolinecolor": "white"
           },
           "yaxis": {
            "backgroundcolor": "#E5ECF6",
            "gridcolor": "white",
            "gridwidth": 2,
            "linecolor": "white",
            "showbackground": true,
            "ticks": "",
            "zerolinecolor": "white"
           },
           "zaxis": {
            "backgroundcolor": "#E5ECF6",
            "gridcolor": "white",
            "gridwidth": 2,
            "linecolor": "white",
            "showbackground": true,
            "ticks": "",
            "zerolinecolor": "white"
           }
          },
          "shapedefaults": {
           "line": {
            "color": "#2a3f5f"
           }
          },
          "ternary": {
           "aaxis": {
            "gridcolor": "white",
            "linecolor": "white",
            "ticks": ""
           },
           "baxis": {
            "gridcolor": "white",
            "linecolor": "white",
            "ticks": ""
           },
           "bgcolor": "#E5ECF6",
           "caxis": {
            "gridcolor": "white",
            "linecolor": "white",
            "ticks": ""
           }
          },
          "title": {
           "x": 0.05
          },
          "xaxis": {
           "automargin": true,
           "gridcolor": "white",
           "linecolor": "white",
           "ticks": "",
           "title": {
            "standoff": 15
           },
           "zerolinecolor": "white",
           "zerolinewidth": 2
          },
          "yaxis": {
           "automargin": true,
           "gridcolor": "white",
           "linecolor": "white",
           "ticks": "",
           "title": {
            "standoff": 15
           },
           "zerolinecolor": "white",
           "zerolinewidth": 2
          }
         }
        },
        "title": {
         "text": "KDE Plot for Feature 'Y' by Label"
        },
        "xaxis": {
         "title": {
          "text": "Y"
         }
        },
        "yaxis": {
         "title": {
          "text": "Density"
         }
        }
       }
      }
     },
     "metadata": {},
     "output_type": "display_data"
    }
   ],
   "source": [
    "import numpy as np\n",
    "import pandas as pd\n",
    "import plotly.graph_objects as go\n",
    "from scipy.stats import gaussian_kde\n",
    "\n",
    "X_test_df = pd.DataFrame(X_test_scaled, columns=X.columns)\n",
    "X_test_df['label'] = y_test.values\n",
    "\n",
    "top_features = importance_df.head(3)['Feature'].tolist()\n",
    "\n",
    "for feature in top_features:\n",
    "    fig = go.Figure()\n",
    "    \n",
    "    for label in sorted(X_test_df['label'].unique()):\n",
    "        data = X_test_df[X_test_df['label'] == label][feature]\n",
    "        \n",
    "        # Compute KDE\n",
    "        kde = gaussian_kde(data)\n",
    "        x_range = np.linspace(data.min(), data.max(), 200)\n",
    "        y_kde = kde(x_range)\n",
    "        \n",
    "        fig.add_trace(go.Scatter(\n",
    "            x=x_range,\n",
    "            y=y_kde,\n",
    "            mode='lines',\n",
    "            name=f'Label {label}'\n",
    "        ))\n",
    "    \n",
    "    fig.update_layout(\n",
    "        title=f\"KDE Plot for Feature '{feature}' by Label\",\n",
    "        xaxis_title=feature,\n",
    "        yaxis_title='Density'\n",
    "    )\n",
    "    \n",
    "    fig.show()\n"
   ]
  },
  {
   "cell_type": "markdown",
   "id": "2916cb36",
   "metadata": {},
   "source": [
    "###  Learning Curve (Train Size vs Accuracy)"
   ]
  },
  {
   "cell_type": "code",
   "execution_count": 5,
   "id": "c57d7abe",
   "metadata": {},
   "outputs": [
    {
     "data": {
      "application/vnd.plotly.v1+json": {
       "config": {
        "plotlyServerURL": "https://plot.ly"
       },
       "data": [
        {
         "mode": "lines+markers",
         "name": "Training Accuracy",
         "type": "scatter",
         "x": {
          "bdata": "mpmZmZmZuT+amZmZmZnJPzQzMzMzM9M/mpmZmZmZ2T8AAAAAAADgPzMzMzMzM+M/Z2ZmZmZm5j+amZmZmZnpP83MzMzMzOw/",
          "dtype": "f8"
         },
         "y": [
          0.9720744680851063,
          0.9729609929078015,
          0.9799084059683852,
          0.9797229916897507,
          0.97775217160078,
          0.9764366967055695,
          0.9822084335823731,
          0.9769541853636917,
          0.9752794602846309
         ]
        },
        {
         "mode": "lines+markers",
         "name": "Validation Accuracy",
         "type": "scatter",
         "x": {
          "bdata": "mpmZmZmZuT+amZmZmZnJPzQzMzMzM9M/mpmZmZmZ2T8AAAAAAADgPzMzMzMzM+M/Z2ZmZmZm5j+amZmZmZnpP83MzMzMzOw/",
          "dtype": "f8"
         },
         "y": [
          0.9551497961354369,
          0.9608225491934054,
          0.9691544052472966,
          0.9711044141109733,
          0.9657862081191279,
          0.9696862258464811,
          0.9753589789044496,
          0.9707498670448502,
          0.9687998581811735
         ]
        }
       ],
       "layout": {
        "template": {
         "data": {
          "bar": [
           {
            "error_x": {
             "color": "#2a3f5f"
            },
            "error_y": {
             "color": "#2a3f5f"
            },
            "marker": {
             "line": {
              "color": "#E5ECF6",
              "width": 0.5
             },
             "pattern": {
              "fillmode": "overlay",
              "size": 10,
              "solidity": 0.2
             }
            },
            "type": "bar"
           }
          ],
          "barpolar": [
           {
            "marker": {
             "line": {
              "color": "#E5ECF6",
              "width": 0.5
             },
             "pattern": {
              "fillmode": "overlay",
              "size": 10,
              "solidity": 0.2
             }
            },
            "type": "barpolar"
           }
          ],
          "carpet": [
           {
            "aaxis": {
             "endlinecolor": "#2a3f5f",
             "gridcolor": "white",
             "linecolor": "white",
             "minorgridcolor": "white",
             "startlinecolor": "#2a3f5f"
            },
            "baxis": {
             "endlinecolor": "#2a3f5f",
             "gridcolor": "white",
             "linecolor": "white",
             "minorgridcolor": "white",
             "startlinecolor": "#2a3f5f"
            },
            "type": "carpet"
           }
          ],
          "choropleth": [
           {
            "colorbar": {
             "outlinewidth": 0,
             "ticks": ""
            },
            "type": "choropleth"
           }
          ],
          "contour": [
           {
            "colorbar": {
             "outlinewidth": 0,
             "ticks": ""
            },
            "colorscale": [
             [
              0,
              "#0d0887"
             ],
             [
              0.1111111111111111,
              "#46039f"
             ],
             [
              0.2222222222222222,
              "#7201a8"
             ],
             [
              0.3333333333333333,
              "#9c179e"
             ],
             [
              0.4444444444444444,
              "#bd3786"
             ],
             [
              0.5555555555555556,
              "#d8576b"
             ],
             [
              0.6666666666666666,
              "#ed7953"
             ],
             [
              0.7777777777777778,
              "#fb9f3a"
             ],
             [
              0.8888888888888888,
              "#fdca26"
             ],
             [
              1,
              "#f0f921"
             ]
            ],
            "type": "contour"
           }
          ],
          "contourcarpet": [
           {
            "colorbar": {
             "outlinewidth": 0,
             "ticks": ""
            },
            "type": "contourcarpet"
           }
          ],
          "heatmap": [
           {
            "colorbar": {
             "outlinewidth": 0,
             "ticks": ""
            },
            "colorscale": [
             [
              0,
              "#0d0887"
             ],
             [
              0.1111111111111111,
              "#46039f"
             ],
             [
              0.2222222222222222,
              "#7201a8"
             ],
             [
              0.3333333333333333,
              "#9c179e"
             ],
             [
              0.4444444444444444,
              "#bd3786"
             ],
             [
              0.5555555555555556,
              "#d8576b"
             ],
             [
              0.6666666666666666,
              "#ed7953"
             ],
             [
              0.7777777777777778,
              "#fb9f3a"
             ],
             [
              0.8888888888888888,
              "#fdca26"
             ],
             [
              1,
              "#f0f921"
             ]
            ],
            "type": "heatmap"
           }
          ],
          "histogram": [
           {
            "marker": {
             "pattern": {
              "fillmode": "overlay",
              "size": 10,
              "solidity": 0.2
             }
            },
            "type": "histogram"
           }
          ],
          "histogram2d": [
           {
            "colorbar": {
             "outlinewidth": 0,
             "ticks": ""
            },
            "colorscale": [
             [
              0,
              "#0d0887"
             ],
             [
              0.1111111111111111,
              "#46039f"
             ],
             [
              0.2222222222222222,
              "#7201a8"
             ],
             [
              0.3333333333333333,
              "#9c179e"
             ],
             [
              0.4444444444444444,
              "#bd3786"
             ],
             [
              0.5555555555555556,
              "#d8576b"
             ],
             [
              0.6666666666666666,
              "#ed7953"
             ],
             [
              0.7777777777777778,
              "#fb9f3a"
             ],
             [
              0.8888888888888888,
              "#fdca26"
             ],
             [
              1,
              "#f0f921"
             ]
            ],
            "type": "histogram2d"
           }
          ],
          "histogram2dcontour": [
           {
            "colorbar": {
             "outlinewidth": 0,
             "ticks": ""
            },
            "colorscale": [
             [
              0,
              "#0d0887"
             ],
             [
              0.1111111111111111,
              "#46039f"
             ],
             [
              0.2222222222222222,
              "#7201a8"
             ],
             [
              0.3333333333333333,
              "#9c179e"
             ],
             [
              0.4444444444444444,
              "#bd3786"
             ],
             [
              0.5555555555555556,
              "#d8576b"
             ],
             [
              0.6666666666666666,
              "#ed7953"
             ],
             [
              0.7777777777777778,
              "#fb9f3a"
             ],
             [
              0.8888888888888888,
              "#fdca26"
             ],
             [
              1,
              "#f0f921"
             ]
            ],
            "type": "histogram2dcontour"
           }
          ],
          "mesh3d": [
           {
            "colorbar": {
             "outlinewidth": 0,
             "ticks": ""
            },
            "type": "mesh3d"
           }
          ],
          "parcoords": [
           {
            "line": {
             "colorbar": {
              "outlinewidth": 0,
              "ticks": ""
             }
            },
            "type": "parcoords"
           }
          ],
          "pie": [
           {
            "automargin": true,
            "type": "pie"
           }
          ],
          "scatter": [
           {
            "fillpattern": {
             "fillmode": "overlay",
             "size": 10,
             "solidity": 0.2
            },
            "type": "scatter"
           }
          ],
          "scatter3d": [
           {
            "line": {
             "colorbar": {
              "outlinewidth": 0,
              "ticks": ""
             }
            },
            "marker": {
             "colorbar": {
              "outlinewidth": 0,
              "ticks": ""
             }
            },
            "type": "scatter3d"
           }
          ],
          "scattercarpet": [
           {
            "marker": {
             "colorbar": {
              "outlinewidth": 0,
              "ticks": ""
             }
            },
            "type": "scattercarpet"
           }
          ],
          "scattergeo": [
           {
            "marker": {
             "colorbar": {
              "outlinewidth": 0,
              "ticks": ""
             }
            },
            "type": "scattergeo"
           }
          ],
          "scattergl": [
           {
            "marker": {
             "colorbar": {
              "outlinewidth": 0,
              "ticks": ""
             }
            },
            "type": "scattergl"
           }
          ],
          "scattermap": [
           {
            "marker": {
             "colorbar": {
              "outlinewidth": 0,
              "ticks": ""
             }
            },
            "type": "scattermap"
           }
          ],
          "scattermapbox": [
           {
            "marker": {
             "colorbar": {
              "outlinewidth": 0,
              "ticks": ""
             }
            },
            "type": "scattermapbox"
           }
          ],
          "scatterpolar": [
           {
            "marker": {
             "colorbar": {
              "outlinewidth": 0,
              "ticks": ""
             }
            },
            "type": "scatterpolar"
           }
          ],
          "scatterpolargl": [
           {
            "marker": {
             "colorbar": {
              "outlinewidth": 0,
              "ticks": ""
             }
            },
            "type": "scatterpolargl"
           }
          ],
          "scatterternary": [
           {
            "marker": {
             "colorbar": {
              "outlinewidth": 0,
              "ticks": ""
             }
            },
            "type": "scatterternary"
           }
          ],
          "surface": [
           {
            "colorbar": {
             "outlinewidth": 0,
             "ticks": ""
            },
            "colorscale": [
             [
              0,
              "#0d0887"
             ],
             [
              0.1111111111111111,
              "#46039f"
             ],
             [
              0.2222222222222222,
              "#7201a8"
             ],
             [
              0.3333333333333333,
              "#9c179e"
             ],
             [
              0.4444444444444444,
              "#bd3786"
             ],
             [
              0.5555555555555556,
              "#d8576b"
             ],
             [
              0.6666666666666666,
              "#ed7953"
             ],
             [
              0.7777777777777778,
              "#fb9f3a"
             ],
             [
              0.8888888888888888,
              "#fdca26"
             ],
             [
              1,
              "#f0f921"
             ]
            ],
            "type": "surface"
           }
          ],
          "table": [
           {
            "cells": {
             "fill": {
              "color": "#EBF0F8"
             },
             "line": {
              "color": "white"
             }
            },
            "header": {
             "fill": {
              "color": "#C8D4E3"
             },
             "line": {
              "color": "white"
             }
            },
            "type": "table"
           }
          ]
         },
         "layout": {
          "annotationdefaults": {
           "arrowcolor": "#2a3f5f",
           "arrowhead": 0,
           "arrowwidth": 1
          },
          "autotypenumbers": "strict",
          "coloraxis": {
           "colorbar": {
            "outlinewidth": 0,
            "ticks": ""
           }
          },
          "colorscale": {
           "diverging": [
            [
             0,
             "#8e0152"
            ],
            [
             0.1,
             "#c51b7d"
            ],
            [
             0.2,
             "#de77ae"
            ],
            [
             0.3,
             "#f1b6da"
            ],
            [
             0.4,
             "#fde0ef"
            ],
            [
             0.5,
             "#f7f7f7"
            ],
            [
             0.6,
             "#e6f5d0"
            ],
            [
             0.7,
             "#b8e186"
            ],
            [
             0.8,
             "#7fbc41"
            ],
            [
             0.9,
             "#4d9221"
            ],
            [
             1,
             "#276419"
            ]
           ],
           "sequential": [
            [
             0,
             "#0d0887"
            ],
            [
             0.1111111111111111,
             "#46039f"
            ],
            [
             0.2222222222222222,
             "#7201a8"
            ],
            [
             0.3333333333333333,
             "#9c179e"
            ],
            [
             0.4444444444444444,
             "#bd3786"
            ],
            [
             0.5555555555555556,
             "#d8576b"
            ],
            [
             0.6666666666666666,
             "#ed7953"
            ],
            [
             0.7777777777777778,
             "#fb9f3a"
            ],
            [
             0.8888888888888888,
             "#fdca26"
            ],
            [
             1,
             "#f0f921"
            ]
           ],
           "sequentialminus": [
            [
             0,
             "#0d0887"
            ],
            [
             0.1111111111111111,
             "#46039f"
            ],
            [
             0.2222222222222222,
             "#7201a8"
            ],
            [
             0.3333333333333333,
             "#9c179e"
            ],
            [
             0.4444444444444444,
             "#bd3786"
            ],
            [
             0.5555555555555556,
             "#d8576b"
            ],
            [
             0.6666666666666666,
             "#ed7953"
            ],
            [
             0.7777777777777778,
             "#fb9f3a"
            ],
            [
             0.8888888888888888,
             "#fdca26"
            ],
            [
             1,
             "#f0f921"
            ]
           ]
          },
          "colorway": [
           "#636efa",
           "#EF553B",
           "#00cc96",
           "#ab63fa",
           "#FFA15A",
           "#19d3f3",
           "#FF6692",
           "#B6E880",
           "#FF97FF",
           "#FECB52"
          ],
          "font": {
           "color": "#2a3f5f"
          },
          "geo": {
           "bgcolor": "white",
           "lakecolor": "white",
           "landcolor": "#E5ECF6",
           "showlakes": true,
           "showland": true,
           "subunitcolor": "white"
          },
          "hoverlabel": {
           "align": "left"
          },
          "hovermode": "closest",
          "mapbox": {
           "style": "light"
          },
          "paper_bgcolor": "white",
          "plot_bgcolor": "#E5ECF6",
          "polar": {
           "angularaxis": {
            "gridcolor": "white",
            "linecolor": "white",
            "ticks": ""
           },
           "bgcolor": "#E5ECF6",
           "radialaxis": {
            "gridcolor": "white",
            "linecolor": "white",
            "ticks": ""
           }
          },
          "scene": {
           "xaxis": {
            "backgroundcolor": "#E5ECF6",
            "gridcolor": "white",
            "gridwidth": 2,
            "linecolor": "white",
            "showbackground": true,
            "ticks": "",
            "zerolinecolor": "white"
           },
           "yaxis": {
            "backgroundcolor": "#E5ECF6",
            "gridcolor": "white",
            "gridwidth": 2,
            "linecolor": "white",
            "showbackground": true,
            "ticks": "",
            "zerolinecolor": "white"
           },
           "zaxis": {
            "backgroundcolor": "#E5ECF6",
            "gridcolor": "white",
            "gridwidth": 2,
            "linecolor": "white",
            "showbackground": true,
            "ticks": "",
            "zerolinecolor": "white"
           }
          },
          "shapedefaults": {
           "line": {
            "color": "#2a3f5f"
           }
          },
          "ternary": {
           "aaxis": {
            "gridcolor": "white",
            "linecolor": "white",
            "ticks": ""
           },
           "baxis": {
            "gridcolor": "white",
            "linecolor": "white",
            "ticks": ""
           },
           "bgcolor": "#E5ECF6",
           "caxis": {
            "gridcolor": "white",
            "linecolor": "white",
            "ticks": ""
           }
          },
          "title": {
           "x": 0.05
          },
          "xaxis": {
           "automargin": true,
           "gridcolor": "white",
           "linecolor": "white",
           "ticks": "",
           "title": {
            "standoff": 15
           },
           "zerolinecolor": "white",
           "zerolinewidth": 2
          },
          "yaxis": {
           "automargin": true,
           "gridcolor": "white",
           "linecolor": "white",
           "ticks": "",
           "title": {
            "standoff": 15
           },
           "zerolinecolor": "white",
           "zerolinewidth": 2
          }
         }
        },
        "title": {
         "text": "Learning Curve - KNN Classifier"
        },
        "xaxis": {
         "title": {
          "text": "Training Set Size Proportion"
         }
        },
        "yaxis": {
         "range": [
          0,
          1
         ],
         "title": {
          "text": "Accuracy"
         }
        }
       }
      }
     },
     "metadata": {},
     "output_type": "display_data"
    }
   ],
   "source": [
    "import numpy as np\n",
    "import plotly.graph_objects as go\n",
    "from sklearn.model_selection import train_test_split\n",
    "\n",
    "train_sizes = np.linspace(0.1, 0.9, 9)  # Avoid 1.0\n",
    "train_scores = []\n",
    "val_scores = []\n",
    "\n",
    "for size in train_sizes:\n",
    "    X_train_part, _, y_train_part, _ = train_test_split(\n",
    "        X_train_scaled, y_train, train_size=float(size), random_state=42\n",
    "    )\n",
    "    knn.fit(X_train_part, y_train_part)\n",
    "    train_scores.append(knn.score(X_train_part, y_train_part))\n",
    "    val_scores.append(knn.score(X_test_scaled, y_test))\n",
    "\n",
    "fig = go.Figure()\n",
    "fig.add_trace(go.Scatter(x=train_sizes, y=train_scores, mode='lines+markers', name='Training Accuracy'))\n",
    "fig.add_trace(go.Scatter(x=train_sizes, y=val_scores, mode='lines+markers', name='Validation Accuracy'))\n",
    "\n",
    "fig.update_layout(\n",
    "    title='Learning Curve - KNN Classifier',\n",
    "    xaxis_title='Training Set Size Proportion',\n",
    "    yaxis_title='Accuracy',\n",
    "    yaxis=dict(range=[0, 1])\n",
    ")\n",
    "fig.show()\n"
   ]
  },
  {
   "cell_type": "markdown",
   "id": "175f064f",
   "metadata": {},
   "source": [
    "### SVM_Classifier"
   ]
  },
  {
   "cell_type": "code",
   "execution_count": 6,
   "id": "3de0caa6",
   "metadata": {},
   "outputs": [
    {
     "name": "stdout",
     "output_type": "stream",
     "text": [
      "Accuracy: 0.96\n",
      "\n",
      "Classification Report:\n",
      "               precision    recall  f1-score   support\n",
      "\n",
      "           0       0.95      0.98      0.96      1526\n",
      "           1       0.92      0.96      0.94      1134\n",
      "           2       0.98      1.00      0.99      1961\n",
      "           3       0.96      0.84      0.90      1020\n",
      "\n",
      "    accuracy                           0.96      5641\n",
      "   macro avg       0.95      0.94      0.95      5641\n",
      "weighted avg       0.96      0.96      0.96      5641\n",
      "\n"
     ]
    }
   ],
   "source": [
    "import pandas as pd\n",
    "from sklearn.model_selection import train_test_split\n",
    "from sklearn.preprocessing import StandardScaler\n",
    "from sklearn.svm import SVC\n",
    "from sklearn.metrics import accuracy_score, classification_report\n",
    "\n",
    "# Load the dataset\n",
    "df = pd.read_csv(\"../genome_sequences_cleaned.csv\")\n",
    "\n",
    "# Separate features and target label\n",
    "X = df.drop(columns=['label_encoded'])\n",
    "y = df['label_encoded']\n",
    "\n",
    "# Train/test split\n",
    "X_train, X_test, y_train, y_test = train_test_split(\n",
    "    X, y, test_size=0.2, random_state=42\n",
    ")\n",
    "\n",
    "# Scale features\n",
    "scaler = StandardScaler()\n",
    "X_train_scaled = scaler.fit_transform(X_train)\n",
    "X_test_scaled = scaler.transform(X_test)\n",
    "\n",
    "# Initialize SVM model\n",
    "svm = SVC(kernel='rbf', C=1.0, gamma='scale')  # You can also try 'linear' or 'poly' kernels\n",
    "\n",
    "# Train the model\n",
    "svm.fit(X_train_scaled, y_train)\n",
    "\n",
    "# Make predictions\n",
    "y_pred = svm.predict(X_test_scaled)\n",
    "\n",
    "# Evaluate the model\n",
    "accuracy = accuracy_score(y_test, y_pred)\n",
    "print(f\"Accuracy: {accuracy:.2f}\")\n",
    "print(\"\\nClassification Report:\\n\", classification_report(y_test, y_pred))\n"
   ]
  },
  {
   "cell_type": "markdown",
   "id": "ddf04419",
   "metadata": {},
   "source": [
    "### Confusion Matrix with Plotly"
   ]
  },
  {
   "cell_type": "code",
   "execution_count": 7,
   "id": "55ec3c98",
   "metadata": {},
   "outputs": [
    {
     "data": {
      "application/vnd.plotly.v1+json": {
       "config": {
        "plotlyServerURL": "https://plot.ly"
       },
       "data": [
        {
         "colorscale": [
          [
           0,
           "rgb(247,251,255)"
          ],
          [
           0.125,
           "rgb(222,235,247)"
          ],
          [
           0.25,
           "rgb(198,219,239)"
          ],
          [
           0.375,
           "rgb(158,202,225)"
          ],
          [
           0.5,
           "rgb(107,174,214)"
          ],
          [
           0.625,
           "rgb(66,146,198)"
          ],
          [
           0.75,
           "rgb(33,113,181)"
          ],
          [
           0.875,
           "rgb(8,81,156)"
          ],
          [
           1,
           "rgb(8,48,107)"
          ]
         ],
         "reversescale": false,
         "showscale": true,
         "type": "heatmap",
         "x": [
          0,
          1,
          2,
          3
         ],
         "y": [
          0,
          1,
          2,
          3
         ],
         "z": {
          "bdata": "1QUcAAEABAAQAEIEAQAbAAAAAQCoBwAAPwBGACMAVAM=",
          "dtype": "i2",
          "shape": "4, 4"
         }
        }
       ],
       "layout": {
        "annotations": [
         {
          "font": {
           "color": "#FFFFFF"
          },
          "showarrow": false,
          "text": "1493",
          "x": 0,
          "xref": "x",
          "y": 0,
          "yref": "y"
         },
         {
          "font": {
           "color": "#000000"
          },
          "showarrow": false,
          "text": "28",
          "x": 1,
          "xref": "x",
          "y": 0,
          "yref": "y"
         },
         {
          "font": {
           "color": "#000000"
          },
          "showarrow": false,
          "text": "1",
          "x": 2,
          "xref": "x",
          "y": 0,
          "yref": "y"
         },
         {
          "font": {
           "color": "#000000"
          },
          "showarrow": false,
          "text": "4",
          "x": 3,
          "xref": "x",
          "y": 0,
          "yref": "y"
         },
         {
          "font": {
           "color": "#000000"
          },
          "showarrow": false,
          "text": "16",
          "x": 0,
          "xref": "x",
          "y": 1,
          "yref": "y"
         },
         {
          "font": {
           "color": "#FFFFFF"
          },
          "showarrow": false,
          "text": "1090",
          "x": 1,
          "xref": "x",
          "y": 1,
          "yref": "y"
         },
         {
          "font": {
           "color": "#000000"
          },
          "showarrow": false,
          "text": "1",
          "x": 2,
          "xref": "x",
          "y": 1,
          "yref": "y"
         },
         {
          "font": {
           "color": "#000000"
          },
          "showarrow": false,
          "text": "27",
          "x": 3,
          "xref": "x",
          "y": 1,
          "yref": "y"
         },
         {
          "font": {
           "color": "#000000"
          },
          "showarrow": false,
          "text": "0",
          "x": 0,
          "xref": "x",
          "y": 2,
          "yref": "y"
         },
         {
          "font": {
           "color": "#000000"
          },
          "showarrow": false,
          "text": "1",
          "x": 1,
          "xref": "x",
          "y": 2,
          "yref": "y"
         },
         {
          "font": {
           "color": "#FFFFFF"
          },
          "showarrow": false,
          "text": "1960",
          "x": 2,
          "xref": "x",
          "y": 2,
          "yref": "y"
         },
         {
          "font": {
           "color": "#000000"
          },
          "showarrow": false,
          "text": "0",
          "x": 3,
          "xref": "x",
          "y": 2,
          "yref": "y"
         },
         {
          "font": {
           "color": "#000000"
          },
          "showarrow": false,
          "text": "63",
          "x": 0,
          "xref": "x",
          "y": 3,
          "yref": "y"
         },
         {
          "font": {
           "color": "#000000"
          },
          "showarrow": false,
          "text": "70",
          "x": 1,
          "xref": "x",
          "y": 3,
          "yref": "y"
         },
         {
          "font": {
           "color": "#000000"
          },
          "showarrow": false,
          "text": "35",
          "x": 2,
          "xref": "x",
          "y": 3,
          "yref": "y"
         },
         {
          "font": {
           "color": "#000000"
          },
          "showarrow": false,
          "text": "852",
          "x": 3,
          "xref": "x",
          "y": 3,
          "yref": "y"
         }
        ],
        "template": {
         "data": {
          "bar": [
           {
            "error_x": {
             "color": "#2a3f5f"
            },
            "error_y": {
             "color": "#2a3f5f"
            },
            "marker": {
             "line": {
              "color": "#E5ECF6",
              "width": 0.5
             },
             "pattern": {
              "fillmode": "overlay",
              "size": 10,
              "solidity": 0.2
             }
            },
            "type": "bar"
           }
          ],
          "barpolar": [
           {
            "marker": {
             "line": {
              "color": "#E5ECF6",
              "width": 0.5
             },
             "pattern": {
              "fillmode": "overlay",
              "size": 10,
              "solidity": 0.2
             }
            },
            "type": "barpolar"
           }
          ],
          "carpet": [
           {
            "aaxis": {
             "endlinecolor": "#2a3f5f",
             "gridcolor": "white",
             "linecolor": "white",
             "minorgridcolor": "white",
             "startlinecolor": "#2a3f5f"
            },
            "baxis": {
             "endlinecolor": "#2a3f5f",
             "gridcolor": "white",
             "linecolor": "white",
             "minorgridcolor": "white",
             "startlinecolor": "#2a3f5f"
            },
            "type": "carpet"
           }
          ],
          "choropleth": [
           {
            "colorbar": {
             "outlinewidth": 0,
             "ticks": ""
            },
            "type": "choropleth"
           }
          ],
          "contour": [
           {
            "colorbar": {
             "outlinewidth": 0,
             "ticks": ""
            },
            "colorscale": [
             [
              0,
              "#0d0887"
             ],
             [
              0.1111111111111111,
              "#46039f"
             ],
             [
              0.2222222222222222,
              "#7201a8"
             ],
             [
              0.3333333333333333,
              "#9c179e"
             ],
             [
              0.4444444444444444,
              "#bd3786"
             ],
             [
              0.5555555555555556,
              "#d8576b"
             ],
             [
              0.6666666666666666,
              "#ed7953"
             ],
             [
              0.7777777777777778,
              "#fb9f3a"
             ],
             [
              0.8888888888888888,
              "#fdca26"
             ],
             [
              1,
              "#f0f921"
             ]
            ],
            "type": "contour"
           }
          ],
          "contourcarpet": [
           {
            "colorbar": {
             "outlinewidth": 0,
             "ticks": ""
            },
            "type": "contourcarpet"
           }
          ],
          "heatmap": [
           {
            "colorbar": {
             "outlinewidth": 0,
             "ticks": ""
            },
            "colorscale": [
             [
              0,
              "#0d0887"
             ],
             [
              0.1111111111111111,
              "#46039f"
             ],
             [
              0.2222222222222222,
              "#7201a8"
             ],
             [
              0.3333333333333333,
              "#9c179e"
             ],
             [
              0.4444444444444444,
              "#bd3786"
             ],
             [
              0.5555555555555556,
              "#d8576b"
             ],
             [
              0.6666666666666666,
              "#ed7953"
             ],
             [
              0.7777777777777778,
              "#fb9f3a"
             ],
             [
              0.8888888888888888,
              "#fdca26"
             ],
             [
              1,
              "#f0f921"
             ]
            ],
            "type": "heatmap"
           }
          ],
          "histogram": [
           {
            "marker": {
             "pattern": {
              "fillmode": "overlay",
              "size": 10,
              "solidity": 0.2
             }
            },
            "type": "histogram"
           }
          ],
          "histogram2d": [
           {
            "colorbar": {
             "outlinewidth": 0,
             "ticks": ""
            },
            "colorscale": [
             [
              0,
              "#0d0887"
             ],
             [
              0.1111111111111111,
              "#46039f"
             ],
             [
              0.2222222222222222,
              "#7201a8"
             ],
             [
              0.3333333333333333,
              "#9c179e"
             ],
             [
              0.4444444444444444,
              "#bd3786"
             ],
             [
              0.5555555555555556,
              "#d8576b"
             ],
             [
              0.6666666666666666,
              "#ed7953"
             ],
             [
              0.7777777777777778,
              "#fb9f3a"
             ],
             [
              0.8888888888888888,
              "#fdca26"
             ],
             [
              1,
              "#f0f921"
             ]
            ],
            "type": "histogram2d"
           }
          ],
          "histogram2dcontour": [
           {
            "colorbar": {
             "outlinewidth": 0,
             "ticks": ""
            },
            "colorscale": [
             [
              0,
              "#0d0887"
             ],
             [
              0.1111111111111111,
              "#46039f"
             ],
             [
              0.2222222222222222,
              "#7201a8"
             ],
             [
              0.3333333333333333,
              "#9c179e"
             ],
             [
              0.4444444444444444,
              "#bd3786"
             ],
             [
              0.5555555555555556,
              "#d8576b"
             ],
             [
              0.6666666666666666,
              "#ed7953"
             ],
             [
              0.7777777777777778,
              "#fb9f3a"
             ],
             [
              0.8888888888888888,
              "#fdca26"
             ],
             [
              1,
              "#f0f921"
             ]
            ],
            "type": "histogram2dcontour"
           }
          ],
          "mesh3d": [
           {
            "colorbar": {
             "outlinewidth": 0,
             "ticks": ""
            },
            "type": "mesh3d"
           }
          ],
          "parcoords": [
           {
            "line": {
             "colorbar": {
              "outlinewidth": 0,
              "ticks": ""
             }
            },
            "type": "parcoords"
           }
          ],
          "pie": [
           {
            "automargin": true,
            "type": "pie"
           }
          ],
          "scatter": [
           {
            "fillpattern": {
             "fillmode": "overlay",
             "size": 10,
             "solidity": 0.2
            },
            "type": "scatter"
           }
          ],
          "scatter3d": [
           {
            "line": {
             "colorbar": {
              "outlinewidth": 0,
              "ticks": ""
             }
            },
            "marker": {
             "colorbar": {
              "outlinewidth": 0,
              "ticks": ""
             }
            },
            "type": "scatter3d"
           }
          ],
          "scattercarpet": [
           {
            "marker": {
             "colorbar": {
              "outlinewidth": 0,
              "ticks": ""
             }
            },
            "type": "scattercarpet"
           }
          ],
          "scattergeo": [
           {
            "marker": {
             "colorbar": {
              "outlinewidth": 0,
              "ticks": ""
             }
            },
            "type": "scattergeo"
           }
          ],
          "scattergl": [
           {
            "marker": {
             "colorbar": {
              "outlinewidth": 0,
              "ticks": ""
             }
            },
            "type": "scattergl"
           }
          ],
          "scattermap": [
           {
            "marker": {
             "colorbar": {
              "outlinewidth": 0,
              "ticks": ""
             }
            },
            "type": "scattermap"
           }
          ],
          "scattermapbox": [
           {
            "marker": {
             "colorbar": {
              "outlinewidth": 0,
              "ticks": ""
             }
            },
            "type": "scattermapbox"
           }
          ],
          "scatterpolar": [
           {
            "marker": {
             "colorbar": {
              "outlinewidth": 0,
              "ticks": ""
             }
            },
            "type": "scatterpolar"
           }
          ],
          "scatterpolargl": [
           {
            "marker": {
             "colorbar": {
              "outlinewidth": 0,
              "ticks": ""
             }
            },
            "type": "scatterpolargl"
           }
          ],
          "scatterternary": [
           {
            "marker": {
             "colorbar": {
              "outlinewidth": 0,
              "ticks": ""
             }
            },
            "type": "scatterternary"
           }
          ],
          "surface": [
           {
            "colorbar": {
             "outlinewidth": 0,
             "ticks": ""
            },
            "colorscale": [
             [
              0,
              "#0d0887"
             ],
             [
              0.1111111111111111,
              "#46039f"
             ],
             [
              0.2222222222222222,
              "#7201a8"
             ],
             [
              0.3333333333333333,
              "#9c179e"
             ],
             [
              0.4444444444444444,
              "#bd3786"
             ],
             [
              0.5555555555555556,
              "#d8576b"
             ],
             [
              0.6666666666666666,
              "#ed7953"
             ],
             [
              0.7777777777777778,
              "#fb9f3a"
             ],
             [
              0.8888888888888888,
              "#fdca26"
             ],
             [
              1,
              "#f0f921"
             ]
            ],
            "type": "surface"
           }
          ],
          "table": [
           {
            "cells": {
             "fill": {
              "color": "#EBF0F8"
             },
             "line": {
              "color": "white"
             }
            },
            "header": {
             "fill": {
              "color": "#C8D4E3"
             },
             "line": {
              "color": "white"
             }
            },
            "type": "table"
           }
          ]
         },
         "layout": {
          "annotationdefaults": {
           "arrowcolor": "#2a3f5f",
           "arrowhead": 0,
           "arrowwidth": 1
          },
          "autotypenumbers": "strict",
          "coloraxis": {
           "colorbar": {
            "outlinewidth": 0,
            "ticks": ""
           }
          },
          "colorscale": {
           "diverging": [
            [
             0,
             "#8e0152"
            ],
            [
             0.1,
             "#c51b7d"
            ],
            [
             0.2,
             "#de77ae"
            ],
            [
             0.3,
             "#f1b6da"
            ],
            [
             0.4,
             "#fde0ef"
            ],
            [
             0.5,
             "#f7f7f7"
            ],
            [
             0.6,
             "#e6f5d0"
            ],
            [
             0.7,
             "#b8e186"
            ],
            [
             0.8,
             "#7fbc41"
            ],
            [
             0.9,
             "#4d9221"
            ],
            [
             1,
             "#276419"
            ]
           ],
           "sequential": [
            [
             0,
             "#0d0887"
            ],
            [
             0.1111111111111111,
             "#46039f"
            ],
            [
             0.2222222222222222,
             "#7201a8"
            ],
            [
             0.3333333333333333,
             "#9c179e"
            ],
            [
             0.4444444444444444,
             "#bd3786"
            ],
            [
             0.5555555555555556,
             "#d8576b"
            ],
            [
             0.6666666666666666,
             "#ed7953"
            ],
            [
             0.7777777777777778,
             "#fb9f3a"
            ],
            [
             0.8888888888888888,
             "#fdca26"
            ],
            [
             1,
             "#f0f921"
            ]
           ],
           "sequentialminus": [
            [
             0,
             "#0d0887"
            ],
            [
             0.1111111111111111,
             "#46039f"
            ],
            [
             0.2222222222222222,
             "#7201a8"
            ],
            [
             0.3333333333333333,
             "#9c179e"
            ],
            [
             0.4444444444444444,
             "#bd3786"
            ],
            [
             0.5555555555555556,
             "#d8576b"
            ],
            [
             0.6666666666666666,
             "#ed7953"
            ],
            [
             0.7777777777777778,
             "#fb9f3a"
            ],
            [
             0.8888888888888888,
             "#fdca26"
            ],
            [
             1,
             "#f0f921"
            ]
           ]
          },
          "colorway": [
           "#636efa",
           "#EF553B",
           "#00cc96",
           "#ab63fa",
           "#FFA15A",
           "#19d3f3",
           "#FF6692",
           "#B6E880",
           "#FF97FF",
           "#FECB52"
          ],
          "font": {
           "color": "#2a3f5f"
          },
          "geo": {
           "bgcolor": "white",
           "lakecolor": "white",
           "landcolor": "#E5ECF6",
           "showlakes": true,
           "showland": true,
           "subunitcolor": "white"
          },
          "hoverlabel": {
           "align": "left"
          },
          "hovermode": "closest",
          "mapbox": {
           "style": "light"
          },
          "paper_bgcolor": "white",
          "plot_bgcolor": "#E5ECF6",
          "polar": {
           "angularaxis": {
            "gridcolor": "white",
            "linecolor": "white",
            "ticks": ""
           },
           "bgcolor": "#E5ECF6",
           "radialaxis": {
            "gridcolor": "white",
            "linecolor": "white",
            "ticks": ""
           }
          },
          "scene": {
           "xaxis": {
            "backgroundcolor": "#E5ECF6",
            "gridcolor": "white",
            "gridwidth": 2,
            "linecolor": "white",
            "showbackground": true,
            "ticks": "",
            "zerolinecolor": "white"
           },
           "yaxis": {
            "backgroundcolor": "#E5ECF6",
            "gridcolor": "white",
            "gridwidth": 2,
            "linecolor": "white",
            "showbackground": true,
            "ticks": "",
            "zerolinecolor": "white"
           },
           "zaxis": {
            "backgroundcolor": "#E5ECF6",
            "gridcolor": "white",
            "gridwidth": 2,
            "linecolor": "white",
            "showbackground": true,
            "ticks": "",
            "zerolinecolor": "white"
           }
          },
          "shapedefaults": {
           "line": {
            "color": "#2a3f5f"
           }
          },
          "ternary": {
           "aaxis": {
            "gridcolor": "white",
            "linecolor": "white",
            "ticks": ""
           },
           "baxis": {
            "gridcolor": "white",
            "linecolor": "white",
            "ticks": ""
           },
           "bgcolor": "#E5ECF6",
           "caxis": {
            "gridcolor": "white",
            "linecolor": "white",
            "ticks": ""
           }
          },
          "title": {
           "x": 0.05
          },
          "xaxis": {
           "automargin": true,
           "gridcolor": "white",
           "linecolor": "white",
           "ticks": "",
           "title": {
            "standoff": 15
           },
           "zerolinecolor": "white",
           "zerolinewidth": 2
          },
          "yaxis": {
           "automargin": true,
           "gridcolor": "white",
           "linecolor": "white",
           "ticks": "",
           "title": {
            "standoff": 15
           },
           "zerolinecolor": "white",
           "zerolinewidth": 2
          }
         }
        },
        "title": {
         "text": "Confusion Matrix - SVM Classifier"
        },
        "xaxis": {
         "dtick": 1,
         "gridcolor": "rgb(0, 0, 0)",
         "side": "top",
         "ticks": "",
         "title": {
          "text": "Predicted Label"
         }
        },
        "yaxis": {
         "dtick": 1,
         "ticks": "",
         "ticksuffix": "  ",
         "title": {
          "text": "True Label"
         }
        }
       }
      }
     },
     "metadata": {},
     "output_type": "display_data"
    }
   ],
   "source": [
    "from sklearn.metrics import confusion_matrix\n",
    "import plotly.figure_factory as ff\n",
    "import pandas as pd\n",
    "\n",
    "cm = confusion_matrix(y_test, y_pred)\n",
    "cm_df = pd.DataFrame(cm, index=sorted(y.unique()), columns=sorted(y.unique()))\n",
    "\n",
    "fig = ff.create_annotated_heatmap(\n",
    "    z=cm_df.values,\n",
    "    x=cm_df.columns.tolist(),\n",
    "    y=cm_df.index.tolist(),\n",
    "    colorscale='Blues',\n",
    "    annotation_text=cm_df.values.astype(str),\n",
    "    showscale=True\n",
    ")\n",
    "\n",
    "fig.update_layout(\n",
    "    title='Confusion Matrix - SVM Classifier',\n",
    "    xaxis_title='Predicted Label',\n",
    "    yaxis_title='True Label'\n",
    ")\n",
    "fig.show()\n"
   ]
  },
  {
   "cell_type": "markdown",
   "id": "bb510c1d",
   "metadata": {},
   "source": [
    "###  Feature Importance (Permutation)"
   ]
  },
  {
   "cell_type": "code",
   "execution_count": 8,
   "id": "487f4786",
   "metadata": {},
   "outputs": [
    {
     "data": {
      "application/vnd.plotly.v1+json": {
       "config": {
        "plotlyServerURL": "https://plot.ly"
       },
       "data": [
        {
         "hovertemplate": "Feature=%{x}<br>Importance=%{y}<extra></extra>",
         "legendgroup": "",
         "marker": {
          "color": "#636efa",
          "pattern": {
           "shape": ""
          }
         },
         "name": "",
         "orientation": "v",
         "showlegend": false,
         "textposition": "auto",
         "type": "bar",
         "x": [
          "K",
          "A",
          "V",
          "M",
          "G",
          "T",
          "C",
          "N",
          "Sequence_Length",
          "S",
          "L",
          "P",
          "D",
          "E",
          "Y",
          "R",
          "I",
          "W",
          "H",
          "Q",
          "F"
         ],
         "xaxis": "x",
         "y": {
          "bdata": "wESt5j1M0D/S3I4UI+O7PxpSkoPg4Lg/a1Hprj3Etz/x9SNe7B61P1LZWK9NdbQ/UHvBh78asT/A6P9xsFCuP4ilCvcmB6w/pSaWhcqTqT/YpwpSFf+oP4LzOsVWSKY/Vn28BahwpD/QqLgDvr2jP+PCsdsfsqM/ePTodv8GoT9a0liego2dP41Jbk2BApw/ttn8purvmz9AjzWfRwGPP7N4vE/LgHo/",
          "dtype": "f8"
         },
         "yaxis": "y"
        }
       ],
       "layout": {
        "barmode": "relative",
        "legend": {
         "tracegroupgap": 0
        },
        "template": {
         "data": {
          "bar": [
           {
            "error_x": {
             "color": "#2a3f5f"
            },
            "error_y": {
             "color": "#2a3f5f"
            },
            "marker": {
             "line": {
              "color": "#E5ECF6",
              "width": 0.5
             },
             "pattern": {
              "fillmode": "overlay",
              "size": 10,
              "solidity": 0.2
             }
            },
            "type": "bar"
           }
          ],
          "barpolar": [
           {
            "marker": {
             "line": {
              "color": "#E5ECF6",
              "width": 0.5
             },
             "pattern": {
              "fillmode": "overlay",
              "size": 10,
              "solidity": 0.2
             }
            },
            "type": "barpolar"
           }
          ],
          "carpet": [
           {
            "aaxis": {
             "endlinecolor": "#2a3f5f",
             "gridcolor": "white",
             "linecolor": "white",
             "minorgridcolor": "white",
             "startlinecolor": "#2a3f5f"
            },
            "baxis": {
             "endlinecolor": "#2a3f5f",
             "gridcolor": "white",
             "linecolor": "white",
             "minorgridcolor": "white",
             "startlinecolor": "#2a3f5f"
            },
            "type": "carpet"
           }
          ],
          "choropleth": [
           {
            "colorbar": {
             "outlinewidth": 0,
             "ticks": ""
            },
            "type": "choropleth"
           }
          ],
          "contour": [
           {
            "colorbar": {
             "outlinewidth": 0,
             "ticks": ""
            },
            "colorscale": [
             [
              0,
              "#0d0887"
             ],
             [
              0.1111111111111111,
              "#46039f"
             ],
             [
              0.2222222222222222,
              "#7201a8"
             ],
             [
              0.3333333333333333,
              "#9c179e"
             ],
             [
              0.4444444444444444,
              "#bd3786"
             ],
             [
              0.5555555555555556,
              "#d8576b"
             ],
             [
              0.6666666666666666,
              "#ed7953"
             ],
             [
              0.7777777777777778,
              "#fb9f3a"
             ],
             [
              0.8888888888888888,
              "#fdca26"
             ],
             [
              1,
              "#f0f921"
             ]
            ],
            "type": "contour"
           }
          ],
          "contourcarpet": [
           {
            "colorbar": {
             "outlinewidth": 0,
             "ticks": ""
            },
            "type": "contourcarpet"
           }
          ],
          "heatmap": [
           {
            "colorbar": {
             "outlinewidth": 0,
             "ticks": ""
            },
            "colorscale": [
             [
              0,
              "#0d0887"
             ],
             [
              0.1111111111111111,
              "#46039f"
             ],
             [
              0.2222222222222222,
              "#7201a8"
             ],
             [
              0.3333333333333333,
              "#9c179e"
             ],
             [
              0.4444444444444444,
              "#bd3786"
             ],
             [
              0.5555555555555556,
              "#d8576b"
             ],
             [
              0.6666666666666666,
              "#ed7953"
             ],
             [
              0.7777777777777778,
              "#fb9f3a"
             ],
             [
              0.8888888888888888,
              "#fdca26"
             ],
             [
              1,
              "#f0f921"
             ]
            ],
            "type": "heatmap"
           }
          ],
          "histogram": [
           {
            "marker": {
             "pattern": {
              "fillmode": "overlay",
              "size": 10,
              "solidity": 0.2
             }
            },
            "type": "histogram"
           }
          ],
          "histogram2d": [
           {
            "colorbar": {
             "outlinewidth": 0,
             "ticks": ""
            },
            "colorscale": [
             [
              0,
              "#0d0887"
             ],
             [
              0.1111111111111111,
              "#46039f"
             ],
             [
              0.2222222222222222,
              "#7201a8"
             ],
             [
              0.3333333333333333,
              "#9c179e"
             ],
             [
              0.4444444444444444,
              "#bd3786"
             ],
             [
              0.5555555555555556,
              "#d8576b"
             ],
             [
              0.6666666666666666,
              "#ed7953"
             ],
             [
              0.7777777777777778,
              "#fb9f3a"
             ],
             [
              0.8888888888888888,
              "#fdca26"
             ],
             [
              1,
              "#f0f921"
             ]
            ],
            "type": "histogram2d"
           }
          ],
          "histogram2dcontour": [
           {
            "colorbar": {
             "outlinewidth": 0,
             "ticks": ""
            },
            "colorscale": [
             [
              0,
              "#0d0887"
             ],
             [
              0.1111111111111111,
              "#46039f"
             ],
             [
              0.2222222222222222,
              "#7201a8"
             ],
             [
              0.3333333333333333,
              "#9c179e"
             ],
             [
              0.4444444444444444,
              "#bd3786"
             ],
             [
              0.5555555555555556,
              "#d8576b"
             ],
             [
              0.6666666666666666,
              "#ed7953"
             ],
             [
              0.7777777777777778,
              "#fb9f3a"
             ],
             [
              0.8888888888888888,
              "#fdca26"
             ],
             [
              1,
              "#f0f921"
             ]
            ],
            "type": "histogram2dcontour"
           }
          ],
          "mesh3d": [
           {
            "colorbar": {
             "outlinewidth": 0,
             "ticks": ""
            },
            "type": "mesh3d"
           }
          ],
          "parcoords": [
           {
            "line": {
             "colorbar": {
              "outlinewidth": 0,
              "ticks": ""
             }
            },
            "type": "parcoords"
           }
          ],
          "pie": [
           {
            "automargin": true,
            "type": "pie"
           }
          ],
          "scatter": [
           {
            "fillpattern": {
             "fillmode": "overlay",
             "size": 10,
             "solidity": 0.2
            },
            "type": "scatter"
           }
          ],
          "scatter3d": [
           {
            "line": {
             "colorbar": {
              "outlinewidth": 0,
              "ticks": ""
             }
            },
            "marker": {
             "colorbar": {
              "outlinewidth": 0,
              "ticks": ""
             }
            },
            "type": "scatter3d"
           }
          ],
          "scattercarpet": [
           {
            "marker": {
             "colorbar": {
              "outlinewidth": 0,
              "ticks": ""
             }
            },
            "type": "scattercarpet"
           }
          ],
          "scattergeo": [
           {
            "marker": {
             "colorbar": {
              "outlinewidth": 0,
              "ticks": ""
             }
            },
            "type": "scattergeo"
           }
          ],
          "scattergl": [
           {
            "marker": {
             "colorbar": {
              "outlinewidth": 0,
              "ticks": ""
             }
            },
            "type": "scattergl"
           }
          ],
          "scattermap": [
           {
            "marker": {
             "colorbar": {
              "outlinewidth": 0,
              "ticks": ""
             }
            },
            "type": "scattermap"
           }
          ],
          "scattermapbox": [
           {
            "marker": {
             "colorbar": {
              "outlinewidth": 0,
              "ticks": ""
             }
            },
            "type": "scattermapbox"
           }
          ],
          "scatterpolar": [
           {
            "marker": {
             "colorbar": {
              "outlinewidth": 0,
              "ticks": ""
             }
            },
            "type": "scatterpolar"
           }
          ],
          "scatterpolargl": [
           {
            "marker": {
             "colorbar": {
              "outlinewidth": 0,
              "ticks": ""
             }
            },
            "type": "scatterpolargl"
           }
          ],
          "scatterternary": [
           {
            "marker": {
             "colorbar": {
              "outlinewidth": 0,
              "ticks": ""
             }
            },
            "type": "scatterternary"
           }
          ],
          "surface": [
           {
            "colorbar": {
             "outlinewidth": 0,
             "ticks": ""
            },
            "colorscale": [
             [
              0,
              "#0d0887"
             ],
             [
              0.1111111111111111,
              "#46039f"
             ],
             [
              0.2222222222222222,
              "#7201a8"
             ],
             [
              0.3333333333333333,
              "#9c179e"
             ],
             [
              0.4444444444444444,
              "#bd3786"
             ],
             [
              0.5555555555555556,
              "#d8576b"
             ],
             [
              0.6666666666666666,
              "#ed7953"
             ],
             [
              0.7777777777777778,
              "#fb9f3a"
             ],
             [
              0.8888888888888888,
              "#fdca26"
             ],
             [
              1,
              "#f0f921"
             ]
            ],
            "type": "surface"
           }
          ],
          "table": [
           {
            "cells": {
             "fill": {
              "color": "#EBF0F8"
             },
             "line": {
              "color": "white"
             }
            },
            "header": {
             "fill": {
              "color": "#C8D4E3"
             },
             "line": {
              "color": "white"
             }
            },
            "type": "table"
           }
          ]
         },
         "layout": {
          "annotationdefaults": {
           "arrowcolor": "#2a3f5f",
           "arrowhead": 0,
           "arrowwidth": 1
          },
          "autotypenumbers": "strict",
          "coloraxis": {
           "colorbar": {
            "outlinewidth": 0,
            "ticks": ""
           }
          },
          "colorscale": {
           "diverging": [
            [
             0,
             "#8e0152"
            ],
            [
             0.1,
             "#c51b7d"
            ],
            [
             0.2,
             "#de77ae"
            ],
            [
             0.3,
             "#f1b6da"
            ],
            [
             0.4,
             "#fde0ef"
            ],
            [
             0.5,
             "#f7f7f7"
            ],
            [
             0.6,
             "#e6f5d0"
            ],
            [
             0.7,
             "#b8e186"
            ],
            [
             0.8,
             "#7fbc41"
            ],
            [
             0.9,
             "#4d9221"
            ],
            [
             1,
             "#276419"
            ]
           ],
           "sequential": [
            [
             0,
             "#0d0887"
            ],
            [
             0.1111111111111111,
             "#46039f"
            ],
            [
             0.2222222222222222,
             "#7201a8"
            ],
            [
             0.3333333333333333,
             "#9c179e"
            ],
            [
             0.4444444444444444,
             "#bd3786"
            ],
            [
             0.5555555555555556,
             "#d8576b"
            ],
            [
             0.6666666666666666,
             "#ed7953"
            ],
            [
             0.7777777777777778,
             "#fb9f3a"
            ],
            [
             0.8888888888888888,
             "#fdca26"
            ],
            [
             1,
             "#f0f921"
            ]
           ],
           "sequentialminus": [
            [
             0,
             "#0d0887"
            ],
            [
             0.1111111111111111,
             "#46039f"
            ],
            [
             0.2222222222222222,
             "#7201a8"
            ],
            [
             0.3333333333333333,
             "#9c179e"
            ],
            [
             0.4444444444444444,
             "#bd3786"
            ],
            [
             0.5555555555555556,
             "#d8576b"
            ],
            [
             0.6666666666666666,
             "#ed7953"
            ],
            [
             0.7777777777777778,
             "#fb9f3a"
            ],
            [
             0.8888888888888888,
             "#fdca26"
            ],
            [
             1,
             "#f0f921"
            ]
           ]
          },
          "colorway": [
           "#636efa",
           "#EF553B",
           "#00cc96",
           "#ab63fa",
           "#FFA15A",
           "#19d3f3",
           "#FF6692",
           "#B6E880",
           "#FF97FF",
           "#FECB52"
          ],
          "font": {
           "color": "#2a3f5f"
          },
          "geo": {
           "bgcolor": "white",
           "lakecolor": "white",
           "landcolor": "#E5ECF6",
           "showlakes": true,
           "showland": true,
           "subunitcolor": "white"
          },
          "hoverlabel": {
           "align": "left"
          },
          "hovermode": "closest",
          "mapbox": {
           "style": "light"
          },
          "paper_bgcolor": "white",
          "plot_bgcolor": "#E5ECF6",
          "polar": {
           "angularaxis": {
            "gridcolor": "white",
            "linecolor": "white",
            "ticks": ""
           },
           "bgcolor": "#E5ECF6",
           "radialaxis": {
            "gridcolor": "white",
            "linecolor": "white",
            "ticks": ""
           }
          },
          "scene": {
           "xaxis": {
            "backgroundcolor": "#E5ECF6",
            "gridcolor": "white",
            "gridwidth": 2,
            "linecolor": "white",
            "showbackground": true,
            "ticks": "",
            "zerolinecolor": "white"
           },
           "yaxis": {
            "backgroundcolor": "#E5ECF6",
            "gridcolor": "white",
            "gridwidth": 2,
            "linecolor": "white",
            "showbackground": true,
            "ticks": "",
            "zerolinecolor": "white"
           },
           "zaxis": {
            "backgroundcolor": "#E5ECF6",
            "gridcolor": "white",
            "gridwidth": 2,
            "linecolor": "white",
            "showbackground": true,
            "ticks": "",
            "zerolinecolor": "white"
           }
          },
          "shapedefaults": {
           "line": {
            "color": "#2a3f5f"
           }
          },
          "ternary": {
           "aaxis": {
            "gridcolor": "white",
            "linecolor": "white",
            "ticks": ""
           },
           "baxis": {
            "gridcolor": "white",
            "linecolor": "white",
            "ticks": ""
           },
           "bgcolor": "#E5ECF6",
           "caxis": {
            "gridcolor": "white",
            "linecolor": "white",
            "ticks": ""
           }
          },
          "title": {
           "x": 0.05
          },
          "xaxis": {
           "automargin": true,
           "gridcolor": "white",
           "linecolor": "white",
           "ticks": "",
           "title": {
            "standoff": 15
           },
           "zerolinecolor": "white",
           "zerolinewidth": 2
          },
          "yaxis": {
           "automargin": true,
           "gridcolor": "white",
           "linecolor": "white",
           "ticks": "",
           "title": {
            "standoff": 15
           },
           "zerolinecolor": "white",
           "zerolinewidth": 2
          }
         }
        },
        "title": {
         "text": "Feature Importance (Permutation) - SVM Classifier"
        },
        "xaxis": {
         "anchor": "y",
         "domain": [
          0,
          1
         ],
         "tickangle": 45,
         "title": {
          "text": "Feature"
         }
        },
        "yaxis": {
         "anchor": "x",
         "domain": [
          0,
          1
         ],
         "title": {
          "text": "Importance"
         }
        }
       }
      }
     },
     "metadata": {},
     "output_type": "display_data"
    }
   ],
   "source": [
    "from sklearn.inspection import permutation_importance\n",
    "import plotly.express as px\n",
    "\n",
    "result = permutation_importance(svm, X_test_scaled, y_test, n_repeats=10, random_state=42)\n",
    "\n",
    "importance_df = pd.DataFrame({\n",
    "    'Feature': X.columns,\n",
    "    'Importance': result.importances_mean\n",
    "}).sort_values(by='Importance', ascending=False)\n",
    "\n",
    "fig = px.bar(\n",
    "    importance_df,\n",
    "    x='Feature',\n",
    "    y='Importance',\n",
    "    title='Feature Importance (Permutation) - SVM Classifier'\n",
    ")\n",
    "fig.update_layout(xaxis_tickangle=45)\n",
    "fig.show()\n"
   ]
  },
  {
   "cell_type": "markdown",
   "id": "6d85d61b",
   "metadata": {},
   "source": [
    "### KDE Plots"
   ]
  },
  {
   "cell_type": "code",
   "execution_count": 9,
   "id": "15a28480",
   "metadata": {},
   "outputs": [
    {
     "data": {
      "application/vnd.plotly.v1+json": {
       "config": {
        "plotlyServerURL": "https://plot.ly"
       },
       "data": [
        {
         "mode": "lines",
         "name": "Label 0",
         "type": "scatter",
         "x": {
          "bdata": "WCFGMr9q8r9F49d0VTryvzKlabfrCfK/H2f7+YHZ8b8MKY08GKnxv/nqHn+uePG/5qywwURI8b/TbkIE2xfxv8Aw1EZx5/C/rfJliQe38L+atPfLnYbwv4d2iQ40VvC/dDgbUcol8L/C9Fknwervv5x4faztie+/dvygMRop779QgMS2RsjuvyoE6DtzZ+6/BIgLwZ8G7r/eCy9GzKXtv7iPUsv4RO2/khN2UCXk7L9sl5nVUYPsv0YbvVp+Iuy/IJ/g36rB67/6IgRl12Drv9SmJ+oDAOu/ripLbzCf6r+Irm70XD7qv2IyknmJ3em/PLa1/rV86b8WOtmD4hvpv/C9/AgPu+i/ykEgjjta6L+kxUMTaPnnv35JZ5iUmOe/WM2KHcE3578yUa6i7dbmvwzV0Scadua/5lj1rEYV5r/A3Bgyc7Tlv5pgPLefU+W/dORfPMzy5L9PaIPB+JHkvynspkYlMeS/A3DKy1HQ47/d8+1Qfm/jv7d3EdaqDuO/kfs0W9et4r9rf1jgA03iv0UDfGUw7OG/H4ef6lyL4b/5CsNviSrhv9OO5vS1yeC/rRIKeuJo4L+Hli3/Dgjgv8I0ogh3Tt+/djzpEtCM3r8qRDAdKcvdv95LdyeCCd2/klO+MdtH3L9GWwU8NIbbv/piTEaNxNq/rmqTUOYC2r9ictpaP0HZvxZ6IWWYf9i/yoFob/G9179+ia95SvzWvzKR9oOjOta/5pg9jvx41b+aoISYVbfUv06oy6Ku9dO/ArASrQc007+2t1m3YHLSv2q/oMG5sNG/HsfnyxLv0L/Szi7Way3Qvwyt68CJ186/dLx51TtUzb/cywfq7dDLv0Tblf6fTcq/rOojE1LKyL8U+rEnBEfHv3wJQDy2w8W/5BjOUGhAxL9QKFxlGr3Cv7g36nnMOcG/QI7wHP1sv78QrQxGYWa8v+DLKG/FX7m/sOpEmClZtr+ACWHBjVKzv1AoferxS7C/QI4yJ6yKqr/gy2p5dH2kvwATRpd54Jy/QI62OwrGkL8AJpyAa65yvwDtoe1Ru30/AAD41kOJkz/AhIcys6OfP8CEC0cR36U/IEfT9Ejsqz/AhE1RwPywP/BlMShcA7Q/IEcV//cJtz9QKPnVkxC6P4AJ3awvF70/WHXgweUOwD/wZVKtM5LBP4hWxJiBFcM/IEc2hM+YxD+4N6hvHRzGP1AoGltrn8c/6BiMRrkiyT+ACf4xB6bKPxj6bx1VKcw/sOrhCKOszT9I21P08C/PP/Dl4m+fWdA/PN6bZUYb0T+I1lRb7dzRP9TODVGUntI/IMfGRjtg0z9sv3884iHUP7i3ODKJ49Q/BLDxJzCl1T9QqKod12bWP5ygYxN+KNc/6JgcCSXq1z80kdX+y6vYP4CJjvRybdk/zIFH6hkv2j8YegDgwPDaP2RyudVnsts/sGpyyw503D/8YivBtTXdP0hb5LZc990/lFOdrAO53j/gS1aiqnrfPxaiB8woHuA/PB7kRvx+4D9imsDBz9/gP4gWnTyjQOE/rpJ5t3ah4T/UDlYySgLiP/qKMq0dY+I/IAcPKPHD4j9Gg+uixCTjP2z/xx2YheM/knukmGvm4z+494ATP0fkP95zXY4SqOQ/BPA5CeYI5T8qbBaEuWnlP1Do8v6MyuU/dmTPeWAr5j+c4Kv0M4zmP8JciG8H7eY/6Nhk6tpN5z8OVUFlrq7nPzTRHeCBD+g/Wk36WlVw6D+AydbVKNHoP6ZFs1D8Mek/zMGPy8+S6T/yPWxGo/PpPxi6SMF2VOo/PjYlPEq16j9ksgG3HRbrP4gu3jHxdus/sKq6rMTX6z/UJpcnmDjsP/yic6Jrmew/IB9QHT/67D9ImyyYElvtP2wXCRPmu+0/lJPljbkc7j+4D8IIjX3uP+CLnoNg3u4/BAh7/jM/7z8shFd5B6DvPygAGnptAPA/PD6IN9cw8D9OfPb0QGHwP2K6ZLKqkfA/dPjSbxTC8D+INkEtfvLwP5p0r+rnIvE/rrIdqFFT8T/A8Itlu4PxP9Qu+iIltPE/5mxo4I7k8T/6qtad+BTyPwzpRFtiRfI/ICezGMx18j8yZSHWNabyP0ajj5Of1vI/WOH9UAkH8z9tH2wOczfzPw==",
          "dtype": "f8"
         },
         "y": {
          "bdata": "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",
          "dtype": "f8"
         }
        },
        {
         "mode": "lines",
         "name": "Label 1",
         "type": "scatter",
         "x": {
          "bdata": "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",
          "dtype": "f8"
         },
         "y": {
          "bdata": "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",
          "dtype": "f8"
         }
        },
        {
         "mode": "lines",
         "name": "Label 2",
         "type": "scatter",
         "x": {
          "bdata": "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",
          "dtype": "f8"
         },
         "y": {
          "bdata": "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",
          "dtype": "f8"
         }
        },
        {
         "mode": "lines",
         "name": "Label 3",
         "type": "scatter",
         "x": {
          "bdata": "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",
          "dtype": "f8"
         },
         "y": {
          "bdata": "3lcH2GUG5D8yvx5LyLnkP6OJpvn3UuU/breDQaLR5T/MKT1rLDbmPwTNGyCjgeY/BJDDdqO15j/v1MN3P9TmP7NQExng3+Y/VFNHoSbb5j8DZzExz8jmP65T/eaVq+Y/np+JtB+G5j+1LkKm51rmPzQilgAxLOY/iwZHTf775T+KAPEwDczlPx/AKKvWneU/cDKgNZNy5T8dtvMNQkvlP36mOtCyKOU/l6eHZpAL5T/Xzgg2bPTkPx7PgWLI4+Q/7PDCAiDa5D+ogLE67NfkP5P/ymWl3eQ/5kPL0L/r5D9gQ+7uowLlP0rSFXeiIuU/NHuUWuVL5T80ETADX37lPxFcuqe5ueU/xydGv0j95T8HC/qe/kfmP5vu2BdomOY/9jt3ea/s5j8QSLa8p0LnPyMBO9Xfl+c/+zCMVb3p5z/ZQ5jHnDXoPxSZ5nD1eOg/Myo0w32x6D9OYpKGTd3oP3Hm4eD6+ug/IgPovq8J6T8bHiXENQnpP/1vlrf3+eg/UOHyTvjc6D99UT4nv7PoP9DTX5A9gOg/0ZtBfK1E6D/geqZQbQPoP1zQ+IPbvuc/OZU5zzR55z9MKsdfdzTnP/A4ZN9M8uY/nzUHcfyz5j9/dZn5ZHrmPw1kaUn/ReY/QWtvEOcW5j+9EMkD6ezlP22GNkiUx+U/0/uQGE2m5T9hIQm3XojlPw7aTP4KbeU/j9MeUpZT5T9+nVAwTzvlP7r9CS2RI+U/M1mwqcML5T+cbwwIVfPkPzvWonGz2eQ/TdEqf0S+5D/q1AMbXaDkP/Gvk+Q6f+Q/lkUCJgBa5D8Ci+Ygsy/kP0upAxpB/+M/xCrSKYXH4z9Gk7p4UofjPwrXDTuBPeM/DCKigP3o4j/GjwfD1ojiP/pQnA1PHOI/WbgPpOii4T8RVqgrcRzhP+mMs40JieA/3W4SEVTS3z9PJyZVRHveP5kwtnMpD90/aqSlmt+Q2z/jLYYtwwPaP40gdROVa9g/HhuRVVvM1j/F2Q7EPyrVP8pYmVluidM/3uVD+/Tt0T/L2ScDplvQP5BMQIT9q80/SsySryXAyj8UotbZ+fjHP8CzshKqWsU/biBg4Fjowj/of41QHaTAP6ebiHccHr0/9ej+gKpSuT8895uJj+S1P1Ua22oI0bI/I0pJeyMUsD+ATnVAA1KrP7Oy5yYsFKc/hmHx2MRioz9Z2g8XWjGgP/VFm1/C5po/ZvdiRw85lj+UlXro5UGSPx2e4PfD1Y0/gCQCrmc+iD8dBgIylZeDPydpp0KhfX8/FnrhLpAqeT94zeX4dv9zP7LeQIg9mW8/EiG0D0bRaD+I/YAh0l9jPzSrYqs8EF4/ay8cS2otVz+OKG29pcBRP0wz6KhjA0s//rE29VNpRD+QjLBr9aA+PxhVS21i0DY/Bj7M1vbdMD+CaUzuP8AoP/wR87XLBCI/nXXtx+EGGj9JSc8YGaUSP2x2WQ10fgo/cUTduAOrAj82RwF6uhf6Pr8A0U1DGPI+dEVjtRjw6D5ps7GmAiPhPjhdCohssdc+sO1OE7jP0D4SNQfzEIHJPmMdRdvUBsY+lcnNEHTdxj7AHpQPxV/MPiJslkeo1dM+oULMBNBl3T5YlnghE0DmPrWA2lZn5PA+OZS7SrmG+T6Zpe1oziEDP055ErxKaQw/Zt8B3yPjFD93q2p93GYeP2n+kPZv5iU/qYOIwtk6Lz8rCSsNJgo2P2A5How3yj4/kEbHqpJJRT8GIzyUcCJNP/q4/uvNu1M/I3YA2Zp1Wj8egjWky45hPwP9CAFxEGc/rwyhfyD9bT96FarQK0xzPxRpxaYxlXg/voaJKzf/fj8akK8y91eDP3P92Hm85Yc/sZuIGjM5jT/VA0Kj2q+RP/8aiqU5MZU/PMCCeJcimT/Z+Ko2gYKdP5FOn23SJaE/8md/rDG6oz9v2NkdRnemP25nTOOmU6k/vxjMGrFDrD8+O220vzmvPz7Dt39CE7E/x5YVAcJ8sj8ZTbeT0tCzP7gZW7HvBrU/45UXcPYWtj/ltQFvgPm2P5I1kss5qLc/hohgqCweuD9SEdRU/Ve4Px3q/BYTVLg/Yx3U4aoSuD9azH3G0pW3PxgoaYxO4bY/fQZ1bWf6tT/G60NVque0Pw==",
          "dtype": "f8"
         }
        }
       ],
       "layout": {
        "template": {
         "data": {
          "bar": [
           {
            "error_x": {
             "color": "#2a3f5f"
            },
            "error_y": {
             "color": "#2a3f5f"
            },
            "marker": {
             "line": {
              "color": "#E5ECF6",
              "width": 0.5
             },
             "pattern": {
              "fillmode": "overlay",
              "size": 10,
              "solidity": 0.2
             }
            },
            "type": "bar"
           }
          ],
          "barpolar": [
           {
            "marker": {
             "line": {
              "color": "#E5ECF6",
              "width": 0.5
             },
             "pattern": {
              "fillmode": "overlay",
              "size": 10,
              "solidity": 0.2
             }
            },
            "type": "barpolar"
           }
          ],
          "carpet": [
           {
            "aaxis": {
             "endlinecolor": "#2a3f5f",
             "gridcolor": "white",
             "linecolor": "white",
             "minorgridcolor": "white",
             "startlinecolor": "#2a3f5f"
            },
            "baxis": {
             "endlinecolor": "#2a3f5f",
             "gridcolor": "white",
             "linecolor": "white",
             "minorgridcolor": "white",
             "startlinecolor": "#2a3f5f"
            },
            "type": "carpet"
           }
          ],
          "choropleth": [
           {
            "colorbar": {
             "outlinewidth": 0,
             "ticks": ""
            },
            "type": "choropleth"
           }
          ],
          "contour": [
           {
            "colorbar": {
             "outlinewidth": 0,
             "ticks": ""
            },
            "colorscale": [
             [
              0,
              "#0d0887"
             ],
             [
              0.1111111111111111,
              "#46039f"
             ],
             [
              0.2222222222222222,
              "#7201a8"
             ],
             [
              0.3333333333333333,
              "#9c179e"
             ],
             [
              0.4444444444444444,
              "#bd3786"
             ],
             [
              0.5555555555555556,
              "#d8576b"
             ],
             [
              0.6666666666666666,
              "#ed7953"
             ],
             [
              0.7777777777777778,
              "#fb9f3a"
             ],
             [
              0.8888888888888888,
              "#fdca26"
             ],
             [
              1,
              "#f0f921"
             ]
            ],
            "type": "contour"
           }
          ],
          "contourcarpet": [
           {
            "colorbar": {
             "outlinewidth": 0,
             "ticks": ""
            },
            "type": "contourcarpet"
           }
          ],
          "heatmap": [
           {
            "colorbar": {
             "outlinewidth": 0,
             "ticks": ""
            },
            "colorscale": [
             [
              0,
              "#0d0887"
             ],
             [
              0.1111111111111111,
              "#46039f"
             ],
             [
              0.2222222222222222,
              "#7201a8"
             ],
             [
              0.3333333333333333,
              "#9c179e"
             ],
             [
              0.4444444444444444,
              "#bd3786"
             ],
             [
              0.5555555555555556,
              "#d8576b"
             ],
             [
              0.6666666666666666,
              "#ed7953"
             ],
             [
              0.7777777777777778,
              "#fb9f3a"
             ],
             [
              0.8888888888888888,
              "#fdca26"
             ],
             [
              1,
              "#f0f921"
             ]
            ],
            "type": "heatmap"
           }
          ],
          "histogram": [
           {
            "marker": {
             "pattern": {
              "fillmode": "overlay",
              "size": 10,
              "solidity": 0.2
             }
            },
            "type": "histogram"
           }
          ],
          "histogram2d": [
           {
            "colorbar": {
             "outlinewidth": 0,
             "ticks": ""
            },
            "colorscale": [
             [
              0,
              "#0d0887"
             ],
             [
              0.1111111111111111,
              "#46039f"
             ],
             [
              0.2222222222222222,
              "#7201a8"
             ],
             [
              0.3333333333333333,
              "#9c179e"
             ],
             [
              0.4444444444444444,
              "#bd3786"
             ],
             [
              0.5555555555555556,
              "#d8576b"
             ],
             [
              0.6666666666666666,
              "#ed7953"
             ],
             [
              0.7777777777777778,
              "#fb9f3a"
             ],
             [
              0.8888888888888888,
              "#fdca26"
             ],
             [
              1,
              "#f0f921"
             ]
            ],
            "type": "histogram2d"
           }
          ],
          "histogram2dcontour": [
           {
            "colorbar": {
             "outlinewidth": 0,
             "ticks": ""
            },
            "colorscale": [
             [
              0,
              "#0d0887"
             ],
             [
              0.1111111111111111,
              "#46039f"
             ],
             [
              0.2222222222222222,
              "#7201a8"
             ],
             [
              0.3333333333333333,
              "#9c179e"
             ],
             [
              0.4444444444444444,
              "#bd3786"
             ],
             [
              0.5555555555555556,
              "#d8576b"
             ],
             [
              0.6666666666666666,
              "#ed7953"
             ],
             [
              0.7777777777777778,
              "#fb9f3a"
             ],
             [
              0.8888888888888888,
              "#fdca26"
             ],
             [
              1,
              "#f0f921"
             ]
            ],
            "type": "histogram2dcontour"
           }
          ],
          "mesh3d": [
           {
            "colorbar": {
             "outlinewidth": 0,
             "ticks": ""
            },
            "type": "mesh3d"
           }
          ],
          "parcoords": [
           {
            "line": {
             "colorbar": {
              "outlinewidth": 0,
              "ticks": ""
             }
            },
            "type": "parcoords"
           }
          ],
          "pie": [
           {
            "automargin": true,
            "type": "pie"
           }
          ],
          "scatter": [
           {
            "fillpattern": {
             "fillmode": "overlay",
             "size": 10,
             "solidity": 0.2
            },
            "type": "scatter"
           }
          ],
          "scatter3d": [
           {
            "line": {
             "colorbar": {
              "outlinewidth": 0,
              "ticks": ""
             }
            },
            "marker": {
             "colorbar": {
              "outlinewidth": 0,
              "ticks": ""
             }
            },
            "type": "scatter3d"
           }
          ],
          "scattercarpet": [
           {
            "marker": {
             "colorbar": {
              "outlinewidth": 0,
              "ticks": ""
             }
            },
            "type": "scattercarpet"
           }
          ],
          "scattergeo": [
           {
            "marker": {
             "colorbar": {
              "outlinewidth": 0,
              "ticks": ""
             }
            },
            "type": "scattergeo"
           }
          ],
          "scattergl": [
           {
            "marker": {
             "colorbar": {
              "outlinewidth": 0,
              "ticks": ""
             }
            },
            "type": "scattergl"
           }
          ],
          "scattermap": [
           {
            "marker": {
             "colorbar": {
              "outlinewidth": 0,
              "ticks": ""
             }
            },
            "type": "scattermap"
           }
          ],
          "scattermapbox": [
           {
            "marker": {
             "colorbar": {
              "outlinewidth": 0,
              "ticks": ""
             }
            },
            "type": "scattermapbox"
           }
          ],
          "scatterpolar": [
           {
            "marker": {
             "colorbar": {
              "outlinewidth": 0,
              "ticks": ""
             }
            },
            "type": "scatterpolar"
           }
          ],
          "scatterpolargl": [
           {
            "marker": {
             "colorbar": {
              "outlinewidth": 0,
              "ticks": ""
             }
            },
            "type": "scatterpolargl"
           }
          ],
          "scatterternary": [
           {
            "marker": {
             "colorbar": {
              "outlinewidth": 0,
              "ticks": ""
             }
            },
            "type": "scatterternary"
           }
          ],
          "surface": [
           {
            "colorbar": {
             "outlinewidth": 0,
             "ticks": ""
            },
            "colorscale": [
             [
              0,
              "#0d0887"
             ],
             [
              0.1111111111111111,
              "#46039f"
             ],
             [
              0.2222222222222222,
              "#7201a8"
             ],
             [
              0.3333333333333333,
              "#9c179e"
             ],
             [
              0.4444444444444444,
              "#bd3786"
             ],
             [
              0.5555555555555556,
              "#d8576b"
             ],
             [
              0.6666666666666666,
              "#ed7953"
             ],
             [
              0.7777777777777778,
              "#fb9f3a"
             ],
             [
              0.8888888888888888,
              "#fdca26"
             ],
             [
              1,
              "#f0f921"
             ]
            ],
            "type": "surface"
           }
          ],
          "table": [
           {
            "cells": {
             "fill": {
              "color": "#EBF0F8"
             },
             "line": {
              "color": "white"
             }
            },
            "header": {
             "fill": {
              "color": "#C8D4E3"
             },
             "line": {
              "color": "white"
             }
            },
            "type": "table"
           }
          ]
         },
         "layout": {
          "annotationdefaults": {
           "arrowcolor": "#2a3f5f",
           "arrowhead": 0,
           "arrowwidth": 1
          },
          "autotypenumbers": "strict",
          "coloraxis": {
           "colorbar": {
            "outlinewidth": 0,
            "ticks": ""
           }
          },
          "colorscale": {
           "diverging": [
            [
             0,
             "#8e0152"
            ],
            [
             0.1,
             "#c51b7d"
            ],
            [
             0.2,
             "#de77ae"
            ],
            [
             0.3,
             "#f1b6da"
            ],
            [
             0.4,
             "#fde0ef"
            ],
            [
             0.5,
             "#f7f7f7"
            ],
            [
             0.6,
             "#e6f5d0"
            ],
            [
             0.7,
             "#b8e186"
            ],
            [
             0.8,
             "#7fbc41"
            ],
            [
             0.9,
             "#4d9221"
            ],
            [
             1,
             "#276419"
            ]
           ],
           "sequential": [
            [
             0,
             "#0d0887"
            ],
            [
             0.1111111111111111,
             "#46039f"
            ],
            [
             0.2222222222222222,
             "#7201a8"
            ],
            [
             0.3333333333333333,
             "#9c179e"
            ],
            [
             0.4444444444444444,
             "#bd3786"
            ],
            [
             0.5555555555555556,
             "#d8576b"
            ],
            [
             0.6666666666666666,
             "#ed7953"
            ],
            [
             0.7777777777777778,
             "#fb9f3a"
            ],
            [
             0.8888888888888888,
             "#fdca26"
            ],
            [
             1,
             "#f0f921"
            ]
           ],
           "sequentialminus": [
            [
             0,
             "#0d0887"
            ],
            [
             0.1111111111111111,
             "#46039f"
            ],
            [
             0.2222222222222222,
             "#7201a8"
            ],
            [
             0.3333333333333333,
             "#9c179e"
            ],
            [
             0.4444444444444444,
             "#bd3786"
            ],
            [
             0.5555555555555556,
             "#d8576b"
            ],
            [
             0.6666666666666666,
             "#ed7953"
            ],
            [
             0.7777777777777778,
             "#fb9f3a"
            ],
            [
             0.8888888888888888,
             "#fdca26"
            ],
            [
             1,
             "#f0f921"
            ]
           ]
          },
          "colorway": [
           "#636efa",
           "#EF553B",
           "#00cc96",
           "#ab63fa",
           "#FFA15A",
           "#19d3f3",
           "#FF6692",
           "#B6E880",
           "#FF97FF",
           "#FECB52"
          ],
          "font": {
           "color": "#2a3f5f"
          },
          "geo": {
           "bgcolor": "white",
           "lakecolor": "white",
           "landcolor": "#E5ECF6",
           "showlakes": true,
           "showland": true,
           "subunitcolor": "white"
          },
          "hoverlabel": {
           "align": "left"
          },
          "hovermode": "closest",
          "mapbox": {
           "style": "light"
          },
          "paper_bgcolor": "white",
          "plot_bgcolor": "#E5ECF6",
          "polar": {
           "angularaxis": {
            "gridcolor": "white",
            "linecolor": "white",
            "ticks": ""
           },
           "bgcolor": "#E5ECF6",
           "radialaxis": {
            "gridcolor": "white",
            "linecolor": "white",
            "ticks": ""
           }
          },
          "scene": {
           "xaxis": {
            "backgroundcolor": "#E5ECF6",
            "gridcolor": "white",
            "gridwidth": 2,
            "linecolor": "white",
            "showbackground": true,
            "ticks": "",
            "zerolinecolor": "white"
           },
           "yaxis": {
            "backgroundcolor": "#E5ECF6",
            "gridcolor": "white",
            "gridwidth": 2,
            "linecolor": "white",
            "showbackground": true,
            "ticks": "",
            "zerolinecolor": "white"
           },
           "zaxis": {
            "backgroundcolor": "#E5ECF6",
            "gridcolor": "white",
            "gridwidth": 2,
            "linecolor": "white",
            "showbackground": true,
            "ticks": "",
            "zerolinecolor": "white"
           }
          },
          "shapedefaults": {
           "line": {
            "color": "#2a3f5f"
           }
          },
          "ternary": {
           "aaxis": {
            "gridcolor": "white",
            "linecolor": "white",
            "ticks": ""
           },
           "baxis": {
            "gridcolor": "white",
            "linecolor": "white",
            "ticks": ""
           },
           "bgcolor": "#E5ECF6",
           "caxis": {
            "gridcolor": "white",
            "linecolor": "white",
            "ticks": ""
           }
          },
          "title": {
           "x": 0.05
          },
          "xaxis": {
           "automargin": true,
           "gridcolor": "white",
           "linecolor": "white",
           "ticks": "",
           "title": {
            "standoff": 15
           },
           "zerolinecolor": "white",
           "zerolinewidth": 2
          },
          "yaxis": {
           "automargin": true,
           "gridcolor": "white",
           "linecolor": "white",
           "ticks": "",
           "title": {
            "standoff": 15
           },
           "zerolinecolor": "white",
           "zerolinewidth": 2
          }
         }
        },
        "title": {
         "text": "KDE Plot for Feature \"K\" by Label"
        },
        "xaxis": {
         "title": {
          "text": "K"
         }
        },
        "yaxis": {
         "title": {
          "text": "Density"
         }
        }
       }
      }
     },
     "metadata": {},
     "output_type": "display_data"
    },
    {
     "data": {
      "application/vnd.plotly.v1+json": {
       "config": {
        "plotlyServerURL": "https://plot.ly"
       },
       "data": [
        {
         "mode": "lines",
         "name": "Label 0",
         "type": "scatter",
         "x": {
          "bdata": "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",
          "dtype": "f8"
         },
         "y": {
          "bdata": "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",
          "dtype": "f8"
         }
        },
        {
         "mode": "lines",
         "name": "Label 1",
         "type": "scatter",
         "x": {
          "bdata": "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",
          "dtype": "f8"
         },
         "y": {
          "bdata": "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",
          "dtype": "f8"
         }
        },
        {
         "mode": "lines",
         "name": "Label 2",
         "type": "scatter",
         "x": {
          "bdata": "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",
          "dtype": "f8"
         },
         "y": {
          "bdata": "OEDq5sddwD8RL0rPikXAP8LUgC1U+78/q1BALjoRvz8T3Tj9r9S9P9Y3bRwmULw/wZCN+wKQuj+KcgQx+6G4P7u9CXlglLY/uJ+91nN1tD+4x9khxlKyPzjdc0+wOLA/tU6eQ9RjrD8D4hPmhY6oPxubEqb6/qQ/OkFg+Za+oT+dSqjNoaWdP0jahTYge5g/TxLgZV37kz99+/WBGh+QPzfwXeq1tok/9a3cuSJFhD/gHUE2zJZ/P0B+0lSZVHg/s4i+BROGcj+HHyUBeuFrP1MvAJ6tvWQ/WLGxc2WBXj+/QfwXsS1WP47the11408/3Oey7YGtRj/3YnaLMu8/PxRebd0ATTY/IJGXnX0BLz9isgxz650lP/JU9WwKqh4/A6NWctquFj/RKaeYrSISP1bjU2hOOxA/eqOm89V2ED/8oYNhtIoSP24lgtgoVhY/FL/g5W7XGz+OGs4Ld5EhP/Kt9OXlLSY/JrWog63WKz+JUHnQQVExPzLfwcEeUzU/epZJ9fn4OT+NvTv2HUc/P2Pe2zlinkI/vy8hKnbpRT8/R978tH1JP3cBbmokUE0/vILYJeWoUD+AXIog57dSP5XUgSXvyVQ/y89P0WvSVj+xvrPa18NYP4hzCrRJkFo/VDzNqBYqXD8lLgmNf4RdP1zYApRblF4/ZQviXbVQXz9+pNThTrNfP9DNYIoCuV8/GtLTgvphXz8TUS6WurFeP/fgHMH8rl0/7oKSU2RjXD8L0rPMDttaP+l0AyIMJFk/Xd1JnclNVz+QaNLGemhVP6vt2umKhFM/+oHcyB+yUT949UpOswBQPylSBoWN/Uw/SroaZl1zSj9d6SJL53pIPxK2VIiCKUc/b6OFYriRRj900LqbLMNGPxVZnQ90ykc//Al3Yc6wST9n/rJ+vXtMP66wxWw+FlA/5fScBbFfUj9wX4MbnBVVP3QI6h9XMFg/IEhxdvqkWz/skvt1VmVfPzSCrTwRsGE/h5RfjLnAYz/OmdRXwtllP21NVXby72c/3Mnj/4H4aT83jadyGuprP1PbNpISvm0/T+Lw9etxbz+7b2zTjYRwP3Dl6yOWR3E/gqeGZScNcj9tuy0CO+dyPwDQWS+Q8HM/MxTG/ftOdT8IImxAOTZ3P6yFgzJK63k/vOhDhnbIfT9OXVXG8aCBPwTTzUBYdYU/P/tEKDO9ij8rBMIxmvSQP7u+wim8wJU/0J6zTbsTnD/yk0ihwCWiP7LRDc55aac/w0hW22gQrj+eQjFOWS2zP7u5nBC0Rbg/31DrMfVyvj+I8dFAoerCPxZKUOSSRMc/lQgrY5ZSzD84ffl51Q3RPwDNQxycUNQ/QSkfNeju1z/Zq4FPEOLbP+8zri2LD+A/ZVa72DxL4j+kAhelJJrkPwGVqVY/8OY/iljfjtI/6T+gwJM65XnrP8JIV0nYju0/Xw7W5xdv7z/HsBVW7YXwP/3Vtg3xK/E/wxCLeRek8T9C1ijuTerxP0E9GVcp/PE/wAk0hgnZ8T+ZOqliIoLxP6Ds4zxq+vA/55E3s25G8D/Z0yQpJ9juP1/m6ayB5Ow/20TusgvB6j9LoJuFcX3oP7p38jUxKeY/SwZta/DS4z9GZ+OB7YfhP0p3rHolp94/bbL6NF5+2j9gRMwbqqPWP89SPlK5INM/j9jZZxH2zz9zvOm+p2jKP0T7CUZTlsU/cd9ELyl3wT9LMgGyK/+7P3RmUxBqQ7Y/fp0OyiSdsT/1TghaHt2rPzlDtjvLN6Y/cWNlKhUaoj8Am2w0ZrueP6VnlgLp0Js/SgMAeQBcmz9TT49cgmKdP9YLnbyOBaE/iEH0WpTPpD+lQqLK7UWqP+gLvJOv2LA/fu1o7UC2tT8WniwBWvG7PxhboCmE48E/Cpd4iw29xj92DN/faajMPznErY905NE/6AQeDg4g1j+LFmkFxBXbP/MG4ESDaOA/F2jCNEes4z+2xVteelbnP7O45yqwY+s/0iAEOjPM7z/xFghvz0HyP5BBWlZYvPQ/3aH7da9K9z8/w0Ztnt/5PyBPPEcYbPw/5GtZ4bvf/j/9+qx9vJQAQA/o6dknnAFAvCzLmg9+AkAHTAcSOzMDQLnpgxurtQNApZpLUe4ABEB6dBY3YRIEQA==",
          "dtype": "f8"
         }
        },
        {
         "mode": "lines",
         "name": "Label 3",
         "type": "scatter",
         "x": {
          "bdata": "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",
          "dtype": "f8"
         },
         "y": {
          "bdata": "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",
          "dtype": "f8"
         }
        }
       ],
       "layout": {
        "template": {
         "data": {
          "bar": [
           {
            "error_x": {
             "color": "#2a3f5f"
            },
            "error_y": {
             "color": "#2a3f5f"
            },
            "marker": {
             "line": {
              "color": "#E5ECF6",
              "width": 0.5
             },
             "pattern": {
              "fillmode": "overlay",
              "size": 10,
              "solidity": 0.2
             }
            },
            "type": "bar"
           }
          ],
          "barpolar": [
           {
            "marker": {
             "line": {
              "color": "#E5ECF6",
              "width": 0.5
             },
             "pattern": {
              "fillmode": "overlay",
              "size": 10,
              "solidity": 0.2
             }
            },
            "type": "barpolar"
           }
          ],
          "carpet": [
           {
            "aaxis": {
             "endlinecolor": "#2a3f5f",
             "gridcolor": "white",
             "linecolor": "white",
             "minorgridcolor": "white",
             "startlinecolor": "#2a3f5f"
            },
            "baxis": {
             "endlinecolor": "#2a3f5f",
             "gridcolor": "white",
             "linecolor": "white",
             "minorgridcolor": "white",
             "startlinecolor": "#2a3f5f"
            },
            "type": "carpet"
           }
          ],
          "choropleth": [
           {
            "colorbar": {
             "outlinewidth": 0,
             "ticks": ""
            },
            "type": "choropleth"
           }
          ],
          "contour": [
           {
            "colorbar": {
             "outlinewidth": 0,
             "ticks": ""
            },
            "colorscale": [
             [
              0,
              "#0d0887"
             ],
             [
              0.1111111111111111,
              "#46039f"
             ],
             [
              0.2222222222222222,
              "#7201a8"
             ],
             [
              0.3333333333333333,
              "#9c179e"
             ],
             [
              0.4444444444444444,
              "#bd3786"
             ],
             [
              0.5555555555555556,
              "#d8576b"
             ],
             [
              0.6666666666666666,
              "#ed7953"
             ],
             [
              0.7777777777777778,
              "#fb9f3a"
             ],
             [
              0.8888888888888888,
              "#fdca26"
             ],
             [
              1,
              "#f0f921"
             ]
            ],
            "type": "contour"
           }
          ],
          "contourcarpet": [
           {
            "colorbar": {
             "outlinewidth": 0,
             "ticks": ""
            },
            "type": "contourcarpet"
           }
          ],
          "heatmap": [
           {
            "colorbar": {
             "outlinewidth": 0,
             "ticks": ""
            },
            "colorscale": [
             [
              0,
              "#0d0887"
             ],
             [
              0.1111111111111111,
              "#46039f"
             ],
             [
              0.2222222222222222,
              "#7201a8"
             ],
             [
              0.3333333333333333,
              "#9c179e"
             ],
             [
              0.4444444444444444,
              "#bd3786"
             ],
             [
              0.5555555555555556,
              "#d8576b"
             ],
             [
              0.6666666666666666,
              "#ed7953"
             ],
             [
              0.7777777777777778,
              "#fb9f3a"
             ],
             [
              0.8888888888888888,
              "#fdca26"
             ],
             [
              1,
              "#f0f921"
             ]
            ],
            "type": "heatmap"
           }
          ],
          "histogram": [
           {
            "marker": {
             "pattern": {
              "fillmode": "overlay",
              "size": 10,
              "solidity": 0.2
             }
            },
            "type": "histogram"
           }
          ],
          "histogram2d": [
           {
            "colorbar": {
             "outlinewidth": 0,
             "ticks": ""
            },
            "colorscale": [
             [
              0,
              "#0d0887"
             ],
             [
              0.1111111111111111,
              "#46039f"
             ],
             [
              0.2222222222222222,
              "#7201a8"
             ],
             [
              0.3333333333333333,
              "#9c179e"
             ],
             [
              0.4444444444444444,
              "#bd3786"
             ],
             [
              0.5555555555555556,
              "#d8576b"
             ],
             [
              0.6666666666666666,
              "#ed7953"
             ],
             [
              0.7777777777777778,
              "#fb9f3a"
             ],
             [
              0.8888888888888888,
              "#fdca26"
             ],
             [
              1,
              "#f0f921"
             ]
            ],
            "type": "histogram2d"
           }
          ],
          "histogram2dcontour": [
           {
            "colorbar": {
             "outlinewidth": 0,
             "ticks": ""
            },
            "colorscale": [
             [
              0,
              "#0d0887"
             ],
             [
              0.1111111111111111,
              "#46039f"
             ],
             [
              0.2222222222222222,
              "#7201a8"
             ],
             [
              0.3333333333333333,
              "#9c179e"
             ],
             [
              0.4444444444444444,
              "#bd3786"
             ],
             [
              0.5555555555555556,
              "#d8576b"
             ],
             [
              0.6666666666666666,
              "#ed7953"
             ],
             [
              0.7777777777777778,
              "#fb9f3a"
             ],
             [
              0.8888888888888888,
              "#fdca26"
             ],
             [
              1,
              "#f0f921"
             ]
            ],
            "type": "histogram2dcontour"
           }
          ],
          "mesh3d": [
           {
            "colorbar": {
             "outlinewidth": 0,
             "ticks": ""
            },
            "type": "mesh3d"
           }
          ],
          "parcoords": [
           {
            "line": {
             "colorbar": {
              "outlinewidth": 0,
              "ticks": ""
             }
            },
            "type": "parcoords"
           }
          ],
          "pie": [
           {
            "automargin": true,
            "type": "pie"
           }
          ],
          "scatter": [
           {
            "fillpattern": {
             "fillmode": "overlay",
             "size": 10,
             "solidity": 0.2
            },
            "type": "scatter"
           }
          ],
          "scatter3d": [
           {
            "line": {
             "colorbar": {
              "outlinewidth": 0,
              "ticks": ""
             }
            },
            "marker": {
             "colorbar": {
              "outlinewidth": 0,
              "ticks": ""
             }
            },
            "type": "scatter3d"
           }
          ],
          "scattercarpet": [
           {
            "marker": {
             "colorbar": {
              "outlinewidth": 0,
              "ticks": ""
             }
            },
            "type": "scattercarpet"
           }
          ],
          "scattergeo": [
           {
            "marker": {
             "colorbar": {
              "outlinewidth": 0,
              "ticks": ""
             }
            },
            "type": "scattergeo"
           }
          ],
          "scattergl": [
           {
            "marker": {
             "colorbar": {
              "outlinewidth": 0,
              "ticks": ""
             }
            },
            "type": "scattergl"
           }
          ],
          "scattermap": [
           {
            "marker": {
             "colorbar": {
              "outlinewidth": 0,
              "ticks": ""
             }
            },
            "type": "scattermap"
           }
          ],
          "scattermapbox": [
           {
            "marker": {
             "colorbar": {
              "outlinewidth": 0,
              "ticks": ""
             }
            },
            "type": "scattermapbox"
           }
          ],
          "scatterpolar": [
           {
            "marker": {
             "colorbar": {
              "outlinewidth": 0,
              "ticks": ""
             }
            },
            "type": "scatterpolar"
           }
          ],
          "scatterpolargl": [
           {
            "marker": {
             "colorbar": {
              "outlinewidth": 0,
              "ticks": ""
             }
            },
            "type": "scatterpolargl"
           }
          ],
          "scatterternary": [
           {
            "marker": {
             "colorbar": {
              "outlinewidth": 0,
              "ticks": ""
             }
            },
            "type": "scatterternary"
           }
          ],
          "surface": [
           {
            "colorbar": {
             "outlinewidth": 0,
             "ticks": ""
            },
            "colorscale": [
             [
              0,
              "#0d0887"
             ],
             [
              0.1111111111111111,
              "#46039f"
             ],
             [
              0.2222222222222222,
              "#7201a8"
             ],
             [
              0.3333333333333333,
              "#9c179e"
             ],
             [
              0.4444444444444444,
              "#bd3786"
             ],
             [
              0.5555555555555556,
              "#d8576b"
             ],
             [
              0.6666666666666666,
              "#ed7953"
             ],
             [
              0.7777777777777778,
              "#fb9f3a"
             ],
             [
              0.8888888888888888,
              "#fdca26"
             ],
             [
              1,
              "#f0f921"
             ]
            ],
            "type": "surface"
           }
          ],
          "table": [
           {
            "cells": {
             "fill": {
              "color": "#EBF0F8"
             },
             "line": {
              "color": "white"
             }
            },
            "header": {
             "fill": {
              "color": "#C8D4E3"
             },
             "line": {
              "color": "white"
             }
            },
            "type": "table"
           }
          ]
         },
         "layout": {
          "annotationdefaults": {
           "arrowcolor": "#2a3f5f",
           "arrowhead": 0,
           "arrowwidth": 1
          },
          "autotypenumbers": "strict",
          "coloraxis": {
           "colorbar": {
            "outlinewidth": 0,
            "ticks": ""
           }
          },
          "colorscale": {
           "diverging": [
            [
             0,
             "#8e0152"
            ],
            [
             0.1,
             "#c51b7d"
            ],
            [
             0.2,
             "#de77ae"
            ],
            [
             0.3,
             "#f1b6da"
            ],
            [
             0.4,
             "#fde0ef"
            ],
            [
             0.5,
             "#f7f7f7"
            ],
            [
             0.6,
             "#e6f5d0"
            ],
            [
             0.7,
             "#b8e186"
            ],
            [
             0.8,
             "#7fbc41"
            ],
            [
             0.9,
             "#4d9221"
            ],
            [
             1,
             "#276419"
            ]
           ],
           "sequential": [
            [
             0,
             "#0d0887"
            ],
            [
             0.1111111111111111,
             "#46039f"
            ],
            [
             0.2222222222222222,
             "#7201a8"
            ],
            [
             0.3333333333333333,
             "#9c179e"
            ],
            [
             0.4444444444444444,
             "#bd3786"
            ],
            [
             0.5555555555555556,
             "#d8576b"
            ],
            [
             0.6666666666666666,
             "#ed7953"
            ],
            [
             0.7777777777777778,
             "#fb9f3a"
            ],
            [
             0.8888888888888888,
             "#fdca26"
            ],
            [
             1,
             "#f0f921"
            ]
           ],
           "sequentialminus": [
            [
             0,
             "#0d0887"
            ],
            [
             0.1111111111111111,
             "#46039f"
            ],
            [
             0.2222222222222222,
             "#7201a8"
            ],
            [
             0.3333333333333333,
             "#9c179e"
            ],
            [
             0.4444444444444444,
             "#bd3786"
            ],
            [
             0.5555555555555556,
             "#d8576b"
            ],
            [
             0.6666666666666666,
             "#ed7953"
            ],
            [
             0.7777777777777778,
             "#fb9f3a"
            ],
            [
             0.8888888888888888,
             "#fdca26"
            ],
            [
             1,
             "#f0f921"
            ]
           ]
          },
          "colorway": [
           "#636efa",
           "#EF553B",
           "#00cc96",
           "#ab63fa",
           "#FFA15A",
           "#19d3f3",
           "#FF6692",
           "#B6E880",
           "#FF97FF",
           "#FECB52"
          ],
          "font": {
           "color": "#2a3f5f"
          },
          "geo": {
           "bgcolor": "white",
           "lakecolor": "white",
           "landcolor": "#E5ECF6",
           "showlakes": true,
           "showland": true,
           "subunitcolor": "white"
          },
          "hoverlabel": {
           "align": "left"
          },
          "hovermode": "closest",
          "mapbox": {
           "style": "light"
          },
          "paper_bgcolor": "white",
          "plot_bgcolor": "#E5ECF6",
          "polar": {
           "angularaxis": {
            "gridcolor": "white",
            "linecolor": "white",
            "ticks": ""
           },
           "bgcolor": "#E5ECF6",
           "radialaxis": {
            "gridcolor": "white",
            "linecolor": "white",
            "ticks": ""
           }
          },
          "scene": {
           "xaxis": {
            "backgroundcolor": "#E5ECF6",
            "gridcolor": "white",
            "gridwidth": 2,
            "linecolor": "white",
            "showbackground": true,
            "ticks": "",
            "zerolinecolor": "white"
           },
           "yaxis": {
            "backgroundcolor": "#E5ECF6",
            "gridcolor": "white",
            "gridwidth": 2,
            "linecolor": "white",
            "showbackground": true,
            "ticks": "",
            "zerolinecolor": "white"
           },
           "zaxis": {
            "backgroundcolor": "#E5ECF6",
            "gridcolor": "white",
            "gridwidth": 2,
            "linecolor": "white",
            "showbackground": true,
            "ticks": "",
            "zerolinecolor": "white"
           }
          },
          "shapedefaults": {
           "line": {
            "color": "#2a3f5f"
           }
          },
          "ternary": {
           "aaxis": {
            "gridcolor": "white",
            "linecolor": "white",
            "ticks": ""
           },
           "baxis": {
            "gridcolor": "white",
            "linecolor": "white",
            "ticks": ""
           },
           "bgcolor": "#E5ECF6",
           "caxis": {
            "gridcolor": "white",
            "linecolor": "white",
            "ticks": ""
           }
          },
          "title": {
           "x": 0.05
          },
          "xaxis": {
           "automargin": true,
           "gridcolor": "white",
           "linecolor": "white",
           "ticks": "",
           "title": {
            "standoff": 15
           },
           "zerolinecolor": "white",
           "zerolinewidth": 2
          },
          "yaxis": {
           "automargin": true,
           "gridcolor": "white",
           "linecolor": "white",
           "ticks": "",
           "title": {
            "standoff": 15
           },
           "zerolinecolor": "white",
           "zerolinewidth": 2
          }
         }
        },
        "title": {
         "text": "KDE Plot for Feature \"A\" by Label"
        },
        "xaxis": {
         "title": {
          "text": "A"
         }
        },
        "yaxis": {
         "title": {
          "text": "Density"
         }
        }
       }
      }
     },
     "metadata": {},
     "output_type": "display_data"
    },
    {
     "data": {
      "application/vnd.plotly.v1+json": {
       "config": {
        "plotlyServerURL": "https://plot.ly"
       },
       "data": [
        {
         "mode": "lines",
         "name": "Label 0",
         "type": "scatter",
         "x": {
          "bdata": "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",
          "dtype": "f8"
         },
         "y": {
          "bdata": "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",
          "dtype": "f8"
         }
        },
        {
         "mode": "lines",
         "name": "Label 1",
         "type": "scatter",
         "x": {
          "bdata": "H1A2zTtX/7/URubV1Pv+v4g9lt5toP6/PTRG5wZF/r/xKvbvn+n9v6Yhpvg4jv2/WxhWAdIy/b8PDwYKa9f8v8QFthIEfPy/ePxlG50g/L8t8xUkNsX7v+LpxSzPafu/luB1NWgO+79L1yU+AbP6vwDO1UaaV/q/tMSFTzP8+b9puzVYzKD5vx2y5WBlRfm/0qiVaf7p+L+Gn0Vyl474vzuW9XowM/i/8Iylg8nX97+kg1WMYnz3v1l6BZX7IPe/DnG1nZTF9r/CZ2WmLWr2v3deFa/GDva/LFXFt1+z9b/gS3XA+Ff1v5RCJcmR/PS/SjnV0Sqh9L/+L4Xaw0X0v7ImNeNc6vO/Zx3l6/WO878cFJX0jjPzv9AKRf0n2PK/hQH1BcF88r86+KQOWiHyv+7uVBfzxfG/o+UEIIxq8b9Y3LQoJQ/xvwzTZDG+s/C/wMkUOldY8L/qgImF4Pnvv1Ru6ZYSQ++/vFtJqESM7r8mSam5dtXtv5A2CcuoHu2/+CNp3Npn7L9iEcntDLHrv8r+KP8++uq/NOyIEHFD6r+e2egho4zpvwbHSDPV1ei/cLSoRAcf6L/aoQhWOWjnv0KPaGdrsea/rHzIeJ365b8UaiiKz0Plv35XiJsBjeS/6ETorDPW479QMki+ZR/jv7ofqM+XaOK/Ig0I4cmx4b+M+mfy+/rgv/bnxwMuROC/vKpPKsAa37+QhQ9NJK3dv2Bgz2+IP9y/NDuPkuzR2r8IFk+1UGTZv9jwDti09te/rMvO+hiJ1r98po4dfRvVv1CBTkDhrdO/JFwOY0VA0r/0Ns6FqdLQv5AjHFEbys6/ONmbluPuy7/YjhvcqxPJv4BEmyF0OMa/IPoaZzxdw7/Ir5qsBILAv+DKNOSZTbu/IDY0byqXtb/gQmf0dcGvv2AZZgqXVKS/AODJQHDPkb8Ay+FMNil0P8DFOmcL5Js/YIyeneReqT/Q2s/D4WWyP5Bv0DhRHLg/UATRrcDSvT94zGgRmMTBP9gW6cvPn8Q/OGFphgd7xz+Iq+lAP1bKP+j1aft2Mc0/JCD1WlcG0D9URTU483PRP3xqdRWP4dI/rI+18ipP1D/ctPXPxrzVPwTaNa1iKtc/NP91iv6X2D9kJLZnmgXaP4xJ9kQ2c9s/vG42ItLg3D/sk3b/bU7ePxS5ttwJvN8/Im/73NKU4D+6gZvLoEvhP1KUO7puAuI/5qbbqDy54j9+uXuXCnDjPxbMG4bYJuQ/qt67dKbd5D9C8VtjdJTlP9oD/FFCS+Y/bhacQBAC5z8GKTwv3rjnP5473B2sb+g/Nk58DHom6T/KYBz7R93pP2JzvOkVlOo/+oVc2ONK6z+OmPzGsQHsPyarnLV/uOw/vr08pE1v7T9S0NySGybuP+rifIHp3O4/gvUccLeT7z8LhF6vQiXwP1eNrqapgPA/o5b+nRDc8D/vn06VdzfxPzmpnozekvE/hbLug0Xu8T/Ruz57rEnyPxvFjnITpfI/Z87eaXoA8z+z1y5h4VvzP/3gflhIt/M/SerOT68S9D+V8x5HFm70P+H8bj59yfQ/Kwa/NeQk9T93Dw8tS4D1P8MYXySy2/U/DSKvGxk39j9ZK/8SgJL2P6U0Twrn7fY/7z2fAU5J9z87R+/4tKT3P4dQP/AbAPg/0VmP54Jb+D8dY9/e6bb4P2lsL9ZQEvk/tXV/zbdt+T//fs/EHsn5P0uIH7yFJPo/l5Fvs+x/+j/hmr+qU9v6Py2kD6K6Nvs/ea1fmSGS+z/Dtq+QiO37Pw/A/4fvSPw/W8lPf1ak/D+n0p92vf/8P/Hb720kW/0/PeU/ZYu2/T+J7o9c8hH+P9P331NZbf4/HwEwS8DI/j9rCoBCJyT/P7UT0DmOf/8/AR0gMfXa/z8mEzgULhsAQMwX4I/hSABAchyIC5V2AEAWITCHSKQAQLwl2AL80QBAYiqAfq//AEAILyj6Yi0BQK4z0HUWWwFAVDh48cmIAUD6PCBtfbYBQJ5ByOgw5AFAREZwZOQRAkDqShjglz8CQJBPwFtLbQJANlRo1/6aAkDcWBBTssgCQIBduM5l9gJAJmJgShkkA0DMZgjGzFEDQHJrsEGAfwNAGHBYvTOtA0C/dAA559oDQA==",
          "dtype": "f8"
         },
         "y": {
          "bdata": "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",
          "dtype": "f8"
         }
        },
        {
         "mode": "lines",
         "name": "Label 2",
         "type": "scatter",
         "x": {
          "bdata": "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",
          "dtype": "f8"
         },
         "y": {
          "bdata": "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",
          "dtype": "f8"
         }
        },
        {
         "mode": "lines",
         "name": "Label 3",
         "type": "scatter",
         "x": {
          "bdata": "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",
          "dtype": "f8"
         },
         "y": {
          "bdata": "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",
          "dtype": "f8"
         }
        }
       ],
       "layout": {
        "template": {
         "data": {
          "bar": [
           {
            "error_x": {
             "color": "#2a3f5f"
            },
            "error_y": {
             "color": "#2a3f5f"
            },
            "marker": {
             "line": {
              "color": "#E5ECF6",
              "width": 0.5
             },
             "pattern": {
              "fillmode": "overlay",
              "size": 10,
              "solidity": 0.2
             }
            },
            "type": "bar"
           }
          ],
          "barpolar": [
           {
            "marker": {
             "line": {
              "color": "#E5ECF6",
              "width": 0.5
             },
             "pattern": {
              "fillmode": "overlay",
              "size": 10,
              "solidity": 0.2
             }
            },
            "type": "barpolar"
           }
          ],
          "carpet": [
           {
            "aaxis": {
             "endlinecolor": "#2a3f5f",
             "gridcolor": "white",
             "linecolor": "white",
             "minorgridcolor": "white",
             "startlinecolor": "#2a3f5f"
            },
            "baxis": {
             "endlinecolor": "#2a3f5f",
             "gridcolor": "white",
             "linecolor": "white",
             "minorgridcolor": "white",
             "startlinecolor": "#2a3f5f"
            },
            "type": "carpet"
           }
          ],
          "choropleth": [
           {
            "colorbar": {
             "outlinewidth": 0,
             "ticks": ""
            },
            "type": "choropleth"
           }
          ],
          "contour": [
           {
            "colorbar": {
             "outlinewidth": 0,
             "ticks": ""
            },
            "colorscale": [
             [
              0,
              "#0d0887"
             ],
             [
              0.1111111111111111,
              "#46039f"
             ],
             [
              0.2222222222222222,
              "#7201a8"
             ],
             [
              0.3333333333333333,
              "#9c179e"
             ],
             [
              0.4444444444444444,
              "#bd3786"
             ],
             [
              0.5555555555555556,
              "#d8576b"
             ],
             [
              0.6666666666666666,
              "#ed7953"
             ],
             [
              0.7777777777777778,
              "#fb9f3a"
             ],
             [
              0.8888888888888888,
              "#fdca26"
             ],
             [
              1,
              "#f0f921"
             ]
            ],
            "type": "contour"
           }
          ],
          "contourcarpet": [
           {
            "colorbar": {
             "outlinewidth": 0,
             "ticks": ""
            },
            "type": "contourcarpet"
           }
          ],
          "heatmap": [
           {
            "colorbar": {
             "outlinewidth": 0,
             "ticks": ""
            },
            "colorscale": [
             [
              0,
              "#0d0887"
             ],
             [
              0.1111111111111111,
              "#46039f"
             ],
             [
              0.2222222222222222,
              "#7201a8"
             ],
             [
              0.3333333333333333,
              "#9c179e"
             ],
             [
              0.4444444444444444,
              "#bd3786"
             ],
             [
              0.5555555555555556,
              "#d8576b"
             ],
             [
              0.6666666666666666,
              "#ed7953"
             ],
             [
              0.7777777777777778,
              "#fb9f3a"
             ],
             [
              0.8888888888888888,
              "#fdca26"
             ],
             [
              1,
              "#f0f921"
             ]
            ],
            "type": "heatmap"
           }
          ],
          "histogram": [
           {
            "marker": {
             "pattern": {
              "fillmode": "overlay",
              "size": 10,
              "solidity": 0.2
             }
            },
            "type": "histogram"
           }
          ],
          "histogram2d": [
           {
            "colorbar": {
             "outlinewidth": 0,
             "ticks": ""
            },
            "colorscale": [
             [
              0,
              "#0d0887"
             ],
             [
              0.1111111111111111,
              "#46039f"
             ],
             [
              0.2222222222222222,
              "#7201a8"
             ],
             [
              0.3333333333333333,
              "#9c179e"
             ],
             [
              0.4444444444444444,
              "#bd3786"
             ],
             [
              0.5555555555555556,
              "#d8576b"
             ],
             [
              0.6666666666666666,
              "#ed7953"
             ],
             [
              0.7777777777777778,
              "#fb9f3a"
             ],
             [
              0.8888888888888888,
              "#fdca26"
             ],
             [
              1,
              "#f0f921"
             ]
            ],
            "type": "histogram2d"
           }
          ],
          "histogram2dcontour": [
           {
            "colorbar": {
             "outlinewidth": 0,
             "ticks": ""
            },
            "colorscale": [
             [
              0,
              "#0d0887"
             ],
             [
              0.1111111111111111,
              "#46039f"
             ],
             [
              0.2222222222222222,
              "#7201a8"
             ],
             [
              0.3333333333333333,
              "#9c179e"
             ],
             [
              0.4444444444444444,
              "#bd3786"
             ],
             [
              0.5555555555555556,
              "#d8576b"
             ],
             [
              0.6666666666666666,
              "#ed7953"
             ],
             [
              0.7777777777777778,
              "#fb9f3a"
             ],
             [
              0.8888888888888888,
              "#fdca26"
             ],
             [
              1,
              "#f0f921"
             ]
            ],
            "type": "histogram2dcontour"
           }
          ],
          "mesh3d": [
           {
            "colorbar": {
             "outlinewidth": 0,
             "ticks": ""
            },
            "type": "mesh3d"
           }
          ],
          "parcoords": [
           {
            "line": {
             "colorbar": {
              "outlinewidth": 0,
              "ticks": ""
             }
            },
            "type": "parcoords"
           }
          ],
          "pie": [
           {
            "automargin": true,
            "type": "pie"
           }
          ],
          "scatter": [
           {
            "fillpattern": {
             "fillmode": "overlay",
             "size": 10,
             "solidity": 0.2
            },
            "type": "scatter"
           }
          ],
          "scatter3d": [
           {
            "line": {
             "colorbar": {
              "outlinewidth": 0,
              "ticks": ""
             }
            },
            "marker": {
             "colorbar": {
              "outlinewidth": 0,
              "ticks": ""
             }
            },
            "type": "scatter3d"
           }
          ],
          "scattercarpet": [
           {
            "marker": {
             "colorbar": {
              "outlinewidth": 0,
              "ticks": ""
             }
            },
            "type": "scattercarpet"
           }
          ],
          "scattergeo": [
           {
            "marker": {
             "colorbar": {
              "outlinewidth": 0,
              "ticks": ""
             }
            },
            "type": "scattergeo"
           }
          ],
          "scattergl": [
           {
            "marker": {
             "colorbar": {
              "outlinewidth": 0,
              "ticks": ""
             }
            },
            "type": "scattergl"
           }
          ],
          "scattermap": [
           {
            "marker": {
             "colorbar": {
              "outlinewidth": 0,
              "ticks": ""
             }
            },
            "type": "scattermap"
           }
          ],
          "scattermapbox": [
           {
            "marker": {
             "colorbar": {
              "outlinewidth": 0,
              "ticks": ""
             }
            },
            "type": "scattermapbox"
           }
          ],
          "scatterpolar": [
           {
            "marker": {
             "colorbar": {
              "outlinewidth": 0,
              "ticks": ""
             }
            },
            "type": "scatterpolar"
           }
          ],
          "scatterpolargl": [
           {
            "marker": {
             "colorbar": {
              "outlinewidth": 0,
              "ticks": ""
             }
            },
            "type": "scatterpolargl"
           }
          ],
          "scatterternary": [
           {
            "marker": {
             "colorbar": {
              "outlinewidth": 0,
              "ticks": ""
             }
            },
            "type": "scatterternary"
           }
          ],
          "surface": [
           {
            "colorbar": {
             "outlinewidth": 0,
             "ticks": ""
            },
            "colorscale": [
             [
              0,
              "#0d0887"
             ],
             [
              0.1111111111111111,
              "#46039f"
             ],
             [
              0.2222222222222222,
              "#7201a8"
             ],
             [
              0.3333333333333333,
              "#9c179e"
             ],
             [
              0.4444444444444444,
              "#bd3786"
             ],
             [
              0.5555555555555556,
              "#d8576b"
             ],
             [
              0.6666666666666666,
              "#ed7953"
             ],
             [
              0.7777777777777778,
              "#fb9f3a"
             ],
             [
              0.8888888888888888,
              "#fdca26"
             ],
             [
              1,
              "#f0f921"
             ]
            ],
            "type": "surface"
           }
          ],
          "table": [
           {
            "cells": {
             "fill": {
              "color": "#EBF0F8"
             },
             "line": {
              "color": "white"
             }
            },
            "header": {
             "fill": {
              "color": "#C8D4E3"
             },
             "line": {
              "color": "white"
             }
            },
            "type": "table"
           }
          ]
         },
         "layout": {
          "annotationdefaults": {
           "arrowcolor": "#2a3f5f",
           "arrowhead": 0,
           "arrowwidth": 1
          },
          "autotypenumbers": "strict",
          "coloraxis": {
           "colorbar": {
            "outlinewidth": 0,
            "ticks": ""
           }
          },
          "colorscale": {
           "diverging": [
            [
             0,
             "#8e0152"
            ],
            [
             0.1,
             "#c51b7d"
            ],
            [
             0.2,
             "#de77ae"
            ],
            [
             0.3,
             "#f1b6da"
            ],
            [
             0.4,
             "#fde0ef"
            ],
            [
             0.5,
             "#f7f7f7"
            ],
            [
             0.6,
             "#e6f5d0"
            ],
            [
             0.7,
             "#b8e186"
            ],
            [
             0.8,
             "#7fbc41"
            ],
            [
             0.9,
             "#4d9221"
            ],
            [
             1,
             "#276419"
            ]
           ],
           "sequential": [
            [
             0,
             "#0d0887"
            ],
            [
             0.1111111111111111,
             "#46039f"
            ],
            [
             0.2222222222222222,
             "#7201a8"
            ],
            [
             0.3333333333333333,
             "#9c179e"
            ],
            [
             0.4444444444444444,
             "#bd3786"
            ],
            [
             0.5555555555555556,
             "#d8576b"
            ],
            [
             0.6666666666666666,
             "#ed7953"
            ],
            [
             0.7777777777777778,
             "#fb9f3a"
            ],
            [
             0.8888888888888888,
             "#fdca26"
            ],
            [
             1,
             "#f0f921"
            ]
           ],
           "sequentialminus": [
            [
             0,
             "#0d0887"
            ],
            [
             0.1111111111111111,
             "#46039f"
            ],
            [
             0.2222222222222222,
             "#7201a8"
            ],
            [
             0.3333333333333333,
             "#9c179e"
            ],
            [
             0.4444444444444444,
             "#bd3786"
            ],
            [
             0.5555555555555556,
             "#d8576b"
            ],
            [
             0.6666666666666666,
             "#ed7953"
            ],
            [
             0.7777777777777778,
             "#fb9f3a"
            ],
            [
             0.8888888888888888,
             "#fdca26"
            ],
            [
             1,
             "#f0f921"
            ]
           ]
          },
          "colorway": [
           "#636efa",
           "#EF553B",
           "#00cc96",
           "#ab63fa",
           "#FFA15A",
           "#19d3f3",
           "#FF6692",
           "#B6E880",
           "#FF97FF",
           "#FECB52"
          ],
          "font": {
           "color": "#2a3f5f"
          },
          "geo": {
           "bgcolor": "white",
           "lakecolor": "white",
           "landcolor": "#E5ECF6",
           "showlakes": true,
           "showland": true,
           "subunitcolor": "white"
          },
          "hoverlabel": {
           "align": "left"
          },
          "hovermode": "closest",
          "mapbox": {
           "style": "light"
          },
          "paper_bgcolor": "white",
          "plot_bgcolor": "#E5ECF6",
          "polar": {
           "angularaxis": {
            "gridcolor": "white",
            "linecolor": "white",
            "ticks": ""
           },
           "bgcolor": "#E5ECF6",
           "radialaxis": {
            "gridcolor": "white",
            "linecolor": "white",
            "ticks": ""
           }
          },
          "scene": {
           "xaxis": {
            "backgroundcolor": "#E5ECF6",
            "gridcolor": "white",
            "gridwidth": 2,
            "linecolor": "white",
            "showbackground": true,
            "ticks": "",
            "zerolinecolor": "white"
           },
           "yaxis": {
            "backgroundcolor": "#E5ECF6",
            "gridcolor": "white",
            "gridwidth": 2,
            "linecolor": "white",
            "showbackground": true,
            "ticks": "",
            "zerolinecolor": "white"
           },
           "zaxis": {
            "backgroundcolor": "#E5ECF6",
            "gridcolor": "white",
            "gridwidth": 2,
            "linecolor": "white",
            "showbackground": true,
            "ticks": "",
            "zerolinecolor": "white"
           }
          },
          "shapedefaults": {
           "line": {
            "color": "#2a3f5f"
           }
          },
          "ternary": {
           "aaxis": {
            "gridcolor": "white",
            "linecolor": "white",
            "ticks": ""
           },
           "baxis": {
            "gridcolor": "white",
            "linecolor": "white",
            "ticks": ""
           },
           "bgcolor": "#E5ECF6",
           "caxis": {
            "gridcolor": "white",
            "linecolor": "white",
            "ticks": ""
           }
          },
          "title": {
           "x": 0.05
          },
          "xaxis": {
           "automargin": true,
           "gridcolor": "white",
           "linecolor": "white",
           "ticks": "",
           "title": {
            "standoff": 15
           },
           "zerolinecolor": "white",
           "zerolinewidth": 2
          },
          "yaxis": {
           "automargin": true,
           "gridcolor": "white",
           "linecolor": "white",
           "ticks": "",
           "title": {
            "standoff": 15
           },
           "zerolinecolor": "white",
           "zerolinewidth": 2
          }
         }
        },
        "title": {
         "text": "KDE Plot for Feature \"V\" by Label"
        },
        "xaxis": {
         "title": {
          "text": "V"
         }
        },
        "yaxis": {
         "title": {
          "text": "Density"
         }
        }
       }
      }
     },
     "metadata": {},
     "output_type": "display_data"
    }
   ],
   "source": [
    "import pandas as pd\n",
    "import numpy as np\n",
    "import plotly.graph_objects as go\n",
    "from scipy.stats import gaussian_kde\n",
    "\n",
    "# Rebuild X_test dataframe with column names and true labels\n",
    "X_test_df = pd.DataFrame(X_test_scaled, columns=X.columns)\n",
    "X_test_df['label'] = y_test.values\n",
    "\n",
    "# Get top 3 features from permutation importance\n",
    "top_features = importance_df.head(3)['Feature'].tolist()\n",
    "\n",
    "# Plot KDE for each top feature\n",
    "for feature in top_features:\n",
    "    fig = go.Figure()\n",
    "\n",
    "    # Plot KDE for each class\n",
    "    for label in sorted(X_test_df['label'].unique()):\n",
    "        # Extract values for this label/class\n",
    "        data = X_test_df[X_test_df['label'] == label][feature].values\n",
    "\n",
    "        # Compute KDE\n",
    "        kde = gaussian_kde(data)\n",
    "        x_vals = np.linspace(data.min(), data.max(), 200)\n",
    "        y_vals = kde(x_vals)\n",
    "\n",
    "        # Add curve to figure\n",
    "        fig.add_trace(go.Scatter(\n",
    "            x=x_vals,\n",
    "            y=y_vals,\n",
    "            mode='lines',\n",
    "            name=f'Label {label}'\n",
    "        ))\n",
    "\n",
    "    # Update layout\n",
    "    fig.update_layout(\n",
    "        title=f'KDE Plot for Feature \"{feature}\" by Label',\n",
    "        xaxis_title=feature,\n",
    "        yaxis_title='Density'\n",
    "    )\n",
    "\n",
    "    fig.show()\n"
   ]
  },
  {
   "cell_type": "markdown",
   "id": "2a5206f6",
   "metadata": {},
   "source": [
    "###  Training vs Validation Accuracy "
   ]
  },
  {
   "cell_type": "code",
   "execution_count": 10,
   "id": "8fe8023d",
   "metadata": {},
   "outputs": [
    {
     "data": {
      "application/vnd.plotly.v1+json": {
       "config": {
        "plotlyServerURL": "https://plot.ly"
       },
       "data": [
        {
         "mode": "lines+markers",
         "name": "Training Accuracy",
         "type": "scatter",
         "x": {
          "bdata": "mpmZmZmZuT+amZmZmZnJPzQzMzMzM9M/mpmZmZmZ2T8AAAAAAADgPzMzMzMzM+M/Z2ZmZmZm5j+amZmZmZnpP83MzMzMzOw/",
          "dtype": "f8"
         },
         "y": [
          0.9459219858156028,
          0.9492464539007093,
          0.9550893780469789,
          0.9550138504155125,
          0.9574543520652367,
          0.9574530949918747,
          0.9577054577687729,
          0.95850645393607,
          0.958437977052248
         ]
        },
        {
         "mode": "lines+markers",
         "name": "Validation Accuracy",
         "type": "scatter",
         "x": {
          "bdata": "mpmZmZmZuT+amZmZmZnJPzQzMzMzM9M/mpmZmZmZ2T8AAAAAAADgPzMzMzMzM+M/Z2ZmZmZm5j+amZmZmZnpP83MzMzMzOw/",
          "dtype": "f8"
         },
         "y": [
          0.9436270164864385,
          0.9494770430774685,
          0.9521361460733913,
          0.9531997872717604,
          0.9542634284701295,
          0.9549725226023754,
          0.9547952490693139,
          0.9547952490693139,
          0.9551497961354369
         ]
        }
       ],
       "layout": {
        "template": {
         "data": {
          "bar": [
           {
            "error_x": {
             "color": "#2a3f5f"
            },
            "error_y": {
             "color": "#2a3f5f"
            },
            "marker": {
             "line": {
              "color": "#E5ECF6",
              "width": 0.5
             },
             "pattern": {
              "fillmode": "overlay",
              "size": 10,
              "solidity": 0.2
             }
            },
            "type": "bar"
           }
          ],
          "barpolar": [
           {
            "marker": {
             "line": {
              "color": "#E5ECF6",
              "width": 0.5
             },
             "pattern": {
              "fillmode": "overlay",
              "size": 10,
              "solidity": 0.2
             }
            },
            "type": "barpolar"
           }
          ],
          "carpet": [
           {
            "aaxis": {
             "endlinecolor": "#2a3f5f",
             "gridcolor": "white",
             "linecolor": "white",
             "minorgridcolor": "white",
             "startlinecolor": "#2a3f5f"
            },
            "baxis": {
             "endlinecolor": "#2a3f5f",
             "gridcolor": "white",
             "linecolor": "white",
             "minorgridcolor": "white",
             "startlinecolor": "#2a3f5f"
            },
            "type": "carpet"
           }
          ],
          "choropleth": [
           {
            "colorbar": {
             "outlinewidth": 0,
             "ticks": ""
            },
            "type": "choropleth"
           }
          ],
          "contour": [
           {
            "colorbar": {
             "outlinewidth": 0,
             "ticks": ""
            },
            "colorscale": [
             [
              0,
              "#0d0887"
             ],
             [
              0.1111111111111111,
              "#46039f"
             ],
             [
              0.2222222222222222,
              "#7201a8"
             ],
             [
              0.3333333333333333,
              "#9c179e"
             ],
             [
              0.4444444444444444,
              "#bd3786"
             ],
             [
              0.5555555555555556,
              "#d8576b"
             ],
             [
              0.6666666666666666,
              "#ed7953"
             ],
             [
              0.7777777777777778,
              "#fb9f3a"
             ],
             [
              0.8888888888888888,
              "#fdca26"
             ],
             [
              1,
              "#f0f921"
             ]
            ],
            "type": "contour"
           }
          ],
          "contourcarpet": [
           {
            "colorbar": {
             "outlinewidth": 0,
             "ticks": ""
            },
            "type": "contourcarpet"
           }
          ],
          "heatmap": [
           {
            "colorbar": {
             "outlinewidth": 0,
             "ticks": ""
            },
            "colorscale": [
             [
              0,
              "#0d0887"
             ],
             [
              0.1111111111111111,
              "#46039f"
             ],
             [
              0.2222222222222222,
              "#7201a8"
             ],
             [
              0.3333333333333333,
              "#9c179e"
             ],
             [
              0.4444444444444444,
              "#bd3786"
             ],
             [
              0.5555555555555556,
              "#d8576b"
             ],
             [
              0.6666666666666666,
              "#ed7953"
             ],
             [
              0.7777777777777778,
              "#fb9f3a"
             ],
             [
              0.8888888888888888,
              "#fdca26"
             ],
             [
              1,
              "#f0f921"
             ]
            ],
            "type": "heatmap"
           }
          ],
          "histogram": [
           {
            "marker": {
             "pattern": {
              "fillmode": "overlay",
              "size": 10,
              "solidity": 0.2
             }
            },
            "type": "histogram"
           }
          ],
          "histogram2d": [
           {
            "colorbar": {
             "outlinewidth": 0,
             "ticks": ""
            },
            "colorscale": [
             [
              0,
              "#0d0887"
             ],
             [
              0.1111111111111111,
              "#46039f"
             ],
             [
              0.2222222222222222,
              "#7201a8"
             ],
             [
              0.3333333333333333,
              "#9c179e"
             ],
             [
              0.4444444444444444,
              "#bd3786"
             ],
             [
              0.5555555555555556,
              "#d8576b"
             ],
             [
              0.6666666666666666,
              "#ed7953"
             ],
             [
              0.7777777777777778,
              "#fb9f3a"
             ],
             [
              0.8888888888888888,
              "#fdca26"
             ],
             [
              1,
              "#f0f921"
             ]
            ],
            "type": "histogram2d"
           }
          ],
          "histogram2dcontour": [
           {
            "colorbar": {
             "outlinewidth": 0,
             "ticks": ""
            },
            "colorscale": [
             [
              0,
              "#0d0887"
             ],
             [
              0.1111111111111111,
              "#46039f"
             ],
             [
              0.2222222222222222,
              "#7201a8"
             ],
             [
              0.3333333333333333,
              "#9c179e"
             ],
             [
              0.4444444444444444,
              "#bd3786"
             ],
             [
              0.5555555555555556,
              "#d8576b"
             ],
             [
              0.6666666666666666,
              "#ed7953"
             ],
             [
              0.7777777777777778,
              "#fb9f3a"
             ],
             [
              0.8888888888888888,
              "#fdca26"
             ],
             [
              1,
              "#f0f921"
             ]
            ],
            "type": "histogram2dcontour"
           }
          ],
          "mesh3d": [
           {
            "colorbar": {
             "outlinewidth": 0,
             "ticks": ""
            },
            "type": "mesh3d"
           }
          ],
          "parcoords": [
           {
            "line": {
             "colorbar": {
              "outlinewidth": 0,
              "ticks": ""
             }
            },
            "type": "parcoords"
           }
          ],
          "pie": [
           {
            "automargin": true,
            "type": "pie"
           }
          ],
          "scatter": [
           {
            "fillpattern": {
             "fillmode": "overlay",
             "size": 10,
             "solidity": 0.2
            },
            "type": "scatter"
           }
          ],
          "scatter3d": [
           {
            "line": {
             "colorbar": {
              "outlinewidth": 0,
              "ticks": ""
             }
            },
            "marker": {
             "colorbar": {
              "outlinewidth": 0,
              "ticks": ""
             }
            },
            "type": "scatter3d"
           }
          ],
          "scattercarpet": [
           {
            "marker": {
             "colorbar": {
              "outlinewidth": 0,
              "ticks": ""
             }
            },
            "type": "scattercarpet"
           }
          ],
          "scattergeo": [
           {
            "marker": {
             "colorbar": {
              "outlinewidth": 0,
              "ticks": ""
             }
            },
            "type": "scattergeo"
           }
          ],
          "scattergl": [
           {
            "marker": {
             "colorbar": {
              "outlinewidth": 0,
              "ticks": ""
             }
            },
            "type": "scattergl"
           }
          ],
          "scattermap": [
           {
            "marker": {
             "colorbar": {
              "outlinewidth": 0,
              "ticks": ""
             }
            },
            "type": "scattermap"
           }
          ],
          "scattermapbox": [
           {
            "marker": {
             "colorbar": {
              "outlinewidth": 0,
              "ticks": ""
             }
            },
            "type": "scattermapbox"
           }
          ],
          "scatterpolar": [
           {
            "marker": {
             "colorbar": {
              "outlinewidth": 0,
              "ticks": ""
             }
            },
            "type": "scatterpolar"
           }
          ],
          "scatterpolargl": [
           {
            "marker": {
             "colorbar": {
              "outlinewidth": 0,
              "ticks": ""
             }
            },
            "type": "scatterpolargl"
           }
          ],
          "scatterternary": [
           {
            "marker": {
             "colorbar": {
              "outlinewidth": 0,
              "ticks": ""
             }
            },
            "type": "scatterternary"
           }
          ],
          "surface": [
           {
            "colorbar": {
             "outlinewidth": 0,
             "ticks": ""
            },
            "colorscale": [
             [
              0,
              "#0d0887"
             ],
             [
              0.1111111111111111,
              "#46039f"
             ],
             [
              0.2222222222222222,
              "#7201a8"
             ],
             [
              0.3333333333333333,
              "#9c179e"
             ],
             [
              0.4444444444444444,
              "#bd3786"
             ],
             [
              0.5555555555555556,
              "#d8576b"
             ],
             [
              0.6666666666666666,
              "#ed7953"
             ],
             [
              0.7777777777777778,
              "#fb9f3a"
             ],
             [
              0.8888888888888888,
              "#fdca26"
             ],
             [
              1,
              "#f0f921"
             ]
            ],
            "type": "surface"
           }
          ],
          "table": [
           {
            "cells": {
             "fill": {
              "color": "#EBF0F8"
             },
             "line": {
              "color": "white"
             }
            },
            "header": {
             "fill": {
              "color": "#C8D4E3"
             },
             "line": {
              "color": "white"
             }
            },
            "type": "table"
           }
          ]
         },
         "layout": {
          "annotationdefaults": {
           "arrowcolor": "#2a3f5f",
           "arrowhead": 0,
           "arrowwidth": 1
          },
          "autotypenumbers": "strict",
          "coloraxis": {
           "colorbar": {
            "outlinewidth": 0,
            "ticks": ""
           }
          },
          "colorscale": {
           "diverging": [
            [
             0,
             "#8e0152"
            ],
            [
             0.1,
             "#c51b7d"
            ],
            [
             0.2,
             "#de77ae"
            ],
            [
             0.3,
             "#f1b6da"
            ],
            [
             0.4,
             "#fde0ef"
            ],
            [
             0.5,
             "#f7f7f7"
            ],
            [
             0.6,
             "#e6f5d0"
            ],
            [
             0.7,
             "#b8e186"
            ],
            [
             0.8,
             "#7fbc41"
            ],
            [
             0.9,
             "#4d9221"
            ],
            [
             1,
             "#276419"
            ]
           ],
           "sequential": [
            [
             0,
             "#0d0887"
            ],
            [
             0.1111111111111111,
             "#46039f"
            ],
            [
             0.2222222222222222,
             "#7201a8"
            ],
            [
             0.3333333333333333,
             "#9c179e"
            ],
            [
             0.4444444444444444,
             "#bd3786"
            ],
            [
             0.5555555555555556,
             "#d8576b"
            ],
            [
             0.6666666666666666,
             "#ed7953"
            ],
            [
             0.7777777777777778,
             "#fb9f3a"
            ],
            [
             0.8888888888888888,
             "#fdca26"
            ],
            [
             1,
             "#f0f921"
            ]
           ],
           "sequentialminus": [
            [
             0,
             "#0d0887"
            ],
            [
             0.1111111111111111,
             "#46039f"
            ],
            [
             0.2222222222222222,
             "#7201a8"
            ],
            [
             0.3333333333333333,
             "#9c179e"
            ],
            [
             0.4444444444444444,
             "#bd3786"
            ],
            [
             0.5555555555555556,
             "#d8576b"
            ],
            [
             0.6666666666666666,
             "#ed7953"
            ],
            [
             0.7777777777777778,
             "#fb9f3a"
            ],
            [
             0.8888888888888888,
             "#fdca26"
            ],
            [
             1,
             "#f0f921"
            ]
           ]
          },
          "colorway": [
           "#636efa",
           "#EF553B",
           "#00cc96",
           "#ab63fa",
           "#FFA15A",
           "#19d3f3",
           "#FF6692",
           "#B6E880",
           "#FF97FF",
           "#FECB52"
          ],
          "font": {
           "color": "#2a3f5f"
          },
          "geo": {
           "bgcolor": "white",
           "lakecolor": "white",
           "landcolor": "#E5ECF6",
           "showlakes": true,
           "showland": true,
           "subunitcolor": "white"
          },
          "hoverlabel": {
           "align": "left"
          },
          "hovermode": "closest",
          "mapbox": {
           "style": "light"
          },
          "paper_bgcolor": "white",
          "plot_bgcolor": "#E5ECF6",
          "polar": {
           "angularaxis": {
            "gridcolor": "white",
            "linecolor": "white",
            "ticks": ""
           },
           "bgcolor": "#E5ECF6",
           "radialaxis": {
            "gridcolor": "white",
            "linecolor": "white",
            "ticks": ""
           }
          },
          "scene": {
           "xaxis": {
            "backgroundcolor": "#E5ECF6",
            "gridcolor": "white",
            "gridwidth": 2,
            "linecolor": "white",
            "showbackground": true,
            "ticks": "",
            "zerolinecolor": "white"
           },
           "yaxis": {
            "backgroundcolor": "#E5ECF6",
            "gridcolor": "white",
            "gridwidth": 2,
            "linecolor": "white",
            "showbackground": true,
            "ticks": "",
            "zerolinecolor": "white"
           },
           "zaxis": {
            "backgroundcolor": "#E5ECF6",
            "gridcolor": "white",
            "gridwidth": 2,
            "linecolor": "white",
            "showbackground": true,
            "ticks": "",
            "zerolinecolor": "white"
           }
          },
          "shapedefaults": {
           "line": {
            "color": "#2a3f5f"
           }
          },
          "ternary": {
           "aaxis": {
            "gridcolor": "white",
            "linecolor": "white",
            "ticks": ""
           },
           "baxis": {
            "gridcolor": "white",
            "linecolor": "white",
            "ticks": ""
           },
           "bgcolor": "#E5ECF6",
           "caxis": {
            "gridcolor": "white",
            "linecolor": "white",
            "ticks": ""
           }
          },
          "title": {
           "x": 0.05
          },
          "xaxis": {
           "automargin": true,
           "gridcolor": "white",
           "linecolor": "white",
           "ticks": "",
           "title": {
            "standoff": 15
           },
           "zerolinecolor": "white",
           "zerolinewidth": 2
          },
          "yaxis": {
           "automargin": true,
           "gridcolor": "white",
           "linecolor": "white",
           "ticks": "",
           "title": {
            "standoff": 15
           },
           "zerolinecolor": "white",
           "zerolinewidth": 2
          }
         }
        },
        "title": {
         "text": "Learning Curve - SVM Classifier"
        },
        "xaxis": {
         "title": {
          "text": "Training Set Size Proportion"
         }
        },
        "yaxis": {
         "range": [
          0,
          1
         ],
         "title": {
          "text": "Accuracy"
         }
        }
       }
      }
     },
     "metadata": {},
     "output_type": "display_data"
    }
   ],
   "source": [
    "import numpy as np\n",
    "import plotly.graph_objects as go\n",
    "from sklearn.svm import SVC\n",
    "from sklearn.model_selection import train_test_split\n",
    "\n",
    "train_sizes = np.linspace(0.1, 0.9, 9)  # Avoid train_size=1.0\n",
    "train_scores = []\n",
    "val_scores = []\n",
    "\n",
    "for size in train_sizes:\n",
    "    X_train_part, _, y_train_part, _ = train_test_split(\n",
    "        X_train_scaled, y_train, train_size=size, random_state=42\n",
    "    )\n",
    "    model = SVC(kernel='rbf', C=1.0, gamma='scale')\n",
    "    model.fit(X_train_part, y_train_part)\n",
    "    train_scores.append(model.score(X_train_part, y_train_part))\n",
    "    val_scores.append(model.score(X_test_scaled, y_test))\n",
    "\n",
    "fig = go.Figure()\n",
    "fig.add_trace(go.Scatter(x=train_sizes, y=train_scores, mode='lines+markers', name='Training Accuracy'))\n",
    "fig.add_trace(go.Scatter(x=train_sizes, y=val_scores, mode='lines+markers', name='Validation Accuracy'))\n",
    "\n",
    "fig.update_layout(\n",
    "    title='Learning Curve - SVM Classifier',\n",
    "    xaxis_title='Training Set Size Proportion',\n",
    "    yaxis_title='Accuracy',\n",
    "    yaxis=dict(range=[0, 1])\n",
    ")\n",
    "fig.show()\n"
   ]
  }
 ],
 "metadata": {
  "kernelspec": {
   "display_name": "Python 3",
   "language": "python",
   "name": "python3"
  },
  "language_info": {
   "codemirror_mode": {
    "name": "ipython",
    "version": 3
   },
   "file_extension": ".py",
   "mimetype": "text/x-python",
   "name": "python",
   "nbconvert_exporter": "python",
   "pygments_lexer": "ipython3",
   "version": "3.13.1"
  }
 },
 "nbformat": 4,
 "nbformat_minor": 5
}
