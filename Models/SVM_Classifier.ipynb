{
 "cells": [
  {
   "cell_type": "markdown",
   "id": "2bc582d8",
   "metadata": {},
   "source": [
    "### SVM_Classifier"
   ]
  },
  {
   "cell_type": "code",
   "execution_count": 1,
   "id": "f85ce9bc",
   "metadata": {},
   "outputs": [
    {
     "name": "stdout",
     "output_type": "stream",
     "text": [
      "Accuracy: 0.96\n",
      "\n",
      "Classification Report:\n",
      "               precision    recall  f1-score   support\n",
      "\n",
      "           0       0.95      0.98      0.96      1526\n",
      "           1       0.92      0.96      0.94      1134\n",
      "           2       0.98      1.00      0.99      1961\n",
      "           3       0.96      0.84      0.90      1020\n",
      "\n",
      "    accuracy                           0.96      5641\n",
      "   macro avg       0.95      0.94      0.95      5641\n",
      "weighted avg       0.96      0.96      0.96      5641\n",
      "\n"
     ]
    }
   ],
   "source": [
    "import pandas as pd\n",
    "from sklearn.model_selection import train_test_split\n",
    "from sklearn.preprocessing import StandardScaler\n",
    "from sklearn.svm import SVC\n",
    "from sklearn.metrics import accuracy_score, classification_report\n",
    "\n",
    "# Load the dataset\n",
    "df = pd.read_csv(\"../genome_sequences_cleaned.csv\")\n",
    "\n",
    "# Separate features and target label\n",
    "X = df.drop(columns=['label_encoded'])\n",
    "y = df['label_encoded']\n",
    "\n",
    "# Train/test split\n",
    "X_train, X_test, y_train, y_test = train_test_split(\n",
    "    X, y, test_size=0.2, random_state=42\n",
    ")\n",
    "\n",
    "# Scale features\n",
    "scaler = StandardScaler()\n",
    "X_train_scaled = scaler.fit_transform(X_train)\n",
    "X_test_scaled = scaler.transform(X_test)\n",
    "\n",
    "# Initialize SVM model\n",
    "svm = SVC(kernel='rbf', C=1.0, gamma='scale')  # You can also try 'linear' or 'poly' kernels\n",
    "\n",
    "# Train the model\n",
    "svm.fit(X_train_scaled, y_train)\n",
    "\n",
    "# Make predictions\n",
    "y_pred = svm.predict(X_test_scaled)\n",
    "\n",
    "# Evaluate the model\n",
    "accuracy = accuracy_score(y_test, y_pred)\n",
    "print(f\"Accuracy: {accuracy:.2f}\")\n",
    "print(\"\\nClassification Report:\\n\", classification_report(y_test, y_pred))\n"
   ]
  },
  {
   "cell_type": "markdown",
   "id": "47b048bd",
   "metadata": {},
   "source": [
    "### Confusion Matrix with Plotly"
   ]
  },
  {
   "cell_type": "code",
   "execution_count": 2,
   "id": "a9b4b041",
   "metadata": {},
   "outputs": [
    {
     "data": {
      "application/vnd.plotly.v1+json": {
       "config": {
        "plotlyServerURL": "https://plot.ly"
       },
       "data": [
        {
         "colorscale": [
          [
           0,
           "rgb(247,251,255)"
          ],
          [
           0.125,
           "rgb(222,235,247)"
          ],
          [
           0.25,
           "rgb(198,219,239)"
          ],
          [
           0.375,
           "rgb(158,202,225)"
          ],
          [
           0.5,
           "rgb(107,174,214)"
          ],
          [
           0.625,
           "rgb(66,146,198)"
          ],
          [
           0.75,
           "rgb(33,113,181)"
          ],
          [
           0.875,
           "rgb(8,81,156)"
          ],
          [
           1,
           "rgb(8,48,107)"
          ]
         ],
         "reversescale": false,
         "showscale": true,
         "type": "heatmap",
         "x": [
          0,
          1,
          2,
          3
         ],
         "y": [
          0,
          1,
          2,
          3
         ],
         "z": {
          "bdata": "1QUcAAEABAAQAEIEAQAbAAAAAQCoBwAAPwBGACMAVAM=",
          "dtype": "i2",
          "shape": "4, 4"
         }
        }
       ],
       "layout": {
        "annotations": [
         {
          "font": {
           "color": "#FFFFFF"
          },
          "showarrow": false,
          "text": "1493",
          "x": 0,
          "xref": "x",
          "y": 0,
          "yref": "y"
         },
         {
          "font": {
           "color": "#000000"
          },
          "showarrow": false,
          "text": "28",
          "x": 1,
          "xref": "x",
          "y": 0,
          "yref": "y"
         },
         {
          "font": {
           "color": "#000000"
          },
          "showarrow": false,
          "text": "1",
          "x": 2,
          "xref": "x",
          "y": 0,
          "yref": "y"
         },
         {
          "font": {
           "color": "#000000"
          },
          "showarrow": false,
          "text": "4",
          "x": 3,
          "xref": "x",
          "y": 0,
          "yref": "y"
         },
         {
          "font": {
           "color": "#000000"
          },
          "showarrow": false,
          "text": "16",
          "x": 0,
          "xref": "x",
          "y": 1,
          "yref": "y"
         },
         {
          "font": {
           "color": "#FFFFFF"
          },
          "showarrow": false,
          "text": "1090",
          "x": 1,
          "xref": "x",
          "y": 1,
          "yref": "y"
         },
         {
          "font": {
           "color": "#000000"
          },
          "showarrow": false,
          "text": "1",
          "x": 2,
          "xref": "x",
          "y": 1,
          "yref": "y"
         },
         {
          "font": {
           "color": "#000000"
          },
          "showarrow": false,
          "text": "27",
          "x": 3,
          "xref": "x",
          "y": 1,
          "yref": "y"
         },
         {
          "font": {
           "color": "#000000"
          },
          "showarrow": false,
          "text": "0",
          "x": 0,
          "xref": "x",
          "y": 2,
          "yref": "y"
         },
         {
          "font": {
           "color": "#000000"
          },
          "showarrow": false,
          "text": "1",
          "x": 1,
          "xref": "x",
          "y": 2,
          "yref": "y"
         },
         {
          "font": {
           "color": "#FFFFFF"
          },
          "showarrow": false,
          "text": "1960",
          "x": 2,
          "xref": "x",
          "y": 2,
          "yref": "y"
         },
         {
          "font": {
           "color": "#000000"
          },
          "showarrow": false,
          "text": "0",
          "x": 3,
          "xref": "x",
          "y": 2,
          "yref": "y"
         },
         {
          "font": {
           "color": "#000000"
          },
          "showarrow": false,
          "text": "63",
          "x": 0,
          "xref": "x",
          "y": 3,
          "yref": "y"
         },
         {
          "font": {
           "color": "#000000"
          },
          "showarrow": false,
          "text": "70",
          "x": 1,
          "xref": "x",
          "y": 3,
          "yref": "y"
         },
         {
          "font": {
           "color": "#000000"
          },
          "showarrow": false,
          "text": "35",
          "x": 2,
          "xref": "x",
          "y": 3,
          "yref": "y"
         },
         {
          "font": {
           "color": "#000000"
          },
          "showarrow": false,
          "text": "852",
          "x": 3,
          "xref": "x",
          "y": 3,
          "yref": "y"
         }
        ],
        "template": {
         "data": {
          "bar": [
           {
            "error_x": {
             "color": "#2a3f5f"
            },
            "error_y": {
             "color": "#2a3f5f"
            },
            "marker": {
             "line": {
              "color": "#E5ECF6",
              "width": 0.5
             },
             "pattern": {
              "fillmode": "overlay",
              "size": 10,
              "solidity": 0.2
             }
            },
            "type": "bar"
           }
          ],
          "barpolar": [
           {
            "marker": {
             "line": {
              "color": "#E5ECF6",
              "width": 0.5
             },
             "pattern": {
              "fillmode": "overlay",
              "size": 10,
              "solidity": 0.2
             }
            },
            "type": "barpolar"
           }
          ],
          "carpet": [
           {
            "aaxis": {
             "endlinecolor": "#2a3f5f",
             "gridcolor": "white",
             "linecolor": "white",
             "minorgridcolor": "white",
             "startlinecolor": "#2a3f5f"
            },
            "baxis": {
             "endlinecolor": "#2a3f5f",
             "gridcolor": "white",
             "linecolor": "white",
             "minorgridcolor": "white",
             "startlinecolor": "#2a3f5f"
            },
            "type": "carpet"
           }
          ],
          "choropleth": [
           {
            "colorbar": {
             "outlinewidth": 0,
             "ticks": ""
            },
            "type": "choropleth"
           }
          ],
          "contour": [
           {
            "colorbar": {
             "outlinewidth": 0,
             "ticks": ""
            },
            "colorscale": [
             [
              0,
              "#0d0887"
             ],
             [
              0.1111111111111111,
              "#46039f"
             ],
             [
              0.2222222222222222,
              "#7201a8"
             ],
             [
              0.3333333333333333,
              "#9c179e"
             ],
             [
              0.4444444444444444,
              "#bd3786"
             ],
             [
              0.5555555555555556,
              "#d8576b"
             ],
             [
              0.6666666666666666,
              "#ed7953"
             ],
             [
              0.7777777777777778,
              "#fb9f3a"
             ],
             [
              0.8888888888888888,
              "#fdca26"
             ],
             [
              1,
              "#f0f921"
             ]
            ],
            "type": "contour"
           }
          ],
          "contourcarpet": [
           {
            "colorbar": {
             "outlinewidth": 0,
             "ticks": ""
            },
            "type": "contourcarpet"
           }
          ],
          "heatmap": [
           {
            "colorbar": {
             "outlinewidth": 0,
             "ticks": ""
            },
            "colorscale": [
             [
              0,
              "#0d0887"
             ],
             [
              0.1111111111111111,
              "#46039f"
             ],
             [
              0.2222222222222222,
              "#7201a8"
             ],
             [
              0.3333333333333333,
              "#9c179e"
             ],
             [
              0.4444444444444444,
              "#bd3786"
             ],
             [
              0.5555555555555556,
              "#d8576b"
             ],
             [
              0.6666666666666666,
              "#ed7953"
             ],
             [
              0.7777777777777778,
              "#fb9f3a"
             ],
             [
              0.8888888888888888,
              "#fdca26"
             ],
             [
              1,
              "#f0f921"
             ]
            ],
            "type": "heatmap"
           }
          ],
          "histogram": [
           {
            "marker": {
             "pattern": {
              "fillmode": "overlay",
              "size": 10,
              "solidity": 0.2
             }
            },
            "type": "histogram"
           }
          ],
          "histogram2d": [
           {
            "colorbar": {
             "outlinewidth": 0,
             "ticks": ""
            },
            "colorscale": [
             [
              0,
              "#0d0887"
             ],
             [
              0.1111111111111111,
              "#46039f"
             ],
             [
              0.2222222222222222,
              "#7201a8"
             ],
             [
              0.3333333333333333,
              "#9c179e"
             ],
             [
              0.4444444444444444,
              "#bd3786"
             ],
             [
              0.5555555555555556,
              "#d8576b"
             ],
             [
              0.6666666666666666,
              "#ed7953"
             ],
             [
              0.7777777777777778,
              "#fb9f3a"
             ],
             [
              0.8888888888888888,
              "#fdca26"
             ],
             [
              1,
              "#f0f921"
             ]
            ],
            "type": "histogram2d"
           }
          ],
          "histogram2dcontour": [
           {
            "colorbar": {
             "outlinewidth": 0,
             "ticks": ""
            },
            "colorscale": [
             [
              0,
              "#0d0887"
             ],
             [
              0.1111111111111111,
              "#46039f"
             ],
             [
              0.2222222222222222,
              "#7201a8"
             ],
             [
              0.3333333333333333,
              "#9c179e"
             ],
             [
              0.4444444444444444,
              "#bd3786"
             ],
             [
              0.5555555555555556,
              "#d8576b"
             ],
             [
              0.6666666666666666,
              "#ed7953"
             ],
             [
              0.7777777777777778,
              "#fb9f3a"
             ],
             [
              0.8888888888888888,
              "#fdca26"
             ],
             [
              1,
              "#f0f921"
             ]
            ],
            "type": "histogram2dcontour"
           }
          ],
          "mesh3d": [
           {
            "colorbar": {
             "outlinewidth": 0,
             "ticks": ""
            },
            "type": "mesh3d"
           }
          ],
          "parcoords": [
           {
            "line": {
             "colorbar": {
              "outlinewidth": 0,
              "ticks": ""
             }
            },
            "type": "parcoords"
           }
          ],
          "pie": [
           {
            "automargin": true,
            "type": "pie"
           }
          ],
          "scatter": [
           {
            "fillpattern": {
             "fillmode": "overlay",
             "size": 10,
             "solidity": 0.2
            },
            "type": "scatter"
           }
          ],
          "scatter3d": [
           {
            "line": {
             "colorbar": {
              "outlinewidth": 0,
              "ticks": ""
             }
            },
            "marker": {
             "colorbar": {
              "outlinewidth": 0,
              "ticks": ""
             }
            },
            "type": "scatter3d"
           }
          ],
          "scattercarpet": [
           {
            "marker": {
             "colorbar": {
              "outlinewidth": 0,
              "ticks": ""
             }
            },
            "type": "scattercarpet"
           }
          ],
          "scattergeo": [
           {
            "marker": {
             "colorbar": {
              "outlinewidth": 0,
              "ticks": ""
             }
            },
            "type": "scattergeo"
           }
          ],
          "scattergl": [
           {
            "marker": {
             "colorbar": {
              "outlinewidth": 0,
              "ticks": ""
             }
            },
            "type": "scattergl"
           }
          ],
          "scattermap": [
           {
            "marker": {
             "colorbar": {
              "outlinewidth": 0,
              "ticks": ""
             }
            },
            "type": "scattermap"
           }
          ],
          "scattermapbox": [
           {
            "marker": {
             "colorbar": {
              "outlinewidth": 0,
              "ticks": ""
             }
            },
            "type": "scattermapbox"
           }
          ],
          "scatterpolar": [
           {
            "marker": {
             "colorbar": {
              "outlinewidth": 0,
              "ticks": ""
             }
            },
            "type": "scatterpolar"
           }
          ],
          "scatterpolargl": [
           {
            "marker": {
             "colorbar": {
              "outlinewidth": 0,
              "ticks": ""
             }
            },
            "type": "scatterpolargl"
           }
          ],
          "scatterternary": [
           {
            "marker": {
             "colorbar": {
              "outlinewidth": 0,
              "ticks": ""
             }
            },
            "type": "scatterternary"
           }
          ],
          "surface": [
           {
            "colorbar": {
             "outlinewidth": 0,
             "ticks": ""
            },
            "colorscale": [
             [
              0,
              "#0d0887"
             ],
             [
              0.1111111111111111,
              "#46039f"
             ],
             [
              0.2222222222222222,
              "#7201a8"
             ],
             [
              0.3333333333333333,
              "#9c179e"
             ],
             [
              0.4444444444444444,
              "#bd3786"
             ],
             [
              0.5555555555555556,
              "#d8576b"
             ],
             [
              0.6666666666666666,
              "#ed7953"
             ],
             [
              0.7777777777777778,
              "#fb9f3a"
             ],
             [
              0.8888888888888888,
              "#fdca26"
             ],
             [
              1,
              "#f0f921"
             ]
            ],
            "type": "surface"
           }
          ],
          "table": [
           {
            "cells": {
             "fill": {
              "color": "#EBF0F8"
             },
             "line": {
              "color": "white"
             }
            },
            "header": {
             "fill": {
              "color": "#C8D4E3"
             },
             "line": {
              "color": "white"
             }
            },
            "type": "table"
           }
          ]
         },
         "layout": {
          "annotationdefaults": {
           "arrowcolor": "#2a3f5f",
           "arrowhead": 0,
           "arrowwidth": 1
          },
          "autotypenumbers": "strict",
          "coloraxis": {
           "colorbar": {
            "outlinewidth": 0,
            "ticks": ""
           }
          },
          "colorscale": {
           "diverging": [
            [
             0,
             "#8e0152"
            ],
            [
             0.1,
             "#c51b7d"
            ],
            [
             0.2,
             "#de77ae"
            ],
            [
             0.3,
             "#f1b6da"
            ],
            [
             0.4,
             "#fde0ef"
            ],
            [
             0.5,
             "#f7f7f7"
            ],
            [
             0.6,
             "#e6f5d0"
            ],
            [
             0.7,
             "#b8e186"
            ],
            [
             0.8,
             "#7fbc41"
            ],
            [
             0.9,
             "#4d9221"
            ],
            [
             1,
             "#276419"
            ]
           ],
           "sequential": [
            [
             0,
             "#0d0887"
            ],
            [
             0.1111111111111111,
             "#46039f"
            ],
            [
             0.2222222222222222,
             "#7201a8"
            ],
            [
             0.3333333333333333,
             "#9c179e"
            ],
            [
             0.4444444444444444,
             "#bd3786"
            ],
            [
             0.5555555555555556,
             "#d8576b"
            ],
            [
             0.6666666666666666,
             "#ed7953"
            ],
            [
             0.7777777777777778,
             "#fb9f3a"
            ],
            [
             0.8888888888888888,
             "#fdca26"
            ],
            [
             1,
             "#f0f921"
            ]
           ],
           "sequentialminus": [
            [
             0,
             "#0d0887"
            ],
            [
             0.1111111111111111,
             "#46039f"
            ],
            [
             0.2222222222222222,
             "#7201a8"
            ],
            [
             0.3333333333333333,
             "#9c179e"
            ],
            [
             0.4444444444444444,
             "#bd3786"
            ],
            [
             0.5555555555555556,
             "#d8576b"
            ],
            [
             0.6666666666666666,
             "#ed7953"
            ],
            [
             0.7777777777777778,
             "#fb9f3a"
            ],
            [
             0.8888888888888888,
             "#fdca26"
            ],
            [
             1,
             "#f0f921"
            ]
           ]
          },
          "colorway": [
           "#636efa",
           "#EF553B",
           "#00cc96",
           "#ab63fa",
           "#FFA15A",
           "#19d3f3",
           "#FF6692",
           "#B6E880",
           "#FF97FF",
           "#FECB52"
          ],
          "font": {
           "color": "#2a3f5f"
          },
          "geo": {
           "bgcolor": "white",
           "lakecolor": "white",
           "landcolor": "#E5ECF6",
           "showlakes": true,
           "showland": true,
           "subunitcolor": "white"
          },
          "hoverlabel": {
           "align": "left"
          },
          "hovermode": "closest",
          "mapbox": {
           "style": "light"
          },
          "paper_bgcolor": "white",
          "plot_bgcolor": "#E5ECF6",
          "polar": {
           "angularaxis": {
            "gridcolor": "white",
            "linecolor": "white",
            "ticks": ""
           },
           "bgcolor": "#E5ECF6",
           "radialaxis": {
            "gridcolor": "white",
            "linecolor": "white",
            "ticks": ""
           }
          },
          "scene": {
           "xaxis": {
            "backgroundcolor": "#E5ECF6",
            "gridcolor": "white",
            "gridwidth": 2,
            "linecolor": "white",
            "showbackground": true,
            "ticks": "",
            "zerolinecolor": "white"
           },
           "yaxis": {
            "backgroundcolor": "#E5ECF6",
            "gridcolor": "white",
            "gridwidth": 2,
            "linecolor": "white",
            "showbackground": true,
            "ticks": "",
            "zerolinecolor": "white"
           },
           "zaxis": {
            "backgroundcolor": "#E5ECF6",
            "gridcolor": "white",
            "gridwidth": 2,
            "linecolor": "white",
            "showbackground": true,
            "ticks": "",
            "zerolinecolor": "white"
           }
          },
          "shapedefaults": {
           "line": {
            "color": "#2a3f5f"
           }
          },
          "ternary": {
           "aaxis": {
            "gridcolor": "white",
            "linecolor": "white",
            "ticks": ""
           },
           "baxis": {
            "gridcolor": "white",
            "linecolor": "white",
            "ticks": ""
           },
           "bgcolor": "#E5ECF6",
           "caxis": {
            "gridcolor": "white",
            "linecolor": "white",
            "ticks": ""
           }
          },
          "title": {
           "x": 0.05
          },
          "xaxis": {
           "automargin": true,
           "gridcolor": "white",
           "linecolor": "white",
           "ticks": "",
           "title": {
            "standoff": 15
           },
           "zerolinecolor": "white",
           "zerolinewidth": 2
          },
          "yaxis": {
           "automargin": true,
           "gridcolor": "white",
           "linecolor": "white",
           "ticks": "",
           "title": {
            "standoff": 15
           },
           "zerolinecolor": "white",
           "zerolinewidth": 2
          }
         }
        },
        "title": {
         "text": "Confusion Matrix - SVM Classifier"
        },
        "xaxis": {
         "dtick": 1,
         "gridcolor": "rgb(0, 0, 0)",
         "side": "top",
         "ticks": "",
         "title": {
          "text": "Predicted Label"
         }
        },
        "yaxis": {
         "dtick": 1,
         "ticks": "",
         "ticksuffix": "  ",
         "title": {
          "text": "True Label"
         }
        }
       }
      }
     },
     "metadata": {},
     "output_type": "display_data"
    }
   ],
   "source": [
    "from sklearn.metrics import confusion_matrix\n",
    "import plotly.figure_factory as ff\n",
    "import pandas as pd\n",
    "\n",
    "cm = confusion_matrix(y_test, y_pred)\n",
    "cm_df = pd.DataFrame(cm, index=sorted(y.unique()), columns=sorted(y.unique()))\n",
    "\n",
    "fig = ff.create_annotated_heatmap(\n",
    "    z=cm_df.values,\n",
    "    x=cm_df.columns.tolist(),\n",
    "    y=cm_df.index.tolist(),\n",
    "    colorscale='Blues',\n",
    "    annotation_text=cm_df.values.astype(str),\n",
    "    showscale=True\n",
    ")\n",
    "\n",
    "fig.update_layout(\n",
    "    title='Confusion Matrix - SVM Classifier',\n",
    "    xaxis_title='Predicted Label',\n",
    "    yaxis_title='True Label'\n",
    ")\n",
    "fig.show()\n"
   ]
  },
  {
   "cell_type": "markdown",
   "id": "ece8c6df",
   "metadata": {},
   "source": [
    "###  Feature Importance (Permutation)"
   ]
  },
  {
   "cell_type": "code",
   "execution_count": 3,
   "id": "0d9405f0",
   "metadata": {},
   "outputs": [
    {
     "data": {
      "application/vnd.plotly.v1+json": {
       "config": {
        "plotlyServerURL": "https://plot.ly"
       },
       "data": [
        {
         "hovertemplate": "Feature=%{x}<br>Importance=%{y}<extra></extra>",
         "legendgroup": "",
         "marker": {
          "color": "#636efa",
          "pattern": {
           "shape": ""
          }
         },
         "name": "",
         "orientation": "v",
         "showlegend": false,
         "textposition": "auto",
         "type": "bar",
         "x": [
          "K",
          "A",
          "V",
          "M",
          "G",
          "T",
          "C",
          "N",
          "Sequence_Length",
          "S",
          "L",
          "P",
          "D",
          "E",
          "Y",
          "R",
          "I",
          "W",
          "H",
          "Q",
          "F"
         ],
         "xaxis": "x",
         "y": {
          "bdata": "wESt5j1M0D/S3I4UI+O7PxpSkoPg4Lg/a1Hprj3Etz/x9SNe7B61P1LZWK9NdbQ/UHvBh78asT/A6P9xsFCuP4ilCvcmB6w/pSaWhcqTqT/YpwpSFf+oP4LzOsVWSKY/Vn28BahwpD/QqLgDvr2jP+PCsdsfsqM/ePTodv8GoT9a0liego2dP41Jbk2BApw/ttn8purvmz9AjzWfRwGPP7N4vE/LgHo/",
          "dtype": "f8"
         },
         "yaxis": "y"
        }
       ],
       "layout": {
        "barmode": "relative",
        "legend": {
         "tracegroupgap": 0
        },
        "template": {
         "data": {
          "bar": [
           {
            "error_x": {
             "color": "#2a3f5f"
            },
            "error_y": {
             "color": "#2a3f5f"
            },
            "marker": {
             "line": {
              "color": "#E5ECF6",
              "width": 0.5
             },
             "pattern": {
              "fillmode": "overlay",
              "size": 10,
              "solidity": 0.2
             }
            },
            "type": "bar"
           }
          ],
          "barpolar": [
           {
            "marker": {
             "line": {
              "color": "#E5ECF6",
              "width": 0.5
             },
             "pattern": {
              "fillmode": "overlay",
              "size": 10,
              "solidity": 0.2
             }
            },
            "type": "barpolar"
           }
          ],
          "carpet": [
           {
            "aaxis": {
             "endlinecolor": "#2a3f5f",
             "gridcolor": "white",
             "linecolor": "white",
             "minorgridcolor": "white",
             "startlinecolor": "#2a3f5f"
            },
            "baxis": {
             "endlinecolor": "#2a3f5f",
             "gridcolor": "white",
             "linecolor": "white",
             "minorgridcolor": "white",
             "startlinecolor": "#2a3f5f"
            },
            "type": "carpet"
           }
          ],
          "choropleth": [
           {
            "colorbar": {
             "outlinewidth": 0,
             "ticks": ""
            },
            "type": "choropleth"
           }
          ],
          "contour": [
           {
            "colorbar": {
             "outlinewidth": 0,
             "ticks": ""
            },
            "colorscale": [
             [
              0,
              "#0d0887"
             ],
             [
              0.1111111111111111,
              "#46039f"
             ],
             [
              0.2222222222222222,
              "#7201a8"
             ],
             [
              0.3333333333333333,
              "#9c179e"
             ],
             [
              0.4444444444444444,
              "#bd3786"
             ],
             [
              0.5555555555555556,
              "#d8576b"
             ],
             [
              0.6666666666666666,
              "#ed7953"
             ],
             [
              0.7777777777777778,
              "#fb9f3a"
             ],
             [
              0.8888888888888888,
              "#fdca26"
             ],
             [
              1,
              "#f0f921"
             ]
            ],
            "type": "contour"
           }
          ],
          "contourcarpet": [
           {
            "colorbar": {
             "outlinewidth": 0,
             "ticks": ""
            },
            "type": "contourcarpet"
           }
          ],
          "heatmap": [
           {
            "colorbar": {
             "outlinewidth": 0,
             "ticks": ""
            },
            "colorscale": [
             [
              0,
              "#0d0887"
             ],
             [
              0.1111111111111111,
              "#46039f"
             ],
             [
              0.2222222222222222,
              "#7201a8"
             ],
             [
              0.3333333333333333,
              "#9c179e"
             ],
             [
              0.4444444444444444,
              "#bd3786"
             ],
             [
              0.5555555555555556,
              "#d8576b"
             ],
             [
              0.6666666666666666,
              "#ed7953"
             ],
             [
              0.7777777777777778,
              "#fb9f3a"
             ],
             [
              0.8888888888888888,
              "#fdca26"
             ],
             [
              1,
              "#f0f921"
             ]
            ],
            "type": "heatmap"
           }
          ],
          "histogram": [
           {
            "marker": {
             "pattern": {
              "fillmode": "overlay",
              "size": 10,
              "solidity": 0.2
             }
            },
            "type": "histogram"
           }
          ],
          "histogram2d": [
           {
            "colorbar": {
             "outlinewidth": 0,
             "ticks": ""
            },
            "colorscale": [
             [
              0,
              "#0d0887"
             ],
             [
              0.1111111111111111,
              "#46039f"
             ],
             [
              0.2222222222222222,
              "#7201a8"
             ],
             [
              0.3333333333333333,
              "#9c179e"
             ],
             [
              0.4444444444444444,
              "#bd3786"
             ],
             [
              0.5555555555555556,
              "#d8576b"
             ],
             [
              0.6666666666666666,
              "#ed7953"
             ],
             [
              0.7777777777777778,
              "#fb9f3a"
             ],
             [
              0.8888888888888888,
              "#fdca26"
             ],
             [
              1,
              "#f0f921"
             ]
            ],
            "type": "histogram2d"
           }
          ],
          "histogram2dcontour": [
           {
            "colorbar": {
             "outlinewidth": 0,
             "ticks": ""
            },
            "colorscale": [
             [
              0,
              "#0d0887"
             ],
             [
              0.1111111111111111,
              "#46039f"
             ],
             [
              0.2222222222222222,
              "#7201a8"
             ],
             [
              0.3333333333333333,
              "#9c179e"
             ],
             [
              0.4444444444444444,
              "#bd3786"
             ],
             [
              0.5555555555555556,
              "#d8576b"
             ],
             [
              0.6666666666666666,
              "#ed7953"
             ],
             [
              0.7777777777777778,
              "#fb9f3a"
             ],
             [
              0.8888888888888888,
              "#fdca26"
             ],
             [
              1,
              "#f0f921"
             ]
            ],
            "type": "histogram2dcontour"
           }
          ],
          "mesh3d": [
           {
            "colorbar": {
             "outlinewidth": 0,
             "ticks": ""
            },
            "type": "mesh3d"
           }
          ],
          "parcoords": [
           {
            "line": {
             "colorbar": {
              "outlinewidth": 0,
              "ticks": ""
             }
            },
            "type": "parcoords"
           }
          ],
          "pie": [
           {
            "automargin": true,
            "type": "pie"
           }
          ],
          "scatter": [
           {
            "fillpattern": {
             "fillmode": "overlay",
             "size": 10,
             "solidity": 0.2
            },
            "type": "scatter"
           }
          ],
          "scatter3d": [
           {
            "line": {
             "colorbar": {
              "outlinewidth": 0,
              "ticks": ""
             }
            },
            "marker": {
             "colorbar": {
              "outlinewidth": 0,
              "ticks": ""
             }
            },
            "type": "scatter3d"
           }
          ],
          "scattercarpet": [
           {
            "marker": {
             "colorbar": {
              "outlinewidth": 0,
              "ticks": ""
             }
            },
            "type": "scattercarpet"
           }
          ],
          "scattergeo": [
           {
            "marker": {
             "colorbar": {
              "outlinewidth": 0,
              "ticks": ""
             }
            },
            "type": "scattergeo"
           }
          ],
          "scattergl": [
           {
            "marker": {
             "colorbar": {
              "outlinewidth": 0,
              "ticks": ""
             }
            },
            "type": "scattergl"
           }
          ],
          "scattermap": [
           {
            "marker": {
             "colorbar": {
              "outlinewidth": 0,
              "ticks": ""
             }
            },
            "type": "scattermap"
           }
          ],
          "scattermapbox": [
           {
            "marker": {
             "colorbar": {
              "outlinewidth": 0,
              "ticks": ""
             }
            },
            "type": "scattermapbox"
           }
          ],
          "scatterpolar": [
           {
            "marker": {
             "colorbar": {
              "outlinewidth": 0,
              "ticks": ""
             }
            },
            "type": "scatterpolar"
           }
          ],
          "scatterpolargl": [
           {
            "marker": {
             "colorbar": {
              "outlinewidth": 0,
              "ticks": ""
             }
            },
            "type": "scatterpolargl"
           }
          ],
          "scatterternary": [
           {
            "marker": {
             "colorbar": {
              "outlinewidth": 0,
              "ticks": ""
             }
            },
            "type": "scatterternary"
           }
          ],
          "surface": [
           {
            "colorbar": {
             "outlinewidth": 0,
             "ticks": ""
            },
            "colorscale": [
             [
              0,
              "#0d0887"
             ],
             [
              0.1111111111111111,
              "#46039f"
             ],
             [
              0.2222222222222222,
              "#7201a8"
             ],
             [
              0.3333333333333333,
              "#9c179e"
             ],
             [
              0.4444444444444444,
              "#bd3786"
             ],
             [
              0.5555555555555556,
              "#d8576b"
             ],
             [
              0.6666666666666666,
              "#ed7953"
             ],
             [
              0.7777777777777778,
              "#fb9f3a"
             ],
             [
              0.8888888888888888,
              "#fdca26"
             ],
             [
              1,
              "#f0f921"
             ]
            ],
            "type": "surface"
           }
          ],
          "table": [
           {
            "cells": {
             "fill": {
              "color": "#EBF0F8"
             },
             "line": {
              "color": "white"
             }
            },
            "header": {
             "fill": {
              "color": "#C8D4E3"
             },
             "line": {
              "color": "white"
             }
            },
            "type": "table"
           }
          ]
         },
         "layout": {
          "annotationdefaults": {
           "arrowcolor": "#2a3f5f",
           "arrowhead": 0,
           "arrowwidth": 1
          },
          "autotypenumbers": "strict",
          "coloraxis": {
           "colorbar": {
            "outlinewidth": 0,
            "ticks": ""
           }
          },
          "colorscale": {
           "diverging": [
            [
             0,
             "#8e0152"
            ],
            [
             0.1,
             "#c51b7d"
            ],
            [
             0.2,
             "#de77ae"
            ],
            [
             0.3,
             "#f1b6da"
            ],
            [
             0.4,
             "#fde0ef"
            ],
            [
             0.5,
             "#f7f7f7"
            ],
            [
             0.6,
             "#e6f5d0"
            ],
            [
             0.7,
             "#b8e186"
            ],
            [
             0.8,
             "#7fbc41"
            ],
            [
             0.9,
             "#4d9221"
            ],
            [
             1,
             "#276419"
            ]
           ],
           "sequential": [
            [
             0,
             "#0d0887"
            ],
            [
             0.1111111111111111,
             "#46039f"
            ],
            [
             0.2222222222222222,
             "#7201a8"
            ],
            [
             0.3333333333333333,
             "#9c179e"
            ],
            [
             0.4444444444444444,
             "#bd3786"
            ],
            [
             0.5555555555555556,
             "#d8576b"
            ],
            [
             0.6666666666666666,
             "#ed7953"
            ],
            [
             0.7777777777777778,
             "#fb9f3a"
            ],
            [
             0.8888888888888888,
             "#fdca26"
            ],
            [
             1,
             "#f0f921"
            ]
           ],
           "sequentialminus": [
            [
             0,
             "#0d0887"
            ],
            [
             0.1111111111111111,
             "#46039f"
            ],
            [
             0.2222222222222222,
             "#7201a8"
            ],
            [
             0.3333333333333333,
             "#9c179e"
            ],
            [
             0.4444444444444444,
             "#bd3786"
            ],
            [
             0.5555555555555556,
             "#d8576b"
            ],
            [
             0.6666666666666666,
             "#ed7953"
            ],
            [
             0.7777777777777778,
             "#fb9f3a"
            ],
            [
             0.8888888888888888,
             "#fdca26"
            ],
            [
             1,
             "#f0f921"
            ]
           ]
          },
          "colorway": [
           "#636efa",
           "#EF553B",
           "#00cc96",
           "#ab63fa",
           "#FFA15A",
           "#19d3f3",
           "#FF6692",
           "#B6E880",
           "#FF97FF",
           "#FECB52"
          ],
          "font": {
           "color": "#2a3f5f"
          },
          "geo": {
           "bgcolor": "white",
           "lakecolor": "white",
           "landcolor": "#E5ECF6",
           "showlakes": true,
           "showland": true,
           "subunitcolor": "white"
          },
          "hoverlabel": {
           "align": "left"
          },
          "hovermode": "closest",
          "mapbox": {
           "style": "light"
          },
          "paper_bgcolor": "white",
          "plot_bgcolor": "#E5ECF6",
          "polar": {
           "angularaxis": {
            "gridcolor": "white",
            "linecolor": "white",
            "ticks": ""
           },
           "bgcolor": "#E5ECF6",
           "radialaxis": {
            "gridcolor": "white",
            "linecolor": "white",
            "ticks": ""
           }
          },
          "scene": {
           "xaxis": {
            "backgroundcolor": "#E5ECF6",
            "gridcolor": "white",
            "gridwidth": 2,
            "linecolor": "white",
            "showbackground": true,
            "ticks": "",
            "zerolinecolor": "white"
           },
           "yaxis": {
            "backgroundcolor": "#E5ECF6",
            "gridcolor": "white",
            "gridwidth": 2,
            "linecolor": "white",
            "showbackground": true,
            "ticks": "",
            "zerolinecolor": "white"
           },
           "zaxis": {
            "backgroundcolor": "#E5ECF6",
            "gridcolor": "white",
            "gridwidth": 2,
            "linecolor": "white",
            "showbackground": true,
            "ticks": "",
            "zerolinecolor": "white"
           }
          },
          "shapedefaults": {
           "line": {
            "color": "#2a3f5f"
           }
          },
          "ternary": {
           "aaxis": {
            "gridcolor": "white",
            "linecolor": "white",
            "ticks": ""
           },
           "baxis": {
            "gridcolor": "white",
            "linecolor": "white",
            "ticks": ""
           },
           "bgcolor": "#E5ECF6",
           "caxis": {
            "gridcolor": "white",
            "linecolor": "white",
            "ticks": ""
           }
          },
          "title": {
           "x": 0.05
          },
          "xaxis": {
           "automargin": true,
           "gridcolor": "white",
           "linecolor": "white",
           "ticks": "",
           "title": {
            "standoff": 15
           },
           "zerolinecolor": "white",
           "zerolinewidth": 2
          },
          "yaxis": {
           "automargin": true,
           "gridcolor": "white",
           "linecolor": "white",
           "ticks": "",
           "title": {
            "standoff": 15
           },
           "zerolinecolor": "white",
           "zerolinewidth": 2
          }
         }
        },
        "title": {
         "text": "Feature Importance (Permutation) - SVM Classifier"
        },
        "xaxis": {
         "anchor": "y",
         "domain": [
          0,
          1
         ],
         "tickangle": 45,
         "title": {
          "text": "Feature"
         }
        },
        "yaxis": {
         "anchor": "x",
         "domain": [
          0,
          1
         ],
         "title": {
          "text": "Importance"
         }
        }
       }
      }
     },
     "metadata": {},
     "output_type": "display_data"
    }
   ],
   "source": [
    "from sklearn.inspection import permutation_importance\n",
    "import plotly.express as px\n",
    "\n",
    "result = permutation_importance(svm, X_test_scaled, y_test, n_repeats=10, random_state=42)\n",
    "\n",
    "importance_df = pd.DataFrame({\n",
    "    'Feature': X.columns,\n",
    "    'Importance': result.importances_mean\n",
    "}).sort_values(by='Importance', ascending=False)\n",
    "\n",
    "fig = px.bar(\n",
    "    importance_df,\n",
    "    x='Feature',\n",
    "    y='Importance',\n",
    "    title='Feature Importance (Permutation) - SVM Classifier'\n",
    ")\n",
    "fig.update_layout(xaxis_tickangle=45)\n",
    "fig.show()\n"
   ]
  },
  {
   "cell_type": "markdown",
   "id": "9b601b55",
   "metadata": {},
   "source": [
    "### KDE Plots"
   ]
  },
  {
   "cell_type": "code",
   "execution_count": 5,
   "id": "2668b028",
   "metadata": {},
   "outputs": [
    {
     "data": {
      "application/vnd.plotly.v1+json": {
       "config": {
        "plotlyServerURL": "https://plot.ly"
       },
       "data": [
        {
         "mode": "lines",
         "name": "Label 0",
         "type": "scatter",
         "x": {
          "bdata": "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",
          "dtype": "f8"
         },
         "y": {
          "bdata": "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",
          "dtype": "f8"
         }
        },
        {
         "mode": "lines",
         "name": "Label 1",
         "type": "scatter",
         "x": {
          "bdata": "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",
          "dtype": "f8"
         },
         "y": {
          "bdata": "26iOfqRvzz91xZ0YCErRP3vk7R6A59I/m0e6fLiM1D+eSSGI5jXWP2cShngR39c/qbZ/JTKE2T8Ydh69ViHbPztIlPvIstw/YcpLJDU13j9Y0pbXz6XfP7M0WHM8geA/2iXXvOwk4T+lHXEYvr3hP2qAoCvvS+I/Ajqg1TzQ4j+Ap6RR40vjP9vQRqibwOM/9F1/iZUw5D+/mDyYbZ7kPzhxDgwgDeU/ruIDXvd/5T87K3SJdvrlP8POQFA+gOY/2TkS/OwU5z+Jf9NP+LvnP+3z0cyBeOg/fFqjEyZN6T/GwRz3yDvqP2F8wrpgRes/C14q0sNp7D+VbTwrfaftP/QYCnmr++4/TQ6Z/fcw8D+6nCJlOOrwP1hhXN74pfE/yGGQxAJg8j/iSoV8qxPzP0Cc9fgDvPM/MsFLABFU9D8Rf7kTCdf0P2JH6xOUQPU/LCy3RgiN9T9cMmVFoLn1P/LmqKWlxPU/eLOY3oyt9T87tWny/3T1PzU1Ea/WHPU/+YkUxfyn9D9zY0ViRxr0P1WQ1Uo9ePM/UvxUdtXG8j+E8e/mMAvyP3bkS7hUSvE/KCBcPOmI8D9tn5zcBJbvP20APD7qJ+4/+DwqOnbM7D/NGripzobrP9WT+ExTWOo/tNtl/8FA6T9+gYOucj7oP3dA0+ekTuc/ye+PDdht5j/oTYEaJ5jlP7J5qEihyeQ/i7lF1Jn+4z9DAT9U6jPjP8atdZUkZ+I/e5Qma7KW4T/LL1ZZ48HgP+rDzIfS0d8/7FXJoowZ3j+atxbRXV7cP4/Jky/GpNo/PYltpgXy2D9+6jOiwEvXP6jGX+umt9U/KAlEhyE71D/N/ItvC9vSP1z9fsR3m9E/9oNzAYd/0D8YlX91lxLPPwa2niV9c80/c4fKyIAhzD/raWcyUhrLP/j86YLCWco/eCf5egjayT8VozZAEZTJP7E+R7nYf8k/4uL5p8SUyT/Gl4HU/cnJP8PzovfCFso/LzSrn7Fyyj9jqo8OAtbKP6UR+wK0Ocs/NQekd6uXyz9sQvWRverLPzU3dSKvLsw/UO1qIidgzD8HBvxmmHzMP4nMwjomgsw/jfBWpIdvzD+ZzpbO7EPMPyXzqFfp/ss/u10IU2Wgyz9/W7SolSjLP7Hrw1T7l8o/cgGxBGjvyT821n/LBTDJP5VS3jpfW8g/O3JMKGVzxz8nk0q/b3rGP1ujYSw5c8U/W1FKDtFgxD+3IRbSiEbDP7DhWgvaJ8I/o/XWm0gIwT++VUoAhta/P4suhJgGqL0/pJV3kuaKuz9oFh+MK4S5P7iooDLtl7c/y2RhO0TJtT+u5k1xSBq0P6LafpwcjLI/njVr8wUfsT++3QcOGKWvP8rRcoE7S60/msvcH3Atqz9fi598FkipP5acsfU4l6c/x8Tf0cMWpj+9RCiVsMKkP5WjkTYkl6M/OpDPJoGQoj86QBQKb6uhP8Es7p7a5KA/Y+lJifA5oD/9XA5NK1CfP/BAS3++WZ4/hXr56xmMnT9IZnN2C+OcPyDabDOxWpw/ENsoK4Pvmz+zpHoVZZ6bP01exEa/ZJs/VLT1pp1Amz8RWENS0zCbP6Eyv1ohNZs/fRGy815Omz83+E0HoX6bP9qbLsdeyZs/E26QLJAznD9Wl5afwsOcP2Jr8jQfgp0/DJuhQ114nj/pGmKwm7GfP7Wm+rINnaA/AMT+HGuPoT9hFmKOd7aiP0JNi3x9GKQ/i3CDhxK7pT+rCZnWmqKnP5ETZFTD0ak/76o+svpIrD/j1V4I8wWvP2rsA6CbAbE//eM7+e+bsj8aHG5ouUu0P6cUoe/6CLY/BHj/Zh7Ktz8GZt5XOYS5P2LPqLxuK7s/e0IRyGmzvD9Bn8NX6w++P0Uiy5RhNb8/1Gf2378MwD/pw6q75VnAP87OzIIKf8A/q7RIw2h6wD8T7bDnp0vAPzGjndvD578/UWMLxCfrvj8/gQ+h9Ki9P/0Ee9y4Krw/sNU5DZR7uj/v905Eoqe4PwAtvo5hu7Y/eIwFUBzDtD/hAPAMYsqyP88zeG+W27A/VJS66Tf/rT8tsCQ3OnuqPxm2Y5roNac/eHsl0GA2pD9jylTMY4ChP9m89C5tKZ4/IWunVDvjmT8HUuwLzSaWPw==",
          "dtype": "f8"
         }
        },
        {
         "mode": "lines",
         "name": "Label 2",
         "type": "scatter",
         "x": {
          "bdata": "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",
          "dtype": "f8"
         },
         "y": {
          "bdata": "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",
          "dtype": "f8"
         }
        },
        {
         "mode": "lines",
         "name": "Label 3",
         "type": "scatter",
         "x": {
          "bdata": "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",
          "dtype": "f8"
         },
         "y": {
          "bdata": "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",
          "dtype": "f8"
         }
        }
       ],
       "layout": {
        "template": {
         "data": {
          "bar": [
           {
            "error_x": {
             "color": "#2a3f5f"
            },
            "error_y": {
             "color": "#2a3f5f"
            },
            "marker": {
             "line": {
              "color": "#E5ECF6",
              "width": 0.5
             },
             "pattern": {
              "fillmode": "overlay",
              "size": 10,
              "solidity": 0.2
             }
            },
            "type": "bar"
           }
          ],
          "barpolar": [
           {
            "marker": {
             "line": {
              "color": "#E5ECF6",
              "width": 0.5
             },
             "pattern": {
              "fillmode": "overlay",
              "size": 10,
              "solidity": 0.2
             }
            },
            "type": "barpolar"
           }
          ],
          "carpet": [
           {
            "aaxis": {
             "endlinecolor": "#2a3f5f",
             "gridcolor": "white",
             "linecolor": "white",
             "minorgridcolor": "white",
             "startlinecolor": "#2a3f5f"
            },
            "baxis": {
             "endlinecolor": "#2a3f5f",
             "gridcolor": "white",
             "linecolor": "white",
             "minorgridcolor": "white",
             "startlinecolor": "#2a3f5f"
            },
            "type": "carpet"
           }
          ],
          "choropleth": [
           {
            "colorbar": {
             "outlinewidth": 0,
             "ticks": ""
            },
            "type": "choropleth"
           }
          ],
          "contour": [
           {
            "colorbar": {
             "outlinewidth": 0,
             "ticks": ""
            },
            "colorscale": [
             [
              0,
              "#0d0887"
             ],
             [
              0.1111111111111111,
              "#46039f"
             ],
             [
              0.2222222222222222,
              "#7201a8"
             ],
             [
              0.3333333333333333,
              "#9c179e"
             ],
             [
              0.4444444444444444,
              "#bd3786"
             ],
             [
              0.5555555555555556,
              "#d8576b"
             ],
             [
              0.6666666666666666,
              "#ed7953"
             ],
             [
              0.7777777777777778,
              "#fb9f3a"
             ],
             [
              0.8888888888888888,
              "#fdca26"
             ],
             [
              1,
              "#f0f921"
             ]
            ],
            "type": "contour"
           }
          ],
          "contourcarpet": [
           {
            "colorbar": {
             "outlinewidth": 0,
             "ticks": ""
            },
            "type": "contourcarpet"
           }
          ],
          "heatmap": [
           {
            "colorbar": {
             "outlinewidth": 0,
             "ticks": ""
            },
            "colorscale": [
             [
              0,
              "#0d0887"
             ],
             [
              0.1111111111111111,
              "#46039f"
             ],
             [
              0.2222222222222222,
              "#7201a8"
             ],
             [
              0.3333333333333333,
              "#9c179e"
             ],
             [
              0.4444444444444444,
              "#bd3786"
             ],
             [
              0.5555555555555556,
              "#d8576b"
             ],
             [
              0.6666666666666666,
              "#ed7953"
             ],
             [
              0.7777777777777778,
              "#fb9f3a"
             ],
             [
              0.8888888888888888,
              "#fdca26"
             ],
             [
              1,
              "#f0f921"
             ]
            ],
            "type": "heatmap"
           }
          ],
          "histogram": [
           {
            "marker": {
             "pattern": {
              "fillmode": "overlay",
              "size": 10,
              "solidity": 0.2
             }
            },
            "type": "histogram"
           }
          ],
          "histogram2d": [
           {
            "colorbar": {
             "outlinewidth": 0,
             "ticks": ""
            },
            "colorscale": [
             [
              0,
              "#0d0887"
             ],
             [
              0.1111111111111111,
              "#46039f"
             ],
             [
              0.2222222222222222,
              "#7201a8"
             ],
             [
              0.3333333333333333,
              "#9c179e"
             ],
             [
              0.4444444444444444,
              "#bd3786"
             ],
             [
              0.5555555555555556,
              "#d8576b"
             ],
             [
              0.6666666666666666,
              "#ed7953"
             ],
             [
              0.7777777777777778,
              "#fb9f3a"
             ],
             [
              0.8888888888888888,
              "#fdca26"
             ],
             [
              1,
              "#f0f921"
             ]
            ],
            "type": "histogram2d"
           }
          ],
          "histogram2dcontour": [
           {
            "colorbar": {
             "outlinewidth": 0,
             "ticks": ""
            },
            "colorscale": [
             [
              0,
              "#0d0887"
             ],
             [
              0.1111111111111111,
              "#46039f"
             ],
             [
              0.2222222222222222,
              "#7201a8"
             ],
             [
              0.3333333333333333,
              "#9c179e"
             ],
             [
              0.4444444444444444,
              "#bd3786"
             ],
             [
              0.5555555555555556,
              "#d8576b"
             ],
             [
              0.6666666666666666,
              "#ed7953"
             ],
             [
              0.7777777777777778,
              "#fb9f3a"
             ],
             [
              0.8888888888888888,
              "#fdca26"
             ],
             [
              1,
              "#f0f921"
             ]
            ],
            "type": "histogram2dcontour"
           }
          ],
          "mesh3d": [
           {
            "colorbar": {
             "outlinewidth": 0,
             "ticks": ""
            },
            "type": "mesh3d"
           }
          ],
          "parcoords": [
           {
            "line": {
             "colorbar": {
              "outlinewidth": 0,
              "ticks": ""
             }
            },
            "type": "parcoords"
           }
          ],
          "pie": [
           {
            "automargin": true,
            "type": "pie"
           }
          ],
          "scatter": [
           {
            "fillpattern": {
             "fillmode": "overlay",
             "size": 10,
             "solidity": 0.2
            },
            "type": "scatter"
           }
          ],
          "scatter3d": [
           {
            "line": {
             "colorbar": {
              "outlinewidth": 0,
              "ticks": ""
             }
            },
            "marker": {
             "colorbar": {
              "outlinewidth": 0,
              "ticks": ""
             }
            },
            "type": "scatter3d"
           }
          ],
          "scattercarpet": [
           {
            "marker": {
             "colorbar": {
              "outlinewidth": 0,
              "ticks": ""
             }
            },
            "type": "scattercarpet"
           }
          ],
          "scattergeo": [
           {
            "marker": {
             "colorbar": {
              "outlinewidth": 0,
              "ticks": ""
             }
            },
            "type": "scattergeo"
           }
          ],
          "scattergl": [
           {
            "marker": {
             "colorbar": {
              "outlinewidth": 0,
              "ticks": ""
             }
            },
            "type": "scattergl"
           }
          ],
          "scattermap": [
           {
            "marker": {
             "colorbar": {
              "outlinewidth": 0,
              "ticks": ""
             }
            },
            "type": "scattermap"
           }
          ],
          "scattermapbox": [
           {
            "marker": {
             "colorbar": {
              "outlinewidth": 0,
              "ticks": ""
             }
            },
            "type": "scattermapbox"
           }
          ],
          "scatterpolar": [
           {
            "marker": {
             "colorbar": {
              "outlinewidth": 0,
              "ticks": ""
             }
            },
            "type": "scatterpolar"
           }
          ],
          "scatterpolargl": [
           {
            "marker": {
             "colorbar": {
              "outlinewidth": 0,
              "ticks": ""
             }
            },
            "type": "scatterpolargl"
           }
          ],
          "scatterternary": [
           {
            "marker": {
             "colorbar": {
              "outlinewidth": 0,
              "ticks": ""
             }
            },
            "type": "scatterternary"
           }
          ],
          "surface": [
           {
            "colorbar": {
             "outlinewidth": 0,
             "ticks": ""
            },
            "colorscale": [
             [
              0,
              "#0d0887"
             ],
             [
              0.1111111111111111,
              "#46039f"
             ],
             [
              0.2222222222222222,
              "#7201a8"
             ],
             [
              0.3333333333333333,
              "#9c179e"
             ],
             [
              0.4444444444444444,
              "#bd3786"
             ],
             [
              0.5555555555555556,
              "#d8576b"
             ],
             [
              0.6666666666666666,
              "#ed7953"
             ],
             [
              0.7777777777777778,
              "#fb9f3a"
             ],
             [
              0.8888888888888888,
              "#fdca26"
             ],
             [
              1,
              "#f0f921"
             ]
            ],
            "type": "surface"
           }
          ],
          "table": [
           {
            "cells": {
             "fill": {
              "color": "#EBF0F8"
             },
             "line": {
              "color": "white"
             }
            },
            "header": {
             "fill": {
              "color": "#C8D4E3"
             },
             "line": {
              "color": "white"
             }
            },
            "type": "table"
           }
          ]
         },
         "layout": {
          "annotationdefaults": {
           "arrowcolor": "#2a3f5f",
           "arrowhead": 0,
           "arrowwidth": 1
          },
          "autotypenumbers": "strict",
          "coloraxis": {
           "colorbar": {
            "outlinewidth": 0,
            "ticks": ""
           }
          },
          "colorscale": {
           "diverging": [
            [
             0,
             "#8e0152"
            ],
            [
             0.1,
             "#c51b7d"
            ],
            [
             0.2,
             "#de77ae"
            ],
            [
             0.3,
             "#f1b6da"
            ],
            [
             0.4,
             "#fde0ef"
            ],
            [
             0.5,
             "#f7f7f7"
            ],
            [
             0.6,
             "#e6f5d0"
            ],
            [
             0.7,
             "#b8e186"
            ],
            [
             0.8,
             "#7fbc41"
            ],
            [
             0.9,
             "#4d9221"
            ],
            [
             1,
             "#276419"
            ]
           ],
           "sequential": [
            [
             0,
             "#0d0887"
            ],
            [
             0.1111111111111111,
             "#46039f"
            ],
            [
             0.2222222222222222,
             "#7201a8"
            ],
            [
             0.3333333333333333,
             "#9c179e"
            ],
            [
             0.4444444444444444,
             "#bd3786"
            ],
            [
             0.5555555555555556,
             "#d8576b"
            ],
            [
             0.6666666666666666,
             "#ed7953"
            ],
            [
             0.7777777777777778,
             "#fb9f3a"
            ],
            [
             0.8888888888888888,
             "#fdca26"
            ],
            [
             1,
             "#f0f921"
            ]
           ],
           "sequentialminus": [
            [
             0,
             "#0d0887"
            ],
            [
             0.1111111111111111,
             "#46039f"
            ],
            [
             0.2222222222222222,
             "#7201a8"
            ],
            [
             0.3333333333333333,
             "#9c179e"
            ],
            [
             0.4444444444444444,
             "#bd3786"
            ],
            [
             0.5555555555555556,
             "#d8576b"
            ],
            [
             0.6666666666666666,
             "#ed7953"
            ],
            [
             0.7777777777777778,
             "#fb9f3a"
            ],
            [
             0.8888888888888888,
             "#fdca26"
            ],
            [
             1,
             "#f0f921"
            ]
           ]
          },
          "colorway": [
           "#636efa",
           "#EF553B",
           "#00cc96",
           "#ab63fa",
           "#FFA15A",
           "#19d3f3",
           "#FF6692",
           "#B6E880",
           "#FF97FF",
           "#FECB52"
          ],
          "font": {
           "color": "#2a3f5f"
          },
          "geo": {
           "bgcolor": "white",
           "lakecolor": "white",
           "landcolor": "#E5ECF6",
           "showlakes": true,
           "showland": true,
           "subunitcolor": "white"
          },
          "hoverlabel": {
           "align": "left"
          },
          "hovermode": "closest",
          "mapbox": {
           "style": "light"
          },
          "paper_bgcolor": "white",
          "plot_bgcolor": "#E5ECF6",
          "polar": {
           "angularaxis": {
            "gridcolor": "white",
            "linecolor": "white",
            "ticks": ""
           },
           "bgcolor": "#E5ECF6",
           "radialaxis": {
            "gridcolor": "white",
            "linecolor": "white",
            "ticks": ""
           }
          },
          "scene": {
           "xaxis": {
            "backgroundcolor": "#E5ECF6",
            "gridcolor": "white",
            "gridwidth": 2,
            "linecolor": "white",
            "showbackground": true,
            "ticks": "",
            "zerolinecolor": "white"
           },
           "yaxis": {
            "backgroundcolor": "#E5ECF6",
            "gridcolor": "white",
            "gridwidth": 2,
            "linecolor": "white",
            "showbackground": true,
            "ticks": "",
            "zerolinecolor": "white"
           },
           "zaxis": {
            "backgroundcolor": "#E5ECF6",
            "gridcolor": "white",
            "gridwidth": 2,
            "linecolor": "white",
            "showbackground": true,
            "ticks": "",
            "zerolinecolor": "white"
           }
          },
          "shapedefaults": {
           "line": {
            "color": "#2a3f5f"
           }
          },
          "ternary": {
           "aaxis": {
            "gridcolor": "white",
            "linecolor": "white",
            "ticks": ""
           },
           "baxis": {
            "gridcolor": "white",
            "linecolor": "white",
            "ticks": ""
           },
           "bgcolor": "#E5ECF6",
           "caxis": {
            "gridcolor": "white",
            "linecolor": "white",
            "ticks": ""
           }
          },
          "title": {
           "x": 0.05
          },
          "xaxis": {
           "automargin": true,
           "gridcolor": "white",
           "linecolor": "white",
           "ticks": "",
           "title": {
            "standoff": 15
           },
           "zerolinecolor": "white",
           "zerolinewidth": 2
          },
          "yaxis": {
           "automargin": true,
           "gridcolor": "white",
           "linecolor": "white",
           "ticks": "",
           "title": {
            "standoff": 15
           },
           "zerolinecolor": "white",
           "zerolinewidth": 2
          }
         }
        },
        "title": {
         "text": "KDE Plot for Feature \"K\" by Label"
        },
        "xaxis": {
         "title": {
          "text": "K"
         }
        },
        "yaxis": {
         "title": {
          "text": "Density"
         }
        }
       }
      }
     },
     "metadata": {},
     "output_type": "display_data"
    },
    {
     "data": {
      "application/vnd.plotly.v1+json": {
       "config": {
        "plotlyServerURL": "https://plot.ly"
       },
       "data": [
        {
         "mode": "lines",
         "name": "Label 0",
         "type": "scatter",
         "x": {
          "bdata": "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",
          "dtype": "f8"
         },
         "y": {
          "bdata": "/J7XWV2D3D+rCv5NWP/dP2h+3+vYad8/5FnZDldf4D8bsDzD5PzgPzQbWnqqi+E/MEARquMJ4j+mS+g//HXiP38S7ayZzuI/EQ04zKIS4z/NHNNjRkHjP4RkXwoAWuM/yDyoSJtc4z8hR9rcNEnjP2xSuxQ6IOM/T8BZRGbi4j+2/oluvpDiP0mygkOLLOI/OWVcp1G34T/sx5v9yTLhP0ZnzH/WoOA/Wtk763gD4D+4S9qpj7nePx21seXHXd0/+f82Tdv32z/AyB4g9ovaP1m9pMwdHtk/DTmtlyCy1z8ANrKNh0vWP9Nd+vaK7dQ/qZjPcAmb0z8AnR61gVbSPyK5EgMPItE/C+FsDdD+zz+nwxsYwN/NP8vL/XfU6Ms/DvbrLT0byj+Vok21gHfIP9la6vqK/cY/dR+A1b2sxT/j7CdeAoTEP87DbJPagcM/Y3P+wnKkwj8dOuxJsunBP+uUJVFLT8E/LWZ/QsnSwD87lJ/InXHAP6/DEkEsKcA/FVhiNaftvz8yi5BV7a+/P1B6uyEGlL8/gFAwlu2Uvz8Vj8RIya2/P7D9pFLv2b8/zTP+0XUKwD8UpH4NQi3AP8BZc9hdU8A/URWzgup6wD8u4RhCKqLAP7beaSmBx8A/6EwkE3bpwD+2HwqJswbBP1p4w6oIHsE/GbBQEGouwT9Akmeg8jbBP6D0Zk/kNsE/t1dYuagtwT8Un36I0RrBP3qKIpoY/sA/94mJ1F/XwD/vMyCjsKbAPz6xrBA7bMA/ppKgelQowD8NGEm467a/Py4ZC2ZzDL8/EO4eCLNSvj9d7uYOVou9P0xV5xA6uLw/eTM1C2jbuz9QR2dADfe6P08qCtVzDbo/GEvzSPsguT9c5gPsEDS4P93QJWsoSbc/fJu3j7Ritj/pRHNIIIO1P+jNUg/IrLQ/saRHvPPhsz9xivfQ0CSzP539RUZtd7I/+QJe4bLbsT/9tUwTY1OxP+iZFWQT4LA/47qAaCqDsD/iJrFA3T2wPx2vyZwtEbA/j0fkiND7rz/BndgdpASwPytAuLDBJbA/dOjoIWthsD+oYuyjlLewP7I/xFj9J7E/C5oLoTCysT/gB9PTh1WyP9pxElosEbM/QA2xJxrksz8fZDGLIs20P5dhC0zvyrU/qHa5Dgbctj+VJ4n0y/63P7D+bGyJMbk/7JNtKW5yuj8Jtfcylb+7P3inMAMJF70/vNO1p8d2vj/aYbzZxty/P99GsgF8o8A/YvGdFKZZwT/ogibY2w/CP25/Vf0axcI/UhgHa2Z4wz9EUeLcxyjEP7LYZ2lR1cQ/Ifk77x59xT9t3mdqVx/GP9cWvTIuu8Y/awjEJORPxz8TWKW2yNzHPxX2S/o6Ycg/0ACSjarcyD8SGql4mE7JP4foHfqXtsk/eXfgPk8Uyj/P9awDeGfKP6fLGRzgr8o/qw6D2mntyj+FKRtTDCDLP9jOqHPTR8s/oQ3+6N9kyz9GHw3LZnfLP6fMuwixf8s/Sg1BjRp+yz+6pfcZEXPLP8mWJNESX8s/n0wzcKxCyz9LpE86dx7LP9Z+/JYW88o/SkQ0azXByj/N8ak2g4nKPx5iwwGxTMo/nVW8K24Lyj9ZSegqZcbJP5U3G1M4fsk/oca9t34zyT89o9s/webIPx7MfAJ4mMg/QmzGAAhJyD/WlbBRwfjHP4GmmNDdp8c/9EWrXIBWxz9nciWztATHPx+G4+lvssY/zsfIipFfxj8SBWlL5QvGPxnhOlclt8U/HVWpHf1gxT8M0tCQDAnFP7qwwL3rrsQ/3JHmoy5SxD9AxPkuafLDP5owajUzj8M/UYgPXSwowz+lKZ7I/7zCP22mN3JnTcI/92gyGi/ZwT/x2NG0NmDBP1xO+UV04sA/qeW7HvVfwD9P07HrvLG/PxBECbPamr4/P144/Ot7vT/Dd77kxFW8P15XrIxhKbs/x23/a+H3uT8HNTvYgcK4P/+My+eXirc/8DPc44lRtj+vCK96yBi1PzdTHeTH4bM/28fxJ/mtsj+fLVKyw36xP+3htV1/VbA/F2hRKN5mrj8ZxzlGeDOsP1LdNqzkEqo/QkD+yvkGqD+I2LJ+SBGmP4+MzVMZM6Q/f2mScWttoj+zwJAR9cCgPw==",
          "dtype": "f8"
         }
        },
        {
         "mode": "lines",
         "name": "Label 1",
         "type": "scatter",
         "x": {
          "bdata": "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",
          "dtype": "f8"
         },
         "y": {
          "bdata": "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",
          "dtype": "f8"
         }
        },
        {
         "mode": "lines",
         "name": "Label 2",
         "type": "scatter",
         "x": {
          "bdata": "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",
          "dtype": "f8"
         },
         "y": {
          "bdata": "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",
          "dtype": "f8"
         }
        },
        {
         "mode": "lines",
         "name": "Label 3",
         "type": "scatter",
         "x": {
          "bdata": "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",
          "dtype": "f8"
         },
         "y": {
          "bdata": "K4I3g7Fo6D/Tp9BtnxDqP4cn3TRkpOs/ekLdJiYe7T80+FCKhnjuP27A0HvMru8/J9M7ZYRe8D+Z2DF3GNDwP7NrtuMXK/E/PxXXwPVu8T9UWwVeoJvxPxfxKuV5sfE/O3BCzEyx8T+iRFwfPZzxP6M3Gdm3c/E/iadfkmE58T+W5arHBe/wP76i6MuHlvA/zalIQtYx8D9bRfZPw4XvP+bbWjksl+4//mJce7Cb7T9MkRoqCZfsP8k85LfhjOs/IDRYSNyA6j/Fpm7ZlXbpP67AumGoceg/Yb5hUKl15z/UF19VI4bmPxfj7PKKpuU/F25xAy7a5D9wzccIHyTkP+Y+3bAdh+M/BuPxcH4F4z+dWPhfE6HiP0rPf4kYW+I/Q8syyiU04j84koDnJyziP+Tz8wRiQuI/3BYl53d14j8FiPGtgMPiPy2P9ucgKuM/nUJLK6qm4z+vIGzNPTbkP5Jo2PXv1eQ/P392J+iC5T8lpEyCfDrmP8od32hF+uY/1/A82yfA5z9g6LWvVYroP0cZU8NDV+k/L7XIM5cl6j9dfpiZC/TqP9vXa/RUwes/ggm8eQCM7D8XXtWoV1LtP6bcnuhIEu4/W+QKhVjJ7j+vGYwtnHTvP+zuNRZhCPA/CeNsQxJN8D9YcC+Uc4bwP0Lkz6GPsvA/NOeGooDP8D/+/TQSidvwP0Mxl00s1fA/XR7nZUW78D/UcSeaGo3wP6vpmSlsSvA/7ZD/H/vm7z+Wfk9NMRLvPw0QkCUVGe4/RUNhoTX/7D+N/wMI+sjrP/JF+/J8e+o/9GD252Ac6T/0XcrloLHnP3HECz5fQeY/rPu767TR5D8mnORRg2jjP+V7avVJC+I/pgwzZgG/4D/Kvgpc+A/fP3Gg8Iyc09w/tgvXnnbO2j/5Vi0OVwTZP9/W1bZOd9c/lJNNoLIn1j/qJxXEKxTVP3VFtwPSOdQ/qGU/alGU0z8M1jW2GB7TP5OCaACQ0NI/PVQPH1ak0j9TDLIlg5HSPwXYUB3uj9I/rXYZzXOX0j+K5p8zPKDSP5sK+iz8otI/V2RivDCZ0j+Y0jyPUX3SP7AAZZf4StI/Hp1wC/3+0T+GOoewgJfRP/UF6wHvE9E/kWwViu500D+M77YDi3jPPyfOGvhm2c0/OzLV8YQTzD+D3tBQJC/KP6T/e7hANcg/iMoRXiMvxj+/rX9r+iXEPw/ZkGN7IsI/qCE9bJQswD/Jwk9WXpa8PxNixCQNCLk/gE8waB+3tT/VzpwX6amyPxWJONx6yK8/MyiijD3Pqj+bvVshBWemP9fMJ41Fi6I/MJoCtVlpnj91cNBUrbOYP925oKXw35M/srCFufetjz+S6BH2SwKJP6yUiNxNjoM/pZEIayFLfj9cTQ/gmD13PyDxKRkMqXE/2F42ZqmVaj/bXQuroNFjP6/po0G/RF0/KjEwZu9nVT+I0TbzPwNPP8itP+ZHQEY/Ft+N8PyfPz83Rvi3a0I2P1YNMlw+CS8/B6ahmj5uJT+tqMvPylAdP/6dB5r/3BM/tEXVjISsCj/lyknS/sIBP0dvxKAmgfc++n+rGEMO7z7Zxeriz7jkPmJQIEqGqdw+cuOKvfqX1T4kov00v/jSPl82nQO8Q9Q+onBLD7yX2T6zMwwzxNzhPjWnAIRGE+o+bIa5ct1O8z7GQ1yjFJz8PtY5MG6YFQU/4URNPezWDj8uAYfYP1wWPx6/HcUhESA/07TPxOvgJj+ePzFKlyMwP8loGO0djzY/9H3Rmpw9Pz/I8hA4S25FPwTJfBsfIU0/n0gim8icUz/ub26D1ylaP/nviTbZSWE/IeD+qHGiZj+OMCN3S1ttP2L97jr523I//+/S3gcBeD81+9sJ/0N+P7q0PQqu5oI/6hYRRcVihz+a2wlklKmMP6+byi0+ZpE/Y81xfOLslD89BSi8rO2YP1rNYs29ap0/N7bBAmAxoT9/kHd8KuijP5gvu1vP1KY/CbBJOfjvqT+hrwXW2C+tPwQKD0ofRLA/2Kg/fWD1sT/Kmq5AiqOzP9qhtVK/RbU/bzvx57PStj/AgzubAkG4Pw2DwVOJh7k/J3x0Pcmduj9KXfFjRHy7P0mig1fTHLw/2AmTiO16vD+ed/C235O8Pw==",
          "dtype": "f8"
         }
        }
       ],
       "layout": {
        "template": {
         "data": {
          "bar": [
           {
            "error_x": {
             "color": "#2a3f5f"
            },
            "error_y": {
             "color": "#2a3f5f"
            },
            "marker": {
             "line": {
              "color": "#E5ECF6",
              "width": 0.5
             },
             "pattern": {
              "fillmode": "overlay",
              "size": 10,
              "solidity": 0.2
             }
            },
            "type": "bar"
           }
          ],
          "barpolar": [
           {
            "marker": {
             "line": {
              "color": "#E5ECF6",
              "width": 0.5
             },
             "pattern": {
              "fillmode": "overlay",
              "size": 10,
              "solidity": 0.2
             }
            },
            "type": "barpolar"
           }
          ],
          "carpet": [
           {
            "aaxis": {
             "endlinecolor": "#2a3f5f",
             "gridcolor": "white",
             "linecolor": "white",
             "minorgridcolor": "white",
             "startlinecolor": "#2a3f5f"
            },
            "baxis": {
             "endlinecolor": "#2a3f5f",
             "gridcolor": "white",
             "linecolor": "white",
             "minorgridcolor": "white",
             "startlinecolor": "#2a3f5f"
            },
            "type": "carpet"
           }
          ],
          "choropleth": [
           {
            "colorbar": {
             "outlinewidth": 0,
             "ticks": ""
            },
            "type": "choropleth"
           }
          ],
          "contour": [
           {
            "colorbar": {
             "outlinewidth": 0,
             "ticks": ""
            },
            "colorscale": [
             [
              0,
              "#0d0887"
             ],
             [
              0.1111111111111111,
              "#46039f"
             ],
             [
              0.2222222222222222,
              "#7201a8"
             ],
             [
              0.3333333333333333,
              "#9c179e"
             ],
             [
              0.4444444444444444,
              "#bd3786"
             ],
             [
              0.5555555555555556,
              "#d8576b"
             ],
             [
              0.6666666666666666,
              "#ed7953"
             ],
             [
              0.7777777777777778,
              "#fb9f3a"
             ],
             [
              0.8888888888888888,
              "#fdca26"
             ],
             [
              1,
              "#f0f921"
             ]
            ],
            "type": "contour"
           }
          ],
          "contourcarpet": [
           {
            "colorbar": {
             "outlinewidth": 0,
             "ticks": ""
            },
            "type": "contourcarpet"
           }
          ],
          "heatmap": [
           {
            "colorbar": {
             "outlinewidth": 0,
             "ticks": ""
            },
            "colorscale": [
             [
              0,
              "#0d0887"
             ],
             [
              0.1111111111111111,
              "#46039f"
             ],
             [
              0.2222222222222222,
              "#7201a8"
             ],
             [
              0.3333333333333333,
              "#9c179e"
             ],
             [
              0.4444444444444444,
              "#bd3786"
             ],
             [
              0.5555555555555556,
              "#d8576b"
             ],
             [
              0.6666666666666666,
              "#ed7953"
             ],
             [
              0.7777777777777778,
              "#fb9f3a"
             ],
             [
              0.8888888888888888,
              "#fdca26"
             ],
             [
              1,
              "#f0f921"
             ]
            ],
            "type": "heatmap"
           }
          ],
          "histogram": [
           {
            "marker": {
             "pattern": {
              "fillmode": "overlay",
              "size": 10,
              "solidity": 0.2
             }
            },
            "type": "histogram"
           }
          ],
          "histogram2d": [
           {
            "colorbar": {
             "outlinewidth": 0,
             "ticks": ""
            },
            "colorscale": [
             [
              0,
              "#0d0887"
             ],
             [
              0.1111111111111111,
              "#46039f"
             ],
             [
              0.2222222222222222,
              "#7201a8"
             ],
             [
              0.3333333333333333,
              "#9c179e"
             ],
             [
              0.4444444444444444,
              "#bd3786"
             ],
             [
              0.5555555555555556,
              "#d8576b"
             ],
             [
              0.6666666666666666,
              "#ed7953"
             ],
             [
              0.7777777777777778,
              "#fb9f3a"
             ],
             [
              0.8888888888888888,
              "#fdca26"
             ],
             [
              1,
              "#f0f921"
             ]
            ],
            "type": "histogram2d"
           }
          ],
          "histogram2dcontour": [
           {
            "colorbar": {
             "outlinewidth": 0,
             "ticks": ""
            },
            "colorscale": [
             [
              0,
              "#0d0887"
             ],
             [
              0.1111111111111111,
              "#46039f"
             ],
             [
              0.2222222222222222,
              "#7201a8"
             ],
             [
              0.3333333333333333,
              "#9c179e"
             ],
             [
              0.4444444444444444,
              "#bd3786"
             ],
             [
              0.5555555555555556,
              "#d8576b"
             ],
             [
              0.6666666666666666,
              "#ed7953"
             ],
             [
              0.7777777777777778,
              "#fb9f3a"
             ],
             [
              0.8888888888888888,
              "#fdca26"
             ],
             [
              1,
              "#f0f921"
             ]
            ],
            "type": "histogram2dcontour"
           }
          ],
          "mesh3d": [
           {
            "colorbar": {
             "outlinewidth": 0,
             "ticks": ""
            },
            "type": "mesh3d"
           }
          ],
          "parcoords": [
           {
            "line": {
             "colorbar": {
              "outlinewidth": 0,
              "ticks": ""
             }
            },
            "type": "parcoords"
           }
          ],
          "pie": [
           {
            "automargin": true,
            "type": "pie"
           }
          ],
          "scatter": [
           {
            "fillpattern": {
             "fillmode": "overlay",
             "size": 10,
             "solidity": 0.2
            },
            "type": "scatter"
           }
          ],
          "scatter3d": [
           {
            "line": {
             "colorbar": {
              "outlinewidth": 0,
              "ticks": ""
             }
            },
            "marker": {
             "colorbar": {
              "outlinewidth": 0,
              "ticks": ""
             }
            },
            "type": "scatter3d"
           }
          ],
          "scattercarpet": [
           {
            "marker": {
             "colorbar": {
              "outlinewidth": 0,
              "ticks": ""
             }
            },
            "type": "scattercarpet"
           }
          ],
          "scattergeo": [
           {
            "marker": {
             "colorbar": {
              "outlinewidth": 0,
              "ticks": ""
             }
            },
            "type": "scattergeo"
           }
          ],
          "scattergl": [
           {
            "marker": {
             "colorbar": {
              "outlinewidth": 0,
              "ticks": ""
             }
            },
            "type": "scattergl"
           }
          ],
          "scattermap": [
           {
            "marker": {
             "colorbar": {
              "outlinewidth": 0,
              "ticks": ""
             }
            },
            "type": "scattermap"
           }
          ],
          "scattermapbox": [
           {
            "marker": {
             "colorbar": {
              "outlinewidth": 0,
              "ticks": ""
             }
            },
            "type": "scattermapbox"
           }
          ],
          "scatterpolar": [
           {
            "marker": {
             "colorbar": {
              "outlinewidth": 0,
              "ticks": ""
             }
            },
            "type": "scatterpolar"
           }
          ],
          "scatterpolargl": [
           {
            "marker": {
             "colorbar": {
              "outlinewidth": 0,
              "ticks": ""
             }
            },
            "type": "scatterpolargl"
           }
          ],
          "scatterternary": [
           {
            "marker": {
             "colorbar": {
              "outlinewidth": 0,
              "ticks": ""
             }
            },
            "type": "scatterternary"
           }
          ],
          "surface": [
           {
            "colorbar": {
             "outlinewidth": 0,
             "ticks": ""
            },
            "colorscale": [
             [
              0,
              "#0d0887"
             ],
             [
              0.1111111111111111,
              "#46039f"
             ],
             [
              0.2222222222222222,
              "#7201a8"
             ],
             [
              0.3333333333333333,
              "#9c179e"
             ],
             [
              0.4444444444444444,
              "#bd3786"
             ],
             [
              0.5555555555555556,
              "#d8576b"
             ],
             [
              0.6666666666666666,
              "#ed7953"
             ],
             [
              0.7777777777777778,
              "#fb9f3a"
             ],
             [
              0.8888888888888888,
              "#fdca26"
             ],
             [
              1,
              "#f0f921"
             ]
            ],
            "type": "surface"
           }
          ],
          "table": [
           {
            "cells": {
             "fill": {
              "color": "#EBF0F8"
             },
             "line": {
              "color": "white"
             }
            },
            "header": {
             "fill": {
              "color": "#C8D4E3"
             },
             "line": {
              "color": "white"
             }
            },
            "type": "table"
           }
          ]
         },
         "layout": {
          "annotationdefaults": {
           "arrowcolor": "#2a3f5f",
           "arrowhead": 0,
           "arrowwidth": 1
          },
          "autotypenumbers": "strict",
          "coloraxis": {
           "colorbar": {
            "outlinewidth": 0,
            "ticks": ""
           }
          },
          "colorscale": {
           "diverging": [
            [
             0,
             "#8e0152"
            ],
            [
             0.1,
             "#c51b7d"
            ],
            [
             0.2,
             "#de77ae"
            ],
            [
             0.3,
             "#f1b6da"
            ],
            [
             0.4,
             "#fde0ef"
            ],
            [
             0.5,
             "#f7f7f7"
            ],
            [
             0.6,
             "#e6f5d0"
            ],
            [
             0.7,
             "#b8e186"
            ],
            [
             0.8,
             "#7fbc41"
            ],
            [
             0.9,
             "#4d9221"
            ],
            [
             1,
             "#276419"
            ]
           ],
           "sequential": [
            [
             0,
             "#0d0887"
            ],
            [
             0.1111111111111111,
             "#46039f"
            ],
            [
             0.2222222222222222,
             "#7201a8"
            ],
            [
             0.3333333333333333,
             "#9c179e"
            ],
            [
             0.4444444444444444,
             "#bd3786"
            ],
            [
             0.5555555555555556,
             "#d8576b"
            ],
            [
             0.6666666666666666,
             "#ed7953"
            ],
            [
             0.7777777777777778,
             "#fb9f3a"
            ],
            [
             0.8888888888888888,
             "#fdca26"
            ],
            [
             1,
             "#f0f921"
            ]
           ],
           "sequentialminus": [
            [
             0,
             "#0d0887"
            ],
            [
             0.1111111111111111,
             "#46039f"
            ],
            [
             0.2222222222222222,
             "#7201a8"
            ],
            [
             0.3333333333333333,
             "#9c179e"
            ],
            [
             0.4444444444444444,
             "#bd3786"
            ],
            [
             0.5555555555555556,
             "#d8576b"
            ],
            [
             0.6666666666666666,
             "#ed7953"
            ],
            [
             0.7777777777777778,
             "#fb9f3a"
            ],
            [
             0.8888888888888888,
             "#fdca26"
            ],
            [
             1,
             "#f0f921"
            ]
           ]
          },
          "colorway": [
           "#636efa",
           "#EF553B",
           "#00cc96",
           "#ab63fa",
           "#FFA15A",
           "#19d3f3",
           "#FF6692",
           "#B6E880",
           "#FF97FF",
           "#FECB52"
          ],
          "font": {
           "color": "#2a3f5f"
          },
          "geo": {
           "bgcolor": "white",
           "lakecolor": "white",
           "landcolor": "#E5ECF6",
           "showlakes": true,
           "showland": true,
           "subunitcolor": "white"
          },
          "hoverlabel": {
           "align": "left"
          },
          "hovermode": "closest",
          "mapbox": {
           "style": "light"
          },
          "paper_bgcolor": "white",
          "plot_bgcolor": "#E5ECF6",
          "polar": {
           "angularaxis": {
            "gridcolor": "white",
            "linecolor": "white",
            "ticks": ""
           },
           "bgcolor": "#E5ECF6",
           "radialaxis": {
            "gridcolor": "white",
            "linecolor": "white",
            "ticks": ""
           }
          },
          "scene": {
           "xaxis": {
            "backgroundcolor": "#E5ECF6",
            "gridcolor": "white",
            "gridwidth": 2,
            "linecolor": "white",
            "showbackground": true,
            "ticks": "",
            "zerolinecolor": "white"
           },
           "yaxis": {
            "backgroundcolor": "#E5ECF6",
            "gridcolor": "white",
            "gridwidth": 2,
            "linecolor": "white",
            "showbackground": true,
            "ticks": "",
            "zerolinecolor": "white"
           },
           "zaxis": {
            "backgroundcolor": "#E5ECF6",
            "gridcolor": "white",
            "gridwidth": 2,
            "linecolor": "white",
            "showbackground": true,
            "ticks": "",
            "zerolinecolor": "white"
           }
          },
          "shapedefaults": {
           "line": {
            "color": "#2a3f5f"
           }
          },
          "ternary": {
           "aaxis": {
            "gridcolor": "white",
            "linecolor": "white",
            "ticks": ""
           },
           "baxis": {
            "gridcolor": "white",
            "linecolor": "white",
            "ticks": ""
           },
           "bgcolor": "#E5ECF6",
           "caxis": {
            "gridcolor": "white",
            "linecolor": "white",
            "ticks": ""
           }
          },
          "title": {
           "x": 0.05
          },
          "xaxis": {
           "automargin": true,
           "gridcolor": "white",
           "linecolor": "white",
           "ticks": "",
           "title": {
            "standoff": 15
           },
           "zerolinecolor": "white",
           "zerolinewidth": 2
          },
          "yaxis": {
           "automargin": true,
           "gridcolor": "white",
           "linecolor": "white",
           "ticks": "",
           "title": {
            "standoff": 15
           },
           "zerolinecolor": "white",
           "zerolinewidth": 2
          }
         }
        },
        "title": {
         "text": "KDE Plot for Feature \"A\" by Label"
        },
        "xaxis": {
         "title": {
          "text": "A"
         }
        },
        "yaxis": {
         "title": {
          "text": "Density"
         }
        }
       }
      }
     },
     "metadata": {},
     "output_type": "display_data"
    },
    {
     "data": {
      "application/vnd.plotly.v1+json": {
       "config": {
        "plotlyServerURL": "https://plot.ly"
       },
       "data": [
        {
         "mode": "lines",
         "name": "Label 0",
         "type": "scatter",
         "x": {
          "bdata": "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",
          "dtype": "f8"
         },
         "y": {
          "bdata": "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",
          "dtype": "f8"
         }
        },
        {
         "mode": "lines",
         "name": "Label 1",
         "type": "scatter",
         "x": {
          "bdata": "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",
          "dtype": "f8"
         },
         "y": {
          "bdata": "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",
          "dtype": "f8"
         }
        },
        {
         "mode": "lines",
         "name": "Label 2",
         "type": "scatter",
         "x": {
          "bdata": "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",
          "dtype": "f8"
         },
         "y": {
          "bdata": "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",
          "dtype": "f8"
         }
        },
        {
         "mode": "lines",
         "name": "Label 3",
         "type": "scatter",
         "x": {
          "bdata": "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",
          "dtype": "f8"
         },
         "y": {
          "bdata": "ILJTDhbHwT981SzqX+PCPwDUsktJAMQ/O307WIocxT+CE6Pk5DbGP5W0huomTsc/TkKH4ithyD/Sk3f73G7JPy0b9zgwdso/Q7LeliZ2yz+5Dd9gyW3MP4aQjf0mXM0/UGq/eE9Azj9ivIYhURnPP2DOr5M15s8/1gZmwf9S0D9YO8jK1KvQP2mZ40kT/dA/wn3wizFG0T/tYBhwpIbRP+Y8FeLhvdE/GeF1HGTr0T9Q0qWbrQ7SP7B/DZ9NJ9I/5Ps9C+U00j8fpLt3KzfSP+m/GS30LdI/JKoP1TIZ0j92Vi+e//jRP4qc9JeazdE/TxDjEW6X0T8OKw7RD1fRP+HHTfpADdE/rpAGnOy60D+gLkDQJGHQP4OxJX4eAdA/q+DCoFc4zz8eXOgGa2fOP5k1RXdmks0/0kDAOUa8zD9KPqXPAejLP2ZErsp5GMs/oFs122VQyj/kuIaxQ5LJP4r9h0pH4Mg/VeyqNk08yD+v/bBbz6fHP/fWkJ7cI8c/MbpryxOxxj+9fKb2oU/GPwaivHRE/8U/uDs0Z06/xT/1RTq9sY7FP8lo9GYLbMU/fXqYXLJVxT9QmPT+yEnFPzjTUT9QRsU/uRR36TtJxT8cHeFch1DFP917s/pJWsU/7CfsjMpkxT9RyjrxkG7FP7E8fl51dsU/SEAKr6x7xT+P3+Qy0X3FP0EwVqvnfMU/XHplM2B5xT810Pz9EnTFP4xyDvk4bsU/VMzQi2BpxT84L4TLXmfFPy/d0KQ9asU/07JUlid0xT9dakOyUYfFPz2tELDkpcU/Hes14+XRxT9ULcTwIA3GP3DMUhoTWcY/ueAB6ti2xj/PF/j4HifHPyBKhXAWqsc/uOSnxm0/yD/P0xMSTubIP7UULyldnck/MV0TlMRiyj9y9vUsPTTLPy+J5B0fD8w/g3UfwHXwzD/Fmg66FtXNPzzTW5a7uc4/bJyK8hybzz+l6VMnBzvQPxXStL3Mo9A/f2iGUIwG0T+2fOzvJmLRP3hCyM27tdE/ZihyTrAA0j/EIVSrtULSP4N7e+PLe9I/okGozkGs0j/4My5CstTSP+q/L1P+9dI/MaZF3kQR0z8QwmaY1yfTPw4OuQYuO9M/GL/G0dZM0z9sGV37Z17TP+WTPIxucdM/2dgFV16H0z/LAvZvgqHTPzAFzfTuwNM/1qCltXTm0z/2ut4+lxLUP0srCK6FRdQ/I5bgoBZ/1D+ld+Fux77UP4+g1by+A9U/5b/kV9JM1T/22dAjkJjVP1HQUMhJ5dU/GP7nrCIx1j92fKC6H3rWP7hNvUg4vtY/7v6sjWf71j/MpsnovS/XPyPKAVxxWdc/YYs/lux21z9fAtL/24bXP4wvd1A4iNc/BjzbUU561z9LmCmQw1zXP82SM9uXL9c/aPEunCPz1j++ip4kE6jWPzQqIzlfT9Y/o4lvNUPq1T+I0VA8MXrVPxic2/bEANU/6UDNb7V/1D9u0dubxvjTP6YcHR27bdM/JXJBx0bg0j/I+71cAlLSPy30ButgxNE/3t2lFqc40T+UZWaQ5K/QPxVeKtTvKtA/IGSjcshUzz9vPCaKRF3OP2cwKjOkb80/9A6nk8+LzD+vdgSWUrHLP44FH2Fr38o/D7HNsBoVyj8+7EJTNVHJP5RrmhB2ksg/WjkaSo/Xxz8Kz0itOx/HP1Jr6mpNaMY/CxkKeruxxT/jlB6KrPrEP2yt02N/QsQ/lSXDlNCIwz9GBUlefc3CP+GxlfmjEMI/s3xOWqFSwT/y1MesDJTAP9I8ablhq78/byyY+Qgxvj+0PK/eQLu8P75/72VrTLs/2l8TbQXnuT8SGLcmkY24P2XSqAyBQrc/ZZjm7yMItj/HZE2xkuC0PwVjJBegzbM/TcbSG8vQsj/EzBn6M+uxP1EU3yOUHbE/NxN9OjlosD+4TyEWBpavPxPwEf3Iiq4/6iPauM6srT96IqVgZfmsP63Cmiknbaw/DNE0NhAErD95d7b5l7mrP9tcxXnNiKs/MNy6qnVsqz+z5loZK1+rP9qTkw5+W6s/ETwvWBRcqz+C33Tkx1urP4u5/GbDVas/grvOSpxFqz8mQFFJaSerP3YKeRbV96o/whuesCy0qj+5kZAEaVqqPw==",
          "dtype": "f8"
         }
        }
       ],
       "layout": {
        "template": {
         "data": {
          "bar": [
           {
            "error_x": {
             "color": "#2a3f5f"
            },
            "error_y": {
             "color": "#2a3f5f"
            },
            "marker": {
             "line": {
              "color": "#E5ECF6",
              "width": 0.5
             },
             "pattern": {
              "fillmode": "overlay",
              "size": 10,
              "solidity": 0.2
             }
            },
            "type": "bar"
           }
          ],
          "barpolar": [
           {
            "marker": {
             "line": {
              "color": "#E5ECF6",
              "width": 0.5
             },
             "pattern": {
              "fillmode": "overlay",
              "size": 10,
              "solidity": 0.2
             }
            },
            "type": "barpolar"
           }
          ],
          "carpet": [
           {
            "aaxis": {
             "endlinecolor": "#2a3f5f",
             "gridcolor": "white",
             "linecolor": "white",
             "minorgridcolor": "white",
             "startlinecolor": "#2a3f5f"
            },
            "baxis": {
             "endlinecolor": "#2a3f5f",
             "gridcolor": "white",
             "linecolor": "white",
             "minorgridcolor": "white",
             "startlinecolor": "#2a3f5f"
            },
            "type": "carpet"
           }
          ],
          "choropleth": [
           {
            "colorbar": {
             "outlinewidth": 0,
             "ticks": ""
            },
            "type": "choropleth"
           }
          ],
          "contour": [
           {
            "colorbar": {
             "outlinewidth": 0,
             "ticks": ""
            },
            "colorscale": [
             [
              0,
              "#0d0887"
             ],
             [
              0.1111111111111111,
              "#46039f"
             ],
             [
              0.2222222222222222,
              "#7201a8"
             ],
             [
              0.3333333333333333,
              "#9c179e"
             ],
             [
              0.4444444444444444,
              "#bd3786"
             ],
             [
              0.5555555555555556,
              "#d8576b"
             ],
             [
              0.6666666666666666,
              "#ed7953"
             ],
             [
              0.7777777777777778,
              "#fb9f3a"
             ],
             [
              0.8888888888888888,
              "#fdca26"
             ],
             [
              1,
              "#f0f921"
             ]
            ],
            "type": "contour"
           }
          ],
          "contourcarpet": [
           {
            "colorbar": {
             "outlinewidth": 0,
             "ticks": ""
            },
            "type": "contourcarpet"
           }
          ],
          "heatmap": [
           {
            "colorbar": {
             "outlinewidth": 0,
             "ticks": ""
            },
            "colorscale": [
             [
              0,
              "#0d0887"
             ],
             [
              0.1111111111111111,
              "#46039f"
             ],
             [
              0.2222222222222222,
              "#7201a8"
             ],
             [
              0.3333333333333333,
              "#9c179e"
             ],
             [
              0.4444444444444444,
              "#bd3786"
             ],
             [
              0.5555555555555556,
              "#d8576b"
             ],
             [
              0.6666666666666666,
              "#ed7953"
             ],
             [
              0.7777777777777778,
              "#fb9f3a"
             ],
             [
              0.8888888888888888,
              "#fdca26"
             ],
             [
              1,
              "#f0f921"
             ]
            ],
            "type": "heatmap"
           }
          ],
          "histogram": [
           {
            "marker": {
             "pattern": {
              "fillmode": "overlay",
              "size": 10,
              "solidity": 0.2
             }
            },
            "type": "histogram"
           }
          ],
          "histogram2d": [
           {
            "colorbar": {
             "outlinewidth": 0,
             "ticks": ""
            },
            "colorscale": [
             [
              0,
              "#0d0887"
             ],
             [
              0.1111111111111111,
              "#46039f"
             ],
             [
              0.2222222222222222,
              "#7201a8"
             ],
             [
              0.3333333333333333,
              "#9c179e"
             ],
             [
              0.4444444444444444,
              "#bd3786"
             ],
             [
              0.5555555555555556,
              "#d8576b"
             ],
             [
              0.6666666666666666,
              "#ed7953"
             ],
             [
              0.7777777777777778,
              "#fb9f3a"
             ],
             [
              0.8888888888888888,
              "#fdca26"
             ],
             [
              1,
              "#f0f921"
             ]
            ],
            "type": "histogram2d"
           }
          ],
          "histogram2dcontour": [
           {
            "colorbar": {
             "outlinewidth": 0,
             "ticks": ""
            },
            "colorscale": [
             [
              0,
              "#0d0887"
             ],
             [
              0.1111111111111111,
              "#46039f"
             ],
             [
              0.2222222222222222,
              "#7201a8"
             ],
             [
              0.3333333333333333,
              "#9c179e"
             ],
             [
              0.4444444444444444,
              "#bd3786"
             ],
             [
              0.5555555555555556,
              "#d8576b"
             ],
             [
              0.6666666666666666,
              "#ed7953"
             ],
             [
              0.7777777777777778,
              "#fb9f3a"
             ],
             [
              0.8888888888888888,
              "#fdca26"
             ],
             [
              1,
              "#f0f921"
             ]
            ],
            "type": "histogram2dcontour"
           }
          ],
          "mesh3d": [
           {
            "colorbar": {
             "outlinewidth": 0,
             "ticks": ""
            },
            "type": "mesh3d"
           }
          ],
          "parcoords": [
           {
            "line": {
             "colorbar": {
              "outlinewidth": 0,
              "ticks": ""
             }
            },
            "type": "parcoords"
           }
          ],
          "pie": [
           {
            "automargin": true,
            "type": "pie"
           }
          ],
          "scatter": [
           {
            "fillpattern": {
             "fillmode": "overlay",
             "size": 10,
             "solidity": 0.2
            },
            "type": "scatter"
           }
          ],
          "scatter3d": [
           {
            "line": {
             "colorbar": {
              "outlinewidth": 0,
              "ticks": ""
             }
            },
            "marker": {
             "colorbar": {
              "outlinewidth": 0,
              "ticks": ""
             }
            },
            "type": "scatter3d"
           }
          ],
          "scattercarpet": [
           {
            "marker": {
             "colorbar": {
              "outlinewidth": 0,
              "ticks": ""
             }
            },
            "type": "scattercarpet"
           }
          ],
          "scattergeo": [
           {
            "marker": {
             "colorbar": {
              "outlinewidth": 0,
              "ticks": ""
             }
            },
            "type": "scattergeo"
           }
          ],
          "scattergl": [
           {
            "marker": {
             "colorbar": {
              "outlinewidth": 0,
              "ticks": ""
             }
            },
            "type": "scattergl"
           }
          ],
          "scattermap": [
           {
            "marker": {
             "colorbar": {
              "outlinewidth": 0,
              "ticks": ""
             }
            },
            "type": "scattermap"
           }
          ],
          "scattermapbox": [
           {
            "marker": {
             "colorbar": {
              "outlinewidth": 0,
              "ticks": ""
             }
            },
            "type": "scattermapbox"
           }
          ],
          "scatterpolar": [
           {
            "marker": {
             "colorbar": {
              "outlinewidth": 0,
              "ticks": ""
             }
            },
            "type": "scatterpolar"
           }
          ],
          "scatterpolargl": [
           {
            "marker": {
             "colorbar": {
              "outlinewidth": 0,
              "ticks": ""
             }
            },
            "type": "scatterpolargl"
           }
          ],
          "scatterternary": [
           {
            "marker": {
             "colorbar": {
              "outlinewidth": 0,
              "ticks": ""
             }
            },
            "type": "scatterternary"
           }
          ],
          "surface": [
           {
            "colorbar": {
             "outlinewidth": 0,
             "ticks": ""
            },
            "colorscale": [
             [
              0,
              "#0d0887"
             ],
             [
              0.1111111111111111,
              "#46039f"
             ],
             [
              0.2222222222222222,
              "#7201a8"
             ],
             [
              0.3333333333333333,
              "#9c179e"
             ],
             [
              0.4444444444444444,
              "#bd3786"
             ],
             [
              0.5555555555555556,
              "#d8576b"
             ],
             [
              0.6666666666666666,
              "#ed7953"
             ],
             [
              0.7777777777777778,
              "#fb9f3a"
             ],
             [
              0.8888888888888888,
              "#fdca26"
             ],
             [
              1,
              "#f0f921"
             ]
            ],
            "type": "surface"
           }
          ],
          "table": [
           {
            "cells": {
             "fill": {
              "color": "#EBF0F8"
             },
             "line": {
              "color": "white"
             }
            },
            "header": {
             "fill": {
              "color": "#C8D4E3"
             },
             "line": {
              "color": "white"
             }
            },
            "type": "table"
           }
          ]
         },
         "layout": {
          "annotationdefaults": {
           "arrowcolor": "#2a3f5f",
           "arrowhead": 0,
           "arrowwidth": 1
          },
          "autotypenumbers": "strict",
          "coloraxis": {
           "colorbar": {
            "outlinewidth": 0,
            "ticks": ""
           }
          },
          "colorscale": {
           "diverging": [
            [
             0,
             "#8e0152"
            ],
            [
             0.1,
             "#c51b7d"
            ],
            [
             0.2,
             "#de77ae"
            ],
            [
             0.3,
             "#f1b6da"
            ],
            [
             0.4,
             "#fde0ef"
            ],
            [
             0.5,
             "#f7f7f7"
            ],
            [
             0.6,
             "#e6f5d0"
            ],
            [
             0.7,
             "#b8e186"
            ],
            [
             0.8,
             "#7fbc41"
            ],
            [
             0.9,
             "#4d9221"
            ],
            [
             1,
             "#276419"
            ]
           ],
           "sequential": [
            [
             0,
             "#0d0887"
            ],
            [
             0.1111111111111111,
             "#46039f"
            ],
            [
             0.2222222222222222,
             "#7201a8"
            ],
            [
             0.3333333333333333,
             "#9c179e"
            ],
            [
             0.4444444444444444,
             "#bd3786"
            ],
            [
             0.5555555555555556,
             "#d8576b"
            ],
            [
             0.6666666666666666,
             "#ed7953"
            ],
            [
             0.7777777777777778,
             "#fb9f3a"
            ],
            [
             0.8888888888888888,
             "#fdca26"
            ],
            [
             1,
             "#f0f921"
            ]
           ],
           "sequentialminus": [
            [
             0,
             "#0d0887"
            ],
            [
             0.1111111111111111,
             "#46039f"
            ],
            [
             0.2222222222222222,
             "#7201a8"
            ],
            [
             0.3333333333333333,
             "#9c179e"
            ],
            [
             0.4444444444444444,
             "#bd3786"
            ],
            [
             0.5555555555555556,
             "#d8576b"
            ],
            [
             0.6666666666666666,
             "#ed7953"
            ],
            [
             0.7777777777777778,
             "#fb9f3a"
            ],
            [
             0.8888888888888888,
             "#fdca26"
            ],
            [
             1,
             "#f0f921"
            ]
           ]
          },
          "colorway": [
           "#636efa",
           "#EF553B",
           "#00cc96",
           "#ab63fa",
           "#FFA15A",
           "#19d3f3",
           "#FF6692",
           "#B6E880",
           "#FF97FF",
           "#FECB52"
          ],
          "font": {
           "color": "#2a3f5f"
          },
          "geo": {
           "bgcolor": "white",
           "lakecolor": "white",
           "landcolor": "#E5ECF6",
           "showlakes": true,
           "showland": true,
           "subunitcolor": "white"
          },
          "hoverlabel": {
           "align": "left"
          },
          "hovermode": "closest",
          "mapbox": {
           "style": "light"
          },
          "paper_bgcolor": "white",
          "plot_bgcolor": "#E5ECF6",
          "polar": {
           "angularaxis": {
            "gridcolor": "white",
            "linecolor": "white",
            "ticks": ""
           },
           "bgcolor": "#E5ECF6",
           "radialaxis": {
            "gridcolor": "white",
            "linecolor": "white",
            "ticks": ""
           }
          },
          "scene": {
           "xaxis": {
            "backgroundcolor": "#E5ECF6",
            "gridcolor": "white",
            "gridwidth": 2,
            "linecolor": "white",
            "showbackground": true,
            "ticks": "",
            "zerolinecolor": "white"
           },
           "yaxis": {
            "backgroundcolor": "#E5ECF6",
            "gridcolor": "white",
            "gridwidth": 2,
            "linecolor": "white",
            "showbackground": true,
            "ticks": "",
            "zerolinecolor": "white"
           },
           "zaxis": {
            "backgroundcolor": "#E5ECF6",
            "gridcolor": "white",
            "gridwidth": 2,
            "linecolor": "white",
            "showbackground": true,
            "ticks": "",
            "zerolinecolor": "white"
           }
          },
          "shapedefaults": {
           "line": {
            "color": "#2a3f5f"
           }
          },
          "ternary": {
           "aaxis": {
            "gridcolor": "white",
            "linecolor": "white",
            "ticks": ""
           },
           "baxis": {
            "gridcolor": "white",
            "linecolor": "white",
            "ticks": ""
           },
           "bgcolor": "#E5ECF6",
           "caxis": {
            "gridcolor": "white",
            "linecolor": "white",
            "ticks": ""
           }
          },
          "title": {
           "x": 0.05
          },
          "xaxis": {
           "automargin": true,
           "gridcolor": "white",
           "linecolor": "white",
           "ticks": "",
           "title": {
            "standoff": 15
           },
           "zerolinecolor": "white",
           "zerolinewidth": 2
          },
          "yaxis": {
           "automargin": true,
           "gridcolor": "white",
           "linecolor": "white",
           "ticks": "",
           "title": {
            "standoff": 15
           },
           "zerolinecolor": "white",
           "zerolinewidth": 2
          }
         }
        },
        "title": {
         "text": "KDE Plot for Feature \"V\" by Label"
        },
        "xaxis": {
         "title": {
          "text": "V"
         }
        },
        "yaxis": {
         "title": {
          "text": "Density"
         }
        }
       }
      }
     },
     "metadata": {},
     "output_type": "display_data"
    }
   ],
   "source": [
    "import pandas as pd\n",
    "import numpy as np\n",
    "import plotly.graph_objects as go\n",
    "from scipy.stats import gaussian_kde\n",
    "\n",
    "# Rebuild X_test dataframe with column names and true labels\n",
    "X_test_df = pd.DataFrame(X_test_scaled, columns=X.columns)\n",
    "X_test_df['label'] = y_test.values\n",
    "\n",
    "# Get top 3 features from permutation importance\n",
    "top_features = importance_df.head(3)['Feature'].tolist()\n",
    "\n",
    "# Plot KDE for each top feature\n",
    "for feature in top_features:\n",
    "    fig = go.Figure()\n",
    "\n",
    "    # Plot KDE for each class\n",
    "    for label in sorted(X_test_df['label'].unique()):\n",
    "        # Extract values for this label/class\n",
    "        data = X_test_df[X_test_df['label'] == label][feature].values\n",
    "\n",
    "        # Compute KDE\n",
    "        kde = gaussian_kde(data)\n",
    "        x_vals = np.linspace(data.min(), data.max(), 200)\n",
    "        y_vals = kde(x_vals)\n",
    "\n",
    "        # Add curve to figure\n",
    "        fig.add_trace(go.Scatter(\n",
    "            x=x_vals,\n",
    "            y=y_vals,\n",
    "            mode='lines',\n",
    "            name=f'Label {label}'\n",
    "        ))\n",
    "\n",
    "    # Update layout\n",
    "    fig.update_layout(\n",
    "        title=f'KDE Plot for Feature \"{feature}\" by Label',\n",
    "        xaxis_title=feature,\n",
    "        yaxis_title='Density'\n",
    "    )\n",
    "\n",
    "    fig.show()\n"
   ]
  },
  {
   "cell_type": "markdown",
   "id": "92655ef8",
   "metadata": {},
   "source": [
    "###  Training vs Validation Accuracy "
   ]
  },
  {
   "cell_type": "code",
   "execution_count": 7,
   "id": "f4815a15",
   "metadata": {},
   "outputs": [
    {
     "data": {
      "application/vnd.plotly.v1+json": {
       "config": {
        "plotlyServerURL": "https://plot.ly"
       },
       "data": [
        {
         "mode": "lines+markers",
         "name": "Training Accuracy",
         "type": "scatter",
         "x": {
          "bdata": "mpmZmZmZuT+amZmZmZnJPzQzMzMzM9M/mpmZmZmZ2T8AAAAAAADgPzMzMzMzM+M/Z2ZmZmZm5j+amZmZmZnpP83MzMzMzOw/",
          "dtype": "f8"
         },
         "y": [
          0.9459219858156028,
          0.9492464539007093,
          0.9550893780469789,
          0.9550138504155125,
          0.9574543520652367,
          0.9574530949918747,
          0.9577054577687729,
          0.95850645393607,
          0.958437977052248
         ]
        },
        {
         "mode": "lines+markers",
         "name": "Validation Accuracy",
         "type": "scatter",
         "x": {
          "bdata": "mpmZmZmZuT+amZmZmZnJPzQzMzMzM9M/mpmZmZmZ2T8AAAAAAADgPzMzMzMzM+M/Z2ZmZmZm5j+amZmZmZnpP83MzMzMzOw/",
          "dtype": "f8"
         },
         "y": [
          0.9436270164864385,
          0.9494770430774685,
          0.9521361460733913,
          0.9531997872717604,
          0.9542634284701295,
          0.9549725226023754,
          0.9547952490693139,
          0.9547952490693139,
          0.9551497961354369
         ]
        }
       ],
       "layout": {
        "template": {
         "data": {
          "bar": [
           {
            "error_x": {
             "color": "#2a3f5f"
            },
            "error_y": {
             "color": "#2a3f5f"
            },
            "marker": {
             "line": {
              "color": "#E5ECF6",
              "width": 0.5
             },
             "pattern": {
              "fillmode": "overlay",
              "size": 10,
              "solidity": 0.2
             }
            },
            "type": "bar"
           }
          ],
          "barpolar": [
           {
            "marker": {
             "line": {
              "color": "#E5ECF6",
              "width": 0.5
             },
             "pattern": {
              "fillmode": "overlay",
              "size": 10,
              "solidity": 0.2
             }
            },
            "type": "barpolar"
           }
          ],
          "carpet": [
           {
            "aaxis": {
             "endlinecolor": "#2a3f5f",
             "gridcolor": "white",
             "linecolor": "white",
             "minorgridcolor": "white",
             "startlinecolor": "#2a3f5f"
            },
            "baxis": {
             "endlinecolor": "#2a3f5f",
             "gridcolor": "white",
             "linecolor": "white",
             "minorgridcolor": "white",
             "startlinecolor": "#2a3f5f"
            },
            "type": "carpet"
           }
          ],
          "choropleth": [
           {
            "colorbar": {
             "outlinewidth": 0,
             "ticks": ""
            },
            "type": "choropleth"
           }
          ],
          "contour": [
           {
            "colorbar": {
             "outlinewidth": 0,
             "ticks": ""
            },
            "colorscale": [
             [
              0,
              "#0d0887"
             ],
             [
              0.1111111111111111,
              "#46039f"
             ],
             [
              0.2222222222222222,
              "#7201a8"
             ],
             [
              0.3333333333333333,
              "#9c179e"
             ],
             [
              0.4444444444444444,
              "#bd3786"
             ],
             [
              0.5555555555555556,
              "#d8576b"
             ],
             [
              0.6666666666666666,
              "#ed7953"
             ],
             [
              0.7777777777777778,
              "#fb9f3a"
             ],
             [
              0.8888888888888888,
              "#fdca26"
             ],
             [
              1,
              "#f0f921"
             ]
            ],
            "type": "contour"
           }
          ],
          "contourcarpet": [
           {
            "colorbar": {
             "outlinewidth": 0,
             "ticks": ""
            },
            "type": "contourcarpet"
           }
          ],
          "heatmap": [
           {
            "colorbar": {
             "outlinewidth": 0,
             "ticks": ""
            },
            "colorscale": [
             [
              0,
              "#0d0887"
             ],
             [
              0.1111111111111111,
              "#46039f"
             ],
             [
              0.2222222222222222,
              "#7201a8"
             ],
             [
              0.3333333333333333,
              "#9c179e"
             ],
             [
              0.4444444444444444,
              "#bd3786"
             ],
             [
              0.5555555555555556,
              "#d8576b"
             ],
             [
              0.6666666666666666,
              "#ed7953"
             ],
             [
              0.7777777777777778,
              "#fb9f3a"
             ],
             [
              0.8888888888888888,
              "#fdca26"
             ],
             [
              1,
              "#f0f921"
             ]
            ],
            "type": "heatmap"
           }
          ],
          "histogram": [
           {
            "marker": {
             "pattern": {
              "fillmode": "overlay",
              "size": 10,
              "solidity": 0.2
             }
            },
            "type": "histogram"
           }
          ],
          "histogram2d": [
           {
            "colorbar": {
             "outlinewidth": 0,
             "ticks": ""
            },
            "colorscale": [
             [
              0,
              "#0d0887"
             ],
             [
              0.1111111111111111,
              "#46039f"
             ],
             [
              0.2222222222222222,
              "#7201a8"
             ],
             [
              0.3333333333333333,
              "#9c179e"
             ],
             [
              0.4444444444444444,
              "#bd3786"
             ],
             [
              0.5555555555555556,
              "#d8576b"
             ],
             [
              0.6666666666666666,
              "#ed7953"
             ],
             [
              0.7777777777777778,
              "#fb9f3a"
             ],
             [
              0.8888888888888888,
              "#fdca26"
             ],
             [
              1,
              "#f0f921"
             ]
            ],
            "type": "histogram2d"
           }
          ],
          "histogram2dcontour": [
           {
            "colorbar": {
             "outlinewidth": 0,
             "ticks": ""
            },
            "colorscale": [
             [
              0,
              "#0d0887"
             ],
             [
              0.1111111111111111,
              "#46039f"
             ],
             [
              0.2222222222222222,
              "#7201a8"
             ],
             [
              0.3333333333333333,
              "#9c179e"
             ],
             [
              0.4444444444444444,
              "#bd3786"
             ],
             [
              0.5555555555555556,
              "#d8576b"
             ],
             [
              0.6666666666666666,
              "#ed7953"
             ],
             [
              0.7777777777777778,
              "#fb9f3a"
             ],
             [
              0.8888888888888888,
              "#fdca26"
             ],
             [
              1,
              "#f0f921"
             ]
            ],
            "type": "histogram2dcontour"
           }
          ],
          "mesh3d": [
           {
            "colorbar": {
             "outlinewidth": 0,
             "ticks": ""
            },
            "type": "mesh3d"
           }
          ],
          "parcoords": [
           {
            "line": {
             "colorbar": {
              "outlinewidth": 0,
              "ticks": ""
             }
            },
            "type": "parcoords"
           }
          ],
          "pie": [
           {
            "automargin": true,
            "type": "pie"
           }
          ],
          "scatter": [
           {
            "fillpattern": {
             "fillmode": "overlay",
             "size": 10,
             "solidity": 0.2
            },
            "type": "scatter"
           }
          ],
          "scatter3d": [
           {
            "line": {
             "colorbar": {
              "outlinewidth": 0,
              "ticks": ""
             }
            },
            "marker": {
             "colorbar": {
              "outlinewidth": 0,
              "ticks": ""
             }
            },
            "type": "scatter3d"
           }
          ],
          "scattercarpet": [
           {
            "marker": {
             "colorbar": {
              "outlinewidth": 0,
              "ticks": ""
             }
            },
            "type": "scattercarpet"
           }
          ],
          "scattergeo": [
           {
            "marker": {
             "colorbar": {
              "outlinewidth": 0,
              "ticks": ""
             }
            },
            "type": "scattergeo"
           }
          ],
          "scattergl": [
           {
            "marker": {
             "colorbar": {
              "outlinewidth": 0,
              "ticks": ""
             }
            },
            "type": "scattergl"
           }
          ],
          "scattermap": [
           {
            "marker": {
             "colorbar": {
              "outlinewidth": 0,
              "ticks": ""
             }
            },
            "type": "scattermap"
           }
          ],
          "scattermapbox": [
           {
            "marker": {
             "colorbar": {
              "outlinewidth": 0,
              "ticks": ""
             }
            },
            "type": "scattermapbox"
           }
          ],
          "scatterpolar": [
           {
            "marker": {
             "colorbar": {
              "outlinewidth": 0,
              "ticks": ""
             }
            },
            "type": "scatterpolar"
           }
          ],
          "scatterpolargl": [
           {
            "marker": {
             "colorbar": {
              "outlinewidth": 0,
              "ticks": ""
             }
            },
            "type": "scatterpolargl"
           }
          ],
          "scatterternary": [
           {
            "marker": {
             "colorbar": {
              "outlinewidth": 0,
              "ticks": ""
             }
            },
            "type": "scatterternary"
           }
          ],
          "surface": [
           {
            "colorbar": {
             "outlinewidth": 0,
             "ticks": ""
            },
            "colorscale": [
             [
              0,
              "#0d0887"
             ],
             [
              0.1111111111111111,
              "#46039f"
             ],
             [
              0.2222222222222222,
              "#7201a8"
             ],
             [
              0.3333333333333333,
              "#9c179e"
             ],
             [
              0.4444444444444444,
              "#bd3786"
             ],
             [
              0.5555555555555556,
              "#d8576b"
             ],
             [
              0.6666666666666666,
              "#ed7953"
             ],
             [
              0.7777777777777778,
              "#fb9f3a"
             ],
             [
              0.8888888888888888,
              "#fdca26"
             ],
             [
              1,
              "#f0f921"
             ]
            ],
            "type": "surface"
           }
          ],
          "table": [
           {
            "cells": {
             "fill": {
              "color": "#EBF0F8"
             },
             "line": {
              "color": "white"
             }
            },
            "header": {
             "fill": {
              "color": "#C8D4E3"
             },
             "line": {
              "color": "white"
             }
            },
            "type": "table"
           }
          ]
         },
         "layout": {
          "annotationdefaults": {
           "arrowcolor": "#2a3f5f",
           "arrowhead": 0,
           "arrowwidth": 1
          },
          "autotypenumbers": "strict",
          "coloraxis": {
           "colorbar": {
            "outlinewidth": 0,
            "ticks": ""
           }
          },
          "colorscale": {
           "diverging": [
            [
             0,
             "#8e0152"
            ],
            [
             0.1,
             "#c51b7d"
            ],
            [
             0.2,
             "#de77ae"
            ],
            [
             0.3,
             "#f1b6da"
            ],
            [
             0.4,
             "#fde0ef"
            ],
            [
             0.5,
             "#f7f7f7"
            ],
            [
             0.6,
             "#e6f5d0"
            ],
            [
             0.7,
             "#b8e186"
            ],
            [
             0.8,
             "#7fbc41"
            ],
            [
             0.9,
             "#4d9221"
            ],
            [
             1,
             "#276419"
            ]
           ],
           "sequential": [
            [
             0,
             "#0d0887"
            ],
            [
             0.1111111111111111,
             "#46039f"
            ],
            [
             0.2222222222222222,
             "#7201a8"
            ],
            [
             0.3333333333333333,
             "#9c179e"
            ],
            [
             0.4444444444444444,
             "#bd3786"
            ],
            [
             0.5555555555555556,
             "#d8576b"
            ],
            [
             0.6666666666666666,
             "#ed7953"
            ],
            [
             0.7777777777777778,
             "#fb9f3a"
            ],
            [
             0.8888888888888888,
             "#fdca26"
            ],
            [
             1,
             "#f0f921"
            ]
           ],
           "sequentialminus": [
            [
             0,
             "#0d0887"
            ],
            [
             0.1111111111111111,
             "#46039f"
            ],
            [
             0.2222222222222222,
             "#7201a8"
            ],
            [
             0.3333333333333333,
             "#9c179e"
            ],
            [
             0.4444444444444444,
             "#bd3786"
            ],
            [
             0.5555555555555556,
             "#d8576b"
            ],
            [
             0.6666666666666666,
             "#ed7953"
            ],
            [
             0.7777777777777778,
             "#fb9f3a"
            ],
            [
             0.8888888888888888,
             "#fdca26"
            ],
            [
             1,
             "#f0f921"
            ]
           ]
          },
          "colorway": [
           "#636efa",
           "#EF553B",
           "#00cc96",
           "#ab63fa",
           "#FFA15A",
           "#19d3f3",
           "#FF6692",
           "#B6E880",
           "#FF97FF",
           "#FECB52"
          ],
          "font": {
           "color": "#2a3f5f"
          },
          "geo": {
           "bgcolor": "white",
           "lakecolor": "white",
           "landcolor": "#E5ECF6",
           "showlakes": true,
           "showland": true,
           "subunitcolor": "white"
          },
          "hoverlabel": {
           "align": "left"
          },
          "hovermode": "closest",
          "mapbox": {
           "style": "light"
          },
          "paper_bgcolor": "white",
          "plot_bgcolor": "#E5ECF6",
          "polar": {
           "angularaxis": {
            "gridcolor": "white",
            "linecolor": "white",
            "ticks": ""
           },
           "bgcolor": "#E5ECF6",
           "radialaxis": {
            "gridcolor": "white",
            "linecolor": "white",
            "ticks": ""
           }
          },
          "scene": {
           "xaxis": {
            "backgroundcolor": "#E5ECF6",
            "gridcolor": "white",
            "gridwidth": 2,
            "linecolor": "white",
            "showbackground": true,
            "ticks": "",
            "zerolinecolor": "white"
           },
           "yaxis": {
            "backgroundcolor": "#E5ECF6",
            "gridcolor": "white",
            "gridwidth": 2,
            "linecolor": "white",
            "showbackground": true,
            "ticks": "",
            "zerolinecolor": "white"
           },
           "zaxis": {
            "backgroundcolor": "#E5ECF6",
            "gridcolor": "white",
            "gridwidth": 2,
            "linecolor": "white",
            "showbackground": true,
            "ticks": "",
            "zerolinecolor": "white"
           }
          },
          "shapedefaults": {
           "line": {
            "color": "#2a3f5f"
           }
          },
          "ternary": {
           "aaxis": {
            "gridcolor": "white",
            "linecolor": "white",
            "ticks": ""
           },
           "baxis": {
            "gridcolor": "white",
            "linecolor": "white",
            "ticks": ""
           },
           "bgcolor": "#E5ECF6",
           "caxis": {
            "gridcolor": "white",
            "linecolor": "white",
            "ticks": ""
           }
          },
          "title": {
           "x": 0.05
          },
          "xaxis": {
           "automargin": true,
           "gridcolor": "white",
           "linecolor": "white",
           "ticks": "",
           "title": {
            "standoff": 15
           },
           "zerolinecolor": "white",
           "zerolinewidth": 2
          },
          "yaxis": {
           "automargin": true,
           "gridcolor": "white",
           "linecolor": "white",
           "ticks": "",
           "title": {
            "standoff": 15
           },
           "zerolinecolor": "white",
           "zerolinewidth": 2
          }
         }
        },
        "title": {
         "text": "Learning Curve - SVM Classifier"
        },
        "xaxis": {
         "title": {
          "text": "Training Set Size Proportion"
         }
        },
        "yaxis": {
         "range": [
          0,
          1
         ],
         "title": {
          "text": "Accuracy"
         }
        }
       }
      }
     },
     "metadata": {},
     "output_type": "display_data"
    }
   ],
   "source": [
    "import numpy as np\n",
    "import plotly.graph_objects as go\n",
    "from sklearn.svm import SVC\n",
    "from sklearn.model_selection import train_test_split\n",
    "\n",
    "train_sizes = np.linspace(0.1, 0.9, 9)  # Avoid train_size=1.0\n",
    "train_scores = []\n",
    "val_scores = []\n",
    "\n",
    "for size in train_sizes:\n",
    "    X_train_part, _, y_train_part, _ = train_test_split(\n",
    "        X_train_scaled, y_train, train_size=size, random_state=42\n",
    "    )\n",
    "    model = SVC(kernel='rbf', C=1.0, gamma='scale')\n",
    "    model.fit(X_train_part, y_train_part)\n",
    "    train_scores.append(model.score(X_train_part, y_train_part))\n",
    "    val_scores.append(model.score(X_test_scaled, y_test))\n",
    "\n",
    "fig = go.Figure()\n",
    "fig.add_trace(go.Scatter(x=train_sizes, y=train_scores, mode='lines+markers', name='Training Accuracy'))\n",
    "fig.add_trace(go.Scatter(x=train_sizes, y=val_scores, mode='lines+markers', name='Validation Accuracy'))\n",
    "\n",
    "fig.update_layout(\n",
    "    title='Learning Curve - SVM Classifier',\n",
    "    xaxis_title='Training Set Size Proportion',\n",
    "    yaxis_title='Accuracy',\n",
    "    yaxis=dict(range=[0, 1])\n",
    ")\n",
    "fig.show()\n"
   ]
  }
 ],
 "metadata": {
  "kernelspec": {
   "display_name": "Python 3",
   "language": "python",
   "name": "python3"
  },
  "language_info": {
   "codemirror_mode": {
    "name": "ipython",
    "version": 3
   },
   "file_extension": ".py",
   "mimetype": "text/x-python",
   "name": "python",
   "nbconvert_exporter": "python",
   "pygments_lexer": "ipython3",
   "version": "3.13.1"
  }
 },
 "nbformat": 4,
 "nbformat_minor": 5
}
