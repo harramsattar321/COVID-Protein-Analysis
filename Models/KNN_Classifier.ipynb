{
 "cells": [
  {
   "cell_type": "markdown",
   "id": "5e669e45",
   "metadata": {},
   "source": [
    "### KNN Classifier"
   ]
  },
  {
   "cell_type": "code",
   "execution_count": 2,
   "id": "f658d837",
   "metadata": {},
   "outputs": [
    {
     "name": "stdout",
     "output_type": "stream",
     "text": [
      "Accuracy: 0.98\n",
      "\n",
      "Classification Report:\n",
      "               precision    recall  f1-score   support\n",
      "\n",
      "           0       0.99      0.99      0.99      1526\n",
      "           1       0.94      0.96      0.95      1134\n",
      "           2       1.00      0.99      1.00      1961\n",
      "           3       0.96      0.94      0.95      1020\n",
      "\n",
      "    accuracy                           0.98      5641\n",
      "   macro avg       0.97      0.97      0.97      5641\n",
      "weighted avg       0.98      0.98      0.98      5641\n",
      "\n"
     ]
    }
   ],
   "source": [
    "import pandas as pd\n",
    "from sklearn.model_selection import train_test_split\n",
    "from sklearn.preprocessing import StandardScaler\n",
    "from sklearn.neighbors import KNeighborsClassifier\n",
    "from sklearn.metrics import accuracy_score, classification_report\n",
    "\n",
    "# Load the dataset\n",
    "df = pd.read_csv(\"../genome_sequences_cleaned.csv\")\n",
    "\n",
    "# Separate features and label\n",
    "X = df.drop(columns=['label_encoded'])\n",
    "y = df['label_encoded']\n",
    "\n",
    "# Split the data into training and testing sets (80% train, 20% test)\n",
    "X_train, X_test, y_train, y_test = train_test_split(X, y, test_size=0.2, random_state=42)\n",
    "\n",
    "# Normalize the features using StandardScaler\n",
    "scaler = StandardScaler()\n",
    "X_train_scaled = scaler.fit_transform(X_train)\n",
    "X_test_scaled = scaler.transform(X_test)\n",
    "\n",
    "# Initialize the KNN model (k=3, can be tuned)\n",
    "knn = KNeighborsClassifier(n_neighbors=3)\n",
    "\n",
    "# Train the KNN model\n",
    "knn.fit(X_train_scaled, y_train)\n",
    "\n",
    "# Predict on the test set\n",
    "y_pred = knn.predict(X_test_scaled)\n",
    "\n",
    "# Evaluate model performance\n",
    "accuracy = accuracy_score(y_test, y_pred)\n",
    "print(f\"Accuracy: {accuracy:.2f}\")\n",
    "print(\"\\nClassification Report:\\n\", classification_report(y_test, y_pred))\n"
   ]
  },
  {
   "cell_type": "markdown",
   "id": "e9ac6278",
   "metadata": {},
   "source": [
    "### Confusion Matrix with Plotly"
   ]
  },
  {
   "cell_type": "code",
   "execution_count": 3,
   "id": "5662dffc",
   "metadata": {},
   "outputs": [
    {
     "data": {
      "application/vnd.plotly.v1+json": {
       "config": {
        "plotlyServerURL": "https://plot.ly"
       },
       "data": [
        {
         "colorscale": [
          [
           0,
           "rgb(247,251,255)"
          ],
          [
           0.125,
           "rgb(222,235,247)"
          ],
          [
           0.25,
           "rgb(198,219,239)"
          ],
          [
           0.375,
           "rgb(158,202,225)"
          ],
          [
           0.5,
           "rgb(107,174,214)"
          ],
          [
           0.625,
           "rgb(66,146,198)"
          ],
          [
           0.75,
           "rgb(33,113,181)"
          ],
          [
           0.875,
           "rgb(8,81,156)"
          ],
          [
           1,
           "rgb(8,48,107)"
          ]
         ],
         "reversescale": false,
         "showscale": true,
         "type": "heatmap",
         "x": [
          0,
          1,
          2,
          3
         ],
         "y": [
          0,
          1,
          2,
          3
         ],
         "z": {
          "bdata": "7AUIAAAAAgATAEIEAQAYAAAAAACeBwsAAQBBAAAAugM=",
          "dtype": "i2",
          "shape": "4, 4"
         }
        }
       ],
       "layout": {
        "annotations": [
         {
          "font": {
           "color": "#FFFFFF"
          },
          "showarrow": false,
          "text": "1516",
          "x": 0,
          "xref": "x",
          "y": 0,
          "yref": "y"
         },
         {
          "font": {
           "color": "#000000"
          },
          "showarrow": false,
          "text": "8",
          "x": 1,
          "xref": "x",
          "y": 0,
          "yref": "y"
         },
         {
          "font": {
           "color": "#000000"
          },
          "showarrow": false,
          "text": "0",
          "x": 2,
          "xref": "x",
          "y": 0,
          "yref": "y"
         },
         {
          "font": {
           "color": "#000000"
          },
          "showarrow": false,
          "text": "2",
          "x": 3,
          "xref": "x",
          "y": 0,
          "yref": "y"
         },
         {
          "font": {
           "color": "#000000"
          },
          "showarrow": false,
          "text": "19",
          "x": 0,
          "xref": "x",
          "y": 1,
          "yref": "y"
         },
         {
          "font": {
           "color": "#FFFFFF"
          },
          "showarrow": false,
          "text": "1090",
          "x": 1,
          "xref": "x",
          "y": 1,
          "yref": "y"
         },
         {
          "font": {
           "color": "#000000"
          },
          "showarrow": false,
          "text": "1",
          "x": 2,
          "xref": "x",
          "y": 1,
          "yref": "y"
         },
         {
          "font": {
           "color": "#000000"
          },
          "showarrow": false,
          "text": "24",
          "x": 3,
          "xref": "x",
          "y": 1,
          "yref": "y"
         },
         {
          "font": {
           "color": "#000000"
          },
          "showarrow": false,
          "text": "0",
          "x": 0,
          "xref": "x",
          "y": 2,
          "yref": "y"
         },
         {
          "font": {
           "color": "#000000"
          },
          "showarrow": false,
          "text": "0",
          "x": 1,
          "xref": "x",
          "y": 2,
          "yref": "y"
         },
         {
          "font": {
           "color": "#FFFFFF"
          },
          "showarrow": false,
          "text": "1950",
          "x": 2,
          "xref": "x",
          "y": 2,
          "yref": "y"
         },
         {
          "font": {
           "color": "#000000"
          },
          "showarrow": false,
          "text": "11",
          "x": 3,
          "xref": "x",
          "y": 2,
          "yref": "y"
         },
         {
          "font": {
           "color": "#000000"
          },
          "showarrow": false,
          "text": "1",
          "x": 0,
          "xref": "x",
          "y": 3,
          "yref": "y"
         },
         {
          "font": {
           "color": "#000000"
          },
          "showarrow": false,
          "text": "65",
          "x": 1,
          "xref": "x",
          "y": 3,
          "yref": "y"
         },
         {
          "font": {
           "color": "#000000"
          },
          "showarrow": false,
          "text": "0",
          "x": 2,
          "xref": "x",
          "y": 3,
          "yref": "y"
         },
         {
          "font": {
           "color": "#000000"
          },
          "showarrow": false,
          "text": "954",
          "x": 3,
          "xref": "x",
          "y": 3,
          "yref": "y"
         }
        ],
        "template": {
         "data": {
          "bar": [
           {
            "error_x": {
             "color": "#2a3f5f"
            },
            "error_y": {
             "color": "#2a3f5f"
            },
            "marker": {
             "line": {
              "color": "#E5ECF6",
              "width": 0.5
             },
             "pattern": {
              "fillmode": "overlay",
              "size": 10,
              "solidity": 0.2
             }
            },
            "type": "bar"
           }
          ],
          "barpolar": [
           {
            "marker": {
             "line": {
              "color": "#E5ECF6",
              "width": 0.5
             },
             "pattern": {
              "fillmode": "overlay",
              "size": 10,
              "solidity": 0.2
             }
            },
            "type": "barpolar"
           }
          ],
          "carpet": [
           {
            "aaxis": {
             "endlinecolor": "#2a3f5f",
             "gridcolor": "white",
             "linecolor": "white",
             "minorgridcolor": "white",
             "startlinecolor": "#2a3f5f"
            },
            "baxis": {
             "endlinecolor": "#2a3f5f",
             "gridcolor": "white",
             "linecolor": "white",
             "minorgridcolor": "white",
             "startlinecolor": "#2a3f5f"
            },
            "type": "carpet"
           }
          ],
          "choropleth": [
           {
            "colorbar": {
             "outlinewidth": 0,
             "ticks": ""
            },
            "type": "choropleth"
           }
          ],
          "contour": [
           {
            "colorbar": {
             "outlinewidth": 0,
             "ticks": ""
            },
            "colorscale": [
             [
              0,
              "#0d0887"
             ],
             [
              0.1111111111111111,
              "#46039f"
             ],
             [
              0.2222222222222222,
              "#7201a8"
             ],
             [
              0.3333333333333333,
              "#9c179e"
             ],
             [
              0.4444444444444444,
              "#bd3786"
             ],
             [
              0.5555555555555556,
              "#d8576b"
             ],
             [
              0.6666666666666666,
              "#ed7953"
             ],
             [
              0.7777777777777778,
              "#fb9f3a"
             ],
             [
              0.8888888888888888,
              "#fdca26"
             ],
             [
              1,
              "#f0f921"
             ]
            ],
            "type": "contour"
           }
          ],
          "contourcarpet": [
           {
            "colorbar": {
             "outlinewidth": 0,
             "ticks": ""
            },
            "type": "contourcarpet"
           }
          ],
          "heatmap": [
           {
            "colorbar": {
             "outlinewidth": 0,
             "ticks": ""
            },
            "colorscale": [
             [
              0,
              "#0d0887"
             ],
             [
              0.1111111111111111,
              "#46039f"
             ],
             [
              0.2222222222222222,
              "#7201a8"
             ],
             [
              0.3333333333333333,
              "#9c179e"
             ],
             [
              0.4444444444444444,
              "#bd3786"
             ],
             [
              0.5555555555555556,
              "#d8576b"
             ],
             [
              0.6666666666666666,
              "#ed7953"
             ],
             [
              0.7777777777777778,
              "#fb9f3a"
             ],
             [
              0.8888888888888888,
              "#fdca26"
             ],
             [
              1,
              "#f0f921"
             ]
            ],
            "type": "heatmap"
           }
          ],
          "histogram": [
           {
            "marker": {
             "pattern": {
              "fillmode": "overlay",
              "size": 10,
              "solidity": 0.2
             }
            },
            "type": "histogram"
           }
          ],
          "histogram2d": [
           {
            "colorbar": {
             "outlinewidth": 0,
             "ticks": ""
            },
            "colorscale": [
             [
              0,
              "#0d0887"
             ],
             [
              0.1111111111111111,
              "#46039f"
             ],
             [
              0.2222222222222222,
              "#7201a8"
             ],
             [
              0.3333333333333333,
              "#9c179e"
             ],
             [
              0.4444444444444444,
              "#bd3786"
             ],
             [
              0.5555555555555556,
              "#d8576b"
             ],
             [
              0.6666666666666666,
              "#ed7953"
             ],
             [
              0.7777777777777778,
              "#fb9f3a"
             ],
             [
              0.8888888888888888,
              "#fdca26"
             ],
             [
              1,
              "#f0f921"
             ]
            ],
            "type": "histogram2d"
           }
          ],
          "histogram2dcontour": [
           {
            "colorbar": {
             "outlinewidth": 0,
             "ticks": ""
            },
            "colorscale": [
             [
              0,
              "#0d0887"
             ],
             [
              0.1111111111111111,
              "#46039f"
             ],
             [
              0.2222222222222222,
              "#7201a8"
             ],
             [
              0.3333333333333333,
              "#9c179e"
             ],
             [
              0.4444444444444444,
              "#bd3786"
             ],
             [
              0.5555555555555556,
              "#d8576b"
             ],
             [
              0.6666666666666666,
              "#ed7953"
             ],
             [
              0.7777777777777778,
              "#fb9f3a"
             ],
             [
              0.8888888888888888,
              "#fdca26"
             ],
             [
              1,
              "#f0f921"
             ]
            ],
            "type": "histogram2dcontour"
           }
          ],
          "mesh3d": [
           {
            "colorbar": {
             "outlinewidth": 0,
             "ticks": ""
            },
            "type": "mesh3d"
           }
          ],
          "parcoords": [
           {
            "line": {
             "colorbar": {
              "outlinewidth": 0,
              "ticks": ""
             }
            },
            "type": "parcoords"
           }
          ],
          "pie": [
           {
            "automargin": true,
            "type": "pie"
           }
          ],
          "scatter": [
           {
            "fillpattern": {
             "fillmode": "overlay",
             "size": 10,
             "solidity": 0.2
            },
            "type": "scatter"
           }
          ],
          "scatter3d": [
           {
            "line": {
             "colorbar": {
              "outlinewidth": 0,
              "ticks": ""
             }
            },
            "marker": {
             "colorbar": {
              "outlinewidth": 0,
              "ticks": ""
             }
            },
            "type": "scatter3d"
           }
          ],
          "scattercarpet": [
           {
            "marker": {
             "colorbar": {
              "outlinewidth": 0,
              "ticks": ""
             }
            },
            "type": "scattercarpet"
           }
          ],
          "scattergeo": [
           {
            "marker": {
             "colorbar": {
              "outlinewidth": 0,
              "ticks": ""
             }
            },
            "type": "scattergeo"
           }
          ],
          "scattergl": [
           {
            "marker": {
             "colorbar": {
              "outlinewidth": 0,
              "ticks": ""
             }
            },
            "type": "scattergl"
           }
          ],
          "scattermap": [
           {
            "marker": {
             "colorbar": {
              "outlinewidth": 0,
              "ticks": ""
             }
            },
            "type": "scattermap"
           }
          ],
          "scattermapbox": [
           {
            "marker": {
             "colorbar": {
              "outlinewidth": 0,
              "ticks": ""
             }
            },
            "type": "scattermapbox"
           }
          ],
          "scatterpolar": [
           {
            "marker": {
             "colorbar": {
              "outlinewidth": 0,
              "ticks": ""
             }
            },
            "type": "scatterpolar"
           }
          ],
          "scatterpolargl": [
           {
            "marker": {
             "colorbar": {
              "outlinewidth": 0,
              "ticks": ""
             }
            },
            "type": "scatterpolargl"
           }
          ],
          "scatterternary": [
           {
            "marker": {
             "colorbar": {
              "outlinewidth": 0,
              "ticks": ""
             }
            },
            "type": "scatterternary"
           }
          ],
          "surface": [
           {
            "colorbar": {
             "outlinewidth": 0,
             "ticks": ""
            },
            "colorscale": [
             [
              0,
              "#0d0887"
             ],
             [
              0.1111111111111111,
              "#46039f"
             ],
             [
              0.2222222222222222,
              "#7201a8"
             ],
             [
              0.3333333333333333,
              "#9c179e"
             ],
             [
              0.4444444444444444,
              "#bd3786"
             ],
             [
              0.5555555555555556,
              "#d8576b"
             ],
             [
              0.6666666666666666,
              "#ed7953"
             ],
             [
              0.7777777777777778,
              "#fb9f3a"
             ],
             [
              0.8888888888888888,
              "#fdca26"
             ],
             [
              1,
              "#f0f921"
             ]
            ],
            "type": "surface"
           }
          ],
          "table": [
           {
            "cells": {
             "fill": {
              "color": "#EBF0F8"
             },
             "line": {
              "color": "white"
             }
            },
            "header": {
             "fill": {
              "color": "#C8D4E3"
             },
             "line": {
              "color": "white"
             }
            },
            "type": "table"
           }
          ]
         },
         "layout": {
          "annotationdefaults": {
           "arrowcolor": "#2a3f5f",
           "arrowhead": 0,
           "arrowwidth": 1
          },
          "autotypenumbers": "strict",
          "coloraxis": {
           "colorbar": {
            "outlinewidth": 0,
            "ticks": ""
           }
          },
          "colorscale": {
           "diverging": [
            [
             0,
             "#8e0152"
            ],
            [
             0.1,
             "#c51b7d"
            ],
            [
             0.2,
             "#de77ae"
            ],
            [
             0.3,
             "#f1b6da"
            ],
            [
             0.4,
             "#fde0ef"
            ],
            [
             0.5,
             "#f7f7f7"
            ],
            [
             0.6,
             "#e6f5d0"
            ],
            [
             0.7,
             "#b8e186"
            ],
            [
             0.8,
             "#7fbc41"
            ],
            [
             0.9,
             "#4d9221"
            ],
            [
             1,
             "#276419"
            ]
           ],
           "sequential": [
            [
             0,
             "#0d0887"
            ],
            [
             0.1111111111111111,
             "#46039f"
            ],
            [
             0.2222222222222222,
             "#7201a8"
            ],
            [
             0.3333333333333333,
             "#9c179e"
            ],
            [
             0.4444444444444444,
             "#bd3786"
            ],
            [
             0.5555555555555556,
             "#d8576b"
            ],
            [
             0.6666666666666666,
             "#ed7953"
            ],
            [
             0.7777777777777778,
             "#fb9f3a"
            ],
            [
             0.8888888888888888,
             "#fdca26"
            ],
            [
             1,
             "#f0f921"
            ]
           ],
           "sequentialminus": [
            [
             0,
             "#0d0887"
            ],
            [
             0.1111111111111111,
             "#46039f"
            ],
            [
             0.2222222222222222,
             "#7201a8"
            ],
            [
             0.3333333333333333,
             "#9c179e"
            ],
            [
             0.4444444444444444,
             "#bd3786"
            ],
            [
             0.5555555555555556,
             "#d8576b"
            ],
            [
             0.6666666666666666,
             "#ed7953"
            ],
            [
             0.7777777777777778,
             "#fb9f3a"
            ],
            [
             0.8888888888888888,
             "#fdca26"
            ],
            [
             1,
             "#f0f921"
            ]
           ]
          },
          "colorway": [
           "#636efa",
           "#EF553B",
           "#00cc96",
           "#ab63fa",
           "#FFA15A",
           "#19d3f3",
           "#FF6692",
           "#B6E880",
           "#FF97FF",
           "#FECB52"
          ],
          "font": {
           "color": "#2a3f5f"
          },
          "geo": {
           "bgcolor": "white",
           "lakecolor": "white",
           "landcolor": "#E5ECF6",
           "showlakes": true,
           "showland": true,
           "subunitcolor": "white"
          },
          "hoverlabel": {
           "align": "left"
          },
          "hovermode": "closest",
          "mapbox": {
           "style": "light"
          },
          "paper_bgcolor": "white",
          "plot_bgcolor": "#E5ECF6",
          "polar": {
           "angularaxis": {
            "gridcolor": "white",
            "linecolor": "white",
            "ticks": ""
           },
           "bgcolor": "#E5ECF6",
           "radialaxis": {
            "gridcolor": "white",
            "linecolor": "white",
            "ticks": ""
           }
          },
          "scene": {
           "xaxis": {
            "backgroundcolor": "#E5ECF6",
            "gridcolor": "white",
            "gridwidth": 2,
            "linecolor": "white",
            "showbackground": true,
            "ticks": "",
            "zerolinecolor": "white"
           },
           "yaxis": {
            "backgroundcolor": "#E5ECF6",
            "gridcolor": "white",
            "gridwidth": 2,
            "linecolor": "white",
            "showbackground": true,
            "ticks": "",
            "zerolinecolor": "white"
           },
           "zaxis": {
            "backgroundcolor": "#E5ECF6",
            "gridcolor": "white",
            "gridwidth": 2,
            "linecolor": "white",
            "showbackground": true,
            "ticks": "",
            "zerolinecolor": "white"
           }
          },
          "shapedefaults": {
           "line": {
            "color": "#2a3f5f"
           }
          },
          "ternary": {
           "aaxis": {
            "gridcolor": "white",
            "linecolor": "white",
            "ticks": ""
           },
           "baxis": {
            "gridcolor": "white",
            "linecolor": "white",
            "ticks": ""
           },
           "bgcolor": "#E5ECF6",
           "caxis": {
            "gridcolor": "white",
            "linecolor": "white",
            "ticks": ""
           }
          },
          "title": {
           "x": 0.05
          },
          "xaxis": {
           "automargin": true,
           "gridcolor": "white",
           "linecolor": "white",
           "ticks": "",
           "title": {
            "standoff": 15
           },
           "zerolinecolor": "white",
           "zerolinewidth": 2
          },
          "yaxis": {
           "automargin": true,
           "gridcolor": "white",
           "linecolor": "white",
           "ticks": "",
           "title": {
            "standoff": 15
           },
           "zerolinecolor": "white",
           "zerolinewidth": 2
          }
         }
        },
        "title": {
         "text": "Confusion Matrix - KNN Classifier"
        },
        "xaxis": {
         "dtick": 1,
         "gridcolor": "rgb(0, 0, 0)",
         "side": "top",
         "ticks": "",
         "title": {
          "text": "Predicted Label"
         }
        },
        "yaxis": {
         "dtick": 1,
         "ticks": "",
         "ticksuffix": "  ",
         "title": {
          "text": "True Label"
         }
        }
       }
      }
     },
     "metadata": {},
     "output_type": "display_data"
    }
   ],
   "source": [
    "import plotly.figure_factory as ff\n",
    "from sklearn.metrics import confusion_matrix\n",
    "import pandas as pd\n",
    "\n",
    "cm = confusion_matrix(y_test, y_pred)\n",
    "cm_df = pd.DataFrame(cm, index=sorted(y.unique()), columns=sorted(y.unique()))\n",
    "\n",
    "fig = ff.create_annotated_heatmap(\n",
    "    z=cm_df.values,\n",
    "    x=cm_df.columns.tolist(),\n",
    "    y=cm_df.index.tolist(),\n",
    "    colorscale='Blues',\n",
    "    annotation_text=cm_df.values.astype(str),\n",
    "    showscale=True\n",
    ")\n",
    "\n",
    "fig.update_layout(\n",
    "    title='Confusion Matrix - KNN Classifier',\n",
    "    xaxis_title='Predicted Label',\n",
    "    yaxis_title='True Label'\n",
    ")\n",
    "fig.show()\n"
   ]
  },
  {
   "cell_type": "markdown",
   "id": "ddb5ee82",
   "metadata": {},
   "source": [
    "### Feature Importance (Permutation Method)"
   ]
  },
  {
   "cell_type": "code",
   "execution_count": 4,
   "id": "2bd61f92",
   "metadata": {},
   "outputs": [
    {
     "data": {
      "application/vnd.plotly.v1+json": {
       "config": {
        "plotlyServerURL": "https://plot.ly"
       },
       "data": [
        {
         "hovertemplate": "Feature=%{x}<br>Importance=%{y}<extra></extra>",
         "legendgroup": "",
         "marker": {
          "color": "#636efa",
          "pattern": {
           "shape": ""
          }
         },
         "name": "",
         "orientation": "v",
         "showlegend": false,
         "textposition": "auto",
         "type": "bar",
         "x": [
          "E",
          "T",
          "Y",
          "H",
          "S",
          "V",
          "I",
          "W",
          "M",
          "G",
          "D",
          "F",
          "K",
          "N",
          "L",
          "A",
          "C",
          "R",
          "P",
          "Q",
          "Sequence_Length"
         ],
         "xaxis": "x",
         "y": {
          "bdata": "v/VR4p1hwT96pHMH12m/PyKCW9YbObw/rXMYolEWuT/ekKPn6/24PwLkYKE8iLY/dSbECXzWtT+V8SiFFdG0P6GLLb4j1rM/VWRaHZYZsT8d0e8y5DKtPx1c8aAs16k/hvM6xVZIpj/eVnt3ZK+kP94oraIRraQ/XaErva58oz8I00uWNbCiP0Z7jiYINps/NgHs5tZvlj8tjAQXeDWBPw3tWzDwxXA/",
          "dtype": "f8"
         },
         "yaxis": "y"
        }
       ],
       "layout": {
        "barmode": "relative",
        "legend": {
         "tracegroupgap": 0
        },
        "template": {
         "data": {
          "bar": [
           {
            "error_x": {
             "color": "#2a3f5f"
            },
            "error_y": {
             "color": "#2a3f5f"
            },
            "marker": {
             "line": {
              "color": "#E5ECF6",
              "width": 0.5
             },
             "pattern": {
              "fillmode": "overlay",
              "size": 10,
              "solidity": 0.2
             }
            },
            "type": "bar"
           }
          ],
          "barpolar": [
           {
            "marker": {
             "line": {
              "color": "#E5ECF6",
              "width": 0.5
             },
             "pattern": {
              "fillmode": "overlay",
              "size": 10,
              "solidity": 0.2
             }
            },
            "type": "barpolar"
           }
          ],
          "carpet": [
           {
            "aaxis": {
             "endlinecolor": "#2a3f5f",
             "gridcolor": "white",
             "linecolor": "white",
             "minorgridcolor": "white",
             "startlinecolor": "#2a3f5f"
            },
            "baxis": {
             "endlinecolor": "#2a3f5f",
             "gridcolor": "white",
             "linecolor": "white",
             "minorgridcolor": "white",
             "startlinecolor": "#2a3f5f"
            },
            "type": "carpet"
           }
          ],
          "choropleth": [
           {
            "colorbar": {
             "outlinewidth": 0,
             "ticks": ""
            },
            "type": "choropleth"
           }
          ],
          "contour": [
           {
            "colorbar": {
             "outlinewidth": 0,
             "ticks": ""
            },
            "colorscale": [
             [
              0,
              "#0d0887"
             ],
             [
              0.1111111111111111,
              "#46039f"
             ],
             [
              0.2222222222222222,
              "#7201a8"
             ],
             [
              0.3333333333333333,
              "#9c179e"
             ],
             [
              0.4444444444444444,
              "#bd3786"
             ],
             [
              0.5555555555555556,
              "#d8576b"
             ],
             [
              0.6666666666666666,
              "#ed7953"
             ],
             [
              0.7777777777777778,
              "#fb9f3a"
             ],
             [
              0.8888888888888888,
              "#fdca26"
             ],
             [
              1,
              "#f0f921"
             ]
            ],
            "type": "contour"
           }
          ],
          "contourcarpet": [
           {
            "colorbar": {
             "outlinewidth": 0,
             "ticks": ""
            },
            "type": "contourcarpet"
           }
          ],
          "heatmap": [
           {
            "colorbar": {
             "outlinewidth": 0,
             "ticks": ""
            },
            "colorscale": [
             [
              0,
              "#0d0887"
             ],
             [
              0.1111111111111111,
              "#46039f"
             ],
             [
              0.2222222222222222,
              "#7201a8"
             ],
             [
              0.3333333333333333,
              "#9c179e"
             ],
             [
              0.4444444444444444,
              "#bd3786"
             ],
             [
              0.5555555555555556,
              "#d8576b"
             ],
             [
              0.6666666666666666,
              "#ed7953"
             ],
             [
              0.7777777777777778,
              "#fb9f3a"
             ],
             [
              0.8888888888888888,
              "#fdca26"
             ],
             [
              1,
              "#f0f921"
             ]
            ],
            "type": "heatmap"
           }
          ],
          "histogram": [
           {
            "marker": {
             "pattern": {
              "fillmode": "overlay",
              "size": 10,
              "solidity": 0.2
             }
            },
            "type": "histogram"
           }
          ],
          "histogram2d": [
           {
            "colorbar": {
             "outlinewidth": 0,
             "ticks": ""
            },
            "colorscale": [
             [
              0,
              "#0d0887"
             ],
             [
              0.1111111111111111,
              "#46039f"
             ],
             [
              0.2222222222222222,
              "#7201a8"
             ],
             [
              0.3333333333333333,
              "#9c179e"
             ],
             [
              0.4444444444444444,
              "#bd3786"
             ],
             [
              0.5555555555555556,
              "#d8576b"
             ],
             [
              0.6666666666666666,
              "#ed7953"
             ],
             [
              0.7777777777777778,
              "#fb9f3a"
             ],
             [
              0.8888888888888888,
              "#fdca26"
             ],
             [
              1,
              "#f0f921"
             ]
            ],
            "type": "histogram2d"
           }
          ],
          "histogram2dcontour": [
           {
            "colorbar": {
             "outlinewidth": 0,
             "ticks": ""
            },
            "colorscale": [
             [
              0,
              "#0d0887"
             ],
             [
              0.1111111111111111,
              "#46039f"
             ],
             [
              0.2222222222222222,
              "#7201a8"
             ],
             [
              0.3333333333333333,
              "#9c179e"
             ],
             [
              0.4444444444444444,
              "#bd3786"
             ],
             [
              0.5555555555555556,
              "#d8576b"
             ],
             [
              0.6666666666666666,
              "#ed7953"
             ],
             [
              0.7777777777777778,
              "#fb9f3a"
             ],
             [
              0.8888888888888888,
              "#fdca26"
             ],
             [
              1,
              "#f0f921"
             ]
            ],
            "type": "histogram2dcontour"
           }
          ],
          "mesh3d": [
           {
            "colorbar": {
             "outlinewidth": 0,
             "ticks": ""
            },
            "type": "mesh3d"
           }
          ],
          "parcoords": [
           {
            "line": {
             "colorbar": {
              "outlinewidth": 0,
              "ticks": ""
             }
            },
            "type": "parcoords"
           }
          ],
          "pie": [
           {
            "automargin": true,
            "type": "pie"
           }
          ],
          "scatter": [
           {
            "fillpattern": {
             "fillmode": "overlay",
             "size": 10,
             "solidity": 0.2
            },
            "type": "scatter"
           }
          ],
          "scatter3d": [
           {
            "line": {
             "colorbar": {
              "outlinewidth": 0,
              "ticks": ""
             }
            },
            "marker": {
             "colorbar": {
              "outlinewidth": 0,
              "ticks": ""
             }
            },
            "type": "scatter3d"
           }
          ],
          "scattercarpet": [
           {
            "marker": {
             "colorbar": {
              "outlinewidth": 0,
              "ticks": ""
             }
            },
            "type": "scattercarpet"
           }
          ],
          "scattergeo": [
           {
            "marker": {
             "colorbar": {
              "outlinewidth": 0,
              "ticks": ""
             }
            },
            "type": "scattergeo"
           }
          ],
          "scattergl": [
           {
            "marker": {
             "colorbar": {
              "outlinewidth": 0,
              "ticks": ""
             }
            },
            "type": "scattergl"
           }
          ],
          "scattermap": [
           {
            "marker": {
             "colorbar": {
              "outlinewidth": 0,
              "ticks": ""
             }
            },
            "type": "scattermap"
           }
          ],
          "scattermapbox": [
           {
            "marker": {
             "colorbar": {
              "outlinewidth": 0,
              "ticks": ""
             }
            },
            "type": "scattermapbox"
           }
          ],
          "scatterpolar": [
           {
            "marker": {
             "colorbar": {
              "outlinewidth": 0,
              "ticks": ""
             }
            },
            "type": "scatterpolar"
           }
          ],
          "scatterpolargl": [
           {
            "marker": {
             "colorbar": {
              "outlinewidth": 0,
              "ticks": ""
             }
            },
            "type": "scatterpolargl"
           }
          ],
          "scatterternary": [
           {
            "marker": {
             "colorbar": {
              "outlinewidth": 0,
              "ticks": ""
             }
            },
            "type": "scatterternary"
           }
          ],
          "surface": [
           {
            "colorbar": {
             "outlinewidth": 0,
             "ticks": ""
            },
            "colorscale": [
             [
              0,
              "#0d0887"
             ],
             [
              0.1111111111111111,
              "#46039f"
             ],
             [
              0.2222222222222222,
              "#7201a8"
             ],
             [
              0.3333333333333333,
              "#9c179e"
             ],
             [
              0.4444444444444444,
              "#bd3786"
             ],
             [
              0.5555555555555556,
              "#d8576b"
             ],
             [
              0.6666666666666666,
              "#ed7953"
             ],
             [
              0.7777777777777778,
              "#fb9f3a"
             ],
             [
              0.8888888888888888,
              "#fdca26"
             ],
             [
              1,
              "#f0f921"
             ]
            ],
            "type": "surface"
           }
          ],
          "table": [
           {
            "cells": {
             "fill": {
              "color": "#EBF0F8"
             },
             "line": {
              "color": "white"
             }
            },
            "header": {
             "fill": {
              "color": "#C8D4E3"
             },
             "line": {
              "color": "white"
             }
            },
            "type": "table"
           }
          ]
         },
         "layout": {
          "annotationdefaults": {
           "arrowcolor": "#2a3f5f",
           "arrowhead": 0,
           "arrowwidth": 1
          },
          "autotypenumbers": "strict",
          "coloraxis": {
           "colorbar": {
            "outlinewidth": 0,
            "ticks": ""
           }
          },
          "colorscale": {
           "diverging": [
            [
             0,
             "#8e0152"
            ],
            [
             0.1,
             "#c51b7d"
            ],
            [
             0.2,
             "#de77ae"
            ],
            [
             0.3,
             "#f1b6da"
            ],
            [
             0.4,
             "#fde0ef"
            ],
            [
             0.5,
             "#f7f7f7"
            ],
            [
             0.6,
             "#e6f5d0"
            ],
            [
             0.7,
             "#b8e186"
            ],
            [
             0.8,
             "#7fbc41"
            ],
            [
             0.9,
             "#4d9221"
            ],
            [
             1,
             "#276419"
            ]
           ],
           "sequential": [
            [
             0,
             "#0d0887"
            ],
            [
             0.1111111111111111,
             "#46039f"
            ],
            [
             0.2222222222222222,
             "#7201a8"
            ],
            [
             0.3333333333333333,
             "#9c179e"
            ],
            [
             0.4444444444444444,
             "#bd3786"
            ],
            [
             0.5555555555555556,
             "#d8576b"
            ],
            [
             0.6666666666666666,
             "#ed7953"
            ],
            [
             0.7777777777777778,
             "#fb9f3a"
            ],
            [
             0.8888888888888888,
             "#fdca26"
            ],
            [
             1,
             "#f0f921"
            ]
           ],
           "sequentialminus": [
            [
             0,
             "#0d0887"
            ],
            [
             0.1111111111111111,
             "#46039f"
            ],
            [
             0.2222222222222222,
             "#7201a8"
            ],
            [
             0.3333333333333333,
             "#9c179e"
            ],
            [
             0.4444444444444444,
             "#bd3786"
            ],
            [
             0.5555555555555556,
             "#d8576b"
            ],
            [
             0.6666666666666666,
             "#ed7953"
            ],
            [
             0.7777777777777778,
             "#fb9f3a"
            ],
            [
             0.8888888888888888,
             "#fdca26"
            ],
            [
             1,
             "#f0f921"
            ]
           ]
          },
          "colorway": [
           "#636efa",
           "#EF553B",
           "#00cc96",
           "#ab63fa",
           "#FFA15A",
           "#19d3f3",
           "#FF6692",
           "#B6E880",
           "#FF97FF",
           "#FECB52"
          ],
          "font": {
           "color": "#2a3f5f"
          },
          "geo": {
           "bgcolor": "white",
           "lakecolor": "white",
           "landcolor": "#E5ECF6",
           "showlakes": true,
           "showland": true,
           "subunitcolor": "white"
          },
          "hoverlabel": {
           "align": "left"
          },
          "hovermode": "closest",
          "mapbox": {
           "style": "light"
          },
          "paper_bgcolor": "white",
          "plot_bgcolor": "#E5ECF6",
          "polar": {
           "angularaxis": {
            "gridcolor": "white",
            "linecolor": "white",
            "ticks": ""
           },
           "bgcolor": "#E5ECF6",
           "radialaxis": {
            "gridcolor": "white",
            "linecolor": "white",
            "ticks": ""
           }
          },
          "scene": {
           "xaxis": {
            "backgroundcolor": "#E5ECF6",
            "gridcolor": "white",
            "gridwidth": 2,
            "linecolor": "white",
            "showbackground": true,
            "ticks": "",
            "zerolinecolor": "white"
           },
           "yaxis": {
            "backgroundcolor": "#E5ECF6",
            "gridcolor": "white",
            "gridwidth": 2,
            "linecolor": "white",
            "showbackground": true,
            "ticks": "",
            "zerolinecolor": "white"
           },
           "zaxis": {
            "backgroundcolor": "#E5ECF6",
            "gridcolor": "white",
            "gridwidth": 2,
            "linecolor": "white",
            "showbackground": true,
            "ticks": "",
            "zerolinecolor": "white"
           }
          },
          "shapedefaults": {
           "line": {
            "color": "#2a3f5f"
           }
          },
          "ternary": {
           "aaxis": {
            "gridcolor": "white",
            "linecolor": "white",
            "ticks": ""
           },
           "baxis": {
            "gridcolor": "white",
            "linecolor": "white",
            "ticks": ""
           },
           "bgcolor": "#E5ECF6",
           "caxis": {
            "gridcolor": "white",
            "linecolor": "white",
            "ticks": ""
           }
          },
          "title": {
           "x": 0.05
          },
          "xaxis": {
           "automargin": true,
           "gridcolor": "white",
           "linecolor": "white",
           "ticks": "",
           "title": {
            "standoff": 15
           },
           "zerolinecolor": "white",
           "zerolinewidth": 2
          },
          "yaxis": {
           "automargin": true,
           "gridcolor": "white",
           "linecolor": "white",
           "ticks": "",
           "title": {
            "standoff": 15
           },
           "zerolinecolor": "white",
           "zerolinewidth": 2
          }
         }
        },
        "title": {
         "text": "Feature Importance (Permutation) - KNN Classifier"
        },
        "xaxis": {
         "anchor": "y",
         "domain": [
          0,
          1
         ],
         "tickangle": 45,
         "title": {
          "text": "Feature"
         }
        },
        "yaxis": {
         "anchor": "x",
         "domain": [
          0,
          1
         ],
         "title": {
          "text": "Importance"
         }
        }
       }
      }
     },
     "metadata": {},
     "output_type": "display_data"
    }
   ],
   "source": [
    "from sklearn.inspection import permutation_importance\n",
    "import plotly.express as px\n",
    "\n",
    "result = permutation_importance(knn, X_test_scaled, y_test, n_repeats=10, random_state=42)\n",
    "\n",
    "importance_df = pd.DataFrame({\n",
    "    'Feature': X.columns,\n",
    "    'Importance': result.importances_mean\n",
    "}).sort_values(by='Importance', ascending=False)\n",
    "\n",
    "fig = px.bar(\n",
    "    importance_df,\n",
    "    x='Feature',\n",
    "    y='Importance',\n",
    "    title='Feature Importance (Permutation) - KNN Classifier'\n",
    ")\n",
    "fig.update_layout(xaxis_tickangle=45)\n",
    "fig.show()\n"
   ]
  },
  {
   "cell_type": "markdown",
   "id": "23fa5e8e",
   "metadata": {},
   "source": [
    "### KDE (Per Feature by Class Label)"
   ]
  },
  {
   "cell_type": "code",
   "execution_count": 9,
   "id": "8aa3079d",
   "metadata": {},
   "outputs": [
    {
     "data": {
      "application/vnd.plotly.v1+json": {
       "config": {
        "plotlyServerURL": "https://plot.ly"
       },
       "data": [
        {
         "mode": "lines",
         "name": "Label 0",
         "type": "scatter",
         "x": {
          "bdata": "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",
          "dtype": "f8"
         },
         "y": {
          "bdata": "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",
          "dtype": "f8"
         }
        },
        {
         "mode": "lines",
         "name": "Label 1",
         "type": "scatter",
         "x": {
          "bdata": "/oWus0OH+r/60jTnRSr6v/UfuxpIzfm/8WxBTkpw+b/suceBTBP5v+gGTrVOtvi/5FPU6FBZ+L/foFocU/z3v9vt4E9Vn/e/1jpng1dC97/Sh+22WeX2v83Uc+pbiPa/ySH6HV4r9r/EboBRYM71v8C7BoVicfW/vAiNuGQU9b+3VRPsZrf0v7OimR9pWvS/ru8fU2v987+qPKaGbaDzv6aJLLpvQ/O/oday7XHm8r+dIzkhdInyv5hwv1R2LPK/lL1FiHjP8b+QCsy7enLxv4tXUu98FfG/hqTYIn+48L+C8V5WgVvwv/x8yhMH/e+/8xbXegtD77/qsOPhD4nuv+FK8EgUz+2/2OT8rxgV7b/PfgkXHVvsv8YYFn4hoeu/vrIi5SXn6r+1TC9MKi3qv6zmO7Muc+m/o4BIGjO56L+aGlWBN//nv5G0Yeg7Ree/iU5uT0CL5r+A6Hq2RNHlv3eChx1JF+W/bhyUhE1d5L9mtqDrUaPjv1xQrVJW6eK/VOq5uVov4r9KhMYgX3Xhv0Ie04dju+C/OLjf7mcB4L9gpNir2I7ev1DY8XnhGt2/PAwLSOqm278sQCQW8zLavxh0PeT7vti/CKhWsgRL17/422+ADdfVv+QPiU4WY9S/1EOiHB/v0r/Ad7vqJ3vRv7Cr1LgwB9C/OL/bDXMmzb8YJw6qhD7Kv/iOQEaWVse/0PZy4qduxL+wXqV+uYbBvxCNrzWWPb2/0FwUbrltt7+ALHmm3J2xv4D4u73/m6e/ADALXYz4l78A2M3TJyNHv0BSzt9ZhpY/wIkdf+bipj8g9SkHUEGxP2Alxc4sEbc/sFVglgnhvD/4wv0uc1jBPyBby5JhQMQ/QPOY9k8oxz9oi2ZaPhDKP4gjNL4s+Mw/qLsBIhvgzz/oqefCBGTRP/h1zvT719I/DEK1JvNL1D8cDpxY6r/VPzDagorhM9c/QKZpvNin2D9QclDuzxvaP2A+NyDHj9s/eAoeUr4D3T+I1gSEtXfeP5ii67Ws698/VDfp89Gv4D9cndyMzWnhP2gD0CXJI+I/cGnDvsTd4j94z7ZXwJfjP4A1qvC7UeQ/jJudibcL5T+UAZEis8XlP5xnhLuuf+Y/pM13VKo55z+sM2vtpfPnP7iZXoahreg/wP9RH51n6T/IZUW4mCHqP9DLOFGU2+o/2DEs6o+V6z/klx+Di0/sP+z9EhyHCe0/9GMGtYLD7T/8yflNfn3uPwQw7eZ5N+8/EJbgf3Xx7z8M/mmMuFXwPxCx41i2svA/FGRdJbQP8T8aF9fxsWzxPx7KUL6vyfE/In3Kiq0m8j8mMERXq4PyPyrjvSOp4PI/MJY38KY98z80SbG8pJrzPzj8Komi9/M/PK+kVaBU9D9AYh4inrH0P0YVmO6bDvU/SsgRu5lr9T9Oe4uHl8j1P1IuBVSVJfY/VuF+IJOC9j9clPjskN/2P2BHcrmOPPc/ZPrrhYyZ9z9orWVSivb3P25g3x6IU/g/chNZ64Ww+D92xtK3gw35P3p5TISBavk/fizGUH/H+T+E3z8dfST6P4iSuel6gfo/jEUztnje+j+Q+KyCdjv7P5SrJk90mPs/ml6gG3L1+z+eERrob1L8P6LEk7Rtr/w/pncNgWsM/T+qKodNaWn9P7DdABpnxv0/tJB65mQj/j+4Q/SyYoD+P7z2bX9g3f4/wqnnS146/z/GXGEYXJf/P8oP2+RZ9P8/Z2Gq2KsoAEDpOue+KlcAQGwUJKWphQBA7u1giyi0AEBwx51xp+IAQPKg2lcmEQFAdHoXPqU/AUD3U1QkJG4BQHktkQqjnAFA+wbO8CHLAUB94ArXoPkBQP+5R70fKAJAgpOEo55WAkAEbcGJHYUCQIZG/m+cswJACSA7VhviAkCL+Xc8mhADQA3TtCIZPwNAj6zxCJhtA0ARhi7vFpwDQJNfa9WVygNAFTmouxT5A0CXEuWhkycEQBvsIYgSVgRAncVebpGEBEAfn5tUELMEQKF42DqP4QRAI1IVIQ4QBUClK1IHjT4FQCcFj+0LbQVAqd7L04qbBUAruAi6CcoFQK2RRaCI+AVAMWuChgcnBkCzRL9shlUGQDUe/FIFhAZAt/c4OYSyBkA50XUfA+EGQA==",
          "dtype": "f8"
         },
         "y": {
          "bdata": "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",
          "dtype": "f8"
         }
        },
        {
         "mode": "lines",
         "name": "Label 2",
         "type": "scatter",
         "x": {
          "bdata": "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",
          "dtype": "f8"
         },
         "y": {
          "bdata": "Q44zKPeDwD+J+9SYImbAP8ScEK3mDcA/EygpXuT9vj8SXndTP369P7TrLkgfrLs/c9GzAFCZuT9qGjeSCFm3P32f3gDH/rQ/z67kyz6dsj/LbbuebkWwPzlHibDXC6w/7VYJKNjUpz/6KoJ5HPejPw5sJm69faA/DAUNAjbcmj+9cJpDKJGVP0RhuOPdEpE/HRaM9Vunij9D7pU2aIOEP9zWIzmIIn8/m15slD9Ndz/74iAa8DNxP3plBnC4EWk/Qvc+xvsLYj/7nGkZbblZP7IIBQrVOVI/xYEW3UDgST92CPAkpKpCP75iG4IIAjw/atbHm2qJNj+Y3Io//AE0Px26XhGvxDM/TIkAe/BcNT8vSDaMtHo4P5dYCz6N5jw/3tLw2uA7QT/Qyq1BJIZEP14lkrRCQUg/a9+nIlhaTD8zJ1RPdF1QP9kAGX0QpFI/yVLcY2jxVD8xa+otCDRXP1VsUh8/WVk/C9/pSftNWz9bGXb1zv9cP9en2rgIXl4/lQ3PJ8VaXz/wDh4g4etfPyw6MTrbBWA/zoq91pG5Xz9/rYL91/leP03JjTPY1V0//GhQ1lJbXD8+XauYwZtaP1vnZMZ0q1g/EkWniJugVj9+1goBTZJUP5SxDhOll1I/0X2PZwLHUD98jGzj2GpOPzBxDRZC7Es/geRPZ4U0Sj/GXeBDN2FJP5/JRaPOikk/ga7lNSnESj8KEh8R6xlNP81eyMfXSFA/PeUh5IeUUj9QHMp8SWpVPwQq5w9Wv1g/IRlPnHmDXD8sfEmSc1BgP/3OIigvfmI/xfqlXdu6ZD+LbnafbvRmP3ffeECiF2k/LR35294Qaz/9RpVHUc1sP6u1M50XPG4/VcGh4HJPbz+jFHg/6f1vP6bPmJCjIXA/qTe//7gQcD9ixA+pBqFvP7TLQh/E0W4/gCqIbcvKbT9AAaZVwqpsP6kxD07pl2s/y0ozVTTAaj9SoJFdcVlqP3GeCSp/oWo/So2Kv43eaz85Wf9CWF9uP8INSPegPXE/zoqX3x9JdD9c/uOsQIZ4PxFQ9LHvLH4/V9lkJ028gj/iionv+1OHPzn3BoGW/ow/YgiERafvkT9vNwteMw6WP8oM/WFw8Jo/SEfJ5sRXoD9xQNCNELWjP0Uh5E9Ko6c/1GTivdI6rD9T+Pe+UM2wP0Yo6VrI9LM/Ai8t36irtz+rtlhFYQ68PwvQJ17VnsA/J/c2PtCuwz+/uKIED0rHP1rhYFsqg8s/LHhVeWc10D98xQFA6gbTP1I0aBqQOdY/1+058r7M2T888doc07rdPw4Z+7sr/OA/yRUFjMg54z9FFGivPIrlPxSMINCc3uc/FAZ5Ipgl6j/MULvMPEzsP1VHCtzzPu4/QYVShqPq7z95Km1x8J7wPyqUWHMLFfE/ZyCk9ENS8T/xHvm9iFPxPyvAlOJPGPE/skGknqKi8D8npr2v9O3vP1WfVqHkN+4/xbzdiqsz7D/ih3q1KvTpP8fSDj5hjec/aEftg0ET5T8x1cMmoZjiP0BGZzFXLuA/nw3NyivF2z+mwl9rDYHXP8yiyIpQoNM/QxHY9NAs0D8fsZq7wVXKPzmeWz9WNMU/UjLcBortwD9PQyW3Wem6Pz+KzK8MdbU/KOMP8hRfsT+2Y9Y4ahetP4QZodkYzKk/FTgYyhrGqD8Xh+29xweqP1+Cs8uIr60/4KxLjhf9sT+NBYTa6KG2P6jwg3l0A70/8o5XslK2wj8NU9jcqBnIP852NoQE2s4/WX6/hxaT0z/SfM0r5ZTYPwaqAISNhN4/bn9rhQy34j/vZFMcgqrmP34sW2zyGOs/n6cnbDX47z/Ufic1f5vyP08t9LFLXvU/DiGQg5E0+D/Uxq2hOgv7P/p1qYDCzP0/0UihgRoxAECB4uJ4MloBQKap7wuiVgJAbRSf1aAcA0DSeM9oSKQDQJl1WMwc6ANAAK3sTW3lA0BaDGhLhJwDQCGTOTyhEANA1IITh71HAkCzUx7jIUoBQOG74oHWIQBADEai+vaz/T80eptQMfz6Pyefq4/nMvg/lJezCPVs9T+zNb7BlLzyP5YYGWC6MPA/f0R+fnGp6z9zp1M3ZmDnP1jap4CejuM/15LvJzU24D8Mha3nRajaPw==",
          "dtype": "f8"
         }
        },
        {
         "mode": "lines",
         "name": "Label 3",
         "type": "scatter",
         "x": {
          "bdata": "/oWus0OH+r8qaoO4ilT6v1ZOWL3RIfq/gjItwhjv+b+vFgLHX7z5v9v61sumifm/B9+r0O1W+b8zw4DVNCT5v1+nVdp78fi/i4sq38K++L+3b//jCYz4v+RT1OhQWfi/EDip7Zcm+L88HH7y3vP3v2gAU/clwfe/lOQn/GyO97/AyPwAtFv3v+ys0QX7KPe/GJGmCkL29r9FdXsPicP2v3FZUBTQkPa/nT0lGRde9r/JIfodXiv2v/UFzyKl+PW/IuqjJ+zF9b9OzngsM5P1v3qyTTF6YPW/ppYiNsEt9b/Sevc6CPv0v/5ezD9PyPS/KkOhRJaV9L9WJ3ZJ3WL0v4ILS04kMPS/r+8fU2v987/b0/RXssrzvwe4yVz5l/O/M5yeYUBl879fgHNmhzLzv4tkSGvO//K/uEgdcBXN8r/kLPJ0XJryvxARx3mjZ/K/PPWbfuo08r9o2XCDMQLyv5S9RYh4z/G/wKEajb+c8b/she+RBmrxvxhqxJZNN/G/RU6Zm5QE8b9xMm6g29Hwv50WQ6Uin/C/yfoXqmls8L/23uyusDnwvyLDwbP3BvC/m04tcX2o77/zFtd6C0Pvv0zfgISZ3e6/pKcqjid47r/8b9SXtRLuv1U4fqFDre2/rQAoq9FH7b8FydG0X+Lsv12Re77tfOy/tlklyHsX7L8OIs/RCbLrv2bqeNuXTOu/v7Ii5SXn6r8Xe8zus4Hqv29DdvhBHOq/xwsgAtC26b8g1MkLXlHpv3iccxXs6+i/0GQdH3qG6L8pLccoCCHov4H1cDKWu+e/2b0aPCRW578xhsRFsvDmv4pObk9Ai+a/4hYYWc4l5r8638FiXMDlv5Kna2zqWuW/6m8Vdnj15L9EOL9/BpDkv5wAaYmUKuS/9MgSkyLF479MkbycsF/jv6RZZqY++uK//CEQsMyU4r9U6rm5Wi/iv66yY8PoyeG/BnsNzXZk4b9eQ7fWBP/gv7YLYeCSmeC/DtQK6iA04L/MOGnnXZ3fv3zJvPp50t6/MFoQDpYH3r/g6mMhsjzdv5B7tzTOcdy/QAwLSOqm27/wnF5bBtzav6Atsm4iEdq/UL4Fgj5G2b8AT1mVWnvYv7TfrKh2sNe/ZHAAvJLl1r8UAVTPrhrWv8SRp+LKT9W/dCL79eaE1L8ks04JA7rTv9RDohwf79K/iNT1Lzsk0r84ZUlDV1nRv+j1nFZzjtC/MA3h0x6Hz7+QLoj6VvHNv/BPLyGPW8y/UHHWR8fFyr+4kn1u/y/Jvxi0JJU3mse/eNXLu28Exr/Y9nLip27EvzgYGgng2MK/mDnBLxhDwb/wtdCsoFq/v8D4HvoQL7y/gDttR4EDub9AfruU8de1vwDBCeJhrLK/gAewXqQBr78AjUz5hKqov4AS6ZNlU6K/QDALXYz4l7+Adogkm5SGvwCcK4gTP1Y/gF2TBmAkjD/AoxDObsCaP2DMa8xWt6M/4EbPMXYOqj+gYJnLyjKwP+AdS35aXrM/INv8MOqJtj9gmK7jebW5P6BVYJYJ4bw/cAmJpEwGwD8Q6OF9FJzBP6jGOlfcMcM/SKWTMKTHxD/og+wJbF3GP4hiReMz88c/KEGevPuIyT/IH/eVwx7LP2j+T2+LtMw/AN2oSFNKzj+guwEiG+DPPyBNrX3xutA/cLxZatWF0T/AKwZXuVDSPxCbskOdG9M/YApfMIHm0z+weQsdZbHUP/zotwlJfNU/UFhk9ixH1j+gxxDjEBLXP+g2vc/03Nc/OKZpvNin2D+IFRapvHLZP9iEwpWgPdo/KPRugoQI2z94YxtvaNPbP8jSx1tMntw/GEJ0SDBp3T9osSA1FDTeP7ggzSH4/t4/CJB5DtzJ3z+s/5L9X0rgP1Q36fPRr+A//G4/6kMV4T+gppXgtXrhP0je69Yn4OE/8BVCzZlF4j+YTZjDC6viP0CF7rl9EOM/6LxEsO914z+Q9JqmYdvjPzgs8ZzTQOQ/4GNHk0Wm5D+Im52JtwvlPzDT838pceU/2ApKdpvW5T+AQqBsDTzmPyh69mJ/oeY/zLFMWfEG5z906aJPY2znPxwh+UXV0ec/xFhPPEc36D9skKUyuZzoPxTI+ygrAuk/vP9RH51n6T9mN6gVD83pPw==",
          "dtype": "f8"
         },
         "y": {
          "bdata": "LMRDM0uhyz+STJ4wpk/MP0pzZ/wp6Mw/nlLQA9RszT8ivYgIX+DNPzPQQ64uRs4/HnsBmzSizj9G8sUc0PjOP7smoHWpTs8/MpusDoqozz/GY2VymQXQP9RNzEOZPdA/xIuP/11+0D9QH1jwv8nQP4Ij4GREIdE/AV2qMA6G0T9dwzrz0PjRP8YGupnHedI/Y87ZfK4I0z8LRCdnwaTTP9CH8rW9TNQ/d2YAqOj+1D+Mn1LJGbnVP+QuFEPJeNY/H9+QqyE71z/8Fk7GFP3XPz0gynpyu9g/XG12JAFz2T9Rba9DliDaP0VL+oguwdo/q6s6NARS2z9esl/SotDbP4vPY4X3Otw/RF0VM12P3D/xyyo0pMzcP9H8h2IV8tw/7Es5rnD/3D+iMd+m5/TcP1KnaqUU09w/H3r9cu+a3D+rymtpwE3cP6d/mBUT7ds/meXHWql62z/u4ur4b/jaP6MOayl1aNo/iQ8yyuHM2T8ykqJK9SfZP7iRrUcEfNg/GbDVgHnL1z9jKA+V2BjXPz1MXMjBZtY/Toz09PW31T/6yHO+WQ/VP9grWSP3b9Q/8GoGoPzc0z+kdWI8uVnTPxdHTw+V6dI/MXLT/QWQ0j8s23i7gFDSPwVjQVJmLtI/ymkwt+4s0j91C5UpEU/SP2M9Kkxrl9I/KuJUDSgI0z9K0S+N56LTP6iT/DqpaNQ/dzmmXrlZ1T+tfHcto3XWP7o9wGIou9c/zmJ4Hj8o2T9NNniGFrraP8m0NVUibdw/of/UJi093j+dksp7uBLgPx50fXVaEOE/bgr2j7cU4j+Pr9qI9BzjP6XVYGsyJuQ/yVpPvKAt5T9P3pBUjjDmP4Ueox94LOc/RRYyFRUf6D9ylNLzXgbpP5B44HqX4Ok/p6TDHkqs6j+UxWBwSmjrP8HmGKmvE+w/G1CP+82t7D/3z1VqLjbtP8jurfWFrO0/lFhd76wQ7j9O2Xkvl2LuP6PRHMFNou4/ccK5berP7j92mStWlevuP76H8I6E9e4/+nAef/3t7j/E+4aUV9XuP/Qzd7//q+4/XYU7GHxy7j8fHSMRbynuP5BLbaiZ0e0/y8H4K9xr7T+glP5INfnsP6Tc+U+/euw/SfMaw6vx6z+Hdn9vPV/rP9vuyXLBxOo/enqrpIcj6j+UrvTk2nzpP3g+x8r50eg/WVTpIRAk6D+4HZWKMXTnPyr5yHFVw+Y/soXTd1QS5j86UT8852HlP3wMfmymsuQ/g8UM4AsF5D+dUH6CdFnjP/k+BcoisOI/Oi3PfkEJ4j8gsAOj5mThP6TDL1oWw+A/FG7KvsUj4D84+85Fuw3fP07sPIh62N0/xGyjAXqn3D8sep87YnrbP63t+03ZUNo/MXef2ogq2T/qHnwyJAfYP1N/LXpu5tY/8M5Xj0DI1T+TX8BfjqzUP3fwFltrk9M/idD+qQ190j8Zs17gz2nRP/LJZ/UwWtA/ox5LzqSdzj+Rlv4d6ZDMPwGjbJrij8o/V+C/n2qcyD/vnm6mcLjGP63oOZbp5cQ/VIVm3b4mwz8nCWI9vnzBP0ygXlYW078/U/uc/iTdvD/Qkv8DAhq6P9CKb1R6i7c/DTxjWMgytT+mpuR5lBCzP1Rd3Xz7JLE/FDeqfjPfrj9ZWE19NN+rP491ozyQR6k/Hs0bzEIVpz926nF600SlP+4gZRx40qM/lOFAYDS6oj/8ymnn8/ehP5hy9GSeh6E/H6Q3hSVloT9Py+PcjIyhPxNHgYbs+aE/ev8/ZW+poj87Jb43TpejPxfzBrvIv6Q/mmDcFR4fpj+zktWghbGnP/69UOUoc6k/2uKtYR9gqz+/mRRMbHStPzVMWjb+q68/m0X7ElgBsT+hQT25JTqyP4ZKbslEfrM/29XFeYrLtD/QceP/wx+2P6+7O9y0eLc//4CBvxPUuD+jabEOhi+6P6fQz0KaiLs/gV1mm8HcvD+E71HQSSm+P9rOUJpXa78/WUUsgvFPwD88JsM+2+HAPwUi0si4acE/cu4AAsjlwT9FBqXjOlTCP2dNfvw/s8I/oDEWUw0Bwz/zh15c7TvDPwq6kIRNYsM/sxarnM1ywz9x9FNdT2zDP2xdvRsFTsM/OiawyH4Xwz9WxS9etMjCPw==",
          "dtype": "f8"
         }
        }
       ],
       "layout": {
        "template": {
         "data": {
          "bar": [
           {
            "error_x": {
             "color": "#2a3f5f"
            },
            "error_y": {
             "color": "#2a3f5f"
            },
            "marker": {
             "line": {
              "color": "#E5ECF6",
              "width": 0.5
             },
             "pattern": {
              "fillmode": "overlay",
              "size": 10,
              "solidity": 0.2
             }
            },
            "type": "bar"
           }
          ],
          "barpolar": [
           {
            "marker": {
             "line": {
              "color": "#E5ECF6",
              "width": 0.5
             },
             "pattern": {
              "fillmode": "overlay",
              "size": 10,
              "solidity": 0.2
             }
            },
            "type": "barpolar"
           }
          ],
          "carpet": [
           {
            "aaxis": {
             "endlinecolor": "#2a3f5f",
             "gridcolor": "white",
             "linecolor": "white",
             "minorgridcolor": "white",
             "startlinecolor": "#2a3f5f"
            },
            "baxis": {
             "endlinecolor": "#2a3f5f",
             "gridcolor": "white",
             "linecolor": "white",
             "minorgridcolor": "white",
             "startlinecolor": "#2a3f5f"
            },
            "type": "carpet"
           }
          ],
          "choropleth": [
           {
            "colorbar": {
             "outlinewidth": 0,
             "ticks": ""
            },
            "type": "choropleth"
           }
          ],
          "contour": [
           {
            "colorbar": {
             "outlinewidth": 0,
             "ticks": ""
            },
            "colorscale": [
             [
              0,
              "#0d0887"
             ],
             [
              0.1111111111111111,
              "#46039f"
             ],
             [
              0.2222222222222222,
              "#7201a8"
             ],
             [
              0.3333333333333333,
              "#9c179e"
             ],
             [
              0.4444444444444444,
              "#bd3786"
             ],
             [
              0.5555555555555556,
              "#d8576b"
             ],
             [
              0.6666666666666666,
              "#ed7953"
             ],
             [
              0.7777777777777778,
              "#fb9f3a"
             ],
             [
              0.8888888888888888,
              "#fdca26"
             ],
             [
              1,
              "#f0f921"
             ]
            ],
            "type": "contour"
           }
          ],
          "contourcarpet": [
           {
            "colorbar": {
             "outlinewidth": 0,
             "ticks": ""
            },
            "type": "contourcarpet"
           }
          ],
          "heatmap": [
           {
            "colorbar": {
             "outlinewidth": 0,
             "ticks": ""
            },
            "colorscale": [
             [
              0,
              "#0d0887"
             ],
             [
              0.1111111111111111,
              "#46039f"
             ],
             [
              0.2222222222222222,
              "#7201a8"
             ],
             [
              0.3333333333333333,
              "#9c179e"
             ],
             [
              0.4444444444444444,
              "#bd3786"
             ],
             [
              0.5555555555555556,
              "#d8576b"
             ],
             [
              0.6666666666666666,
              "#ed7953"
             ],
             [
              0.7777777777777778,
              "#fb9f3a"
             ],
             [
              0.8888888888888888,
              "#fdca26"
             ],
             [
              1,
              "#f0f921"
             ]
            ],
            "type": "heatmap"
           }
          ],
          "histogram": [
           {
            "marker": {
             "pattern": {
              "fillmode": "overlay",
              "size": 10,
              "solidity": 0.2
             }
            },
            "type": "histogram"
           }
          ],
          "histogram2d": [
           {
            "colorbar": {
             "outlinewidth": 0,
             "ticks": ""
            },
            "colorscale": [
             [
              0,
              "#0d0887"
             ],
             [
              0.1111111111111111,
              "#46039f"
             ],
             [
              0.2222222222222222,
              "#7201a8"
             ],
             [
              0.3333333333333333,
              "#9c179e"
             ],
             [
              0.4444444444444444,
              "#bd3786"
             ],
             [
              0.5555555555555556,
              "#d8576b"
             ],
             [
              0.6666666666666666,
              "#ed7953"
             ],
             [
              0.7777777777777778,
              "#fb9f3a"
             ],
             [
              0.8888888888888888,
              "#fdca26"
             ],
             [
              1,
              "#f0f921"
             ]
            ],
            "type": "histogram2d"
           }
          ],
          "histogram2dcontour": [
           {
            "colorbar": {
             "outlinewidth": 0,
             "ticks": ""
            },
            "colorscale": [
             [
              0,
              "#0d0887"
             ],
             [
              0.1111111111111111,
              "#46039f"
             ],
             [
              0.2222222222222222,
              "#7201a8"
             ],
             [
              0.3333333333333333,
              "#9c179e"
             ],
             [
              0.4444444444444444,
              "#bd3786"
             ],
             [
              0.5555555555555556,
              "#d8576b"
             ],
             [
              0.6666666666666666,
              "#ed7953"
             ],
             [
              0.7777777777777778,
              "#fb9f3a"
             ],
             [
              0.8888888888888888,
              "#fdca26"
             ],
             [
              1,
              "#f0f921"
             ]
            ],
            "type": "histogram2dcontour"
           }
          ],
          "mesh3d": [
           {
            "colorbar": {
             "outlinewidth": 0,
             "ticks": ""
            },
            "type": "mesh3d"
           }
          ],
          "parcoords": [
           {
            "line": {
             "colorbar": {
              "outlinewidth": 0,
              "ticks": ""
             }
            },
            "type": "parcoords"
           }
          ],
          "pie": [
           {
            "automargin": true,
            "type": "pie"
           }
          ],
          "scatter": [
           {
            "fillpattern": {
             "fillmode": "overlay",
             "size": 10,
             "solidity": 0.2
            },
            "type": "scatter"
           }
          ],
          "scatter3d": [
           {
            "line": {
             "colorbar": {
              "outlinewidth": 0,
              "ticks": ""
             }
            },
            "marker": {
             "colorbar": {
              "outlinewidth": 0,
              "ticks": ""
             }
            },
            "type": "scatter3d"
           }
          ],
          "scattercarpet": [
           {
            "marker": {
             "colorbar": {
              "outlinewidth": 0,
              "ticks": ""
             }
            },
            "type": "scattercarpet"
           }
          ],
          "scattergeo": [
           {
            "marker": {
             "colorbar": {
              "outlinewidth": 0,
              "ticks": ""
             }
            },
            "type": "scattergeo"
           }
          ],
          "scattergl": [
           {
            "marker": {
             "colorbar": {
              "outlinewidth": 0,
              "ticks": ""
             }
            },
            "type": "scattergl"
           }
          ],
          "scattermap": [
           {
            "marker": {
             "colorbar": {
              "outlinewidth": 0,
              "ticks": ""
             }
            },
            "type": "scattermap"
           }
          ],
          "scattermapbox": [
           {
            "marker": {
             "colorbar": {
              "outlinewidth": 0,
              "ticks": ""
             }
            },
            "type": "scattermapbox"
           }
          ],
          "scatterpolar": [
           {
            "marker": {
             "colorbar": {
              "outlinewidth": 0,
              "ticks": ""
             }
            },
            "type": "scatterpolar"
           }
          ],
          "scatterpolargl": [
           {
            "marker": {
             "colorbar": {
              "outlinewidth": 0,
              "ticks": ""
             }
            },
            "type": "scatterpolargl"
           }
          ],
          "scatterternary": [
           {
            "marker": {
             "colorbar": {
              "outlinewidth": 0,
              "ticks": ""
             }
            },
            "type": "scatterternary"
           }
          ],
          "surface": [
           {
            "colorbar": {
             "outlinewidth": 0,
             "ticks": ""
            },
            "colorscale": [
             [
              0,
              "#0d0887"
             ],
             [
              0.1111111111111111,
              "#46039f"
             ],
             [
              0.2222222222222222,
              "#7201a8"
             ],
             [
              0.3333333333333333,
              "#9c179e"
             ],
             [
              0.4444444444444444,
              "#bd3786"
             ],
             [
              0.5555555555555556,
              "#d8576b"
             ],
             [
              0.6666666666666666,
              "#ed7953"
             ],
             [
              0.7777777777777778,
              "#fb9f3a"
             ],
             [
              0.8888888888888888,
              "#fdca26"
             ],
             [
              1,
              "#f0f921"
             ]
            ],
            "type": "surface"
           }
          ],
          "table": [
           {
            "cells": {
             "fill": {
              "color": "#EBF0F8"
             },
             "line": {
              "color": "white"
             }
            },
            "header": {
             "fill": {
              "color": "#C8D4E3"
             },
             "line": {
              "color": "white"
             }
            },
            "type": "table"
           }
          ]
         },
         "layout": {
          "annotationdefaults": {
           "arrowcolor": "#2a3f5f",
           "arrowhead": 0,
           "arrowwidth": 1
          },
          "autotypenumbers": "strict",
          "coloraxis": {
           "colorbar": {
            "outlinewidth": 0,
            "ticks": ""
           }
          },
          "colorscale": {
           "diverging": [
            [
             0,
             "#8e0152"
            ],
            [
             0.1,
             "#c51b7d"
            ],
            [
             0.2,
             "#de77ae"
            ],
            [
             0.3,
             "#f1b6da"
            ],
            [
             0.4,
             "#fde0ef"
            ],
            [
             0.5,
             "#f7f7f7"
            ],
            [
             0.6,
             "#e6f5d0"
            ],
            [
             0.7,
             "#b8e186"
            ],
            [
             0.8,
             "#7fbc41"
            ],
            [
             0.9,
             "#4d9221"
            ],
            [
             1,
             "#276419"
            ]
           ],
           "sequential": [
            [
             0,
             "#0d0887"
            ],
            [
             0.1111111111111111,
             "#46039f"
            ],
            [
             0.2222222222222222,
             "#7201a8"
            ],
            [
             0.3333333333333333,
             "#9c179e"
            ],
            [
             0.4444444444444444,
             "#bd3786"
            ],
            [
             0.5555555555555556,
             "#d8576b"
            ],
            [
             0.6666666666666666,
             "#ed7953"
            ],
            [
             0.7777777777777778,
             "#fb9f3a"
            ],
            [
             0.8888888888888888,
             "#fdca26"
            ],
            [
             1,
             "#f0f921"
            ]
           ],
           "sequentialminus": [
            [
             0,
             "#0d0887"
            ],
            [
             0.1111111111111111,
             "#46039f"
            ],
            [
             0.2222222222222222,
             "#7201a8"
            ],
            [
             0.3333333333333333,
             "#9c179e"
            ],
            [
             0.4444444444444444,
             "#bd3786"
            ],
            [
             0.5555555555555556,
             "#d8576b"
            ],
            [
             0.6666666666666666,
             "#ed7953"
            ],
            [
             0.7777777777777778,
             "#fb9f3a"
            ],
            [
             0.8888888888888888,
             "#fdca26"
            ],
            [
             1,
             "#f0f921"
            ]
           ]
          },
          "colorway": [
           "#636efa",
           "#EF553B",
           "#00cc96",
           "#ab63fa",
           "#FFA15A",
           "#19d3f3",
           "#FF6692",
           "#B6E880",
           "#FF97FF",
           "#FECB52"
          ],
          "font": {
           "color": "#2a3f5f"
          },
          "geo": {
           "bgcolor": "white",
           "lakecolor": "white",
           "landcolor": "#E5ECF6",
           "showlakes": true,
           "showland": true,
           "subunitcolor": "white"
          },
          "hoverlabel": {
           "align": "left"
          },
          "hovermode": "closest",
          "mapbox": {
           "style": "light"
          },
          "paper_bgcolor": "white",
          "plot_bgcolor": "#E5ECF6",
          "polar": {
           "angularaxis": {
            "gridcolor": "white",
            "linecolor": "white",
            "ticks": ""
           },
           "bgcolor": "#E5ECF6",
           "radialaxis": {
            "gridcolor": "white",
            "linecolor": "white",
            "ticks": ""
           }
          },
          "scene": {
           "xaxis": {
            "backgroundcolor": "#E5ECF6",
            "gridcolor": "white",
            "gridwidth": 2,
            "linecolor": "white",
            "showbackground": true,
            "ticks": "",
            "zerolinecolor": "white"
           },
           "yaxis": {
            "backgroundcolor": "#E5ECF6",
            "gridcolor": "white",
            "gridwidth": 2,
            "linecolor": "white",
            "showbackground": true,
            "ticks": "",
            "zerolinecolor": "white"
           },
           "zaxis": {
            "backgroundcolor": "#E5ECF6",
            "gridcolor": "white",
            "gridwidth": 2,
            "linecolor": "white",
            "showbackground": true,
            "ticks": "",
            "zerolinecolor": "white"
           }
          },
          "shapedefaults": {
           "line": {
            "color": "#2a3f5f"
           }
          },
          "ternary": {
           "aaxis": {
            "gridcolor": "white",
            "linecolor": "white",
            "ticks": ""
           },
           "baxis": {
            "gridcolor": "white",
            "linecolor": "white",
            "ticks": ""
           },
           "bgcolor": "#E5ECF6",
           "caxis": {
            "gridcolor": "white",
            "linecolor": "white",
            "ticks": ""
           }
          },
          "title": {
           "x": 0.05
          },
          "xaxis": {
           "automargin": true,
           "gridcolor": "white",
           "linecolor": "white",
           "ticks": "",
           "title": {
            "standoff": 15
           },
           "zerolinecolor": "white",
           "zerolinewidth": 2
          },
          "yaxis": {
           "automargin": true,
           "gridcolor": "white",
           "linecolor": "white",
           "ticks": "",
           "title": {
            "standoff": 15
           },
           "zerolinecolor": "white",
           "zerolinewidth": 2
          }
         }
        },
        "title": {
         "text": "KDE Plot for Feature 'E' by Label"
        },
        "xaxis": {
         "title": {
          "text": "E"
         }
        },
        "yaxis": {
         "title": {
          "text": "Density"
         }
        }
       }
      }
     },
     "metadata": {},
     "output_type": "display_data"
    },
    {
     "data": {
      "application/vnd.plotly.v1+json": {
       "config": {
        "plotlyServerURL": "https://plot.ly"
       },
       "data": [
        {
         "mode": "lines",
         "name": "Label 0",
         "type": "scatter",
         "x": {
          "bdata": "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",
          "dtype": "f8"
         },
         "y": {
          "bdata": "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",
          "dtype": "f8"
         }
        },
        {
         "mode": "lines",
         "name": "Label 1",
         "type": "scatter",
         "x": {
          "bdata": "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",
          "dtype": "f8"
         },
         "y": {
          "bdata": "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",
          "dtype": "f8"
         }
        },
        {
         "mode": "lines",
         "name": "Label 2",
         "type": "scatter",
         "x": {
          "bdata": "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",
          "dtype": "f8"
         },
         "y": {
          "bdata": "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",
          "dtype": "f8"
         }
        },
        {
         "mode": "lines",
         "name": "Label 3",
         "type": "scatter",
         "x": {
          "bdata": "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",
          "dtype": "f8"
         },
         "y": {
          "bdata": "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",
          "dtype": "f8"
         }
        }
       ],
       "layout": {
        "template": {
         "data": {
          "bar": [
           {
            "error_x": {
             "color": "#2a3f5f"
            },
            "error_y": {
             "color": "#2a3f5f"
            },
            "marker": {
             "line": {
              "color": "#E5ECF6",
              "width": 0.5
             },
             "pattern": {
              "fillmode": "overlay",
              "size": 10,
              "solidity": 0.2
             }
            },
            "type": "bar"
           }
          ],
          "barpolar": [
           {
            "marker": {
             "line": {
              "color": "#E5ECF6",
              "width": 0.5
             },
             "pattern": {
              "fillmode": "overlay",
              "size": 10,
              "solidity": 0.2
             }
            },
            "type": "barpolar"
           }
          ],
          "carpet": [
           {
            "aaxis": {
             "endlinecolor": "#2a3f5f",
             "gridcolor": "white",
             "linecolor": "white",
             "minorgridcolor": "white",
             "startlinecolor": "#2a3f5f"
            },
            "baxis": {
             "endlinecolor": "#2a3f5f",
             "gridcolor": "white",
             "linecolor": "white",
             "minorgridcolor": "white",
             "startlinecolor": "#2a3f5f"
            },
            "type": "carpet"
           }
          ],
          "choropleth": [
           {
            "colorbar": {
             "outlinewidth": 0,
             "ticks": ""
            },
            "type": "choropleth"
           }
          ],
          "contour": [
           {
            "colorbar": {
             "outlinewidth": 0,
             "ticks": ""
            },
            "colorscale": [
             [
              0,
              "#0d0887"
             ],
             [
              0.1111111111111111,
              "#46039f"
             ],
             [
              0.2222222222222222,
              "#7201a8"
             ],
             [
              0.3333333333333333,
              "#9c179e"
             ],
             [
              0.4444444444444444,
              "#bd3786"
             ],
             [
              0.5555555555555556,
              "#d8576b"
             ],
             [
              0.6666666666666666,
              "#ed7953"
             ],
             [
              0.7777777777777778,
              "#fb9f3a"
             ],
             [
              0.8888888888888888,
              "#fdca26"
             ],
             [
              1,
              "#f0f921"
             ]
            ],
            "type": "contour"
           }
          ],
          "contourcarpet": [
           {
            "colorbar": {
             "outlinewidth": 0,
             "ticks": ""
            },
            "type": "contourcarpet"
           }
          ],
          "heatmap": [
           {
            "colorbar": {
             "outlinewidth": 0,
             "ticks": ""
            },
            "colorscale": [
             [
              0,
              "#0d0887"
             ],
             [
              0.1111111111111111,
              "#46039f"
             ],
             [
              0.2222222222222222,
              "#7201a8"
             ],
             [
              0.3333333333333333,
              "#9c179e"
             ],
             [
              0.4444444444444444,
              "#bd3786"
             ],
             [
              0.5555555555555556,
              "#d8576b"
             ],
             [
              0.6666666666666666,
              "#ed7953"
             ],
             [
              0.7777777777777778,
              "#fb9f3a"
             ],
             [
              0.8888888888888888,
              "#fdca26"
             ],
             [
              1,
              "#f0f921"
             ]
            ],
            "type": "heatmap"
           }
          ],
          "histogram": [
           {
            "marker": {
             "pattern": {
              "fillmode": "overlay",
              "size": 10,
              "solidity": 0.2
             }
            },
            "type": "histogram"
           }
          ],
          "histogram2d": [
           {
            "colorbar": {
             "outlinewidth": 0,
             "ticks": ""
            },
            "colorscale": [
             [
              0,
              "#0d0887"
             ],
             [
              0.1111111111111111,
              "#46039f"
             ],
             [
              0.2222222222222222,
              "#7201a8"
             ],
             [
              0.3333333333333333,
              "#9c179e"
             ],
             [
              0.4444444444444444,
              "#bd3786"
             ],
             [
              0.5555555555555556,
              "#d8576b"
             ],
             [
              0.6666666666666666,
              "#ed7953"
             ],
             [
              0.7777777777777778,
              "#fb9f3a"
             ],
             [
              0.8888888888888888,
              "#fdca26"
             ],
             [
              1,
              "#f0f921"
             ]
            ],
            "type": "histogram2d"
           }
          ],
          "histogram2dcontour": [
           {
            "colorbar": {
             "outlinewidth": 0,
             "ticks": ""
            },
            "colorscale": [
             [
              0,
              "#0d0887"
             ],
             [
              0.1111111111111111,
              "#46039f"
             ],
             [
              0.2222222222222222,
              "#7201a8"
             ],
             [
              0.3333333333333333,
              "#9c179e"
             ],
             [
              0.4444444444444444,
              "#bd3786"
             ],
             [
              0.5555555555555556,
              "#d8576b"
             ],
             [
              0.6666666666666666,
              "#ed7953"
             ],
             [
              0.7777777777777778,
              "#fb9f3a"
             ],
             [
              0.8888888888888888,
              "#fdca26"
             ],
             [
              1,
              "#f0f921"
             ]
            ],
            "type": "histogram2dcontour"
           }
          ],
          "mesh3d": [
           {
            "colorbar": {
             "outlinewidth": 0,
             "ticks": ""
            },
            "type": "mesh3d"
           }
          ],
          "parcoords": [
           {
            "line": {
             "colorbar": {
              "outlinewidth": 0,
              "ticks": ""
             }
            },
            "type": "parcoords"
           }
          ],
          "pie": [
           {
            "automargin": true,
            "type": "pie"
           }
          ],
          "scatter": [
           {
            "fillpattern": {
             "fillmode": "overlay",
             "size": 10,
             "solidity": 0.2
            },
            "type": "scatter"
           }
          ],
          "scatter3d": [
           {
            "line": {
             "colorbar": {
              "outlinewidth": 0,
              "ticks": ""
             }
            },
            "marker": {
             "colorbar": {
              "outlinewidth": 0,
              "ticks": ""
             }
            },
            "type": "scatter3d"
           }
          ],
          "scattercarpet": [
           {
            "marker": {
             "colorbar": {
              "outlinewidth": 0,
              "ticks": ""
             }
            },
            "type": "scattercarpet"
           }
          ],
          "scattergeo": [
           {
            "marker": {
             "colorbar": {
              "outlinewidth": 0,
              "ticks": ""
             }
            },
            "type": "scattergeo"
           }
          ],
          "scattergl": [
           {
            "marker": {
             "colorbar": {
              "outlinewidth": 0,
              "ticks": ""
             }
            },
            "type": "scattergl"
           }
          ],
          "scattermap": [
           {
            "marker": {
             "colorbar": {
              "outlinewidth": 0,
              "ticks": ""
             }
            },
            "type": "scattermap"
           }
          ],
          "scattermapbox": [
           {
            "marker": {
             "colorbar": {
              "outlinewidth": 0,
              "ticks": ""
             }
            },
            "type": "scattermapbox"
           }
          ],
          "scatterpolar": [
           {
            "marker": {
             "colorbar": {
              "outlinewidth": 0,
              "ticks": ""
             }
            },
            "type": "scatterpolar"
           }
          ],
          "scatterpolargl": [
           {
            "marker": {
             "colorbar": {
              "outlinewidth": 0,
              "ticks": ""
             }
            },
            "type": "scatterpolargl"
           }
          ],
          "scatterternary": [
           {
            "marker": {
             "colorbar": {
              "outlinewidth": 0,
              "ticks": ""
             }
            },
            "type": "scatterternary"
           }
          ],
          "surface": [
           {
            "colorbar": {
             "outlinewidth": 0,
             "ticks": ""
            },
            "colorscale": [
             [
              0,
              "#0d0887"
             ],
             [
              0.1111111111111111,
              "#46039f"
             ],
             [
              0.2222222222222222,
              "#7201a8"
             ],
             [
              0.3333333333333333,
              "#9c179e"
             ],
             [
              0.4444444444444444,
              "#bd3786"
             ],
             [
              0.5555555555555556,
              "#d8576b"
             ],
             [
              0.6666666666666666,
              "#ed7953"
             ],
             [
              0.7777777777777778,
              "#fb9f3a"
             ],
             [
              0.8888888888888888,
              "#fdca26"
             ],
             [
              1,
              "#f0f921"
             ]
            ],
            "type": "surface"
           }
          ],
          "table": [
           {
            "cells": {
             "fill": {
              "color": "#EBF0F8"
             },
             "line": {
              "color": "white"
             }
            },
            "header": {
             "fill": {
              "color": "#C8D4E3"
             },
             "line": {
              "color": "white"
             }
            },
            "type": "table"
           }
          ]
         },
         "layout": {
          "annotationdefaults": {
           "arrowcolor": "#2a3f5f",
           "arrowhead": 0,
           "arrowwidth": 1
          },
          "autotypenumbers": "strict",
          "coloraxis": {
           "colorbar": {
            "outlinewidth": 0,
            "ticks": ""
           }
          },
          "colorscale": {
           "diverging": [
            [
             0,
             "#8e0152"
            ],
            [
             0.1,
             "#c51b7d"
            ],
            [
             0.2,
             "#de77ae"
            ],
            [
             0.3,
             "#f1b6da"
            ],
            [
             0.4,
             "#fde0ef"
            ],
            [
             0.5,
             "#f7f7f7"
            ],
            [
             0.6,
             "#e6f5d0"
            ],
            [
             0.7,
             "#b8e186"
            ],
            [
             0.8,
             "#7fbc41"
            ],
            [
             0.9,
             "#4d9221"
            ],
            [
             1,
             "#276419"
            ]
           ],
           "sequential": [
            [
             0,
             "#0d0887"
            ],
            [
             0.1111111111111111,
             "#46039f"
            ],
            [
             0.2222222222222222,
             "#7201a8"
            ],
            [
             0.3333333333333333,
             "#9c179e"
            ],
            [
             0.4444444444444444,
             "#bd3786"
            ],
            [
             0.5555555555555556,
             "#d8576b"
            ],
            [
             0.6666666666666666,
             "#ed7953"
            ],
            [
             0.7777777777777778,
             "#fb9f3a"
            ],
            [
             0.8888888888888888,
             "#fdca26"
            ],
            [
             1,
             "#f0f921"
            ]
           ],
           "sequentialminus": [
            [
             0,
             "#0d0887"
            ],
            [
             0.1111111111111111,
             "#46039f"
            ],
            [
             0.2222222222222222,
             "#7201a8"
            ],
            [
             0.3333333333333333,
             "#9c179e"
            ],
            [
             0.4444444444444444,
             "#bd3786"
            ],
            [
             0.5555555555555556,
             "#d8576b"
            ],
            [
             0.6666666666666666,
             "#ed7953"
            ],
            [
             0.7777777777777778,
             "#fb9f3a"
            ],
            [
             0.8888888888888888,
             "#fdca26"
            ],
            [
             1,
             "#f0f921"
            ]
           ]
          },
          "colorway": [
           "#636efa",
           "#EF553B",
           "#00cc96",
           "#ab63fa",
           "#FFA15A",
           "#19d3f3",
           "#FF6692",
           "#B6E880",
           "#FF97FF",
           "#FECB52"
          ],
          "font": {
           "color": "#2a3f5f"
          },
          "geo": {
           "bgcolor": "white",
           "lakecolor": "white",
           "landcolor": "#E5ECF6",
           "showlakes": true,
           "showland": true,
           "subunitcolor": "white"
          },
          "hoverlabel": {
           "align": "left"
          },
          "hovermode": "closest",
          "mapbox": {
           "style": "light"
          },
          "paper_bgcolor": "white",
          "plot_bgcolor": "#E5ECF6",
          "polar": {
           "angularaxis": {
            "gridcolor": "white",
            "linecolor": "white",
            "ticks": ""
           },
           "bgcolor": "#E5ECF6",
           "radialaxis": {
            "gridcolor": "white",
            "linecolor": "white",
            "ticks": ""
           }
          },
          "scene": {
           "xaxis": {
            "backgroundcolor": "#E5ECF6",
            "gridcolor": "white",
            "gridwidth": 2,
            "linecolor": "white",
            "showbackground": true,
            "ticks": "",
            "zerolinecolor": "white"
           },
           "yaxis": {
            "backgroundcolor": "#E5ECF6",
            "gridcolor": "white",
            "gridwidth": 2,
            "linecolor": "white",
            "showbackground": true,
            "ticks": "",
            "zerolinecolor": "white"
           },
           "zaxis": {
            "backgroundcolor": "#E5ECF6",
            "gridcolor": "white",
            "gridwidth": 2,
            "linecolor": "white",
            "showbackground": true,
            "ticks": "",
            "zerolinecolor": "white"
           }
          },
          "shapedefaults": {
           "line": {
            "color": "#2a3f5f"
           }
          },
          "ternary": {
           "aaxis": {
            "gridcolor": "white",
            "linecolor": "white",
            "ticks": ""
           },
           "baxis": {
            "gridcolor": "white",
            "linecolor": "white",
            "ticks": ""
           },
           "bgcolor": "#E5ECF6",
           "caxis": {
            "gridcolor": "white",
            "linecolor": "white",
            "ticks": ""
           }
          },
          "title": {
           "x": 0.05
          },
          "xaxis": {
           "automargin": true,
           "gridcolor": "white",
           "linecolor": "white",
           "ticks": "",
           "title": {
            "standoff": 15
           },
           "zerolinecolor": "white",
           "zerolinewidth": 2
          },
          "yaxis": {
           "automargin": true,
           "gridcolor": "white",
           "linecolor": "white",
           "ticks": "",
           "title": {
            "standoff": 15
           },
           "zerolinecolor": "white",
           "zerolinewidth": 2
          }
         }
        },
        "title": {
         "text": "KDE Plot for Feature 'T' by Label"
        },
        "xaxis": {
         "title": {
          "text": "T"
         }
        },
        "yaxis": {
         "title": {
          "text": "Density"
         }
        }
       }
      }
     },
     "metadata": {},
     "output_type": "display_data"
    },
    {
     "data": {
      "application/vnd.plotly.v1+json": {
       "config": {
        "plotlyServerURL": "https://plot.ly"
       },
       "data": [
        {
         "mode": "lines",
         "name": "Label 0",
         "type": "scatter",
         "x": {
          "bdata": "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",
          "dtype": "f8"
         },
         "y": {
          "bdata": "HL0NZYPemj9zn+n3U3qcP1Cdb7RvEZ4/LaKQELPHnz8exl7LAOGgPwDqKTubD6I/CnLZG+N4oz/ieFq81h2lP8Gd9ij+9qY/iM9Wu1H2qD/L0UWjHAurPwdvZmM0J60/GUabV29Erz/TqMdzg7SwP+gpp6LO1LE/J2iDA/4Tsz9SQAveI4e0P8cLbl+cQ7Y/HOsYkF9auD9LzLxrjdO6PzXPXOBYq70/bPjZT6powD/Vfze5XhXCP6/eNSLfy8M/aX7u8Xd9xT9ahKBw1SDHP5J06TOptcg/5ZWq1dhGyj8VwL2td+rLP0z8rxg7v80/R97SYa7nzz/asZFPBULRP8AQ3eUM1tI/3jbfkma11D80lF4QiN7WP6PR2rxrStk/xR94nUHw2z/kKHE7xMreP4nJKPMN7+A/upTHCGie4j+NT1OfEYXkP27PdEw5vOY/+21plGph6T+lplm8FpHsPxSUckTAL/A/h9MmV51o8j9mvvTdYOr0Pyo+nO9jn/c/SsTECT1l+j+iq2uFLw/9P9wDqeTFav8/NHH3Bv6iAEB6y37O/ToBQJOnDOWcbgFAVBmZEuo3AUBwkbEArJoAQLtQzI+fR/8/WxdJ6wHP/D+BE8k1lvz5P69lr0qfA/c/4bGh2UsT9D+9HBgLzVHxP27/7c7Vsu0/yW45qZVv6T8btvpEW97lP1WHNWgu8uI/WL4kDk+T4D8NsfPLt0vdPz6/BAyRHto/WOUWH+dz1z/+6hX6Wi3VP4KW+5nhONM/gikGM7GN0T/sS3igBijQPw0WYTMZCs4/e8BOqbk/zD+ZalwhPeDKP//Lu3SX1Mk/gV3u4n4CyT+oZK4831DIP7fwNAw+rMc/s7VIjNcJxz+AiB5oqmjGPyd1HhM50MU/tw3R61hNxT/ISkBO2u3EP6GF0OYSvMQ/DABRAVO7xD/1gB64EubEPzBM1GE8LsU/zlHOcn5/xT+UPrCSG8PFP8cR7Ndc5MU/RQhGVanUxT+cNX+dXY7FPyE2bWXHFcU/6UwC3BN4xD+ijM+IcsjDPyHuheYQHMM/HsVVMs+Fwj9JbNm+mBLCPwcn6LUgx8E/unvIGHKfwT8i6MINWpDBP2UTU1BNisE/MlUR/Rp9wT+KHrY9mFvBP0WkRLl4HsE/Y4T667vFwD/8SicQa1jAP/czihKGxb8/vNnNX3nmvj8kxkXBQi6+PwFjt4Xbrr0/gKrwkFxtvT8NtFdSjGC9P3JBou2Acr0/QVbNS+uEvT+kZNAzEne9Pz+TqIYxLL0/I4S7H+mQvD9y0ACSp567P9h4NLp1XLo/sQ5L2RvduD+pTdDlJTu3P19ELJS0k7U/w9TkAzcBtD8ohGIUGJeyP+KqQcgiX7E/TLEt8PZYsD8R4woS6fauP8uvRk1Eb60/SObFHqn4qz8d45BQmXOqPx7RkA03yag/hMK+WLDupj/UBILx/OWkP4MU5iYyvKI/magAyyGGoD9iuBfgabicP6VIHZfmrJg/pBnHL+sSlT++YTuuXAmSP57S431dSI8/BXySYwLciz9Wrb7OEtaJP9jxio5MOIk/jNiUzi0Cij+g+LcwPDKMP81Mj4Smw48/ErL2tWJUkj9x6I9W82GVPwxs17k18Jg/QQKdkjfXnD8QPCMktnCgPxj3cCk6Z6I/QKGG0kwspD/U2KEMK56lP/w19ltXoKY/FMe/t28fpz+vDQ9a6xOnPzartRcug6Y/XUz2wa9+pT8DY7HLVyGkP5VBVOuIi6I/sI5rOJjeoD+Ezus2AnGePyEY8+wfYZs/ztOSDAGrmD/KubendVqWP449TeQLbJQ/Y1rJ3InRkj9P9jR9WXeRPzANUFe8SZA/9k/MfKVxjj+OA8kNwnWMP8Pn0d9cmYo/svvwiIPgiD+B8n3sF1WHPxFYRS9qAYY/nWNBK3TrhD/lfkkbwBGEP6HY8CCEaoM/KDFW/O7kgj/5hkuTJmyCP1yD4HEm64E/bkFV8Y9QgT96831gl5GAPwpDToH8Vn8/YIHknc5GfT89xyydXgl7P6UrptWBvHg/ZnVXoQh/dj/NgQioHWt0P/SbP1QvknI/Hy9ztf76cD+lziNY20NvP8QFzGRg9mw/DOdiyWLsaj/U3xWQsgJpPw==",
          "dtype": "f8"
         }
        },
        {
         "mode": "lines",
         "name": "Label 1",
         "type": "scatter",
         "x": {
          "bdata": "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",
          "dtype": "f8"
         },
         "y": {
          "bdata": "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",
          "dtype": "f8"
         }
        },
        {
         "mode": "lines",
         "name": "Label 2",
         "type": "scatter",
         "x": {
          "bdata": "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",
          "dtype": "f8"
         },
         "y": {
          "bdata": "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",
          "dtype": "f8"
         }
        },
        {
         "mode": "lines",
         "name": "Label 3",
         "type": "scatter",
         "x": {
          "bdata": "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",
          "dtype": "f8"
         },
         "y": {
          "bdata": "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",
          "dtype": "f8"
         }
        }
       ],
       "layout": {
        "template": {
         "data": {
          "bar": [
           {
            "error_x": {
             "color": "#2a3f5f"
            },
            "error_y": {
             "color": "#2a3f5f"
            },
            "marker": {
             "line": {
              "color": "#E5ECF6",
              "width": 0.5
             },
             "pattern": {
              "fillmode": "overlay",
              "size": 10,
              "solidity": 0.2
             }
            },
            "type": "bar"
           }
          ],
          "barpolar": [
           {
            "marker": {
             "line": {
              "color": "#E5ECF6",
              "width": 0.5
             },
             "pattern": {
              "fillmode": "overlay",
              "size": 10,
              "solidity": 0.2
             }
            },
            "type": "barpolar"
           }
          ],
          "carpet": [
           {
            "aaxis": {
             "endlinecolor": "#2a3f5f",
             "gridcolor": "white",
             "linecolor": "white",
             "minorgridcolor": "white",
             "startlinecolor": "#2a3f5f"
            },
            "baxis": {
             "endlinecolor": "#2a3f5f",
             "gridcolor": "white",
             "linecolor": "white",
             "minorgridcolor": "white",
             "startlinecolor": "#2a3f5f"
            },
            "type": "carpet"
           }
          ],
          "choropleth": [
           {
            "colorbar": {
             "outlinewidth": 0,
             "ticks": ""
            },
            "type": "choropleth"
           }
          ],
          "contour": [
           {
            "colorbar": {
             "outlinewidth": 0,
             "ticks": ""
            },
            "colorscale": [
             [
              0,
              "#0d0887"
             ],
             [
              0.1111111111111111,
              "#46039f"
             ],
             [
              0.2222222222222222,
              "#7201a8"
             ],
             [
              0.3333333333333333,
              "#9c179e"
             ],
             [
              0.4444444444444444,
              "#bd3786"
             ],
             [
              0.5555555555555556,
              "#d8576b"
             ],
             [
              0.6666666666666666,
              "#ed7953"
             ],
             [
              0.7777777777777778,
              "#fb9f3a"
             ],
             [
              0.8888888888888888,
              "#fdca26"
             ],
             [
              1,
              "#f0f921"
             ]
            ],
            "type": "contour"
           }
          ],
          "contourcarpet": [
           {
            "colorbar": {
             "outlinewidth": 0,
             "ticks": ""
            },
            "type": "contourcarpet"
           }
          ],
          "heatmap": [
           {
            "colorbar": {
             "outlinewidth": 0,
             "ticks": ""
            },
            "colorscale": [
             [
              0,
              "#0d0887"
             ],
             [
              0.1111111111111111,
              "#46039f"
             ],
             [
              0.2222222222222222,
              "#7201a8"
             ],
             [
              0.3333333333333333,
              "#9c179e"
             ],
             [
              0.4444444444444444,
              "#bd3786"
             ],
             [
              0.5555555555555556,
              "#d8576b"
             ],
             [
              0.6666666666666666,
              "#ed7953"
             ],
             [
              0.7777777777777778,
              "#fb9f3a"
             ],
             [
              0.8888888888888888,
              "#fdca26"
             ],
             [
              1,
              "#f0f921"
             ]
            ],
            "type": "heatmap"
           }
          ],
          "histogram": [
           {
            "marker": {
             "pattern": {
              "fillmode": "overlay",
              "size": 10,
              "solidity": 0.2
             }
            },
            "type": "histogram"
           }
          ],
          "histogram2d": [
           {
            "colorbar": {
             "outlinewidth": 0,
             "ticks": ""
            },
            "colorscale": [
             [
              0,
              "#0d0887"
             ],
             [
              0.1111111111111111,
              "#46039f"
             ],
             [
              0.2222222222222222,
              "#7201a8"
             ],
             [
              0.3333333333333333,
              "#9c179e"
             ],
             [
              0.4444444444444444,
              "#bd3786"
             ],
             [
              0.5555555555555556,
              "#d8576b"
             ],
             [
              0.6666666666666666,
              "#ed7953"
             ],
             [
              0.7777777777777778,
              "#fb9f3a"
             ],
             [
              0.8888888888888888,
              "#fdca26"
             ],
             [
              1,
              "#f0f921"
             ]
            ],
            "type": "histogram2d"
           }
          ],
          "histogram2dcontour": [
           {
            "colorbar": {
             "outlinewidth": 0,
             "ticks": ""
            },
            "colorscale": [
             [
              0,
              "#0d0887"
             ],
             [
              0.1111111111111111,
              "#46039f"
             ],
             [
              0.2222222222222222,
              "#7201a8"
             ],
             [
              0.3333333333333333,
              "#9c179e"
             ],
             [
              0.4444444444444444,
              "#bd3786"
             ],
             [
              0.5555555555555556,
              "#d8576b"
             ],
             [
              0.6666666666666666,
              "#ed7953"
             ],
             [
              0.7777777777777778,
              "#fb9f3a"
             ],
             [
              0.8888888888888888,
              "#fdca26"
             ],
             [
              1,
              "#f0f921"
             ]
            ],
            "type": "histogram2dcontour"
           }
          ],
          "mesh3d": [
           {
            "colorbar": {
             "outlinewidth": 0,
             "ticks": ""
            },
            "type": "mesh3d"
           }
          ],
          "parcoords": [
           {
            "line": {
             "colorbar": {
              "outlinewidth": 0,
              "ticks": ""
             }
            },
            "type": "parcoords"
           }
          ],
          "pie": [
           {
            "automargin": true,
            "type": "pie"
           }
          ],
          "scatter": [
           {
            "fillpattern": {
             "fillmode": "overlay",
             "size": 10,
             "solidity": 0.2
            },
            "type": "scatter"
           }
          ],
          "scatter3d": [
           {
            "line": {
             "colorbar": {
              "outlinewidth": 0,
              "ticks": ""
             }
            },
            "marker": {
             "colorbar": {
              "outlinewidth": 0,
              "ticks": ""
             }
            },
            "type": "scatter3d"
           }
          ],
          "scattercarpet": [
           {
            "marker": {
             "colorbar": {
              "outlinewidth": 0,
              "ticks": ""
             }
            },
            "type": "scattercarpet"
           }
          ],
          "scattergeo": [
           {
            "marker": {
             "colorbar": {
              "outlinewidth": 0,
              "ticks": ""
             }
            },
            "type": "scattergeo"
           }
          ],
          "scattergl": [
           {
            "marker": {
             "colorbar": {
              "outlinewidth": 0,
              "ticks": ""
             }
            },
            "type": "scattergl"
           }
          ],
          "scattermap": [
           {
            "marker": {
             "colorbar": {
              "outlinewidth": 0,
              "ticks": ""
             }
            },
            "type": "scattermap"
           }
          ],
          "scattermapbox": [
           {
            "marker": {
             "colorbar": {
              "outlinewidth": 0,
              "ticks": ""
             }
            },
            "type": "scattermapbox"
           }
          ],
          "scatterpolar": [
           {
            "marker": {
             "colorbar": {
              "outlinewidth": 0,
              "ticks": ""
             }
            },
            "type": "scatterpolar"
           }
          ],
          "scatterpolargl": [
           {
            "marker": {
             "colorbar": {
              "outlinewidth": 0,
              "ticks": ""
             }
            },
            "type": "scatterpolargl"
           }
          ],
          "scatterternary": [
           {
            "marker": {
             "colorbar": {
              "outlinewidth": 0,
              "ticks": ""
             }
            },
            "type": "scatterternary"
           }
          ],
          "surface": [
           {
            "colorbar": {
             "outlinewidth": 0,
             "ticks": ""
            },
            "colorscale": [
             [
              0,
              "#0d0887"
             ],
             [
              0.1111111111111111,
              "#46039f"
             ],
             [
              0.2222222222222222,
              "#7201a8"
             ],
             [
              0.3333333333333333,
              "#9c179e"
             ],
             [
              0.4444444444444444,
              "#bd3786"
             ],
             [
              0.5555555555555556,
              "#d8576b"
             ],
             [
              0.6666666666666666,
              "#ed7953"
             ],
             [
              0.7777777777777778,
              "#fb9f3a"
             ],
             [
              0.8888888888888888,
              "#fdca26"
             ],
             [
              1,
              "#f0f921"
             ]
            ],
            "type": "surface"
           }
          ],
          "table": [
           {
            "cells": {
             "fill": {
              "color": "#EBF0F8"
             },
             "line": {
              "color": "white"
             }
            },
            "header": {
             "fill": {
              "color": "#C8D4E3"
             },
             "line": {
              "color": "white"
             }
            },
            "type": "table"
           }
          ]
         },
         "layout": {
          "annotationdefaults": {
           "arrowcolor": "#2a3f5f",
           "arrowhead": 0,
           "arrowwidth": 1
          },
          "autotypenumbers": "strict",
          "coloraxis": {
           "colorbar": {
            "outlinewidth": 0,
            "ticks": ""
           }
          },
          "colorscale": {
           "diverging": [
            [
             0,
             "#8e0152"
            ],
            [
             0.1,
             "#c51b7d"
            ],
            [
             0.2,
             "#de77ae"
            ],
            [
             0.3,
             "#f1b6da"
            ],
            [
             0.4,
             "#fde0ef"
            ],
            [
             0.5,
             "#f7f7f7"
            ],
            [
             0.6,
             "#e6f5d0"
            ],
            [
             0.7,
             "#b8e186"
            ],
            [
             0.8,
             "#7fbc41"
            ],
            [
             0.9,
             "#4d9221"
            ],
            [
             1,
             "#276419"
            ]
           ],
           "sequential": [
            [
             0,
             "#0d0887"
            ],
            [
             0.1111111111111111,
             "#46039f"
            ],
            [
             0.2222222222222222,
             "#7201a8"
            ],
            [
             0.3333333333333333,
             "#9c179e"
            ],
            [
             0.4444444444444444,
             "#bd3786"
            ],
            [
             0.5555555555555556,
             "#d8576b"
            ],
            [
             0.6666666666666666,
             "#ed7953"
            ],
            [
             0.7777777777777778,
             "#fb9f3a"
            ],
            [
             0.8888888888888888,
             "#fdca26"
            ],
            [
             1,
             "#f0f921"
            ]
           ],
           "sequentialminus": [
            [
             0,
             "#0d0887"
            ],
            [
             0.1111111111111111,
             "#46039f"
            ],
            [
             0.2222222222222222,
             "#7201a8"
            ],
            [
             0.3333333333333333,
             "#9c179e"
            ],
            [
             0.4444444444444444,
             "#bd3786"
            ],
            [
             0.5555555555555556,
             "#d8576b"
            ],
            [
             0.6666666666666666,
             "#ed7953"
            ],
            [
             0.7777777777777778,
             "#fb9f3a"
            ],
            [
             0.8888888888888888,
             "#fdca26"
            ],
            [
             1,
             "#f0f921"
            ]
           ]
          },
          "colorway": [
           "#636efa",
           "#EF553B",
           "#00cc96",
           "#ab63fa",
           "#FFA15A",
           "#19d3f3",
           "#FF6692",
           "#B6E880",
           "#FF97FF",
           "#FECB52"
          ],
          "font": {
           "color": "#2a3f5f"
          },
          "geo": {
           "bgcolor": "white",
           "lakecolor": "white",
           "landcolor": "#E5ECF6",
           "showlakes": true,
           "showland": true,
           "subunitcolor": "white"
          },
          "hoverlabel": {
           "align": "left"
          },
          "hovermode": "closest",
          "mapbox": {
           "style": "light"
          },
          "paper_bgcolor": "white",
          "plot_bgcolor": "#E5ECF6",
          "polar": {
           "angularaxis": {
            "gridcolor": "white",
            "linecolor": "white",
            "ticks": ""
           },
           "bgcolor": "#E5ECF6",
           "radialaxis": {
            "gridcolor": "white",
            "linecolor": "white",
            "ticks": ""
           }
          },
          "scene": {
           "xaxis": {
            "backgroundcolor": "#E5ECF6",
            "gridcolor": "white",
            "gridwidth": 2,
            "linecolor": "white",
            "showbackground": true,
            "ticks": "",
            "zerolinecolor": "white"
           },
           "yaxis": {
            "backgroundcolor": "#E5ECF6",
            "gridcolor": "white",
            "gridwidth": 2,
            "linecolor": "white",
            "showbackground": true,
            "ticks": "",
            "zerolinecolor": "white"
           },
           "zaxis": {
            "backgroundcolor": "#E5ECF6",
            "gridcolor": "white",
            "gridwidth": 2,
            "linecolor": "white",
            "showbackground": true,
            "ticks": "",
            "zerolinecolor": "white"
           }
          },
          "shapedefaults": {
           "line": {
            "color": "#2a3f5f"
           }
          },
          "ternary": {
           "aaxis": {
            "gridcolor": "white",
            "linecolor": "white",
            "ticks": ""
           },
           "baxis": {
            "gridcolor": "white",
            "linecolor": "white",
            "ticks": ""
           },
           "bgcolor": "#E5ECF6",
           "caxis": {
            "gridcolor": "white",
            "linecolor": "white",
            "ticks": ""
           }
          },
          "title": {
           "x": 0.05
          },
          "xaxis": {
           "automargin": true,
           "gridcolor": "white",
           "linecolor": "white",
           "ticks": "",
           "title": {
            "standoff": 15
           },
           "zerolinecolor": "white",
           "zerolinewidth": 2
          },
          "yaxis": {
           "automargin": true,
           "gridcolor": "white",
           "linecolor": "white",
           "ticks": "",
           "title": {
            "standoff": 15
           },
           "zerolinecolor": "white",
           "zerolinewidth": 2
          }
         }
        },
        "title": {
         "text": "KDE Plot for Feature 'Y' by Label"
        },
        "xaxis": {
         "title": {
          "text": "Y"
         }
        },
        "yaxis": {
         "title": {
          "text": "Density"
         }
        }
       }
      }
     },
     "metadata": {},
     "output_type": "display_data"
    }
   ],
   "source": [
    "import numpy as np\n",
    "import pandas as pd\n",
    "import plotly.graph_objects as go\n",
    "from scipy.stats import gaussian_kde\n",
    "\n",
    "X_test_df = pd.DataFrame(X_test_scaled, columns=X.columns)\n",
    "X_test_df['label'] = y_test.values\n",
    "\n",
    "top_features = importance_df.head(3)['Feature'].tolist()\n",
    "\n",
    "for feature in top_features:\n",
    "    fig = go.Figure()\n",
    "    \n",
    "    for label in sorted(X_test_df['label'].unique()):\n",
    "        data = X_test_df[X_test_df['label'] == label][feature]\n",
    "        \n",
    "        # Compute KDE\n",
    "        kde = gaussian_kde(data)\n",
    "        x_range = np.linspace(data.min(), data.max(), 200)\n",
    "        y_kde = kde(x_range)\n",
    "        \n",
    "        fig.add_trace(go.Scatter(\n",
    "            x=x_range,\n",
    "            y=y_kde,\n",
    "            mode='lines',\n",
    "            name=f'Label {label}'\n",
    "        ))\n",
    "    \n",
    "    fig.update_layout(\n",
    "        title=f\"KDE Plot for Feature '{feature}' by Label\",\n",
    "        xaxis_title=feature,\n",
    "        yaxis_title='Density'\n",
    "    )\n",
    "    \n",
    "    fig.show()\n"
   ]
  },
  {
   "cell_type": "markdown",
   "id": "dfee38d3",
   "metadata": {},
   "source": [
    "###  Learning Curve (Train Size vs Accuracy)"
   ]
  },
  {
   "cell_type": "code",
   "execution_count": 7,
   "id": "b31c8f86",
   "metadata": {},
   "outputs": [
    {
     "data": {
      "application/vnd.plotly.v1+json": {
       "config": {
        "plotlyServerURL": "https://plot.ly"
       },
       "data": [
        {
         "mode": "lines+markers",
         "name": "Training Accuracy",
         "type": "scatter",
         "x": {
          "bdata": "mpmZmZmZuT+amZmZmZnJPzQzMzMzM9M/mpmZmZmZ2T8AAAAAAADgPzMzMzMzM+M/Z2ZmZmZm5j+amZmZmZnpP83MzMzMzOw/",
          "dtype": "f8"
         },
         "y": [
          0.9720744680851063,
          0.9729609929078015,
          0.9799084059683852,
          0.9797229916897507,
          0.97775217160078,
          0.9764366967055695,
          0.9822084335823731,
          0.9769541853636917,
          0.9752794602846309
         ]
        },
        {
         "mode": "lines+markers",
         "name": "Validation Accuracy",
         "type": "scatter",
         "x": {
          "bdata": "mpmZmZmZuT+amZmZmZnJPzQzMzMzM9M/mpmZmZmZ2T8AAAAAAADgPzMzMzMzM+M/Z2ZmZmZm5j+amZmZmZnpP83MzMzMzOw/",
          "dtype": "f8"
         },
         "y": [
          0.9551497961354369,
          0.9608225491934054,
          0.9691544052472966,
          0.9711044141109733,
          0.9657862081191279,
          0.9696862258464811,
          0.9753589789044496,
          0.9707498670448502,
          0.9687998581811735
         ]
        }
       ],
       "layout": {
        "template": {
         "data": {
          "bar": [
           {
            "error_x": {
             "color": "#2a3f5f"
            },
            "error_y": {
             "color": "#2a3f5f"
            },
            "marker": {
             "line": {
              "color": "#E5ECF6",
              "width": 0.5
             },
             "pattern": {
              "fillmode": "overlay",
              "size": 10,
              "solidity": 0.2
             }
            },
            "type": "bar"
           }
          ],
          "barpolar": [
           {
            "marker": {
             "line": {
              "color": "#E5ECF6",
              "width": 0.5
             },
             "pattern": {
              "fillmode": "overlay",
              "size": 10,
              "solidity": 0.2
             }
            },
            "type": "barpolar"
           }
          ],
          "carpet": [
           {
            "aaxis": {
             "endlinecolor": "#2a3f5f",
             "gridcolor": "white",
             "linecolor": "white",
             "minorgridcolor": "white",
             "startlinecolor": "#2a3f5f"
            },
            "baxis": {
             "endlinecolor": "#2a3f5f",
             "gridcolor": "white",
             "linecolor": "white",
             "minorgridcolor": "white",
             "startlinecolor": "#2a3f5f"
            },
            "type": "carpet"
           }
          ],
          "choropleth": [
           {
            "colorbar": {
             "outlinewidth": 0,
             "ticks": ""
            },
            "type": "choropleth"
           }
          ],
          "contour": [
           {
            "colorbar": {
             "outlinewidth": 0,
             "ticks": ""
            },
            "colorscale": [
             [
              0,
              "#0d0887"
             ],
             [
              0.1111111111111111,
              "#46039f"
             ],
             [
              0.2222222222222222,
              "#7201a8"
             ],
             [
              0.3333333333333333,
              "#9c179e"
             ],
             [
              0.4444444444444444,
              "#bd3786"
             ],
             [
              0.5555555555555556,
              "#d8576b"
             ],
             [
              0.6666666666666666,
              "#ed7953"
             ],
             [
              0.7777777777777778,
              "#fb9f3a"
             ],
             [
              0.8888888888888888,
              "#fdca26"
             ],
             [
              1,
              "#f0f921"
             ]
            ],
            "type": "contour"
           }
          ],
          "contourcarpet": [
           {
            "colorbar": {
             "outlinewidth": 0,
             "ticks": ""
            },
            "type": "contourcarpet"
           }
          ],
          "heatmap": [
           {
            "colorbar": {
             "outlinewidth": 0,
             "ticks": ""
            },
            "colorscale": [
             [
              0,
              "#0d0887"
             ],
             [
              0.1111111111111111,
              "#46039f"
             ],
             [
              0.2222222222222222,
              "#7201a8"
             ],
             [
              0.3333333333333333,
              "#9c179e"
             ],
             [
              0.4444444444444444,
              "#bd3786"
             ],
             [
              0.5555555555555556,
              "#d8576b"
             ],
             [
              0.6666666666666666,
              "#ed7953"
             ],
             [
              0.7777777777777778,
              "#fb9f3a"
             ],
             [
              0.8888888888888888,
              "#fdca26"
             ],
             [
              1,
              "#f0f921"
             ]
            ],
            "type": "heatmap"
           }
          ],
          "histogram": [
           {
            "marker": {
             "pattern": {
              "fillmode": "overlay",
              "size": 10,
              "solidity": 0.2
             }
            },
            "type": "histogram"
           }
          ],
          "histogram2d": [
           {
            "colorbar": {
             "outlinewidth": 0,
             "ticks": ""
            },
            "colorscale": [
             [
              0,
              "#0d0887"
             ],
             [
              0.1111111111111111,
              "#46039f"
             ],
             [
              0.2222222222222222,
              "#7201a8"
             ],
             [
              0.3333333333333333,
              "#9c179e"
             ],
             [
              0.4444444444444444,
              "#bd3786"
             ],
             [
              0.5555555555555556,
              "#d8576b"
             ],
             [
              0.6666666666666666,
              "#ed7953"
             ],
             [
              0.7777777777777778,
              "#fb9f3a"
             ],
             [
              0.8888888888888888,
              "#fdca26"
             ],
             [
              1,
              "#f0f921"
             ]
            ],
            "type": "histogram2d"
           }
          ],
          "histogram2dcontour": [
           {
            "colorbar": {
             "outlinewidth": 0,
             "ticks": ""
            },
            "colorscale": [
             [
              0,
              "#0d0887"
             ],
             [
              0.1111111111111111,
              "#46039f"
             ],
             [
              0.2222222222222222,
              "#7201a8"
             ],
             [
              0.3333333333333333,
              "#9c179e"
             ],
             [
              0.4444444444444444,
              "#bd3786"
             ],
             [
              0.5555555555555556,
              "#d8576b"
             ],
             [
              0.6666666666666666,
              "#ed7953"
             ],
             [
              0.7777777777777778,
              "#fb9f3a"
             ],
             [
              0.8888888888888888,
              "#fdca26"
             ],
             [
              1,
              "#f0f921"
             ]
            ],
            "type": "histogram2dcontour"
           }
          ],
          "mesh3d": [
           {
            "colorbar": {
             "outlinewidth": 0,
             "ticks": ""
            },
            "type": "mesh3d"
           }
          ],
          "parcoords": [
           {
            "line": {
             "colorbar": {
              "outlinewidth": 0,
              "ticks": ""
             }
            },
            "type": "parcoords"
           }
          ],
          "pie": [
           {
            "automargin": true,
            "type": "pie"
           }
          ],
          "scatter": [
           {
            "fillpattern": {
             "fillmode": "overlay",
             "size": 10,
             "solidity": 0.2
            },
            "type": "scatter"
           }
          ],
          "scatter3d": [
           {
            "line": {
             "colorbar": {
              "outlinewidth": 0,
              "ticks": ""
             }
            },
            "marker": {
             "colorbar": {
              "outlinewidth": 0,
              "ticks": ""
             }
            },
            "type": "scatter3d"
           }
          ],
          "scattercarpet": [
           {
            "marker": {
             "colorbar": {
              "outlinewidth": 0,
              "ticks": ""
             }
            },
            "type": "scattercarpet"
           }
          ],
          "scattergeo": [
           {
            "marker": {
             "colorbar": {
              "outlinewidth": 0,
              "ticks": ""
             }
            },
            "type": "scattergeo"
           }
          ],
          "scattergl": [
           {
            "marker": {
             "colorbar": {
              "outlinewidth": 0,
              "ticks": ""
             }
            },
            "type": "scattergl"
           }
          ],
          "scattermap": [
           {
            "marker": {
             "colorbar": {
              "outlinewidth": 0,
              "ticks": ""
             }
            },
            "type": "scattermap"
           }
          ],
          "scattermapbox": [
           {
            "marker": {
             "colorbar": {
              "outlinewidth": 0,
              "ticks": ""
             }
            },
            "type": "scattermapbox"
           }
          ],
          "scatterpolar": [
           {
            "marker": {
             "colorbar": {
              "outlinewidth": 0,
              "ticks": ""
             }
            },
            "type": "scatterpolar"
           }
          ],
          "scatterpolargl": [
           {
            "marker": {
             "colorbar": {
              "outlinewidth": 0,
              "ticks": ""
             }
            },
            "type": "scatterpolargl"
           }
          ],
          "scatterternary": [
           {
            "marker": {
             "colorbar": {
              "outlinewidth": 0,
              "ticks": ""
             }
            },
            "type": "scatterternary"
           }
          ],
          "surface": [
           {
            "colorbar": {
             "outlinewidth": 0,
             "ticks": ""
            },
            "colorscale": [
             [
              0,
              "#0d0887"
             ],
             [
              0.1111111111111111,
              "#46039f"
             ],
             [
              0.2222222222222222,
              "#7201a8"
             ],
             [
              0.3333333333333333,
              "#9c179e"
             ],
             [
              0.4444444444444444,
              "#bd3786"
             ],
             [
              0.5555555555555556,
              "#d8576b"
             ],
             [
              0.6666666666666666,
              "#ed7953"
             ],
             [
              0.7777777777777778,
              "#fb9f3a"
             ],
             [
              0.8888888888888888,
              "#fdca26"
             ],
             [
              1,
              "#f0f921"
             ]
            ],
            "type": "surface"
           }
          ],
          "table": [
           {
            "cells": {
             "fill": {
              "color": "#EBF0F8"
             },
             "line": {
              "color": "white"
             }
            },
            "header": {
             "fill": {
              "color": "#C8D4E3"
             },
             "line": {
              "color": "white"
             }
            },
            "type": "table"
           }
          ]
         },
         "layout": {
          "annotationdefaults": {
           "arrowcolor": "#2a3f5f",
           "arrowhead": 0,
           "arrowwidth": 1
          },
          "autotypenumbers": "strict",
          "coloraxis": {
           "colorbar": {
            "outlinewidth": 0,
            "ticks": ""
           }
          },
          "colorscale": {
           "diverging": [
            [
             0,
             "#8e0152"
            ],
            [
             0.1,
             "#c51b7d"
            ],
            [
             0.2,
             "#de77ae"
            ],
            [
             0.3,
             "#f1b6da"
            ],
            [
             0.4,
             "#fde0ef"
            ],
            [
             0.5,
             "#f7f7f7"
            ],
            [
             0.6,
             "#e6f5d0"
            ],
            [
             0.7,
             "#b8e186"
            ],
            [
             0.8,
             "#7fbc41"
            ],
            [
             0.9,
             "#4d9221"
            ],
            [
             1,
             "#276419"
            ]
           ],
           "sequential": [
            [
             0,
             "#0d0887"
            ],
            [
             0.1111111111111111,
             "#46039f"
            ],
            [
             0.2222222222222222,
             "#7201a8"
            ],
            [
             0.3333333333333333,
             "#9c179e"
            ],
            [
             0.4444444444444444,
             "#bd3786"
            ],
            [
             0.5555555555555556,
             "#d8576b"
            ],
            [
             0.6666666666666666,
             "#ed7953"
            ],
            [
             0.7777777777777778,
             "#fb9f3a"
            ],
            [
             0.8888888888888888,
             "#fdca26"
            ],
            [
             1,
             "#f0f921"
            ]
           ],
           "sequentialminus": [
            [
             0,
             "#0d0887"
            ],
            [
             0.1111111111111111,
             "#46039f"
            ],
            [
             0.2222222222222222,
             "#7201a8"
            ],
            [
             0.3333333333333333,
             "#9c179e"
            ],
            [
             0.4444444444444444,
             "#bd3786"
            ],
            [
             0.5555555555555556,
             "#d8576b"
            ],
            [
             0.6666666666666666,
             "#ed7953"
            ],
            [
             0.7777777777777778,
             "#fb9f3a"
            ],
            [
             0.8888888888888888,
             "#fdca26"
            ],
            [
             1,
             "#f0f921"
            ]
           ]
          },
          "colorway": [
           "#636efa",
           "#EF553B",
           "#00cc96",
           "#ab63fa",
           "#FFA15A",
           "#19d3f3",
           "#FF6692",
           "#B6E880",
           "#FF97FF",
           "#FECB52"
          ],
          "font": {
           "color": "#2a3f5f"
          },
          "geo": {
           "bgcolor": "white",
           "lakecolor": "white",
           "landcolor": "#E5ECF6",
           "showlakes": true,
           "showland": true,
           "subunitcolor": "white"
          },
          "hoverlabel": {
           "align": "left"
          },
          "hovermode": "closest",
          "mapbox": {
           "style": "light"
          },
          "paper_bgcolor": "white",
          "plot_bgcolor": "#E5ECF6",
          "polar": {
           "angularaxis": {
            "gridcolor": "white",
            "linecolor": "white",
            "ticks": ""
           },
           "bgcolor": "#E5ECF6",
           "radialaxis": {
            "gridcolor": "white",
            "linecolor": "white",
            "ticks": ""
           }
          },
          "scene": {
           "xaxis": {
            "backgroundcolor": "#E5ECF6",
            "gridcolor": "white",
            "gridwidth": 2,
            "linecolor": "white",
            "showbackground": true,
            "ticks": "",
            "zerolinecolor": "white"
           },
           "yaxis": {
            "backgroundcolor": "#E5ECF6",
            "gridcolor": "white",
            "gridwidth": 2,
            "linecolor": "white",
            "showbackground": true,
            "ticks": "",
            "zerolinecolor": "white"
           },
           "zaxis": {
            "backgroundcolor": "#E5ECF6",
            "gridcolor": "white",
            "gridwidth": 2,
            "linecolor": "white",
            "showbackground": true,
            "ticks": "",
            "zerolinecolor": "white"
           }
          },
          "shapedefaults": {
           "line": {
            "color": "#2a3f5f"
           }
          },
          "ternary": {
           "aaxis": {
            "gridcolor": "white",
            "linecolor": "white",
            "ticks": ""
           },
           "baxis": {
            "gridcolor": "white",
            "linecolor": "white",
            "ticks": ""
           },
           "bgcolor": "#E5ECF6",
           "caxis": {
            "gridcolor": "white",
            "linecolor": "white",
            "ticks": ""
           }
          },
          "title": {
           "x": 0.05
          },
          "xaxis": {
           "automargin": true,
           "gridcolor": "white",
           "linecolor": "white",
           "ticks": "",
           "title": {
            "standoff": 15
           },
           "zerolinecolor": "white",
           "zerolinewidth": 2
          },
          "yaxis": {
           "automargin": true,
           "gridcolor": "white",
           "linecolor": "white",
           "ticks": "",
           "title": {
            "standoff": 15
           },
           "zerolinecolor": "white",
           "zerolinewidth": 2
          }
         }
        },
        "title": {
         "text": "Learning Curve - KNN Classifier"
        },
        "xaxis": {
         "title": {
          "text": "Training Set Size Proportion"
         }
        },
        "yaxis": {
         "range": [
          0,
          1
         ],
         "title": {
          "text": "Accuracy"
         }
        }
       }
      }
     },
     "metadata": {},
     "output_type": "display_data"
    }
   ],
   "source": [
    "import numpy as np\n",
    "import plotly.graph_objects as go\n",
    "from sklearn.model_selection import train_test_split\n",
    "\n",
    "train_sizes = np.linspace(0.1, 0.9, 9)  # Avoid 1.0\n",
    "train_scores = []\n",
    "val_scores = []\n",
    "\n",
    "for size in train_sizes:\n",
    "    X_train_part, _, y_train_part, _ = train_test_split(\n",
    "        X_train_scaled, y_train, train_size=float(size), random_state=42\n",
    "    )\n",
    "    knn.fit(X_train_part, y_train_part)\n",
    "    train_scores.append(knn.score(X_train_part, y_train_part))\n",
    "    val_scores.append(knn.score(X_test_scaled, y_test))\n",
    "\n",
    "fig = go.Figure()\n",
    "fig.add_trace(go.Scatter(x=train_sizes, y=train_scores, mode='lines+markers', name='Training Accuracy'))\n",
    "fig.add_trace(go.Scatter(x=train_sizes, y=val_scores, mode='lines+markers', name='Validation Accuracy'))\n",
    "\n",
    "fig.update_layout(\n",
    "    title='Learning Curve - KNN Classifier',\n",
    "    xaxis_title='Training Set Size Proportion',\n",
    "    yaxis_title='Accuracy',\n",
    "    yaxis=dict(range=[0, 1])\n",
    ")\n",
    "fig.show()\n"
   ]
  }
 ],
 "metadata": {
  "kernelspec": {
   "display_name": "Python 3",
   "language": "python",
   "name": "python3"
  },
  "language_info": {
   "codemirror_mode": {
    "name": "ipython",
    "version": 3
   },
   "file_extension": ".py",
   "mimetype": "text/x-python",
   "name": "python",
   "nbconvert_exporter": "python",
   "pygments_lexer": "ipython3",
   "version": "3.13.1"
  }
 },
 "nbformat": 4,
 "nbformat_minor": 5
}
