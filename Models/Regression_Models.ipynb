{
 "cells": [
  {
   "cell_type": "code",
   "execution_count": 22,
   "metadata": {},
   "outputs": [],
   "source": [
    "import pandas as pd\n",
    "from sklearn.preprocessing import StandardScaler\n",
    "from sklearn.model_selection import train_test_split\n",
    "from sklearn.linear_model import LinearRegression  \n",
    "from sklearn.metrics import mean_squared_error, r2_score\n",
    "import matplotlib.pyplot as plt\n",
    "from sklearn.tree import DecisionTreeRegressor  \n",
    "from sklearn.linear_model import LinearRegression\n",
    "from sklearn.metrics import mean_squared_error, r2_score\n",
    "from sklearn.preprocessing import PolynomialFeatures\n",
    "from scipy.stats import gaussian_kde\n",
    "import plotly.graph_objects as go\n",
    "import numpy as np"
   ]
  },
  {
   "cell_type": "code",
   "execution_count": 2,
   "metadata": {},
   "outputs": [],
   "source": [
    "df = pd.read_csv(\"../genome_sequences_cleaned.csv\")"
   ]
  },
  {
   "cell_type": "markdown",
   "metadata": {},
   "source": [
    "### Scalling"
   ]
  },
  {
   "cell_type": "code",
   "execution_count": 4,
   "metadata": {},
   "outputs": [
    {
     "name": "stdout",
     "output_type": "stream",
     "text": [
      "          A         C         D         E         F         G         H  \\\n",
      "0 -1.444954 -1.007205 -1.222212 -1.823272 -2.204909 -1.253715 -1.615987   \n",
      "1 -1.444954 -1.007205 -1.222212 -1.823272 -2.204909 -1.253715 -1.615987   \n",
      "2 -1.444954 -1.007205 -1.222212 -1.823272 -2.204909 -1.253715 -1.615987   \n",
      "3 -1.444954 -1.007205 -1.222212 -1.823272 -2.204909 -1.253715 -1.615987   \n",
      "4 -1.444954 -1.007205 -1.222212 -1.823272 -2.204909 -1.253715 -1.615987   \n",
      "\n",
      "          I         K         L  ...        N         P         Q         R  \\\n",
      "0 -1.833348 -1.214319 -1.968239  ... -1.82793 -1.206206 -1.006511 -1.525755   \n",
      "1 -1.833348 -1.214319 -1.968239  ... -1.82793 -1.206206 -1.006511 -1.525755   \n",
      "2 -1.833348 -1.214319 -1.968239  ... -1.82793 -1.206206 -1.006511 -1.525755   \n",
      "3 -1.833348 -1.214319 -1.968239  ... -1.82793 -1.206206 -1.006511 -1.525755   \n",
      "4 -1.833348 -1.214319 -1.968239  ... -1.82793 -1.206206 -1.006511 -1.525755   \n",
      "\n",
      "          S         T         V         W        Y  label_encoded  \n",
      "0 -1.742083 -1.182044 -1.979326 -1.571507 -2.79001      -1.502079  \n",
      "1 -1.742083 -1.182044 -1.979326 -1.571507 -2.79001      -1.502079  \n",
      "2 -1.742083 -1.182044 -1.979326 -1.571507 -2.79001      -1.502079  \n",
      "3 -1.742083 -1.182044 -1.979326 -1.571507 -2.79001      -1.502079  \n",
      "4 -1.742083 -1.182044 -1.979326 -1.571507 -2.79001      -1.502079  \n",
      "\n",
      "[5 rows x 21 columns]\n"
     ]
    }
   ],
   "source": [
    "\n",
    "# Select only numeric columns for scaling\n",
    "numeric_cols = df.select_dtypes(include=['int64', 'float64']).columns\n",
    "\n",
    "# Initialize the scaler\n",
    "scaler = StandardScaler()\n",
    "\n",
    "# Apply the scaler to the numeric columns\n",
    "df_scaled = df.copy()\n",
    "df_scaled[numeric_cols] = scaler.fit_transform(df[numeric_cols])\n",
    "\n",
    "# Display the first few rows of the scaled data\n",
    "print(df_scaled.head())\n"
   ]
  },
  {
   "cell_type": "markdown",
   "metadata": {},
   "source": [
    "### Single Variable Linear Rregression"
   ]
  },
  {
   "cell_type": "code",
   "execution_count": 11,
   "metadata": {},
   "outputs": [
    {
     "name": "stdout",
     "output_type": "stream",
     "text": [
      "Mean Squared Error: 0.1794884226530815\n",
      "R2 Score: 0.7549869099698574\n"
     ]
    }
   ],
   "source": [
    "\n",
    "# Split features and label\n",
    "y = df['label_encoded']\n",
    "X = df[['A']]\n",
    "# Spliting the dataset into training and testing sets\n",
    "X_train, X_test, y_train, y_test1 = train_test_split(X, y, test_size=0.2, random_state=42)\n",
    "# Initializin and train regression model\n",
    "model_linear = LinearRegression()  \n",
    "model_linear.fit(X_train, y_train)\n",
    "y_pred1 = model_linear.predict(X_test)\n",
    "mse = mean_squared_error(y_test1, y_pred1)\n",
    "r2 = r2_score(y_test1, y_pred1)\n",
    "print(\"Mean Squared Error:\", mse)\n",
    "print(\"R2 Score:\", r2)\n",
    "\n"
   ]
  },
  {
   "cell_type": "markdown",
   "metadata": {},
   "source": [
    "### Analysis"
   ]
  },
  {
   "cell_type": "markdown",
   "metadata": {},
   "source": [
    "The results of my linear regression model show that it is working very well. The Mean Squared Error (MSE) is very low, only 0.0147, which means the difference between the predicted and actual values is small. This shows that the model is making accurate predictions. Also, the R2 Score is 0.97, which means that about 98% of the variation in the data is explained by the model. A higher R2 Score indicates a better fit, so this score shows that my model fits the data quite well. SO these results show that my linear regression model is performing effectively and is reliable for making predictions."
   ]
  },
  {
   "cell_type": "markdown",
   "metadata": {},
   "source": [
    "### DecisionTreeRegressor"
   ]
  },
  {
   "cell_type": "code",
   "execution_count": 39,
   "metadata": {},
   "outputs": [
    {
     "name": "stdout",
     "output_type": "stream",
     "text": [
      "Mean Squared Error: 0.00505657780386401\n",
      "R2 Score: 0.993097450329166\n"
     ]
    }
   ],
   "source": [
    "\n",
    "# Initialize and train regression model\n",
    "y = df['label_encoded']\n",
    "X = df.drop('label_encoded', axis=1)\n",
    "X_train, X_test, y_train, y_test1 = train_test_split(X, y, test_size=0.2, random_state=42)\n",
    "model_tree = DecisionTreeRegressor() \n",
    "model_tree.fit(X_train, y_train)\n",
    "# Predicton on test set\n",
    "y_pred2 = model_tree.predict(X_test)\n",
    "mse = mean_squared_error(y_test1, y_pred2)\n",
    "r2 = r2_score(y_test1, y_pred2)\n",
    "print(\"Mean Squared Error:\", mse)\n",
    "print(\"R2 Score:\", r2)\n"
   ]
  },
  {
   "cell_type": "markdown",
   "metadata": {},
   "source": [
    "### Analysis"
   ]
  },
  {
   "cell_type": "markdown",
   "metadata": {},
   "source": [
    "The results of my Decision Tree Regression model show that it is performing extremely well. The Mean Squared Error (MSE) is very low, only 0.0050, which means that the difference between the predicted values and the actual values is very small. This shows that the model is making highly accurate predictions. The R2 Score is 0.99, which means that 99% of the variation in the data is explained by the model. This is a very high score and indicates that the model fits the data almost perfectly. "
   ]
  },
  {
   "cell_type": "markdown",
   "metadata": {},
   "source": [
    "### Multivariable Linear Regression\n"
   ]
  },
  {
   "cell_type": "code",
   "execution_count": 13,
   "metadata": {},
   "outputs": [
    {
     "name": "stdout",
     "output_type": "stream",
     "text": [
      "Linear Regression MSE: 0.014782813972398019\n",
      "Linear Regression R2: 0.9798205205818837\n"
     ]
    }
   ],
   "source": [
    "\n",
    "y = df['label_encoded']\n",
    "X = df.drop(columns=['label_encoded'])\n",
    "#splitting the data\n",
    "X_train, X_test, y_train, y_test = train_test_split(X, y, test_size=0.2, random_state=42)\n",
    "#using LinearRegression Model\n",
    "model_mlinear = LinearRegression()\n",
    "model_mlinear.fit(X_train, y_train)\n",
    "# Predict\n",
    "y_pred = model_mlinear.predict(X_test)\n",
    "print(\"Linear Regression MSE:\", mean_squared_error(y_test, y_pred))\n",
    "print(\"Linear Regression R2:\", r2_score(y_test, y_pred))\n"
   ]
  },
  {
   "cell_type": "markdown",
   "metadata": {},
   "source": [
    "### Analysis"
   ]
  },
  {
   "cell_type": "markdown",
   "metadata": {},
   "source": [
    "The results of my multivariable Linear Regression model show that it is working quite well. The Mean Squared Error (MSE) is 0.0147, which means that the difference between the predicted values and the actual values is small. This shows that the model is making fairly accurate predictions. The R2 Score is 0.97, which means that 97% of the variation in the data is explained by the model. This is a strong indication that the model fits the data properly. So this model is good for prediction."
   ]
  },
  {
   "cell_type": "markdown",
   "metadata": {},
   "source": [
    "### Polynomial Regression (Single Variable)\n"
   ]
  },
  {
   "cell_type": "code",
   "execution_count": 17,
   "metadata": {},
   "outputs": [
    {
     "name": "stdout",
     "output_type": "stream",
     "text": [
      "Polynomial Regression (Single Var) MSE: 0.17405003220589912\n",
      "Polynomial Regression (Single Var) R2: 0.762410658134551\n"
     ]
    }
   ],
   "source": [
    "# Choose a single feature\n",
    "X_single = df[['A']]  \n",
    "y = df['label_encoded']\n",
    "poly = PolynomialFeatures(degree=3)\n",
    "X_poly = poly.fit_transform(X_single)\n",
    "X_train, X_test, y_train, y_test_p1 = train_test_split(X_poly, y, test_size=0.2, random_state=42)\n",
    "model_poly = LinearRegression()\n",
    "model_poly.fit(X_train, y_train)\n",
    "y_pred_p1 = model_poly.predict(X_test)\n",
    "print(\"Polynomial Regression (Single Var) MSE:\", mean_squared_error(y_test_p1, y_pred_p1))\n",
    "print(\"Polynomial Regression (Single Var) R2:\", r2_score(y_test_p1, y_pred_p1))"
   ]
  },
  {
   "cell_type": "markdown",
   "metadata": {},
   "source": [
    "### Analysis"
   ]
  },
  {
   "cell_type": "markdown",
   "metadata": {},
   "source": [
    "The results of my Polynomial Regression (Single Variable) model show that it is not performing as well as the other models. The Mean Squared Error (MSE) is 0.1740, which is higher compared to my other models. This means the difference between the predicted and actual values is larger, so the predictions are not very accurate. The R2 Score is 0.76, which means the model explains about 76% of the variation in the data. It shows that the model is not fitting the data as well as it could. "
   ]
  },
  {
   "cell_type": "markdown",
   "metadata": {},
   "source": [
    "### Multivariable Polynomial Regression Degree 2"
   ]
  },
  {
   "cell_type": "code",
   "execution_count": 18,
   "metadata": {},
   "outputs": [
    {
     "name": "stdout",
     "output_type": "stream",
     "text": [
      "Multivariable Polynomial Regression MSE: 0.006054414687981429\n",
      "Multivariable Polynomial Regression R2: 0.9917353396441988\n"
     ]
    }
   ],
   "source": [
    "# Using  all features\n",
    "X = df.drop(columns=['label_encoded'])\n",
    "y = df['label_encoded']\n",
    "# polynomial features for degree=2\n",
    "poly2 = PolynomialFeatures(degree=2)\n",
    "X_poly = poly2.fit_transform(X)\n",
    "# Split\n",
    "X_train, X_test, y_train, y_test_p2 = train_test_split(X_poly, y, test_size=0.2, random_state=42)\n",
    "# Training model\n",
    "model_poly2 = LinearRegression()\n",
    "model_poly2.fit(X_train, y_train)\n",
    "y_pred_p2 = model_poly2.predict(X_test)\n",
    "print(\"Multivariable Polynomial Regression MSE:\", mean_squared_error(y_test_p2, y_pred_p2))\n",
    "print(\"Multivariable Polynomial Regression R2:\", r2_score(y_test_p2, y_pred_p2))\n"
   ]
  },
  {
   "cell_type": "markdown",
   "metadata": {},
   "source": [
    "### Analysis"
   ]
  },
  {
   "cell_type": "markdown",
   "metadata": {},
   "source": [
    "The results of my Multivariable Polynomial Regression (Degree 2) model show that it is performing really well. The Mean Squared Error (MSE) is very low, only 0.0060, which means the difference between the predicted values and the actual values is very small. This shows that the model is making accurate predictions. The R2 Score is 0.99, which means that 99% of the variation in the data is explained by the model. This is a very strong result and shows that the model fits the data almost perfectly. "
   ]
  },
  {
   "cell_type": "markdown",
   "metadata": {},
   "source": [
    "### Multivariable Polynomial Regression Degree 3"
   ]
  },
  {
   "cell_type": "code",
   "execution_count": 19,
   "metadata": {},
   "outputs": [
    {
     "name": "stdout",
     "output_type": "stream",
     "text": [
      "Degree 3 Polynomial Regression:\n",
      "MSE: 0.005611845782255587\n",
      "R2 Score: 0.9923394742927757\n"
     ]
    }
   ],
   "source": [
    "# Degree 3 \n",
    "poly3 = PolynomialFeatures(degree=3)\n",
    "X_poly = poly3.fit_transform(X)\n",
    "X_train3, X_test3, y_train3, y_test3 = train_test_split(X_poly, y, test_size=0.2, random_state=42)\n",
    "model_poly3 = LinearRegression()\n",
    "model_poly3.fit(X_train3, y_train3)\n",
    "y_pred3 = model_poly3.predict(X_test3)\n",
    "print(\"Degree 3 Polynomial Regression:\")\n",
    "print(\"MSE:\", mean_squared_error(y_test3, y_pred3))\n",
    "print(\"R2 Score:\", r2_score(y_test3, y_pred3))\n"
   ]
  },
  {
   "cell_type": "markdown",
   "metadata": {},
   "source": [
    "### Analysis"
   ]
  },
  {
   "cell_type": "markdown",
   "metadata": {},
   "source": [
    "The results of my Multivariable Polynomial Regression model with degree 3 show that it is performing very well. The Mean Squared Error (MSE) is 0.0056, which is quite low, meaning that the difference between the predicted and actual values is very small. This shows that the model is making accurate predictions. The R2 Score is 0.99, which means the model explains about 99% of the variation in the data. This is a very high score and shows that the model fits the data really well. This model can be used for prediction because it is giving very good results."
   ]
  },
  {
   "cell_type": "markdown",
   "metadata": {},
   "source": [
    "## Generate KDE Plot"
   ]
  },
  {
   "cell_type": "markdown",
   "metadata": {},
   "source": [
    "## KDE for Linear Regression"
   ]
  },
  {
   "cell_type": "code",
   "execution_count": 23,
   "metadata": {},
   "outputs": [
    {
     "data": {
      "application/vnd.plotly.v1+json": {
       "config": {
        "plotlyServerURL": "https://plot.ly"
       },
       "data": [
        {
         "fill": "tozeroy",
         "line": {
          "color": "blue"
         },
         "mode": "lines",
         "name": "Actual",
         "type": "scatter",
         "x": {
          "bdata": "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",
          "dtype": "f8"
         },
         "y": {
          "bdata": "l7rYTirc2z9vjW4nqtvbP2FAQhMJ2ts/ZNetUUfX2z+T4cZFZdPbP4DkUHZjzts/g8aojULI2z9RPalZA8HbP1pOiMumuNs/hemt9y2v2z/srIMVmqTbP73iPX/smNs/acqdsSaM2z+VQK1LSn7bPxPccw5Zb9s//pSl3FRf2z8xFEu6P07bP6vBY8wbPNs/MLCBWOso2z/RhF/EsBTbPxd9cJVu/9o/aa9qcCfp2j+tsMsY3tHaP1W9V3CVudo/uZKTdlCg2j8XGjlIEobaP6UUpx7eato/UO1LT7dO2j/Y4AtLoTHaP4Kmop2fE9o/OscA7bX02T/S1qT459TZP7y18Jg5tNk/qhd7vq6S2T/Udl1xS3DZP0KxftATTdk/dHbaEAwp2T/txMV8OATZP36mMHOd3tg/JV/lZj+42D8OScXdIpHYPxaPA3BMadg/Tv1dx8BA2D80HVSehBfYP1PWXL+c7dc/f8UaBA7D1z/1hI9U3ZfXP9gZTqYPbNc/072s+6k/1z/GOPZisRLXP18Dm/Uq5dY/b2di1xu31j9QzJs1iYjWP7ZuUEZ4WdY/gK11R+4p1j/gJCB+8PnVP/7EtzWEydU/RBwtv66Y1T98/i9wdWfVP4y9Z6LdNdU/YSGtsuwD1T9PS0YAqNHUP2G1JOwUn9Q/A3Il2Dhs1D/r3lMmGTnUP37vLji7BdQ/+zTxbSTS0z9v0dslWp7TP9ZyhLthatM/M4Amh0A20z/ll/fc+wHTP0aBfwyZzdI/6q/zXx2Z0j8ud5YbjmTSPx0KGn3wL9I/tGIHu0n70T/IJikEn8bRPy6o+n71kdE/vAwbSVJd0T+zu8R2uijRP2AcSRIz9NA/nLeQG8G/0D+VzZ+HaYvQP2BrH0AxV9A/lwvrIh0j0D9tlkUDZN7PP2J7hELpds8/+MN3c9MPzz/7gTLrK6nOPw1vP+P7Qs4/eNLzeEzdzT+bx8usJnjNP4nMz2GTE80//qQDXZuvzD9ld95ER0zMPwcezKCf6cs/Upq32KyHyz9lkp40dybLPwnGLdwGxso/QFtm1mNmyj+o7ksJlgfKP3g4mzmlqck/tTOJCplMyT+VlYr9ePDIP3xzI3JMlcg/kOu+pRo7yD/4nY6z6uHHPxvQcZTDicc/DwHkHqwyxz+guvIGq9zGP+JuOt7Gh8Y/qiTqEwY0xj/Gu830buHFP36KXqsHkMU/OhvaP9Y/xT/ixV6Y4PDEP67pDXkso8Q/vIAzhL9WxD9mz3I6nwvEP/3l9/rQwcM/abKtA1p5wz9FXXhxPzLDP2Cnc0CG7MI/3AE1TDOowj/9GhFQS2XCP8WTZOfSI8I//5Xfjc7jwT8tA9SfQqXBP9rxhVozaME/XjF+3KQswT8Ph94lm/LAP5BhtxgausA/SbZeeSWDwD9cwMfuwE3AP2hb2wLwGcA/O2ehRWzPvz9bBgw/LW6/P2oxslspEL8/wcX+zWa1vj/Xe7qR612+PzWCuGy9Cb4/iJiA7+G4vT9bJ/Z1Xmu9P+nj+yc4Ib0/RncT+nPavD85x/itFpe8P/9dONMkV7w/nI/Ax6IavD8w62y4lOG7P1yYi6H+q7s/8zhcT+R5uz/l9IdeSUu7P3pZkjwxILs/E7FCKJ/4uj+/iwUyltS6P4EkRjwZtLo/EGW/+yqXuj9vQ8T3zX26P0o+f4oEaLo/+b4o4dBVuj/6MzT8NEe6P6W1c68yPLo/+Qoyoss0uj+M9kJPATG6P+6lCQXVMLo/szN15Uc0uj8JKvPlWju6P678V88ORro/wnC9PWRUuj93+lagW2a6P/kRPDn1e7o/+4soHTGVuj/kCjMzD7K6P2udeTSP0ro/f6vEq7D2uj+ZTSD1ch67P0VAbD3VSbs/uJ3igdZ4uz+VjZWPdau7P58o5AKx4bs/IdPmRocbvD+DRdOU9li8Px6WWPP8mbw/IpXzNZjevD+wvjv8xSa9P1MwKbGDcr0/5OlTis7BvT8ozSyHoxS+PyW4MHD/ar4/EycW1t7Evj/zzvUQPiK/Pwuhbj8Zg78/yrHFRWznvz/sPYFmmSfAP7j+AyE0XcA/sphV6oOUwD99uWM7hs3AP9ifqG04CME/jf6zupdEwT8LnbM7oYLBP44F/OhRwsE/moaRmaYDwj8p1LECnEbCP9yRXrcui8I/LxbpJ1vRwj95sH+hHRnDP+7AvE1yYsM/gPA3MlWtwz9b2RkwwvnDPzdqsgO1R8Q/yVgSRCmXxD+k7qdiGujEPxmD36qDOsU/Me3HQWCOxT9jPbslq+PFP6MQDC5fOsY/0cW3CneSxj+b4h1E7evGP/X3vDq8Rsc//Uz1Jt6ixz+Ym9EYTQDIP9go1vcCX8g/2n7Wgvm+yD+nD9JPKiDJP6AF2MuOgsk/YoLyOiDmyT8MkBm410rKP6YDLjWusMo/mor8epwXyz8rJEkpm3/LPyU847ai6Ms/dprCcatSzD8pZi1/rb3MPyRf59ugKc0/VoxqXH2WzT8dfimtOgTOP11W21LQcs4/wrvRqjXizj+71ljrYVLPP+d+ISRMw88/E9pan3Ua0D9tvXv/mlPQP2Ub1YERjdA/W0mDY9TG0D9zhqzP3gDRP4yT1d8rO9E/9Ks7nLZ10T9n1TP8ebDRP/GRj+Zw69E/au4GMpYm0j/z6qel5GHSPz05S/lWndI/IEoO1ufY0j8Ao9LWkRTTP81uwohPUNM/KD7aaxuM0z+v7Hfz78fTP8qU7obHA9Q/1Icfgpw/1D+cLRg2aXvUPze/tOknt9Q/hb1H2tLy1D8QEEY8ZC7VP5ir9zvWadU/Uqks/iKl1T9XqfagRODVPxhlZjw1G9Y/c01N4+5V1j98DwOka5DWP3XbLomlytY/XUeUmpYE1z90oOPdOD7XPz6JjVeGd9c/tayZC3mw1z8AY4D+CunXPx4WBzY2Idg/8zIfuvRY2D/XeceVQJDYP9x479cTx9g/nf9clGj92D90UpPkODPZP6vru+h+aNk/0ZKQyDSd2T/Ljka0VNHZPxjAeuXYBNo/cmMeoLs32j8GSGQz92naP/Y6rvqFm9o/o2x6XmLM2j8/mFDVhvzaPyGrruTtK9s/8bP0IZJa2z+y3U8zbojbPw4ypNB8tds/HvJ0xLjh2z+QO8vsHA3cP2PJGjykN9w/qIkkuklh3D/a0NaECIrcP93vKtHbsdw/J+z/677Y3D/cIfI6rf7cP56XLz2iI90/EMNIjJlH3T8Kjf3cjmrdP+1UBgB+jN0/VsTY4mKt3T9CNmiQOc3dP0l84TH+690/jNJhD60J3j9yx6iQQibeP/PxxD27Qd4/pjW7vxNc3j9CcijhSHXeP2Rs3Y5Xjd4/+8F02Dyk3j+1xOLw9bneP00N/y6Azt4/baEHDtnh3j/bhx0u/vPeP0qrulTtBN8/NuMgbaQU3z+hBMKIISPfP/jmoN9iMN8/LjKr0GY83z8M6gviK0ffP2WWdsGwUN8/jvpqRPRY3z/fQHFo9V/fP3GTTlOzZd8/twcyUy1q3z+S3tneYm3fP+QAsZVTb98/LL7kP/9v3z9muXLOZW/fP8cSL1uHbd8/OrrCKGRq3z9B/qGi/GXfP2BM+1xRYN8/+DSeFGNZ3z+wr9quMlHfP/K3WDnBR98/jkLo6Q893z9spEkeIDHfP8B17lvzI98/RwuzT4sV3z9QlZDN6QXfP88DSNAQ9d4/AL8FeQLj3j8oXv4Owc/eP1RxBP9Ou94/eH4X266l3j+JWOxZ447eP8L0blbvdt4/x909z9Vd3j8jch/mmUPeP8AVcd8+KN4/IYGQIcgL3j8pWj80Oe7dP65JAcCVz90/TbJ0jeGv3T/9RqaEII/dP/apX6xWbd0/a01xKYhK3T+Mx/c9uSbdP+vNnEjuAd0//hbUwyvc3D+bTxRFdrXcP9JnDHzSjdw/+2TVMUVl3D8s/SBI0zvcP10zZbiBEdw/liwFk1Xm2z+0fnf+U7rbP5U1ajaCjds/bsPkiuVf2z9zJGhfgzHbP/RnDSphAts/8+SicoTS2j/xT8jR8qHaP7DyCfCxcNo/kEL7hMc+2j/JDlFWOQzaP6WG+zYN2dk/3E9ABkml2T9K6NSu8nDZP0SQ+SUQPNk/evKUaqcG2T/qx1CEvtDYPxSqt4Jbmtg/a05UfIRj2D9MYdKNPyzYP/ExIdmS9Nc/yGeYhIS81z+L8B66GoTXP25cVKZbS9c/wdK8d00S1z9x0+9d9tjWPzfyyYhcn9Y/T7KhJ4Zl1j97tH9oeSvWP2VaWnc88dU/nwlVfdW21T+uMgOgSnzVPyFBrwCiQdU/sJOlu+EG1T/3ooPnD8zUP1tsi5QykdQ/zEf7y09W1D8vOWqPbRvUPwrgKNiR4NM/sxKnlsKl0z/UQ96xBWvTP/i7wAZhMNM/9r+tZ9r10j/jrOqbd7vSP8YcIV8+gdI/xRriYDRH0j8VcC5EXw3SP1UUBJ/E09E/A8Lw+Wma0T9ttqnPVGHRPzGaqIyKKNE/7ZPNjhDw0D/ehAYl7LfQP4Ri+44igNA/HrK//LhI0D9xE4mOtBHQP0at1ag0ts8/1h4tnN5Jzz/uLUPVcN7OP/3bnhD1c84/s9fB6HQKzj+pWNDV+aHNP9Y+Qi2NOs0/aFqdITjUzD8PojjCA2/MPwolCPv4Csw/BY1xlCCoyz935igzg0bLPweIFVgp5so/Isw+YBuHyj/4YMCEYSnKP3rxxdoDzck//tqNUwpyyT/7q3K8fBjJP4kk+75iwMg/32nw4MNpyD8qInqEpxTIP/srQOgUwcc/WJ2RJxNvxz/dvZA6qR7HP9qmY/bdz8Y/4DNpDbiCxj/r9XEPPjfGP3jM/Gl27cU/WtF2aGelxT+7Q340F1/FPxIWKNaLGsU/G8pHNMvXxD/+RLkU25bEP/ZArBzBV8Q/Awnx0IIaxD+DIkaWJd/DP8STprGupcM/vWyYSCNuwz9EQXthiDjDP/c51uPiBMM/B2+lmDfTwj/hNaYqi6PCP7cRoibidcI/kPa3+0BKwj9mk6P7qyDCP+tOAlsn+cE/qreVMbfTwT9TEIN6X7DBP1e8jxQkj8E/jkFawghwwT8hnY8qEVPBP4mqHNhAOME/3F9bOpsfwT9LoDulIwnBP8BvZ1Hd9MA/8UtiXMviwD9ReqPI8NLAPwYbq31QxcA/nMwRSO25wD8cv5LZybDAP4YDEMnoqcA/m/uQkkylwD8GxTqX96LAP6+BQh3sosA/ImDZTyylwD/yUxI/uqnAP8Ngwd+XsMA/A21UC8e5wD9XkKV/ScXAP07Qxt4g08A/1UjHrk7jwD/ZvHFZ1PXAP8WSBCyzCsE/rT7jVuwhwT/bJkHtgDvBP+ENxuRxV8E/GBIsFcB1wT/NV9c3bJbBP891Z+d2ucE/n79Cn+DewT/uixu7qQbCP5Wbb3bSMMI/BsgB7Fpdwj8SIE4VQ4zCPxqj+MmKvcI/6s02vzHxwj+6JzSHNyfDP+IMcpCbX8M/JPEiJV2awz/gVIFqe9fDP5+0ImD1FsQ/ZbJG38lYxD+rwiKa95zEP6msKht948Q/wR9WxFgsxT9fvWPOiHfFPxLeGUgLxcU/Tm+FFd4Uxj+jPjfv/mbGPykNgGFru8Y/EcqryyASxz+rUTxfHGvHP9gPJB9bxsc/WO0A39kjyD/r6VdClYPIP4vH0buJ5cg/UTJ5jLNJyT+DzPrCDrDJP4aF5zqXGMo/2635m0iDyj/TLF1ZHvDKPwdK+7ATX8s/uXTKqiPQyz97eyIYSUPMP0SZFZN+uMw/vdHOfb4vzT9MAPYBA6nNP0YOGhBGJM4/J70hX4Ghzj+NbMNrriDPPyxPBHjGoc8/5bpfRWES0D+pjJq3zVTQP/RIUdokmNA/kq/x1mLc0D980o24gyHRPyVEtmuDZ9E/rmNZvl2u0T+l+KdfDvbRP8lM/9+QPtI/y/LYsOCH0j8FZMAk+dHSP0ijTm/VHNM/1AsspXBo0z9YeBi8xbTTP9Hj+YrPAdQ/Z6vxyYhP1D+AmHgS7J3UPzfLgd/z7NQ/kK6kjZo81T+/Dk5b2ozVP4Fq+Git3dU/mqNruQ0v1j/sFQQy9YDWP7M5AZtd09Y/Wdvbn0Am1z+O+KPPl3nXP/xZZp1czdc/3uWZYIgh2D/GyJRVFHbYP89mCZ75ytg/2iyLQTEg2T+AMhsutHXZP9m5vDh7y9k/hoERHn8h2j905P2CuHfaP0zEVPUfzto/qCeL7K0k2z8ai3PKWnvbP9nMANwe0ts/op0QWvIo3D88aj1qzX/cPwKYtx+o1tw/BwcmfHot3T/FrI1wPITdPxg2QN7l2t0/TnrRl24x3j+EshNizofePyQsGvX83d4/m29C/fEz3z/Qh0McpYnfP3ZdQ+oN398/Pex4+xEa4D+tz1Rlb0TgP/Ucy/OabuA/SrBvZZCY4D/2mOx2S8LgP5qPnOPH6+A/+6AnZgEV4T9K7yG58z3hPyRorJeaZuE/MEkXvvGO4T/gUobq9LbhP/h/lt2f3uE/YCEFW+4F4j/xMVgq3CziP4u+hxdlU+I/ejqo84R54j/MkpWVN5/iP6vfntp4xOI/g34yp0Tp4j9qeIrnlg3jPwf6WJBrMeM/kMF0n75U4z9WSoUcjHfjP6OSrhnQmeM/fko8tIa74z/8Q0wVrNzjP7bxd3I8/eM/T9B8DjQd5D8LheM5jzzkP6KMpVNKW+Q/QkrRyWF55D9QSSwa0pbkP9OM09KXs+Q/orjZkq/P5D/17eIKFuvkP+Yxvv3HBeU/QS78QMIf5T+0J4O9ATnlP93/H3CDUeU/dBcUakRp5T+N7J/RQYDlP5VKiuJ4luU/3umj7uar5T92VEdeicDlP1Dx1LBd1OU/6QsrfWHn5T+bvhlykvnlP0eT0lbuCuY/YcRTC3Mb5j/I+c6IHivmP7FjC+LuOeY/+hjDQ+JH5j+KnPv09lTmP59uWVcrYeY/MJVu531s5j/1/QM97XbmP0+pXQt4gOY/LIp5IR2J5j91Aklq25DmPznw5Oyxl+Y/zji8zJ+d5j9ExrxJpKLmP2rndsC+puY/6Qc7qu6p5j+lujGdM6zmP8MIbkyNreY/bgT6h/ut5j95l908fq3mP9GMH3UVrOY/aNLAV8Gp5j8C9bEogqbmP8fWwkhYouY/16eMNUSd5j9NH1aJRpfmP8wE8vpfkOY/QQyYXZGI5j/YEbig23/mP9+/x88/duY/Za0KEr9r5j+bCFWqWmDmP8vSyPYTVOY/cMyNcOxG5j9FHoSr5TjmPzjW8VUBKuY/HU0rOEEa5j95kTY0pwnmP1PqaUU1+OU/1JUFgO3l5T+u1cgQ0tLlP4hsgjzlvuU/TK2cXymq5T+VMqXtoJTlPxds0HBOfuU/fBZ5iTRn5T+PzJvtVU/lP9PLTmi1NuU/shk22VUd5T+KKfQzOgPlP00rl39l6OQ/tCwD1trM5D9wMFljnbDkP8RrW2Wwk+Q/+sjOKhd25D8o5NkS1VfkP3SlYYztOOQ/46RjFWQZ5D+dhU46PPnjPwhzWJV52OM/qOnTzR+34z8o/IKXMpXjP8066bG1cuM/knKc56xP4z9ZZZQNHCzjP7ezeQIHCOM/5Rj0rXHj4j/DL/j/X77iP0LkFPDVmOI/JMTAfNdy4j82VaeqaEziP2ef9oONJeI/xRWtF0r+4T8RBuh4otbhP2u7Mr6aruE/O3zWADeG4T94jStce13hPw9h6+xrNOE/ahiE0AwL4T/Sgm0kYuHgP2O7fwVwt+A/wYxLjzqN4D/GvnTbxWLgP91yDgEWOOA/+a35Ey8N4D8TbIxIKsTfP1i/K3uYbd8/6NwEzbAW3z+mSAxAe7/eP8A7zsn/Z94/bjBLUkYQ3j+cddqyVrjdP6cAE7U4YN0/qqy6EfQH3T9cFbxvkK/cPyE+I2MVV9w/sikhbIr+2z+wkxb29qXbP0jjpVZiTds/qInMzNP02j8G3QOAUpzaP6WZaX/lQ9o/ySDwwJPr2T8Jh5YgZJPZP0iTqF9dO9k/+roGJIbj2D+VLHb35IvYP7H4+EaANNg/k2QuYl7d1z+ncrt6hYbXP82fu6P7L9c/jeQ50cbZ1j9C8rHX7IPWP+60mWtzLtY/sQ7zIGDZ1T87zuVquITVP9rVYZuBMNU/62fJ4sDc1D/LlKNPe4nUPy2wVs61NtQ/GMrqKHXk0z9/ENQGvpLTP9AKxeyUQdM/zpeIPP7w0j/YlOM0/qDSPwMXfvGYUdI/OxrUatIC0j+yhy12rrTRPx13ncUwZ9E/uokI6Fwa0T/VPDJJNs7QPwMS0THAgtA/QWepx/030D+LtF0b5NvPP8YcWMg/Sc8/VmDhERS4zj/AEgsvZijOP5X9zBI7ms0/u5OEbJcNzT+ViX+of4LMP3s0kfD3+Ms/E1iyLARxyz+4BasDqOrKP9cwxtvmZco//JaO28PiyT94oZTqQWHJP6DZPLJj4cg/25eWnitjyD/9gjrfm+bHP1qGMGi2a8c/Htjc8nzyxj/CsPP+8HrGP8FQc9MTBcY/jvSjf+aQxT+SUx3caR7FP+xK0YuercQ/BlUb/YQ+xD9UbNRqHdHDP8T4at1nZcM/wXL+K2T7wj+6Un79EZPCPxn5y8lwLMI//DTf2n/HwT8PCu1NPmTBP3pikBSrAsE/mFX09cSiwD/Cq/+PikTAP5mfArH0z78/Z6+6PCUavz9WrnQVo2e+P1NfXURquL0/0xTbi3YMvT/jduZpw2O8P4t3YRpMvrs/MfNrmQscuz/fd7Wl/Hy6Pweby8IZ4bk/5XdkO11IuT8mwqQjwbK4P5YHYVs/ILg/Zp5ZkNGQtz/m3XBAcQS3P7Yu27sXe7Y/0JBIJ770tT+8Mwd+XXG1P4vJHpTu8LQ/szVkGGpztD+oSIWWyPizP6I6DHkCgbM/YZlaCxAMsz8iY5t76ZmyPw0QrNyGKrI/qk38J+C9sT9nMWQ/7VOxP7ez8O6l7LA/tEKm7gGIsD8yQDnk+CWwP1OReMkEja8/IT2I7CvTrj+iOgIjVh6uP+s3nEZybq0/uExpHG/DrD9yAc1XOx2sP7XFWJ3Fe6s/XsqThfzeqj/vMa2fzkaqP9WMGHQqs6k/GrAUh/4jqT934RxbOZmoP3p4RHPJEqg/K/18VZ2Qpz8/7MaMoxKnP6g+TavKmKY/vN5rTAEjpj/eOaEWNrGlP1cma71XQ6U/+U4PA1XZpD+kbU+6HHOkP96OCcidEKQ/pq3EJMexoz9j7Sneh1ajP0LKahjP/qI/742UD4yqoj8+Y9EYrlmiP9Fkl6MkDKI/CgfGOt/BoT9RO7KFzXqhP2y0IUnfNqE/g7M1aAT2oD/AxUXlLLigP6DequJIfaA/nT57o0hFoD+ElDeMHBCgPzSR00Zqu58/Jc5rJAZcnz/6ObtJ7gGfPylxbZYErZ4/Hk0qMitdnj8gv1GNRBKePzR3oGEzzJ0/QES+stqKnT+KHrfOHU6dP4i9X07gFZ0/jrCmFQbinD/u2NJTc7KcPx88sIMMh5w/9gSsa7ZfnD8up+AdVjycP78BE/jQHJw/n16howwBnD+vNGUV7+ibP/qAiI1e1Js/uYxPl0HDmz/B/dcIf7WbP5L2zQL+qps/GRkY8KWjmz+SMHuFXp+bP/lINsEPnps/IfOX6qGfmz+pa42R/aObP5FhLI4Lq5s/sgU4ALW0mz8WFKJO48CbP6F6CCeAz5s/3j8wfXXgmz+/Q36KrfObP0Ftbs0SCZw/gt0JCZAgnD8fqFxEEDqcP4+f68l+VZw/aqkqJ8dynD+8HvQr1ZGcPy6gAeqUspw/AtNmtPLUnD86ag4f2/icP0TcOf46Hp0//yEEZv9EnT/rz+epFW2dP6XeSFxrlp0/32QCTu7AnT8Ei/iNjOydP4fvrmg0GZ4/oLzjZ9RGnj84lC9SW3WeP/SKqiq4pJ4//kyWMNrUnj+6lg3fsAWfP6ERuewrN58/zbqJSztpnz8sz3goz5ufPzZdTevXzp8/qLgzGyMBoD+bdUhzBRugP0f3aYkLNaA/gncrBi5PoD/oIB+vZWmgPy6XyWarg6A/2y+YLPidoD8wz9kcRbigP7JcunCL0qA/3rtAfsTsoD9rOE+46QahP5pPpq70IKE/tcLpDd86oT8F2aefolShP/O4Yko5bqE/v72bEZ2HoT+TrOAVyKChP3qt2pS0uaE/x+Ze6VzSoT+KnoCLu+qhP1i+pBDLAqI/kZqWK4Yaoj+Q1p2s5zGiP8VGlYHqSKI/0KoCtolfoj9RGS9zwHWiP3P7PwCKi6I/V3BQwuGgoj9A84o8w7WiP+McQxAqyqI/WV0P/RHeoj/kgeLgdvGiP3HnJLhUBKM/rCrNnacWoz+lOHjLayijPxGSgJmdOaM/EZ8UfzlKoz/z7UsSPFqjP2A1OwiiaaM/yfgGNWh4oz8Sp/SLi4ajP+8Teh8JlKM/0CVLId6goz+DmGXiB62jP9CxGtODuKM/N8kWg0/Doz/mgWahaM2jP7CZefzM1qM/lC4jgnrfoz8OX5c/b+ejP2gpZmGp7qM/KnFzMyf1oz84EOwg5/qjP9XdN7Tn/6M/gpLolicEpD9cd6WRpQekP0zKE4xgCqQ/Asa7jFcMpD+FPOq4iQ2kP/61jlT2DaQ/DwQWwpwNpD8=",
          "dtype": "f8"
         }
        },
        {
         "fill": "tozeroy",
         "line": {
          "color": "red"
         },
         "mode": "lines",
         "name": "Predicted",
         "type": "scatter",
         "x": {
          "bdata": "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",
          "dtype": "f8"
         },
         "y": {
          "bdata": "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",
          "dtype": "f8"
         }
        }
       ],
       "layout": {
        "height": 600,
        "legend": {
         "x": 0.8,
         "y": 0.95
        },
        "showlegend": true,
        "template": {
         "data": {
          "bar": [
           {
            "error_x": {
             "color": "rgb(36,36,36)"
            },
            "error_y": {
             "color": "rgb(36,36,36)"
            },
            "marker": {
             "line": {
              "color": "white",
              "width": 0.5
             },
             "pattern": {
              "fillmode": "overlay",
              "size": 10,
              "solidity": 0.2
             }
            },
            "type": "bar"
           }
          ],
          "barpolar": [
           {
            "marker": {
             "line": {
              "color": "white",
              "width": 0.5
             },
             "pattern": {
              "fillmode": "overlay",
              "size": 10,
              "solidity": 0.2
             }
            },
            "type": "barpolar"
           }
          ],
          "carpet": [
           {
            "aaxis": {
             "endlinecolor": "rgb(36,36,36)",
             "gridcolor": "white",
             "linecolor": "white",
             "minorgridcolor": "white",
             "startlinecolor": "rgb(36,36,36)"
            },
            "baxis": {
             "endlinecolor": "rgb(36,36,36)",
             "gridcolor": "white",
             "linecolor": "white",
             "minorgridcolor": "white",
             "startlinecolor": "rgb(36,36,36)"
            },
            "type": "carpet"
           }
          ],
          "choropleth": [
           {
            "colorbar": {
             "outlinewidth": 1,
             "tickcolor": "rgb(36,36,36)",
             "ticks": "outside"
            },
            "type": "choropleth"
           }
          ],
          "contour": [
           {
            "colorbar": {
             "outlinewidth": 1,
             "tickcolor": "rgb(36,36,36)",
             "ticks": "outside"
            },
            "colorscale": [
             [
              0,
              "#440154"
             ],
             [
              0.1111111111111111,
              "#482878"
             ],
             [
              0.2222222222222222,
              "#3e4989"
             ],
             [
              0.3333333333333333,
              "#31688e"
             ],
             [
              0.4444444444444444,
              "#26828e"
             ],
             [
              0.5555555555555556,
              "#1f9e89"
             ],
             [
              0.6666666666666666,
              "#35b779"
             ],
             [
              0.7777777777777778,
              "#6ece58"
             ],
             [
              0.8888888888888888,
              "#b5de2b"
             ],
             [
              1,
              "#fde725"
             ]
            ],
            "type": "contour"
           }
          ],
          "contourcarpet": [
           {
            "colorbar": {
             "outlinewidth": 1,
             "tickcolor": "rgb(36,36,36)",
             "ticks": "outside"
            },
            "type": "contourcarpet"
           }
          ],
          "heatmap": [
           {
            "colorbar": {
             "outlinewidth": 1,
             "tickcolor": "rgb(36,36,36)",
             "ticks": "outside"
            },
            "colorscale": [
             [
              0,
              "#440154"
             ],
             [
              0.1111111111111111,
              "#482878"
             ],
             [
              0.2222222222222222,
              "#3e4989"
             ],
             [
              0.3333333333333333,
              "#31688e"
             ],
             [
              0.4444444444444444,
              "#26828e"
             ],
             [
              0.5555555555555556,
              "#1f9e89"
             ],
             [
              0.6666666666666666,
              "#35b779"
             ],
             [
              0.7777777777777778,
              "#6ece58"
             ],
             [
              0.8888888888888888,
              "#b5de2b"
             ],
             [
              1,
              "#fde725"
             ]
            ],
            "type": "heatmap"
           }
          ],
          "histogram": [
           {
            "marker": {
             "line": {
              "color": "white",
              "width": 0.6
             }
            },
            "type": "histogram"
           }
          ],
          "histogram2d": [
           {
            "colorbar": {
             "outlinewidth": 1,
             "tickcolor": "rgb(36,36,36)",
             "ticks": "outside"
            },
            "colorscale": [
             [
              0,
              "#440154"
             ],
             [
              0.1111111111111111,
              "#482878"
             ],
             [
              0.2222222222222222,
              "#3e4989"
             ],
             [
              0.3333333333333333,
              "#31688e"
             ],
             [
              0.4444444444444444,
              "#26828e"
             ],
             [
              0.5555555555555556,
              "#1f9e89"
             ],
             [
              0.6666666666666666,
              "#35b779"
             ],
             [
              0.7777777777777778,
              "#6ece58"
             ],
             [
              0.8888888888888888,
              "#b5de2b"
             ],
             [
              1,
              "#fde725"
             ]
            ],
            "type": "histogram2d"
           }
          ],
          "histogram2dcontour": [
           {
            "colorbar": {
             "outlinewidth": 1,
             "tickcolor": "rgb(36,36,36)",
             "ticks": "outside"
            },
            "colorscale": [
             [
              0,
              "#440154"
             ],
             [
              0.1111111111111111,
              "#482878"
             ],
             [
              0.2222222222222222,
              "#3e4989"
             ],
             [
              0.3333333333333333,
              "#31688e"
             ],
             [
              0.4444444444444444,
              "#26828e"
             ],
             [
              0.5555555555555556,
              "#1f9e89"
             ],
             [
              0.6666666666666666,
              "#35b779"
             ],
             [
              0.7777777777777778,
              "#6ece58"
             ],
             [
              0.8888888888888888,
              "#b5de2b"
             ],
             [
              1,
              "#fde725"
             ]
            ],
            "type": "histogram2dcontour"
           }
          ],
          "mesh3d": [
           {
            "colorbar": {
             "outlinewidth": 1,
             "tickcolor": "rgb(36,36,36)",
             "ticks": "outside"
            },
            "type": "mesh3d"
           }
          ],
          "parcoords": [
           {
            "line": {
             "colorbar": {
              "outlinewidth": 1,
              "tickcolor": "rgb(36,36,36)",
              "ticks": "outside"
             }
            },
            "type": "parcoords"
           }
          ],
          "pie": [
           {
            "automargin": true,
            "type": "pie"
           }
          ],
          "scatter": [
           {
            "fillpattern": {
             "fillmode": "overlay",
             "size": 10,
             "solidity": 0.2
            },
            "type": "scatter"
           }
          ],
          "scatter3d": [
           {
            "line": {
             "colorbar": {
              "outlinewidth": 1,
              "tickcolor": "rgb(36,36,36)",
              "ticks": "outside"
             }
            },
            "marker": {
             "colorbar": {
              "outlinewidth": 1,
              "tickcolor": "rgb(36,36,36)",
              "ticks": "outside"
             }
            },
            "type": "scatter3d"
           }
          ],
          "scattercarpet": [
           {
            "marker": {
             "colorbar": {
              "outlinewidth": 1,
              "tickcolor": "rgb(36,36,36)",
              "ticks": "outside"
             }
            },
            "type": "scattercarpet"
           }
          ],
          "scattergeo": [
           {
            "marker": {
             "colorbar": {
              "outlinewidth": 1,
              "tickcolor": "rgb(36,36,36)",
              "ticks": "outside"
             }
            },
            "type": "scattergeo"
           }
          ],
          "scattergl": [
           {
            "marker": {
             "colorbar": {
              "outlinewidth": 1,
              "tickcolor": "rgb(36,36,36)",
              "ticks": "outside"
             }
            },
            "type": "scattergl"
           }
          ],
          "scattermap": [
           {
            "marker": {
             "colorbar": {
              "outlinewidth": 1,
              "tickcolor": "rgb(36,36,36)",
              "ticks": "outside"
             }
            },
            "type": "scattermap"
           }
          ],
          "scattermapbox": [
           {
            "marker": {
             "colorbar": {
              "outlinewidth": 1,
              "tickcolor": "rgb(36,36,36)",
              "ticks": "outside"
             }
            },
            "type": "scattermapbox"
           }
          ],
          "scatterpolar": [
           {
            "marker": {
             "colorbar": {
              "outlinewidth": 1,
              "tickcolor": "rgb(36,36,36)",
              "ticks": "outside"
             }
            },
            "type": "scatterpolar"
           }
          ],
          "scatterpolargl": [
           {
            "marker": {
             "colorbar": {
              "outlinewidth": 1,
              "tickcolor": "rgb(36,36,36)",
              "ticks": "outside"
             }
            },
            "type": "scatterpolargl"
           }
          ],
          "scatterternary": [
           {
            "marker": {
             "colorbar": {
              "outlinewidth": 1,
              "tickcolor": "rgb(36,36,36)",
              "ticks": "outside"
             }
            },
            "type": "scatterternary"
           }
          ],
          "surface": [
           {
            "colorbar": {
             "outlinewidth": 1,
             "tickcolor": "rgb(36,36,36)",
             "ticks": "outside"
            },
            "colorscale": [
             [
              0,
              "#440154"
             ],
             [
              0.1111111111111111,
              "#482878"
             ],
             [
              0.2222222222222222,
              "#3e4989"
             ],
             [
              0.3333333333333333,
              "#31688e"
             ],
             [
              0.4444444444444444,
              "#26828e"
             ],
             [
              0.5555555555555556,
              "#1f9e89"
             ],
             [
              0.6666666666666666,
              "#35b779"
             ],
             [
              0.7777777777777778,
              "#6ece58"
             ],
             [
              0.8888888888888888,
              "#b5de2b"
             ],
             [
              1,
              "#fde725"
             ]
            ],
            "type": "surface"
           }
          ],
          "table": [
           {
            "cells": {
             "fill": {
              "color": "rgb(237,237,237)"
             },
             "line": {
              "color": "white"
             }
            },
            "header": {
             "fill": {
              "color": "rgb(217,217,217)"
             },
             "line": {
              "color": "white"
             }
            },
            "type": "table"
           }
          ]
         },
         "layout": {
          "annotationdefaults": {
           "arrowhead": 0,
           "arrowwidth": 1
          },
          "autotypenumbers": "strict",
          "coloraxis": {
           "colorbar": {
            "outlinewidth": 1,
            "tickcolor": "rgb(36,36,36)",
            "ticks": "outside"
           }
          },
          "colorscale": {
           "diverging": [
            [
             0,
             "rgb(103,0,31)"
            ],
            [
             0.1,
             "rgb(178,24,43)"
            ],
            [
             0.2,
             "rgb(214,96,77)"
            ],
            [
             0.3,
             "rgb(244,165,130)"
            ],
            [
             0.4,
             "rgb(253,219,199)"
            ],
            [
             0.5,
             "rgb(247,247,247)"
            ],
            [
             0.6,
             "rgb(209,229,240)"
            ],
            [
             0.7,
             "rgb(146,197,222)"
            ],
            [
             0.8,
             "rgb(67,147,195)"
            ],
            [
             0.9,
             "rgb(33,102,172)"
            ],
            [
             1,
             "rgb(5,48,97)"
            ]
           ],
           "sequential": [
            [
             0,
             "#440154"
            ],
            [
             0.1111111111111111,
             "#482878"
            ],
            [
             0.2222222222222222,
             "#3e4989"
            ],
            [
             0.3333333333333333,
             "#31688e"
            ],
            [
             0.4444444444444444,
             "#26828e"
            ],
            [
             0.5555555555555556,
             "#1f9e89"
            ],
            [
             0.6666666666666666,
             "#35b779"
            ],
            [
             0.7777777777777778,
             "#6ece58"
            ],
            [
             0.8888888888888888,
             "#b5de2b"
            ],
            [
             1,
             "#fde725"
            ]
           ],
           "sequentialminus": [
            [
             0,
             "#440154"
            ],
            [
             0.1111111111111111,
             "#482878"
            ],
            [
             0.2222222222222222,
             "#3e4989"
            ],
            [
             0.3333333333333333,
             "#31688e"
            ],
            [
             0.4444444444444444,
             "#26828e"
            ],
            [
             0.5555555555555556,
             "#1f9e89"
            ],
            [
             0.6666666666666666,
             "#35b779"
            ],
            [
             0.7777777777777778,
             "#6ece58"
            ],
            [
             0.8888888888888888,
             "#b5de2b"
            ],
            [
             1,
             "#fde725"
            ]
           ]
          },
          "colorway": [
           "#1F77B4",
           "#FF7F0E",
           "#2CA02C",
           "#D62728",
           "#9467BD",
           "#8C564B",
           "#E377C2",
           "#7F7F7F",
           "#BCBD22",
           "#17BECF"
          ],
          "font": {
           "color": "rgb(36,36,36)"
          },
          "geo": {
           "bgcolor": "white",
           "lakecolor": "white",
           "landcolor": "white",
           "showlakes": true,
           "showland": true,
           "subunitcolor": "white"
          },
          "hoverlabel": {
           "align": "left"
          },
          "hovermode": "closest",
          "mapbox": {
           "style": "light"
          },
          "paper_bgcolor": "white",
          "plot_bgcolor": "white",
          "polar": {
           "angularaxis": {
            "gridcolor": "rgb(232,232,232)",
            "linecolor": "rgb(36,36,36)",
            "showgrid": false,
            "showline": true,
            "ticks": "outside"
           },
           "bgcolor": "white",
           "radialaxis": {
            "gridcolor": "rgb(232,232,232)",
            "linecolor": "rgb(36,36,36)",
            "showgrid": false,
            "showline": true,
            "ticks": "outside"
           }
          },
          "scene": {
           "xaxis": {
            "backgroundcolor": "white",
            "gridcolor": "rgb(232,232,232)",
            "gridwidth": 2,
            "linecolor": "rgb(36,36,36)",
            "showbackground": true,
            "showgrid": false,
            "showline": true,
            "ticks": "outside",
            "zeroline": false,
            "zerolinecolor": "rgb(36,36,36)"
           },
           "yaxis": {
            "backgroundcolor": "white",
            "gridcolor": "rgb(232,232,232)",
            "gridwidth": 2,
            "linecolor": "rgb(36,36,36)",
            "showbackground": true,
            "showgrid": false,
            "showline": true,
            "ticks": "outside",
            "zeroline": false,
            "zerolinecolor": "rgb(36,36,36)"
           },
           "zaxis": {
            "backgroundcolor": "white",
            "gridcolor": "rgb(232,232,232)",
            "gridwidth": 2,
            "linecolor": "rgb(36,36,36)",
            "showbackground": true,
            "showgrid": false,
            "showline": true,
            "ticks": "outside",
            "zeroline": false,
            "zerolinecolor": "rgb(36,36,36)"
           }
          },
          "shapedefaults": {
           "fillcolor": "black",
           "line": {
            "width": 0
           },
           "opacity": 0.3
          },
          "ternary": {
           "aaxis": {
            "gridcolor": "rgb(232,232,232)",
            "linecolor": "rgb(36,36,36)",
            "showgrid": false,
            "showline": true,
            "ticks": "outside"
           },
           "baxis": {
            "gridcolor": "rgb(232,232,232)",
            "linecolor": "rgb(36,36,36)",
            "showgrid": false,
            "showline": true,
            "ticks": "outside"
           },
           "bgcolor": "white",
           "caxis": {
            "gridcolor": "rgb(232,232,232)",
            "linecolor": "rgb(36,36,36)",
            "showgrid": false,
            "showline": true,
            "ticks": "outside"
           }
          },
          "title": {
           "x": 0.05
          },
          "xaxis": {
           "automargin": true,
           "gridcolor": "rgb(232,232,232)",
           "linecolor": "rgb(36,36,36)",
           "showgrid": false,
           "showline": true,
           "ticks": "outside",
           "title": {
            "standoff": 15
           },
           "zeroline": false,
           "zerolinecolor": "rgb(36,36,36)"
          },
          "yaxis": {
           "automargin": true,
           "gridcolor": "rgb(232,232,232)",
           "linecolor": "rgb(36,36,36)",
           "showgrid": false,
           "showline": true,
           "ticks": "outside",
           "title": {
            "standoff": 15
           },
           "zeroline": false,
           "zerolinecolor": "rgb(36,36,36)"
          }
         }
        },
        "title": {
         "text": "KDE Plot: Actual vs Predicted Values"
        },
        "width": 1000,
        "xaxis": {
         "title": {
          "text": "label_encoded"
         }
        },
        "yaxis": {
         "title": {
          "text": "Density"
         }
        }
       }
      }
     },
     "metadata": {},
     "output_type": "display_data"
    }
   ],
   "source": [
    "# Calculate KDE for actual and predicted\n",
    "kde_actual = gaussian_kde(y_test1)\n",
    "kde_pred = gaussian_kde(y_pred1)\n",
    "\n",
    "# Create x-axis range covering both distributions\n",
    "x_range = np.linspace(min(min(y_test1), min(y_pred1)), max(max(y_test1), max(y_pred1)), 1000)\n",
    "\n",
    "# Evaluate KDE values on x_range\n",
    "y_actual_kde = kde_actual(x_range)\n",
    "y_pred_kde = kde_pred(x_range)\n",
    "\n",
    "# Create Plotly figure\n",
    "fig = go.Figure()\n",
    "\n",
    "fig.add_trace(go.Scatter(\n",
    "    x=x_range,\n",
    "    y=y_actual_kde,\n",
    "    mode='lines',\n",
    "    name='Actual',\n",
    "    fill='tozeroy',\n",
    "    line=dict(color='blue')\n",
    "))\n",
    "\n",
    "fig.add_trace(go.Scatter(\n",
    "    x=x_range,\n",
    "    y=y_pred_kde,\n",
    "    mode='lines',\n",
    "    name='Predicted',\n",
    "    fill='tozeroy',\n",
    "    line=dict(color='red')\n",
    "))\n",
    "\n",
    "fig.update_layout(\n",
    "    title='KDE Plot: Actual vs Predicted Values',\n",
    "    xaxis_title='label_encoded',\n",
    "    yaxis_title='Density',\n",
    "    legend=dict(x=0.8, y=0.95),\n",
    "    template='simple_white',\n",
    "    width=1000,\n",
    "    height=600,\n",
    "    showlegend=True\n",
    ")\n",
    "\n",
    "fig.show()"
   ]
  },
  {
   "cell_type": "markdown",
   "metadata": {},
   "source": [
    " The red (predicted) and blue (actual) curves are almost the same. This means the model is performing best.Its predictions closely match the real values. Both curves have similar peaks and shapes, showing that the model understands the pattern in the data. There’s no big bias, and it doesn’t look like the model is underfitting or overfitting. The small differences in some areas are normal and acceptable."
   ]
  },
  {
   "cell_type": "markdown",
   "metadata": {},
   "source": [
    "## KDE for Decision Tree Regression"
   ]
  },
  {
   "cell_type": "code",
   "execution_count": 24,
   "metadata": {},
   "outputs": [
    {
     "data": {
      "application/vnd.plotly.v1+json": {
       "config": {
        "plotlyServerURL": "https://plot.ly"
       },
       "data": [
        {
         "fill": "tozeroy",
         "line": {
          "color": "blue"
         },
         "mode": "lines",
         "name": "Actual",
         "type": "scatter",
         "x": {
          "bdata": "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",
          "dtype": "f8"
         },
         "y": {
          "bdata": "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",
          "dtype": "f8"
         }
        },
        {
         "fill": "tozeroy",
         "line": {
          "color": "red"
         },
         "mode": "lines",
         "name": "Predicted",
         "type": "scatter",
         "x": {
          "bdata": "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",
          "dtype": "f8"
         },
         "y": {
          "bdata": "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",
          "dtype": "f8"
         }
        }
       ],
       "layout": {
        "height": 600,
        "legend": {
         "x": 0.8,
         "y": 0.95
        },
        "showlegend": true,
        "template": {
         "data": {
          "bar": [
           {
            "error_x": {
             "color": "rgb(36,36,36)"
            },
            "error_y": {
             "color": "rgb(36,36,36)"
            },
            "marker": {
             "line": {
              "color": "white",
              "width": 0.5
             },
             "pattern": {
              "fillmode": "overlay",
              "size": 10,
              "solidity": 0.2
             }
            },
            "type": "bar"
           }
          ],
          "barpolar": [
           {
            "marker": {
             "line": {
              "color": "white",
              "width": 0.5
             },
             "pattern": {
              "fillmode": "overlay",
              "size": 10,
              "solidity": 0.2
             }
            },
            "type": "barpolar"
           }
          ],
          "carpet": [
           {
            "aaxis": {
             "endlinecolor": "rgb(36,36,36)",
             "gridcolor": "white",
             "linecolor": "white",
             "minorgridcolor": "white",
             "startlinecolor": "rgb(36,36,36)"
            },
            "baxis": {
             "endlinecolor": "rgb(36,36,36)",
             "gridcolor": "white",
             "linecolor": "white",
             "minorgridcolor": "white",
             "startlinecolor": "rgb(36,36,36)"
            },
            "type": "carpet"
           }
          ],
          "choropleth": [
           {
            "colorbar": {
             "outlinewidth": 1,
             "tickcolor": "rgb(36,36,36)",
             "ticks": "outside"
            },
            "type": "choropleth"
           }
          ],
          "contour": [
           {
            "colorbar": {
             "outlinewidth": 1,
             "tickcolor": "rgb(36,36,36)",
             "ticks": "outside"
            },
            "colorscale": [
             [
              0,
              "#440154"
             ],
             [
              0.1111111111111111,
              "#482878"
             ],
             [
              0.2222222222222222,
              "#3e4989"
             ],
             [
              0.3333333333333333,
              "#31688e"
             ],
             [
              0.4444444444444444,
              "#26828e"
             ],
             [
              0.5555555555555556,
              "#1f9e89"
             ],
             [
              0.6666666666666666,
              "#35b779"
             ],
             [
              0.7777777777777778,
              "#6ece58"
             ],
             [
              0.8888888888888888,
              "#b5de2b"
             ],
             [
              1,
              "#fde725"
             ]
            ],
            "type": "contour"
           }
          ],
          "contourcarpet": [
           {
            "colorbar": {
             "outlinewidth": 1,
             "tickcolor": "rgb(36,36,36)",
             "ticks": "outside"
            },
            "type": "contourcarpet"
           }
          ],
          "heatmap": [
           {
            "colorbar": {
             "outlinewidth": 1,
             "tickcolor": "rgb(36,36,36)",
             "ticks": "outside"
            },
            "colorscale": [
             [
              0,
              "#440154"
             ],
             [
              0.1111111111111111,
              "#482878"
             ],
             [
              0.2222222222222222,
              "#3e4989"
             ],
             [
              0.3333333333333333,
              "#31688e"
             ],
             [
              0.4444444444444444,
              "#26828e"
             ],
             [
              0.5555555555555556,
              "#1f9e89"
             ],
             [
              0.6666666666666666,
              "#35b779"
             ],
             [
              0.7777777777777778,
              "#6ece58"
             ],
             [
              0.8888888888888888,
              "#b5de2b"
             ],
             [
              1,
              "#fde725"
             ]
            ],
            "type": "heatmap"
           }
          ],
          "histogram": [
           {
            "marker": {
             "line": {
              "color": "white",
              "width": 0.6
             }
            },
            "type": "histogram"
           }
          ],
          "histogram2d": [
           {
            "colorbar": {
             "outlinewidth": 1,
             "tickcolor": "rgb(36,36,36)",
             "ticks": "outside"
            },
            "colorscale": [
             [
              0,
              "#440154"
             ],
             [
              0.1111111111111111,
              "#482878"
             ],
             [
              0.2222222222222222,
              "#3e4989"
             ],
             [
              0.3333333333333333,
              "#31688e"
             ],
             [
              0.4444444444444444,
              "#26828e"
             ],
             [
              0.5555555555555556,
              "#1f9e89"
             ],
             [
              0.6666666666666666,
              "#35b779"
             ],
             [
              0.7777777777777778,
              "#6ece58"
             ],
             [
              0.8888888888888888,
              "#b5de2b"
             ],
             [
              1,
              "#fde725"
             ]
            ],
            "type": "histogram2d"
           }
          ],
          "histogram2dcontour": [
           {
            "colorbar": {
             "outlinewidth": 1,
             "tickcolor": "rgb(36,36,36)",
             "ticks": "outside"
            },
            "colorscale": [
             [
              0,
              "#440154"
             ],
             [
              0.1111111111111111,
              "#482878"
             ],
             [
              0.2222222222222222,
              "#3e4989"
             ],
             [
              0.3333333333333333,
              "#31688e"
             ],
             [
              0.4444444444444444,
              "#26828e"
             ],
             [
              0.5555555555555556,
              "#1f9e89"
             ],
             [
              0.6666666666666666,
              "#35b779"
             ],
             [
              0.7777777777777778,
              "#6ece58"
             ],
             [
              0.8888888888888888,
              "#b5de2b"
             ],
             [
              1,
              "#fde725"
             ]
            ],
            "type": "histogram2dcontour"
           }
          ],
          "mesh3d": [
           {
            "colorbar": {
             "outlinewidth": 1,
             "tickcolor": "rgb(36,36,36)",
             "ticks": "outside"
            },
            "type": "mesh3d"
           }
          ],
          "parcoords": [
           {
            "line": {
             "colorbar": {
              "outlinewidth": 1,
              "tickcolor": "rgb(36,36,36)",
              "ticks": "outside"
             }
            },
            "type": "parcoords"
           }
          ],
          "pie": [
           {
            "automargin": true,
            "type": "pie"
           }
          ],
          "scatter": [
           {
            "fillpattern": {
             "fillmode": "overlay",
             "size": 10,
             "solidity": 0.2
            },
            "type": "scatter"
           }
          ],
          "scatter3d": [
           {
            "line": {
             "colorbar": {
              "outlinewidth": 1,
              "tickcolor": "rgb(36,36,36)",
              "ticks": "outside"
             }
            },
            "marker": {
             "colorbar": {
              "outlinewidth": 1,
              "tickcolor": "rgb(36,36,36)",
              "ticks": "outside"
             }
            },
            "type": "scatter3d"
           }
          ],
          "scattercarpet": [
           {
            "marker": {
             "colorbar": {
              "outlinewidth": 1,
              "tickcolor": "rgb(36,36,36)",
              "ticks": "outside"
             }
            },
            "type": "scattercarpet"
           }
          ],
          "scattergeo": [
           {
            "marker": {
             "colorbar": {
              "outlinewidth": 1,
              "tickcolor": "rgb(36,36,36)",
              "ticks": "outside"
             }
            },
            "type": "scattergeo"
           }
          ],
          "scattergl": [
           {
            "marker": {
             "colorbar": {
              "outlinewidth": 1,
              "tickcolor": "rgb(36,36,36)",
              "ticks": "outside"
             }
            },
            "type": "scattergl"
           }
          ],
          "scattermap": [
           {
            "marker": {
             "colorbar": {
              "outlinewidth": 1,
              "tickcolor": "rgb(36,36,36)",
              "ticks": "outside"
             }
            },
            "type": "scattermap"
           }
          ],
          "scattermapbox": [
           {
            "marker": {
             "colorbar": {
              "outlinewidth": 1,
              "tickcolor": "rgb(36,36,36)",
              "ticks": "outside"
             }
            },
            "type": "scattermapbox"
           }
          ],
          "scatterpolar": [
           {
            "marker": {
             "colorbar": {
              "outlinewidth": 1,
              "tickcolor": "rgb(36,36,36)",
              "ticks": "outside"
             }
            },
            "type": "scatterpolar"
           }
          ],
          "scatterpolargl": [
           {
            "marker": {
             "colorbar": {
              "outlinewidth": 1,
              "tickcolor": "rgb(36,36,36)",
              "ticks": "outside"
             }
            },
            "type": "scatterpolargl"
           }
          ],
          "scatterternary": [
           {
            "marker": {
             "colorbar": {
              "outlinewidth": 1,
              "tickcolor": "rgb(36,36,36)",
              "ticks": "outside"
             }
            },
            "type": "scatterternary"
           }
          ],
          "surface": [
           {
            "colorbar": {
             "outlinewidth": 1,
             "tickcolor": "rgb(36,36,36)",
             "ticks": "outside"
            },
            "colorscale": [
             [
              0,
              "#440154"
             ],
             [
              0.1111111111111111,
              "#482878"
             ],
             [
              0.2222222222222222,
              "#3e4989"
             ],
             [
              0.3333333333333333,
              "#31688e"
             ],
             [
              0.4444444444444444,
              "#26828e"
             ],
             [
              0.5555555555555556,
              "#1f9e89"
             ],
             [
              0.6666666666666666,
              "#35b779"
             ],
             [
              0.7777777777777778,
              "#6ece58"
             ],
             [
              0.8888888888888888,
              "#b5de2b"
             ],
             [
              1,
              "#fde725"
             ]
            ],
            "type": "surface"
           }
          ],
          "table": [
           {
            "cells": {
             "fill": {
              "color": "rgb(237,237,237)"
             },
             "line": {
              "color": "white"
             }
            },
            "header": {
             "fill": {
              "color": "rgb(217,217,217)"
             },
             "line": {
              "color": "white"
             }
            },
            "type": "table"
           }
          ]
         },
         "layout": {
          "annotationdefaults": {
           "arrowhead": 0,
           "arrowwidth": 1
          },
          "autotypenumbers": "strict",
          "coloraxis": {
           "colorbar": {
            "outlinewidth": 1,
            "tickcolor": "rgb(36,36,36)",
            "ticks": "outside"
           }
          },
          "colorscale": {
           "diverging": [
            [
             0,
             "rgb(103,0,31)"
            ],
            [
             0.1,
             "rgb(178,24,43)"
            ],
            [
             0.2,
             "rgb(214,96,77)"
            ],
            [
             0.3,
             "rgb(244,165,130)"
            ],
            [
             0.4,
             "rgb(253,219,199)"
            ],
            [
             0.5,
             "rgb(247,247,247)"
            ],
            [
             0.6,
             "rgb(209,229,240)"
            ],
            [
             0.7,
             "rgb(146,197,222)"
            ],
            [
             0.8,
             "rgb(67,147,195)"
            ],
            [
             0.9,
             "rgb(33,102,172)"
            ],
            [
             1,
             "rgb(5,48,97)"
            ]
           ],
           "sequential": [
            [
             0,
             "#440154"
            ],
            [
             0.1111111111111111,
             "#482878"
            ],
            [
             0.2222222222222222,
             "#3e4989"
            ],
            [
             0.3333333333333333,
             "#31688e"
            ],
            [
             0.4444444444444444,
             "#26828e"
            ],
            [
             0.5555555555555556,
             "#1f9e89"
            ],
            [
             0.6666666666666666,
             "#35b779"
            ],
            [
             0.7777777777777778,
             "#6ece58"
            ],
            [
             0.8888888888888888,
             "#b5de2b"
            ],
            [
             1,
             "#fde725"
            ]
           ],
           "sequentialminus": [
            [
             0,
             "#440154"
            ],
            [
             0.1111111111111111,
             "#482878"
            ],
            [
             0.2222222222222222,
             "#3e4989"
            ],
            [
             0.3333333333333333,
             "#31688e"
            ],
            [
             0.4444444444444444,
             "#26828e"
            ],
            [
             0.5555555555555556,
             "#1f9e89"
            ],
            [
             0.6666666666666666,
             "#35b779"
            ],
            [
             0.7777777777777778,
             "#6ece58"
            ],
            [
             0.8888888888888888,
             "#b5de2b"
            ],
            [
             1,
             "#fde725"
            ]
           ]
          },
          "colorway": [
           "#1F77B4",
           "#FF7F0E",
           "#2CA02C",
           "#D62728",
           "#9467BD",
           "#8C564B",
           "#E377C2",
           "#7F7F7F",
           "#BCBD22",
           "#17BECF"
          ],
          "font": {
           "color": "rgb(36,36,36)"
          },
          "geo": {
           "bgcolor": "white",
           "lakecolor": "white",
           "landcolor": "white",
           "showlakes": true,
           "showland": true,
           "subunitcolor": "white"
          },
          "hoverlabel": {
           "align": "left"
          },
          "hovermode": "closest",
          "mapbox": {
           "style": "light"
          },
          "paper_bgcolor": "white",
          "plot_bgcolor": "white",
          "polar": {
           "angularaxis": {
            "gridcolor": "rgb(232,232,232)",
            "linecolor": "rgb(36,36,36)",
            "showgrid": false,
            "showline": true,
            "ticks": "outside"
           },
           "bgcolor": "white",
           "radialaxis": {
            "gridcolor": "rgb(232,232,232)",
            "linecolor": "rgb(36,36,36)",
            "showgrid": false,
            "showline": true,
            "ticks": "outside"
           }
          },
          "scene": {
           "xaxis": {
            "backgroundcolor": "white",
            "gridcolor": "rgb(232,232,232)",
            "gridwidth": 2,
            "linecolor": "rgb(36,36,36)",
            "showbackground": true,
            "showgrid": false,
            "showline": true,
            "ticks": "outside",
            "zeroline": false,
            "zerolinecolor": "rgb(36,36,36)"
           },
           "yaxis": {
            "backgroundcolor": "white",
            "gridcolor": "rgb(232,232,232)",
            "gridwidth": 2,
            "linecolor": "rgb(36,36,36)",
            "showbackground": true,
            "showgrid": false,
            "showline": true,
            "ticks": "outside",
            "zeroline": false,
            "zerolinecolor": "rgb(36,36,36)"
           },
           "zaxis": {
            "backgroundcolor": "white",
            "gridcolor": "rgb(232,232,232)",
            "gridwidth": 2,
            "linecolor": "rgb(36,36,36)",
            "showbackground": true,
            "showgrid": false,
            "showline": true,
            "ticks": "outside",
            "zeroline": false,
            "zerolinecolor": "rgb(36,36,36)"
           }
          },
          "shapedefaults": {
           "fillcolor": "black",
           "line": {
            "width": 0
           },
           "opacity": 0.3
          },
          "ternary": {
           "aaxis": {
            "gridcolor": "rgb(232,232,232)",
            "linecolor": "rgb(36,36,36)",
            "showgrid": false,
            "showline": true,
            "ticks": "outside"
           },
           "baxis": {
            "gridcolor": "rgb(232,232,232)",
            "linecolor": "rgb(36,36,36)",
            "showgrid": false,
            "showline": true,
            "ticks": "outside"
           },
           "bgcolor": "white",
           "caxis": {
            "gridcolor": "rgb(232,232,232)",
            "linecolor": "rgb(36,36,36)",
            "showgrid": false,
            "showline": true,
            "ticks": "outside"
           }
          },
          "title": {
           "x": 0.05
          },
          "xaxis": {
           "automargin": true,
           "gridcolor": "rgb(232,232,232)",
           "linecolor": "rgb(36,36,36)",
           "showgrid": false,
           "showline": true,
           "ticks": "outside",
           "title": {
            "standoff": 15
           },
           "zeroline": false,
           "zerolinecolor": "rgb(36,36,36)"
          },
          "yaxis": {
           "automargin": true,
           "gridcolor": "rgb(232,232,232)",
           "linecolor": "rgb(36,36,36)",
           "showgrid": false,
           "showline": true,
           "ticks": "outside",
           "title": {
            "standoff": 15
           },
           "zeroline": false,
           "zerolinecolor": "rgb(36,36,36)"
          }
         }
        },
        "title": {
         "text": "KDE Plot: Actual vs Predicted Values"
        },
        "width": 1000,
        "xaxis": {
         "title": {
          "text": "label_encoded"
         }
        },
        "yaxis": {
         "title": {
          "text": "Density"
         }
        }
       }
      }
     },
     "metadata": {},
     "output_type": "display_data"
    }
   ],
   "source": [
    "# KDE for actual and predicted\n",
    "kde_actual = gaussian_kde(y_test1)\n",
    "kde_pred = gaussian_kde(y_pred2)\n",
    "\n",
    "# Shared x-axis range covering both datasets\n",
    "x_range = np.linspace(min(min(y_test1), min(y_pred2)), max(max(y_test1), max(y_pred2)), 1000)\n",
    "\n",
    "# Evaluate KDE values\n",
    "y_actual_kde = kde_actual(x_range)\n",
    "y_pred_kde = kde_pred(x_range)\n",
    "\n",
    "# Plotly figure\n",
    "fig = go.Figure()\n",
    "\n",
    "fig.add_trace(go.Scatter(\n",
    "    x=x_range,\n",
    "    y=y_actual_kde,\n",
    "    mode='lines',\n",
    "    name='Actual',\n",
    "    fill='tozeroy',\n",
    "    line=dict(color='blue')\n",
    "))\n",
    "\n",
    "fig.add_trace(go.Scatter(\n",
    "    x=x_range,\n",
    "    y=y_pred_kde,\n",
    "    mode='lines',\n",
    "    name='Predicted',\n",
    "    fill='tozeroy',\n",
    "    line=dict(color='red')\n",
    "))\n",
    "\n",
    "fig.update_layout(\n",
    "    title='KDE Plot: Actual vs Predicted Values',\n",
    "    xaxis_title='label_encoded',\n",
    "    yaxis_title='Density',\n",
    "    legend=dict(x=0.8, y=0.95),\n",
    "    template='simple_white',\n",
    "    width=1000,\n",
    "    height=600,\n",
    "    showlegend=True\n",
    ")\n",
    "\n",
    "fig.show()"
   ]
  },
  {
   "cell_type": "markdown",
   "metadata": {},
   "source": [
    "The blue line is the actual data, and the red line is predicted data. Both lines are very close to each other, which means the model is perfect. The peaks happen at the same places, showing that the model understood the patterns well. But overall, the predictions are very close to the real values."
   ]
  },
  {
   "cell_type": "markdown",
   "metadata": {},
   "source": [
    "## KDE for Multivariable Linear Regression"
   ]
  },
  {
   "cell_type": "code",
   "execution_count": 25,
   "metadata": {},
   "outputs": [
    {
     "data": {
      "application/vnd.plotly.v1+json": {
       "config": {
        "plotlyServerURL": "https://plot.ly"
       },
       "data": [
        {
         "fill": "tozeroy",
         "line": {
          "color": "blue"
         },
         "mode": "lines",
         "name": "Actual",
         "type": "scatter",
         "x": {
          "bdata": "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",
          "dtype": "f8"
         },
         "y": {
          "bdata": "qeYRQJ3a2z87X+Nu8NvbPyzJYQgV3Ns/YzJiFAvb2z9Q7erB0tjbP7WIMGds1ds/Ta6KgdjQ2z8g92C1F8vbP062D84qxNs/F8rEvRK82z+CflSd0LLbP+uOBqxlqNs/6ltbT9Oc2z8CZskSG5DbPz0mc6c+gts/hVvV4z9z2z8n6G3DIGPbP8teW2bjUds/+Fj1EIo/2z8hvl0rFyzbP5kbC0GNF9s/tDNMAO8B2z+A68Q5P+vaP5zA5N+A09o/1fBWBre62j+ChGzh5KDaPyhkgMUNhto/mbBVJjVq2j9EiHCWXk3aP7R0acaNL9o/PK07hMYQ2j8Hao66DPHZP5R/+W9k0Nk/OHdFxtGu2T+LXqf5WIzZPx+N+F/+aNk/YJjqZ8ZE2T+5rzeYtR/ZP4alz47Q+dg/ctkBABzT2D/JSqS1nKvYP/oLOI5Xg9g/4lgLfFFa2D9TkFmEjzDYP7JNab4WBtg/x+SoUuza1z9mfsl5Fa/XP9UX2XuXgtc/DKJbr3dV1z+cgGN4uyfXP/SpqUdo+dY/U6OlmYPK1j/2mqX1EpvWP37b5uwba9Y/e9WuGaQ61j/a/GQesQnWP9azraRI2NU/gICGXHCm1T8awGP7LXTVP9QZUDuHQdU/IOEN2oEO1T9qnzqYI9vUP2v6dDhyp9Q/MyyFfnNz1D8LO4guLT/UP/8kHgylCtQ/kyyb2eDV0z9MdTxX5qDTP2UZYEK7a9M/befAVGU20z+R6LVD6gDTPwThdb9Py9I/5+NecpuV0j/vJEIA01/SP+0otAX8KdI/D25hFxz00T98smfBOL7RPwvps4ZXiNE/1gJl4H1S0T/ylzM9sRzRP3KM3gD35tA/68Gcg1Sx0D/u6JMRz3vQP3t8VOprRtA/4PlaQDAR0D8uvCxxQrjPP+TZ59OHTs8/XqLguTrlzj9CKFwWZXzOP8PcIr4QFM4/UPLCZkeszT8wbt2lEkXNP9nsffB73sw/NgZ9mox4zD+UTe3VTRPMP5HMkrLIrss/n/NkHQZLyz9e1RrgDujKP66dwaDrhco/mxdd4aQkyj+pKJL/QsTJP34NWzTOZMk/PTnFk04GyT/uobgMzKjIPwpFyGhOTMg/yLsLTN3wxz9RmwE1gJbHP9Zvenw+Pcc/oQ+MVR/lxj9RCo3NKY7GP3bzF8xkOMY/fEEWE9fjxT9bfdI+h5DFP8R5EcZ7PsU/0Egy+rrtxD8bpFQHS57EP8J5hfQxUMQ/+U7xo3UDxD/lKBzTG7jDP3SsHhsqbsM/+xvo8KUlwz9q54SllN7CP2V2aWb7mMI/xtbAPd9Uwj8q/b4SRRLCP68/9qkx0cE/WrWvpamRwT9XJEaGsVPBP4Qqg6pNF8E/5EX+T4LcwD/CbX2TU6PAP2fjVnHFa8A/++XTxds1wD8l+JNNmgHAPxbG4EsJnr8/CUy/mjw8vz8t/rBH1d2+Px+HaNbZgr4/1GMgj1Arvj9p8Vp/P9e9P1ZDn3qshr0/xDYyG505vT/uL8vCFvC8P9/6Q5seqrw/1UNDl7lnvD+qKuFy7Ci8PzJxRbS77bs/kcg+rCu2uz8Hz9J2QIK7P7FLxvv9Ubs/ej8d72cluz8/Z5LRgfy6P47QBfFO17o/gijiaNK1uj98b3giD5i6PyTLUdUHfro/nyR3B79nuj/BYK4NN1W6PzbsrAtyRro/Zms/9HE7uj8zaGaJODS6Pz3HZ1zHMLo/pfjUzR8xuj8guIUNQzW6P4xXhxoyPbo/G4QAw+1Iuj8yfAmkdli6P0rDeCnNa7o/JFSkjfGCuj/xXxfZ4526Pxu9POKjvLo/+hT+TDHfuj/Y/VeKiwW7P+kr49exL7s/zeZSP6Nduz9V/+iVXo+7P2WI33vixLs/QpHIWy3+uz+qMORpPTu8P6s4baMQfLw/wOLczaTAvD8j2yV29wi9PwgJ5+8FVb0/N4aWVM2kvT9jMaWCSvi9P7xQmxx6T74/OcQuiFiqvj8QQ1Pt4Qi/P/EwRTUSa78/Y4yPCeXQvz+sxobpKh3APxxCdNyvU8A/MkjJz/6LwD/6Zd8TFcbAP7/Eq9bvAcE/5KY5I4w/wT+fkCTh5n7BPwB2EtT8v8E/5UIum8oCwj+fE6OwTEfCP5B3GGl/jcI/MBgw817Vwj9nHQVX5x7DPxKsrXUUasM/Gtm+COK2wz9bb9OhSwXEP6rjFapMVcQ/WNPNYeCmxD+ybPHfAfrEPz4auxGsTsU/XNJDutmkxT/SYSJyhfzFP/kQEKepVcY/NfySm0Cwxj8lfK5mRAzHPyLxmfOuacc/+VB+AXrIxz+KxzojnyjIPxLCML8Xisg/o7cXD93syD8hAdkf6FDJP9cOdNExtsk/G0vr1rIcyj/J8zm2Y4TKPzM2U8g87co/ONIqOTZXyz/OhMcHSMLLP8SFXwZqLsw/nU1/2pObzD/f3jr9vAnNPzjVabvceM0/oGPuNerozT8WeQdi3FnOPzA5rgmqy84/5vb+y0k+zz840K0dsrHPP/yKw6TsEtA/cM19uFpN0D+8g1xGHojQPwAkpzYyw9A/VhXuXZH+0D8+HWl9NjrRP0LxW0McdtE/9fCASz2y0T/pB3oflO7RP363RzcbK9I/5kXG+cxn0j/UCTG9o6TSP/3Oq8eZ4dI/9UbST6ke0z/xeU19zFvTP1kpb2n9mNM/mBPTHzbW0z/IBQafcBPUP0qkMtmmUNQ/w9TTtNKN1D+arWwN7srUP7LRRbTyB9U/fxIwcdpE1T9uREwDn4HVP/kU2CE6vtU//8b/fKX61T9Eq7S+2jbWP5spiIvTctY/4TSLg4mu1j9T+DFD9unWP6KOO2QTJdc/aZedftpf1z9qcXMpRZrXPwzr8PtM1Nc/LSxYjusN2D9fqfJ6GkfYP0HhDF/Tf9g/A6r02w+42D9w1PmXye/YPx7ncD/6Jtk/wK23hZtd2T/2ZDsmp5PZPy04gOUWydk/RdYpkuT92T961AQGCjLaPwqhECeBZdo/f7mJ6EOY2j+B5vNLTMraP+wxJGKU+9o/TFBKTBYs2z8ZPPk8zFvbPxa2Lnmwits/k2FZWb242z/9P11K7eXbPxE0ls46Etw/oFPYfqA93D8St20LGWjcP1qGET2fkdw/L/bn9S263D/69XIywOHcPwtEgwpRCN0/eaYlstst3T+tBIx6W1LdPxQc8tLLdd0/Po99SSiY3T/JEhmMbLndP3VwSmmU2d0/jScD0Zv43T9hb2vVfhbePwpap6s5M94/5uGVrMhO3j/CqolVKGnePzY8+0hVgt4/84M0T0ya3j//avVWCrHeP2VQEXaMxt4/lzQF6s/a3j+pcIYY0u3ePw7LCZCQ/94/YbxCCAkQ3z9izZpiOR/fP0LYoKofLd8/ChxwFro53z8e+A4HB0XfP1w8xQgFT98/p+5p07JX3z/4cqhKD1/fP4b+PH4ZZd8/I0coqtBp3z/HX9o2NG3fP0K0VLlDb98/CB1D8/5v3z9NAwzTZW/fP3mT13N4bd8/QPuNHTdq3z+AssxEomXfP0bc0oq6X98/Rb1kvYBY3z/3WKbW9U/fP2k97fwaRt8/wJCJgvE63z81cYblei7fPxa/Yc+4IN8/2F+7FK0R3z/GI/y0WQHfP6xZ9NnA794/bzty1+Tc3j/BVNAqyMjePz4AfHpts94/OSp0ldec3j9efsByCYXeP7Im4TAGbN4/8VU3FdFR3j+QvmaLbTbeP5ItsCTfGd4/6IJFlyn83T++Lpe9UN3dPxR5m5VYvd0/M8EPQEWc3T+a+LP/GnrdPyaNgDjeVt0/ZQXXbpMy3T+Oja1GPw3dP9CwtYLm5tw/IYV+A46/3D/jipLGOpfcP9KAkeXxbdw/83FGlbhD3D9CR7oklBjcP2gYQ/yJ7Ns/LYyQnJ+/2z9xiLWd2pHbP0d9L65AY9s/Jo/rkdcz2z886EkhpQPbP6Z5H0iv0to/WHa2BPyg2j/jx81mkW7aP4rLl451O9o/7Zm4q64H2j99I0T8QtPZPzZivMs4ntk/SOsPcpZo2T+nIJlSYjLZP3BKHtui+9g/TdTSgl7E2D/x+VnJm4zYPyoXyzVhVNg/Qee3VbUb2D+m5zS8nuLXP44h5AAkqdc/zI8Cv0tv1z/PYHiUHDXXPztH7CCd+tY/QhPaBNS/1j+ayKzgx4TWPyBh3FN/SdY/VXMP/AAO1j9P5EB0U9LVP5bZ6VN9ltU/fw8wLoVa1T9UwhiRcR7VP/9NwARJ4tQ/XamWChKm1D9o4aAc02nUP3azv6ySLdQ/PmP7I1fx0z8j6tThJrXTPy2anDsIedM/PEjOewE90z9eFXPhGAHTP7nmiJ9UxdI/5Z9v3LqJ0j9JKVyxUU7SP/ZP0SkfE9I/b4YeQynY0T+ujeTrdZ3RP1gKoAMLY9E/NAY6Wu4o0T8hYJ6vJe/QP08jWLO2tdA/48UzBKd80D+ZQOcv/EPQP/j6v7K7C9A/MP2s7tWnzz/KwY+sHjnPP0yq6Stcy84/C6mM1Jhezj8oiO/o3vLNPyUQzYU4iM0/3MjNoa8ezT90LjwNTrbMP4QUw3EdT8w/EQY2Uifpyz/tWmMKdYTLP8PC784PIcs/Iv06rQC/yj8qeU2LUF7KP0mKzicI/8k/3ekCGjChyT8sLNPR0ETJP47a2Zfy6cg/adp4jZ2QyD9Bw/Ws2TjIP1XSnMmu4sc/FRTqjySOxz8NbriFQjvHP4YidgoQ6sY/g29eV5Saxj/c5rd/1kzGP1IYF3HdAMY/Byyl86+2xT//BWqqVG7FP+COmRPSJ8U/77fjiC7jxD931sY/cKDEP3Hv40mdX8Q/74xUlbsgxD8MtgHt0OPDP32k+/jiqMM/TdPRPvdvwz/FAOshEznDP9HA3OM7BMM/l0DCpHbRwj8j1JFjyKDCPwr1cP41csI/cVAGM8RFwj/sicmedxvCP6dYUL9U88E//aWY8l/NwT/4Wk93nanBPyiEE20RiME/b3611L9owT9M3nGQrEvBP0/FJ2TbMME/XluK9U8YwT8gKk3MDQLBP8cUS1IY7sA/EK6n03LcwD+UsOp+IM3AP3lhFWUkwMA/QqixeYG1wD8BqtqSOq3AP6K8PmlSp8A/H4UamMujwD9nIC2dqKLAPzIvpdjro8A/wawGjZenwD8rcwnfra3AP+9acNUwtsA/eOPYWCLBwD/dVoMzhM7AP2xkExFY3sA/HipJfp/wwD8lrrLoWwXBP/vRVZ6OHME/zr9SzTg2wT+P6n6DW1LBP3ap+K33cME/KIyzGA6SwT++f/1tn7XBP6Tk/DWs28E/Vbsn1jQEwj9iDbSQOS/CP0bBAYS6XMI/0gv+qbeMwj8UroDXML/CP1dEo7sl9MI/ytYS35Urwz/X+VujgGXDPzO5MULlocM/CqGvzMLgwz9eK5cqGCLEPyvliBnkZcQ/DKM5LCWsxD9/GaTJ2fTEPzo4NywAQMU/nKMBYZaNxT/+stpGmt3FP51XiY0JMMY/mFPptOGExj/oKw8MINzGP9FEa7DBNcc/WprsjMORxz+igCNZIvDHP9LpZJjaUMg/TKPumOizyD9uAg1zSBnJPxl+Qgj2gMk/mK9xAu3qyT/lNgrTKFfKP90CObKkxco/Knscnls2yz8tDf1ZSKnLP1+cim1lHsw/ilMfJK2VzD8sYgiMGQ/NPxQY1XWkis0/BPGsc0cIzj+gA63Y+4fOP6ZZTbi6Cc8/BbDO5XyNzz+wj9h5nQnQP8MRmpl2TdA/A0Hw2UWS0D/2RY4hB9jQPyeV5TW2HtE/BRr7uk5m0T8aP0IzzK7RP54Jfv8p+NE/ooKoXmNC0j/Po+Btc43SP5r3XihV2dI/vSVxZwMm0z9mmHzieHPTP41pCC+wwdM/uMjOwKMQ1D9pANbpTWDUP5VGkdqosNQ/wnwJoq4B1T9jCQ4uWVPVP13lbUuipdU/xgI5poP41T/hJwrK9kvWP/9bWSL1n9Y/h/jW+nf01j+GeM9/eEnXP8UYmL7vntc/alMEptb01z9LS+QGJkvYP2wqjJTWodg/uHxk5eD42D+JjINzPVDZPym9T53kp9k/neYqps7/2T84qSa381faP0atwd9LsNo/bM2tFs8I2z+gD586dWHbPwtjIxM2uts/RAqDUQkT3D/Al6mR5mvcPztjF1vFxNw/4lPbIZ0d3T8G5ZRHZXbdP14yfhwVz90/RPJ94KMn3j9PJEHECIDeP1tLXOo62N4/HwJ0aDEw3z9lsGxI44ffP14ooYlH398/I/oPkSob4D9qivd/gUbgP8D1KgWkceA/04iWkY2c4D+66BmUOcfgP9V9NXqj8eA/zWO6sMYb4T/hvHyknkXhP644CMMmb+E/pKxWe1qY4T+vjYg+NcHhPwUin4Cy6eE//D44uc0R4j9SYktkgjniPzT95wLMYOI/Bbv0G6aH4j8Vne88DK7iPzWurvr50+I/zikh8mr54j8U3BDJWh7jP/yI4y7FQuM/Vixc3aVm4z9Z2luZ+InjPzAQojO5rOM/Rj+MiePO4z8RX9SFc/DjP8xSTiFlEeQ/wu2jY7Qx5D99YA9kXVHkP1ffE0pccOQ/7Eo0Tq2O5D9hpqe6TKzkPwEsC+w2yeQ/LsoRUmjl5D8Y2DBw3QDlP03OSd6SG+U/dNVQSYU15T+v9+9zsU7lP/jGJjcUZ+U/8kfmgqp+5T/f9KhecZXlPwiqBuplq+U/QlNEXYXA5T9kKt8JzdTlPyRgE1s66OU//Ale1sr65T8RJvobfAzmP9iWWOdLHeY/3O2SDzgt5j8U5NiHPjzmP4Ne2F9dSuY/h94fxJJX5j8WQHv+3GPmP3enSnY6b+Y/3IjTsKl55j9Op4tRKYPmP1f/XRq4i+Y/7Xnp61ST5j/GYrnF/pnmP7yBd8a0n+Y/vtIXLHak5j9wxv1TQqjmPyADG7sYq+Y/yJoH/vis5j/GrBPZ4q3mP1xuUijWreY/kpWe59Ks5j9kIZgy2armP2iFm0Tpp+Y/ADGyeAOk5j+ifnxJKJ/mP3ELFVFYmeY/G4HtSJSS5j+42qQJ3YrmP+Qv14ozguY/pRTn4ph45j98ncBGDm7mP6oVlgmVYuY/aICWnC5W5j+L9p2O3EjmP0/234ugOuY/P8GLXXwr5j+g3mrpcRvmP0fleTGDCuY/0p57U7L45T/3sIaIAeblP2LjjSRz0uU/JCrjlQm+5T+olrVkx6jlP/1TijKvkuU/Y9awucN75T8BZLLMB2TlP5IjvVV+S+U/aNcKVioy5T8gcUPlDhjlPyut2zAv/eQ/wuBve47h5D92KRscMMXkP0Muy30XqOQ/16KQHkiK5D9WuuyOxWvkP0XBG3GTTOQ/ZwpdeLUs5D9tZDhoLwzkP6BMwRMF6+M/4QzYXDrJ4z9iAGkz06bjPywqqpTTg+M/vVpXij9g4z85EO0pGzzjP6ZM4pNqF+M/iJHh8jHy4j/xNgF7dcziP3xS+2g5puI/JmFlAYJ/4j8F5eePU1jiPzwudmayMOI/gn6G3KII4j/KukpOKeDhP/jZ6RtKt+E/8kS6qAmO4T/CVX1abGThP70knJh2OuE/P9RlyywQ4T8Dhk9bk+XgP6IqNrCuuuA/a1CiMIOP4D+8JA5BFWTgP6jJLUNpOOA/5S06lYMM4D+7FX0i0cDfP7xl0Rg5aN8/C524rEcP3z90aBJxBbbeP3zrCet6XN4/8o/PkLAC3j9TzVnIrqjdP7YXLeZ9Tt0/1D0rLCb03D8HZWrIr5ncP9PYE9QiP9w/eeBKUofk2z/BxBsv5YnbPy83cz5EL9s/iDoeO6zU2j+Xu9LFJHraP9TuQGS1H9o/UKEtgGXF2T+aiJVmPGvZP0G42UZBEdk/HEn1MXu32D8WSLwZ8V3YP5r9I9CpBNg/LpeUBqyr1z+VPURN/lLXP8ShmxKn+tY/G/ujoqyi1j8MhX4mFUvWP79q5aPm89U/8Sq2/Cad1T+hX4Xu20bVP7bnOxIL8dQ/kmK927mb1D/R65eZ7UbUP2QKvXSr8tM/L7pDcPie0z9ReDNp2UvTPzk/WBZT+dI/eE4fCGqn0j+eqHyoIlbSP7If2TqBBdI/zNQI3Im10T9cA0qCQGbRP7rzS/2oF9E/Auw99sbJ0D+B+OXvnXzQP3Bev0YxMNA/EB5BYgjJzz+j0tB+MzPPPzk/Zbjpns4/JB0mmTAMzj+Lpa9gDXvNP0TXowSF68w/o29IMZxdzD/OKzFKV9HLP3Dn9Wq6Rss/ASz0Z8m9yj+AwxvPhzbKP+Tfxej4sMk/LGSWuB8tyT964mb+/qrIP4XZOjeZKsg/+ME8nvCrxz/Gd8MtBy/HP0SPX6Des8Y/9x7wcXg6xj8hkL7g1cLFP3cBoe73TMU/AcwiYt/YxD9GtbLHjGbEPxBj1nIA9sM/p59ifzqHwz9c/LfSOhrDP3VrAx0Br8I/4F6C2oxFwj9+BspU3d3BPwk/EaTxd8E/1M58sMgTwT9Zhm0zYbHAP0jkz7i5UMA/iq3ZQKHjvz+tdHY+SCm/P7J4Y4Fkcr4/+Hgx0PG+vT8Vubej6w69P+q9tSlNYrw/qQlzRxG5uz9rJVycMhO7P8FknISrcLo/WbmzG3bRuT8aDAg/jDW5P8Z/cZDnnLg/4BvBeIEHuD+4TkEqU3W3P4XLL6NV5rY/+kYwsIFatj+qmrfuz9G1P6Phbs84TLU/cR6OmLTJtD+XCS5oO0q0P+OhkDbFzbM/Py1g2ElUsz9US+QAwd2yPyfRLEQiarI/vx4yGWX5sT9qr+rbgIuxPwWhVc9sILE/bfl5HyC4sD9neFrjkVKwPxuEuz1y368/SHZViRkfrz8O5PFvB2SuP0LjqZwprq0/dcywom39rD/D96sAwVGsPwTN8SMRq6s/nAuwa0sJqz9SOfkrXWyqPyYuubAz1Kk/kMWQQLxAqT96tZgf5LGoP1KeC5KYJ6g/MnTX3sahpz8dWRZSXCCnPzUTbz9Go6Y/p1JdBHIqpj9I+GEKzbWlP0ubG8lERaU/d5NHyMbYpD8ZzauhQHCkP6u66QKgC6Q/9rQ6r9Kqoz8bIxaBxk2jP83OwWtp9KI/DsHMfKmeoj84FHXddEyiP5km+dO5/aE/i5vUxGayoT9roOkzamqhPx3slsWyJaE/QfO6Py/koD8wy6SKzqWgP7Y+87F/aqA/CpRi5TEyoD+sDxPzqPmfP9oDDNGtlJ8/IxI0pVE1nz+LC3P9c9ueP6ucErb0hp4/CC2g+rM3nj/7fLNGku2dPxoxm2ZwqJ0/9Ujwdy9onT9JqhHqsCydPxnIiH7W9Zw/XH9YSYLDnD8tODexlpWcP6xhtW/2a5w/q01RkYRGnD+xf3l1JCWcP2pwfs65B5w/qtZ0oSjumz/cZwlGVdibP4gbR2Ykxps/FOZQ/nq3mz+j3Q9cPqybP3vA1h5UpJs/osH7NqKfmz9kh2nlDp6bPz06KLuAn5s/IYLfmN6jmz/oQVKuD6ubP3Lp1Hn7tJs/eCC/x4nBmz+fktmxotCbP/iTyJ4u4ps/p1h0QRb2mz/hbm+YQgycP9wgXO2cJJw/e2FR1A4/nD/d4D8rglucP+TYVxnheZw/MyFwDhaanD8lDG/CC7ycPx+PtTSt35w/pCuNq+UEnT+1BpmzoCudPxibSh/KU50/22BaBk59nT/g0ETFGKidP0QGzPwW1J0/B1l+kTUBnj8WL0KrYS+eP2k/57SIXp4/pIe9W5iOnj9jGDKPfr+eP7btcYAp8Z4/kOoSoocjnz8jH8Onh1afPw5m/oUYip8/inDKcSm+nz95QnngqfKfP0wWucPEE6A/DpsALlwuoD/oe5ZJE0mgP/xryVDiY6A/R8ikncF+oD8j9uSpqZmgP3vO7g6TtKA/CQPKhXbPoD+1ah7nTOqgPwAiNCsPBaE/6GP2abYfoT9ZBPnaOzqhP5NugNWYVKE/vguM0MZuoT9x8eJiv4ihP0O1IkN8oqE/fkfQR/e7oT+vq2pnKtWhP8tuf7gP7qE/Iq/AcaEGoj/Wkhzq2R6iP2kC1pizNqI/P32eFSlOoj/+3rAYNWWiP5ro7HrSe6I/62PzNfyRoj/gskJkraeiP/6fU0HhvKI/P0O2KZPRoj8cyC6bvuWiP0r00TRf+aI/LTIht3AMoz8t/yUE7x6jP+KJjB/WMKM/41K9LiJCoz9XqfV4z1KjP9/RXmfaYqM/j68jhT9yoz/TwYR/+4CjP0BR6iULj6M/rJz0aWucoz/85IlfGamjP4Eo4jwStaM/1GyQWlPAoz+Gcokz2sqjP7SpJ2Wk1KM/IUgsr6/doz+qYL3z+eWjP8jVYDeB7aM/xA/0oEP0oz8TUqB5P/qjP9iZyyxz/6M/QOcFSN0DpD/T2fJ6fAekP5OJL5dPCqQ/oIU0kFUMpD895jN7jQ2kP/Jd8472DaQ//TyiI5ANpD/2UauyWQykP0OjgtZSCqQ/9+1uSnsHpD93507q0gOkPzg1WrJZ/6M/bxrevg/6oz/W0PVL9fOjP1OSPrUK7aM/3EyHdVDloz/YBnwmx9yjP9zzTIBv06M/KkNRWUrJoz+oqaWlWL6jP4e1xnabsqM/svIm+xOmoz8o7cB9w5ijP8kfpWWriqM/Xd+DNc17oz+FUDOLKmyjP11/MR/FW6M/FKoixJ5Koz8=",
          "dtype": "f8"
         }
        },
        {
         "fill": "tozeroy",
         "line": {
          "color": "red"
         },
         "mode": "lines",
         "name": "Predicted",
         "type": "scatter",
         "x": {
          "bdata": "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",
          "dtype": "f8"
         },
         "y": {
          "bdata": "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",
          "dtype": "f8"
         }
        }
       ],
       "layout": {
        "height": 600,
        "legend": {
         "x": 0.8,
         "y": 0.95
        },
        "showlegend": true,
        "template": {
         "data": {
          "bar": [
           {
            "error_x": {
             "color": "rgb(36,36,36)"
            },
            "error_y": {
             "color": "rgb(36,36,36)"
            },
            "marker": {
             "line": {
              "color": "white",
              "width": 0.5
             },
             "pattern": {
              "fillmode": "overlay",
              "size": 10,
              "solidity": 0.2
             }
            },
            "type": "bar"
           }
          ],
          "barpolar": [
           {
            "marker": {
             "line": {
              "color": "white",
              "width": 0.5
             },
             "pattern": {
              "fillmode": "overlay",
              "size": 10,
              "solidity": 0.2
             }
            },
            "type": "barpolar"
           }
          ],
          "carpet": [
           {
            "aaxis": {
             "endlinecolor": "rgb(36,36,36)",
             "gridcolor": "white",
             "linecolor": "white",
             "minorgridcolor": "white",
             "startlinecolor": "rgb(36,36,36)"
            },
            "baxis": {
             "endlinecolor": "rgb(36,36,36)",
             "gridcolor": "white",
             "linecolor": "white",
             "minorgridcolor": "white",
             "startlinecolor": "rgb(36,36,36)"
            },
            "type": "carpet"
           }
          ],
          "choropleth": [
           {
            "colorbar": {
             "outlinewidth": 1,
             "tickcolor": "rgb(36,36,36)",
             "ticks": "outside"
            },
            "type": "choropleth"
           }
          ],
          "contour": [
           {
            "colorbar": {
             "outlinewidth": 1,
             "tickcolor": "rgb(36,36,36)",
             "ticks": "outside"
            },
            "colorscale": [
             [
              0,
              "#440154"
             ],
             [
              0.1111111111111111,
              "#482878"
             ],
             [
              0.2222222222222222,
              "#3e4989"
             ],
             [
              0.3333333333333333,
              "#31688e"
             ],
             [
              0.4444444444444444,
              "#26828e"
             ],
             [
              0.5555555555555556,
              "#1f9e89"
             ],
             [
              0.6666666666666666,
              "#35b779"
             ],
             [
              0.7777777777777778,
              "#6ece58"
             ],
             [
              0.8888888888888888,
              "#b5de2b"
             ],
             [
              1,
              "#fde725"
             ]
            ],
            "type": "contour"
           }
          ],
          "contourcarpet": [
           {
            "colorbar": {
             "outlinewidth": 1,
             "tickcolor": "rgb(36,36,36)",
             "ticks": "outside"
            },
            "type": "contourcarpet"
           }
          ],
          "heatmap": [
           {
            "colorbar": {
             "outlinewidth": 1,
             "tickcolor": "rgb(36,36,36)",
             "ticks": "outside"
            },
            "colorscale": [
             [
              0,
              "#440154"
             ],
             [
              0.1111111111111111,
              "#482878"
             ],
             [
              0.2222222222222222,
              "#3e4989"
             ],
             [
              0.3333333333333333,
              "#31688e"
             ],
             [
              0.4444444444444444,
              "#26828e"
             ],
             [
              0.5555555555555556,
              "#1f9e89"
             ],
             [
              0.6666666666666666,
              "#35b779"
             ],
             [
              0.7777777777777778,
              "#6ece58"
             ],
             [
              0.8888888888888888,
              "#b5de2b"
             ],
             [
              1,
              "#fde725"
             ]
            ],
            "type": "heatmap"
           }
          ],
          "histogram": [
           {
            "marker": {
             "line": {
              "color": "white",
              "width": 0.6
             }
            },
            "type": "histogram"
           }
          ],
          "histogram2d": [
           {
            "colorbar": {
             "outlinewidth": 1,
             "tickcolor": "rgb(36,36,36)",
             "ticks": "outside"
            },
            "colorscale": [
             [
              0,
              "#440154"
             ],
             [
              0.1111111111111111,
              "#482878"
             ],
             [
              0.2222222222222222,
              "#3e4989"
             ],
             [
              0.3333333333333333,
              "#31688e"
             ],
             [
              0.4444444444444444,
              "#26828e"
             ],
             [
              0.5555555555555556,
              "#1f9e89"
             ],
             [
              0.6666666666666666,
              "#35b779"
             ],
             [
              0.7777777777777778,
              "#6ece58"
             ],
             [
              0.8888888888888888,
              "#b5de2b"
             ],
             [
              1,
              "#fde725"
             ]
            ],
            "type": "histogram2d"
           }
          ],
          "histogram2dcontour": [
           {
            "colorbar": {
             "outlinewidth": 1,
             "tickcolor": "rgb(36,36,36)",
             "ticks": "outside"
            },
            "colorscale": [
             [
              0,
              "#440154"
             ],
             [
              0.1111111111111111,
              "#482878"
             ],
             [
              0.2222222222222222,
              "#3e4989"
             ],
             [
              0.3333333333333333,
              "#31688e"
             ],
             [
              0.4444444444444444,
              "#26828e"
             ],
             [
              0.5555555555555556,
              "#1f9e89"
             ],
             [
              0.6666666666666666,
              "#35b779"
             ],
             [
              0.7777777777777778,
              "#6ece58"
             ],
             [
              0.8888888888888888,
              "#b5de2b"
             ],
             [
              1,
              "#fde725"
             ]
            ],
            "type": "histogram2dcontour"
           }
          ],
          "mesh3d": [
           {
            "colorbar": {
             "outlinewidth": 1,
             "tickcolor": "rgb(36,36,36)",
             "ticks": "outside"
            },
            "type": "mesh3d"
           }
          ],
          "parcoords": [
           {
            "line": {
             "colorbar": {
              "outlinewidth": 1,
              "tickcolor": "rgb(36,36,36)",
              "ticks": "outside"
             }
            },
            "type": "parcoords"
           }
          ],
          "pie": [
           {
            "automargin": true,
            "type": "pie"
           }
          ],
          "scatter": [
           {
            "fillpattern": {
             "fillmode": "overlay",
             "size": 10,
             "solidity": 0.2
            },
            "type": "scatter"
           }
          ],
          "scatter3d": [
           {
            "line": {
             "colorbar": {
              "outlinewidth": 1,
              "tickcolor": "rgb(36,36,36)",
              "ticks": "outside"
             }
            },
            "marker": {
             "colorbar": {
              "outlinewidth": 1,
              "tickcolor": "rgb(36,36,36)",
              "ticks": "outside"
             }
            },
            "type": "scatter3d"
           }
          ],
          "scattercarpet": [
           {
            "marker": {
             "colorbar": {
              "outlinewidth": 1,
              "tickcolor": "rgb(36,36,36)",
              "ticks": "outside"
             }
            },
            "type": "scattercarpet"
           }
          ],
          "scattergeo": [
           {
            "marker": {
             "colorbar": {
              "outlinewidth": 1,
              "tickcolor": "rgb(36,36,36)",
              "ticks": "outside"
             }
            },
            "type": "scattergeo"
           }
          ],
          "scattergl": [
           {
            "marker": {
             "colorbar": {
              "outlinewidth": 1,
              "tickcolor": "rgb(36,36,36)",
              "ticks": "outside"
             }
            },
            "type": "scattergl"
           }
          ],
          "scattermap": [
           {
            "marker": {
             "colorbar": {
              "outlinewidth": 1,
              "tickcolor": "rgb(36,36,36)",
              "ticks": "outside"
             }
            },
            "type": "scattermap"
           }
          ],
          "scattermapbox": [
           {
            "marker": {
             "colorbar": {
              "outlinewidth": 1,
              "tickcolor": "rgb(36,36,36)",
              "ticks": "outside"
             }
            },
            "type": "scattermapbox"
           }
          ],
          "scatterpolar": [
           {
            "marker": {
             "colorbar": {
              "outlinewidth": 1,
              "tickcolor": "rgb(36,36,36)",
              "ticks": "outside"
             }
            },
            "type": "scatterpolar"
           }
          ],
          "scatterpolargl": [
           {
            "marker": {
             "colorbar": {
              "outlinewidth": 1,
              "tickcolor": "rgb(36,36,36)",
              "ticks": "outside"
             }
            },
            "type": "scatterpolargl"
           }
          ],
          "scatterternary": [
           {
            "marker": {
             "colorbar": {
              "outlinewidth": 1,
              "tickcolor": "rgb(36,36,36)",
              "ticks": "outside"
             }
            },
            "type": "scatterternary"
           }
          ],
          "surface": [
           {
            "colorbar": {
             "outlinewidth": 1,
             "tickcolor": "rgb(36,36,36)",
             "ticks": "outside"
            },
            "colorscale": [
             [
              0,
              "#440154"
             ],
             [
              0.1111111111111111,
              "#482878"
             ],
             [
              0.2222222222222222,
              "#3e4989"
             ],
             [
              0.3333333333333333,
              "#31688e"
             ],
             [
              0.4444444444444444,
              "#26828e"
             ],
             [
              0.5555555555555556,
              "#1f9e89"
             ],
             [
              0.6666666666666666,
              "#35b779"
             ],
             [
              0.7777777777777778,
              "#6ece58"
             ],
             [
              0.8888888888888888,
              "#b5de2b"
             ],
             [
              1,
              "#fde725"
             ]
            ],
            "type": "surface"
           }
          ],
          "table": [
           {
            "cells": {
             "fill": {
              "color": "rgb(237,237,237)"
             },
             "line": {
              "color": "white"
             }
            },
            "header": {
             "fill": {
              "color": "rgb(217,217,217)"
             },
             "line": {
              "color": "white"
             }
            },
            "type": "table"
           }
          ]
         },
         "layout": {
          "annotationdefaults": {
           "arrowhead": 0,
           "arrowwidth": 1
          },
          "autotypenumbers": "strict",
          "coloraxis": {
           "colorbar": {
            "outlinewidth": 1,
            "tickcolor": "rgb(36,36,36)",
            "ticks": "outside"
           }
          },
          "colorscale": {
           "diverging": [
            [
             0,
             "rgb(103,0,31)"
            ],
            [
             0.1,
             "rgb(178,24,43)"
            ],
            [
             0.2,
             "rgb(214,96,77)"
            ],
            [
             0.3,
             "rgb(244,165,130)"
            ],
            [
             0.4,
             "rgb(253,219,199)"
            ],
            [
             0.5,
             "rgb(247,247,247)"
            ],
            [
             0.6,
             "rgb(209,229,240)"
            ],
            [
             0.7,
             "rgb(146,197,222)"
            ],
            [
             0.8,
             "rgb(67,147,195)"
            ],
            [
             0.9,
             "rgb(33,102,172)"
            ],
            [
             1,
             "rgb(5,48,97)"
            ]
           ],
           "sequential": [
            [
             0,
             "#440154"
            ],
            [
             0.1111111111111111,
             "#482878"
            ],
            [
             0.2222222222222222,
             "#3e4989"
            ],
            [
             0.3333333333333333,
             "#31688e"
            ],
            [
             0.4444444444444444,
             "#26828e"
            ],
            [
             0.5555555555555556,
             "#1f9e89"
            ],
            [
             0.6666666666666666,
             "#35b779"
            ],
            [
             0.7777777777777778,
             "#6ece58"
            ],
            [
             0.8888888888888888,
             "#b5de2b"
            ],
            [
             1,
             "#fde725"
            ]
           ],
           "sequentialminus": [
            [
             0,
             "#440154"
            ],
            [
             0.1111111111111111,
             "#482878"
            ],
            [
             0.2222222222222222,
             "#3e4989"
            ],
            [
             0.3333333333333333,
             "#31688e"
            ],
            [
             0.4444444444444444,
             "#26828e"
            ],
            [
             0.5555555555555556,
             "#1f9e89"
            ],
            [
             0.6666666666666666,
             "#35b779"
            ],
            [
             0.7777777777777778,
             "#6ece58"
            ],
            [
             0.8888888888888888,
             "#b5de2b"
            ],
            [
             1,
             "#fde725"
            ]
           ]
          },
          "colorway": [
           "#1F77B4",
           "#FF7F0E",
           "#2CA02C",
           "#D62728",
           "#9467BD",
           "#8C564B",
           "#E377C2",
           "#7F7F7F",
           "#BCBD22",
           "#17BECF"
          ],
          "font": {
           "color": "rgb(36,36,36)"
          },
          "geo": {
           "bgcolor": "white",
           "lakecolor": "white",
           "landcolor": "white",
           "showlakes": true,
           "showland": true,
           "subunitcolor": "white"
          },
          "hoverlabel": {
           "align": "left"
          },
          "hovermode": "closest",
          "mapbox": {
           "style": "light"
          },
          "paper_bgcolor": "white",
          "plot_bgcolor": "white",
          "polar": {
           "angularaxis": {
            "gridcolor": "rgb(232,232,232)",
            "linecolor": "rgb(36,36,36)",
            "showgrid": false,
            "showline": true,
            "ticks": "outside"
           },
           "bgcolor": "white",
           "radialaxis": {
            "gridcolor": "rgb(232,232,232)",
            "linecolor": "rgb(36,36,36)",
            "showgrid": false,
            "showline": true,
            "ticks": "outside"
           }
          },
          "scene": {
           "xaxis": {
            "backgroundcolor": "white",
            "gridcolor": "rgb(232,232,232)",
            "gridwidth": 2,
            "linecolor": "rgb(36,36,36)",
            "showbackground": true,
            "showgrid": false,
            "showline": true,
            "ticks": "outside",
            "zeroline": false,
            "zerolinecolor": "rgb(36,36,36)"
           },
           "yaxis": {
            "backgroundcolor": "white",
            "gridcolor": "rgb(232,232,232)",
            "gridwidth": 2,
            "linecolor": "rgb(36,36,36)",
            "showbackground": true,
            "showgrid": false,
            "showline": true,
            "ticks": "outside",
            "zeroline": false,
            "zerolinecolor": "rgb(36,36,36)"
           },
           "zaxis": {
            "backgroundcolor": "white",
            "gridcolor": "rgb(232,232,232)",
            "gridwidth": 2,
            "linecolor": "rgb(36,36,36)",
            "showbackground": true,
            "showgrid": false,
            "showline": true,
            "ticks": "outside",
            "zeroline": false,
            "zerolinecolor": "rgb(36,36,36)"
           }
          },
          "shapedefaults": {
           "fillcolor": "black",
           "line": {
            "width": 0
           },
           "opacity": 0.3
          },
          "ternary": {
           "aaxis": {
            "gridcolor": "rgb(232,232,232)",
            "linecolor": "rgb(36,36,36)",
            "showgrid": false,
            "showline": true,
            "ticks": "outside"
           },
           "baxis": {
            "gridcolor": "rgb(232,232,232)",
            "linecolor": "rgb(36,36,36)",
            "showgrid": false,
            "showline": true,
            "ticks": "outside"
           },
           "bgcolor": "white",
           "caxis": {
            "gridcolor": "rgb(232,232,232)",
            "linecolor": "rgb(36,36,36)",
            "showgrid": false,
            "showline": true,
            "ticks": "outside"
           }
          },
          "title": {
           "x": 0.05
          },
          "xaxis": {
           "automargin": true,
           "gridcolor": "rgb(232,232,232)",
           "linecolor": "rgb(36,36,36)",
           "showgrid": false,
           "showline": true,
           "ticks": "outside",
           "title": {
            "standoff": 15
           },
           "zeroline": false,
           "zerolinecolor": "rgb(36,36,36)"
          },
          "yaxis": {
           "automargin": true,
           "gridcolor": "rgb(232,232,232)",
           "linecolor": "rgb(36,36,36)",
           "showgrid": false,
           "showline": true,
           "ticks": "outside",
           "title": {
            "standoff": 15
           },
           "zeroline": false,
           "zerolinecolor": "rgb(36,36,36)"
          }
         }
        },
        "title": {
         "text": "KDE Plot: Actual vs Predicted Values"
        },
        "width": 1000,
        "xaxis": {
         "title": {
          "text": "label_encoded"
         }
        },
        "yaxis": {
         "title": {
          "text": "Density"
         }
        }
       }
      }
     },
     "metadata": {},
     "output_type": "display_data"
    }
   ],
   "source": [
    "# Compute KDEs\n",
    "kde_actual = gaussian_kde(y_test)\n",
    "kde_pred = gaussian_kde(y_pred)\n",
    "\n",
    "# Define x range to cover both datasets\n",
    "x_range = np.linspace(min(min(y_test), min(y_pred)), max(max(y_test), max(y_pred)), 1000)\n",
    "\n",
    "# Evaluate KDE values on x_range\n",
    "y_actual_kde = kde_actual(x_range)\n",
    "y_pred_kde = kde_pred(x_range)\n",
    "\n",
    "# Create figure\n",
    "fig = go.Figure()\n",
    "\n",
    "fig.add_trace(go.Scatter(\n",
    "    x=x_range,\n",
    "    y=y_actual_kde,\n",
    "    mode='lines',\n",
    "    name='Actual',\n",
    "    fill='tozeroy',\n",
    "    line=dict(color='blue')\n",
    "))\n",
    "\n",
    "fig.add_trace(go.Scatter(\n",
    "    x=x_range,\n",
    "    y=y_pred_kde,\n",
    "    mode='lines',\n",
    "    name='Predicted',\n",
    "    fill='tozeroy',\n",
    "    line=dict(color='red')\n",
    "))\n",
    "\n",
    "fig.update_layout(\n",
    "    title='KDE Plot: Actual vs Predicted Values',\n",
    "    xaxis_title='label_encoded',\n",
    "    yaxis_title='Density',\n",
    "    legend=dict(x=0.8, y=0.95),\n",
    "    template='simple_white',\n",
    "    width=1000,\n",
    "    height=600,\n",
    "    showlegend=True\n",
    ")\n",
    "\n",
    "fig.show()"
   ]
  },
  {
   "cell_type": "markdown",
   "metadata": {},
   "source": [
    "This plot shows that the predicted values (red) are very close to the actual values (blue). The shapes of both lines match well across all peaks, meaning the model has learned the data patterns accurately. There are only small differences in height at some points, but overall, the predictions are strong. This suggests the model is performing well — neither underfitting nor overfitting."
   ]
  },
  {
   "cell_type": "markdown",
   "metadata": {},
   "source": [
    "## KDE for Single variable Polynomial Regression"
   ]
  },
  {
   "cell_type": "code",
   "execution_count": 26,
   "metadata": {},
   "outputs": [
    {
     "data": {
      "application/vnd.plotly.v1+json": {
       "config": {
        "plotlyServerURL": "https://plot.ly"
       },
       "data": [
        {
         "fill": "tozeroy",
         "line": {
          "color": "blue"
         },
         "mode": "lines",
         "name": "Actual",
         "type": "scatter",
         "x": {
          "bdata": "Ax9kgyzQ3L+RIqbQlpfcvyAm6B0BX9y/rikqa2sm3L89LWy41e3bv8swrgVAtdu/WjTwUqp827/oNzKgFETbv3c7dO1+C9u/BT+2OunS2r+UQviHU5ravyJGOtW9Ydq/sUl8Iigp2r8/Tb5vkvDZv85QAL38t9m/XFRCCmd/2b/rV4RX0UbZv3lbxqQ7Dtm/CF8I8qXV2L+WYko/EJ3YvyRmjIx6ZNi/s2nO2eQr2L9CbRAnT/PXv9BwUnS5ute/XnSUwSOC17/td9YOjknXv3x7GFz4ENe/Cn9aqWLY1r+Ygpz2zJ/WvyeG3kM3Z9a/tYkgkaEu1r9EjWLeC/bVv9KQpCt2vdW/YZTmeOCE1b/vlyjGSkzVv36bahO1E9W/DJ+sYB/b1L+aou6tiaLUvymmMPvzadS/uKlySF4x1L9GrbSVyPjTv9Sw9uIywNO/Y7Q4MJ2H07/yt3p9B0/Tv4C7vMpxFtO/Dr/+F9zd0r+dwkBlRqXSvyzGgrKwbNK/usnE/xo00r9IzQZNhfvRv9fQSJrvwtG/ZtSK51mK0b/018w0xFHRv4LbDoIuGdG/EN9Qz5jg0L+f4pIcA6jQvy7m1Gltb9C/vOkWt9c20L+V2rEIhPzPv7LhNaNYi8+/z+i5PS0az7/s7z3YAanOvwn3wXLWN86/Jv5FDavGzb9DBcqnf1XNv2AMTkJU5My/fRPS3ChzzL+aGlZ3/QHMv7ch2hHSkMu/1CherKYfy7/xL+JGe67Kvw43ZuFPPcq/Kz7qeyTMyb9IRW4W+VrJv2RM8rDN6ci/glN2S6J4yL+eWvrldgfIv7xhfoBLlse/2GgCGyAlx7/2b4a19LPGvxJ3ClDJQsa/MH6O6p3Rxb9MhRKFcmDFv2qMlh9H78S/hpMauht+xL+kmp5U8AzEv8ChIu/Em8O/3KimiZkqw7/6ryokbrnCvxa3rr5CSMK/NL4yWRfXwb9Qxbbz62XBv27MOo7A9MC/itO+KJWDwL+o2kLDaRLAv4jDjbt8Qr+/xNGV8CVgvr/8350lz329vzjupVp4m7y/cPytjyG5u7+sCrbEyta6v+QYvvlz9Lm/ICfGLh0Sub9YNc5jxi+4v5RD1phvTbe/zFHezRhrtr8IYOYCwoi1v0Bu7jdrprS/eHz2bBTEs7+0iv6hveGyv+yYBtdm/7G/KKcODBAdsb9gtRZBuTqwvziHPezEsK6/qKNNVhfsrL8gwF3AaServ5DcbSq8Yqm/CPl9lA6ep794FY7+YNmlv/AxnmizFKS/YE6u0gVQor/Yar48WIugv5AOnU1VjZ2/gEe9IfoDmr9ggN31nnqWv1C5/clD8ZK/YOQ7PNHPjr9AVnzkGr2HvwDIvIxkqoC/gHP6aVwvc78AXe3pvidUv4CKB+r5NmI/gOGCpOlAdz8A/wAqK7OCPyCNwIHhxYk/sA3A7EtskD/A1J8Yp/WTP+Cbf0QCf5c/8GJfcF0Imz8QKj+cuJGeP5B4D+SJDaE/IFz/eTfSoj+oP+8P5ZakPzgj36WSW6Y/wAbPO0AgqD9I6r7R7eSpP9jNrmebqas/aLGe/UhurT/4lI6T9jKvPzw8vxTSe7A/BC633yhesT/MH6+qf0CyP5QRp3XWIrM/XAOfQC0FtD8c9ZYLhOe0P+TmjtbaybU/rNiGoTGstj90yn5siI63PzS8djffcLg//K1uAjZTuT/En2bNjDW6P4yRXpjjF7s/TINWYzr6uz8UdU4ukdy8P9xmRvnnvr0/pFg+xD6hvj9kSjaPlYO/PxYeFy32MsA/+haTkiGkwD/eDw/4TBXBP74Ii114hsE/ogEHw6P3wT+G+oIoz2jCP2rz/o362cI/Tux68yVLwz8u5fZYUbzDPxLecr58LcQ/9tbuI6iexD/az2qJ0w/FP7rI5u7+gMU/nsFiVCryxT+Cut65VWPGP2azWh+B1MY/RqzWhKxFxz8qpVLq17bHPw6ezk8DKMg/8pZKtS6ZyD/Sj8YaWgrJP7aIQoCFe8k/moG+5bDsyT9+ejpL3F3KP15ztrAHz8o/QmwyFjNAyz8mZa57XrHLPwpeKuGJIsw/7lamRrWTzD/OTyKs4ATNP7JInhEMds0/lkEadzfnzT96OpbcYljOP1ozEkKOyc4/PiyOp7k6zz8iJQoN5avPPwMPQzmIDtA/cwsB7B1H0D/lB7+es3/QP1cEfVFJuNA/yQA7BN/w0D85/fi2dCnRP6v5tmkKYtE/HfZ0HKCa0T+P8jLPNdPRP//u8IHLC9I/ceuuNGFE0j/j52zn9nzSP1XkKpqMtdI/x+DoTCLu0j833ab/tybTP6nZZLJNX9M/G9YiZeOX0z+N0uAXedDTP/3OnsoOCdQ/b8tcfaRB1D/hxxowOnrUP1PE2OLPstQ/w8CWlWXr1D81vVRI+yPVP6e5EvuQXNU/GbbQrSaV1T+Jso5gvM3VP/uuTBNSBtY/basKxuc+1j/fp8h4fXfWP0+khisTsNY/waBE3qjo1j8znQKRPiHXP6WZwEPUWdc/F5Z+9mmS1z+Hkjyp/8rXP/mO+luVA9g/a4u4Dis82D/dh3bBwHTYP02ENHRWrdg/v4DyJuzl2D8xfbDZgR7ZP6N5bowXV9k/E3YsP62P2T+FcurxQsjZP/duqKTYANo/aWtmV2452j/ZZyQKBHLaP0tk4ryZqto/vWCgby/j2j8vXV4ixRvbP59ZHNVaVNs/EVbah/CM2z+DUpg6hsXbP/VOVu0b/ts/Z0sUoLE23D/XR9JSR2/cP0lEkAXdp9w/u0BOuHLg3D8tPQxrCBndP505yh2eUd0/DzaI0DOK3T+BMkaDycLdP/MuBDZf+90/YyvC6PQz3j/VJ4CbimzeP0ckPk4gpd4/uSD8ALbd3j8pHbqzSxbfP5sZeGbhTt8/DRY2GXeH3z9/EvTLDMDfP+8Osn6i+N8/sAW4GJwY4D/qAxfy5jTgPyICdssxUeA/XADVpHxt4D+U/jN+x4ngP8z8klcSpuA/BvvxMF3C4D8++VAKqN7gP3b3r+Py+uA/sPUOvT0X4T/o822WiDPhPyLyzG/TT+E/WvArSR5s4T+S7ooiaYjhP8rs6fuzpOE/BOtI1f7A4T886aeuSd3hP3bnBoiU+eE/ruVlYd8V4j/m48Q6KjLiPyDiIxR1TuI/WOCC7b9q4j+Q3uHGCofiP8rcQKBVo+I/AtufeaC/4j882f5S69viP3TXXSw2+OI/rNW8BYEU4z/m0xvfyzDjPx7SergWTeM/WNDZkWFp4z+QzjhrrIXjP8jMl0T3oeM/Asv2HUK+4z86yVX3jNrjP3LHtNDX9uM/rMUTqiIT5D/kw3KDbS/kPx7C0Vy4S+Q/VsAwNgNo5D+Ovo8PToTkP8i87uiYoOQ/ALtNwuO85D84uaybLtnkP3K3C3V59eQ/qrVqTsQR5T/ks8knDy7lPxyyKAFaSuU/VLCH2qRm5T+Oruaz74LlP8asRY06n+U/AKukZoW75T84qQNA0NflP3CnYhkb9OU/qqXB8mUQ5j/ioyDMsCzmPxqif6X7SOY/VKDefkZl5j+Mnj1YkYHmP8acnDHcneY//pr7Cie65j82mVrkcdbmP3CXub288uY/qJUYlwcP5z/gk3dwUivnPxqS1kmdR+c/UpA1I+hj5z+MjpT8MoDnP8SM89V9nOc//IpSr8i45z82ibGIE9XnP26HEGJe8ec/qIVvO6kN6D/gg84U9CnoPxiCLe4+Rug/UoCMx4li6D+Kfuug1H7oP8J8Snofm+g//HqpU2q36D80eQgttdPoP253ZwYA8Og/pnXG30oM6T/ecyW5lSjpPxhyhJLgROk/UHDjayth6T+IbkJFdn3pP8JsoR7Bmek/+moA+Au26T80aV/RVtLpP2xnvqqh7uk/pGUdhOwK6j/eY3xdNyfqPxZi2zaCQ+o/UGA6EM1f6j+IXpnpF3zqP8Bc+MJimOo/+lpXnK206j8yWbZ1+NDqP2pXFU9D7eo/pFV0KI4J6z/cU9MB2SXrPxZSMtsjQus/TlCRtG5e6z+GTvCNuXrrP8BMT2cEl+s/+EquQE+z6z8wSQ0ams/rP2pHbPPk6+s/okXLzC8I7D/cQyqmeiTsPxRCiX/FQOw/TEDoWBBd7D+GPkcyW3nsP748pgumlew/+DoF5fCx7D8wOWS+O87sP2g3w5eG6uw/ojUicdEG7T/aM4FKHCPtPxIy4CNnP+0/TDA//bFb7T+ELp7W/HftP74s/a9HlO0/9ipciZKw7T8uKbti3cztP2gnGjwo6e0/oCV5FXMF7j/YI9juvSHuPxIiN8gIPu4/SiCWoVNa7j+EHvV6nnbuP7wcVFTpku4/9BqzLTSv7j8uGRIHf8vuP2YXceDJ5+4/oBXQuRQE7z/YEy+TXyDvPxASjmyqPO8/ShDtRfVY7z+CDkwfQHXvP7oMq/iKke8/9AoK0tWt7z8sCWmrIMrvP2YHyIRr5u8/z4ITL1sB8D/rAcObgA/wPwiBcgimHfA/JAAidcsr8D9Af9Hh8DnwP13+gE4WSPA/eX0wuztW8D+W/N8nYWTwP7J7j5SGcvA/zvo+AayA8D/ree5t0Y7wPwf5ndr2nPA/JHhNRxyr8D9A9/yzQbnwP1x2rCBnx/A/efVbjYzV8D+VdAv6sePwP7HzumbX8fA/znJq0/z/8D/q8RlAIg7xPwdxyaxHHPE/I/B4GW0q8T8/byiGkjjxP1zu1/K3RvE/eG2HX91U8T+U7DbMAmPxP7Fr5jgocfE/zeqVpU1/8T/qaUUSc43xPwbp9H6Ym/E/Imik672p8T8/51NY47fxP1tmA8UIxvE/eOWyMS7U8T+UZGKeU+LxP7DjEQt58PE/zWLBd57+8T/p4XDkwwzyPwVhIFHpGvI/IuDPvQ4p8j8+X38qNDfyP1veLpdZRfI/d13eA39T8j+T3I1wpGHyP7BbPd3Jb/I/zNrsSe998j/oWZy2FIzyPwXZSyM6mvI/IVj7j1+o8j8+16r8hLbyP1pWWmmqxPI/dtUJ1s/S8j+TVLlC9eDyP6/TaK8a7/I/zFIYHED98j/o0ceIZQvzPwRRd/WKGfM/IdAmYrAn8z89T9bO1TXzP1nOhTv7Q/M/dk01qCBS8z+SzOQURmDzP69LlIFrbvM/y8pD7pB88z/nSfNatorzPwTJosfbmPM/IEhSNAGn8z88xwGhJrXzP1lGsQ1Mw/M/dcVgenHR8z+SRBDnlt/zP67Dv1O87fM/ykJvwOH78z/nwR4tBwr0PwNBzpksGPQ/IMB9BlIm9D88Py1zdzT0P1i+3N+cQvQ/dT2MTMJQ9D+RvDu55170P6076yUNbfQ/yrqakjJ79D/mOUr/V4n0PwO5+Wt9l/Q/Hzip2KKl9D87t1hFyLP0P1g2CLLtwfQ/dLW3HhPQ9D+QNGeLON70P62zFvhd7PQ/yTLGZIP69D/msXXRqAj1PwIxJT7OFvU/HrDUqvMk9T87L4QXGTP1P1euM4Q+QfU/dC3j8GNP9T+QrJJdiV31P6wrQsqua/U/yarxNtR59T/lKaGj+Yf1PwGpUBAflvU/HigAfUSk9T86p6/pabL1P1cmX1aPwPU/c6UOw7TO9T+PJL4v2tz1P6yjbZz/6vU/yCIdCSX59T/kocx1Sgf2PwEhfOJvFfY/HaArT5Uj9j86H9u7ujH2P1aeiijgP/Y/ch06lQVO9j+PnOkBK1z2P6sbmW5QavY/yJpI23V49j/kGfhHm4b2PwCZp7TAlPY/HRhXIeai9j85lwaOC7H2P1UWtvowv/Y/cpVlZ1bN9j+OFBXUe9v2P6uTxECh6fY/xxJ0rcb39j/jkSMa7AX3PwAR04YRFPc/HJCC8zYi9z84DzJgXDD3P1WO4cyBPvc/cQ2ROadM9z+OjECmzFr3P6oL8BLyaPc/xoqffxd39z/jCU/sPIX3P/+I/lhik/c/HAiuxYeh9z84h10yra/3P1QGDZ/Svfc/cYW8C/jL9z+NBGx4Hdr3P6mDG+VC6Pc/xgLLUWj29z/igXq+jQT4P/8AKiuzEvg/G4DZl9gg+D83/4gE/i74P1R+OHEjPfg/cP3n3UhL+D+MfJdKbln4P6n7RreTZ/g/xXr2I7l1+D/i+aWQ3oP4P/54Vf0Dkvg/GvgEaimg+D83d7TWTq74P1P2Y0N0vPg/cHUTsJnK+D+L9MIcv9j4P6lzconk5vg/xfIh9gn1+D/hcdFiLwP5P/3wgM9UEfk/GXAwPHof+T8379+ony35P1NujxXFO/k/b+0+gupJ+T+LbO7uD1j5P6frnVs1Zvk/xWpNyFp0+T/h6fw0gIL5P/1orKGlkPk/GehbDsue+T81Zwt78Kz5P1HmuucVu/k/b2VqVDvJ+T+L5BnBYNf5P6djyS2G5fk/w+J4mqvz+T/fYSgH0QH6P/3g13P2D/o/GWCH4Bse+j813zZNQSz6P1Fe5rlmOvo/bd2VJoxI+j+LXEWTsVb6P6fb9P/WZPo/w1qkbPxy+j/f2VPZIYH6P/tYA0ZHj/o/Gdiysmyd+j81V2Ifkqv6P1HWEYy3ufo/bVXB+NzH+j+J1HBlAtb6P6VTINIn5Po/w9LPPk3y+j/fUX+rcgD7P/vQLhiYDvs/F1DehL0c+z8zz43x4ir7P1FOPV4IOfs/bc3syi1H+z+JTJw3U1X7P6XLS6R4Y/s/wUr7EJ5x+z/fyap9w3/7P/tIWurojfs/F8gJVw6c+z8zR7nDM6r7P0/GaDBZuPs/bUUYnX7G+z+JxMcJpNT7P6VDd3bJ4vs/wcIm4+7w+z/dQdZPFP/7P/nAhbw5Dfw/F0A1KV8b/D8zv+SVhCn8P08+lAKqN/w/a71Db89F/D+HPPPb9FP8P6W7okgaYvw/wTpStT9w/D/duQEiZX78P/k4sY6KjPw/Fbhg+6+a/D8zNxBo1aj8P0+2v9T6tvw/azVvQSDF/D+HtB6uRdP8P6Mzzhpr4fw/wbJ9h5Dv/D/dMS30tf38P/mw3GDbC/0/FTCMzQAa/T8xrzs6Jij9P00u66ZLNv0/a62aE3FE/T+HLEqAllL9P6Or+ey7YP0/vyqpWeFu/T/bqVjGBn39P/koCDMsi/0/Fai3n1GZ/T8xJ2cMd6f9P02mFnmctf0/aSXG5cHD/T+HpHVS59H9P6MjJb8M4P0/v6LUKzLu/T/bIYSYV/z9P/egMwV9Cv4/FSDjcaIY/j8xn5Lexyb+P00eQkvtNP4/aZ3xtxJD/j+FHKEkOFH+P6GbUJFdX/4/vxoA/oJt/j/bma9qqHv+P/cYX9fNif4/E5gORPOX/j8vF76wGKb+P02WbR0+tP4/aRUdimPC/j+FlMz2iND+P6ETfGOu3v4/vZIr0NPs/j/bEds8+fr+P/eQiqkeCf8/ExA6FkQX/z8vj+mCaSX/P0sOme+OM/8/aY1IXLRB/z+FDPjI2U//P6GLpzX/Xf8/vQpXoiRs/z/ZiQYPSnr/P/UItntviP8/E4hl6JSW/z8vBxVVuqT/P0uGxMHfsv8/ZwV0LgXB/z+DhCObKs//P6ED0wdQ3f8/vYKCdHXr/z/ZATLhmvn/P3vA8CbgAwBACYBI3fIKAECYP6CTBRIAQCb/90kYGQBAtL5PACsgAEBCfqe2PScAQNA9/2xQLgBAX/1WI2M1AEDtvK7ZdTwAQHt8BpCIQwBACTxeRptKAECX+7X8rVEAQCW7DbPAWABAtHpladNfAEBCOr0f5mYAQND5FNb4bQBAXrlsjAt1AEDseMRCHnwAQHs4HPkwgwBACfhzr0OKAECXt8tlVpEAQCV3IxxpmABAszZ70nufAEBC9tKIjqYAQNC1Kj+hrQBAXnWC9bO0AEDsNNqrxrsAQHr0MWLZwgBACbSJGOzJAECXc+HO/tAAQCUzOYUR2ABAs/KQOyTfAEBBsujxNuYAQM9xQKhJ7QBAXjGYXlz0AEDs8O8Ub/sAQHqwR8uBAgFACHCfgZQJAUCWL/c3pxABQCXvTu65FwFAs66mpMweAUBBbv5a3yUBQM8tVhHyLAFAXe2txwQ0AUDsrAV+FzsBQHpsXTQqQgFACCy16jxJAUCW6wyhT1ABQCSrZFdiVwFAs2q8DXVeAUBBKhTEh2UBQM/pa3qabAFAXanDMK1zAUDraBvnv3oBQHkoc53SgQFACOjKU+WIAUCWpyIK+I8BQCRnesAKlwFAsibSdh2eAUBA5iktMKUBQM+lgeNCrAFAXWXZmVWzAUDrJDFQaLoBQHnkiAZ7wQFAB6TgvI3IAUCWYzhzoM8BQCQjkCmz1gFAsuLn38XdAUBAoj+W2OQBQM5hl0zr6wFAXSHvAv7yAUDr4Ea5EPoBQHmgnm8jAQJAB2D2JTYIAkCVH07cSA8CQCPfpZJbFgJAsp79SG4dAkBAXlX/gCQCQM4drbWTKwJAXN0EbKYyAkDqnFwiuTkCQHlctNjLQAJABxwMj95HAkCV22NF8U4CQCObu/sDVgJAsVoTshZdAkBAGmtoKWQCQM7Zwh48awJAXJka1U5yAkDqWHKLYXkCQHgYykF0gAJAB9gh+IaHAkCVl3mumY4CQCNX0WSslQJAsRYpG7+cAkA/1oDR0aMCQM2V2IfkqgJAXFUwPvexAkDqFIj0CbkCQHjU36ocwAJABpQ3YS/HAkCUU48XQs4CQCMT581U1QJAsdI+hGfcAkA/kpY6euMCQM1R7vCM6gJAWxFGp5/xAkDq0J1dsvgCQHiQ9RPF/wJABlBNytcGA0CUD6WA6g0DQCLP/Db9FANAsY5U7Q8cA0A/TqyjIiMDQM0NBFo1KgNAW81bEEgxA0DpjLPGWjgDQHdMC31tPwNABgxjM4BGA0CUy7rpkk0DQCKLEqClVANAsEpqVrhbA0A+CsIMy2IDQM3JGcPdaQNAW4lxefBwA0DpSMkvA3gDQHcIIeYVfwNABch4nCiGA0CUh9BSO40DQCJHKAlOlANAsAaAv2CbA0A+xtd1c6IDQMyFLyyGqQNAW0WH4piwA0DpBN+Yq7cDQHfENk++vgNABYSOBdHFA0CTQ+a748wDQCEDPnL20wNAsMKVKAnbA0A+gu3eG+IDQMxBRZUu6QNAWgGdS0HwA0DowPQBVPcDQHeATLhm/gNABUCkbnkFBECT//skjAwEQCG/U9ueEwRAr36rkbEaBEA+PgNIxCEEQMz9Wv7WKARAWr2ytOkvBEDofApr/DYEQHY8YiEPPgRABfy51yFFBECTuxGONEwEQCF7aURHUwRArzrB+llaBEA9+hixbGEEQMu5cGd/aARAWnnIHZJvBEDoOCDUpHYEQHb4d4q3fQRABLjPQMqEBECSdyf33IsEQCE3f63vkgRAr/bWYwKaBEA9ti4aFaEEQMt1htAnqARAWTXehjqvBEDo9DU9TbYEQHa0jfNfvQRABHTlqXLEBECSMz1ghcsEQCDzlBaY0gRAr7LszKrZBEA9ckSDveAEQMsxnDnQ5wRAWfHz7+LuBEDnsEum9fUEQHVwo1wI/QRABDD7EhsEBUCS71LJLQsFQCCvqn9AEgVArm4CNlMZBUA8LlrsZSAFQMvtsaJ4JwVAWa0JWYsuBUDnbGEPnjUFQHUsucWwPAVAA+wQfMNDBUCSq2gy1koFQCBrwOjoUQVArioYn/tYBUA86m9VDmAFQMqpxwshZwVAWWkfwjNuBUDnKHd4RnUFQHXozi5ZfAVAA6gm5WuDBUCRZ36bfooFQB8n1lGRkQVAruYtCKSYBUA8poW+tp8FQMpl3XTJpgVAWCU1K9ytBUDm5Izh7rQFQHWk5JcBvAVAA2Q8ThTDBUCRI5QEJ8oFQB/j67o50QVAraJDcUzYBUA8YpsnX98FQMoh891x5gVAWOFKlITtBUDmoKJKl/QFQHRg+gCq+wVAAyBSt7wCBkCR36ltzwkGQB+fASTiEAZArV5Z2vQXBkA7HrGQBx8GQMndCEcaJgZAWJ1g/SwtBkDmXLizPzQGQHQcEGpSOwZAAtxnIGVCBkCQm7/Wd0kGQB9bF42KUAZArRpvQ51XBkA72sb5r14GQMmZHrDCZQZAV1l2ZtVsBkDmGM4c6HMGQHTYJdP6egZAAph9iQ2CBkCQV9U/IIkGQB4XLfYykAZArdaErEWXBkA7ltxiWJ4GQMlVNBlrpQZAVxWMz32sBkDl1OOFkLMGQHOUOzyjugZAAlST8rXBBkCQE+uoyMgGQB7TQl/bzwZArJKaFe7WBkA6UvLLAN4GQMkRSoIT5QZAV9GhOCbsBkDlkPnuOPMGQHNQUaVL+gZAARCpW14BB0CQzwAScQgHQB6PWMiDDwdArE6wfpYWB0A6Dgg1qR0HQMjNX+u7JAdAV423oc4rB0DlTA9Y4TIHQHMMZw70OQdAAcy+xAZBB0CPixZ7GUgHQB1LbjEsTwdArArG5z5WB0A6yh2eUV0HQMiJdVRkZAdAVknNCndrB0DkCCXBiXIHQHPIfHeceQdAAYjULa+AB0CPRyzkwYcHQB0HhJrUjgdAq8bbUOeVB0A6hjMH+pwHQMhFi70MpAdAVgXjcx+rB0DkxDoqMrIHQHKEkuBEuQdAAUTqllfAB0CPA0JNascHQB3DmQN9zgdAq4LxuY/VB0A5QklwotwHQMcBoSa14wdAVsH43MfqB0DkgFCT2vEHQHJAqEnt+AdAAAAAAAAACEA=",
          "dtype": "f8"
         },
         "y": {
          "bdata": "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",
          "dtype": "f8"
         }
        },
        {
         "fill": "tozeroy",
         "line": {
          "color": "red"
         },
         "mode": "lines",
         "name": "Predicted",
         "type": "scatter",
         "x": {
          "bdata": "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",
          "dtype": "f8"
         },
         "y": {
          "bdata": "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",
          "dtype": "f8"
         }
        }
       ],
       "layout": {
        "height": 600,
        "legend": {
         "x": 0.8,
         "y": 0.95
        },
        "showlegend": true,
        "template": {
         "data": {
          "bar": [
           {
            "error_x": {
             "color": "rgb(36,36,36)"
            },
            "error_y": {
             "color": "rgb(36,36,36)"
            },
            "marker": {
             "line": {
              "color": "white",
              "width": 0.5
             },
             "pattern": {
              "fillmode": "overlay",
              "size": 10,
              "solidity": 0.2
             }
            },
            "type": "bar"
           }
          ],
          "barpolar": [
           {
            "marker": {
             "line": {
              "color": "white",
              "width": 0.5
             },
             "pattern": {
              "fillmode": "overlay",
              "size": 10,
              "solidity": 0.2
             }
            },
            "type": "barpolar"
           }
          ],
          "carpet": [
           {
            "aaxis": {
             "endlinecolor": "rgb(36,36,36)",
             "gridcolor": "white",
             "linecolor": "white",
             "minorgridcolor": "white",
             "startlinecolor": "rgb(36,36,36)"
            },
            "baxis": {
             "endlinecolor": "rgb(36,36,36)",
             "gridcolor": "white",
             "linecolor": "white",
             "minorgridcolor": "white",
             "startlinecolor": "rgb(36,36,36)"
            },
            "type": "carpet"
           }
          ],
          "choropleth": [
           {
            "colorbar": {
             "outlinewidth": 1,
             "tickcolor": "rgb(36,36,36)",
             "ticks": "outside"
            },
            "type": "choropleth"
           }
          ],
          "contour": [
           {
            "colorbar": {
             "outlinewidth": 1,
             "tickcolor": "rgb(36,36,36)",
             "ticks": "outside"
            },
            "colorscale": [
             [
              0,
              "#440154"
             ],
             [
              0.1111111111111111,
              "#482878"
             ],
             [
              0.2222222222222222,
              "#3e4989"
             ],
             [
              0.3333333333333333,
              "#31688e"
             ],
             [
              0.4444444444444444,
              "#26828e"
             ],
             [
              0.5555555555555556,
              "#1f9e89"
             ],
             [
              0.6666666666666666,
              "#35b779"
             ],
             [
              0.7777777777777778,
              "#6ece58"
             ],
             [
              0.8888888888888888,
              "#b5de2b"
             ],
             [
              1,
              "#fde725"
             ]
            ],
            "type": "contour"
           }
          ],
          "contourcarpet": [
           {
            "colorbar": {
             "outlinewidth": 1,
             "tickcolor": "rgb(36,36,36)",
             "ticks": "outside"
            },
            "type": "contourcarpet"
           }
          ],
          "heatmap": [
           {
            "colorbar": {
             "outlinewidth": 1,
             "tickcolor": "rgb(36,36,36)",
             "ticks": "outside"
            },
            "colorscale": [
             [
              0,
              "#440154"
             ],
             [
              0.1111111111111111,
              "#482878"
             ],
             [
              0.2222222222222222,
              "#3e4989"
             ],
             [
              0.3333333333333333,
              "#31688e"
             ],
             [
              0.4444444444444444,
              "#26828e"
             ],
             [
              0.5555555555555556,
              "#1f9e89"
             ],
             [
              0.6666666666666666,
              "#35b779"
             ],
             [
              0.7777777777777778,
              "#6ece58"
             ],
             [
              0.8888888888888888,
              "#b5de2b"
             ],
             [
              1,
              "#fde725"
             ]
            ],
            "type": "heatmap"
           }
          ],
          "histogram": [
           {
            "marker": {
             "line": {
              "color": "white",
              "width": 0.6
             }
            },
            "type": "histogram"
           }
          ],
          "histogram2d": [
           {
            "colorbar": {
             "outlinewidth": 1,
             "tickcolor": "rgb(36,36,36)",
             "ticks": "outside"
            },
            "colorscale": [
             [
              0,
              "#440154"
             ],
             [
              0.1111111111111111,
              "#482878"
             ],
             [
              0.2222222222222222,
              "#3e4989"
             ],
             [
              0.3333333333333333,
              "#31688e"
             ],
             [
              0.4444444444444444,
              "#26828e"
             ],
             [
              0.5555555555555556,
              "#1f9e89"
             ],
             [
              0.6666666666666666,
              "#35b779"
             ],
             [
              0.7777777777777778,
              "#6ece58"
             ],
             [
              0.8888888888888888,
              "#b5de2b"
             ],
             [
              1,
              "#fde725"
             ]
            ],
            "type": "histogram2d"
           }
          ],
          "histogram2dcontour": [
           {
            "colorbar": {
             "outlinewidth": 1,
             "tickcolor": "rgb(36,36,36)",
             "ticks": "outside"
            },
            "colorscale": [
             [
              0,
              "#440154"
             ],
             [
              0.1111111111111111,
              "#482878"
             ],
             [
              0.2222222222222222,
              "#3e4989"
             ],
             [
              0.3333333333333333,
              "#31688e"
             ],
             [
              0.4444444444444444,
              "#26828e"
             ],
             [
              0.5555555555555556,
              "#1f9e89"
             ],
             [
              0.6666666666666666,
              "#35b779"
             ],
             [
              0.7777777777777778,
              "#6ece58"
             ],
             [
              0.8888888888888888,
              "#b5de2b"
             ],
             [
              1,
              "#fde725"
             ]
            ],
            "type": "histogram2dcontour"
           }
          ],
          "mesh3d": [
           {
            "colorbar": {
             "outlinewidth": 1,
             "tickcolor": "rgb(36,36,36)",
             "ticks": "outside"
            },
            "type": "mesh3d"
           }
          ],
          "parcoords": [
           {
            "line": {
             "colorbar": {
              "outlinewidth": 1,
              "tickcolor": "rgb(36,36,36)",
              "ticks": "outside"
             }
            },
            "type": "parcoords"
           }
          ],
          "pie": [
           {
            "automargin": true,
            "type": "pie"
           }
          ],
          "scatter": [
           {
            "fillpattern": {
             "fillmode": "overlay",
             "size": 10,
             "solidity": 0.2
            },
            "type": "scatter"
           }
          ],
          "scatter3d": [
           {
            "line": {
             "colorbar": {
              "outlinewidth": 1,
              "tickcolor": "rgb(36,36,36)",
              "ticks": "outside"
             }
            },
            "marker": {
             "colorbar": {
              "outlinewidth": 1,
              "tickcolor": "rgb(36,36,36)",
              "ticks": "outside"
             }
            },
            "type": "scatter3d"
           }
          ],
          "scattercarpet": [
           {
            "marker": {
             "colorbar": {
              "outlinewidth": 1,
              "tickcolor": "rgb(36,36,36)",
              "ticks": "outside"
             }
            },
            "type": "scattercarpet"
           }
          ],
          "scattergeo": [
           {
            "marker": {
             "colorbar": {
              "outlinewidth": 1,
              "tickcolor": "rgb(36,36,36)",
              "ticks": "outside"
             }
            },
            "type": "scattergeo"
           }
          ],
          "scattergl": [
           {
            "marker": {
             "colorbar": {
              "outlinewidth": 1,
              "tickcolor": "rgb(36,36,36)",
              "ticks": "outside"
             }
            },
            "type": "scattergl"
           }
          ],
          "scattermap": [
           {
            "marker": {
             "colorbar": {
              "outlinewidth": 1,
              "tickcolor": "rgb(36,36,36)",
              "ticks": "outside"
             }
            },
            "type": "scattermap"
           }
          ],
          "scattermapbox": [
           {
            "marker": {
             "colorbar": {
              "outlinewidth": 1,
              "tickcolor": "rgb(36,36,36)",
              "ticks": "outside"
             }
            },
            "type": "scattermapbox"
           }
          ],
          "scatterpolar": [
           {
            "marker": {
             "colorbar": {
              "outlinewidth": 1,
              "tickcolor": "rgb(36,36,36)",
              "ticks": "outside"
             }
            },
            "type": "scatterpolar"
           }
          ],
          "scatterpolargl": [
           {
            "marker": {
             "colorbar": {
              "outlinewidth": 1,
              "tickcolor": "rgb(36,36,36)",
              "ticks": "outside"
             }
            },
            "type": "scatterpolargl"
           }
          ],
          "scatterternary": [
           {
            "marker": {
             "colorbar": {
              "outlinewidth": 1,
              "tickcolor": "rgb(36,36,36)",
              "ticks": "outside"
             }
            },
            "type": "scatterternary"
           }
          ],
          "surface": [
           {
            "colorbar": {
             "outlinewidth": 1,
             "tickcolor": "rgb(36,36,36)",
             "ticks": "outside"
            },
            "colorscale": [
             [
              0,
              "#440154"
             ],
             [
              0.1111111111111111,
              "#482878"
             ],
             [
              0.2222222222222222,
              "#3e4989"
             ],
             [
              0.3333333333333333,
              "#31688e"
             ],
             [
              0.4444444444444444,
              "#26828e"
             ],
             [
              0.5555555555555556,
              "#1f9e89"
             ],
             [
              0.6666666666666666,
              "#35b779"
             ],
             [
              0.7777777777777778,
              "#6ece58"
             ],
             [
              0.8888888888888888,
              "#b5de2b"
             ],
             [
              1,
              "#fde725"
             ]
            ],
            "type": "surface"
           }
          ],
          "table": [
           {
            "cells": {
             "fill": {
              "color": "rgb(237,237,237)"
             },
             "line": {
              "color": "white"
             }
            },
            "header": {
             "fill": {
              "color": "rgb(217,217,217)"
             },
             "line": {
              "color": "white"
             }
            },
            "type": "table"
           }
          ]
         },
         "layout": {
          "annotationdefaults": {
           "arrowhead": 0,
           "arrowwidth": 1
          },
          "autotypenumbers": "strict",
          "coloraxis": {
           "colorbar": {
            "outlinewidth": 1,
            "tickcolor": "rgb(36,36,36)",
            "ticks": "outside"
           }
          },
          "colorscale": {
           "diverging": [
            [
             0,
             "rgb(103,0,31)"
            ],
            [
             0.1,
             "rgb(178,24,43)"
            ],
            [
             0.2,
             "rgb(214,96,77)"
            ],
            [
             0.3,
             "rgb(244,165,130)"
            ],
            [
             0.4,
             "rgb(253,219,199)"
            ],
            [
             0.5,
             "rgb(247,247,247)"
            ],
            [
             0.6,
             "rgb(209,229,240)"
            ],
            [
             0.7,
             "rgb(146,197,222)"
            ],
            [
             0.8,
             "rgb(67,147,195)"
            ],
            [
             0.9,
             "rgb(33,102,172)"
            ],
            [
             1,
             "rgb(5,48,97)"
            ]
           ],
           "sequential": [
            [
             0,
             "#440154"
            ],
            [
             0.1111111111111111,
             "#482878"
            ],
            [
             0.2222222222222222,
             "#3e4989"
            ],
            [
             0.3333333333333333,
             "#31688e"
            ],
            [
             0.4444444444444444,
             "#26828e"
            ],
            [
             0.5555555555555556,
             "#1f9e89"
            ],
            [
             0.6666666666666666,
             "#35b779"
            ],
            [
             0.7777777777777778,
             "#6ece58"
            ],
            [
             0.8888888888888888,
             "#b5de2b"
            ],
            [
             1,
             "#fde725"
            ]
           ],
           "sequentialminus": [
            [
             0,
             "#440154"
            ],
            [
             0.1111111111111111,
             "#482878"
            ],
            [
             0.2222222222222222,
             "#3e4989"
            ],
            [
             0.3333333333333333,
             "#31688e"
            ],
            [
             0.4444444444444444,
             "#26828e"
            ],
            [
             0.5555555555555556,
             "#1f9e89"
            ],
            [
             0.6666666666666666,
             "#35b779"
            ],
            [
             0.7777777777777778,
             "#6ece58"
            ],
            [
             0.8888888888888888,
             "#b5de2b"
            ],
            [
             1,
             "#fde725"
            ]
           ]
          },
          "colorway": [
           "#1F77B4",
           "#FF7F0E",
           "#2CA02C",
           "#D62728",
           "#9467BD",
           "#8C564B",
           "#E377C2",
           "#7F7F7F",
           "#BCBD22",
           "#17BECF"
          ],
          "font": {
           "color": "rgb(36,36,36)"
          },
          "geo": {
           "bgcolor": "white",
           "lakecolor": "white",
           "landcolor": "white",
           "showlakes": true,
           "showland": true,
           "subunitcolor": "white"
          },
          "hoverlabel": {
           "align": "left"
          },
          "hovermode": "closest",
          "mapbox": {
           "style": "light"
          },
          "paper_bgcolor": "white",
          "plot_bgcolor": "white",
          "polar": {
           "angularaxis": {
            "gridcolor": "rgb(232,232,232)",
            "linecolor": "rgb(36,36,36)",
            "showgrid": false,
            "showline": true,
            "ticks": "outside"
           },
           "bgcolor": "white",
           "radialaxis": {
            "gridcolor": "rgb(232,232,232)",
            "linecolor": "rgb(36,36,36)",
            "showgrid": false,
            "showline": true,
            "ticks": "outside"
           }
          },
          "scene": {
           "xaxis": {
            "backgroundcolor": "white",
            "gridcolor": "rgb(232,232,232)",
            "gridwidth": 2,
            "linecolor": "rgb(36,36,36)",
            "showbackground": true,
            "showgrid": false,
            "showline": true,
            "ticks": "outside",
            "zeroline": false,
            "zerolinecolor": "rgb(36,36,36)"
           },
           "yaxis": {
            "backgroundcolor": "white",
            "gridcolor": "rgb(232,232,232)",
            "gridwidth": 2,
            "linecolor": "rgb(36,36,36)",
            "showbackground": true,
            "showgrid": false,
            "showline": true,
            "ticks": "outside",
            "zeroline": false,
            "zerolinecolor": "rgb(36,36,36)"
           },
           "zaxis": {
            "backgroundcolor": "white",
            "gridcolor": "rgb(232,232,232)",
            "gridwidth": 2,
            "linecolor": "rgb(36,36,36)",
            "showbackground": true,
            "showgrid": false,
            "showline": true,
            "ticks": "outside",
            "zeroline": false,
            "zerolinecolor": "rgb(36,36,36)"
           }
          },
          "shapedefaults": {
           "fillcolor": "black",
           "line": {
            "width": 0
           },
           "opacity": 0.3
          },
          "ternary": {
           "aaxis": {
            "gridcolor": "rgb(232,232,232)",
            "linecolor": "rgb(36,36,36)",
            "showgrid": false,
            "showline": true,
            "ticks": "outside"
           },
           "baxis": {
            "gridcolor": "rgb(232,232,232)",
            "linecolor": "rgb(36,36,36)",
            "showgrid": false,
            "showline": true,
            "ticks": "outside"
           },
           "bgcolor": "white",
           "caxis": {
            "gridcolor": "rgb(232,232,232)",
            "linecolor": "rgb(36,36,36)",
            "showgrid": false,
            "showline": true,
            "ticks": "outside"
           }
          },
          "title": {
           "x": 0.05
          },
          "xaxis": {
           "automargin": true,
           "gridcolor": "rgb(232,232,232)",
           "linecolor": "rgb(36,36,36)",
           "showgrid": false,
           "showline": true,
           "ticks": "outside",
           "title": {
            "standoff": 15
           },
           "zeroline": false,
           "zerolinecolor": "rgb(36,36,36)"
          },
          "yaxis": {
           "automargin": true,
           "gridcolor": "rgb(232,232,232)",
           "linecolor": "rgb(36,36,36)",
           "showgrid": false,
           "showline": true,
           "ticks": "outside",
           "title": {
            "standoff": 15
           },
           "zeroline": false,
           "zerolinecolor": "rgb(36,36,36)"
          }
         }
        },
        "title": {
         "text": "KDE Plot: Actual vs Predicted Values"
        },
        "width": 1000,
        "xaxis": {
         "title": {
          "text": "label_encoded"
         }
        },
        "yaxis": {
         "title": {
          "text": "Density"
         }
        }
       }
      }
     },
     "metadata": {},
     "output_type": "display_data"
    }
   ],
   "source": [
    "# Calculate KDE for actual and predicted\n",
    "kde_actual = gaussian_kde(y_test_p1)\n",
    "kde_pred = gaussian_kde(y_pred_p1)\n",
    "\n",
    "# Create x-axis range covering both datasets\n",
    "x_range = np.linspace(min(min(y_test_p1), min(y_pred_p1)), max(max(y_test_p1), max(y_pred_p1)), 1000)\n",
    "\n",
    "# Evaluate KDE values\n",
    "y_actual_kde = kde_actual(x_range)\n",
    "y_pred_kde = kde_pred(x_range)\n",
    "\n",
    "# Create Plotly figure\n",
    "fig = go.Figure()\n",
    "\n",
    "fig.add_trace(go.Scatter(\n",
    "    x=x_range,\n",
    "    y=y_actual_kde,\n",
    "    mode='lines',\n",
    "    name='Actual',\n",
    "    fill='tozeroy',\n",
    "    line=dict(color='blue')\n",
    "))\n",
    "\n",
    "fig.add_trace(go.Scatter(\n",
    "    x=x_range,\n",
    "    y=y_pred_kde,\n",
    "    mode='lines',\n",
    "    name='Predicted',\n",
    "    fill='tozeroy',\n",
    "    line=dict(color='red')\n",
    "))\n",
    "\n",
    "fig.update_layout(\n",
    "    title='KDE Plot: Actual vs Predicted Values',\n",
    "    xaxis_title='label_encoded',\n",
    "    yaxis_title='Density',\n",
    "    legend=dict(x=0.8, y=0.95),\n",
    "    template='simple_white',\n",
    "    width=1000,\n",
    "    height=600,\n",
    "    showlegend=True\n",
    ")\n",
    "\n",
    "fig.show()"
   ]
  },
  {
   "cell_type": "markdown",
   "metadata": {},
   "source": [
    "The red line doesn't perfectly match the blue line. The red peaks appear shifted slightly to the right, meaning the model is consistently guessing numbers that are a bit too high. Both lines show three main bumps, but the red bumps are taller and narrower than the blue ones. Also, there's a small blue tail on the far right that the red line completely misses, showing the model doesn't account for some higher values."
   ]
  },
  {
   "cell_type": "markdown",
   "metadata": {},
   "source": [
    "## KDE for Degree 2 Polynomial Regression"
   ]
  },
  {
   "cell_type": "code",
   "execution_count": 27,
   "metadata": {},
   "outputs": [
    {
     "data": {
      "application/vnd.plotly.v1+json": {
       "config": {
        "plotlyServerURL": "https://plot.ly"
       },
       "data": [
        {
         "fill": "tozeroy",
         "line": {
          "color": "blue"
         },
         "mode": "lines",
         "name": "Actual",
         "type": "scatter",
         "x": {
          "bdata": "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",
          "dtype": "f8"
         },
         "y": {
          "bdata": "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",
          "dtype": "f8"
         }
        },
        {
         "fill": "tozeroy",
         "line": {
          "color": "red"
         },
         "mode": "lines",
         "name": "Predicted",
         "type": "scatter",
         "x": {
          "bdata": "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",
          "dtype": "f8"
         },
         "y": {
          "bdata": "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",
          "dtype": "f8"
         }
        }
       ],
       "layout": {
        "height": 600,
        "legend": {
         "x": 0.8,
         "y": 0.95
        },
        "showlegend": true,
        "template": {
         "data": {
          "bar": [
           {
            "error_x": {
             "color": "rgb(36,36,36)"
            },
            "error_y": {
             "color": "rgb(36,36,36)"
            },
            "marker": {
             "line": {
              "color": "white",
              "width": 0.5
             },
             "pattern": {
              "fillmode": "overlay",
              "size": 10,
              "solidity": 0.2
             }
            },
            "type": "bar"
           }
          ],
          "barpolar": [
           {
            "marker": {
             "line": {
              "color": "white",
              "width": 0.5
             },
             "pattern": {
              "fillmode": "overlay",
              "size": 10,
              "solidity": 0.2
             }
            },
            "type": "barpolar"
           }
          ],
          "carpet": [
           {
            "aaxis": {
             "endlinecolor": "rgb(36,36,36)",
             "gridcolor": "white",
             "linecolor": "white",
             "minorgridcolor": "white",
             "startlinecolor": "rgb(36,36,36)"
            },
            "baxis": {
             "endlinecolor": "rgb(36,36,36)",
             "gridcolor": "white",
             "linecolor": "white",
             "minorgridcolor": "white",
             "startlinecolor": "rgb(36,36,36)"
            },
            "type": "carpet"
           }
          ],
          "choropleth": [
           {
            "colorbar": {
             "outlinewidth": 1,
             "tickcolor": "rgb(36,36,36)",
             "ticks": "outside"
            },
            "type": "choropleth"
           }
          ],
          "contour": [
           {
            "colorbar": {
             "outlinewidth": 1,
             "tickcolor": "rgb(36,36,36)",
             "ticks": "outside"
            },
            "colorscale": [
             [
              0,
              "#440154"
             ],
             [
              0.1111111111111111,
              "#482878"
             ],
             [
              0.2222222222222222,
              "#3e4989"
             ],
             [
              0.3333333333333333,
              "#31688e"
             ],
             [
              0.4444444444444444,
              "#26828e"
             ],
             [
              0.5555555555555556,
              "#1f9e89"
             ],
             [
              0.6666666666666666,
              "#35b779"
             ],
             [
              0.7777777777777778,
              "#6ece58"
             ],
             [
              0.8888888888888888,
              "#b5de2b"
             ],
             [
              1,
              "#fde725"
             ]
            ],
            "type": "contour"
           }
          ],
          "contourcarpet": [
           {
            "colorbar": {
             "outlinewidth": 1,
             "tickcolor": "rgb(36,36,36)",
             "ticks": "outside"
            },
            "type": "contourcarpet"
           }
          ],
          "heatmap": [
           {
            "colorbar": {
             "outlinewidth": 1,
             "tickcolor": "rgb(36,36,36)",
             "ticks": "outside"
            },
            "colorscale": [
             [
              0,
              "#440154"
             ],
             [
              0.1111111111111111,
              "#482878"
             ],
             [
              0.2222222222222222,
              "#3e4989"
             ],
             [
              0.3333333333333333,
              "#31688e"
             ],
             [
              0.4444444444444444,
              "#26828e"
             ],
             [
              0.5555555555555556,
              "#1f9e89"
             ],
             [
              0.6666666666666666,
              "#35b779"
             ],
             [
              0.7777777777777778,
              "#6ece58"
             ],
             [
              0.8888888888888888,
              "#b5de2b"
             ],
             [
              1,
              "#fde725"
             ]
            ],
            "type": "heatmap"
           }
          ],
          "histogram": [
           {
            "marker": {
             "line": {
              "color": "white",
              "width": 0.6
             }
            },
            "type": "histogram"
           }
          ],
          "histogram2d": [
           {
            "colorbar": {
             "outlinewidth": 1,
             "tickcolor": "rgb(36,36,36)",
             "ticks": "outside"
            },
            "colorscale": [
             [
              0,
              "#440154"
             ],
             [
              0.1111111111111111,
              "#482878"
             ],
             [
              0.2222222222222222,
              "#3e4989"
             ],
             [
              0.3333333333333333,
              "#31688e"
             ],
             [
              0.4444444444444444,
              "#26828e"
             ],
             [
              0.5555555555555556,
              "#1f9e89"
             ],
             [
              0.6666666666666666,
              "#35b779"
             ],
             [
              0.7777777777777778,
              "#6ece58"
             ],
             [
              0.8888888888888888,
              "#b5de2b"
             ],
             [
              1,
              "#fde725"
             ]
            ],
            "type": "histogram2d"
           }
          ],
          "histogram2dcontour": [
           {
            "colorbar": {
             "outlinewidth": 1,
             "tickcolor": "rgb(36,36,36)",
             "ticks": "outside"
            },
            "colorscale": [
             [
              0,
              "#440154"
             ],
             [
              0.1111111111111111,
              "#482878"
             ],
             [
              0.2222222222222222,
              "#3e4989"
             ],
             [
              0.3333333333333333,
              "#31688e"
             ],
             [
              0.4444444444444444,
              "#26828e"
             ],
             [
              0.5555555555555556,
              "#1f9e89"
             ],
             [
              0.6666666666666666,
              "#35b779"
             ],
             [
              0.7777777777777778,
              "#6ece58"
             ],
             [
              0.8888888888888888,
              "#b5de2b"
             ],
             [
              1,
              "#fde725"
             ]
            ],
            "type": "histogram2dcontour"
           }
          ],
          "mesh3d": [
           {
            "colorbar": {
             "outlinewidth": 1,
             "tickcolor": "rgb(36,36,36)",
             "ticks": "outside"
            },
            "type": "mesh3d"
           }
          ],
          "parcoords": [
           {
            "line": {
             "colorbar": {
              "outlinewidth": 1,
              "tickcolor": "rgb(36,36,36)",
              "ticks": "outside"
             }
            },
            "type": "parcoords"
           }
          ],
          "pie": [
           {
            "automargin": true,
            "type": "pie"
           }
          ],
          "scatter": [
           {
            "fillpattern": {
             "fillmode": "overlay",
             "size": 10,
             "solidity": 0.2
            },
            "type": "scatter"
           }
          ],
          "scatter3d": [
           {
            "line": {
             "colorbar": {
              "outlinewidth": 1,
              "tickcolor": "rgb(36,36,36)",
              "ticks": "outside"
             }
            },
            "marker": {
             "colorbar": {
              "outlinewidth": 1,
              "tickcolor": "rgb(36,36,36)",
              "ticks": "outside"
             }
            },
            "type": "scatter3d"
           }
          ],
          "scattercarpet": [
           {
            "marker": {
             "colorbar": {
              "outlinewidth": 1,
              "tickcolor": "rgb(36,36,36)",
              "ticks": "outside"
             }
            },
            "type": "scattercarpet"
           }
          ],
          "scattergeo": [
           {
            "marker": {
             "colorbar": {
              "outlinewidth": 1,
              "tickcolor": "rgb(36,36,36)",
              "ticks": "outside"
             }
            },
            "type": "scattergeo"
           }
          ],
          "scattergl": [
           {
            "marker": {
             "colorbar": {
              "outlinewidth": 1,
              "tickcolor": "rgb(36,36,36)",
              "ticks": "outside"
             }
            },
            "type": "scattergl"
           }
          ],
          "scattermap": [
           {
            "marker": {
             "colorbar": {
              "outlinewidth": 1,
              "tickcolor": "rgb(36,36,36)",
              "ticks": "outside"
             }
            },
            "type": "scattermap"
           }
          ],
          "scattermapbox": [
           {
            "marker": {
             "colorbar": {
              "outlinewidth": 1,
              "tickcolor": "rgb(36,36,36)",
              "ticks": "outside"
             }
            },
            "type": "scattermapbox"
           }
          ],
          "scatterpolar": [
           {
            "marker": {
             "colorbar": {
              "outlinewidth": 1,
              "tickcolor": "rgb(36,36,36)",
              "ticks": "outside"
             }
            },
            "type": "scatterpolar"
           }
          ],
          "scatterpolargl": [
           {
            "marker": {
             "colorbar": {
              "outlinewidth": 1,
              "tickcolor": "rgb(36,36,36)",
              "ticks": "outside"
             }
            },
            "type": "scatterpolargl"
           }
          ],
          "scatterternary": [
           {
            "marker": {
             "colorbar": {
              "outlinewidth": 1,
              "tickcolor": "rgb(36,36,36)",
              "ticks": "outside"
             }
            },
            "type": "scatterternary"
           }
          ],
          "surface": [
           {
            "colorbar": {
             "outlinewidth": 1,
             "tickcolor": "rgb(36,36,36)",
             "ticks": "outside"
            },
            "colorscale": [
             [
              0,
              "#440154"
             ],
             [
              0.1111111111111111,
              "#482878"
             ],
             [
              0.2222222222222222,
              "#3e4989"
             ],
             [
              0.3333333333333333,
              "#31688e"
             ],
             [
              0.4444444444444444,
              "#26828e"
             ],
             [
              0.5555555555555556,
              "#1f9e89"
             ],
             [
              0.6666666666666666,
              "#35b779"
             ],
             [
              0.7777777777777778,
              "#6ece58"
             ],
             [
              0.8888888888888888,
              "#b5de2b"
             ],
             [
              1,
              "#fde725"
             ]
            ],
            "type": "surface"
           }
          ],
          "table": [
           {
            "cells": {
             "fill": {
              "color": "rgb(237,237,237)"
             },
             "line": {
              "color": "white"
             }
            },
            "header": {
             "fill": {
              "color": "rgb(217,217,217)"
             },
             "line": {
              "color": "white"
             }
            },
            "type": "table"
           }
          ]
         },
         "layout": {
          "annotationdefaults": {
           "arrowhead": 0,
           "arrowwidth": 1
          },
          "autotypenumbers": "strict",
          "coloraxis": {
           "colorbar": {
            "outlinewidth": 1,
            "tickcolor": "rgb(36,36,36)",
            "ticks": "outside"
           }
          },
          "colorscale": {
           "diverging": [
            [
             0,
             "rgb(103,0,31)"
            ],
            [
             0.1,
             "rgb(178,24,43)"
            ],
            [
             0.2,
             "rgb(214,96,77)"
            ],
            [
             0.3,
             "rgb(244,165,130)"
            ],
            [
             0.4,
             "rgb(253,219,199)"
            ],
            [
             0.5,
             "rgb(247,247,247)"
            ],
            [
             0.6,
             "rgb(209,229,240)"
            ],
            [
             0.7,
             "rgb(146,197,222)"
            ],
            [
             0.8,
             "rgb(67,147,195)"
            ],
            [
             0.9,
             "rgb(33,102,172)"
            ],
            [
             1,
             "rgb(5,48,97)"
            ]
           ],
           "sequential": [
            [
             0,
             "#440154"
            ],
            [
             0.1111111111111111,
             "#482878"
            ],
            [
             0.2222222222222222,
             "#3e4989"
            ],
            [
             0.3333333333333333,
             "#31688e"
            ],
            [
             0.4444444444444444,
             "#26828e"
            ],
            [
             0.5555555555555556,
             "#1f9e89"
            ],
            [
             0.6666666666666666,
             "#35b779"
            ],
            [
             0.7777777777777778,
             "#6ece58"
            ],
            [
             0.8888888888888888,
             "#b5de2b"
            ],
            [
             1,
             "#fde725"
            ]
           ],
           "sequentialminus": [
            [
             0,
             "#440154"
            ],
            [
             0.1111111111111111,
             "#482878"
            ],
            [
             0.2222222222222222,
             "#3e4989"
            ],
            [
             0.3333333333333333,
             "#31688e"
            ],
            [
             0.4444444444444444,
             "#26828e"
            ],
            [
             0.5555555555555556,
             "#1f9e89"
            ],
            [
             0.6666666666666666,
             "#35b779"
            ],
            [
             0.7777777777777778,
             "#6ece58"
            ],
            [
             0.8888888888888888,
             "#b5de2b"
            ],
            [
             1,
             "#fde725"
            ]
           ]
          },
          "colorway": [
           "#1F77B4",
           "#FF7F0E",
           "#2CA02C",
           "#D62728",
           "#9467BD",
           "#8C564B",
           "#E377C2",
           "#7F7F7F",
           "#BCBD22",
           "#17BECF"
          ],
          "font": {
           "color": "rgb(36,36,36)"
          },
          "geo": {
           "bgcolor": "white",
           "lakecolor": "white",
           "landcolor": "white",
           "showlakes": true,
           "showland": true,
           "subunitcolor": "white"
          },
          "hoverlabel": {
           "align": "left"
          },
          "hovermode": "closest",
          "mapbox": {
           "style": "light"
          },
          "paper_bgcolor": "white",
          "plot_bgcolor": "white",
          "polar": {
           "angularaxis": {
            "gridcolor": "rgb(232,232,232)",
            "linecolor": "rgb(36,36,36)",
            "showgrid": false,
            "showline": true,
            "ticks": "outside"
           },
           "bgcolor": "white",
           "radialaxis": {
            "gridcolor": "rgb(232,232,232)",
            "linecolor": "rgb(36,36,36)",
            "showgrid": false,
            "showline": true,
            "ticks": "outside"
           }
          },
          "scene": {
           "xaxis": {
            "backgroundcolor": "white",
            "gridcolor": "rgb(232,232,232)",
            "gridwidth": 2,
            "linecolor": "rgb(36,36,36)",
            "showbackground": true,
            "showgrid": false,
            "showline": true,
            "ticks": "outside",
            "zeroline": false,
            "zerolinecolor": "rgb(36,36,36)"
           },
           "yaxis": {
            "backgroundcolor": "white",
            "gridcolor": "rgb(232,232,232)",
            "gridwidth": 2,
            "linecolor": "rgb(36,36,36)",
            "showbackground": true,
            "showgrid": false,
            "showline": true,
            "ticks": "outside",
            "zeroline": false,
            "zerolinecolor": "rgb(36,36,36)"
           },
           "zaxis": {
            "backgroundcolor": "white",
            "gridcolor": "rgb(232,232,232)",
            "gridwidth": 2,
            "linecolor": "rgb(36,36,36)",
            "showbackground": true,
            "showgrid": false,
            "showline": true,
            "ticks": "outside",
            "zeroline": false,
            "zerolinecolor": "rgb(36,36,36)"
           }
          },
          "shapedefaults": {
           "fillcolor": "black",
           "line": {
            "width": 0
           },
           "opacity": 0.3
          },
          "ternary": {
           "aaxis": {
            "gridcolor": "rgb(232,232,232)",
            "linecolor": "rgb(36,36,36)",
            "showgrid": false,
            "showline": true,
            "ticks": "outside"
           },
           "baxis": {
            "gridcolor": "rgb(232,232,232)",
            "linecolor": "rgb(36,36,36)",
            "showgrid": false,
            "showline": true,
            "ticks": "outside"
           },
           "bgcolor": "white",
           "caxis": {
            "gridcolor": "rgb(232,232,232)",
            "linecolor": "rgb(36,36,36)",
            "showgrid": false,
            "showline": true,
            "ticks": "outside"
           }
          },
          "title": {
           "x": 0.05
          },
          "xaxis": {
           "automargin": true,
           "gridcolor": "rgb(232,232,232)",
           "linecolor": "rgb(36,36,36)",
           "showgrid": false,
           "showline": true,
           "ticks": "outside",
           "title": {
            "standoff": 15
           },
           "zeroline": false,
           "zerolinecolor": "rgb(36,36,36)"
          },
          "yaxis": {
           "automargin": true,
           "gridcolor": "rgb(232,232,232)",
           "linecolor": "rgb(36,36,36)",
           "showgrid": false,
           "showline": true,
           "ticks": "outside",
           "title": {
            "standoff": 15
           },
           "zeroline": false,
           "zerolinecolor": "rgb(36,36,36)"
          }
         }
        },
        "title": {
         "text": "KDE Plot: Actual vs Predicted Values"
        },
        "width": 1000,
        "xaxis": {
         "title": {
          "text": "label_encoded"
         }
        },
        "yaxis": {
         "title": {
          "text": "Density"
         }
        }
       }
      }
     },
     "metadata": {},
     "output_type": "display_data"
    }
   ],
   "source": [
    "# Calculate KDEs for actual and predicted\n",
    "kde_actual = gaussian_kde(y_test_p2)\n",
    "kde_pred = gaussian_kde(y_pred_p2)\n",
    "\n",
    "# Define x-axis range covering both datasets\n",
    "x_range = np.linspace(min(min(y_test_p2), min(y_pred_p2)), max(max(y_test_p2), max(y_pred_p2)), 1000)\n",
    "\n",
    "# Evaluate KDE values\n",
    "y_actual_kde = kde_actual(x_range)\n",
    "y_pred_kde = kde_pred(x_range)\n",
    "\n",
    "# Create Plotly figure\n",
    "fig = go.Figure()\n",
    "\n",
    "fig.add_trace(go.Scatter(\n",
    "    x=x_range,\n",
    "    y=y_actual_kde,\n",
    "    mode='lines',\n",
    "    name='Actual',\n",
    "    fill='tozeroy',\n",
    "    line=dict(color='blue')\n",
    "))\n",
    "\n",
    "fig.add_trace(go.Scatter(\n",
    "    x=x_range,\n",
    "    y=y_pred_kde,\n",
    "    mode='lines',\n",
    "    name='Predicted',\n",
    "    fill='tozeroy',\n",
    "    line=dict(color='red')\n",
    "))\n",
    "\n",
    "fig.update_layout(\n",
    "    title='KDE Plot: Actual vs Predicted Values',\n",
    "    xaxis_title='label_encoded',\n",
    "    yaxis_title='Density',\n",
    "    legend=dict(x=0.8, y=0.95),\n",
    "    template='simple_white',\n",
    "    width=1000,\n",
    "    height=600,\n",
    "    showlegend=True\n",
    ")\n",
    "\n",
    "fig.show()"
   ]
  },
  {
   "cell_type": "markdown",
   "metadata": {},
   "source": [
    "This plot shows a big problem with the predictions. The blue line (actual values) is sharp and high, while the red line (predicted values) is almost flat and very low. This means the model did not learn the actual pattern well. The predicted values are far off and don’t follow the actual data.The plot is underfitting."
   ]
  },
  {
   "cell_type": "markdown",
   "metadata": {},
   "source": [
    "## KDE for Degree 3 Polynomial Regression"
   ]
  },
  {
   "cell_type": "code",
   "execution_count": 28,
   "metadata": {},
   "outputs": [
    {
     "data": {
      "application/vnd.plotly.v1+json": {
       "config": {
        "plotlyServerURL": "https://plot.ly"
       },
       "data": [
        {
         "fill": "tozeroy",
         "line": {
          "color": "blue"
         },
         "mode": "lines",
         "name": "Actual",
         "type": "scatter",
         "x": {
          "bdata": "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",
          "dtype": "f8"
         },
         "y": {
          "bdata": "l7rYTirc2z+n3d0XqtvbP/urJtMI2ts//hMbwEbX2z9utuZBZNPbPzFOa99hzts/1BIsQ0DI2z9aHTI7AMHbP3Dd6biiuNs/f6P50Civ2z8DVxG7k6TbPx1fs9HkmNs/+9b2kR2M2z+MHkObP37bP/ndBK9Mb9s/eJBcsEZf2z+TtsajL07bP4rDva4JPNs/c+dVF9co2z+E1NJDmhTbP/mbN7pV/9o/fMrQHwzp2j+v4bg4wNHaP3NXV+d0udo/M0LaKy2g2j+51aoj7IXaP/be3Ai1ato/rWSZMYtO2j+enYQPcjHaP3RkHy9tE9o/9VokN4D02T/y6uDnrtTZP6VSihr9s9k/JPOOwG6S2T+2CeTiB3DZP/wSUKHMTNk/4f+xMcEo2T8CdkXf6QPZP5ZQ5AlL3tg/15RFJem32D/EDzq4yJDYP3vT5lvuaNg/S839ul5A2D9novSQHhfYPz0UOqky7dc/qBtq3p/C1z+B8oAZa5fXP1NFDVGZa9c/oMFhiC8/1z+mMsbOMhLXP4NoqD6o5NY/GR7N/JS21j8VC4E3/ofWP0JjyiXpWNY/lOiaBlsp1j9r0AIgWfnVP8+iZL7oyNU/VE6qMw+Y1T8Zm3vW0WbVP0cvdgE2NdU/3VRnEkED1T/Dq4dp+NDUP5/4uGhhntQ/FTbGcoFr1D/TG6bqXTjUPwQ7wDL8BNQ/k900rGHR0z9R0Ce2k53TP1Y2Dq2XadM/EpH/6XI10z+FGgrCKgHTPzyVioXEzNI/Vq2Hf0WY0j+VDxH1smPSPzdKoiQSL9I/nJmJRWj60T+otFKHusXRP4yyNREOkdE/CCCKAWhc0T91VT5tzSfRP8AkU19D89A/welb2M6+0D/jEQPOdIrQPzcjkyo6VtA/sVKEzCMi0D87XR0MbdzPP7HWgTnudM8/FKQ3ktQNzz+NtGRsKafOPybhnAL2QM4/MtM0c0PbzT/wRp6/GnbNP8+hzcuEEc0/xNeoXYqtzD+dlH8cNErMPy+ZjJCK58s/rzyAIpaFyz/i/BMbXyTLPyAFp6Ltw8o/PpbjwElkyj9TKG1cewXKP50ylzqKp8k/4Gsk/31KyT+JYQ4sXu7IP8o+VSEyk8g/fpjXHAE5yD+TCzI60t/HPzyEpnKsh8c/wfoKnZYwxz8Ubr9tl9rGPwvpqna1hcY/Pls/J/cxxj/NB4TMYt/FP8xOJpH+jcU/YZeQfdA9xT/ZFwd43u7EP0k6ykQuocQ/ZWA+hsVUxD9nvRi9qQnEP7MHkUjgv8M/17aXZm53wz/3ixA0WTDDP9McEa2l6sI/LRkjrVimwj/r/YnvdmPCP1D4iw8FIsI/t6O9iAfiwT9KYFC3gqPBP9b2Yth6ZsE/1kBUCvQqwT/MihdN8vDAP5xoioJ5uMA/ULPLbo2BwD+vZpO4MUzAP6MZi+lpGMA/lpBN3XLMvz/TUfswR2u/P4+WRTdXDb8/Q276Iamyvj9GmD7sQlu+Pxw+OlsqB74/kCnD/mS2vT+r8gMy+Gi9P06xHxzpHr0/XLXRsDzYvD9b0Qix95S8P/PFfaseVbw/dmNE/bUYvD8H8VbSwd+7P316GyZGqrs/2qDiw0Z4uz+Mil9Hx0m7PxClGB3LHrs/ednQglX3uj986OiHadO6P+GluA0Ks7o/8sTfxzmWuj/d/408+3y6Pz1TwsRQZ7o/eSCBjDxVuj/i/gCTwEa6P+cTzqreO7o/esnjeZg0uj92wrx57zC6P9byWPfkMLo/SsM5E3o0uj/0MlTBrzu6Pz7q+MiGRro/jzyyxP9Uuj/MGBgiG2e6P4/umSHZfLo/iZU+1jmWuj9XSVolPbO6P5/SOsbi07o/SPjJQSr4uj/eXybyEiC7P4oBMwKcS7s/WWUdbcR6uz+k0tr9iq27Pz+5nE7u47s//YU8yOwdvD+EL5+hhFu8P+bBEN+znLw/cDeYUXjhvD8m8UOWzym9P0EtbxW3db0/680AAizFvT+Z4aNYKxi+P39D+t6xbr4/u8vJIrzIvj/zeCR5Ria/P5cFjP1Mh78/rWURkcvrvz9PUbjs3inAPxDMFKCPX8A/1AjLePWWwD9i6f7tDdDAP9OFVFfWCsE/wOd47EtHwT83iKrEa4XBP7/dQdYyxcE/BEI69p0Gwj+XeLvXqUnCPwImpAtTjsI/iH8VAJbUwj+UhAAAbxzDPwwOtTLaZcM/ywBzm9Owwz8y9f0YV/3DP2afM2VgS8Q/+UmlFOuaxD+nsTSW8uvEPxKPtDJyPsU/IiONDGWSxT+YDGUfxufFPz+9zj+QPsY/2NT6Gr6Wxj/Ktm82SvDGP7edxu8uS8c/eX5ufGanxz+hA3Xp6gTIPzfpVRu2Y8g/PP3QzcHDyD9qFMeTByXJP8wsHteAh8k/QQet2CbryT9eey6w8k/KP+u7PEzdtco/vNNUct8cyz/yj+K+8YTLP9UOVaUM7ss/iDI8cChYzD+JIW9BPcPMP8UMPBJDL80/x2ihszGczT9AxpDOAArOP+dyO+SneM4/AwlpTh7ozj8vEtg/W1jPP5XcqMRVyc8/NFFpYYId0D8wjFF9r1bQP5k/pIMtkNA/siOzr/fJ0D8hL9oqCQTRP2eS1AxdPtE/WBIXXO540T8MwC8OuLPRP4QSKwi17tE/Jl/+HuAp0j9ArPcXNGXSPxPeMqmroNI/hTIUekHc0j95BMgj8BfTP8nOxzGyU9M/El9kIoKP0z+jK1VnWsvTP0m9TGY1B9Q/xBeSeQ1D1D/XEp/w3H7UP8GFwxCeutQ/UTXNFUv21D++Z7Qy3jHVP4f/TJJRbdU/Pgj8V5+o1T8DjXGgwePVP6+fZoKyHtY/O2pfD2xZ1j+wJHFU6JPWPwTPC1shztY/AITHKREI1z8SOTXFsUHXP3fJsjD9etc/ERZCb+2z1z+vFGOEfOzXP5yb8HSkJNg/9bn/R19c2D81asEHp5PYP7xwZsJ1ytg/QiwFi8UA2T+pJIF6kDbZP88odLDQa9k/ZbcYVICg2T9ViTWVmdTZP9r2Ca0WCNo/Bws73/E62j8vAMF6JW3aP6Pw1Nqrnto/O3/eZ3/P2j9QO2GYmv/aP0WA6fH3Lts/tp34CZJd2z8X/++GY4vbP9Id+yBnuNs/8AD4opfk2z+IB17r7w/cP7jFIu1qOtw/oLecsANk3D+BiGNUtYzcP4e6LQ57tNw/SWqrK1Db3D+Y910TMAHdP2FabEUWJt0/t+VzXP5J3T8vQlUO5GzdP4Vj/SzDjt0/zkwqp5ev3T9CWSuJXc/dPzfqnP0Q7t0/+zYfTq4L3j89DQjkMSjeP1paD0mYQ94/yDz2J95d3j99fihNAHfeP2lBWKf7jt4/27ITSM2l3j9Hn1RkcrveP6K5CVXoz94/nHSZlyzj3j/mQF7OPPXeP6MUHMEWBt8/ZhhvXbgV3z9oVTO3HyTfP8ZR5QhLMd8/cXb7szg93z/6JjhB50ffP4959GBVUd8/enNj64FZ3z95vc3ga2DfP623xWkSZt8/XOhT13Rq3z96rxujkm3fP6k/eG9rb98/5MqRB/9v3z8B5GpfTW/fP84R5pNWbd8/SpHD6hpq3z89R5fSmmXfPwjstuLWX98/p24g289Y3z8DoFikhlDfP+gsQk/8Rt8/qvHsFDI83z/iwF1WKTDfPxyiTpzjIt8/yKTnlmIU3z+IXXAdqATfP+oe+i22894/fRED7Y7h3j8LQhKlNM7eP3/BTMapud4/xQEE5vCj3j+BhD2+DI3ePzMKNC0Add4/EGPSNM5b3j+yCSj6eUHeP+Wy18QGJt4/Bv5//ncJ3j+jax4y0evdP2DZbAsWzd0/Hpw5Vkqt3T/uf7r9cYzdPz/P2guRat0/66CEqKtH3T/HmOUYxiPdPwlZr77k/tw/DdVTFwzZ3D+NxD27QLLcP5RkBV2Hitw/zM+hyORh3D+3GZfiXTjcP39xIaf3Ddw/vIJdKbfi2z9NVW6SobbbP0bgoCC8ids/t5eNJgxc2z9fJzgKly3bPy2gLURi/to/VE+hXnPO2j+0foj0z53aP8ZbtbB9bNo/BUHxTII62j+snBaR4wfaP+O0KlKn1Nk/NX93cdOg2T/pzKXbbWzZPzL+14d8N9k/V3/FdgUC2T/UQtexDszYP2puRUqeldg/Bno2WLpe2D928N/5aCfYP2QHqVKw79c/zkZPipa31z9Law3MIX/XP1m/xEVYRtc/YQ8pJ0AN1z9Lce+g39PWP9MJAOQ8mtY/o/aqIF5g1j8ZkuCFSSbWP0AubUAF7NU/aHU4epex1T9yk4hZBnfVPyJMSQBYPNU/WB9Xi5IB1T9nnM4RvMbUP3wCYKTai9Q/v0ynTPRQ1D8Gv4gMDxbUP6ATkt0w29M/wVpgsF+g0z9lowpsoWXTPzaAke37KtM/NnlTB3Xw0j8JeIaAErbSP589thTae9I/u+tHc9FB0j8FqgI//gfSP6xunQ1mztE/4+9RZw6V0T9kwHTG/FvRP6+YEpc2I9E/5sqSNsHq0D+h317zobLQPzVXjwzeetA/FYadsXpD0D+miBoCfQzQP6N61hrUq88/yX0SpY0/zz/Mm5F/MNTOP/cyR2XGac4/Pa0Q71gAzj8pJF6T8ZfNP0hT5KWZMM0/Z6dXV1rKzD/iPTC1PGXMP/ahdqlJAcw/+A2Z+omeyz/9+0hLBj3LPxzIYBrH3Mo/ASbRwtR9yj+QK5Z7NyDKPxGqs1f3w8k/HZQ4RhxpyT9dKEkSrg/JP6GUL2O0t8g/A8tyvDZhyD9ZN/N9PAzIP0wKDeTMuMc/3ce/B+9mxz94x9reqRbHP4xULjwEyMY/JhvBzwR7xj8tiwknsi/GP5XdKq0S5sU/imQ1qyyexT8e0WlIBljFP3cVf4qlE8U/iozqVRDRxD+oESpuTJDEPwWuD3ZfUcQ/8YQO8E4UxD8Tqog+INnDP4qHHaTYn8M/qYD4Q31owz9ReR8iEzPDP6TxwCOf/8I/v1qBDybOwj+SXceNrJ7CPxm0Bik3ccI/S1MJTspFwj9SjDZMahzCP37f11Ub9cE/CjFbgOHPwT+SGZLEwKzBP9gJ7v68i8E/yfq479lswT/Ua0o7G1DBP35oOGqENcE/lVyE6RgdwT+ddcMK3AbBP/JeQgTR8sA/GBwk8frgwD9P0HvRXNHAP4dDYYr5w8A/fvP/5dO4wD/FiqCT7q/AP4aRrCdMqcA/qzasG++kwD9fDz7O2aLAP9+sCIMOo8A/7vKlYo+lwD+SEYh6XqrAP7QU2Lx9scA/aPNNAO+6wD/8GAIAtMbAP59YOFvO1MA/l0oklT/lwD9CEKcUCfjAP4l+BiQsDcE/sLmd8KkkwT8iR4eKgz7BPyOkQOS5WsE/TnRH0k15wT9OWLAKQJrBP8OItySRvcE/slFLmEHjwT9IiJC9UQvCPwAoYczBNcI/gTTF25Fiwj+rEGbhwZHCP6V4/LBRw8I/Yky5+0D3wj8dZKlPjy3DP7ykFBc8ZsM/KJLYl0ahwz9Amr7yrd7DPzRfziJxHsQ/I0ac/I5gxD9VjZQtBqXEP1E8QzvV68Q/LjiZgvo0xT80yy43dIDFPxr5g2JAzsU/2vE+41wexj9c+mhsx3DGP2gsqoR9xcY/5WKEhXwcxz/kuY2awXXHPx37qsBJ0cc/RGVKxREvyD86I59FFo/IP9/s3a1T8cg/cCh7OMZVyT+cAGvtabzJP1TTY6E6Jco/yGoj9TOQyj8sZbdUUf3KP/FAyfaNbMs/CXPu2+Tdyz+9/PzNUFHMP9DnZF/Mxsw/whyP6lE+zT+uAUKR27fNP0lHDDxjM84/f2C2meKwzj/4AbseUzDPP6kgxwSusc8/UOsgJXYa0D/GS+5YA13QPzEPFuF6oNA/D0Cl4tjk0D/KYEFkGSrRPyksA044cNE/VYBWaTG30T/0mt9gAP/RPxrgZcCgR9I/21HE9A2R0j+a6d9LQ9vSP1/7o/Q7JtM/qs0E//Jx0z86jwhcY77TP+3O1t2HC9Q/JpzON1tZ1D/ucqP+16fUPwUSgaj49tQ/5l42jbdG1T+Wc2fmDpfVP0vsxs/459U/+ZdWR2851j9Fmq8tbIvWP/cXUkbp3dY/j4D8N+Aw1z+JgQqNSoTXP3W527Mh2Nc/citC/14s2D8zhfim+4DYP3c6IMjw1dg//HvHZTcr2T9xBHdpyIDZP/LFx6Oc1tk/T20Azaws2j+OsbqF8YLaP6VvkFdj2do/s4DQtfov2z8SOjv+r4bbP3OQxnl73ds/U75pXVU03D82XPDKNYvcP2XX1NEU4tw/Uh0icOo43T+5bVyTro/dP4UicRlZ5t0/Klit0eE83j+4QLt9QJPeP7UHptJs6d4/dQ7keV4/3z8zWmcSDZXfP4wBtDFw6t8/jTF+sr8f4D/ZeSEZGUrgP060wAxAdOA/noPqSjCe4D/G7VeP5cfgP7lIh5Rb8eA/GF9ZFI4a4T+qorDIeEPhP2tREmwXbOE/x2RJumWU4T8tKgtxX7zhP8RcnVAA5OE/OJ19HEQL4j/RHQqcJjLiPy9eK5ujWOI/E8v+6rZ+4j+pHIJiXKTiPxpJP9+PyeI/Bdz4RU3u4j9jk1aDkBLjP8sLkoxVNuM/01UjYJhZ4z/pSW0GVXzjP6NraZKHnuM/wTJTIizA4z8Oi1LgPuHjP25iJQO8AeQ/FhTIzp8h5D9DiByV5kDkP0DZj7aMX+Q/I1S+oo595D+IphXZ6JrkP/EOdemXt+Q/TGTLdJjT5D/ByLIt5+7kP9/dCdmACeU/406KTmIj5T8hiVx5iDzlP/t1qFjwVOU/nBQjAJds5T8WwZiYeYPlP74PdGCVmeU/wghBrOeu5T8gqCznbcPlP+17gJMl1+U/aDgaSwzq5T9NJt+/H/zlPwZIK7xdDeY/ZhE8I8Qd5j8+mZbxUC3mPyAjaT0CPOY/7+bnNtZJ5j9w+KQoy1bmPzE243ffYuY/wyvkpBFu5j+cxTBLYHjmP+HM3CHKgeY/mg/F+02K5j9qI8jH6pHmP0mz+ZCfmOY/rEnQfmue5j/9hU3VTaPmP7uxIPVFp+Y/gKzDW1Oq5j8WJJKjdazmP4EQ24OsreY/EnDs0Pet5j9APBl8V63mP7iXuZPLq+Y/fDQlQ1Sp5j8R7qfS8aXmP+yhcKekoeY/wUJ6Q22c5j8LM29FTJbmPy/nhmhCj+Y/pN5dhFCH5j+k+seMd37mP3lAnZG4dOY/fBWBvhRq5j9oAaRajV7mP5IMgMgjUuY/kcePhdlE5j8iFAAqsDbmP7HDXGipJ+Y/MyE4DccX5j/Zfc3+CgfmP2/gnjx39eU/o+gN3w3j5T96CvAW0c/lP7A9Hi3Du+U/KjsAguam5T9KcRONPZHlP3TFbdzKeuU//U08FJFj5T9qJD7ukkvlPxdyOznTMuU/Sd542FQZ5T/8hSfDGv/kP1Of0QMo5OQ/VvPDt3/I5D8AWHQOJazkP4dN5Ugbj+Q/rO8GuWVx5D/fXxXBB1PkP1XW9NIENOQ/HoKLb2AU5D/8ZRkmHvTjP1dejpNB0+M/eXjeYc6x4z8GzFRHyI/jP/r/5AUzbeM/Pap7ahJK4z9js01MaibjP4fsJow+AuM/tAW4E5Pd4j/YDOTUa7jiP6enDcnMkuI/2Ctk8Lls4j8jyTBRN0biP/PtI/dIH+I/xw2j8vL34T8u+RZYOdDhP//vOj8gqOE/VZFswqt/4T/m2/z931bhP4Bfgg/BLeE/e8gsFVME4T8u7RktmtrgP8SDrHSasOA/aaLkB1iG4D8dMboA11vgP59veXYbMeA/Zq8hfSkG4D8R0YxJCrbfP46F5fFkX98/YXIfAGsI3z/O4Zl1JLHeP8bGGEeZWd4/JfGhW9EB3j9EUGCL1KndP7eDjZ6qUd0/lNxhTFv53D/9Cws67qDcP5WhqflqSNw/joZVCdnv2z+KoSnSP5fbPwG+VqemPts/SOQ9xRTm2j9hO5JQkY3aP4OSglUjNdo/urDqxtHc2T+Gfox9o4TZPzQgUTefLNk/9xeSlsvU2D/CeGohL33YP3k9EEHQJdg/QdE1QbXO1z8bynNP5HfXPwHmunpjIdc/dUXOsjjL1j/q7sXHaXXWPyiQmWn8H9Y/QICzJ/bK1T8r/4twXHbVP/eiTJE0ItU/5/F7tYPO1D83FrHmTnvUP+ygTwybKNQ/yExL62zW0z8xqPMlyYTTP42bxzu0M9M/n61QiTLj0j9S8AVISJPSPyl/No75Q9I/CW77Tkr10T+WEDFaPqfRP+J1d1zZWdE/bP053x4N0T/73b1IEsHQP9F+N9y2ddA/aH7muQ8r0D8nd3C+P8LPP/SF4U3UL88/P9yzkuKezj80J/G4bw/OP3kvj6iAgc0//2zxBRr1zD/3qnUyQGrMP4Z0C0334Ms/adPVMkNZyz9JIdd/J9PKP/d2po+nTso/yGcufsbLyT8OpXQoh0rJP/8qai3sysg/D5LD7vdMyD+lKtmRrNDHP6V6jgAMVsc/SMFA6hfdxj8gF7zE0WXGP2nSNs068MU/V8hSCVR8xT8sCSRIHgrFP9a6PCOamcQ/K629/8cqxD8xTmsPqL3DP8mYxlE6UsM/+qMplX7owj/vdud3dIDCP/nCbmkbGsI/1ylvq3K1wT+8uABTeVLBPxw/zUku8cA/PCg7T5CRwD/phpn5nTPAPzP8mW6rrr8//GP6n2v5vj8Y8ITLeEe+P6DgpuzOmL0/V4NkuGntvD/pVrKfREW8P6FLzNFaoLs/8ZGKPqf+uj89cLOYJGC6P7GaSVjNxLk/EpHWvJssuT/QfLDPiZe4P0ElO2aRBbg/934jJKx2tz/QZZV90+q2Pzkka7kAYrY/2lNW8yzctT+CwQEeUVm1P8bzKwVm2bQ/MgC6T2RctD9tWcKBROKzP4xJj/7+arM/MdOYCoz2sj/XrHXN44SyP6Uew1P+FbI/foEDkdOpsT8rK3NhW0CxP7GU04uN2bA/tIssw2F1sD+oRoOozxOwP5tsDpmdaa8/muVoYq2wrj8iTNeWvfytP23A/gi9Ta0/93Rtd5qjrD/PeIqPRP6rP1Hrb/CpXas/44SvLbnBqj+LbQHSYCqqP5hb3WGPl6k/qQH+XTMJqT9X0c5FO3+oP5YsxJmV+ac/OBOe3TB4pz9IdpWa+/qmP49MdGHkgaY/t5eYzNkMpj8XieKBypulP2P6jTSlLqU/u3b3pljFpD/oEU2s01+kPzBWKyoF/qM/9YkmGtyfoz+0pUCLR0WjP4lATKM27qI//tE8oJiaoj98mmTZXEqiP96VoMBy/aE/PNJy48mzoT+bjwvsUW2hP/uPQaL6KaE/p/x57LPpoD+fS4DQbaygPxOUTnQYcqA/ab3GHqQ6oD82+Vw4AQagP8D2Z5dAqJ8/DcNWDORJnz+zfMFwzvCePyN5R63hnJ4/UqK78v9Nnj/y3tu6CwSeP+9y8cjnvp0/UjtbKnd+nT9hvQI3nUKdP4rpvJE9C50/u4eXKDzYnD8uMBQ1famcP0y9UTzlfpw//B4lD1lYnD+pbSLKvTWcP8orl9X4Fpw//od25e/7mz8rjDj5iOSbP1sErVuq0Js/CgXDojrAmz8i1UWvILObPxgWkKxDqZs/PfE1EIuimz+5EKeZ3p6bP1otyVEmnps/c+WLikqgmz9tpHbeM6WbP+JAMTDLrJs//g0Iqvm2mz/YAmy9qMObPyyhbyLC0ps/7DZB1y/kmz++HaMf3PebP6KCYoSxDZw/uEzN0polnD92qCccgz+cPyi9IbVVW5w/DghONf54nD+b2Jh2aJicPw5YwZSAuZw/e5PU7DLcnD8n4qocbACdP5gPaAIZJp0/qaD+uyZNnT+XhramgnWdPwOPt14an50/utiXvtvJnT88i+7etPWdP50U6xWUIp4/dxzx9mdQnj+zXTlSH3+eP/eXdzSprp4/gbOF5vTenj9uQBTt8Q+fP2FkYAiQQZ8/I1DvM79znz/LSU+mb6afP5FV3tCR2Z8/YELLL4sGoD+E9G8cdyCgP3gTtD6FOqA/o9D/Q65UoD9tFr726m6gP0qdUD40iaA/8rAGH4OjoD/6mRa60L2gP8eYmU0W2KA/4GSKNE3yoD+iGcbmbgyhP0B/D/l0JqE/BJcUHVlAoT9KUXYhFVqhP7Ja0vGic6E/ldnOlvyMoT8xDCg2HKahP7+gvxL8vqE/KautjJbXoT+nGVMh5u+hP6GHbWvlB6I/bEgsI48foj/yjEYe3jaiP+x8ElDNTaI/1yCdyVdkoj9D98K5eHqiPzgQSW0rkKI/wIn2Tmuloj++Rq7nM7qiPyu6iN6AzqI/fp3t+E3ioj9fcq0al/WiP+CgGkZYCKM/xxAinI0aoz+XF2NcMyyjP22RRuVFPaM/GgIVtMFNoz9xmAtlo12jP0Dub7PnbKM/0F2ieYt7oz+bzi6xi4mjP4LR23LllqM/AOq39pWjoz/34iSUmq+jP+UQ4cHwuqM/CVsOFpbFoz8J9DZGiM+jP8+aTyfF2KM/dVC3rUrhoz8jXTTtFumjPy2Q7hgo8KM/zJ5mg3z2oz8liGqeEvyjP2DoBvvoAKQ/siR1Sf4EpD/sWwZZUQikP7QFCxjhCqQ/3TK3k6wMpD+SWgP4sg2kP3imiY/zDaQ/s69fw20NpD8=",
          "dtype": "f8"
         }
        },
        {
         "fill": "tozeroy",
         "line": {
          "color": "red"
         },
         "mode": "lines",
         "name": "Predicted",
         "type": "scatter",
         "x": {
          "bdata": "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",
          "dtype": "f8"
         },
         "y": {
          "bdata": "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",
          "dtype": "f8"
         }
        }
       ],
       "layout": {
        "height": 600,
        "legend": {
         "x": 0.8,
         "y": 0.95
        },
        "template": {
         "data": {
          "bar": [
           {
            "error_x": {
             "color": "rgb(36,36,36)"
            },
            "error_y": {
             "color": "rgb(36,36,36)"
            },
            "marker": {
             "line": {
              "color": "white",
              "width": 0.5
             },
             "pattern": {
              "fillmode": "overlay",
              "size": 10,
              "solidity": 0.2
             }
            },
            "type": "bar"
           }
          ],
          "barpolar": [
           {
            "marker": {
             "line": {
              "color": "white",
              "width": 0.5
             },
             "pattern": {
              "fillmode": "overlay",
              "size": 10,
              "solidity": 0.2
             }
            },
            "type": "barpolar"
           }
          ],
          "carpet": [
           {
            "aaxis": {
             "endlinecolor": "rgb(36,36,36)",
             "gridcolor": "white",
             "linecolor": "white",
             "minorgridcolor": "white",
             "startlinecolor": "rgb(36,36,36)"
            },
            "baxis": {
             "endlinecolor": "rgb(36,36,36)",
             "gridcolor": "white",
             "linecolor": "white",
             "minorgridcolor": "white",
             "startlinecolor": "rgb(36,36,36)"
            },
            "type": "carpet"
           }
          ],
          "choropleth": [
           {
            "colorbar": {
             "outlinewidth": 1,
             "tickcolor": "rgb(36,36,36)",
             "ticks": "outside"
            },
            "type": "choropleth"
           }
          ],
          "contour": [
           {
            "colorbar": {
             "outlinewidth": 1,
             "tickcolor": "rgb(36,36,36)",
             "ticks": "outside"
            },
            "colorscale": [
             [
              0,
              "#440154"
             ],
             [
              0.1111111111111111,
              "#482878"
             ],
             [
              0.2222222222222222,
              "#3e4989"
             ],
             [
              0.3333333333333333,
              "#31688e"
             ],
             [
              0.4444444444444444,
              "#26828e"
             ],
             [
              0.5555555555555556,
              "#1f9e89"
             ],
             [
              0.6666666666666666,
              "#35b779"
             ],
             [
              0.7777777777777778,
              "#6ece58"
             ],
             [
              0.8888888888888888,
              "#b5de2b"
             ],
             [
              1,
              "#fde725"
             ]
            ],
            "type": "contour"
           }
          ],
          "contourcarpet": [
           {
            "colorbar": {
             "outlinewidth": 1,
             "tickcolor": "rgb(36,36,36)",
             "ticks": "outside"
            },
            "type": "contourcarpet"
           }
          ],
          "heatmap": [
           {
            "colorbar": {
             "outlinewidth": 1,
             "tickcolor": "rgb(36,36,36)",
             "ticks": "outside"
            },
            "colorscale": [
             [
              0,
              "#440154"
             ],
             [
              0.1111111111111111,
              "#482878"
             ],
             [
              0.2222222222222222,
              "#3e4989"
             ],
             [
              0.3333333333333333,
              "#31688e"
             ],
             [
              0.4444444444444444,
              "#26828e"
             ],
             [
              0.5555555555555556,
              "#1f9e89"
             ],
             [
              0.6666666666666666,
              "#35b779"
             ],
             [
              0.7777777777777778,
              "#6ece58"
             ],
             [
              0.8888888888888888,
              "#b5de2b"
             ],
             [
              1,
              "#fde725"
             ]
            ],
            "type": "heatmap"
           }
          ],
          "histogram": [
           {
            "marker": {
             "line": {
              "color": "white",
              "width": 0.6
             }
            },
            "type": "histogram"
           }
          ],
          "histogram2d": [
           {
            "colorbar": {
             "outlinewidth": 1,
             "tickcolor": "rgb(36,36,36)",
             "ticks": "outside"
            },
            "colorscale": [
             [
              0,
              "#440154"
             ],
             [
              0.1111111111111111,
              "#482878"
             ],
             [
              0.2222222222222222,
              "#3e4989"
             ],
             [
              0.3333333333333333,
              "#31688e"
             ],
             [
              0.4444444444444444,
              "#26828e"
             ],
             [
              0.5555555555555556,
              "#1f9e89"
             ],
             [
              0.6666666666666666,
              "#35b779"
             ],
             [
              0.7777777777777778,
              "#6ece58"
             ],
             [
              0.8888888888888888,
              "#b5de2b"
             ],
             [
              1,
              "#fde725"
             ]
            ],
            "type": "histogram2d"
           }
          ],
          "histogram2dcontour": [
           {
            "colorbar": {
             "outlinewidth": 1,
             "tickcolor": "rgb(36,36,36)",
             "ticks": "outside"
            },
            "colorscale": [
             [
              0,
              "#440154"
             ],
             [
              0.1111111111111111,
              "#482878"
             ],
             [
              0.2222222222222222,
              "#3e4989"
             ],
             [
              0.3333333333333333,
              "#31688e"
             ],
             [
              0.4444444444444444,
              "#26828e"
             ],
             [
              0.5555555555555556,
              "#1f9e89"
             ],
             [
              0.6666666666666666,
              "#35b779"
             ],
             [
              0.7777777777777778,
              "#6ece58"
             ],
             [
              0.8888888888888888,
              "#b5de2b"
             ],
             [
              1,
              "#fde725"
             ]
            ],
            "type": "histogram2dcontour"
           }
          ],
          "mesh3d": [
           {
            "colorbar": {
             "outlinewidth": 1,
             "tickcolor": "rgb(36,36,36)",
             "ticks": "outside"
            },
            "type": "mesh3d"
           }
          ],
          "parcoords": [
           {
            "line": {
             "colorbar": {
              "outlinewidth": 1,
              "tickcolor": "rgb(36,36,36)",
              "ticks": "outside"
             }
            },
            "type": "parcoords"
           }
          ],
          "pie": [
           {
            "automargin": true,
            "type": "pie"
           }
          ],
          "scatter": [
           {
            "fillpattern": {
             "fillmode": "overlay",
             "size": 10,
             "solidity": 0.2
            },
            "type": "scatter"
           }
          ],
          "scatter3d": [
           {
            "line": {
             "colorbar": {
              "outlinewidth": 1,
              "tickcolor": "rgb(36,36,36)",
              "ticks": "outside"
             }
            },
            "marker": {
             "colorbar": {
              "outlinewidth": 1,
              "tickcolor": "rgb(36,36,36)",
              "ticks": "outside"
             }
            },
            "type": "scatter3d"
           }
          ],
          "scattercarpet": [
           {
            "marker": {
             "colorbar": {
              "outlinewidth": 1,
              "tickcolor": "rgb(36,36,36)",
              "ticks": "outside"
             }
            },
            "type": "scattercarpet"
           }
          ],
          "scattergeo": [
           {
            "marker": {
             "colorbar": {
              "outlinewidth": 1,
              "tickcolor": "rgb(36,36,36)",
              "ticks": "outside"
             }
            },
            "type": "scattergeo"
           }
          ],
          "scattergl": [
           {
            "marker": {
             "colorbar": {
              "outlinewidth": 1,
              "tickcolor": "rgb(36,36,36)",
              "ticks": "outside"
             }
            },
            "type": "scattergl"
           }
          ],
          "scattermap": [
           {
            "marker": {
             "colorbar": {
              "outlinewidth": 1,
              "tickcolor": "rgb(36,36,36)",
              "ticks": "outside"
             }
            },
            "type": "scattermap"
           }
          ],
          "scattermapbox": [
           {
            "marker": {
             "colorbar": {
              "outlinewidth": 1,
              "tickcolor": "rgb(36,36,36)",
              "ticks": "outside"
             }
            },
            "type": "scattermapbox"
           }
          ],
          "scatterpolar": [
           {
            "marker": {
             "colorbar": {
              "outlinewidth": 1,
              "tickcolor": "rgb(36,36,36)",
              "ticks": "outside"
             }
            },
            "type": "scatterpolar"
           }
          ],
          "scatterpolargl": [
           {
            "marker": {
             "colorbar": {
              "outlinewidth": 1,
              "tickcolor": "rgb(36,36,36)",
              "ticks": "outside"
             }
            },
            "type": "scatterpolargl"
           }
          ],
          "scatterternary": [
           {
            "marker": {
             "colorbar": {
              "outlinewidth": 1,
              "tickcolor": "rgb(36,36,36)",
              "ticks": "outside"
             }
            },
            "type": "scatterternary"
           }
          ],
          "surface": [
           {
            "colorbar": {
             "outlinewidth": 1,
             "tickcolor": "rgb(36,36,36)",
             "ticks": "outside"
            },
            "colorscale": [
             [
              0,
              "#440154"
             ],
             [
              0.1111111111111111,
              "#482878"
             ],
             [
              0.2222222222222222,
              "#3e4989"
             ],
             [
              0.3333333333333333,
              "#31688e"
             ],
             [
              0.4444444444444444,
              "#26828e"
             ],
             [
              0.5555555555555556,
              "#1f9e89"
             ],
             [
              0.6666666666666666,
              "#35b779"
             ],
             [
              0.7777777777777778,
              "#6ece58"
             ],
             [
              0.8888888888888888,
              "#b5de2b"
             ],
             [
              1,
              "#fde725"
             ]
            ],
            "type": "surface"
           }
          ],
          "table": [
           {
            "cells": {
             "fill": {
              "color": "rgb(237,237,237)"
             },
             "line": {
              "color": "white"
             }
            },
            "header": {
             "fill": {
              "color": "rgb(217,217,217)"
             },
             "line": {
              "color": "white"
             }
            },
            "type": "table"
           }
          ]
         },
         "layout": {
          "annotationdefaults": {
           "arrowhead": 0,
           "arrowwidth": 1
          },
          "autotypenumbers": "strict",
          "coloraxis": {
           "colorbar": {
            "outlinewidth": 1,
            "tickcolor": "rgb(36,36,36)",
            "ticks": "outside"
           }
          },
          "colorscale": {
           "diverging": [
            [
             0,
             "rgb(103,0,31)"
            ],
            [
             0.1,
             "rgb(178,24,43)"
            ],
            [
             0.2,
             "rgb(214,96,77)"
            ],
            [
             0.3,
             "rgb(244,165,130)"
            ],
            [
             0.4,
             "rgb(253,219,199)"
            ],
            [
             0.5,
             "rgb(247,247,247)"
            ],
            [
             0.6,
             "rgb(209,229,240)"
            ],
            [
             0.7,
             "rgb(146,197,222)"
            ],
            [
             0.8,
             "rgb(67,147,195)"
            ],
            [
             0.9,
             "rgb(33,102,172)"
            ],
            [
             1,
             "rgb(5,48,97)"
            ]
           ],
           "sequential": [
            [
             0,
             "#440154"
            ],
            [
             0.1111111111111111,
             "#482878"
            ],
            [
             0.2222222222222222,
             "#3e4989"
            ],
            [
             0.3333333333333333,
             "#31688e"
            ],
            [
             0.4444444444444444,
             "#26828e"
            ],
            [
             0.5555555555555556,
             "#1f9e89"
            ],
            [
             0.6666666666666666,
             "#35b779"
            ],
            [
             0.7777777777777778,
             "#6ece58"
            ],
            [
             0.8888888888888888,
             "#b5de2b"
            ],
            [
             1,
             "#fde725"
            ]
           ],
           "sequentialminus": [
            [
             0,
             "#440154"
            ],
            [
             0.1111111111111111,
             "#482878"
            ],
            [
             0.2222222222222222,
             "#3e4989"
            ],
            [
             0.3333333333333333,
             "#31688e"
            ],
            [
             0.4444444444444444,
             "#26828e"
            ],
            [
             0.5555555555555556,
             "#1f9e89"
            ],
            [
             0.6666666666666666,
             "#35b779"
            ],
            [
             0.7777777777777778,
             "#6ece58"
            ],
            [
             0.8888888888888888,
             "#b5de2b"
            ],
            [
             1,
             "#fde725"
            ]
           ]
          },
          "colorway": [
           "#1F77B4",
           "#FF7F0E",
           "#2CA02C",
           "#D62728",
           "#9467BD",
           "#8C564B",
           "#E377C2",
           "#7F7F7F",
           "#BCBD22",
           "#17BECF"
          ],
          "font": {
           "color": "rgb(36,36,36)"
          },
          "geo": {
           "bgcolor": "white",
           "lakecolor": "white",
           "landcolor": "white",
           "showlakes": true,
           "showland": true,
           "subunitcolor": "white"
          },
          "hoverlabel": {
           "align": "left"
          },
          "hovermode": "closest",
          "mapbox": {
           "style": "light"
          },
          "paper_bgcolor": "white",
          "plot_bgcolor": "white",
          "polar": {
           "angularaxis": {
            "gridcolor": "rgb(232,232,232)",
            "linecolor": "rgb(36,36,36)",
            "showgrid": false,
            "showline": true,
            "ticks": "outside"
           },
           "bgcolor": "white",
           "radialaxis": {
            "gridcolor": "rgb(232,232,232)",
            "linecolor": "rgb(36,36,36)",
            "showgrid": false,
            "showline": true,
            "ticks": "outside"
           }
          },
          "scene": {
           "xaxis": {
            "backgroundcolor": "white",
            "gridcolor": "rgb(232,232,232)",
            "gridwidth": 2,
            "linecolor": "rgb(36,36,36)",
            "showbackground": true,
            "showgrid": false,
            "showline": true,
            "ticks": "outside",
            "zeroline": false,
            "zerolinecolor": "rgb(36,36,36)"
           },
           "yaxis": {
            "backgroundcolor": "white",
            "gridcolor": "rgb(232,232,232)",
            "gridwidth": 2,
            "linecolor": "rgb(36,36,36)",
            "showbackground": true,
            "showgrid": false,
            "showline": true,
            "ticks": "outside",
            "zeroline": false,
            "zerolinecolor": "rgb(36,36,36)"
           },
           "zaxis": {
            "backgroundcolor": "white",
            "gridcolor": "rgb(232,232,232)",
            "gridwidth": 2,
            "linecolor": "rgb(36,36,36)",
            "showbackground": true,
            "showgrid": false,
            "showline": true,
            "ticks": "outside",
            "zeroline": false,
            "zerolinecolor": "rgb(36,36,36)"
           }
          },
          "shapedefaults": {
           "fillcolor": "black",
           "line": {
            "width": 0
           },
           "opacity": 0.3
          },
          "ternary": {
           "aaxis": {
            "gridcolor": "rgb(232,232,232)",
            "linecolor": "rgb(36,36,36)",
            "showgrid": false,
            "showline": true,
            "ticks": "outside"
           },
           "baxis": {
            "gridcolor": "rgb(232,232,232)",
            "linecolor": "rgb(36,36,36)",
            "showgrid": false,
            "showline": true,
            "ticks": "outside"
           },
           "bgcolor": "white",
           "caxis": {
            "gridcolor": "rgb(232,232,232)",
            "linecolor": "rgb(36,36,36)",
            "showgrid": false,
            "showline": true,
            "ticks": "outside"
           }
          },
          "title": {
           "x": 0.05
          },
          "xaxis": {
           "automargin": true,
           "gridcolor": "rgb(232,232,232)",
           "linecolor": "rgb(36,36,36)",
           "showgrid": false,
           "showline": true,
           "ticks": "outside",
           "title": {
            "standoff": 15
           },
           "zeroline": false,
           "zerolinecolor": "rgb(36,36,36)"
          },
          "yaxis": {
           "automargin": true,
           "gridcolor": "rgb(232,232,232)",
           "linecolor": "rgb(36,36,36)",
           "showgrid": false,
           "showline": true,
           "ticks": "outside",
           "title": {
            "standoff": 15
           },
           "zeroline": false,
           "zerolinecolor": "rgb(36,36,36)"
          }
         }
        },
        "title": {
         "text": "KDE Plot: Actual vs Predicted Values"
        },
        "width": 1000,
        "xaxis": {
         "title": {
          "text": "label_encoded"
         }
        },
        "yaxis": {
         "title": {
          "text": "Density"
         }
        }
       }
      }
     },
     "metadata": {},
     "output_type": "display_data"
    }
   ],
   "source": [
    "# Calculate KDEs\n",
    "kde_actual = gaussian_kde(y_test3)\n",
    "kde_pred = gaussian_kde(y_pred3)\n",
    "\n",
    "# Define x-axis range\n",
    "x_range = np.linspace(min(min(y_test3), min(y_pred3)), max(max(y_test3), max(y_pred3)), 1000)\n",
    "\n",
    "# Evaluate KDEs on x_range\n",
    "y_actual_kde = kde_actual(x_range)\n",
    "y_pred_kde = kde_pred(x_range)\n",
    "\n",
    "# Create figure\n",
    "fig = go.Figure()\n",
    "\n",
    "fig.add_trace(go.Scatter(\n",
    "    x=x_range,\n",
    "    y=y_actual_kde,\n",
    "    mode='lines',\n",
    "    name='Actual',\n",
    "    fill='tozeroy',\n",
    "    line=dict(color='blue')\n",
    "))\n",
    "\n",
    "fig.add_trace(go.Scatter(\n",
    "    x=x_range,\n",
    "    y=y_pred_kde,\n",
    "    mode='lines',\n",
    "    name='Predicted',\n",
    "    fill='tozeroy',\n",
    "    line=dict(color='red')\n",
    "))\n",
    "\n",
    "fig.update_layout(\n",
    "    title='KDE Plot: Actual vs Predicted Values',\n",
    "    xaxis_title='label_encoded',\n",
    "    yaxis_title='Density',\n",
    "    legend=dict(x=0.8, y=0.95),\n",
    "    template='simple_white',\n",
    "    width=1000,\n",
    "    height=600,\n",
    ")\n",
    "\n",
    "fig.show()"
   ]
  },
  {
   "cell_type": "markdown",
   "metadata": {},
   "source": [
    "This plot shows a big problem with the predictions. The blue line (actual values) is sharp and high, while the red line (predicted values) is almost flat and very low. This means the model did not learn the actual pattern well. The predicted values are far off and don’t follow the actual data.The plot is underfitting."
   ]
  },
  {
   "cell_type": "markdown",
   "metadata": {},
   "source": [
    "## Predicting the Label"
   ]
  },
  {
   "cell_type": "code",
   "execution_count": 31,
   "metadata": {},
   "outputs": [],
   "source": [
    "import os\n",
    "import csv\n",
    "import string\n",
    "from collections import Counter\n",
    "import glob"
   ]
  },
  {
   "cell_type": "code",
   "execution_count": 32,
   "metadata": {},
   "outputs": [],
   "source": [
    "import math\n",
    "classes = ['Envelope', 'Membrane', 'Nucleocapsid', 'Spike']"
   ]
  },
  {
   "cell_type": "markdown",
   "metadata": {},
   "source": [
    "### Linear Regression - Single Variable"
   ]
  },
  {
   "cell_type": "code",
   "execution_count": 34,
   "metadata": {},
   "outputs": [
    {
     "name": "stdout",
     "output_type": "stream",
     "text": [
      "Nucleocapsid\n"
     ]
    }
   ],
   "source": [
    "def predict(sequence):\n",
    "    counter = Counter(sequence.upper())\n",
    "    row = {letter: counter.get(letter, 0) for letter in string.ascii_uppercase}\n",
    "    df = pd.DataFrame(row, index=[0])\n",
    "    df = df.drop(columns = ['B', 'J', 'O', 'U', 'X', 'Z'])\n",
    "    prediction = model_linear.predict(df[['A']])\n",
    "    return prediction\n",
    "    \n",
    "\n",
    "prediction = predict(\"MSDNGPQNQRNALRITFGGPSDSTGSNQNGGARSKQRRPQGLPNNTASWFTALTQHGKEDLKFPRGQGVPINTNSSPDDQIGYYRRATRRIRGGDGKMKDLSPRWYFYYLGTGPEAGLPYGANKDGIIWVATEGALNTPKDHIGTRNPANNAAIVLQLPQGTTLPKGFYAEGSRGGSQASSRSSSRSRNSSRNSTPGSSKRTSPARMAGNGGDAALALLLLDRLNKLESKMSGKGQQQQGQTVTKKSAAEASKKPRQKRTATKAYNVTQAFGRRGPEQTQGNFGDQELIRQGTDYKHWPQIAQFAPSASAFFGMSRIGMEVTPSGTWLTYTGAIKLDDKDPNFKDQVILLNKHIDAYKTFPPTEPKKDKKKKADETQALPQRQKKQQTVTLLPAADLDDFSKQLQQSMSRADSTQA\")\n",
    "predicted_index = round(prediction[0])\n",
    "predicted_class = classes[predicted_index]\n",
    "print(predicted_class)"
   ]
  },
  {
   "cell_type": "markdown",
   "metadata": {},
   "source": [
    "### Decision Tree Regression"
   ]
  },
  {
   "cell_type": "code",
   "execution_count": 40,
   "metadata": {},
   "outputs": [
    {
     "name": "stdout",
     "output_type": "stream",
     "text": [
      "Spike\n"
     ]
    }
   ],
   "source": [
    "def predict(sequence):\n",
    "    counter = Counter(sequence.upper())\n",
    "    row = {letter: counter.get(letter, 0) for letter in string.ascii_uppercase}\n",
    "    df = pd.DataFrame(row, index=[0])\n",
    "    df = df.drop(columns = ['B', 'J', 'O', 'U', 'X', 'Z'])\n",
    "    prediction = model_tree.predict(df)\n",
    "    return prediction\n",
    "    \n",
    "\n",
    "prediction = predict(\"\"\"MGCVAETGHHHHHHTNLCPFGEVFNATRFASVYAWNRKRISNCVADYSVLYNSASFSTFKCYGVSPTKLN\n",
    "DLCFTNVYADSFVIRGDEVRQIAPGQTGNIADYNYKLPDDFTGCVIAWNSNNLDSKVGGNYNYLYRLFRK\n",
    "SNLKPFERDISTEIYQAGSTPCNGVKGFNCYFPLQSYGFQPTYGVGYQPYRVVVLSFELLHAPATVCGKK\"\"\")\n",
    "predicted_index = round(prediction[0])\n",
    "predicted_class = classes[predicted_index]\n",
    "print(predicted_class)\n"
   ]
  },
  {
   "cell_type": "markdown",
   "metadata": {},
   "source": [
    "### MultiVariable Linear Regression "
   ]
  },
  {
   "cell_type": "code",
   "execution_count": 41,
   "metadata": {},
   "outputs": [
    {
     "name": "stdout",
     "output_type": "stream",
     "text": [
      "Envelope\n"
     ]
    }
   ],
   "source": [
    "def predict(sequence):\n",
    "    counter = Counter(sequence.upper())\n",
    "    row = {letter: counter.get(letter, 0) for letter in string.ascii_uppercase}\n",
    "    df = pd.DataFrame(row, index=[0])\n",
    "    df = df.drop(columns = ['B', 'J', 'O', 'U', 'X', 'Z'])\n",
    "    prediction = model_mlinear.predict(df)\n",
    "    return prediction\n",
    "    \n",
    "\n",
    "prediction = predict(\"\"\"MYSFVSEEIGTLIVNSVLLFLAFVVFLLVTLAILTALRLCAYCCNIVNVSLVKPSFYVYSRVKNLNSSRV\n",
    "PDLLV\"\"\")\n",
    "predicted_index = round(prediction[0])\n",
    "predicted_class = classes[predicted_index]\n",
    "print(predicted_class)"
   ]
  },
  {
   "cell_type": "markdown",
   "metadata": {},
   "source": [
    "### Polynomial with Single Variable"
   ]
  },
  {
   "cell_type": "code",
   "execution_count": 42,
   "metadata": {},
   "outputs": [
    {
     "name": "stdout",
     "output_type": "stream",
     "text": [
      "[1.11557666]\n",
      "Membrane\n"
     ]
    }
   ],
   "source": [
    "def predict(sequence):\n",
    "    counter = Counter(sequence.upper())\n",
    "    row = {letter: counter.get(letter, 0) for letter in string.ascii_uppercase}\n",
    "    df = pd.DataFrame(row, index=[0])\n",
    "    df = df.drop(columns = ['B', 'J', 'O', 'U', 'X', 'Z'])\n",
    "    df = df[['A']]\n",
    "    X_poly = poly.transform(df)\n",
    "    prediction = model_poly.predict(X_poly)\n",
    "    print(prediction)\n",
    "    return prediction\n",
    "    \n",
    "\n",
    "prediction = predict(\"\"\"MGCVAETGHHHHHHTNLCPFGEVFNATRFASVYAWNRKRISNCVADYSVLYNSASFSTFKCYGVSPTKLN\n",
    "DLCFTNVYADSFVIRGDEVRQIAPGQTGNIADYNYKLPDDFTGCVIAWNSNNLDSKVGGNYNYLYRLFRK\n",
    "SNLKPFERDISTEIYQAGSTPCNGVKGFNCYFPLQSYGFQPTYGVGYQPYRVVVLSFELLHAPATVCGKK\"\"\")\n",
    "predicted_index = round(prediction[0])\n",
    "predicted_class = classes[predicted_index]\n",
    "print(predicted_class)"
   ]
  },
  {
   "cell_type": "markdown",
   "metadata": {},
   "source": [
    "### Multivariable Polynomial with Degree 2"
   ]
  },
  {
   "cell_type": "code",
   "execution_count": 43,
   "metadata": {},
   "outputs": [
    {
     "name": "stdout",
     "output_type": "stream",
     "text": [
      "Membrane\n"
     ]
    }
   ],
   "source": [
    "def predict(sequence):\n",
    "    counter = Counter(sequence.upper())\n",
    "    row = {letter: counter.get(letter, 0) for letter in string.ascii_uppercase}\n",
    "    df = pd.DataFrame(row, index=[0])\n",
    "    df = df.drop(columns = ['B', 'J', 'O', 'U', 'X', 'Z'])\n",
    "    X_poly = poly2.transform(df)\n",
    "    prediction = model_poly2.predict(X_poly)\n",
    "    return prediction\n",
    "    \n",
    "\n",
    "prediction = predict(\"\"\"MAHSNGTITVEELKKLLEEWNLVIGFLFLAWICLLQFAYANRNRFLYIIKLIFLWLLWPVTLTCFVLAAV\n",
    "YRINWITGGIAIAMACLVGLMWLSYFIASFRLFVRTRSMWSFNPETNILLNVPLHGTILTRPLLESELVI\n",
    "GAVILRGHLRIAGHHLGRCDIKDLPKEITVATSRTLSYYKLGASQRVAGDSGFAAYSRYRIGNYKLNTDH\n",
    "SSSSDNIALLVQ\"\"\")\n",
    "predicted_index = round(prediction[0])\n",
    "predicted_class = classes[predicted_index]\n",
    "print(predicted_class)\n"
   ]
  },
  {
   "cell_type": "markdown",
   "metadata": {},
   "source": [
    "### Multivariable Polynomial with Degree 3"
   ]
  },
  {
   "cell_type": "code",
   "execution_count": 44,
   "metadata": {},
   "outputs": [
    {
     "name": "stdout",
     "output_type": "stream",
     "text": [
      "[2.2524892]\n",
      "Nucleocapsid\n"
     ]
    }
   ],
   "source": [
    "def predict(sequence):\n",
    "    counter = Counter(sequence.upper())\n",
    "    row = {letter: counter.get(letter, 0) for letter in string.ascii_uppercase}\n",
    "    df = pd.DataFrame(row, index=[0])\n",
    "    df = df.drop(columns = ['B', 'J', 'O', 'U', 'X', 'Z'])\n",
    "    X_poly = poly3.transform(df)\n",
    "    prediction = model_poly3.predict(X_poly)\n",
    "    print(prediction)\n",
    "    return prediction\n",
    "    \n",
    "prediction = predict(\"\"\"MADSNGTITVEELKKLLEEWNLVIGFLFLTWICLLQFAYANRNRFLYIIKLIFLWLLWPVTLTCFVLAAV\n",
    "YRINWIT\"\"\")\n",
    "predicted_index = round(prediction[0])\n",
    "predicted_class = classes[predicted_index]\n",
    "print(predicted_class)\n"
   ]
  },
  {
   "cell_type": "code",
   "execution_count": null,
   "metadata": {},
   "outputs": [],
   "source": []
  }
 ],
 "metadata": {
  "kernelspec": {
   "display_name": "Python 3",
   "language": "python",
   "name": "python3"
  },
  "language_info": {
   "codemirror_mode": {
    "name": "ipython",
    "version": 3
   },
   "file_extension": ".py",
   "mimetype": "text/x-python",
   "name": "python",
   "nbconvert_exporter": "python",
   "pygments_lexer": "ipython3",
   "version": "3.13.3"
  }
 },
 "nbformat": 4,
 "nbformat_minor": 2
}
