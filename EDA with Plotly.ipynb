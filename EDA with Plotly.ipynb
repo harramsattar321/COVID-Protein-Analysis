{
 "cells": [
  {
   "cell_type": "markdown",
   "metadata": {},
   "source": [
    "# Exploratory Data Analysis (EDA)"
   ]
  },
  {
   "cell_type": "markdown",
   "metadata": {},
   "source": [
    "## Data Description"
   ]
  },
  {
   "cell_type": "markdown",
   "metadata": {
    "vscode": {
     "languageId": "plaintext"
    }
   },
   "source": [
    "### Import Required Libraries"
   ]
  },
  {
   "cell_type": "code",
   "execution_count": 1,
   "metadata": {},
   "outputs": [],
   "source": [
    "import pandas as pd\n",
    "import numpy as np\n",
    "import matplotlib.pyplot as plt\n",
    "import seaborn as sns\n",
    "import plotly.express as px\n",
    "import plotly.graph_objects as go"
   ]
  },
  {
   "cell_type": "markdown",
   "metadata": {},
   "source": [
    "### Dataset Description"
   ]
  },
  {
   "cell_type": "code",
   "execution_count": 2,
   "metadata": {},
   "outputs": [],
   "source": [
    "# Load the CSV file into a DataFrame\n",
    "df = pd.read_csv('genome_sequences.csv')"
   ]
  },
  {
   "cell_type": "code",
   "execution_count": 3,
   "metadata": {},
   "outputs": [
    {
     "data": {
      "text/html": [
       "<div>\n",
       "<style scoped>\n",
       "    .dataframe tbody tr th:only-of-type {\n",
       "        vertical-align: middle;\n",
       "    }\n",
       "\n",
       "    .dataframe tbody tr th {\n",
       "        vertical-align: top;\n",
       "    }\n",
       "\n",
       "    .dataframe thead th {\n",
       "        text-align: right;\n",
       "    }\n",
       "</style>\n",
       "<table border=\"1\" class=\"dataframe\">\n",
       "  <thead>\n",
       "    <tr style=\"text-align: right;\">\n",
       "      <th></th>\n",
       "      <th>A</th>\n",
       "      <th>B</th>\n",
       "      <th>C</th>\n",
       "      <th>D</th>\n",
       "      <th>E</th>\n",
       "      <th>F</th>\n",
       "      <th>G</th>\n",
       "      <th>H</th>\n",
       "      <th>I</th>\n",
       "      <th>J</th>\n",
       "      <th>...</th>\n",
       "      <th>R</th>\n",
       "      <th>S</th>\n",
       "      <th>T</th>\n",
       "      <th>U</th>\n",
       "      <th>V</th>\n",
       "      <th>W</th>\n",
       "      <th>X</th>\n",
       "      <th>Y</th>\n",
       "      <th>Z</th>\n",
       "      <th>Label</th>\n",
       "    </tr>\n",
       "  </thead>\n",
       "  <tbody>\n",
       "    <tr>\n",
       "      <th>0</th>\n",
       "      <td>3</td>\n",
       "      <td>0</td>\n",
       "      <td>0</td>\n",
       "      <td>0</td>\n",
       "      <td>1</td>\n",
       "      <td>3</td>\n",
       "      <td>1</td>\n",
       "      <td>0</td>\n",
       "      <td>2</td>\n",
       "      <td>0</td>\n",
       "      <td>...</td>\n",
       "      <td>1</td>\n",
       "      <td>1</td>\n",
       "      <td>4</td>\n",
       "      <td>0</td>\n",
       "      <td>5</td>\n",
       "      <td>0</td>\n",
       "      <td>0</td>\n",
       "      <td>0</td>\n",
       "      <td>0</td>\n",
       "      <td>Envelope</td>\n",
       "    </tr>\n",
       "    <tr>\n",
       "      <th>1</th>\n",
       "      <td>3</td>\n",
       "      <td>0</td>\n",
       "      <td>0</td>\n",
       "      <td>0</td>\n",
       "      <td>1</td>\n",
       "      <td>3</td>\n",
       "      <td>1</td>\n",
       "      <td>0</td>\n",
       "      <td>2</td>\n",
       "      <td>0</td>\n",
       "      <td>...</td>\n",
       "      <td>1</td>\n",
       "      <td>1</td>\n",
       "      <td>4</td>\n",
       "      <td>0</td>\n",
       "      <td>5</td>\n",
       "      <td>0</td>\n",
       "      <td>0</td>\n",
       "      <td>0</td>\n",
       "      <td>0</td>\n",
       "      <td>Envelope</td>\n",
       "    </tr>\n",
       "    <tr>\n",
       "      <th>2</th>\n",
       "      <td>3</td>\n",
       "      <td>0</td>\n",
       "      <td>0</td>\n",
       "      <td>0</td>\n",
       "      <td>1</td>\n",
       "      <td>3</td>\n",
       "      <td>1</td>\n",
       "      <td>0</td>\n",
       "      <td>2</td>\n",
       "      <td>0</td>\n",
       "      <td>...</td>\n",
       "      <td>1</td>\n",
       "      <td>1</td>\n",
       "      <td>4</td>\n",
       "      <td>0</td>\n",
       "      <td>5</td>\n",
       "      <td>0</td>\n",
       "      <td>0</td>\n",
       "      <td>0</td>\n",
       "      <td>0</td>\n",
       "      <td>Envelope</td>\n",
       "    </tr>\n",
       "    <tr>\n",
       "      <th>3</th>\n",
       "      <td>3</td>\n",
       "      <td>0</td>\n",
       "      <td>0</td>\n",
       "      <td>0</td>\n",
       "      <td>1</td>\n",
       "      <td>3</td>\n",
       "      <td>1</td>\n",
       "      <td>0</td>\n",
       "      <td>2</td>\n",
       "      <td>0</td>\n",
       "      <td>...</td>\n",
       "      <td>1</td>\n",
       "      <td>1</td>\n",
       "      <td>4</td>\n",
       "      <td>0</td>\n",
       "      <td>5</td>\n",
       "      <td>0</td>\n",
       "      <td>0</td>\n",
       "      <td>0</td>\n",
       "      <td>0</td>\n",
       "      <td>Envelope</td>\n",
       "    </tr>\n",
       "    <tr>\n",
       "      <th>4</th>\n",
       "      <td>3</td>\n",
       "      <td>0</td>\n",
       "      <td>0</td>\n",
       "      <td>0</td>\n",
       "      <td>1</td>\n",
       "      <td>3</td>\n",
       "      <td>1</td>\n",
       "      <td>0</td>\n",
       "      <td>2</td>\n",
       "      <td>0</td>\n",
       "      <td>...</td>\n",
       "      <td>1</td>\n",
       "      <td>1</td>\n",
       "      <td>4</td>\n",
       "      <td>0</td>\n",
       "      <td>5</td>\n",
       "      <td>0</td>\n",
       "      <td>0</td>\n",
       "      <td>0</td>\n",
       "      <td>0</td>\n",
       "      <td>Envelope</td>\n",
       "    </tr>\n",
       "  </tbody>\n",
       "</table>\n",
       "<p>5 rows × 27 columns</p>\n",
       "</div>"
      ],
      "text/plain": [
       "   A  B  C  D  E  F  G  H  I  J  ...  R  S  T  U  V  W  X  Y  Z     Label\n",
       "0  3  0  0  0  1  3  1  0  2  0  ...  1  1  4  0  5  0  0  0  0  Envelope\n",
       "1  3  0  0  0  1  3  1  0  2  0  ...  1  1  4  0  5  0  0  0  0  Envelope\n",
       "2  3  0  0  0  1  3  1  0  2  0  ...  1  1  4  0  5  0  0  0  0  Envelope\n",
       "3  3  0  0  0  1  3  1  0  2  0  ...  1  1  4  0  5  0  0  0  0  Envelope\n",
       "4  3  0  0  0  1  3  1  0  2  0  ...  1  1  4  0  5  0  0  0  0  Envelope\n",
       "\n",
       "[5 rows x 27 columns]"
      ]
     },
     "execution_count": 3,
     "metadata": {},
     "output_type": "execute_result"
    }
   ],
   "source": [
    "# Display first 5 rows\n",
    "df.head()"
   ]
  },
  {
   "cell_type": "code",
   "execution_count": 4,
   "metadata": {},
   "outputs": [
    {
     "name": "stdout",
     "output_type": "stream",
     "text": [
      "Rows: 4020, Columns: 27\n"
     ]
    }
   ],
   "source": [
    "# Shape of the dataset\n",
    "print(f\"Rows: {df.shape[0]}, Columns: {df.shape[1]}\")"
   ]
  },
  {
   "cell_type": "code",
   "execution_count": 5,
   "metadata": {},
   "outputs": [
    {
     "name": "stdout",
     "output_type": "stream",
     "text": [
      "<class 'pandas.core.frame.DataFrame'>\n",
      "RangeIndex: 4020 entries, 0 to 4019\n",
      "Data columns (total 27 columns):\n",
      " #   Column  Non-Null Count  Dtype \n",
      "---  ------  --------------  ----- \n",
      " 0   A       4020 non-null   int64 \n",
      " 1   B       4020 non-null   int64 \n",
      " 2   C       4020 non-null   int64 \n",
      " 3   D       4020 non-null   int64 \n",
      " 4   E       4020 non-null   int64 \n",
      " 5   F       4020 non-null   int64 \n",
      " 6   G       4020 non-null   int64 \n",
      " 7   H       4020 non-null   int64 \n",
      " 8   I       4020 non-null   int64 \n",
      " 9   J       4020 non-null   int64 \n",
      " 10  K       4020 non-null   int64 \n",
      " 11  L       4020 non-null   int64 \n",
      " 12  M       4020 non-null   int64 \n",
      " 13  N       4020 non-null   int64 \n",
      " 14  O       4020 non-null   int64 \n",
      " 15  P       4020 non-null   int64 \n",
      " 16  Q       4020 non-null   int64 \n",
      " 17  R       4020 non-null   int64 \n",
      " 18  S       4020 non-null   int64 \n",
      " 19  T       4020 non-null   int64 \n",
      " 20  U       4020 non-null   int64 \n",
      " 21  V       4020 non-null   int64 \n",
      " 22  W       4020 non-null   int64 \n",
      " 23  X       4020 non-null   int64 \n",
      " 24  Y       4020 non-null   int64 \n",
      " 25  Z       4020 non-null   int64 \n",
      " 26  Label   4020 non-null   object\n",
      "dtypes: int64(26), object(1)\n",
      "memory usage: 848.1+ KB\n"
     ]
    }
   ],
   "source": [
    "# Info about column types and missing values\n",
    "df.info()"
   ]
  },
  {
   "cell_type": "code",
   "execution_count": 6,
   "metadata": {},
   "outputs": [
    {
     "data": {
      "text/plain": [
       "['A',\n",
       " 'B',\n",
       " 'C',\n",
       " 'D',\n",
       " 'E',\n",
       " 'F',\n",
       " 'G',\n",
       " 'H',\n",
       " 'I',\n",
       " 'J',\n",
       " 'K',\n",
       " 'L',\n",
       " 'M',\n",
       " 'N',\n",
       " 'O',\n",
       " 'P',\n",
       " 'Q',\n",
       " 'R',\n",
       " 'S',\n",
       " 'T',\n",
       " 'U',\n",
       " 'V',\n",
       " 'W',\n",
       " 'X',\n",
       " 'Y',\n",
       " 'Z',\n",
       " 'Label']"
      ]
     },
     "execution_count": 6,
     "metadata": {},
     "output_type": "execute_result"
    }
   ],
   "source": [
    "# List all column names\n",
    "df.columns.tolist()"
   ]
  },
  {
   "cell_type": "code",
   "execution_count": 7,
   "metadata": {},
   "outputs": [
    {
     "data": {
      "text/html": [
       "<div>\n",
       "<style scoped>\n",
       "    .dataframe tbody tr th:only-of-type {\n",
       "        vertical-align: middle;\n",
       "    }\n",
       "\n",
       "    .dataframe tbody tr th {\n",
       "        vertical-align: top;\n",
       "    }\n",
       "\n",
       "    .dataframe thead th {\n",
       "        text-align: right;\n",
       "    }\n",
       "</style>\n",
       "<table border=\"1\" class=\"dataframe\">\n",
       "  <thead>\n",
       "    <tr style=\"text-align: right;\">\n",
       "      <th></th>\n",
       "      <th>A</th>\n",
       "      <th>B</th>\n",
       "      <th>C</th>\n",
       "      <th>D</th>\n",
       "      <th>E</th>\n",
       "      <th>F</th>\n",
       "      <th>G</th>\n",
       "      <th>H</th>\n",
       "      <th>I</th>\n",
       "      <th>J</th>\n",
       "      <th>...</th>\n",
       "      <th>Q</th>\n",
       "      <th>R</th>\n",
       "      <th>S</th>\n",
       "      <th>T</th>\n",
       "      <th>U</th>\n",
       "      <th>V</th>\n",
       "      <th>W</th>\n",
       "      <th>X</th>\n",
       "      <th>Y</th>\n",
       "      <th>Z</th>\n",
       "    </tr>\n",
       "  </thead>\n",
       "  <tbody>\n",
       "    <tr>\n",
       "      <th>count</th>\n",
       "      <td>4020.000000</td>\n",
       "      <td>4020.0</td>\n",
       "      <td>4020.000000</td>\n",
       "      <td>4020.000000</td>\n",
       "      <td>4020.000000</td>\n",
       "      <td>4020.000000</td>\n",
       "      <td>4020.000000</td>\n",
       "      <td>4020.000000</td>\n",
       "      <td>4020.000000</td>\n",
       "      <td>4020.0</td>\n",
       "      <td>...</td>\n",
       "      <td>4020.000000</td>\n",
       "      <td>4020.000000</td>\n",
       "      <td>4020.000000</td>\n",
       "      <td>4020.000000</td>\n",
       "      <td>4020.0</td>\n",
       "      <td>4020.000000</td>\n",
       "      <td>4020.000000</td>\n",
       "      <td>4020.000000</td>\n",
       "      <td>4020.000000</td>\n",
       "      <td>4020.0</td>\n",
       "    </tr>\n",
       "    <tr>\n",
       "      <th>mean</th>\n",
       "      <td>38.308458</td>\n",
       "      <td>0.0</td>\n",
       "      <td>10.302985</td>\n",
       "      <td>25.533831</td>\n",
       "      <td>19.186070</td>\n",
       "      <td>27.981841</td>\n",
       "      <td>40.056468</td>\n",
       "      <td>8.512687</td>\n",
       "      <td>28.735572</td>\n",
       "      <td>0.0</td>\n",
       "      <td>...</td>\n",
       "      <td>28.290299</td>\n",
       "      <td>24.236318</td>\n",
       "      <td>42.600746</td>\n",
       "      <td>39.254726</td>\n",
       "      <td>0.0</td>\n",
       "      <td>33.449502</td>\n",
       "      <td>6.180597</td>\n",
       "      <td>0.036567</td>\n",
       "      <td>20.989552</td>\n",
       "      <td>0.0</td>\n",
       "    </tr>\n",
       "    <tr>\n",
       "      <th>std</th>\n",
       "      <td>40.851248</td>\n",
       "      <td>0.0</td>\n",
       "      <td>19.534525</td>\n",
       "      <td>32.612858</td>\n",
       "      <td>29.012472</td>\n",
       "      <td>35.826667</td>\n",
       "      <td>40.553769</td>\n",
       "      <td>12.224596</td>\n",
       "      <td>33.498266</td>\n",
       "      <td>0.0</td>\n",
       "      <td>...</td>\n",
       "      <td>28.313182</td>\n",
       "      <td>20.061522</td>\n",
       "      <td>45.158426</td>\n",
       "      <td>48.005088</td>\n",
       "      <td>0.0</td>\n",
       "      <td>52.571327</td>\n",
       "      <td>6.124260</td>\n",
       "      <td>1.014651</td>\n",
       "      <td>28.552608</td>\n",
       "      <td>0.0</td>\n",
       "    </tr>\n",
       "    <tr>\n",
       "      <th>min</th>\n",
       "      <td>0.000000</td>\n",
       "      <td>0.0</td>\n",
       "      <td>0.000000</td>\n",
       "      <td>0.000000</td>\n",
       "      <td>0.000000</td>\n",
       "      <td>0.000000</td>\n",
       "      <td>0.000000</td>\n",
       "      <td>0.000000</td>\n",
       "      <td>0.000000</td>\n",
       "      <td>0.0</td>\n",
       "      <td>...</td>\n",
       "      <td>0.000000</td>\n",
       "      <td>0.000000</td>\n",
       "      <td>1.000000</td>\n",
       "      <td>0.000000</td>\n",
       "      <td>0.0</td>\n",
       "      <td>0.000000</td>\n",
       "      <td>0.000000</td>\n",
       "      <td>0.000000</td>\n",
       "      <td>0.000000</td>\n",
       "      <td>0.0</td>\n",
       "    </tr>\n",
       "    <tr>\n",
       "      <th>25%</th>\n",
       "      <td>18.000000</td>\n",
       "      <td>0.0</td>\n",
       "      <td>0.000000</td>\n",
       "      <td>5.000000</td>\n",
       "      <td>7.000000</td>\n",
       "      <td>11.000000</td>\n",
       "      <td>14.000000</td>\n",
       "      <td>4.000000</td>\n",
       "      <td>14.000000</td>\n",
       "      <td>0.0</td>\n",
       "      <td>...</td>\n",
       "      <td>3.000000</td>\n",
       "      <td>14.000000</td>\n",
       "      <td>15.000000</td>\n",
       "      <td>13.000000</td>\n",
       "      <td>0.0</td>\n",
       "      <td>8.000000</td>\n",
       "      <td>5.000000</td>\n",
       "      <td>0.000000</td>\n",
       "      <td>9.000000</td>\n",
       "      <td>0.0</td>\n",
       "    </tr>\n",
       "    <tr>\n",
       "      <th>50%</th>\n",
       "      <td>37.000000</td>\n",
       "      <td>0.0</td>\n",
       "      <td>3.000000</td>\n",
       "      <td>24.000000</td>\n",
       "      <td>11.000000</td>\n",
       "      <td>13.000000</td>\n",
       "      <td>42.000000</td>\n",
       "      <td>4.000000</td>\n",
       "      <td>14.000000</td>\n",
       "      <td>0.0</td>\n",
       "      <td>...</td>\n",
       "      <td>34.000000</td>\n",
       "      <td>29.000000</td>\n",
       "      <td>35.000000</td>\n",
       "      <td>32.000000</td>\n",
       "      <td>0.0</td>\n",
       "      <td>13.000000</td>\n",
       "      <td>5.000000</td>\n",
       "      <td>0.000000</td>\n",
       "      <td>11.000000</td>\n",
       "      <td>0.0</td>\n",
       "    </tr>\n",
       "    <tr>\n",
       "      <th>75%</th>\n",
       "      <td>37.000000</td>\n",
       "      <td>0.0</td>\n",
       "      <td>8.000000</td>\n",
       "      <td>24.000000</td>\n",
       "      <td>11.000000</td>\n",
       "      <td>14.000000</td>\n",
       "      <td>42.000000</td>\n",
       "      <td>7.000000</td>\n",
       "      <td>20.000000</td>\n",
       "      <td>0.0</td>\n",
       "      <td>...</td>\n",
       "      <td>35.000000</td>\n",
       "      <td>29.000000</td>\n",
       "      <td>36.000000</td>\n",
       "      <td>32.000000</td>\n",
       "      <td>0.0</td>\n",
       "      <td>20.000000</td>\n",
       "      <td>7.000000</td>\n",
       "      <td>0.000000</td>\n",
       "      <td>15.000000</td>\n",
       "      <td>0.0</td>\n",
       "    </tr>\n",
       "    <tr>\n",
       "      <th>max</th>\n",
       "      <td>488.000000</td>\n",
       "      <td>0.0</td>\n",
       "      <td>227.000000</td>\n",
       "      <td>389.000000</td>\n",
       "      <td>340.000000</td>\n",
       "      <td>351.000000</td>\n",
       "      <td>412.000000</td>\n",
       "      <td>145.000000</td>\n",
       "      <td>345.000000</td>\n",
       "      <td>0.0</td>\n",
       "      <td>...</td>\n",
       "      <td>239.000000</td>\n",
       "      <td>244.000000</td>\n",
       "      <td>457.000000</td>\n",
       "      <td>527.000000</td>\n",
       "      <td>0.0</td>\n",
       "      <td>599.000000</td>\n",
       "      <td>78.000000</td>\n",
       "      <td>54.000000</td>\n",
       "      <td>336.000000</td>\n",
       "      <td>0.0</td>\n",
       "    </tr>\n",
       "  </tbody>\n",
       "</table>\n",
       "<p>8 rows × 26 columns</p>\n",
       "</div>"
      ],
      "text/plain": [
       "                 A       B            C            D            E  \\\n",
       "count  4020.000000  4020.0  4020.000000  4020.000000  4020.000000   \n",
       "mean     38.308458     0.0    10.302985    25.533831    19.186070   \n",
       "std      40.851248     0.0    19.534525    32.612858    29.012472   \n",
       "min       0.000000     0.0     0.000000     0.000000     0.000000   \n",
       "25%      18.000000     0.0     0.000000     5.000000     7.000000   \n",
       "50%      37.000000     0.0     3.000000    24.000000    11.000000   \n",
       "75%      37.000000     0.0     8.000000    24.000000    11.000000   \n",
       "max     488.000000     0.0   227.000000   389.000000   340.000000   \n",
       "\n",
       "                 F            G            H            I       J  ...  \\\n",
       "count  4020.000000  4020.000000  4020.000000  4020.000000  4020.0  ...   \n",
       "mean     27.981841    40.056468     8.512687    28.735572     0.0  ...   \n",
       "std      35.826667    40.553769    12.224596    33.498266     0.0  ...   \n",
       "min       0.000000     0.000000     0.000000     0.000000     0.0  ...   \n",
       "25%      11.000000    14.000000     4.000000    14.000000     0.0  ...   \n",
       "50%      13.000000    42.000000     4.000000    14.000000     0.0  ...   \n",
       "75%      14.000000    42.000000     7.000000    20.000000     0.0  ...   \n",
       "max     351.000000   412.000000   145.000000   345.000000     0.0  ...   \n",
       "\n",
       "                 Q            R            S            T       U  \\\n",
       "count  4020.000000  4020.000000  4020.000000  4020.000000  4020.0   \n",
       "mean     28.290299    24.236318    42.600746    39.254726     0.0   \n",
       "std      28.313182    20.061522    45.158426    48.005088     0.0   \n",
       "min       0.000000     0.000000     1.000000     0.000000     0.0   \n",
       "25%       3.000000    14.000000    15.000000    13.000000     0.0   \n",
       "50%      34.000000    29.000000    35.000000    32.000000     0.0   \n",
       "75%      35.000000    29.000000    36.000000    32.000000     0.0   \n",
       "max     239.000000   244.000000   457.000000   527.000000     0.0   \n",
       "\n",
       "                 V            W            X            Y       Z  \n",
       "count  4020.000000  4020.000000  4020.000000  4020.000000  4020.0  \n",
       "mean     33.449502     6.180597     0.036567    20.989552     0.0  \n",
       "std      52.571327     6.124260     1.014651    28.552608     0.0  \n",
       "min       0.000000     0.000000     0.000000     0.000000     0.0  \n",
       "25%       8.000000     5.000000     0.000000     9.000000     0.0  \n",
       "50%      13.000000     5.000000     0.000000    11.000000     0.0  \n",
       "75%      20.000000     7.000000     0.000000    15.000000     0.0  \n",
       "max     599.000000    78.000000    54.000000   336.000000     0.0  \n",
       "\n",
       "[8 rows x 26 columns]"
      ]
     },
     "execution_count": 7,
     "metadata": {},
     "output_type": "execute_result"
    }
   ],
   "source": [
    "# Summary for numeric columns\n",
    "df.describe()"
   ]
  },
  {
   "cell_type": "code",
   "execution_count": 8,
   "metadata": {},
   "outputs": [
    {
     "data": {
      "text/html": [
       "<div>\n",
       "<style scoped>\n",
       "    .dataframe tbody tr th:only-of-type {\n",
       "        vertical-align: middle;\n",
       "    }\n",
       "\n",
       "    .dataframe tbody tr th {\n",
       "        vertical-align: top;\n",
       "    }\n",
       "\n",
       "    .dataframe thead th {\n",
       "        text-align: right;\n",
       "    }\n",
       "</style>\n",
       "<table border=\"1\" class=\"dataframe\">\n",
       "  <thead>\n",
       "    <tr style=\"text-align: right;\">\n",
       "      <th></th>\n",
       "      <th>Label</th>\n",
       "    </tr>\n",
       "  </thead>\n",
       "  <tbody>\n",
       "    <tr>\n",
       "      <th>count</th>\n",
       "      <td>4020</td>\n",
       "    </tr>\n",
       "    <tr>\n",
       "      <th>unique</th>\n",
       "      <td>4</td>\n",
       "    </tr>\n",
       "    <tr>\n",
       "      <th>top</th>\n",
       "      <td>Nucleocapsid</td>\n",
       "    </tr>\n",
       "    <tr>\n",
       "      <th>freq</th>\n",
       "      <td>1300</td>\n",
       "    </tr>\n",
       "  </tbody>\n",
       "</table>\n",
       "</div>"
      ],
      "text/plain": [
       "               Label\n",
       "count           4020\n",
       "unique             4\n",
       "top     Nucleocapsid\n",
       "freq            1300"
      ]
     },
     "execution_count": 8,
     "metadata": {},
     "output_type": "execute_result"
    }
   ],
   "source": [
    "# Summary for target column\n",
    "df.describe(include='object')"
   ]
  },
  {
   "cell_type": "code",
   "execution_count": 9,
   "metadata": {},
   "outputs": [
    {
     "data": {
      "text/plain": [
       "A        0\n",
       "B        0\n",
       "C        0\n",
       "D        0\n",
       "E        0\n",
       "F        0\n",
       "G        0\n",
       "H        0\n",
       "I        0\n",
       "J        0\n",
       "K        0\n",
       "L        0\n",
       "M        0\n",
       "N        0\n",
       "O        0\n",
       "P        0\n",
       "Q        0\n",
       "R        0\n",
       "S        0\n",
       "T        0\n",
       "U        0\n",
       "V        0\n",
       "W        0\n",
       "X        0\n",
       "Y        0\n",
       "Z        0\n",
       "Label    0\n",
       "dtype: int64"
      ]
     },
     "execution_count": 9,
     "metadata": {},
     "output_type": "execute_result"
    }
   ],
   "source": [
    "# Count of missing values per column\n",
    "df.isnull().sum()"
   ]
  },
  {
   "cell_type": "code",
   "execution_count": 10,
   "metadata": {},
   "outputs": [
    {
     "data": {
      "text/plain": [
       "A        43\n",
       "B         1\n",
       "C        24\n",
       "D        35\n",
       "E        32\n",
       "F        41\n",
       "G        50\n",
       "H        30\n",
       "I        42\n",
       "J         1\n",
       "K        40\n",
       "L        56\n",
       "M        20\n",
       "N        38\n",
       "O         1\n",
       "P        44\n",
       "Q        38\n",
       "R        35\n",
       "S        54\n",
       "T        40\n",
       "U         1\n",
       "V        41\n",
       "W        16\n",
       "X         9\n",
       "Y        32\n",
       "Z         1\n",
       "Label     4\n",
       "dtype: int64"
      ]
     },
     "execution_count": 10,
     "metadata": {},
     "output_type": "execute_result"
    }
   ],
   "source": [
    "# Unique values per column\n",
    "df.nunique()"
   ]
  },
  {
   "cell_type": "code",
   "execution_count": 11,
   "metadata": {},
   "outputs": [
    {
     "data": {
      "text/plain": [
       "np.int64(3677)"
      ]
     },
     "execution_count": 11,
     "metadata": {},
     "output_type": "execute_result"
    }
   ],
   "source": [
    "# Count duplicate rows\n",
    "df.duplicated().sum()"
   ]
  },
  {
   "cell_type": "code",
   "execution_count": 12,
   "metadata": {},
   "outputs": [
    {
     "name": "stdout",
     "output_type": "stream",
     "text": [
      "\n",
      "Value Counts for: Label\n",
      "Label\n",
      "Nucleocapsid    1300\n",
      "Membrane        1022\n",
      "Spike           1018\n",
      "Envelope         680\n",
      "Name: count, dtype: int64\n"
     ]
    }
   ],
   "source": [
    "# For categorical columns, plot value counts\n",
    "categorical_cols = df.select_dtypes(include='object').columns\n",
    "\n",
    "for col in categorical_cols:\n",
    "    print(f\"\\nValue Counts for: {col}\")\n",
    "    print(df[col].value_counts())"
   ]
  },
  {
   "cell_type": "markdown",
   "metadata": {},
   "source": [
    "## Visualizations"
   ]
  },
  {
   "cell_type": "markdown",
   "metadata": {},
   "source": [
    "### 1. Bar Plot of Total Letter Frequencies Across Dataset"
   ]
  },
  {
   "cell_type": "code",
   "execution_count": 15,
   "metadata": {},
   "outputs": [
    {
     "data": {
      "application/vnd.plotly.v1+json": {
       "config": {
        "plotlyServerURL": "https://plot.ly"
       },
       "data": [
        {
         "hovertemplate": "color=L<br>Letter=%{x}<br>Total Count=%{y}<extra></extra>",
         "legendgroup": "L",
         "marker": {
          "color": "#440154",
          "pattern": {
           "shape": ""
          }
         },
         "name": "L",
         "orientation": "v",
         "showlegend": true,
         "textposition": "auto",
         "type": "bar",
         "x": [
          "L"
         ],
         "xaxis": "x",
         "y": {
          "bdata": "+PECAA==",
          "dtype": "i4"
         },
         "yaxis": "y"
        },
        {
         "hovertemplate": "color=S<br>Letter=%{x}<br>Total Count=%{y}<extra></extra>",
         "legendgroup": "S",
         "marker": {
          "color": "#482878",
          "pattern": {
           "shape": ""
          }
         },
         "name": "S",
         "orientation": "v",
         "showlegend": true,
         "textposition": "auto",
         "type": "bar",
         "x": [
          "S"
         ],
         "xaxis": "x",
         "y": {
          "bdata": "95wCAA==",
          "dtype": "i4"
         },
         "yaxis": "y"
        },
        {
         "hovertemplate": "color=G<br>Letter=%{x}<br>Total Count=%{y}<extra></extra>",
         "legendgroup": "G",
         "marker": {
          "color": "#3e4989",
          "pattern": {
           "shape": ""
          }
         },
         "name": "G",
         "orientation": "v",
         "showlegend": true,
         "textposition": "auto",
         "type": "bar",
         "x": [
          "G"
         ],
         "xaxis": "x",
         "y": {
          "bdata": "A3UCAA==",
          "dtype": "i4"
         },
         "yaxis": "y"
        },
        {
         "hovertemplate": "color=T<br>Letter=%{x}<br>Total Count=%{y}<extra></extra>",
         "legendgroup": "T",
         "marker": {
          "color": "#31688e",
          "pattern": {
           "shape": ""
          }
         },
         "name": "T",
         "orientation": "v",
         "showlegend": true,
         "textposition": "auto",
         "type": "bar",
         "x": [
          "T"
         ],
         "xaxis": "x",
         "y": {
          "bdata": "bGgCAA==",
          "dtype": "i4"
         },
         "yaxis": "y"
        },
        {
         "hovertemplate": "color=A<br>Letter=%{x}<br>Total Count=%{y}<extra></extra>",
         "legendgroup": "A",
         "marker": {
          "color": "#26828e",
          "pattern": {
           "shape": ""
          }
         },
         "name": "A",
         "orientation": "v",
         "showlegend": true,
         "textposition": "auto",
         "type": "bar",
         "x": [
          "A"
         ],
         "xaxis": "x",
         "y": {
          "bdata": "kFkCAA==",
          "dtype": "i4"
         },
         "yaxis": "y"
        },
        {
         "hovertemplate": "color=V<br>Letter=%{x}<br>Total Count=%{y}<extra></extra>",
         "legendgroup": "V",
         "marker": {
          "color": "#1f9e89",
          "pattern": {
           "shape": ""
          }
         },
         "name": "V",
         "orientation": "v",
         "showlegend": true,
         "textposition": "auto",
         "type": "bar",
         "x": [
          "V"
         ],
         "xaxis": "x",
         "y": {
          "bdata": "Qw0CAA==",
          "dtype": "i4"
         },
         "yaxis": "y"
        },
        {
         "hovertemplate": "color=N<br>Letter=%{x}<br>Total Count=%{y}<extra></extra>",
         "legendgroup": "N",
         "marker": {
          "color": "#35b779",
          "pattern": {
           "shape": ""
          }
         },
         "name": "N",
         "orientation": "v",
         "showlegend": true,
         "textposition": "auto",
         "type": "bar",
         "x": [
          "N"
         ],
         "xaxis": "x",
         "y": {
          "bdata": "3gsCAA==",
          "dtype": "i4"
         },
         "yaxis": "y"
        },
        {
         "hovertemplate": "color=K<br>Letter=%{x}<br>Total Count=%{y}<extra></extra>",
         "legendgroup": "K",
         "marker": {
          "color": "#6ece58",
          "pattern": {
           "shape": ""
          }
         },
         "name": "K",
         "orientation": "v",
         "showlegend": true,
         "textposition": "auto",
         "type": "bar",
         "x": [
          "K"
         ],
         "xaxis": "x",
         "y": {
          "bdata": "0MYBAA==",
          "dtype": "i4"
         },
         "yaxis": "y"
        },
        {
         "hovertemplate": "color=I<br>Letter=%{x}<br>Total Count=%{y}<extra></extra>",
         "legendgroup": "I",
         "marker": {
          "color": "#b5de2b",
          "pattern": {
           "shape": ""
          }
         },
         "name": "I",
         "orientation": "v",
         "showlegend": true,
         "textposition": "auto",
         "type": "bar",
         "x": [
          "I"
         ],
         "xaxis": "x",
         "y": {
          "bdata": "PcMBAA==",
          "dtype": "i4"
         },
         "yaxis": "y"
        },
        {
         "hovertemplate": "color=Q<br>Letter=%{x}<br>Total Count=%{y}<extra></extra>",
         "legendgroup": "Q",
         "marker": {
          "color": "#fde725",
          "pattern": {
           "shape": ""
          }
         },
         "name": "Q",
         "orientation": "v",
         "showlegend": true,
         "textposition": "auto",
         "type": "bar",
         "x": [
          "Q"
         ],
         "xaxis": "x",
         "y": {
          "bdata": "P7wBAA==",
          "dtype": "i4"
         },
         "yaxis": "y"
        },
        {
         "hovertemplate": "color=F<br>Letter=%{x}<br>Total Count=%{y}<extra></extra>",
         "legendgroup": "F",
         "marker": {
          "color": "#440154",
          "pattern": {
           "shape": ""
          }
         },
         "name": "F",
         "orientation": "v",
         "showlegend": true,
         "textposition": "auto",
         "type": "bar",
         "x": [
          "F"
         ],
         "xaxis": "x",
         "y": {
          "bdata": "Z7cBAA==",
          "dtype": "i4"
         },
         "yaxis": "y"
        },
        {
         "hovertemplate": "color=P<br>Letter=%{x}<br>Total Count=%{y}<extra></extra>",
         "legendgroup": "P",
         "marker": {
          "color": "#482878",
          "pattern": {
           "shape": ""
          }
         },
         "name": "P",
         "orientation": "v",
         "showlegend": true,
         "textposition": "auto",
         "type": "bar",
         "x": [
          "P"
         ],
         "xaxis": "x",
         "y": {
          "bdata": "3p8BAA==",
          "dtype": "i4"
         },
         "yaxis": "y"
        },
        {
         "hovertemplate": "color=D<br>Letter=%{x}<br>Total Count=%{y}<extra></extra>",
         "legendgroup": "D",
         "marker": {
          "color": "#3e4989",
          "pattern": {
           "shape": ""
          }
         },
         "name": "D",
         "orientation": "v",
         "showlegend": true,
         "textposition": "auto",
         "type": "bar",
         "x": [
          "D"
         ],
         "xaxis": "x",
         "y": {
          "bdata": "9pABAA==",
          "dtype": "i4"
         },
         "yaxis": "y"
        },
        {
         "hovertemplate": "color=R<br>Letter=%{x}<br>Total Count=%{y}<extra></extra>",
         "legendgroup": "R",
         "marker": {
          "color": "#31688e",
          "pattern": {
           "shape": ""
          }
         },
         "name": "R",
         "orientation": "v",
         "showlegend": true,
         "textposition": "auto",
         "type": "bar",
         "x": [
          "R"
         ],
         "xaxis": "x",
         "y": {
          "bdata": "lnwBAA==",
          "dtype": "i4"
         },
         "yaxis": "y"
        },
        {
         "hovertemplate": "color=Y<br>Letter=%{x}<br>Total Count=%{y}<extra></extra>",
         "legendgroup": "Y",
         "marker": {
          "color": "#26828e",
          "pattern": {
           "shape": ""
          }
         },
         "name": "Y",
         "orientation": "v",
         "showlegend": true,
         "textposition": "auto",
         "type": "bar",
         "x": [
          "Y"
         ],
         "xaxis": "x",
         "y": {
          "bdata": "mkkBAA==",
          "dtype": "i4"
         },
         "yaxis": "y"
        },
        {
         "hovertemplate": "color=E<br>Letter=%{x}<br>Total Count=%{y}<extra></extra>",
         "legendgroup": "E",
         "marker": {
          "color": "#1f9e89",
          "pattern": {
           "shape": ""
          }
         },
         "name": "E",
         "orientation": "v",
         "showlegend": true,
         "textposition": "auto",
         "type": "bar",
         "x": [
          "E"
         ],
         "xaxis": "x",
         "y": {
          "bdata": "SC0BAA==",
          "dtype": "i4"
         },
         "yaxis": "y"
        },
        {
         "hovertemplate": "color=C<br>Letter=%{x}<br>Total Count=%{y}<extra></extra>",
         "legendgroup": "C",
         "marker": {
          "color": "#35b779",
          "pattern": {
           "shape": ""
          }
         },
         "name": "C",
         "orientation": "v",
         "showlegend": true,
         "textposition": "auto",
         "type": "bar",
         "x": [
          "C"
         ],
         "xaxis": "x",
         "y": {
          "bdata": "yqEAAA==",
          "dtype": "i4"
         },
         "yaxis": "y"
        },
        {
         "hovertemplate": "color=H<br>Letter=%{x}<br>Total Count=%{y}<extra></extra>",
         "legendgroup": "H",
         "marker": {
          "color": "#6ece58",
          "pattern": {
           "shape": ""
          }
         },
         "name": "H",
         "orientation": "v",
         "showlegend": true,
         "textposition": "auto",
         "type": "bar",
         "x": [
          "H"
         ],
         "xaxis": "x",
         "y": {
          "bdata": "rYUAAA==",
          "dtype": "i4"
         },
         "yaxis": "y"
        },
        {
         "hovertemplate": "color=M<br>Letter=%{x}<br>Total Count=%{y}<extra></extra>",
         "legendgroup": "M",
         "marker": {
          "color": "#b5de2b",
          "pattern": {
           "shape": ""
          }
         },
         "name": "M",
         "orientation": "v",
         "showlegend": true,
         "textposition": "auto",
         "type": "bar",
         "x": [
          "M"
         ],
         "xaxis": "x",
         "y": {
          "bdata": "+W0=",
          "dtype": "i2"
         },
         "yaxis": "y"
        },
        {
         "hovertemplate": "color=W<br>Letter=%{x}<br>Total Count=%{y}<extra></extra>",
         "legendgroup": "W",
         "marker": {
          "color": "#fde725",
          "pattern": {
           "shape": ""
          }
         },
         "name": "W",
         "orientation": "v",
         "showlegend": true,
         "textposition": "auto",
         "type": "bar",
         "x": [
          "W"
         ],
         "xaxis": "x",
         "y": {
          "bdata": "DmE=",
          "dtype": "i2"
         },
         "yaxis": "y"
        },
        {
         "hovertemplate": "color=X<br>Letter=%{x}<br>Total Count=%{y}<extra></extra>",
         "legendgroup": "X",
         "marker": {
          "color": "#440154",
          "pattern": {
           "shape": ""
          }
         },
         "name": "X",
         "orientation": "v",
         "showlegend": true,
         "textposition": "auto",
         "type": "bar",
         "x": [
          "X"
         ],
         "xaxis": "x",
         "y": {
          "bdata": "kwA=",
          "dtype": "i2"
         },
         "yaxis": "y"
        },
        {
         "hovertemplate": "color=B<br>Letter=%{x}<br>Total Count=%{y}<extra></extra>",
         "legendgroup": "B",
         "marker": {
          "color": "#482878",
          "pattern": {
           "shape": ""
          }
         },
         "name": "B",
         "orientation": "v",
         "showlegend": true,
         "textposition": "auto",
         "type": "bar",
         "x": [
          "B"
         ],
         "xaxis": "x",
         "y": {
          "bdata": "AA==",
          "dtype": "i1"
         },
         "yaxis": "y"
        },
        {
         "hovertemplate": "color=J<br>Letter=%{x}<br>Total Count=%{y}<extra></extra>",
         "legendgroup": "J",
         "marker": {
          "color": "#3e4989",
          "pattern": {
           "shape": ""
          }
         },
         "name": "J",
         "orientation": "v",
         "showlegend": true,
         "textposition": "auto",
         "type": "bar",
         "x": [
          "J"
         ],
         "xaxis": "x",
         "y": {
          "bdata": "AA==",
          "dtype": "i1"
         },
         "yaxis": "y"
        },
        {
         "hovertemplate": "color=O<br>Letter=%{x}<br>Total Count=%{y}<extra></extra>",
         "legendgroup": "O",
         "marker": {
          "color": "#31688e",
          "pattern": {
           "shape": ""
          }
         },
         "name": "O",
         "orientation": "v",
         "showlegend": true,
         "textposition": "auto",
         "type": "bar",
         "x": [
          "O"
         ],
         "xaxis": "x",
         "y": {
          "bdata": "AA==",
          "dtype": "i1"
         },
         "yaxis": "y"
        },
        {
         "hovertemplate": "color=U<br>Letter=%{x}<br>Total Count=%{y}<extra></extra>",
         "legendgroup": "U",
         "marker": {
          "color": "#26828e",
          "pattern": {
           "shape": ""
          }
         },
         "name": "U",
         "orientation": "v",
         "showlegend": true,
         "textposition": "auto",
         "type": "bar",
         "x": [
          "U"
         ],
         "xaxis": "x",
         "y": {
          "bdata": "AA==",
          "dtype": "i1"
         },
         "yaxis": "y"
        },
        {
         "hovertemplate": "color=Z<br>Letter=%{x}<br>Total Count=%{y}<extra></extra>",
         "legendgroup": "Z",
         "marker": {
          "color": "#1f9e89",
          "pattern": {
           "shape": ""
          }
         },
         "name": "Z",
         "orientation": "v",
         "showlegend": true,
         "textposition": "auto",
         "type": "bar",
         "x": [
          "Z"
         ],
         "xaxis": "x",
         "y": {
          "bdata": "AA==",
          "dtype": "i1"
         },
         "yaxis": "y"
        }
       ],
       "layout": {
        "barmode": "relative",
        "legend": {
         "title": {
          "text": "color"
         },
         "tracegroupgap": 0
        },
        "template": {
         "data": {
          "bar": [
           {
            "error_x": {
             "color": "#2a3f5f"
            },
            "error_y": {
             "color": "#2a3f5f"
            },
            "marker": {
             "line": {
              "color": "#E5ECF6",
              "width": 0.5
             },
             "pattern": {
              "fillmode": "overlay",
              "size": 10,
              "solidity": 0.2
             }
            },
            "type": "bar"
           }
          ],
          "barpolar": [
           {
            "marker": {
             "line": {
              "color": "#E5ECF6",
              "width": 0.5
             },
             "pattern": {
              "fillmode": "overlay",
              "size": 10,
              "solidity": 0.2
             }
            },
            "type": "barpolar"
           }
          ],
          "carpet": [
           {
            "aaxis": {
             "endlinecolor": "#2a3f5f",
             "gridcolor": "white",
             "linecolor": "white",
             "minorgridcolor": "white",
             "startlinecolor": "#2a3f5f"
            },
            "baxis": {
             "endlinecolor": "#2a3f5f",
             "gridcolor": "white",
             "linecolor": "white",
             "minorgridcolor": "white",
             "startlinecolor": "#2a3f5f"
            },
            "type": "carpet"
           }
          ],
          "choropleth": [
           {
            "colorbar": {
             "outlinewidth": 0,
             "ticks": ""
            },
            "type": "choropleth"
           }
          ],
          "contour": [
           {
            "colorbar": {
             "outlinewidth": 0,
             "ticks": ""
            },
            "colorscale": [
             [
              0,
              "#0d0887"
             ],
             [
              0.1111111111111111,
              "#46039f"
             ],
             [
              0.2222222222222222,
              "#7201a8"
             ],
             [
              0.3333333333333333,
              "#9c179e"
             ],
             [
              0.4444444444444444,
              "#bd3786"
             ],
             [
              0.5555555555555556,
              "#d8576b"
             ],
             [
              0.6666666666666666,
              "#ed7953"
             ],
             [
              0.7777777777777778,
              "#fb9f3a"
             ],
             [
              0.8888888888888888,
              "#fdca26"
             ],
             [
              1,
              "#f0f921"
             ]
            ],
            "type": "contour"
           }
          ],
          "contourcarpet": [
           {
            "colorbar": {
             "outlinewidth": 0,
             "ticks": ""
            },
            "type": "contourcarpet"
           }
          ],
          "heatmap": [
           {
            "colorbar": {
             "outlinewidth": 0,
             "ticks": ""
            },
            "colorscale": [
             [
              0,
              "#0d0887"
             ],
             [
              0.1111111111111111,
              "#46039f"
             ],
             [
              0.2222222222222222,
              "#7201a8"
             ],
             [
              0.3333333333333333,
              "#9c179e"
             ],
             [
              0.4444444444444444,
              "#bd3786"
             ],
             [
              0.5555555555555556,
              "#d8576b"
             ],
             [
              0.6666666666666666,
              "#ed7953"
             ],
             [
              0.7777777777777778,
              "#fb9f3a"
             ],
             [
              0.8888888888888888,
              "#fdca26"
             ],
             [
              1,
              "#f0f921"
             ]
            ],
            "type": "heatmap"
           }
          ],
          "histogram": [
           {
            "marker": {
             "pattern": {
              "fillmode": "overlay",
              "size": 10,
              "solidity": 0.2
             }
            },
            "type": "histogram"
           }
          ],
          "histogram2d": [
           {
            "colorbar": {
             "outlinewidth": 0,
             "ticks": ""
            },
            "colorscale": [
             [
              0,
              "#0d0887"
             ],
             [
              0.1111111111111111,
              "#46039f"
             ],
             [
              0.2222222222222222,
              "#7201a8"
             ],
             [
              0.3333333333333333,
              "#9c179e"
             ],
             [
              0.4444444444444444,
              "#bd3786"
             ],
             [
              0.5555555555555556,
              "#d8576b"
             ],
             [
              0.6666666666666666,
              "#ed7953"
             ],
             [
              0.7777777777777778,
              "#fb9f3a"
             ],
             [
              0.8888888888888888,
              "#fdca26"
             ],
             [
              1,
              "#f0f921"
             ]
            ],
            "type": "histogram2d"
           }
          ],
          "histogram2dcontour": [
           {
            "colorbar": {
             "outlinewidth": 0,
             "ticks": ""
            },
            "colorscale": [
             [
              0,
              "#0d0887"
             ],
             [
              0.1111111111111111,
              "#46039f"
             ],
             [
              0.2222222222222222,
              "#7201a8"
             ],
             [
              0.3333333333333333,
              "#9c179e"
             ],
             [
              0.4444444444444444,
              "#bd3786"
             ],
             [
              0.5555555555555556,
              "#d8576b"
             ],
             [
              0.6666666666666666,
              "#ed7953"
             ],
             [
              0.7777777777777778,
              "#fb9f3a"
             ],
             [
              0.8888888888888888,
              "#fdca26"
             ],
             [
              1,
              "#f0f921"
             ]
            ],
            "type": "histogram2dcontour"
           }
          ],
          "mesh3d": [
           {
            "colorbar": {
             "outlinewidth": 0,
             "ticks": ""
            },
            "type": "mesh3d"
           }
          ],
          "parcoords": [
           {
            "line": {
             "colorbar": {
              "outlinewidth": 0,
              "ticks": ""
             }
            },
            "type": "parcoords"
           }
          ],
          "pie": [
           {
            "automargin": true,
            "type": "pie"
           }
          ],
          "scatter": [
           {
            "fillpattern": {
             "fillmode": "overlay",
             "size": 10,
             "solidity": 0.2
            },
            "type": "scatter"
           }
          ],
          "scatter3d": [
           {
            "line": {
             "colorbar": {
              "outlinewidth": 0,
              "ticks": ""
             }
            },
            "marker": {
             "colorbar": {
              "outlinewidth": 0,
              "ticks": ""
             }
            },
            "type": "scatter3d"
           }
          ],
          "scattercarpet": [
           {
            "marker": {
             "colorbar": {
              "outlinewidth": 0,
              "ticks": ""
             }
            },
            "type": "scattercarpet"
           }
          ],
          "scattergeo": [
           {
            "marker": {
             "colorbar": {
              "outlinewidth": 0,
              "ticks": ""
             }
            },
            "type": "scattergeo"
           }
          ],
          "scattergl": [
           {
            "marker": {
             "colorbar": {
              "outlinewidth": 0,
              "ticks": ""
             }
            },
            "type": "scattergl"
           }
          ],
          "scattermap": [
           {
            "marker": {
             "colorbar": {
              "outlinewidth": 0,
              "ticks": ""
             }
            },
            "type": "scattermap"
           }
          ],
          "scattermapbox": [
           {
            "marker": {
             "colorbar": {
              "outlinewidth": 0,
              "ticks": ""
             }
            },
            "type": "scattermapbox"
           }
          ],
          "scatterpolar": [
           {
            "marker": {
             "colorbar": {
              "outlinewidth": 0,
              "ticks": ""
             }
            },
            "type": "scatterpolar"
           }
          ],
          "scatterpolargl": [
           {
            "marker": {
             "colorbar": {
              "outlinewidth": 0,
              "ticks": ""
             }
            },
            "type": "scatterpolargl"
           }
          ],
          "scatterternary": [
           {
            "marker": {
             "colorbar": {
              "outlinewidth": 0,
              "ticks": ""
             }
            },
            "type": "scatterternary"
           }
          ],
          "surface": [
           {
            "colorbar": {
             "outlinewidth": 0,
             "ticks": ""
            },
            "colorscale": [
             [
              0,
              "#0d0887"
             ],
             [
              0.1111111111111111,
              "#46039f"
             ],
             [
              0.2222222222222222,
              "#7201a8"
             ],
             [
              0.3333333333333333,
              "#9c179e"
             ],
             [
              0.4444444444444444,
              "#bd3786"
             ],
             [
              0.5555555555555556,
              "#d8576b"
             ],
             [
              0.6666666666666666,
              "#ed7953"
             ],
             [
              0.7777777777777778,
              "#fb9f3a"
             ],
             [
              0.8888888888888888,
              "#fdca26"
             ],
             [
              1,
              "#f0f921"
             ]
            ],
            "type": "surface"
           }
          ],
          "table": [
           {
            "cells": {
             "fill": {
              "color": "#EBF0F8"
             },
             "line": {
              "color": "white"
             }
            },
            "header": {
             "fill": {
              "color": "#C8D4E3"
             },
             "line": {
              "color": "white"
             }
            },
            "type": "table"
           }
          ]
         },
         "layout": {
          "annotationdefaults": {
           "arrowcolor": "#2a3f5f",
           "arrowhead": 0,
           "arrowwidth": 1
          },
          "autotypenumbers": "strict",
          "coloraxis": {
           "colorbar": {
            "outlinewidth": 0,
            "ticks": ""
           }
          },
          "colorscale": {
           "diverging": [
            [
             0,
             "#8e0152"
            ],
            [
             0.1,
             "#c51b7d"
            ],
            [
             0.2,
             "#de77ae"
            ],
            [
             0.3,
             "#f1b6da"
            ],
            [
             0.4,
             "#fde0ef"
            ],
            [
             0.5,
             "#f7f7f7"
            ],
            [
             0.6,
             "#e6f5d0"
            ],
            [
             0.7,
             "#b8e186"
            ],
            [
             0.8,
             "#7fbc41"
            ],
            [
             0.9,
             "#4d9221"
            ],
            [
             1,
             "#276419"
            ]
           ],
           "sequential": [
            [
             0,
             "#0d0887"
            ],
            [
             0.1111111111111111,
             "#46039f"
            ],
            [
             0.2222222222222222,
             "#7201a8"
            ],
            [
             0.3333333333333333,
             "#9c179e"
            ],
            [
             0.4444444444444444,
             "#bd3786"
            ],
            [
             0.5555555555555556,
             "#d8576b"
            ],
            [
             0.6666666666666666,
             "#ed7953"
            ],
            [
             0.7777777777777778,
             "#fb9f3a"
            ],
            [
             0.8888888888888888,
             "#fdca26"
            ],
            [
             1,
             "#f0f921"
            ]
           ],
           "sequentialminus": [
            [
             0,
             "#0d0887"
            ],
            [
             0.1111111111111111,
             "#46039f"
            ],
            [
             0.2222222222222222,
             "#7201a8"
            ],
            [
             0.3333333333333333,
             "#9c179e"
            ],
            [
             0.4444444444444444,
             "#bd3786"
            ],
            [
             0.5555555555555556,
             "#d8576b"
            ],
            [
             0.6666666666666666,
             "#ed7953"
            ],
            [
             0.7777777777777778,
             "#fb9f3a"
            ],
            [
             0.8888888888888888,
             "#fdca26"
            ],
            [
             1,
             "#f0f921"
            ]
           ]
          },
          "colorway": [
           "#636efa",
           "#EF553B",
           "#00cc96",
           "#ab63fa",
           "#FFA15A",
           "#19d3f3",
           "#FF6692",
           "#B6E880",
           "#FF97FF",
           "#FECB52"
          ],
          "font": {
           "color": "#2a3f5f"
          },
          "geo": {
           "bgcolor": "white",
           "lakecolor": "white",
           "landcolor": "#E5ECF6",
           "showlakes": true,
           "showland": true,
           "subunitcolor": "white"
          },
          "hoverlabel": {
           "align": "left"
          },
          "hovermode": "closest",
          "mapbox": {
           "style": "light"
          },
          "paper_bgcolor": "white",
          "plot_bgcolor": "#E5ECF6",
          "polar": {
           "angularaxis": {
            "gridcolor": "white",
            "linecolor": "white",
            "ticks": ""
           },
           "bgcolor": "#E5ECF6",
           "radialaxis": {
            "gridcolor": "white",
            "linecolor": "white",
            "ticks": ""
           }
          },
          "scene": {
           "xaxis": {
            "backgroundcolor": "#E5ECF6",
            "gridcolor": "white",
            "gridwidth": 2,
            "linecolor": "white",
            "showbackground": true,
            "ticks": "",
            "zerolinecolor": "white"
           },
           "yaxis": {
            "backgroundcolor": "#E5ECF6",
            "gridcolor": "white",
            "gridwidth": 2,
            "linecolor": "white",
            "showbackground": true,
            "ticks": "",
            "zerolinecolor": "white"
           },
           "zaxis": {
            "backgroundcolor": "#E5ECF6",
            "gridcolor": "white",
            "gridwidth": 2,
            "linecolor": "white",
            "showbackground": true,
            "ticks": "",
            "zerolinecolor": "white"
           }
          },
          "shapedefaults": {
           "line": {
            "color": "#2a3f5f"
           }
          },
          "ternary": {
           "aaxis": {
            "gridcolor": "white",
            "linecolor": "white",
            "ticks": ""
           },
           "baxis": {
            "gridcolor": "white",
            "linecolor": "white",
            "ticks": ""
           },
           "bgcolor": "#E5ECF6",
           "caxis": {
            "gridcolor": "white",
            "linecolor": "white",
            "ticks": ""
           }
          },
          "title": {
           "x": 0.05
          },
          "xaxis": {
           "automargin": true,
           "gridcolor": "white",
           "linecolor": "white",
           "ticks": "",
           "title": {
            "standoff": 15
           },
           "zerolinecolor": "white",
           "zerolinewidth": 2
          },
          "yaxis": {
           "automargin": true,
           "gridcolor": "white",
           "linecolor": "white",
           "ticks": "",
           "title": {
            "standoff": 15
           },
           "zerolinecolor": "white",
           "zerolinewidth": 2
          }
         }
        },
        "title": {
         "text": "Total Frequency of Each Letter (A-Z)"
        },
        "xaxis": {
         "anchor": "y",
         "domain": [
          0,
          1
         ],
         "title": {
          "text": "Letter"
         }
        },
        "yaxis": {
         "anchor": "x",
         "domain": [
          0,
          1
         ],
         "title": {
          "text": "Total Count"
         }
        }
       }
      }
     },
     "metadata": {},
     "output_type": "display_data"
    }
   ],
   "source": [
    "letter_columns = [col for col in df.columns if col != 'Label']\n",
    "total_counts = df[letter_columns].sum().sort_values(ascending=False)\n",
    "\n",
    "fig = px.bar(\n",
    "    x=total_counts.index,\n",
    "    y=total_counts.values,\n",
    "    labels={'x': 'Letter', 'y': 'Total Count'},\n",
    "    title='Total Frequency of Each Letter (A-Z)',\n",
    "    color=total_counts.index,\n",
    "    color_discrete_sequence=px.colors.sequential.Viridis\n",
    ")\n",
    "fig.show()"
   ]
  },
  {
   "cell_type": "markdown",
   "metadata": {},
   "source": [
    "###  2. Boxplot of Each Letter Frequency"
   ]
  },
  {
   "cell_type": "code",
   "execution_count": 16,
   "metadata": {},
   "outputs": [
    {
     "data": {
      "application/vnd.plotly.v1+json": {
       "config": {
        "plotlyServerURL": "https://plot.ly"
       },
       "data": [
        {
         "boxpoints": "outliers",
         "name": "A",
         "type": "box",
         "y": {
          "bdata": "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",
          "dtype": "i2"
         }
        },
        {
         "boxpoints": "outliers",
         "name": "B",
         "type": "box",
         "y": {
          "bdata": "AAAAAAAAAAAAAAAAAAAAAAAAAAAAAAAAAAAAAAAAAAAAAAAAAAAAAAAAAAAAAAAAAAAAAAAAAAAAAAAAAAAAAAAAAAAAAAAAAAAAAAAAAAAAAAAAAAAAAAAAAAAAAAAAAAAAAAAAAAAAAAAAAAAAAAAAAAAAAAAAAAAAAAAAAAAAAAAAAAAAAAAAAAAAAAAAAAAAAAAAAAAAAAAAAAAAAAAAAAAAAAAAAAAAAAAAAAAAAAAAAAAAAAAAAAAAAAAAAAAAAAAAAAAAAAAAAAAAAAAAAAAAAAAAAAAAAAAAAAAAAAAAAAAAAAAAAAAAAAAAAAAAAAAAAAAAAAAAAAAAAAAAAAAAAAAAAAAAAAAAAAAAAAAAAAAAAAAAAAAAAAAAAAAAAAAAAAAAAAAAAAAAAAAAAAAAAAAAAAAAAAAAAAAAAAAAAAAAAAAAAAAAAAAAAAAAAAAAAAAAAAAAAAAAAAAAAAAAAAAAAAAAAAAAAAAAAAAAAAAAAAAAAAAAAAAAAAAAAAAAAAAAAAAAAAAAAAAAAAAAAAAAAAAAAAAAAAAAAAAAAAAAAAAAAAAAAAAAAAAAAAAAAAAAAAAAAAAAAAAAAAAAAAAAAAAAAAAAAAAAAAAAAAAAAAAAAAAAAAAAAAAAAAAAAAAAAAAAAAAAAAAAAAAAAAAAAAAAAAAAAAAAAAAAAAAAAAAAAAAAAAAAAAAAAAAAAAAAAAAAAAAAAAAAAAAAAAAAAAAAAAAAAAAAAAAAAAAAAAAAAAAAAAAAAAAAAAAAAAAAAAAAAAAAAAAAAAAAAAAAAAAAAAAAAAAAAAAAAAAAAAAAAAAAAAAAAAAAAAAAAAAAAAAAAAAAAAAAAAAAAAAAAAAAAAAAAAAAAAAAAAAAAAAAAAAAAAAAAAAAAAAAAAAAAAAAAAAAAAAAAAAAAAAAAAAAAAAAAAAAAAAAAAAAAAAAAAAAAAAAAAAAAAAAAAAAAAAAAAAAAAAAAAAAAAAAAAAAAAAAAAAAAAAAAAAAAAAAAAAAAAAAAAAAAAAAAAAAAAAAAAAAAAAAAAAAAAAAAAAAAAAAAAAAAAAAAAAAAAAAAAAAAAAAAAAAAAAAAAAAAAAAAAAAAAAAAAAAAAAAAAAAAAAAAAAAAAAAAAAAAAAAAAAAAAAAAAAAAAAAAAAAAAAAAAAAAAAAAAAAAAAAAAAAAAAAAAAAAAAAAAAAAAAAAAAAAAAAAAAAAAAAAAAAAAAAAAAAAAAAAAAAAAAAAAAAAAAAAAAAAAAAAAAAAAAAAAAAAAAAAAAAAAAAAAAAAAAAAAAAAAAAAAAAAAAAAAAAAAAAAAAAAAAAAAAAAAAAAAAAAAAAAAAAAAAAAAAAAAAAAAAAAAAAAAAAAAAAAAAAAAAAAAAAAAAAAAAAAAAAAAAAAAAAAAAAAAAAAAAAAAAAAAAAAAAAAAAAAAAAAAAAAAAAAAAAAAAAAAAAAAAAAAAAAAAAAAAAAAAAAAAAAAAAAAAAAAAAAAAAAAAAAAAAAAAAAAAAAAAAAAAAAAAAAAAAAAAAAAAAAAAAAAAAAAAAAAAAAAAAAAAAAAAAAAAAAAAAAAAAAAAAAAAAAAAAAAAAAAAAAAAAAAAAAAAAAAAAAAAAAAAAAAAAAAAAAAAAAAAAAAAAAAAAAAAAAAAAAAAAAAAAAAAAAAAAAAAAAAAAAAAAAAAAAAAAAAAAAAAAAAAAAAAAAAAAAAAAAAAAAAAAAAAAAAAAAAAAAAAAAAAAAAAAAAAAAAAAAAAAAAAAAAAAAAAAAAAAAAAAAAAAAAAAAAAAAAAAAAAAAAAAAAAAAAAAAAAAAAAAAAAAAAAAAAAAAAAAAAAAAAAAAAAAAAAAAAAAAAAAAAAAAAAAAAAAAAAAAAAAAAAAAAAAAAAAAAAAAAAAAAAAAAAAAAAAAAAAAAAAAAAAAAAAAAAAAAAAAAAAAAAAAAAAAAAAAAAAAAAAAAAAAAAAAAAAAAAAAAAAAAAAAAAAAAAAAAAAAAAAAAAAAAAAAAAAAAAAAAAAAAAAAAAAAAAAAAAAAAAAAAAAAAAAAAAAAAAAAAAAAAAAAAAAAAAAAAAAAAAAAAAAAAAAAAAAAAAAAAAAAAAAAAAAAAAAAAAAAAAAAAAAAAAAAAAAAAAAAAAAAAAAAAAAAAAAAAAAAAAAAAAAAAAAAAAAAAAAAAAAAAAAAAAAAAAAAAAAAAAAAAAAAAAAAAAAAAAAAAAAAAAAAAAAAAAAAAAAAAAAAAAAAAAAAAAAAAAAAAAAAAAAAAAAAAAAAAAAAAAAAAAAAAAAAAAAAAAAAAAAAAAAAAAAAAAAAAAAAAAAAAAAAAAAAAAAAAAAAAAAAAAAAAAAAAAAAAAAAAAAAAAAAAAAAAAAAAAAAAAAAAAAAAAAAAAAAAAAAAAAAAAAAAAAAAAAAAAAAAAAAAAAAAAAAAAAAAAAAAAAAAAAAAAAAAAAAAAAAAAAAAAAAAAAAAAAAAAAAAAAAAAAAAAAAAAAAAAAAAAAAAAAAAAAAAAAAAAAAAAAAAAAAAAAAAAAAAAAAAAAAAAAAAAAAAAAAAAAAAAAAAAAAAAAAAAAAAAAAAAAAAAAAAAAAAAAAAAAAAAAAAAAAAAAAAAAAAAAAAAAAAAAAAAAAAAAAAAAAAAAAAAAAAAAAAAAAAAAAAAAAAAAAAAAAAAAAAAAAAAAAAAAAAAAAAAAAAAAAAAAAAAAAAAAAAAAAAAAAAAAAAAAAAAAAAAAAAAAAAAAAAAAAAAAAAAAAAAAAAAAAAAAAAAAAAAAAAAAAAAAAAAAAAAAAAAAAAAAAAAAAAAAAAAAAAAAAAAAAAAAAAAAAAAAAAAAAAAAAAAAAAAAAAAAAAAAAAAAAAAAAAAAAAAAAAAAAAAAAAAAAAAAAAAAAAAAAAAAAAAAAAAAAAAAAAAAAAAAAAAAAAAAAAAAAAAAAAAAAAAAAAAAAAAAAAAAAAAAAAAAAAAAAAAAAAAAAAAAAAAAAAAAAAAAAAAAAAAAAAAAAAAAAAAAAAAAAAAAAAAAAAAAAAAAAAAAAAAAAAAAAAAAAAAAAAAAAAAAAAAAAAAAAAAAAAAAAAAAAAAAAAAAAAAAAAAAAAAAAAAAAAAAAAAAAAAAAAAAAAAAAAAAAAAAAAAAAAAAAAAAAAAAAAAAAAAAAAAAAAAAAAAAAAAAAAAAAAAAAAAAAAAAAAAAAAAAAAAAAAAAAAAAAAAAAAAAAAAAAAAAAAAAAAAAAAAAAAAAAAAAAAAAAAAAAAAAAAAAAAAAAAAAAAAAAAAAAAAAAAAAAAAAAAAAAAAAAAAAAAAAAAAAAAAAAAAAAAAAAAAAAAAAAAAAAAAAAAAAAAAAAAAAAAAAAAAAAAAAAAAAAAAAAAAAAAAAAAAAAAAAAAAAAAAAAAAAAAAAAAAAAAAAAAAAAAAAAAAAAAAAAAAAAAAAAAAAAAAAAAAAAAAAAAAAAAAAAAAAAAAAAAAAAAAAAAAAAAAAAAAAAAAAAAAAAAAAAAAAAAAAAAAAAAAAAAAAAAAAAAAAAAAAAAAAAAAAAAAAAAAAAAAAAAAAAAAAAAAAAAAAAAAAAAAAAAAAAAAAAAAAAAAAAAAAAAAAAAAAAAAAAAAAAAAAAAAAAAAAAAAAAAAAAAAAAAAAAAAAAAAAAAAAAAAAAAAAAAAAAAAAAAAAAAAAAAAAAAAAAAAAAAAAAAAAAAAAAAAAAAAAAAAAAAAAAAAAAAAAAAAAAAAAAAAAAAAAAAAAAAAAAAAAAAAAAAAAAAAAAAAAAAAAAAAAAAAAAAAAAAAAAAAAAAAAAAAAAAAAAAAAAAAAAAAAAAAAAAAAAAAAAAAAAAAAAAAAAAAAAAAAAAAAAAAAAAAAAAAAAAAAAAAAAAAAAAAAAAAAAAAAAAAAAAAAAAAAAAAAAAAAAAAAAAAAAAAAAAAAAAAAAAAAAAAAAAAAAAAAAAAAAAAAAAAAAAAAAAAAAAAAAAAAAAAAAAAAAAAAAAAAAAAAAAAAAAAAAAAAAAAAAAAAAAAAAAAAAAAAAAAAAAAAAAAAAAAAAAAAAAAAAAAAAAAAAAAAAAAAAAAAAAAAAAAAAAAAAAAAAAAAAAAAAAAAAAAAAAAAAAAAAAAAAAAAAAAAAAAAAAAAAAAAAAAAAAAAAAAAAAAAAAAAAAAAAAAAAAAAAAAAAAAAAAAAAAAAAAAAAAAAAAAAAAAAAAAAAAAAAAAAAAAAAAAAAAAAAAAAAAAAAAAAAAAAAAAAAAAAAAAAAAAAAAAAAAAAAAAAAAAAAAAAAAAAAAAAAAAAAAAAAAAAAAAAAAAAAAAAAAAAAAAAAAAAAAAAAAAAAAAAAAAAAAAAAAAAAAAAAAAAAAAAAAAAAAAAAAAAAAAAAAAAAAAAAAAAAAAAAAAAAAAAAAAAAAAAAAAAAAAAAAAAAAAAAAAAAAAAAAAAAAAAAAAAAAAAAAAAAAAAAAAAAAAAAAAAAAAAAAAAAAAAAAAAAAAAAAAAAAAAAAAAAAAAAAAAAAAAAAAAAAAAAAAAAAAAAAAAAAAAAAAAAAAAAAAAAAAAAAAAAAAAAAAAAAAAAAAAAAAAAAAAAAAAAAAAAAAAAAAAAAAAAAAAAAAAAAAAAAAAAAAAAAAAAAAAAAAAAAAAAAAAAAAAAAAAAAAAAAAAAAAAAAAAAAAAAAAAAAAAAAAAAAAAAAAAAAAAAAAAAAAAAAAAAAAAAAAAAAAAAAAAAAAAAAAAAAAAAAAAAAAAAAAAAAAAAAAAAAAAAAAAAAAAAAAAAAAAAAAAAAAAAAAAAAAAAAAAAAAAAAAAAAAAAAAAAAAAAAAAAAAAAAAAAAAAAAAAAAAAAAAAAAAAAAAAAAAAAAAAAAAAAAAAAAAAAAAAAAAAAAAAAAAAAAAAAAAAAAAAAAAAAAAAAAAAAAAAAAAAAAAAAAAAAAAAAAAAAAAAAAAAAAAAAAAAAAAAAAAAAAAAAAAAAAAAAAAAAAAAAAAAAAAAAAAAAAAAAAAAAAAAAAAAAAAAAAAAAAAAAAAAAAAAAAAAAAAAAAAAAAAAAAAAAAAAAAAAAAAAAAAAAAAAAAAAAAAAAAAAAAAAAAAAAAAAAAAAAAAAAAAAAAAAAAAAAAAAAAAAAAAAAAAAAAAAAAAAAAAAAAAAAAAAAAAAAAAAAAAAAAAAAAAAAAAAAAAAAAAAAAAAAAAAAAAAAAAAAAAAAAAAAAAAAAAAAAAAAAAAAAAAAAAAAAAAAAAAAAAAAAAAAAAAAAAAAAAAAAAAAAAAAAAAAAAAAAAAAAAAAAAAAAAAAAAAAAAAAAAAAAAAAAAAAAAAAAAAAAAAAAAAAAAAAAAAAAAAAAAAAAAAAAAAAAAAAAAAAAAAAAAAAAAAAAAAAAAAAAAA",
          "dtype": "i1"
         }
        },
        {
         "boxpoints": "outliers",
         "name": "C",
         "type": "box",
         "y": {
          "bdata": "AAAAAAAAAAAAAAAAAAAAAAAAAAAAAAMAAwADAAMAAwADAAMAAwADAAMAAwADAAMAAwADAAMAAwADAAMAAwADAAMAAwADAAMAAwADAAMAAwADAAMAAwADAAMAAwADAAMAAwADAAMAAwADAAMAAwADAAMAAwADAAMAAwADAAMAAwADAAMAAwADAAMAAwADAAMAAwADAAMAAwADAAMAAwADAAMAAwADAAMAAwADAAMAAwADAAMAAwADAAMAAwADAAMAAwADAAMAAwADAAMAAwADAAMAAwADAAMAAwADAAMAAwADAAMAAwADAAMAAwADAAMAAwADAAMAAwADAAMAAwADAAMAAwADAAMAAwADAAMAAwADAAMAAwADAAMAAwADAAMAAwADAAMAAwADAAMAAwADAAMAAwADAAMAAwADAAMAAwADAAMAAwADAAMAAwADAAMAAwADAAMAAwADAAMAAwADAAMAAwADAAMAAwADAAMAAwADAAMAAwADAAMAAwADAAMAAwADAAMAAwADAAMAAwADAAMAAwADAAMAAwADAAMAAwADAAMAAwADAAMAAwADAAMAAwADAAMAAwADAAMAAwADAAMAAwADAAMAAwADAAMAAwADAAMAAwADAAMAAwADAAMAAwADAAMAAwADAAMAAwADAAMAAwADAAMAAwADAAMAAwADAAMAAwADAAMAAwADAAMAAwADAAMAAwADAAMAAwADAAMAAwADAAMAAwADAAMAAwADAAMAAwADAAMAAwADAAMAAwADAAMAAwADAAMAAwADAAMAAwADAAMAAwADAAMAAwADAAMAAwADAAMAAwADAAMAAwADAAMAAwADAAMAAwADAAMAAwADAAMAAwADAAMAAwADAAMAAwADAAMAAwADAAMAAwADAAMAAwADAAMAAwADAAMAAwADAAMAAwADAAMAAwADAAMAAwADAAMAAwADAAMAAwADAAMAAwADAAMAAwADAAMAAwADAAMAAwADAAMAAwADAAMAAwADAAMAAwADAAMAAwADAAMAAwADAAMAAwADAAMAAwADAAMAAwADAAMAAwADAAMAAwADAAMAAwADAAMAAwADAAMAAwADAAMAAwADAAMAAwADAAMAAwADAAMAAwADAAMAAwADAAMAAwADAAMAAwADAAMAAwADAAMAAwADAAMAAwADAAMAAwADAAMAAwADAAMAAwADAAMAAwADAAMAAwADAAMAAwADAAMAAwADAAMAAwADAAMAAwADAAMAAwADAAMAAwADAAMAAwADAAMAAwADAAMAAwADAAMAAwADAAMAAwADAAMAAwADAAQAAwADAAMAAwADAAMAAwADAAMAAwADAAMAAwADAAMAAwADAAMAAwADAAMAAwADAAMAAwADAAMAAwADAAMAAwADAAMAAwADAAMAAwADAAMAAwADAAMAAwADAAMAAwADAAMAAwADAAMAAwADAAMAAwADAAMAAwADAAMAAwADAAMAAwADAAMAAwADAAMAAwADAAMAAwADAAMAAwADAAMAAwADAAMAAwADAAMAAwADAAMAAwADAAMAAwADAAMAAwADAAMAAwADAAMAAwADAAMAAwADAAMAAwADAAMAAwADAAMAAwADAAMAAwADAAMAAwADAAMAAwADAAMAAwADAAMAAwADAAMAAwADAAMAAwADAAMAAwADAAMAAwADAAMAAwADAAMAAwADAAMAAwADAAMAAwADAAMAAwADAAMAAwADAAMAAwADAAMAAwADAAMAAwADAAMAAwADAAMAAwADAAMAAwADAAMAAwADAAMAAwADAAMAAwADAAMABAAEAAQABAAEAAQABAAEAAQABAAAAAAAAAAAAAAAAAAAAAQABAAEAAQABAAEAAQABAAEAAQABAAEAAQABAAEAAQABAAEAAQABAAEAAQABAAEAAQABAAEAAQABAAEAAQABAAEAAQABAAEAAQABAAEAAQABAAEAAQABAAEAAQABAAEAAQABAAEAAQABAAEAAQABAAEAAQABAAEAAQABAAEAAQABAAEAAQABAAEAAQABAAEAAQABAAEAAQABAAEAAQABAAEAAQABAAEAAQABAAEAAQABAAEAAQABAAEAAQABAAEAAQABAAEAAQABAAEAAQABAAEAAQABAAEAAQABAAEAAQABAAEAAQABAAEAAQABAAEAAQABAAEAAQABAAEAAQABAAEAAQABAAEAAQABAAEAAQABAAEAAQABAAEAAQAAwAEAAQABAAEAAQABAAEAAQABAAEAAQABAAEAAQABAAEAAQABAAEAAQABAAEAAQABAAEAAQABAAEAAQABAAEAAQABAAEAAQABAAEAAQABAAEAAQABAAEAAQABAAEAAQABAAEAAQABAAEAAQABAAEAAQABAAEAAQABAAEAAQABAAEAAQABAAEAAQABAAEAAQABAAEAAQABAAEAAQABAAEAAQABAAEAAQABAAEAAQABAAEAAQABAAEAAQABAAEAAQABAAEAAQABAAEAAQABAAEAAQABAAEAAQABAAEAAQABAAEAAQABAAEAAQABAAEAAQABAAEAAQABAAEAAQABAAEAAQABAAEAAQABAAEAAQABAAEAAQABAAEAAQABAAEAAQABAAEAAQABAAEAAQABAAEAAQABAAEAAQABAAEAAQABAAEAAQABAAEAAQABAAEAAQABAAEAAQABAAEAAQABAAEAAQABAAEAAQABAAEAAQABAAEAAQABAAEAAQABAAEAAQABAAEAAQABAAEAAQABAAEAAQABAAEAAQABAAEAAQABAAEAAQABAAEAAQABAAEAAQABAAEAAQABAAEAAQABAAEAAQABAAEAAQABAAEAAQABAAEAAQABAAEAAQABAAEAAQABAAEAAQABAAEAAQABAAEAAQABAAEAAQABAAEAAQABAAEAAQABAAEAAQABAAEAAQABAAEAAQABAAEAAQABAAEAAQABAAEAAQABAAEAAQABAAEAAQABAAEAAQABAAEAAQABAAEAAQABAAEAAQABAAEAAQABAAEAAQABAAEAAQABAAEAAQABAAEAAQABAAEAAQABAAEAAQABAAEAAQABAAEAAQABAAEAAQABAAEAAQABAAEAAQABAADAAQABAAEAAQABAAEAAQABAAEAAQABAAEAAQABAAEAAQABAAEAAQABAAEAAQABAAEAAQABAAEAAQABAAEAAQABAAEAAQABAAEAAQABAAEAAQABAAEAAQABAAEAAQABAAEAAQABAAEAAQABAAEAAQABAAEAAQABAAEAAQABAAEAAQABAAEAAQABAAEAAQABAAEAAQABAAEAAQABAAEAAQABAAEAAQABAAEAAQABAAEAAQABAAEAAQABAAEAAQABAAEAAQABAAEAAQABAAEAAQABAAEAAQABAAEAAQABAAEAAQABAAEAAQABAAEAAQABAAEAAQABAAEAAQABAAEAAQABAAEAAQABAAEAAQABAAEAAQABAAEAAQABAAEAAQABAAEAAQABAAEAAQABAAEAAQABAAEAAQABAAEAAQABAAEAAQABAAEAAQABAAEAAQABAAEAAQABAAEAAQABAAEAAQABAAEAAQABAAEAAQABAAEAAQABAAEAAQABAAEAAQABAAEAAQABAAEAAQABAAEAAQABAAEAAQABAAEAAQABAAEAAQABAAEAB4AHgAEAAQABAAEAAQABAAEAAQABAAEAAQABAAEAAQABAAEAAQABAAEAAQABAAEAAQABAAEAAQABAAEAAQABAAEAAQABAAEAAQABAAEAAQABAAEAAQABAAEAAQABAAEAAQAAwAEAAQABAAEAAQABAAEAAQABAAEAAQABAAEAAQABAAEAAQABAAEAAQABAAEAAQABAAEAAQABAAEAAQABAAEAAQABAADAAQABAAEAAQABAAEAAQABAAEAAQABAAEAAIABAAEAAQABAAEAAQABAAEAAQABAAEAAQABAAEAAQABAAEAAQABAAEAAQABAAEAAQABAAEAAQABAAEAAQABAAEAAQABAAEAAQABAAEAAQABAAEAAQABAAEAAQABAAEAAQABAAEAAQABAAEAAQABAAEAAQABAAEAAQABAAEAAQABAAEAB4AHgAeAB4AAAADAAcAKACKAOMAKAAoACgAKAAoACgAHwAfAB8AKAAoACgAKAAoAAcAKACKAOIAAQAAAAcAAgAGAAAAAwAHACgAigDjAAEAAAAHAAIABgCLAOMAAQAAAAcAAgAGAAAAAwAHACgAigDjAAEAAAAHAAIABgAAAAMAAQAAAAcAAgAGAAAAAwAHACgAigDiAAEAAAAHAAIABgAAAAMABwAoAAcABgACAAAAAwAHACgAigDiAAEAAAAHAAIABgAAAAMABwAoAIoA4gAGAAAAAwAHACgAigDjAAEAAAAHAAIABgAAAAMABwAoAIoA4gABAAAAAwAHACgAigDiAAEAAAAHAAIABgAAAAMABwAoAIkA4QABAAAABwACACgAigDiAAEAAAAHAAIABgAAAAMAKAAHAIoA4gAAAAAAAAAAAAAAAAAAAAAAAAAAAAAAAAAAAAAAAAAAAAAAAAAAAAAAAAAAAAAAAAAAAAAAAAAAAAAAAAAAAAAAAAAAAAAAAAAAAAAAAAAAAAAAAAAAAAAAAAAAAAAAAAAAAAAAAAAAAAAAAAAAAAAAAAAAAAAAAAAAAAAAAAAAAAAAAAAAAAAAAAAAAAAAAAAAAAAAAAAAAAAAAAAAAAAAAAAAAAAAAAAAAAAAAAAAAAAAAAAAAAAAAAAAAAAAAQAAAAAAAAAAAAAAAAAAAAAAAAAAAAAAAAAAAAAAAAAAAAAAAAAAAAAAAAAAAAAAAAAAAAAAAAAAAAAAAAAAAAAAAAAAAAAAAAAAAAAAAAAAAAAAAAAAAAAAAAAAAAAAAAAAAAAAAAAAAAAAAAAAAAAAAAAAAAAAAAAAAAAAAAAAAAAAAAAAAAAAAAAAAAAAAAAAAAAAAAAAAAAAAAAAAAAAAAAAAAAAAAAAAAAAAAAAAAAAAAAAAAAAAAAAAAAAAAAAAAAAAAAAAAAAAAAAAAAAAAAAAAAAAAAAAAAAAAAAAAAAAAAAAAAAAAAAAAAAAAAAAAAAAAAAAAAAAAAAAAAAAAAAAAAAAAAAAAAAAAAAAAAAAAAAAAAAAAAAAAAAAAAAAAAAAAAAAAAAAAAAAAAAAAAAAAAAAAAAAAAAAAAAAAAAAAAAAAAAAAAAAAAAAAAAAAAAAAAAAAAAAAAAAAAAAAAAAAAAAAAAAAAAAAAAAAAAAAAAAAAAAAAAAAAAAAAAAAAAAAAAAAAAAAAAAAAAAAAAAAAAAAAAAAAAAAAAAAAAAAAAAAAAAAAAAAAAAAAAAAAAAAAAAAAAAAAAAAAAAAAAAAAAAAAAAAAAAAAAAAAAAAAAAAAAAAAAAAAAAAAAAAEAAAAAAAAAAAAAAAAAAAAAAAAAAAAAAAAAAAAAAAAAAAAAAAAAAAAAAAAAAAAAAAAAAAAAAAAAAAAAAAAAAAAAAAAAAAAAAAAAAAAAAAAAAAAAAAAAAAAAAAAAAAAAAAAAAAAAAAAAAAAAAAAAAAAAAAAAAAAAAAAAAAAAAAAAAAAAAAAAAAAAAAAAAAAAAAAAAAAAAAAAAAAAAAAAAAAAAAAAAAAAAAAAAAAAAAAAAAAAAAAAAAAAAAAAAAAAAAAAAAAAAAAAAAAAAAAAAAAAAAAAAAAAAAAAAAAAAAAAAAAAAAAAAAAAAAAAAAAAAAAAAAAAAAAAAAAAAAAAAAAAAAAAAAAAAAAAAAAAAAAAAAAAAAAAAAAAAAAAAAAAAAAAAAAAAAAAAAAAAAAAAAAAAAAAAAAAAAAAAAAAAAAAAAAAAAAAAAAAAAAAAAAAAAAAAAAAAAAAAAAAAAAAAAAAAAAAAAAAAAAAAAAAAAAAAAAAAAAAAAAAAAAAAAAAAAAAAAAAAAAAAAAAAAAAAAAAAAAAAAAAAAAAAAAAAAAAAAAAAAAAAAAAAAAAAAAAAAAAAAAAAAAAAAAAAAAAAAAAAAAAAAAAAAAAAAAAAAAAAAAAAAAAAAAAAAAAAAAAAAAAAAAAAAAAAAAAAAAAAAAAAAAAAAAAAAAAAAAAAAAAAAAAAAAAAAAAAAAAAAAAAAAAAAAAAAAAAAAAAAAAAAAAAAAAAAAAAAAAAAAAAAAAAAAAAAAAAAAAAAEAAAAAAAAAAAAAAAAAAAAAAAAAAAAAAAAAAAAAAAAAAAAAAAAAAAAAAAAAAAAAAAAAAAAAAAAAAAAAAAAAAAAAAAAAAAAAAAAAAAAAAAAAAAAAAAAAAAAAAAAAAAAAAAAAAAAAAAAAAAAAAAAAAAAAAAAAAAAAAAAAAAAAAAAAAAAAAAAAAAAAAAAAAAAAAAAAAAAAAAAAAAAAAAAAAAAAAAAAAAAAAAAAAAAAAAAAAAAAAAAAAAAAAAAAAAAAAAAAAAAAAAAAAAAAAAAAAAAAAAAAAAAAAAAAAAAAAAAAAAAAAAAAAAAAAAAAAAAAAAAAAAAAAAAAAAAAAAAAAAAAAAAAAAAAAAAAAAAAAAAAAAAAAAAAAAAAAAAAAAAAAAAAAAAAAAAAAAAAAAAAAAAAAAAAAAAAAAAAAAAAAAAAAAAAAAAAAAAAAAAAAAAAAAAAAAAAAAAAAAAAAAAAAAAAAAAAAAAAAAAAAAAAAAAAAAAAAAAAAAAAAAAAAAAAAAAAAAAAAAAAAAAAAAAAAAAAAAAAAAAAAAAAAAAAAAAAAAAAAAAAAAAAAAAAAAAAAAAAAAAAAAAAAAAAAAAAAAAAAAAAAAAAAAAAAAAAAAAAAAAAAAAAAAAAAAAAAAAAAAAAAAAAAAAAAAAAAAAAAAAAAAAAAAAAAAAAAAAAAAAAAAAAAAAAAAAAAAAAAAAAAAAAAAAAAAAAAAAAAAAAAAAAAAAAAAAAAAAAAAAAAAAAAAAAAAAAAAAAAAAAAAAAAAAAAAAAAAAAAAAAAAAAAAAAAAAAAAAAAAAAAAAAAAAAAAAAAAAAAAAAAAAAAAAAAAAAAAAAAAAAAAAAAAAAAAAAAAAAAAAAAAAAAAAAAAAAAAAAAAAAAAAAAAAAAAAAAAAAAAAAAAAAAAAAAAAAAAAAAAAAAAAAAAAAAAAAAAAAAAAAAAAAAAAAAAAAAAAAAAAAAAAAAAAAAAAAAAAAAAAAAAAAAAAAAAAAAAAAAAAAAAAAAAAAAAAAAAAAAAAAAAAAAAAAAAAAAAAAAAAAAAAAAAAAAAAAAAAAAAAAAAAAAAAAAAAAAAAAAAAAAAAAAAAAAAAAAAAAAAAAAAAAAAAAAAAAAAAAAAAAAAAAAAAAAAAAAAAAAAAAAAAAAAAAAAAAAAAAAAAAAAAAAAAAAAABAAAAAAAAAAAAAAAAAAAAAAAAAAAAAAAAAAAAAAAAAAAAAAAAAAAAAAAAAAAAAAAAAAAAAAAAAAAAAAAAAAAAAAAAAAAAAAAAAAAAAAAAAAAAAAAAAAAAAAAAAAAAAAAAAAAAAAAAAAAAAAAAAAAAAAAAAAAAAAAAAAAAAAAAAAAAAAAAAAAAAAAAAAAAAAAAAAAAAAAAAAAAAAAAAAAAAAAAAAAAAAAAAAAAAAAAAAAAAAAAAAAAAAAAAAAAAAAAAAAAAAAAAAAAAAAAAAAAAAAAAAAAAAAAAAAAAAAAAAAAAAAAAAAAAAAAAAAAAAAAAAAAAAAAAAAAAAAAAAAAAAAAAAAAAAAAAAAAAAAAAAAAAAAAAAAAAAAAAAAAAAAAAAAAAAAAAAAAAAAAAAAAAAAAAAAAAAAAAAAAAAAAAAAAAAAAAAAAAAAAAAAAAAAAAAAAAAAAAAAAAAAAAAAAAAAAAAAAAAAAAAAAAAAAAAAAAAAAAAAAAAAAAAAAAAAAAAAAAAAAAAAAAAAAAAAAAAAAAAAAAAAAAAAAAAAAAAAAAAAAAAAAAAAAAAAAAAAAAAAAAAAAAAAAAAAAAAAAAAAAAAAAAAAAAAAAAAAAAAAAAAAAAAAAAAAAAB4AHgAeAB4AHgAeAB4AHgAeAB4AHgAeAB4AHgAeAB4AHgAeAB4AHgAeAB4AHgAeAB4AHgAeAB4AHgAeAB0AHQAdAB4AHgAeAB4AHgAeAB4AHgAeAB4AHgAeAB4AHgAeAB4AHgAeAB4AHgAeAB4AHgAeAB4AHgAeAB4AHgAeAB4AHgAeAB4AHgAeAB4AHgAeAB4AHgAeAB4AHgAeAB4AHgAeAB4AHgAeAB4AHgAeAB4AHgAeAB4AHgAeAB4AHgAeAB4AHgAeAB4AHgAeAB4AHgAeAB4AHgAeAB4AHgAeAB4AHgAeAB4AHgAeAB4AHgAeAB4AHgAeAB4AHgAeAB4AHgAeAB4AHgAeAB4AHgAeAB4AKAAoACgAKAAoACgAKAAoACgACAAeAB4AHgAeAB4AHgAfAB8AHwAfACgAKAAoAB4AHgAeAB4AHgAgAB4AIAAgAB8AHwAfAB8AHwAfAB8AHwAIAB4AHgAeAB4AHgAeAB4AHgAeAB4AHgAeAB4AHgAeAB4AHgAeAB4AHgAeAB4AHgAeAB4AHgAeACAAIAAgAB4AHgAeAB8AHwAfAB8AHwAfAB4AHgAeAB4AHgAeACAAIAAgAB8AHwAfAB8AHgAeAB4AHgAeAB4AHgAeAB4AHgAeAB4AHgAeAB4AIAAgACAAHgAeAB4AKAAoACgAKAAoACgAKAAoACgAKAAoACgAHwAfAB8AHwAfAB8AHwAfAB8AKAAAAAAAHgAeAB4AHgAfAB8AHwAeAB4AHgAeAAgAHgAeAB4AHgAeAB4ACAAIAB8AHwAfAB8AHwAfAB8AHwAfAB4AHgAeAB4AHgAeAB4AHwAfAB8AFQAeACgAHgAeAB4AHgAeAB8AHwAfAB4AHgAeAB0AHwAfAB8AHwAfAB8AHgAeAB4AHgAeAB4AAAAoAAgAHgAeAB4AHgAeAB4AHgAeAB4ACAAeAB4AHgAeAB4AHgAeAB4AHgAeAB4AHgAeAB4AHgAeAB4AHgAeAB4AHQAeAB0AHQAeAB4AHgAeAB4AHgAIAB4AHgAeAAgAHgAeAB4AHgAeAB4AHgAeAB4AHgAeAB4AHgAeAB4AHgAeAB4AHgAeAB4AIAAgACgAIAAoACgAKAAoACgAHgAeAB4AHgAeAB4AHgAeAB4AHgAeAB4AHgAIAAgACAAIAB4AHwAfAB8AHwAfAB8AHwAeAB4AHgAgACAAIAAoACgAKAAoACgAKAAeAAgAHgAeAB4ACAAIAAgACAAAAB8AHgAeAB4AHgAeAB0AHQAdAAkACQAJAAkACQAfAB8AHwAeAB4AHgAeAB4AHgAeAB4AHgAeAB4AHgAeAB4AHgAIAAgAHgAeACAAIAAgAB4AHgAeACgAKAAoACgAKAAoACgAKAAoACgAHgAAACgACAAeAB4AHgAeAB4AHgAeAB4AHgAIAB4AHgAeAB4AHgAeAAgACAAIACgAKAAoACgAKAAoACgAKAAeACgAHgAeAB0AHQAdAB8AHwAfAB4AHgAeAB4AHgAeAB0AHQAdAB4AHgAeAB4AHgAeAB4AHgAeACgAKAAoAAgACAAGAB4AHgAeAB8AHwAfAB8AHwAfAB4AHgAeAB4AHgAJAB4AHgAeAB4AIAAgACAAIAAgACAAIAAgACAAIAAgACAAIAAgACAAIAAgACAAHgAeAB4AHgAeAB4ACAAIAB8AHwAfAB8AHwAfAAgACAAdAB0AHQAeAB4AHgAfAB8AHwAeAB4AHgAGAAYAKAAoAB4AKAAeAB4AKAAoACgAHgAeAB4AHgAeAB4AHgAIAAgAHgAeAB4AHgAeAB4AHgAeAB4AHgAeAB4AHgAeAB4AHgAeAB4AHgAeAB4AHwAeAB4AHgAeAB4AHgAeAB4AHgAeAAgAHgAeAB4AHgAeAB4AHgAeAB4AHgAeAB4ABwAeAB4AHgAeAB4AHgAeAAkAHgAeAB4AHgAeAB4ACQAeAB4AHgAfAAoACgAKAB4AHgAeAB4AHgAeAB4AHgAeAB0AHQAdAB0AHQAIAB0ACAAeAB4AHgAdAB0AHQAAAB4AHgAeAAYAHgAeAB0AHQAdAB4AHgAeAB4AHgAeAB4AHgAeAAgACAAeAB4AHgAeAB4AHgAeACgAKAAoAB4AHgAeAB4AHgAeAB4AHgAeAB0AHQAdAAAAHQAdAB0AAAAAAAkACQAeAB4AHgAeAB4AHgAeAB4AHgAeAB4AHgAeAAgACAAeAB4AHgAeAB4AHgAeAB4AHgAeAB4AHgAfABUAHwAfAB8AHwAfAB4AHgAeACgAKAAoACgAKAAoACgAKAAoACgAKAAoACgAKAAoACgAKAAoACgAKAAoAAgACAAIAAYACAAIAAgACAAIAAgACAAIAB4AHAAcABwAHgAeAB4AKAAoACgAHgAeAB4AHgAeAB4AHwAfAB8AHwAfAB4AHgAeACgAKAAoAB8AHwAfAB8AHwAfAB4AHgAeAAgAHgAeAB4AHgAeAB4AHgAeAB4AHgAeAB4AHgAeAB4AHgAeAAgAHgAeAB4AHgAeAB4AHgAeAB4AHgAeAB4AHgAIAAAAHwAfAB8AHgAeAB4AAAAiACIAIgAIAB4AHgAeAAgAAAAeAB4AHgAeAB4AHgAIAAgACAAIAAgACAAIAB4AHgAeAB4ACAAAAAgAHwAfAB8AHgAeAB4AHgAeAB4AHgAfAB8ACAAIAAgAHgAeAB4ACAAIAB4AHgAeAB4AHgAeAAgAHgAeAB4AHwAfAB8A",
          "dtype": "i2"
         }
        },
        {
         "boxpoints": "outliers",
         "name": "D",
         "type": "box",
         "y": {
          "bdata": "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",
          "dtype": "i2"
         }
        },
        {
         "boxpoints": "outliers",
         "name": "E",
         "type": "box",
         "y": {
          "bdata": "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",
          "dtype": "i2"
         }
        },
        {
         "boxpoints": "outliers",
         "name": "F",
         "type": "box",
         "y": {
          "bdata": "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",
          "dtype": "i2"
         }
        },
        {
         "boxpoints": "outliers",
         "name": "G",
         "type": "box",
         "y": {
          "bdata": "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",
          "dtype": "i2"
         }
        },
        {
         "boxpoints": "outliers",
         "name": "H",
         "type": "box",
         "y": {
          "bdata": "AAAAAAAAAAAAAAAAAAAAAAAAAAAAAAAAAAAAAAAAAAAAAAAAAAAAAAAAAAAAAAAAAAAAAAAAAAAAAAAAAAAAAAAAAAAAAAAAAAAAAAAAAAAAAAAAAAAAAAAAAAAAAAAAAAAAAAAAAAAAAAAAAAAAAAAAAAAAAAAAAAAAAAAAAAAAAAAAAAAAAAAAAAAAAAAAAAAAAAAAAAAAAAAAAAAAAAAAAAAAAAAAAAAAAAAAAAAAAAAAAAAAAAAAAAAAAAAAAAAAAAAAAAAAAAAAAAAAAAAAAAAAAAAAAAAAAAAAAAAAAAAAAAAAAAAAAAAAAAAAAAAAAAAAAAAAAAAAAAAAAAAAAAAAAAAAAAAAAAAAAAAAAAAAAAAAAAAAAAAAAAAAAAAAAAAAAAAAAAAAAAAAAAAAAAAAAAAAAAAAAAAAAAAAAAAAAAAAAAAAAAAAAAAAAAAAAAAAAAAAAAAAAAAAAAAAAAAAAAAAAAAAAAAAAAAAAAAAAAAAAAAAAAAAAAAAAAAAAAAAAAAAAAAAAAAAAAAAAAAAAAAAAAAAAAAAAAAAAAAAAAAAAAAAAAAAAAAAAAAAAAAAAAAAAAAAAAAAAAAAAAAAAAAAAAAAAAAAAAAAAAAAAAAAAAAAAAAAAAAAAAAAAAAAAAAAAAAAAAAAAAAAAAAAAAAAAAAAAAAAAAAAAAAAAAAAAAAAAAAAAAAAAAAAAAAAAAAAAAAAAAAAAAAAAAAAAAAAAAAAAAAAAAAAAAAAAAAAAAAAAAAAAAAAAAAAAAAAAAAAAAAAAAAAAAAAAAAAAAAAAAAAAAAAAAAAAAAAAAAAAAAAAAAAAAAAAAAAAAAAAAAAAAAAAAAAAAAAAAAAAAAAAAAAAAAAAAAAAAAAAAAAAAAAAAAAAAAAAAAAAAAAAAAAAAAAAAAAAAAAAAAAAAAAAAAAAAAAAAAAAAAAAAAAAAAAAAAAAAAAAAAAAAAAAAAAAAAAAAAAAAAAAAAAAAAAAAAAAAAAAAAAAAAAAAAAAAAAAAAAAAAAAAAAAAAAAAAAAAAAAAAAAAAAAAAAAAAAAAAAAAAAAAAAAAAAAAAAAAAAAAAAAAAAAAAAAAAAAAAAAAAAAAAAAAAAAAAAAAAAAAAAAAAAAAAAAAAAAAAAAAAAAAAAAAAAAAAAAAAAAAAAAAAAAAAAAAAAAAAAAAAAAAAAAAAAAAAAAAAAAAAAAAAAAAAAAAAAAAAAAAAAAAAAAAAAAAAAAAAAAAAAAAAAAAAAAAAAAAAAAAAAAAAAAAAAAAAAAAAAAAAAAAAAAAAAAAAAAAAAAAAAAAAAAAAAAAAAAAAAAAAAAAAAAAAAAAAAAAAAAAAAAAAAAAAAAAAAAAAAAAAAAAAAAAAAAAAAAAAAAAAAAAAAAAAAAAAAAAAAAAAAAAAAAAAAAAAAAAAAAAAAAAAAAAAAAAAAAAAAAAAAAAAAAAAAAAAAAAAAAAAAAAAAAAAAAAAAAAAAAAAAAAAAAAAAAAAAAAAAAAAAAAAAAAAAAAAAAAAAAAAAAAAAAAAAAAAAAAAAAAAAAAAAAAAAAAAAAAAAAAAAAAAAAAAAAAAAAAAAAAAAAAAAAAAAAAAAAAAAAAAAAAAAAAAAAAAAAAAAAAAAAAAAAAAAAAAAAAAAAAAAAAAAAAAAAAAAAAAAAAAAAAAAAAAAAAAAAAAAAAAAAAAAAAAAAAAAAAAAAAAAAAAAAAAAAAAAAAAAAAAAAAAAAAAAAAAAAAAAAAAAAAAAAAAAAAAAAAAAAAAAAAAAAAAAAAAAAAAAAAAAAAAAAAAAAAAAAAAAAAAAAAAAAAAAAAAABQAFAAUABQAFAAUABAAEAA0ADQAAAAAAAAAAAAAAAAAAAA0ADQAFAAUABQAFAAUABQAFAAUABQAFAAUABQAFAAUABQAFAAUABQAFAAUABAAFAAUABQAFAAUABQAFAAUABQAFAAUABQAFAAUABQAFAAUABQAFAAUABQAFAAUABQAEAAUABQAEAAUABQAFAAUABQAFAAUABQAFAAUABQAFAAUABQAFAAUABQAFAAUABQAFAAUABQAFAAUABQAFAAUABQAFAAUABQAFAAUABQAFAAUABQAFAAUABQAFAAUABQAFAAUABQAFAAUABQAFAAUABQAFAAUABQAFAAUABQAFAAUABQAFAAUABQAFAAUABQAFAAUABQAFAAUABQAFAAUABQAFAAUABQAFAAUABQAFAAUABQAFAAUABQAFAAUABQAFAAUABQAFAAUABQAFAAUABQAFAAUABQAFAAUABQAFAAUABQAFAAUABQAFAAUABQAFAAUABQAFAAUABQAFAAUABQAFAAUABQAFAAUABQAFAAUABQAFAAUABQAFAAUABQAFAAUABQAFAAUABQAFAAUABQAFAAUABQAFAAUABQAFAAUABQAFAAUABQAFAAUABQAFAAUABQAFAAUABQAFAAUABQAFAAUABQAFAAUABQAFAAUABQAFAAUABQAFAAUABQAFAAUABQAFAAUABQAFAAUABQAFAAUABQAFAAUABQAFAAUABQAFAAUABQAFAAUABQAFAAUABQAFAAUABQAFAAUABQAFAAUABQAFAAUABQAFAAUABQAFAAUABQAFAAUABQAFAAUABQAFAAUABQAFAAUABQAFAAUABQAFAAUABQAFAAUABQAFAAUABQAFAAUABQAFAAUABQAFAAUABQAFAAUABQAFAAUABQAFAAUABQAFAAUABQAFAAUABQAFAAUABQAFAAUABQAFAAUABQAFAAUABQAFAAUABQAFAAUABQAFAAUABQAFAAUABQAFAAUABQAEAAQABAAFAAUABQAFAAUABQAFAAUABQAFAAUABAAFAAUABQAFAAUABQAFAAUABQAFAAUABQAFAAUABQAFAAUABQAFAAUABQAFAAUABQAFAAUABQAFAAUABQAFAAUABQAFAAUABQAFAAUABQAFAAUABQAFAAUABQAFAAUABQAFAAUABQAFAAUABQAFAAUABQAFAAUABQAFAAUABQAFAAUABQAFAAUABQAFAAQABQAFAAUABQAFAAQABQAFAAUABQAGAAYABgAGAAYABgAGAAYABgAGAAYABgAGAAYABgAGAAYABgABAAYABgAGAAYABgAGAAYABgAGAAYABgAGAAYABgAGAAYABgAGAAYABgAGAAYABgAGAAYABgAGAAYABgAGAAYABgAGAAYABgAGAAYABgAGAAYABgAGAAYABgAGAAYABgAGAAYABgAGAAYABgAGAAYABgAGAAYABgAGAAYABgAGAAYABgAGAAYABgAGAAYABgAGAAYABgAGAAYABgAGAAYABgAGAAYABgAGAAYABgAGAAYABgAGAAYABgAGAAYABgAGAAYABgAGAAYABgAGAAYABgAGAAYABgAGAAYABgAGAAYABgAGAAYABgAGAAYABgAGAAYABgAGAAYABgAGAAYABgAGAAYABgAGAAYABgAGAAYABgAGAAYABgAGAAYABgAGAAYABgAGAAYABgAGAAYABgAGAAYABgAGAAYABgAGAAYABgAGAAYABgAGAAYABgAGAAYABgAGAAYABgAGAAYABgAGAAYABgAGAAYABgAGAAUABgAGAAYABgAGAAYABgAGAAYABgAGAAYABgAGAAYABgAGAAYABgAGAAYABgAGAAYABgAGABoAGgAGAAYABgAGAAYABgAGAAYABgAGAAYABgAGAAYABgAGAAYABgAGAAYABgAGAAYABgAGAAYABgAGAAYABgAGAAYABgAGAAYABgAGAAYABgAGAAYABgAGAAYABgAGAAYABgAFAAYABgAGAAYABgAGAAYABgAGAAUABQAGAAYABgAFAAYABgAGAAUABgAFAAUABQAFAAUABgAGAAUABgAFAAUABQAFAAUABQAFAAUABQAFAAYABQAFAAUABgAFAAYABgAFAAUABgAGAAYABgAGAAYABQAGAAYABQAGAAYABgAGAAUABQAFAAYABgAFAAYABgAEAAYABgAFAAUABQAFAAYABgAGAAUABgAGAAUABQAFAAUABQAFAAUABQAGAAYABgAGAAYABgAFAAYABgAGAAUABgAGAAYABQAGAAYABQAFABoAFgAWABYAAQAAAAgAEQBLAJEAEwATABMAEwATABMADwAPAA8AEQARABEAEQARAAkAEQBLAJEAAAAEAAQAAgADAAEAAAAIABEASwCRAAAABAAEAAIAAwBKAJAAAAAEAAQAAgADAAEAAAAIABEASwCRAAAABAAEAAIAAwABAAAAAAAEAAQAAgADAAEAAAAJABEASwCRAAAABAAEAAIAAwABAAAACQARAAQAAwACAAEAAAAIABEASwCRAAAABAAEAAIAAwABAAAACQARAEsAkQADAAEAAAAIABEASwCRAAAABAAEAAIAAwABAAAACAARAEsAkQAAAAQAAAAIABEASwCRAAAABAAEAAIAAwABAAAACQARAEoAkAAAAAQABAACABEASwCRAAAABAAEAAIAAwABAAAAEQAJAEsAkQAAAAAAAwADAAMAAwADAAMAAwADAAMAAwADAAMAAwADAAMAAwADAAMAAgADAAMAAwADAAMAAwADAAMAAwADAAMAAwAEAAQABAAEAAQABAAEAAQABAAEAAQABAAEAAQABAAEAAQABAAEAAQABAAEAAQABAAEAAQABAAEAAQABAAEAAQABAAEAAQABAAEAAQABAAEAAQABAAEAAQABAAEAAQABAAEAAQABAAEAAQABAAEAAQABAAEAAQABAAEAAQABAAEAAQABAAEAAQABAAEAAQABAAEAAQABAAEAAQABAAEAAQABAAEAAQABAAEAAQABAAEAAQABAAEAAQABAAEAAQABAAEAAQABAAEAAQABAAEAAQABAAEAAQABAAEAAQABAAEAAQABAAEAAQABAAEAAQABAAEAAQABAAEAAQABAAEAAQABAAEAAQABAAEAAQABAAEAAQABAAEAAQABAAEAAQABAAEAAQABAAEAAQABAAEAAQABAAEAAQABAAEAAQABAAEAAQABAAEAAQABAAEAAQABAADAAQABAAEAAQABAAEAAQABAAEAAQABAAEAAQAAwAEAAQABAAEAAQABAAEAAQABAAEAAQABAAEAAQABAAEAAQABAAEAAQABAAEAAQABAAEAAQABAAEAAQABAAEAAQABAAEAAQABAAEAAQABAAEAAQABAAEAAQABAAEAAQABAAEAAQABAAEAAQABAAEAAQABAAEAAQABAAEAAQABAAEAAQABAAEAAQABAAEAAQABAAEAAQABAAEAAQABAAEAAQABAAEAAQABAAEAAQABAAEAAQABAAEAAQABAAEAAQABAAEAAQABAAEAAQABAAEAAQABAAEAAQABAAEAAQABAAEAAQABAAEAAQABAADAAMAAwADAAMAAwADAAMAAwAEAAQABAAEAAQABAAEAAQABAAEAAQABAAEAAQABAAEAAQABAAEAAQABAAEAAQABAAEAAQABAAEAAQABAAEAAQABAAEAAQABAAEAAQABAAEAAQABAAEAAQABAAEAAUABAAEAAQABAAEAAQABAAEAAQABAAEAAQABAAEAAQABAAEAAQABAAEAAQABAAEAAQABAAEAAQABAAEAAQABAAEAAQABAAEAAQABAAEAAQABAAEAAQABAAEAAQABAAEAAQABAAEAAQABAAEAAQABAAEAAQABAAEAAQABAAEAAQABAAEAAQABAAEAAQABAAEAAQABAAEAAQABAAEAAQABAAEAAQABAAEAAQABAAEAAQABAAEAAQABAAEAAQABAAEAAQABAAEAAQABAAEAAQABAAEAAQABAAEAAQABAAEAAQABAAEAAQABAAEAAQABAAEAAUABAAEAAQABAAEAAQABAAEAAQABAAEAAQABAAEAAQABAAEAAQABAAEAAQABAAEAAQABAAEAAQABAAEAAQABAAEAAQABAAEAAQABAAEAAQABAAEAAQABAAEAAQABAAEAAQABAAEAAQABAAEAAQABAAEAAQABAAEAAQABAAEAAQABAAEAAQABAAEAAQABAAEAAQABAAEAAQABAAEAAQABAAEAAQABAAEAAQABAAEAAQABAAEAAQABAAEAAQABAAEAAQABAAEAAQABAAEAAQABAAEAAQABAAEAAQABAAEAAQABAAEAAQABAAEAAQABAAEAAQABAAEAAQABAAEAAQABAAEAAQABAAEAAQABAAEAAQABAAEAAQABAAEAAQABAAEAAQABAAEAAQABAAEAAQABAAEAAQABAAEAAQABAAEAAQABAAEAAQABAAEAAQABAAEAAQABAAEAAQABAAEAAQABAAEAAQABAAEAAQABAAEAAQABAAEAAQABAAEAAQABAAEAAQABAAEAAQABAAEAAQABAAEAAQABAAEAAQABAAEAAQABAAEAAQABAAEAAQABAAEAAQABAAEAAQABAAEAAQABAAEAAQABAAEAAQABAAEAAQABAAEAAQABAAEAAQABAAEAAQABAAEAAQABAAEAAQABAAEAAQABAAEAAQABAAEAAQABAAEAAQABAAEAAQABAAEAAQABAAEAAQABAAEAAQABAAEAAQABAAEAAQABAAEAAQABAAEAAQABAAEAAQABAAEAAQABAAEAAQABAAEAAQABAAEAAQABAAEAAQABAAEAAQABAAEAAQABAAEAAQABAAEAAQABAAEAAQABAAEAAQABAAEAAQABAAEAAQABAAEAAQABAAEAAQABAAEAAQABAAEAAQABAAEAAQABAAEAAQABAAEAAQABAAEAAQABAAEAAQABAAEAAQABAAEAAQABAAEAAQABAAEAAQABAAEAAQABAAEAAQABAAEAAQABAAEAAQABAAEAAQABAAEAAQABAAEAAQABAAEAAQABAAEAAQABAAEAAQABAAEAAQABAAEAAQABAAEAAQABAAEAAQABAAEAAQABAAEAAQABAAEAAQABAAEAAQABAAEAAQABAAEAAQABAAEAAQABAAEAAQABAAEAAQABAAEAAQABAAEAAQABAAEAAQABAAEAAQABAAEAAQABAAEAAQABAAEAAQABAAEAAQABAAEAAQABAAEAAQABAAEAAQABAAEAAQABAAEAAQABAAEAAQABAAEAAQABAAEAAQABAAEAAQABAAEAAQABAAEAAQABAAEAAQABAAEAAQABAAEAAQABAAEAAQABAAEAAQABAAEAAQABAAEAAQABAAEAAQABAAEAAQABAAEAAQABAAEAAQABAAEAAQABAAEAAQABAAEAAQABAAEAAQABAAEAAQABAAEAAQABAAEAAQABAAEAAQABAAEAAQABAAEAAQABAAEAAQABAAEAAQABAAEAAQABAAEAAQABAAEAAQABAAEAAQABAAEAAQABAAEAAQABAAEAAQABAAEAAQABAAEAAQABAAEAAQABAAEAAQABAAEAAQABAAEAAQABAAEAAQABAAEAAQABAAEAAQABAAEAAQABAAEAAQABAAEAAQABAAEAAQABAAEAAQABAAEAAQABAAEAAQABAAEAAQABAAEAAQABAAEAAQABAAEAAQABAAEAAQABAAEAAQABAAEAAQABAAEAAQABAAEAAQABAAEAAQABAAEAAMABAAEAAQABAAEAAQABAAEAAQABAAEAAQABAADAAQABAAEAAQABAAEAAQABAAEAAQABAAEAAQABAAEAAQABAAEAAQABAAEAAQABAAEAAQABAAEAAQABAAEAAQABAAEAAQABAAEAAQABAAEAAQABAAEAAQABAAEAAQABAAEAAQABAAEAAQABAAEAAQABAAEAAQABAAEAAQABAAEAAQABAAEAAQABAAEAAQABAAEAAQABAAEAAQABAAEAAQABAAEAAQABAAEAAQABAAEAAQABAAEAAQABAAEAAQABAAEAAQABAAEAAQABAAEAAQABAAEAAQABAAEAAQABAAEAAQABAAEAAQABAAEABoAGgAaABoAGgAaABoAGgAaABoAGgAaABoAGgAaABoAGgAaABAAEAAQABAAEAAQABAAEAAQABAAEAAQAA8ADwAPABwAHAAcABIAEgASABIAEgASABIAEgASABIAEgASABIAEgASABoAGgAaABoAGgAaABoAGgAaABoAGgAaABoAGwAbABsAGQAZABkAGQAZABkAGQAZABkAFwAXABcAGwAbABsAGQAZABkAGQAZABkAGgAaABoAGgAaABoAGgAaABoAGgAaABoAGQAZABkAGQAZABkAGQAZABkAGgAaABoAGgAaABsAGgAbABsAGQAZABkAGgAaABoAGgAaABoAGgAaABoAFgAWABYAFgAWABYAEQARABEAEQARABEAEQARABEAAQAaABoAGgARABEAEQAVABUAFQAWABMAEwATABAAEAAQABoAGgAQABoAEAAQABYAFgAWABYAFgAWABQAFwABABoAGgAaABoAGgAaABoAGgAaABoAGgAaABoAGgAaABoAGgAaABoAGgAaABoAGgAaABoAGgAaABAAEAAQABEAEQARAA4ADgAOABcAFwAXABoAGgAaABoAGgAaABAAEAAQABYAFgAWABYAGgAaABoAGgAaABoAGgAaABoAGgAaABoAGgAaABoAEAAQABAAGAAYABgAEwATABMAEwATABMAEwATABMAEwATABMAFgAWABYAFgAWABYAFQAVABUAEQAAAAAAEAAaABoAGgAWABYAFgARABEAEQARAAIAGgAaABoAGgAaABoAAgABABgAGAAYABgAGAAYABgAGAAYABAAEAAQABAAEAAQABAAFgAWABYACQAaABMAGgAaABoAGgAaABoAGgAaABEAEQARABoAFgAWABYAFgAWABYAFgAWABYAEAAQABAABgATAAEAEAAQABAAEAAQABAAEAAQABAAAQARABEAEQARABEAEQARABEAEQAZABkAGQAaABoAGgAaABoAGgAaABoADwAaAA8ADwAQABAAEAAWABYAFgADABwAHAAcAAMAHAAcABwAHAAcABwAHAAcABwAGgAZABkAGQAZABkAGQAZABoAGgAaABoADwAPABMADwATABMAEwATABMAEQARABEAEQAaABoAGgAaABoAGgAaABoAGgABAAEAAQAHABoAGgAaABoAGgAaABoAGgAcABwAHAAPAA8ADwATABMAEwATABMAEwARAAEAGgAaABoABwAHAAcABwAAABoAHAAcABwAEQARABoAGgAaAAcABwAHAAcABwAWABYAFgAaABoAGgAaABoAGgAaABoAGgAaABoAGgAaABoAGgABAAEAGgAaABAAEAAQABgAGAAYABMAEwATABMAEwATABMAEwATABMAEAAGABMAAQAQABAAEAAQABAAEAAQABAAEAABABEAEQARABEAEQARAAEAAQAHABIAEgASABIAEgASABMAEwARABMAEQARABoAGgAaABYAFgAWABoAGgAaABoAGgAaABoAGgAaABoAGgAaABgAGAAYABgAGAAYABgAGAAYAAcABwAGABoAGgAaABoAGgAaABoAGgAaABkAGQAaABoAGgACABwAEAAQABAADwAPAA8ADwAPAA8ADwAPAA8AFgAWAA8AFgAPAA8ADwAPAA8AEQARABEAEQARABEAAQABABYAFgAWABoAGgAaAAcABwAPAA8ADwAbABsAGwAaABoAGgAaABoAGgAGAAYAEwATABEAEwARABEAFAAUABQAFgAWABYAGwAbABsAEAABAAIAGAAYABgAGAAYABgAGgAaABoAFwAXABcAFwAXABcAFwAXABcAFwAXABcAFwAXABEAEQARABEAEQARABEAEQARAAcAEAAQABAAGgAaABoAGAAYABgAGAAYABgAAQAaABoAGgAaABoAGgAaAAcAEQARABEAEQARABEABwAQABAAEAAWAAcABwAHABgAGAAYABoAGgAaABoAGgAaAA8ADwAPAA8ADwAHAA8ABwAOAA4ADgAQABAAEAAAABsAGwAbAAYAGgAaABoAGgAaABoAGgAaABgAGAAYABYAFgAWAAcABwARABEAEQARABEAEQARABQAFAAUABEAEQARABEAEQARABEAEQARAA8ADwAPAAAAEAAQABAAAAAAAAEAAQAQABAAEAAQABoAGgAQABAAEAAaABAAEAAQAAEAAQAYABgAGAAaABoAGgAaABoAGgAaABoAGgAWAAkAFgAWABYAFgAWABoAGgAaABIAEgASABEAEQARABAAEAAQABIAEgASABIAEgASABEAEQARABEAEQARAAcABwAHAAEAAQABAAEAAQABAAEAAQABABYADwAPAA8AGwAbABsAEwATABMADwAPAA8AFgAWABYAFQAVABYAFgAWABcAFwAXABEAEQARABgAGAAYABgAGAAYABAAEAAQAAcAGgAaABoAGwAbABsAGQAZABkAGQAZABsAGwAbABoAGgAaAAEAGgAaABoAGgAXABcAFwAXABcAFwAXABcAFwABAAAAGAAYABgAGgAaABoAAAAYABgAGAACABoAGgAaAAEAAQAbABsAGwAbABsAGwAHAAcABwAHAAcABwAHABoAGQAZABkAAQABAAEADwAPAA8AFgAWABYAGgAaABoAGgAWABYABwAHAAcAFwAXABcABwAHABEAEQARABgAGAAYAAEAGgAaABoAFgAWABYA",
          "dtype": "i2"
         }
        },
        {
         "boxpoints": "outliers",
         "name": "I",
         "type": "box",
         "y": {
          "bdata": "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",
          "dtype": "i2"
         }
        },
        {
         "boxpoints": "outliers",
         "name": "J",
         "type": "box",
         "y": {
          "bdata": "AAAAAAAAAAAAAAAAAAAAAAAAAAAAAAAAAAAAAAAAAAAAAAAAAAAAAAAAAAAAAAAAAAAAAAAAAAAAAAAAAAAAAAAAAAAAAAAAAAAAAAAAAAAAAAAAAAAAAAAAAAAAAAAAAAAAAAAAAAAAAAAAAAAAAAAAAAAAAAAAAAAAAAAAAAAAAAAAAAAAAAAAAAAAAAAAAAAAAAAAAAAAAAAAAAAAAAAAAAAAAAAAAAAAAAAAAAAAAAAAAAAAAAAAAAAAAAAAAAAAAAAAAAAAAAAAAAAAAAAAAAAAAAAAAAAAAAAAAAAAAAAAAAAAAAAAAAAAAAAAAAAAAAAAAAAAAAAAAAAAAAAAAAAAAAAAAAAAAAAAAAAAAAAAAAAAAAAAAAAAAAAAAAAAAAAAAAAAAAAAAAAAAAAAAAAAAAAAAAAAAAAAAAAAAAAAAAAAAAAAAAAAAAAAAAAAAAAAAAAAAAAAAAAAAAAAAAAAAAAAAAAAAAAAAAAAAAAAAAAAAAAAAAAAAAAAAAAAAAAAAAAAAAAAAAAAAAAAAAAAAAAAAAAAAAAAAAAAAAAAAAAAAAAAAAAAAAAAAAAAAAAAAAAAAAAAAAAAAAAAAAAAAAAAAAAAAAAAAAAAAAAAAAAAAAAAAAAAAAAAAAAAAAAAAAAAAAAAAAAAAAAAAAAAAAAAAAAAAAAAAAAAAAAAAAAAAAAAAAAAAAAAAAAAAAAAAAAAAAAAAAAAAAAAAAAAAAAAAAAAAAAAAAAAAAAAAAAAAAAAAAAAAAAAAAAAAAAAAAAAAAAAAAAAAAAAAAAAAAAAAAAAAAAAAAAAAAAAAAAAAAAAAAAAAAAAAAAAAAAAAAAAAAAAAAAAAAAAAAAAAAAAAAAAAAAAAAAAAAAAAAAAAAAAAAAAAAAAAAAAAAAAAAAAAAAAAAAAAAAAAAAAAAAAAAAAAAAAAAAAAAAAAAAAAAAAAAAAAAAAAAAAAAAAAAAAAAAAAAAAAAAAAAAAAAAAAAAAAAAAAAAAAAAAAAAAAAAAAAAAAAAAAAAAAAAAAAAAAAAAAAAAAAAAAAAAAAAAAAAAAAAAAAAAAAAAAAAAAAAAAAAAAAAAAAAAAAAAAAAAAAAAAAAAAAAAAAAAAAAAAAAAAAAAAAAAAAAAAAAAAAAAAAAAAAAAAAAAAAAAAAAAAAAAAAAAAAAAAAAAAAAAAAAAAAAAAAAAAAAAAAAAAAAAAAAAAAAAAAAAAAAAAAAAAAAAAAAAAAAAAAAAAAAAAAAAAAAAAAAAAAAAAAAAAAAAAAAAAAAAAAAAAAAAAAAAAAAAAAAAAAAAAAAAAAAAAAAAAAAAAAAAAAAAAAAAAAAAAAAAAAAAAAAAAAAAAAAAAAAAAAAAAAAAAAAAAAAAAAAAAAAAAAAAAAAAAAAAAAAAAAAAAAAAAAAAAAAAAAAAAAAAAAAAAAAAAAAAAAAAAAAAAAAAAAAAAAAAAAAAAAAAAAAAAAAAAAAAAAAAAAAAAAAAAAAAAAAAAAAAAAAAAAAAAAAAAAAAAAAAAAAAAAAAAAAAAAAAAAAAAAAAAAAAAAAAAAAAAAAAAAAAAAAAAAAAAAAAAAAAAAAAAAAAAAAAAAAAAAAAAAAAAAAAAAAAAAAAAAAAAAAAAAAAAAAAAAAAAAAAAAAAAAAAAAAAAAAAAAAAAAAAAAAAAAAAAAAAAAAAAAAAAAAAAAAAAAAAAAAAAAAAAAAAAAAAAAAAAAAAAAAAAAAAAAAAAAAAAAAAAAAAAAAAAAAAAAAAAAAAAAAAAAAAAAAAAAAAAAAAAAAAAAAAAAAAAAAAAAAAAAAAAAAAAAAAAAAAAAAAAAAAAAAAAAAAAAAAAAAAAAAAAAAAAAAAAAAAAAAAAAAAAAAAAAAAAAAAAAAAAAAAAAAAAAAAAAAAAAAAAAAAAAAAAAAAAAAAAAAAAAAAAAAAAAAAAAAAAAAAAAAAAAAAAAAAAAAAAAAAAAAAAAAAAAAAAAAAAAAAAAAAAAAAAAAAAAAAAAAAAAAAAAAAAAAAAAAAAAAAAAAAAAAAAAAAAAAAAAAAAAAAAAAAAAAAAAAAAAAAAAAAAAAAAAAAAAAAAAAAAAAAAAAAAAAAAAAAAAAAAAAAAAAAAAAAAAAAAAAAAAAAAAAAAAAAAAAAAAAAAAAAAAAAAAAAAAAAAAAAAAAAAAAAAAAAAAAAAAAAAAAAAAAAAAAAAAAAAAAAAAAAAAAAAAAAAAAAAAAAAAAAAAAAAAAAAAAAAAAAAAAAAAAAAAAAAAAAAAAAAAAAAAAAAAAAAAAAAAAAAAAAAAAAAAAAAAAAAAAAAAAAAAAAAAAAAAAAAAAAAAAAAAAAAAAAAAAAAAAAAAAAAAAAAAAAAAAAAAAAAAAAAAAAAAAAAAAAAAAAAAAAAAAAAAAAAAAAAAAAAAAAAAAAAAAAAAAAAAAAAAAAAAAAAAAAAAAAAAAAAAAAAAAAAAAAAAAAAAAAAAAAAAAAAAAAAAAAAAAAAAAAAAAAAAAAAAAAAAAAAAAAAAAAAAAAAAAAAAAAAAAAAAAAAAAAAAAAAAAAAAAAAAAAAAAAAAAAAAAAAAAAAAAAAAAAAAAAAAAAAAAAAAAAAAAAAAAAAAAAAAAAAAAAAAAAAAAAAAAAAAAAAAAAAAAAAAAAAAAAAAAAAAAAAAAAAAAAAAAAAAAAAAAAAAAAAAAAAAAAAAAAAAAAAAAAAAAAAAAAAAAAAAAAAAAAAAAAAAAAAAAAAAAAAAAAAAAAAAAAAAAAAAAAAAAAAAAAAAAAAAAAAAAAAAAAAAAAAAAAAAAAAAAAAAAAAAAAAAAAAAAAAAAAAAAAAAAAAAAAAAAAAAAAAAAAAAAAAAAAAAAAAAAAAAAAAAAAAAAAAAAAAAAAAAAAAAAAAAAAAAAAAAAAAAAAAAAAAAAAAAAAAAAAAAAAAAAAAAAAAAAAAAAAAAAAAAAAAAAAAAAAAAAAAAAAAAAAAAAAAAAAAAAAAAAAAAAAAAAAAAAAAAAAAAAAAAAAAAAAAAAAAAAAAAAAAAAAAAAAAAAAAAAAAAAAAAAAAAAAAAAAAAAAAAAAAAAAAAAAAAAAAAAAAAAAAAAAAAAAAAAAAAAAAAAAAAAAAAAAAAAAAAAAAAAAAAAAAAAAAAAAAAAAAAAAAAAAAAAAAAAAAAAAAAAAAAAAAAAAAAAAAAAAAAAAAAAAAAAAAAAAAAAAAAAAAAAAAAAAAAAAAAAAAAAAAAAAAAAAAAAAAAAAAAAAAAAAAAAAAAAAAAAAAAAAAAAAAAAAAAAAAAAAAAAAAAAAAAAAAAAAAAAAAAAAAAAAAAAAAAAAAAAAAAAAAAAAAAAAAAAAAAAAAAAAAAAAAAAAAAAAAAAAAAAAAAAAAAAAAAAAAAAAAAAAAAAAAAAAAAAAAAAAAAAAAAAAAAAAAAAAAAAAAAAAAAAAAAAAAAAAAAAAAAAAAAAAAAAAAAAAAAAAAAAAAAAAAAAAAAAAAAAAAAAAAAAAAAAAAAAAAAAAAAAAAAAAAAAAAAAAAAAAAAAAAAAAAAAAAAAAAAAAAAAAAAAAAAAAAAAAAAAAAAAAAAAAAAAAAAAAAAAAAAAAAAAAAAAAAAAAAAAAAAAAAAAAAAAAAAAAAAAAAAAAAAAAAAAAAAAAAAAAAAAAAAAAAAAAAAAAAAAAAAAAAAAAAAAAAAAAAAAAAAAAAAAAAAAAAAAAAAAAAAAAAAAAAAAAAAAAAAAAAAAAAAAAAAAAAAAAAAAAAAAAAAAAAAAAAAAAAAAAAAAAAAAAAAAAAAAAAAAAAAAAAAAAAAAAAAAAAAAAAAAAAAAAAAAAAAAAAAAAAAAAAAAAAAAAAAAAAAAAAAAAAAAAAAAAAAAAAAAAAAAAAAAAAAAAAAAAAAAAAAAAAAAAAAAAAAAAAAAAAAAAAAAAAAAAAAAAAAAAAAAAAAAAAAAAAAAAAAAAAAAAAAAAAAAAAAAAAAAAAAAAAAAAAAAAAAAAAAAAAAAAAAAAAAAAAAAAAAAAAAAAAAAAAAAAAAAAAAAAAAAAAAAAAAAAAAAAAAAAAAAAAAAAAAAAAAAAAAAAAAAAAAAAAAAAAAAAAAAAAAAAAAAAAAAAAAAAAAAAAAAAAAAAAAAAAAAAAAAAAAAAAAAAAAAAAAAAAAAAAAAAAAAAAAAAAAAAAAAAAAAAAAAAAAAAAAAAAAAAAAAAAAAAAAAAAAAAAAAAAAAAAAAAAAAAAAAAAAAAAAAAAAAAAAAAAAAAAAAAAAAAAAAAAAAAAAAAAAAAAAAAAAAAAAAAAAAAAAAAAAAAAAAAAAAAAAAAAAAAAAAAAAAAAAAAAAAAAAAAAAAAAAAAAAAAAAAAAAAAAAAAAAAAAAAAAAAAAAAAAAAAAAAAAAAAAAAAAAAAAAAAAAAAAAAAAAAAAAAAAAAAAAAAAAAAAAAAAAAAAAAAAAAAAAAAAAAAAAAAAAAAAAAAAAAAAAAAAAAAAAAAAAAAAAAAAAAAAAAAAAAAAAAAAAAAAAAAAAAAAAAAAAAAAAAAAAAAAAAAAAAAAAAAAAAAAAAAAAAAAAAAAAAAAAAAAAAAAAAAAAAAAAAAAAAAAAAAAAAAAAAAAAAAAAAAAAAAAAAAAAAAAAAAAAAAAAAAAAAAAAAAAAAAAAAAAAAAAAAAAAAAAAAAAAAAAAAAAAAAAAAAAAAAAAAAAAAAAAAAAAAAAAAAAAAAAAAAAAAAAAAAAAAAAAAAAAAAAAAAAAAAAAAAAAAAAAAAAAAAAAAAAAAAAAAAAAAAAAAAAAAAAAAAAAAAAAAAAAAAAAAAAAAAAAAAAAAAAAAAAAAAAAAAAAAAAAAAAAAAAAAAAAAAAAAAAAAAAAAAAAAAAAAAAAAAAAAAAAAAAAAAAAAAAAAAAAAAAAAAAAAAAAAAAAAAAAAAAAAAAAAAAAAAAAAAAAAAAAAAAAAAAAAAAAAAAAAAAAAAAAAAAAAAAAAAAAAAAAAAAAAAAAAAAAAAAAAAAAAAAAAAAAAAAAAAAAAAAAAAAAAAAAAAAAAAAAAAAAAAAAAAAAAAAAAAAAAAAAAAAAAAAAAAAAAAAAAAAAAAAAAAAAAAAAAAAAAAAAAAAAAAAAAAAAAAAAAAAAAAAAAAAAAAAAAAAAAAAAAAAAAAAAAAAAAAAAAAAAAAAAAAAAAAAAAAAAAAAAAAAAAAAAAAAAAAAAAAAAAAAAAAAAAAAAAAAAAAAAAAAAAAAAAAAAAAAAAAAAAAAAAAAAAAAAAAAAAAAAAAAAAAAAAAAAAAAAAAAAAAAAAAAAAAAAAAAAAAAAAAAAAAAAAAAAAAAAAAAAAAAAAAAAAAAAAAAAAAAAAAAAAAAAAAAAAAAAAAAAAAAAAAAAAAAAAAAAAAAAAAAAAAAAAAAAAA",
          "dtype": "i1"
         }
        },
        {
         "boxpoints": "outliers",
         "name": "K",
         "type": "box",
         "y": {
          "bdata": "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",
          "dtype": "i2"
         }
        },
        {
         "boxpoints": "outliers",
         "name": "L",
         "type": "box",
         "y": {
          "bdata": "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",
          "dtype": "i2"
         }
        },
        {
         "boxpoints": "outliers",
         "name": "M",
         "type": "box",
         "y": {
          "bdata": "AAAAAAAAAAAAAAAAAAAAAAAAAAAAAAEAAQABAAEAAQABAAEAAQABAAEAAQABAAEAAQABAAEAAQABAAEAAQABAAEAAQABAAEAAQABAAEAAQABAAEAAQABAAEAAQABAAEAAQABAAEAAQABAAEAAQABAAEAAQABAAEAAQABAAEAAQABAAEAAQABAAEAAQABAAEAAQABAAEAAQABAAEAAQABAAEAAQABAAEAAQABAAEAAQABAAEAAQABAAEAAQABAAEAAQABAAEAAQABAAEAAQABAAEAAQABAAEAAQABAAEAAQABAAEAAQABAAEAAQABAAEAAQABAAEAAQABAAEAAQABAAEAAQABAAEAAQABAAEAAQABAAEAAQABAAEAAQABAAEAAQABAAEAAQABAAEAAQABAAEAAQABAAEAAQABAAEAAQABAAEAAQABAAEAAQABAAEAAQABAAEAAQABAAEAAQABAAEAAQABAAEAAQABAAEAAQABAAEAAQABAAEAAQABAAEAAQABAAEAAQABAAEAAQABAAEAAQABAAEAAQABAAEAAQABAAEAAQABAAEAAQABAAEAAQABAAEAAQABAAEAAQABAAEAAQABAAEAAQABAAEAAQABAAEAAQABAAEAAQABAAEAAQABAAEAAQABAAEAAQABAAEAAQABAAEAAQABAAEAAQABAAEAAQABAAEAAQABAAEAAQABAAEAAQABAAEAAQABAAEAAQABAAEAAQABAAEAAQABAAEAAQABAAEAAQABAAEAAQABAAEAAQABAAEAAQABAAEAAQABAAEAAQABAAEAAQABAAEAAQABAAEAAQABAAEAAQABAAEAAQABAAEAAQABAAEAAQABAAEAAQABAAEAAQABAAEAAQABAAEAAQABAAEAAQABAAEAAQABAAEAAQABAAEAAQABAAEAAQABAAEAAQABAAEAAQABAAEAAQABAAEAAQABAAEAAQABAAEAAQABAAEAAQABAAEAAQABAAEAAQABAAEAAQABAAEAAQABAAEAAQABAAEAAQABAAEAAQABAAEAAQABAAEAAQABAAEAAQABAAEAAQABAAEAAQABAAEAAQABAAEAAQABAAEAAQABAAEAAQABAAEAAQABAAEAAQABAAEAAQABAAEAAQABAAEAAQABAAEAAQABAAEAAQABAAEAAQABAAEAAQABAAEAAQABAAEAAQABAAEAAQABAAEAAQABAAEAAQABAAEAAQABAAEAAQABAAEAAQABAAEAAQABAAEAAQABAAEAAQABAAEAAQABAAEAAQABAAEAAQABAAEAAQABAAEAAQABAAEAAQABAAEAAQABAAEAAQABAAEAAQABAAEAAQABAAEAAQABAAEAAQABAAEAAQABAAEAAQABAAEAAQABAAEAAQABAAEAAQABAAEAAQABAAEAAQABAAEAAQABAAEAAQABAAEAAQABAAEAAQABAAEAAQABAAEAAQABAAEAAQABAAEAAQABAAEAAQABAAEAAQABAAEAAQABAAEAAQABAAEAAQABAAEAAQABAAEAAQABAAEAAQABAAEAAQABAAEAAQABAAEAAQABAAEAAQABAAEAAQABAAEAAQABAAEAAQABAAEAAQABAAEAAQABAAEAAQABAAEAAQABAAEAAQABAAEAAQABAAEAAQABAAEAAQABAAEAAQABAAEAAQABAAEAAQABAAEAAQABAAEAAQABAAEAAQABAAEAAQABAAEAAQABAAEAAQABAAEAAQABAAEAAQABAAEAAQABAAEAAQABAAEAAQABAAEAAQABAAEAAQABAAEAAQABAAEABAAEAAQABAAEAAQAAwADAAUABQAAAAAAAAAAAAAAAAAAAAUABQAEAAQABAAEAAQABAAEAAQABAAEAAQABAAEAAQABAAEAAQABAAEAAQABAAEAAQABAAEAAQABAAEAAQABAAEAAQABAAEAAQABAAEAAQABAAEAAQABAAEAAQABAAEAAQABAAEAAQABAAEAAQABAAEAAQABAAEAAQABAAEAAQABAAEAAQABAAEAAQABAAEAAQABAAEAAQABAAEAAQABAAEAAQABAAEAAQABAAEAAQABAAEAAQABAAEAAQABAAEAAQABAAEAAMABAAEAAQABAAEAAQABAAEAAQABAAEAAQABAAEAAQABAAEAAQABAAEAAQABAAEAAQABAAEAAQABAAEAAQABAAEAAQABAAEAAQABAAEAAQABAAEAAQABAAEAAQABAAEAAQABAAEAAQABAAEAAQABAAEAAQABAAEAAQABAAEAAQABAAEAAQABAAEAAQABAAEAAQABAAEAAQABAAEAAQABAAEAAQABAAEAAQABAAEAAQABAAEAAQABAAEAAQABAAEAAQABAAEAAQABAAEAAQABAAEAAQABAAEAAQABAAEAAQABAAEAAQABAAEAAQABAAEAAQABAAEAAQABAAEAAQABAAEAAQABAAEAAQABAAEAAQABAAEAAQABAAEAAQABAAEAAQABAAEAAQABAAEAAQABAAEAAQABAAEAAQABAAEAAQABAAEAAQABAAEAAQABAAEAAQABAAEAAQABAAEAAQABAAEAAQABAAEAAQABAAEAAQABAAEAAQABAAEAAQABAAEAAQABAAEAAQABAAEAAQABAAEAAQABAAEAAQABAAEAAQABAAEAAQABAAEAAQABAAEAAQABAAEAAQABAAEAAQABAAEAAQABAAEAAQABAAEAAQABAAEAAQABAAEAAQABAAEAAQABAAEAAQABAAEAAQABAAEAAQABAAEAAQABAAEAAQABAAEAAQABAAEAAQABAAEAAQABAAEAAQABAAEAAQABAAEAAQABAAEAAQABAAEAAQABAAEAAQABAAEAAQABAAEAAQABAAEAAQABAAEAAQABAAEAAQABAAEAAQABAAEAAQABAAEAAQABAAEAAQABAAEAAQABAAEAAQABAAEAAQABAAEAAQABAAEAAQABAAEAAQABAAEAAQABAAEAAQABAAEAAQABAAEAAQABAAEAAQABAAEAAQABAAEAAQABAAEAAQABAAEAAQABAAEAAQABAAEAAQABAAEAAQABAAEAAQABAAEAAQABAAEAAQABAADAAQABAAEAAQABAAEAAQABAAEAAQABAAEAAQABAAEAAQABAAEAAQABAAEAAQABAAEAAQABAAEAAQABAAEAAQABAAEAAQABAAEAAQABAAEAAQABAAEAAQABAAEAAQABAAEAAQABAAEAAQABAAEAAQABAAEAAQABAAEAAQABAAEAAQABAAEAAQABAAEAAQABAAEAAQABAAEAAQABAAEAAQABAAEAAQABAAEAAQABAAEAAQABAAEAAQABAAEAAQABAAEAAQABAAEAAQABAAEAAQABAAEAAQABAAEAAQABAAEAAQABAAEAAQABAAEAAQABAAEAAQABAAEAAQABAAEAAQABAAEAAQABAAEAAQABAAEAAQABAAEAAQABAAEAAQABAAEAAQABAAEAAQABAAEAAQABAAEAAQABAAEAAQABAAEAAQABAAEAAQABAAEAAQABAAEAAQABAAEAAQABAAEAAQABAAEAAQABAAEAAQABAAEAAQABAAEAAQABAAEAAQABAAEAAQABAAEAAQABAAEAAQABAAEAAQABAAEAAQABAAEAAQABAAEAAsACwAEAAQABAAEAAQABAAEAAQABAAEAAQABAAEAAQABAAEAAQABAAEAAQABAAEAAQABAAEAAQABAAEAAQABAAEAAQABAAEAAQABAAEAAQABAAEAAQABAAEAAQABAAEAAQAAwAEAAQABAAEAAQABAAEAAQABAAEAAQABAAEAAQABAADAAQABAADAAQABAAEAAQABAAEAAQABAAEAAQABAAEAAQABAADAAQABAAEAAQABAAEAAQABAAEAAQABAAEAAIABAAEAAQABAAEAAQABAAEAAQABAAEAAQABAAEAAQABAAEAAQABAAEAAQABAAEAAQABAAEAAQABAAEAAQABAAEAAQABAAEAAQABAAEAAQABAAEAAQABAAEAAQABAAEAAQABAAEAAQABAAEAAQABAAEAAQABAAEAAQABAAEAAQABAAEAAsACwALAAsAAwABAAQADgBoAKcADgAOAA4ADgAOAA4ADgAOAA4ADgAOAA4ADgAOAAQADgBpAKgAAgAHAAEAAgABAAMAAQAEAA4AaACnAAIABwABAAIAAQBoAKcAAgAHAAEAAgABAAMAAQAEAA4AaACnAAIABwABAAIAAQADAAEAAgAHAAEAAgABAAMAAQAEAA4AaQCoAAIABwABAAIAAQADAAEABAAPAAEAAQACAAMAAQAEAA4AaQCoAAIABwABAAIAAQADAAEABAAOAGkAqAABAAMAAQAEAA4AaACnAAIABwABAAIAAQADAAEABAAOAGkAqAACAAcAAQAEAA4AaQCoAAIABwABAAIAAQADAAEABAAPAGgApwACAAcAAQACAA4AaQCoAAIABwABAAIAAQADAAEADgAEAGkAqAAAAAAABAAEAAQABAAEAAQABAAEAAQABAAEAAQABAAEAAQABAAEAAQABAAEAAQABAAEAAQABAAEAAQABAAEAAQABAAHAAcABgAHAAcABwAHAAcABwAHAAcABwAHAAcABwAHAAcABwAHAAcABwAHAAcABwAHAAcABwAHAAcABwAHAAcABwAHAAcABwAHAAcABwAHAAcABwAHAAcABwAHAAcABwAHAAcABwAHAAcABwAHAAcABwAHAAcABwAHAAcABwAHAAcABwAHAAcABwAHAAcABwAHAAcABwAHAAcABwAHAAcABwAHAAcABwAHAAcABwAHAAcABwAHAAcABwAHAAcABwAHAAcABwAHAAcABwAHAAcABwAHAAcABwAHAAcABwAHAAcABwAHAAcABwAHAAcABwAHAAcABwAHAAcABwAHAAcABwAHAAcABwAHAAcABwAHAAcABwAHAAcABwAHAAcABwAHAAcABwAHAAcABwAHAAcABwAHAAcABwAHAAcABwAHAAcABwAHAAcABwAHAAcABwAHAAcABwAHAAcABwAHAAcABwAHAAcABwAHAAcABwAHAAcABwAHAAcABwAHAAcABwAHAAcABwAHAAcABwAHAAcABwAHAAcABwAHAAcABwAHAAcABwAHAAcABwAHAAcABwAHAAcABwAHAAcABwAHAAcABwAHAAcABwAHAAcABwAHAAcABwAHAAcABwAHAAcABwAHAAcABwAHAAcABwAHAAcABwAHAAcABwAHAAcABwAHAAcABwAHAAcABwAHAAcABwAHAAcABwAHAAcABwAHAAcABwAHAAcABwAHAAcABwAHAAcABwAHAAcABwAHAAcABwAHAAcABwAHAAcABwAHAAcABwAHAAcABwAEAAQABAAFAAUABAAEAAQABAAHAAcABwAHAAcABwAHAAcABwAHAAcABwAHAAcABwAHAAcABwAHAAcABwAHAAcABwAHAAcABwAHAAcABwAHAAcABwAHAAcABwAHAAcABwAHAAcABwAHAAcABwAHAAcABwAHAAcABwAHAAcABwAHAAcABwAHAAcABwAHAAcABwAHAAcABwAHAAcABwAHAAcABwAHAAcABwAHAAcABwAHAAcABwAHAAcABwAHAAcABwAHAAcABwAHAAcABwAHAAcABwAHAAcABwAHAAcABwAHAAcABwAHAAYABwAHAAcABwAHAAcABwAHAAcABwAHAAcABwAHAAcABwAHAAcABwAHAAcABwAHAAcABwAHAAcABwAHAAcABwAHAAcABwAHAAcABwAHAAcABwAHAAcABwAHAAcABwAHAAcABwAHAAcABwAHAAcABwAHAAcABwAHAAcABwAHAAcABwAHAAcABwAHAAcABwAHAAcABwAHAAcABwAHAAcABwAHAAcABwAHAAcABwAHAAcABwAHAAcABwAHAAcABwAHAAcABwAHAAcABwAHAAcABwAHAAcABwAHAAcABwAHAAcABwAHAAcABwAHAAcABwAHAAcABwAHAAcABwAHAAcABwAHAAcABwAHAAcABwAHAAcABwAHAAcABwAHAAcABwAHAAcABwAHAAcABwAHAAcABwAHAAcABwAHAAcABwAHAAcABwAHAAcABwAHAAcABwAHAAcABwAHAAcABwAHAAcABwAHAAcABwAHAAcABwAHAAcABwAHAAcABwAHAAcABwAHAAcABwAHAAcABwAHAAcABwAHAAcABgAHAAcABwAHAAcABwAHAAcABwAHAAcABwAHAAcABwAHAAcABwAHAAcABwAHAAcABwAHAAcABwAHAAcABwAHAAcABwAHAAcABwAHAAcABwAHAAcABwAHAAcABwAHAAcABwAHAAcABwAHAAcABwAHAAcABwAHAAcABwAHAAcABwAHAAcABwAHAAcABwAHAAcABwAHAAcABwAHAAcABwAHAAcABwAHAAcABwAHAAcABwAHAAcABwAHAAcABwAHAAcABwAHAAcABwAHAAcABwAHAAcABwAHAAcABwAHAAcABwAHAAcABwAHAAcABwAHAAcABwAHAAcABwAHAAcABwAHAAcABwAHAAcABwAHAAcABwAHAAcABwAHAAcABwAHAAcABwAHAAcABwAHAAcABwAHAAcABwAHAAcABwAHAAcABwAHAAcABwAHAAcABwAHAAcABwAHAAcABwAHAAcABwAHAAcABwAHAAcABwAHAAcABwAHAAcABwAHAAcABwAHAAcABwAHAAcABwAHAAcABwAHAAcABwAHAAcABwAHAAcABwAHAAcABwAHAAcABwAHAAcABwAHAAcABwAHAAcABwAHAAcABwAHAAcABwAHAAcABwAHAAcABwAHAAcABwAHAAcABwAHAAcABwAHAAcABwAHAAcABwAHAAcABwAHAAcABwAHAAcABwAHAAcABwAHAAcABwAHAAcABwAHAAcABwAHAAcABwAHAAcABwAHAAcABwAHAAcABwAHAAcABwAHAAcABwAHAAcABwAHAAcABwAHAAcABwAHAAcABwAHAAcABwAHAAcABwAHAAcABwAHAAcABwAHAAcABwAHAAcABwAHAAcABwAHAAcABwAHAAcABwAHAAcABwAHAAcABwAHAAcABwAHAAcABwAHAAcABwAHAAcABwAHAAcABwAHAAcABwAGAAcABwAHAAcABwAHAAcABwAHAAcABwAHAAcABwAHAAcABwAHAAcABwAHAAcABwAHAAcABwAHAAcABwAHAAcABwAHAAcABwAHAAcABwAHAAcABwAHAAcABwAHAAcABwAHAAcABwAHAAcABwAHAAcABwAHAAcABwAHAAcABwAHAAcABwAHAAcABwAHAAcABwAHAAcABwAHAAcABwAHAAcABwAHAAcABwAHAAcABwAHAAcABwAHAAcABwAHAAcABwAHAAcABwAHAAcABwAHAAcABwAHAAcABwAHAAcABwAHAAcABwAHAAcABwAHAAcABwAHAAcABwAHAAcABwAHAAcABwAHAAcABwAHAAcABwAHAAcABwAHAAcABwAHAAcABwAHAAcABwAHAAcABwAHAAcABwAHAAcABwAHAAcABwAHAAcABwAHAAcABwAHAAcABwAHAAcABwAHAAcABwAHAAcABwAHAAcABwAHAAcABwAHAAcABwAHAAcABwAHAAcABwAHAAcABwAHAAcABwAHAAcABwAHAAcABwAHAAcABwAHAAcABwAHAAcABwAHAAcABwAHAAcABwAHAAcABwAHAAcABwAHAAcABwAHAAcABwAHAAcABwAHAAcABwAHAAcABwAHAAcABwAHAAcABwAHAAcABwAHAAcABwAHAAcABwAHAAcABwAHAAcABwAHAAcABwAHAAcABwAHAAcABwAHAAcABwAHAAcABwAHAAcABwAHAAcABwAHAAcABwAHAAcABwAHAAcABwAHAAcABwAHAAcABwAHAAoACgAKAAoACgAKAAoACgAKAAoACgAKAAoACgAKAAoACgAKAAsACwALAAsACwALAAsACwALAAsACwALAAoACgAKAAsACwALAAsACwALAAsACwALAAsACwALAAsACwALAAsACwALAAsACwALAAsACwALAAsACwALAAsACwALAAsACwALAAsACwALAAsACwALAAsACwALAAsACgAKAAoACwALAAsACwALAAsACwALAAsACwALAAsACwALAAsACwALAAsACwALAAsACwALAAsACwALAAsACwALAAsACwALAAsACwALAAsACwALAAsACwALAAsACwALAAsACwALAAsACwALAAsACgAKAAoACgAKAAoADgAOAA4ADgAOAA4ADgAOAA4AAAALAAsACwALAAsACwAOAA4ADgAOAA4ADgAOAAsACwALAAsACwALAAsACwALAA4ADgAOAA4ADgAOAA4ADgAAAAsACwALAAsACwALAAsACwALAAsACwALAAsACwALAAsACwALAAsACwALAAsACwALAAsACwALAAsACwALAAsACwALAA4ADgAOAA4ADgAOAAsACwALAAsACwALAAsACwALAA4ADgAOAA4ACwALAAsACwALAAsACwALAAsACwALAAsACwALAAsACwALAAsACwALAAsADgAOAA4ADgAOAA4ADgAOAA4ADgAOAA4ADgAOAA4ADgAOAA4ADgAOAA4ADgAAAAAACwALAAsACwAOAA4ADgALAAsACwALAAAACwALAAsACwALAAsAAAAAAA0ADQANAA0ADQANAA0ADQANAAsACwALAAsACwALAAsADgAOAA4ABgALAA4ACwALAAsACwALAAsACwALAAsACwALAAoADgAOAA4ADgAOAA4ACwALAAsACwALAAsAAQAOAAAACwALAAsACwALAAsACwALAAsAAAALAAsACwALAAsACwALAAsACwALAAsACwALAAsACwALAAsACwALAAsACgALAAoACgALAAsACwALAAsACwAAAAsACwALAAAACwALAAsACwALAAsACwALAAsACwALAAsACwALAAsACwALAAsACwALAAsACgAKAA4ACgAOAA4ADgAOAA4ACwALAAsACwALAAsACwALAAsACwALAAsACwAAAAAAAAAAAAsACwALAAsACwALAAsACwALAAsACwAKAAoACgAPAA8ADwAOAA4ADgALAAAACwALAAsAAAAAAAAAAAAAAAsACwALAAsACwALAAoACgAKAAAAAAAAAAAAAAAOAA4ADgALAAsACwALAAsACwALAAsACwALAAsACwALAAsACwAAAAAACwALAAsACwALAAsACwALAA4ADgAOAA4ADgAOAA4ADgAOAA4ACwABAA4AAAALAAsACwALAAsACwALAAsACwAAAAsACwALAAsACwALAAAAAAAAAA4ADgAOAA4ADgAOAA4ADgALAA4ACwALAAoACgAKAA4ADgAOAAsACwALAAsACwALAAoACgAKAAsACwALAAoACgAKAAoACgAKAA0ADQANAAAAAAADAAsACwALAAsACwALAAsACwALAAsACwALAAsACwAAAAsACwALAAsACgAKAAoACgAKAAoACgAKAAoACgAKAAoACgAKAAoACgAKAAoACwALAAsACwALAAsAAAAAAA4ADgAOAAoACgAKAAAAAAAKAAoACgALAAsACwANAA0ADQALAAsACwADAAMADgAOAAwADgAMAAwADgAOAA4ACgAKAAoACwALAAsACwAAAAAADAAMAAwADAAMAAwACwALAAsACwALAAsACwALAAsACwALAAsACwALAAsADAALAAwADAAMAAwADAAMAAwADAAMAAAACwALAAsACwALAAsACwALAAsADAAMAAwAAAALAAsACwALAAsACwALAAAADAAMAAwADAAMAAwAAAALAAsACwAOAAkACQAJAAwADAAMAAsACwALAAsACwALAAoACgAKAAoACgAAAAoAAAALAAsACwALAAsACwAAAAsACwALAAIACwALAAoACgAKAAsACwALAAoACgAKAAoACgAKAAAAAAAMAAwADAAMAAwADAAMAA4ADgAOAAwADAAMAAwADAAMAAwADAAMAAoACgAKAAAACwALAAsAAAAAAAAAAAALAAsACwALAAsACwALAAsACwALAAoACgAKAAAAAAAMAAwADAALAAsACwALAAsACwALAAsACwAOAAYADgAOAA4ADgAOAAsACwALAA4ADgAOAA4ADgAOAA4ADgAOAA4ADgAOAA4ADgAOAA4ADgAOAA4ADgAOAAAAAAAAAAAAAAAAAAAAAAAAAAAAAAAAAAsACgAKAAoACwALAAsADgAOAA4ACwALAAsACwALAAsADgAOAA0ADQANAAoACgAKAA4ADgAOAAsACwALAAsACwALAAsACwALAAAACwALAAsACwALAAsACwALAAsACwALAAsACwALAAsACwALAAAACwALAAsACwAKAAoACgAKAAoACgAKAAoACgAAAAAACwALAAsACwALAAsAAAAUABQAFAAAAAoACgAKAAAAAAALAAsACwALAAsACwAAAAAAAAAAAAAAAAAAAAsACwALAAsAAAAAAAAADgAOAA4ACwALAAsACwALAAsACwAOAA4AAAAAAAAACwALAAsAAAAAAAsACwALAAsACwALAAAACwALAAsADgAOAA4A",
          "dtype": "i2"
         }
        },
        {
         "boxpoints": "outliers",
         "name": "N",
         "type": "box",
         "y": {
          "bdata": "AQABAAEAAQABAAEAAgABAAEAAQABAAUABQAFAAUABQAFAAUABQAFAAUABQAFAAUABQAFAAUABQAFAAUABQAFAAUABQAFAAUABQAFAAUABQAFAAUABQAFAAUABQAFAAUABQAFAAUABQAFAAUABQAFAAUABQAFAAUABQAFAAUABQAFAAUABQAFAAUABQAFAAUABQAFAAUABQAFAAUABQAFAAUABQAFAAUABQAFAAUABQAFAAUABQAFAAUABQAFAAUABQAFAAUABQAFAAUABQAFAAUABQAFAAUABQAFAAUABQAFAAUABQAFAAUABQAFAAUABQAFAAUABQAFAAUABQAFAAUABQAFAAUABQAFAAUABQAFAAUABQAFAAUABQAFAAUABQAFAAUABQAFAAUABQAFAAUABQAFAAUABQAFAAUABQAFAAUABQAFAAUABQAFAAUABQAFAAUABQAFAAUABQAFAAUABQAFAAUABQAFAAUABQAFAAUABQAFAAUABQAFAAUABQAFAAUABQAFAAUABQAFAAUABQAFAAUABQAFAAUABQAFAAUABQAFAAUABQAFAAUABQAFAAUABQAFAAUABQAFAAUABQAFAAUABQAFAAUABQAFAAUABQAFAAUABQAFAAUABQAFAAUABQAFAAUABQAFAAUABQAFAAUABQAFAAUABQAFAAUABQAFAAUABQAFAAUABQAFAAUABQAFAAUABQAFAAUABQAFAAUABQAFAAUABQAFAAUABQAFAAUABQAFAAUABQAFAAUABQAFAAUABQAFAAUABQAFAAUABQAFAAUABQAFAAUABQAFAAUABQAFAAUABQAFAAUABQAFAAUABQAFAAUABQAFAAUABQAFAAUABQAFAAUABQAFAAUABQAFAAUABQAFAAUABQAFAAUABQAFAAUABQAFAAUABQAFAAUABQAFAAUABQAFAAUABQAFAAUABQAFAAUABQAFAAUABQAFAAUABQAFAAUABQAFAAUABQAFAAUABQAFAAUABQAFAAUABQAFAAUABQAFAAUABQAFAAUABQAFAAUABQAFAAUABQAFAAUABQAFAAUABQAFAAUABQAFAAUABQAFAAUABQAFAAUABQAFAAUABQAFAAUABQAFAAUABQAFAAUABQAFAAUABQAFAAUABQAFAAUABQAFAAUABQAFAAUABQAFAAUABQAFAAUABQAFAAUABQAFAAUABQAFAAUABQAFAAUABQAFAAUABQAFAAUABQAFAAUABQAFAAUABQAFAAUABQAFAAUABQAFAAUABQAFAAUABQAFAAUABQAFAAUABQAFAAUABQAFAAUABQAFAAUABQAFAAUABQAFAAUABQAFAAUABQAFAAUABQAFAAUABQAFAAUABQAFAAUABQAFAAUABQAFAAUABQAFAAUABQAFAAUABQAFAAUABQAFAAUABQAFAAUABQAFAAUABQAFAAUABQAFAAUABQAFAAUABQAFAAUABQAFAAUABQAFAAUABQAFAAUABQAFAAUABQAFAAUABQAFAAUABQAFAAUABQAFAAUABQAFAAUABQAFAAUABQAFAAUABQAFAAUABQAFAAUABQAFAAUABQAFAAUABQAFAAUABQAFAAUABQAFAAUABQAFAAUABQAFAAUABQAFAAUABQAFAAUABQAFAAUABQAFAAUABQAFAAUABQAFAAUABQAFAAUABQAFAAUABQAFAAUABQAFAAUABQAFAAUABQAFAAUABQAFAAUABQAFAAUABQAFAAUABQAFAAUABQAFAAUABQAFAAUABQAFAAUABQAFAAUABQAFAAUADAAMAAwADAAMAAwACAAIAAwADAACAAIAAQABAAEAAQABAAwADAALAAsACwALAAsACwALAAsACwALAAsACwALAAsACwALAAsACwALAAsACwALAAsACwALAAsACwALAAsACwALAAsACwALAAsACwALAAsACwALAAsACwALAAsACwALAAsACwALAAsACwALAAsACwALAAsACwALAAsACwALAAsACwALAAsACwALAAsACwALAAsACwALAAsACwALAAsACwALAAsACwALAAsACwALAAsACwALAAsACwALAAsACwALAAsACwALAAsACwALAAsACwALAAsACwALAAsACwALAAsACwALAAsACwALAAsACwALAAsACwALAAsACwALAAsACwALAAsACwALAAsACwALAAsACwALAAsACwALAAsACwALAAsACwALAAsACwALAAsACwALAAsACwALAAsACwALAAsACwALAAsACwALAAsACwALAAsACwALAAsACwALAAsACwALAAsACwALAAsACwALAAsACwALAAsACwALAAsACwALAAsACwALAAsACwALAAsACwALAAsACwALAAsACwALAAsACwALAAsACwALAAsACwALAAsACwALAAsACwALAAsACwALAAsACwALAAsACwALAAsACwALAAsACwALAAsACwALAAsACwALAAsACwALAAsACwALAAsACwALAAsACwALAAsACwALAAsACwALAAsACwALAAsACwALAAsACwALAAsACwALAAsACwALAAsACwALAAsACwALAAsACwALAAsACwALAAsACwALAAsACwALAAsACwALAAsACwALAAsACwALAAsACwALAAsACwALAAsACwALAAsACwALAAsACwALAAsACwALAAsACwALAAsACwALAAsACwALAAsACwALAAsACwALAAsACwALAAsACwALAAsACwALAAsACwALAAsACwALAAsACwALAAsACwALAAsACwALAAsACwALAAsACwALAAsACwALAAsACwALAAsACwALAAsACwALAAsACwALAAsACwALAAsACwALAAsACwALAAsACwALAAsACwALAAsACwALAAsACwALAAsACwALAAsACwALAAsACwALAAsACwALAAsACwALAAsACwALAAsACwALAAsACwALAAsACwALAAsACwALAAsACwALAAsACwALAAsACwALAAsACwALAAsACwALAAsACwALAAsACwALAAsACwALAAsACwALAAsACwALAAsACwALAAsACwALAAsACwALAAsACwAFAAsACwALAAsACwALAAsACwALAAsACwALAAsACwALAAsACwALAAsACwALAAsACwALAAsACwALAAsACwALAAsACwALAAsACwALAAsACwALAAsACwALAAsACwALAAsACwALAAsACwALAAsACwALAAsACwALAAsACwALAAsACwALAAsACwALAAsACwALAAsACwALAAsACwALAAsACwALAAsACwALAAsACwALAAsACwALAAsACwALAAsACwALAAsACwALAAsACwALAAsACwALAAsACwALAAsACwALAAsACwALAAsACwALAAsACwALAAsACwALAAsACwALAAsACwALAAsACwALAAsACwALAAsACwALAAsACwALAAsACwALAAsACwALAAsACwALAAsACwALAAsACwALAAsACwALAAsACwALAAsACwALAAsACwALAAsACwALAAsACwALAAsACwALAAsACwALAAsACwALAAsACwALAAsACwALAAsACwALAAsACwALAAsACwALAAsACwALAAsACwALAAsACwALAAsACwALAAsACwALAFgAWAALAAsACwALAAsACwALAAsACwALAAsACwALAAsACwALAAsACwALAAsACwALAAsACwALAAsACwALAAsACwALAAsACwALAAsACwALAAsACwALAAsACwALAAsACwALAAsACwALAAsACwALAAsACwALAAsACwALAAsACwALAAsACwAKAAsACwAKAAsACwALAAsACwALAAsACwALAAsACwALAAsACwAJAAsACwALAAsACwALAAsACwAKAAsACwALAAkACwALAAsACwALAAsACwALAAsACwALAAsACwALAAsACwALAAsACwALAAsACwALAAsACwALAAsACwALAAsACwALAAsACwALAAsACwALAAsACwALAAsACwALAAsACwALAAsACwALAAsACwALAAsACwALAAsACwALAAsACwALAAsACwALAFgAWABYAFgABAAFAAgAWADpAIABWABYAFgAWABYAFgAUgBSAFIAWABYAFgAWABYAAgAWADpAIABBQAWAAIAAQACAAQABQAIAFgA6QCAAQUAFgACAAEAAgDpAIABBQAWAAIAAQACAAQABQAIAFgA6QCAAQUAFgACAAEAAgAEAAUABQAWAAIAAQACAAQABQAIAFgA6QCAAQUAFgACAAEAAgAEAAQACABYAAIAAgABAAQABQAIAFgA6QCAAQUAFgACAAEAAgAEAAUACABYAOkAgAECAAQABQAIAFgA6QCAAQUAFgACAAEAAgAEAAUACABYAOkAgAEFABYABQAIAFcA6QCAAQUAFgACAAEAAgAEAAUACABWAOkAgAEFABYAAgABAFgA6QCAAQUAFgACAAEAAgAEAAUAWAAIAOkAgAEAAAAADQAOAA0ADQANAA0ADQANAA0ADQAOAA0ADQANAA0ADQANAA0ADQANAA0ADQANAA0ADQANAA0ADQANAA0ADQAWABYAFgAWABYAFgAWABYAFgAWABYAFgAWABYAFgAWABYAFgAWABYAFgAWABYAFgAWABYAFgAWABYAFgAWABYAFQAWABYAFgAWABYAFgAWABYAFgAWABYAFgAWABYAFgAWABYAFgAWABYAFgAWABYAFgAWABYAFgAWABYAFgAWABYAFwAWABYAFgAWABYAFgAWABYAFgAWABYAFgAWABYAFgAWABYAFgAWABYAFgAWABYAFgAWABYAFgAWABYAFgAWABYAFgAWABYAFgAWABYAFgAWABYAFgAWABYAFgAWABYAFgAWABYAFgAWABYAFgAWABYAFgAWABYAFgAWABYAFgAWABYAFgAWABYAFgAWABYAFgAWABYAFgAWABYAFgAWABYAFgAWABYAFgAWABYAFgAWABYAFgAWABYAFgAWABYAFgAWABYAFgAWABYAFgAWABYAFgAWABYAFgAWABYAFgAWABYAFgAWABYAFgAWABYAFgAWABYAFgAWABYAFgAWABYAFgAWABYAFgAWABYAFgAWABYAFgAWABYAFgAWABYAFgAWABYAFgAWABYAFgAWABYAFgAWABYAFgAWABYAFgAWABYAFgAWABYAFgAWABYAFgAWABYAFgAWABYAFgAWABYAFgAWABYAFgAWABYAFgAWABYAFgAWABYAFgAWABYAFgAWABYAFgAWABYAFgAWABYAFgAWABYAFgAWABYAFgAWABYAFgAWABYAFgAXABYAFgAWABYAFgAWABYAFgAWABYAFgAWABYAFgAWABYAFgAWABYAFQANAA0ADQANAA4ADQANAA0ADAAWABYAFgAWABYAFgAWABYAFgAWABYAFgAWABYAFgAWABYAFgAWABYAFgAXABYAFgAWABYAFgAWABYAFgAWABYAFgAWABYAFgAWABYAFgAWABYAFgAWABYAFgAWABYAFgAWABYAFgAWABYAFgAWABYAFgAWABYAFgAWABYAFgAWABYAFgAWABYAFgAWABcAFgAWABYAFgAWABYAFgAWABYAFgAWABYAFgAWABYAFgAWABYAFgAWABYAFgAWABYAFgAWABYAFgAWABYAFgAWABYAFgAWABYAFgAWABYAFgAWABYAFgAWABYAFgAWABYAFgAWABYAFgAWABYAFgAWABYAFgAWABYAFgAWABYAFgAWABYAFgAWABYAFgAWABYAFgAWABYAFgAWABYAFgAWABYAFgAWABYAFgAWABYAFgAWABYAFgAWABYAFgAWABYAFgAWABYAFgAWABYAFgAWABYAFgAWABYAFgAWABYAFgAWABYAFgAWABYAFgAWABYAFgAWABYAFgAWABYAFgAWABYAFgAWABYAFgAWABYAFgAWABYAFgAWABYAFgAWABYAFgAWABYAFgAWABYAFgAWABYAFgAWABYAFgAWABYAFgAWABYAFgAWABYAFgAWABYAFgAWABYAFgAWABYAFgAWABYAFgAWABYAFgAWABYAFgAWABYAFgAWABYAFgAWABYAFgAWABYAFgAWABYAFgAWABYAFgAWABYAFgAWABYAFgAWABYAFgAWABYAFgAWABYAFgAWABYAFgAWABYAFgAWABYAFgAWABYAFgAWABYAFgAWABYAFgAWABYAEwAWABYAFgAWABYAFgAWABYAFgAVABYAFgAWABYAFgAWABYAFgAWABYAFgAUABYAFgAVABYAFgAWABYAFgAWABYAFgAWABYAFgAWABYAFgAWABYAFgAWABYAFgAWABYAFgAWABYAFgAWABYAFgAWABYAFgAWABYAFgAWABYAFgAWABYAFgAWABYAFgAWABYAFgAWABYAFgAWABYAFgAWABYAFgAWABYAFgAWABYAFgAWABYAFgAWABYAFgAWABYAFgAWABYAFgAWABYAFgAWABYAFgAWABYAFgAWABYAFgAWABYAFgAWABYAFgAWABYAFgAWABYAFgAWABYAFgAWABYAFgAWABYAFgAWABYAFgAWABYAFgAWABYAFQAWABYAFgAWABYAFgAWABYAFgAWABYAFgAWABYAFgAWABYAFgAWABYAFgAWABYAFgAWABYAFgAWABUAFgAWABYAFgAWABYAFgAWABYAFgAWABYAFgAWABYAFgAWABYAFgAWABYAFgAWABYAFgAWABYAFgAWABYAFgAWABYAFgAWABYAFgAWABYAFgAWABYAFgAWABYAFgAWABYAFgAWABYAFgAWABYAFgAWABYAFgAWABYAFgAWABYAFgAWABYAFgAWABYAFgAWABYAFgAWABYAFgAWABYAFgAWABYAFgAWABYAFgAWABYAFgAWABYAFgAWABYAFgAWABYAFgAWABYAFgAWABYAFgAWABYAFgAWABYAFgAWABYAFgAWABYAFgAWABYAFgAWABYAFgAWABYAFgAWABYAFgAWABYAFgAWABYAFgAWABYAFgAWABYAFgAWABYAFgAWABYAFgAWABYAFgAWABYAFgAWABYAFgAWABYAFgAWABYAFgAWABYAFgAWABYAFgAWABYAFgAWABYAFgAWABYAFgAWABYAFgAWABYAFgAWABYAFgAWABYAFgAWABYAFgAWABYAFgAWABYAFgAWABYAFgAWABYAFgAWABYAFgAWABYAFgAWABYAFgAVABYAFgAWABYAFgAWABYAFgAWABYAFgAWABYAFgAWABYAFgAWABYAFgAWABYAFgAWABYAFgAWABYAFgAWABYAFgAXABYAFgAWABYAFgAWABYAFgAWABYAFgAWABYAFgAWABYAFgAWABYAFgAWABYAFgAWABYAFgAWABYAFgAWABYAFgAWABYAFgAWABYAFgAWABYAFgAWABYAFgAWABYAFgAWABYAFgAWABYAFgAWABYAFgAWABYAFgAWABYAFgAWABYAFgAWABYAFgAWABYAFgAWABYAFgAWABYAFgAWABYAFgAWABYAFgAWABYAFgAWABYAFgAWABYAFgAWABYAFgAWABYAFgAWABYAFgAWABYAFgAWABYAFgAWABYAFgAWABYAFgAWABYAFgAWABYAFgAWABYAFgAWABYAFgAWABYAFgAWABYAFgAWABYAFgAWABYAFgAWABYAFgAWABYAFgAWABYAFgAWABYAFgAWABYAFgAWABYAFgAWABYAFgAWABYAFgAWABYAFgAWABYAFgAWABYAFgAWABYAFgAWABYAFgAWABYAFgAWABYAFgAWABYAFgAWABYAFgAWABYAFgAWABYAFgAWABYAFgAWABYAFgAWABYAFgAWABYAFgAWABYAFgAWABYAFgAWABcAFgAWABYAFgAWABYAFgAWABYAFgAWABYAFgAWABYAFgAWABYAFgAVAFgAWABYAFgAWABYAFgAWABYAFgAWABYAFgAWABYAFgAWABYAE0ATQBNAE0ATQBNAE0ATQBNAE0ATQBNAFEAUQBRAFgAWABYAFgAWABYAFgAWABYAFgAWABYAFgAWABYAFgAWABYAFgAWABYAFgAWABYAFgAWABYAFgAWABYAFgAVwBXAFcAWABYAFgAWABYAFgAWABYAFgAUwBTAFMAVwBXAFcAWABYAFgAWABYAFgAWABYAFgAWABYAFgAWABYAFgAWABYAFgAWABYAFgAWABYAFgAWABYAFgAWABYAFgAWABYAFcAWABXAFcAWABYAFgAWABYAFgAWABYAFgAWABYAFgAWABYAFgAWABYAFgAWABYAFgAWABYAFgAWABYAFgAEQBYAFgAWABTAFMAUwBZAFkAWQBYAFYAVgBWAE0ATQBNAFkAWQBYAFkAWABYAFkAWQBZAFkAWQBZAFkAWAARAFkAWQBZAFkAWQBZAFkAWQBZAFkAWQBZAFkAWQBZAFkAWQBZAFkAWQBZAFkAWQBZAFkAWQBZAFgAWABYAFMAUwBTAFIAUgBSAFgAWABYAFkAWQBZAFkAWQBZAFgAWABYAFkAWABYAFgAWQBZAFkAWQBZAFkAWQBZAFkAWQBZAFkAWQBZAFkAWABYAFgAWQBZAFkAVgBWAFYAVgBWAFYAVgBWAFYAVgBWAFYAWABYAFgAWABYAFgAWQBZAFkAWAABAAEAWABYAFgAWABZAFkAWQBTAFMAUwBTABIAWABYAFgAWABYAFgAFAASAFkAWQBZAFkAWQBZAFkAWQBZAFgAWABYAFgAWABYAFgAWQBZAFkANgBYAFYAWABYAFgAWABYAFkAWQBZAFMAUwBTAFgAWQBZAFkAWQBZAFkAWABYAFgAWABYAFgAGQBWABMAWABYAFgAWABYAFgAWABYAFgAEgBTAFMAUwBTAFMAUwBTAFMAUwBTAFMAUwBYAFgAWABYAFgAWABYAFgAUQBYAFEAUQBYAFgAWABYAFgAWAASAFUAVQBVABIAVQBVAFUAVQBVAFUAVQBVAFUAWABYAFgAWABYAFgAWABYAFgAWABYAFgAUgBSAFYAUgBWAFYAVgBWAFYAUwBTAFMAUwBYAFgAWABYAFgAWABYAFgAWAARABEAEQARAFgAWABYAFgAWABYAFgAWABXAFcAVwBSAFIAUgBWAFYAVgBWAFYAVgBTABEAWABYAFgAEQARABEAEQABAFgAVwBXAFcAUwBTAFcAVwBXABUAFQAVABUAFQBZAFkAWQBYAFgAWABYAFgAWABYAFgAWABYAFgAWABYAFgAWAATABMAWQBZAFgAWABYAFkAWQBZAFYAVgBWAFYAVgBWAFYAVgBWAFYAWAAZAFYAEwBYAFgAWABYAFgAWABYAFgAWAASAFMAUwBTAFMAUwBTABEAEwARAFUAVQBVAFUAVQBVAFYAVgBTAFYAUwBTAFcAVwBXAFkAWQBZAFgAWABYAFgAWABYAFcAVwBXAFgAWABYAFkAWQBZAFkAWQBZAFgAWABYABEAEQAWAFgAWABYAFgAWABYAFgAWABYAFgAWABYAFgAWAAZAFcAWABYAFgAUgBSAFIAUgBSAFIAUgBSAFIAWQBZAFIAWQBSAFIAUgBSAFIAUwBTAFMAUwBTAFMAEQARAFkAWQBZAFgAWABYABEAEQBRAFEAUQBXAFcAVwBYAFgAWABYAFgAWAAZABkAVQBVAFMAVQBTAFMAVQBVAFUAWABYAFgAUwBTAFMAWAARABEAWgBaAFoAWgBaAFoAVwBXAFcAUwBTAFMAUwBTAFMAUwBTAFMAUwBTAFMAUwBTAFMAUwBTAFMAUwBTAFMAUwBTABIAWABYAFgAWABYAFgAWABYAFgAWgBaAFoAEQBXAFcAVwBXAFgAWABYABUAUwBTAFMAUwBTAFMAFQBYAFgAWABZACIAIgAiAFoAWgBaAFcAVwBXAFgAWABYAFEAUQBRAFEAUQARAFEAEQBaAFoAWgBXAFcAVwAFAFMAUwBTABYAVwBXAFcAVwBXAFgAWABYAFUAVQBVAFgAWABYABEAEQBTAFMAUwBTAFMAUwBTAFUAVQBVAFMAUwBTAFMAUwBTAFMAUwBTAFEAUQBRAAYAVwBXAFcAAQABABUAFQBYAFgAWABYAFgAWABYAFgAWABYAFgAWABYABMAEwBaAFoAWgBYAFgAWABXAFcAVwBXAFcAVwBZADYAWQBZAFkAWQBZAFgAWABYAFoAWgBaAFkAWQBZAFgAWABYAFcAVwBXAFcAVwBXAFgAWABYAFgAWABYABIAEgASABAAEAAQABAAEAAQABEAEQARAFgAUQBRAFEAUwBTAFMAWABYAFgAUgBSAFIAWABYAFgAWQBZAE4ATgBOAFcAVwBXAFgAWABYAFUAVQBVAFUAVQBVAFgAWABYABQAUwBTAFMAWABYAFgAWQBZAFkAWQBZAFMAUwBTAFgAWABYABEAWABYAFgAWABXAFcAVwBXAFcAVwBXAFcAVwASAAEAVQBVAFUAWABYAFgAAQBLAEsASwARAFMAUwBTABEAAQBYAFgAWABYAFgAWAATABMAEwATABMAEwATAFkAWQBZAFkAEQABABEAUgBSAFIAWABYAFgAWABYAFgAWABZAFkAEwATABMAVQBVAFUAFAAUAFMAUwBTAFMAUwBTABEAWQBZAFkAWQBZAFkA",
          "dtype": "i2"
         }
        },
        {
         "boxpoints": "outliers",
         "name": "O",
         "type": "box",
         "y": {
          "bdata": "AAAAAAAAAAAAAAAAAAAAAAAAAAAAAAAAAAAAAAAAAAAAAAAAAAAAAAAAAAAAAAAAAAAAAAAAAAAAAAAAAAAAAAAAAAAAAAAAAAAAAAAAAAAAAAAAAAAAAAAAAAAAAAAAAAAAAAAAAAAAAAAAAAAAAAAAAAAAAAAAAAAAAAAAAAAAAAAAAAAAAAAAAAAAAAAAAAAAAAAAAAAAAAAAAAAAAAAAAAAAAAAAAAAAAAAAAAAAAAAAAAAAAAAAAAAAAAAAAAAAAAAAAAAAAAAAAAAAAAAAAAAAAAAAAAAAAAAAAAAAAAAAAAAAAAAAAAAAAAAAAAAAAAAAAAAAAAAAAAAAAAAAAAAAAAAAAAAAAAAAAAAAAAAAAAAAAAAAAAAAAAAAAAAAAAAAAAAAAAAAAAAAAAAAAAAAAAAAAAAAAAAAAAAAAAAAAAAAAAAAAAAAAAAAAAAAAAAAAAAAAAAAAAAAAAAAAAAAAAAAAAAAAAAAAAAAAAAAAAAAAAAAAAAAAAAAAAAAAAAAAAAAAAAAAAAAAAAAAAAAAAAAAAAAAAAAAAAAAAAAAAAAAAAAAAAAAAAAAAAAAAAAAAAAAAAAAAAAAAAAAAAAAAAAAAAAAAAAAAAAAAAAAAAAAAAAAAAAAAAAAAAAAAAAAAAAAAAAAAAAAAAAAAAAAAAAAAAAAAAAAAAAAAAAAAAAAAAAAAAAAAAAAAAAAAAAAAAAAAAAAAAAAAAAAAAAAAAAAAAAAAAAAAAAAAAAAAAAAAAAAAAAAAAAAAAAAAAAAAAAAAAAAAAAAAAAAAAAAAAAAAAAAAAAAAAAAAAAAAAAAAAAAAAAAAAAAAAAAAAAAAAAAAAAAAAAAAAAAAAAAAAAAAAAAAAAAAAAAAAAAAAAAAAAAAAAAAAAAAAAAAAAAAAAAAAAAAAAAAAAAAAAAAAAAAAAAAAAAAAAAAAAAAAAAAAAAAAAAAAAAAAAAAAAAAAAAAAAAAAAAAAAAAAAAAAAAAAAAAAAAAAAAAAAAAAAAAAAAAAAAAAAAAAAAAAAAAAAAAAAAAAAAAAAAAAAAAAAAAAAAAAAAAAAAAAAAAAAAAAAAAAAAAAAAAAAAAAAAAAAAAAAAAAAAAAAAAAAAAAAAAAAAAAAAAAAAAAAAAAAAAAAAAAAAAAAAAAAAAAAAAAAAAAAAAAAAAAAAAAAAAAAAAAAAAAAAAAAAAAAAAAAAAAAAAAAAAAAAAAAAAAAAAAAAAAAAAAAAAAAAAAAAAAAAAAAAAAAAAAAAAAAAAAAAAAAAAAAAAAAAAAAAAAAAAAAAAAAAAAAAAAAAAAAAAAAAAAAAAAAAAAAAAAAAAAAAAAAAAAAAAAAAAAAAAAAAAAAAAAAAAAAAAAAAAAAAAAAAAAAAAAAAAAAAAAAAAAAAAAAAAAAAAAAAAAAAAAAAAAAAAAAAAAAAAAAAAAAAAAAAAAAAAAAAAAAAAAAAAAAAAAAAAAAAAAAAAAAAAAAAAAAAAAAAAAAAAAAAAAAAAAAAAAAAAAAAAAAAAAAAAAAAAAAAAAAAAAAAAAAAAAAAAAAAAAAAAAAAAAAAAAAAAAAAAAAAAAAAAAAAAAAAAAAAAAAAAAAAAAAAAAAAAAAAAAAAAAAAAAAAAAAAAAAAAAAAAAAAAAAAAAAAAAAAAAAAAAAAAAAAAAAAAAAAAAAAAAAAAAAAAAAAAAAAAAAAAAAAAAAAAAAAAAAAAAAAAAAAAAAAAAAAAAAAAAAAAAAAAAAAAAAAAAAAAAAAAAAAAAAAAAAAAAAAAAAAAAAAAAAAAAAAAAAAAAAAAAAAAAAAAAAAAAAAAAAAAAAAAAAAAAAAAAAAAAAAAAAAAAAAAAAAAAAAAAAAAAAAAAAAAAAAAAAAAAAAAAAAAAAAAAAAAAAAAAAAAAAAAAAAAAAAAAAAAAAAAAAAAAAAAAAAAAAAAAAAAAAAAAAAAAAAAAAAAAAAAAAAAAAAAAAAAAAAAAAAAAAAAAAAAAAAAAAAAAAAAAAAAAAAAAAAAAAAAAAAAAAAAAAAAAAAAAAAAAAAAAAAAAAAAAAAAAAAAAAAAAAAAAAAAAAAAAAAAAAAAAAAAAAAAAAAAAAAAAAAAAAAAAAAAAAAAAAAAAAAAAAAAAAAAAAAAAAAAAAAAAAAAAAAAAAAAAAAAAAAAAAAAAAAAAAAAAAAAAAAAAAAAAAAAAAAAAAAAAAAAAAAAAAAAAAAAAAAAAAAAAAAAAAAAAAAAAAAAAAAAAAAAAAAAAAAAAAAAAAAAAAAAAAAAAAAAAAAAAAAAAAAAAAAAAAAAAAAAAAAAAAAAAAAAAAAAAAAAAAAAAAAAAAAAAAAAAAAAAAAAAAAAAAAAAAAAAAAAAAAAAAAAAAAAAAAAAAAAAAAAAAAAAAAAAAAAAAAAAAAAAAAAAAAAAAAAAAAAAAAAAAAAAAAAAAAAAAAAAAAAAAAAAAAAAAAAAAAAAAAAAAAAAAAAAAAAAAAAAAAAAAAAAAAAAAAAAAAAAAAAAAAAAAAAAAAAAAAAAAAAAAAAAAAAAAAAAAAAAAAAAAAAAAAAAAAAAAAAAAAAAAAAAAAAAAAAAAAAAAAAAAAAAAAAAAAAAAAAAAAAAAAAAAAAAAAAAAAAAAAAAAAAAAAAAAAAAAAAAAAAAAAAAAAAAAAAAAAAAAAAAAAAAAAAAAAAAAAAAAAAAAAAAAAAAAAAAAAAAAAAAAAAAAAAAAAAAAAAAAAAAAAAAAAAAAAAAAAAAAAAAAAAAAAAAAAAAAAAAAAAAAAAAAAAAAAAAAAAAAAAAAAAAAAAAAAAAAAAAAAAAAAAAAAAAAAAAAAAAAAAAAAAAAAAAAAAAAAAAAAAAAAAAAAAAAAAAAAAAAAAAAAAAAAAAAAAAAAAAAAAAAAAAAAAAAAAAAAAAAAAAAAAAAAAAAAAAAAAAAAAAAAAAAAAAAAAAAAAAAAAAAAAAAAAAAAAAAAAAAAAAAAAAAAAAAAAAAAAAAAAAAAAAAAAAAAAAAAAAAAAAAAAAAAAAAAAAAAAAAAAAAAAAAAAAAAAAAAAAAAAAAAAAAAAAAAAAAAAAAAAAAAAAAAAAAAAAAAAAAAAAAAAAAAAAAAAAAAAAAAAAAAAAAAAAAAAAAAAAAAAAAAAAAAAAAAAAAAAAAAAAAAAAAAAAAAAAAAAAAAAAAAAAAAAAAAAAAAAAAAAAAAAAAAAAAAAAAAAAAAAAAAAAAAAAAAAAAAAAAAAAAAAAAAAAAAAAAAAAAAAAAAAAAAAAAAAAAAAAAAAAAAAAAAAAAAAAAAAAAAAAAAAAAAAAAAAAAAAAAAAAAAAAAAAAAAAAAAAAAAAAAAAAAAAAAAAAAAAAAAAAAAAAAAAAAAAAAAAAAAAAAAAAAAAAAAAAAAAAAAAAAAAAAAAAAAAAAAAAAAAAAAAAAAAAAAAAAAAAAAAAAAAAAAAAAAAAAAAAAAAAAAAAAAAAAAAAAAAAAAAAAAAAAAAAAAAAAAAAAAAAAAAAAAAAAAAAAAAAAAAAAAAAAAAAAAAAAAAAAAAAAAAAAAAAAAAAAAAAAAAAAAAAAAAAAAAAAAAAAAAAAAAAAAAAAAAAAAAAAAAAAAAAAAAAAAAAAAAAAAAAAAAAAAAAAAAAAAAAAAAAAAAAAAAAAAAAAAAAAAAAAAAAAAAAAAAAAAAAAAAAAAAAAAAAAAAAAAAAAAAAAAAAAAAAAAAAAAAAAAAAAAAAAAAAAAAAAAAAAAAAAAAAAAAAAAAAAAAAAAAAAAAAAAAAAAAAAAAAAAAAAAAAAAAAAAAAAAAAAAAAAAAAAAAAAAAAAAAAAAAAAAAAAAAAAAAAAAAAAAAAAAAAAAAAAAAAAAAAAAAAAAAAAAAAAAAAAAAAAAAAAAAAAAAAAAAAAAAAAAAAAAAAAAAAAAAAAAAAAAAAAAAAAAAAAAAAAAAAAAAAAAAAAAAAAAAAAAAAAAAAAAAAAAAAAAAAAAAAAAAAAAAAAAAAAAAAAAAAAAAAAAAAAAAAAAAAAAAAAAAAAAAAAAAAAAAAAAAAAAAAAAAAAAAAAAAAAAAAAAAAAAAAAAAAAAAAAAAAAAAAAAAAAAAAAAAAAAAAAAAAAAAAAAAAAAAAAAAAAAAAAAAAAAAAAAAAAAAAAAAAAAAAAAAAAAAAAAAAAAAAAAAAAAAAAAAAAAAAAAAAAAAAAAAAAAAAAAAAAAAAAAAAAAAAAAAAAAAAAAAAAAAAAAAAAAAAAAAAAAAAAAAAAAAAAAAAAAAAAAAAAAAAAAAAAAAAAAAAAAAAAAAAAAAAAAAAAAAAAAAAAAAAAAAAAAAAAAAAAAAAAAAAAAAAAAAAAAAAAAAAAAAAAAAAAAAAAAAAAAAAAAAAAAAAAAAAAAAAAAAAAAAAAAAAAAAAAAAAAAAAAAAAAAAAAAAAAAAAAAAAAAAAAAAAAAAAAAAAAAAAAAAAAAAAAAAAAAAAAAAAAAAAAAAAAAAAAAAAAAAAAAAAAAAAAAAAAAAAAAAAAAAAAAAAAAAAAAAAAAAAAAAAAAAAAAAAAAAAAAAAAAAAAAAAAAAAAAAAAAAAAAAAAAAAAAAAAAAAAAAAAAAAAAAAAAAAAAAAAAAAAAAAAAAAAAAAAAAAAAAAAAAAAAAAAAAAAAAAAAAAAAAAAAAAAAAAAAAAAAAAAAAAAAAAAAAAAAAAAAAAAAAAAAAAAAAAAAAAAAAAAAAAAAAAAAAAAAAAAAAAAAAAAAAAAAAAAAAAAAAAAAAAAAAAAAAAAAAAAAAAAAAAAAAAAAAAAAAAAAAAAAAAAAAAAAAAAAAAAAAAAAAAAAAAAAAAAAAAAAAAAAAAAAAAAAAAAAAAAAAAAAAAAAAAAAAAAAAAAAAAAAAAAAAAAAAAAAAAAAAAAAAAAAAAAAAAAAAAAAAAAAAAAAAAAAAAAAAAAAAAAAAAAAAAAAAAAAAAAAAAAAAAAAAAAAAAAAAAAAAAAAAAAAAAAAAAAAAAAAAAAAAAAAAAAAAAAAAAAAAAAAAAAAAAAAAAAAAAAAAAAAAAAAAAAAAAAAAAAAAAAAAAAAAAAAAAAAAAAAAAAAAAAAAAAAAAAAAAAAAAAAAAAAAAAAAAAAAAAAAAAAAAAAAAAAAAAAAAAAAAAAAAAAAAAAAAAAAAAAAAAAAAAAAAAAAAAAAAAAAAAAAAAAAAAAAAAAAAAAAAAAAAAAAAAAAAAAAAAAAAAAAAAAAAAAAAAAAAAAAAAAAAAAAAAAAAAAAAAAAAAAAAAAAAAAAAAAAAAAAAAAAAAAAAAAAAAAAAAAAAAAAAAAAAAAAAAAAAAAAAAAAAAAAAAAAAAAAAAAAAAAAAAAAAAAAAAAAAAAAAAAAAAAAAAAAAAAAAAAAAAAAAAAAAAAAAAAAAAAAAAAAAA",
          "dtype": "i1"
         }
        },
        {
         "boxpoints": "outliers",
         "name": "P",
         "type": "box",
         "y": {
          "bdata": "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",
          "dtype": "i2"
         }
        },
        {
         "boxpoints": "outliers",
         "name": "Q",
         "type": "box",
         "y": {
          "bdata": "AAAAAAAAAAAAAAAAAAAAAAAAAAAAAAAAAAAAAAAAAAAAAAAAAAAAAAAAAAAAAAAAAAAAAAAAAAAAAAAAAAAAAAAAAAAAAAAAAAAAAAAAAAAAAAAAAAAAAAAAAAAAAAAAAAAAAAAAAAAAAAAAAAAAAAAAAAAAAAAAAAAAAAAAAAAAAAAAAAAAAAAAAAAAAAAAAAAAAAAAAAAAAAAAAAAAAAAAAAAAAAAAAAAAAAAAAAAAAAAAAAAAAAAAAAAAAAAAAAAAAAAAAAAAAAAAAAAAAAAAAAAAAAAAAAAAAAAAAAAAAAAAAAAAAAAAAAAAAAAAAAAAAAAAAAAAAAAAAAAAAAAAAAAAAAAAAAAAAAAAAAAAAAAAAAAAAAAAAAAAAAAAAAAAAAAAAAAAAAAAAAAAAAAAAAAAAAAAAAAAAAAAAAAAAAAAAAAAAAAAAAAAAAAAAAAAAAAAAAAAAAAAAAAAAAAAAAAAAAAAAAAAAAAAAAAAAAAAAAAAAAAAAAAAAAAAAAAAAAAAAAAAAAAAAAAAAAAAAAAAAAAAAAAAAAAAAAAAAAAAAAAAAAAAAAAAAAAAAAAAAAAAAAAAAAAAAAAAAAAAAAAAAAAAAAAAAAAAAAAAAAAAAAAAAAAAAAAAAAAAAAAAAAAAAAAAAAAAAAAAAAAAAAAAAAAAAAAAAAAAAAAAAAAAAAAAAAAAAAAAAAAAAAAAAAAAAAAAAAAAAAAAAAAAAAAAAAAAAAAAAAAAAAAAAAAAAAAAAAAAAAAAAAAAAAAAAAAAAAAAAAAAAAAAAAAAAAAAAAAAAAAAAAAAAAAAAAAAAAAAAAAAAAAAAAAAAAAAAAAAAAAAAAAAAAAAAAAAAAAAAAAAAAAAAAAAAAAAAAAAAAAAAAAAAAAAAAAAAAAAAAAAAAAAAAAAAAAAAAAAAAAAAAAAAAAAAAAAAAAAAAAAAAAAAAAAAAAAAAAAAAAAAAAAAAAAAAAAAAAAAAAAAAAAAAAAAAAAAAAAAAAAAAAAAAAAAAAAAAAAAAAAAAAAAAAAAAAAAAAAAAAAAAAAAAAAAAAAAAAAAAAAAAAAAAAAAAAAAAAAAAAAAAAAAAAAAAAAAAAAAAAAAAAAAAAAAAAAAAAAAAAAAAAAAAAAAAAAAAAAAAAAAAAAAAAAAAAAAAAAAAAAAAAAAAAAAAAAAAAAAAAAAAAAAAAAAAAAAAAAAAAAAAAAAAAAAAAAAAAAAAAAAAAAAAAAAAAAAAAAAAAAAAAAAAAAAAAAAAAAAAAAAAAAAAAAAAAAAAAAAAAAAAAAAAAAAAAAAAAAAAAAAAAAAAAAAAAAAAAAAAAAAAAAAAAAAAAAAAAAAAAAAAAAAAAAAAAAAAAAAAAAAAAAAAAAAAAAAAAAAAAAAAAAAAAAAAAAAAAAAAAAAAAAAAAAAAAAAAAAAAAAAAAAAAAAAAAAAAAAAAAAAAAAAAAAAAAAAAAAAAAAAAAAAAAAAAAAAAAAAAAAAAAAAAAAAAAAAAAAAAAAAAAAAAAAAAAAAAAAAAAAAAAAAAAAAAAAAAAAAAAAAAAAAAAAAAAAAAAAAAAAAAAAAAAAAAAAAAAAAAAAAAAAAAAAAAAAAAAAAAAAAAAAAAAAAAAAAAAAAAAAAAAAAAAAAAAAAAAAAAAAAAAAAAAAAAAAAAAAAAAAAAAAAAAAAAAAAAAAAAAAAAAAAAAAAAAAAAAAAAAAAAAAAAAAAAAAAAAAAAAAAAAAAAAAAAAAAAAAAAAAAAAAAAAAAAAAAAAAAAAAAAAAAAAAAAAAAAAAAAAAAAAAAAAAAAAAAAAAAAAAAAAAAAAAAAAABQAFAAUABQAFAAUAAwADAAUABQAAAAAAAAAAAAAAAAAAAAUABQAEAAQABAAEAAQABAAEAAQABAAEAAQABAAEAAQABAAEAAQABAAEAAQABAAEAAQABAAEAAQABAAEAAQABAAEAAQABAAEAAQABAAEAAQABAAEAAQABAAEAAQABAAEAAQABAAEAAQABAAEAAQABAAEAAQABAAEAAQABAAEAAQABAAEAAQABAAEAAQABAAEAAQABAAEAAQABAAEAAQABAAEAAQABAAEAAQABAAEAAQABAAEAAQABAAEAAQABAAEAAQABAAEAAQABAAEAAQABAAEAAQABAAEAAQABAAEAAQABAAEAAQABAAEAAQABAAEAAQABAAEAAQABAAEAAQABAAEAAQABAAEAAQABAAEAAQABAAEAAQABAAEAAQABAAEAAQABAAEAAQABAAEAAQABAAEAAQABAAEAAQABAAEAAQABAAEAAQABAAEAAQABAAEAAQABAAEAAQABAAEAAQABAAEAAQABAAEAAQABAAEAAQABAAEAAQABAAEAAQABAAEAAQABAAEAAQABAAEAAQABAAEAAQABAAEAAQABAAEAAQABAAEAAQABAAEAAQABAAEAAQABAAEAAQABAAEAAQABAAEAAQABAAEAAQABAAEAAQABAAEAAQABAAEAAQABAAEAAQABAAEAAQABAAEAAQABAAEAAQABAAEAAQABAAEAAQABAAEAAQABAAEAAQABAAEAAQABAAEAAQABAAEAAQABAAEAAQABAAEAAQABAAEAAQABAAEAAQABAAEAAQABAAEAAQABAAEAAQABAAEAAQABAAEAAQABAAEAAQABAAEAAQABAAEAAQABAAEAAQABAAEAAQABAAEAAQABAAEAAQABAAEAAQABAAEAAQABAAEAAQABAAEAAQABAAEAAQABAAEAAQABAAEAAQABAAEAAQABAAEAAQABAAEAAQABAAEAAQABAAEAAQABAAEAAQABAAEAAQABAAEAAQABAAEAAQABAAEAAQABAAEAAQABAAEAAQABAAEAAQABAAEAAQABAAEAAQABAAEAAQABAAEAAQABAAEAAQABAAEAAQABAAEAAQABAAEAAQABAAEAAQABAAEAAQABAAEAAQABAAEAAQABAAEAAQABAAEAAQABAAEAAQABAAEAAQABAAEAAQABAAEAAQABAAEAAQABAAEAAQABAAEAAQABAAEAAQABAAEAAQABAAEAAQABAAEAAQABAADAAMAAwADAAMAAwADAAMAAwADAAMAAwADAAMAAwADAAMAAwABAAMAAwADAAMAAwADAAMAAwADAAMAAwADAAMAAwADAAMAAwADAAMAAwADAAMAAwADAAMAAwADAAMAAwADAAMAAwADAAMAAwADAAMAAwADAAMAAwADAAMAAwADAAMAAwADAAMAAwADAAMAAwADAAMAAwADAAMAAwADAAMAAwADAAMAAwADAAMAAwADAAMAAwADAAMAAwADAAMAAwADAAMAAwADAAMAAwADAAMAAwADAAMAAwADAAMAAwADAAMAAwADAAMAAwADAAMAAwADAAMAAwADAAMAAwADAAMAAwADAAMAAwADAAMAAwADAAMAAwADAAMAAwADAAMAAwADAAMAAwADAAMAAwADAAMAAwADAAMAAwADAAMAAwADAAMAAwADAAMAAwADAAMAAwADAAMAAwADAAMAAwADAAMAAwADAAMAAwADAAMAAwADAAMAAwADAAMAAwADAAMAAwADAAMAAwADAAMAAwADAAMAAwADAAMAAwADAAMAAwADAAMAAwADAAMAAwADAAMAAwADAAMAAwADAAMAAwADAAMAAwADAAMAAwADAEIAQgADAAMAAwADAAMAAwADAAMAAwADAAMAAwADAAMAAwADAAMAAwADAAMAAwADAAMAAwADAAMAAwADAAMAAwADAAMAAwADAAMAAwADAAMAAwADAAMAAwADAAMAAwADAAMAAgADAAMAAwADAAMAAwADAAMAAwADAAMAAwADAAMAAwADAAMAAwADAAMAAwADAAMAAwADAAMAAwADAAMAAwADAAMAAwADAAMAAwADAAMAAwADAAMAAwADAAMAAwADAAMAAwADAAMAAwADAAMAAwADAAMAAwADAAMAAwADAAMAAwADAAMAAwADAAMAAwADAAMAAwADAAMAAwADAAMAAwADAAMAAwADAAMAAwADAAMAAwADAAMAAwADAAMAAwADAAMAAwADAAMAAwADAAMAAwADAAMAAwADAAMAAwADAAMAAwADAEIAPwA/AD8AAwAAAAkAPgCXAO8AQABAAEAAQABAAEAAOwA7ADsAPgA+AD4APgA+AAgAPgCXAO8AAQAjAAYAAQAFAAMAAAAJAD4AlwDvAAEAIwAGAAEABQCXAO8AAQAjAAYAAQAFAAMAAAAJAD4AlwDvAAEAIwAGAAEABQADAAAAAQAjAAYAAQAFAAMAAAAIAD4AlwDvAAEAIwAGAAEABQADAAAACAA/AAYABQABAAMAAAAJAD4AlwDvAAEAIwAGAAEABQADAAAACAA+AJcA7wAFAAMAAAAJAD4AlwDvAAEAIwAGAAEABQADAAAACQA+AJcA7wABACMAAAAJAD4AlwDvAAEAIwAGAAEABQADAAAACAA+AJcA7wABACMABgABAD4AlwDvAAEAIwAGAAEABQADAAAAPgAIAJcA7wAAAAAAFAAUABQAFAAUABQAFAAUABQAFAAUABQAFAAUABQAFAAUABQAFAAUABQAFAAUABQAFAAUABQAFAAUABQAFAAjACIAIgAiACMAIgAjACIAIwAjACIAIwAiACIAIwAiACMAIwAjACIAIgAiACIAIgAjACIAIwAjACMAIgAjACMAIwAjACMAIgAjACMAIgAiACIAIgAjACIAIwAjACMAIgAiACIAIgAjACMAIgAiACIAIgAjACIAIgAjACIAIgAjACMAIgAiACIAIwAiACMAIwAjACMAIwAjACMAIgAiACIAIwAiACIAIwAjACIAIgAjACIAIwAjACIAIwAjACIAIgAiACMAIwAjACIAIgAjACIAIgAjACIAIgAjACIAIgAiACMAIgAjACIAIgAjACIAIwAiACIAIwAiACMAIgAjACMAIgAiACIAIgAjACIAIgAjACIAIwAiACMAIwAiACMAIwAiACIAIwAiACIAIgAiACMAIwAiACMAIwAjACIAIwAiACMAIwAiACIAIgAjACIAIwAiACMAIwAjACIAIwAjACMAIgAiACIAIwAjACIAIwAiACMAIwAjACIAIgAiACIAIgAiACIAIgAiACIAIgAiACMAIgAiACIAIgAjACIAIgAiACIAIgAiACIAIgAiACMAIgAiACIAIgAiACMAIwAiACIAIgAiACIAIgAjACIAIgAiACIAIgAjACIAIwAiACMAIwAiACIAIgAiACIAIgAjACIAIgAiACIAIgAjACIAIwAjACIAIwAjACIAIgAiACMAIgAiACIAIgAiACIAIwAiACMAIgAjACIAIgAiACIAIwAjACIAIgAiACMAIgAiACIAIwAjACMAIwAjACMAIwAjACMAIwAjACMAIwAUABQAFAATABQAFAAUABQAFAAiACIAIgAiACIAIgAiACIAIgAiACIAIgAiACMAIgAiACIAIgAiACEAIgAiACIAIgAiACIAIwAiACIAIgAiACIAIgAiACIAIgAiACIAIgAiACIAIgAiACIAIgAiACIAIgAiACIAIgAiACIAIgAiACIAIgAiACIAIgAiACIAIgAiACIAIgAiACIAIgAiACIAIgAiACIAIgAiACIAIgAiACIAIgAiACIAIgAiACIAIQAiACIAIgAiACIAIgAiACIAIgAiACIAIgAiACIAIgAiACIAIgAiACIAIgAiACIAIgAiACIAIgAiACIAIgAiACIAIgAiACIAIgAiACIAIgAiACIAIgAiACIAIgAiACIAIgAiACIAIgAiACIAIgAiACIAIgAiACIAIgAiACIAIgAiACIAIgAiACIAIgAiACIAIgAiACIAIgAiACIAIgAiACIAIgAiACIAIgAiACIAIgAiACIAIgAiACIAIgAiACIAIgAiACIAIgAiACIAIgAiACIAIgAiACIAIgAiACIAIgAiACIAIgAiACIAIgAiACIAIgAiACIAIgAiACIAIgAiACIAIgAiACIAIgAiACIAIgAiACIAIgAiACIAIgAiACIAIgAiACIAIgAiACIAIgAiACIAIgAiACIAIgAiACIAIgAiACIAIgAiACIAIgAiACIAIgAiACIAIgAiACIAIgAiACIAIgAiACIAIgAiACIAIgAiACIAIgAhACIAIgAiACIAIgAiACIAIgAiACIAIgAiACIAIgAiACIAIgAiACIAIgAiACMAIgAiACIAIgAiACIAIgAiACIAIwAiACIAIAAiACMAIgAjACIAIwAiACMAIwAjACMAIwAiACIAIwAiACMAIwAjACMAIwAhACMAIwAjACMAIgAjACMAIwAiACMAIgAiACMAIwAiACIAIgAiACIAIgAjACIAIgAjACIAIgAiACIAIwAjACMAIgAiACIAIgAjACIAIwAiACIAIwAjACMAIgAiACIAIwAiACIAIwAjACMAIwAjACMAIwAjACIAIgAiACIAIgAiACMAIgAiACIAIwAiACIAIgAjACIAIgAjACMAIgAiACIAIgAiACMAIwAiACIAIgAiACIAIgAjACIAIgAiACIAIgAjACMAIwAiACMAIgAiACIAIwAiACIAIgAiACIAIgAiACIAIgAjACMAIgAjACIAIwAiACIAIgAiACIAIgAjACIAIgAiACIAIgAiACIAIwAiACIAIgAiACIAIgAiACIAIwAiACIAIwAiACIAJAAiACMAIgAiACMAIgAiACMAIwAiACIAIwAjACIAIgAiACIAIwAiACIAIgAjACIAIgAjACIAIgAjACMAIwAjACIAIgAjACIAIgAiACMAIgAkACIAIgAiACIAIgAiACIAIgAjACIAIgAiACIAIgAiACMAIgAiACIAIgAjACMAIgAiACIAIgAiACIAIgAiACMAIgAiACIAIgAiACIAIgAiACIAIgAiACIAIgAiACIAIgAiACIAIgAiACIAIgAiACIAIgAiACIAIgAjACIAIgAiACIAIwAjACMAIgAjACMAIgAjACMAIgAjACIAIgAjACIAIgAiACIAIgAiACIAIgAiACIAIgAjACIAIgAiACIAIQAiACIAIwAiACIAIgAiACIAIgAiACIAIgAiACIAIgAiACIAIgAiACMAIwAjACMAIgAiACEAIgAjACIAIwAiACIAIwAjACMAIgAjACIAIwAiACIAIgAjACMAIgAiACIAIwAiACMAIgAjACMAIgAjACIAIgAjACIAIwAjACMAIgAiACIAIgAiACMAIgAjACMAIwAiACMAIwAjACMAIwAiACMAIwAiACIAIgAiACMAIgAjACMAIwAiACIAIgAiACMAIwAiACIAIgAiACMAIgAiACMAIgAiACMAIwAiACIAIgAjACIAIwAjACMAIwAjACMAIwAiACIAIgAjACIAIgAjACMAIgAiACMAIgAjACMAIgAjACMAIgAiACIAIwAjACMAIgAiACMAIgAiACMAIgAiACMAIgAiACIAIwAiACMAIgAiACMAIgAjACIAIgAjACIAIwAiACMAIwAiACIAIgAiACMAIgAiACMAIgAjACIAIwAjACIAIwAjACIAIgAjACIAIgAiACIAIwAjACIAIwAjACMAIgAjACIAIwAjACIAIgAiACMAIgAjACIAIwAjACMAIgAjACMAIwAiACIAIgAjACMAIgAjACIAIwAjACMAIgAiACIAIgAiACIAIgAiACIAIgAiACIAIwAiACIAIgAiACMAIgAiACIAIgAiACIAIgAiACIAIwAiACIAIgAiACIAIwAjACIAIgAiACIAIgAiACMAIgAiACIAIgAiACMAIgAjACIAIwAjACIAIgAiACIAIgAiACMAIgAiACIAIgAiACMAIgAjACMAIgAjACMAIgAiACIAIwAiACIAIgAiACIAIgAjACIAIwAiACMAIgAiACIAIgAjACMAIgAiACIAIwAiACIAIgAjACMAIwAjACMAIwAjACMAIwAjACMAIwAjAEIAQgBCAEIAQgBCAEIAQgBCAEIAQgBCAEIAQgBCAEIAQgBCADgAOAA4ADgAOAA4ADgAOAA4ADgAOAA4ADgAOAA4AEQARABEAEEAQQBBAEEAQQBBAEEAQQBBAEEAQQBBAEEAQQBBAEIAQgBCAEIAQgBCAEIAQgBCAEIAQgBCAEIAQgBCAEIAQgBCAEIAQgBCAEIAQgBCAEIAPAA8ADwAQgBCAEIAQgBCAEIAQgBCAEIAQgBCAEIAQgBCAEIAQgBCAEIAQgBCAEIAQgBCAEIAQgBCAEIAQgBCAEIAQgBCAEIAQgBCAEIAQgBCAEIAQgBCAEIAQgBCAEIAQgBCAEIAQgBCAEIAPwA/AD8APwA/AD8AQQBBAEEAQQBBAEEAQQBBAEEABgBCAEIAQgA7ADsAOwBAAEAAQABAADsAOwA7ADgAOAA4AEIAQgA+AEIAPgA+AEAAQABAAEAAQABAAEAAQAAGAEIAQgBCAEIAQgBCAEIAQgBCAEIAQgBCAEIAQgBCAEIAQgBCAEIAQgBCAEIAQgBCAEIAQgBCAD4APgA+ADsAOwA7ADsAOwA7AEAAQABAAEIAQgBCAEIAQgBCAD4APgA+AEAAQABAAEAAQgBCAEIAQgBCAEIAQgBCAEIAQgBCAEIAQgBCAEIAPgA+AD4AQQBBAEEAOwA7ADsAOwA7ADsAOwA7ADsAOwA7ADsAQABAAEAAQABAAEAAQABAAEAAPgAAAAAAPgBCAEIAQgBAAEAAQAA7ADsAOwA7AAQAQgBCAEIAQgBCAEIABQAGAEAAQABAAEAAQABAAEAAQABAAD4APgA+AD4APgA+AD4AQABAAEAAGwBCADsAQgBCAEIAQgBCAEIAQgBCADsAOwA7AEEAQABAAEAAQABAAEAAPgA+AD4APgA+AD4AEgA7AAYAPgA+AD4APgA+AD4APgA+AD4ABgA7ADsAOwA7ADsAOwA7ADsAOwA9AD0APQBCAEIAQgBCAEIAQgBCAEIAOQBCADkAOQA+AD4APgA+AD4APgAFAEAAQABAAAUAQABAAEAAQABAAEAAQABAAEAAQgBCAEIAQgBCAEIAQgBCAEIAQgBCAEIAOgA6ADwAOgA8ADwAOwA7ADsAOwA7ADsAOwBCAEIAQgBCAEIAQgBCAEIAQgAGAAYABgAGAEIAQgBCAEIAQgBCAEIAQgBCAEIAQgA6ADoAOgA7ADsAOwA7ADsAOwA7AAYAQgBCAEIABgAGAAYABgAAAEIAQgBCAEIAOwA7AEEAQQBBAAcABwAHAAcABwBAAEAAQABCAEIAQgBCAEIAQgBCAEIAQgBCAEIAQgBCAEIAQgAGAAYAQgBCAD4APgA+AEEAQQBBADsAOwA7ADsAOwA7ADsAOwA7ADsAPgASADsABgA+AD4APgA+AD4APgA+AD4APgAGADsAOwA7ADsAOwA7AAYABgAGADwAPAA7ADwAOwA7ADsAOwA7ADsAOwA7AEEAQQBBAEAAQABAAEIAQgBCAEIAQgBCAEEAQQBBAEIAQgBCAEAAQABAAEAAQABAAD4APgA+AAYABgALAEIAQgBCAEIAQgBCAEIAQgBCAEIAQgBCAEIAQgAHAEIAPwA/AD8AOgA6ADoAOgA6ADoAOgA6ADoAQABAADoAQAA6ADoAOgA6ADoAOwA7ADsAOwA7ADsABgAGAEAAQABAAEEAQQBBAAYABgA5ADkAOQBCAEIAQgBCAEIAQgBCAEIAQgANAA0APAA8ADwAPAA8ADwAPAA8ADwAPwA/AD8APwA/AD8APgAGAAQAQgBCAEIAQgBCAEIAQgBCAEIAPQA9AD0APQA9AD0APQA9AD0APQA9AD0APQA9ADwAPAA8ADwAPAA8ADwAPAA8AAcAPgA+AD4AQgBCAEIAPwA/AD8AQgBCAEIABgBCAEIAQgBCAEIAQgBCAAcAPAA8ADwAPAA8ADwABwA+AD4APgBAACIAIgAiAEIAQgBCAEIAQgBCAEIAQgBCADkAOQA5ADkAOQAGADkABgBAAEAAQAA+AD4APgACAD8APwA/AAoAQgBCAEEAQQBBAEIAQgBCAD0APQA9AD8APwA/AAYABgA8ADwAPAA8ADwAPAA8ADwAPAA8ADwAPAA8ADwAPAA8ADwAPAA8ADkAOQA5AAcAPgA+AD4AAAAAAAcABwA+AD4APgA+AEIAQgA+AD4APgBCAD8APwA/AAYABgBCAEIAQgBCAEIAQgBCAEIAQgBCAEIAQgBAABsAQABAAEAAQABAAEIAQgBCAD4APgA+AD4APgA+AD4APgA+AD4APgA+AD4APgA+AD4APgA+AD4APgA+AAYABgAGAAQABgAGAAYABgAGAAYABgAGAD8AOQA5ADkAPwA/AD8AQABAAEAAOwA7ADsAPwA/AD8AQABAAEMAQwBDAD0APQA9AD4APgA+AD0APQA9AD0APQA9AD4APgA+AAcAPQA9AD0AQQBBAEEAQABAAEAAQABAAD8APwA/AEIAQgBCAAYAQgBCAEIAQgA9AD0APQA9AD0APQA9AD0APQAGAAAAPQA9AD0AQgBCAEIAAABLAEsASwAEAD0APQA9AAYAAABBAEEAQQBBAEEAQQAGAAYABgAGAAYABgAGAEIAQABAAEAABgABAAYAOwA7ADsAPwA/AD8AQgBCAEIAQgBAAEAABgAGAAYAPgA+AD4ABwAHADsAOwA7ADsAOwA7AAYAQgBCAEIAQABAAEAA",
          "dtype": "i2"
         }
        },
        {
         "boxpoints": "outliers",
         "name": "R",
         "type": "box",
         "y": {
          "bdata": "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",
          "dtype": "i2"
         }
        },
        {
         "boxpoints": "outliers",
         "name": "S",
         "type": "box",
         "y": {
          "bdata": "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",
          "dtype": "i2"
         }
        },
        {
         "boxpoints": "outliers",
         "name": "T",
         "type": "box",
         "y": {
          "bdata": "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",
          "dtype": "i2"
         }
        },
        {
         "boxpoints": "outliers",
         "name": "U",
         "type": "box",
         "y": {
          "bdata": "AAAAAAAAAAAAAAAAAAAAAAAAAAAAAAAAAAAAAAAAAAAAAAAAAAAAAAAAAAAAAAAAAAAAAAAAAAAAAAAAAAAAAAAAAAAAAAAAAAAAAAAAAAAAAAAAAAAAAAAAAAAAAAAAAAAAAAAAAAAAAAAAAAAAAAAAAAAAAAAAAAAAAAAAAAAAAAAAAAAAAAAAAAAAAAAAAAAAAAAAAAAAAAAAAAAAAAAAAAAAAAAAAAAAAAAAAAAAAAAAAAAAAAAAAAAAAAAAAAAAAAAAAAAAAAAAAAAAAAAAAAAAAAAAAAAAAAAAAAAAAAAAAAAAAAAAAAAAAAAAAAAAAAAAAAAAAAAAAAAAAAAAAAAAAAAAAAAAAAAAAAAAAAAAAAAAAAAAAAAAAAAAAAAAAAAAAAAAAAAAAAAAAAAAAAAAAAAAAAAAAAAAAAAAAAAAAAAAAAAAAAAAAAAAAAAAAAAAAAAAAAAAAAAAAAAAAAAAAAAAAAAAAAAAAAAAAAAAAAAAAAAAAAAAAAAAAAAAAAAAAAAAAAAAAAAAAAAAAAAAAAAAAAAAAAAAAAAAAAAAAAAAAAAAAAAAAAAAAAAAAAAAAAAAAAAAAAAAAAAAAAAAAAAAAAAAAAAAAAAAAAAAAAAAAAAAAAAAAAAAAAAAAAAAAAAAAAAAAAAAAAAAAAAAAAAAAAAAAAAAAAAAAAAAAAAAAAAAAAAAAAAAAAAAAAAAAAAAAAAAAAAAAAAAAAAAAAAAAAAAAAAAAAAAAAAAAAAAAAAAAAAAAAAAAAAAAAAAAAAAAAAAAAAAAAAAAAAAAAAAAAAAAAAAAAAAAAAAAAAAAAAAAAAAAAAAAAAAAAAAAAAAAAAAAAAAAAAAAAAAAAAAAAAAAAAAAAAAAAAAAAAAAAAAAAAAAAAAAAAAAAAAAAAAAAAAAAAAAAAAAAAAAAAAAAAAAAAAAAAAAAAAAAAAAAAAAAAAAAAAAAAAAAAAAAAAAAAAAAAAAAAAAAAAAAAAAAAAAAAAAAAAAAAAAAAAAAAAAAAAAAAAAAAAAAAAAAAAAAAAAAAAAAAAAAAAAAAAAAAAAAAAAAAAAAAAAAAAAAAAAAAAAAAAAAAAAAAAAAAAAAAAAAAAAAAAAAAAAAAAAAAAAAAAAAAAAAAAAAAAAAAAAAAAAAAAAAAAAAAAAAAAAAAAAAAAAAAAAAAAAAAAAAAAAAAAAAAAAAAAAAAAAAAAAAAAAAAAAAAAAAAAAAAAAAAAAAAAAAAAAAAAAAAAAAAAAAAAAAAAAAAAAAAAAAAAAAAAAAAAAAAAAAAAAAAAAAAAAAAAAAAAAAAAAAAAAAAAAAAAAAAAAAAAAAAAAAAAAAAAAAAAAAAAAAAAAAAAAAAAAAAAAAAAAAAAAAAAAAAAAAAAAAAAAAAAAAAAAAAAAAAAAAAAAAAAAAAAAAAAAAAAAAAAAAAAAAAAAAAAAAAAAAAAAAAAAAAAAAAAAAAAAAAAAAAAAAAAAAAAAAAAAAAAAAAAAAAAAAAAAAAAAAAAAAAAAAAAAAAAAAAAAAAAAAAAAAAAAAAAAAAAAAAAAAAAAAAAAAAAAAAAAAAAAAAAAAAAAAAAAAAAAAAAAAAAAAAAAAAAAAAAAAAAAAAAAAAAAAAAAAAAAAAAAAAAAAAAAAAAAAAAAAAAAAAAAAAAAAAAAAAAAAAAAAAAAAAAAAAAAAAAAAAAAAAAAAAAAAAAAAAAAAAAAAAAAAAAAAAAAAAAAAAAAAAAAAAAAAAAAAAAAAAAAAAAAAAAAAAAAAAAAAAAAAAAAAAAAAAAAAAAAAAAAAAAAAAAAAAAAAAAAAAAAAAAAAAAAAAAAAAAAAAAAAAAAAAAAAAAAAAAAAAAAAAAAAAAAAAAAAAAAAAAAAAAAAAAAAAAAAAAAAAAAAAAAAAAAAAAAAAAAAAAAAAAAAAAAAAAAAAAAAAAAAAAAAAAAAAAAAAAAAAAAAAAAAAAAAAAAAAAAAAAAAAAAAAAAAAAAAAAAAAAAAAAAAAAAAAAAAAAAAAAAAAAAAAAAAAAAAAAAAAAAAAAAAAAAAAAAAAAAAAAAAAAAAAAAAAAAAAAAAAAAAAAAAAAAAAAAAAAAAAAAAAAAAAAAAAAAAAAAAAAAAAAAAAAAAAAAAAAAAAAAAAAAAAAAAAAAAAAAAAAAAAAAAAAAAAAAAAAAAAAAAAAAAAAAAAAAAAAAAAAAAAAAAAAAAAAAAAAAAAAAAAAAAAAAAAAAAAAAAAAAAAAAAAAAAAAAAAAAAAAAAAAAAAAAAAAAAAAAAAAAAAAAAAAAAAAAAAAAAAAAAAAAAAAAAAAAAAAAAAAAAAAAAAAAAAAAAAAAAAAAAAAAAAAAAAAAAAAAAAAAAAAAAAAAAAAAAAAAAAAAAAAAAAAAAAAAAAAAAAAAAAAAAAAAAAAAAAAAAAAAAAAAAAAAAAAAAAAAAAAAAAAAAAAAAAAAAAAAAAAAAAAAAAAAAAAAAAAAAAAAAAAAAAAAAAAAAAAAAAAAAAAAAAAAAAAAAAAAAAAAAAAAAAAAAAAAAAAAAAAAAAAAAAAAAAAAAAAAAAAAAAAAAAAAAAAAAAAAAAAAAAAAAAAAAAAAAAAAAAAAAAAAAAAAAAAAAAAAAAAAAAAAAAAAAAAAAAAAAAAAAAAAAAAAAAAAAAAAAAAAAAAAAAAAAAAAAAAAAAAAAAAAAAAAAAAAAAAAAAAAAAAAAAAAAAAAAAAAAAAAAAAAAAAAAAAAAAAAAAAAAAAAAAAAAAAAAAAAAAAAAAAAAAAAAAAAAAAAAAAAAAAAAAAAAAAAAAAAAAAAAAAAAAAAAAAAAAAAAAAAAAAAAAAAAAAAAAAAAAAAAAAAAAAAAAAAAAAAAAAAAAAAAAAAAAAAAAAAAAAAAAAAAAAAAAAAAAAAAAAAAAAAAAAAAAAAAAAAAAAAAAAAAAAAAAAAAAAAAAAAAAAAAAAAAAAAAAAAAAAAAAAAAAAAAAAAAAAAAAAAAAAAAAAAAAAAAAAAAAAAAAAAAAAAAAAAAAAAAAAAAAAAAAAAAAAAAAAAAAAAAAAAAAAAAAAAAAAAAAAAAAAAAAAAAAAAAAAAAAAAAAAAAAAAAAAAAAAAAAAAAAAAAAAAAAAAAAAAAAAAAAAAAAAAAAAAAAAAAAAAAAAAAAAAAAAAAAAAAAAAAAAAAAAAAAAAAAAAAAAAAAAAAAAAAAAAAAAAAAAAAAAAAAAAAAAAAAAAAAAAAAAAAAAAAAAAAAAAAAAAAAAAAAAAAAAAAAAAAAAAAAAAAAAAAAAAAAAAAAAAAAAAAAAAAAAAAAAAAAAAAAAAAAAAAAAAAAAAAAAAAAAAAAAAAAAAAAAAAAAAAAAAAAAAAAAAAAAAAAAAAAAAAAAAAAAAAAAAAAAAAAAAAAAAAAAAAAAAAAAAAAAAAAAAAAAAAAAAAAAAAAAAAAAAAAAAAAAAAAAAAAAAAAAAAAAAAAAAAAAAAAAAAAAAAAAAAAAAAAAAAAAAAAAAAAAAAAAAAAAAAAAAAAAAAAAAAAAAAAAAAAAAAAAAAAAAAAAAAAAAAAAAAAAAAAAAAAAAAAAAAAAAAAAAAAAAAAAAAAAAAAAAAAAAAAAAAAAAAAAAAAAAAAAAAAAAAAAAAAAAAAAAAAAAAAAAAAAAAAAAAAAAAAAAAAAAAAAAAAAAAAAAAAAAAAAAAAAAAAAAAAAAAAAAAAAAAAAAAAAAAAAAAAAAAAAAAAAAAAAAAAAAAAAAAAAAAAAAAAAAAAAAAAAAAAAAAAAAAAAAAAAAAAAAAAAAAAAAAAAAAAAAAAAAAAAAAAAAAAAAAAAAAAAAAAAAAAAAAAAAAAAAAAAAAAAAAAAAAAAAAAAAAAAAAAAAAAAAAAAAAAAAAAAAAAAAAAAAAAAAAAAAAAAAAAAAAAAAAAAAAAAAAAAAAAAAAAAAAAAAAAAAAAAAAAAAAAAAAAAAAAAAAAAAAAAAAAAAAAAAAAAAAAAAAAAAAAAAAAAAAAAAAAAAAAAAAAAAAAAAAAAAAAAAAAAAAAAAAAAAAAAAAAAAAAAAAAAAAAAAAAAAAAAAAAAAAAAAAAAAAAAAAAAAAAAAAAAAAAAAAAAAAAAAAAAAAAAAAAAAAAAAAAAAAAAAAAAAAAAAAAAAAAAAAAAAAAAAAAAAAAAAAAAAAAAAAAAAAAAAAAAAAAAAAAAAAAAAAAAAAAAAAAAAAAAAAAAAAAAAAAAAAAAAAAAAAAAAAAAAAAAAAAAAAAAAAAAAAAAAAAAAAAAAAAAAAAAAAAAAAAAAAAAAAAAAAAAAAAAAAAAAAAAAAAAAAAAAAAAAAAAAAAAAAAAAAAAAAAAAAAAAAAAAAAAAAAAAAAAAAAAAAAAAAAAAAAAAAAAAAAAAAAAAAAAAAAAAAAAAAAAAAAAAAAAAAAAAAAAAAAAAAAAAAAAAAAAAAAAAAAAAAAAAAAAAAAAAAAAAAAAAAAAAAAAAAAAAAAAAAAAAAAAAAAAAAAAAAAAAAAAAAAAAAAAAAAAAAAAAAAAAAAAAAAAAAAAAAAAAAAAAAAAAAAAAAAAAAAAAAAAAAAAAAAAAAAAAAAAAAAAAAAAAAAAAAAAAAAAAAAAAAAAAAAAAAAAAAAAAAAAAAAAAAAAAAAAAAAAAAAAAAAAAAAAAAAAAAAAAAAAAAAAAAAAAAAAAAAAAAAAAAAAAAAAAAAAAAAAAAAAAAAAAAAAAAAAAAAAAAAAAAAAAAAAAAAAAAAAAAAAAAAAAAAAAAAAAAAAAAAAAAAAAAAAAAAAAAAAAAAAAAAAAAAAAAAAAAAAAAAAAAAAAAAAAAAAAAAAAAAAAAAAAAAAAAAAAAAAAAAAAAAAAAAAAAAAAAAAAAAAAAAAAAAAAAAAAAAAAAAAAAAAAAAAAAAAAAAAAAAAAAAAAAAAAAAAAAAAAAAAAAAAAAAAAAAAAAAAAAAAAAAAAAAAAAAAAAAAAAAAAAAAAAAAAAAAAAAAAAAAAAAAAAAAAAAAAAAAAAAAAAAAAAAAAAAAAAAAAAAAAAAAAAAAAAAAAAAAAAAAAAAAAAAAAAAAAAAAAAAAAAAAAAAAAAAAAAAAAAAAAAAAAAAAAAAAAAAAAAAAAAAAAAAAAAAAAAAAAAAAAAAAAAAAAAAAAAAAAAAAAAAAAAAAAAAAAAAAAAAAAAAAAAAAAAAAAAAAAAAAAAAAAAAAAAAAAAAAAAAAAAAAAAAAAAAAAAAAAAAAAAAAAAAAAAAAAAAAAAAAAAAAAAAAAAAAAAAAAAAAAAAAAAAAAAAAAAAAAAAAAAAAAAAAAAAAAAAAAAAAAAAAAAAAAAAAAAAAAAAAAAAAAAAAAAAAAAAAAAAAAAAAAAAAAAAAAAAAAAAAAAAAAAAAAAAAAAAAAAAAAAAAAAAA",
          "dtype": "i1"
         }
        },
        {
         "boxpoints": "outliers",
         "name": "V",
         "type": "box",
         "y": {
          "bdata": "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",
          "dtype": "i2"
         }
        },
        {
         "boxpoints": "outliers",
         "name": "W",
         "type": "box",
         "y": {
          "bdata": "AAAAAAAAAAAAAAAAAAAAAAAAAAAAAAAAAAAAAAAAAAAAAAAAAAAAAAAAAAAAAAAAAAAAAAAAAAAAAAAAAAAAAAAAAAAAAAAAAAAAAAAAAAAAAAAAAAAAAAAAAAAAAAAAAAAAAAAAAAAAAAAAAAAAAAAAAAAAAAAAAAAAAAAAAAAAAAAAAAAAAAAAAAAAAAAAAAAAAAAAAAAAAAAAAAAAAAAAAAAAAAAAAAAAAAAAAAAAAAAAAAAAAAAAAAAAAAAAAAAAAAAAAAAAAAAAAAAAAAAAAAAAAAAAAAAAAAAAAAAAAAAAAAAAAAAAAAAAAAAAAAAAAAAAAAAAAAAAAAAAAAAAAAAAAAAAAAAAAAAAAAAAAAAAAAAAAAAAAAAAAAAAAAAAAAAAAAAAAAAAAAAAAAAAAAAAAAAAAAAAAAAAAAAAAAAAAAAAAAAAAAAAAAAAAAAAAAAAAAAAAAAAAAAAAAAAAAAAAAAAAAAAAAAAAAAAAAAAAAAAAAAAAAAAAAAAAAAAAAAAAAAAAAAAAAAAAAAAAAAAAAAAAAAAAAAAAAAAAAAAAAAAAAAAAAAAAAAAAAAAAAAAAAAAAAAAAAAAAAAAAAAAAAAAAAAAAAAAAAAAAAAAAAAAAAAAAAAAAAAAAAAAAAAAAAAAAAAAAAAAAAAAAAAAAAAAAAAAAAAAAAAAAAAAAAAAAAAAAAAAAAAAAAAAAAAAAAAAAAAAAAAAAAAAAAAAAAAAAAAAAAAAAAAAAAAAAAAAAAAAAAAAAAAAAAAAAAAAAAAAAAAAAAAAAAAAAAAAAAAAAAAAAAAAAAAAAAAAAAAAAAAAAAAAAAAAAAAAAAAAAAAAAAAAAAAAAAAAAAAAAAAAAAAAAAAAAAAAAAAAAAAAAAAAAAAAAAAAAAAAAAAAAAAABwcHBwcHBwcHBwAAAAAAAAAHBwcHBwcHBwcHBwcHBwcHBwcHBwcHBwcHBwcHBwcHBwcHBwcHBwcHBwcHBwcHBwcHBwcHBwcHBwcHBwcHBwcHBwcHBwcHBwcHBwcHBwcHBwcHBwcHBwcHBwcHBwcHBwcHBwcHBwcHBwcHBwcHBwcHBwcHBwcHBwcHBwcHBwcHBwcHBwcHBwcHBwcHBwcHBwcHBwcHBwcHBwcHBwcHBwcHBwcHBwcHBwcHBwcHBwcHBwcHBwcHBwcHBwcHBwcHBwcHBwcHBwcHBwcHBwcHBwcHBwcHBwcHBwcHBwcHBwcHBwcHBwcHBwcHBwcHBwcHBwcHBwcHBwcHBwcHBwcHBwcHBwcHBwcHBwcHBwcHBwcHBwcHBwcHBwcHBwcHBwcHBwcHBwcHBwcHBwcHBwcHBwcHBwcHBwcHBwcHBwcHBwcHBwcHBwcHBwcHBwcHBwcHBwcHBwcHBwcHBwcHBwcHBwcHBwcHBwcHBwcHBwcHBwcHBwcHBwcHBwcHBwcHBwcHBwcHBwcHBwcHBwcHBwcHBwcHBwcHBwcHBwcHBwcHBwcHBwcHBwcHBwcHBwcHBwcHBwcHBwcHBwcHBwcHBwcHBwcHBwcHBwcHBwcHBwcHBwcHBwcHBwcHBwcHBwYHBwcHBwcHBwcHBwcHBwcHBwcHBwcHBwcHBwcHBwcHBwcHBwcHBwcHBwcHBwcHBwcHBwcHBwcHBwcHBwcHBwcHBwcHBwcHBwcHBwcHBwcHBwcHBwcHBwcHBwcHBwcHBwcHBwcHBwcHBwcHBwcHBwcHBwcHBwcHBwcHBwcHBwcHBwcHBwcHBwcHBwcHBwcHBwcHBwcHBwcHBwcHBwcHBwcHBwcHBwcHBwcHBwcHBwcHBwcHBwcHBwcHBwcHBwcHBwcHBwcHBwcHBwcHBwcHBwcHBwcMDAcHBwcHBwcHBwcHBwcHBwcHBwcHBwcHBwcHBwcHBwcHBwcHBwcHBwcHBwcHBwcHBgcHBwcHBwcHBwcHBwcHBwYHBwYHBwcHBwcHBwcHBwcHBwUHBwcHBwcHBwYHBwcDBwcHBwcHBwcHBwcHBwcHBwcHBwcHBwcHBwcHBwcHBwcHBwcHBwcHBwcHBwcHBwcHBwcHBwcHBwcHBwcHBwcHBwcMCwsLAQAGDC5ODg4ODg4OCQkJDAwMDAwGDC5OAAUBAQABAAYMLk4ABQEBAC5OAAUBAQABAAYMLk4ABQEBAAEAAAUBAQABAAYMLk4ABQEBAAEABgwBAAEBAAYMLk4ABQEBAAEABgwuTgABAAYMLk4ABQEBAAEABgwuTgAFAAYMLk4ABQEBAAEABgwuTgAFAQEMLk4ABQEBAAEADAYuTgEBAwMDAwMDAwMDAwMDAwMDAwMDAwMDAwMDAwMDAwMDAwUFBQUFBQUFBQUFBQUFBQUFBQUFBQUFBQUFBQUFBQUFBQUFBQUFBQUFBQUFBQUFBQUFBQUFBQUFBQUFBQUFBQUFBQUFBQUFBQUFBQUFBQUFBQUFBQUFBQUFBQUFBQUFBQUFBQUFBQUFBQUFBQUFBQUFBQUFBQUFBQUFBQUFBQUFBQUFBQUFBQUFBQUFBQUFBQUFBQUFBQUFBQUFBQUFBQUFBQUFBQUFBQUFBQUFBQUFBQUFBQUFBQUFBQUFBQUFBQUFBQUFBQUFBQUFBQUFBQUFBQUFBQUFBQUFBQUFBQUFBQUFBQUFBQUFBQUFBQUFBQUFBQUFBQUFBQUFBQUFBQUFBQUFBQUFBQUFBQUFBQUFBQUFBQUFBQUFBQUFBQUFBQUFBQUFBQUFBQUFBQMDAwMDAwMDAwUFBQUFBQUFBQUFBQUFBQUFBQUFBQUFBQUFBQUFBQUFBQUFBQUFBQUFBQUFBQUFBQUFBQUFBQUFBQUFBQUFBQUFBQUFBQUFBQUFBQUFBQUFBQUFBQUFBQUFBQUFBQUFBQUFBQUFBQUFBQUFBQUFBQUFBQUFBQUFBQUFBQUFBQUFBQUFBQUFBQUFBQUFBQUFBQUFBQUFBQUFBQUFBQUFBQUFBQUFBQUFBQUFBQUFBQUFBQUFBQUFBQUFBQUFBQUFBQUFBQUFBQUFBQUFBQUFBQUFBQUFBQUFBQUFBQUFBQUFBQUFBQUFBQUFBQUFBQUFBQUFBQUFBQUFBQUFBQUFBQUFBQUFBQUFBQUFBQUFBQUFBQUFBQUFBQUFBQUFBQUFBQUFBQUFBQUFBQUFBQUFBQUFBQUFBQUFBQUFBQUFBQUFBQUFBQUFBQUFBQUFBQUFBQUFBQUFBQUFBQUFBQUFBQUFBQUFBQUFBQUFBQUFBQUFBQUFBQUFBQUFBQUFBQUFBQUFBQUFBQUFBQUFBQUFBQUFBQUFBQUFBQUFBQUFBQUFBQUFBQUFBQUFBQUFBQUFBQUFBQUFBQUFBQUFBQUFBQUFBQUFBQUFBQUFBQUFBQUFBQUFBQUFBQUFBQUFBQUFBQUFBQUFBQUFBQUFBQUFBQUFBQUFBQUFBQUFBQUFBQUFBQUFBQUFBQUFBQUFBQUFBQUFBQUFBQUFBQUFBQUFBQUFBQUFBQUFBQUFBQUFBQUFBQUFBQUFBQUFBQUFBQUFBQUFBQUFBQUFBQUFBQUFBQUFBQUFBQUFBQUFBQUFBQUFBQUFBQUFBQUFBQUFBQUFBQUFBQUFBQUFBQUFBQUFBQUFBQUFBQUFBQUFBQUFBQUFBQUFBQUFBQUFBQUFBQUFBQUFBQUFBQUFBQUFBQUFBQUFBQUFBQUFBQUFBQUFBQUFBQUFBQUFBQUFBQUFBQUFBQUFBQUFBQUFBQUFBQUFBQUFBQUFBQUFBQUFBQUFBQUFBQUFBQUFBQUFBQUFBQUFBQUFBQUFBQUFBQUFBQUFBQUFBQUFBQUFBQUFBQUFBQUFBQUFBQUFBQUFBQUFBQUFBQUFBQUFBQUFBQUFBQUFBQUFBQUFBQUFBQUFBQUFBQUFBQUFBQUFBQUFBQUFBQUFBQUFBQUFBQUFBQUFBQUFBQUFBQUFBQUFBQUFBQUFBQUFBQUFBQUFBQUFBQUFBQUFBQUFBQUFBQUFBQUFBQUFBQUFBQUFBQUFBQUFBQUFBQUFBQUFBQUFBQUFBQUFBQUMDAwMDAwMDAwMDAwMDAwMDAwJCQkJCQkJCQkJCQkJCQkODg4MDAwMDAwMDAwMDAwMDAwMDAwMDAwMDAwMDAwMDAwMDAwMDAwMDAwMCgoKDAwMDAwMDAwMDAwMDAwMDAwMDAwMDAwMDAwMDAwMDAwMDAwMDAwMDAwMDAwMDAwMDAwMCgoKCgoKDAwMDAwMDAwMAgwMDAkJCQoKCgoMDAwJCQkMDAkMCQkKCgoKCgoKCgIMDAwMDAwMDAwMDAwMDAwMDAwMDAwMDAwMDAwJCQkJCQkJCQkKCgoMDAwMDAwJCQkKCgoKDAwMDAwMDAwMDAwMDAwMCQkJCgoKDAwMDAwMDAwMDAwMCgoKCgoKCgoKDAAACQwMDAoKCgkJCQkCDAwMDAwMAgIKCgoKCgoKCgoJCQkJCQkJCgoKBwwMDAwMDAwMDAwJCQkMCgoKCgoKCwsLCQkJAAwCCQkJCQkJCQkJAgkJCQkJCQkJCQoKCgwMDAwMDAwMCQwJCQkJCQsLCwIMDAwCDAwMDAwMDAwMDAwMDAwMDAwMDAwMCQkMCQwMDAwMCQkJCQwMDAwMDAwMDAICAgIMCwsLCwsLCwwMDAkJCQwMDAwMDAkCDAwMAgICAgALDAwMCQkMDAwCAgICAgoKCgwMDAwMDAwMDAwMDAwMDAICDAwJCQkKCgoMDAwMDAwMDAwMCQAMAgkJCQkJCQkJCQIJCQkJCQkCAgIMDAwMDAwMDAkMCQkMDAwKCgoMDAwMDAwMDAwMDAwKCgoKCgoMDAwCAgQMDAwLCwsLCwsMDAwMDAIMCgoKCQkJCQkJCQkJCgoJCgkJCQkJCQkJCQkJAgIKCgoMDAwCAgkJCQwMDAwMDAwMDAQEDAwKDAoKCwsLCgoKDAwMCQICCgoKCgoKDAwMCwsLCwsLCwsLCwsLCwsKCgoKCgoKCgoCCQkJDAwMCgoKCgoKAgwMDAwMDAwCCgoKCgoKAgkJCQoFBQUKCgoMDAwMDAwJCQkJCQIJAggICAgICAAMDAwEDAwMDAwMDAwKCgoKCgoCAgoKCgoKCgoLCwsKCgoKCgoKCgoJCQkBCAgIAAACAgkJCQkMDAkJCQwKCgoCAgoKCgwMDAwMDAwMDAoHCgoKCgoMDAwMDAwMDAwMDAwMDAwMDAwMDAwMDAwCAgICAgICAgICAgILCQkJDAwMDg4OCQkJCwsLCgoKCgoKCgoMDAwKCgoKCgoJCQkCCwsLDAwMCgoKCgoMDAwMDAwCDAwMDAoKCgoKCgoKCgIACgoKDAwMAAkJCQILCwsCAAwMDAwMDAICAgICAgIMCgoKAgACCQkJCwsLDAwMDAoKAgICCwsLAgIKCgoLCwsCDAwMCgoK",
          "dtype": "i1"
         }
        },
        {
         "boxpoints": "outliers",
         "name": "X",
         "type": "box",
         "y": {
          "bdata": "AAAAAAAAAAAAAAAAAAAAAAAAAAAAAAAAAAAAAAAAAAAAAAAAAAAAAAAAAAAAAAAAAAAAAAAAAAAAAAAAAAAAAAAAAAAAAAAAAAAAAAAAAAAAAAAAAAAAAAAAAAAAAAAAAAAAAAAAAAAAAAAAAAAAAAAAAAAAAAAAAAAAAAAAAAAAAAAAAAAAAAAAAAAAAAAAAAAAAAAAAAAAAAAAAAAAAAAAAAAAAAAAAAAAAAAAAAAAAAAAAAAAAAAAAAAAAAAAAAAAAAAAAAAAAAAAAAAAAAAAAAAAAAAAAAAAAAAAAAAAAAAAAAAAAAAAAAAAAAAAAAAAAAAAAAAAAAAAAAAAAAAAAAAAAAAAAAAAAAAAAAAAAAAAAAAAAAAAAAAAAAAAAAAAAAAAAAAAAAAAAAAAAAAAAAAAAAAAAAAAAAAAAAAAAAAAAAAAAAAAAAAAAAAAAAAAAAAAAAAAAAAAAAAAAAAAAAAAAAAAAAAAAAAAAAAAAAAAAAAAAAAAAAAAAAAAAAAAAAAAAAAAAAAAAAAAAAAAAAAAAAAAAAAAAAAAAAAAAAAAAAAAAAAAAAAAAAAAAAAAAAAAAAAAAAAAAAAAAAAAAAAAAAAAAAAAAAAAAAAAAAAAAAAAAAAAAAAAAAAAAAAAAAAAAAAAAAAAAAAAAAAAAAAAAAAAAAAAAAAAAAAAAAAAAAAAAAAAAAAAAAAAAAAAAAAAAAAAAAAAAAAAAAAAAAAAAAAAAAAAAAAAAAAAAAAAAAAAAAAAAAAAAAAAAAAAAAAAAAAAAAAAAAAAAAAAAAAAAAAAAAAAAAAAAAAAAAAAAAAAAAAAAAAAAAAAAAAAAAAAAAAAAAAAAAAAAAAAAAAAAAAAAAAAAAAAAAAAAAAAAAAAAAAAAAAAAAAAAAAAAAAAAAAAAAAAAAAAAAAAAAAAAAAAAAAAAAAAAAAAAAAAAAAAAAAAAAAAAAAAAAAAAAAAAAAAAAAAAAAAAAAAAAAAAAAAAAAAAAAAAAAAAAAAAAAAAAAAAAAAAAAAAAAAAAAAAAAAAAAAAAAAAAAAAAAAAAAAAAAAAAAAAAAAAAAAAAAAAAAAAAAAAAAAAAAAAAAAAAAAAAAAAAAAAAAAAAAAAAAAAAAAAAAAAAAAAAAAAAAAAAAAAAAAAAAAAAAAAAAAAAAAAAAAAAAAAAAAAAAAAAAAAAAAAAAAAAAAAAAAAAAAAAAAAAAAAAAAAAAAAAAAAAAAAAAAAAAAAAAAAAAAAAAAAAAAAAAAAAAAAAAAAAAAAAAAAAAAAAAAAAAAAAAAAAAAAAAAAAAAAAAAAAAAAAAAAAAAAAAAAAAAAAAAAAAAAAAAAAAAAAAAAAAAAAAAAAAAAAAAAAAAAAAAAAAAAAAAAAAAAAAAAAAAAAAAAAAAAAAAAAAAAAAAAAAAAAAAAAAAAAAAAAAAAAAAAAAAAAAAAAAAAAAAAAAAAAAAAAAAAAAAAAAAAAAAAAAAAAAAAAAAAAAAAAAAAAAAAAAAAAAAAAAAAAAAAAAAAAAAAAAAAAAAAAAAAAAAAAAAAAAAAAAAAAAAAAAAAAAAAAAAAAAAAAAAAAAAAAAAAAAAAAAAAAAAAAAAAAAAAAAAAAAAAAAAAAAAAAAAAAAAAAAAAAAAAAAAAAAAAAAAAAAAAAAAAAAAAAAAAAAAAAAAAAAAAAAAAAAAAAAAAAAAAAAAAAAAAAAAAAAAAAAAAAAAAAAAAAAAAAAAAAAAAAAAAAAAAAAAAAAAAAAAAAAAAAAAAAAAAAAAAAAAAAAAAAAAAAAAAAAAAAAAAAAAAAAAAAAAAAAAAAAAAAAAAAAAAAAAAAAAAAAAAAAAAAAAAAAAAAAAAAAAAAAAAAAAAAAAAAAAAAAAAAAAAAAAAAAAAAAAAAAAAAAAAAAAAAAAAAAAAAAAEQAAAAAAAAAAAAIAAAACAAsAABUAAAAAAAAAAAIAAAAAAAAAAAAAAAACABEAAgA2AAAAAAAAAAAAAAAAAAAAAAAAAAAAAAAAAAAAAAAAAAAAAAAAAAAAAAAAAAAAAAAAAAAAAAAAAAAAAAAAAAAAAAAAAAAAAAAAAAAAAAAAAAAAAAAAAAAAAAAAAAAAAAAAAAAAAAAAAAAAAAAAAAAAAAAAAAAAAAAAAAAAAAAAAAAAAAAAAAAAAAAAAAAAAAAAAAAAAAAAAAAAAAAAAAAAAAAAAAAAAAAAAAAAAAAAAAAAAAAAAAAAAAAAAAAAAAAAAAAAAAAAAAAAAAAAAAAAAAAAAAAAAAAAAAAAAAAAAAAAAAAAAAAAAAAAAAAAAAAAAAAAAAAAAAAAAAAAAAAAAAAAAAAAAAAAAAAAAAAAAAAAAAAAAAAAAAAAAAAAAAAAAAAAAAAAAAAAAAAAAAAAAAAAAAAAAAAAAAAAAAAAAAAAAAAAAAAAAAAAAAAAAAAAAAAAAAAAAAAAAAAAAAAAAAAAAAAAAAAAAAAAAAAAAAAAAAAAAAAAAAAAAAAAAAAAAAAAAAAAAAAAAAAAAAAAAAAAAAAAAAAAAAAAAAAAAAAAAAAAAAAAAAAAAAAAAAAAAAAAAAAAAAAAAAAAAAAAAAAAAAAAAAAAAAAAAAAAAAAAAAAAAAAAAAAAAAAAAAAAAAAAAAAAAAAAAAAAAAAAAAAAAAAAAAAAAAAAAAAAAAAAAAAAAAAAAAAAAAAAAAAAAAAAAAAAAAAAAAAAAAAAAAAAAAAAAAAAAAAAAAAAAAAAAAAAAAAAAAAAAAAAAAAAAAAAAAAAAAAAAAAAAAAAAAAAAAAAAAAAAAAAAAAAAAAAAAAAAAAAAAAAAAAAAAAAAAAAAAAAAAAAAAAAAAAAAAAAAAAAAAAAAAAAAAAAAAAAAAAAAAAAAAAAAAAAAAAAAAAAAAAAAAAAAAAAAAAAAAAAAAAAAAAAAAAAAAAAAAAAAAAAAAAAAAAAAAAAAAAAAAAAAAAAAAAAAAAAAAAAAAABAAAAAAAAAAAAAAAAAAAAAAAAAAAAAAAAAAAAAAAAAAAAAAAAAAAAAAAAAAAAAAAAAAAAAAAAAAAAAAAAAAAAAAAAAAAAAAAAAQAAAAAAAAAAAAAAAAAAAAAAAAAAAAAAAAAAAQEAAAAAAAAAAAAAAAAAAAAAAAAAAAAAAAAAAAAAAAAAAAAAAAAAAAAAAAAAAAMAAAAAAAAAAAAAAAcAAAIAAAAAAAAAAAAAAAAAAAAAAAAAAAAAAAAAAAAAAAAAAAAAAAAAAAAAAAAAAAAAAAAAAAAAAAAAAAAAAAAAAAAAAAAAAAAAAAAAAAAAAAAAAAAAAAAAAAAAAAAAAAAAAAAAAAAAAAAAAAAAAAAAAAAAAAAAAAAAAAAAAAAAAAAAAAAAAAAAAAAAAAAAAAAAAAAAAAAAAAAAAAAAAAAAAAAAAAAAAAAAAAAAAAAAAAAAAAAAAAAAAAAAAAAAAAAAAAAAAAAAAAAAAAAAAAAAAAAAAAAAAAAAAAAAAAAAAAAAAAAAAAAAAAAAAAAAAAAAAAAAAAAAAAAAAAAAAAAAAAAAAAAAAAAAAAAAAAAAAAAAAAAAAAAAAAAAAAAAAAAAAAAAAAAAAAAAAAAAAAAAAAAAAAAAAAAAAAAAAAAAAAAAAAAAAAAAAAAAAAAAAAAAAAAAAAAAAAAAAAAAAAAAAAAAAAAAAAAAAAAAAAAAAAAAAAAAAAAAAAAAAAAAAAAAAAAAAAAAAAAAAAAAAAAAAAAAAAAAAAAAAAAAAAAAAAAAAAAAAAAAAAAAAAAAAAAAAAAAAAAAAAAAAAAAAAAAAAAAAAAAAAAAAAAAAAAAAAAAAAAAAAAAAAAAAAAAAAAAAAAAAAAAAAAAAAAAAAAAAAAAAAAAAAAAAAAAAAAAAAAAAAAAAAAAAAAAAAAAAAAAAAAAAAAAAAAAAAAAAAAAAAAAAAAAAAAAAAAAAAAAAAAAAAAAAAAAAAAAAAAAAAAAAAAAAAAAAAAAAAAAAAAAAAAAAAAAAAAAAAAAAAAAAAAAAAAAAAAAAAAAAAAAAAAAAAAAAAAAAAAAAAAAAAAAAAAAAAAAAAAAAAAAAAAAAAAAAAAAAAAAAAAAAAAAAAAAAAAAAAAAAAAAAAAAAAAAAAAAAAAAAAAAAAAAAAAAAAAAAAAAAAAAAAAAAAAAAAAAAAAAAAAAAAAAAAAAAAAAAAAAAAAAAAAAAAAAAAAAAAAAAAAAAAAAAAAAAAAAAAAAAAAAAAAAAAAAAAAAAAAAAAAAAAAAAAAAAAAAAAAAAAAAAAAAAAAAAAAAAAAAAAAAAAAAAAAAAAAAAAAAAAAAAAAAAAAAAAAAAAAAAAAAAAAAAAAAAAAAAAAAAAAAAAAAAAAAAAAAAAAAAAAAAAAAAAAAAAAAAAAAAAAAAAAAAAAAAAAAAAAAAAAAAAAAAAAAAAAAAAAAAAAAAAAAAAAAAAAAAAAAAAAAAAAAAAAAAAAAAAAAAAAAAAAAAAAAAAAAAAAAAAAAAAAAAAAAAAAAAAAAAAAAAAAAAAAAAAAAAAAAAAAAAAAAAAAAAAAAAAAAAAAAAAAAAAAAAAAAAAAAAAAAAAAAAAAAAAAAAAAAAAAAAAAAAAAAAAAAAAAAAAAAAAAAAAAAAAAAAAAAAAAAAAAAAAAAAAAAAAAAAAAAAAAAAAAAAAAAAAAAAAAAAAAAAAAAAAAAAAAAAAAAAAAAAAAAAAAAAAAAAAAAAAAAAAAAAAAAAAAAAAAAAAAAAAAAAAAAAAAAAAAAAAAAAAAAAAAAAAAAAAAAAAAAAAAAAAAAAAAAAAAAAAAAAAAAAAAAAAAAAAAAAAAAAAAAAAAAAAAAAAAAAAAAAAAAAAAAAAAAAAAAAAAAAAAAAAAAAAAAAAAAAAAAAAAAAAAAAAAAAAAAAAAAAAAAAAAAAAAAAAAAAAAAAAAAAAAAAAAAAAAAAAAAAAAAAAAAAAAAAAAAAAAAAAAAAAAAAAAAAAAAAAAAAAAAAAAAAAAAAAAAAAAAAAAAAAAAAAAAAAAAAAAAAAAAAAAAAAAAAAAAAAAAAAAAAAAAAAAAAAEAAAAAAAAAAAAAAAAAAAAAAAAAAAAAAAAAAAAAAAAAAAAAAAAAAAAAAAAAAAAAAAAAAAAAAAAAAAAAAAAAAAAAAAAAAAAAAAAAAAAAAAAAAAAAAAAAAAAAAAAAAAAAAAAAAAAAAAAAAAAAAAAAAAAAAAAAAAAAAAAAAAAAAAAAAAAAAAAAAAAAAAAAAAAAAAAAAAAAAAAAAAAAAAAAAAAAAAAAAAAAAAAAAAAAAAAAAAAAAAAAAAAAAAAAAAAAAAAAAAAAAAAAAAAAAAAAAAAAAAAAAAAAAAAAAAAAAAAAAAAAAAAAAAAAAAAAAAAAAAAAAAAAAAAAAAAAAAAAAAAAAAAA",
          "dtype": "i1"
         }
        },
        {
         "boxpoints": "outliers",
         "name": "Y",
         "type": "box",
         "y": {
          "bdata": "AAAAAAAAAAAAAAAAAQAAAAAAAAAAAAQABAAEAAQABAAEAAQABAAEAAQABAAEAAQABAAEAAQABAAEAAQABAAEAAQABAAEAAQABAAEAAQABAAEAAQABAAEAAQABAAEAAQABAAEAAQABAAEAAQABAAEAAQABAAEAAQABAAEAAQABAAEAAQABAAEAAQABAAEAAQABAAEAAQABAAEAAQABAAEAAQABAAEAAQABAAEAAQABAAEAAQABAAEAAQABAAEAAQABAAEAAQABAAEAAQABAAEAAQABAAEAAQABAAEAAQABAAEAAQABAAEAAQABAAEAAQABAAEAAQABAAEAAQABAAEAAQABAAEAAQABAAEAAQABAAEAAQABAAEAAQABAAEAAQABAAEAAQABAAEAAQABAAEAAQABAAEAAQABAAEAAQABAAEAAQABAAEAAQABAAEAAQABAAEAAQABAAEAAQABAAEAAQABAAEAAQABAAEAAQABAAEAAQABAAEAAQABAAEAAQABAAEAAQABAAEAAQABAAEAAQABAAEAAQABAAEAAQABAAEAAQABAAEAAQABAAEAAQABAAEAAQABAAEAAQABAAEAAQABAAEAAQABAAEAAQABAAEAAQABAAEAAQABAAEAAQABAAEAAQABAAEAAQABAAEAAQABAAEAAQABAAEAAQABAAEAAQABAAEAAQABAAEAAQABAAEAAQABAAEAAQABAAEAAQABAAEAAQABAAEAAQABAAEAAQABAAEAAQABAAEAAQABAAEAAQABAAEAAQABAAEAAQABAAEAAQABAAEAAQABAAEAAQABAAEAAQABAAEAAQABAAEAAQABAAEAAQABAAEAAQABAAEAAQABAAEAAQABAAEAAQABAAEAAQABAAEAAQABAAEAAQABAAEAAQABAAEAAQABAAEAAQABAAEAAQABAAEAAQABAAEAAQABAAEAAQABAAEAAQABAAEAAQABAAEAAQABAAEAAQABAAEAAQABAAEAAQABAAEAAQABAAEAAQABAAEAAQABAAEAAQABAAEAAQABAAEAAQABAAEAAQABAAEAAQABAAEAAQABAAEAAQABAAEAAQABAAEAAQABAAEAAQABAAEAAQABAAEAAQABAAEAAQABAAEAAQABAAEAAQABAAEAAQABAAEAAQABAAEAAQABAAEAAQABAAEAAQABAAEAAQABAAEAAQABAAEAAQABAAEAAQABAAEAAQABAAEAAQABAAEAAQABAAEAAQABAAEAAQABAAEAAQABAAEAAQABAAEAAQABAAEAAQABAAEAAQABAAEAAQABAAEAAQABAAEAAQABAAEAAQABAAEAAQABAAEAAQABAAEAAQABAAEAAQABAAEAAQABAAEAAQABAAEAAQABAAEAAQABAAEAAQABAAEAAQABAAEAAQABAAEAAQABAAEAAQABAAEAAQABAAEAAQABAAEAAQABAAEAAQABAAEAAQABAAEAAQABAAEAAQABAAEAAQABAAEAAQABAAEAAQABAAEAAQABAAEAAQABAAEAAQABAAEAAQABAAEAAQABAAEAAQABAAEAAQABAAEAAQABAAEAAQABAAEAAQABAAEAAQABAAEAAQABAAEAAQABAAEAAQABAAEAAQABAAEAAQABAAEAAQABAAEAAQABAAEAAQABAAEAAQABAAEAAQABAAEAAQABAAEAAQABAAEAAQABAAEAAQABAAEAAQABAAEAAQABAAEAAQABAAEAAQABAAEAAQABAAEAAQABAAEAAQABAAEAAQABAAEAAQABAAEAAQABAAEAAQABAAEAAQACQAJAAkACQAJAAkACQAJAAsACwAAAAAAAAAAAAAAAAAAAAsACwAJAAkACQAJAAkACQAJAAkACQAJAAkACQAJAAkACQAJAAkACQAJAAkACgAJAAkACQAJAAkACQAJAAkACQAJAAkACQAJAAkACQAJAAkACQAJAAkACQAJAAkACQAKAAkACQAKAAkACQAJAAkACQAJAAkACQAJAAkACQAJAAkACQAJAAkACQAJAAkACQAJAAkACQAJAAkACQAJAAkACQAJAAkACQAJAAkACQAJAAkACQAJAAkACQAJAAkACQAJAAkACQAJAAkACQAJAAkACQAJAAkACQAJAAkACQAJAAkACQAJAAkACQAJAAkACQAJAAkACQAJAAkACQAJAAkACQAJAAkACQAJAAkACQAJAAkACQAJAAkACQAJAAkACQAJAAkACQAKAAkACQAJAAkACQAJAAkACQAJAAkACQAJAAkACQAJAAkACQAJAAkACQAJAAkACQAJAAkACQAJAAkACQAJAAkACQAJAAkACQAJAAkACQAJAAkACQAJAAkACQAJAAkACQAJAAkACQAJAAkACQAJAAkACQAJAAkACQAJAAkACQAJAAkACQAJAAkACQAJAAkACQAJAAkACQAJAAkACQAJAAkACQAJAAkACQAJAAkACQAJAAkACQAJAAkACQAJAAkACQAJAAkACQAJAAkACQAJAAkACQAJAAkACQAJAAkACQAJAAkACQAJAAkACQAJAAkACQAJAAkACQAJAAkACQAJAAkACQAJAAkACQAJAAkACQAJAAkACQAJAAkACQAJAAkACQAJAAkACQAJAAkACQAJAAkACQAJAAkACQAJAAkACQAJAAkACQAJAAkACQAJAAkACQAJAAkACQAJAAkACQAJAAkACQAJAAkACQAJAAkACQAJAAkACQAJAAkACQAJAAkACQAJAAkACQAJAAkACQAJAAkACQAJAAkACQAJAAkACQAJAAkACQAJAAkACQAKAAoACgAJAAkACQAJAAkACQAJAAkACQAJAAkACgAJAAkACQAJAAkACQAJAAkACQAJAAkACQAJAAkACQAJAAkACgAJAAkACQAJAAkACQAJAAkACQAJAAkACQAJAAkACQAJAAkACQAJAAkACQAJAAkACQAJAAkACQAJAAkACQAJAAkACQAJAAkACQAJAAkACQAJAAkACQAJAAkACQAJAAkACQAJAAkACQAJAAoACQAJAAkACQAJAAoACQAJAAkACQAJAAkACQAJAAkACQAJAAkACQAJAAkACQAJAAkACQAJAAkACQAEAAkACQAJAAkACQAJAAkACQAJAAkACQAJAAkACQAJAAkACQAJAAkACQAJAAkACQAJAAkACQAJAAkACQAJAAkACQAJAAkACQAJAAkACQAJAAkACQAJAAkACQAJAAkACQAJAAkACQAJAAkACQAJAAkACQAJAAkACQAJAAkACQAJAAkACQAJAAkACQAJAAkACQAJAAkACQAJAAkACQAJAAkACQAJAAkACQAJAAkACQAJAAkACQAJAAkACQAJAAkACQAJAAkACQAJAAkACQAJAAkACQAJAAkACQAJAAkACQAJAAkACQAJAAkACQAJAAkACQAJAAkACQAJAAkACQAJAAkACQAJAAkACQAJAAkACQAJAAkACQAJAAkACQAJAAkACQAJAAkACQAJAAkACQAJAAkACQAJAAkACQAJAAkACQAJAAkACQAJAAkACQAJAAkACQAJAAkACQAJAAkACQAJAAkACQAJAAkACQAJAAkACQAJAAoACQAJAAkACQAJAAkACQAJAAkACQAJAAkACQAJAAkACQAJAAkACQAJAAkACQAJAAkACQAJADUANQAJAAkACQAJAAkACQAJAAkACQAJAAkACQAJAAkACQAJAAkACQAJAAkACQAJAAkACQAJAAkACQAJAAkACQAJAAkACQAJAAkACQAJAAkACQAJAAkACQAJAAkACQAJAAkACAAJAAkACQAJAAkACQAJAAkACQAJAAkACQAJAAkACQAJAAkACQAIAAkACQAJAAkACQAJAAkACQAJAAkACQAJAAkACQAJAAkACQAJAAkACQAJAAkACQAIAAkACQAJAAYACQAJAAkACQAJAAkACQAJAAkACQAJAAkACQAJAAkACQAJAAkACQAJAAkACQAJAAkACQAKAAkACQAKAAkACQAJAAkACQAJAAkACQAJAAkACQAJAAkACQAJAAkACQAJAAkACQAJAAkACQAJAAkACQAJAAkACQAJAAkACQAJAAkACQAJADUANgA2ADYAAgAEABEANgDDAE8BNgA2ADYANgA2ADYAMQAxADEANgA2ADYANgA2ABEANgDDAE8BAwALAAcAAQAFAAIABAARADYAwwBPAQMACwAHAAEABQDEAFABAwALAAcAAQAFAAIABAARADYAwwBPAQMACwAHAAEABQACAAQAAwALAAcAAQAFAAIABAARADYAwwBPAQMACwAHAAEABQACAAQAEQA2AAcABQABAAIABAARADYAwwBPAQMACwAHAAEABQACAAQAEQA2AMMATwEFAAIABAARADYAwwBPAQMACwAHAAEABQACAAQAEQA2AMMATwEDAAsABAARADYAwwBPAQMACwAHAAEABQACAAQAEQA2AMQAUAEDAAsABwABADYAwwBPAQMACwAHAAEABQACAAQANgARAMMATwEDAAMACQAJAAkACQAJAAkACQAJAAkACQAJAAkACQAJAAkACQAJAAkACgAJAAkACQAJAAkACQAJAAkACQAJAAkACQALAAsACwALAAsACwALAAsACwALAAsACwALAAsACwALAAsACwALAAsACwALAAsACwALAAsACwALAAsACwALAAsACwALAAsACwALAAsACwALAAsACwALAAsADAALAAsACwALAAsACwALAAsACwALAAsACwALAAsACwALAAsACwALAAsACwALAAsACwALAAsACwALAAsACwALAAsACwALAAsACwALAAsACwALAAsACwALAAsACwALAAsACwALAAsACwALAAsACwALAAsACwALAAsACwALAAsACwALAAsACwALAAsACwALAAsACwALAAsACwALAAsACwALAAsACwALAAsACwALAAsACwALAAsACwALAAsACwALAAsACwALAAsACwALAAsACwALAAsACwALAAsACwALAAsACwALAAsACwALAAsACwALAAsACwALAAsACwAMAAsACwALAAsACwALAAsACwALAAsACwALAAsADAALAAsACwALAAsACwALAAsACwALAAsACwALAAsACwALAAsACwALAAsACwALAAsACwALAAsACwALAAsACwALAAsACwALAAsACwALAAsACwALAAsACwALAAsACwALAAsACwALAAsACwALAAsACwALAAsACwALAAsACwALAAsACwALAAsACwALAAsACwALAAsACwALAAsACwALAAsACwALAAsACwALAAsACwALAAsACwALAAsACwALAAsACwALAAsACwALAAsACwALAAsACwALAAsACwALAAsACwALAAsACwALAAsACwALAAsACwAJAAkACQAJAAkACQAKAAkACQALAAsACwALAAsACwALAAsACwALAAsACwALAAsACwALAAsACwALAAsACwALAAsACwALAAsACwALAAsACwALAAsACwALAAsACwALAAsACwALAAsACwALAAsACwALAAsACwALAAsACwALAAsACwALAAsACwALAAsACwALAAsACwALAAsACwALAAsACwALAAsACwALAAsACwALAAsACwALAAsACwALAAsACwALAAsACwALAAsACwALAAsACwALAAsACwALAAsACwALAAsACwALAAsACwALAAsACwALAAsACwALAAsACwALAAsACwALAAsACwALAAsACwALAAsACwALAAsACwALAAsACwALAAsACwALAAsACwALAAsACwALAAsACwALAAsACwALAAsACwALAAsACwALAAsACwALAAsACwALAAsACwALAAsACwALAAsACwALAAsACwALAAsACwALAAsACwALAAsACwALAAsACwALAAsACwALAAsACwALAAsACwALAAsACwALAAsACwALAAsACwALAAsACwALAAsACwALAAsACwALAAsACwALAAsACwALAAsACwALAAsACwALAAsACwALAAsACwALAAsACwALAAsACwALAAsACwALAAsACwALAAsACwALAAsACwALAAsACwALAAsACwALAAsACwALAAsACwALAAsACwALAAsACwALAAsACwALAAsACwALAAsACwALAAsACwALAAsACwALAAsACwALAAsACwALAAsACwALAAsACwALAAsACwALAAsACwALAAsACwALAAsACwALAAsACwALAAsACwALAAsACwALAAsACwALAAsACwALAAsACwALAAsACwALAAsACwALAAsACwALAAsACwALAAsACwALAAsACwALAAsACwALAAsACwALAAsACwALAAsACwALAAsACwALAAsACwALAAsACwALAAsACwALAAsACwALAAsACwALAAsACwALAAsACwALAAsACwALAAsACwALAAsACwALAAsACwALAAsACwALAAsACwALAAsACwALAAsACwALAAsACwALAAsACwALAAsACwALAAsACwALAAsACwALAAsACwALAAsACwALAAsACwALAAsACwALAAsACwALAAsACwALAAsACwALAAsACwALAAsACwALAAsACwALAAsACwALAAsACwALAAsACwALAAsACwALAAsACwALAAsACwALAAsACwALAAsACwALAAsACwALAAsACwALAAsACwALAAsACwALAAsACwALAAsACwALAAsACwALAAsACwALAAsACwALAAsACwALAAsACwALAAsACwALAAsACwALAAsACwALAAsACwALAAsACwALAAsACwALAAsACwALAAsACwALAAsACwALAAsACwALAAsACwALAAsACwALAAsACwALAAsACwALAAsACwALAAsACwALAAsACwALAAsACwALAAsACwALAAsACwALAAsACwALAAsACwALAAsACwALAAsACwALAAsACwALAAsACwALAAsACwALAAsACwALAAsACwALAAsACwALAAsACwALAAsACwALAAsACwALAAsACwALAAsACwALAAsACwALAAsACwALAAsACwALAAsACwALAAsACwALAAsACwALAAsACwALAAsACwALAAsACwALAAsACwALAAsACwALAAsACwALAAsACwALAAsACwALAAsACwALAAsACwALAAsACwALAAsACwALAAsACwALAAsACwALAAsACwALAAsACwALAAsACwALAAsACwALAAsACwALAAsACwALAAsACwALAAsACwALAAsACwALAAsACwALAAsACwALAAsACwAMAAsACwALAAsACwALAAsACwALAAsACwALAAsACwALAAsACwALAAsACwALAAsACwALAAsACwALAAsACwALAAsACwALAAsACwALAAsACwALAAsACwALAAsACwALAAsACwALAAsACwALAAsACwALAAsACwALAAsACwALAAsACwALAAsACwALAAsACwALAAsACwALAAsACwALAAsACwALAAsACwALAAsACwALAAsACwALAAsACwALAAsACwALAAsACwALAAsACwALAAsACwALAAsACwALAAsACwALAAsACwALAAsACwALAAsACwALAAsACwALAAsACwALAAwACwALAAsACwALAAsACwALAAsACwALAAsACwAMAAsACwALAAsACwALAAsACwALAAsACwALAAsACwALAAsACwALAAsACwALAAsACwALAAsACwALAAsACwALAAsACwALAAsACwALAAsACwALAAsACwALAAsACwALAAsACwALAAsACwALAAsACwALAAsACwALAAsACwALAAsACwALAAsACwALAAsACwALAAsACwALAAsACwALAAsACwALAAsACwALAAsACwALAAsACwALAAsACwALAAsACwALAAsACwALAAsACwALAAsACwALAAsACwALAAsACwALAAsACwALAAsACwALAAsACwALADUANQA1ADUANQA1ADUANQA1ADUANQA1ADUANQA1ADUANQA1ADEAMQAxADEAMQAxADEAMQAxADEAMQAxADEAMQAxADUANQA1ADUANQA1ADUANQA1ADUANQA1ADUANQA1ADUANQA1ADUANQA1ADUANQA1ADUANQA1ADUANgA2ADYANQA1ADUANAA0ADQANAA0ADQANAA0ADQANgA2ADYANQA1ADUANAA0ADQANAA0ADQANQA1ADUANgA2ADYANgA2ADYANgA2ADYANAA0ADQANAA0ADQANAA0ADQANQA1ADUANgA2ADUANgA1ADUANAA0ADQANgA2ADYANgA2ADYANgA2ADYANgA2ADYANgA2ADYANgA2ADYANgA2ADYANgA2ADYADwA1ADUANQAzADMAMwA1ADUANQA2ADgAOAA4ADEAMQAxADUANQAzADUAMwAzADcANwA3ADcANwA3ADUANgAPADUANQA1ADUANQA1ADUANQA1ADUANQA1ADUANQA1ADUANQA1ADUANQA1ADUANQA1ADUANQA1ADMAMwAzADMAMwAzADAAMAAwADYANgA2ADUANQA1ADUANQA1ADMAMwAzADcANgA2ADYANQA1ADUANQA1ADUANQA1ADUANQA1ADUANQA1ADUAMwAzADMANwA3ADcAOAA4ADgAOAA4ADgAOAA4ADgAOAA4ADgANgA2ADYANgA2ADYANQA1ADUANgAAAAAAMwA1ADUANQA2ADYANgAzADMAMwAzAA8ANQA1ADUANQA1ADUADwAPADcANwA3ADcANwA3ADcANwA3ADMAMwAzADMAMwAzADMANgA2ADYAIwA1ADgANQA1ADUANQA1ADUANQA1ADMAMwAzADUANgA2ADYANgA2ADYANgA2ADYANAA0ADQAAwA4AA8ANAA0ADQANAA0ADQANAA0ADQADwAzADMAMwAzADMAMwAzADMAMwA1ADUANQA1ADUANQA1ADUANQA1ADUAMQA1ADEAMQAzADMAMwA2ADYANgAPADYANgA2AA8ANgA2ADYANgA2ADYANgA2ADYANQA4ADgAOAA4ADgAOAA4ADYANgA2ADYAMQAxADkAMQA5ADkAOAA4ADgAMwAzADMAMwA1ADUANQA1ADUANQA1ADUANQAPAA8ADwAPADUANQA1ADUANQA1ADUANQA2ADYANgAxADEAMQA4ADgAOAA4ADgAOAAzAA8ANQA1ADUADwAPAA8ADwAAADUANgA2ADYAMwAzADYANgA2AA8ADwAPAA8ADwA2ADYANgA1ADUANQA1ADUANQA1ADUANQA1ADUANQA1ADUANQAPAA8ANQA1ADMAMwAzADcANwA3ADgAOAA4ADgAOAA4ADgAOAA4ADgANAADADgADwA0ADQANAA0ADQANAA0ADQANAAPADMAMwAzADMAMwAzAA8ADwAPADgAOAA2ADgANgA2ADgAOAAzADgAMwAzADYANgA2ADYANgA2ADUANQA1ADUANQA1ADYANgA2ADUANQA1ADcANwA3ADcANwA3ADUANQA1AA8ADwAPADUANQA1ADUANQA1ADUANQA1ADgAOAA2ADYANgAPADYANQA1ADUAMQAxADEAMQAxADEAMQAxADEANwA3ADEANwAxADEAMQAxADEAMwAzADMAMwAzADMADwAPADYANgA2ADUANQA1AA8ADwAxADEAMQA1ADUANQA1ADUANQA1ADUANQAQABAANwA3ADQANwA0ADQAOAA4ADgANgA2ADYANQA1ADUAMwAPAA8ANQA1ADUANQA1ADUANgA2ADYANwA3ADcANwA3ADcANwA3ADcANwA3ADcANwA3ADQANAA0ADQANAA0ADQANAA0AA8AMwAzADMANgA2ADYANQA1ADUANQA1ADUADwA2ADYANgA2ADUANQA1AA8ANAA0ADQANAA0ADQADwAzADMAMwA2ABEAEQARADUANQA1ADYANgA2ADUANQA1ADEAMQAxADEAMQAPADEADwAyADIAMgAyADIAMgABADUANQA1AA8ANgA2ADYANgA2ADUANQA1ADcANwA3ADYANgA2AA8ADwA0ADQANAA0ADQANAA0ADgAOAA4ADQANAA0ADQANAA0ADQANAA0ADEAMQAxAAAAMgAyADIAAAAAAA8ADwAzADMAMwAzADUANQAzADMAMwA1ADUANQA1AA8ADwA1ADUANQA1ADUANQA2ADYANgA2ADYANgA2ACMANgA2ADYANgA2ADUANQA1ADUANQA1ADYANgA2ADkAOQA5ADYANgA2ADYANgA2ADYANgA2ADYANgA2AA8ADwAPAA8ADwAPAA8ADwAPAA8ADwAPADYAMQAxADEANQA1ADUANgA2ADYAMQAxADEANgA2ADYANgA2ADMAMwAzADkAOQA5ADYANgA2ADcANwA3ADcANwA3ADMAMwAzAA8ANQA1ADUANQA1ADUAOAA4ADgAOAA4ADUANQA1ADUANQA1AA8ANQA1ADUANQA5ADkAOQA5ADkAOQA5ADkAOQAPAAAANwA3ADcANgA2ADYAAABKAEoASgAPADUANQA1AA8AAQA1ADUANQA1ADUANQAPAA8ADwAPAA8ADwAPADUAOAA4ADgADwABAA8AMQAxADEANgA2ADYANQA1ADUANQA2ADYADwAPAA8AOAA4ADgADwAPADQANAA0ADUANQA1AA8ANQA1ADUANgA2ADYA",
          "dtype": "i2"
         }
        },
        {
         "boxpoints": "outliers",
         "name": "Z",
         "type": "box",
         "y": {
          "bdata": "AAAAAAAAAAAAAAAAAAAAAAAAAAAAAAAAAAAAAAAAAAAAAAAAAAAAAAAAAAAAAAAAAAAAAAAAAAAAAAAAAAAAAAAAAAAAAAAAAAAAAAAAAAAAAAAAAAAAAAAAAAAAAAAAAAAAAAAAAAAAAAAAAAAAAAAAAAAAAAAAAAAAAAAAAAAAAAAAAAAAAAAAAAAAAAAAAAAAAAAAAAAAAAAAAAAAAAAAAAAAAAAAAAAAAAAAAAAAAAAAAAAAAAAAAAAAAAAAAAAAAAAAAAAAAAAAAAAAAAAAAAAAAAAAAAAAAAAAAAAAAAAAAAAAAAAAAAAAAAAAAAAAAAAAAAAAAAAAAAAAAAAAAAAAAAAAAAAAAAAAAAAAAAAAAAAAAAAAAAAAAAAAAAAAAAAAAAAAAAAAAAAAAAAAAAAAAAAAAAAAAAAAAAAAAAAAAAAAAAAAAAAAAAAAAAAAAAAAAAAAAAAAAAAAAAAAAAAAAAAAAAAAAAAAAAAAAAAAAAAAAAAAAAAAAAAAAAAAAAAAAAAAAAAAAAAAAAAAAAAAAAAAAAAAAAAAAAAAAAAAAAAAAAAAAAAAAAAAAAAAAAAAAAAAAAAAAAAAAAAAAAAAAAAAAAAAAAAAAAAAAAAAAAAAAAAAAAAAAAAAAAAAAAAAAAAAAAAAAAAAAAAAAAAAAAAAAAAAAAAAAAAAAAAAAAAAAAAAAAAAAAAAAAAAAAAAAAAAAAAAAAAAAAAAAAAAAAAAAAAAAAAAAAAAAAAAAAAAAAAAAAAAAAAAAAAAAAAAAAAAAAAAAAAAAAAAAAAAAAAAAAAAAAAAAAAAAAAAAAAAAAAAAAAAAAAAAAAAAAAAAAAAAAAAAAAAAAAAAAAAAAAAAAAAAAAAAAAAAAAAAAAAAAAAAAAAAAAAAAAAAAAAAAAAAAAAAAAAAAAAAAAAAAAAAAAAAAAAAAAAAAAAAAAAAAAAAAAAAAAAAAAAAAAAAAAAAAAAAAAAAAAAAAAAAAAAAAAAAAAAAAAAAAAAAAAAAAAAAAAAAAAAAAAAAAAAAAAAAAAAAAAAAAAAAAAAAAAAAAAAAAAAAAAAAAAAAAAAAAAAAAAAAAAAAAAAAAAAAAAAAAAAAAAAAAAAAAAAAAAAAAAAAAAAAAAAAAAAAAAAAAAAAAAAAAAAAAAAAAAAAAAAAAAAAAAAAAAAAAAAAAAAAAAAAAAAAAAAAAAAAAAAAAAAAAAAAAAAAAAAAAAAAAAAAAAAAAAAAAAAAAAAAAAAAAAAAAAAAAAAAAAAAAAAAAAAAAAAAAAAAAAAAAAAAAAAAAAAAAAAAAAAAAAAAAAAAAAAAAAAAAAAAAAAAAAAAAAAAAAAAAAAAAAAAAAAAAAAAAAAAAAAAAAAAAAAAAAAAAAAAAAAAAAAAAAAAAAAAAAAAAAAAAAAAAAAAAAAAAAAAAAAAAAAAAAAAAAAAAAAAAAAAAAAAAAAAAAAAAAAAAAAAAAAAAAAAAAAAAAAAAAAAAAAAAAAAAAAAAAAAAAAAAAAAAAAAAAAAAAAAAAAAAAAAAAAAAAAAAAAAAAAAAAAAAAAAAAAAAAAAAAAAAAAAAAAAAAAAAAAAAAAAAAAAAAAAAAAAAAAAAAAAAAAAAAAAAAAAAAAAAAAAAAAAAAAAAAAAAAAAAAAAAAAAAAAAAAAAAAAAAAAAAAAAAAAAAAAAAAAAAAAAAAAAAAAAAAAAAAAAAAAAAAAAAAAAAAAAAAAAAAAAAAAAAAAAAAAAAAAAAAAAAAAAAAAAAAAAAAAAAAAAAAAAAAAAAAAAAAAAAAAAAAAAAAAAAAAAAAAAAAAAAAAAAAAAAAAAAAAAAAAAAAAAAAAAAAAAAAAAAAAAAAAAAAAAAAAAAAAAAAAAAAAAAAAAAAAAAAAAAAAAAAAAAAAAAAAAAAAAAAAAAAAAAAAAAAAAAAAAAAAAAAAAAAAAAAAAAAAAAAAAAAAAAAAAAAAAAAAAAAAAAAAAAAAAAAAAAAAAAAAAAAAAAAAAAAAAAAAAAAAAAAAAAAAAAAAAAAAAAAAAAAAAAAAAAAAAAAAAAAAAAAAAAAAAAAAAAAAAAAAAAAAAAAAAAAAAAAAAAAAAAAAAAAAAAAAAAAAAAAAAAAAAAAAAAAAAAAAAAAAAAAAAAAAAAAAAAAAAAAAAAAAAAAAAAAAAAAAAAAAAAAAAAAAAAAAAAAAAAAAAAAAAAAAAAAAAAAAAAAAAAAAAAAAAAAAAAAAAAAAAAAAAAAAAAAAAAAAAAAAAAAAAAAAAAAAAAAAAAAAAAAAAAAAAAAAAAAAAAAAAAAAAAAAAAAAAAAAAAAAAAAAAAAAAAAAAAAAAAAAAAAAAAAAAAAAAAAAAAAAAAAAAAAAAAAAAAAAAAAAAAAAAAAAAAAAAAAAAAAAAAAAAAAAAAAAAAAAAAAAAAAAAAAAAAAAAAAAAAAAAAAAAAAAAAAAAAAAAAAAAAAAAAAAAAAAAAAAAAAAAAAAAAAAAAAAAAAAAAAAAAAAAAAAAAAAAAAAAAAAAAAAAAAAAAAAAAAAAAAAAAAAAAAAAAAAAAAAAAAAAAAAAAAAAAAAAAAAAAAAAAAAAAAAAAAAAAAAAAAAAAAAAAAAAAAAAAAAAAAAAAAAAAAAAAAAAAAAAAAAAAAAAAAAAAAAAAAAAAAAAAAAAAAAAAAAAAAAAAAAAAAAAAAAAAAAAAAAAAAAAAAAAAAAAAAAAAAAAAAAAAAAAAAAAAAAAAAAAAAAAAAAAAAAAAAAAAAAAAAAAAAAAAAAAAAAAAAAAAAAAAAAAAAAAAAAAAAAAAAAAAAAAAAAAAAAAAAAAAAAAAAAAAAAAAAAAAAAAAAAAAAAAAAAAAAAAAAAAAAAAAAAAAAAAAAAAAAAAAAAAAAAAAAAAAAAAAAAAAAAAAAAAAAAAAAAAAAAAAAAAAAAAAAAAAAAAAAAAAAAAAAAAAAAAAAAAAAAAAAAAAAAAAAAAAAAAAAAAAAAAAAAAAAAAAAAAAAAAAAAAAAAAAAAAAAAAAAAAAAAAAAAAAAAAAAAAAAAAAAAAAAAAAAAAAAAAAAAAAAAAAAAAAAAAAAAAAAAAAAAAAAAAAAAAAAAAAAAAAAAAAAAAAAAAAAAAAAAAAAAAAAAAAAAAAAAAAAAAAAAAAAAAAAAAAAAAAAAAAAAAAAAAAAAAAAAAAAAAAAAAAAAAAAAAAAAAAAAAAAAAAAAAAAAAAAAAAAAAAAAAAAAAAAAAAAAAAAAAAAAAAAAAAAAAAAAAAAAAAAAAAAAAAAAAAAAAAAAAAAAAAAAAAAAAAAAAAAAAAAAAAAAAAAAAAAAAAAAAAAAAAAAAAAAAAAAAAAAAAAAAAAAAAAAAAAAAAAAAAAAAAAAAAAAAAAAAAAAAAAAAAAAAAAAAAAAAAAAAAAAAAAAAAAAAAAAAAAAAAAAAAAAAAAAAAAAAAAAAAAAAAAAAAAAAAAAAAAAAAAAAAAAAAAAAAAAAAAAAAAAAAAAAAAAAAAAAAAAAAAAAAAAAAAAAAAAAAAAAAAAAAAAAAAAAAAAAAAAAAAAAAAAAAAAAAAAAAAAAAAAAAAAAAAAAAAAAAAAAAAAAAAAAAAAAAAAAAAAAAAAAAAAAAAAAAAAAAAAAAAAAAAAAAAAAAAAAAAAAAAAAAAAAAAAAAAAAAAAAAAAAAAAAAAAAAAAAAAAAAAAAAAAAAAAAAAAAAAAAAAAAAAAAAAAAAAAAAAAAAAAAAAAAAAAAAAAAAAAAAAAAAAAAAAAAAAAAAAAAAAAAAAAAAAAAAAAAAAAAAAAAAAAAAAAAAAAAAAAAAAAAAAAAAAAAAAAAAAAAAAAAAAAAAAAAAAAAAAAAAAAAAAAAAAAAAAAAAAAAAAAAAAAAAAAAAAAAAAAAAAAAAAAAAAAAAAAAAAAAAAAAAAAAAAAAAAAAAAAAAAAAAAAAAAAAAAAAAAAAAAAAAAAAAAAAAAAAAAAAAAAAAAAAAAAAAAAAAAAAAAAAAAAAAAAAAAAAAAAAAAAAAAAAAAAAAAAAAAAAAAAAAAAAAAAAAAAAAAAAAAAAAAAAAAAAAAAAAAAAAAAAAAAAAAAAAAAAAAAAAAAAAAAAAAAAAAAAAAAAAAAAAAAAAAAAAAAAAAAAAAAAAAAAAAAAAAAAAAAAAAAAAAAAAAAAAAAAAAAAAAAAAAAAAAAAAAAAAAAAAAAAAAAAAAAAAAAAAAAAAAAAAAAAAAAAAAAAAAAAAAAAAAAAAAAAAAAAAAAAAAAAAAAAAAAAAAAAAAAAAAAAAAAAAAAAAAAAAAAAAAAAAAAAAAAAAAAAAAAAAAAAAAAAAAAAAAAAAAAAAAAAAAAAAAAAAAAAAAAAAAAAAAAAAAAAAAAAAAAAAAAAAAAAAAAAAAAAAAAAAAAAAAAAAAAAAAAAAAAAAAAAAAAAAAAAAAAAAAAAAAAAAAAAAAAAAAAAAAAAAAAAAAAAAAAAAAAAAAAAAAAAAAAAAAAAAAAAAAAAAAAAAAAAAAAAAAAAAAAAAAAAAAAAAAAAAAAAAAAAAAAAAAAAAAAAAAAAAAAAAAAAAAAAAAAAAAAAAAAAAAAAAAAAAAAAAAAAAAAAAAAAAAAAAAAAAAAAAAAAAAAAAAAAAAAAAAAAAAAAAAAAAAAAAAAAAAAAAAAAAAAAAAAAAAAAAAAAAAAAAAAAAAAAAAAAAAAAAAAAAAAAAAAAAAAAAAAAAAAAAAAAAAAAAAAAAAAAAAAAAAAAAAAAAAAAAAAAAAAAAAAAAAAAAAAAAAAAAAAAAAAAAAAAAAAAAAAAAAAAAAAAAAAAAAAAAAAAAAAAAAAAAAAAAAAAAAAAAAAAAAAAAAAAAAAAAAAAAAAAAAAAAAAAAAAAAAAAAAAAAAAAAAAAAAAAAAAAAAAAAAAAAAAAAAAAAAAAAAAAAAAAAAAAAAAAAAAAAAAAAAAAAAAAAAAAAAAAAAAAAAAAAAAAAAAAAAAAAAAAAAAAAAAAAAAAAAAAAAAAAAAAAAAAAAAAAAAAAAAAAAAAAAAAAAAAAAAAAAAAAAAAAAAAAAAAAAAAAAAAAAAAAAAAAAAAAAAAAAAAAAAAAAAAAAAAAAAAAAAAAAAAAAAAAAAAAAAAAAAAAAAAAAAAAAAAAAAAAAAAAAAAAAAAAAAAAAAAAAAAAAAAAAAAAAAAAAAAAAAAAAAAAAAAAAAAAAAAAAAAAAAAAAAAAAAAAAAAAAAAAAAAAAAAAAAAAAAAAAAAAAAAAAAAAAAAAAAAAAAAAAAAAAAAAAAAAAAAAAAAAAAAAAAAAAAAAAAAAAAAAAAAAAAAAAAAAAAAAAAAAAAAAAAAAAAAAAAAAAAAAAAAAAAAAAAAAAAAAAAAAAAAAAAAAAAAAAAAAAAAAAAAAAAAAAAAAAAAAAA",
          "dtype": "i1"
         }
        }
       ],
       "layout": {
        "height": 450,
        "template": {
         "data": {
          "bar": [
           {
            "error_x": {
             "color": "#2a3f5f"
            },
            "error_y": {
             "color": "#2a3f5f"
            },
            "marker": {
             "line": {
              "color": "#E5ECF6",
              "width": 0.5
             },
             "pattern": {
              "fillmode": "overlay",
              "size": 10,
              "solidity": 0.2
             }
            },
            "type": "bar"
           }
          ],
          "barpolar": [
           {
            "marker": {
             "line": {
              "color": "#E5ECF6",
              "width": 0.5
             },
             "pattern": {
              "fillmode": "overlay",
              "size": 10,
              "solidity": 0.2
             }
            },
            "type": "barpolar"
           }
          ],
          "carpet": [
           {
            "aaxis": {
             "endlinecolor": "#2a3f5f",
             "gridcolor": "white",
             "linecolor": "white",
             "minorgridcolor": "white",
             "startlinecolor": "#2a3f5f"
            },
            "baxis": {
             "endlinecolor": "#2a3f5f",
             "gridcolor": "white",
             "linecolor": "white",
             "minorgridcolor": "white",
             "startlinecolor": "#2a3f5f"
            },
            "type": "carpet"
           }
          ],
          "choropleth": [
           {
            "colorbar": {
             "outlinewidth": 0,
             "ticks": ""
            },
            "type": "choropleth"
           }
          ],
          "contour": [
           {
            "colorbar": {
             "outlinewidth": 0,
             "ticks": ""
            },
            "colorscale": [
             [
              0,
              "#0d0887"
             ],
             [
              0.1111111111111111,
              "#46039f"
             ],
             [
              0.2222222222222222,
              "#7201a8"
             ],
             [
              0.3333333333333333,
              "#9c179e"
             ],
             [
              0.4444444444444444,
              "#bd3786"
             ],
             [
              0.5555555555555556,
              "#d8576b"
             ],
             [
              0.6666666666666666,
              "#ed7953"
             ],
             [
              0.7777777777777778,
              "#fb9f3a"
             ],
             [
              0.8888888888888888,
              "#fdca26"
             ],
             [
              1,
              "#f0f921"
             ]
            ],
            "type": "contour"
           }
          ],
          "contourcarpet": [
           {
            "colorbar": {
             "outlinewidth": 0,
             "ticks": ""
            },
            "type": "contourcarpet"
           }
          ],
          "heatmap": [
           {
            "colorbar": {
             "outlinewidth": 0,
             "ticks": ""
            },
            "colorscale": [
             [
              0,
              "#0d0887"
             ],
             [
              0.1111111111111111,
              "#46039f"
             ],
             [
              0.2222222222222222,
              "#7201a8"
             ],
             [
              0.3333333333333333,
              "#9c179e"
             ],
             [
              0.4444444444444444,
              "#bd3786"
             ],
             [
              0.5555555555555556,
              "#d8576b"
             ],
             [
              0.6666666666666666,
              "#ed7953"
             ],
             [
              0.7777777777777778,
              "#fb9f3a"
             ],
             [
              0.8888888888888888,
              "#fdca26"
             ],
             [
              1,
              "#f0f921"
             ]
            ],
            "type": "heatmap"
           }
          ],
          "histogram": [
           {
            "marker": {
             "pattern": {
              "fillmode": "overlay",
              "size": 10,
              "solidity": 0.2
             }
            },
            "type": "histogram"
           }
          ],
          "histogram2d": [
           {
            "colorbar": {
             "outlinewidth": 0,
             "ticks": ""
            },
            "colorscale": [
             [
              0,
              "#0d0887"
             ],
             [
              0.1111111111111111,
              "#46039f"
             ],
             [
              0.2222222222222222,
              "#7201a8"
             ],
             [
              0.3333333333333333,
              "#9c179e"
             ],
             [
              0.4444444444444444,
              "#bd3786"
             ],
             [
              0.5555555555555556,
              "#d8576b"
             ],
             [
              0.6666666666666666,
              "#ed7953"
             ],
             [
              0.7777777777777778,
              "#fb9f3a"
             ],
             [
              0.8888888888888888,
              "#fdca26"
             ],
             [
              1,
              "#f0f921"
             ]
            ],
            "type": "histogram2d"
           }
          ],
          "histogram2dcontour": [
           {
            "colorbar": {
             "outlinewidth": 0,
             "ticks": ""
            },
            "colorscale": [
             [
              0,
              "#0d0887"
             ],
             [
              0.1111111111111111,
              "#46039f"
             ],
             [
              0.2222222222222222,
              "#7201a8"
             ],
             [
              0.3333333333333333,
              "#9c179e"
             ],
             [
              0.4444444444444444,
              "#bd3786"
             ],
             [
              0.5555555555555556,
              "#d8576b"
             ],
             [
              0.6666666666666666,
              "#ed7953"
             ],
             [
              0.7777777777777778,
              "#fb9f3a"
             ],
             [
              0.8888888888888888,
              "#fdca26"
             ],
             [
              1,
              "#f0f921"
             ]
            ],
            "type": "histogram2dcontour"
           }
          ],
          "mesh3d": [
           {
            "colorbar": {
             "outlinewidth": 0,
             "ticks": ""
            },
            "type": "mesh3d"
           }
          ],
          "parcoords": [
           {
            "line": {
             "colorbar": {
              "outlinewidth": 0,
              "ticks": ""
             }
            },
            "type": "parcoords"
           }
          ],
          "pie": [
           {
            "automargin": true,
            "type": "pie"
           }
          ],
          "scatter": [
           {
            "fillpattern": {
             "fillmode": "overlay",
             "size": 10,
             "solidity": 0.2
            },
            "type": "scatter"
           }
          ],
          "scatter3d": [
           {
            "line": {
             "colorbar": {
              "outlinewidth": 0,
              "ticks": ""
             }
            },
            "marker": {
             "colorbar": {
              "outlinewidth": 0,
              "ticks": ""
             }
            },
            "type": "scatter3d"
           }
          ],
          "scattercarpet": [
           {
            "marker": {
             "colorbar": {
              "outlinewidth": 0,
              "ticks": ""
             }
            },
            "type": "scattercarpet"
           }
          ],
          "scattergeo": [
           {
            "marker": {
             "colorbar": {
              "outlinewidth": 0,
              "ticks": ""
             }
            },
            "type": "scattergeo"
           }
          ],
          "scattergl": [
           {
            "marker": {
             "colorbar": {
              "outlinewidth": 0,
              "ticks": ""
             }
            },
            "type": "scattergl"
           }
          ],
          "scattermap": [
           {
            "marker": {
             "colorbar": {
              "outlinewidth": 0,
              "ticks": ""
             }
            },
            "type": "scattermap"
           }
          ],
          "scattermapbox": [
           {
            "marker": {
             "colorbar": {
              "outlinewidth": 0,
              "ticks": ""
             }
            },
            "type": "scattermapbox"
           }
          ],
          "scatterpolar": [
           {
            "marker": {
             "colorbar": {
              "outlinewidth": 0,
              "ticks": ""
             }
            },
            "type": "scatterpolar"
           }
          ],
          "scatterpolargl": [
           {
            "marker": {
             "colorbar": {
              "outlinewidth": 0,
              "ticks": ""
             }
            },
            "type": "scatterpolargl"
           }
          ],
          "scatterternary": [
           {
            "marker": {
             "colorbar": {
              "outlinewidth": 0,
              "ticks": ""
             }
            },
            "type": "scatterternary"
           }
          ],
          "surface": [
           {
            "colorbar": {
             "outlinewidth": 0,
             "ticks": ""
            },
            "colorscale": [
             [
              0,
              "#0d0887"
             ],
             [
              0.1111111111111111,
              "#46039f"
             ],
             [
              0.2222222222222222,
              "#7201a8"
             ],
             [
              0.3333333333333333,
              "#9c179e"
             ],
             [
              0.4444444444444444,
              "#bd3786"
             ],
             [
              0.5555555555555556,
              "#d8576b"
             ],
             [
              0.6666666666666666,
              "#ed7953"
             ],
             [
              0.7777777777777778,
              "#fb9f3a"
             ],
             [
              0.8888888888888888,
              "#fdca26"
             ],
             [
              1,
              "#f0f921"
             ]
            ],
            "type": "surface"
           }
          ],
          "table": [
           {
            "cells": {
             "fill": {
              "color": "#EBF0F8"
             },
             "line": {
              "color": "white"
             }
            },
            "header": {
             "fill": {
              "color": "#C8D4E3"
             },
             "line": {
              "color": "white"
             }
            },
            "type": "table"
           }
          ]
         },
         "layout": {
          "annotationdefaults": {
           "arrowcolor": "#2a3f5f",
           "arrowhead": 0,
           "arrowwidth": 1
          },
          "autotypenumbers": "strict",
          "coloraxis": {
           "colorbar": {
            "outlinewidth": 0,
            "ticks": ""
           }
          },
          "colorscale": {
           "diverging": [
            [
             0,
             "#8e0152"
            ],
            [
             0.1,
             "#c51b7d"
            ],
            [
             0.2,
             "#de77ae"
            ],
            [
             0.3,
             "#f1b6da"
            ],
            [
             0.4,
             "#fde0ef"
            ],
            [
             0.5,
             "#f7f7f7"
            ],
            [
             0.6,
             "#e6f5d0"
            ],
            [
             0.7,
             "#b8e186"
            ],
            [
             0.8,
             "#7fbc41"
            ],
            [
             0.9,
             "#4d9221"
            ],
            [
             1,
             "#276419"
            ]
           ],
           "sequential": [
            [
             0,
             "#0d0887"
            ],
            [
             0.1111111111111111,
             "#46039f"
            ],
            [
             0.2222222222222222,
             "#7201a8"
            ],
            [
             0.3333333333333333,
             "#9c179e"
            ],
            [
             0.4444444444444444,
             "#bd3786"
            ],
            [
             0.5555555555555556,
             "#d8576b"
            ],
            [
             0.6666666666666666,
             "#ed7953"
            ],
            [
             0.7777777777777778,
             "#fb9f3a"
            ],
            [
             0.8888888888888888,
             "#fdca26"
            ],
            [
             1,
             "#f0f921"
            ]
           ],
           "sequentialminus": [
            [
             0,
             "#0d0887"
            ],
            [
             0.1111111111111111,
             "#46039f"
            ],
            [
             0.2222222222222222,
             "#7201a8"
            ],
            [
             0.3333333333333333,
             "#9c179e"
            ],
            [
             0.4444444444444444,
             "#bd3786"
            ],
            [
             0.5555555555555556,
             "#d8576b"
            ],
            [
             0.6666666666666666,
             "#ed7953"
            ],
            [
             0.7777777777777778,
             "#fb9f3a"
            ],
            [
             0.8888888888888888,
             "#fdca26"
            ],
            [
             1,
             "#f0f921"
            ]
           ]
          },
          "colorway": [
           "#636efa",
           "#EF553B",
           "#00cc96",
           "#ab63fa",
           "#FFA15A",
           "#19d3f3",
           "#FF6692",
           "#B6E880",
           "#FF97FF",
           "#FECB52"
          ],
          "font": {
           "color": "#2a3f5f"
          },
          "geo": {
           "bgcolor": "white",
           "lakecolor": "white",
           "landcolor": "#E5ECF6",
           "showlakes": true,
           "showland": true,
           "subunitcolor": "white"
          },
          "hoverlabel": {
           "align": "left"
          },
          "hovermode": "closest",
          "mapbox": {
           "style": "light"
          },
          "paper_bgcolor": "white",
          "plot_bgcolor": "#E5ECF6",
          "polar": {
           "angularaxis": {
            "gridcolor": "white",
            "linecolor": "white",
            "ticks": ""
           },
           "bgcolor": "#E5ECF6",
           "radialaxis": {
            "gridcolor": "white",
            "linecolor": "white",
            "ticks": ""
           }
          },
          "scene": {
           "xaxis": {
            "backgroundcolor": "#E5ECF6",
            "gridcolor": "white",
            "gridwidth": 2,
            "linecolor": "white",
            "showbackground": true,
            "ticks": "",
            "zerolinecolor": "white"
           },
           "yaxis": {
            "backgroundcolor": "#E5ECF6",
            "gridcolor": "white",
            "gridwidth": 2,
            "linecolor": "white",
            "showbackground": true,
            "ticks": "",
            "zerolinecolor": "white"
           },
           "zaxis": {
            "backgroundcolor": "#E5ECF6",
            "gridcolor": "white",
            "gridwidth": 2,
            "linecolor": "white",
            "showbackground": true,
            "ticks": "",
            "zerolinecolor": "white"
           }
          },
          "shapedefaults": {
           "line": {
            "color": "#2a3f5f"
           }
          },
          "ternary": {
           "aaxis": {
            "gridcolor": "white",
            "linecolor": "white",
            "ticks": ""
           },
           "baxis": {
            "gridcolor": "white",
            "linecolor": "white",
            "ticks": ""
           },
           "bgcolor": "#E5ECF6",
           "caxis": {
            "gridcolor": "white",
            "linecolor": "white",
            "ticks": ""
           }
          },
          "title": {
           "x": 0.05
          },
          "xaxis": {
           "automargin": true,
           "gridcolor": "white",
           "linecolor": "white",
           "ticks": "",
           "title": {
            "standoff": 15
           },
           "zerolinecolor": "white",
           "zerolinewidth": 2
          },
          "yaxis": {
           "automargin": true,
           "gridcolor": "white",
           "linecolor": "white",
           "ticks": "",
           "title": {
            "standoff": 15
           },
           "zerolinecolor": "white",
           "zerolinewidth": 2
          }
         }
        },
        "title": {
         "text": "Boxplot of Letter Frequencies (A-Z)"
        },
        "width": 900,
        "xaxis": {
         "tickangle": -90,
         "title": {
          "text": "Letter"
         }
        },
        "yaxis": {
         "title": {
          "text": "Frequency"
         }
        }
       }
      }
     },
     "metadata": {},
     "output_type": "display_data"
    }
   ],
   "source": [
    "letter_columns = [col for col in df.columns if col != 'Label']\n",
    "\n",
    "fig = go.Figure()\n",
    "\n",
    "# Add one box plot per letter column\n",
    "for col in letter_columns:\n",
    "    fig.add_trace(go.Box(\n",
    "        y=df[col],\n",
    "        name=col,\n",
    "        boxpoints='outliers'  # show outliers\n",
    "    ))\n",
    "\n",
    "fig.update_layout(\n",
    "    title='Boxplot of Letter Frequencies (A-Z)',\n",
    "    yaxis_title='Frequency',\n",
    "    xaxis_title='Letter',\n",
    "    xaxis_tickangle=-90,\n",
    "    width=900,  # width similar to figsize\n",
    "    height=450  # height similar to figsize\n",
    ")\n",
    "\n",
    "fig.show()"
   ]
  },
  {
   "cell_type": "markdown",
   "metadata": {},
   "source": [
    "### 3. Correlation Heatmap Between Letters"
   ]
  },
  {
   "cell_type": "code",
   "execution_count": 17,
   "metadata": {},
   "outputs": [
    {
     "data": {
      "application/vnd.plotly.v1+json": {
       "config": {
        "plotlyServerURL": "https://plot.ly"
       },
       "data": [
        {
         "coloraxis": "coloraxis",
         "hovertemplate": "Letter: %{x}<br>Letter: %{y}<br>Correlation: %{z}<extra></extra>",
         "name": "0",
         "type": "heatmap",
         "x": [
          "A",
          "B",
          "C",
          "D",
          "E",
          "F",
          "G",
          "H",
          "I",
          "J",
          "K",
          "L",
          "M",
          "N",
          "O",
          "P",
          "Q",
          "R",
          "S",
          "T",
          "U",
          "V",
          "W",
          "X",
          "Y",
          "Z"
         ],
         "xaxis": "x",
         "y": [
          "A",
          "B",
          "C",
          "D",
          "E",
          "F",
          "G",
          "H",
          "I",
          "J",
          "K",
          "L",
          "M",
          "N",
          "O",
          "P",
          "Q",
          "R",
          "S",
          "T",
          "U",
          "V",
          "W",
          "X",
          "Y",
          "Z"
         ],
         "yaxis": "y",
         "z": {
          "bdata": "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",
          "dtype": "f8",
          "shape": "26, 26"
         }
        }
       ],
       "layout": {
        "coloraxis": {
         "cmax": 1,
         "cmin": -1,
         "colorbar": {
          "title": {
           "text": "Correlation"
          }
         },
         "colorscale": [
          [
           0,
           "rgb(5,48,97)"
          ],
          [
           0.1,
           "rgb(33,102,172)"
          ],
          [
           0.2,
           "rgb(67,147,195)"
          ],
          [
           0.3,
           "rgb(146,197,222)"
          ],
          [
           0.4,
           "rgb(209,229,240)"
          ],
          [
           0.5,
           "rgb(247,247,247)"
          ],
          [
           0.6,
           "rgb(253,219,199)"
          ],
          [
           0.7,
           "rgb(244,165,130)"
          ],
          [
           0.8,
           "rgb(214,96,77)"
          ],
          [
           0.9,
           "rgb(178,24,43)"
          ],
          [
           1,
           "rgb(103,0,31)"
          ]
         ]
        },
        "height": 700,
        "template": {
         "data": {
          "bar": [
           {
            "error_x": {
             "color": "#2a3f5f"
            },
            "error_y": {
             "color": "#2a3f5f"
            },
            "marker": {
             "line": {
              "color": "#E5ECF6",
              "width": 0.5
             },
             "pattern": {
              "fillmode": "overlay",
              "size": 10,
              "solidity": 0.2
             }
            },
            "type": "bar"
           }
          ],
          "barpolar": [
           {
            "marker": {
             "line": {
              "color": "#E5ECF6",
              "width": 0.5
             },
             "pattern": {
              "fillmode": "overlay",
              "size": 10,
              "solidity": 0.2
             }
            },
            "type": "barpolar"
           }
          ],
          "carpet": [
           {
            "aaxis": {
             "endlinecolor": "#2a3f5f",
             "gridcolor": "white",
             "linecolor": "white",
             "minorgridcolor": "white",
             "startlinecolor": "#2a3f5f"
            },
            "baxis": {
             "endlinecolor": "#2a3f5f",
             "gridcolor": "white",
             "linecolor": "white",
             "minorgridcolor": "white",
             "startlinecolor": "#2a3f5f"
            },
            "type": "carpet"
           }
          ],
          "choropleth": [
           {
            "colorbar": {
             "outlinewidth": 0,
             "ticks": ""
            },
            "type": "choropleth"
           }
          ],
          "contour": [
           {
            "colorbar": {
             "outlinewidth": 0,
             "ticks": ""
            },
            "colorscale": [
             [
              0,
              "#0d0887"
             ],
             [
              0.1111111111111111,
              "#46039f"
             ],
             [
              0.2222222222222222,
              "#7201a8"
             ],
             [
              0.3333333333333333,
              "#9c179e"
             ],
             [
              0.4444444444444444,
              "#bd3786"
             ],
             [
              0.5555555555555556,
              "#d8576b"
             ],
             [
              0.6666666666666666,
              "#ed7953"
             ],
             [
              0.7777777777777778,
              "#fb9f3a"
             ],
             [
              0.8888888888888888,
              "#fdca26"
             ],
             [
              1,
              "#f0f921"
             ]
            ],
            "type": "contour"
           }
          ],
          "contourcarpet": [
           {
            "colorbar": {
             "outlinewidth": 0,
             "ticks": ""
            },
            "type": "contourcarpet"
           }
          ],
          "heatmap": [
           {
            "colorbar": {
             "outlinewidth": 0,
             "ticks": ""
            },
            "colorscale": [
             [
              0,
              "#0d0887"
             ],
             [
              0.1111111111111111,
              "#46039f"
             ],
             [
              0.2222222222222222,
              "#7201a8"
             ],
             [
              0.3333333333333333,
              "#9c179e"
             ],
             [
              0.4444444444444444,
              "#bd3786"
             ],
             [
              0.5555555555555556,
              "#d8576b"
             ],
             [
              0.6666666666666666,
              "#ed7953"
             ],
             [
              0.7777777777777778,
              "#fb9f3a"
             ],
             [
              0.8888888888888888,
              "#fdca26"
             ],
             [
              1,
              "#f0f921"
             ]
            ],
            "type": "heatmap"
           }
          ],
          "histogram": [
           {
            "marker": {
             "pattern": {
              "fillmode": "overlay",
              "size": 10,
              "solidity": 0.2
             }
            },
            "type": "histogram"
           }
          ],
          "histogram2d": [
           {
            "colorbar": {
             "outlinewidth": 0,
             "ticks": ""
            },
            "colorscale": [
             [
              0,
              "#0d0887"
             ],
             [
              0.1111111111111111,
              "#46039f"
             ],
             [
              0.2222222222222222,
              "#7201a8"
             ],
             [
              0.3333333333333333,
              "#9c179e"
             ],
             [
              0.4444444444444444,
              "#bd3786"
             ],
             [
              0.5555555555555556,
              "#d8576b"
             ],
             [
              0.6666666666666666,
              "#ed7953"
             ],
             [
              0.7777777777777778,
              "#fb9f3a"
             ],
             [
              0.8888888888888888,
              "#fdca26"
             ],
             [
              1,
              "#f0f921"
             ]
            ],
            "type": "histogram2d"
           }
          ],
          "histogram2dcontour": [
           {
            "colorbar": {
             "outlinewidth": 0,
             "ticks": ""
            },
            "colorscale": [
             [
              0,
              "#0d0887"
             ],
             [
              0.1111111111111111,
              "#46039f"
             ],
             [
              0.2222222222222222,
              "#7201a8"
             ],
             [
              0.3333333333333333,
              "#9c179e"
             ],
             [
              0.4444444444444444,
              "#bd3786"
             ],
             [
              0.5555555555555556,
              "#d8576b"
             ],
             [
              0.6666666666666666,
              "#ed7953"
             ],
             [
              0.7777777777777778,
              "#fb9f3a"
             ],
             [
              0.8888888888888888,
              "#fdca26"
             ],
             [
              1,
              "#f0f921"
             ]
            ],
            "type": "histogram2dcontour"
           }
          ],
          "mesh3d": [
           {
            "colorbar": {
             "outlinewidth": 0,
             "ticks": ""
            },
            "type": "mesh3d"
           }
          ],
          "parcoords": [
           {
            "line": {
             "colorbar": {
              "outlinewidth": 0,
              "ticks": ""
             }
            },
            "type": "parcoords"
           }
          ],
          "pie": [
           {
            "automargin": true,
            "type": "pie"
           }
          ],
          "scatter": [
           {
            "fillpattern": {
             "fillmode": "overlay",
             "size": 10,
             "solidity": 0.2
            },
            "type": "scatter"
           }
          ],
          "scatter3d": [
           {
            "line": {
             "colorbar": {
              "outlinewidth": 0,
              "ticks": ""
             }
            },
            "marker": {
             "colorbar": {
              "outlinewidth": 0,
              "ticks": ""
             }
            },
            "type": "scatter3d"
           }
          ],
          "scattercarpet": [
           {
            "marker": {
             "colorbar": {
              "outlinewidth": 0,
              "ticks": ""
             }
            },
            "type": "scattercarpet"
           }
          ],
          "scattergeo": [
           {
            "marker": {
             "colorbar": {
              "outlinewidth": 0,
              "ticks": ""
             }
            },
            "type": "scattergeo"
           }
          ],
          "scattergl": [
           {
            "marker": {
             "colorbar": {
              "outlinewidth": 0,
              "ticks": ""
             }
            },
            "type": "scattergl"
           }
          ],
          "scattermap": [
           {
            "marker": {
             "colorbar": {
              "outlinewidth": 0,
              "ticks": ""
             }
            },
            "type": "scattermap"
           }
          ],
          "scattermapbox": [
           {
            "marker": {
             "colorbar": {
              "outlinewidth": 0,
              "ticks": ""
             }
            },
            "type": "scattermapbox"
           }
          ],
          "scatterpolar": [
           {
            "marker": {
             "colorbar": {
              "outlinewidth": 0,
              "ticks": ""
             }
            },
            "type": "scatterpolar"
           }
          ],
          "scatterpolargl": [
           {
            "marker": {
             "colorbar": {
              "outlinewidth": 0,
              "ticks": ""
             }
            },
            "type": "scatterpolargl"
           }
          ],
          "scatterternary": [
           {
            "marker": {
             "colorbar": {
              "outlinewidth": 0,
              "ticks": ""
             }
            },
            "type": "scatterternary"
           }
          ],
          "surface": [
           {
            "colorbar": {
             "outlinewidth": 0,
             "ticks": ""
            },
            "colorscale": [
             [
              0,
              "#0d0887"
             ],
             [
              0.1111111111111111,
              "#46039f"
             ],
             [
              0.2222222222222222,
              "#7201a8"
             ],
             [
              0.3333333333333333,
              "#9c179e"
             ],
             [
              0.4444444444444444,
              "#bd3786"
             ],
             [
              0.5555555555555556,
              "#d8576b"
             ],
             [
              0.6666666666666666,
              "#ed7953"
             ],
             [
              0.7777777777777778,
              "#fb9f3a"
             ],
             [
              0.8888888888888888,
              "#fdca26"
             ],
             [
              1,
              "#f0f921"
             ]
            ],
            "type": "surface"
           }
          ],
          "table": [
           {
            "cells": {
             "fill": {
              "color": "#EBF0F8"
             },
             "line": {
              "color": "white"
             }
            },
            "header": {
             "fill": {
              "color": "#C8D4E3"
             },
             "line": {
              "color": "white"
             }
            },
            "type": "table"
           }
          ]
         },
         "layout": {
          "annotationdefaults": {
           "arrowcolor": "#2a3f5f",
           "arrowhead": 0,
           "arrowwidth": 1
          },
          "autotypenumbers": "strict",
          "coloraxis": {
           "colorbar": {
            "outlinewidth": 0,
            "ticks": ""
           }
          },
          "colorscale": {
           "diverging": [
            [
             0,
             "#8e0152"
            ],
            [
             0.1,
             "#c51b7d"
            ],
            [
             0.2,
             "#de77ae"
            ],
            [
             0.3,
             "#f1b6da"
            ],
            [
             0.4,
             "#fde0ef"
            ],
            [
             0.5,
             "#f7f7f7"
            ],
            [
             0.6,
             "#e6f5d0"
            ],
            [
             0.7,
             "#b8e186"
            ],
            [
             0.8,
             "#7fbc41"
            ],
            [
             0.9,
             "#4d9221"
            ],
            [
             1,
             "#276419"
            ]
           ],
           "sequential": [
            [
             0,
             "#0d0887"
            ],
            [
             0.1111111111111111,
             "#46039f"
            ],
            [
             0.2222222222222222,
             "#7201a8"
            ],
            [
             0.3333333333333333,
             "#9c179e"
            ],
            [
             0.4444444444444444,
             "#bd3786"
            ],
            [
             0.5555555555555556,
             "#d8576b"
            ],
            [
             0.6666666666666666,
             "#ed7953"
            ],
            [
             0.7777777777777778,
             "#fb9f3a"
            ],
            [
             0.8888888888888888,
             "#fdca26"
            ],
            [
             1,
             "#f0f921"
            ]
           ],
           "sequentialminus": [
            [
             0,
             "#0d0887"
            ],
            [
             0.1111111111111111,
             "#46039f"
            ],
            [
             0.2222222222222222,
             "#7201a8"
            ],
            [
             0.3333333333333333,
             "#9c179e"
            ],
            [
             0.4444444444444444,
             "#bd3786"
            ],
            [
             0.5555555555555556,
             "#d8576b"
            ],
            [
             0.6666666666666666,
             "#ed7953"
            ],
            [
             0.7777777777777778,
             "#fb9f3a"
            ],
            [
             0.8888888888888888,
             "#fdca26"
            ],
            [
             1,
             "#f0f921"
            ]
           ]
          },
          "colorway": [
           "#636efa",
           "#EF553B",
           "#00cc96",
           "#ab63fa",
           "#FFA15A",
           "#19d3f3",
           "#FF6692",
           "#B6E880",
           "#FF97FF",
           "#FECB52"
          ],
          "font": {
           "color": "#2a3f5f"
          },
          "geo": {
           "bgcolor": "white",
           "lakecolor": "white",
           "landcolor": "#E5ECF6",
           "showlakes": true,
           "showland": true,
           "subunitcolor": "white"
          },
          "hoverlabel": {
           "align": "left"
          },
          "hovermode": "closest",
          "mapbox": {
           "style": "light"
          },
          "paper_bgcolor": "white",
          "plot_bgcolor": "#E5ECF6",
          "polar": {
           "angularaxis": {
            "gridcolor": "white",
            "linecolor": "white",
            "ticks": ""
           },
           "bgcolor": "#E5ECF6",
           "radialaxis": {
            "gridcolor": "white",
            "linecolor": "white",
            "ticks": ""
           }
          },
          "scene": {
           "xaxis": {
            "backgroundcolor": "#E5ECF6",
            "gridcolor": "white",
            "gridwidth": 2,
            "linecolor": "white",
            "showbackground": true,
            "ticks": "",
            "zerolinecolor": "white"
           },
           "yaxis": {
            "backgroundcolor": "#E5ECF6",
            "gridcolor": "white",
            "gridwidth": 2,
            "linecolor": "white",
            "showbackground": true,
            "ticks": "",
            "zerolinecolor": "white"
           },
           "zaxis": {
            "backgroundcolor": "#E5ECF6",
            "gridcolor": "white",
            "gridwidth": 2,
            "linecolor": "white",
            "showbackground": true,
            "ticks": "",
            "zerolinecolor": "white"
           }
          },
          "shapedefaults": {
           "line": {
            "color": "#2a3f5f"
           }
          },
          "ternary": {
           "aaxis": {
            "gridcolor": "white",
            "linecolor": "white",
            "ticks": ""
           },
           "baxis": {
            "gridcolor": "white",
            "linecolor": "white",
            "ticks": ""
           },
           "bgcolor": "#E5ECF6",
           "caxis": {
            "gridcolor": "white",
            "linecolor": "white",
            "ticks": ""
           }
          },
          "title": {
           "x": 0.05
          },
          "xaxis": {
           "automargin": true,
           "gridcolor": "white",
           "linecolor": "white",
           "ticks": "",
           "title": {
            "standoff": 15
           },
           "zerolinecolor": "white",
           "zerolinewidth": 2
          },
          "yaxis": {
           "automargin": true,
           "gridcolor": "white",
           "linecolor": "white",
           "ticks": "",
           "title": {
            "standoff": 15
           },
           "zerolinecolor": "white",
           "zerolinewidth": 2
          }
         }
        },
        "title": {
         "text": "Correlation Heatmap Between Letter Frequencies"
        },
        "width": 700,
        "xaxis": {
         "anchor": "y",
         "constrain": "domain",
         "domain": [
          0,
          1
         ],
         "scaleanchor": "y",
         "title": {
          "text": "Letter"
         }
        },
        "yaxis": {
         "anchor": "x",
         "autorange": "reversed",
         "constrain": "domain",
         "domain": [
          0,
          1
         ],
         "title": {
          "text": "Letter"
         }
        }
       }
      }
     },
     "metadata": {},
     "output_type": "display_data"
    }
   ],
   "source": [
    "letter_columns = [col for col in df.columns if col != 'Label']\n",
    "corr_matrix = df[letter_columns].corr()\n",
    "\n",
    "fig = px.imshow(\n",
    "    corr_matrix,\n",
    "    color_continuous_scale='RdBu_r',  # similar to 'coolwarm'\n",
    "    title='Correlation Heatmap Between Letter Frequencies',\n",
    "    labels=dict(x=\"Letter\", y=\"Letter\", color=\"Correlation\"),\n",
    "    x=corr_matrix.columns,\n",
    "    y=corr_matrix.index,\n",
    "    zmin=-1,\n",
    "    zmax=1\n",
    ")\n",
    "\n",
    "fig.update_layout(\n",
    "    width=700,\n",
    "    height=700\n",
    ")\n",
    "\n",
    "fig.show()"
   ]
  },
  {
   "cell_type": "markdown",
   "metadata": {},
   "source": [
    "###  4. Countplot of Target Classes"
   ]
  },
  {
   "cell_type": "code",
   "execution_count": 18,
   "metadata": {},
   "outputs": [
    {
     "data": {
      "application/vnd.plotly.v1+json": {
       "config": {
        "plotlyServerURL": "https://plot.ly"
       },
       "data": [
        {
         "bingroup": "x",
         "hovertemplate": "Target=%{x}<br>count=%{y}<extra></extra>",
         "legendgroup": "Envelope",
         "marker": {
          "color": "rgb(102,194,165)",
          "pattern": {
           "shape": ""
          }
         },
         "name": "Envelope",
         "orientation": "v",
         "showlegend": true,
         "type": "histogram",
         "x": [
          "Envelope",
          "Envelope",
          "Envelope",
          "Envelope",
          "Envelope",
          "Envelope",
          "Envelope",
          "Envelope",
          "Envelope",
          "Envelope",
          "Envelope",
          "Envelope",
          "Envelope",
          "Envelope",
          "Envelope",
          "Envelope",
          "Envelope",
          "Envelope",
          "Envelope",
          "Envelope",
          "Envelope",
          "Envelope",
          "Envelope",
          "Envelope",
          "Envelope",
          "Envelope",
          "Envelope",
          "Envelope",
          "Envelope",
          "Envelope",
          "Envelope",
          "Envelope",
          "Envelope",
          "Envelope",
          "Envelope",
          "Envelope",
          "Envelope",
          "Envelope",
          "Envelope",
          "Envelope",
          "Envelope",
          "Envelope",
          "Envelope",
          "Envelope",
          "Envelope",
          "Envelope",
          "Envelope",
          "Envelope",
          "Envelope",
          "Envelope",
          "Envelope",
          "Envelope",
          "Envelope",
          "Envelope",
          "Envelope",
          "Envelope",
          "Envelope",
          "Envelope",
          "Envelope",
          "Envelope",
          "Envelope",
          "Envelope",
          "Envelope",
          "Envelope",
          "Envelope",
          "Envelope",
          "Envelope",
          "Envelope",
          "Envelope",
          "Envelope",
          "Envelope",
          "Envelope",
          "Envelope",
          "Envelope",
          "Envelope",
          "Envelope",
          "Envelope",
          "Envelope",
          "Envelope",
          "Envelope",
          "Envelope",
          "Envelope",
          "Envelope",
          "Envelope",
          "Envelope",
          "Envelope",
          "Envelope",
          "Envelope",
          "Envelope",
          "Envelope",
          "Envelope",
          "Envelope",
          "Envelope",
          "Envelope",
          "Envelope",
          "Envelope",
          "Envelope",
          "Envelope",
          "Envelope",
          "Envelope",
          "Envelope",
          "Envelope",
          "Envelope",
          "Envelope",
          "Envelope",
          "Envelope",
          "Envelope",
          "Envelope",
          "Envelope",
          "Envelope",
          "Envelope",
          "Envelope",
          "Envelope",
          "Envelope",
          "Envelope",
          "Envelope",
          "Envelope",
          "Envelope",
          "Envelope",
          "Envelope",
          "Envelope",
          "Envelope",
          "Envelope",
          "Envelope",
          "Envelope",
          "Envelope",
          "Envelope",
          "Envelope",
          "Envelope",
          "Envelope",
          "Envelope",
          "Envelope",
          "Envelope",
          "Envelope",
          "Envelope",
          "Envelope",
          "Envelope",
          "Envelope",
          "Envelope",
          "Envelope",
          "Envelope",
          "Envelope",
          "Envelope",
          "Envelope",
          "Envelope",
          "Envelope",
          "Envelope",
          "Envelope",
          "Envelope",
          "Envelope",
          "Envelope",
          "Envelope",
          "Envelope",
          "Envelope",
          "Envelope",
          "Envelope",
          "Envelope",
          "Envelope",
          "Envelope",
          "Envelope",
          "Envelope",
          "Envelope",
          "Envelope",
          "Envelope",
          "Envelope",
          "Envelope",
          "Envelope",
          "Envelope",
          "Envelope",
          "Envelope",
          "Envelope",
          "Envelope",
          "Envelope",
          "Envelope",
          "Envelope",
          "Envelope",
          "Envelope",
          "Envelope",
          "Envelope",
          "Envelope",
          "Envelope",
          "Envelope",
          "Envelope",
          "Envelope",
          "Envelope",
          "Envelope",
          "Envelope",
          "Envelope",
          "Envelope",
          "Envelope",
          "Envelope",
          "Envelope",
          "Envelope",
          "Envelope",
          "Envelope",
          "Envelope",
          "Envelope",
          "Envelope",
          "Envelope",
          "Envelope",
          "Envelope",
          "Envelope",
          "Envelope",
          "Envelope",
          "Envelope",
          "Envelope",
          "Envelope",
          "Envelope",
          "Envelope",
          "Envelope",
          "Envelope",
          "Envelope",
          "Envelope",
          "Envelope",
          "Envelope",
          "Envelope",
          "Envelope",
          "Envelope",
          "Envelope",
          "Envelope",
          "Envelope",
          "Envelope",
          "Envelope",
          "Envelope",
          "Envelope",
          "Envelope",
          "Envelope",
          "Envelope",
          "Envelope",
          "Envelope",
          "Envelope",
          "Envelope",
          "Envelope",
          "Envelope",
          "Envelope",
          "Envelope",
          "Envelope",
          "Envelope",
          "Envelope",
          "Envelope",
          "Envelope",
          "Envelope",
          "Envelope",
          "Envelope",
          "Envelope",
          "Envelope",
          "Envelope",
          "Envelope",
          "Envelope",
          "Envelope",
          "Envelope",
          "Envelope",
          "Envelope",
          "Envelope",
          "Envelope",
          "Envelope",
          "Envelope",
          "Envelope",
          "Envelope",
          "Envelope",
          "Envelope",
          "Envelope",
          "Envelope",
          "Envelope",
          "Envelope",
          "Envelope",
          "Envelope",
          "Envelope",
          "Envelope",
          "Envelope",
          "Envelope",
          "Envelope",
          "Envelope",
          "Envelope",
          "Envelope",
          "Envelope",
          "Envelope",
          "Envelope",
          "Envelope",
          "Envelope",
          "Envelope",
          "Envelope",
          "Envelope",
          "Envelope",
          "Envelope",
          "Envelope",
          "Envelope",
          "Envelope",
          "Envelope",
          "Envelope",
          "Envelope",
          "Envelope",
          "Envelope",
          "Envelope",
          "Envelope",
          "Envelope",
          "Envelope",
          "Envelope",
          "Envelope",
          "Envelope",
          "Envelope",
          "Envelope",
          "Envelope",
          "Envelope",
          "Envelope",
          "Envelope",
          "Envelope",
          "Envelope",
          "Envelope",
          "Envelope",
          "Envelope",
          "Envelope",
          "Envelope",
          "Envelope",
          "Envelope",
          "Envelope",
          "Envelope",
          "Envelope",
          "Envelope",
          "Envelope",
          "Envelope",
          "Envelope",
          "Envelope",
          "Envelope",
          "Envelope",
          "Envelope",
          "Envelope",
          "Envelope",
          "Envelope",
          "Envelope",
          "Envelope",
          "Envelope",
          "Envelope",
          "Envelope",
          "Envelope",
          "Envelope",
          "Envelope",
          "Envelope",
          "Envelope",
          "Envelope",
          "Envelope",
          "Envelope",
          "Envelope",
          "Envelope",
          "Envelope",
          "Envelope",
          "Envelope",
          "Envelope",
          "Envelope",
          "Envelope",
          "Envelope",
          "Envelope",
          "Envelope",
          "Envelope",
          "Envelope",
          "Envelope",
          "Envelope",
          "Envelope",
          "Envelope",
          "Envelope",
          "Envelope",
          "Envelope",
          "Envelope",
          "Envelope",
          "Envelope",
          "Envelope",
          "Envelope",
          "Envelope",
          "Envelope",
          "Envelope",
          "Envelope",
          "Envelope",
          "Envelope",
          "Envelope",
          "Envelope",
          "Envelope",
          "Envelope",
          "Envelope",
          "Envelope",
          "Envelope",
          "Envelope",
          "Envelope",
          "Envelope",
          "Envelope",
          "Envelope",
          "Envelope",
          "Envelope",
          "Envelope",
          "Envelope",
          "Envelope",
          "Envelope",
          "Envelope",
          "Envelope",
          "Envelope",
          "Envelope",
          "Envelope",
          "Envelope",
          "Envelope",
          "Envelope",
          "Envelope",
          "Envelope",
          "Envelope",
          "Envelope",
          "Envelope",
          "Envelope",
          "Envelope",
          "Envelope",
          "Envelope",
          "Envelope",
          "Envelope",
          "Envelope",
          "Envelope",
          "Envelope",
          "Envelope",
          "Envelope",
          "Envelope",
          "Envelope",
          "Envelope",
          "Envelope",
          "Envelope",
          "Envelope",
          "Envelope",
          "Envelope",
          "Envelope",
          "Envelope",
          "Envelope",
          "Envelope",
          "Envelope",
          "Envelope",
          "Envelope",
          "Envelope",
          "Envelope",
          "Envelope",
          "Envelope",
          "Envelope",
          "Envelope",
          "Envelope",
          "Envelope",
          "Envelope",
          "Envelope",
          "Envelope",
          "Envelope",
          "Envelope",
          "Envelope",
          "Envelope",
          "Envelope",
          "Envelope",
          "Envelope",
          "Envelope",
          "Envelope",
          "Envelope",
          "Envelope",
          "Envelope",
          "Envelope",
          "Envelope",
          "Envelope",
          "Envelope",
          "Envelope",
          "Envelope",
          "Envelope",
          "Envelope",
          "Envelope",
          "Envelope",
          "Envelope",
          "Envelope",
          "Envelope",
          "Envelope",
          "Envelope",
          "Envelope",
          "Envelope",
          "Envelope",
          "Envelope",
          "Envelope",
          "Envelope",
          "Envelope",
          "Envelope",
          "Envelope",
          "Envelope",
          "Envelope",
          "Envelope",
          "Envelope",
          "Envelope",
          "Envelope",
          "Envelope",
          "Envelope",
          "Envelope",
          "Envelope",
          "Envelope",
          "Envelope",
          "Envelope",
          "Envelope",
          "Envelope",
          "Envelope",
          "Envelope",
          "Envelope",
          "Envelope",
          "Envelope",
          "Envelope",
          "Envelope",
          "Envelope",
          "Envelope",
          "Envelope",
          "Envelope",
          "Envelope",
          "Envelope",
          "Envelope",
          "Envelope",
          "Envelope",
          "Envelope",
          "Envelope",
          "Envelope",
          "Envelope",
          "Envelope",
          "Envelope",
          "Envelope",
          "Envelope",
          "Envelope",
          "Envelope",
          "Envelope",
          "Envelope",
          "Envelope",
          "Envelope",
          "Envelope",
          "Envelope",
          "Envelope",
          "Envelope",
          "Envelope",
          "Envelope",
          "Envelope",
          "Envelope",
          "Envelope",
          "Envelope",
          "Envelope",
          "Envelope",
          "Envelope",
          "Envelope",
          "Envelope",
          "Envelope",
          "Envelope",
          "Envelope",
          "Envelope",
          "Envelope",
          "Envelope",
          "Envelope",
          "Envelope",
          "Envelope",
          "Envelope",
          "Envelope",
          "Envelope",
          "Envelope",
          "Envelope",
          "Envelope",
          "Envelope",
          "Envelope",
          "Envelope",
          "Envelope",
          "Envelope",
          "Envelope",
          "Envelope",
          "Envelope",
          "Envelope",
          "Envelope",
          "Envelope",
          "Envelope",
          "Envelope",
          "Envelope",
          "Envelope",
          "Envelope",
          "Envelope",
          "Envelope",
          "Envelope",
          "Envelope",
          "Envelope",
          "Envelope",
          "Envelope",
          "Envelope",
          "Envelope",
          "Envelope",
          "Envelope",
          "Envelope",
          "Envelope",
          "Envelope",
          "Envelope",
          "Envelope",
          "Envelope",
          "Envelope",
          "Envelope",
          "Envelope",
          "Envelope",
          "Envelope",
          "Envelope",
          "Envelope",
          "Envelope",
          "Envelope",
          "Envelope",
          "Envelope",
          "Envelope",
          "Envelope",
          "Envelope",
          "Envelope",
          "Envelope",
          "Envelope",
          "Envelope",
          "Envelope",
          "Envelope",
          "Envelope",
          "Envelope",
          "Envelope",
          "Envelope",
          "Envelope",
          "Envelope",
          "Envelope",
          "Envelope",
          "Envelope",
          "Envelope",
          "Envelope",
          "Envelope",
          "Envelope",
          "Envelope",
          "Envelope",
          "Envelope",
          "Envelope",
          "Envelope",
          "Envelope",
          "Envelope",
          "Envelope",
          "Envelope",
          "Envelope",
          "Envelope",
          "Envelope",
          "Envelope",
          "Envelope",
          "Envelope",
          "Envelope",
          "Envelope",
          "Envelope",
          "Envelope",
          "Envelope",
          "Envelope",
          "Envelope",
          "Envelope",
          "Envelope",
          "Envelope",
          "Envelope",
          "Envelope",
          "Envelope",
          "Envelope",
          "Envelope",
          "Envelope",
          "Envelope",
          "Envelope",
          "Envelope",
          "Envelope",
          "Envelope",
          "Envelope",
          "Envelope",
          "Envelope",
          "Envelope",
          "Envelope",
          "Envelope",
          "Envelope",
          "Envelope",
          "Envelope",
          "Envelope",
          "Envelope",
          "Envelope",
          "Envelope",
          "Envelope",
          "Envelope",
          "Envelope",
          "Envelope",
          "Envelope",
          "Envelope",
          "Envelope",
          "Envelope",
          "Envelope",
          "Envelope",
          "Envelope",
          "Envelope",
          "Envelope"
         ],
         "xaxis": "x",
         "yaxis": "y"
        },
        {
         "bingroup": "x",
         "hovertemplate": "Target=%{x}<br>count=%{y}<extra></extra>",
         "legendgroup": "Membrane",
         "marker": {
          "color": "rgb(252,141,98)",
          "pattern": {
           "shape": ""
          }
         },
         "name": "Membrane",
         "orientation": "v",
         "showlegend": true,
         "type": "histogram",
         "x": [
          "Membrane",
          "Membrane",
          "Membrane",
          "Membrane",
          "Membrane",
          "Membrane",
          "Membrane",
          "Membrane",
          "Membrane",
          "Membrane",
          "Membrane",
          "Membrane",
          "Membrane",
          "Membrane",
          "Membrane",
          "Membrane",
          "Membrane",
          "Membrane",
          "Membrane",
          "Membrane",
          "Membrane",
          "Membrane",
          "Membrane",
          "Membrane",
          "Membrane",
          "Membrane",
          "Membrane",
          "Membrane",
          "Membrane",
          "Membrane",
          "Membrane",
          "Membrane",
          "Membrane",
          "Membrane",
          "Membrane",
          "Membrane",
          "Membrane",
          "Membrane",
          "Membrane",
          "Membrane",
          "Membrane",
          "Membrane",
          "Membrane",
          "Membrane",
          "Membrane",
          "Membrane",
          "Membrane",
          "Membrane",
          "Membrane",
          "Membrane",
          "Membrane",
          "Membrane",
          "Membrane",
          "Membrane",
          "Membrane",
          "Membrane",
          "Membrane",
          "Membrane",
          "Membrane",
          "Membrane",
          "Membrane",
          "Membrane",
          "Membrane",
          "Membrane",
          "Membrane",
          "Membrane",
          "Membrane",
          "Membrane",
          "Membrane",
          "Membrane",
          "Membrane",
          "Membrane",
          "Membrane",
          "Membrane",
          "Membrane",
          "Membrane",
          "Membrane",
          "Membrane",
          "Membrane",
          "Membrane",
          "Membrane",
          "Membrane",
          "Membrane",
          "Membrane",
          "Membrane",
          "Membrane",
          "Membrane",
          "Membrane",
          "Membrane",
          "Membrane",
          "Membrane",
          "Membrane",
          "Membrane",
          "Membrane",
          "Membrane",
          "Membrane",
          "Membrane",
          "Membrane",
          "Membrane",
          "Membrane",
          "Membrane",
          "Membrane",
          "Membrane",
          "Membrane",
          "Membrane",
          "Membrane",
          "Membrane",
          "Membrane",
          "Membrane",
          "Membrane",
          "Membrane",
          "Membrane",
          "Membrane",
          "Membrane",
          "Membrane",
          "Membrane",
          "Membrane",
          "Membrane",
          "Membrane",
          "Membrane",
          "Membrane",
          "Membrane",
          "Membrane",
          "Membrane",
          "Membrane",
          "Membrane",
          "Membrane",
          "Membrane",
          "Membrane",
          "Membrane",
          "Membrane",
          "Membrane",
          "Membrane",
          "Membrane",
          "Membrane",
          "Membrane",
          "Membrane",
          "Membrane",
          "Membrane",
          "Membrane",
          "Membrane",
          "Membrane",
          "Membrane",
          "Membrane",
          "Membrane",
          "Membrane",
          "Membrane",
          "Membrane",
          "Membrane",
          "Membrane",
          "Membrane",
          "Membrane",
          "Membrane",
          "Membrane",
          "Membrane",
          "Membrane",
          "Membrane",
          "Membrane",
          "Membrane",
          "Membrane",
          "Membrane",
          "Membrane",
          "Membrane",
          "Membrane",
          "Membrane",
          "Membrane",
          "Membrane",
          "Membrane",
          "Membrane",
          "Membrane",
          "Membrane",
          "Membrane",
          "Membrane",
          "Membrane",
          "Membrane",
          "Membrane",
          "Membrane",
          "Membrane",
          "Membrane",
          "Membrane",
          "Membrane",
          "Membrane",
          "Membrane",
          "Membrane",
          "Membrane",
          "Membrane",
          "Membrane",
          "Membrane",
          "Membrane",
          "Membrane",
          "Membrane",
          "Membrane",
          "Membrane",
          "Membrane",
          "Membrane",
          "Membrane",
          "Membrane",
          "Membrane",
          "Membrane",
          "Membrane",
          "Membrane",
          "Membrane",
          "Membrane",
          "Membrane",
          "Membrane",
          "Membrane",
          "Membrane",
          "Membrane",
          "Membrane",
          "Membrane",
          "Membrane",
          "Membrane",
          "Membrane",
          "Membrane",
          "Membrane",
          "Membrane",
          "Membrane",
          "Membrane",
          "Membrane",
          "Membrane",
          "Membrane",
          "Membrane",
          "Membrane",
          "Membrane",
          "Membrane",
          "Membrane",
          "Membrane",
          "Membrane",
          "Membrane",
          "Membrane",
          "Membrane",
          "Membrane",
          "Membrane",
          "Membrane",
          "Membrane",
          "Membrane",
          "Membrane",
          "Membrane",
          "Membrane",
          "Membrane",
          "Membrane",
          "Membrane",
          "Membrane",
          "Membrane",
          "Membrane",
          "Membrane",
          "Membrane",
          "Membrane",
          "Membrane",
          "Membrane",
          "Membrane",
          "Membrane",
          "Membrane",
          "Membrane",
          "Membrane",
          "Membrane",
          "Membrane",
          "Membrane",
          "Membrane",
          "Membrane",
          "Membrane",
          "Membrane",
          "Membrane",
          "Membrane",
          "Membrane",
          "Membrane",
          "Membrane",
          "Membrane",
          "Membrane",
          "Membrane",
          "Membrane",
          "Membrane",
          "Membrane",
          "Membrane",
          "Membrane",
          "Membrane",
          "Membrane",
          "Membrane",
          "Membrane",
          "Membrane",
          "Membrane",
          "Membrane",
          "Membrane",
          "Membrane",
          "Membrane",
          "Membrane",
          "Membrane",
          "Membrane",
          "Membrane",
          "Membrane",
          "Membrane",
          "Membrane",
          "Membrane",
          "Membrane",
          "Membrane",
          "Membrane",
          "Membrane",
          "Membrane",
          "Membrane",
          "Membrane",
          "Membrane",
          "Membrane",
          "Membrane",
          "Membrane",
          "Membrane",
          "Membrane",
          "Membrane",
          "Membrane",
          "Membrane",
          "Membrane",
          "Membrane",
          "Membrane",
          "Membrane",
          "Membrane",
          "Membrane",
          "Membrane",
          "Membrane",
          "Membrane",
          "Membrane",
          "Membrane",
          "Membrane",
          "Membrane",
          "Membrane",
          "Membrane",
          "Membrane",
          "Membrane",
          "Membrane",
          "Membrane",
          "Membrane",
          "Membrane",
          "Membrane",
          "Membrane",
          "Membrane",
          "Membrane",
          "Membrane",
          "Membrane",
          "Membrane",
          "Membrane",
          "Membrane",
          "Membrane",
          "Membrane",
          "Membrane",
          "Membrane",
          "Membrane",
          "Membrane",
          "Membrane",
          "Membrane",
          "Membrane",
          "Membrane",
          "Membrane",
          "Membrane",
          "Membrane",
          "Membrane",
          "Membrane",
          "Membrane",
          "Membrane",
          "Membrane",
          "Membrane",
          "Membrane",
          "Membrane",
          "Membrane",
          "Membrane",
          "Membrane",
          "Membrane",
          "Membrane",
          "Membrane",
          "Membrane",
          "Membrane",
          "Membrane",
          "Membrane",
          "Membrane",
          "Membrane",
          "Membrane",
          "Membrane",
          "Membrane",
          "Membrane",
          "Membrane",
          "Membrane",
          "Membrane",
          "Membrane",
          "Membrane",
          "Membrane",
          "Membrane",
          "Membrane",
          "Membrane",
          "Membrane",
          "Membrane",
          "Membrane",
          "Membrane",
          "Membrane",
          "Membrane",
          "Membrane",
          "Membrane",
          "Membrane",
          "Membrane",
          "Membrane",
          "Membrane",
          "Membrane",
          "Membrane",
          "Membrane",
          "Membrane",
          "Membrane",
          "Membrane",
          "Membrane",
          "Membrane",
          "Membrane",
          "Membrane",
          "Membrane",
          "Membrane",
          "Membrane",
          "Membrane",
          "Membrane",
          "Membrane",
          "Membrane",
          "Membrane",
          "Membrane",
          "Membrane",
          "Membrane",
          "Membrane",
          "Membrane",
          "Membrane",
          "Membrane",
          "Membrane",
          "Membrane",
          "Membrane",
          "Membrane",
          "Membrane",
          "Membrane",
          "Membrane",
          "Membrane",
          "Membrane",
          "Membrane",
          "Membrane",
          "Membrane",
          "Membrane",
          "Membrane",
          "Membrane",
          "Membrane",
          "Membrane",
          "Membrane",
          "Membrane",
          "Membrane",
          "Membrane",
          "Membrane",
          "Membrane",
          "Membrane",
          "Membrane",
          "Membrane",
          "Membrane",
          "Membrane",
          "Membrane",
          "Membrane",
          "Membrane",
          "Membrane",
          "Membrane",
          "Membrane",
          "Membrane",
          "Membrane",
          "Membrane",
          "Membrane",
          "Membrane",
          "Membrane",
          "Membrane",
          "Membrane",
          "Membrane",
          "Membrane",
          "Membrane",
          "Membrane",
          "Membrane",
          "Membrane",
          "Membrane",
          "Membrane",
          "Membrane",
          "Membrane",
          "Membrane",
          "Membrane",
          "Membrane",
          "Membrane",
          "Membrane",
          "Membrane",
          "Membrane",
          "Membrane",
          "Membrane",
          "Membrane",
          "Membrane",
          "Membrane",
          "Membrane",
          "Membrane",
          "Membrane",
          "Membrane",
          "Membrane",
          "Membrane",
          "Membrane",
          "Membrane",
          "Membrane",
          "Membrane",
          "Membrane",
          "Membrane",
          "Membrane",
          "Membrane",
          "Membrane",
          "Membrane",
          "Membrane",
          "Membrane",
          "Membrane",
          "Membrane",
          "Membrane",
          "Membrane",
          "Membrane",
          "Membrane",
          "Membrane",
          "Membrane",
          "Membrane",
          "Membrane",
          "Membrane",
          "Membrane",
          "Membrane",
          "Membrane",
          "Membrane",
          "Membrane",
          "Membrane",
          "Membrane",
          "Membrane",
          "Membrane",
          "Membrane",
          "Membrane",
          "Membrane",
          "Membrane",
          "Membrane",
          "Membrane",
          "Membrane",
          "Membrane",
          "Membrane",
          "Membrane",
          "Membrane",
          "Membrane",
          "Membrane",
          "Membrane",
          "Membrane",
          "Membrane",
          "Membrane",
          "Membrane",
          "Membrane",
          "Membrane",
          "Membrane",
          "Membrane",
          "Membrane",
          "Membrane",
          "Membrane",
          "Membrane",
          "Membrane",
          "Membrane",
          "Membrane",
          "Membrane",
          "Membrane",
          "Membrane",
          "Membrane",
          "Membrane",
          "Membrane",
          "Membrane",
          "Membrane",
          "Membrane",
          "Membrane",
          "Membrane",
          "Membrane",
          "Membrane",
          "Membrane",
          "Membrane",
          "Membrane",
          "Membrane",
          "Membrane",
          "Membrane",
          "Membrane",
          "Membrane",
          "Membrane",
          "Membrane",
          "Membrane",
          "Membrane",
          "Membrane",
          "Membrane",
          "Membrane",
          "Membrane",
          "Membrane",
          "Membrane",
          "Membrane",
          "Membrane",
          "Membrane",
          "Membrane",
          "Membrane",
          "Membrane",
          "Membrane",
          "Membrane",
          "Membrane",
          "Membrane",
          "Membrane",
          "Membrane",
          "Membrane",
          "Membrane",
          "Membrane",
          "Membrane",
          "Membrane",
          "Membrane",
          "Membrane",
          "Membrane",
          "Membrane",
          "Membrane",
          "Membrane",
          "Membrane",
          "Membrane",
          "Membrane",
          "Membrane",
          "Membrane",
          "Membrane",
          "Membrane",
          "Membrane",
          "Membrane",
          "Membrane",
          "Membrane",
          "Membrane",
          "Membrane",
          "Membrane",
          "Membrane",
          "Membrane",
          "Membrane",
          "Membrane",
          "Membrane",
          "Membrane",
          "Membrane",
          "Membrane",
          "Membrane",
          "Membrane",
          "Membrane",
          "Membrane",
          "Membrane",
          "Membrane",
          "Membrane",
          "Membrane",
          "Membrane",
          "Membrane",
          "Membrane",
          "Membrane",
          "Membrane",
          "Membrane",
          "Membrane",
          "Membrane",
          "Membrane",
          "Membrane",
          "Membrane",
          "Membrane",
          "Membrane",
          "Membrane",
          "Membrane",
          "Membrane",
          "Membrane",
          "Membrane",
          "Membrane",
          "Membrane",
          "Membrane",
          "Membrane",
          "Membrane",
          "Membrane",
          "Membrane",
          "Membrane",
          "Membrane",
          "Membrane",
          "Membrane",
          "Membrane",
          "Membrane",
          "Membrane",
          "Membrane",
          "Membrane",
          "Membrane",
          "Membrane",
          "Membrane",
          "Membrane",
          "Membrane",
          "Membrane",
          "Membrane",
          "Membrane",
          "Membrane",
          "Membrane",
          "Membrane",
          "Membrane",
          "Membrane",
          "Membrane",
          "Membrane",
          "Membrane",
          "Membrane",
          "Membrane",
          "Membrane",
          "Membrane",
          "Membrane",
          "Membrane",
          "Membrane",
          "Membrane",
          "Membrane",
          "Membrane",
          "Membrane",
          "Membrane",
          "Membrane",
          "Membrane",
          "Membrane",
          "Membrane",
          "Membrane",
          "Membrane",
          "Membrane",
          "Membrane",
          "Membrane",
          "Membrane",
          "Membrane",
          "Membrane",
          "Membrane",
          "Membrane",
          "Membrane",
          "Membrane",
          "Membrane",
          "Membrane",
          "Membrane",
          "Membrane",
          "Membrane",
          "Membrane",
          "Membrane",
          "Membrane",
          "Membrane",
          "Membrane",
          "Membrane",
          "Membrane",
          "Membrane",
          "Membrane",
          "Membrane",
          "Membrane",
          "Membrane",
          "Membrane",
          "Membrane",
          "Membrane",
          "Membrane",
          "Membrane",
          "Membrane",
          "Membrane",
          "Membrane",
          "Membrane",
          "Membrane",
          "Membrane",
          "Membrane",
          "Membrane",
          "Membrane",
          "Membrane",
          "Membrane",
          "Membrane",
          "Membrane",
          "Membrane",
          "Membrane",
          "Membrane",
          "Membrane",
          "Membrane",
          "Membrane",
          "Membrane",
          "Membrane",
          "Membrane",
          "Membrane",
          "Membrane",
          "Membrane",
          "Membrane",
          "Membrane",
          "Membrane",
          "Membrane",
          "Membrane",
          "Membrane",
          "Membrane",
          "Membrane",
          "Membrane",
          "Membrane",
          "Membrane",
          "Membrane",
          "Membrane",
          "Membrane",
          "Membrane",
          "Membrane",
          "Membrane",
          "Membrane",
          "Membrane",
          "Membrane",
          "Membrane",
          "Membrane",
          "Membrane",
          "Membrane",
          "Membrane",
          "Membrane",
          "Membrane",
          "Membrane",
          "Membrane",
          "Membrane",
          "Membrane",
          "Membrane",
          "Membrane",
          "Membrane",
          "Membrane",
          "Membrane",
          "Membrane",
          "Membrane",
          "Membrane",
          "Membrane",
          "Membrane",
          "Membrane",
          "Membrane",
          "Membrane",
          "Membrane",
          "Membrane",
          "Membrane",
          "Membrane",
          "Membrane",
          "Membrane",
          "Membrane",
          "Membrane",
          "Membrane",
          "Membrane",
          "Membrane",
          "Membrane",
          "Membrane",
          "Membrane",
          "Membrane",
          "Membrane",
          "Membrane",
          "Membrane",
          "Membrane",
          "Membrane",
          "Membrane",
          "Membrane",
          "Membrane",
          "Membrane",
          "Membrane",
          "Membrane",
          "Membrane",
          "Membrane",
          "Membrane",
          "Membrane",
          "Membrane",
          "Membrane",
          "Membrane",
          "Membrane",
          "Membrane",
          "Membrane",
          "Membrane",
          "Membrane",
          "Membrane",
          "Membrane",
          "Membrane",
          "Membrane",
          "Membrane",
          "Membrane",
          "Membrane",
          "Membrane",
          "Membrane",
          "Membrane",
          "Membrane",
          "Membrane",
          "Membrane",
          "Membrane",
          "Membrane",
          "Membrane",
          "Membrane",
          "Membrane",
          "Membrane",
          "Membrane",
          "Membrane",
          "Membrane",
          "Membrane",
          "Membrane",
          "Membrane",
          "Membrane",
          "Membrane",
          "Membrane",
          "Membrane",
          "Membrane",
          "Membrane",
          "Membrane",
          "Membrane",
          "Membrane",
          "Membrane",
          "Membrane",
          "Membrane",
          "Membrane",
          "Membrane",
          "Membrane",
          "Membrane",
          "Membrane",
          "Membrane",
          "Membrane",
          "Membrane",
          "Membrane",
          "Membrane",
          "Membrane",
          "Membrane",
          "Membrane",
          "Membrane",
          "Membrane",
          "Membrane",
          "Membrane",
          "Membrane",
          "Membrane",
          "Membrane",
          "Membrane",
          "Membrane",
          "Membrane",
          "Membrane",
          "Membrane",
          "Membrane",
          "Membrane",
          "Membrane",
          "Membrane",
          "Membrane",
          "Membrane",
          "Membrane",
          "Membrane",
          "Membrane",
          "Membrane",
          "Membrane",
          "Membrane",
          "Membrane",
          "Membrane",
          "Membrane",
          "Membrane",
          "Membrane",
          "Membrane",
          "Membrane",
          "Membrane",
          "Membrane",
          "Membrane",
          "Membrane",
          "Membrane",
          "Membrane",
          "Membrane",
          "Membrane",
          "Membrane",
          "Membrane",
          "Membrane",
          "Membrane",
          "Membrane",
          "Membrane",
          "Membrane",
          "Membrane",
          "Membrane",
          "Membrane",
          "Membrane",
          "Membrane",
          "Membrane",
          "Membrane",
          "Membrane",
          "Membrane",
          "Membrane",
          "Membrane",
          "Membrane",
          "Membrane",
          "Membrane",
          "Membrane",
          "Membrane",
          "Membrane",
          "Membrane",
          "Membrane",
          "Membrane",
          "Membrane",
          "Membrane",
          "Membrane",
          "Membrane",
          "Membrane",
          "Membrane",
          "Membrane",
          "Membrane",
          "Membrane",
          "Membrane",
          "Membrane",
          "Membrane",
          "Membrane",
          "Membrane",
          "Membrane",
          "Membrane",
          "Membrane",
          "Membrane",
          "Membrane",
          "Membrane",
          "Membrane",
          "Membrane",
          "Membrane",
          "Membrane",
          "Membrane",
          "Membrane",
          "Membrane",
          "Membrane",
          "Membrane",
          "Membrane",
          "Membrane",
          "Membrane",
          "Membrane",
          "Membrane",
          "Membrane",
          "Membrane",
          "Membrane",
          "Membrane",
          "Membrane",
          "Membrane",
          "Membrane",
          "Membrane",
          "Membrane",
          "Membrane",
          "Membrane",
          "Membrane",
          "Membrane",
          "Membrane",
          "Membrane",
          "Membrane",
          "Membrane",
          "Membrane",
          "Membrane",
          "Membrane",
          "Membrane",
          "Membrane",
          "Membrane",
          "Membrane",
          "Membrane",
          "Membrane",
          "Membrane",
          "Membrane"
         ],
         "xaxis": "x",
         "yaxis": "y"
        },
        {
         "bingroup": "x",
         "hovertemplate": "Target=%{x}<br>count=%{y}<extra></extra>",
         "legendgroup": "Nucleocapsid",
         "marker": {
          "color": "rgb(141,160,203)",
          "pattern": {
           "shape": ""
          }
         },
         "name": "Nucleocapsid",
         "orientation": "v",
         "showlegend": true,
         "type": "histogram",
         "x": [
          "Nucleocapsid",
          "Nucleocapsid",
          "Nucleocapsid",
          "Nucleocapsid",
          "Nucleocapsid",
          "Nucleocapsid",
          "Nucleocapsid",
          "Nucleocapsid",
          "Nucleocapsid",
          "Nucleocapsid",
          "Nucleocapsid",
          "Nucleocapsid",
          "Nucleocapsid",
          "Nucleocapsid",
          "Nucleocapsid",
          "Nucleocapsid",
          "Nucleocapsid",
          "Nucleocapsid",
          "Nucleocapsid",
          "Nucleocapsid",
          "Nucleocapsid",
          "Nucleocapsid",
          "Nucleocapsid",
          "Nucleocapsid",
          "Nucleocapsid",
          "Nucleocapsid",
          "Nucleocapsid",
          "Nucleocapsid",
          "Nucleocapsid",
          "Nucleocapsid",
          "Nucleocapsid",
          "Nucleocapsid",
          "Nucleocapsid",
          "Nucleocapsid",
          "Nucleocapsid",
          "Nucleocapsid",
          "Nucleocapsid",
          "Nucleocapsid",
          "Nucleocapsid",
          "Nucleocapsid",
          "Nucleocapsid",
          "Nucleocapsid",
          "Nucleocapsid",
          "Nucleocapsid",
          "Nucleocapsid",
          "Nucleocapsid",
          "Nucleocapsid",
          "Nucleocapsid",
          "Nucleocapsid",
          "Nucleocapsid",
          "Nucleocapsid",
          "Nucleocapsid",
          "Nucleocapsid",
          "Nucleocapsid",
          "Nucleocapsid",
          "Nucleocapsid",
          "Nucleocapsid",
          "Nucleocapsid",
          "Nucleocapsid",
          "Nucleocapsid",
          "Nucleocapsid",
          "Nucleocapsid",
          "Nucleocapsid",
          "Nucleocapsid",
          "Nucleocapsid",
          "Nucleocapsid",
          "Nucleocapsid",
          "Nucleocapsid",
          "Nucleocapsid",
          "Nucleocapsid",
          "Nucleocapsid",
          "Nucleocapsid",
          "Nucleocapsid",
          "Nucleocapsid",
          "Nucleocapsid",
          "Nucleocapsid",
          "Nucleocapsid",
          "Nucleocapsid",
          "Nucleocapsid",
          "Nucleocapsid",
          "Nucleocapsid",
          "Nucleocapsid",
          "Nucleocapsid",
          "Nucleocapsid",
          "Nucleocapsid",
          "Nucleocapsid",
          "Nucleocapsid",
          "Nucleocapsid",
          "Nucleocapsid",
          "Nucleocapsid",
          "Nucleocapsid",
          "Nucleocapsid",
          "Nucleocapsid",
          "Nucleocapsid",
          "Nucleocapsid",
          "Nucleocapsid",
          "Nucleocapsid",
          "Nucleocapsid",
          "Nucleocapsid",
          "Nucleocapsid",
          "Nucleocapsid",
          "Nucleocapsid",
          "Nucleocapsid",
          "Nucleocapsid",
          "Nucleocapsid",
          "Nucleocapsid",
          "Nucleocapsid",
          "Nucleocapsid",
          "Nucleocapsid",
          "Nucleocapsid",
          "Nucleocapsid",
          "Nucleocapsid",
          "Nucleocapsid",
          "Nucleocapsid",
          "Nucleocapsid",
          "Nucleocapsid",
          "Nucleocapsid",
          "Nucleocapsid",
          "Nucleocapsid",
          "Nucleocapsid",
          "Nucleocapsid",
          "Nucleocapsid",
          "Nucleocapsid",
          "Nucleocapsid",
          "Nucleocapsid",
          "Nucleocapsid",
          "Nucleocapsid",
          "Nucleocapsid",
          "Nucleocapsid",
          "Nucleocapsid",
          "Nucleocapsid",
          "Nucleocapsid",
          "Nucleocapsid",
          "Nucleocapsid",
          "Nucleocapsid",
          "Nucleocapsid",
          "Nucleocapsid",
          "Nucleocapsid",
          "Nucleocapsid",
          "Nucleocapsid",
          "Nucleocapsid",
          "Nucleocapsid",
          "Nucleocapsid",
          "Nucleocapsid",
          "Nucleocapsid",
          "Nucleocapsid",
          "Nucleocapsid",
          "Nucleocapsid",
          "Nucleocapsid",
          "Nucleocapsid",
          "Nucleocapsid",
          "Nucleocapsid",
          "Nucleocapsid",
          "Nucleocapsid",
          "Nucleocapsid",
          "Nucleocapsid",
          "Nucleocapsid",
          "Nucleocapsid",
          "Nucleocapsid",
          "Nucleocapsid",
          "Nucleocapsid",
          "Nucleocapsid",
          "Nucleocapsid",
          "Nucleocapsid",
          "Nucleocapsid",
          "Nucleocapsid",
          "Nucleocapsid",
          "Nucleocapsid",
          "Nucleocapsid",
          "Nucleocapsid",
          "Nucleocapsid",
          "Nucleocapsid",
          "Nucleocapsid",
          "Nucleocapsid",
          "Nucleocapsid",
          "Nucleocapsid",
          "Nucleocapsid",
          "Nucleocapsid",
          "Nucleocapsid",
          "Nucleocapsid",
          "Nucleocapsid",
          "Nucleocapsid",
          "Nucleocapsid",
          "Nucleocapsid",
          "Nucleocapsid",
          "Nucleocapsid",
          "Nucleocapsid",
          "Nucleocapsid",
          "Nucleocapsid",
          "Nucleocapsid",
          "Nucleocapsid",
          "Nucleocapsid",
          "Nucleocapsid",
          "Nucleocapsid",
          "Nucleocapsid",
          "Nucleocapsid",
          "Nucleocapsid",
          "Nucleocapsid",
          "Nucleocapsid",
          "Nucleocapsid",
          "Nucleocapsid",
          "Nucleocapsid",
          "Nucleocapsid",
          "Nucleocapsid",
          "Nucleocapsid",
          "Nucleocapsid",
          "Nucleocapsid",
          "Nucleocapsid",
          "Nucleocapsid",
          "Nucleocapsid",
          "Nucleocapsid",
          "Nucleocapsid",
          "Nucleocapsid",
          "Nucleocapsid",
          "Nucleocapsid",
          "Nucleocapsid",
          "Nucleocapsid",
          "Nucleocapsid",
          "Nucleocapsid",
          "Nucleocapsid",
          "Nucleocapsid",
          "Nucleocapsid",
          "Nucleocapsid",
          "Nucleocapsid",
          "Nucleocapsid",
          "Nucleocapsid",
          "Nucleocapsid",
          "Nucleocapsid",
          "Nucleocapsid",
          "Nucleocapsid",
          "Nucleocapsid",
          "Nucleocapsid",
          "Nucleocapsid",
          "Nucleocapsid",
          "Nucleocapsid",
          "Nucleocapsid",
          "Nucleocapsid",
          "Nucleocapsid",
          "Nucleocapsid",
          "Nucleocapsid",
          "Nucleocapsid",
          "Nucleocapsid",
          "Nucleocapsid",
          "Nucleocapsid",
          "Nucleocapsid",
          "Nucleocapsid",
          "Nucleocapsid",
          "Nucleocapsid",
          "Nucleocapsid",
          "Nucleocapsid",
          "Nucleocapsid",
          "Nucleocapsid",
          "Nucleocapsid",
          "Nucleocapsid",
          "Nucleocapsid",
          "Nucleocapsid",
          "Nucleocapsid",
          "Nucleocapsid",
          "Nucleocapsid",
          "Nucleocapsid",
          "Nucleocapsid",
          "Nucleocapsid",
          "Nucleocapsid",
          "Nucleocapsid",
          "Nucleocapsid",
          "Nucleocapsid",
          "Nucleocapsid",
          "Nucleocapsid",
          "Nucleocapsid",
          "Nucleocapsid",
          "Nucleocapsid",
          "Nucleocapsid",
          "Nucleocapsid",
          "Nucleocapsid",
          "Nucleocapsid",
          "Nucleocapsid",
          "Nucleocapsid",
          "Nucleocapsid",
          "Nucleocapsid",
          "Nucleocapsid",
          "Nucleocapsid",
          "Nucleocapsid",
          "Nucleocapsid",
          "Nucleocapsid",
          "Nucleocapsid",
          "Nucleocapsid",
          "Nucleocapsid",
          "Nucleocapsid",
          "Nucleocapsid",
          "Nucleocapsid",
          "Nucleocapsid",
          "Nucleocapsid",
          "Nucleocapsid",
          "Nucleocapsid",
          "Nucleocapsid",
          "Nucleocapsid",
          "Nucleocapsid",
          "Nucleocapsid",
          "Nucleocapsid",
          "Nucleocapsid",
          "Nucleocapsid",
          "Nucleocapsid",
          "Nucleocapsid",
          "Nucleocapsid",
          "Nucleocapsid",
          "Nucleocapsid",
          "Nucleocapsid",
          "Nucleocapsid",
          "Nucleocapsid",
          "Nucleocapsid",
          "Nucleocapsid",
          "Nucleocapsid",
          "Nucleocapsid",
          "Nucleocapsid",
          "Nucleocapsid",
          "Nucleocapsid",
          "Nucleocapsid",
          "Nucleocapsid",
          "Nucleocapsid",
          "Nucleocapsid",
          "Nucleocapsid",
          "Nucleocapsid",
          "Nucleocapsid",
          "Nucleocapsid",
          "Nucleocapsid",
          "Nucleocapsid",
          "Nucleocapsid",
          "Nucleocapsid",
          "Nucleocapsid",
          "Nucleocapsid",
          "Nucleocapsid",
          "Nucleocapsid",
          "Nucleocapsid",
          "Nucleocapsid",
          "Nucleocapsid",
          "Nucleocapsid",
          "Nucleocapsid",
          "Nucleocapsid",
          "Nucleocapsid",
          "Nucleocapsid",
          "Nucleocapsid",
          "Nucleocapsid",
          "Nucleocapsid",
          "Nucleocapsid",
          "Nucleocapsid",
          "Nucleocapsid",
          "Nucleocapsid",
          "Nucleocapsid",
          "Nucleocapsid",
          "Nucleocapsid",
          "Nucleocapsid",
          "Nucleocapsid",
          "Nucleocapsid",
          "Nucleocapsid",
          "Nucleocapsid",
          "Nucleocapsid",
          "Nucleocapsid",
          "Nucleocapsid",
          "Nucleocapsid",
          "Nucleocapsid",
          "Nucleocapsid",
          "Nucleocapsid",
          "Nucleocapsid",
          "Nucleocapsid",
          "Nucleocapsid",
          "Nucleocapsid",
          "Nucleocapsid",
          "Nucleocapsid",
          "Nucleocapsid",
          "Nucleocapsid",
          "Nucleocapsid",
          "Nucleocapsid",
          "Nucleocapsid",
          "Nucleocapsid",
          "Nucleocapsid",
          "Nucleocapsid",
          "Nucleocapsid",
          "Nucleocapsid",
          "Nucleocapsid",
          "Nucleocapsid",
          "Nucleocapsid",
          "Nucleocapsid",
          "Nucleocapsid",
          "Nucleocapsid",
          "Nucleocapsid",
          "Nucleocapsid",
          "Nucleocapsid",
          "Nucleocapsid",
          "Nucleocapsid",
          "Nucleocapsid",
          "Nucleocapsid",
          "Nucleocapsid",
          "Nucleocapsid",
          "Nucleocapsid",
          "Nucleocapsid",
          "Nucleocapsid",
          "Nucleocapsid",
          "Nucleocapsid",
          "Nucleocapsid",
          "Nucleocapsid",
          "Nucleocapsid",
          "Nucleocapsid",
          "Nucleocapsid",
          "Nucleocapsid",
          "Nucleocapsid",
          "Nucleocapsid",
          "Nucleocapsid",
          "Nucleocapsid",
          "Nucleocapsid",
          "Nucleocapsid",
          "Nucleocapsid",
          "Nucleocapsid",
          "Nucleocapsid",
          "Nucleocapsid",
          "Nucleocapsid",
          "Nucleocapsid",
          "Nucleocapsid",
          "Nucleocapsid",
          "Nucleocapsid",
          "Nucleocapsid",
          "Nucleocapsid",
          "Nucleocapsid",
          "Nucleocapsid",
          "Nucleocapsid",
          "Nucleocapsid",
          "Nucleocapsid",
          "Nucleocapsid",
          "Nucleocapsid",
          "Nucleocapsid",
          "Nucleocapsid",
          "Nucleocapsid",
          "Nucleocapsid",
          "Nucleocapsid",
          "Nucleocapsid",
          "Nucleocapsid",
          "Nucleocapsid",
          "Nucleocapsid",
          "Nucleocapsid",
          "Nucleocapsid",
          "Nucleocapsid",
          "Nucleocapsid",
          "Nucleocapsid",
          "Nucleocapsid",
          "Nucleocapsid",
          "Nucleocapsid",
          "Nucleocapsid",
          "Nucleocapsid",
          "Nucleocapsid",
          "Nucleocapsid",
          "Nucleocapsid",
          "Nucleocapsid",
          "Nucleocapsid",
          "Nucleocapsid",
          "Nucleocapsid",
          "Nucleocapsid",
          "Nucleocapsid",
          "Nucleocapsid",
          "Nucleocapsid",
          "Nucleocapsid",
          "Nucleocapsid",
          "Nucleocapsid",
          "Nucleocapsid",
          "Nucleocapsid",
          "Nucleocapsid",
          "Nucleocapsid",
          "Nucleocapsid",
          "Nucleocapsid",
          "Nucleocapsid",
          "Nucleocapsid",
          "Nucleocapsid",
          "Nucleocapsid",
          "Nucleocapsid",
          "Nucleocapsid",
          "Nucleocapsid",
          "Nucleocapsid",
          "Nucleocapsid",
          "Nucleocapsid",
          "Nucleocapsid",
          "Nucleocapsid",
          "Nucleocapsid",
          "Nucleocapsid",
          "Nucleocapsid",
          "Nucleocapsid",
          "Nucleocapsid",
          "Nucleocapsid",
          "Nucleocapsid",
          "Nucleocapsid",
          "Nucleocapsid",
          "Nucleocapsid",
          "Nucleocapsid",
          "Nucleocapsid",
          "Nucleocapsid",
          "Nucleocapsid",
          "Nucleocapsid",
          "Nucleocapsid",
          "Nucleocapsid",
          "Nucleocapsid",
          "Nucleocapsid",
          "Nucleocapsid",
          "Nucleocapsid",
          "Nucleocapsid",
          "Nucleocapsid",
          "Nucleocapsid",
          "Nucleocapsid",
          "Nucleocapsid",
          "Nucleocapsid",
          "Nucleocapsid",
          "Nucleocapsid",
          "Nucleocapsid",
          "Nucleocapsid",
          "Nucleocapsid",
          "Nucleocapsid",
          "Nucleocapsid",
          "Nucleocapsid",
          "Nucleocapsid",
          "Nucleocapsid",
          "Nucleocapsid",
          "Nucleocapsid",
          "Nucleocapsid",
          "Nucleocapsid",
          "Nucleocapsid",
          "Nucleocapsid",
          "Nucleocapsid",
          "Nucleocapsid",
          "Nucleocapsid",
          "Nucleocapsid",
          "Nucleocapsid",
          "Nucleocapsid",
          "Nucleocapsid",
          "Nucleocapsid",
          "Nucleocapsid",
          "Nucleocapsid",
          "Nucleocapsid",
          "Nucleocapsid",
          "Nucleocapsid",
          "Nucleocapsid",
          "Nucleocapsid",
          "Nucleocapsid",
          "Nucleocapsid",
          "Nucleocapsid",
          "Nucleocapsid",
          "Nucleocapsid",
          "Nucleocapsid",
          "Nucleocapsid",
          "Nucleocapsid",
          "Nucleocapsid",
          "Nucleocapsid",
          "Nucleocapsid",
          "Nucleocapsid",
          "Nucleocapsid",
          "Nucleocapsid",
          "Nucleocapsid",
          "Nucleocapsid",
          "Nucleocapsid",
          "Nucleocapsid",
          "Nucleocapsid",
          "Nucleocapsid",
          "Nucleocapsid",
          "Nucleocapsid",
          "Nucleocapsid",
          "Nucleocapsid",
          "Nucleocapsid",
          "Nucleocapsid",
          "Nucleocapsid",
          "Nucleocapsid",
          "Nucleocapsid",
          "Nucleocapsid",
          "Nucleocapsid",
          "Nucleocapsid",
          "Nucleocapsid",
          "Nucleocapsid",
          "Nucleocapsid",
          "Nucleocapsid",
          "Nucleocapsid",
          "Nucleocapsid",
          "Nucleocapsid",
          "Nucleocapsid",
          "Nucleocapsid",
          "Nucleocapsid",
          "Nucleocapsid",
          "Nucleocapsid",
          "Nucleocapsid",
          "Nucleocapsid",
          "Nucleocapsid",
          "Nucleocapsid",
          "Nucleocapsid",
          "Nucleocapsid",
          "Nucleocapsid",
          "Nucleocapsid",
          "Nucleocapsid",
          "Nucleocapsid",
          "Nucleocapsid",
          "Nucleocapsid",
          "Nucleocapsid",
          "Nucleocapsid",
          "Nucleocapsid",
          "Nucleocapsid",
          "Nucleocapsid",
          "Nucleocapsid",
          "Nucleocapsid",
          "Nucleocapsid",
          "Nucleocapsid",
          "Nucleocapsid",
          "Nucleocapsid",
          "Nucleocapsid",
          "Nucleocapsid",
          "Nucleocapsid",
          "Nucleocapsid",
          "Nucleocapsid",
          "Nucleocapsid",
          "Nucleocapsid",
          "Nucleocapsid",
          "Nucleocapsid",
          "Nucleocapsid",
          "Nucleocapsid",
          "Nucleocapsid",
          "Nucleocapsid",
          "Nucleocapsid",
          "Nucleocapsid",
          "Nucleocapsid",
          "Nucleocapsid",
          "Nucleocapsid",
          "Nucleocapsid",
          "Nucleocapsid",
          "Nucleocapsid",
          "Nucleocapsid",
          "Nucleocapsid",
          "Nucleocapsid",
          "Nucleocapsid",
          "Nucleocapsid",
          "Nucleocapsid",
          "Nucleocapsid",
          "Nucleocapsid",
          "Nucleocapsid",
          "Nucleocapsid",
          "Nucleocapsid",
          "Nucleocapsid",
          "Nucleocapsid",
          "Nucleocapsid",
          "Nucleocapsid",
          "Nucleocapsid",
          "Nucleocapsid",
          "Nucleocapsid",
          "Nucleocapsid",
          "Nucleocapsid",
          "Nucleocapsid",
          "Nucleocapsid",
          "Nucleocapsid",
          "Nucleocapsid",
          "Nucleocapsid",
          "Nucleocapsid",
          "Nucleocapsid",
          "Nucleocapsid",
          "Nucleocapsid",
          "Nucleocapsid",
          "Nucleocapsid",
          "Nucleocapsid",
          "Nucleocapsid",
          "Nucleocapsid",
          "Nucleocapsid",
          "Nucleocapsid",
          "Nucleocapsid",
          "Nucleocapsid",
          "Nucleocapsid",
          "Nucleocapsid",
          "Nucleocapsid",
          "Nucleocapsid",
          "Nucleocapsid",
          "Nucleocapsid",
          "Nucleocapsid",
          "Nucleocapsid",
          "Nucleocapsid",
          "Nucleocapsid",
          "Nucleocapsid",
          "Nucleocapsid",
          "Nucleocapsid",
          "Nucleocapsid",
          "Nucleocapsid",
          "Nucleocapsid",
          "Nucleocapsid",
          "Nucleocapsid",
          "Nucleocapsid",
          "Nucleocapsid",
          "Nucleocapsid",
          "Nucleocapsid",
          "Nucleocapsid",
          "Nucleocapsid",
          "Nucleocapsid",
          "Nucleocapsid",
          "Nucleocapsid",
          "Nucleocapsid",
          "Nucleocapsid",
          "Nucleocapsid",
          "Nucleocapsid",
          "Nucleocapsid",
          "Nucleocapsid",
          "Nucleocapsid",
          "Nucleocapsid",
          "Nucleocapsid",
          "Nucleocapsid",
          "Nucleocapsid",
          "Nucleocapsid",
          "Nucleocapsid",
          "Nucleocapsid",
          "Nucleocapsid",
          "Nucleocapsid",
          "Nucleocapsid",
          "Nucleocapsid",
          "Nucleocapsid",
          "Nucleocapsid",
          "Nucleocapsid",
          "Nucleocapsid",
          "Nucleocapsid",
          "Nucleocapsid",
          "Nucleocapsid",
          "Nucleocapsid",
          "Nucleocapsid",
          "Nucleocapsid",
          "Nucleocapsid",
          "Nucleocapsid",
          "Nucleocapsid",
          "Nucleocapsid",
          "Nucleocapsid",
          "Nucleocapsid",
          "Nucleocapsid",
          "Nucleocapsid",
          "Nucleocapsid",
          "Nucleocapsid",
          "Nucleocapsid",
          "Nucleocapsid",
          "Nucleocapsid",
          "Nucleocapsid",
          "Nucleocapsid",
          "Nucleocapsid",
          "Nucleocapsid",
          "Nucleocapsid",
          "Nucleocapsid",
          "Nucleocapsid",
          "Nucleocapsid",
          "Nucleocapsid",
          "Nucleocapsid",
          "Nucleocapsid",
          "Nucleocapsid",
          "Nucleocapsid",
          "Nucleocapsid",
          "Nucleocapsid",
          "Nucleocapsid",
          "Nucleocapsid",
          "Nucleocapsid",
          "Nucleocapsid",
          "Nucleocapsid",
          "Nucleocapsid",
          "Nucleocapsid",
          "Nucleocapsid",
          "Nucleocapsid",
          "Nucleocapsid",
          "Nucleocapsid",
          "Nucleocapsid",
          "Nucleocapsid",
          "Nucleocapsid",
          "Nucleocapsid",
          "Nucleocapsid",
          "Nucleocapsid",
          "Nucleocapsid",
          "Nucleocapsid",
          "Nucleocapsid",
          "Nucleocapsid",
          "Nucleocapsid",
          "Nucleocapsid",
          "Nucleocapsid",
          "Nucleocapsid",
          "Nucleocapsid",
          "Nucleocapsid",
          "Nucleocapsid",
          "Nucleocapsid",
          "Nucleocapsid",
          "Nucleocapsid",
          "Nucleocapsid",
          "Nucleocapsid",
          "Nucleocapsid",
          "Nucleocapsid",
          "Nucleocapsid",
          "Nucleocapsid",
          "Nucleocapsid",
          "Nucleocapsid",
          "Nucleocapsid",
          "Nucleocapsid",
          "Nucleocapsid",
          "Nucleocapsid",
          "Nucleocapsid",
          "Nucleocapsid",
          "Nucleocapsid",
          "Nucleocapsid",
          "Nucleocapsid",
          "Nucleocapsid",
          "Nucleocapsid",
          "Nucleocapsid",
          "Nucleocapsid",
          "Nucleocapsid",
          "Nucleocapsid",
          "Nucleocapsid",
          "Nucleocapsid",
          "Nucleocapsid",
          "Nucleocapsid",
          "Nucleocapsid",
          "Nucleocapsid",
          "Nucleocapsid",
          "Nucleocapsid",
          "Nucleocapsid",
          "Nucleocapsid",
          "Nucleocapsid",
          "Nucleocapsid",
          "Nucleocapsid",
          "Nucleocapsid",
          "Nucleocapsid",
          "Nucleocapsid",
          "Nucleocapsid",
          "Nucleocapsid",
          "Nucleocapsid",
          "Nucleocapsid",
          "Nucleocapsid",
          "Nucleocapsid",
          "Nucleocapsid",
          "Nucleocapsid",
          "Nucleocapsid",
          "Nucleocapsid",
          "Nucleocapsid",
          "Nucleocapsid",
          "Nucleocapsid",
          "Nucleocapsid",
          "Nucleocapsid",
          "Nucleocapsid",
          "Nucleocapsid",
          "Nucleocapsid",
          "Nucleocapsid",
          "Nucleocapsid",
          "Nucleocapsid",
          "Nucleocapsid",
          "Nucleocapsid",
          "Nucleocapsid",
          "Nucleocapsid",
          "Nucleocapsid",
          "Nucleocapsid",
          "Nucleocapsid",
          "Nucleocapsid",
          "Nucleocapsid",
          "Nucleocapsid",
          "Nucleocapsid",
          "Nucleocapsid",
          "Nucleocapsid",
          "Nucleocapsid",
          "Nucleocapsid",
          "Nucleocapsid",
          "Nucleocapsid",
          "Nucleocapsid",
          "Nucleocapsid",
          "Nucleocapsid",
          "Nucleocapsid",
          "Nucleocapsid",
          "Nucleocapsid",
          "Nucleocapsid",
          "Nucleocapsid",
          "Nucleocapsid",
          "Nucleocapsid",
          "Nucleocapsid",
          "Nucleocapsid",
          "Nucleocapsid",
          "Nucleocapsid",
          "Nucleocapsid",
          "Nucleocapsid",
          "Nucleocapsid",
          "Nucleocapsid",
          "Nucleocapsid",
          "Nucleocapsid",
          "Nucleocapsid",
          "Nucleocapsid",
          "Nucleocapsid",
          "Nucleocapsid",
          "Nucleocapsid",
          "Nucleocapsid",
          "Nucleocapsid",
          "Nucleocapsid",
          "Nucleocapsid",
          "Nucleocapsid",
          "Nucleocapsid",
          "Nucleocapsid",
          "Nucleocapsid",
          "Nucleocapsid",
          "Nucleocapsid",
          "Nucleocapsid",
          "Nucleocapsid",
          "Nucleocapsid",
          "Nucleocapsid",
          "Nucleocapsid",
          "Nucleocapsid",
          "Nucleocapsid",
          "Nucleocapsid",
          "Nucleocapsid",
          "Nucleocapsid",
          "Nucleocapsid",
          "Nucleocapsid",
          "Nucleocapsid",
          "Nucleocapsid",
          "Nucleocapsid",
          "Nucleocapsid",
          "Nucleocapsid",
          "Nucleocapsid",
          "Nucleocapsid",
          "Nucleocapsid",
          "Nucleocapsid",
          "Nucleocapsid",
          "Nucleocapsid",
          "Nucleocapsid",
          "Nucleocapsid",
          "Nucleocapsid",
          "Nucleocapsid",
          "Nucleocapsid",
          "Nucleocapsid",
          "Nucleocapsid",
          "Nucleocapsid",
          "Nucleocapsid",
          "Nucleocapsid",
          "Nucleocapsid",
          "Nucleocapsid",
          "Nucleocapsid",
          "Nucleocapsid",
          "Nucleocapsid",
          "Nucleocapsid",
          "Nucleocapsid",
          "Nucleocapsid",
          "Nucleocapsid",
          "Nucleocapsid",
          "Nucleocapsid",
          "Nucleocapsid",
          "Nucleocapsid",
          "Nucleocapsid",
          "Nucleocapsid",
          "Nucleocapsid",
          "Nucleocapsid",
          "Nucleocapsid",
          "Nucleocapsid",
          "Nucleocapsid",
          "Nucleocapsid",
          "Nucleocapsid",
          "Nucleocapsid",
          "Nucleocapsid",
          "Nucleocapsid",
          "Nucleocapsid",
          "Nucleocapsid",
          "Nucleocapsid",
          "Nucleocapsid",
          "Nucleocapsid",
          "Nucleocapsid",
          "Nucleocapsid",
          "Nucleocapsid",
          "Nucleocapsid",
          "Nucleocapsid",
          "Nucleocapsid",
          "Nucleocapsid",
          "Nucleocapsid",
          "Nucleocapsid",
          "Nucleocapsid",
          "Nucleocapsid",
          "Nucleocapsid",
          "Nucleocapsid",
          "Nucleocapsid",
          "Nucleocapsid",
          "Nucleocapsid",
          "Nucleocapsid",
          "Nucleocapsid",
          "Nucleocapsid",
          "Nucleocapsid",
          "Nucleocapsid",
          "Nucleocapsid",
          "Nucleocapsid",
          "Nucleocapsid",
          "Nucleocapsid",
          "Nucleocapsid",
          "Nucleocapsid",
          "Nucleocapsid",
          "Nucleocapsid",
          "Nucleocapsid",
          "Nucleocapsid",
          "Nucleocapsid",
          "Nucleocapsid",
          "Nucleocapsid",
          "Nucleocapsid",
          "Nucleocapsid",
          "Nucleocapsid",
          "Nucleocapsid",
          "Nucleocapsid",
          "Nucleocapsid",
          "Nucleocapsid",
          "Nucleocapsid",
          "Nucleocapsid",
          "Nucleocapsid",
          "Nucleocapsid",
          "Nucleocapsid",
          "Nucleocapsid",
          "Nucleocapsid",
          "Nucleocapsid",
          "Nucleocapsid",
          "Nucleocapsid",
          "Nucleocapsid",
          "Nucleocapsid",
          "Nucleocapsid",
          "Nucleocapsid",
          "Nucleocapsid",
          "Nucleocapsid",
          "Nucleocapsid",
          "Nucleocapsid",
          "Nucleocapsid",
          "Nucleocapsid",
          "Nucleocapsid",
          "Nucleocapsid",
          "Nucleocapsid",
          "Nucleocapsid",
          "Nucleocapsid",
          "Nucleocapsid",
          "Nucleocapsid",
          "Nucleocapsid",
          "Nucleocapsid",
          "Nucleocapsid",
          "Nucleocapsid",
          "Nucleocapsid",
          "Nucleocapsid",
          "Nucleocapsid",
          "Nucleocapsid",
          "Nucleocapsid",
          "Nucleocapsid",
          "Nucleocapsid",
          "Nucleocapsid",
          "Nucleocapsid",
          "Nucleocapsid",
          "Nucleocapsid",
          "Nucleocapsid",
          "Nucleocapsid",
          "Nucleocapsid",
          "Nucleocapsid",
          "Nucleocapsid",
          "Nucleocapsid",
          "Nucleocapsid",
          "Nucleocapsid",
          "Nucleocapsid",
          "Nucleocapsid",
          "Nucleocapsid",
          "Nucleocapsid",
          "Nucleocapsid",
          "Nucleocapsid",
          "Nucleocapsid",
          "Nucleocapsid",
          "Nucleocapsid",
          "Nucleocapsid",
          "Nucleocapsid",
          "Nucleocapsid",
          "Nucleocapsid",
          "Nucleocapsid",
          "Nucleocapsid",
          "Nucleocapsid",
          "Nucleocapsid",
          "Nucleocapsid",
          "Nucleocapsid",
          "Nucleocapsid",
          "Nucleocapsid",
          "Nucleocapsid",
          "Nucleocapsid",
          "Nucleocapsid",
          "Nucleocapsid",
          "Nucleocapsid",
          "Nucleocapsid",
          "Nucleocapsid",
          "Nucleocapsid",
          "Nucleocapsid",
          "Nucleocapsid",
          "Nucleocapsid",
          "Nucleocapsid",
          "Nucleocapsid",
          "Nucleocapsid",
          "Nucleocapsid",
          "Nucleocapsid",
          "Nucleocapsid",
          "Nucleocapsid",
          "Nucleocapsid",
          "Nucleocapsid",
          "Nucleocapsid",
          "Nucleocapsid",
          "Nucleocapsid",
          "Nucleocapsid",
          "Nucleocapsid",
          "Nucleocapsid",
          "Nucleocapsid",
          "Nucleocapsid",
          "Nucleocapsid",
          "Nucleocapsid",
          "Nucleocapsid",
          "Nucleocapsid",
          "Nucleocapsid",
          "Nucleocapsid",
          "Nucleocapsid",
          "Nucleocapsid",
          "Nucleocapsid",
          "Nucleocapsid",
          "Nucleocapsid",
          "Nucleocapsid",
          "Nucleocapsid",
          "Nucleocapsid",
          "Nucleocapsid",
          "Nucleocapsid",
          "Nucleocapsid",
          "Nucleocapsid",
          "Nucleocapsid",
          "Nucleocapsid",
          "Nucleocapsid",
          "Nucleocapsid",
          "Nucleocapsid",
          "Nucleocapsid",
          "Nucleocapsid",
          "Nucleocapsid",
          "Nucleocapsid",
          "Nucleocapsid",
          "Nucleocapsid",
          "Nucleocapsid",
          "Nucleocapsid",
          "Nucleocapsid",
          "Nucleocapsid",
          "Nucleocapsid",
          "Nucleocapsid",
          "Nucleocapsid",
          "Nucleocapsid",
          "Nucleocapsid",
          "Nucleocapsid",
          "Nucleocapsid",
          "Nucleocapsid",
          "Nucleocapsid",
          "Nucleocapsid",
          "Nucleocapsid",
          "Nucleocapsid",
          "Nucleocapsid",
          "Nucleocapsid",
          "Nucleocapsid",
          "Nucleocapsid",
          "Nucleocapsid",
          "Nucleocapsid",
          "Nucleocapsid",
          "Nucleocapsid",
          "Nucleocapsid",
          "Nucleocapsid",
          "Nucleocapsid",
          "Nucleocapsid",
          "Nucleocapsid",
          "Nucleocapsid",
          "Nucleocapsid",
          "Nucleocapsid",
          "Nucleocapsid",
          "Nucleocapsid",
          "Nucleocapsid",
          "Nucleocapsid",
          "Nucleocapsid",
          "Nucleocapsid",
          "Nucleocapsid",
          "Nucleocapsid",
          "Nucleocapsid",
          "Nucleocapsid",
          "Nucleocapsid",
          "Nucleocapsid",
          "Nucleocapsid",
          "Nucleocapsid",
          "Nucleocapsid",
          "Nucleocapsid",
          "Nucleocapsid",
          "Nucleocapsid",
          "Nucleocapsid",
          "Nucleocapsid",
          "Nucleocapsid",
          "Nucleocapsid",
          "Nucleocapsid",
          "Nucleocapsid",
          "Nucleocapsid",
          "Nucleocapsid",
          "Nucleocapsid",
          "Nucleocapsid",
          "Nucleocapsid",
          "Nucleocapsid",
          "Nucleocapsid",
          "Nucleocapsid",
          "Nucleocapsid",
          "Nucleocapsid",
          "Nucleocapsid",
          "Nucleocapsid",
          "Nucleocapsid",
          "Nucleocapsid",
          "Nucleocapsid",
          "Nucleocapsid",
          "Nucleocapsid",
          "Nucleocapsid",
          "Nucleocapsid",
          "Nucleocapsid",
          "Nucleocapsid",
          "Nucleocapsid",
          "Nucleocapsid",
          "Nucleocapsid",
          "Nucleocapsid",
          "Nucleocapsid",
          "Nucleocapsid",
          "Nucleocapsid",
          "Nucleocapsid",
          "Nucleocapsid",
          "Nucleocapsid",
          "Nucleocapsid",
          "Nucleocapsid",
          "Nucleocapsid",
          "Nucleocapsid",
          "Nucleocapsid",
          "Nucleocapsid",
          "Nucleocapsid",
          "Nucleocapsid",
          "Nucleocapsid",
          "Nucleocapsid",
          "Nucleocapsid",
          "Nucleocapsid",
          "Nucleocapsid",
          "Nucleocapsid",
          "Nucleocapsid",
          "Nucleocapsid",
          "Nucleocapsid",
          "Nucleocapsid",
          "Nucleocapsid",
          "Nucleocapsid",
          "Nucleocapsid",
          "Nucleocapsid",
          "Nucleocapsid",
          "Nucleocapsid",
          "Nucleocapsid",
          "Nucleocapsid",
          "Nucleocapsid",
          "Nucleocapsid",
          "Nucleocapsid",
          "Nucleocapsid",
          "Nucleocapsid",
          "Nucleocapsid",
          "Nucleocapsid",
          "Nucleocapsid",
          "Nucleocapsid",
          "Nucleocapsid",
          "Nucleocapsid",
          "Nucleocapsid",
          "Nucleocapsid",
          "Nucleocapsid",
          "Nucleocapsid",
          "Nucleocapsid",
          "Nucleocapsid",
          "Nucleocapsid",
          "Nucleocapsid",
          "Nucleocapsid",
          "Nucleocapsid",
          "Nucleocapsid",
          "Nucleocapsid",
          "Nucleocapsid",
          "Nucleocapsid",
          "Nucleocapsid",
          "Nucleocapsid",
          "Nucleocapsid",
          "Nucleocapsid",
          "Nucleocapsid",
          "Nucleocapsid",
          "Nucleocapsid",
          "Nucleocapsid",
          "Nucleocapsid",
          "Nucleocapsid",
          "Nucleocapsid",
          "Nucleocapsid",
          "Nucleocapsid",
          "Nucleocapsid",
          "Nucleocapsid",
          "Nucleocapsid",
          "Nucleocapsid",
          "Nucleocapsid",
          "Nucleocapsid",
          "Nucleocapsid",
          "Nucleocapsid",
          "Nucleocapsid",
          "Nucleocapsid",
          "Nucleocapsid",
          "Nucleocapsid",
          "Nucleocapsid",
          "Nucleocapsid",
          "Nucleocapsid",
          "Nucleocapsid",
          "Nucleocapsid",
          "Nucleocapsid",
          "Nucleocapsid",
          "Nucleocapsid",
          "Nucleocapsid",
          "Nucleocapsid",
          "Nucleocapsid",
          "Nucleocapsid",
          "Nucleocapsid",
          "Nucleocapsid",
          "Nucleocapsid",
          "Nucleocapsid"
         ],
         "xaxis": "x",
         "yaxis": "y"
        },
        {
         "bingroup": "x",
         "hovertemplate": "Target=%{x}<br>count=%{y}<extra></extra>",
         "legendgroup": "Spike",
         "marker": {
          "color": "rgb(231,138,195)",
          "pattern": {
           "shape": ""
          }
         },
         "name": "Spike",
         "orientation": "v",
         "showlegend": true,
         "type": "histogram",
         "x": [
          "Spike",
          "Spike",
          "Spike",
          "Spike",
          "Spike",
          "Spike",
          "Spike",
          "Spike",
          "Spike",
          "Spike",
          "Spike",
          "Spike",
          "Spike",
          "Spike",
          "Spike",
          "Spike",
          "Spike",
          "Spike",
          "Spike",
          "Spike",
          "Spike",
          "Spike",
          "Spike",
          "Spike",
          "Spike",
          "Spike",
          "Spike",
          "Spike",
          "Spike",
          "Spike",
          "Spike",
          "Spike",
          "Spike",
          "Spike",
          "Spike",
          "Spike",
          "Spike",
          "Spike",
          "Spike",
          "Spike",
          "Spike",
          "Spike",
          "Spike",
          "Spike",
          "Spike",
          "Spike",
          "Spike",
          "Spike",
          "Spike",
          "Spike",
          "Spike",
          "Spike",
          "Spike",
          "Spike",
          "Spike",
          "Spike",
          "Spike",
          "Spike",
          "Spike",
          "Spike",
          "Spike",
          "Spike",
          "Spike",
          "Spike",
          "Spike",
          "Spike",
          "Spike",
          "Spike",
          "Spike",
          "Spike",
          "Spike",
          "Spike",
          "Spike",
          "Spike",
          "Spike",
          "Spike",
          "Spike",
          "Spike",
          "Spike",
          "Spike",
          "Spike",
          "Spike",
          "Spike",
          "Spike",
          "Spike",
          "Spike",
          "Spike",
          "Spike",
          "Spike",
          "Spike",
          "Spike",
          "Spike",
          "Spike",
          "Spike",
          "Spike",
          "Spike",
          "Spike",
          "Spike",
          "Spike",
          "Spike",
          "Spike",
          "Spike",
          "Spike",
          "Spike",
          "Spike",
          "Spike",
          "Spike",
          "Spike",
          "Spike",
          "Spike",
          "Spike",
          "Spike",
          "Spike",
          "Spike",
          "Spike",
          "Spike",
          "Spike",
          "Spike",
          "Spike",
          "Spike",
          "Spike",
          "Spike",
          "Spike",
          "Spike",
          "Spike",
          "Spike",
          "Spike",
          "Spike",
          "Spike",
          "Spike",
          "Spike",
          "Spike",
          "Spike",
          "Spike",
          "Spike",
          "Spike",
          "Spike",
          "Spike",
          "Spike",
          "Spike",
          "Spike",
          "Spike",
          "Spike",
          "Spike",
          "Spike",
          "Spike",
          "Spike",
          "Spike",
          "Spike",
          "Spike",
          "Spike",
          "Spike",
          "Spike",
          "Spike",
          "Spike",
          "Spike",
          "Spike",
          "Spike",
          "Spike",
          "Spike",
          "Spike",
          "Spike",
          "Spike",
          "Spike",
          "Spike",
          "Spike",
          "Spike",
          "Spike",
          "Spike",
          "Spike",
          "Spike",
          "Spike",
          "Spike",
          "Spike",
          "Spike",
          "Spike",
          "Spike",
          "Spike",
          "Spike",
          "Spike",
          "Spike",
          "Spike",
          "Spike",
          "Spike",
          "Spike",
          "Spike",
          "Spike",
          "Spike",
          "Spike",
          "Spike",
          "Spike",
          "Spike",
          "Spike",
          "Spike",
          "Spike",
          "Spike",
          "Spike",
          "Spike",
          "Spike",
          "Spike",
          "Spike",
          "Spike",
          "Spike",
          "Spike",
          "Spike",
          "Spike",
          "Spike",
          "Spike",
          "Spike",
          "Spike",
          "Spike",
          "Spike",
          "Spike",
          "Spike",
          "Spike",
          "Spike",
          "Spike",
          "Spike",
          "Spike",
          "Spike",
          "Spike",
          "Spike",
          "Spike",
          "Spike",
          "Spike",
          "Spike",
          "Spike",
          "Spike",
          "Spike",
          "Spike",
          "Spike",
          "Spike",
          "Spike",
          "Spike",
          "Spike",
          "Spike",
          "Spike",
          "Spike",
          "Spike",
          "Spike",
          "Spike",
          "Spike",
          "Spike",
          "Spike",
          "Spike",
          "Spike",
          "Spike",
          "Spike",
          "Spike",
          "Spike",
          "Spike",
          "Spike",
          "Spike",
          "Spike",
          "Spike",
          "Spike",
          "Spike",
          "Spike",
          "Spike",
          "Spike",
          "Spike",
          "Spike",
          "Spike",
          "Spike",
          "Spike",
          "Spike",
          "Spike",
          "Spike",
          "Spike",
          "Spike",
          "Spike",
          "Spike",
          "Spike",
          "Spike",
          "Spike",
          "Spike",
          "Spike",
          "Spike",
          "Spike",
          "Spike",
          "Spike",
          "Spike",
          "Spike",
          "Spike",
          "Spike",
          "Spike",
          "Spike",
          "Spike",
          "Spike",
          "Spike",
          "Spike",
          "Spike",
          "Spike",
          "Spike",
          "Spike",
          "Spike",
          "Spike",
          "Spike",
          "Spike",
          "Spike",
          "Spike",
          "Spike",
          "Spike",
          "Spike",
          "Spike",
          "Spike",
          "Spike",
          "Spike",
          "Spike",
          "Spike",
          "Spike",
          "Spike",
          "Spike",
          "Spike",
          "Spike",
          "Spike",
          "Spike",
          "Spike",
          "Spike",
          "Spike",
          "Spike",
          "Spike",
          "Spike",
          "Spike",
          "Spike",
          "Spike",
          "Spike",
          "Spike",
          "Spike",
          "Spike",
          "Spike",
          "Spike",
          "Spike",
          "Spike",
          "Spike",
          "Spike",
          "Spike",
          "Spike",
          "Spike",
          "Spike",
          "Spike",
          "Spike",
          "Spike",
          "Spike",
          "Spike",
          "Spike",
          "Spike",
          "Spike",
          "Spike",
          "Spike",
          "Spike",
          "Spike",
          "Spike",
          "Spike",
          "Spike",
          "Spike",
          "Spike",
          "Spike",
          "Spike",
          "Spike",
          "Spike",
          "Spike",
          "Spike",
          "Spike",
          "Spike",
          "Spike",
          "Spike",
          "Spike",
          "Spike",
          "Spike",
          "Spike",
          "Spike",
          "Spike",
          "Spike",
          "Spike",
          "Spike",
          "Spike",
          "Spike",
          "Spike",
          "Spike",
          "Spike",
          "Spike",
          "Spike",
          "Spike",
          "Spike",
          "Spike",
          "Spike",
          "Spike",
          "Spike",
          "Spike",
          "Spike",
          "Spike",
          "Spike",
          "Spike",
          "Spike",
          "Spike",
          "Spike",
          "Spike",
          "Spike",
          "Spike",
          "Spike",
          "Spike",
          "Spike",
          "Spike",
          "Spike",
          "Spike",
          "Spike",
          "Spike",
          "Spike",
          "Spike",
          "Spike",
          "Spike",
          "Spike",
          "Spike",
          "Spike",
          "Spike",
          "Spike",
          "Spike",
          "Spike",
          "Spike",
          "Spike",
          "Spike",
          "Spike",
          "Spike",
          "Spike",
          "Spike",
          "Spike",
          "Spike",
          "Spike",
          "Spike",
          "Spike",
          "Spike",
          "Spike",
          "Spike",
          "Spike",
          "Spike",
          "Spike",
          "Spike",
          "Spike",
          "Spike",
          "Spike",
          "Spike",
          "Spike",
          "Spike",
          "Spike",
          "Spike",
          "Spike",
          "Spike",
          "Spike",
          "Spike",
          "Spike",
          "Spike",
          "Spike",
          "Spike",
          "Spike",
          "Spike",
          "Spike",
          "Spike",
          "Spike",
          "Spike",
          "Spike",
          "Spike",
          "Spike",
          "Spike",
          "Spike",
          "Spike",
          "Spike",
          "Spike",
          "Spike",
          "Spike",
          "Spike",
          "Spike",
          "Spike",
          "Spike",
          "Spike",
          "Spike",
          "Spike",
          "Spike",
          "Spike",
          "Spike",
          "Spike",
          "Spike",
          "Spike",
          "Spike",
          "Spike",
          "Spike",
          "Spike",
          "Spike",
          "Spike",
          "Spike",
          "Spike",
          "Spike",
          "Spike",
          "Spike",
          "Spike",
          "Spike",
          "Spike",
          "Spike",
          "Spike",
          "Spike",
          "Spike",
          "Spike",
          "Spike",
          "Spike",
          "Spike",
          "Spike",
          "Spike",
          "Spike",
          "Spike",
          "Spike",
          "Spike",
          "Spike",
          "Spike",
          "Spike",
          "Spike",
          "Spike",
          "Spike",
          "Spike",
          "Spike",
          "Spike",
          "Spike",
          "Spike",
          "Spike",
          "Spike",
          "Spike",
          "Spike",
          "Spike",
          "Spike",
          "Spike",
          "Spike",
          "Spike",
          "Spike",
          "Spike",
          "Spike",
          "Spike",
          "Spike",
          "Spike",
          "Spike",
          "Spike",
          "Spike",
          "Spike",
          "Spike",
          "Spike",
          "Spike",
          "Spike",
          "Spike",
          "Spike",
          "Spike",
          "Spike",
          "Spike",
          "Spike",
          "Spike",
          "Spike",
          "Spike",
          "Spike",
          "Spike",
          "Spike",
          "Spike",
          "Spike",
          "Spike",
          "Spike",
          "Spike",
          "Spike",
          "Spike",
          "Spike",
          "Spike",
          "Spike",
          "Spike",
          "Spike",
          "Spike",
          "Spike",
          "Spike",
          "Spike",
          "Spike",
          "Spike",
          "Spike",
          "Spike",
          "Spike",
          "Spike",
          "Spike",
          "Spike",
          "Spike",
          "Spike",
          "Spike",
          "Spike",
          "Spike",
          "Spike",
          "Spike",
          "Spike",
          "Spike",
          "Spike",
          "Spike",
          "Spike",
          "Spike",
          "Spike",
          "Spike",
          "Spike",
          "Spike",
          "Spike",
          "Spike",
          "Spike",
          "Spike",
          "Spike",
          "Spike",
          "Spike",
          "Spike",
          "Spike",
          "Spike",
          "Spike",
          "Spike",
          "Spike",
          "Spike",
          "Spike",
          "Spike",
          "Spike",
          "Spike",
          "Spike",
          "Spike",
          "Spike",
          "Spike",
          "Spike",
          "Spike",
          "Spike",
          "Spike",
          "Spike",
          "Spike",
          "Spike",
          "Spike",
          "Spike",
          "Spike",
          "Spike",
          "Spike",
          "Spike",
          "Spike",
          "Spike",
          "Spike",
          "Spike",
          "Spike",
          "Spike",
          "Spike",
          "Spike",
          "Spike",
          "Spike",
          "Spike",
          "Spike",
          "Spike",
          "Spike",
          "Spike",
          "Spike",
          "Spike",
          "Spike",
          "Spike",
          "Spike",
          "Spike",
          "Spike",
          "Spike",
          "Spike",
          "Spike",
          "Spike",
          "Spike",
          "Spike",
          "Spike",
          "Spike",
          "Spike",
          "Spike",
          "Spike",
          "Spike",
          "Spike",
          "Spike",
          "Spike",
          "Spike",
          "Spike",
          "Spike",
          "Spike",
          "Spike",
          "Spike",
          "Spike",
          "Spike",
          "Spike",
          "Spike",
          "Spike",
          "Spike",
          "Spike",
          "Spike",
          "Spike",
          "Spike",
          "Spike",
          "Spike",
          "Spike",
          "Spike",
          "Spike",
          "Spike",
          "Spike",
          "Spike",
          "Spike",
          "Spike",
          "Spike",
          "Spike",
          "Spike",
          "Spike",
          "Spike",
          "Spike",
          "Spike",
          "Spike",
          "Spike",
          "Spike",
          "Spike",
          "Spike",
          "Spike",
          "Spike",
          "Spike",
          "Spike",
          "Spike",
          "Spike",
          "Spike",
          "Spike",
          "Spike",
          "Spike",
          "Spike",
          "Spike",
          "Spike",
          "Spike",
          "Spike",
          "Spike",
          "Spike",
          "Spike",
          "Spike",
          "Spike",
          "Spike",
          "Spike",
          "Spike",
          "Spike",
          "Spike",
          "Spike",
          "Spike",
          "Spike",
          "Spike",
          "Spike",
          "Spike",
          "Spike",
          "Spike",
          "Spike",
          "Spike",
          "Spike",
          "Spike",
          "Spike",
          "Spike",
          "Spike",
          "Spike",
          "Spike",
          "Spike",
          "Spike",
          "Spike",
          "Spike",
          "Spike",
          "Spike",
          "Spike",
          "Spike",
          "Spike",
          "Spike",
          "Spike",
          "Spike",
          "Spike",
          "Spike",
          "Spike",
          "Spike",
          "Spike",
          "Spike",
          "Spike",
          "Spike",
          "Spike",
          "Spike",
          "Spike",
          "Spike",
          "Spike",
          "Spike",
          "Spike",
          "Spike",
          "Spike",
          "Spike",
          "Spike",
          "Spike",
          "Spike",
          "Spike",
          "Spike",
          "Spike",
          "Spike",
          "Spike",
          "Spike",
          "Spike",
          "Spike",
          "Spike",
          "Spike",
          "Spike",
          "Spike",
          "Spike",
          "Spike",
          "Spike",
          "Spike",
          "Spike",
          "Spike",
          "Spike",
          "Spike",
          "Spike",
          "Spike",
          "Spike",
          "Spike",
          "Spike",
          "Spike",
          "Spike",
          "Spike",
          "Spike",
          "Spike",
          "Spike",
          "Spike",
          "Spike",
          "Spike",
          "Spike",
          "Spike",
          "Spike",
          "Spike",
          "Spike",
          "Spike",
          "Spike",
          "Spike",
          "Spike",
          "Spike",
          "Spike",
          "Spike",
          "Spike",
          "Spike",
          "Spike",
          "Spike",
          "Spike",
          "Spike",
          "Spike",
          "Spike",
          "Spike",
          "Spike",
          "Spike",
          "Spike",
          "Spike",
          "Spike",
          "Spike",
          "Spike",
          "Spike",
          "Spike",
          "Spike",
          "Spike",
          "Spike",
          "Spike",
          "Spike",
          "Spike",
          "Spike",
          "Spike",
          "Spike",
          "Spike",
          "Spike",
          "Spike",
          "Spike",
          "Spike",
          "Spike",
          "Spike",
          "Spike",
          "Spike",
          "Spike",
          "Spike",
          "Spike",
          "Spike",
          "Spike",
          "Spike",
          "Spike",
          "Spike",
          "Spike",
          "Spike",
          "Spike",
          "Spike",
          "Spike",
          "Spike",
          "Spike",
          "Spike",
          "Spike",
          "Spike",
          "Spike",
          "Spike",
          "Spike",
          "Spike",
          "Spike",
          "Spike",
          "Spike",
          "Spike",
          "Spike",
          "Spike",
          "Spike",
          "Spike",
          "Spike",
          "Spike",
          "Spike",
          "Spike",
          "Spike",
          "Spike",
          "Spike",
          "Spike",
          "Spike",
          "Spike",
          "Spike",
          "Spike",
          "Spike",
          "Spike",
          "Spike",
          "Spike",
          "Spike",
          "Spike",
          "Spike",
          "Spike",
          "Spike",
          "Spike",
          "Spike",
          "Spike",
          "Spike",
          "Spike",
          "Spike",
          "Spike",
          "Spike",
          "Spike",
          "Spike",
          "Spike",
          "Spike",
          "Spike",
          "Spike",
          "Spike",
          "Spike",
          "Spike",
          "Spike",
          "Spike",
          "Spike",
          "Spike",
          "Spike",
          "Spike",
          "Spike",
          "Spike",
          "Spike",
          "Spike",
          "Spike",
          "Spike",
          "Spike",
          "Spike",
          "Spike",
          "Spike",
          "Spike",
          "Spike",
          "Spike",
          "Spike",
          "Spike",
          "Spike",
          "Spike",
          "Spike",
          "Spike",
          "Spike",
          "Spike",
          "Spike",
          "Spike",
          "Spike",
          "Spike",
          "Spike",
          "Spike",
          "Spike",
          "Spike",
          "Spike",
          "Spike",
          "Spike",
          "Spike",
          "Spike",
          "Spike",
          "Spike",
          "Spike",
          "Spike",
          "Spike",
          "Spike",
          "Spike",
          "Spike",
          "Spike",
          "Spike",
          "Spike",
          "Spike",
          "Spike",
          "Spike",
          "Spike",
          "Spike",
          "Spike",
          "Spike",
          "Spike",
          "Spike",
          "Spike",
          "Spike",
          "Spike",
          "Spike",
          "Spike",
          "Spike",
          "Spike",
          "Spike",
          "Spike",
          "Spike",
          "Spike",
          "Spike",
          "Spike",
          "Spike",
          "Spike",
          "Spike",
          "Spike",
          "Spike",
          "Spike",
          "Spike",
          "Spike",
          "Spike",
          "Spike",
          "Spike",
          "Spike"
         ],
         "xaxis": "x",
         "yaxis": "y"
        }
       ],
       "layout": {
        "barmode": "relative",
        "height": 400,
        "legend": {
         "title": {
          "text": "Target"
         },
         "tracegroupgap": 0
        },
        "showlegend": false,
        "template": {
         "data": {
          "bar": [
           {
            "error_x": {
             "color": "#2a3f5f"
            },
            "error_y": {
             "color": "#2a3f5f"
            },
            "marker": {
             "line": {
              "color": "#E5ECF6",
              "width": 0.5
             },
             "pattern": {
              "fillmode": "overlay",
              "size": 10,
              "solidity": 0.2
             }
            },
            "type": "bar"
           }
          ],
          "barpolar": [
           {
            "marker": {
             "line": {
              "color": "#E5ECF6",
              "width": 0.5
             },
             "pattern": {
              "fillmode": "overlay",
              "size": 10,
              "solidity": 0.2
             }
            },
            "type": "barpolar"
           }
          ],
          "carpet": [
           {
            "aaxis": {
             "endlinecolor": "#2a3f5f",
             "gridcolor": "white",
             "linecolor": "white",
             "minorgridcolor": "white",
             "startlinecolor": "#2a3f5f"
            },
            "baxis": {
             "endlinecolor": "#2a3f5f",
             "gridcolor": "white",
             "linecolor": "white",
             "minorgridcolor": "white",
             "startlinecolor": "#2a3f5f"
            },
            "type": "carpet"
           }
          ],
          "choropleth": [
           {
            "colorbar": {
             "outlinewidth": 0,
             "ticks": ""
            },
            "type": "choropleth"
           }
          ],
          "contour": [
           {
            "colorbar": {
             "outlinewidth": 0,
             "ticks": ""
            },
            "colorscale": [
             [
              0,
              "#0d0887"
             ],
             [
              0.1111111111111111,
              "#46039f"
             ],
             [
              0.2222222222222222,
              "#7201a8"
             ],
             [
              0.3333333333333333,
              "#9c179e"
             ],
             [
              0.4444444444444444,
              "#bd3786"
             ],
             [
              0.5555555555555556,
              "#d8576b"
             ],
             [
              0.6666666666666666,
              "#ed7953"
             ],
             [
              0.7777777777777778,
              "#fb9f3a"
             ],
             [
              0.8888888888888888,
              "#fdca26"
             ],
             [
              1,
              "#f0f921"
             ]
            ],
            "type": "contour"
           }
          ],
          "contourcarpet": [
           {
            "colorbar": {
             "outlinewidth": 0,
             "ticks": ""
            },
            "type": "contourcarpet"
           }
          ],
          "heatmap": [
           {
            "colorbar": {
             "outlinewidth": 0,
             "ticks": ""
            },
            "colorscale": [
             [
              0,
              "#0d0887"
             ],
             [
              0.1111111111111111,
              "#46039f"
             ],
             [
              0.2222222222222222,
              "#7201a8"
             ],
             [
              0.3333333333333333,
              "#9c179e"
             ],
             [
              0.4444444444444444,
              "#bd3786"
             ],
             [
              0.5555555555555556,
              "#d8576b"
             ],
             [
              0.6666666666666666,
              "#ed7953"
             ],
             [
              0.7777777777777778,
              "#fb9f3a"
             ],
             [
              0.8888888888888888,
              "#fdca26"
             ],
             [
              1,
              "#f0f921"
             ]
            ],
            "type": "heatmap"
           }
          ],
          "histogram": [
           {
            "marker": {
             "pattern": {
              "fillmode": "overlay",
              "size": 10,
              "solidity": 0.2
             }
            },
            "type": "histogram"
           }
          ],
          "histogram2d": [
           {
            "colorbar": {
             "outlinewidth": 0,
             "ticks": ""
            },
            "colorscale": [
             [
              0,
              "#0d0887"
             ],
             [
              0.1111111111111111,
              "#46039f"
             ],
             [
              0.2222222222222222,
              "#7201a8"
             ],
             [
              0.3333333333333333,
              "#9c179e"
             ],
             [
              0.4444444444444444,
              "#bd3786"
             ],
             [
              0.5555555555555556,
              "#d8576b"
             ],
             [
              0.6666666666666666,
              "#ed7953"
             ],
             [
              0.7777777777777778,
              "#fb9f3a"
             ],
             [
              0.8888888888888888,
              "#fdca26"
             ],
             [
              1,
              "#f0f921"
             ]
            ],
            "type": "histogram2d"
           }
          ],
          "histogram2dcontour": [
           {
            "colorbar": {
             "outlinewidth": 0,
             "ticks": ""
            },
            "colorscale": [
             [
              0,
              "#0d0887"
             ],
             [
              0.1111111111111111,
              "#46039f"
             ],
             [
              0.2222222222222222,
              "#7201a8"
             ],
             [
              0.3333333333333333,
              "#9c179e"
             ],
             [
              0.4444444444444444,
              "#bd3786"
             ],
             [
              0.5555555555555556,
              "#d8576b"
             ],
             [
              0.6666666666666666,
              "#ed7953"
             ],
             [
              0.7777777777777778,
              "#fb9f3a"
             ],
             [
              0.8888888888888888,
              "#fdca26"
             ],
             [
              1,
              "#f0f921"
             ]
            ],
            "type": "histogram2dcontour"
           }
          ],
          "mesh3d": [
           {
            "colorbar": {
             "outlinewidth": 0,
             "ticks": ""
            },
            "type": "mesh3d"
           }
          ],
          "parcoords": [
           {
            "line": {
             "colorbar": {
              "outlinewidth": 0,
              "ticks": ""
             }
            },
            "type": "parcoords"
           }
          ],
          "pie": [
           {
            "automargin": true,
            "type": "pie"
           }
          ],
          "scatter": [
           {
            "fillpattern": {
             "fillmode": "overlay",
             "size": 10,
             "solidity": 0.2
            },
            "type": "scatter"
           }
          ],
          "scatter3d": [
           {
            "line": {
             "colorbar": {
              "outlinewidth": 0,
              "ticks": ""
             }
            },
            "marker": {
             "colorbar": {
              "outlinewidth": 0,
              "ticks": ""
             }
            },
            "type": "scatter3d"
           }
          ],
          "scattercarpet": [
           {
            "marker": {
             "colorbar": {
              "outlinewidth": 0,
              "ticks": ""
             }
            },
            "type": "scattercarpet"
           }
          ],
          "scattergeo": [
           {
            "marker": {
             "colorbar": {
              "outlinewidth": 0,
              "ticks": ""
             }
            },
            "type": "scattergeo"
           }
          ],
          "scattergl": [
           {
            "marker": {
             "colorbar": {
              "outlinewidth": 0,
              "ticks": ""
             }
            },
            "type": "scattergl"
           }
          ],
          "scattermap": [
           {
            "marker": {
             "colorbar": {
              "outlinewidth": 0,
              "ticks": ""
             }
            },
            "type": "scattermap"
           }
          ],
          "scattermapbox": [
           {
            "marker": {
             "colorbar": {
              "outlinewidth": 0,
              "ticks": ""
             }
            },
            "type": "scattermapbox"
           }
          ],
          "scatterpolar": [
           {
            "marker": {
             "colorbar": {
              "outlinewidth": 0,
              "ticks": ""
             }
            },
            "type": "scatterpolar"
           }
          ],
          "scatterpolargl": [
           {
            "marker": {
             "colorbar": {
              "outlinewidth": 0,
              "ticks": ""
             }
            },
            "type": "scatterpolargl"
           }
          ],
          "scatterternary": [
           {
            "marker": {
             "colorbar": {
              "outlinewidth": 0,
              "ticks": ""
             }
            },
            "type": "scatterternary"
           }
          ],
          "surface": [
           {
            "colorbar": {
             "outlinewidth": 0,
             "ticks": ""
            },
            "colorscale": [
             [
              0,
              "#0d0887"
             ],
             [
              0.1111111111111111,
              "#46039f"
             ],
             [
              0.2222222222222222,
              "#7201a8"
             ],
             [
              0.3333333333333333,
              "#9c179e"
             ],
             [
              0.4444444444444444,
              "#bd3786"
             ],
             [
              0.5555555555555556,
              "#d8576b"
             ],
             [
              0.6666666666666666,
              "#ed7953"
             ],
             [
              0.7777777777777778,
              "#fb9f3a"
             ],
             [
              0.8888888888888888,
              "#fdca26"
             ],
             [
              1,
              "#f0f921"
             ]
            ],
            "type": "surface"
           }
          ],
          "table": [
           {
            "cells": {
             "fill": {
              "color": "#EBF0F8"
             },
             "line": {
              "color": "white"
             }
            },
            "header": {
             "fill": {
              "color": "#C8D4E3"
             },
             "line": {
              "color": "white"
             }
            },
            "type": "table"
           }
          ]
         },
         "layout": {
          "annotationdefaults": {
           "arrowcolor": "#2a3f5f",
           "arrowhead": 0,
           "arrowwidth": 1
          },
          "autotypenumbers": "strict",
          "coloraxis": {
           "colorbar": {
            "outlinewidth": 0,
            "ticks": ""
           }
          },
          "colorscale": {
           "diverging": [
            [
             0,
             "#8e0152"
            ],
            [
             0.1,
             "#c51b7d"
            ],
            [
             0.2,
             "#de77ae"
            ],
            [
             0.3,
             "#f1b6da"
            ],
            [
             0.4,
             "#fde0ef"
            ],
            [
             0.5,
             "#f7f7f7"
            ],
            [
             0.6,
             "#e6f5d0"
            ],
            [
             0.7,
             "#b8e186"
            ],
            [
             0.8,
             "#7fbc41"
            ],
            [
             0.9,
             "#4d9221"
            ],
            [
             1,
             "#276419"
            ]
           ],
           "sequential": [
            [
             0,
             "#0d0887"
            ],
            [
             0.1111111111111111,
             "#46039f"
            ],
            [
             0.2222222222222222,
             "#7201a8"
            ],
            [
             0.3333333333333333,
             "#9c179e"
            ],
            [
             0.4444444444444444,
             "#bd3786"
            ],
            [
             0.5555555555555556,
             "#d8576b"
            ],
            [
             0.6666666666666666,
             "#ed7953"
            ],
            [
             0.7777777777777778,
             "#fb9f3a"
            ],
            [
             0.8888888888888888,
             "#fdca26"
            ],
            [
             1,
             "#f0f921"
            ]
           ],
           "sequentialminus": [
            [
             0,
             "#0d0887"
            ],
            [
             0.1111111111111111,
             "#46039f"
            ],
            [
             0.2222222222222222,
             "#7201a8"
            ],
            [
             0.3333333333333333,
             "#9c179e"
            ],
            [
             0.4444444444444444,
             "#bd3786"
            ],
            [
             0.5555555555555556,
             "#d8576b"
            ],
            [
             0.6666666666666666,
             "#ed7953"
            ],
            [
             0.7777777777777778,
             "#fb9f3a"
            ],
            [
             0.8888888888888888,
             "#fdca26"
            ],
            [
             1,
             "#f0f921"
            ]
           ]
          },
          "colorway": [
           "#636efa",
           "#EF553B",
           "#00cc96",
           "#ab63fa",
           "#FFA15A",
           "#19d3f3",
           "#FF6692",
           "#B6E880",
           "#FF97FF",
           "#FECB52"
          ],
          "font": {
           "color": "#2a3f5f"
          },
          "geo": {
           "bgcolor": "white",
           "lakecolor": "white",
           "landcolor": "#E5ECF6",
           "showlakes": true,
           "showland": true,
           "subunitcolor": "white"
          },
          "hoverlabel": {
           "align": "left"
          },
          "hovermode": "closest",
          "mapbox": {
           "style": "light"
          },
          "paper_bgcolor": "white",
          "plot_bgcolor": "#E5ECF6",
          "polar": {
           "angularaxis": {
            "gridcolor": "white",
            "linecolor": "white",
            "ticks": ""
           },
           "bgcolor": "#E5ECF6",
           "radialaxis": {
            "gridcolor": "white",
            "linecolor": "white",
            "ticks": ""
           }
          },
          "scene": {
           "xaxis": {
            "backgroundcolor": "#E5ECF6",
            "gridcolor": "white",
            "gridwidth": 2,
            "linecolor": "white",
            "showbackground": true,
            "ticks": "",
            "zerolinecolor": "white"
           },
           "yaxis": {
            "backgroundcolor": "#E5ECF6",
            "gridcolor": "white",
            "gridwidth": 2,
            "linecolor": "white",
            "showbackground": true,
            "ticks": "",
            "zerolinecolor": "white"
           },
           "zaxis": {
            "backgroundcolor": "#E5ECF6",
            "gridcolor": "white",
            "gridwidth": 2,
            "linecolor": "white",
            "showbackground": true,
            "ticks": "",
            "zerolinecolor": "white"
           }
          },
          "shapedefaults": {
           "line": {
            "color": "#2a3f5f"
           }
          },
          "ternary": {
           "aaxis": {
            "gridcolor": "white",
            "linecolor": "white",
            "ticks": ""
           },
           "baxis": {
            "gridcolor": "white",
            "linecolor": "white",
            "ticks": ""
           },
           "bgcolor": "#E5ECF6",
           "caxis": {
            "gridcolor": "white",
            "linecolor": "white",
            "ticks": ""
           }
          },
          "title": {
           "x": 0.05
          },
          "xaxis": {
           "automargin": true,
           "gridcolor": "white",
           "linecolor": "white",
           "ticks": "",
           "title": {
            "standoff": 15
           },
           "zerolinecolor": "white",
           "zerolinewidth": 2
          },
          "yaxis": {
           "automargin": true,
           "gridcolor": "white",
           "linecolor": "white",
           "ticks": "",
           "title": {
            "standoff": 15
           },
           "zerolinecolor": "white",
           "zerolinewidth": 2
          }
         }
        },
        "title": {
         "text": "Target Class Distribution"
        },
        "width": 600,
        "xaxis": {
         "anchor": "y",
         "categoryarray": [
          "Envelope",
          "Membrane",
          "Nucleocapsid",
          "Spike"
         ],
         "categoryorder": "array",
         "domain": [
          0,
          1
         ],
         "title": {
          "text": "Target"
         }
        },
        "yaxis": {
         "anchor": "x",
         "domain": [
          0,
          1
         ],
         "title": {
          "text": "Count"
         }
        }
       }
      }
     },
     "metadata": {},
     "output_type": "display_data"
    }
   ],
   "source": [
    "fig = px.histogram(\n",
    "    df,\n",
    "    x='Label',\n",
    "    color='Label',\n",
    "    color_discrete_sequence=px.colors.qualitative.Set2,\n",
    "    title='Target Class Distribution',\n",
    "    labels={'Label': 'Target', 'count': 'Count'}\n",
    ")\n",
    "\n",
    "fig.update_layout(\n",
    "    xaxis_title='Target',\n",
    "    yaxis_title='Count',\n",
    "    showlegend=False,\n",
    "    width=600,\n",
    "    height=400\n",
    ")\n",
    "\n",
    "fig.show()"
   ]
  },
  {
   "cell_type": "markdown",
   "metadata": {},
   "source": [
    "### 5. Violin Plot: Frequency of Letter 'A' by Target Class"
   ]
  },
  {
   "cell_type": "code",
   "execution_count": 39,
   "metadata": {},
   "outputs": [
    {
     "data": {
      "application/vnd.plotly.v1+json": {
       "config": {
        "plotlyServerURL": "https://plot.ly"
       },
       "data": [
        {
         "alignmentgroup": "True",
         "box": {
          "visible": true
         },
         "hovertemplate": "Label=%{x}<br>A=%{y}<extra></extra>",
         "legendgroup": "Envelope",
         "marker": {
          "color": "rgb(102, 197, 204)"
         },
         "name": "Envelope",
         "offsetgroup": "Envelope",
         "orientation": "v",
         "points": "all",
         "scalegroup": "True",
         "showlegend": true,
         "type": "violin",
         "x": [
          "Envelope",
          "Envelope",
          "Envelope",
          "Envelope",
          "Envelope",
          "Envelope",
          "Envelope",
          "Envelope",
          "Envelope",
          "Envelope",
          "Envelope",
          "Envelope",
          "Envelope",
          "Envelope",
          "Envelope",
          "Envelope",
          "Envelope",
          "Envelope",
          "Envelope",
          "Envelope",
          "Envelope",
          "Envelope",
          "Envelope",
          "Envelope",
          "Envelope",
          "Envelope",
          "Envelope",
          "Envelope",
          "Envelope",
          "Envelope",
          "Envelope",
          "Envelope",
          "Envelope",
          "Envelope",
          "Envelope",
          "Envelope",
          "Envelope",
          "Envelope",
          "Envelope",
          "Envelope",
          "Envelope",
          "Envelope",
          "Envelope",
          "Envelope",
          "Envelope",
          "Envelope",
          "Envelope",
          "Envelope",
          "Envelope",
          "Envelope",
          "Envelope",
          "Envelope",
          "Envelope",
          "Envelope",
          "Envelope",
          "Envelope",
          "Envelope",
          "Envelope",
          "Envelope",
          "Envelope",
          "Envelope",
          "Envelope",
          "Envelope",
          "Envelope",
          "Envelope",
          "Envelope",
          "Envelope",
          "Envelope",
          "Envelope",
          "Envelope",
          "Envelope",
          "Envelope",
          "Envelope",
          "Envelope",
          "Envelope",
          "Envelope",
          "Envelope",
          "Envelope",
          "Envelope",
          "Envelope",
          "Envelope",
          "Envelope",
          "Envelope",
          "Envelope",
          "Envelope",
          "Envelope",
          "Envelope",
          "Envelope",
          "Envelope",
          "Envelope",
          "Envelope",
          "Envelope",
          "Envelope",
          "Envelope",
          "Envelope",
          "Envelope",
          "Envelope",
          "Envelope",
          "Envelope",
          "Envelope",
          "Envelope",
          "Envelope",
          "Envelope",
          "Envelope",
          "Envelope",
          "Envelope",
          "Envelope",
          "Envelope",
          "Envelope",
          "Envelope",
          "Envelope",
          "Envelope",
          "Envelope",
          "Envelope",
          "Envelope",
          "Envelope",
          "Envelope",
          "Envelope",
          "Envelope",
          "Envelope",
          "Envelope",
          "Envelope",
          "Envelope",
          "Envelope",
          "Envelope",
          "Envelope",
          "Envelope",
          "Envelope",
          "Envelope",
          "Envelope",
          "Envelope",
          "Envelope",
          "Envelope",
          "Envelope",
          "Envelope",
          "Envelope",
          "Envelope",
          "Envelope",
          "Envelope",
          "Envelope",
          "Envelope",
          "Envelope",
          "Envelope",
          "Envelope",
          "Envelope",
          "Envelope",
          "Envelope",
          "Envelope",
          "Envelope",
          "Envelope",
          "Envelope",
          "Envelope",
          "Envelope",
          "Envelope",
          "Envelope",
          "Envelope",
          "Envelope",
          "Envelope",
          "Envelope",
          "Envelope",
          "Envelope",
          "Envelope",
          "Envelope",
          "Envelope",
          "Envelope",
          "Envelope",
          "Envelope",
          "Envelope",
          "Envelope",
          "Envelope",
          "Envelope",
          "Envelope",
          "Envelope",
          "Envelope",
          "Envelope",
          "Envelope",
          "Envelope",
          "Envelope",
          "Envelope",
          "Envelope",
          "Envelope",
          "Envelope",
          "Envelope",
          "Envelope",
          "Envelope",
          "Envelope",
          "Envelope",
          "Envelope",
          "Envelope",
          "Envelope",
          "Envelope",
          "Envelope",
          "Envelope",
          "Envelope",
          "Envelope",
          "Envelope",
          "Envelope",
          "Envelope",
          "Envelope",
          "Envelope",
          "Envelope",
          "Envelope",
          "Envelope",
          "Envelope",
          "Envelope",
          "Envelope",
          "Envelope",
          "Envelope",
          "Envelope",
          "Envelope",
          "Envelope",
          "Envelope",
          "Envelope",
          "Envelope",
          "Envelope",
          "Envelope",
          "Envelope",
          "Envelope",
          "Envelope",
          "Envelope",
          "Envelope",
          "Envelope",
          "Envelope",
          "Envelope",
          "Envelope",
          "Envelope",
          "Envelope",
          "Envelope",
          "Envelope",
          "Envelope",
          "Envelope",
          "Envelope",
          "Envelope",
          "Envelope",
          "Envelope",
          "Envelope",
          "Envelope",
          "Envelope",
          "Envelope",
          "Envelope",
          "Envelope",
          "Envelope",
          "Envelope",
          "Envelope",
          "Envelope",
          "Envelope",
          "Envelope",
          "Envelope",
          "Envelope",
          "Envelope",
          "Envelope",
          "Envelope",
          "Envelope",
          "Envelope",
          "Envelope",
          "Envelope",
          "Envelope",
          "Envelope",
          "Envelope",
          "Envelope",
          "Envelope",
          "Envelope",
          "Envelope",
          "Envelope",
          "Envelope",
          "Envelope",
          "Envelope",
          "Envelope",
          "Envelope",
          "Envelope",
          "Envelope",
          "Envelope",
          "Envelope",
          "Envelope",
          "Envelope",
          "Envelope",
          "Envelope",
          "Envelope",
          "Envelope",
          "Envelope",
          "Envelope",
          "Envelope",
          "Envelope",
          "Envelope",
          "Envelope",
          "Envelope",
          "Envelope",
          "Envelope",
          "Envelope",
          "Envelope",
          "Envelope",
          "Envelope",
          "Envelope",
          "Envelope",
          "Envelope",
          "Envelope",
          "Envelope",
          "Envelope",
          "Envelope",
          "Envelope",
          "Envelope",
          "Envelope",
          "Envelope",
          "Envelope",
          "Envelope",
          "Envelope",
          "Envelope",
          "Envelope",
          "Envelope",
          "Envelope",
          "Envelope",
          "Envelope",
          "Envelope",
          "Envelope",
          "Envelope",
          "Envelope",
          "Envelope",
          "Envelope",
          "Envelope",
          "Envelope",
          "Envelope",
          "Envelope",
          "Envelope",
          "Envelope",
          "Envelope",
          "Envelope",
          "Envelope",
          "Envelope",
          "Envelope",
          "Envelope",
          "Envelope",
          "Envelope",
          "Envelope",
          "Envelope",
          "Envelope",
          "Envelope",
          "Envelope",
          "Envelope",
          "Envelope",
          "Envelope",
          "Envelope",
          "Envelope",
          "Envelope",
          "Envelope",
          "Envelope",
          "Envelope",
          "Envelope",
          "Envelope",
          "Envelope",
          "Envelope",
          "Envelope",
          "Envelope",
          "Envelope",
          "Envelope",
          "Envelope",
          "Envelope",
          "Envelope",
          "Envelope",
          "Envelope",
          "Envelope",
          "Envelope",
          "Envelope",
          "Envelope",
          "Envelope",
          "Envelope",
          "Envelope",
          "Envelope",
          "Envelope",
          "Envelope",
          "Envelope",
          "Envelope",
          "Envelope",
          "Envelope",
          "Envelope",
          "Envelope",
          "Envelope",
          "Envelope",
          "Envelope",
          "Envelope",
          "Envelope",
          "Envelope",
          "Envelope",
          "Envelope",
          "Envelope",
          "Envelope",
          "Envelope",
          "Envelope",
          "Envelope",
          "Envelope",
          "Envelope",
          "Envelope",
          "Envelope",
          "Envelope",
          "Envelope",
          "Envelope",
          "Envelope",
          "Envelope",
          "Envelope",
          "Envelope",
          "Envelope",
          "Envelope",
          "Envelope",
          "Envelope",
          "Envelope",
          "Envelope",
          "Envelope",
          "Envelope",
          "Envelope",
          "Envelope",
          "Envelope",
          "Envelope",
          "Envelope",
          "Envelope",
          "Envelope",
          "Envelope",
          "Envelope",
          "Envelope",
          "Envelope",
          "Envelope",
          "Envelope",
          "Envelope",
          "Envelope",
          "Envelope",
          "Envelope",
          "Envelope",
          "Envelope",
          "Envelope",
          "Envelope",
          "Envelope",
          "Envelope",
          "Envelope",
          "Envelope",
          "Envelope",
          "Envelope",
          "Envelope",
          "Envelope",
          "Envelope",
          "Envelope",
          "Envelope",
          "Envelope",
          "Envelope",
          "Envelope",
          "Envelope",
          "Envelope",
          "Envelope",
          "Envelope",
          "Envelope",
          "Envelope",
          "Envelope",
          "Envelope",
          "Envelope",
          "Envelope",
          "Envelope",
          "Envelope",
          "Envelope",
          "Envelope",
          "Envelope",
          "Envelope",
          "Envelope",
          "Envelope",
          "Envelope",
          "Envelope",
          "Envelope",
          "Envelope",
          "Envelope",
          "Envelope",
          "Envelope",
          "Envelope",
          "Envelope",
          "Envelope",
          "Envelope",
          "Envelope",
          "Envelope",
          "Envelope",
          "Envelope",
          "Envelope",
          "Envelope",
          "Envelope",
          "Envelope",
          "Envelope",
          "Envelope",
          "Envelope",
          "Envelope",
          "Envelope",
          "Envelope",
          "Envelope",
          "Envelope",
          "Envelope",
          "Envelope",
          "Envelope",
          "Envelope",
          "Envelope",
          "Envelope",
          "Envelope",
          "Envelope",
          "Envelope",
          "Envelope",
          "Envelope",
          "Envelope",
          "Envelope",
          "Envelope",
          "Envelope",
          "Envelope",
          "Envelope",
          "Envelope",
          "Envelope",
          "Envelope",
          "Envelope",
          "Envelope",
          "Envelope",
          "Envelope",
          "Envelope",
          "Envelope",
          "Envelope",
          "Envelope",
          "Envelope",
          "Envelope",
          "Envelope",
          "Envelope",
          "Envelope",
          "Envelope",
          "Envelope",
          "Envelope",
          "Envelope",
          "Envelope",
          "Envelope",
          "Envelope",
          "Envelope",
          "Envelope",
          "Envelope",
          "Envelope",
          "Envelope",
          "Envelope",
          "Envelope",
          "Envelope",
          "Envelope",
          "Envelope",
          "Envelope",
          "Envelope",
          "Envelope",
          "Envelope",
          "Envelope",
          "Envelope",
          "Envelope",
          "Envelope",
          "Envelope",
          "Envelope",
          "Envelope",
          "Envelope",
          "Envelope",
          "Envelope",
          "Envelope",
          "Envelope",
          "Envelope",
          "Envelope",
          "Envelope",
          "Envelope",
          "Envelope",
          "Envelope",
          "Envelope",
          "Envelope",
          "Envelope",
          "Envelope",
          "Envelope",
          "Envelope",
          "Envelope",
          "Envelope",
          "Envelope",
          "Envelope",
          "Envelope",
          "Envelope",
          "Envelope",
          "Envelope",
          "Envelope",
          "Envelope",
          "Envelope",
          "Envelope",
          "Envelope",
          "Envelope",
          "Envelope",
          "Envelope",
          "Envelope",
          "Envelope",
          "Envelope",
          "Envelope",
          "Envelope",
          "Envelope",
          "Envelope",
          "Envelope",
          "Envelope",
          "Envelope",
          "Envelope",
          "Envelope",
          "Envelope",
          "Envelope",
          "Envelope",
          "Envelope",
          "Envelope",
          "Envelope",
          "Envelope",
          "Envelope",
          "Envelope",
          "Envelope",
          "Envelope",
          "Envelope",
          "Envelope",
          "Envelope",
          "Envelope",
          "Envelope",
          "Envelope",
          "Envelope",
          "Envelope",
          "Envelope",
          "Envelope",
          "Envelope",
          "Envelope",
          "Envelope",
          "Envelope",
          "Envelope",
          "Envelope",
          "Envelope",
          "Envelope",
          "Envelope",
          "Envelope",
          "Envelope",
          "Envelope",
          "Envelope",
          "Envelope",
          "Envelope",
          "Envelope",
          "Envelope",
          "Envelope",
          "Envelope",
          "Envelope",
          "Envelope",
          "Envelope",
          "Envelope",
          "Envelope",
          "Envelope",
          "Envelope",
          "Envelope",
          "Envelope",
          "Envelope",
          "Envelope",
          "Envelope",
          "Envelope",
          "Envelope",
          "Envelope",
          "Envelope",
          "Envelope",
          "Envelope",
          "Envelope",
          "Envelope",
          "Envelope",
          "Envelope",
          "Envelope",
          "Envelope",
          "Envelope",
          "Envelope",
          "Envelope",
          "Envelope",
          "Envelope",
          "Envelope",
          "Envelope",
          "Envelope",
          "Envelope",
          "Envelope",
          "Envelope",
          "Envelope",
          "Envelope",
          "Envelope",
          "Envelope",
          "Envelope",
          "Envelope",
          "Envelope",
          "Envelope",
          "Envelope",
          "Envelope",
          "Envelope",
          "Envelope"
         ],
         "x0": " ",
         "xaxis": "x",
         "y": {
          "bdata": "AwMDAwMDAAMDAwMEBAQEBAQEBAQEBAQEBAQEBAQEBAQEBAQEBAQEBAQEBAQEBAQEBAQEBAQEBAQEBAQEBAQEBAQEBAQEBAQEBAQEBAQEBAQEBAQEBAQEBAQEBAQEBAQEBAQEBAQEBAQEBAQEBAQEBAQEBAQEBAQEBAQEBAQEBAQEBAQEBAQEBAQEBAQEBAQEBAQEBAQEBAQEBAQEBAQEBAQEBAQEBAQEBAQEBAQEBAQEBAQEBAQEBAQEBAQEBAQEBAQEBAQEBAQEBAQEBAQEBAQEBAQEBAQEBAQEBAQEBAQEBAQEBAQEBAQEBAQEBAQEBAQEBAQEBAQEBAQEBAQEBAQEBAQEBAQEBAQEBAQEBAQEBAQEBAQEBAQEBAQEBAQEBAQEBAQEBAQEBAQEBAQEBAQEBAQEBAQFBAQEBAQEBAQFBQQEBAQFBAUEBQQFBQUFBQQEBQUEBAUFBQQFBAUEBAQFBQQEBAUEBQQFBQQFBAQFBAUFBQQEBAQEBQQFBQUEBQUFBQUEBQUEBAQEBQQEBQUEBAQEBQUEBAQEBQQEBQQEBQUEBAQFBAUFBQUFBQUEBAQFBAQFBQQEBQQFBQQFBQQEBAUFBQQEBQQEBQQEBQQEBAUEBQQEBQQFBAQFBAUEBQUEBAQEBQQEBAUEBQQFBQQFBQQEBQQEBAQFBQQFBQUEBQQFBQQEBAUEBQQFBQUEBQUFBAQEBQUEBQQFBQUEBAQEBAQEBAQEBAQFBAQEBAUEBAQEBAQEBAQFBAQEBAQFBQQEBAQEBAUEBAQEBAUEBQQFBQQEBAQEBAUEBAQEBAUEBQUEBQUEBAQFBAQEBAQEBQQFBAUEBAQEBQUEBAQFBAQEBQUFBQUFBQUFBQUFBQUFBQUFBQUFBQUFBQUFBQQFBQUFBQUFBQU=",
          "dtype": "i1"
         },
         "y0": " ",
         "yaxis": "y"
        },
        {
         "alignmentgroup": "True",
         "box": {
          "visible": true
         },
         "hovertemplate": "Label=%{x}<br>A=%{y}<extra></extra>",
         "legendgroup": "Membrane",
         "marker": {
          "color": "rgb(246, 207, 113)"
         },
         "name": "Membrane",
         "offsetgroup": "Membrane",
         "orientation": "v",
         "points": "all",
         "scalegroup": "True",
         "showlegend": true,
         "type": "violin",
         "x": [
          "Membrane",
          "Membrane",
          "Membrane",
          "Membrane",
          "Membrane",
          "Membrane",
          "Membrane",
          "Membrane",
          "Membrane",
          "Membrane",
          "Membrane",
          "Membrane",
          "Membrane",
          "Membrane",
          "Membrane",
          "Membrane",
          "Membrane",
          "Membrane",
          "Membrane",
          "Membrane",
          "Membrane",
          "Membrane",
          "Membrane",
          "Membrane",
          "Membrane",
          "Membrane",
          "Membrane",
          "Membrane",
          "Membrane",
          "Membrane",
          "Membrane",
          "Membrane",
          "Membrane",
          "Membrane",
          "Membrane",
          "Membrane",
          "Membrane",
          "Membrane",
          "Membrane",
          "Membrane",
          "Membrane",
          "Membrane",
          "Membrane",
          "Membrane",
          "Membrane",
          "Membrane",
          "Membrane",
          "Membrane",
          "Membrane",
          "Membrane",
          "Membrane",
          "Membrane",
          "Membrane",
          "Membrane",
          "Membrane",
          "Membrane",
          "Membrane",
          "Membrane",
          "Membrane",
          "Membrane",
          "Membrane",
          "Membrane",
          "Membrane",
          "Membrane",
          "Membrane",
          "Membrane",
          "Membrane",
          "Membrane",
          "Membrane",
          "Membrane",
          "Membrane",
          "Membrane",
          "Membrane",
          "Membrane",
          "Membrane",
          "Membrane",
          "Membrane",
          "Membrane",
          "Membrane",
          "Membrane",
          "Membrane",
          "Membrane",
          "Membrane",
          "Membrane",
          "Membrane",
          "Membrane",
          "Membrane",
          "Membrane",
          "Membrane",
          "Membrane",
          "Membrane",
          "Membrane",
          "Membrane",
          "Membrane",
          "Membrane",
          "Membrane",
          "Membrane",
          "Membrane",
          "Membrane",
          "Membrane",
          "Membrane",
          "Membrane",
          "Membrane",
          "Membrane",
          "Membrane",
          "Membrane",
          "Membrane",
          "Membrane",
          "Membrane",
          "Membrane",
          "Membrane",
          "Membrane",
          "Membrane",
          "Membrane",
          "Membrane",
          "Membrane",
          "Membrane",
          "Membrane",
          "Membrane",
          "Membrane",
          "Membrane",
          "Membrane",
          "Membrane",
          "Membrane",
          "Membrane",
          "Membrane",
          "Membrane",
          "Membrane",
          "Membrane",
          "Membrane",
          "Membrane",
          "Membrane",
          "Membrane",
          "Membrane",
          "Membrane",
          "Membrane",
          "Membrane",
          "Membrane",
          "Membrane",
          "Membrane",
          "Membrane",
          "Membrane",
          "Membrane",
          "Membrane",
          "Membrane",
          "Membrane",
          "Membrane",
          "Membrane",
          "Membrane",
          "Membrane",
          "Membrane",
          "Membrane",
          "Membrane",
          "Membrane",
          "Membrane",
          "Membrane",
          "Membrane",
          "Membrane",
          "Membrane",
          "Membrane",
          "Membrane",
          "Membrane",
          "Membrane",
          "Membrane",
          "Membrane",
          "Membrane",
          "Membrane",
          "Membrane",
          "Membrane",
          "Membrane",
          "Membrane",
          "Membrane",
          "Membrane",
          "Membrane",
          "Membrane",
          "Membrane",
          "Membrane",
          "Membrane",
          "Membrane",
          "Membrane",
          "Membrane",
          "Membrane",
          "Membrane",
          "Membrane",
          "Membrane",
          "Membrane",
          "Membrane",
          "Membrane",
          "Membrane",
          "Membrane",
          "Membrane",
          "Membrane",
          "Membrane",
          "Membrane",
          "Membrane",
          "Membrane",
          "Membrane",
          "Membrane",
          "Membrane",
          "Membrane",
          "Membrane",
          "Membrane",
          "Membrane",
          "Membrane",
          "Membrane",
          "Membrane",
          "Membrane",
          "Membrane",
          "Membrane",
          "Membrane",
          "Membrane",
          "Membrane",
          "Membrane",
          "Membrane",
          "Membrane",
          "Membrane",
          "Membrane",
          "Membrane",
          "Membrane",
          "Membrane",
          "Membrane",
          "Membrane",
          "Membrane",
          "Membrane",
          "Membrane",
          "Membrane",
          "Membrane",
          "Membrane",
          "Membrane",
          "Membrane",
          "Membrane",
          "Membrane",
          "Membrane",
          "Membrane",
          "Membrane",
          "Membrane",
          "Membrane",
          "Membrane",
          "Membrane",
          "Membrane",
          "Membrane",
          "Membrane",
          "Membrane",
          "Membrane",
          "Membrane",
          "Membrane",
          "Membrane",
          "Membrane",
          "Membrane",
          "Membrane",
          "Membrane",
          "Membrane",
          "Membrane",
          "Membrane",
          "Membrane",
          "Membrane",
          "Membrane",
          "Membrane",
          "Membrane",
          "Membrane",
          "Membrane",
          "Membrane",
          "Membrane",
          "Membrane",
          "Membrane",
          "Membrane",
          "Membrane",
          "Membrane",
          "Membrane",
          "Membrane",
          "Membrane",
          "Membrane",
          "Membrane",
          "Membrane",
          "Membrane",
          "Membrane",
          "Membrane",
          "Membrane",
          "Membrane",
          "Membrane",
          "Membrane",
          "Membrane",
          "Membrane",
          "Membrane",
          "Membrane",
          "Membrane",
          "Membrane",
          "Membrane",
          "Membrane",
          "Membrane",
          "Membrane",
          "Membrane",
          "Membrane",
          "Membrane",
          "Membrane",
          "Membrane",
          "Membrane",
          "Membrane",
          "Membrane",
          "Membrane",
          "Membrane",
          "Membrane",
          "Membrane",
          "Membrane",
          "Membrane",
          "Membrane",
          "Membrane",
          "Membrane",
          "Membrane",
          "Membrane",
          "Membrane",
          "Membrane",
          "Membrane",
          "Membrane",
          "Membrane",
          "Membrane",
          "Membrane",
          "Membrane",
          "Membrane",
          "Membrane",
          "Membrane",
          "Membrane",
          "Membrane",
          "Membrane",
          "Membrane",
          "Membrane",
          "Membrane",
          "Membrane",
          "Membrane",
          "Membrane",
          "Membrane",
          "Membrane",
          "Membrane",
          "Membrane",
          "Membrane",
          "Membrane",
          "Membrane",
          "Membrane",
          "Membrane",
          "Membrane",
          "Membrane",
          "Membrane",
          "Membrane",
          "Membrane",
          "Membrane",
          "Membrane",
          "Membrane",
          "Membrane",
          "Membrane",
          "Membrane",
          "Membrane",
          "Membrane",
          "Membrane",
          "Membrane",
          "Membrane",
          "Membrane",
          "Membrane",
          "Membrane",
          "Membrane",
          "Membrane",
          "Membrane",
          "Membrane",
          "Membrane",
          "Membrane",
          "Membrane",
          "Membrane",
          "Membrane",
          "Membrane",
          "Membrane",
          "Membrane",
          "Membrane",
          "Membrane",
          "Membrane",
          "Membrane",
          "Membrane",
          "Membrane",
          "Membrane",
          "Membrane",
          "Membrane",
          "Membrane",
          "Membrane",
          "Membrane",
          "Membrane",
          "Membrane",
          "Membrane",
          "Membrane",
          "Membrane",
          "Membrane",
          "Membrane",
          "Membrane",
          "Membrane",
          "Membrane",
          "Membrane",
          "Membrane",
          "Membrane",
          "Membrane",
          "Membrane",
          "Membrane",
          "Membrane",
          "Membrane",
          "Membrane",
          "Membrane",
          "Membrane",
          "Membrane",
          "Membrane",
          "Membrane",
          "Membrane",
          "Membrane",
          "Membrane",
          "Membrane",
          "Membrane",
          "Membrane",
          "Membrane",
          "Membrane",
          "Membrane",
          "Membrane",
          "Membrane",
          "Membrane",
          "Membrane",
          "Membrane",
          "Membrane",
          "Membrane",
          "Membrane",
          "Membrane",
          "Membrane",
          "Membrane",
          "Membrane",
          "Membrane",
          "Membrane",
          "Membrane",
          "Membrane",
          "Membrane",
          "Membrane",
          "Membrane",
          "Membrane",
          "Membrane",
          "Membrane",
          "Membrane",
          "Membrane",
          "Membrane",
          "Membrane",
          "Membrane",
          "Membrane",
          "Membrane",
          "Membrane",
          "Membrane",
          "Membrane",
          "Membrane",
          "Membrane",
          "Membrane",
          "Membrane",
          "Membrane",
          "Membrane",
          "Membrane",
          "Membrane",
          "Membrane",
          "Membrane",
          "Membrane",
          "Membrane",
          "Membrane",
          "Membrane",
          "Membrane",
          "Membrane",
          "Membrane",
          "Membrane",
          "Membrane",
          "Membrane",
          "Membrane",
          "Membrane",
          "Membrane",
          "Membrane",
          "Membrane",
          "Membrane",
          "Membrane",
          "Membrane",
          "Membrane",
          "Membrane",
          "Membrane",
          "Membrane",
          "Membrane",
          "Membrane",
          "Membrane",
          "Membrane",
          "Membrane",
          "Membrane",
          "Membrane",
          "Membrane",
          "Membrane",
          "Membrane",
          "Membrane",
          "Membrane",
          "Membrane",
          "Membrane",
          "Membrane",
          "Membrane",
          "Membrane",
          "Membrane",
          "Membrane",
          "Membrane",
          "Membrane",
          "Membrane",
          "Membrane",
          "Membrane",
          "Membrane",
          "Membrane",
          "Membrane",
          "Membrane",
          "Membrane",
          "Membrane",
          "Membrane",
          "Membrane",
          "Membrane",
          "Membrane",
          "Membrane",
          "Membrane",
          "Membrane",
          "Membrane",
          "Membrane",
          "Membrane",
          "Membrane",
          "Membrane",
          "Membrane",
          "Membrane",
          "Membrane",
          "Membrane",
          "Membrane",
          "Membrane",
          "Membrane",
          "Membrane",
          "Membrane",
          "Membrane",
          "Membrane",
          "Membrane",
          "Membrane",
          "Membrane",
          "Membrane",
          "Membrane",
          "Membrane",
          "Membrane",
          "Membrane",
          "Membrane",
          "Membrane",
          "Membrane",
          "Membrane",
          "Membrane",
          "Membrane",
          "Membrane",
          "Membrane",
          "Membrane",
          "Membrane",
          "Membrane",
          "Membrane",
          "Membrane",
          "Membrane",
          "Membrane",
          "Membrane",
          "Membrane",
          "Membrane",
          "Membrane",
          "Membrane",
          "Membrane",
          "Membrane",
          "Membrane",
          "Membrane",
          "Membrane",
          "Membrane",
          "Membrane",
          "Membrane",
          "Membrane",
          "Membrane",
          "Membrane",
          "Membrane",
          "Membrane",
          "Membrane",
          "Membrane",
          "Membrane",
          "Membrane",
          "Membrane",
          "Membrane",
          "Membrane",
          "Membrane",
          "Membrane",
          "Membrane",
          "Membrane",
          "Membrane",
          "Membrane",
          "Membrane",
          "Membrane",
          "Membrane",
          "Membrane",
          "Membrane",
          "Membrane",
          "Membrane",
          "Membrane",
          "Membrane",
          "Membrane",
          "Membrane",
          "Membrane",
          "Membrane",
          "Membrane",
          "Membrane",
          "Membrane",
          "Membrane",
          "Membrane",
          "Membrane",
          "Membrane",
          "Membrane",
          "Membrane",
          "Membrane",
          "Membrane",
          "Membrane",
          "Membrane",
          "Membrane",
          "Membrane",
          "Membrane",
          "Membrane",
          "Membrane",
          "Membrane",
          "Membrane",
          "Membrane",
          "Membrane",
          "Membrane",
          "Membrane",
          "Membrane",
          "Membrane",
          "Membrane",
          "Membrane",
          "Membrane",
          "Membrane",
          "Membrane",
          "Membrane",
          "Membrane",
          "Membrane",
          "Membrane",
          "Membrane",
          "Membrane",
          "Membrane",
          "Membrane",
          "Membrane",
          "Membrane",
          "Membrane",
          "Membrane",
          "Membrane",
          "Membrane",
          "Membrane",
          "Membrane",
          "Membrane",
          "Membrane",
          "Membrane",
          "Membrane",
          "Membrane",
          "Membrane",
          "Membrane",
          "Membrane",
          "Membrane",
          "Membrane",
          "Membrane",
          "Membrane",
          "Membrane",
          "Membrane",
          "Membrane",
          "Membrane",
          "Membrane",
          "Membrane",
          "Membrane",
          "Membrane",
          "Membrane",
          "Membrane",
          "Membrane",
          "Membrane",
          "Membrane",
          "Membrane",
          "Membrane",
          "Membrane",
          "Membrane",
          "Membrane",
          "Membrane",
          "Membrane",
          "Membrane",
          "Membrane",
          "Membrane",
          "Membrane",
          "Membrane",
          "Membrane",
          "Membrane",
          "Membrane",
          "Membrane",
          "Membrane",
          "Membrane",
          "Membrane",
          "Membrane",
          "Membrane",
          "Membrane",
          "Membrane",
          "Membrane",
          "Membrane",
          "Membrane",
          "Membrane",
          "Membrane",
          "Membrane",
          "Membrane",
          "Membrane",
          "Membrane",
          "Membrane",
          "Membrane",
          "Membrane",
          "Membrane",
          "Membrane",
          "Membrane",
          "Membrane",
          "Membrane",
          "Membrane",
          "Membrane",
          "Membrane",
          "Membrane",
          "Membrane",
          "Membrane",
          "Membrane",
          "Membrane",
          "Membrane",
          "Membrane",
          "Membrane",
          "Membrane",
          "Membrane",
          "Membrane",
          "Membrane",
          "Membrane",
          "Membrane",
          "Membrane",
          "Membrane",
          "Membrane",
          "Membrane",
          "Membrane",
          "Membrane",
          "Membrane",
          "Membrane",
          "Membrane",
          "Membrane",
          "Membrane",
          "Membrane",
          "Membrane",
          "Membrane",
          "Membrane",
          "Membrane",
          "Membrane",
          "Membrane",
          "Membrane",
          "Membrane",
          "Membrane",
          "Membrane",
          "Membrane",
          "Membrane",
          "Membrane",
          "Membrane",
          "Membrane",
          "Membrane",
          "Membrane",
          "Membrane",
          "Membrane",
          "Membrane",
          "Membrane",
          "Membrane",
          "Membrane",
          "Membrane",
          "Membrane",
          "Membrane",
          "Membrane",
          "Membrane",
          "Membrane",
          "Membrane",
          "Membrane",
          "Membrane",
          "Membrane",
          "Membrane",
          "Membrane",
          "Membrane",
          "Membrane",
          "Membrane",
          "Membrane",
          "Membrane",
          "Membrane",
          "Membrane",
          "Membrane",
          "Membrane",
          "Membrane",
          "Membrane",
          "Membrane",
          "Membrane",
          "Membrane",
          "Membrane",
          "Membrane",
          "Membrane",
          "Membrane",
          "Membrane",
          "Membrane",
          "Membrane",
          "Membrane",
          "Membrane",
          "Membrane",
          "Membrane",
          "Membrane",
          "Membrane",
          "Membrane",
          "Membrane",
          "Membrane",
          "Membrane",
          "Membrane",
          "Membrane",
          "Membrane",
          "Membrane",
          "Membrane",
          "Membrane",
          "Membrane",
          "Membrane",
          "Membrane",
          "Membrane",
          "Membrane",
          "Membrane",
          "Membrane",
          "Membrane",
          "Membrane",
          "Membrane",
          "Membrane",
          "Membrane",
          "Membrane",
          "Membrane",
          "Membrane",
          "Membrane",
          "Membrane",
          "Membrane",
          "Membrane",
          "Membrane",
          "Membrane",
          "Membrane",
          "Membrane",
          "Membrane",
          "Membrane",
          "Membrane",
          "Membrane",
          "Membrane",
          "Membrane",
          "Membrane",
          "Membrane",
          "Membrane",
          "Membrane",
          "Membrane",
          "Membrane",
          "Membrane",
          "Membrane",
          "Membrane",
          "Membrane",
          "Membrane",
          "Membrane",
          "Membrane",
          "Membrane",
          "Membrane",
          "Membrane",
          "Membrane",
          "Membrane",
          "Membrane",
          "Membrane",
          "Membrane",
          "Membrane",
          "Membrane",
          "Membrane",
          "Membrane",
          "Membrane",
          "Membrane",
          "Membrane",
          "Membrane",
          "Membrane",
          "Membrane",
          "Membrane",
          "Membrane",
          "Membrane",
          "Membrane",
          "Membrane",
          "Membrane",
          "Membrane",
          "Membrane",
          "Membrane",
          "Membrane",
          "Membrane",
          "Membrane",
          "Membrane",
          "Membrane",
          "Membrane",
          "Membrane",
          "Membrane",
          "Membrane",
          "Membrane",
          "Membrane",
          "Membrane",
          "Membrane",
          "Membrane",
          "Membrane",
          "Membrane",
          "Membrane",
          "Membrane",
          "Membrane",
          "Membrane",
          "Membrane",
          "Membrane",
          "Membrane",
          "Membrane",
          "Membrane",
          "Membrane",
          "Membrane",
          "Membrane",
          "Membrane",
          "Membrane",
          "Membrane",
          "Membrane",
          "Membrane",
          "Membrane",
          "Membrane",
          "Membrane",
          "Membrane",
          "Membrane",
          "Membrane",
          "Membrane",
          "Membrane",
          "Membrane",
          "Membrane",
          "Membrane",
          "Membrane",
          "Membrane",
          "Membrane",
          "Membrane",
          "Membrane",
          "Membrane",
          "Membrane",
          "Membrane",
          "Membrane",
          "Membrane",
          "Membrane",
          "Membrane",
          "Membrane",
          "Membrane",
          "Membrane",
          "Membrane",
          "Membrane",
          "Membrane",
          "Membrane",
          "Membrane",
          "Membrane",
          "Membrane",
          "Membrane",
          "Membrane",
          "Membrane",
          "Membrane",
          "Membrane",
          "Membrane",
          "Membrane",
          "Membrane",
          "Membrane",
          "Membrane",
          "Membrane",
          "Membrane",
          "Membrane",
          "Membrane",
          "Membrane",
          "Membrane",
          "Membrane",
          "Membrane",
          "Membrane",
          "Membrane",
          "Membrane",
          "Membrane",
          "Membrane",
          "Membrane",
          "Membrane",
          "Membrane",
          "Membrane",
          "Membrane",
          "Membrane",
          "Membrane",
          "Membrane",
          "Membrane",
          "Membrane",
          "Membrane",
          "Membrane",
          "Membrane",
          "Membrane",
          "Membrane",
          "Membrane",
          "Membrane",
          "Membrane",
          "Membrane",
          "Membrane",
          "Membrane",
          "Membrane",
          "Membrane",
          "Membrane",
          "Membrane",
          "Membrane",
          "Membrane",
          "Membrane",
          "Membrane",
          "Membrane",
          "Membrane",
          "Membrane",
          "Membrane",
          "Membrane",
          "Membrane",
          "Membrane",
          "Membrane",
          "Membrane",
          "Membrane",
          "Membrane",
          "Membrane",
          "Membrane",
          "Membrane",
          "Membrane",
          "Membrane",
          "Membrane",
          "Membrane",
          "Membrane",
          "Membrane",
          "Membrane",
          "Membrane",
          "Membrane"
         ],
         "x0": " ",
         "xaxis": "x",
         "y": {
          "bdata": "BAATABMAEwATABMAEwARABEAEwATAAQABAADAAMAAwADAAMAEwATABMAEwATABMAEwATABMAEwATABMAEwATABMAEwATABMAEwATABMAEwATABMAEwATABMAEwATABMAEwATABMAEwASABMAEwATABMAEwATABMAEwATABMAEwATABMAEwATABMAEwATABMAEwATABMAEwATABMAEwATABMAEwATABMAEwATABMAEwATABMAEwATABMAEwATABMAEwATABMAEwATABMAEwATABMAEwATABMAEwATABMAEwATABMAEwATABMAEwATABMAEwATABMAEwATABMAEwATABMAEwATABMAEwATABMAEwATABMAEwATABMAEwATABMAEwATABMAEwATABMAEwATABMAEwATABMAEwATABMAEwATABMAEwATABMAEwATABMAEgATABMAEwATABMAEwATABMAEwATABMAEwATABMAEwASABIAEwATABMAEwATABMAEwATABMAEwATABMAEwATABMAEwATABMAEwATABMAEwATABMAEwATABMAEwATABMAEwATABMAEwATABMAEwATABMAEwATABMAEwATABMAEwATABMAEwATABMAEwATABMAEwATABMAEwATABMAEwATABMAEwATABMAEwATABMAEwATABMAEwATABMAEwATABMAEwATABMAEwATABMAEwATABMAEwATABMAEwATABMAEwATABMAEwATABMAEwATABMAEwATABMAEwATABMAEwATABMAEwATABMAEwATABMAEwATABMAEwATABMAEwATABMAEwATABMAEwATABMAEwATABMAEwATABMAEwATABMAEwATABMAEwATABMAEwATABMAEwATABMAEwATABMAEwATABMAEwATABMAEwATABMAEwATABMAEwATABMAEwATABMAEwATABMAEwATABMAEwATABMAEwATABMAEwATABMAEwATABMAEwATABMAEwATABMAEwATABMAEwATABMAEwATABMAEwATABMAEwATABMAEwATABMAEwATABMAEwATABMAEwATABMAEwATABMAEwATABMAEwATABMAEwATABMAEwATABMAEwATABMAEwATABMAEwATABMAEwATABMAEwATABMAEwATABMAEwATABMAEwATABMAEwATABMAEwATABMAEwATABMAEwATABMAEwATABMAEwATABMAEwATABMAEwATABIAEgASABIAEgASABIAEgASABIAEgASABIAEgASABIAEgASAAoAEgARABIAEgASABIAEgASABIAEgASABIAEgASABIAEgASABIAEgASABIAEgASABIAEgASABIAEgASABIAEgASABIAEgASABIAEgASABIAEgASABIAEgASABIAEgASABIAEgASABIAEgASABIAEgASABIAEgASABIAEgASABIAEgASABIAEgASABIAEgASABIAEgASABIAEgASABIAEgASABIAEgASABIAEgASABIAEgASABIAEgASABIAEgASABIAEgASABIAEgASABIAEgASABIAEgASABIAEgASABIAEgASABIAEgASABIAEgASABIAEgASABIAEgASABIAEgASABIAEgASABIAEgASABIAEgASABIAEgASABIAEgASABIAEgASABIAEgASABIAEgASABIAEgASABIAEgASABIAEgASABIAEgASABIAEgASABIAEgASABIAEgASABIAEgASABIAEgASABIAEgASABIAEgASABIAEgASABIAEgASABIAEgASABIAEgASABIAEgASABIAEgASABIAEgASABIAEgASABIAUQBRABIAEgASABIAEgASABIAEgASABIAEgASABIAEgASABIAEgASABIAEgASABIAEgASABIAEgASABIAEgASABIAEgASABIAEgASABIAEgASABIAEgASABIAEgASABIAEgARABIAEgASABIAEgASABIAEgASABIAEgASABIAEgASABEAEgATAA0AEgASABIAEgASABIAEgASABIAEgASABIAEgASABEAEgASABIAEgARABIAEgASAA8AEgASABIADQASABIAEgASABIAEgASABIAEgARABIAEgASABIAEgASABIAEgASABIAEgASABIAEgASABIAEgASABIAEgASABIAEgASABIAEgASABIAEgASABIAEgASABIAEgASABIAEgASABIAEgASABIAEgASABIAEgASABIAEgASABIAEgASABIAUQBPAE8ATwABAAQADQBPADUB5wFRAFEAUQBRAFEAUQBNAE0ATQBPAE8ATwBPAE8ADQBPADUB5wECACUABQACAAgAAQAEAA0ATwA1AecBAgAlAAUAAgAIADYB6AECACUABQACAAgAAQAEAA0ATwA1AecBAgAlAAUAAgAJAAEABAACACUABQACAAkAAQAEAA0ATwA1AecBAgAlAAUAAgAJAAEABAANAFAABQAJAAIAAQAEAA0ATwA1AecBAgAlAAUAAgAJAAEABAANAE8ANQHnAQgAAQAEAA0ATwA1AecBAgAlAAUAAgAJAAEABAANAE8ANQHnAQIAJQAEAA0ATwA1AeYBAgAmAAUAAgAJAAEABAANAFAANgHoAQIAJQAFAAIATwA1AecBAgAlAAUAAgAJAAEABABOAA0ANQHnAQ==",
          "dtype": "i2"
         },
         "y0": " ",
         "yaxis": "y"
        },
        {
         "alignmentgroup": "True",
         "box": {
          "visible": true
         },
         "hovertemplate": "Label=%{x}<br>A=%{y}<extra></extra>",
         "legendgroup": "Nucleocapsid",
         "marker": {
          "color": "rgb(248, 156, 116)"
         },
         "name": "Nucleocapsid",
         "offsetgroup": "Nucleocapsid",
         "orientation": "v",
         "points": "all",
         "scalegroup": "True",
         "showlegend": true,
         "type": "violin",
         "x": [
          "Nucleocapsid",
          "Nucleocapsid",
          "Nucleocapsid",
          "Nucleocapsid",
          "Nucleocapsid",
          "Nucleocapsid",
          "Nucleocapsid",
          "Nucleocapsid",
          "Nucleocapsid",
          "Nucleocapsid",
          "Nucleocapsid",
          "Nucleocapsid",
          "Nucleocapsid",
          "Nucleocapsid",
          "Nucleocapsid",
          "Nucleocapsid",
          "Nucleocapsid",
          "Nucleocapsid",
          "Nucleocapsid",
          "Nucleocapsid",
          "Nucleocapsid",
          "Nucleocapsid",
          "Nucleocapsid",
          "Nucleocapsid",
          "Nucleocapsid",
          "Nucleocapsid",
          "Nucleocapsid",
          "Nucleocapsid",
          "Nucleocapsid",
          "Nucleocapsid",
          "Nucleocapsid",
          "Nucleocapsid",
          "Nucleocapsid",
          "Nucleocapsid",
          "Nucleocapsid",
          "Nucleocapsid",
          "Nucleocapsid",
          "Nucleocapsid",
          "Nucleocapsid",
          "Nucleocapsid",
          "Nucleocapsid",
          "Nucleocapsid",
          "Nucleocapsid",
          "Nucleocapsid",
          "Nucleocapsid",
          "Nucleocapsid",
          "Nucleocapsid",
          "Nucleocapsid",
          "Nucleocapsid",
          "Nucleocapsid",
          "Nucleocapsid",
          "Nucleocapsid",
          "Nucleocapsid",
          "Nucleocapsid",
          "Nucleocapsid",
          "Nucleocapsid",
          "Nucleocapsid",
          "Nucleocapsid",
          "Nucleocapsid",
          "Nucleocapsid",
          "Nucleocapsid",
          "Nucleocapsid",
          "Nucleocapsid",
          "Nucleocapsid",
          "Nucleocapsid",
          "Nucleocapsid",
          "Nucleocapsid",
          "Nucleocapsid",
          "Nucleocapsid",
          "Nucleocapsid",
          "Nucleocapsid",
          "Nucleocapsid",
          "Nucleocapsid",
          "Nucleocapsid",
          "Nucleocapsid",
          "Nucleocapsid",
          "Nucleocapsid",
          "Nucleocapsid",
          "Nucleocapsid",
          "Nucleocapsid",
          "Nucleocapsid",
          "Nucleocapsid",
          "Nucleocapsid",
          "Nucleocapsid",
          "Nucleocapsid",
          "Nucleocapsid",
          "Nucleocapsid",
          "Nucleocapsid",
          "Nucleocapsid",
          "Nucleocapsid",
          "Nucleocapsid",
          "Nucleocapsid",
          "Nucleocapsid",
          "Nucleocapsid",
          "Nucleocapsid",
          "Nucleocapsid",
          "Nucleocapsid",
          "Nucleocapsid",
          "Nucleocapsid",
          "Nucleocapsid",
          "Nucleocapsid",
          "Nucleocapsid",
          "Nucleocapsid",
          "Nucleocapsid",
          "Nucleocapsid",
          "Nucleocapsid",
          "Nucleocapsid",
          "Nucleocapsid",
          "Nucleocapsid",
          "Nucleocapsid",
          "Nucleocapsid",
          "Nucleocapsid",
          "Nucleocapsid",
          "Nucleocapsid",
          "Nucleocapsid",
          "Nucleocapsid",
          "Nucleocapsid",
          "Nucleocapsid",
          "Nucleocapsid",
          "Nucleocapsid",
          "Nucleocapsid",
          "Nucleocapsid",
          "Nucleocapsid",
          "Nucleocapsid",
          "Nucleocapsid",
          "Nucleocapsid",
          "Nucleocapsid",
          "Nucleocapsid",
          "Nucleocapsid",
          "Nucleocapsid",
          "Nucleocapsid",
          "Nucleocapsid",
          "Nucleocapsid",
          "Nucleocapsid",
          "Nucleocapsid",
          "Nucleocapsid",
          "Nucleocapsid",
          "Nucleocapsid",
          "Nucleocapsid",
          "Nucleocapsid",
          "Nucleocapsid",
          "Nucleocapsid",
          "Nucleocapsid",
          "Nucleocapsid",
          "Nucleocapsid",
          "Nucleocapsid",
          "Nucleocapsid",
          "Nucleocapsid",
          "Nucleocapsid",
          "Nucleocapsid",
          "Nucleocapsid",
          "Nucleocapsid",
          "Nucleocapsid",
          "Nucleocapsid",
          "Nucleocapsid",
          "Nucleocapsid",
          "Nucleocapsid",
          "Nucleocapsid",
          "Nucleocapsid",
          "Nucleocapsid",
          "Nucleocapsid",
          "Nucleocapsid",
          "Nucleocapsid",
          "Nucleocapsid",
          "Nucleocapsid",
          "Nucleocapsid",
          "Nucleocapsid",
          "Nucleocapsid",
          "Nucleocapsid",
          "Nucleocapsid",
          "Nucleocapsid",
          "Nucleocapsid",
          "Nucleocapsid",
          "Nucleocapsid",
          "Nucleocapsid",
          "Nucleocapsid",
          "Nucleocapsid",
          "Nucleocapsid",
          "Nucleocapsid",
          "Nucleocapsid",
          "Nucleocapsid",
          "Nucleocapsid",
          "Nucleocapsid",
          "Nucleocapsid",
          "Nucleocapsid",
          "Nucleocapsid",
          "Nucleocapsid",
          "Nucleocapsid",
          "Nucleocapsid",
          "Nucleocapsid",
          "Nucleocapsid",
          "Nucleocapsid",
          "Nucleocapsid",
          "Nucleocapsid",
          "Nucleocapsid",
          "Nucleocapsid",
          "Nucleocapsid",
          "Nucleocapsid",
          "Nucleocapsid",
          "Nucleocapsid",
          "Nucleocapsid",
          "Nucleocapsid",
          "Nucleocapsid",
          "Nucleocapsid",
          "Nucleocapsid",
          "Nucleocapsid",
          "Nucleocapsid",
          "Nucleocapsid",
          "Nucleocapsid",
          "Nucleocapsid",
          "Nucleocapsid",
          "Nucleocapsid",
          "Nucleocapsid",
          "Nucleocapsid",
          "Nucleocapsid",
          "Nucleocapsid",
          "Nucleocapsid",
          "Nucleocapsid",
          "Nucleocapsid",
          "Nucleocapsid",
          "Nucleocapsid",
          "Nucleocapsid",
          "Nucleocapsid",
          "Nucleocapsid",
          "Nucleocapsid",
          "Nucleocapsid",
          "Nucleocapsid",
          "Nucleocapsid",
          "Nucleocapsid",
          "Nucleocapsid",
          "Nucleocapsid",
          "Nucleocapsid",
          "Nucleocapsid",
          "Nucleocapsid",
          "Nucleocapsid",
          "Nucleocapsid",
          "Nucleocapsid",
          "Nucleocapsid",
          "Nucleocapsid",
          "Nucleocapsid",
          "Nucleocapsid",
          "Nucleocapsid",
          "Nucleocapsid",
          "Nucleocapsid",
          "Nucleocapsid",
          "Nucleocapsid",
          "Nucleocapsid",
          "Nucleocapsid",
          "Nucleocapsid",
          "Nucleocapsid",
          "Nucleocapsid",
          "Nucleocapsid",
          "Nucleocapsid",
          "Nucleocapsid",
          "Nucleocapsid",
          "Nucleocapsid",
          "Nucleocapsid",
          "Nucleocapsid",
          "Nucleocapsid",
          "Nucleocapsid",
          "Nucleocapsid",
          "Nucleocapsid",
          "Nucleocapsid",
          "Nucleocapsid",
          "Nucleocapsid",
          "Nucleocapsid",
          "Nucleocapsid",
          "Nucleocapsid",
          "Nucleocapsid",
          "Nucleocapsid",
          "Nucleocapsid",
          "Nucleocapsid",
          "Nucleocapsid",
          "Nucleocapsid",
          "Nucleocapsid",
          "Nucleocapsid",
          "Nucleocapsid",
          "Nucleocapsid",
          "Nucleocapsid",
          "Nucleocapsid",
          "Nucleocapsid",
          "Nucleocapsid",
          "Nucleocapsid",
          "Nucleocapsid",
          "Nucleocapsid",
          "Nucleocapsid",
          "Nucleocapsid",
          "Nucleocapsid",
          "Nucleocapsid",
          "Nucleocapsid",
          "Nucleocapsid",
          "Nucleocapsid",
          "Nucleocapsid",
          "Nucleocapsid",
          "Nucleocapsid",
          "Nucleocapsid",
          "Nucleocapsid",
          "Nucleocapsid",
          "Nucleocapsid",
          "Nucleocapsid",
          "Nucleocapsid",
          "Nucleocapsid",
          "Nucleocapsid",
          "Nucleocapsid",
          "Nucleocapsid",
          "Nucleocapsid",
          "Nucleocapsid",
          "Nucleocapsid",
          "Nucleocapsid",
          "Nucleocapsid",
          "Nucleocapsid",
          "Nucleocapsid",
          "Nucleocapsid",
          "Nucleocapsid",
          "Nucleocapsid",
          "Nucleocapsid",
          "Nucleocapsid",
          "Nucleocapsid",
          "Nucleocapsid",
          "Nucleocapsid",
          "Nucleocapsid",
          "Nucleocapsid",
          "Nucleocapsid",
          "Nucleocapsid",
          "Nucleocapsid",
          "Nucleocapsid",
          "Nucleocapsid",
          "Nucleocapsid",
          "Nucleocapsid",
          "Nucleocapsid",
          "Nucleocapsid",
          "Nucleocapsid",
          "Nucleocapsid",
          "Nucleocapsid",
          "Nucleocapsid",
          "Nucleocapsid",
          "Nucleocapsid",
          "Nucleocapsid",
          "Nucleocapsid",
          "Nucleocapsid",
          "Nucleocapsid",
          "Nucleocapsid",
          "Nucleocapsid",
          "Nucleocapsid",
          "Nucleocapsid",
          "Nucleocapsid",
          "Nucleocapsid",
          "Nucleocapsid",
          "Nucleocapsid",
          "Nucleocapsid",
          "Nucleocapsid",
          "Nucleocapsid",
          "Nucleocapsid",
          "Nucleocapsid",
          "Nucleocapsid",
          "Nucleocapsid",
          "Nucleocapsid",
          "Nucleocapsid",
          "Nucleocapsid",
          "Nucleocapsid",
          "Nucleocapsid",
          "Nucleocapsid",
          "Nucleocapsid",
          "Nucleocapsid",
          "Nucleocapsid",
          "Nucleocapsid",
          "Nucleocapsid",
          "Nucleocapsid",
          "Nucleocapsid",
          "Nucleocapsid",
          "Nucleocapsid",
          "Nucleocapsid",
          "Nucleocapsid",
          "Nucleocapsid",
          "Nucleocapsid",
          "Nucleocapsid",
          "Nucleocapsid",
          "Nucleocapsid",
          "Nucleocapsid",
          "Nucleocapsid",
          "Nucleocapsid",
          "Nucleocapsid",
          "Nucleocapsid",
          "Nucleocapsid",
          "Nucleocapsid",
          "Nucleocapsid",
          "Nucleocapsid",
          "Nucleocapsid",
          "Nucleocapsid",
          "Nucleocapsid",
          "Nucleocapsid",
          "Nucleocapsid",
          "Nucleocapsid",
          "Nucleocapsid",
          "Nucleocapsid",
          "Nucleocapsid",
          "Nucleocapsid",
          "Nucleocapsid",
          "Nucleocapsid",
          "Nucleocapsid",
          "Nucleocapsid",
          "Nucleocapsid",
          "Nucleocapsid",
          "Nucleocapsid",
          "Nucleocapsid",
          "Nucleocapsid",
          "Nucleocapsid",
          "Nucleocapsid",
          "Nucleocapsid",
          "Nucleocapsid",
          "Nucleocapsid",
          "Nucleocapsid",
          "Nucleocapsid",
          "Nucleocapsid",
          "Nucleocapsid",
          "Nucleocapsid",
          "Nucleocapsid",
          "Nucleocapsid",
          "Nucleocapsid",
          "Nucleocapsid",
          "Nucleocapsid",
          "Nucleocapsid",
          "Nucleocapsid",
          "Nucleocapsid",
          "Nucleocapsid",
          "Nucleocapsid",
          "Nucleocapsid",
          "Nucleocapsid",
          "Nucleocapsid",
          "Nucleocapsid",
          "Nucleocapsid",
          "Nucleocapsid",
          "Nucleocapsid",
          "Nucleocapsid",
          "Nucleocapsid",
          "Nucleocapsid",
          "Nucleocapsid",
          "Nucleocapsid",
          "Nucleocapsid",
          "Nucleocapsid",
          "Nucleocapsid",
          "Nucleocapsid",
          "Nucleocapsid",
          "Nucleocapsid",
          "Nucleocapsid",
          "Nucleocapsid",
          "Nucleocapsid",
          "Nucleocapsid",
          "Nucleocapsid",
          "Nucleocapsid",
          "Nucleocapsid",
          "Nucleocapsid",
          "Nucleocapsid",
          "Nucleocapsid",
          "Nucleocapsid",
          "Nucleocapsid",
          "Nucleocapsid",
          "Nucleocapsid",
          "Nucleocapsid",
          "Nucleocapsid",
          "Nucleocapsid",
          "Nucleocapsid",
          "Nucleocapsid",
          "Nucleocapsid",
          "Nucleocapsid",
          "Nucleocapsid",
          "Nucleocapsid",
          "Nucleocapsid",
          "Nucleocapsid",
          "Nucleocapsid",
          "Nucleocapsid",
          "Nucleocapsid",
          "Nucleocapsid",
          "Nucleocapsid",
          "Nucleocapsid",
          "Nucleocapsid",
          "Nucleocapsid",
          "Nucleocapsid",
          "Nucleocapsid",
          "Nucleocapsid",
          "Nucleocapsid",
          "Nucleocapsid",
          "Nucleocapsid",
          "Nucleocapsid",
          "Nucleocapsid",
          "Nucleocapsid",
          "Nucleocapsid",
          "Nucleocapsid",
          "Nucleocapsid",
          "Nucleocapsid",
          "Nucleocapsid",
          "Nucleocapsid",
          "Nucleocapsid",
          "Nucleocapsid",
          "Nucleocapsid",
          "Nucleocapsid",
          "Nucleocapsid",
          "Nucleocapsid",
          "Nucleocapsid",
          "Nucleocapsid",
          "Nucleocapsid",
          "Nucleocapsid",
          "Nucleocapsid",
          "Nucleocapsid",
          "Nucleocapsid",
          "Nucleocapsid",
          "Nucleocapsid",
          "Nucleocapsid",
          "Nucleocapsid",
          "Nucleocapsid",
          "Nucleocapsid",
          "Nucleocapsid",
          "Nucleocapsid",
          "Nucleocapsid",
          "Nucleocapsid",
          "Nucleocapsid",
          "Nucleocapsid",
          "Nucleocapsid",
          "Nucleocapsid",
          "Nucleocapsid",
          "Nucleocapsid",
          "Nucleocapsid",
          "Nucleocapsid",
          "Nucleocapsid",
          "Nucleocapsid",
          "Nucleocapsid",
          "Nucleocapsid",
          "Nucleocapsid",
          "Nucleocapsid",
          "Nucleocapsid",
          "Nucleocapsid",
          "Nucleocapsid",
          "Nucleocapsid",
          "Nucleocapsid",
          "Nucleocapsid",
          "Nucleocapsid",
          "Nucleocapsid",
          "Nucleocapsid",
          "Nucleocapsid",
          "Nucleocapsid",
          "Nucleocapsid",
          "Nucleocapsid",
          "Nucleocapsid",
          "Nucleocapsid",
          "Nucleocapsid",
          "Nucleocapsid",
          "Nucleocapsid",
          "Nucleocapsid",
          "Nucleocapsid",
          "Nucleocapsid",
          "Nucleocapsid",
          "Nucleocapsid",
          "Nucleocapsid",
          "Nucleocapsid",
          "Nucleocapsid",
          "Nucleocapsid",
          "Nucleocapsid",
          "Nucleocapsid",
          "Nucleocapsid",
          "Nucleocapsid",
          "Nucleocapsid",
          "Nucleocapsid",
          "Nucleocapsid",
          "Nucleocapsid",
          "Nucleocapsid",
          "Nucleocapsid",
          "Nucleocapsid",
          "Nucleocapsid",
          "Nucleocapsid",
          "Nucleocapsid",
          "Nucleocapsid",
          "Nucleocapsid",
          "Nucleocapsid",
          "Nucleocapsid",
          "Nucleocapsid",
          "Nucleocapsid",
          "Nucleocapsid",
          "Nucleocapsid",
          "Nucleocapsid",
          "Nucleocapsid",
          "Nucleocapsid",
          "Nucleocapsid",
          "Nucleocapsid",
          "Nucleocapsid",
          "Nucleocapsid",
          "Nucleocapsid",
          "Nucleocapsid",
          "Nucleocapsid",
          "Nucleocapsid",
          "Nucleocapsid",
          "Nucleocapsid",
          "Nucleocapsid",
          "Nucleocapsid",
          "Nucleocapsid",
          "Nucleocapsid",
          "Nucleocapsid",
          "Nucleocapsid",
          "Nucleocapsid",
          "Nucleocapsid",
          "Nucleocapsid",
          "Nucleocapsid",
          "Nucleocapsid",
          "Nucleocapsid",
          "Nucleocapsid",
          "Nucleocapsid",
          "Nucleocapsid",
          "Nucleocapsid",
          "Nucleocapsid",
          "Nucleocapsid",
          "Nucleocapsid",
          "Nucleocapsid",
          "Nucleocapsid",
          "Nucleocapsid",
          "Nucleocapsid",
          "Nucleocapsid",
          "Nucleocapsid",
          "Nucleocapsid",
          "Nucleocapsid",
          "Nucleocapsid",
          "Nucleocapsid",
          "Nucleocapsid",
          "Nucleocapsid",
          "Nucleocapsid",
          "Nucleocapsid",
          "Nucleocapsid",
          "Nucleocapsid",
          "Nucleocapsid",
          "Nucleocapsid",
          "Nucleocapsid",
          "Nucleocapsid",
          "Nucleocapsid",
          "Nucleocapsid",
          "Nucleocapsid",
          "Nucleocapsid",
          "Nucleocapsid",
          "Nucleocapsid",
          "Nucleocapsid",
          "Nucleocapsid",
          "Nucleocapsid",
          "Nucleocapsid",
          "Nucleocapsid",
          "Nucleocapsid",
          "Nucleocapsid",
          "Nucleocapsid",
          "Nucleocapsid",
          "Nucleocapsid",
          "Nucleocapsid",
          "Nucleocapsid",
          "Nucleocapsid",
          "Nucleocapsid",
          "Nucleocapsid",
          "Nucleocapsid",
          "Nucleocapsid",
          "Nucleocapsid",
          "Nucleocapsid",
          "Nucleocapsid",
          "Nucleocapsid",
          "Nucleocapsid",
          "Nucleocapsid",
          "Nucleocapsid",
          "Nucleocapsid",
          "Nucleocapsid",
          "Nucleocapsid",
          "Nucleocapsid",
          "Nucleocapsid",
          "Nucleocapsid",
          "Nucleocapsid",
          "Nucleocapsid",
          "Nucleocapsid",
          "Nucleocapsid",
          "Nucleocapsid",
          "Nucleocapsid",
          "Nucleocapsid",
          "Nucleocapsid",
          "Nucleocapsid",
          "Nucleocapsid",
          "Nucleocapsid",
          "Nucleocapsid",
          "Nucleocapsid",
          "Nucleocapsid",
          "Nucleocapsid",
          "Nucleocapsid",
          "Nucleocapsid",
          "Nucleocapsid",
          "Nucleocapsid",
          "Nucleocapsid",
          "Nucleocapsid",
          "Nucleocapsid",
          "Nucleocapsid",
          "Nucleocapsid",
          "Nucleocapsid",
          "Nucleocapsid",
          "Nucleocapsid",
          "Nucleocapsid",
          "Nucleocapsid",
          "Nucleocapsid",
          "Nucleocapsid",
          "Nucleocapsid",
          "Nucleocapsid",
          "Nucleocapsid",
          "Nucleocapsid",
          "Nucleocapsid",
          "Nucleocapsid",
          "Nucleocapsid",
          "Nucleocapsid",
          "Nucleocapsid",
          "Nucleocapsid",
          "Nucleocapsid",
          "Nucleocapsid",
          "Nucleocapsid",
          "Nucleocapsid",
          "Nucleocapsid",
          "Nucleocapsid",
          "Nucleocapsid",
          "Nucleocapsid",
          "Nucleocapsid",
          "Nucleocapsid",
          "Nucleocapsid",
          "Nucleocapsid",
          "Nucleocapsid",
          "Nucleocapsid",
          "Nucleocapsid",
          "Nucleocapsid",
          "Nucleocapsid",
          "Nucleocapsid",
          "Nucleocapsid",
          "Nucleocapsid",
          "Nucleocapsid",
          "Nucleocapsid",
          "Nucleocapsid",
          "Nucleocapsid",
          "Nucleocapsid",
          "Nucleocapsid",
          "Nucleocapsid",
          "Nucleocapsid",
          "Nucleocapsid",
          "Nucleocapsid",
          "Nucleocapsid",
          "Nucleocapsid",
          "Nucleocapsid",
          "Nucleocapsid",
          "Nucleocapsid",
          "Nucleocapsid",
          "Nucleocapsid",
          "Nucleocapsid",
          "Nucleocapsid",
          "Nucleocapsid",
          "Nucleocapsid",
          "Nucleocapsid",
          "Nucleocapsid",
          "Nucleocapsid",
          "Nucleocapsid",
          "Nucleocapsid",
          "Nucleocapsid",
          "Nucleocapsid",
          "Nucleocapsid",
          "Nucleocapsid",
          "Nucleocapsid",
          "Nucleocapsid",
          "Nucleocapsid",
          "Nucleocapsid",
          "Nucleocapsid",
          "Nucleocapsid",
          "Nucleocapsid",
          "Nucleocapsid",
          "Nucleocapsid",
          "Nucleocapsid",
          "Nucleocapsid",
          "Nucleocapsid",
          "Nucleocapsid",
          "Nucleocapsid",
          "Nucleocapsid",
          "Nucleocapsid",
          "Nucleocapsid",
          "Nucleocapsid",
          "Nucleocapsid",
          "Nucleocapsid",
          "Nucleocapsid",
          "Nucleocapsid",
          "Nucleocapsid",
          "Nucleocapsid",
          "Nucleocapsid",
          "Nucleocapsid",
          "Nucleocapsid",
          "Nucleocapsid",
          "Nucleocapsid",
          "Nucleocapsid",
          "Nucleocapsid",
          "Nucleocapsid",
          "Nucleocapsid",
          "Nucleocapsid",
          "Nucleocapsid",
          "Nucleocapsid",
          "Nucleocapsid",
          "Nucleocapsid",
          "Nucleocapsid",
          "Nucleocapsid",
          "Nucleocapsid",
          "Nucleocapsid",
          "Nucleocapsid",
          "Nucleocapsid",
          "Nucleocapsid",
          "Nucleocapsid",
          "Nucleocapsid",
          "Nucleocapsid",
          "Nucleocapsid",
          "Nucleocapsid",
          "Nucleocapsid",
          "Nucleocapsid",
          "Nucleocapsid",
          "Nucleocapsid",
          "Nucleocapsid",
          "Nucleocapsid",
          "Nucleocapsid",
          "Nucleocapsid",
          "Nucleocapsid",
          "Nucleocapsid",
          "Nucleocapsid",
          "Nucleocapsid",
          "Nucleocapsid",
          "Nucleocapsid",
          "Nucleocapsid",
          "Nucleocapsid",
          "Nucleocapsid",
          "Nucleocapsid",
          "Nucleocapsid",
          "Nucleocapsid",
          "Nucleocapsid",
          "Nucleocapsid",
          "Nucleocapsid",
          "Nucleocapsid",
          "Nucleocapsid",
          "Nucleocapsid",
          "Nucleocapsid",
          "Nucleocapsid",
          "Nucleocapsid",
          "Nucleocapsid",
          "Nucleocapsid",
          "Nucleocapsid",
          "Nucleocapsid",
          "Nucleocapsid",
          "Nucleocapsid",
          "Nucleocapsid",
          "Nucleocapsid",
          "Nucleocapsid",
          "Nucleocapsid",
          "Nucleocapsid",
          "Nucleocapsid",
          "Nucleocapsid",
          "Nucleocapsid",
          "Nucleocapsid",
          "Nucleocapsid",
          "Nucleocapsid",
          "Nucleocapsid",
          "Nucleocapsid",
          "Nucleocapsid",
          "Nucleocapsid",
          "Nucleocapsid",
          "Nucleocapsid",
          "Nucleocapsid",
          "Nucleocapsid",
          "Nucleocapsid",
          "Nucleocapsid",
          "Nucleocapsid",
          "Nucleocapsid",
          "Nucleocapsid",
          "Nucleocapsid",
          "Nucleocapsid",
          "Nucleocapsid",
          "Nucleocapsid",
          "Nucleocapsid",
          "Nucleocapsid",
          "Nucleocapsid",
          "Nucleocapsid",
          "Nucleocapsid",
          "Nucleocapsid",
          "Nucleocapsid",
          "Nucleocapsid",
          "Nucleocapsid",
          "Nucleocapsid",
          "Nucleocapsid",
          "Nucleocapsid",
          "Nucleocapsid",
          "Nucleocapsid",
          "Nucleocapsid",
          "Nucleocapsid",
          "Nucleocapsid",
          "Nucleocapsid",
          "Nucleocapsid",
          "Nucleocapsid",
          "Nucleocapsid",
          "Nucleocapsid",
          "Nucleocapsid",
          "Nucleocapsid",
          "Nucleocapsid",
          "Nucleocapsid",
          "Nucleocapsid",
          "Nucleocapsid",
          "Nucleocapsid",
          "Nucleocapsid",
          "Nucleocapsid",
          "Nucleocapsid",
          "Nucleocapsid",
          "Nucleocapsid",
          "Nucleocapsid",
          "Nucleocapsid",
          "Nucleocapsid",
          "Nucleocapsid",
          "Nucleocapsid",
          "Nucleocapsid",
          "Nucleocapsid",
          "Nucleocapsid",
          "Nucleocapsid",
          "Nucleocapsid",
          "Nucleocapsid",
          "Nucleocapsid",
          "Nucleocapsid",
          "Nucleocapsid",
          "Nucleocapsid",
          "Nucleocapsid",
          "Nucleocapsid",
          "Nucleocapsid",
          "Nucleocapsid",
          "Nucleocapsid",
          "Nucleocapsid",
          "Nucleocapsid",
          "Nucleocapsid",
          "Nucleocapsid",
          "Nucleocapsid",
          "Nucleocapsid",
          "Nucleocapsid",
          "Nucleocapsid",
          "Nucleocapsid",
          "Nucleocapsid",
          "Nucleocapsid",
          "Nucleocapsid",
          "Nucleocapsid",
          "Nucleocapsid",
          "Nucleocapsid",
          "Nucleocapsid",
          "Nucleocapsid",
          "Nucleocapsid",
          "Nucleocapsid",
          "Nucleocapsid",
          "Nucleocapsid",
          "Nucleocapsid",
          "Nucleocapsid",
          "Nucleocapsid",
          "Nucleocapsid",
          "Nucleocapsid",
          "Nucleocapsid",
          "Nucleocapsid",
          "Nucleocapsid",
          "Nucleocapsid",
          "Nucleocapsid",
          "Nucleocapsid",
          "Nucleocapsid",
          "Nucleocapsid",
          "Nucleocapsid",
          "Nucleocapsid",
          "Nucleocapsid",
          "Nucleocapsid",
          "Nucleocapsid",
          "Nucleocapsid",
          "Nucleocapsid",
          "Nucleocapsid",
          "Nucleocapsid",
          "Nucleocapsid",
          "Nucleocapsid",
          "Nucleocapsid",
          "Nucleocapsid",
          "Nucleocapsid",
          "Nucleocapsid",
          "Nucleocapsid",
          "Nucleocapsid",
          "Nucleocapsid",
          "Nucleocapsid",
          "Nucleocapsid",
          "Nucleocapsid",
          "Nucleocapsid",
          "Nucleocapsid",
          "Nucleocapsid",
          "Nucleocapsid",
          "Nucleocapsid",
          "Nucleocapsid",
          "Nucleocapsid",
          "Nucleocapsid",
          "Nucleocapsid",
          "Nucleocapsid",
          "Nucleocapsid",
          "Nucleocapsid",
          "Nucleocapsid",
          "Nucleocapsid",
          "Nucleocapsid",
          "Nucleocapsid",
          "Nucleocapsid",
          "Nucleocapsid",
          "Nucleocapsid",
          "Nucleocapsid",
          "Nucleocapsid",
          "Nucleocapsid",
          "Nucleocapsid",
          "Nucleocapsid",
          "Nucleocapsid",
          "Nucleocapsid",
          "Nucleocapsid",
          "Nucleocapsid",
          "Nucleocapsid",
          "Nucleocapsid",
          "Nucleocapsid",
          "Nucleocapsid",
          "Nucleocapsid",
          "Nucleocapsid",
          "Nucleocapsid",
          "Nucleocapsid",
          "Nucleocapsid",
          "Nucleocapsid",
          "Nucleocapsid",
          "Nucleocapsid",
          "Nucleocapsid",
          "Nucleocapsid",
          "Nucleocapsid",
          "Nucleocapsid",
          "Nucleocapsid",
          "Nucleocapsid",
          "Nucleocapsid",
          "Nucleocapsid",
          "Nucleocapsid",
          "Nucleocapsid",
          "Nucleocapsid",
          "Nucleocapsid",
          "Nucleocapsid",
          "Nucleocapsid",
          "Nucleocapsid",
          "Nucleocapsid",
          "Nucleocapsid",
          "Nucleocapsid",
          "Nucleocapsid",
          "Nucleocapsid",
          "Nucleocapsid",
          "Nucleocapsid",
          "Nucleocapsid",
          "Nucleocapsid",
          "Nucleocapsid",
          "Nucleocapsid",
          "Nucleocapsid",
          "Nucleocapsid",
          "Nucleocapsid",
          "Nucleocapsid",
          "Nucleocapsid",
          "Nucleocapsid",
          "Nucleocapsid",
          "Nucleocapsid",
          "Nucleocapsid",
          "Nucleocapsid",
          "Nucleocapsid",
          "Nucleocapsid",
          "Nucleocapsid",
          "Nucleocapsid",
          "Nucleocapsid",
          "Nucleocapsid",
          "Nucleocapsid",
          "Nucleocapsid",
          "Nucleocapsid",
          "Nucleocapsid",
          "Nucleocapsid",
          "Nucleocapsid",
          "Nucleocapsid",
          "Nucleocapsid",
          "Nucleocapsid",
          "Nucleocapsid",
          "Nucleocapsid",
          "Nucleocapsid",
          "Nucleocapsid",
          "Nucleocapsid",
          "Nucleocapsid",
          "Nucleocapsid",
          "Nucleocapsid",
          "Nucleocapsid",
          "Nucleocapsid",
          "Nucleocapsid",
          "Nucleocapsid",
          "Nucleocapsid",
          "Nucleocapsid",
          "Nucleocapsid",
          "Nucleocapsid",
          "Nucleocapsid",
          "Nucleocapsid",
          "Nucleocapsid",
          "Nucleocapsid",
          "Nucleocapsid",
          "Nucleocapsid",
          "Nucleocapsid",
          "Nucleocapsid",
          "Nucleocapsid",
          "Nucleocapsid",
          "Nucleocapsid",
          "Nucleocapsid",
          "Nucleocapsid",
          "Nucleocapsid",
          "Nucleocapsid",
          "Nucleocapsid",
          "Nucleocapsid",
          "Nucleocapsid",
          "Nucleocapsid",
          "Nucleocapsid",
          "Nucleocapsid",
          "Nucleocapsid",
          "Nucleocapsid",
          "Nucleocapsid",
          "Nucleocapsid",
          "Nucleocapsid",
          "Nucleocapsid",
          "Nucleocapsid",
          "Nucleocapsid",
          "Nucleocapsid",
          "Nucleocapsid",
          "Nucleocapsid",
          "Nucleocapsid",
          "Nucleocapsid",
          "Nucleocapsid",
          "Nucleocapsid",
          "Nucleocapsid",
          "Nucleocapsid",
          "Nucleocapsid",
          "Nucleocapsid",
          "Nucleocapsid",
          "Nucleocapsid",
          "Nucleocapsid",
          "Nucleocapsid",
          "Nucleocapsid",
          "Nucleocapsid",
          "Nucleocapsid",
          "Nucleocapsid",
          "Nucleocapsid",
          "Nucleocapsid",
          "Nucleocapsid",
          "Nucleocapsid",
          "Nucleocapsid",
          "Nucleocapsid",
          "Nucleocapsid",
          "Nucleocapsid",
          "Nucleocapsid",
          "Nucleocapsid",
          "Nucleocapsid",
          "Nucleocapsid",
          "Nucleocapsid",
          "Nucleocapsid",
          "Nucleocapsid",
          "Nucleocapsid",
          "Nucleocapsid",
          "Nucleocapsid",
          "Nucleocapsid",
          "Nucleocapsid",
          "Nucleocapsid",
          "Nucleocapsid",
          "Nucleocapsid",
          "Nucleocapsid",
          "Nucleocapsid",
          "Nucleocapsid",
          "Nucleocapsid",
          "Nucleocapsid",
          "Nucleocapsid",
          "Nucleocapsid",
          "Nucleocapsid",
          "Nucleocapsid",
          "Nucleocapsid",
          "Nucleocapsid",
          "Nucleocapsid",
          "Nucleocapsid",
          "Nucleocapsid",
          "Nucleocapsid",
          "Nucleocapsid",
          "Nucleocapsid",
          "Nucleocapsid",
          "Nucleocapsid",
          "Nucleocapsid",
          "Nucleocapsid",
          "Nucleocapsid",
          "Nucleocapsid",
          "Nucleocapsid",
          "Nucleocapsid",
          "Nucleocapsid",
          "Nucleocapsid",
          "Nucleocapsid",
          "Nucleocapsid",
          "Nucleocapsid",
          "Nucleocapsid",
          "Nucleocapsid",
          "Nucleocapsid",
          "Nucleocapsid",
          "Nucleocapsid",
          "Nucleocapsid",
          "Nucleocapsid",
          "Nucleocapsid",
          "Nucleocapsid",
          "Nucleocapsid",
          "Nucleocapsid",
          "Nucleocapsid",
          "Nucleocapsid",
          "Nucleocapsid",
          "Nucleocapsid",
          "Nucleocapsid",
          "Nucleocapsid",
          "Nucleocapsid",
          "Nucleocapsid",
          "Nucleocapsid",
          "Nucleocapsid",
          "Nucleocapsid",
          "Nucleocapsid",
          "Nucleocapsid",
          "Nucleocapsid",
          "Nucleocapsid",
          "Nucleocapsid",
          "Nucleocapsid",
          "Nucleocapsid",
          "Nucleocapsid",
          "Nucleocapsid",
          "Nucleocapsid",
          "Nucleocapsid",
          "Nucleocapsid",
          "Nucleocapsid",
          "Nucleocapsid",
          "Nucleocapsid",
          "Nucleocapsid",
          "Nucleocapsid",
          "Nucleocapsid",
          "Nucleocapsid",
          "Nucleocapsid",
          "Nucleocapsid",
          "Nucleocapsid",
          "Nucleocapsid",
          "Nucleocapsid",
          "Nucleocapsid",
          "Nucleocapsid",
          "Nucleocapsid",
          "Nucleocapsid",
          "Nucleocapsid",
          "Nucleocapsid",
          "Nucleocapsid",
          "Nucleocapsid",
          "Nucleocapsid",
          "Nucleocapsid",
          "Nucleocapsid",
          "Nucleocapsid",
          "Nucleocapsid",
          "Nucleocapsid",
          "Nucleocapsid",
          "Nucleocapsid",
          "Nucleocapsid",
          "Nucleocapsid",
          "Nucleocapsid",
          "Nucleocapsid",
          "Nucleocapsid",
          "Nucleocapsid",
          "Nucleocapsid",
          "Nucleocapsid",
          "Nucleocapsid",
          "Nucleocapsid",
          "Nucleocapsid",
          "Nucleocapsid",
          "Nucleocapsid",
          "Nucleocapsid",
          "Nucleocapsid",
          "Nucleocapsid",
          "Nucleocapsid",
          "Nucleocapsid",
          "Nucleocapsid",
          "Nucleocapsid",
          "Nucleocapsid",
          "Nucleocapsid",
          "Nucleocapsid",
          "Nucleocapsid",
          "Nucleocapsid",
          "Nucleocapsid",
          "Nucleocapsid",
          "Nucleocapsid",
          "Nucleocapsid",
          "Nucleocapsid",
          "Nucleocapsid",
          "Nucleocapsid",
          "Nucleocapsid",
          "Nucleocapsid",
          "Nucleocapsid",
          "Nucleocapsid",
          "Nucleocapsid",
          "Nucleocapsid",
          "Nucleocapsid",
          "Nucleocapsid",
          "Nucleocapsid",
          "Nucleocapsid",
          "Nucleocapsid",
          "Nucleocapsid",
          "Nucleocapsid",
          "Nucleocapsid",
          "Nucleocapsid",
          "Nucleocapsid",
          "Nucleocapsid",
          "Nucleocapsid",
          "Nucleocapsid"
         ],
         "x0": " ",
         "xaxis": "x",
         "y": {
          "bdata": "AAAaGhoaGhoaGhoaGhoaGhoaGhoaGhkaGhoaGhoaGhoaJSUlJSUlJSUlJSUlJSQlJSUlJSUlJSUlJSUlJSUlJSUlJSUlJSUlJSUlJSUkJSUlJSUlJSUlJSUlJSUlJSUlJSUlJSUlJSUlJSUlJSUlJSUkJSUlJSUlJSUlJSUlJSUlJSUlJSUlJSUlJSUlJSUlJSUlJSUlJSUlJSUlJSUlJSUlJSUlJSUlJSUlJSUlJSUlJSUlJSUlJSUlJSUlJSUlJSUlJCUlJSUlJSUlJSUlJSUlJSUlJCUlJSUlJSUlJSUlJSUlJSUlJSUlJSUlJSUlJSUlJSUlJSUlJSUlJSUlJCUlJSUlJSUlJSUlJSUlJSUlJSUlJSUlJSUlJSUlJSUlJSUlJSUlJSUlJSUlJSUlJSUlJSUlJCUlJSUlJSUlJSUlJSUlJSUlJSUlJSUkGhoaGhoaGhoaJSUlJSUlJSUlJSUlJSUlJSUlJSUlJSUlJSUlJSUlJSUlJSUlJSUlJSUlJSUlJSUlJSUlJSUlJSUlJSUkJSUlJSUlJSUlJSUlJCUlJSUlJSUlJSUlJSUlJCUlJCQlJSQlJSUlJSUlJSUlJSUlJSUlJCUkJSUlJCUlJSUlJSUlJSUlJSQlJSUlJSUlJSUlJSUlJSUlJSUlJSUlJCUkJSUlJSUkJSUlJSUlJSUlJSUlJSUlJCUlJSUlJSUlJSUlJSUlJSUlJSUlJSUlJCUlJSUlJSUlJSUlJSUlJSUlJSUlJSUlJSUlJSUlJSUlJSUlJSUlJSUlJSUlJSUlJSUlJSUlJSUlJSUlJSUlJSUlJSUlJSUkJSUlJSUlJSUlJSUlJSUlJSUlJCQlJSUlJSUlJSUlJSUlJSUkJSUlJSUlJSUlJCUlJSUlJSUlJSUlJSUlJSUlJSUlJSUlJSUlJSUlJSUlJSUlJSUlJSUlJSUlJSUlJSUlJSUlJSUlJSUlJSUlJSUlJSUlJSUlJSUlJSUlJSUlJSUlJSUlJSUlJSUlJSUlJSUlJSUlJSUlJSUlJSUlJSUlJSUlJSUlJSUlJSUlJSUlJSUkJSQlJSUlJSUlJSUlJSUlJSUlJSUlJSUlJSUlJSUlJSUlJSUlJSUlJSUlJSUlJSUlJSUlJSUlJSUlJSUlJCUlJSUlJSUlJSUlJSUlJSUlJSUlJSUlJSUlJSUlJSUlJSUlJSUlJSUlJSUlJSQlJSUlJSUlJSUlJSUlJSUlJSUlJSUlJSUlJSUlJSUlJSUlJSUlJSUlJSUlJSUlJSUlJSUlJSUlJCUlJSUlJSUlJSUlJSUlJSUlJSUlJSUlJSUlJSUlJSUlJSUlJSUlJSUlJSUlJSUlJSUlJSUlJSUlJSUkJSUlJSUlJSUlJSUlJSUlJSUlJSUlJSUlJSUlJSUlJCUlJSUlJSUlJSUlJSUlJSUlJSUlJSUlJSUlJSUlJSUlJSUlJCUlJSUlJSUlJSUlJSUlJSUlJSUlJSUlJSUlJSUlJSUlJSUlJSUlJSUlJSUlJSUlJSUlJSUlJSUlJSUlJSUlJSUlJSUlJSUlJSUlJSUlJSUlJSQlJSUlJSUlJSUlJSUlJSUlJSQlJSUlJSUlJSUlJSUlJSUlJSUlJSUlJSUlJSUlJSUlJSUlJSUlJSUlJSQlJSUlJSUlJSUlJSUlJSUlJSUlJSUlJSUlJSUlJSUlJSUlJSUlJSUlJSUlJSUlJSUlJSUlJSQlJSUlJSUlJSUlJSUlJSUlJSUlJSUlJA==",
          "dtype": "i1"
         },
         "y0": " ",
         "yaxis": "y"
        },
        {
         "alignmentgroup": "True",
         "box": {
          "visible": true
         },
         "hovertemplate": "Label=%{x}<br>A=%{y}<extra></extra>",
         "legendgroup": "Spike",
         "marker": {
          "color": "rgb(220, 176, 242)"
         },
         "name": "Spike",
         "offsetgroup": "Spike",
         "orientation": "v",
         "points": "all",
         "scalegroup": "True",
         "showlegend": true,
         "type": "violin",
         "x": [
          "Spike",
          "Spike",
          "Spike",
          "Spike",
          "Spike",
          "Spike",
          "Spike",
          "Spike",
          "Spike",
          "Spike",
          "Spike",
          "Spike",
          "Spike",
          "Spike",
          "Spike",
          "Spike",
          "Spike",
          "Spike",
          "Spike",
          "Spike",
          "Spike",
          "Spike",
          "Spike",
          "Spike",
          "Spike",
          "Spike",
          "Spike",
          "Spike",
          "Spike",
          "Spike",
          "Spike",
          "Spike",
          "Spike",
          "Spike",
          "Spike",
          "Spike",
          "Spike",
          "Spike",
          "Spike",
          "Spike",
          "Spike",
          "Spike",
          "Spike",
          "Spike",
          "Spike",
          "Spike",
          "Spike",
          "Spike",
          "Spike",
          "Spike",
          "Spike",
          "Spike",
          "Spike",
          "Spike",
          "Spike",
          "Spike",
          "Spike",
          "Spike",
          "Spike",
          "Spike",
          "Spike",
          "Spike",
          "Spike",
          "Spike",
          "Spike",
          "Spike",
          "Spike",
          "Spike",
          "Spike",
          "Spike",
          "Spike",
          "Spike",
          "Spike",
          "Spike",
          "Spike",
          "Spike",
          "Spike",
          "Spike",
          "Spike",
          "Spike",
          "Spike",
          "Spike",
          "Spike",
          "Spike",
          "Spike",
          "Spike",
          "Spike",
          "Spike",
          "Spike",
          "Spike",
          "Spike",
          "Spike",
          "Spike",
          "Spike",
          "Spike",
          "Spike",
          "Spike",
          "Spike",
          "Spike",
          "Spike",
          "Spike",
          "Spike",
          "Spike",
          "Spike",
          "Spike",
          "Spike",
          "Spike",
          "Spike",
          "Spike",
          "Spike",
          "Spike",
          "Spike",
          "Spike",
          "Spike",
          "Spike",
          "Spike",
          "Spike",
          "Spike",
          "Spike",
          "Spike",
          "Spike",
          "Spike",
          "Spike",
          "Spike",
          "Spike",
          "Spike",
          "Spike",
          "Spike",
          "Spike",
          "Spike",
          "Spike",
          "Spike",
          "Spike",
          "Spike",
          "Spike",
          "Spike",
          "Spike",
          "Spike",
          "Spike",
          "Spike",
          "Spike",
          "Spike",
          "Spike",
          "Spike",
          "Spike",
          "Spike",
          "Spike",
          "Spike",
          "Spike",
          "Spike",
          "Spike",
          "Spike",
          "Spike",
          "Spike",
          "Spike",
          "Spike",
          "Spike",
          "Spike",
          "Spike",
          "Spike",
          "Spike",
          "Spike",
          "Spike",
          "Spike",
          "Spike",
          "Spike",
          "Spike",
          "Spike",
          "Spike",
          "Spike",
          "Spike",
          "Spike",
          "Spike",
          "Spike",
          "Spike",
          "Spike",
          "Spike",
          "Spike",
          "Spike",
          "Spike",
          "Spike",
          "Spike",
          "Spike",
          "Spike",
          "Spike",
          "Spike",
          "Spike",
          "Spike",
          "Spike",
          "Spike",
          "Spike",
          "Spike",
          "Spike",
          "Spike",
          "Spike",
          "Spike",
          "Spike",
          "Spike",
          "Spike",
          "Spike",
          "Spike",
          "Spike",
          "Spike",
          "Spike",
          "Spike",
          "Spike",
          "Spike",
          "Spike",
          "Spike",
          "Spike",
          "Spike",
          "Spike",
          "Spike",
          "Spike",
          "Spike",
          "Spike",
          "Spike",
          "Spike",
          "Spike",
          "Spike",
          "Spike",
          "Spike",
          "Spike",
          "Spike",
          "Spike",
          "Spike",
          "Spike",
          "Spike",
          "Spike",
          "Spike",
          "Spike",
          "Spike",
          "Spike",
          "Spike",
          "Spike",
          "Spike",
          "Spike",
          "Spike",
          "Spike",
          "Spike",
          "Spike",
          "Spike",
          "Spike",
          "Spike",
          "Spike",
          "Spike",
          "Spike",
          "Spike",
          "Spike",
          "Spike",
          "Spike",
          "Spike",
          "Spike",
          "Spike",
          "Spike",
          "Spike",
          "Spike",
          "Spike",
          "Spike",
          "Spike",
          "Spike",
          "Spike",
          "Spike",
          "Spike",
          "Spike",
          "Spike",
          "Spike",
          "Spike",
          "Spike",
          "Spike",
          "Spike",
          "Spike",
          "Spike",
          "Spike",
          "Spike",
          "Spike",
          "Spike",
          "Spike",
          "Spike",
          "Spike",
          "Spike",
          "Spike",
          "Spike",
          "Spike",
          "Spike",
          "Spike",
          "Spike",
          "Spike",
          "Spike",
          "Spike",
          "Spike",
          "Spike",
          "Spike",
          "Spike",
          "Spike",
          "Spike",
          "Spike",
          "Spike",
          "Spike",
          "Spike",
          "Spike",
          "Spike",
          "Spike",
          "Spike",
          "Spike",
          "Spike",
          "Spike",
          "Spike",
          "Spike",
          "Spike",
          "Spike",
          "Spike",
          "Spike",
          "Spike",
          "Spike",
          "Spike",
          "Spike",
          "Spike",
          "Spike",
          "Spike",
          "Spike",
          "Spike",
          "Spike",
          "Spike",
          "Spike",
          "Spike",
          "Spike",
          "Spike",
          "Spike",
          "Spike",
          "Spike",
          "Spike",
          "Spike",
          "Spike",
          "Spike",
          "Spike",
          "Spike",
          "Spike",
          "Spike",
          "Spike",
          "Spike",
          "Spike",
          "Spike",
          "Spike",
          "Spike",
          "Spike",
          "Spike",
          "Spike",
          "Spike",
          "Spike",
          "Spike",
          "Spike",
          "Spike",
          "Spike",
          "Spike",
          "Spike",
          "Spike",
          "Spike",
          "Spike",
          "Spike",
          "Spike",
          "Spike",
          "Spike",
          "Spike",
          "Spike",
          "Spike",
          "Spike",
          "Spike",
          "Spike",
          "Spike",
          "Spike",
          "Spike",
          "Spike",
          "Spike",
          "Spike",
          "Spike",
          "Spike",
          "Spike",
          "Spike",
          "Spike",
          "Spike",
          "Spike",
          "Spike",
          "Spike",
          "Spike",
          "Spike",
          "Spike",
          "Spike",
          "Spike",
          "Spike",
          "Spike",
          "Spike",
          "Spike",
          "Spike",
          "Spike",
          "Spike",
          "Spike",
          "Spike",
          "Spike",
          "Spike",
          "Spike",
          "Spike",
          "Spike",
          "Spike",
          "Spike",
          "Spike",
          "Spike",
          "Spike",
          "Spike",
          "Spike",
          "Spike",
          "Spike",
          "Spike",
          "Spike",
          "Spike",
          "Spike",
          "Spike",
          "Spike",
          "Spike",
          "Spike",
          "Spike",
          "Spike",
          "Spike",
          "Spike",
          "Spike",
          "Spike",
          "Spike",
          "Spike",
          "Spike",
          "Spike",
          "Spike",
          "Spike",
          "Spike",
          "Spike",
          "Spike",
          "Spike",
          "Spike",
          "Spike",
          "Spike",
          "Spike",
          "Spike",
          "Spike",
          "Spike",
          "Spike",
          "Spike",
          "Spike",
          "Spike",
          "Spike",
          "Spike",
          "Spike",
          "Spike",
          "Spike",
          "Spike",
          "Spike",
          "Spike",
          "Spike",
          "Spike",
          "Spike",
          "Spike",
          "Spike",
          "Spike",
          "Spike",
          "Spike",
          "Spike",
          "Spike",
          "Spike",
          "Spike",
          "Spike",
          "Spike",
          "Spike",
          "Spike",
          "Spike",
          "Spike",
          "Spike",
          "Spike",
          "Spike",
          "Spike",
          "Spike",
          "Spike",
          "Spike",
          "Spike",
          "Spike",
          "Spike",
          "Spike",
          "Spike",
          "Spike",
          "Spike",
          "Spike",
          "Spike",
          "Spike",
          "Spike",
          "Spike",
          "Spike",
          "Spike",
          "Spike",
          "Spike",
          "Spike",
          "Spike",
          "Spike",
          "Spike",
          "Spike",
          "Spike",
          "Spike",
          "Spike",
          "Spike",
          "Spike",
          "Spike",
          "Spike",
          "Spike",
          "Spike",
          "Spike",
          "Spike",
          "Spike",
          "Spike",
          "Spike",
          "Spike",
          "Spike",
          "Spike",
          "Spike",
          "Spike",
          "Spike",
          "Spike",
          "Spike",
          "Spike",
          "Spike",
          "Spike",
          "Spike",
          "Spike",
          "Spike",
          "Spike",
          "Spike",
          "Spike",
          "Spike",
          "Spike",
          "Spike",
          "Spike",
          "Spike",
          "Spike",
          "Spike",
          "Spike",
          "Spike",
          "Spike",
          "Spike",
          "Spike",
          "Spike",
          "Spike",
          "Spike",
          "Spike",
          "Spike",
          "Spike",
          "Spike",
          "Spike",
          "Spike",
          "Spike",
          "Spike",
          "Spike",
          "Spike",
          "Spike",
          "Spike",
          "Spike",
          "Spike",
          "Spike",
          "Spike",
          "Spike",
          "Spike",
          "Spike",
          "Spike",
          "Spike",
          "Spike",
          "Spike",
          "Spike",
          "Spike",
          "Spike",
          "Spike",
          "Spike",
          "Spike",
          "Spike",
          "Spike",
          "Spike",
          "Spike",
          "Spike",
          "Spike",
          "Spike",
          "Spike",
          "Spike",
          "Spike",
          "Spike",
          "Spike",
          "Spike",
          "Spike",
          "Spike",
          "Spike",
          "Spike",
          "Spike",
          "Spike",
          "Spike",
          "Spike",
          "Spike",
          "Spike",
          "Spike",
          "Spike",
          "Spike",
          "Spike",
          "Spike",
          "Spike",
          "Spike",
          "Spike",
          "Spike",
          "Spike",
          "Spike",
          "Spike",
          "Spike",
          "Spike",
          "Spike",
          "Spike",
          "Spike",
          "Spike",
          "Spike",
          "Spike",
          "Spike",
          "Spike",
          "Spike",
          "Spike",
          "Spike",
          "Spike",
          "Spike",
          "Spike",
          "Spike",
          "Spike",
          "Spike",
          "Spike",
          "Spike",
          "Spike",
          "Spike",
          "Spike",
          "Spike",
          "Spike",
          "Spike",
          "Spike",
          "Spike",
          "Spike",
          "Spike",
          "Spike",
          "Spike",
          "Spike",
          "Spike",
          "Spike",
          "Spike",
          "Spike",
          "Spike",
          "Spike",
          "Spike",
          "Spike",
          "Spike",
          "Spike",
          "Spike",
          "Spike",
          "Spike",
          "Spike",
          "Spike",
          "Spike",
          "Spike",
          "Spike",
          "Spike",
          "Spike",
          "Spike",
          "Spike",
          "Spike",
          "Spike",
          "Spike",
          "Spike",
          "Spike",
          "Spike",
          "Spike",
          "Spike",
          "Spike",
          "Spike",
          "Spike",
          "Spike",
          "Spike",
          "Spike",
          "Spike",
          "Spike",
          "Spike",
          "Spike",
          "Spike",
          "Spike",
          "Spike",
          "Spike",
          "Spike",
          "Spike",
          "Spike",
          "Spike",
          "Spike",
          "Spike",
          "Spike",
          "Spike",
          "Spike",
          "Spike",
          "Spike",
          "Spike",
          "Spike",
          "Spike",
          "Spike",
          "Spike",
          "Spike",
          "Spike",
          "Spike",
          "Spike",
          "Spike",
          "Spike",
          "Spike",
          "Spike",
          "Spike",
          "Spike",
          "Spike",
          "Spike",
          "Spike",
          "Spike",
          "Spike",
          "Spike",
          "Spike",
          "Spike",
          "Spike",
          "Spike",
          "Spike",
          "Spike",
          "Spike",
          "Spike",
          "Spike",
          "Spike",
          "Spike",
          "Spike",
          "Spike",
          "Spike",
          "Spike",
          "Spike",
          "Spike",
          "Spike",
          "Spike",
          "Spike",
          "Spike",
          "Spike",
          "Spike",
          "Spike",
          "Spike",
          "Spike",
          "Spike",
          "Spike",
          "Spike",
          "Spike",
          "Spike",
          "Spike",
          "Spike",
          "Spike",
          "Spike",
          "Spike",
          "Spike",
          "Spike",
          "Spike",
          "Spike",
          "Spike",
          "Spike",
          "Spike",
          "Spike",
          "Spike",
          "Spike",
          "Spike",
          "Spike",
          "Spike",
          "Spike",
          "Spike",
          "Spike",
          "Spike",
          "Spike",
          "Spike",
          "Spike",
          "Spike",
          "Spike",
          "Spike",
          "Spike",
          "Spike",
          "Spike",
          "Spike",
          "Spike",
          "Spike",
          "Spike",
          "Spike",
          "Spike",
          "Spike",
          "Spike",
          "Spike",
          "Spike",
          "Spike",
          "Spike",
          "Spike",
          "Spike",
          "Spike",
          "Spike",
          "Spike",
          "Spike",
          "Spike",
          "Spike",
          "Spike",
          "Spike",
          "Spike",
          "Spike",
          "Spike",
          "Spike",
          "Spike",
          "Spike",
          "Spike",
          "Spike",
          "Spike",
          "Spike",
          "Spike",
          "Spike",
          "Spike",
          "Spike",
          "Spike",
          "Spike",
          "Spike",
          "Spike",
          "Spike",
          "Spike",
          "Spike",
          "Spike",
          "Spike",
          "Spike",
          "Spike",
          "Spike",
          "Spike",
          "Spike",
          "Spike",
          "Spike",
          "Spike",
          "Spike",
          "Spike",
          "Spike",
          "Spike",
          "Spike",
          "Spike",
          "Spike",
          "Spike",
          "Spike",
          "Spike",
          "Spike",
          "Spike",
          "Spike",
          "Spike",
          "Spike",
          "Spike",
          "Spike",
          "Spike",
          "Spike",
          "Spike",
          "Spike",
          "Spike",
          "Spike",
          "Spike",
          "Spike",
          "Spike",
          "Spike",
          "Spike",
          "Spike",
          "Spike",
          "Spike",
          "Spike",
          "Spike",
          "Spike",
          "Spike",
          "Spike",
          "Spike",
          "Spike",
          "Spike",
          "Spike",
          "Spike",
          "Spike",
          "Spike",
          "Spike",
          "Spike",
          "Spike",
          "Spike",
          "Spike",
          "Spike",
          "Spike",
          "Spike",
          "Spike",
          "Spike",
          "Spike",
          "Spike",
          "Spike",
          "Spike",
          "Spike",
          "Spike",
          "Spike",
          "Spike",
          "Spike",
          "Spike",
          "Spike",
          "Spike",
          "Spike",
          "Spike",
          "Spike",
          "Spike",
          "Spike",
          "Spike",
          "Spike",
          "Spike",
          "Spike",
          "Spike",
          "Spike",
          "Spike",
          "Spike",
          "Spike",
          "Spike",
          "Spike",
          "Spike",
          "Spike",
          "Spike",
          "Spike",
          "Spike",
          "Spike",
          "Spike",
          "Spike",
          "Spike",
          "Spike",
          "Spike",
          "Spike",
          "Spike",
          "Spike",
          "Spike",
          "Spike",
          "Spike",
          "Spike",
          "Spike",
          "Spike",
          "Spike",
          "Spike",
          "Spike",
          "Spike",
          "Spike",
          "Spike",
          "Spike",
          "Spike",
          "Spike",
          "Spike",
          "Spike",
          "Spike",
          "Spike",
          "Spike",
          "Spike",
          "Spike",
          "Spike",
          "Spike",
          "Spike",
          "Spike",
          "Spike",
          "Spike",
          "Spike",
          "Spike",
          "Spike",
          "Spike",
          "Spike",
          "Spike",
          "Spike",
          "Spike",
          "Spike",
          "Spike",
          "Spike",
          "Spike",
          "Spike",
          "Spike",
          "Spike",
          "Spike",
          "Spike",
          "Spike",
          "Spike",
          "Spike",
          "Spike",
          "Spike",
          "Spike",
          "Spike",
          "Spike",
          "Spike",
          "Spike",
          "Spike",
          "Spike",
          "Spike",
          "Spike",
          "Spike",
          "Spike",
          "Spike",
          "Spike",
          "Spike",
          "Spike",
          "Spike",
          "Spike",
          "Spike",
          "Spike",
          "Spike",
          "Spike",
          "Spike",
          "Spike",
          "Spike",
          "Spike",
          "Spike",
          "Spike",
          "Spike",
          "Spike",
          "Spike",
          "Spike",
          "Spike",
          "Spike",
          "Spike",
          "Spike",
          "Spike",
          "Spike"
         ],
         "x0": " ",
         "xaxis": "x",
         "y": {
          "bdata": "UVFRUVFRUVFRUVFRUVFRUVFRS0tLS0tLS0tLS0tLS0tLVFRUUlJSUlJSUlJSUlJSUlJSUVFRUVFRUVFRUVFRUVFRUVFRUVFRUVFRUUxMTFFRUVFRUVFRUVFRUVFRUVFRUVFRUVFRUVFRUVFRUU5OTlFRUVFRUVFRUVFRUVFRUVFRUU9PT09PT09PT09PT09PTwxOTk5NTU1RUVFRTU1NS0tLUVFKUUpKUFBQUFBQUVEMUVFRUVFRUVFRUVFRUVFRUVFRUVFRUVFRUVFRSkpKTU1NTU1NUVFRUVFRUVFRTU1NUFFRUVFRUVFRUVFRUVFRUVFRUU1NTU9PT01NTU1NTU1NTU1NTVFRUVFRUVFRUU8CAk1RUVFRUVFNSkpKDVFRUVFRUQ0MUFBQUVFRUVFRTU1NTU1NTVFRUSVQTVBQUFBQUFBQSkpKUVFRUVFRUU9PT0tLSwxNDEtLS0tLS0tLSwxKSkpNTU1NTU1PT09RUVFRUVFRUUtRS0tNTU1PT08OUFBQDlBQUFBQUFBQUFBOTk5OTk5OTk5OTkpKT0pPT09PT0pKSk1RUVFRUVFRUVEMDAwMTk5OTk5OTk5OTk5KSkpPT09PT09NDFFRUQwMDAwATk5OTk1NUFBQDAwMDAxRUVFRUVFRUVFRUVFRUVFRUVEMDFFRTU1NT09PTU1NTU1NTU1NTUsMTQxLS0tLS0tLS0sMSkpKTU1NDAwMT09OT05OT09NT01NUFBQUVFRUVFRUVFRUFBQUVFRT09PT09PT09PDAwNTk5OTk5OTk5OTk5OTk4PTk9PT0pKSkpKSkpKSk5OSk5KSkpKSk1NTU1NTQwMUVFRUVFRDAxISEhRUVFTU1NRUVENDVFRS1FLS09PT01NTU5OTk0MDVBQUFBQUE5OTktLS0tLS0tLS0tLS0xLS0tLS0tLS0tLDEpKSlFRUU9PT1BQUAtOTk5OUVFRDEtLS0tLSwxKSkpRKSkpUFBQTk5OUVFRS0tLS0sMSwxKSkpHR0cCTk5ODU5OUFBQUVFRT09PTU1NDAxLS0tLS0tLT09PS0tLS0tLS0tLSkpKBkdHRwICDAxKSkpKUVFNSkpRTExMDAxQUFBRUVFOTk5OTk5RJVFRUVFRUVFRT09PTk5OT09PT09PT09PT09PT09PDAwMCwwMDAwMDAwMT0tLS05OTlFRUUtLS09PT1FRSEhITExMT09PUFBQUFBQTU1NDE1NTU9PT05OTk5OTk5OUVFRDE5OTk5MTExMTExMTEwMAFBQUE5OTgBYWFgNTU1NDABOTk5OTk4MDAwMDAwMTk5OTgwADE1NTU9PT1FRUU5RUQwMDE1NTQwMSkpKUlJSDE5OTlFRUQ==",
          "dtype": "i1"
         },
         "y0": " ",
         "yaxis": "y"
        }
       ],
       "layout": {
        "height": 500,
        "legend": {
         "title": {
          "text": "Label"
         },
         "tracegroupgap": 0
        },
        "template": {
         "data": {
          "bar": [
           {
            "error_x": {
             "color": "#2a3f5f"
            },
            "error_y": {
             "color": "#2a3f5f"
            },
            "marker": {
             "line": {
              "color": "#E5ECF6",
              "width": 0.5
             },
             "pattern": {
              "fillmode": "overlay",
              "size": 10,
              "solidity": 0.2
             }
            },
            "type": "bar"
           }
          ],
          "barpolar": [
           {
            "marker": {
             "line": {
              "color": "#E5ECF6",
              "width": 0.5
             },
             "pattern": {
              "fillmode": "overlay",
              "size": 10,
              "solidity": 0.2
             }
            },
            "type": "barpolar"
           }
          ],
          "carpet": [
           {
            "aaxis": {
             "endlinecolor": "#2a3f5f",
             "gridcolor": "white",
             "linecolor": "white",
             "minorgridcolor": "white",
             "startlinecolor": "#2a3f5f"
            },
            "baxis": {
             "endlinecolor": "#2a3f5f",
             "gridcolor": "white",
             "linecolor": "white",
             "minorgridcolor": "white",
             "startlinecolor": "#2a3f5f"
            },
            "type": "carpet"
           }
          ],
          "choropleth": [
           {
            "colorbar": {
             "outlinewidth": 0,
             "ticks": ""
            },
            "type": "choropleth"
           }
          ],
          "contour": [
           {
            "colorbar": {
             "outlinewidth": 0,
             "ticks": ""
            },
            "colorscale": [
             [
              0,
              "#0d0887"
             ],
             [
              0.1111111111111111,
              "#46039f"
             ],
             [
              0.2222222222222222,
              "#7201a8"
             ],
             [
              0.3333333333333333,
              "#9c179e"
             ],
             [
              0.4444444444444444,
              "#bd3786"
             ],
             [
              0.5555555555555556,
              "#d8576b"
             ],
             [
              0.6666666666666666,
              "#ed7953"
             ],
             [
              0.7777777777777778,
              "#fb9f3a"
             ],
             [
              0.8888888888888888,
              "#fdca26"
             ],
             [
              1,
              "#f0f921"
             ]
            ],
            "type": "contour"
           }
          ],
          "contourcarpet": [
           {
            "colorbar": {
             "outlinewidth": 0,
             "ticks": ""
            },
            "type": "contourcarpet"
           }
          ],
          "heatmap": [
           {
            "colorbar": {
             "outlinewidth": 0,
             "ticks": ""
            },
            "colorscale": [
             [
              0,
              "#0d0887"
             ],
             [
              0.1111111111111111,
              "#46039f"
             ],
             [
              0.2222222222222222,
              "#7201a8"
             ],
             [
              0.3333333333333333,
              "#9c179e"
             ],
             [
              0.4444444444444444,
              "#bd3786"
             ],
             [
              0.5555555555555556,
              "#d8576b"
             ],
             [
              0.6666666666666666,
              "#ed7953"
             ],
             [
              0.7777777777777778,
              "#fb9f3a"
             ],
             [
              0.8888888888888888,
              "#fdca26"
             ],
             [
              1,
              "#f0f921"
             ]
            ],
            "type": "heatmap"
           }
          ],
          "histogram": [
           {
            "marker": {
             "pattern": {
              "fillmode": "overlay",
              "size": 10,
              "solidity": 0.2
             }
            },
            "type": "histogram"
           }
          ],
          "histogram2d": [
           {
            "colorbar": {
             "outlinewidth": 0,
             "ticks": ""
            },
            "colorscale": [
             [
              0,
              "#0d0887"
             ],
             [
              0.1111111111111111,
              "#46039f"
             ],
             [
              0.2222222222222222,
              "#7201a8"
             ],
             [
              0.3333333333333333,
              "#9c179e"
             ],
             [
              0.4444444444444444,
              "#bd3786"
             ],
             [
              0.5555555555555556,
              "#d8576b"
             ],
             [
              0.6666666666666666,
              "#ed7953"
             ],
             [
              0.7777777777777778,
              "#fb9f3a"
             ],
             [
              0.8888888888888888,
              "#fdca26"
             ],
             [
              1,
              "#f0f921"
             ]
            ],
            "type": "histogram2d"
           }
          ],
          "histogram2dcontour": [
           {
            "colorbar": {
             "outlinewidth": 0,
             "ticks": ""
            },
            "colorscale": [
             [
              0,
              "#0d0887"
             ],
             [
              0.1111111111111111,
              "#46039f"
             ],
             [
              0.2222222222222222,
              "#7201a8"
             ],
             [
              0.3333333333333333,
              "#9c179e"
             ],
             [
              0.4444444444444444,
              "#bd3786"
             ],
             [
              0.5555555555555556,
              "#d8576b"
             ],
             [
              0.6666666666666666,
              "#ed7953"
             ],
             [
              0.7777777777777778,
              "#fb9f3a"
             ],
             [
              0.8888888888888888,
              "#fdca26"
             ],
             [
              1,
              "#f0f921"
             ]
            ],
            "type": "histogram2dcontour"
           }
          ],
          "mesh3d": [
           {
            "colorbar": {
             "outlinewidth": 0,
             "ticks": ""
            },
            "type": "mesh3d"
           }
          ],
          "parcoords": [
           {
            "line": {
             "colorbar": {
              "outlinewidth": 0,
              "ticks": ""
             }
            },
            "type": "parcoords"
           }
          ],
          "pie": [
           {
            "automargin": true,
            "type": "pie"
           }
          ],
          "scatter": [
           {
            "fillpattern": {
             "fillmode": "overlay",
             "size": 10,
             "solidity": 0.2
            },
            "type": "scatter"
           }
          ],
          "scatter3d": [
           {
            "line": {
             "colorbar": {
              "outlinewidth": 0,
              "ticks": ""
             }
            },
            "marker": {
             "colorbar": {
              "outlinewidth": 0,
              "ticks": ""
             }
            },
            "type": "scatter3d"
           }
          ],
          "scattercarpet": [
           {
            "marker": {
             "colorbar": {
              "outlinewidth": 0,
              "ticks": ""
             }
            },
            "type": "scattercarpet"
           }
          ],
          "scattergeo": [
           {
            "marker": {
             "colorbar": {
              "outlinewidth": 0,
              "ticks": ""
             }
            },
            "type": "scattergeo"
           }
          ],
          "scattergl": [
           {
            "marker": {
             "colorbar": {
              "outlinewidth": 0,
              "ticks": ""
             }
            },
            "type": "scattergl"
           }
          ],
          "scattermap": [
           {
            "marker": {
             "colorbar": {
              "outlinewidth": 0,
              "ticks": ""
             }
            },
            "type": "scattermap"
           }
          ],
          "scattermapbox": [
           {
            "marker": {
             "colorbar": {
              "outlinewidth": 0,
              "ticks": ""
             }
            },
            "type": "scattermapbox"
           }
          ],
          "scatterpolar": [
           {
            "marker": {
             "colorbar": {
              "outlinewidth": 0,
              "ticks": ""
             }
            },
            "type": "scatterpolar"
           }
          ],
          "scatterpolargl": [
           {
            "marker": {
             "colorbar": {
              "outlinewidth": 0,
              "ticks": ""
             }
            },
            "type": "scatterpolargl"
           }
          ],
          "scatterternary": [
           {
            "marker": {
             "colorbar": {
              "outlinewidth": 0,
              "ticks": ""
             }
            },
            "type": "scatterternary"
           }
          ],
          "surface": [
           {
            "colorbar": {
             "outlinewidth": 0,
             "ticks": ""
            },
            "colorscale": [
             [
              0,
              "#0d0887"
             ],
             [
              0.1111111111111111,
              "#46039f"
             ],
             [
              0.2222222222222222,
              "#7201a8"
             ],
             [
              0.3333333333333333,
              "#9c179e"
             ],
             [
              0.4444444444444444,
              "#bd3786"
             ],
             [
              0.5555555555555556,
              "#d8576b"
             ],
             [
              0.6666666666666666,
              "#ed7953"
             ],
             [
              0.7777777777777778,
              "#fb9f3a"
             ],
             [
              0.8888888888888888,
              "#fdca26"
             ],
             [
              1,
              "#f0f921"
             ]
            ],
            "type": "surface"
           }
          ],
          "table": [
           {
            "cells": {
             "fill": {
              "color": "#EBF0F8"
             },
             "line": {
              "color": "white"
             }
            },
            "header": {
             "fill": {
              "color": "#C8D4E3"
             },
             "line": {
              "color": "white"
             }
            },
            "type": "table"
           }
          ]
         },
         "layout": {
          "annotationdefaults": {
           "arrowcolor": "#2a3f5f",
           "arrowhead": 0,
           "arrowwidth": 1
          },
          "autotypenumbers": "strict",
          "coloraxis": {
           "colorbar": {
            "outlinewidth": 0,
            "ticks": ""
           }
          },
          "colorscale": {
           "diverging": [
            [
             0,
             "#8e0152"
            ],
            [
             0.1,
             "#c51b7d"
            ],
            [
             0.2,
             "#de77ae"
            ],
            [
             0.3,
             "#f1b6da"
            ],
            [
             0.4,
             "#fde0ef"
            ],
            [
             0.5,
             "#f7f7f7"
            ],
            [
             0.6,
             "#e6f5d0"
            ],
            [
             0.7,
             "#b8e186"
            ],
            [
             0.8,
             "#7fbc41"
            ],
            [
             0.9,
             "#4d9221"
            ],
            [
             1,
             "#276419"
            ]
           ],
           "sequential": [
            [
             0,
             "#0d0887"
            ],
            [
             0.1111111111111111,
             "#46039f"
            ],
            [
             0.2222222222222222,
             "#7201a8"
            ],
            [
             0.3333333333333333,
             "#9c179e"
            ],
            [
             0.4444444444444444,
             "#bd3786"
            ],
            [
             0.5555555555555556,
             "#d8576b"
            ],
            [
             0.6666666666666666,
             "#ed7953"
            ],
            [
             0.7777777777777778,
             "#fb9f3a"
            ],
            [
             0.8888888888888888,
             "#fdca26"
            ],
            [
             1,
             "#f0f921"
            ]
           ],
           "sequentialminus": [
            [
             0,
             "#0d0887"
            ],
            [
             0.1111111111111111,
             "#46039f"
            ],
            [
             0.2222222222222222,
             "#7201a8"
            ],
            [
             0.3333333333333333,
             "#9c179e"
            ],
            [
             0.4444444444444444,
             "#bd3786"
            ],
            [
             0.5555555555555556,
             "#d8576b"
            ],
            [
             0.6666666666666666,
             "#ed7953"
            ],
            [
             0.7777777777777778,
             "#fb9f3a"
            ],
            [
             0.8888888888888888,
             "#fdca26"
            ],
            [
             1,
             "#f0f921"
            ]
           ]
          },
          "colorway": [
           "#636efa",
           "#EF553B",
           "#00cc96",
           "#ab63fa",
           "#FFA15A",
           "#19d3f3",
           "#FF6692",
           "#B6E880",
           "#FF97FF",
           "#FECB52"
          ],
          "font": {
           "color": "#2a3f5f"
          },
          "geo": {
           "bgcolor": "white",
           "lakecolor": "white",
           "landcolor": "#E5ECF6",
           "showlakes": true,
           "showland": true,
           "subunitcolor": "white"
          },
          "hoverlabel": {
           "align": "left"
          },
          "hovermode": "closest",
          "mapbox": {
           "style": "light"
          },
          "paper_bgcolor": "white",
          "plot_bgcolor": "#E5ECF6",
          "polar": {
           "angularaxis": {
            "gridcolor": "white",
            "linecolor": "white",
            "ticks": ""
           },
           "bgcolor": "#E5ECF6",
           "radialaxis": {
            "gridcolor": "white",
            "linecolor": "white",
            "ticks": ""
           }
          },
          "scene": {
           "xaxis": {
            "backgroundcolor": "#E5ECF6",
            "gridcolor": "white",
            "gridwidth": 2,
            "linecolor": "white",
            "showbackground": true,
            "ticks": "",
            "zerolinecolor": "white"
           },
           "yaxis": {
            "backgroundcolor": "#E5ECF6",
            "gridcolor": "white",
            "gridwidth": 2,
            "linecolor": "white",
            "showbackground": true,
            "ticks": "",
            "zerolinecolor": "white"
           },
           "zaxis": {
            "backgroundcolor": "#E5ECF6",
            "gridcolor": "white",
            "gridwidth": 2,
            "linecolor": "white",
            "showbackground": true,
            "ticks": "",
            "zerolinecolor": "white"
           }
          },
          "shapedefaults": {
           "line": {
            "color": "#2a3f5f"
           }
          },
          "ternary": {
           "aaxis": {
            "gridcolor": "white",
            "linecolor": "white",
            "ticks": ""
           },
           "baxis": {
            "gridcolor": "white",
            "linecolor": "white",
            "ticks": ""
           },
           "bgcolor": "#E5ECF6",
           "caxis": {
            "gridcolor": "white",
            "linecolor": "white",
            "ticks": ""
           }
          },
          "title": {
           "x": 0.05
          },
          "xaxis": {
           "automargin": true,
           "gridcolor": "white",
           "linecolor": "white",
           "ticks": "",
           "title": {
            "standoff": 15
           },
           "zerolinecolor": "white",
           "zerolinewidth": 2
          },
          "yaxis": {
           "automargin": true,
           "gridcolor": "white",
           "linecolor": "white",
           "ticks": "",
           "title": {
            "standoff": 15
           },
           "zerolinecolor": "white",
           "zerolinewidth": 2
          }
         }
        },
        "title": {
         "text": "Distribution of 'A' by Target Class"
        },
        "violinmode": "overlay",
        "width": 800,
        "xaxis": {
         "anchor": "y",
         "categoryarray": [
          "Envelope",
          "Membrane",
          "Nucleocapsid",
          "Spike"
         ],
         "categoryorder": "array",
         "domain": [
          0,
          1
         ],
         "title": {
          "text": "Label"
         }
        },
        "yaxis": {
         "anchor": "x",
         "domain": [
          0,
          1
         ],
         "title": {
          "text": "A"
         }
        }
       }
      }
     },
     "metadata": {},
     "output_type": "display_data"
    }
   ],
   "source": [
    "fig = px.violin(\n",
    "    df,\n",
    "    x='Label',\n",
    "    y='A',\n",
    "    color='Label',\n",
    "    box=True,            # Show box plot inside violin\n",
    "    points='all',        # Show all points\n",
    "    color_discrete_sequence=px.colors.qualitative.Pastel,  # similar to seaborn 'muted'\n",
    "    title=\"Distribution of 'A' by Target Class\"\n",
    ")\n",
    "\n",
    "fig.update_layout(\n",
    "    yaxis_title=\"A\",\n",
    "    xaxis_title=\"Label\",\n",
    "    width=800,\n",
    "    height=500\n",
    ")\n",
    "\n",
    "fig.show()\n"
   ]
  },
  {
   "cell_type": "markdown",
   "metadata": {},
   "source": [
    "### 6. Pairplot of Top 4 Frequent Letters Colored by Target"
   ]
  },
  {
   "cell_type": "code",
   "execution_count": 37,
   "metadata": {},
   "outputs": [
    {
     "data": {
      "application/vnd.plotly.v1+json": {
       "config": {
        "plotlyServerURL": "https://plot.ly"
       },
       "data": [
        {
         "marker": {
          "color": "red"
         },
         "name": "Envelope",
         "nbinsx": 20,
         "opacity": 0.6,
         "showlegend": true,
         "type": "histogram",
         "x": {
          "bdata": "CQkJCQkJAwkJCQkODg4NDg4ODg4ODg4ODg4ODg4ODg4ODg4ODg4ODg4ODg4ODg4ODg4ODg4ODg4ODg4ODg4ODg4ODg4ODg4ODg4ODg4ODg4ODg4ODg4ODg4ODg4ODg4ODg4ODg4ODg4ODg4ODg4ODg4ODg4ODg4ODg4ODg4ODg4ODg4ODg4ODg4ODg4ODg4ODg4ODw4ODg4ODg4ODg4ODg4ODg4ODg4ODg4ODg4ODg4ODg4ODg4ODg4ODg4ODg4ODg4ODg4ODg4ODg4ODg4ODg4ODg4ODg4ODg4ODg4ODg4ODg4ODg4ODg4ODg4ODg4ODg4ODg4ODg4ODg4ODg4ODg4ODg4ODg4ODg4ODg4ODg4ODg4ODg4ODg4ODg4ODg4ODg4ODg4ODg4ODg4ODg4ODg4ODg4ODg4ODg4ODg4ODg4ODg4ODg4MDg4ODg4ODg4ODg4ODg4ODg4ODg4ODg4ODg4ODg4ODg4ODg4ODg4ODg4ODg4ODg4ODg4ODg4ODg4ODg4ODg4ODg4ODg4ODg4ODg4ODg4ODg4ODg4ODg4ODg4ODg4ODg4ODg4ODg4ODg4ODg4ODg4ODg4ODg4ODg4ODg4ODg4ODg4ODg4ODg4ODg4ODg4ODg4ODg4ODg4ODg4ODg4ODg4ODg4ODg4ODg4ODg4ODg4ODg4ODg4ODg4ODg4ODg4ODg4ODg4ODg4ODg4ODg4ODg4ODg4ODg4ODg4ODg4ODg4ODg4ODg4ODg4ODg4ODg4ODg4ODg4ODg4ODg4ODg4ODg4ODg4ODg4ODg4ODg4ODg4ODg4ODg4ODg4ODg4ODg4ODg4ODg4ODg4ODg4ODg4ODg4ODg4ODg4ODg4ODg4ODg4ODg4ODg4ODg4ODg4ODg4ODg4ODg4ODg4ODg4ODg4ODg4ODg4=",
          "dtype": "i1"
         },
         "xaxis": "x",
         "yaxis": "y"
        },
        {
         "marker": {
          "color": "green"
         },
         "name": "Membrane",
         "nbinsx": 20,
         "opacity": 0.6,
         "showlegend": true,
         "type": "histogram",
         "x": {
          "bdata": "DgAlACUAJQAlACUAJQAeAB4AJAAkAAkACQAJAAkACQAJAAkAJAAkACMAIwAjACMAIwAjACMAIwAjACMAIwAjACMAIwAjACMAIwAjACMAIwAjACMAIwAjACMAIwAjACMAIwAjACMAIwAjACMAIwAjACMAIwAjACMAIwAjACMAIwAjACMAIwAjACMAIwAjACMAIwAjACMAIwAjACMAIwAjACMAIwAjACMAIwAjACMAIwAjACMAIwAjACMAIwAjACMAIwAjACMAIwAjACMAIwAjACMAIwAjACMAIwAjACMAIwAjACMAIwAjACMAIwAjACMAIwAjACMAIwAjACMAIwAjACMAIwAjACMAIwAjACMAIwAjACMAIwAjACMAIwAjACMAIwAjACMAIwAjACMAIwAjACMAIwAjACMAIwAjACMAIwAjACMAIwAjACMAIwAjACMAIwAjACMAIwAjACMAIwAjACMAIwAjACMAIwAjACMAIwAjACMAIwAjACMAIwAjACMAIwAjACMAIwAjACMAIwAjACMAIwAjACMAIwAjACMAIwAjACMAIwAjACMAIwAjACMAIwAjACMAIwAjACMAIwAjACMAIwAjACMAIwAjACMAIwAjACMAIwAjACMAIwAjACMAIwAjACMAIwAjACMAIwAjACMAIwAjACMAIwAjACMAIwAjACMAIwAjACMAIwAjACMAIwAjACMAIwAjACMAIwAjACMAIwAjACMAIwAjACMAIwAjACMAIwAjACMAIwAjACMAIwAjACMAIwAjACMAIwAjACMAIwAjACMAIwAjACMAIwAjACMAIwAjACMAIwAjACMAIwAjACMAIwAjACMAIwAjACMAIwAjACMAIwAjACMAIwAjACMAIwAjACMAIwAjACMAIwAjACMAIwAjACMAIwAjACMAIwAjACMAIwAjACMAIwAjACMAIwAjACMAIwAjACMAIwAjACMAIwAjACMAIwAjACMAIwAjACMAIwAjACMAIwAjACMAIwAjACMAIwAjACMAIwAjACMAIwAjACMAIwAjACMAIwAjACMAIwAjACMAIwAjACMAIwAjACMAIwAjACMAIwAjACMAIwAjACMAIwAjACMAIwAjACMAIwAjACMAIwAjACMAIwAjACMAIwAjACMAIwAjACMAIwAjACMAIwAjACMAIwAjACMAIwAjACMAIwAjACMAIwAjACMAIwAjACMAIwAjACMAIwAjACMAIwAjACMAIwAjACMAIwAjACMAIwAjACMAIwAjACMAIwAjACMAIwAjACMAIwAjACMAIwAjACMAIwAjABMAIwAjACMAIwAjACMAIwAjACMAIwAjACMAIwAjACMAIwAjACMAIwAjACMAIwAjACMAIwAjACMAIwAjACMAIwAjACMAIwAjACMAIwAjACMAIwAjACMAIwAjACMAIwAjACMAIwAjACMAIwAjACMAIwAjACMAIwAjACMAIwAjACMAIwAjACMAIwAjACMAIwAjACMAIwAjACMAIwAjACMAIwAjACMAIwAjACMAIwAjACMAIwAjACMAIwAjACMAIwAjACMAIwAjACMAIwAjACMAIwAjACMAIwAjACMAIwAjACMAIwAjACMAIwAjACMAIwAjACMAIwAjACMAIwAjACMAIwAjACMAIwAjACMAIwAjACMAIwAjACMAIwAjACMAIwAjACMAIwAjACMAIwAjACMAIwAjACMAIwAjACMAIwAjACMAIwAjACMAIwAjACMAIwAjACMAIwAjACMAIwAjACMAIwAjACMAIwAjACMAIwAjACMAIwAjACMAIwAjACMAIwAjACMAIwAjACMAIwAjACMAIwAjACMAIwAjACMAIwAjACMAIwAjACMAawBrACMAIwAjACMAIwAjACMAIwAjACMAIwAjACMAIwAjACMAIwAjACMAIwAjACMAIwAjACMAIwAjACMAIwAjACMAIwAjACMAIwAjACMAIwAjACMAIwAjACMAIwAjACMAIwAfACMAIwAjACMAIwAjACMAIwAjACMAIwAjACMAIwAjACAAIwAjACIAIwAjACMAIwAjACMAIwAjACMAIwAjACMAIwAjAB0AIwAjACMAIwAjACMAIwAjACIAIwAjACMAGQAjACMAIwAjACMAIwAjACMAIwAjACMAIwAjACMAIwAjACMAIwAjACMAIwAjACMAIwAjACMAIwAjACMAIwAjACMAIwAjACMAIwAjACMAIwAjACMAIwAjACMAIwAjACMAIwAjACMAIwAjACMAIwAjACMAIwAjACMAIwAjACMAIwAjACMAawBqAGoAagAIAA4AHgBsALIBnAJtAG0AbQBtAG0AbQBnAGcAZwBsAGwAbABsAGwAHgBsALMBngIEABsACgALAA8ACAAOAB4AbACzAZ0CBAAbAAoACwAPALIBnAIEABsACgALAA8ACAAOAB4AbACyAZwCBAAbAAoACwAPAAgADgAEABsACgALAA8ACAAOAB4AbACzAZ0CBAAbAAoACwAPAAgADgAeAGsACgAPAAsACAAOAB4AbACzAZ0CBAAbAAoACwAPAAgADgAeAGwAswGdAg8ACAAOAB4AbACzAZ0CBAAbAAoACwAPAAgADgAeAGwAswGdAgQAGwAOAB4AawCzAZ0CBAAbAAoACwAPAAgADgAeAGsAsgGcAgQAGwAKAAsAbACzAZ0CBAAbAAsACwAPAAgADgBsAB4AtAGeAg==",
          "dtype": "i2"
         },
         "xaxis": "x",
         "yaxis": "y"
        },
        {
         "marker": {
          "color": "blue"
         },
         "name": "Nucleocapsid",
         "nbinsx": 20,
         "opacity": 0.6,
         "showlegend": true,
         "type": "histogram",
         "x": {
          "bdata": "AQEQEREREREREREREBEREREREREREREREREREREREREQHBwcHBwcHBwcHBwdHBwcHBwcHBwcHBwcHBwcHBwcHBwcHBwcHBwcHBwcHBwcHBwcHBwcHBwcHBwcHBwcHBwcHBwcHBwcHBwcHBwcHBwcHBwcHBwcHBwcHBwcHBwcHBwcHBwcHBwcHBwcHBwcHBwcHBwcHBwcHBwcHBwcHBwcHRwcHBwcHBwcHBwcHBwcHBwcHBwcHBwcHBwcHBwcHBwcHBwcHBwcHBwcHBwcHBwcHBwcHBwcHBwcHBwdHBwcHBwcHBwcHBwcHBwcHBwcHBwcHBwcHBwcHBwcHBwcHBwcHBwcHBwcHBwcHBwcHBwcHBwcHBwcHBwcHBwcHBwcHBwcHBwcHBwcHBwcHB0cHBwcHBwcHBwcHBwcHBwcHBwcHBwcHBwcHBwcHBwcHBwcEBEQEREQERIRHBwcHBwcHBwcHBwdHBwcHBwcHB0cHBwcHBwcHBwcHBwcHBwcHBwcHBwcHBwcHBwcHBwcHBwcHBwcHBwcHBwcHBwcHBwcHBwcHBwcHBwcHBwcHBwcHBwcHBwdHBwcHBscHBwcHBwcHBwcHBscHBwcHBwcHBwcHBwcHBwcHBwcHRwcHBwcHBwcHBwcHBwcHBwcHBwbHBwcHBwcHBwcHBwcHBwcHBwcHBwcHBwcHBwcHRwcHBwcHBwcHBwcHBwcHBwcHB0cHBwcHBwcHBwcHBwcHBwcHBwcHBwcHBwcHB0cHBwcHBwcHBwcHBwcHBwcHBwbHBwcHBwcHBwcHBwcHBwcHBwcHBwcHBwcHBwcHBwcHBwcHBwdHBwcHBwcHBwcHBwcHBwcHBwcHB0cHBwcHBwcHBwcHBwbHBwcHBwcHBwcHBwcHBwcHBwcHBwcHBwcHBwcHBwcHBwcHBwcHBwcHBwcHBwcHBwcHBwcHBwcHBwcHBwcHB0cHBwcHBwcHBwcHBwcHBwcHBwcHBwcHBwcHBwcHBwcHBwcHRwcHBwcHBwcHBwcHBwcHBwcHRwdHB0cHBwcHBwcHBwcHBwcHBwcHRwcHBwcHBwcHB0cHBwcHBwcHBwcHBwcHBwcHBwcHBwcHBwcHBwcHBwcHBwcHBwcHBwcHBwcHBwcHBwcHBwcHBwcHBwcHBwcHBwcHBwcHBwcHBwcHRwcHRwcHBwcHBwcHB0cHBwcHBwcHBwcHBwcHBwcHBwcHBwcHBwcHBwcHBwcHBwcHBwcHBwcHBwcHBwcHBwcHBwcHBwcHBwcHBwcHBwcHBwcHBwcHBwdHBweHBwcHBwcHBwcHBwcHBwcHBwcHBwcHB0cHBwcHBwcHBwcHBwcHBwcHBwcHBwcHBwcHBwcHRwcHBwcHBwcHBwcHBwcHBwcHBwcHBwcHBwcHBwcHBwcHBwcHBwcHBwcHBwcHBwcHBwcHBwcHBwcHBwcHBwcHBwcHBwcHBwcHBwcHBwcHBwcHBwcHBwcHBwcHBwcHBwcHBwcHBwcHBwcHBwcHBwcHBwcHB0cHBwcHBwcHBwcHBwcHBwcHBwcHBwcHBwcHBwcHBwcHBwcHBwcHBwcHBwcHBwcHBwcHBwcHBwcHBwcHRwcHBwcHBwcHBwcHBwcHBwcHBwcHBwcHBwcHBwcHBwcHBwcHBwcHBwcHBwcHBwcHBwcHBwcHBwcHBwcHBwcHBwcHBwcHBwcHBwcHBwcHBwdHBwcHBwcHBwcHBwcHBwcHBwcHBwcHBwcHBwcHBwcHBwcHA==",
          "dtype": "i1"
         },
         "xaxis": "x",
         "yaxis": "y"
        },
        {
         "marker": {
          "color": "orange"
         },
         "name": "Spike",
         "nbinsx": 20,
         "opacity": 0.6,
         "showlegend": true,
         "type": "histogram",
         "x": {
          "bdata": "Z2dnZ2dnZ2dnZ2dnZ2dnZ2dnXl5eXl5eXl5eXl5eWVlZbGxsaWlpaWlpaWlpaWlpaWlpa2tra2tra2tra2pqamtra2tra2tra2tra2RkZGtra2tra2tra2tra2pqampqamtra2tra2tra2tra2tra2pqa2pra2tra2pqampqampqamVlZWVlZWxsbGxsbGxsbA1ra2tlZWVycnJya2trXl5eampmamZmb29vb29vcnINampqampqampqampqampqampqampqampqampqZmZmZWVlZ2dncnJyampqampqZmZmb3JycmpqampqampqampqampqamZmZmtra2tra2tra2tra2tra3JycnJycnJycmwDA2Zra2tycnJlZWVlDmtra2traw8Nbm5ubm5ubm5uZmZmZmZmZnJycj5qa2pqampqaWlpZWVlZ3JycnJycmpqamZmZh9rDWZmZmZmZmZmZg1lZWVlZWVlZWVqampra2tra2tra1lrWVlmZmZqamoMaWlpDGlpaWlpaWlpaWtqampqampqampqallZa1lra2tra2VlZWVra2tra2tra2sNDQ0Na2pqampqampra2tZWVlqampra2tlDWtraw0NDQ0Camtra2VlaGhoDg4ODg5ycnJra2tra2tra2tra2tra2sNDWpqZmZma2tra2tra2tra2tra2Yfaw1mZmZmZmZmZmYNZWVlZWVlDQ0Nampramtra2tla2VlaGhocnJya2tra2traGhoa2trZmZmZmZmZmZmDQ0ia2trampqampqampqamoTa2lpaVlZWVlZWVlZWWZmWmZaWlpaWmVlZWVlZQ0NcnJyZ2dnDQ1ZWVlra2tvb29ra2siImpqZGpkZGxsbGVlZWpqamYNDmxsbGxsbGtra2NkZGRkZGRkZGRkZGZkZWVlZGRkZWVlDWZmZmtra2lpaWxsbA1ra2tra2trDmVlZWVlZQ5mZmZyMjIybGxsa2tra2trWVlZWVkNWQ1kZGRmZmYFampqHGtraGhoa2trY2NjZWVlDQ1lZWVlZWVlbGxsZWVlZWVlZWVlWVlZB2ZmZgMDDw9mZmZma2tmZmZrZ2dnDQ1sbGxra2tra2tra2tyPnJycnJya2trbGxsa2tra2trbGxsbGxsbGxsbGxsDQ0NDQ0NDQ0NDAwMallZWWpqam1tbV9fX2pqanJybW1tZWVlbGxsZWVlZWVlZmZmDWhoaGpqamdnZ2dnampqa2trDWtra2tlZWVlZWVlZWUNAmVlZWtrawN0dHQNZGRkDQJqampqamoNDQ0NDQ0NamdnZw0DDWdnZ2pqamtra2tycg0NDWhoaA4OZWVlampqDWpqanJycg==",
          "dtype": "i1"
         },
         "xaxis": "x",
         "yaxis": "y"
        },
        {
         "marker": {
          "color": "red",
          "size": 5
         },
         "mode": "markers",
         "name": "Envelope",
         "showlegend": false,
         "type": "scatter",
         "x": {
          "bdata": "AQEBAQEBAwEBAQEICAgICAgICAgICAgICAgICAgICAgICAgICAgICAgICAgICAgICAgICAgICAgICAgICAgICAgICAgICAgICAgICAgICAgICAgICAgICAgICAgICAgICAgICAgICAgICAgICAgICAgICAgICAgICAgICAgICAgICAgICAgICAgICAgICAgICAgICAgICAgICAgICAgICAgICAgICAgICAgICAgICAgICAgICAgICAgICAgICAgICAgICAgICAgICAgICAgICAgICAgICAgICAgICAgICAgICAgICAgICAgICAgICAgICAgICAgICAgICAgICAgICAgICAgICAgICAgICAgICAgICAgICAgICAgICAgICAgICAgICAgICAgICAgICAgICAgICAgICAgICAgICAgICAgICAgICAgGCAgICAgICAgICAgICAgICAgICAgICAgICAgICAgICAgICAgICAgICAgICAgICAgICAgICAgICAgICAgICAgICAgICAgICAgICAgICAgICAgICAgICAgICAgICAgICAgICAgICAgICAgICAgICAgICAgICAgICAgICAgICAgICAgICAgICAgICAgICAgICAgICAgICAgICAgICAgICAgICAgICAgICAgHCAgICAgICAgICAgICAgICAgICAgICAgICAgICAgICAgICAgICAgICAgICAgICAgICAgICAgICAgICAgICAgICAgICAgICAgICAgICAgICAgICAgICAgICAgICAgICAgICAgICAgICAgICAgICAgICAgICAgICAgICAgICAgICAgICAgICAgICAgICAgICAgICAgICAgICAgICAgICAgICAgICAgICAgICAgICAgICAgICAgICAgICAg=",
          "dtype": "i1"
         },
         "xaxis": "x2",
         "y": {
          "bdata": "CQkJCQkJAwkJCQkODg4NDg4ODg4ODg4ODg4ODg4ODg4ODg4ODg4ODg4ODg4ODg4ODg4ODg4ODg4ODg4ODg4ODg4ODg4ODg4ODg4ODg4ODg4ODg4ODg4ODg4ODg4ODg4ODg4ODg4ODg4ODg4ODg4ODg4ODg4ODg4ODg4ODg4ODg4ODg4ODg4ODg4ODg4ODg4ODg4ODw4ODg4ODg4ODg4ODg4ODg4ODg4ODg4ODg4ODg4ODg4ODg4ODg4ODg4ODg4ODg4ODg4ODg4ODg4ODg4ODg4ODg4ODg4ODg4ODg4ODg4ODg4ODg4ODg4ODg4ODg4ODg4ODg4ODg4ODg4ODg4ODg4ODg4ODg4ODg4ODg4ODg4ODg4ODg4ODg4ODg4ODg4ODg4ODg4ODg4ODg4ODg4ODg4ODg4ODg4ODg4ODg4ODg4ODg4ODg4MDg4ODg4ODg4ODg4ODg4ODg4ODg4ODg4ODg4ODg4ODg4ODg4ODg4ODg4ODg4ODg4ODg4ODg4ODg4ODg4ODg4ODg4ODg4ODg4ODg4ODg4ODg4ODg4ODg4ODg4ODg4ODg4ODg4ODg4ODg4ODg4ODg4ODg4ODg4ODg4ODg4ODg4ODg4ODg4ODg4ODg4ODg4ODg4ODg4ODg4ODg4ODg4ODg4ODg4ODg4ODg4ODg4ODg4ODg4ODg4ODg4ODg4ODg4ODg4ODg4ODg4ODg4ODg4ODg4ODg4ODg4ODg4ODg4ODg4ODg4ODg4ODg4ODg4ODg4ODg4ODg4ODg4ODg4ODg4ODg4ODg4ODg4ODg4ODg4ODg4ODg4ODg4ODg4ODg4ODg4ODg4ODg4ODg4ODg4ODg4ODg4ODg4ODg4ODg4ODg4ODg4ODg4ODg4ODg4ODg4ODg4ODg4ODg4ODg4ODg4ODg4ODg4ODg4=",
          "dtype": "i1"
         },
         "yaxis": "y2"
        },
        {
         "marker": {
          "color": "green",
          "size": 5
         },
         "mode": "markers",
         "name": "Membrane",
         "showlegend": false,
         "type": "scatter",
         "x": {
          "bdata": "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",
          "dtype": "i2"
         },
         "xaxis": "x2",
         "y": {
          "bdata": "DgAlACUAJQAlACUAJQAeAB4AJAAkAAkACQAJAAkACQAJAAkAJAAkACMAIwAjACMAIwAjACMAIwAjACMAIwAjACMAIwAjACMAIwAjACMAIwAjACMAIwAjACMAIwAjACMAIwAjACMAIwAjACMAIwAjACMAIwAjACMAIwAjACMAIwAjACMAIwAjACMAIwAjACMAIwAjACMAIwAjACMAIwAjACMAIwAjACMAIwAjACMAIwAjACMAIwAjACMAIwAjACMAIwAjACMAIwAjACMAIwAjACMAIwAjACMAIwAjACMAIwAjACMAIwAjACMAIwAjACMAIwAjACMAIwAjACMAIwAjACMAIwAjACMAIwAjACMAIwAjACMAIwAjACMAIwAjACMAIwAjACMAIwAjACMAIwAjACMAIwAjACMAIwAjACMAIwAjACMAIwAjACMAIwAjACMAIwAjACMAIwAjACMAIwAjACMAIwAjACMAIwAjACMAIwAjACMAIwAjACMAIwAjACMAIwAjACMAIwAjACMAIwAjACMAIwAjACMAIwAjACMAIwAjACMAIwAjACMAIwAjACMAIwAjACMAIwAjACMAIwAjACMAIwAjACMAIwAjACMAIwAjACMAIwAjACMAIwAjACMAIwAjACMAIwAjACMAIwAjACMAIwAjACMAIwAjACMAIwAjACMAIwAjACMAIwAjACMAIwAjACMAIwAjACMAIwAjACMAIwAjACMAIwAjACMAIwAjACMAIwAjACMAIwAjACMAIwAjACMAIwAjACMAIwAjACMAIwAjACMAIwAjACMAIwAjACMAIwAjACMAIwAjACMAIwAjACMAIwAjACMAIwAjACMAIwAjACMAIwAjACMAIwAjACMAIwAjACMAIwAjACMAIwAjACMAIwAjACMAIwAjACMAIwAjACMAIwAjACMAIwAjACMAIwAjACMAIwAjACMAIwAjACMAIwAjACMAIwAjACMAIwAjACMAIwAjACMAIwAjACMAIwAjACMAIwAjACMAIwAjACMAIwAjACMAIwAjACMAIwAjACMAIwAjACMAIwAjACMAIwAjACMAIwAjACMAIwAjACMAIwAjACMAIwAjACMAIwAjACMAIwAjACMAIwAjACMAIwAjACMAIwAjACMAIwAjACMAIwAjACMAIwAjACMAIwAjACMAIwAjACMAIwAjACMAIwAjACMAIwAjACMAIwAjACMAIwAjACMAIwAjACMAIwAjACMAIwAjACMAIwAjACMAIwAjACMAIwAjACMAIwAjACMAIwAjACMAIwAjACMAIwAjABMAIwAjACMAIwAjACMAIwAjACMAIwAjACMAIwAjACMAIwAjACMAIwAjACMAIwAjACMAIwAjACMAIwAjACMAIwAjACMAIwAjACMAIwAjACMAIwAjACMAIwAjACMAIwAjACMAIwAjACMAIwAjACMAIwAjACMAIwAjACMAIwAjACMAIwAjACMAIwAjACMAIwAjACMAIwAjACMAIwAjACMAIwAjACMAIwAjACMAIwAjACMAIwAjACMAIwAjACMAIwAjACMAIwAjACMAIwAjACMAIwAjACMAIwAjACMAIwAjACMAIwAjACMAIwAjACMAIwAjACMAIwAjACMAIwAjACMAIwAjACMAIwAjACMAIwAjACMAIwAjACMAIwAjACMAIwAjACMAIwAjACMAIwAjACMAIwAjACMAIwAjACMAIwAjACMAIwAjACMAIwAjACMAIwAjACMAIwAjACMAIwAjACMAIwAjACMAIwAjACMAIwAjACMAIwAjACMAIwAjACMAIwAjACMAIwAjACMAIwAjACMAIwAjACMAIwAjACMAIwAjACMAIwAjACMAawBrACMAIwAjACMAIwAjACMAIwAjACMAIwAjACMAIwAjACMAIwAjACMAIwAjACMAIwAjACMAIwAjACMAIwAjACMAIwAjACMAIwAjACMAIwAjACMAIwAjACMAIwAjACMAIwAfACMAIwAjACMAIwAjACMAIwAjACMAIwAjACMAIwAjACAAIwAjACIAIwAjACMAIwAjACMAIwAjACMAIwAjACMAIwAjAB0AIwAjACMAIwAjACMAIwAjACIAIwAjACMAGQAjACMAIwAjACMAIwAjACMAIwAjACMAIwAjACMAIwAjACMAIwAjACMAIwAjACMAIwAjACMAIwAjACMAIwAjACMAIwAjACMAIwAjACMAIwAjACMAIwAjACMAIwAjACMAIwAjACMAIwAjACMAIwAjACMAIwAjACMAIwAjACMAIwAjACMAawBqAGoAagAIAA4AHgBsALIBnAJtAG0AbQBtAG0AbQBnAGcAZwBsAGwAbABsAGwAHgBsALMBngIEABsACgALAA8ACAAOAB4AbACzAZ0CBAAbAAoACwAPALIBnAIEABsACgALAA8ACAAOAB4AbACyAZwCBAAbAAoACwAPAAgADgAEABsACgALAA8ACAAOAB4AbACzAZ0CBAAbAAoACwAPAAgADgAeAGsACgAPAAsACAAOAB4AbACzAZ0CBAAbAAoACwAPAAgADgAeAGwAswGdAg8ACAAOAB4AbACzAZ0CBAAbAAoACwAPAAgADgAeAGwAswGdAgQAGwAOAB4AawCzAZ0CBAAbAAoACwAPAAgADgAeAGsAsgGcAgQAGwAKAAsAbACzAZ0CBAAbAAsACwAPAAgADgBsAB4AtAGeAg==",
          "dtype": "i2"
         },
         "yaxis": "y2"
        },
        {
         "marker": {
          "color": "blue",
          "size": 5
         },
         "mode": "markers",
         "name": "Nucleocapsid",
         "showlegend": false,
         "type": "scatter",
         "x": {
          "bdata": "AQEYFxgYGBgYGBgYGBgYGBgYGBgYFxgYGBgYGBgYGBcYIyMjIyMjIyMjIyMjIyMjIyMjIyMjIyMjIyMjIyMjIyMjIyMjIyMjIyMjIyMkIyMjIyMjIyMjIyMjIyMjIyMjIyMjIyMjIyMjIyMjIyMjIyMjIyMjIyMjIyMjIyMjIyMjIyMjIyMjIyMjIyMjIyMjIyMjIyMjIyMjIyMjIyMjIyMjIyMjIyMjIyMjIyQjIyMjIyMjIyMkIyMjIyMjIyMjIyMjIyMjIyMjIyMjIyMjIyMjIyMjIyMjIyMjIyMjIyMjIyMjIyMjIyMjIyMjIyMjIyMjIyMjIyMjIyMjIyMjIyMjIyMjIyMjIyMjIyMjIyMjIyMjIyMjIyMjIyMjIyMjIyMjIyMjIyMjIyIjIyMjIyMjIyMjIyMjIyMjIyMjIyMjIyMjIyMjIyMjIyMkGBgYGBcYGBgYIyMjIyMjIyMjIyMjIyMjIyMjIyMjIyMjIyMjIyMjIyMjIyMjIyMjIyMiIyMjIyMjIyIjIyMjIyIjIyMjIyMjIyMjIyMjIyMjIyMjIyMjIyMjIyMjIyMjIyMjIyMjIyMjIyMjIyMjIyMjIyMjIyMjIyMkIyMjIyMjIyMjIyMjIyMjIyMjIyMjIyMjIyMjIyMjIyMjIyMjIyMjIyMjIyMjIyMjIyMjIyMjIyMjIyMjIyMjJCMjIyMjIyMjIyMjIyMjIyMjIyMjIyMjJCMjIyMjIyMjIyMjIyMjIyIjIyMjIyMjIyMjIyMjIyMjIyMjIyMjIyMjIyMjIyMjIyMjJCMjIyMjIyMjIyMjIyMjIyMjIiMjIyMjIyMiIyMjIyMjIyMjIyMjJCMjIyMjIyMjIyMjIyMjIyMgIyMjIyMjIyMjIyMjIyMjIyMjIyMjIyMjIyMjIyMjIyMjIyMjIyMjIyQjIyMjIyMjIyMjIyMjIyMjJCMjIyMjIyMjIyMjIyMjIyMjIyMjIyMjIyMjIyMjIyMjIyMjIyMjIyMjIyMjIyMjIyMjIyMjIyMjIiMjIyMjIyQjIyMjIyMjIyMjIyMjIyMjIyMkIyMjIyIjIyMjIyMjIyMjIyMjIyMjIyMjIyMjIyAjIyMjIyMjIyMiIyMjIyMjIyMjIyMjIyMjIyMjIyMjIyMjIyMjIyMkIyMjIyMjIyMjIyMjIyMjIyMjIyMjIyMjIyMjIyMjIyMjIyMjIyMjIyMjIyMjIyMjIyMjIyMjIyMjIyMjIyMjIyMjIyMjIyMjIyMjIyMjIyMjIyMjIyMjIyMjJCMjIyMjIyMjIyMjIyMjIyMjIyMjIyMjIyMkIyMjIyMjIyMjIyMjIyMjIyMjIyMjIyMjIyMjIyMjIyMjIyMjIyMjIyMjIyMjIyMjIyMjIyMjIyMjIyMjIyMjIyMjJCMjIyMjIyMjIyMjIyMjIyMjIyMjIyMjIyMjIyMjIyMjIyMjIyMjIyMjIyMjIyMjIyMjIyMjIyMjIyMjIyMjIyMjIyMjIyMjIyMjIyMjIyMjIyMjIyMjIyMjIyMjIyMkIyMjIyMjIyMjJCMjIyMjIyMjIyMjIyMjIyMjIyMjIyMjIyMjIyMjIyMjIyMjIyMjIyMjIyMjIyMjIyMjIyMjIyMjIyMjIyMjIyMjIyMjIyMjIyMjIyMjIyMjIyMjIyMjIyMjIyMjIyMjIyMjIyMjIyMjIyMjIyMjIyMjIyMiIyMjIyMjIyMjIyMjIyMjIyMjIyMjIyMjIyMjIyMjIyMjJA==",
          "dtype": "i1"
         },
         "xaxis": "x2",
         "y": {
          "bdata": "AQEQEREREREREREREBEREREREREREREREREREREREREQHBwcHBwcHBwcHBwdHBwcHBwcHBwcHBwcHBwcHBwcHBwcHBwcHBwcHBwcHBwcHBwcHBwcHBwcHBwcHBwcHBwcHBwcHBwcHBwcHBwcHBwcHBwcHBwcHBwcHBwcHBwcHBwcHBwcHBwcHBwcHBwcHBwcHBwcHBwcHBwcHBwcHBwcHRwcHBwcHBwcHBwcHBwcHBwcHBwcHBwcHBwcHBwcHBwcHBwcHBwcHBwcHBwcHBwcHBwcHBwcHBwcHBwdHBwcHBwcHBwcHBwcHBwcHBwcHBwcHBwcHBwcHBwcHBwcHBwcHBwcHBwcHBwcHBwcHBwcHBwcHBwcHBwcHBwcHBwcHBwcHBwcHBwcHBwcHB0cHBwcHBwcHBwcHBwcHBwcHBwcHBwcHBwcHBwcHBwcHBwcEBEQEREQERIRHBwcHBwcHBwcHBwdHBwcHBwcHB0cHBwcHBwcHBwcHBwcHBwcHBwcHBwcHBwcHBwcHBwcHBwcHBwcHBwcHBwcHBwcHBwcHBwcHBwcHBwcHBwcHBwcHBwcHBwdHBwcHBscHBwcHBwcHBwcHBscHBwcHBwcHBwcHBwcHBwcHBwcHRwcHBwcHBwcHBwcHBwcHBwcHBwbHBwcHBwcHBwcHBwcHBwcHBwcHBwcHBwcHBwcHRwcHBwcHBwcHBwcHBwcHBwcHB0cHBwcHBwcHBwcHBwcHBwcHBwcHBwcHBwcHB0cHBwcHBwcHBwcHBwcHBwcHBwbHBwcHBwcHBwcHBwcHBwcHBwcHBwcHBwcHBwcHBwcHBwcHBwdHBwcHBwcHBwcHBwcHBwcHBwcHB0cHBwcHBwcHBwcHBwbHBwcHBwcHBwcHBwcHBwcHBwcHBwcHBwcHBwcHBwcHBwcHBwcHBwcHBwcHBwcHBwcHBwcHBwcHBwcHBwcHB0cHBwcHBwcHBwcHBwcHBwcHBwcHBwcHBwcHBwcHBwcHBwcHRwcHBwcHBwcHBwcHBwcHBwcHRwdHB0cHBwcHBwcHBwcHBwcHBwcHRwcHBwcHBwcHB0cHBwcHBwcHBwcHBwcHBwcHBwcHBwcHBwcHBwcHBwcHBwcHBwcHBwcHBwcHBwcHBwcHBwcHBwcHBwcHBwcHBwcHBwcHBwcHBwcHRwcHRwcHBwcHBwcHB0cHBwcHBwcHBwcHBwcHBwcHBwcHBwcHBwcHBwcHBwcHBwcHBwcHBwcHBwcHBwcHBwcHBwcHBwcHBwcHBwcHBwcHBwcHBwcHBwdHBweHBwcHBwcHBwcHBwcHBwcHBwcHBwcHB0cHBwcHBwcHBwcHBwcHBwcHBwcHBwcHBwcHBwcHRwcHBwcHBwcHBwcHBwcHBwcHBwcHBwcHBwcHBwcHBwcHBwcHBwcHBwcHBwcHBwcHBwcHBwcHBwcHBwcHBwcHBwcHBwcHBwcHBwcHBwcHBwcHBwcHBwcHBwcHBwcHBwcHBwcHBwcHBwcHBwcHBwcHBwcHB0cHBwcHBwcHBwcHBwcHBwcHBwcHBwcHBwcHBwcHBwcHBwcHBwcHBwcHBwcHBwcHBwcHBwcHBwcHBwcHRwcHBwcHBwcHBwcHBwcHBwcHBwcHBwcHBwcHBwcHBwcHBwcHBwcHBwcHBwcHBwcHBwcHBwcHBwcHBwcHBwcHBwcHBwcHBwcHBwcHBwcHBwdHBwcHBwcHBwcHBwcHBwcHBwcHBwcHBwcHBwcHBwcHBwcHA==",
          "dtype": "i1"
         },
         "yaxis": "y2"
        },
        {
         "marker": {
          "color": "orange",
          "size": 5
         },
         "mode": "markers",
         "name": "Spike",
         "showlegend": false,
         "type": "scatter",
         "x": {
          "bdata": "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",
          "dtype": "i2"
         },
         "xaxis": "x2",
         "y": {
          "bdata": "Z2dnZ2dnZ2dnZ2dnZ2dnZ2dnXl5eXl5eXl5eXl5eWVlZbGxsaWlpaWlpaWlpaWlpaWlpa2tra2tra2tra2pqamtra2tra2tra2tra2RkZGtra2tra2tra2tra2pqampqamtra2tra2tra2tra2tra2pqa2pra2tra2pqampqampqamVlZWVlZWxsbGxsbGxsbA1ra2tlZWVycnJya2trXl5eampmamZmb29vb29vcnINampqampqampqampqampqampqampqampqampqZmZmZWVlZ2dncnJyampqampqZmZmb3JycmpqampqampqampqampqamZmZmtra2tra2tra2tra2tra3JycnJycnJycmwDA2Zra2tycnJlZWVlDmtra2traw8Nbm5ubm5ubm5uZmZmZmZmZnJycj5qa2pqampqaWlpZWVlZ3JycnJycmpqamZmZh9rDWZmZmZmZmZmZg1lZWVlZWVlZWVqampra2tra2tra1lrWVlmZmZqamoMaWlpDGlpaWlpaWlpaWtqampqampqampqallZa1lra2tra2VlZWVra2tra2tra2sNDQ0Na2pqampqampra2tZWVlqampra2tlDWtraw0NDQ0Camtra2VlaGhoDg4ODg5ycnJra2tra2tra2tra2tra2sNDWpqZmZma2tra2tra2tra2tra2Yfaw1mZmZmZmZmZmYNZWVlZWVlDQ0Nampramtra2tla2VlaGhocnJya2tra2traGhoa2trZmZmZmZmZmZmDQ0ia2trampqampqampqamoTa2lpaVlZWVlZWVlZWWZmWmZaWlpaWmVlZWVlZQ0NcnJyZ2dnDQ1ZWVlra2tvb29ra2siImpqZGpkZGxsbGVlZWpqamYNDmxsbGxsbGtra2NkZGRkZGRkZGRkZGZkZWVlZGRkZWVlDWZmZmtra2lpaWxsbA1ra2tra2trDmVlZWVlZQ5mZmZyMjIybGxsa2tra2trWVlZWVkNWQ1kZGRmZmYFampqHGtraGhoa2trY2NjZWVlDQ1lZWVlZWVlbGxsZWVlZWVlZWVlWVlZB2ZmZgMDDw9mZmZma2tmZmZrZ2dnDQ1sbGxra2tra2tra2tyPnJycnJya2trbGxsa2tra2trbGxsbGxsbGxsbGxsDQ0NDQ0NDQ0NDAwMallZWWpqam1tbV9fX2pqanJybW1tZWVlbGxsZWVlZWVlZmZmDWhoaGpqamdnZ2dnampqa2trDWtra2tlZWVlZWVlZWUNAmVlZWtrawN0dHQNZGRkDQJqampqamoNDQ0NDQ0NamdnZw0DDWdnZ2pqamtra2tycg0NDWhoaA4OZWVlampqDWpqanJycg==",
          "dtype": "i1"
         },
         "yaxis": "y2"
        },
        {
         "marker": {
          "color": "red",
          "size": 5
         },
         "mode": "markers",
         "name": "Envelope",
         "showlegend": false,
         "type": "scatter",
         "x": {
          "bdata": "AQEBAQEBAAEBAQEBAQEBAQEBAQEBAQEBAQEBAQEBAQEBAQEBAQEBAQEBAQEBAQEBAQEBAQEBAQEBAQEBAQEBAQEBAQEBAQEBAQEBAQEBAQEBAQEBAQEBAQEBAQEBAQEBAQEBAQEBAQEBAQEBAQEBAQEBAQEBAQEBAQEBAQEBAQEBAQEBAQEBAQEBAQEBAQEBAQEBAQEBAQEBAQEBAQEBAQEBAQEBAQEBAQEBAQEBAQEBAQEBAQEBAQEBAQEBAQEBAQEBAQEBAQEBAQEBAQEBAQEBAQEBAQEBAQEBAQEBAQEBAQEBAQEBAQEBAQEBAQEBAQEBAQEBAQEBAQEBAQEBAQEBAQEBAQEBAQEBAQEBAQEBAQEBAQEBAQEBAQEBAQEBAQEBAQEBAQEBAQEBAQEBAQEBAQEBAQEBAQEBAQEBAQEBAQEBAQEBAQEBAQEBAQEBAQEBAQEBAQEBAQEBAQEBAQEBAQEBAQEBAQEBAQEBAQEBAQEBAQEBAQEBAQEBAQEBAQEBAQEBAQEBAQEBAQEBAQEBAQEBAQEBAQEBAQEBAQEBAQEBAQEBAQEBAQEBAQEBAQEBAQEBAQEBAQEBAQEBAQEBAQEBAQEBAQEBAQEBAQEBAQEBAQEBAQEBAQEBAQEBAQEBAQEBAQEBAQEBAQEBAQEBAQEBAQEBAQEBAQEBAQEBAQEBAQEBAQEBAQEBAQEBAQEBAQEBAQEBAQEBAQEBAQEBAQEBAQEBAQEBAQEBAQEBAQEBAQEBAQEBAQEBAQEBAQEBAQEBAQEBAQEBAQEBAQEBAQEBAQEBAQEBAQEBAQEBAQEBAQEBAQEBAQEBAQEBAQEBAQEBAQEBAQEBAQEBAQEBAQEBAQEBAQEBAQEBAQEBAQEBAQEBAQEBAQEBAQEBAQEBAQEBAQE=",
          "dtype": "i1"
         },
         "xaxis": "x3",
         "y": {
          "bdata": "CQkJCQkJAwkJCQkODg4NDg4ODg4ODg4ODg4ODg4ODg4ODg4ODg4ODg4ODg4ODg4ODg4ODg4ODg4ODg4ODg4ODg4ODg4ODg4ODg4ODg4ODg4ODg4ODg4ODg4ODg4ODg4ODg4ODg4ODg4ODg4ODg4ODg4ODg4ODg4ODg4ODg4ODg4ODg4ODg4ODg4ODg4ODg4ODg4ODw4ODg4ODg4ODg4ODg4ODg4ODg4ODg4ODg4ODg4ODg4ODg4ODg4ODg4ODg4ODg4ODg4ODg4ODg4ODg4ODg4ODg4ODg4ODg4ODg4ODg4ODg4ODg4ODg4ODg4ODg4ODg4ODg4ODg4ODg4ODg4ODg4ODg4ODg4ODg4ODg4ODg4ODg4ODg4ODg4ODg4ODg4ODg4ODg4ODg4ODg4ODg4ODg4ODg4ODg4ODg4ODg4ODg4ODg4ODg4MDg4ODg4ODg4ODg4ODg4ODg4ODg4ODg4ODg4ODg4ODg4ODg4ODg4ODg4ODg4ODg4ODg4ODg4ODg4ODg4ODg4ODg4ODg4ODg4ODg4ODg4ODg4ODg4ODg4ODg4ODg4ODg4ODg4ODg4ODg4ODg4ODg4ODg4ODg4ODg4ODg4ODg4ODg4ODg4ODg4ODg4ODg4ODg4ODg4ODg4ODg4ODg4ODg4ODg4ODg4ODg4ODg4ODg4ODg4ODg4ODg4ODg4ODg4ODg4ODg4ODg4ODg4ODg4ODg4ODg4ODg4ODg4ODg4ODg4ODg4ODg4ODg4ODg4ODg4ODg4ODg4ODg4ODg4ODg4ODg4ODg4ODg4ODg4ODg4ODg4ODg4ODg4ODg4ODg4ODg4ODg4ODg4ODg4ODg4ODg4ODg4ODg4ODg4ODg4ODg4ODg4ODg4ODg4ODg4ODg4ODg4ODg4ODg4ODg4ODg4ODg4ODg4ODg4=",
          "dtype": "i1"
         },
         "yaxis": "y3"
        },
        {
         "marker": {
          "color": "green",
          "size": 5
         },
         "mode": "markers",
         "name": "Membrane",
         "showlegend": false,
         "type": "scatter",
         "x": {
          "bdata": "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",
          "dtype": "i2"
         },
         "xaxis": "x3",
         "y": {
          "bdata": "DgAlACUAJQAlACUAJQAeAB4AJAAkAAkACQAJAAkACQAJAAkAJAAkACMAIwAjACMAIwAjACMAIwAjACMAIwAjACMAIwAjACMAIwAjACMAIwAjACMAIwAjACMAIwAjACMAIwAjACMAIwAjACMAIwAjACMAIwAjACMAIwAjACMAIwAjACMAIwAjACMAIwAjACMAIwAjACMAIwAjACMAIwAjACMAIwAjACMAIwAjACMAIwAjACMAIwAjACMAIwAjACMAIwAjACMAIwAjACMAIwAjACMAIwAjACMAIwAjACMAIwAjACMAIwAjACMAIwAjACMAIwAjACMAIwAjACMAIwAjACMAIwAjACMAIwAjACMAIwAjACMAIwAjACMAIwAjACMAIwAjACMAIwAjACMAIwAjACMAIwAjACMAIwAjACMAIwAjACMAIwAjACMAIwAjACMAIwAjACMAIwAjACMAIwAjACMAIwAjACMAIwAjACMAIwAjACMAIwAjACMAIwAjACMAIwAjACMAIwAjACMAIwAjACMAIwAjACMAIwAjACMAIwAjACMAIwAjACMAIwAjACMAIwAjACMAIwAjACMAIwAjACMAIwAjACMAIwAjACMAIwAjACMAIwAjACMAIwAjACMAIwAjACMAIwAjACMAIwAjACMAIwAjACMAIwAjACMAIwAjACMAIwAjACMAIwAjACMAIwAjACMAIwAjACMAIwAjACMAIwAjACMAIwAjACMAIwAjACMAIwAjACMAIwAjACMAIwAjACMAIwAjACMAIwAjACMAIwAjACMAIwAjACMAIwAjACMAIwAjACMAIwAjACMAIwAjACMAIwAjACMAIwAjACMAIwAjACMAIwAjACMAIwAjACMAIwAjACMAIwAjACMAIwAjACMAIwAjACMAIwAjACMAIwAjACMAIwAjACMAIwAjACMAIwAjACMAIwAjACMAIwAjACMAIwAjACMAIwAjACMAIwAjACMAIwAjACMAIwAjACMAIwAjACMAIwAjACMAIwAjACMAIwAjACMAIwAjACMAIwAjACMAIwAjACMAIwAjACMAIwAjACMAIwAjACMAIwAjACMAIwAjACMAIwAjACMAIwAjACMAIwAjACMAIwAjACMAIwAjACMAIwAjACMAIwAjACMAIwAjACMAIwAjACMAIwAjACMAIwAjACMAIwAjACMAIwAjACMAIwAjACMAIwAjACMAIwAjACMAIwAjACMAIwAjACMAIwAjACMAIwAjACMAIwAjACMAIwAjACMAIwAjACMAIwAjACMAIwAjACMAIwAjABMAIwAjACMAIwAjACMAIwAjACMAIwAjACMAIwAjACMAIwAjACMAIwAjACMAIwAjACMAIwAjACMAIwAjACMAIwAjACMAIwAjACMAIwAjACMAIwAjACMAIwAjACMAIwAjACMAIwAjACMAIwAjACMAIwAjACMAIwAjACMAIwAjACMAIwAjACMAIwAjACMAIwAjACMAIwAjACMAIwAjACMAIwAjACMAIwAjACMAIwAjACMAIwAjACMAIwAjACMAIwAjACMAIwAjACMAIwAjACMAIwAjACMAIwAjACMAIwAjACMAIwAjACMAIwAjACMAIwAjACMAIwAjACMAIwAjACMAIwAjACMAIwAjACMAIwAjACMAIwAjACMAIwAjACMAIwAjACMAIwAjACMAIwAjACMAIwAjACMAIwAjACMAIwAjACMAIwAjACMAIwAjACMAIwAjACMAIwAjACMAIwAjACMAIwAjACMAIwAjACMAIwAjACMAIwAjACMAIwAjACMAIwAjACMAIwAjACMAIwAjACMAIwAjACMAIwAjACMAIwAjACMAIwAjACMAawBrACMAIwAjACMAIwAjACMAIwAjACMAIwAjACMAIwAjACMAIwAjACMAIwAjACMAIwAjACMAIwAjACMAIwAjACMAIwAjACMAIwAjACMAIwAjACMAIwAjACMAIwAjACMAIwAfACMAIwAjACMAIwAjACMAIwAjACMAIwAjACMAIwAjACAAIwAjACIAIwAjACMAIwAjACMAIwAjACMAIwAjACMAIwAjAB0AIwAjACMAIwAjACMAIwAjACIAIwAjACMAGQAjACMAIwAjACMAIwAjACMAIwAjACMAIwAjACMAIwAjACMAIwAjACMAIwAjACMAIwAjACMAIwAjACMAIwAjACMAIwAjACMAIwAjACMAIwAjACMAIwAjACMAIwAjACMAIwAjACMAIwAjACMAIwAjACMAIwAjACMAIwAjACMAIwAjACMAawBqAGoAagAIAA4AHgBsALIBnAJtAG0AbQBtAG0AbQBnAGcAZwBsAGwAbABsAGwAHgBsALMBngIEABsACgALAA8ACAAOAB4AbACzAZ0CBAAbAAoACwAPALIBnAIEABsACgALAA8ACAAOAB4AbACyAZwCBAAbAAoACwAPAAgADgAEABsACgALAA8ACAAOAB4AbACzAZ0CBAAbAAoACwAPAAgADgAeAGsACgAPAAsACAAOAB4AbACzAZ0CBAAbAAoACwAPAAgADgAeAGwAswGdAg8ACAAOAB4AbACzAZ0CBAAbAAoACwAPAAgADgAeAGwAswGdAgQAGwAOAB4AawCzAZ0CBAAbAAoACwAPAAgADgAeAGsAsgGcAgQAGwAKAAsAbACzAZ0CBAAbAAsACwAPAAgADgBsAB4AtAGeAg==",
          "dtype": "i2"
         },
         "yaxis": "y3"
        },
        {
         "marker": {
          "color": "blue",
          "size": 5
         },
         "mode": "markers",
         "name": "Nucleocapsid",
         "showlegend": false,
         "type": "scatter",
         "x": {
          "bdata": "AAAhIiEhISEhISEhIiEhISEhISEhISEgICAgICAgICEhKioqKioqKioqKioqKioqKioqKioqKioqKioqKSoqKioqKioqKioqKioqKioqKioqKioqKioqKioqKioqKiopKioqKioqKioqKioqKioqKioqKioqKioqKioqKioqKioqKioqKioqKioqKioqKioqKikqKioqKioqKioqKioqKioqKioqKSoqKioqKioqKioqKioqKioqKioqKioqKioqKioqKioqKioqKioqKioqKioqKioqKioqKioqKioqKioqKioqKioqKioqKioqKioqKioqKioqKioqKioqKioqKioqKioqKioqKioqKioqKioqKioqKioqKioqKioqKioqKioqKioqKioqKioqKioqKioqKioqKioqKioqKioqKioqKikqKioqKioqKioqISEhICIgISAgKioqKioqKioqKioqKioqKioqKioqKioqKioqKioqKioqKioqKioqKioqKioqKioqKioqKioqKioqKioqKioqKioqKioqKioqKioqKioqKioqKioqKioqKioqKioqKioqKioqKioqKioqKioqKioqKioqKioqKioqKioqKioqKioqKioqKioqKioqKioqKioqKioqKioqKioqKiopKioqKioqKioqKioqKioqKikqKioqKioqKioqKSoqKioqKioqKyoqKioqKioqKioqKioqKioqKioqKioqKyoqKioqKioqKioqKioqKioqKioqKioqKioqKiopKioqKioqKioqKioqKioqKioqKioqKioqKioqKioqKioqKioqKioqKioqKioqKioqKioqKioqKioqKioqKionKioqKioqKioqKSoqKioqKioqKioqKSoqKSoqKioqKioqKioqKioqKioqKioqKioqKioqKioqKioqKioqKioqKioqKioqKioqKioqKioqKioqKioqKioqKioqKioqKioqKioqKioqKioqKioqKioqKioqKioqKioqKioqKioqKioqKioqKioqKioqKioqKioqKioqKioqKioqKioqKioqKioqKioqKioqKioqKioqKioqKiorKioqKioqKioqKioqKioqKioqKioqKioqKioqKiopKioqKioqKikqKioqKioqKioqKioqKioqKioqKioqKioqKioqKioqKioqKioqKioqKioqKioqKioqKioqKioqKioqKioqKioqKyoqKioqKioqKioqKioqKioqKSoqKioqKioqKioqKioqKioqKioqKioqKioqKioqKioqKioqKioqKioqKSoqKioqKioqKioqKioqKioqKioqKioqKioqKioqKioqKikqKioqKioqKioqKioqKioqKioqKioqKioqKioqKioqKioqKSoqKioqKioqKioqKioqKioqKioqKioqKioqKioqKioqKioqKioqKioqKioqKioqKiopKioqKioqKioqKioqKioqKioqKikqKioqKioqKioqKioqKioqKioqKioqKioqKioqKioqKioqKioqKioqKioqKioqKioqKioqKioqKioqKioqKioqKioqKioqKioqKioqKioqKioqKioqKioqKioqKioqKioqKioqKioqKioqKioqKioqKioqKioqKioqKioqKioqKioqKioqKioqKioqKioqKioqKioqKioqKioqKiopKioqKioqKioqKg==",
          "dtype": "i1"
         },
         "xaxis": "x3",
         "y": {
          "bdata": "AQEQEREREREREREREBEREREREREREREREREREREREREQHBwcHBwcHBwcHBwdHBwcHBwcHBwcHBwcHBwcHBwcHBwcHBwcHBwcHBwcHBwcHBwcHBwcHBwcHBwcHBwcHBwcHBwcHBwcHBwcHBwcHBwcHBwcHBwcHBwcHBwcHBwcHBwcHBwcHBwcHBwcHBwcHBwcHBwcHBwcHBwcHBwcHBwcHRwcHBwcHBwcHBwcHBwcHBwcHBwcHBwcHBwcHBwcHBwcHBwcHBwcHBwcHBwcHBwcHBwcHBwcHBwcHBwdHBwcHBwcHBwcHBwcHBwcHBwcHBwcHBwcHBwcHBwcHBwcHBwcHBwcHBwcHBwcHBwcHBwcHBwcHBwcHBwcHBwcHBwcHBwcHBwcHBwcHBwcHB0cHBwcHBwcHBwcHBwcHBwcHBwcHBwcHBwcHBwcHBwcHBwcEBEQEREQERIRHBwcHBwcHBwcHBwdHBwcHBwcHB0cHBwcHBwcHBwcHBwcHBwcHBwcHBwcHBwcHBwcHBwcHBwcHBwcHBwcHBwcHBwcHBwcHBwcHBwcHBwcHBwcHBwcHBwcHBwdHBwcHBscHBwcHBwcHBwcHBscHBwcHBwcHBwcHBwcHBwcHBwcHRwcHBwcHBwcHBwcHBwcHBwcHBwbHBwcHBwcHBwcHBwcHBwcHBwcHBwcHBwcHBwcHRwcHBwcHBwcHBwcHBwcHBwcHB0cHBwcHBwcHBwcHBwcHBwcHBwcHBwcHBwcHB0cHBwcHBwcHBwcHBwcHBwcHBwbHBwcHBwcHBwcHBwcHBwcHBwcHBwcHBwcHBwcHBwcHBwcHBwdHBwcHBwcHBwcHBwcHBwcHBwcHB0cHBwcHBwcHBwcHBwbHBwcHBwcHBwcHBwcHBwcHBwcHBwcHBwcHBwcHBwcHBwcHBwcHBwcHBwcHBwcHBwcHBwcHBwcHBwcHBwcHB0cHBwcHBwcHBwcHBwcHBwcHBwcHBwcHBwcHBwcHBwcHBwcHRwcHBwcHBwcHBwcHBwcHBwcHRwdHB0cHBwcHBwcHBwcHBwcHBwcHRwcHBwcHBwcHB0cHBwcHBwcHBwcHBwcHBwcHBwcHBwcHBwcHBwcHBwcHBwcHBwcHBwcHBwcHBwcHBwcHBwcHBwcHBwcHBwcHBwcHBwcHBwcHBwcHRwcHRwcHBwcHBwcHB0cHBwcHBwcHBwcHBwcHBwcHBwcHBwcHBwcHBwcHBwcHBwcHBwcHBwcHBwcHBwcHBwcHBwcHBwcHBwcHBwcHBwcHBwcHBwcHBwdHBweHBwcHBwcHBwcHBwcHBwcHBwcHBwcHB0cHBwcHBwcHBwcHBwcHBwcHBwcHBwcHBwcHBwcHRwcHBwcHBwcHBwcHBwcHBwcHBwcHBwcHBwcHBwcHBwcHBwcHBwcHBwcHBwcHBwcHBwcHBwcHBwcHBwcHBwcHBwcHBwcHBwcHBwcHBwcHBwcHBwcHBwcHBwcHBwcHBwcHBwcHBwcHBwcHBwcHBwcHBwcHB0cHBwcHBwcHBwcHBwcHBwcHBwcHBwcHBwcHBwcHBwcHBwcHBwcHBwcHBwcHBwcHBwcHBwcHBwcHBwcHRwcHBwcHBwcHBwcHBwcHBwcHBwcHBwcHBwcHBwcHBwcHBwcHBwcHBwcHBwcHBwcHBwcHBwcHBwcHBwcHBwcHBwcHBwcHBwcHBwcHBwcHBwdHBwcHBwcHBwcHBwcHBwcHBwcHBwcHBwcHBwcHBwcHBwcHA==",
          "dtype": "i1"
         },
         "yaxis": "y3"
        },
        {
         "marker": {
          "color": "orange",
          "size": 5
         },
         "mode": "markers",
         "name": "Spike",
         "showlegend": false,
         "type": "scatter",
         "x": {
          "bdata": "Xl5eXl5eXl5eXl5eXl5eXl5eSEhISEhISEhISEhISkpKaGhoXFxcXFxcXFxcXFxcXFxcXl5eXl5eXl5eXmBgYF9fX19fX19fX19fX1BQUF9fX19fX19fX15eXmBgYGBgYF9fX19fX19fX19fX15eXmBgX2BfX19fX2BgYGBgYGBgYFNTU1NTU1JSUlJSUlJSUg9eXl5LS0tbW1taU1NTSEhIX19OX05OXFxcXFxcW1oPX19fX19fX19fX19fX19fX19fX19fX19fX19fTk5OS0tLT09PW1tbX19fX19fTk5OXFtbW19fX19fX19fX19fX19fX05OTltbW1NTU1NTU1NTU1NTU1tbW1tbW1tbW1IBAU5eXl5aWlpLS0tLDF5eXl5eXgwPXV1dXV1dXV1dTk5OTk5OTlpaWjFgU2BgYGBgYWFhS0tLXlpaWlpaWlRUVE9PTxBTD09PT09PT09PTw9LS0tLS0tLS0tSUlJeXl5eXl5eXkpeSkpOTk5UVFQNW1tbDVtbW1tbW1tbW11fX19fX19fYGBgYEtLUktSUlJSUktLS0tfX19fX19fX18PDw8QX19fX19fX19fX19MTExSUlJSUlJLD19fXxAQEBAAX19fX0tLXl5eDw8PDw9aWlpfX19fX19fX19fX19eXl4PD19fTk5OW1tbU1NTU1NTU1NTU08QUw9PT09PT09PT08PS0tLS0tLDw8QUlJQUlBQUlJLUktLXl5eWlpaXl5eXl5eXl5eXl5eWlpaWlpaVFRUEBAUX19fX19fX19fX19gYGARX1JSUkxMTEtLS0tLS1hYS1hLS0tLS0tLS0tLSw8PWlpaXl5eEBBKSkpfX19iYmJeXl4TE09PTU9NTU9PT1RUVFtbW04PDFhYWFhYWF5eXlNTU1NTU1NTU1NTU1VTTU1NTU1NTU1ND05OTl9fX1RUVFhYWA5eXl5eXl5eEE1NTU1NTRBOTk5aISEhWFhYXl5eXl5eSkpKSkoQShBLS0tNTU0EW1tbEV5eXl5eXl5eUVFRVFRUEBBNTU1NTU1NT09PTU1NTU1NTU1NSkpKBE1NTQEBExNOTk5OXl5OTk5eU1NTDw9YWFheXl5eXl5eXl5aMVpaWlpaXl5eU1NTU1NTU1NTU1NTU1NTU1NTU1NTEBAQDBAQEBAQDw8PVEpKSltbW15eXktLS1RUVFpaUFBQV1dXU1NTUlJSUlJSTk5OEE9PT19fX1VVVVVVW1tbXl5eD15eXl5XV1dXV1dXV1cPAFJSUl9fXwBfX18MT09PDwFfX19fX18PDw8PDw8PYFVVVQ8AD09PT1RUVF5eXl5aWhAQEFJSUhAQS0tLUVFRD2BgYFtbWw==",
          "dtype": "i1"
         },
         "xaxis": "x3",
         "y": {
          "bdata": "Z2dnZ2dnZ2dnZ2dnZ2dnZ2dnXl5eXl5eXl5eXl5eWVlZbGxsaWlpaWlpaWlpaWlpaWlpa2tra2tra2tra2pqamtra2tra2tra2tra2RkZGtra2tra2tra2tra2pqampqamtra2tra2tra2tra2tra2pqa2pra2tra2pqampqampqamVlZWVlZWxsbGxsbGxsbA1ra2tlZWVycnJya2trXl5eampmamZmb29vb29vcnINampqampqampqampqampqampqampqampqampqZmZmZWVlZ2dncnJyampqampqZmZmb3JycmpqampqampqampqampqamZmZmtra2tra2tra2tra2tra3JycnJycnJycmwDA2Zra2tycnJlZWVlDmtra2traw8Nbm5ubm5ubm5uZmZmZmZmZnJycj5qa2pqampqaWlpZWVlZ3JycnJycmpqamZmZh9rDWZmZmZmZmZmZg1lZWVlZWVlZWVqampra2tra2tra1lrWVlmZmZqamoMaWlpDGlpaWlpaWlpaWtqampqampqampqallZa1lra2tra2VlZWVra2tra2tra2sNDQ0Na2pqampqampra2tZWVlqampra2tlDWtraw0NDQ0Camtra2VlaGhoDg4ODg5ycnJra2tra2tra2tra2tra2sNDWpqZmZma2tra2tra2tra2tra2Yfaw1mZmZmZmZmZmYNZWVlZWVlDQ0Nampramtra2tla2VlaGhocnJya2tra2traGhoa2trZmZmZmZmZmZmDQ0ia2trampqampqampqamoTa2lpaVlZWVlZWVlZWWZmWmZaWlpaWmVlZWVlZQ0NcnJyZ2dnDQ1ZWVlra2tvb29ra2siImpqZGpkZGxsbGVlZWpqamYNDmxsbGxsbGtra2NkZGRkZGRkZGRkZGZkZWVlZGRkZWVlDWZmZmtra2lpaWxsbA1ra2tra2trDmVlZWVlZQ5mZmZyMjIybGxsa2tra2trWVlZWVkNWQ1kZGRmZmYFampqHGtraGhoa2trY2NjZWVlDQ1lZWVlZWVlbGxsZWVlZWVlZWVlWVlZB2ZmZgMDDw9mZmZma2tmZmZrZ2dnDQ1sbGxra2tra2tra2tyPnJycnJya2trbGxsa2tra2trbGxsbGxsbGxsbGxsDQ0NDQ0NDQ0NDAwMallZWWpqam1tbV9fX2pqanJybW1tZWVlbGxsZWVlZWVlZmZmDWhoaGpqamdnZ2dnampqa2trDWtra2tlZWVlZWVlZWUNAmVlZWtrawN0dHQNZGRkDQJqampqamoNDQ0NDQ0NamdnZw0DDWdnZ2pqamtra2tycg0NDWhoaA4OZWVlampqDWpqanJycg==",
          "dtype": "i1"
         },
         "yaxis": "y3"
        },
        {
         "marker": {
          "color": "red",
          "size": 5
         },
         "mode": "markers",
         "name": "Envelope",
         "showlegend": false,
         "type": "scatter",
         "x": {
          "bdata": "BAQEBAQEAAQEBAQEBAQEBAMDAwMDAwMDAwMDAwMDAwMDAwMDAwMDAwMDAwMDAwMDAwMDAwMDAwMDAwMDAwMDAwMDAwMDAwMDAwMDAwMDAwMDAwMDAwMDAwMDAwMDAwMDAwMDAwMDAwMDAwMDAwMDAwMDAwMDAwMDAwMDAwMDAwMDAwMDAwMDAwMDAwMDAwMDAwMDAwMDAwMDAwMDAwMDAwMDAwMDAwMDAwMDAwMDAwMDAwMDAwMDAwMDAwMDAwMDAwMDAwMDAwMDAwMDAwMDAwMDAwMDAwMDAwMDAwMDAwMDAwMDAwMDAwMDAwMDAwMDAwMDAwMDAwMDAwMDAwMDAwMDAwMDAwMDAwMDAwMDAwMDAwMDAwMDAwMDAwMDAwMDAwMDAwMDAwMDAwMDAwMDAwMDAwMDAwMCAwMDAwMDAwMCAgMDAwMCAwIDAgMCAgICAgMDAgIDAwICAgMCAwIDAwMCAgMDAwIDAgMCAgMCAwMCAwICAgMDAwMDAgMCAgIDAgICAgIDAgIDAwMDAgMDAgIDAwMDAgIDAwMDAgMDAgMDAgIDAwMCAwICAgICAgIDAwMCAwMCAgMDAgMCAgMCAgMDAwICAgMDAgMDAgMDAgMDAwIDAgMDAgMCAwMCAwIDAgIDAwMDAgMDAwIDAgMCAgMCAgMDAgMDAwMCAgMCAgIDAgMCAgMDAwIDAgMCAgIDAgICAwMDAgIDAgMCAgIDAwMDAwMDAwMDAwMCAwMDAwIDAwMDAwMDAwMCAwMDAwMCAgMDAwMDAwIDAwMDAwIDAgMCAgMDAwMDAwIDAwMDAwIDAgIDAgIDAwMCAwMDAwMDAgMCAwIDAwMDAgIDAwMCAwMDAgICAgICAgICAgICAgICAgICAgICAgICAgICAgMCAgICAgICAgI=",
          "dtype": "i1"
         },
         "xaxis": "x4",
         "y": {
          "bdata": "CQkJCQkJAwkJCQkODg4NDg4ODg4ODg4ODg4ODg4ODg4ODg4ODg4ODg4ODg4ODg4ODg4ODg4ODg4ODg4ODg4ODg4ODg4ODg4ODg4ODg4ODg4ODg4ODg4ODg4ODg4ODg4ODg4ODg4ODg4ODg4ODg4ODg4ODg4ODg4ODg4ODg4ODg4ODg4ODg4ODg4ODg4ODg4ODg4ODw4ODg4ODg4ODg4ODg4ODg4ODg4ODg4ODg4ODg4ODg4ODg4ODg4ODg4ODg4ODg4ODg4ODg4ODg4ODg4ODg4ODg4ODg4ODg4ODg4ODg4ODg4ODg4ODg4ODg4ODg4ODg4ODg4ODg4ODg4ODg4ODg4ODg4ODg4ODg4ODg4ODg4ODg4ODg4ODg4ODg4ODg4ODg4ODg4ODg4ODg4ODg4ODg4ODg4ODg4ODg4ODg4ODg4ODg4ODg4MDg4ODg4ODg4ODg4ODg4ODg4ODg4ODg4ODg4ODg4ODg4ODg4ODg4ODg4ODg4ODg4ODg4ODg4ODg4ODg4ODg4ODg4ODg4ODg4ODg4ODg4ODg4ODg4ODg4ODg4ODg4ODg4ODg4ODg4ODg4ODg4ODg4ODg4ODg4ODg4ODg4ODg4ODg4ODg4ODg4ODg4ODg4ODg4ODg4ODg4ODg4ODg4ODg4ODg4ODg4ODg4ODg4ODg4ODg4ODg4ODg4ODg4ODg4ODg4ODg4ODg4ODg4ODg4ODg4ODg4ODg4ODg4ODg4ODg4ODg4ODg4ODg4ODg4ODg4ODg4ODg4ODg4ODg4ODg4ODg4ODg4ODg4ODg4ODg4ODg4ODg4ODg4ODg4ODg4ODg4ODg4ODg4ODg4ODg4ODg4ODg4ODg4ODg4ODg4ODg4ODg4ODg4ODg4ODg4ODg4ODg4ODg4ODg4ODg4ODg4ODg4ODg4ODg4=",
          "dtype": "i1"
         },
         "yaxis": "y4"
        },
        {
         "marker": {
          "color": "green",
          "size": 5
         },
         "mode": "markers",
         "name": "Membrane",
         "showlegend": false,
         "type": "scatter",
         "x": {
          "bdata": "BAANAA0ADQANAA0ADQAKAAoADQANAAIAAgAEAAQABAAEAAQADQANAA0ADQANAA0ADQANAA0ADQANAA0ADgAOAA0ADQANAA0ADQANAA0ADQANAA0ADQANAA0ADQANAA0ADQANAA0ADQANAA0ADQANAA0ADQANAA0ADQANAA0ADQANAA0ADQANAA0ADQANAA0ADQANAA0ADQANAA0ADQANAA0ADQANAA0ADQANAA0ADQANAA0ADQANAA0ADQANAA0ADQANAA0ADQANAA0ADQANAA0ADQANAA0ADQANAA0ADQANAA0ADQANAA0ADQANAA0ADQANAA0ADQANAA0ADQANAA0ADQANAA0ADQANAA0ADQANAA0ADQANAA0ADQANAA0ADQANAA0ADQANAA0ADQANAA0ADQANAA0ADQANAA0ADQANAA0ADQANAA0ADQANAA0ADQANAA0ADQANAA0ADQANAA0ADQANAA0ADQANAA0ADQANAA0ADQANAA0ADQANAA0ADQANAA0ADQANAA0ADQANAA0ADQANAA0ADQANAA0ADQANAA0ADQANAA0ADQANAA0ADQANAA0ADQANAA0ADQANAA0ADQANAA0ADQANAA0ADQANAA0ADQANAA0ADQANAA0ADQANAA0ADQANAA0ADQANAA0ADQANAA0ADQANAA0ADQANAA0ADQANAA0ADQANAA0ADQANAA0ADQANAA0ADQANAA0ADQANAA0ADQANAA0ADQANAA0ADQANAA0ADQANAA0ADQANAA0ADQANAA0ADQANAA0ADQANAA0ADQANAA0ADQANAA0ADQANAA0ADQANAA0ADQANAA0ADQANAA0ADQANAA0ADQANAA0ADQANAA0ADQANAA0ADQANAA0ADQANAA0ADQANAA0ADQANAA0ADQANAA0ADQANAA0ADQANAA0ADQANAA0ADQANAA0ADQANAA0ADQANAA0ADQANAA0ADQANAA0ADQANAA0ADQANAA0ADQANAA0ADQANAA0ADQANAA0ADQANAA0ADQANAA0ADQANAA0ADQANAA0ADQANAA0ADQANAA0ADQANAA0ADQANAA0ADQANAA0ADQANAA0ADQANAA0ADQANAA0ADQANAA0ADQANAA0ADQANAA0ADQAOAA0ADQANAA0ADQANAA0ADQANAA0ADQANAA0ADQANAA0ADQANAA0ADQANAA0ADQANAA0ADgANAA0ADQANAA0ADQANAA0ADQANAA0ADQANAA0ADQANAA0ADQANAA0ADQANAA0ADQANAA0ADQANAA0ADQANAA0ADQANAAUADQANAA0ADQANAA0ADQANAA0ADQANAA0ADQANAA0ADQANAA0ADQANAA0ADQANAA0ADQANAA0ADQANAA0ADQANAA0ADQANAA0ADQANAA0ADQANAA0ADQANAA0ADQANAA0ADQANAA0ADQANAA0ADQANAA0ADQANAA0ADQANAA0ADQANAA0ADQANAA0ADQANAA0ADQANAA0ADQANAA0ADQANAA0ADQANAA0ADQANAA0ADQANAA0ADQANAA0ADQANAA0ADQANAA0ADQANAA0ADQANAA0ADQANAA0ADQANAA0ADQANAA0ADQANAA0ADQANAA0ADQANAA0ADQANAA0ADQANAA0ADQANAA0ADQANAA0ADQANAA0ADQANAA0ADQANAA0ADQANAA0ADQANAA0ADQANAA0ADQANAA0ADQANAA0ADQANAA0ADQANAA0ADQANAA0ADQANAA0ADQANAA0ADQANAA0ADQANAA0ADQANAA0ADQANAA0ADQANAA0ADQANAA0ADQANAA0ADQANAA0ADQANAA0ADQANAA0ADQANAA0ADQANAA0AXwBfAA0ADQANAA0ADQANAA0ADQANAA0ADQANAA0ADQANAA0ADQANAA0ADQANAA0ADQANAA0ADQANAA0ADQANAA0ADQANAA0ADgANAA0ADQANAA0ADQANAA0ADQANAA0ADQANAA4ADQANAA0ADQANAA0ADQANAA0ADgAOAA0ADQANAA4ADQANAAwADgANAA4ADgAOAA4ADgANAA0ADgANAA4ADgAOAAsADgAOAA4ADgAOAA4ADQAOAA0ADgANAA4ACgANAA4ADgANAA0ADQANAA0ADQAOAA0ADQAOAA0ADQANAA0ADgAOAA4ADQANAA4ADQANAA4ADQANAA4ADgAOAA4ADQANAA0ADgANAA0ADgAOAA4ADgAOAA4ADgAOAA0ADQANAA0ADQANAA4ADQANAA0ADgANAA0ADQAOAA0ADQAOAA4AXwBfAF8AXwADAAQAGABhAFkBDwJhAGEAYQBhAGEAYQBeAF4AXgBhAGEAYQBhAGEAGABiAFgBDgICACAABQABAAoAAwAEABgAYQBZAQ8CAgAgAAUAAQAKAFcBDQICACAABQABAAoAAwAEABgAYQBZAQ8CAgAfAAYAAQAKAAMABAACAB8ABgABAAoAAwAEABgAYQBYAQ4CAgAfAAUAAQAKAAMAAwAYAGEABQAKAAEAAwAEABgAYQBZAQ8CAgAfAAYAAQAKAAMABAAYAGEAWAEOAgoAAwAEABgAYQBZAQ8CAgAgAAUAAQAKAAMABAAYAGEAWQEPAgIAIAAEABgAYABYAQ4CAgAeAAUAAQAKAAMAAwAYAGEAVwENAgIAIAAFAAEAYQBZAQ8CAgAgAAUAAQAKAAMABABhABgAVwENAg==",
          "dtype": "i2"
         },
         "xaxis": "x4",
         "y": {
          "bdata": "DgAlACUAJQAlACUAJQAeAB4AJAAkAAkACQAJAAkACQAJAAkAJAAkACMAIwAjACMAIwAjACMAIwAjACMAIwAjACMAIwAjACMAIwAjACMAIwAjACMAIwAjACMAIwAjACMAIwAjACMAIwAjACMAIwAjACMAIwAjACMAIwAjACMAIwAjACMAIwAjACMAIwAjACMAIwAjACMAIwAjACMAIwAjACMAIwAjACMAIwAjACMAIwAjACMAIwAjACMAIwAjACMAIwAjACMAIwAjACMAIwAjACMAIwAjACMAIwAjACMAIwAjACMAIwAjACMAIwAjACMAIwAjACMAIwAjACMAIwAjACMAIwAjACMAIwAjACMAIwAjACMAIwAjACMAIwAjACMAIwAjACMAIwAjACMAIwAjACMAIwAjACMAIwAjACMAIwAjACMAIwAjACMAIwAjACMAIwAjACMAIwAjACMAIwAjACMAIwAjACMAIwAjACMAIwAjACMAIwAjACMAIwAjACMAIwAjACMAIwAjACMAIwAjACMAIwAjACMAIwAjACMAIwAjACMAIwAjACMAIwAjACMAIwAjACMAIwAjACMAIwAjACMAIwAjACMAIwAjACMAIwAjACMAIwAjACMAIwAjACMAIwAjACMAIwAjACMAIwAjACMAIwAjACMAIwAjACMAIwAjACMAIwAjACMAIwAjACMAIwAjACMAIwAjACMAIwAjACMAIwAjACMAIwAjACMAIwAjACMAIwAjACMAIwAjACMAIwAjACMAIwAjACMAIwAjACMAIwAjACMAIwAjACMAIwAjACMAIwAjACMAIwAjACMAIwAjACMAIwAjACMAIwAjACMAIwAjACMAIwAjACMAIwAjACMAIwAjACMAIwAjACMAIwAjACMAIwAjACMAIwAjACMAIwAjACMAIwAjACMAIwAjACMAIwAjACMAIwAjACMAIwAjACMAIwAjACMAIwAjACMAIwAjACMAIwAjACMAIwAjACMAIwAjACMAIwAjACMAIwAjACMAIwAjACMAIwAjACMAIwAjACMAIwAjACMAIwAjACMAIwAjACMAIwAjACMAIwAjACMAIwAjACMAIwAjACMAIwAjACMAIwAjACMAIwAjACMAIwAjACMAIwAjACMAIwAjACMAIwAjACMAIwAjACMAIwAjACMAIwAjACMAIwAjACMAIwAjACMAIwAjACMAIwAjACMAIwAjACMAIwAjACMAIwAjACMAIwAjACMAIwAjACMAIwAjACMAIwAjACMAIwAjACMAIwAjACMAIwAjACMAIwAjABMAIwAjACMAIwAjACMAIwAjACMAIwAjACMAIwAjACMAIwAjACMAIwAjACMAIwAjACMAIwAjACMAIwAjACMAIwAjACMAIwAjACMAIwAjACMAIwAjACMAIwAjACMAIwAjACMAIwAjACMAIwAjACMAIwAjACMAIwAjACMAIwAjACMAIwAjACMAIwAjACMAIwAjACMAIwAjACMAIwAjACMAIwAjACMAIwAjACMAIwAjACMAIwAjACMAIwAjACMAIwAjACMAIwAjACMAIwAjACMAIwAjACMAIwAjACMAIwAjACMAIwAjACMAIwAjACMAIwAjACMAIwAjACMAIwAjACMAIwAjACMAIwAjACMAIwAjACMAIwAjACMAIwAjACMAIwAjACMAIwAjACMAIwAjACMAIwAjACMAIwAjACMAIwAjACMAIwAjACMAIwAjACMAIwAjACMAIwAjACMAIwAjACMAIwAjACMAIwAjACMAIwAjACMAIwAjACMAIwAjACMAIwAjACMAIwAjACMAIwAjACMAIwAjACMAIwAjACMAIwAjACMAIwAjACMAawBrACMAIwAjACMAIwAjACMAIwAjACMAIwAjACMAIwAjACMAIwAjACMAIwAjACMAIwAjACMAIwAjACMAIwAjACMAIwAjACMAIwAjACMAIwAjACMAIwAjACMAIwAjACMAIwAfACMAIwAjACMAIwAjACMAIwAjACMAIwAjACMAIwAjACAAIwAjACIAIwAjACMAIwAjACMAIwAjACMAIwAjACMAIwAjAB0AIwAjACMAIwAjACMAIwAjACIAIwAjACMAGQAjACMAIwAjACMAIwAjACMAIwAjACMAIwAjACMAIwAjACMAIwAjACMAIwAjACMAIwAjACMAIwAjACMAIwAjACMAIwAjACMAIwAjACMAIwAjACMAIwAjACMAIwAjACMAIwAjACMAIwAjACMAIwAjACMAIwAjACMAIwAjACMAIwAjACMAawBqAGoAagAIAA4AHgBsALIBnAJtAG0AbQBtAG0AbQBnAGcAZwBsAGwAbABsAGwAHgBsALMBngIEABsACgALAA8ACAAOAB4AbACzAZ0CBAAbAAoACwAPALIBnAIEABsACgALAA8ACAAOAB4AbACyAZwCBAAbAAoACwAPAAgADgAEABsACgALAA8ACAAOAB4AbACzAZ0CBAAbAAoACwAPAAgADgAeAGsACgAPAAsACAAOAB4AbACzAZ0CBAAbAAoACwAPAAgADgAeAGwAswGdAg8ACAAOAB4AbACzAZ0CBAAbAAoACwAPAAgADgAeAGwAswGdAgQAGwAOAB4AawCzAZ0CBAAbAAoACwAPAAgADgAeAGsAsgGcAgQAGwAKAAsAbACzAZ0CBAAbAAsACwAPAAgADgBsAB4AtAGeAg==",
          "dtype": "i2"
         },
         "yaxis": "y4"
        },
        {
         "marker": {
          "color": "blue",
          "size": 5
         },
         "mode": "markers",
         "name": "Nucleocapsid",
         "showlegend": false,
         "type": "scatter",
         "x": {
          "bdata": "AAATExMTExMTExMTExMTExMTExMTExMSEhMTExITExMTICAhICAgICAgICAgICAgICAgICAgICAgICAgICAgICAgICAgICAgICAgICAgICAgICAgICAgICAgICAgIB8gICAfICAgICAgICAgICAgICAgICAgICAgICAgICAgICAgICAgICAgICAgICAgICAgICAgICAgICAgICAgICAfICAgICAgICAgICAgICAgICAgICAgICAgICAgICAgICAgICAgICAgICAgICAgICAgICAgICAfISAgICAgICAgICAgICAgICAgICAgICAgICAgICAgICAgICAgICAgIB8gICAgICAgICAgICAgICAgICAgICAgICAgICAgISAgICAgICAgICAgICAgICAgICAgICAgICAgICAgHyAgICAgICAgICAgICAgICAgICAgExMTExMTExMSIB8gHyAgICAgICAgIB8gICAgICAgICAgICAgICAgICAgICAgICAgICAgICAgICAgICAgIB8gICAgICAhICAgICAgICAgICAgISAgICAgICAgHyAgICAgICAfICAgIB8gICAgICAgICAgICAgICAgICAgIB8fICAgHyAfICAgHyAgICAgICAgICAgICAgICAgICAgICAgICAgIB8gICAgICAgICAgICAgICAgICAgHyAgISAgICAgICAgICAgICAgIB8gIB8gICAgIB8gIB8gICAgICAgICAgICAgIB8gICAgICAgHyAgICAgICAgICAfICAgICAgICAfICAgICAgICAgICAfICAgICAgICAgISAgICAgICAgICAfICAgHyAgICAfICAgICAgICAgICAgICAgICAeICAfICAgICAgICAgICAgIB8gICAgICAgICAgICAgICAgICAgICAgICAgICAgICAgICAgICAgHyAgHyAgICAgICAgICAgICAgICAgICAgICAgICAgICAgICAgICAgICAgICAgICAgICAgICAgICAgICAgICAgICAgICAgICAgICAgICAgICAgICAgICAgICEgICAgICAgICAgICAgICAgICAgICAgICAgHiEfICAgICAgICAgICAgICAgICAgICAgIB8gICAgICAgICAgICAgICAgICAhICAgICAhICAgICAgICAgICAgICAgICAgICAgICAgICAgICAgICAgICAgICAgICAgICAgICAgICAgICAgICAgICAgICAgICAgICAgICAgICAgICAgICAgICAgISAgHyAgICAgICAgICAgICAgICAgICAgICAgICAgICAgICAgICAgICAgICAgICAgISAgICAgICAgICAgICAgICAgICAgICAgICAgICAgICAgICAgICAgICAgICAgICAgICAgICAgICAgICAfICAgHyAgICAgICAgICAgICAgICAgICAgICAgICAgICAgICAgICAgICAgICAgICAgICAgICAgICAgICAgICAgHyAgICAgICAgICAgICAgICAgICAgICAgICAgICAgICAgICAgICAgICAgICAgICAgICAgICAgHyEgICAgICAgICAgICAgICAgICAgICAgICAgICAgICAgICAgICAgICAfICAgICAgICAgICAgICAgICAgICAgICAgICAgICEgICAgICAgICAgICAgICAgICAgICAgICAgICAgIB8gICAgICAgICAgICAgICAgICAgIA==",
          "dtype": "i1"
         },
         "xaxis": "x4",
         "y": {
          "bdata": "AQEQEREREREREREREBEREREREREREREREREREREREREQHBwcHBwcHBwcHBwdHBwcHBwcHBwcHBwcHBwcHBwcHBwcHBwcHBwcHBwcHBwcHBwcHBwcHBwcHBwcHBwcHBwcHBwcHBwcHBwcHBwcHBwcHBwcHBwcHBwcHBwcHBwcHBwcHBwcHBwcHBwcHBwcHBwcHBwcHBwcHBwcHBwcHBwcHRwcHBwcHBwcHBwcHBwcHBwcHBwcHBwcHBwcHBwcHBwcHBwcHBwcHBwcHBwcHBwcHBwcHBwcHBwcHBwdHBwcHBwcHBwcHBwcHBwcHBwcHBwcHBwcHBwcHBwcHBwcHBwcHBwcHBwcHBwcHBwcHBwcHBwcHBwcHBwcHBwcHBwcHBwcHBwcHBwcHBwcHB0cHBwcHBwcHBwcHBwcHBwcHBwcHBwcHBwcHBwcHBwcHBwcEBEQEREQERIRHBwcHBwcHBwcHBwdHBwcHBwcHB0cHBwcHBwcHBwcHBwcHBwcHBwcHBwcHBwcHBwcHBwcHBwcHBwcHBwcHBwcHBwcHBwcHBwcHBwcHBwcHBwcHBwcHBwcHBwdHBwcHBscHBwcHBwcHBwcHBscHBwcHBwcHBwcHBwcHBwcHBwcHRwcHBwcHBwcHBwcHBwcHBwcHBwbHBwcHBwcHBwcHBwcHBwcHBwcHBwcHBwcHBwcHRwcHBwcHBwcHBwcHBwcHBwcHB0cHBwcHBwcHBwcHBwcHBwcHBwcHBwcHBwcHB0cHBwcHBwcHBwcHBwcHBwcHBwbHBwcHBwcHBwcHBwcHBwcHBwcHBwcHBwcHBwcHBwcHBwcHBwdHBwcHBwcHBwcHBwcHBwcHBwcHB0cHBwcHBwcHBwcHBwbHBwcHBwcHBwcHBwcHBwcHBwcHBwcHBwcHBwcHBwcHBwcHBwcHBwcHBwcHBwcHBwcHBwcHBwcHBwcHBwcHB0cHBwcHBwcHBwcHBwcHBwcHBwcHBwcHBwcHBwcHBwcHBwcHRwcHBwcHBwcHBwcHBwcHBwcHRwdHB0cHBwcHBwcHBwcHBwcHBwcHRwcHBwcHBwcHB0cHBwcHBwcHBwcHBwcHBwcHBwcHBwcHBwcHBwcHBwcHBwcHBwcHBwcHBwcHBwcHBwcHBwcHBwcHBwcHBwcHBwcHBwcHBwcHBwcHRwcHRwcHBwcHBwcHB0cHBwcHBwcHBwcHBwcHBwcHBwcHBwcHBwcHBwcHBwcHBwcHBwcHBwcHBwcHBwcHBwcHBwcHBwcHBwcHBwcHBwcHBwcHBwcHBwdHBweHBwcHBwcHBwcHBwcHBwcHBwcHBwcHB0cHBwcHBwcHBwcHBwcHBwcHBwcHBwcHBwcHBwcHRwcHBwcHBwcHBwcHBwcHBwcHBwcHBwcHBwcHBwcHBwcHBwcHBwcHBwcHBwcHBwcHBwcHBwcHBwcHBwcHBwcHBwcHBwcHBwcHBwcHBwcHBwcHBwcHBwcHBwcHBwcHBwcHBwcHBwcHBwcHBwcHBwcHBwcHB0cHBwcHBwcHBwcHBwcHBwcHBwcHBwcHBwcHBwcHBwcHBwcHBwcHBwcHBwcHBwcHBwcHBwcHBwcHBwcHRwcHBwcHBwcHBwcHBwcHBwcHBwcHBwcHBwcHBwcHBwcHBwcHBwcHBwcHBwcHBwcHBwcHBwcHBwcHBwcHBwcHBwcHBwcHBwcHBwcHBwcHBwdHBwcHBwcHBwcHBwcHBwcHBwcHBwcHBwcHBwcHBwcHBwcHA==",
          "dtype": "i1"
         },
         "yaxis": "y4"
        },
        {
         "marker": {
          "color": "orange",
          "size": 5
         },
         "mode": "markers",
         "name": "Spike",
         "showlegend": false,
         "type": "scatter",
         "x": {
          "bdata": "X19fX19fX19fX19fX19fX19fWlpaWlpaWlpaWlpaWlpaX19fX19fX19fX19fX19fX19fX19fX19fX19fX19fX15eXl9fX19fX19fX1xcXF5eXl9fX19fX19fX19fX19fX19fX19fX19fX19fX19fX19fXl9eXl9fX19fX19fX19fX19fX19fX2FhYWFhYWFhYQtfX19bW1tgYGBfXl5eWlpaXV1eXV5eYGBgYGBgYF8LXV1dXV1dXV1dXV1dXV1dXV1dXV1dXV1dXV1dXl5eW1tbXl5eX19fXV1dXV1dXl5eYF9fX11dXV1dXV1dXV1dXV1dXV5eXl9fX15eXl5eXl5eXl5eXl9fX19fX2BgYGEBAV5fX19gYGBbW1tbCl9fX19fXwwLYWFhYWFhYWFhXl5eXl5eXmBgYDpfXl9fX19fXFxcW1tbX2BgYGBgYF9fX15eXgZeDF5eXl5eXl5eXgtbW1tbW1tbW1tcXFxfX19fX19fX1pfWlpeXl5fX18KXV1dCl1dXV1dXV1dXV9eXl5eXl5eX19fX19fXl9eXl5eXltbW1tfX19fX19fX18LCwsMX19fX19fX19eXl5fX19eXl5eXl5bC19fXwsLCwsAX15eXltbXl5eDQ0NDQ1gYGBfX19fX19fX19fX19fX18MDF1dXl5eX19fXl5eXl5eXl5eXl4GXgxeXl5eXl5eXl4LW1tbW1tbCwwLXl5fXl9fXl5bXltbXl5eYGBgX19fX19fXl5eX19fX19fX19fYGBgCwsaX19fX19fX19fXl5fX18TXl9fX19fX19fX19fX2FhX2FfX19fX1tbW1tbWwsLYGBgX19fCwtaWlpeXl5hYWFfX18dHV9fXl9eXl9fX19fX1xcXF4KCWBgYGBgYF9fX19fX19fX19fX19fX2BfXl5eXl5eXl5eDF5eXl9fX19fX2BgYApfX19fX19fDV5eXl5eXg1eXl5gJSUlYGBgX19fX19fWlpaWloLWgtaWlpdXV0AXFxcGl9fXl5eX19fXV1dX19fCwtdXl5eXl5eX19fXV1dXV1dXl5eWlpaAl1dXQEBDg5eXl5eX19eXl5fX19fDAxgYGBfX19fX19fX19gOmBgYGBgX19fYGBgX19fYGBgYGBgYGBgYWFhYWFhCwsLCAoKCgoKCQkJX1paWlxcXGFhYV1dXV9fX2BgYmJiXFxcYWFhX19fX19fXl5eDVxcXF9fX19fX19fXFxcX19fCl9fX19cXFxcXFxcXFwMAF9fX19fXwBbW1sKXFxcCgFfX19fX18MDAwMDAwMXV9fXwsBCl5eXl9fX19fX19gYA0NDV5eXg4OW1tbXFxcCl1dXWBgYA==",
          "dtype": "i1"
         },
         "xaxis": "x4",
         "y": {
          "bdata": "Z2dnZ2dnZ2dnZ2dnZ2dnZ2dnXl5eXl5eXl5eXl5eWVlZbGxsaWlpaWlpaWlpaWlpaWlpa2tra2tra2tra2pqamtra2tra2tra2tra2RkZGtra2tra2tra2tra2pqampqamtra2tra2tra2tra2tra2pqa2pra2tra2pqampqampqamVlZWVlZWxsbGxsbGxsbA1ra2tlZWVycnJya2trXl5eampmamZmb29vb29vcnINampqampqampqampqampqampqampqampqampqZmZmZWVlZ2dncnJyampqampqZmZmb3JycmpqampqampqampqampqamZmZmtra2tra2tra2tra2tra3JycnJycnJycmwDA2Zra2tycnJlZWVlDmtra2traw8Nbm5ubm5ubm5uZmZmZmZmZnJycj5qa2pqampqaWlpZWVlZ3JycnJycmpqamZmZh9rDWZmZmZmZmZmZg1lZWVlZWVlZWVqampra2tra2tra1lrWVlmZmZqamoMaWlpDGlpaWlpaWlpaWtqampqampqampqallZa1lra2tra2VlZWVra2tra2tra2sNDQ0Na2pqampqampra2tZWVlqampra2tlDWtraw0NDQ0Camtra2VlaGhoDg4ODg5ycnJra2tra2tra2tra2tra2sNDWpqZmZma2tra2tra2tra2tra2Yfaw1mZmZmZmZmZmYNZWVlZWVlDQ0Nampramtra2tla2VlaGhocnJya2tra2traGhoa2trZmZmZmZmZmZmDQ0ia2trampqampqampqamoTa2lpaVlZWVlZWVlZWWZmWmZaWlpaWmVlZWVlZQ0NcnJyZ2dnDQ1ZWVlra2tvb29ra2siImpqZGpkZGxsbGVlZWpqamYNDmxsbGxsbGtra2NkZGRkZGRkZGRkZGZkZWVlZGRkZWVlDWZmZmtra2lpaWxsbA1ra2tra2trDmVlZWVlZQ5mZmZyMjIybGxsa2tra2trWVlZWVkNWQ1kZGRmZmYFampqHGtraGhoa2trY2NjZWVlDQ1lZWVlZWVlbGxsZWVlZWVlZWVlWVlZB2ZmZgMDDw9mZmZma2tmZmZrZ2dnDQ1sbGxra2tra2tra2tyPnJycnJya2trbGxsa2tra2trbGxsbGxsbGxsbGxsDQ0NDQ0NDQ0NDAwMallZWWpqam1tbV9fX2pqanJybW1tZWVlbGxsZWVlZWVlZmZmDWhoaGpqamdnZ2dnampqa2trDWtra2tlZWVlZWVlZWUNAmVlZWtrawN0dHQNZGRkDQJqampqamoNDQ0NDQ0NamdnZw0DDWdnZ2pqamtra2tycg0NDWhoaA4OZWVlampqDWpqanJycg==",
          "dtype": "i1"
         },
         "yaxis": "y4"
        },
        {
         "marker": {
          "color": "red",
          "size": 5
         },
         "mode": "markers",
         "name": "Envelope",
         "showlegend": false,
         "type": "scatter",
         "x": {
          "bdata": "CQkJCQkJAwkJCQkODg4NDg4ODg4ODg4ODg4ODg4ODg4ODg4ODg4ODg4ODg4ODg4ODg4ODg4ODg4ODg4ODg4ODg4ODg4ODg4ODg4ODg4ODg4ODg4ODg4ODg4ODg4ODg4ODg4ODg4ODg4ODg4ODg4ODg4ODg4ODg4ODg4ODg4ODg4ODg4ODg4ODg4ODg4ODg4ODg4ODw4ODg4ODg4ODg4ODg4ODg4ODg4ODg4ODg4ODg4ODg4ODg4ODg4ODg4ODg4ODg4ODg4ODg4ODg4ODg4ODg4ODg4ODg4ODg4ODg4ODg4ODg4ODg4ODg4ODg4ODg4ODg4ODg4ODg4ODg4ODg4ODg4ODg4ODg4ODg4ODg4ODg4ODg4ODg4ODg4ODg4ODg4ODg4ODg4ODg4ODg4ODg4ODg4ODg4ODg4ODg4ODg4ODg4ODg4ODg4MDg4ODg4ODg4ODg4ODg4ODg4ODg4ODg4ODg4ODg4ODg4ODg4ODg4ODg4ODg4ODg4ODg4ODg4ODg4ODg4ODg4ODg4ODg4ODg4ODg4ODg4ODg4ODg4ODg4ODg4ODg4ODg4ODg4ODg4ODg4ODg4ODg4ODg4ODg4ODg4ODg4ODg4ODg4ODg4ODg4ODg4ODg4ODg4ODg4ODg4ODg4ODg4ODg4ODg4ODg4ODg4ODg4ODg4ODg4ODg4ODg4ODg4ODg4ODg4ODg4ODg4ODg4ODg4ODg4ODg4ODg4ODg4ODg4ODg4ODg4ODg4ODg4ODg4ODg4ODg4ODg4ODg4ODg4ODg4ODg4ODg4ODg4ODg4ODg4ODg4ODg4ODg4ODg4ODg4ODg4ODg4ODg4ODg4ODg4ODg4ODg4ODg4ODg4ODg4ODg4ODg4ODg4ODg4ODg4ODg4ODg4ODg4ODg4ODg4ODg4ODg4ODg4ODg4=",
          "dtype": "i1"
         },
         "xaxis": "x5",
         "y": {
          "bdata": "AQEBAQEBAwEBAQEICAgICAgICAgICAgICAgICAgICAgICAgICAgICAgICAgICAgICAgICAgICAgICAgICAgICAgICAgICAgICAgICAgICAgICAgICAgICAgICAgICAgICAgICAgICAgICAgICAgICAgICAgICAgICAgICAgICAgICAgICAgICAgICAgICAgICAgICAgICAgICAgICAgICAgICAgICAgICAgICAgICAgICAgICAgICAgICAgICAgICAgICAgICAgICAgICAgICAgICAgICAgICAgICAgICAgICAgICAgICAgICAgICAgICAgICAgICAgICAgICAgICAgICAgICAgICAgICAgICAgICAgICAgICAgICAgICAgICAgICAgICAgICAgICAgICAgICAgICAgICAgICAgICAgICAgICAgGCAgICAgICAgICAgICAgICAgICAgICAgICAgICAgICAgICAgICAgICAgICAgICAgICAgICAgICAgICAgICAgICAgICAgICAgICAgICAgICAgICAgICAgICAgICAgICAgICAgICAgICAgICAgICAgICAgICAgICAgICAgICAgICAgICAgICAgICAgICAgICAgICAgICAgICAgICAgICAgICAgICAgICAgHCAgICAgICAgICAgICAgICAgICAgICAgICAgICAgICAgICAgICAgICAgICAgICAgICAgICAgICAgICAgICAgICAgICAgICAgICAgICAgICAgICAgICAgICAgICAgICAgICAgICAgICAgICAgICAgICAgICAgICAgICAgICAgICAgICAgICAgICAgICAgICAgICAgICAgICAgICAgICAgICAgICAgICAgICAgICAgICAgICAgICAgICAg=",
          "dtype": "i1"
         },
         "yaxis": "y5"
        },
        {
         "marker": {
          "color": "green",
          "size": 5
         },
         "mode": "markers",
         "name": "Membrane",
         "showlegend": false,
         "type": "scatter",
         "x": {
          "bdata": "DgAlACUAJQAlACUAJQAeAB4AJAAkAAkACQAJAAkACQAJAAkAJAAkACMAIwAjACMAIwAjACMAIwAjACMAIwAjACMAIwAjACMAIwAjACMAIwAjACMAIwAjACMAIwAjACMAIwAjACMAIwAjACMAIwAjACMAIwAjACMAIwAjACMAIwAjACMAIwAjACMAIwAjACMAIwAjACMAIwAjACMAIwAjACMAIwAjACMAIwAjACMAIwAjACMAIwAjACMAIwAjACMAIwAjACMAIwAjACMAIwAjACMAIwAjACMAIwAjACMAIwAjACMAIwAjACMAIwAjACMAIwAjACMAIwAjACMAIwAjACMAIwAjACMAIwAjACMAIwAjACMAIwAjACMAIwAjACMAIwAjACMAIwAjACMAIwAjACMAIwAjACMAIwAjACMAIwAjACMAIwAjACMAIwAjACMAIwAjACMAIwAjACMAIwAjACMAIwAjACMAIwAjACMAIwAjACMAIwAjACMAIwAjACMAIwAjACMAIwAjACMAIwAjACMAIwAjACMAIwAjACMAIwAjACMAIwAjACMAIwAjACMAIwAjACMAIwAjACMAIwAjACMAIwAjACMAIwAjACMAIwAjACMAIwAjACMAIwAjACMAIwAjACMAIwAjACMAIwAjACMAIwAjACMAIwAjACMAIwAjACMAIwAjACMAIwAjACMAIwAjACMAIwAjACMAIwAjACMAIwAjACMAIwAjACMAIwAjACMAIwAjACMAIwAjACMAIwAjACMAIwAjACMAIwAjACMAIwAjACMAIwAjACMAIwAjACMAIwAjACMAIwAjACMAIwAjACMAIwAjACMAIwAjACMAIwAjACMAIwAjACMAIwAjACMAIwAjACMAIwAjACMAIwAjACMAIwAjACMAIwAjACMAIwAjACMAIwAjACMAIwAjACMAIwAjACMAIwAjACMAIwAjACMAIwAjACMAIwAjACMAIwAjACMAIwAjACMAIwAjACMAIwAjACMAIwAjACMAIwAjACMAIwAjACMAIwAjACMAIwAjACMAIwAjACMAIwAjACMAIwAjACMAIwAjACMAIwAjACMAIwAjACMAIwAjACMAIwAjACMAIwAjACMAIwAjACMAIwAjACMAIwAjACMAIwAjACMAIwAjACMAIwAjACMAIwAjACMAIwAjACMAIwAjACMAIwAjACMAIwAjACMAIwAjACMAIwAjACMAIwAjACMAIwAjACMAIwAjACMAIwAjACMAIwAjACMAIwAjACMAIwAjACMAIwAjACMAIwAjACMAIwAjABMAIwAjACMAIwAjACMAIwAjACMAIwAjACMAIwAjACMAIwAjACMAIwAjACMAIwAjACMAIwAjACMAIwAjACMAIwAjACMAIwAjACMAIwAjACMAIwAjACMAIwAjACMAIwAjACMAIwAjACMAIwAjACMAIwAjACMAIwAjACMAIwAjACMAIwAjACMAIwAjACMAIwAjACMAIwAjACMAIwAjACMAIwAjACMAIwAjACMAIwAjACMAIwAjACMAIwAjACMAIwAjACMAIwAjACMAIwAjACMAIwAjACMAIwAjACMAIwAjACMAIwAjACMAIwAjACMAIwAjACMAIwAjACMAIwAjACMAIwAjACMAIwAjACMAIwAjACMAIwAjACMAIwAjACMAIwAjACMAIwAjACMAIwAjACMAIwAjACMAIwAjACMAIwAjACMAIwAjACMAIwAjACMAIwAjACMAIwAjACMAIwAjACMAIwAjACMAIwAjACMAIwAjACMAIwAjACMAIwAjACMAIwAjACMAIwAjACMAIwAjACMAIwAjACMAIwAjACMAIwAjACMAIwAjACMAawBrACMAIwAjACMAIwAjACMAIwAjACMAIwAjACMAIwAjACMAIwAjACMAIwAjACMAIwAjACMAIwAjACMAIwAjACMAIwAjACMAIwAjACMAIwAjACMAIwAjACMAIwAjACMAIwAfACMAIwAjACMAIwAjACMAIwAjACMAIwAjACMAIwAjACAAIwAjACIAIwAjACMAIwAjACMAIwAjACMAIwAjACMAIwAjAB0AIwAjACMAIwAjACMAIwAjACIAIwAjACMAGQAjACMAIwAjACMAIwAjACMAIwAjACMAIwAjACMAIwAjACMAIwAjACMAIwAjACMAIwAjACMAIwAjACMAIwAjACMAIwAjACMAIwAjACMAIwAjACMAIwAjACMAIwAjACMAIwAjACMAIwAjACMAIwAjACMAIwAjACMAIwAjACMAIwAjACMAawBqAGoAagAIAA4AHgBsALIBnAJtAG0AbQBtAG0AbQBnAGcAZwBsAGwAbABsAGwAHgBsALMBngIEABsACgALAA8ACAAOAB4AbACzAZ0CBAAbAAoACwAPALIBnAIEABsACgALAA8ACAAOAB4AbACyAZwCBAAbAAoACwAPAAgADgAEABsACgALAA8ACAAOAB4AbACzAZ0CBAAbAAoACwAPAAgADgAeAGsACgAPAAsACAAOAB4AbACzAZ0CBAAbAAoACwAPAAgADgAeAGwAswGdAg8ACAAOAB4AbACzAZ0CBAAbAAoACwAPAAgADgAeAGwAswGdAgQAGwAOAB4AawCzAZ0CBAAbAAoACwAPAAgADgAeAGsAsgGcAgQAGwAKAAsAbACzAZ0CBAAbAAsACwAPAAgADgBsAB4AtAGeAg==",
          "dtype": "i2"
         },
         "xaxis": "x5",
         "y": {
          "bdata": "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",
          "dtype": "i2"
         },
         "yaxis": "y5"
        },
        {
         "marker": {
          "color": "blue",
          "size": 5
         },
         "mode": "markers",
         "name": "Nucleocapsid",
         "showlegend": false,
         "type": "scatter",
         "x": {
          "bdata": "AQEQEREREREREREREBEREREREREREREREREREREREREQHBwcHBwcHBwcHBwdHBwcHBwcHBwcHBwcHBwcHBwcHBwcHBwcHBwcHBwcHBwcHBwcHBwcHBwcHBwcHBwcHBwcHBwcHBwcHBwcHBwcHBwcHBwcHBwcHBwcHBwcHBwcHBwcHBwcHBwcHBwcHBwcHBwcHBwcHBwcHBwcHBwcHBwcHRwcHBwcHBwcHBwcHBwcHBwcHBwcHBwcHBwcHBwcHBwcHBwcHBwcHBwcHBwcHBwcHBwcHBwcHBwcHBwdHBwcHBwcHBwcHBwcHBwcHBwcHBwcHBwcHBwcHBwcHBwcHBwcHBwcHBwcHBwcHBwcHBwcHBwcHBwcHBwcHBwcHBwcHBwcHBwcHBwcHBwcHB0cHBwcHBwcHBwcHBwcHBwcHBwcHBwcHBwcHBwcHBwcHBwcEBEQEREQERIRHBwcHBwcHBwcHBwdHBwcHBwcHB0cHBwcHBwcHBwcHBwcHBwcHBwcHBwcHBwcHBwcHBwcHBwcHBwcHBwcHBwcHBwcHBwcHBwcHBwcHBwcHBwcHBwcHBwcHBwdHBwcHBscHBwcHBwcHBwcHBscHBwcHBwcHBwcHBwcHBwcHBwcHRwcHBwcHBwcHBwcHBwcHBwcHBwbHBwcHBwcHBwcHBwcHBwcHBwcHBwcHBwcHBwcHRwcHBwcHBwcHBwcHBwcHBwcHB0cHBwcHBwcHBwcHBwcHBwcHBwcHBwcHBwcHB0cHBwcHBwcHBwcHBwcHBwcHBwbHBwcHBwcHBwcHBwcHBwcHBwcHBwcHBwcHBwcHBwcHBwcHBwdHBwcHBwcHBwcHBwcHBwcHBwcHB0cHBwcHBwcHBwcHBwbHBwcHBwcHBwcHBwcHBwcHBwcHBwcHBwcHBwcHBwcHBwcHBwcHBwcHBwcHBwcHBwcHBwcHBwcHBwcHBwcHB0cHBwcHBwcHBwcHBwcHBwcHBwcHBwcHBwcHBwcHBwcHBwcHRwcHBwcHBwcHBwcHBwcHBwcHRwdHB0cHBwcHBwcHBwcHBwcHBwcHRwcHBwcHBwcHB0cHBwcHBwcHBwcHBwcHBwcHBwcHBwcHBwcHBwcHBwcHBwcHBwcHBwcHBwcHBwcHBwcHBwcHBwcHBwcHBwcHBwcHBwcHBwcHBwcHRwcHRwcHBwcHBwcHB0cHBwcHBwcHBwcHBwcHBwcHBwcHBwcHBwcHBwcHBwcHBwcHBwcHBwcHBwcHBwcHBwcHBwcHBwcHBwcHBwcHBwcHBwcHBwcHBwdHBweHBwcHBwcHBwcHBwcHBwcHBwcHBwcHB0cHBwcHBwcHBwcHBwcHBwcHBwcHBwcHBwcHBwcHRwcHBwcHBwcHBwcHBwcHBwcHBwcHBwcHBwcHBwcHBwcHBwcHBwcHBwcHBwcHBwcHBwcHBwcHBwcHBwcHBwcHBwcHBwcHBwcHBwcHBwcHBwcHBwcHBwcHBwcHBwcHBwcHBwcHBwcHBwcHBwcHBwcHBwcHB0cHBwcHBwcHBwcHBwcHBwcHBwcHBwcHBwcHBwcHBwcHBwcHBwcHBwcHBwcHBwcHBwcHBwcHBwcHBwcHRwcHBwcHBwcHBwcHBwcHBwcHBwcHBwcHBwcHBwcHBwcHBwcHBwcHBwcHBwcHBwcHBwcHBwcHBwcHBwcHBwcHBwcHBwcHBwcHBwcHBwcHBwdHBwcHBwcHBwcHBwcHBwcHBwcHBwcHBwcHBwcHBwcHBwcHA==",
          "dtype": "i1"
         },
         "xaxis": "x5",
         "y": {
          "bdata": "AQEYFxgYGBgYGBgYGBgYGBgYGBgYFxgYGBgYGBgYGBcYIyMjIyMjIyMjIyMjIyMjIyMjIyMjIyMjIyMjIyMjIyMjIyMjIyMjIyMjIyMkIyMjIyMjIyMjIyMjIyMjIyMjIyMjIyMjIyMjIyMjIyMjIyMjIyMjIyMjIyMjIyMjIyMjIyMjIyMjIyMjIyMjIyMjIyMjIyMjIyMjIyMjIyMjIyMjIyMjIyMjIyMjIyQjIyMjIyMjIyMkIyMjIyMjIyMjIyMjIyMjIyMjIyMjIyMjIyMjIyMjIyMjIyMjIyMjIyMjIyMjIyMjIyMjIyMjIyMjIyMjIyMjIyMjIyMjIyMjIyMjIyMjIyMjIyMjIyMjIyMjIyMjIyMjIyMjIyMjIyMjIyMjIyMjIyMjIyIjIyMjIyMjIyMjIyMjIyMjIyMjIyMjIyMjIyMjIyMjIyMkGBgYGBcYGBgYIyMjIyMjIyMjIyMjIyMjIyMjIyMjIyMjIyMjIyMjIyMjIyMjIyMjIyMiIyMjIyMjIyIjIyMjIyIjIyMjIyMjIyMjIyMjIyMjIyMjIyMjIyMjIyMjIyMjIyMjIyMjIyMjIyMjIyMjIyMjIyMjIyMjIyMkIyMjIyMjIyMjIyMjIyMjIyMjIyMjIyMjIyMjIyMjIyMjIyMjIyMjIyMjIyMjIyMjIyMjIyMjIyMjIyMjIyMjJCMjIyMjIyMjIyMjIyMjIyMjIyMjIyMjJCMjIyMjIyMjIyMjIyMjIyIjIyMjIyMjIyMjIyMjIyMjIyMjIyMjIyMjIyMjIyMjIyMjJCMjIyMjIyMjIyMjIyMjIyMjIiMjIyMjIyMiIyMjIyMjIyMjIyMjJCMjIyMjIyMjIyMjIyMjIyMgIyMjIyMjIyMjIyMjIyMjIyMjIyMjIyMjIyMjIyMjIyMjIyMjIyMjIyQjIyMjIyMjIyMjIyMjIyMjJCMjIyMjIyMjIyMjIyMjIyMjIyMjIyMjIyMjIyMjIyMjIyMjIyMjIyMjIyMjIyMjIyMjIyMjIyMjIiMjIyMjIyQjIyMjIyMjIyMjIyMjIyMjIyMkIyMjIyIjIyMjIyMjIyMjIyMjIyMjIyMjIyMjIyAjIyMjIyMjIyMiIyMjIyMjIyMjIyMjIyMjIyMjIyMjIyMjIyMjIyMkIyMjIyMjIyMjIyMjIyMjIyMjIyMjIyMjIyMjIyMjIyMjIyMjIyMjIyMjIyMjIyMjIyMjIyMjIyMjIyMjIyMjIyMjIyMjIyMjIyMjIyMjIyMjIyMjIyMjIyMjJCMjIyMjIyMjIyMjIyMjIyMjIyMjIyMjIyMkIyMjIyMjIyMjIyMjIyMjIyMjIyMjIyMjIyMjIyMjIyMjIyMjIyMjIyMjIyMjIyMjIyMjIyMjIyMjIyMjIyMjIyMjJCMjIyMjIyMjIyMjIyMjIyMjIyMjIyMjIyMjIyMjIyMjIyMjIyMjIyMjIyMjIyMjIyMjIyMjIyMjIyMjIyMjIyMjIyMjIyMjIyMjIyMjIyMjIyMjIyMjIyMjIyMjIyMkIyMjIyMjIyMjJCMjIyMjIyMjIyMjIyMjIyMjIyMjIyMjIyMjIyMjIyMjIyMjIyMjIyMjIyMjIyMjIyMjIyMjIyMjIyMjIyMjIyMjIyMjIyMjIyMjIyMjIyMjIyMjIyMjIyMjIyMjIyMjIyMjIyMjIyMjIyMjIyMjIyMjIyMiIyMjIyMjIyMjIyMjIyMjIyMjIyMjIyMjIyMjIyMjIyMjJA==",
          "dtype": "i1"
         },
         "yaxis": "y5"
        },
        {
         "marker": {
          "color": "orange",
          "size": 5
         },
         "mode": "markers",
         "name": "Spike",
         "showlegend": false,
         "type": "scatter",
         "x": {
          "bdata": "Z2dnZ2dnZ2dnZ2dnZ2dnZ2dnXl5eXl5eXl5eXl5eWVlZbGxsaWlpaWlpaWlpaWlpaWlpa2tra2tra2tra2pqamtra2tra2tra2tra2RkZGtra2tra2tra2tra2pqampqamtra2tra2tra2tra2tra2pqa2pra2tra2pqampqampqamVlZWVlZWxsbGxsbGxsbA1ra2tlZWVycnJya2trXl5eampmamZmb29vb29vcnINampqampqampqampqampqampqampqampqampqZmZmZWVlZ2dncnJyampqampqZmZmb3JycmpqampqampqampqampqamZmZmtra2tra2tra2tra2tra3JycnJycnJycmwDA2Zra2tycnJlZWVlDmtra2traw8Nbm5ubm5ubm5uZmZmZmZmZnJycj5qa2pqampqaWlpZWVlZ3JycnJycmpqamZmZh9rDWZmZmZmZmZmZg1lZWVlZWVlZWVqampra2tra2tra1lrWVlmZmZqamoMaWlpDGlpaWlpaWlpaWtqampqampqampqallZa1lra2tra2VlZWVra2tra2tra2sNDQ0Na2pqampqampra2tZWVlqampra2tlDWtraw0NDQ0Camtra2VlaGhoDg4ODg5ycnJra2tra2tra2tra2tra2sNDWpqZmZma2tra2tra2tra2tra2Yfaw1mZmZmZmZmZmYNZWVlZWVlDQ0Nampramtra2tla2VlaGhocnJya2tra2traGhoa2trZmZmZmZmZmZmDQ0ia2trampqampqampqamoTa2lpaVlZWVlZWVlZWWZmWmZaWlpaWmVlZWVlZQ0NcnJyZ2dnDQ1ZWVlra2tvb29ra2siImpqZGpkZGxsbGVlZWpqamYNDmxsbGxsbGtra2NkZGRkZGRkZGRkZGZkZWVlZGRkZWVlDWZmZmtra2lpaWxsbA1ra2tra2trDmVlZWVlZQ5mZmZyMjIybGxsa2tra2trWVlZWVkNWQ1kZGRmZmYFampqHGtraGhoa2trY2NjZWVlDQ1lZWVlZWVlbGxsZWVlZWVlZWVlWVlZB2ZmZgMDDw9mZmZma2tmZmZrZ2dnDQ1sbGxra2tra2tra2tyPnJycnJya2trbGxsa2tra2trbGxsbGxsbGxsbGxsDQ0NDQ0NDQ0NDAwMallZWWpqam1tbV9fX2pqanJybW1tZWVlbGxsZWVlZWVlZmZmDWhoaGpqamdnZ2dnampqa2trDWtra2tlZWVlZWVlZWUNAmVlZWtrawN0dHQNZGRkDQJqampqamoNDQ0NDQ0NamdnZw0DDWdnZ2pqamtra2tycg0NDWhoaA4OZWVlampqDWpqanJycg==",
          "dtype": "i1"
         },
         "xaxis": "x5",
         "y": {
          "bdata": "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",
          "dtype": "i2"
         },
         "yaxis": "y5"
        },
        {
         "marker": {
          "color": "red"
         },
         "name": "Envelope",
         "nbinsx": 20,
         "opacity": 0.6,
         "showlegend": false,
         "type": "histogram",
         "x": {
          "bdata": "AQEBAQEBAwEBAQEICAgICAgICAgICAgICAgICAgICAgICAgICAgICAgICAgICAgICAgICAgICAgICAgICAgICAgICAgICAgICAgICAgICAgICAgICAgICAgICAgICAgICAgICAgICAgICAgICAgICAgICAgICAgICAgICAgICAgICAgICAgICAgICAgICAgICAgICAgICAgICAgICAgICAgICAgICAgICAgICAgICAgICAgICAgICAgICAgICAgICAgICAgICAgICAgICAgICAgICAgICAgICAgICAgICAgICAgICAgICAgICAgICAgICAgICAgICAgICAgICAgICAgICAgICAgICAgICAgICAgICAgICAgICAgICAgICAgICAgICAgICAgICAgICAgICAgICAgICAgICAgICAgICAgICAgICAgGCAgICAgICAgICAgICAgICAgICAgICAgICAgICAgICAgICAgICAgICAgICAgICAgICAgICAgICAgICAgICAgICAgICAgICAgICAgICAgICAgICAgICAgICAgICAgICAgICAgICAgICAgICAgICAgICAgICAgICAgICAgICAgICAgICAgICAgICAgICAgICAgICAgICAgICAgICAgICAgICAgICAgICAgHCAgICAgICAgICAgICAgICAgICAgICAgICAgICAgICAgICAgICAgICAgICAgICAgICAgICAgICAgICAgICAgICAgICAgICAgICAgICAgICAgICAgICAgICAgICAgICAgICAgICAgICAgICAgICAgICAgICAgICAgICAgICAgICAgICAgICAgICAgICAgICAgICAgICAgICAgICAgICAgICAgICAgICAgICAgICAgICAgICAgICAgICAg=",
          "dtype": "i1"
         },
         "xaxis": "x6",
         "yaxis": "y6"
        },
        {
         "marker": {
          "color": "green"
         },
         "name": "Membrane",
         "nbinsx": 20,
         "opacity": 0.6,
         "showlegend": false,
         "type": "histogram",
         "x": {
          "bdata": "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",
          "dtype": "i2"
         },
         "xaxis": "x6",
         "yaxis": "y6"
        },
        {
         "marker": {
          "color": "blue"
         },
         "name": "Nucleocapsid",
         "nbinsx": 20,
         "opacity": 0.6,
         "showlegend": false,
         "type": "histogram",
         "x": {
          "bdata": "AQEYFxgYGBgYGBgYGBgYGBgYGBgYFxgYGBgYGBgYGBcYIyMjIyMjIyMjIyMjIyMjIyMjIyMjIyMjIyMjIyMjIyMjIyMjIyMjIyMjIyMkIyMjIyMjIyMjIyMjIyMjIyMjIyMjIyMjIyMjIyMjIyMjIyMjIyMjIyMjIyMjIyMjIyMjIyMjIyMjIyMjIyMjIyMjIyMjIyMjIyMjIyMjIyMjIyMjIyMjIyMjIyMjIyQjIyMjIyMjIyMkIyMjIyMjIyMjIyMjIyMjIyMjIyMjIyMjIyMjIyMjIyMjIyMjIyMjIyMjIyMjIyMjIyMjIyMjIyMjIyMjIyMjIyMjIyMjIyMjIyMjIyMjIyMjIyMjIyMjIyMjIyMjIyMjIyMjIyMjIyMjIyMjIyMjIyMjIyIjIyMjIyMjIyMjIyMjIyMjIyMjIyMjIyMjIyMjIyMjIyMkGBgYGBcYGBgYIyMjIyMjIyMjIyMjIyMjIyMjIyMjIyMjIyMjIyMjIyMjIyMjIyMjIyMiIyMjIyMjIyIjIyMjIyIjIyMjIyMjIyMjIyMjIyMjIyMjIyMjIyMjIyMjIyMjIyMjIyMjIyMjIyMjIyMjIyMjIyMjIyMjIyMkIyMjIyMjIyMjIyMjIyMjIyMjIyMjIyMjIyMjIyMjIyMjIyMjIyMjIyMjIyMjIyMjIyMjIyMjIyMjIyMjIyMjJCMjIyMjIyMjIyMjIyMjIyMjIyMjIyMjJCMjIyMjIyMjIyMjIyMjIyIjIyMjIyMjIyMjIyMjIyMjIyMjIyMjIyMjIyMjIyMjIyMjJCMjIyMjIyMjIyMjIyMjIyMjIiMjIyMjIyMiIyMjIyMjIyMjIyMjJCMjIyMjIyMjIyMjIyMjIyMgIyMjIyMjIyMjIyMjIyMjIyMjIyMjIyMjIyMjIyMjIyMjIyMjIyMjIyQjIyMjIyMjIyMjIyMjIyMjJCMjIyMjIyMjIyMjIyMjIyMjIyMjIyMjIyMjIyMjIyMjIyMjIyMjIyMjIyMjIyMjIyMjIyMjIyMjIiMjIyMjIyQjIyMjIyMjIyMjIyMjIyMjIyMkIyMjIyIjIyMjIyMjIyMjIyMjIyMjIyMjIyMjIyAjIyMjIyMjIyMiIyMjIyMjIyMjIyMjIyMjIyMjIyMjIyMjIyMjIyMkIyMjIyMjIyMjIyMjIyMjIyMjIyMjIyMjIyMjIyMjIyMjIyMjIyMjIyMjIyMjIyMjIyMjIyMjIyMjIyMjIyMjIyMjIyMjIyMjIyMjIyMjIyMjIyMjIyMjIyMjJCMjIyMjIyMjIyMjIyMjIyMjIyMjIyMjIyMkIyMjIyMjIyMjIyMjIyMjIyMjIyMjIyMjIyMjIyMjIyMjIyMjIyMjIyMjIyMjIyMjIyMjIyMjIyMjIyMjIyMjIyMjJCMjIyMjIyMjIyMjIyMjIyMjIyMjIyMjIyMjIyMjIyMjIyMjIyMjIyMjIyMjIyMjIyMjIyMjIyMjIyMjIyMjIyMjIyMjIyMjIyMjIyMjIyMjIyMjIyMjIyMjIyMjIyMkIyMjIyMjIyMjJCMjIyMjIyMjIyMjIyMjIyMjIyMjIyMjIyMjIyMjIyMjIyMjIyMjIyMjIyMjIyMjIyMjIyMjIyMjIyMjIyMjIyMjIyMjIyMjIyMjIyMjIyMjIyMjIyMjIyMjIyMjIyMjIyMjIyMjIyMjIyMjIyMjIyMjIyMiIyMjIyMjIyMjIyMjIyMjIyMjIyMjIyMjIyMjIyMjIyMjJA==",
          "dtype": "i1"
         },
         "xaxis": "x6",
         "yaxis": "y6"
        },
        {
         "marker": {
          "color": "orange"
         },
         "name": "Spike",
         "nbinsx": 20,
         "opacity": 0.6,
         "showlegend": false,
         "type": "histogram",
         "x": {
          "bdata": "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",
          "dtype": "i2"
         },
         "xaxis": "x6",
         "yaxis": "y6"
        },
        {
         "marker": {
          "color": "red",
          "size": 5
         },
         "mode": "markers",
         "name": "Envelope",
         "showlegend": false,
         "type": "scatter",
         "x": {
          "bdata": "AQEBAQEBAAEBAQEBAQEBAQEBAQEBAQEBAQEBAQEBAQEBAQEBAQEBAQEBAQEBAQEBAQEBAQEBAQEBAQEBAQEBAQEBAQEBAQEBAQEBAQEBAQEBAQEBAQEBAQEBAQEBAQEBAQEBAQEBAQEBAQEBAQEBAQEBAQEBAQEBAQEBAQEBAQEBAQEBAQEBAQEBAQEBAQEBAQEBAQEBAQEBAQEBAQEBAQEBAQEBAQEBAQEBAQEBAQEBAQEBAQEBAQEBAQEBAQEBAQEBAQEBAQEBAQEBAQEBAQEBAQEBAQEBAQEBAQEBAQEBAQEBAQEBAQEBAQEBAQEBAQEBAQEBAQEBAQEBAQEBAQEBAQEBAQEBAQEBAQEBAQEBAQEBAQEBAQEBAQEBAQEBAQEBAQEBAQEBAQEBAQEBAQEBAQEBAQEBAQEBAQEBAQEBAQEBAQEBAQEBAQEBAQEBAQEBAQEBAQEBAQEBAQEBAQEBAQEBAQEBAQEBAQEBAQEBAQEBAQEBAQEBAQEBAQEBAQEBAQEBAQEBAQEBAQEBAQEBAQEBAQEBAQEBAQEBAQEBAQEBAQEBAQEBAQEBAQEBAQEBAQEBAQEBAQEBAQEBAQEBAQEBAQEBAQEBAQEBAQEBAQEBAQEBAQEBAQEBAQEBAQEBAQEBAQEBAQEBAQEBAQEBAQEBAQEBAQEBAQEBAQEBAQEBAQEBAQEBAQEBAQEBAQEBAQEBAQEBAQEBAQEBAQEBAQEBAQEBAQEBAQEBAQEBAQEBAQEBAQEBAQEBAQEBAQEBAQEBAQEBAQEBAQEBAQEBAQEBAQEBAQEBAQEBAQEBAQEBAQEBAQEBAQEBAQEBAQEBAQEBAQEBAQEBAQEBAQEBAQEBAQEBAQEBAQEBAQEBAQEBAQEBAQEBAQEBAQEBAQEBAQEBAQE=",
          "dtype": "i1"
         },
         "xaxis": "x7",
         "y": {
          "bdata": "AQEBAQEBAwEBAQEICAgICAgICAgICAgICAgICAgICAgICAgICAgICAgICAgICAgICAgICAgICAgICAgICAgICAgICAgICAgICAgICAgICAgICAgICAgICAgICAgICAgICAgICAgICAgICAgICAgICAgICAgICAgICAgICAgICAgICAgICAgICAgICAgICAgICAgICAgICAgICAgICAgICAgICAgICAgICAgICAgICAgICAgICAgICAgICAgICAgICAgICAgICAgICAgICAgICAgICAgICAgICAgICAgICAgICAgICAgICAgICAgICAgICAgICAgICAgICAgICAgICAgICAgICAgICAgICAgICAgICAgICAgICAgICAgICAgICAgICAgICAgICAgICAgICAgICAgICAgICAgICAgICAgICAgICAgGCAgICAgICAgICAgICAgICAgICAgICAgICAgICAgICAgICAgICAgICAgICAgICAgICAgICAgICAgICAgICAgICAgICAgICAgICAgICAgICAgICAgICAgICAgICAgICAgICAgICAgICAgICAgICAgICAgICAgICAgICAgICAgICAgICAgICAgICAgICAgICAgICAgICAgICAgICAgICAgICAgICAgICAgHCAgICAgICAgICAgICAgICAgICAgICAgICAgICAgICAgICAgICAgICAgICAgICAgICAgICAgICAgICAgICAgICAgICAgICAgICAgICAgICAgICAgICAgICAgICAgICAgICAgICAgICAgICAgICAgICAgICAgICAgICAgICAgICAgICAgICAgICAgICAgICAgICAgICAgICAgICAgICAgICAgICAgICAgICAgICAgICAgICAgICAgICAg=",
          "dtype": "i1"
         },
         "yaxis": "y7"
        },
        {
         "marker": {
          "color": "green",
          "size": 5
         },
         "mode": "markers",
         "name": "Membrane",
         "showlegend": false,
         "type": "scatter",
         "x": {
          "bdata": "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",
          "dtype": "i2"
         },
         "xaxis": "x7",
         "y": {
          "bdata": "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",
          "dtype": "i2"
         },
         "yaxis": "y7"
        },
        {
         "marker": {
          "color": "blue",
          "size": 5
         },
         "mode": "markers",
         "name": "Nucleocapsid",
         "showlegend": false,
         "type": "scatter",
         "x": {
          "bdata": "AAAhIiEhISEhISEhIiEhISEhISEhISEgICAgICAgICEhKioqKioqKioqKioqKioqKioqKioqKioqKioqKSoqKioqKioqKioqKioqKioqKioqKioqKioqKioqKioqKiopKioqKioqKioqKioqKioqKioqKioqKioqKioqKioqKioqKioqKioqKioqKioqKioqKikqKioqKioqKioqKioqKioqKioqKSoqKioqKioqKioqKioqKioqKioqKioqKioqKioqKioqKioqKioqKioqKioqKioqKioqKioqKioqKioqKioqKioqKioqKioqKioqKioqKioqKioqKioqKioqKioqKioqKioqKioqKioqKioqKioqKioqKioqKioqKioqKioqKioqKioqKioqKioqKioqKioqKioqKioqKioqKioqKikqKioqKioqKioqISEhICIgISAgKioqKioqKioqKioqKioqKioqKioqKioqKioqKioqKioqKioqKioqKioqKioqKioqKioqKioqKioqKioqKioqKioqKioqKioqKioqKioqKioqKioqKioqKioqKioqKioqKioqKioqKioqKioqKioqKioqKioqKioqKioqKioqKioqKioqKioqKioqKioqKioqKioqKioqKioqKiopKioqKioqKioqKioqKioqKikqKioqKioqKioqKSoqKioqKioqKyoqKioqKioqKioqKioqKioqKioqKioqKyoqKioqKioqKioqKioqKioqKioqKioqKioqKiopKioqKioqKioqKioqKioqKioqKioqKioqKioqKioqKioqKioqKioqKioqKioqKioqKioqKioqKioqKioqKionKioqKioqKioqKSoqKioqKioqKioqKSoqKSoqKioqKioqKioqKioqKioqKioqKioqKioqKioqKioqKioqKioqKioqKioqKioqKioqKioqKioqKioqKioqKioqKioqKioqKioqKioqKioqKioqKioqKioqKioqKioqKioqKioqKioqKioqKioqKioqKioqKioqKioqKioqKioqKioqKioqKioqKioqKioqKioqKioqKioqKiorKioqKioqKioqKioqKioqKioqKioqKioqKioqKiopKioqKioqKikqKioqKioqKioqKioqKioqKioqKioqKioqKioqKioqKioqKioqKioqKioqKioqKioqKioqKioqKioqKioqKioqKyoqKioqKioqKioqKioqKioqKSoqKioqKioqKioqKioqKioqKioqKioqKioqKioqKioqKioqKioqKioqKSoqKioqKioqKioqKioqKioqKioqKioqKioqKioqKioqKikqKioqKioqKioqKioqKioqKioqKioqKioqKioqKioqKioqKSoqKioqKioqKioqKioqKioqKioqKioqKioqKioqKioqKioqKioqKioqKioqKioqKiopKioqKioqKioqKioqKioqKioqKikqKioqKioqKioqKioqKioqKioqKioqKioqKioqKioqKioqKioqKioqKioqKioqKioqKioqKioqKioqKioqKioqKioqKioqKioqKioqKioqKioqKioqKioqKioqKioqKioqKioqKioqKioqKioqKioqKioqKioqKioqKioqKioqKioqKioqKioqKioqKioqKioqKioqKioqKioqKiopKioqKioqKioqKg==",
          "dtype": "i1"
         },
         "xaxis": "x7",
         "y": {
          "bdata": "AQEYFxgYGBgYGBgYGBgYGBgYGBgYFxgYGBgYGBgYGBcYIyMjIyMjIyMjIyMjIyMjIyMjIyMjIyMjIyMjIyMjIyMjIyMjIyMjIyMjIyMkIyMjIyMjIyMjIyMjIyMjIyMjIyMjIyMjIyMjIyMjIyMjIyMjIyMjIyMjIyMjIyMjIyMjIyMjIyMjIyMjIyMjIyMjIyMjIyMjIyMjIyMjIyMjIyMjIyMjIyMjIyMjIyQjIyMjIyMjIyMkIyMjIyMjIyMjIyMjIyMjIyMjIyMjIyMjIyMjIyMjIyMjIyMjIyMjIyMjIyMjIyMjIyMjIyMjIyMjIyMjIyMjIyMjIyMjIyMjIyMjIyMjIyMjIyMjIyMjIyMjIyMjIyMjIyMjIyMjIyMjIyMjIyMjIyMjIyIjIyMjIyMjIyMjIyMjIyMjIyMjIyMjIyMjIyMjIyMjIyMkGBgYGBcYGBgYIyMjIyMjIyMjIyMjIyMjIyMjIyMjIyMjIyMjIyMjIyMjIyMjIyMjIyMiIyMjIyMjIyIjIyMjIyIjIyMjIyMjIyMjIyMjIyMjIyMjIyMjIyMjIyMjIyMjIyMjIyMjIyMjIyMjIyMjIyMjIyMjIyMjIyMkIyMjIyMjIyMjIyMjIyMjIyMjIyMjIyMjIyMjIyMjIyMjIyMjIyMjIyMjIyMjIyMjIyMjIyMjIyMjIyMjIyMjJCMjIyMjIyMjIyMjIyMjIyMjIyMjIyMjJCMjIyMjIyMjIyMjIyMjIyIjIyMjIyMjIyMjIyMjIyMjIyMjIyMjIyMjIyMjIyMjIyMjJCMjIyMjIyMjIyMjIyMjIyMjIiMjIyMjIyMiIyMjIyMjIyMjIyMjJCMjIyMjIyMjIyMjIyMjIyMgIyMjIyMjIyMjIyMjIyMjIyMjIyMjIyMjIyMjIyMjIyMjIyMjIyMjIyQjIyMjIyMjIyMjIyMjIyMjJCMjIyMjIyMjIyMjIyMjIyMjIyMjIyMjIyMjIyMjIyMjIyMjIyMjIyMjIyMjIyMjIyMjIyMjIyMjIiMjIyMjIyQjIyMjIyMjIyMjIyMjIyMjIyMkIyMjIyIjIyMjIyMjIyMjIyMjIyMjIyMjIyMjIyAjIyMjIyMjIyMiIyMjIyMjIyMjIyMjIyMjIyMjIyMjIyMjIyMjIyMkIyMjIyMjIyMjIyMjIyMjIyMjIyMjIyMjIyMjIyMjIyMjIyMjIyMjIyMjIyMjIyMjIyMjIyMjIyMjIyMjIyMjIyMjIyMjIyMjIyMjIyMjIyMjIyMjIyMjIyMjJCMjIyMjIyMjIyMjIyMjIyMjIyMjIyMjIyMkIyMjIyMjIyMjIyMjIyMjIyMjIyMjIyMjIyMjIyMjIyMjIyMjIyMjIyMjIyMjIyMjIyMjIyMjIyMjIyMjIyMjIyMjJCMjIyMjIyMjIyMjIyMjIyMjIyMjIyMjIyMjIyMjIyMjIyMjIyMjIyMjIyMjIyMjIyMjIyMjIyMjIyMjIyMjIyMjIyMjIyMjIyMjIyMjIyMjIyMjIyMjIyMjIyMjIyMkIyMjIyMjIyMjJCMjIyMjIyMjIyMjIyMjIyMjIyMjIyMjIyMjIyMjIyMjIyMjIyMjIyMjIyMjIyMjIyMjIyMjIyMjIyMjIyMjIyMjIyMjIyMjIyMjIyMjIyMjIyMjIyMjIyMjIyMjIyMjIyMjIyMjIyMjIyMjIyMjIyMjIyMiIyMjIyMjIyMjIyMjIyMjIyMjIyMjIyMjIyMjIyMjIyMjJA==",
          "dtype": "i1"
         },
         "yaxis": "y7"
        },
        {
         "marker": {
          "color": "orange",
          "size": 5
         },
         "mode": "markers",
         "name": "Spike",
         "showlegend": false,
         "type": "scatter",
         "x": {
          "bdata": "Xl5eXl5eXl5eXl5eXl5eXl5eSEhISEhISEhISEhISkpKaGhoXFxcXFxcXFxcXFxcXFxcXl5eXl5eXl5eXmBgYF9fX19fX19fX19fX1BQUF9fX19fX19fX15eXmBgYGBgYF9fX19fX19fX19fX15eXmBgX2BfX19fX2BgYGBgYGBgYFNTU1NTU1JSUlJSUlJSUg9eXl5LS0tbW1taU1NTSEhIX19OX05OXFxcXFxcW1oPX19fX19fX19fX19fX19fX19fX19fX19fX19fTk5OS0tLT09PW1tbX19fX19fTk5OXFtbW19fX19fX19fX19fX19fX05OTltbW1NTU1NTU1NTU1NTU1tbW1tbW1tbW1IBAU5eXl5aWlpLS0tLDF5eXl5eXgwPXV1dXV1dXV1dTk5OTk5OTlpaWjFgU2BgYGBgYWFhS0tLXlpaWlpaWlRUVE9PTxBTD09PT09PT09PTw9LS0tLS0tLS0tSUlJeXl5eXl5eXkpeSkpOTk5UVFQNW1tbDVtbW1tbW1tbW11fX19fX19fYGBgYEtLUktSUlJSUktLS0tfX19fX19fX18PDw8QX19fX19fX19fX19MTExSUlJSUlJLD19fXxAQEBAAX19fX0tLXl5eDw8PDw9aWlpfX19fX19fX19fX19eXl4PD19fTk5OW1tbU1NTU1NTU1NTU08QUw9PT09PT09PT08PS0tLS0tLDw8QUlJQUlBQUlJLUktLXl5eWlpaXl5eXl5eXl5eXl5eWlpaWlpaVFRUEBAUX19fX19fX19fX19gYGARX1JSUkxMTEtLS0tLS1hYS1hLS0tLS0tLS0tLSw8PWlpaXl5eEBBKSkpfX19iYmJeXl4TE09PTU9NTU9PT1RUVFtbW04PDFhYWFhYWF5eXlNTU1NTU1NTU1NTU1VTTU1NTU1NTU1ND05OTl9fX1RUVFhYWA5eXl5eXl5eEE1NTU1NTRBOTk5aISEhWFhYXl5eXl5eSkpKSkoQShBLS0tNTU0EW1tbEV5eXl5eXl5eUVFRVFRUEBBNTU1NTU1NT09PTU1NTU1NTU1NSkpKBE1NTQEBExNOTk5OXl5OTk5eU1NTDw9YWFheXl5eXl5eXl5aMVpaWlpaXl5eU1NTU1NTU1NTU1NTU1NTU1NTU1NTEBAQDBAQEBAQDw8PVEpKSltbW15eXktLS1RUVFpaUFBQV1dXU1NTUlJSUlJSTk5OEE9PT19fX1VVVVVVW1tbXl5eD15eXl5XV1dXV1dXV1cPAFJSUl9fXwBfX18MT09PDwFfX19fX18PDw8PDw8PYFVVVQ8AD09PT1RUVF5eXl5aWhAQEFJSUhAQS0tLUVFRD2BgYFtbWw==",
          "dtype": "i1"
         },
         "xaxis": "x7",
         "y": {
          "bdata": "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",
          "dtype": "i2"
         },
         "yaxis": "y7"
        },
        {
         "marker": {
          "color": "red",
          "size": 5
         },
         "mode": "markers",
         "name": "Envelope",
         "showlegend": false,
         "type": "scatter",
         "x": {
          "bdata": "BAQEBAQEAAQEBAQEBAQEBAMDAwMDAwMDAwMDAwMDAwMDAwMDAwMDAwMDAwMDAwMDAwMDAwMDAwMDAwMDAwMDAwMDAwMDAwMDAwMDAwMDAwMDAwMDAwMDAwMDAwMDAwMDAwMDAwMDAwMDAwMDAwMDAwMDAwMDAwMDAwMDAwMDAwMDAwMDAwMDAwMDAwMDAwMDAwMDAwMDAwMDAwMDAwMDAwMDAwMDAwMDAwMDAwMDAwMDAwMDAwMDAwMDAwMDAwMDAwMDAwMDAwMDAwMDAwMDAwMDAwMDAwMDAwMDAwMDAwMDAwMDAwMDAwMDAwMDAwMDAwMDAwMDAwMDAwMDAwMDAwMDAwMDAwMDAwMDAwMDAwMDAwMDAwMDAwMDAwMDAwMDAwMDAwMDAwMDAwMDAwMDAwMDAwMDAwMCAwMDAwMDAwMCAgMDAwMCAwIDAgMCAgICAgMDAgIDAwICAgMCAwIDAwMCAgMDAwIDAgMCAgMCAwMCAwICAgMDAwMDAgMCAgIDAgICAgIDAgIDAwMDAgMDAgIDAwMDAgIDAwMDAgMDAgMDAgIDAwMCAwICAgICAgIDAwMCAwMCAgMDAgMCAgMCAgMDAwICAgMDAgMDAgMDAgMDAwIDAgMDAgMCAwMCAwIDAgIDAwMDAgMDAwIDAgMCAgMCAgMDAgMDAwMCAgMCAgIDAgMCAgMDAwIDAgMCAgIDAgICAwMDAgIDAgMCAgIDAwMDAwMDAwMDAwMCAwMDAwIDAwMDAwMDAwMCAwMDAwMCAgMDAwMDAwIDAwMDAwIDAgMCAgMDAwMDAwIDAwMDAwIDAgIDAgIDAwMCAwMDAwMDAgMCAwIDAwMDAgIDAwMCAwMDAgICAgICAgICAgICAgICAgICAgICAgICAgICAgMCAgICAgICAgI=",
          "dtype": "i1"
         },
         "xaxis": "x8",
         "y": {
          "bdata": "AQEBAQEBAwEBAQEICAgICAgICAgICAgICAgICAgICAgICAgICAgICAgICAgICAgICAgICAgICAgICAgICAgICAgICAgICAgICAgICAgICAgICAgICAgICAgICAgICAgICAgICAgICAgICAgICAgICAgICAgICAgICAgICAgICAgICAgICAgICAgICAgICAgICAgICAgICAgICAgICAgICAgICAgICAgICAgICAgICAgICAgICAgICAgICAgICAgICAgICAgICAgICAgICAgICAgICAgICAgICAgICAgICAgICAgICAgICAgICAgICAgICAgICAgICAgICAgICAgICAgICAgICAgICAgICAgICAgICAgICAgICAgICAgICAgICAgICAgICAgICAgICAgICAgICAgICAgICAgICAgICAgICAgICAgGCAgICAgICAgICAgICAgICAgICAgICAgICAgICAgICAgICAgICAgICAgICAgICAgICAgICAgICAgICAgICAgICAgICAgICAgICAgICAgICAgICAgICAgICAgICAgICAgICAgICAgICAgICAgICAgICAgICAgICAgICAgICAgICAgICAgICAgICAgICAgICAgICAgICAgICAgICAgICAgICAgICAgICAgHCAgICAgICAgICAgICAgICAgICAgICAgICAgICAgICAgICAgICAgICAgICAgICAgICAgICAgICAgICAgICAgICAgICAgICAgICAgICAgICAgICAgICAgICAgICAgICAgICAgICAgICAgICAgICAgICAgICAgICAgICAgICAgICAgICAgICAgICAgICAgICAgICAgICAgICAgICAgICAgICAgICAgICAgICAgICAgICAgICAgICAgICAg=",
          "dtype": "i1"
         },
         "yaxis": "y8"
        },
        {
         "marker": {
          "color": "green",
          "size": 5
         },
         "mode": "markers",
         "name": "Membrane",
         "showlegend": false,
         "type": "scatter",
         "x": {
          "bdata": "BAANAA0ADQANAA0ADQAKAAoADQANAAIAAgAEAAQABAAEAAQADQANAA0ADQANAA0ADQANAA0ADQANAA0ADgAOAA0ADQANAA0ADQANAA0ADQANAA0ADQANAA0ADQANAA0ADQANAA0ADQANAA0ADQANAA0ADQANAA0ADQANAA0ADQANAA0ADQANAA0ADQANAA0ADQANAA0ADQANAA0ADQANAA0ADQANAA0ADQANAA0ADQANAA0ADQANAA0ADQANAA0ADQANAA0ADQANAA0ADQANAA0ADQANAA0ADQANAA0ADQANAA0ADQANAA0ADQANAA0ADQANAA0ADQANAA0ADQANAA0ADQANAA0ADQANAA0ADQANAA0ADQANAA0ADQANAA0ADQANAA0ADQANAA0ADQANAA0ADQANAA0ADQANAA0ADQANAA0ADQANAA0ADQANAA0ADQANAA0ADQANAA0ADQANAA0ADQANAA0ADQANAA0ADQANAA0ADQANAA0ADQANAA0ADQANAA0ADQANAA0ADQANAA0ADQANAA0ADQANAA0ADQANAA0ADQANAA0ADQANAA0ADQANAA0ADQANAA0ADQANAA0ADQANAA0ADQANAA0ADQANAA0ADQANAA0ADQANAA0ADQANAA0ADQANAA0ADQANAA0ADQANAA0ADQANAA0ADQANAA0ADQANAA0ADQANAA0ADQANAA0ADQANAA0ADQANAA0ADQANAA0ADQANAA0ADQANAA0ADQANAA0ADQANAA0ADQANAA0ADQANAA0ADQANAA0ADQANAA0ADQANAA0ADQANAA0ADQANAA0ADQANAA0ADQANAA0ADQANAA0ADQANAA0ADQANAA0ADQANAA0ADQANAA0ADQANAA0ADQANAA0ADQANAA0ADQANAA0ADQANAA0ADQANAA0ADQANAA0ADQANAA0ADQANAA0ADQANAA0ADQANAA0ADQANAA0ADQANAA0ADQANAA0ADQANAA0ADQANAA0ADQANAA0ADQANAA0ADQANAA0ADQANAA0ADQANAA0ADQANAA0ADQANAA0ADQANAA0ADQANAA0ADQANAA0ADQANAA0ADQANAA0ADQANAA0ADQANAA0ADQANAA0ADQANAA0ADQANAA0ADQAOAA0ADQANAA0ADQANAA0ADQANAA0ADQANAA0ADQANAA0ADQANAA0ADQANAA0ADQANAA0ADgANAA0ADQANAA0ADQANAA0ADQANAA0ADQANAA0ADQANAA0ADQANAA0ADQANAA0ADQANAA0ADQANAA0ADQANAA0ADQANAAUADQANAA0ADQANAA0ADQANAA0ADQANAA0ADQANAA0ADQANAA0ADQANAA0ADQANAA0ADQANAA0ADQANAA0ADQANAA0ADQANAA0ADQANAA0ADQANAA0ADQANAA0ADQANAA0ADQANAA0ADQANAA0ADQANAA0ADQANAA0ADQANAA0ADQANAA0ADQANAA0ADQANAA0ADQANAA0ADQANAA0ADQANAA0ADQANAA0ADQANAA0ADQANAA0ADQANAA0ADQANAA0ADQANAA0ADQANAA0ADQANAA0ADQANAA0ADQANAA0ADQANAA0ADQANAA0ADQANAA0ADQANAA0ADQANAA0ADQANAA0ADQANAA0ADQANAA0ADQANAA0ADQANAA0ADQANAA0ADQANAA0ADQANAA0ADQANAA0ADQANAA0ADQANAA0ADQANAA0ADQANAA0ADQANAA0ADQANAA0ADQANAA0ADQANAA0ADQANAA0ADQANAA0ADQANAA0ADQANAA0ADQANAA0ADQANAA0ADQANAA0ADQANAA0ADQANAA0ADQANAA0ADQANAA0AXwBfAA0ADQANAA0ADQANAA0ADQANAA0ADQANAA0ADQANAA0ADQANAA0ADQANAA0ADQANAA0ADQANAA0ADQANAA0ADQANAA0ADgANAA0ADQANAA0ADQANAA0ADQANAA0ADQANAA4ADQANAA0ADQANAA0ADQANAA0ADgAOAA0ADQANAA4ADQANAAwADgANAA4ADgAOAA4ADgANAA0ADgANAA4ADgAOAAsADgAOAA4ADgAOAA4ADQAOAA0ADgANAA4ACgANAA4ADgANAA0ADQANAA0ADQAOAA0ADQAOAA0ADQANAA0ADgAOAA4ADQANAA4ADQANAA4ADQANAA4ADgAOAA4ADQANAA0ADgANAA0ADgAOAA4ADgAOAA4ADgAOAA0ADQANAA0ADQANAA4ADQANAA0ADgANAA0ADQAOAA0ADQAOAA4AXwBfAF8AXwADAAQAGABhAFkBDwJhAGEAYQBhAGEAYQBeAF4AXgBhAGEAYQBhAGEAGABiAFgBDgICACAABQABAAoAAwAEABgAYQBZAQ8CAgAgAAUAAQAKAFcBDQICACAABQABAAoAAwAEABgAYQBZAQ8CAgAfAAYAAQAKAAMABAACAB8ABgABAAoAAwAEABgAYQBYAQ4CAgAfAAUAAQAKAAMAAwAYAGEABQAKAAEAAwAEABgAYQBZAQ8CAgAfAAYAAQAKAAMABAAYAGEAWAEOAgoAAwAEABgAYQBZAQ8CAgAgAAUAAQAKAAMABAAYAGEAWQEPAgIAIAAEABgAYABYAQ4CAgAeAAUAAQAKAAMAAwAYAGEAVwENAgIAIAAFAAEAYQBZAQ8CAgAgAAUAAQAKAAMABABhABgAVwENAg==",
          "dtype": "i2"
         },
         "xaxis": "x8",
         "y": {
          "bdata": "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",
          "dtype": "i2"
         },
         "yaxis": "y8"
        },
        {
         "marker": {
          "color": "blue",
          "size": 5
         },
         "mode": "markers",
         "name": "Nucleocapsid",
         "showlegend": false,
         "type": "scatter",
         "x": {
          "bdata": "AAATExMTExMTExMTExMTExMTExMTExMSEhMTExITExMTICAhICAgICAgICAgICAgICAgICAgICAgICAgICAgICAgICAgICAgICAgICAgICAgICAgICAgICAgICAgIB8gICAfICAgICAgICAgICAgICAgICAgICAgICAgICAgICAgICAgICAgICAgICAgICAgICAgICAgICAgICAgICAfICAgICAgICAgICAgICAgICAgICAgICAgICAgICAgICAgICAgICAgICAgICAgICAgICAgICAfISAgICAgICAgICAgICAgICAgICAgICAgICAgICAgICAgICAgICAgIB8gICAgICAgICAgICAgICAgICAgICAgICAgICAgISAgICAgICAgICAgICAgICAgICAgICAgICAgICAgHyAgICAgICAgICAgICAgICAgICAgExMTExMTExMSIB8gHyAgICAgICAgIB8gICAgICAgICAgICAgICAgICAgICAgICAgICAgICAgICAgICAgIB8gICAgICAhICAgICAgICAgICAgISAgICAgICAgHyAgICAgICAfICAgIB8gICAgICAgICAgICAgICAgICAgIB8fICAgHyAfICAgHyAgICAgICAgICAgICAgICAgICAgICAgICAgIB8gICAgICAgICAgICAgICAgICAgHyAgISAgICAgICAgICAgICAgIB8gIB8gICAgIB8gIB8gICAgICAgICAgICAgIB8gICAgICAgHyAgICAgICAgICAfICAgICAgICAfICAgICAgICAgICAfICAgICAgICAgISAgICAgICAgICAfICAgHyAgICAfICAgICAgICAgICAgICAgICAeICAfICAgICAgICAgICAgIB8gICAgICAgICAgICAgICAgICAgICAgICAgICAgICAgICAgICAgHyAgHyAgICAgICAgICAgICAgICAgICAgICAgICAgICAgICAgICAgICAgICAgICAgICAgICAgICAgICAgICAgICAgICAgICAgICAgICAgICAgICAgICAgICEgICAgICAgICAgICAgICAgICAgICAgICAgHiEfICAgICAgICAgICAgICAgICAgICAgIB8gICAgICAgICAgICAgICAgICAhICAgICAhICAgICAgICAgICAgICAgICAgICAgICAgICAgICAgICAgICAgICAgICAgICAgICAgICAgICAgICAgICAgICAgICAgICAgICAgICAgICAgICAgICAgISAgHyAgICAgICAgICAgICAgICAgICAgICAgICAgICAgICAgICAgICAgICAgICAgISAgICAgICAgICAgICAgICAgICAgICAgICAgICAgICAgICAgICAgICAgICAgICAgICAgICAgICAgICAfICAgHyAgICAgICAgICAgICAgICAgICAgICAgICAgICAgICAgICAgICAgICAgICAgICAgICAgICAgICAgICAgHyAgICAgICAgICAgICAgICAgICAgICAgICAgICAgICAgICAgICAgICAgICAgICAgICAgICAgHyEgICAgICAgICAgICAgICAgICAgICAgICAgICAgICAgICAgICAgICAfICAgICAgICAgICAgICAgICAgICAgICAgICAgICEgICAgICAgICAgICAgICAgICAgICAgICAgICAgIB8gICAgICAgICAgICAgICAgICAgIA==",
          "dtype": "i1"
         },
         "xaxis": "x8",
         "y": {
          "bdata": "AQEYFxgYGBgYGBgYGBgYGBgYGBgYFxgYGBgYGBgYGBcYIyMjIyMjIyMjIyMjIyMjIyMjIyMjIyMjIyMjIyMjIyMjIyMjIyMjIyMjIyMkIyMjIyMjIyMjIyMjIyMjIyMjIyMjIyMjIyMjIyMjIyMjIyMjIyMjIyMjIyMjIyMjIyMjIyMjIyMjIyMjIyMjIyMjIyMjIyMjIyMjIyMjIyMjIyMjIyMjIyMjIyMjIyQjIyMjIyMjIyMkIyMjIyMjIyMjIyMjIyMjIyMjIyMjIyMjIyMjIyMjIyMjIyMjIyMjIyMjIyMjIyMjIyMjIyMjIyMjIyMjIyMjIyMjIyMjIyMjIyMjIyMjIyMjIyMjIyMjIyMjIyMjIyMjIyMjIyMjIyMjIyMjIyMjIyMjIyIjIyMjIyMjIyMjIyMjIyMjIyMjIyMjIyMjIyMjIyMjIyMkGBgYGBcYGBgYIyMjIyMjIyMjIyMjIyMjIyMjIyMjIyMjIyMjIyMjIyMjIyMjIyMjIyMiIyMjIyMjIyIjIyMjIyIjIyMjIyMjIyMjIyMjIyMjIyMjIyMjIyMjIyMjIyMjIyMjIyMjIyMjIyMjIyMjIyMjIyMjIyMjIyMkIyMjIyMjIyMjIyMjIyMjIyMjIyMjIyMjIyMjIyMjIyMjIyMjIyMjIyMjIyMjIyMjIyMjIyMjIyMjIyMjIyMjJCMjIyMjIyMjIyMjIyMjIyMjIyMjIyMjJCMjIyMjIyMjIyMjIyMjIyIjIyMjIyMjIyMjIyMjIyMjIyMjIyMjIyMjIyMjIyMjIyMjJCMjIyMjIyMjIyMjIyMjIyMjIiMjIyMjIyMiIyMjIyMjIyMjIyMjJCMjIyMjIyMjIyMjIyMjIyMgIyMjIyMjIyMjIyMjIyMjIyMjIyMjIyMjIyMjIyMjIyMjIyMjIyMjIyQjIyMjIyMjIyMjIyMjIyMjJCMjIyMjIyMjIyMjIyMjIyMjIyMjIyMjIyMjIyMjIyMjIyMjIyMjIyMjIyMjIyMjIyMjIyMjIyMjIiMjIyMjIyQjIyMjIyMjIyMjIyMjIyMjIyMkIyMjIyIjIyMjIyMjIyMjIyMjIyMjIyMjIyMjIyAjIyMjIyMjIyMiIyMjIyMjIyMjIyMjIyMjIyMjIyMjIyMjIyMjIyMkIyMjIyMjIyMjIyMjIyMjIyMjIyMjIyMjIyMjIyMjIyMjIyMjIyMjIyMjIyMjIyMjIyMjIyMjIyMjIyMjIyMjIyMjIyMjIyMjIyMjIyMjIyMjIyMjIyMjIyMjJCMjIyMjIyMjIyMjIyMjIyMjIyMjIyMjIyMkIyMjIyMjIyMjIyMjIyMjIyMjIyMjIyMjIyMjIyMjIyMjIyMjIyMjIyMjIyMjIyMjIyMjIyMjIyMjIyMjIyMjIyMjJCMjIyMjIyMjIyMjIyMjIyMjIyMjIyMjIyMjIyMjIyMjIyMjIyMjIyMjIyMjIyMjIyMjIyMjIyMjIyMjIyMjIyMjIyMjIyMjIyMjIyMjIyMjIyMjIyMjIyMjIyMjIyMkIyMjIyMjIyMjJCMjIyMjIyMjIyMjIyMjIyMjIyMjIyMjIyMjIyMjIyMjIyMjIyMjIyMjIyMjIyMjIyMjIyMjIyMjIyMjIyMjIyMjIyMjIyMjIyMjIyMjIyMjIyMjIyMjIyMjIyMjIyMjIyMjIyMjIyMjIyMjIyMjIyMjIyMiIyMjIyMjIyMjIyMjIyMjIyMjIyMjIyMjIyMjIyMjIyMjJA==",
          "dtype": "i1"
         },
         "yaxis": "y8"
        },
        {
         "marker": {
          "color": "orange",
          "size": 5
         },
         "mode": "markers",
         "name": "Spike",
         "showlegend": false,
         "type": "scatter",
         "x": {
          "bdata": "X19fX19fX19fX19fX19fX19fWlpaWlpaWlpaWlpaWlpaX19fX19fX19fX19fX19fX19fX19fX19fX19fX19fX15eXl9fX19fX19fX1xcXF5eXl9fX19fX19fX19fX19fX19fX19fX19fX19fX19fX19fXl9eXl9fX19fX19fX19fX19fX19fX2FhYWFhYWFhYQtfX19bW1tgYGBfXl5eWlpaXV1eXV5eYGBgYGBgYF8LXV1dXV1dXV1dXV1dXV1dXV1dXV1dXV1dXV1dXl5eW1tbXl5eX19fXV1dXV1dXl5eYF9fX11dXV1dXV1dXV1dXV1dXV5eXl9fX15eXl5eXl5eXl5eXl9fX19fX2BgYGEBAV5fX19gYGBbW1tbCl9fX19fXwwLYWFhYWFhYWFhXl5eXl5eXmBgYDpfXl9fX19fXFxcW1tbX2BgYGBgYF9fX15eXgZeDF5eXl5eXl5eXgtbW1tbW1tbW1tcXFxfX19fX19fX1pfWlpeXl5fX18KXV1dCl1dXV1dXV1dXV9eXl5eXl5eX19fX19fXl9eXl5eXltbW1tfX19fX19fX18LCwsMX19fX19fX19eXl5fX19eXl5eXl5bC19fXwsLCwsAX15eXltbXl5eDQ0NDQ1gYGBfX19fX19fX19fX19fX18MDF1dXl5eX19fXl5eXl5eXl5eXl4GXgxeXl5eXl5eXl4LW1tbW1tbCwwLXl5fXl9fXl5bXltbXl5eYGBgX19fX19fXl5eX19fX19fX19fYGBgCwsaX19fX19fX19fXl5fX18TXl9fX19fX19fX19fX2FhX2FfX19fX1tbW1tbWwsLYGBgX19fCwtaWlpeXl5hYWFfX18dHV9fXl9eXl9fX19fX1xcXF4KCWBgYGBgYF9fX19fX19fX19fX19fX2BfXl5eXl5eXl5eDF5eXl9fX19fX2BgYApfX19fX19fDV5eXl5eXg1eXl5gJSUlYGBgX19fX19fWlpaWloLWgtaWlpdXV0AXFxcGl9fXl5eX19fXV1dX19fCwtdXl5eXl5eX19fXV1dXV1dXl5eWlpaAl1dXQEBDg5eXl5eX19eXl5fX19fDAxgYGBfX19fX19fX19gOmBgYGBgX19fYGBgX19fYGBgYGBgYGBgYWFhYWFhCwsLCAoKCgoKCQkJX1paWlxcXGFhYV1dXV9fX2BgYmJiXFxcYWFhX19fX19fXl5eDVxcXF9fX19fX19fXFxcX19fCl9fX19cXFxcXFxcXFwMAF9fX19fXwBbW1sKXFxcCgFfX19fX18MDAwMDAwMXV9fXwsBCl5eXl9fX19fX19gYA0NDV5eXg4OW1tbXFxcCl1dXWBgYA==",
          "dtype": "i1"
         },
         "xaxis": "x8",
         "y": {
          "bdata": "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",
          "dtype": "i2"
         },
         "yaxis": "y8"
        },
        {
         "marker": {
          "color": "red",
          "size": 5
         },
         "mode": "markers",
         "name": "Envelope",
         "showlegend": false,
         "type": "scatter",
         "x": {
          "bdata": "CQkJCQkJAwkJCQkODg4NDg4ODg4ODg4ODg4ODg4ODg4ODg4ODg4ODg4ODg4ODg4ODg4ODg4ODg4ODg4ODg4ODg4ODg4ODg4ODg4ODg4ODg4ODg4ODg4ODg4ODg4ODg4ODg4ODg4ODg4ODg4ODg4ODg4ODg4ODg4ODg4ODg4ODg4ODg4ODg4ODg4ODg4ODg4ODg4ODw4ODg4ODg4ODg4ODg4ODg4ODg4ODg4ODg4ODg4ODg4ODg4ODg4ODg4ODg4ODg4ODg4ODg4ODg4ODg4ODg4ODg4ODg4ODg4ODg4ODg4ODg4ODg4ODg4ODg4ODg4ODg4ODg4ODg4ODg4ODg4ODg4ODg4ODg4ODg4ODg4ODg4ODg4ODg4ODg4ODg4ODg4ODg4ODg4ODg4ODg4ODg4ODg4ODg4ODg4ODg4ODg4ODg4ODg4ODg4MDg4ODg4ODg4ODg4ODg4ODg4ODg4ODg4ODg4ODg4ODg4ODg4ODg4ODg4ODg4ODg4ODg4ODg4ODg4ODg4ODg4ODg4ODg4ODg4ODg4ODg4ODg4ODg4ODg4ODg4ODg4ODg4ODg4ODg4ODg4ODg4ODg4ODg4ODg4ODg4ODg4ODg4ODg4ODg4ODg4ODg4ODg4ODg4ODg4ODg4ODg4ODg4ODg4ODg4ODg4ODg4ODg4ODg4ODg4ODg4ODg4ODg4ODg4ODg4ODg4ODg4ODg4ODg4ODg4ODg4ODg4ODg4ODg4ODg4ODg4ODg4ODg4ODg4ODg4ODg4ODg4ODg4ODg4ODg4ODg4ODg4ODg4ODg4ODg4ODg4ODg4ODg4ODg4ODg4ODg4ODg4ODg4ODg4ODg4ODg4ODg4ODg4ODg4ODg4ODg4ODg4ODg4ODg4ODg4ODg4ODg4ODg4ODg4ODg4ODg4ODg4ODg4ODg4=",
          "dtype": "i1"
         },
         "xaxis": "x9",
         "y": {
          "bdata": "AQEBAQEBAAEBAQEBAQEBAQEBAQEBAQEBAQEBAQEBAQEBAQEBAQEBAQEBAQEBAQEBAQEBAQEBAQEBAQEBAQEBAQEBAQEBAQEBAQEBAQEBAQEBAQEBAQEBAQEBAQEBAQEBAQEBAQEBAQEBAQEBAQEBAQEBAQEBAQEBAQEBAQEBAQEBAQEBAQEBAQEBAQEBAQEBAQEBAQEBAQEBAQEBAQEBAQEBAQEBAQEBAQEBAQEBAQEBAQEBAQEBAQEBAQEBAQEBAQEBAQEBAQEBAQEBAQEBAQEBAQEBAQEBAQEBAQEBAQEBAQEBAQEBAQEBAQEBAQEBAQEBAQEBAQEBAQEBAQEBAQEBAQEBAQEBAQEBAQEBAQEBAQEBAQEBAQEBAQEBAQEBAQEBAQEBAQEBAQEBAQEBAQEBAQEBAQEBAQEBAQEBAQEBAQEBAQEBAQEBAQEBAQEBAQEBAQEBAQEBAQEBAQEBAQEBAQEBAQEBAQEBAQEBAQEBAQEBAQEBAQEBAQEBAQEBAQEBAQEBAQEBAQEBAQEBAQEBAQEBAQEBAQEBAQEBAQEBAQEBAQEBAQEBAQEBAQEBAQEBAQEBAQEBAQEBAQEBAQEBAQEBAQEBAQEBAQEBAQEBAQEBAQEBAQEBAQEBAQEBAQEBAQEBAQEBAQEBAQEBAQEBAQEBAQEBAQEBAQEBAQEBAQEBAQEBAQEBAQEBAQEBAQEBAQEBAQEBAQEBAQEBAQEBAQEBAQEBAQEBAQEBAQEBAQEBAQEBAQEBAQEBAQEBAQEBAQEBAQEBAQEBAQEBAQEBAQEBAQEBAQEBAQEBAQEBAQEBAQEBAQEBAQEBAQEBAQEBAQEBAQEBAQEBAQEBAQEBAQEBAQEBAQEBAQEBAQEBAQEBAQEBAQEBAQEBAQEBAQEBAQEBAQE=",
          "dtype": "i1"
         },
         "yaxis": "y9"
        },
        {
         "marker": {
          "color": "green",
          "size": 5
         },
         "mode": "markers",
         "name": "Membrane",
         "showlegend": false,
         "type": "scatter",
         "x": {
          "bdata": "DgAlACUAJQAlACUAJQAeAB4AJAAkAAkACQAJAAkACQAJAAkAJAAkACMAIwAjACMAIwAjACMAIwAjACMAIwAjACMAIwAjACMAIwAjACMAIwAjACMAIwAjACMAIwAjACMAIwAjACMAIwAjACMAIwAjACMAIwAjACMAIwAjACMAIwAjACMAIwAjACMAIwAjACMAIwAjACMAIwAjACMAIwAjACMAIwAjACMAIwAjACMAIwAjACMAIwAjACMAIwAjACMAIwAjACMAIwAjACMAIwAjACMAIwAjACMAIwAjACMAIwAjACMAIwAjACMAIwAjACMAIwAjACMAIwAjACMAIwAjACMAIwAjACMAIwAjACMAIwAjACMAIwAjACMAIwAjACMAIwAjACMAIwAjACMAIwAjACMAIwAjACMAIwAjACMAIwAjACMAIwAjACMAIwAjACMAIwAjACMAIwAjACMAIwAjACMAIwAjACMAIwAjACMAIwAjACMAIwAjACMAIwAjACMAIwAjACMAIwAjACMAIwAjACMAIwAjACMAIwAjACMAIwAjACMAIwAjACMAIwAjACMAIwAjACMAIwAjACMAIwAjACMAIwAjACMAIwAjACMAIwAjACMAIwAjACMAIwAjACMAIwAjACMAIwAjACMAIwAjACMAIwAjACMAIwAjACMAIwAjACMAIwAjACMAIwAjACMAIwAjACMAIwAjACMAIwAjACMAIwAjACMAIwAjACMAIwAjACMAIwAjACMAIwAjACMAIwAjACMAIwAjACMAIwAjACMAIwAjACMAIwAjACMAIwAjACMAIwAjACMAIwAjACMAIwAjACMAIwAjACMAIwAjACMAIwAjACMAIwAjACMAIwAjACMAIwAjACMAIwAjACMAIwAjACMAIwAjACMAIwAjACMAIwAjACMAIwAjACMAIwAjACMAIwAjACMAIwAjACMAIwAjACMAIwAjACMAIwAjACMAIwAjACMAIwAjACMAIwAjACMAIwAjACMAIwAjACMAIwAjACMAIwAjACMAIwAjACMAIwAjACMAIwAjACMAIwAjACMAIwAjACMAIwAjACMAIwAjACMAIwAjACMAIwAjACMAIwAjACMAIwAjACMAIwAjACMAIwAjACMAIwAjACMAIwAjACMAIwAjACMAIwAjACMAIwAjACMAIwAjACMAIwAjACMAIwAjACMAIwAjACMAIwAjACMAIwAjACMAIwAjACMAIwAjACMAIwAjACMAIwAjACMAIwAjACMAIwAjACMAIwAjACMAIwAjACMAIwAjACMAIwAjABMAIwAjACMAIwAjACMAIwAjACMAIwAjACMAIwAjACMAIwAjACMAIwAjACMAIwAjACMAIwAjACMAIwAjACMAIwAjACMAIwAjACMAIwAjACMAIwAjACMAIwAjACMAIwAjACMAIwAjACMAIwAjACMAIwAjACMAIwAjACMAIwAjACMAIwAjACMAIwAjACMAIwAjACMAIwAjACMAIwAjACMAIwAjACMAIwAjACMAIwAjACMAIwAjACMAIwAjACMAIwAjACMAIwAjACMAIwAjACMAIwAjACMAIwAjACMAIwAjACMAIwAjACMAIwAjACMAIwAjACMAIwAjACMAIwAjACMAIwAjACMAIwAjACMAIwAjACMAIwAjACMAIwAjACMAIwAjACMAIwAjACMAIwAjACMAIwAjACMAIwAjACMAIwAjACMAIwAjACMAIwAjACMAIwAjACMAIwAjACMAIwAjACMAIwAjACMAIwAjACMAIwAjACMAIwAjACMAIwAjACMAIwAjACMAIwAjACMAIwAjACMAIwAjACMAIwAjACMAIwAjACMAIwAjACMAawBrACMAIwAjACMAIwAjACMAIwAjACMAIwAjACMAIwAjACMAIwAjACMAIwAjACMAIwAjACMAIwAjACMAIwAjACMAIwAjACMAIwAjACMAIwAjACMAIwAjACMAIwAjACMAIwAfACMAIwAjACMAIwAjACMAIwAjACMAIwAjACMAIwAjACAAIwAjACIAIwAjACMAIwAjACMAIwAjACMAIwAjACMAIwAjAB0AIwAjACMAIwAjACMAIwAjACIAIwAjACMAGQAjACMAIwAjACMAIwAjACMAIwAjACMAIwAjACMAIwAjACMAIwAjACMAIwAjACMAIwAjACMAIwAjACMAIwAjACMAIwAjACMAIwAjACMAIwAjACMAIwAjACMAIwAjACMAIwAjACMAIwAjACMAIwAjACMAIwAjACMAIwAjACMAIwAjACMAawBqAGoAagAIAA4AHgBsALIBnAJtAG0AbQBtAG0AbQBnAGcAZwBsAGwAbABsAGwAHgBsALMBngIEABsACgALAA8ACAAOAB4AbACzAZ0CBAAbAAoACwAPALIBnAIEABsACgALAA8ACAAOAB4AbACyAZwCBAAbAAoACwAPAAgADgAEABsACgALAA8ACAAOAB4AbACzAZ0CBAAbAAoACwAPAAgADgAeAGsACgAPAAsACAAOAB4AbACzAZ0CBAAbAAoACwAPAAgADgAeAGwAswGdAg8ACAAOAB4AbACzAZ0CBAAbAAoACwAPAAgADgAeAGwAswGdAgQAGwAOAB4AawCzAZ0CBAAbAAoACwAPAAgADgAeAGsAsgGcAgQAGwAKAAsAbACzAZ0CBAAbAAsACwAPAAgADgBsAB4AtAGeAg==",
          "dtype": "i2"
         },
         "xaxis": "x9",
         "y": {
          "bdata": "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",
          "dtype": "i2"
         },
         "yaxis": "y9"
        },
        {
         "marker": {
          "color": "blue",
          "size": 5
         },
         "mode": "markers",
         "name": "Nucleocapsid",
         "showlegend": false,
         "type": "scatter",
         "x": {
          "bdata": "AQEQEREREREREREREBEREREREREREREREREREREREREQHBwcHBwcHBwcHBwdHBwcHBwcHBwcHBwcHBwcHBwcHBwcHBwcHBwcHBwcHBwcHBwcHBwcHBwcHBwcHBwcHBwcHBwcHBwcHBwcHBwcHBwcHBwcHBwcHBwcHBwcHBwcHBwcHBwcHBwcHBwcHBwcHBwcHBwcHBwcHBwcHBwcHBwcHRwcHBwcHBwcHBwcHBwcHBwcHBwcHBwcHBwcHBwcHBwcHBwcHBwcHBwcHBwcHBwcHBwcHBwcHBwcHBwdHBwcHBwcHBwcHBwcHBwcHBwcHBwcHBwcHBwcHBwcHBwcHBwcHBwcHBwcHBwcHBwcHBwcHBwcHBwcHBwcHBwcHBwcHBwcHBwcHBwcHBwcHB0cHBwcHBwcHBwcHBwcHBwcHBwcHBwcHBwcHBwcHBwcHBwcEBEQEREQERIRHBwcHBwcHBwcHBwdHBwcHBwcHB0cHBwcHBwcHBwcHBwcHBwcHBwcHBwcHBwcHBwcHBwcHBwcHBwcHBwcHBwcHBwcHBwcHBwcHBwcHBwcHBwcHBwcHBwcHBwdHBwcHBscHBwcHBwcHBwcHBscHBwcHBwcHBwcHBwcHBwcHBwcHRwcHBwcHBwcHBwcHBwcHBwcHBwbHBwcHBwcHBwcHBwcHBwcHBwcHBwcHBwcHBwcHRwcHBwcHBwcHBwcHBwcHBwcHB0cHBwcHBwcHBwcHBwcHBwcHBwcHBwcHBwcHB0cHBwcHBwcHBwcHBwcHBwcHBwbHBwcHBwcHBwcHBwcHBwcHBwcHBwcHBwcHBwcHBwcHBwcHBwdHBwcHBwcHBwcHBwcHBwcHBwcHB0cHBwcHBwcHBwcHBwbHBwcHBwcHBwcHBwcHBwcHBwcHBwcHBwcHBwcHBwcHBwcHBwcHBwcHBwcHBwcHBwcHBwcHBwcHBwcHBwcHB0cHBwcHBwcHBwcHBwcHBwcHBwcHBwcHBwcHBwcHBwcHBwcHRwcHBwcHBwcHBwcHBwcHBwcHRwdHB0cHBwcHBwcHBwcHBwcHBwcHRwcHBwcHBwcHB0cHBwcHBwcHBwcHBwcHBwcHBwcHBwcHBwcHBwcHBwcHBwcHBwcHBwcHBwcHBwcHBwcHBwcHBwcHBwcHBwcHBwcHBwcHBwcHBwcHRwcHRwcHBwcHBwcHB0cHBwcHBwcHBwcHBwcHBwcHBwcHBwcHBwcHBwcHBwcHBwcHBwcHBwcHBwcHBwcHBwcHBwcHBwcHBwcHBwcHBwcHBwcHBwcHBwdHBweHBwcHBwcHBwcHBwcHBwcHBwcHBwcHB0cHBwcHBwcHBwcHBwcHBwcHBwcHBwcHBwcHBwcHRwcHBwcHBwcHBwcHBwcHBwcHBwcHBwcHBwcHBwcHBwcHBwcHBwcHBwcHBwcHBwcHBwcHBwcHBwcHBwcHBwcHBwcHBwcHBwcHBwcHBwcHBwcHBwcHBwcHBwcHBwcHBwcHBwcHBwcHBwcHBwcHBwcHBwcHB0cHBwcHBwcHBwcHBwcHBwcHBwcHBwcHBwcHBwcHBwcHBwcHBwcHBwcHBwcHBwcHBwcHBwcHBwcHBwcHRwcHBwcHBwcHBwcHBwcHBwcHBwcHBwcHBwcHBwcHBwcHBwcHBwcHBwcHBwcHBwcHBwcHBwcHBwcHBwcHBwcHBwcHBwcHBwcHBwcHBwcHBwdHBwcHBwcHBwcHBwcHBwcHBwcHBwcHBwcHBwcHBwcHBwcHA==",
          "dtype": "i1"
         },
         "xaxis": "x9",
         "y": {
          "bdata": "AAAhIiEhISEhISEhIiEhISEhISEhISEgICAgICAgICEhKioqKioqKioqKioqKioqKioqKioqKioqKioqKSoqKioqKioqKioqKioqKioqKioqKioqKioqKioqKioqKiopKioqKioqKioqKioqKioqKioqKioqKioqKioqKioqKioqKioqKioqKioqKioqKioqKikqKioqKioqKioqKioqKioqKioqKSoqKioqKioqKioqKioqKioqKioqKioqKioqKioqKioqKioqKioqKioqKioqKioqKioqKioqKioqKioqKioqKioqKioqKioqKioqKioqKioqKioqKioqKioqKioqKioqKioqKioqKioqKioqKioqKioqKioqKioqKioqKioqKioqKioqKioqKioqKioqKioqKioqKioqKioqKioqKikqKioqKioqKioqISEhICIgISAgKioqKioqKioqKioqKioqKioqKioqKioqKioqKioqKioqKioqKioqKioqKioqKioqKioqKioqKioqKioqKioqKioqKioqKioqKioqKioqKioqKioqKioqKioqKioqKioqKioqKioqKioqKioqKioqKioqKioqKioqKioqKioqKioqKioqKioqKioqKioqKioqKioqKioqKioqKiopKioqKioqKioqKioqKioqKikqKioqKioqKioqKSoqKioqKioqKyoqKioqKioqKioqKioqKioqKioqKioqKyoqKioqKioqKioqKioqKioqKioqKioqKioqKiopKioqKioqKioqKioqKioqKioqKioqKioqKioqKioqKioqKioqKioqKioqKioqKioqKioqKioqKioqKioqKionKioqKioqKioqKSoqKioqKioqKioqKSoqKSoqKioqKioqKioqKioqKioqKioqKioqKioqKioqKioqKioqKioqKioqKioqKioqKioqKioqKioqKioqKioqKioqKioqKioqKioqKioqKioqKioqKioqKioqKioqKioqKioqKioqKioqKioqKioqKioqKioqKioqKioqKioqKioqKioqKioqKioqKioqKioqKioqKioqKioqKiorKioqKioqKioqKioqKioqKioqKioqKioqKioqKiopKioqKioqKikqKioqKioqKioqKioqKioqKioqKioqKioqKioqKioqKioqKioqKioqKioqKioqKioqKioqKioqKioqKioqKioqKyoqKioqKioqKioqKioqKioqKSoqKioqKioqKioqKioqKioqKioqKioqKioqKioqKioqKioqKioqKioqKSoqKioqKioqKioqKioqKioqKioqKioqKioqKioqKioqKikqKioqKioqKioqKioqKioqKioqKioqKioqKioqKioqKioqKSoqKioqKioqKioqKioqKioqKioqKioqKioqKioqKioqKioqKioqKioqKioqKioqKiopKioqKioqKioqKioqKioqKioqKikqKioqKioqKioqKioqKioqKioqKioqKioqKioqKioqKioqKioqKioqKioqKioqKioqKioqKioqKioqKioqKioqKioqKioqKioqKioqKioqKioqKioqKioqKioqKioqKioqKioqKioqKioqKioqKioqKioqKioqKioqKioqKioqKioqKioqKioqKioqKioqKioqKioqKioqKioqKiopKioqKioqKioqKg==",
          "dtype": "i1"
         },
         "yaxis": "y9"
        },
        {
         "marker": {
          "color": "orange",
          "size": 5
         },
         "mode": "markers",
         "name": "Spike",
         "showlegend": false,
         "type": "scatter",
         "x": {
          "bdata": "Z2dnZ2dnZ2dnZ2dnZ2dnZ2dnXl5eXl5eXl5eXl5eWVlZbGxsaWlpaWlpaWlpaWlpaWlpa2tra2tra2tra2pqamtra2tra2tra2tra2RkZGtra2tra2tra2tra2pqampqamtra2tra2tra2tra2tra2pqa2pra2tra2pqampqampqamVlZWVlZWxsbGxsbGxsbA1ra2tlZWVycnJya2trXl5eampmamZmb29vb29vcnINampqampqampqampqampqampqampqampqampqZmZmZWVlZ2dncnJyampqampqZmZmb3JycmpqampqampqampqampqamZmZmtra2tra2tra2tra2tra3JycnJycnJycmwDA2Zra2tycnJlZWVlDmtra2traw8Nbm5ubm5ubm5uZmZmZmZmZnJycj5qa2pqampqaWlpZWVlZ3JycnJycmpqamZmZh9rDWZmZmZmZmZmZg1lZWVlZWVlZWVqampra2tra2tra1lrWVlmZmZqamoMaWlpDGlpaWlpaWlpaWtqampqampqampqallZa1lra2tra2VlZWVra2tra2tra2sNDQ0Na2pqampqampra2tZWVlqampra2tlDWtraw0NDQ0Camtra2VlaGhoDg4ODg5ycnJra2tra2tra2tra2tra2sNDWpqZmZma2tra2tra2tra2tra2Yfaw1mZmZmZmZmZmYNZWVlZWVlDQ0Nampramtra2tla2VlaGhocnJya2tra2traGhoa2trZmZmZmZmZmZmDQ0ia2trampqampqampqamoTa2lpaVlZWVlZWVlZWWZmWmZaWlpaWmVlZWVlZQ0NcnJyZ2dnDQ1ZWVlra2tvb29ra2siImpqZGpkZGxsbGVlZWpqamYNDmxsbGxsbGtra2NkZGRkZGRkZGRkZGZkZWVlZGRkZWVlDWZmZmtra2lpaWxsbA1ra2tra2trDmVlZWVlZQ5mZmZyMjIybGxsa2tra2trWVlZWVkNWQ1kZGRmZmYFampqHGtraGhoa2trY2NjZWVlDQ1lZWVlZWVlbGxsZWVlZWVlZWVlWVlZB2ZmZgMDDw9mZmZma2tmZmZrZ2dnDQ1sbGxra2tra2tra2tyPnJycnJya2trbGxsa2tra2trbGxsbGxsbGxsbGxsDQ0NDQ0NDQ0NDAwMallZWWpqam1tbV9fX2pqanJybW1tZWVlbGxsZWVlZWVlZmZmDWhoaGpqamdnZ2dnampqa2trDWtra2tlZWVlZWVlZWUNAmVlZWtrawN0dHQNZGRkDQJqampqamoNDQ0NDQ0NamdnZw0DDWdnZ2pqamtra2tycg0NDWhoaA4OZWVlampqDWpqanJycg==",
          "dtype": "i1"
         },
         "xaxis": "x9",
         "y": {
          "bdata": "Xl5eXl5eXl5eXl5eXl5eXl5eSEhISEhISEhISEhISkpKaGhoXFxcXFxcXFxcXFxcXFxcXl5eXl5eXl5eXmBgYF9fX19fX19fX19fX1BQUF9fX19fX19fX15eXmBgYGBgYF9fX19fX19fX19fX15eXmBgX2BfX19fX2BgYGBgYGBgYFNTU1NTU1JSUlJSUlJSUg9eXl5LS0tbW1taU1NTSEhIX19OX05OXFxcXFxcW1oPX19fX19fX19fX19fX19fX19fX19fX19fX19fTk5OS0tLT09PW1tbX19fX19fTk5OXFtbW19fX19fX19fX19fX19fX05OTltbW1NTU1NTU1NTU1NTU1tbW1tbW1tbW1IBAU5eXl5aWlpLS0tLDF5eXl5eXgwPXV1dXV1dXV1dTk5OTk5OTlpaWjFgU2BgYGBgYWFhS0tLXlpaWlpaWlRUVE9PTxBTD09PT09PT09PTw9LS0tLS0tLS0tSUlJeXl5eXl5eXkpeSkpOTk5UVFQNW1tbDVtbW1tbW1tbW11fX19fX19fYGBgYEtLUktSUlJSUktLS0tfX19fX19fX18PDw8QX19fX19fX19fX19MTExSUlJSUlJLD19fXxAQEBAAX19fX0tLXl5eDw8PDw9aWlpfX19fX19fX19fX19eXl4PD19fTk5OW1tbU1NTU1NTU1NTU08QUw9PT09PT09PT08PS0tLS0tLDw8QUlJQUlBQUlJLUktLXl5eWlpaXl5eXl5eXl5eXl5eWlpaWlpaVFRUEBAUX19fX19fX19fX19gYGARX1JSUkxMTEtLS0tLS1hYS1hLS0tLS0tLS0tLSw8PWlpaXl5eEBBKSkpfX19iYmJeXl4TE09PTU9NTU9PT1RUVFtbW04PDFhYWFhYWF5eXlNTU1NTU1NTU1NTU1VTTU1NTU1NTU1ND05OTl9fX1RUVFhYWA5eXl5eXl5eEE1NTU1NTRBOTk5aISEhWFhYXl5eXl5eSkpKSkoQShBLS0tNTU0EW1tbEV5eXl5eXl5eUVFRVFRUEBBNTU1NTU1NT09PTU1NTU1NTU1NSkpKBE1NTQEBExNOTk5OXl5OTk5eU1NTDw9YWFheXl5eXl5eXl5aMVpaWlpaXl5eU1NTU1NTU1NTU1NTU1NTU1NTU1NTEBAQDBAQEBAQDw8PVEpKSltbW15eXktLS1RUVFpaUFBQV1dXU1NTUlJSUlJSTk5OEE9PT19fX1VVVVVVW1tbXl5eD15eXl5XV1dXV1dXV1cPAFJSUl9fXwBfX18MT09PDwFfX19fX18PDw8PDw8PYFVVVQ8AD09PT1RUVF5eXl5aWhAQEFJSUhAQS0tLUVFRD2BgYFtbWw==",
          "dtype": "i1"
         },
         "yaxis": "y9"
        },
        {
         "marker": {
          "color": "red",
          "size": 5
         },
         "mode": "markers",
         "name": "Envelope",
         "showlegend": false,
         "type": "scatter",
         "x": {
          "bdata": "AQEBAQEBAwEBAQEICAgICAgICAgICAgICAgICAgICAgICAgICAgICAgICAgICAgICAgICAgICAgICAgICAgICAgICAgICAgICAgICAgICAgICAgICAgICAgICAgICAgICAgICAgICAgICAgICAgICAgICAgICAgICAgICAgICAgICAgICAgICAgICAgICAgICAgICAgICAgICAgICAgICAgICAgICAgICAgICAgICAgICAgICAgICAgICAgICAgICAgICAgICAgICAgICAgICAgICAgICAgICAgICAgICAgICAgICAgICAgICAgICAgICAgICAgICAgICAgICAgICAgICAgICAgICAgICAgICAgICAgICAgICAgICAgICAgICAgICAgICAgICAgICAgICAgICAgICAgICAgICAgICAgICAgICAgGCAgICAgICAgICAgICAgICAgICAgICAgICAgICAgICAgICAgICAgICAgICAgICAgICAgICAgICAgICAgICAgICAgICAgICAgICAgICAgICAgICAgICAgICAgICAgICAgICAgICAgICAgICAgICAgICAgICAgICAgICAgICAgICAgICAgICAgICAgICAgICAgICAgICAgICAgICAgICAgICAgICAgICAgHCAgICAgICAgICAgICAgICAgICAgICAgICAgICAgICAgICAgICAgICAgICAgICAgICAgICAgICAgICAgICAgICAgICAgICAgICAgICAgICAgICAgICAgICAgICAgICAgICAgICAgICAgICAgICAgICAgICAgICAgICAgICAgICAgICAgICAgICAgICAgICAgICAgICAgICAgICAgICAgICAgICAgICAgICAgICAgICAgICAgICAgICAg=",
          "dtype": "i1"
         },
         "xaxis": "x10",
         "y": {
          "bdata": "AQEBAQEBAAEBAQEBAQEBAQEBAQEBAQEBAQEBAQEBAQEBAQEBAQEBAQEBAQEBAQEBAQEBAQEBAQEBAQEBAQEBAQEBAQEBAQEBAQEBAQEBAQEBAQEBAQEBAQEBAQEBAQEBAQEBAQEBAQEBAQEBAQEBAQEBAQEBAQEBAQEBAQEBAQEBAQEBAQEBAQEBAQEBAQEBAQEBAQEBAQEBAQEBAQEBAQEBAQEBAQEBAQEBAQEBAQEBAQEBAQEBAQEBAQEBAQEBAQEBAQEBAQEBAQEBAQEBAQEBAQEBAQEBAQEBAQEBAQEBAQEBAQEBAQEBAQEBAQEBAQEBAQEBAQEBAQEBAQEBAQEBAQEBAQEBAQEBAQEBAQEBAQEBAQEBAQEBAQEBAQEBAQEBAQEBAQEBAQEBAQEBAQEBAQEBAQEBAQEBAQEBAQEBAQEBAQEBAQEBAQEBAQEBAQEBAQEBAQEBAQEBAQEBAQEBAQEBAQEBAQEBAQEBAQEBAQEBAQEBAQEBAQEBAQEBAQEBAQEBAQEBAQEBAQEBAQEBAQEBAQEBAQEBAQEBAQEBAQEBAQEBAQEBAQEBAQEBAQEBAQEBAQEBAQEBAQEBAQEBAQEBAQEBAQEBAQEBAQEBAQEBAQEBAQEBAQEBAQEBAQEBAQEBAQEBAQEBAQEBAQEBAQEBAQEBAQEBAQEBAQEBAQEBAQEBAQEBAQEBAQEBAQEBAQEBAQEBAQEBAQEBAQEBAQEBAQEBAQEBAQEBAQEBAQEBAQEBAQEBAQEBAQEBAQEBAQEBAQEBAQEBAQEBAQEBAQEBAQEBAQEBAQEBAQEBAQEBAQEBAQEBAQEBAQEBAQEBAQEBAQEBAQEBAQEBAQEBAQEBAQEBAQEBAQEBAQEBAQEBAQEBAQEBAQEBAQEBAQEBAQEBAQE=",
          "dtype": "i1"
         },
         "yaxis": "y10"
        },
        {
         "marker": {
          "color": "green",
          "size": 5
         },
         "mode": "markers",
         "name": "Membrane",
         "showlegend": false,
         "type": "scatter",
         "x": {
          "bdata": "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",
          "dtype": "i2"
         },
         "xaxis": "x10",
         "y": {
          "bdata": "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",
          "dtype": "i2"
         },
         "yaxis": "y10"
        },
        {
         "marker": {
          "color": "blue",
          "size": 5
         },
         "mode": "markers",
         "name": "Nucleocapsid",
         "showlegend": false,
         "type": "scatter",
         "x": {
          "bdata": "AQEYFxgYGBgYGBgYGBgYGBgYGBgYFxgYGBgYGBgYGBcYIyMjIyMjIyMjIyMjIyMjIyMjIyMjIyMjIyMjIyMjIyMjIyMjIyMjIyMjIyMkIyMjIyMjIyMjIyMjIyMjIyMjIyMjIyMjIyMjIyMjIyMjIyMjIyMjIyMjIyMjIyMjIyMjIyMjIyMjIyMjIyMjIyMjIyMjIyMjIyMjIyMjIyMjIyMjIyMjIyMjIyMjIyQjIyMjIyMjIyMkIyMjIyMjIyMjIyMjIyMjIyMjIyMjIyMjIyMjIyMjIyMjIyMjIyMjIyMjIyMjIyMjIyMjIyMjIyMjIyMjIyMjIyMjIyMjIyMjIyMjIyMjIyMjIyMjIyMjIyMjIyMjIyMjIyMjIyMjIyMjIyMjIyMjIyMjIyIjIyMjIyMjIyMjIyMjIyMjIyMjIyMjIyMjIyMjIyMjIyMkGBgYGBcYGBgYIyMjIyMjIyMjIyMjIyMjIyMjIyMjIyMjIyMjIyMjIyMjIyMjIyMjIyMiIyMjIyMjIyIjIyMjIyIjIyMjIyMjIyMjIyMjIyMjIyMjIyMjIyMjIyMjIyMjIyMjIyMjIyMjIyMjIyMjIyMjIyMjIyMjIyMkIyMjIyMjIyMjIyMjIyMjIyMjIyMjIyMjIyMjIyMjIyMjIyMjIyMjIyMjIyMjIyMjIyMjIyMjIyMjIyMjIyMjJCMjIyMjIyMjIyMjIyMjIyMjIyMjIyMjJCMjIyMjIyMjIyMjIyMjIyIjIyMjIyMjIyMjIyMjIyMjIyMjIyMjIyMjIyMjIyMjIyMjJCMjIyMjIyMjIyMjIyMjIyMjIiMjIyMjIyMiIyMjIyMjIyMjIyMjJCMjIyMjIyMjIyMjIyMjIyMgIyMjIyMjIyMjIyMjIyMjIyMjIyMjIyMjIyMjIyMjIyMjIyMjIyMjIyQjIyMjIyMjIyMjIyMjIyMjJCMjIyMjIyMjIyMjIyMjIyMjIyMjIyMjIyMjIyMjIyMjIyMjIyMjIyMjIyMjIyMjIyMjIyMjIyMjIiMjIyMjIyQjIyMjIyMjIyMjIyMjIyMjIyMkIyMjIyIjIyMjIyMjIyMjIyMjIyMjIyMjIyMjIyAjIyMjIyMjIyMiIyMjIyMjIyMjIyMjIyMjIyMjIyMjIyMjIyMjIyMkIyMjIyMjIyMjIyMjIyMjIyMjIyMjIyMjIyMjIyMjIyMjIyMjIyMjIyMjIyMjIyMjIyMjIyMjIyMjIyMjIyMjIyMjIyMjIyMjIyMjIyMjIyMjIyMjIyMjIyMjJCMjIyMjIyMjIyMjIyMjIyMjIyMjIyMjIyMkIyMjIyMjIyMjIyMjIyMjIyMjIyMjIyMjIyMjIyMjIyMjIyMjIyMjIyMjIyMjIyMjIyMjIyMjIyMjIyMjIyMjIyMjJCMjIyMjIyMjIyMjIyMjIyMjIyMjIyMjIyMjIyMjIyMjIyMjIyMjIyMjIyMjIyMjIyMjIyMjIyMjIyMjIyMjIyMjIyMjIyMjIyMjIyMjIyMjIyMjIyMjIyMjIyMjIyMkIyMjIyMjIyMjJCMjIyMjIyMjIyMjIyMjIyMjIyMjIyMjIyMjIyMjIyMjIyMjIyMjIyMjIyMjIyMjIyMjIyMjIyMjIyMjIyMjIyMjIyMjIyMjIyMjIyMjIyMjIyMjIyMjIyMjIyMjIyMjIyMjIyMjIyMjIyMjIyMjIyMjIyMiIyMjIyMjIyMjIyMjIyMjIyMjIyMjIyMjIyMjIyMjIyMjJA==",
          "dtype": "i1"
         },
         "xaxis": "x10",
         "y": {
          "bdata": "AAAhIiEhISEhISEhIiEhISEhISEhISEgICAgICAgICEhKioqKioqKioqKioqKioqKioqKioqKioqKioqKSoqKioqKioqKioqKioqKioqKioqKioqKioqKioqKioqKiopKioqKioqKioqKioqKioqKioqKioqKioqKioqKioqKioqKioqKioqKioqKioqKioqKikqKioqKioqKioqKioqKioqKioqKSoqKioqKioqKioqKioqKioqKioqKioqKioqKioqKioqKioqKioqKioqKioqKioqKioqKioqKioqKioqKioqKioqKioqKioqKioqKioqKioqKioqKioqKioqKioqKioqKioqKioqKioqKioqKioqKioqKioqKioqKioqKioqKioqKioqKioqKioqKioqKioqKioqKioqKioqKioqKikqKioqKioqKioqISEhICIgISAgKioqKioqKioqKioqKioqKioqKioqKioqKioqKioqKioqKioqKioqKioqKioqKioqKioqKioqKioqKioqKioqKioqKioqKioqKioqKioqKioqKioqKioqKioqKioqKioqKioqKioqKioqKioqKioqKioqKioqKioqKioqKioqKioqKioqKioqKioqKioqKioqKioqKioqKioqKiopKioqKioqKioqKioqKioqKikqKioqKioqKioqKSoqKioqKioqKyoqKioqKioqKioqKioqKioqKioqKioqKyoqKioqKioqKioqKioqKioqKioqKioqKioqKiopKioqKioqKioqKioqKioqKioqKioqKioqKioqKioqKioqKioqKioqKioqKioqKioqKioqKioqKioqKioqKionKioqKioqKioqKSoqKioqKioqKioqKSoqKSoqKioqKioqKioqKioqKioqKioqKioqKioqKioqKioqKioqKioqKioqKioqKioqKioqKioqKioqKioqKioqKioqKioqKioqKioqKioqKioqKioqKioqKioqKioqKioqKioqKioqKioqKioqKioqKioqKioqKioqKioqKioqKioqKioqKioqKioqKioqKioqKioqKioqKioqKiorKioqKioqKioqKioqKioqKioqKioqKioqKioqKiopKioqKioqKikqKioqKioqKioqKioqKioqKioqKioqKioqKioqKioqKioqKioqKioqKioqKioqKioqKioqKioqKioqKioqKioqKyoqKioqKioqKioqKioqKioqKSoqKioqKioqKioqKioqKioqKioqKioqKioqKioqKioqKioqKioqKioqKSoqKioqKioqKioqKioqKioqKioqKioqKioqKioqKioqKikqKioqKioqKioqKioqKioqKioqKioqKioqKioqKioqKioqKSoqKioqKioqKioqKioqKioqKioqKioqKioqKioqKioqKioqKioqKioqKioqKioqKiopKioqKioqKioqKioqKioqKioqKikqKioqKioqKioqKioqKioqKioqKioqKioqKioqKioqKioqKioqKioqKioqKioqKioqKioqKioqKioqKioqKioqKioqKioqKioqKioqKioqKioqKioqKioqKioqKioqKioqKioqKioqKioqKioqKioqKioqKioqKioqKioqKioqKioqKioqKioqKioqKioqKioqKioqKioqKioqKiopKioqKioqKioqKg==",
          "dtype": "i1"
         },
         "yaxis": "y10"
        },
        {
         "marker": {
          "color": "orange",
          "size": 5
         },
         "mode": "markers",
         "name": "Spike",
         "showlegend": false,
         "type": "scatter",
         "x": {
          "bdata": "ZwBnAGcAZwBnAGcAZwBnAGcAZwBnAGcAZwBnAGcAZwBnAGcAWgBaAFoAWgBaAFoAWgBaAFoAWgBaAFoAWABYAFgAcgByAHIAawBrAGsAawBrAGsAawBrAGsAawBrAGsAawBrAGsAaQBpAGkAaQBpAGkAaQBpAGkAaQBpAGkAaQBoAGgAaABpAGkAaQBpAGkAaQBpAGkAaQBbAFsAWwBoAGgAaABpAGkAaQBpAGkAaQBpAGkAaQBpAGkAaQBpAGkAaQBpAGkAaQBpAGkAaQBpAGkAaQBpAGkAaQBpAGkAaQBpAGkAaABpAGgAaABpAGkAaQBpAGkAaQBpAGkAaQBpAGkAaQBeAF4AXgBeAF4AXgBjAGMAYwBjAGMAYwBjAGMAYwAPAGkAaQBpAF4AXgBeAGcAZwBnAGYAYwBjAGMAWgBaAFoAaQBpAF8AaQBfAF8AZwBnAGcAZwBnAGcAZwBkAA8AaQBpAGkAaQBpAGkAaQBpAGkAaQBpAGkAaQBpAGkAaQBpAGkAaQBpAGkAaQBpAGkAaQBpAGkAXwBfAF8AXgBeAF4AXwBfAF8AZABkAGQAaQBpAGkAaQBpAGkAXwBfAF8AZwBmAGYAZgBpAGkAaQBpAGkAaQBpAGkAaQBpAGkAaQBpAGkAaQBfAF8AXwBjAGMAYwBjAGMAYwBjAGMAYwBjAGMAYwBjAGMAYwBmAGYAZgBmAGYAZgBnAGcAZwBjAAMAAwBgAGkAaQBpAGUAZQBlAF4AXgBeAF4ADgBpAGkAaQBpAGkAaQAPABAAZABkAGQAZABkAGQAZABkAGQAYABgAGAAYABgAGAAYABlAGUAZQA4AGkAYwBpAGkAaQBpAGkAaQBpAGkAXgBeAF4AZwBlAGUAZQBlAGUAZQBiAGIAYgBeAF4AXgAeAGMAEABeAF4AXgBeAF4AXgBeAF4AXgAQAF4AXgBeAF4AXgBeAF4AXgBeAGEAYQBhAGkAaQBpAGkAaQBpAGkAaQBYAGkAWABYAGAAYABgAGIAYgBiAA8AaQBpAGkADwBpAGkAaQBpAGkAaQBpAGkAaQBnAGsAawBrAGsAawBrAGsAaQBpAGkAaQBXAFcAYABXAGAAYABhAGEAYQBeAF4AXgBeAGkAaQBpAGkAaQBpAGkAaQBpAA8ADwAPAA8AaQBoAGgAaABoAGgAaABoAGgAaABoAFcAVwBXAGEAYQBhAGEAYQBhAF4ADwBpAGkAaQAQABAAEAAQAAMAaABoAGgAaABeAF4AZwBnAGcAEQARABEAEQARAGcAZwBnAGkAaQBpAGkAaQBpAGkAaQBpAGkAaQBpAGkAaQBpABAAEABpAGkAXwBfAF8AYwBjAGMAYwBjAGMAYwBjAGMAYwBjAGMAYwBeAB4AYwAQAF4AXgBeAF4AXgBeAF4AXgBeABAAXgBeAF4AXgBeAF4ADwAQABAAYgBiAGAAYgBgAGAAYQBhAF4AYQBeAF4AZwBnAGcAZwBnAGcAaQBpAGkAaQBpAGkAZwBnAGcAaQBpAGkAYABgAGAAYABgAGAAYQBhAGEAEAAQABsAaQBpAGkAaABoAGgAaABoAGgAawBrAGkAaQBpAA8AaABiAGIAYgBXAFcAVwBXAFcAVwBXAFcAVwBfAF8AVwBfAFcAVwBXAFcAVwBeAF4AXgBeAF4AXgAPAA8AZwBnAGcAZgBmAGYAEAAQAFgAWABYAGgAaABoAGsAawBrAGkAaQBpABwAHABjAGMAXgBjAF4AXgBjAGMAYwBeAF4AXgBnAGcAZwBgAA8ADQBmAGYAZgBmAGYAZgBpAGkAaQBiAGEAYQBhAGEAYQBhAGEAYQBhAGEAYQBhAGEAXQBdAF0AXgBeAF4AXQBdAF0AEABgAGAAYABpAGkAaQBjAGMAYwBmAGYAZgAPAGkAaQBpAGkAaQBpAGkAEgBdAF0AXQBdAF0AXQASAGAAYABgAGcAJgAmACYAZgBmAGYAaQBpAGkAaQBpAGkAWABYAFgAWABYABAAWAAQAF4AXgBeAF4AXgBeAAQAZwBnAGcAFwBpAGkAZwBnAGcAaQBpAGkAXgBeAF4AXgBeAF4AEAAQAF0AXQBdAF0AXQBdAF0AYwBjAGMAXQBdAF0AXQBdAF0AXQBdAF0AVwBXAFcABwBeAF4AXgADAAMAEQARAGAAYABgAGAAaQBpAGAAYABgAGkAYQBhAGEAEAAQAGYAZgBmAGkAaQBpAGkAaQBpAGkAaQBpAGUAOABlAGUAZQBlAGUAaQBpAGkAZABkAGQAYwBjAGMAZQBlAGUAYgBiAGIAYgBiAGIAYwBjAGMAYwBjAGMAEAAQABAADwAQABAAEAAQABAADwAPAA8AYgBYAFgAWABnAGcAZwBrAGsAawBbAFsAWwBiAGIAYgBlAGUAbQBtAG0AXQBdAF0AYwBjAGMAYwBjAGMAYwBjAGMAYABgAGAAEQBgAGAAYABpAGkAaQBiAGIAYgBiAGIAZwBnAGcAaQBpAGkADwBpAGkAaQBpAF0AXQBdAF0AXQBdAF0AXQBdABAAAgBjAGMAYwBqAGoAagABAIsAiwCLABAAXgBeAF4ADwABAGkAaQBpAGkAaQBpABAAEAAQABAAEAAQABAAaQBiAGIAYgAPAAIADwBfAF8AXwBiAGIAYgBpAGkAaQBpAGUAZQAQABAAEABdAF0AXQARABEAXgBeAF4AXwBfAF8ADwBpAGkAaQBnAGcAZwA=",
          "dtype": "i2"
         },
         "xaxis": "x10",
         "y": {
          "bdata": "Xl5eXl5eXl5eXl5eXl5eXl5eSEhISEhISEhISEhISkpKaGhoXFxcXFxcXFxcXFxcXFxcXl5eXl5eXl5eXmBgYF9fX19fX19fX19fX1BQUF9fX19fX19fX15eXmBgYGBgYF9fX19fX19fX19fX15eXmBgX2BfX19fX2BgYGBgYGBgYFNTU1NTU1JSUlJSUlJSUg9eXl5LS0tbW1taU1NTSEhIX19OX05OXFxcXFxcW1oPX19fX19fX19fX19fX19fX19fX19fX19fX19fTk5OS0tLT09PW1tbX19fX19fTk5OXFtbW19fX19fX19fX19fX19fX05OTltbW1NTU1NTU1NTU1NTU1tbW1tbW1tbW1IBAU5eXl5aWlpLS0tLDF5eXl5eXgwPXV1dXV1dXV1dTk5OTk5OTlpaWjFgU2BgYGBgYWFhS0tLXlpaWlpaWlRUVE9PTxBTD09PT09PT09PTw9LS0tLS0tLS0tSUlJeXl5eXl5eXkpeSkpOTk5UVFQNW1tbDVtbW1tbW1tbW11fX19fX19fYGBgYEtLUktSUlJSUktLS0tfX19fX19fX18PDw8QX19fX19fX19fX19MTExSUlJSUlJLD19fXxAQEBAAX19fX0tLXl5eDw8PDw9aWlpfX19fX19fX19fX19eXl4PD19fTk5OW1tbU1NTU1NTU1NTU08QUw9PT09PT09PT08PS0tLS0tLDw8QUlJQUlBQUlJLUktLXl5eWlpaXl5eXl5eXl5eXl5eWlpaWlpaVFRUEBAUX19fX19fX19fX19gYGARX1JSUkxMTEtLS0tLS1hYS1hLS0tLS0tLS0tLSw8PWlpaXl5eEBBKSkpfX19iYmJeXl4TE09PTU9NTU9PT1RUVFtbW04PDFhYWFhYWF5eXlNTU1NTU1NTU1NTU1VTTU1NTU1NTU1ND05OTl9fX1RUVFhYWA5eXl5eXl5eEE1NTU1NTRBOTk5aISEhWFhYXl5eXl5eSkpKSkoQShBLS0tNTU0EW1tbEV5eXl5eXl5eUVFRVFRUEBBNTU1NTU1NT09PTU1NTU1NTU1NSkpKBE1NTQEBExNOTk5OXl5OTk5eU1NTDw9YWFheXl5eXl5eXl5aMVpaWlpaXl5eU1NTU1NTU1NTU1NTU1NTU1NTU1NTEBAQDBAQEBAQDw8PVEpKSltbW15eXktLS1RUVFpaUFBQV1dXU1NTUlJSUlJSTk5OEE9PT19fX1VVVVVVW1tbXl5eD15eXl5XV1dXV1dXV1cPAFJSUl9fXwBfX18MT09PDwFfX19fX18PDw8PDw8PYFVVVQ8AD09PT1RUVF5eXl5aWhAQEFJSUhAQS0tLUVFRD2BgYFtbWw==",
          "dtype": "i1"
         },
         "yaxis": "y10"
        },
        {
         "marker": {
          "color": "red"
         },
         "name": "Envelope",
         "nbinsx": 20,
         "opacity": 0.6,
         "showlegend": false,
         "type": "histogram",
         "x": {
          "bdata": "AQEBAQEBAAEBAQEBAQEBAQEBAQEBAQEBAQEBAQEBAQEBAQEBAQEBAQEBAQEBAQEBAQEBAQEBAQEBAQEBAQEBAQEBAQEBAQEBAQEBAQEBAQEBAQEBAQEBAQEBAQEBAQEBAQEBAQEBAQEBAQEBAQEBAQEBAQEBAQEBAQEBAQEBAQEBAQEBAQEBAQEBAQEBAQEBAQEBAQEBAQEBAQEBAQEBAQEBAQEBAQEBAQEBAQEBAQEBAQEBAQEBAQEBAQEBAQEBAQEBAQEBAQEBAQEBAQEBAQEBAQEBAQEBAQEBAQEBAQEBAQEBAQEBAQEBAQEBAQEBAQEBAQEBAQEBAQEBAQEBAQEBAQEBAQEBAQEBAQEBAQEBAQEBAQEBAQEBAQEBAQEBAQEBAQEBAQEBAQEBAQEBAQEBAQEBAQEBAQEBAQEBAQEBAQEBAQEBAQEBAQEBAQEBAQEBAQEBAQEBAQEBAQEBAQEBAQEBAQEBAQEBAQEBAQEBAQEBAQEBAQEBAQEBAQEBAQEBAQEBAQEBAQEBAQEBAQEBAQEBAQEBAQEBAQEBAQEBAQEBAQEBAQEBAQEBAQEBAQEBAQEBAQEBAQEBAQEBAQEBAQEBAQEBAQEBAQEBAQEBAQEBAQEBAQEBAQEBAQEBAQEBAQEBAQEBAQEBAQEBAQEBAQEBAQEBAQEBAQEBAQEBAQEBAQEBAQEBAQEBAQEBAQEBAQEBAQEBAQEBAQEBAQEBAQEBAQEBAQEBAQEBAQEBAQEBAQEBAQEBAQEBAQEBAQEBAQEBAQEBAQEBAQEBAQEBAQEBAQEBAQEBAQEBAQEBAQEBAQEBAQEBAQEBAQEBAQEBAQEBAQEBAQEBAQEBAQEBAQEBAQEBAQEBAQEBAQEBAQEBAQEBAQEBAQEBAQEBAQEBAQEBAQE=",
          "dtype": "i1"
         },
         "xaxis": "x11",
         "yaxis": "y11"
        },
        {
         "marker": {
          "color": "green"
         },
         "name": "Membrane",
         "nbinsx": 20,
         "opacity": 0.6,
         "showlegend": false,
         "type": "histogram",
         "x": {
          "bdata": "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",
          "dtype": "i2"
         },
         "xaxis": "x11",
         "yaxis": "y11"
        },
        {
         "marker": {
          "color": "blue"
         },
         "name": "Nucleocapsid",
         "nbinsx": 20,
         "opacity": 0.6,
         "showlegend": false,
         "type": "histogram",
         "x": {
          "bdata": "AAAhIiEhISEhISEhIiEhISEhISEhISEgICAgICAgICEhKioqKioqKioqKioqKioqKioqKioqKioqKioqKSoqKioqKioqKioqKioqKioqKioqKioqKioqKioqKioqKiopKioqKioqKioqKioqKioqKioqKioqKioqKioqKioqKioqKioqKioqKioqKioqKioqKikqKioqKioqKioqKioqKioqKioqKSoqKioqKioqKioqKioqKioqKioqKioqKioqKioqKioqKioqKioqKioqKioqKioqKioqKioqKioqKioqKioqKioqKioqKioqKioqKioqKioqKioqKioqKioqKioqKioqKioqKioqKioqKioqKioqKioqKioqKioqKioqKioqKioqKioqKioqKioqKioqKioqKioqKioqKioqKioqKikqKioqKioqKioqISEhICIgISAgKioqKioqKioqKioqKioqKioqKioqKioqKioqKioqKioqKioqKioqKioqKioqKioqKioqKioqKioqKioqKioqKioqKioqKioqKioqKioqKioqKioqKioqKioqKioqKioqKioqKioqKioqKioqKioqKioqKioqKioqKioqKioqKioqKioqKioqKioqKioqKioqKioqKioqKioqKiopKioqKioqKioqKioqKioqKikqKioqKioqKioqKSoqKioqKioqKyoqKioqKioqKioqKioqKioqKioqKioqKyoqKioqKioqKioqKioqKioqKioqKioqKioqKiopKioqKioqKioqKioqKioqKioqKioqKioqKioqKioqKioqKioqKioqKioqKioqKioqKioqKioqKioqKioqKionKioqKioqKioqKSoqKioqKioqKioqKSoqKSoqKioqKioqKioqKioqKioqKioqKioqKioqKioqKioqKioqKioqKioqKioqKioqKioqKioqKioqKioqKioqKioqKioqKioqKioqKioqKioqKioqKioqKioqKioqKioqKioqKioqKioqKioqKioqKioqKioqKioqKioqKioqKioqKioqKioqKioqKioqKioqKioqKioqKioqKiorKioqKioqKioqKioqKioqKioqKioqKioqKioqKiopKioqKioqKikqKioqKioqKioqKioqKioqKioqKioqKioqKioqKioqKioqKioqKioqKioqKioqKioqKioqKioqKioqKioqKioqKyoqKioqKioqKioqKioqKioqKSoqKioqKioqKioqKioqKioqKioqKioqKioqKioqKioqKioqKioqKioqKSoqKioqKioqKioqKioqKioqKioqKioqKioqKioqKioqKikqKioqKioqKioqKioqKioqKioqKioqKioqKioqKioqKioqKSoqKioqKioqKioqKioqKioqKioqKioqKioqKioqKioqKioqKioqKioqKioqKioqKiopKioqKioqKioqKioqKioqKioqKikqKioqKioqKioqKioqKioqKioqKioqKioqKioqKioqKioqKioqKioqKioqKioqKioqKioqKioqKioqKioqKioqKioqKioqKioqKioqKioqKioqKioqKioqKioqKioqKioqKioqKioqKioqKioqKioqKioqKioqKioqKioqKioqKioqKioqKioqKioqKioqKioqKioqKioqKioqKiopKioqKioqKioqKg==",
          "dtype": "i1"
         },
         "xaxis": "x11",
         "yaxis": "y11"
        },
        {
         "marker": {
          "color": "orange"
         },
         "name": "Spike",
         "nbinsx": 20,
         "opacity": 0.6,
         "showlegend": false,
         "type": "histogram",
         "x": {
          "bdata": "Xl5eXl5eXl5eXl5eXl5eXl5eSEhISEhISEhISEhISkpKaGhoXFxcXFxcXFxcXFxcXFxcXl5eXl5eXl5eXmBgYF9fX19fX19fX19fX1BQUF9fX19fX19fX15eXmBgYGBgYF9fX19fX19fX19fX15eXmBgX2BfX19fX2BgYGBgYGBgYFNTU1NTU1JSUlJSUlJSUg9eXl5LS0tbW1taU1NTSEhIX19OX05OXFxcXFxcW1oPX19fX19fX19fX19fX19fX19fX19fX19fX19fTk5OS0tLT09PW1tbX19fX19fTk5OXFtbW19fX19fX19fX19fX19fX05OTltbW1NTU1NTU1NTU1NTU1tbW1tbW1tbW1IBAU5eXl5aWlpLS0tLDF5eXl5eXgwPXV1dXV1dXV1dTk5OTk5OTlpaWjFgU2BgYGBgYWFhS0tLXlpaWlpaWlRUVE9PTxBTD09PT09PT09PTw9LS0tLS0tLS0tSUlJeXl5eXl5eXkpeSkpOTk5UVFQNW1tbDVtbW1tbW1tbW11fX19fX19fYGBgYEtLUktSUlJSUktLS0tfX19fX19fX18PDw8QX19fX19fX19fX19MTExSUlJSUlJLD19fXxAQEBAAX19fX0tLXl5eDw8PDw9aWlpfX19fX19fX19fX19eXl4PD19fTk5OW1tbU1NTU1NTU1NTU08QUw9PT09PT09PT08PS0tLS0tLDw8QUlJQUlBQUlJLUktLXl5eWlpaXl5eXl5eXl5eXl5eWlpaWlpaVFRUEBAUX19fX19fX19fX19gYGARX1JSUkxMTEtLS0tLS1hYS1hLS0tLS0tLS0tLSw8PWlpaXl5eEBBKSkpfX19iYmJeXl4TE09PTU9NTU9PT1RUVFtbW04PDFhYWFhYWF5eXlNTU1NTU1NTU1NTU1VTTU1NTU1NTU1ND05OTl9fX1RUVFhYWA5eXl5eXl5eEE1NTU1NTRBOTk5aISEhWFhYXl5eXl5eSkpKSkoQShBLS0tNTU0EW1tbEV5eXl5eXl5eUVFRVFRUEBBNTU1NTU1NT09PTU1NTU1NTU1NSkpKBE1NTQEBExNOTk5OXl5OTk5eU1NTDw9YWFheXl5eXl5eXl5aMVpaWlpaXl5eU1NTU1NTU1NTU1NTU1NTU1NTU1NTEBAQDBAQEBAQDw8PVEpKSltbW15eXktLS1RUVFpaUFBQV1dXU1NTUlJSUlJSTk5OEE9PT19fX1VVVVVVW1tbXl5eD15eXl5XV1dXV1dXV1cPAFJSUl9fXwBfX18MT09PDwFfX19fX18PDw8PDw8PYFVVVQ8AD09PT1RUVF5eXl5aWhAQEFJSUhAQS0tLUVFRD2BgYFtbWw==",
          "dtype": "i1"
         },
         "xaxis": "x11",
         "yaxis": "y11"
        },
        {
         "marker": {
          "color": "red",
          "size": 5
         },
         "mode": "markers",
         "name": "Envelope",
         "showlegend": false,
         "type": "scatter",
         "x": {
          "bdata": "BAQEBAQEAAQEBAQEBAQEBAMDAwMDAwMDAwMDAwMDAwMDAwMDAwMDAwMDAwMDAwMDAwMDAwMDAwMDAwMDAwMDAwMDAwMDAwMDAwMDAwMDAwMDAwMDAwMDAwMDAwMDAwMDAwMDAwMDAwMDAwMDAwMDAwMDAwMDAwMDAwMDAwMDAwMDAwMDAwMDAwMDAwMDAwMDAwMDAwMDAwMDAwMDAwMDAwMDAwMDAwMDAwMDAwMDAwMDAwMDAwMDAwMDAwMDAwMDAwMDAwMDAwMDAwMDAwMDAwMDAwMDAwMDAwMDAwMDAwMDAwMDAwMDAwMDAwMDAwMDAwMDAwMDAwMDAwMDAwMDAwMDAwMDAwMDAwMDAwMDAwMDAwMDAwMDAwMDAwMDAwMDAwMDAwMDAwMDAwMDAwMDAwMDAwMDAwMCAwMDAwMDAwMCAgMDAwMCAwIDAgMCAgICAgMDAgIDAwICAgMCAwIDAwMCAgMDAwIDAgMCAgMCAwMCAwICAgMDAwMDAgMCAgIDAgICAgIDAgIDAwMDAgMDAgIDAwMDAgIDAwMDAgMDAgMDAgIDAwMCAwICAgICAgIDAwMCAwMCAgMDAgMCAgMCAgMDAwICAgMDAgMDAgMDAgMDAwIDAgMDAgMCAwMCAwIDAgIDAwMDAgMDAwIDAgMCAgMCAgMDAgMDAwMCAgMCAgIDAgMCAgMDAwIDAgMCAgIDAgICAwMDAgIDAgMCAgIDAwMDAwMDAwMDAwMCAwMDAwIDAwMDAwMDAwMCAwMDAwMCAgMDAwMDAwIDAwMDAwIDAgMCAgMDAwMDAwIDAwMDAwIDAgIDAgIDAwMCAwMDAwMDAgMCAwIDAwMDAgIDAwMCAwMDAgICAgICAgICAgICAgICAgICAgICAgICAgICAgMCAgICAgICAgI=",
          "dtype": "i1"
         },
         "xaxis": "x12",
         "y": {
          "bdata": "AQEBAQEBAAEBAQEBAQEBAQEBAQEBAQEBAQEBAQEBAQEBAQEBAQEBAQEBAQEBAQEBAQEBAQEBAQEBAQEBAQEBAQEBAQEBAQEBAQEBAQEBAQEBAQEBAQEBAQEBAQEBAQEBAQEBAQEBAQEBAQEBAQEBAQEBAQEBAQEBAQEBAQEBAQEBAQEBAQEBAQEBAQEBAQEBAQEBAQEBAQEBAQEBAQEBAQEBAQEBAQEBAQEBAQEBAQEBAQEBAQEBAQEBAQEBAQEBAQEBAQEBAQEBAQEBAQEBAQEBAQEBAQEBAQEBAQEBAQEBAQEBAQEBAQEBAQEBAQEBAQEBAQEBAQEBAQEBAQEBAQEBAQEBAQEBAQEBAQEBAQEBAQEBAQEBAQEBAQEBAQEBAQEBAQEBAQEBAQEBAQEBAQEBAQEBAQEBAQEBAQEBAQEBAQEBAQEBAQEBAQEBAQEBAQEBAQEBAQEBAQEBAQEBAQEBAQEBAQEBAQEBAQEBAQEBAQEBAQEBAQEBAQEBAQEBAQEBAQEBAQEBAQEBAQEBAQEBAQEBAQEBAQEBAQEBAQEBAQEBAQEBAQEBAQEBAQEBAQEBAQEBAQEBAQEBAQEBAQEBAQEBAQEBAQEBAQEBAQEBAQEBAQEBAQEBAQEBAQEBAQEBAQEBAQEBAQEBAQEBAQEBAQEBAQEBAQEBAQEBAQEBAQEBAQEBAQEBAQEBAQEBAQEBAQEBAQEBAQEBAQEBAQEBAQEBAQEBAQEBAQEBAQEBAQEBAQEBAQEBAQEBAQEBAQEBAQEBAQEBAQEBAQEBAQEBAQEBAQEBAQEBAQEBAQEBAQEBAQEBAQEBAQEBAQEBAQEBAQEBAQEBAQEBAQEBAQEBAQEBAQEBAQEBAQEBAQEBAQEBAQEBAQEBAQEBAQEBAQEBAQEBAQE=",
          "dtype": "i1"
         },
         "yaxis": "y12"
        },
        {
         "marker": {
          "color": "green",
          "size": 5
         },
         "mode": "markers",
         "name": "Membrane",
         "showlegend": false,
         "type": "scatter",
         "x": {
          "bdata": "BAANAA0ADQANAA0ADQAKAAoADQANAAIAAgAEAAQABAAEAAQADQANAA0ADQANAA0ADQANAA0ADQANAA0ADgAOAA0ADQANAA0ADQANAA0ADQANAA0ADQANAA0ADQANAA0ADQANAA0ADQANAA0ADQANAA0ADQANAA0ADQANAA0ADQANAA0ADQANAA0ADQANAA0ADQANAA0ADQANAA0ADQANAA0ADQANAA0ADQANAA0ADQANAA0ADQANAA0ADQANAA0ADQANAA0ADQANAA0ADQANAA0ADQANAA0ADQANAA0ADQANAA0ADQANAA0ADQANAA0ADQANAA0ADQANAA0ADQANAA0ADQANAA0ADQANAA0ADQANAA0ADQANAA0ADQANAA0ADQANAA0ADQANAA0ADQANAA0ADQANAA0ADQANAA0ADQANAA0ADQANAA0ADQANAA0ADQANAA0ADQANAA0ADQANAA0ADQANAA0ADQANAA0ADQANAA0ADQANAA0ADQANAA0ADQANAA0ADQANAA0ADQANAA0ADQANAA0ADQANAA0ADQANAA0ADQANAA0ADQANAA0ADQANAA0ADQANAA0ADQANAA0ADQANAA0ADQANAA0ADQANAA0ADQANAA0ADQANAA0ADQANAA0ADQANAA0ADQANAA0ADQANAA0ADQANAA0ADQANAA0ADQANAA0ADQANAA0ADQANAA0ADQANAA0ADQANAA0ADQANAA0ADQANAA0ADQANAA0ADQANAA0ADQANAA0ADQANAA0ADQANAA0ADQANAA0ADQANAA0ADQANAA0ADQANAA0ADQANAA0ADQANAA0ADQANAA0ADQANAA0ADQANAA0ADQANAA0ADQANAA0ADQANAA0ADQANAA0ADQANAA0ADQANAA0ADQANAA0ADQANAA0ADQANAA0ADQANAA0ADQANAA0ADQANAA0ADQANAA0ADQANAA0ADQANAA0ADQANAA0ADQANAA0ADQANAA0ADQANAA0ADQANAA0ADQANAA0ADQANAA0ADQANAA0ADQANAA0ADQANAA0ADQANAA0ADQANAA0ADQANAA0ADQANAA0ADQANAA0ADQANAA0ADQANAA0ADQANAA0ADQANAA0ADQANAA0ADQANAA0ADQAOAA0ADQANAA0ADQANAA0ADQANAA0ADQANAA0ADQANAA0ADQANAA0ADQANAA0ADQANAA0ADgANAA0ADQANAA0ADQANAA0ADQANAA0ADQANAA0ADQANAA0ADQANAA0ADQANAA0ADQANAA0ADQANAA0ADQANAA0ADQANAAUADQANAA0ADQANAA0ADQANAA0ADQANAA0ADQANAA0ADQANAA0ADQANAA0ADQANAA0ADQANAA0ADQANAA0ADQANAA0ADQANAA0ADQANAA0ADQANAA0ADQANAA0ADQANAA0ADQANAA0ADQANAA0ADQANAA0ADQANAA0ADQANAA0ADQANAA0ADQANAA0ADQANAA0ADQANAA0ADQANAA0ADQANAA0ADQANAA0ADQANAA0ADQANAA0ADQANAA0ADQANAA0ADQANAA0ADQANAA0ADQANAA0ADQANAA0ADQANAA0ADQANAA0ADQANAA0ADQANAA0ADQANAA0ADQANAA0ADQANAA0ADQANAA0ADQANAA0ADQANAA0ADQANAA0ADQANAA0ADQANAA0ADQANAA0ADQANAA0ADQANAA0ADQANAA0ADQANAA0ADQANAA0ADQANAA0ADQANAA0ADQANAA0ADQANAA0ADQANAA0ADQANAA0ADQANAA0ADQANAA0ADQANAA0ADQANAA0ADQANAA0ADQANAA0ADQANAA0ADQANAA0ADQANAA0AXwBfAA0ADQANAA0ADQANAA0ADQANAA0ADQANAA0ADQANAA0ADQANAA0ADQANAA0ADQANAA0ADQANAA0ADQANAA0ADQANAA0ADgANAA0ADQANAA0ADQANAA0ADQANAA0ADQANAA4ADQANAA0ADQANAA0ADQANAA0ADgAOAA0ADQANAA4ADQANAAwADgANAA4ADgAOAA4ADgANAA0ADgANAA4ADgAOAAsADgAOAA4ADgAOAA4ADQAOAA0ADgANAA4ACgANAA4ADgANAA0ADQANAA0ADQAOAA0ADQAOAA0ADQANAA0ADgAOAA4ADQANAA4ADQANAA4ADQANAA4ADgAOAA4ADQANAA0ADgANAA0ADgAOAA4ADgAOAA4ADgAOAA0ADQANAA0ADQANAA4ADQANAA0ADgANAA0ADQAOAA0ADQAOAA4AXwBfAF8AXwADAAQAGABhAFkBDwJhAGEAYQBhAGEAYQBeAF4AXgBhAGEAYQBhAGEAGABiAFgBDgICACAABQABAAoAAwAEABgAYQBZAQ8CAgAgAAUAAQAKAFcBDQICACAABQABAAoAAwAEABgAYQBZAQ8CAgAfAAYAAQAKAAMABAACAB8ABgABAAoAAwAEABgAYQBYAQ4CAgAfAAUAAQAKAAMAAwAYAGEABQAKAAEAAwAEABgAYQBZAQ8CAgAfAAYAAQAKAAMABAAYAGEAWAEOAgoAAwAEABgAYQBZAQ8CAgAgAAUAAQAKAAMABAAYAGEAWQEPAgIAIAAEABgAYABYAQ4CAgAeAAUAAQAKAAMAAwAYAGEAVwENAgIAIAAFAAEAYQBZAQ8CAgAgAAUAAQAKAAMABABhABgAVwENAg==",
          "dtype": "i2"
         },
         "xaxis": "x12",
         "y": {
          "bdata": "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",
          "dtype": "i2"
         },
         "yaxis": "y12"
        },
        {
         "marker": {
          "color": "blue",
          "size": 5
         },
         "mode": "markers",
         "name": "Nucleocapsid",
         "showlegend": false,
         "type": "scatter",
         "x": {
          "bdata": "AAATExMTExMTExMTExMTExMTExMTExMSEhMTExITExMTICAhICAgICAgICAgICAgICAgICAgICAgICAgICAgICAgICAgICAgICAgICAgICAgICAgICAgICAgICAgIB8gICAfICAgICAgICAgICAgICAgICAgICAgICAgICAgICAgICAgICAgICAgICAgICAgICAgICAgICAgICAgICAfICAgICAgICAgICAgICAgICAgICAgICAgICAgICAgICAgICAgICAgICAgICAgICAgICAgICAfISAgICAgICAgICAgICAgICAgICAgICAgICAgICAgICAgICAgICAgIB8gICAgICAgICAgICAgICAgICAgICAgICAgICAgISAgICAgICAgICAgICAgICAgICAgICAgICAgICAgHyAgICAgICAgICAgICAgICAgICAgExMTExMTExMSIB8gHyAgICAgICAgIB8gICAgICAgICAgICAgICAgICAgICAgICAgICAgICAgICAgICAgIB8gICAgICAhICAgICAgICAgICAgISAgICAgICAgHyAgICAgICAfICAgIB8gICAgICAgICAgICAgICAgICAgIB8fICAgHyAfICAgHyAgICAgICAgICAgICAgICAgICAgICAgICAgIB8gICAgICAgICAgICAgICAgICAgHyAgISAgICAgICAgICAgICAgIB8gIB8gICAgIB8gIB8gICAgICAgICAgICAgIB8gICAgICAgHyAgICAgICAgICAfICAgICAgICAfICAgICAgICAgICAfICAgICAgICAgISAgICAgICAgICAfICAgHyAgICAfICAgICAgICAgICAgICAgICAeICAfICAgICAgICAgICAgIB8gICAgICAgICAgICAgICAgICAgICAgICAgICAgICAgICAgICAgHyAgHyAgICAgICAgICAgICAgICAgICAgICAgICAgICAgICAgICAgICAgICAgICAgICAgICAgICAgICAgICAgICAgICAgICAgICAgICAgICAgICAgICAgICEgICAgICAgICAgICAgICAgICAgICAgICAgHiEfICAgICAgICAgICAgICAgICAgICAgIB8gICAgICAgICAgICAgICAgICAhICAgICAhICAgICAgICAgICAgICAgICAgICAgICAgICAgICAgICAgICAgICAgICAgICAgICAgICAgICAgICAgICAgICAgICAgICAgICAgICAgICAgICAgICAgISAgHyAgICAgICAgICAgICAgICAgICAgICAgICAgICAgICAgICAgICAgICAgICAgISAgICAgICAgICAgICAgICAgICAgICAgICAgICAgICAgICAgICAgICAgICAgICAgICAgICAgICAgICAfICAgHyAgICAgICAgICAgICAgICAgICAgICAgICAgICAgICAgICAgICAgICAgICAgICAgICAgICAgICAgICAgHyAgICAgICAgICAgICAgICAgICAgICAgICAgICAgICAgICAgICAgICAgICAgICAgICAgICAgHyEgICAgICAgICAgICAgICAgICAgICAgICAgICAgICAgICAgICAgICAfICAgICAgICAgICAgICAgICAgICAgICAgICAgICEgICAgICAgICAgICAgICAgICAgICAgICAgICAgIB8gICAgICAgICAgICAgICAgICAgIA==",
          "dtype": "i1"
         },
         "xaxis": "x12",
         "y": {
          "bdata": "AAAhIiEhISEhISEhIiEhISEhISEhISEgICAgICAgICEhKioqKioqKioqKioqKioqKioqKioqKioqKioqKSoqKioqKioqKioqKioqKioqKioqKioqKioqKioqKioqKiopKioqKioqKioqKioqKioqKioqKioqKioqKioqKioqKioqKioqKioqKioqKioqKioqKikqKioqKioqKioqKioqKioqKioqKSoqKioqKioqKioqKioqKioqKioqKioqKioqKioqKioqKioqKioqKioqKioqKioqKioqKioqKioqKioqKioqKioqKioqKioqKioqKioqKioqKioqKioqKioqKioqKioqKioqKioqKioqKioqKioqKioqKioqKioqKioqKioqKioqKioqKioqKioqKioqKioqKioqKioqKioqKioqKikqKioqKioqKioqISEhICIgISAgKioqKioqKioqKioqKioqKioqKioqKioqKioqKioqKioqKioqKioqKioqKioqKioqKioqKioqKioqKioqKioqKioqKioqKioqKioqKioqKioqKioqKioqKioqKioqKioqKioqKioqKioqKioqKioqKioqKioqKioqKioqKioqKioqKioqKioqKioqKioqKioqKioqKioqKioqKiopKioqKioqKioqKioqKioqKikqKioqKioqKioqKSoqKioqKioqKyoqKioqKioqKioqKioqKioqKioqKioqKyoqKioqKioqKioqKioqKioqKioqKioqKioqKiopKioqKioqKioqKioqKioqKioqKioqKioqKioqKioqKioqKioqKioqKioqKioqKioqKioqKioqKioqKioqKionKioqKioqKioqKSoqKioqKioqKioqKSoqKSoqKioqKioqKioqKioqKioqKioqKioqKioqKioqKioqKioqKioqKioqKioqKioqKioqKioqKioqKioqKioqKioqKioqKioqKioqKioqKioqKioqKioqKioqKioqKioqKioqKioqKioqKioqKioqKioqKioqKioqKioqKioqKioqKioqKioqKioqKioqKioqKioqKioqKioqKiorKioqKioqKioqKioqKioqKioqKioqKioqKioqKiopKioqKioqKikqKioqKioqKioqKioqKioqKioqKioqKioqKioqKioqKioqKioqKioqKioqKioqKioqKioqKioqKioqKioqKioqKyoqKioqKioqKioqKioqKioqKSoqKioqKioqKioqKioqKioqKioqKioqKioqKioqKioqKioqKioqKioqKSoqKioqKioqKioqKioqKioqKioqKioqKioqKioqKioqKikqKioqKioqKioqKioqKioqKioqKioqKioqKioqKioqKioqKSoqKioqKioqKioqKioqKioqKioqKioqKioqKioqKioqKioqKioqKioqKioqKioqKiopKioqKioqKioqKioqKioqKioqKikqKioqKioqKioqKioqKioqKioqKioqKioqKioqKioqKioqKioqKioqKioqKioqKioqKioqKioqKioqKioqKioqKioqKioqKioqKioqKioqKioqKioqKioqKioqKioqKioqKioqKioqKioqKioqKioqKioqKioqKioqKioqKioqKioqKioqKioqKioqKioqKioqKioqKioqKioqKiopKioqKioqKioqKg==",
          "dtype": "i1"
         },
         "yaxis": "y12"
        },
        {
         "marker": {
          "color": "orange",
          "size": 5
         },
         "mode": "markers",
         "name": "Spike",
         "showlegend": false,
         "type": "scatter",
         "x": {
          "bdata": "X19fX19fX19fX19fX19fX19fWlpaWlpaWlpaWlpaWlpaX19fX19fX19fX19fX19fX19fX19fX19fX19fX19fX15eXl9fX19fX19fX1xcXF5eXl9fX19fX19fX19fX19fX19fX19fX19fX19fX19fX19fXl9eXl9fX19fX19fX19fX19fX19fX2FhYWFhYWFhYQtfX19bW1tgYGBfXl5eWlpaXV1eXV5eYGBgYGBgYF8LXV1dXV1dXV1dXV1dXV1dXV1dXV1dXV1dXV1dXl5eW1tbXl5eX19fXV1dXV1dXl5eYF9fX11dXV1dXV1dXV1dXV1dXV5eXl9fX15eXl5eXl5eXl5eXl9fX19fX2BgYGEBAV5fX19gYGBbW1tbCl9fX19fXwwLYWFhYWFhYWFhXl5eXl5eXmBgYDpfXl9fX19fXFxcW1tbX2BgYGBgYF9fX15eXgZeDF5eXl5eXl5eXgtbW1tbW1tbW1tcXFxfX19fX19fX1pfWlpeXl5fX18KXV1dCl1dXV1dXV1dXV9eXl5eXl5eX19fX19fXl9eXl5eXltbW1tfX19fX19fX18LCwsMX19fX19fX19eXl5fX19eXl5eXl5bC19fXwsLCwsAX15eXltbXl5eDQ0NDQ1gYGBfX19fX19fX19fX19fX18MDF1dXl5eX19fXl5eXl5eXl5eXl4GXgxeXl5eXl5eXl4LW1tbW1tbCwwLXl5fXl9fXl5bXltbXl5eYGBgX19fX19fXl5eX19fX19fX19fYGBgCwsaX19fX19fX19fXl5fX18TXl9fX19fX19fX19fX2FhX2FfX19fX1tbW1tbWwsLYGBgX19fCwtaWlpeXl5hYWFfX18dHV9fXl9eXl9fX19fX1xcXF4KCWBgYGBgYF9fX19fX19fX19fX19fX2BfXl5eXl5eXl5eDF5eXl9fX19fX2BgYApfX19fX19fDV5eXl5eXg1eXl5gJSUlYGBgX19fX19fWlpaWloLWgtaWlpdXV0AXFxcGl9fXl5eX19fXV1dX19fCwtdXl5eXl5eX19fXV1dXV1dXl5eWlpaAl1dXQEBDg5eXl5eX19eXl5fX19fDAxgYGBfX19fX19fX19gOmBgYGBgX19fYGBgX19fYGBgYGBgYGBgYWFhYWFhCwsLCAoKCgoKCQkJX1paWlxcXGFhYV1dXV9fX2BgYmJiXFxcYWFhX19fX19fXl5eDVxcXF9fX19fX19fXFxcX19fCl9fX19cXFxcXFxcXFwMAF9fX19fXwBbW1sKXFxcCgFfX19fX18MDAwMDAwMXV9fXwsBCl5eXl9fX19fX19gYA0NDV5eXg4OW1tbXFxcCl1dXWBgYA==",
          "dtype": "i1"
         },
         "xaxis": "x12",
         "y": {
          "bdata": "Xl5eXl5eXl5eXl5eXl5eXl5eSEhISEhISEhISEhISkpKaGhoXFxcXFxcXFxcXFxcXFxcXl5eXl5eXl5eXmBgYF9fX19fX19fX19fX1BQUF9fX19fX19fX15eXmBgYGBgYF9fX19fX19fX19fX15eXmBgX2BfX19fX2BgYGBgYGBgYFNTU1NTU1JSUlJSUlJSUg9eXl5LS0tbW1taU1NTSEhIX19OX05OXFxcXFxcW1oPX19fX19fX19fX19fX19fX19fX19fX19fX19fTk5OS0tLT09PW1tbX19fX19fTk5OXFtbW19fX19fX19fX19fX19fX05OTltbW1NTU1NTU1NTU1NTU1tbW1tbW1tbW1IBAU5eXl5aWlpLS0tLDF5eXl5eXgwPXV1dXV1dXV1dTk5OTk5OTlpaWjFgU2BgYGBgYWFhS0tLXlpaWlpaWlRUVE9PTxBTD09PT09PT09PTw9LS0tLS0tLS0tSUlJeXl5eXl5eXkpeSkpOTk5UVFQNW1tbDVtbW1tbW1tbW11fX19fX19fYGBgYEtLUktSUlJSUktLS0tfX19fX19fX18PDw8QX19fX19fX19fX19MTExSUlJSUlJLD19fXxAQEBAAX19fX0tLXl5eDw8PDw9aWlpfX19fX19fX19fX19eXl4PD19fTk5OW1tbU1NTU1NTU1NTU08QUw9PT09PT09PT08PS0tLS0tLDw8QUlJQUlBQUlJLUktLXl5eWlpaXl5eXl5eXl5eXl5eWlpaWlpaVFRUEBAUX19fX19fX19fX19gYGARX1JSUkxMTEtLS0tLS1hYS1hLS0tLS0tLS0tLSw8PWlpaXl5eEBBKSkpfX19iYmJeXl4TE09PTU9NTU9PT1RUVFtbW04PDFhYWFhYWF5eXlNTU1NTU1NTU1NTU1VTTU1NTU1NTU1ND05OTl9fX1RUVFhYWA5eXl5eXl5eEE1NTU1NTRBOTk5aISEhWFhYXl5eXl5eSkpKSkoQShBLS0tNTU0EW1tbEV5eXl5eXl5eUVFRVFRUEBBNTU1NTU1NT09PTU1NTU1NTU1NSkpKBE1NTQEBExNOTk5OXl5OTk5eU1NTDw9YWFheXl5eXl5eXl5aMVpaWlpaXl5eU1NTU1NTU1NTU1NTU1NTU1NTU1NTEBAQDBAQEBAQDw8PVEpKSltbW15eXktLS1RUVFpaUFBQV1dXU1NTUlJSUlJSTk5OEE9PT19fX1VVVVVVW1tbXl5eD15eXl5XV1dXV1dXV1cPAFJSUl9fXwBfX18MT09PDwFfX19fX18PDw8PDw8PYFVVVQ8AD09PT1RUVF5eXl5aWhAQEFJSUhAQS0tLUVFRD2BgYFtbWw==",
          "dtype": "i1"
         },
         "yaxis": "y12"
        },
        {
         "marker": {
          "color": "red",
          "size": 5
         },
         "mode": "markers",
         "name": "Envelope",
         "showlegend": false,
         "type": "scatter",
         "x": {
          "bdata": "CQkJCQkJAwkJCQkODg4NDg4ODg4ODg4ODg4ODg4ODg4ODg4ODg4ODg4ODg4ODg4ODg4ODg4ODg4ODg4ODg4ODg4ODg4ODg4ODg4ODg4ODg4ODg4ODg4ODg4ODg4ODg4ODg4ODg4ODg4ODg4ODg4ODg4ODg4ODg4ODg4ODg4ODg4ODg4ODg4ODg4ODg4ODg4ODg4ODw4ODg4ODg4ODg4ODg4ODg4ODg4ODg4ODg4ODg4ODg4ODg4ODg4ODg4ODg4ODg4ODg4ODg4ODg4ODg4ODg4ODg4ODg4ODg4ODg4ODg4ODg4ODg4ODg4ODg4ODg4ODg4ODg4ODg4ODg4ODg4ODg4ODg4ODg4ODg4ODg4ODg4ODg4ODg4ODg4ODg4ODg4ODg4ODg4ODg4ODg4ODg4ODg4ODg4ODg4ODg4ODg4ODg4ODg4ODg4MDg4ODg4ODg4ODg4ODg4ODg4ODg4ODg4ODg4ODg4ODg4ODg4ODg4ODg4ODg4ODg4ODg4ODg4ODg4ODg4ODg4ODg4ODg4ODg4ODg4ODg4ODg4ODg4ODg4ODg4ODg4ODg4ODg4ODg4ODg4ODg4ODg4ODg4ODg4ODg4ODg4ODg4ODg4ODg4ODg4ODg4ODg4ODg4ODg4ODg4ODg4ODg4ODg4ODg4ODg4ODg4ODg4ODg4ODg4ODg4ODg4ODg4ODg4ODg4ODg4ODg4ODg4ODg4ODg4ODg4ODg4ODg4ODg4ODg4ODg4ODg4ODg4ODg4ODg4ODg4ODg4ODg4ODg4ODg4ODg4ODg4ODg4ODg4ODg4ODg4ODg4ODg4ODg4ODg4ODg4ODg4ODg4ODg4ODg4ODg4ODg4ODg4ODg4ODg4ODg4ODg4ODg4ODg4ODg4ODg4ODg4ODg4ODg4ODg4ODg4ODg4ODg4ODg4=",
          "dtype": "i1"
         },
         "xaxis": "x13",
         "y": {
          "bdata": "BAQEBAQEAAQEBAQEBAQEBAMDAwMDAwMDAwMDAwMDAwMDAwMDAwMDAwMDAwMDAwMDAwMDAwMDAwMDAwMDAwMDAwMDAwMDAwMDAwMDAwMDAwMDAwMDAwMDAwMDAwMDAwMDAwMDAwMDAwMDAwMDAwMDAwMDAwMDAwMDAwMDAwMDAwMDAwMDAwMDAwMDAwMDAwMDAwMDAwMDAwMDAwMDAwMDAwMDAwMDAwMDAwMDAwMDAwMDAwMDAwMDAwMDAwMDAwMDAwMDAwMDAwMDAwMDAwMDAwMDAwMDAwMDAwMDAwMDAwMDAwMDAwMDAwMDAwMDAwMDAwMDAwMDAwMDAwMDAwMDAwMDAwMDAwMDAwMDAwMDAwMDAwMDAwMDAwMDAwMDAwMDAwMDAwMDAwMDAwMDAwMDAwMDAwMDAwMCAwMDAwMDAwMCAgMDAwMCAwIDAgMCAgICAgMDAgIDAwICAgMCAwIDAwMCAgMDAwIDAgMCAgMCAwMCAwICAgMDAwMDAgMCAgIDAgICAgIDAgIDAwMDAgMDAgIDAwMDAgIDAwMDAgMDAgMDAgIDAwMCAwICAgICAgIDAwMCAwMCAgMDAgMCAgMCAgMDAwICAgMDAgMDAgMDAgMDAwIDAgMDAgMCAwMCAwIDAgIDAwMDAgMDAwIDAgMCAgMCAgMDAgMDAwMCAgMCAgIDAgMCAgMDAwIDAgMCAgIDAgICAwMDAgIDAgMCAgIDAwMDAwMDAwMDAwMCAwMDAwIDAwMDAwMDAwMCAwMDAwMCAgMDAwMDAwIDAwMDAwIDAgMCAgMDAwMDAwIDAwMDAwIDAgIDAgIDAwMCAwMDAwMDAgMCAwIDAwMDAgIDAwMCAwMDAgICAgICAgICAgICAgICAgICAgICAgICAgICAgMCAgICAgICAgI=",
          "dtype": "i1"
         },
         "yaxis": "y13"
        },
        {
         "marker": {
          "color": "green",
          "size": 5
         },
         "mode": "markers",
         "name": "Membrane",
         "showlegend": false,
         "type": "scatter",
         "x": {
          "bdata": "DgAlACUAJQAlACUAJQAeAB4AJAAkAAkACQAJAAkACQAJAAkAJAAkACMAIwAjACMAIwAjACMAIwAjACMAIwAjACMAIwAjACMAIwAjACMAIwAjACMAIwAjACMAIwAjACMAIwAjACMAIwAjACMAIwAjACMAIwAjACMAIwAjACMAIwAjACMAIwAjACMAIwAjACMAIwAjACMAIwAjACMAIwAjACMAIwAjACMAIwAjACMAIwAjACMAIwAjACMAIwAjACMAIwAjACMAIwAjACMAIwAjACMAIwAjACMAIwAjACMAIwAjACMAIwAjACMAIwAjACMAIwAjACMAIwAjACMAIwAjACMAIwAjACMAIwAjACMAIwAjACMAIwAjACMAIwAjACMAIwAjACMAIwAjACMAIwAjACMAIwAjACMAIwAjACMAIwAjACMAIwAjACMAIwAjACMAIwAjACMAIwAjACMAIwAjACMAIwAjACMAIwAjACMAIwAjACMAIwAjACMAIwAjACMAIwAjACMAIwAjACMAIwAjACMAIwAjACMAIwAjACMAIwAjACMAIwAjACMAIwAjACMAIwAjACMAIwAjACMAIwAjACMAIwAjACMAIwAjACMAIwAjACMAIwAjACMAIwAjACMAIwAjACMAIwAjACMAIwAjACMAIwAjACMAIwAjACMAIwAjACMAIwAjACMAIwAjACMAIwAjACMAIwAjACMAIwAjACMAIwAjACMAIwAjACMAIwAjACMAIwAjACMAIwAjACMAIwAjACMAIwAjACMAIwAjACMAIwAjACMAIwAjACMAIwAjACMAIwAjACMAIwAjACMAIwAjACMAIwAjACMAIwAjACMAIwAjACMAIwAjACMAIwAjACMAIwAjACMAIwAjACMAIwAjACMAIwAjACMAIwAjACMAIwAjACMAIwAjACMAIwAjACMAIwAjACMAIwAjACMAIwAjACMAIwAjACMAIwAjACMAIwAjACMAIwAjACMAIwAjACMAIwAjACMAIwAjACMAIwAjACMAIwAjACMAIwAjACMAIwAjACMAIwAjACMAIwAjACMAIwAjACMAIwAjACMAIwAjACMAIwAjACMAIwAjACMAIwAjACMAIwAjACMAIwAjACMAIwAjACMAIwAjACMAIwAjACMAIwAjACMAIwAjACMAIwAjACMAIwAjACMAIwAjACMAIwAjACMAIwAjACMAIwAjACMAIwAjACMAIwAjACMAIwAjACMAIwAjACMAIwAjACMAIwAjACMAIwAjACMAIwAjACMAIwAjACMAIwAjACMAIwAjABMAIwAjACMAIwAjACMAIwAjACMAIwAjACMAIwAjACMAIwAjACMAIwAjACMAIwAjACMAIwAjACMAIwAjACMAIwAjACMAIwAjACMAIwAjACMAIwAjACMAIwAjACMAIwAjACMAIwAjACMAIwAjACMAIwAjACMAIwAjACMAIwAjACMAIwAjACMAIwAjACMAIwAjACMAIwAjACMAIwAjACMAIwAjACMAIwAjACMAIwAjACMAIwAjACMAIwAjACMAIwAjACMAIwAjACMAIwAjACMAIwAjACMAIwAjACMAIwAjACMAIwAjACMAIwAjACMAIwAjACMAIwAjACMAIwAjACMAIwAjACMAIwAjACMAIwAjACMAIwAjACMAIwAjACMAIwAjACMAIwAjACMAIwAjACMAIwAjACMAIwAjACMAIwAjACMAIwAjACMAIwAjACMAIwAjACMAIwAjACMAIwAjACMAIwAjACMAIwAjACMAIwAjACMAIwAjACMAIwAjACMAIwAjACMAIwAjACMAIwAjACMAIwAjACMAIwAjACMAIwAjACMAIwAjACMAawBrACMAIwAjACMAIwAjACMAIwAjACMAIwAjACMAIwAjACMAIwAjACMAIwAjACMAIwAjACMAIwAjACMAIwAjACMAIwAjACMAIwAjACMAIwAjACMAIwAjACMAIwAjACMAIwAfACMAIwAjACMAIwAjACMAIwAjACMAIwAjACMAIwAjACAAIwAjACIAIwAjACMAIwAjACMAIwAjACMAIwAjACMAIwAjAB0AIwAjACMAIwAjACMAIwAjACIAIwAjACMAGQAjACMAIwAjACMAIwAjACMAIwAjACMAIwAjACMAIwAjACMAIwAjACMAIwAjACMAIwAjACMAIwAjACMAIwAjACMAIwAjACMAIwAjACMAIwAjACMAIwAjACMAIwAjACMAIwAjACMAIwAjACMAIwAjACMAIwAjACMAIwAjACMAIwAjACMAawBqAGoAagAIAA4AHgBsALIBnAJtAG0AbQBtAG0AbQBnAGcAZwBsAGwAbABsAGwAHgBsALMBngIEABsACgALAA8ACAAOAB4AbACzAZ0CBAAbAAoACwAPALIBnAIEABsACgALAA8ACAAOAB4AbACyAZwCBAAbAAoACwAPAAgADgAEABsACgALAA8ACAAOAB4AbACzAZ0CBAAbAAoACwAPAAgADgAeAGsACgAPAAsACAAOAB4AbACzAZ0CBAAbAAoACwAPAAgADgAeAGwAswGdAg8ACAAOAB4AbACzAZ0CBAAbAAoACwAPAAgADgAeAGwAswGdAgQAGwAOAB4AawCzAZ0CBAAbAAoACwAPAAgADgAeAGsAsgGcAgQAGwAKAAsAbACzAZ0CBAAbAAsACwAPAAgADgBsAB4AtAGeAg==",
          "dtype": "i2"
         },
         "xaxis": "x13",
         "y": {
          "bdata": "BAANAA0ADQANAA0ADQAKAAoADQANAAIAAgAEAAQABAAEAAQADQANAA0ADQANAA0ADQANAA0ADQANAA0ADgAOAA0ADQANAA0ADQANAA0ADQANAA0ADQANAA0ADQANAA0ADQANAA0ADQANAA0ADQANAA0ADQANAA0ADQANAA0ADQANAA0ADQANAA0ADQANAA0ADQANAA0ADQANAA0ADQANAA0ADQANAA0ADQANAA0ADQANAA0ADQANAA0ADQANAA0ADQANAA0ADQANAA0ADQANAA0ADQANAA0ADQANAA0ADQANAA0ADQANAA0ADQANAA0ADQANAA0ADQANAA0ADQANAA0ADQANAA0ADQANAA0ADQANAA0ADQANAA0ADQANAA0ADQANAA0ADQANAA0ADQANAA0ADQANAA0ADQANAA0ADQANAA0ADQANAA0ADQANAA0ADQANAA0ADQANAA0ADQANAA0ADQANAA0ADQANAA0ADQANAA0ADQANAA0ADQANAA0ADQANAA0ADQANAA0ADQANAA0ADQANAA0ADQANAA0ADQANAA0ADQANAA0ADQANAA0ADQANAA0ADQANAA0ADQANAA0ADQANAA0ADQANAA0ADQANAA0ADQANAA0ADQANAA0ADQANAA0ADQANAA0ADQANAA0ADQANAA0ADQANAA0ADQANAA0ADQANAA0ADQANAA0ADQANAA0ADQANAA0ADQANAA0ADQANAA0ADQANAA0ADQANAA0ADQANAA0ADQANAA0ADQANAA0ADQANAA0ADQANAA0ADQANAA0ADQANAA0ADQANAA0ADQANAA0ADQANAA0ADQANAA0ADQANAA0ADQANAA0ADQANAA0ADQANAA0ADQANAA0ADQANAA0ADQANAA0ADQANAA0ADQANAA0ADQANAA0ADQANAA0ADQANAA0ADQANAA0ADQANAA0ADQANAA0ADQANAA0ADQANAA0ADQANAA0ADQANAA0ADQANAA0ADQANAA0ADQANAA0ADQANAA0ADQANAA0ADQANAA0ADQANAA0ADQANAA0ADQANAA0ADQANAA0ADQANAA0ADQANAA0ADQANAA0ADQANAA0ADQANAA0ADQANAA0ADQANAA0ADQANAA0ADQANAA0ADQAOAA0ADQANAA0ADQANAA0ADQANAA0ADQANAA0ADQANAA0ADQANAA0ADQANAA0ADQANAA0ADgANAA0ADQANAA0ADQANAA0ADQANAA0ADQANAA0ADQANAA0ADQANAA0ADQANAA0ADQANAA0ADQANAA0ADQANAA0ADQANAAUADQANAA0ADQANAA0ADQANAA0ADQANAA0ADQANAA0ADQANAA0ADQANAA0ADQANAA0ADQANAA0ADQANAA0ADQANAA0ADQANAA0ADQANAA0ADQANAA0ADQANAA0ADQANAA0ADQANAA0ADQANAA0ADQANAA0ADQANAA0ADQANAA0ADQANAA0ADQANAA0ADQANAA0ADQANAA0ADQANAA0ADQANAA0ADQANAA0ADQANAA0ADQANAA0ADQANAA0ADQANAA0ADQANAA0ADQANAA0ADQANAA0ADQANAA0ADQANAA0ADQANAA0ADQANAA0ADQANAA0ADQANAA0ADQANAA0ADQANAA0ADQANAA0ADQANAA0ADQANAA0ADQANAA0ADQANAA0ADQANAA0ADQANAA0ADQANAA0ADQANAA0ADQANAA0ADQANAA0ADQANAA0ADQANAA0ADQANAA0ADQANAA0ADQANAA0ADQANAA0ADQANAA0ADQANAA0ADQANAA0ADQANAA0ADQANAA0ADQANAA0ADQANAA0ADQANAA0ADQANAA0ADQANAA0AXwBfAA0ADQANAA0ADQANAA0ADQANAA0ADQANAA0ADQANAA0ADQANAA0ADQANAA0ADQANAA0ADQANAA0ADQANAA0ADQANAA0ADgANAA0ADQANAA0ADQANAA0ADQANAA0ADQANAA4ADQANAA0ADQANAA0ADQANAA0ADgAOAA0ADQANAA4ADQANAAwADgANAA4ADgAOAA4ADgANAA0ADgANAA4ADgAOAAsADgAOAA4ADgAOAA4ADQAOAA0ADgANAA4ACgANAA4ADgANAA0ADQANAA0ADQAOAA0ADQAOAA0ADQANAA0ADgAOAA4ADQANAA4ADQANAA4ADQANAA4ADgAOAA4ADQANAA0ADgANAA0ADgAOAA4ADgAOAA4ADgAOAA0ADQANAA0ADQANAA4ADQANAA0ADgANAA0ADQAOAA0ADQAOAA4AXwBfAF8AXwADAAQAGABhAFkBDwJhAGEAYQBhAGEAYQBeAF4AXgBhAGEAYQBhAGEAGABiAFgBDgICACAABQABAAoAAwAEABgAYQBZAQ8CAgAgAAUAAQAKAFcBDQICACAABQABAAoAAwAEABgAYQBZAQ8CAgAfAAYAAQAKAAMABAACAB8ABgABAAoAAwAEABgAYQBYAQ4CAgAfAAUAAQAKAAMAAwAYAGEABQAKAAEAAwAEABgAYQBZAQ8CAgAfAAYAAQAKAAMABAAYAGEAWAEOAgoAAwAEABgAYQBZAQ8CAgAgAAUAAQAKAAMABAAYAGEAWQEPAgIAIAAEABgAYABYAQ4CAgAeAAUAAQAKAAMAAwAYAGEAVwENAgIAIAAFAAEAYQBZAQ8CAgAgAAUAAQAKAAMABABhABgAVwENAg==",
          "dtype": "i2"
         },
         "yaxis": "y13"
        },
        {
         "marker": {
          "color": "blue",
          "size": 5
         },
         "mode": "markers",
         "name": "Nucleocapsid",
         "showlegend": false,
         "type": "scatter",
         "x": {
          "bdata": "AQEQEREREREREREREBEREREREREREREREREREREREREQHBwcHBwcHBwcHBwdHBwcHBwcHBwcHBwcHBwcHBwcHBwcHBwcHBwcHBwcHBwcHBwcHBwcHBwcHBwcHBwcHBwcHBwcHBwcHBwcHBwcHBwcHBwcHBwcHBwcHBwcHBwcHBwcHBwcHBwcHBwcHBwcHBwcHBwcHBwcHBwcHBwcHBwcHRwcHBwcHBwcHBwcHBwcHBwcHBwcHBwcHBwcHBwcHBwcHBwcHBwcHBwcHBwcHBwcHBwcHBwcHBwcHBwdHBwcHBwcHBwcHBwcHBwcHBwcHBwcHBwcHBwcHBwcHBwcHBwcHBwcHBwcHBwcHBwcHBwcHBwcHBwcHBwcHBwcHBwcHBwcHBwcHBwcHBwcHB0cHBwcHBwcHBwcHBwcHBwcHBwcHBwcHBwcHBwcHBwcHBwcEBEQEREQERIRHBwcHBwcHBwcHBwdHBwcHBwcHB0cHBwcHBwcHBwcHBwcHBwcHBwcHBwcHBwcHBwcHBwcHBwcHBwcHBwcHBwcHBwcHBwcHBwcHBwcHBwcHBwcHBwcHBwcHBwdHBwcHBscHBwcHBwcHBwcHBscHBwcHBwcHBwcHBwcHBwcHBwcHRwcHBwcHBwcHBwcHBwcHBwcHBwbHBwcHBwcHBwcHBwcHBwcHBwcHBwcHBwcHBwcHRwcHBwcHBwcHBwcHBwcHBwcHB0cHBwcHBwcHBwcHBwcHBwcHBwcHBwcHBwcHB0cHBwcHBwcHBwcHBwcHBwcHBwbHBwcHBwcHBwcHBwcHBwcHBwcHBwcHBwcHBwcHBwcHBwcHBwdHBwcHBwcHBwcHBwcHBwcHBwcHB0cHBwcHBwcHBwcHBwbHBwcHBwcHBwcHBwcHBwcHBwcHBwcHBwcHBwcHBwcHBwcHBwcHBwcHBwcHBwcHBwcHBwcHBwcHBwcHBwcHB0cHBwcHBwcHBwcHBwcHBwcHBwcHBwcHBwcHBwcHBwcHBwcHRwcHBwcHBwcHBwcHBwcHBwcHRwdHB0cHBwcHBwcHBwcHBwcHBwcHRwcHBwcHBwcHB0cHBwcHBwcHBwcHBwcHBwcHBwcHBwcHBwcHBwcHBwcHBwcHBwcHBwcHBwcHBwcHBwcHBwcHBwcHBwcHBwcHBwcHBwcHBwcHBwcHRwcHRwcHBwcHBwcHB0cHBwcHBwcHBwcHBwcHBwcHBwcHBwcHBwcHBwcHBwcHBwcHBwcHBwcHBwcHBwcHBwcHBwcHBwcHBwcHBwcHBwcHBwcHBwcHBwdHBweHBwcHBwcHBwcHBwcHBwcHBwcHBwcHB0cHBwcHBwcHBwcHBwcHBwcHBwcHBwcHBwcHBwcHRwcHBwcHBwcHBwcHBwcHBwcHBwcHBwcHBwcHBwcHBwcHBwcHBwcHBwcHBwcHBwcHBwcHBwcHBwcHBwcHBwcHBwcHBwcHBwcHBwcHBwcHBwcHBwcHBwcHBwcHBwcHBwcHBwcHBwcHBwcHBwcHBwcHBwcHB0cHBwcHBwcHBwcHBwcHBwcHBwcHBwcHBwcHBwcHBwcHBwcHBwcHBwcHBwcHBwcHBwcHBwcHBwcHBwcHRwcHBwcHBwcHBwcHBwcHBwcHBwcHBwcHBwcHBwcHBwcHBwcHBwcHBwcHBwcHBwcHBwcHBwcHBwcHBwcHBwcHBwcHBwcHBwcHBwcHBwcHBwdHBwcHBwcHBwcHBwcHBwcHBwcHBwcHBwcHBwcHBwcHBwcHA==",
          "dtype": "i1"
         },
         "xaxis": "x13",
         "y": {
          "bdata": "AAATExMTExMTExMTExMTExMTExMTExMSEhMTExITExMTICAhICAgICAgICAgICAgICAgICAgICAgICAgICAgICAgICAgICAgICAgICAgICAgICAgICAgICAgICAgIB8gICAfICAgICAgICAgICAgICAgICAgICAgICAgICAgICAgICAgICAgICAgICAgICAgICAgICAgICAgICAgICAfICAgICAgICAgICAgICAgICAgICAgICAgICAgICAgICAgICAgICAgICAgICAgICAgICAgICAfISAgICAgICAgICAgICAgICAgICAgICAgICAgICAgICAgICAgICAgIB8gICAgICAgICAgICAgICAgICAgICAgICAgICAgISAgICAgICAgICAgICAgICAgICAgICAgICAgICAgHyAgICAgICAgICAgICAgICAgICAgExMTExMTExMSIB8gHyAgICAgICAgIB8gICAgICAgICAgICAgICAgICAgICAgICAgICAgICAgICAgICAgIB8gICAgICAhICAgICAgICAgICAgISAgICAgICAgHyAgICAgICAfICAgIB8gICAgICAgICAgICAgICAgICAgIB8fICAgHyAfICAgHyAgICAgICAgICAgICAgICAgICAgICAgICAgIB8gICAgICAgICAgICAgICAgICAgHyAgISAgICAgICAgICAgICAgIB8gIB8gICAgIB8gIB8gICAgICAgICAgICAgIB8gICAgICAgHyAgICAgICAgICAfICAgICAgICAfICAgICAgICAgICAfICAgICAgICAgISAgICAgICAgICAfICAgHyAgICAfICAgICAgICAgICAgICAgICAeICAfICAgICAgICAgICAgIB8gICAgICAgICAgICAgICAgICAgICAgICAgICAgICAgICAgICAgHyAgHyAgICAgICAgICAgICAgICAgICAgICAgICAgICAgICAgICAgICAgICAgICAgICAgICAgICAgICAgICAgICAgICAgICAgICAgICAgICAgICAgICAgICEgICAgICAgICAgICAgICAgICAgICAgICAgHiEfICAgICAgICAgICAgICAgICAgICAgIB8gICAgICAgICAgICAgICAgICAhICAgICAhICAgICAgICAgICAgICAgICAgICAgICAgICAgICAgICAgICAgICAgICAgICAgICAgICAgICAgICAgICAgICAgICAgICAgICAgICAgICAgICAgICAgISAgHyAgICAgICAgICAgICAgICAgICAgICAgICAgICAgICAgICAgICAgICAgICAgISAgICAgICAgICAgICAgICAgICAgICAgICAgICAgICAgICAgICAgICAgICAgICAgICAgICAgICAgICAfICAgHyAgICAgICAgICAgICAgICAgICAgICAgICAgICAgICAgICAgICAgICAgICAgICAgICAgICAgICAgICAgHyAgICAgICAgICAgICAgICAgICAgICAgICAgICAgICAgICAgICAgICAgICAgICAgICAgICAgHyEgICAgICAgICAgICAgICAgICAgICAgICAgICAgICAgICAgICAgICAfICAgICAgICAgICAgICAgICAgICAgICAgICAgICEgICAgICAgICAgICAgICAgICAgICAgICAgICAgIB8gICAgICAgICAgICAgICAgICAgIA==",
          "dtype": "i1"
         },
         "yaxis": "y13"
        },
        {
         "marker": {
          "color": "orange",
          "size": 5
         },
         "mode": "markers",
         "name": "Spike",
         "showlegend": false,
         "type": "scatter",
         "x": {
          "bdata": "Z2dnZ2dnZ2dnZ2dnZ2dnZ2dnXl5eXl5eXl5eXl5eWVlZbGxsaWlpaWlpaWlpaWlpaWlpa2tra2tra2tra2pqamtra2tra2tra2tra2RkZGtra2tra2tra2tra2pqampqamtra2tra2tra2tra2tra2pqa2pra2tra2pqampqampqamVlZWVlZWxsbGxsbGxsbA1ra2tlZWVycnJya2trXl5eampmamZmb29vb29vcnINampqampqampqampqampqampqampqampqampqZmZmZWVlZ2dncnJyampqampqZmZmb3JycmpqampqampqampqampqamZmZmtra2tra2tra2tra2tra3JycnJycnJycmwDA2Zra2tycnJlZWVlDmtra2traw8Nbm5ubm5ubm5uZmZmZmZmZnJycj5qa2pqampqaWlpZWVlZ3JycnJycmpqamZmZh9rDWZmZmZmZmZmZg1lZWVlZWVlZWVqampra2tra2tra1lrWVlmZmZqamoMaWlpDGlpaWlpaWlpaWtqampqampqampqallZa1lra2tra2VlZWVra2tra2tra2sNDQ0Na2pqampqampra2tZWVlqampra2tlDWtraw0NDQ0Camtra2VlaGhoDg4ODg5ycnJra2tra2tra2tra2tra2sNDWpqZmZma2tra2tra2tra2tra2Yfaw1mZmZmZmZmZmYNZWVlZWVlDQ0Nampramtra2tla2VlaGhocnJya2tra2traGhoa2trZmZmZmZmZmZmDQ0ia2trampqampqampqamoTa2lpaVlZWVlZWVlZWWZmWmZaWlpaWmVlZWVlZQ0NcnJyZ2dnDQ1ZWVlra2tvb29ra2siImpqZGpkZGxsbGVlZWpqamYNDmxsbGxsbGtra2NkZGRkZGRkZGRkZGZkZWVlZGRkZWVlDWZmZmtra2lpaWxsbA1ra2tra2trDmVlZWVlZQ5mZmZyMjIybGxsa2tra2trWVlZWVkNWQ1kZGRmZmYFampqHGtraGhoa2trY2NjZWVlDQ1lZWVlZWVlbGxsZWVlZWVlZWVlWVlZB2ZmZgMDDw9mZmZma2tmZmZrZ2dnDQ1sbGxra2tra2tra2tyPnJycnJya2trbGxsa2tra2trbGxsbGxsbGxsbGxsDQ0NDQ0NDQ0NDAwMallZWWpqam1tbV9fX2pqanJybW1tZWVlbGxsZWVlZWVlZmZmDWhoaGpqamdnZ2dnampqa2trDWtra2tlZWVlZWVlZWUNAmVlZWtrawN0dHQNZGRkDQJqampqamoNDQ0NDQ0NamdnZw0DDWdnZ2pqamtra2tycg0NDWhoaA4OZWVlampqDWpqanJycg==",
          "dtype": "i1"
         },
         "xaxis": "x13",
         "y": {
          "bdata": "X19fX19fX19fX19fX19fX19fWlpaWlpaWlpaWlpaWlpaX19fX19fX19fX19fX19fX19fX19fX19fX19fX19fX15eXl9fX19fX19fX1xcXF5eXl9fX19fX19fX19fX19fX19fX19fX19fX19fX19fX19fXl9eXl9fX19fX19fX19fX19fX19fX2FhYWFhYWFhYQtfX19bW1tgYGBfXl5eWlpaXV1eXV5eYGBgYGBgYF8LXV1dXV1dXV1dXV1dXV1dXV1dXV1dXV1dXV1dXl5eW1tbXl5eX19fXV1dXV1dXl5eYF9fX11dXV1dXV1dXV1dXV1dXV5eXl9fX15eXl5eXl5eXl5eXl9fX19fX2BgYGEBAV5fX19gYGBbW1tbCl9fX19fXwwLYWFhYWFhYWFhXl5eXl5eXmBgYDpfXl9fX19fXFxcW1tbX2BgYGBgYF9fX15eXgZeDF5eXl5eXl5eXgtbW1tbW1tbW1tcXFxfX19fX19fX1pfWlpeXl5fX18KXV1dCl1dXV1dXV1dXV9eXl5eXl5eX19fX19fXl9eXl5eXltbW1tfX19fX19fX18LCwsMX19fX19fX19eXl5fX19eXl5eXl5bC19fXwsLCwsAX15eXltbXl5eDQ0NDQ1gYGBfX19fX19fX19fX19fX18MDF1dXl5eX19fXl5eXl5eXl5eXl4GXgxeXl5eXl5eXl4LW1tbW1tbCwwLXl5fXl9fXl5bXltbXl5eYGBgX19fX19fXl5eX19fX19fX19fYGBgCwsaX19fX19fX19fXl5fX18TXl9fX19fX19fX19fX2FhX2FfX19fX1tbW1tbWwsLYGBgX19fCwtaWlpeXl5hYWFfX18dHV9fXl9eXl9fX19fX1xcXF4KCWBgYGBgYF9fX19fX19fX19fX19fX2BfXl5eXl5eXl5eDF5eXl9fX19fX2BgYApfX19fX19fDV5eXl5eXg1eXl5gJSUlYGBgX19fX19fWlpaWloLWgtaWlpdXV0AXFxcGl9fXl5eX19fXV1dX19fCwtdXl5eXl5eX19fXV1dXV1dXl5eWlpaAl1dXQEBDg5eXl5eX19eXl5fX19fDAxgYGBfX19fX19fX19gOmBgYGBgX19fYGBgX19fYGBgYGBgYGBgYWFhYWFhCwsLCAoKCgoKCQkJX1paWlxcXGFhYV1dXV9fX2BgYmJiXFxcYWFhX19fX19fXl5eDVxcXF9fX19fX19fXFxcX19fCl9fX19cXFxcXFxcXFwMAF9fX19fXwBbW1sKXFxcCgFfX19fX18MDAwMDAwMXV9fXwsBCl5eXl9fX19fX19gYA0NDV5eXg4OW1tbXFxcCl1dXWBgYA==",
          "dtype": "i1"
         },
         "yaxis": "y13"
        },
        {
         "marker": {
          "color": "red",
          "size": 5
         },
         "mode": "markers",
         "name": "Envelope",
         "showlegend": false,
         "type": "scatter",
         "x": {
          "bdata": "AQEBAQEBAwEBAQEICAgICAgICAgICAgICAgICAgICAgICAgICAgICAgICAgICAgICAgICAgICAgICAgICAgICAgICAgICAgICAgICAgICAgICAgICAgICAgICAgICAgICAgICAgICAgICAgICAgICAgICAgICAgICAgICAgICAgICAgICAgICAgICAgICAgICAgICAgICAgICAgICAgICAgICAgICAgICAgICAgICAgICAgICAgICAgICAgICAgICAgICAgICAgICAgICAgICAgICAgICAgICAgICAgICAgICAgICAgICAgICAgICAgICAgICAgICAgICAgICAgICAgICAgICAgICAgICAgICAgICAgICAgICAgICAgICAgICAgICAgICAgICAgICAgICAgICAgICAgICAgICAgICAgICAgICAgGCAgICAgICAgICAgICAgICAgICAgICAgICAgICAgICAgICAgICAgICAgICAgICAgICAgICAgICAgICAgICAgICAgICAgICAgICAgICAgICAgICAgICAgICAgICAgICAgICAgICAgICAgICAgICAgICAgICAgICAgICAgICAgICAgICAgICAgICAgICAgICAgICAgICAgICAgICAgICAgICAgICAgICAgHCAgICAgICAgICAgICAgICAgICAgICAgICAgICAgICAgICAgICAgICAgICAgICAgICAgICAgICAgICAgICAgICAgICAgICAgICAgICAgICAgICAgICAgICAgICAgICAgICAgICAgICAgICAgICAgICAgICAgICAgICAgICAgICAgICAgICAgICAgICAgICAgICAgICAgICAgICAgICAgICAgICAgICAgICAgICAgICAgICAgICAgICAg=",
          "dtype": "i1"
         },
         "xaxis": "x14",
         "y": {
          "bdata": "BAQEBAQEAAQEBAQEBAQEBAMDAwMDAwMDAwMDAwMDAwMDAwMDAwMDAwMDAwMDAwMDAwMDAwMDAwMDAwMDAwMDAwMDAwMDAwMDAwMDAwMDAwMDAwMDAwMDAwMDAwMDAwMDAwMDAwMDAwMDAwMDAwMDAwMDAwMDAwMDAwMDAwMDAwMDAwMDAwMDAwMDAwMDAwMDAwMDAwMDAwMDAwMDAwMDAwMDAwMDAwMDAwMDAwMDAwMDAwMDAwMDAwMDAwMDAwMDAwMDAwMDAwMDAwMDAwMDAwMDAwMDAwMDAwMDAwMDAwMDAwMDAwMDAwMDAwMDAwMDAwMDAwMDAwMDAwMDAwMDAwMDAwMDAwMDAwMDAwMDAwMDAwMDAwMDAwMDAwMDAwMDAwMDAwMDAwMDAwMDAwMDAwMDAwMDAwMCAwMDAwMDAwMCAgMDAwMCAwIDAgMCAgICAgMDAgIDAwICAgMCAwIDAwMCAgMDAwIDAgMCAgMCAwMCAwICAgMDAwMDAgMCAgIDAgICAgIDAgIDAwMDAgMDAgIDAwMDAgIDAwMDAgMDAgMDAgIDAwMCAwICAgICAgIDAwMCAwMCAgMDAgMCAgMCAgMDAwICAgMDAgMDAgMDAgMDAwIDAgMDAgMCAwMCAwIDAgIDAwMDAgMDAwIDAgMCAgMCAgMDAgMDAwMCAgMCAgIDAgMCAgMDAwIDAgMCAgIDAgICAwMDAgIDAgMCAgIDAwMDAwMDAwMDAwMCAwMDAwIDAwMDAwMDAwMCAwMDAwMCAgMDAwMDAwIDAwMDAwIDAgMCAgMDAwMDAwIDAwMDAwIDAgIDAgIDAwMCAwMDAwMDAgMCAwIDAwMDAgIDAwMCAwMDAgICAgICAgICAgICAgICAgICAgICAgICAgICAgMCAgICAgICAgI=",
          "dtype": "i1"
         },
         "yaxis": "y14"
        },
        {
         "marker": {
          "color": "green",
          "size": 5
         },
         "mode": "markers",
         "name": "Membrane",
         "showlegend": false,
         "type": "scatter",
         "x": {
          "bdata": "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",
          "dtype": "i2"
         },
         "xaxis": "x14",
         "y": {
          "bdata": "BAANAA0ADQANAA0ADQAKAAoADQANAAIAAgAEAAQABAAEAAQADQANAA0ADQANAA0ADQANAA0ADQANAA0ADgAOAA0ADQANAA0ADQANAA0ADQANAA0ADQANAA0ADQANAA0ADQANAA0ADQANAA0ADQANAA0ADQANAA0ADQANAA0ADQANAA0ADQANAA0ADQANAA0ADQANAA0ADQANAA0ADQANAA0ADQANAA0ADQANAA0ADQANAA0ADQANAA0ADQANAA0ADQANAA0ADQANAA0ADQANAA0ADQANAA0ADQANAA0ADQANAA0ADQANAA0ADQANAA0ADQANAA0ADQANAA0ADQANAA0ADQANAA0ADQANAA0ADQANAA0ADQANAA0ADQANAA0ADQANAA0ADQANAA0ADQANAA0ADQANAA0ADQANAA0ADQANAA0ADQANAA0ADQANAA0ADQANAA0ADQANAA0ADQANAA0ADQANAA0ADQANAA0ADQANAA0ADQANAA0ADQANAA0ADQANAA0ADQANAA0ADQANAA0ADQANAA0ADQANAA0ADQANAA0ADQANAA0ADQANAA0ADQANAA0ADQANAA0ADQANAA0ADQANAA0ADQANAA0ADQANAA0ADQANAA0ADQANAA0ADQANAA0ADQANAA0ADQANAA0ADQANAA0ADQANAA0ADQANAA0ADQANAA0ADQANAA0ADQANAA0ADQANAA0ADQANAA0ADQANAA0ADQANAA0ADQANAA0ADQANAA0ADQANAA0ADQANAA0ADQANAA0ADQANAA0ADQANAA0ADQANAA0ADQANAA0ADQANAA0ADQANAA0ADQANAA0ADQANAA0ADQANAA0ADQANAA0ADQANAA0ADQANAA0ADQANAA0ADQANAA0ADQANAA0ADQANAA0ADQANAA0ADQANAA0ADQANAA0ADQANAA0ADQANAA0ADQANAA0ADQANAA0ADQANAA0ADQANAA0ADQANAA0ADQANAA0ADQANAA0ADQANAA0ADQANAA0ADQANAA0ADQANAA0ADQANAA0ADQANAA0ADQANAA0ADQANAA0ADQANAA0ADQANAA0ADQANAA0ADQANAA0ADQANAA0ADQANAA0ADQANAA0ADQANAA0ADQANAA0ADQAOAA0ADQANAA0ADQANAA0ADQANAA0ADQANAA0ADQANAA0ADQANAA0ADQANAA0ADQANAA0ADgANAA0ADQANAA0ADQANAA0ADQANAA0ADQANAA0ADQANAA0ADQANAA0ADQANAA0ADQANAA0ADQANAA0ADQANAA0ADQANAAUADQANAA0ADQANAA0ADQANAA0ADQANAA0ADQANAA0ADQANAA0ADQANAA0ADQANAA0ADQANAA0ADQANAA0ADQANAA0ADQANAA0ADQANAA0ADQANAA0ADQANAA0ADQANAA0ADQANAA0ADQANAA0ADQANAA0ADQANAA0ADQANAA0ADQANAA0ADQANAA0ADQANAA0ADQANAA0ADQANAA0ADQANAA0ADQANAA0ADQANAA0ADQANAA0ADQANAA0ADQANAA0ADQANAA0ADQANAA0ADQANAA0ADQANAA0ADQANAA0ADQANAA0ADQANAA0ADQANAA0ADQANAA0ADQANAA0ADQANAA0ADQANAA0ADQANAA0ADQANAA0ADQANAA0ADQANAA0ADQANAA0ADQANAA0ADQANAA0ADQANAA0ADQANAA0ADQANAA0ADQANAA0ADQANAA0ADQANAA0ADQANAA0ADQANAA0ADQANAA0ADQANAA0ADQANAA0ADQANAA0ADQANAA0ADQANAA0ADQANAA0ADQANAA0ADQANAA0ADQANAA0ADQANAA0AXwBfAA0ADQANAA0ADQANAA0ADQANAA0ADQANAA0ADQANAA0ADQANAA0ADQANAA0ADQANAA0ADQANAA0ADQANAA0ADQANAA0ADgANAA0ADQANAA0ADQANAA0ADQANAA0ADQANAA4ADQANAA0ADQANAA0ADQANAA0ADgAOAA0ADQANAA4ADQANAAwADgANAA4ADgAOAA4ADgANAA0ADgANAA4ADgAOAAsADgAOAA4ADgAOAA4ADQAOAA0ADgANAA4ACgANAA4ADgANAA0ADQANAA0ADQAOAA0ADQAOAA0ADQANAA0ADgAOAA4ADQANAA4ADQANAA4ADQANAA4ADgAOAA4ADQANAA0ADgANAA0ADgAOAA4ADgAOAA4ADgAOAA0ADQANAA0ADQANAA4ADQANAA0ADgANAA0ADQAOAA0ADQAOAA4AXwBfAF8AXwADAAQAGABhAFkBDwJhAGEAYQBhAGEAYQBeAF4AXgBhAGEAYQBhAGEAGABiAFgBDgICACAABQABAAoAAwAEABgAYQBZAQ8CAgAgAAUAAQAKAFcBDQICACAABQABAAoAAwAEABgAYQBZAQ8CAgAfAAYAAQAKAAMABAACAB8ABgABAAoAAwAEABgAYQBYAQ4CAgAfAAUAAQAKAAMAAwAYAGEABQAKAAEAAwAEABgAYQBZAQ8CAgAfAAYAAQAKAAMABAAYAGEAWAEOAgoAAwAEABgAYQBZAQ8CAgAgAAUAAQAKAAMABAAYAGEAWQEPAgIAIAAEABgAYABYAQ4CAgAeAAUAAQAKAAMAAwAYAGEAVwENAgIAIAAFAAEAYQBZAQ8CAgAgAAUAAQAKAAMABABhABgAVwENAg==",
          "dtype": "i2"
         },
         "yaxis": "y14"
        },
        {
         "marker": {
          "color": "blue",
          "size": 5
         },
         "mode": "markers",
         "name": "Nucleocapsid",
         "showlegend": false,
         "type": "scatter",
         "x": {
          "bdata": "AQEYFxgYGBgYGBgYGBgYGBgYGBgYFxgYGBgYGBgYGBcYIyMjIyMjIyMjIyMjIyMjIyMjIyMjIyMjIyMjIyMjIyMjIyMjIyMjIyMjIyMkIyMjIyMjIyMjIyMjIyMjIyMjIyMjIyMjIyMjIyMjIyMjIyMjIyMjIyMjIyMjIyMjIyMjIyMjIyMjIyMjIyMjIyMjIyMjIyMjIyMjIyMjIyMjIyMjIyMjIyMjIyMjIyQjIyMjIyMjIyMkIyMjIyMjIyMjIyMjIyMjIyMjIyMjIyMjIyMjIyMjIyMjIyMjIyMjIyMjIyMjIyMjIyMjIyMjIyMjIyMjIyMjIyMjIyMjIyMjIyMjIyMjIyMjIyMjIyMjIyMjIyMjIyMjIyMjIyMjIyMjIyMjIyMjIyMjIyIjIyMjIyMjIyMjIyMjIyMjIyMjIyMjIyMjIyMjIyMjIyMkGBgYGBcYGBgYIyMjIyMjIyMjIyMjIyMjIyMjIyMjIyMjIyMjIyMjIyMjIyMjIyMjIyMiIyMjIyMjIyIjIyMjIyIjIyMjIyMjIyMjIyMjIyMjIyMjIyMjIyMjIyMjIyMjIyMjIyMjIyMjIyMjIyMjIyMjIyMjIyMjIyMkIyMjIyMjIyMjIyMjIyMjIyMjIyMjIyMjIyMjIyMjIyMjIyMjIyMjIyMjIyMjIyMjIyMjIyMjIyMjIyMjIyMjJCMjIyMjIyMjIyMjIyMjIyMjIyMjIyMjJCMjIyMjIyMjIyMjIyMjIyIjIyMjIyMjIyMjIyMjIyMjIyMjIyMjIyMjIyMjIyMjIyMjJCMjIyMjIyMjIyMjIyMjIyMjIiMjIyMjIyMiIyMjIyMjIyMjIyMjJCMjIyMjIyMjIyMjIyMjIyMgIyMjIyMjIyMjIyMjIyMjIyMjIyMjIyMjIyMjIyMjIyMjIyMjIyMjIyQjIyMjIyMjIyMjIyMjIyMjJCMjIyMjIyMjIyMjIyMjIyMjIyMjIyMjIyMjIyMjIyMjIyMjIyMjIyMjIyMjIyMjIyMjIyMjIyMjIiMjIyMjIyQjIyMjIyMjIyMjIyMjIyMjIyMkIyMjIyIjIyMjIyMjIyMjIyMjIyMjIyMjIyMjIyAjIyMjIyMjIyMiIyMjIyMjIyMjIyMjIyMjIyMjIyMjIyMjIyMjIyMkIyMjIyMjIyMjIyMjIyMjIyMjIyMjIyMjIyMjIyMjIyMjIyMjIyMjIyMjIyMjIyMjIyMjIyMjIyMjIyMjIyMjIyMjIyMjIyMjIyMjIyMjIyMjIyMjIyMjIyMjJCMjIyMjIyMjIyMjIyMjIyMjIyMjIyMjIyMkIyMjIyMjIyMjIyMjIyMjIyMjIyMjIyMjIyMjIyMjIyMjIyMjIyMjIyMjIyMjIyMjIyMjIyMjIyMjIyMjIyMjIyMjJCMjIyMjIyMjIyMjIyMjIyMjIyMjIyMjIyMjIyMjIyMjIyMjIyMjIyMjIyMjIyMjIyMjIyMjIyMjIyMjIyMjIyMjIyMjIyMjIyMjIyMjIyMjIyMjIyMjIyMjIyMjIyMkIyMjIyMjIyMjJCMjIyMjIyMjIyMjIyMjIyMjIyMjIyMjIyMjIyMjIyMjIyMjIyMjIyMjIyMjIyMjIyMjIyMjIyMjIyMjIyMjIyMjIyMjIyMjIyMjIyMjIyMjIyMjIyMjIyMjIyMjIyMjIyMjIyMjIyMjIyMjIyMjIyMjIyMiIyMjIyMjIyMjIyMjIyMjIyMjIyMjIyMjIyMjIyMjIyMjJA==",
          "dtype": "i1"
         },
         "xaxis": "x14",
         "y": {
          "bdata": "AAATExMTExMTExMTExMTExMTExMTExMSEhMTExITExMTICAhICAgICAgICAgICAgICAgICAgICAgICAgICAgICAgICAgICAgICAgICAgICAgICAgICAgICAgICAgIB8gICAfICAgICAgICAgICAgICAgICAgICAgICAgICAgICAgICAgICAgICAgICAgICAgICAgICAgICAgICAgICAfICAgICAgICAgICAgICAgICAgICAgICAgICAgICAgICAgICAgICAgICAgICAgICAgICAgICAfISAgICAgICAgICAgICAgICAgICAgICAgICAgICAgICAgICAgICAgIB8gICAgICAgICAgICAgICAgICAgICAgICAgICAgISAgICAgICAgICAgICAgICAgICAgICAgICAgICAgHyAgICAgICAgICAgICAgICAgICAgExMTExMTExMSIB8gHyAgICAgICAgIB8gICAgICAgICAgICAgICAgICAgICAgICAgICAgICAgICAgICAgIB8gICAgICAhICAgICAgICAgICAgISAgICAgICAgHyAgICAgICAfICAgIB8gICAgICAgICAgICAgICAgICAgIB8fICAgHyAfICAgHyAgICAgICAgICAgICAgICAgICAgICAgICAgIB8gICAgICAgICAgICAgICAgICAgHyAgISAgICAgICAgICAgICAgIB8gIB8gICAgIB8gIB8gICAgICAgICAgICAgIB8gICAgICAgHyAgICAgICAgICAfICAgICAgICAfICAgICAgICAgICAfICAgICAgICAgISAgICAgICAgICAfICAgHyAgICAfICAgICAgICAgICAgICAgICAeICAfICAgICAgICAgICAgIB8gICAgICAgICAgICAgICAgICAgICAgICAgICAgICAgICAgICAgHyAgHyAgICAgICAgICAgICAgICAgICAgICAgICAgICAgICAgICAgICAgICAgICAgICAgICAgICAgICAgICAgICAgICAgICAgICAgICAgICAgICAgICAgICEgICAgICAgICAgICAgICAgICAgICAgICAgHiEfICAgICAgICAgICAgICAgICAgICAgIB8gICAgICAgICAgICAgICAgICAhICAgICAhICAgICAgICAgICAgICAgICAgICAgICAgICAgICAgICAgICAgICAgICAgICAgICAgICAgICAgICAgICAgICAgICAgICAgICAgICAgICAgICAgICAgISAgHyAgICAgICAgICAgICAgICAgICAgICAgICAgICAgICAgICAgICAgICAgICAgISAgICAgICAgICAgICAgICAgICAgICAgICAgICAgICAgICAgICAgICAgICAgICAgICAgICAgICAgICAfICAgHyAgICAgICAgICAgICAgICAgICAgICAgICAgICAgICAgICAgICAgICAgICAgICAgICAgICAgICAgICAgHyAgICAgICAgICAgICAgICAgICAgICAgICAgICAgICAgICAgICAgICAgICAgICAgICAgICAgHyEgICAgICAgICAgICAgICAgICAgICAgICAgICAgICAgICAgICAgICAfICAgICAgICAgICAgICAgICAgICAgICAgICAgICEgICAgICAgICAgICAgICAgICAgICAgICAgICAgIB8gICAgICAgICAgICAgICAgICAgIA==",
          "dtype": "i1"
         },
         "yaxis": "y14"
        },
        {
         "marker": {
          "color": "orange",
          "size": 5
         },
         "mode": "markers",
         "name": "Spike",
         "showlegend": false,
         "type": "scatter",
         "x": {
          "bdata": "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",
          "dtype": "i2"
         },
         "xaxis": "x14",
         "y": {
          "bdata": "X19fX19fX19fX19fX19fX19fWlpaWlpaWlpaWlpaWlpaX19fX19fX19fX19fX19fX19fX19fX19fX19fX19fX15eXl9fX19fX19fX1xcXF5eXl9fX19fX19fX19fX19fX19fX19fX19fX19fX19fX19fXl9eXl9fX19fX19fX19fX19fX19fX2FhYWFhYWFhYQtfX19bW1tgYGBfXl5eWlpaXV1eXV5eYGBgYGBgYF8LXV1dXV1dXV1dXV1dXV1dXV1dXV1dXV1dXV1dXl5eW1tbXl5eX19fXV1dXV1dXl5eYF9fX11dXV1dXV1dXV1dXV1dXV5eXl9fX15eXl5eXl5eXl5eXl9fX19fX2BgYGEBAV5fX19gYGBbW1tbCl9fX19fXwwLYWFhYWFhYWFhXl5eXl5eXmBgYDpfXl9fX19fXFxcW1tbX2BgYGBgYF9fX15eXgZeDF5eXl5eXl5eXgtbW1tbW1tbW1tcXFxfX19fX19fX1pfWlpeXl5fX18KXV1dCl1dXV1dXV1dXV9eXl5eXl5eX19fX19fXl9eXl5eXltbW1tfX19fX19fX18LCwsMX19fX19fX19eXl5fX19eXl5eXl5bC19fXwsLCwsAX15eXltbXl5eDQ0NDQ1gYGBfX19fX19fX19fX19fX18MDF1dXl5eX19fXl5eXl5eXl5eXl4GXgxeXl5eXl5eXl4LW1tbW1tbCwwLXl5fXl9fXl5bXltbXl5eYGBgX19fX19fXl5eX19fX19fX19fYGBgCwsaX19fX19fX19fXl5fX18TXl9fX19fX19fX19fX2FhX2FfX19fX1tbW1tbWwsLYGBgX19fCwtaWlpeXl5hYWFfX18dHV9fXl9eXl9fX19fX1xcXF4KCWBgYGBgYF9fX19fX19fX19fX19fX2BfXl5eXl5eXl5eDF5eXl9fX19fX2BgYApfX19fX19fDV5eXl5eXg1eXl5gJSUlYGBgX19fX19fWlpaWloLWgtaWlpdXV0AXFxcGl9fXl5eX19fXV1dX19fCwtdXl5eXl5eX19fXV1dXV1dXl5eWlpaAl1dXQEBDg5eXl5eX19eXl5fX19fDAxgYGBfX19fX19fX19gOmBgYGBgX19fYGBgX19fYGBgYGBgYGBgYWFhYWFhCwsLCAoKCgoKCQkJX1paWlxcXGFhYV1dXV9fX2BgYmJiXFxcYWFhX19fX19fXl5eDVxcXF9fX19fX19fXFxcX19fCl9fX19cXFxcXFxcXFwMAF9fX19fXwBbW1sKXFxcCgFfX19fX18MDAwMDAwMXV9fXwsBCl5eXl9fX19fX19gYA0NDV5eXg4OW1tbXFxcCl1dXWBgYA==",
          "dtype": "i1"
         },
         "yaxis": "y14"
        },
        {
         "marker": {
          "color": "red",
          "size": 5
         },
         "mode": "markers",
         "name": "Envelope",
         "showlegend": false,
         "type": "scatter",
         "x": {
          "bdata": "AQEBAQEBAAEBAQEBAQEBAQEBAQEBAQEBAQEBAQEBAQEBAQEBAQEBAQEBAQEBAQEBAQEBAQEBAQEBAQEBAQEBAQEBAQEBAQEBAQEBAQEBAQEBAQEBAQEBAQEBAQEBAQEBAQEBAQEBAQEBAQEBAQEBAQEBAQEBAQEBAQEBAQEBAQEBAQEBAQEBAQEBAQEBAQEBAQEBAQEBAQEBAQEBAQEBAQEBAQEBAQEBAQEBAQEBAQEBAQEBAQEBAQEBAQEBAQEBAQEBAQEBAQEBAQEBAQEBAQEBAQEBAQEBAQEBAQEBAQEBAQEBAQEBAQEBAQEBAQEBAQEBAQEBAQEBAQEBAQEBAQEBAQEBAQEBAQEBAQEBAQEBAQEBAQEBAQEBAQEBAQEBAQEBAQEBAQEBAQEBAQEBAQEBAQEBAQEBAQEBAQEBAQEBAQEBAQEBAQEBAQEBAQEBAQEBAQEBAQEBAQEBAQEBAQEBAQEBAQEBAQEBAQEBAQEBAQEBAQEBAQEBAQEBAQEBAQEBAQEBAQEBAQEBAQEBAQEBAQEBAQEBAQEBAQEBAQEBAQEBAQEBAQEBAQEBAQEBAQEBAQEBAQEBAQEBAQEBAQEBAQEBAQEBAQEBAQEBAQEBAQEBAQEBAQEBAQEBAQEBAQEBAQEBAQEBAQEBAQEBAQEBAQEBAQEBAQEBAQEBAQEBAQEBAQEBAQEBAQEBAQEBAQEBAQEBAQEBAQEBAQEBAQEBAQEBAQEBAQEBAQEBAQEBAQEBAQEBAQEBAQEBAQEBAQEBAQEBAQEBAQEBAQEBAQEBAQEBAQEBAQEBAQEBAQEBAQEBAQEBAQEBAQEBAQEBAQEBAQEBAQEBAQEBAQEBAQEBAQEBAQEBAQEBAQEBAQEBAQEBAQEBAQEBAQEBAQEBAQEBAQEBAQE=",
          "dtype": "i1"
         },
         "xaxis": "x15",
         "y": {
          "bdata": "BAQEBAQEAAQEBAQEBAQEBAMDAwMDAwMDAwMDAwMDAwMDAwMDAwMDAwMDAwMDAwMDAwMDAwMDAwMDAwMDAwMDAwMDAwMDAwMDAwMDAwMDAwMDAwMDAwMDAwMDAwMDAwMDAwMDAwMDAwMDAwMDAwMDAwMDAwMDAwMDAwMDAwMDAwMDAwMDAwMDAwMDAwMDAwMDAwMDAwMDAwMDAwMDAwMDAwMDAwMDAwMDAwMDAwMDAwMDAwMDAwMDAwMDAwMDAwMDAwMDAwMDAwMDAwMDAwMDAwMDAwMDAwMDAwMDAwMDAwMDAwMDAwMDAwMDAwMDAwMDAwMDAwMDAwMDAwMDAwMDAwMDAwMDAwMDAwMDAwMDAwMDAwMDAwMDAwMDAwMDAwMDAwMDAwMDAwMDAwMDAwMDAwMDAwMDAwMCAwMDAwMDAwMCAgMDAwMCAwIDAgMCAgICAgMDAgIDAwICAgMCAwIDAwMCAgMDAwIDAgMCAgMCAwMCAwICAgMDAwMDAgMCAgIDAgICAgIDAgIDAwMDAgMDAgIDAwMDAgIDAwMDAgMDAgMDAgIDAwMCAwICAgICAgIDAwMCAwMCAgMDAgMCAgMCAgMDAwICAgMDAgMDAgMDAgMDAwIDAgMDAgMCAwMCAwIDAgIDAwMDAgMDAwIDAgMCAgMCAgMDAgMDAwMCAgMCAgIDAgMCAgMDAwIDAgMCAgIDAgICAwMDAgIDAgMCAgIDAwMDAwMDAwMDAwMCAwMDAwIDAwMDAwMDAwMCAwMDAwMCAgMDAwMDAwIDAwMDAwIDAgMCAgMDAwMDAwIDAwMDAwIDAgIDAgIDAwMCAwMDAwMDAgMCAwIDAwMDAgIDAwMCAwMDAgICAgICAgICAgICAgICAgICAgICAgICAgICAgMCAgICAgICAgI=",
          "dtype": "i1"
         },
         "yaxis": "y15"
        },
        {
         "marker": {
          "color": "green",
          "size": 5
         },
         "mode": "markers",
         "name": "Membrane",
         "showlegend": false,
         "type": "scatter",
         "x": {
          "bdata": "AQAOAA4ADgAOAA4ADgANAA0ADwAPAAAAAAABAAEAAQABAAEADwAPAA4ADgAOAA4ADgAOAA4ADgAOAA4ADgAOAA4ADgAOAA4ADgAOAA4ADgAOAA4ADgAOAA4ADgAOAA4ADgAOAA4ADgAOAA4ADgAOAA4ADgAOAA4ADgAOAA4ADgAOAA4ADgAOAA4ADgAOAA4ADgAOAA4ADgAOAA4ADgAOAA4ADgAOAA4ADgAOAA4ADgAOAA4ADgAOAA4ADgAOAA4ADgAOAA4ADgAOAA4ADgAOAA4ADgAOAA4ADgAOAA4ADgAOAA4ADgAOAA4ADgAOAA4ADgAOAA4ADgAOAA4ADgAOAA4ADgAOAA4ADgAOAA4ADgAOAA4ADgAOAA4ADgAOAA4ADgAOAA4ADgAOAA4ADgAOAA4ADgAOAA4ADgAOAA4ADgAOAA4ADgAOAA4ADgAOAA4ADgAOAA4ADgAOAA4ADgAOAA4ADgAOAA4ADgAOAA4ADgAOAA4ADgAOAA4ADgAOAA4ADgAOAA4ADgAOAA4ADgAOAA4ADgAOAA4ADgAOAA4ADgAOAA4ADgAOAA4ADgAOAA4ADgAOAA4ADgAOAA4ADgAOAA4ADgAOAA4ADgAOAA4ADgAOAA4ADgAOAA4ADgAOAA4ADgAOAA4ADgAOAA4ADgAOAA4ADgAOAA4ADgAOAA4ADgAOAA4ADgAOAA4ADgAOAA4ADgAOAA4ADgAOAA4ADgAOAA4ADgAOAA4ADgAOAA4ADgAOAA4ADgAOAA4ADgAOAA4ADgAOAA4ADgAOAA4ADgAOAA4ADgAOAA4ADgAOAA4ADgAOAA4ADgAOAA4ADgAOAA4ADgAOAA4ADgAOAA4ADgAOAA4ADgAOAA4ADgAOAA4ADgAOAA4ADgAOAA4ADgAOAA4ADgAOAA4ADgAOAA4ADgAOAA4ADgAOAA4ADgAOAA4ADgAOAA4ADgAOAA4ADgAOAA4ADgAOAA4ADgAOAA4ADgAOAA4ADgAOAA4ADgAOAA4ADgAOAA4ADgAOAA4ADgAOAA4ADgAOAA4ADgAOAA4ADgAOAA4ADgAOAA4ADgAOAA4ADgAOAA4ADgAOAA4ADgAOAA4ADgAOAA4ADgAOAA4ADgAOAA4ADgAOAA4ADgAOAA4ADgAOAA4ADgAOAA4ADgAOAA4ADgAOAA4ADgAOAA4ADgAOAA4ADgAOAA4ADgAOAA4ADgAOAA4ADgAOAA4ADgAOAA4ADgAOAA4ADgAOAA4ADgAOAA4ADgAOAA4ADgAOAA4ADgAOAA4ADgAOAA4ADgAOAA4ADgAOAA4ADgAOAA4ADgAOAA4ADgAOAAUADgAOAA4ADgAOAA4ADgAOAA4ADgAOAA4ADgAOAA4ADgAOAA4ADgAOAA4ADgAOAA4ADgAOAA4ADgAOAA4ADgAOAA4ADgAOAA4ADgAOAA4ADgAOAA4ADgAOAA4ADgAOAA4ADgAOAA4ADgAOAA4ADgAOAA4ADgAOAA4ADgAOAA4ADgAOAA4ADgAOAA4ADgAOAA4ADgAOAA4ADgAOAA4ADgAOAA4ADgAOAA4ADgAOAA4ADgAOAA4ADgAOAA4ADgAOAA4ADgAOAA4ADgAOAA4ADgAOAA4ADgAOAA4ADgAOAA4ADgAOAA4ADgAOAA4ADgAOAA4ADgAOAA4ADgAOAA4ADgAOAA4ADgAOAA4ADgAOAA4ADgAOAA4ADgAOAA4ADgAOAA4ADgAOAA4ADgAOAA4ADgAOAA4ADgAOAA4ADgAOAA4ADgAOAA4ADgAOAA4ADgAOAA4ADgAOAA4ADgAOAA4ADgAOAA4ADgAOAA4ADgAOAA4ADgAOAA4ADgAOAA4ADgAOAA4ADgAOAA4ADgAOAA4ADgAOAA4ADgAOAA4ADgAOAA4ADgAOAA4AXgBeAA4ADgAOAA4ADgAOAA4ADgAOAA4ADgAOAA4ADgAOAA4ADgAOAA4ADgAOAA4ADgAOAA4ADgAOAA4ADgAOAA4ADgAOAA4ADgAOAA4ADgAOAA4ADgAOAA4ADgAOAA4ADgANAA4ADgAOAA4ADgAOAA4ADgAOAA4ADgAOAA4ADgAOAA4ADgAOAAwADgAOAA4ADgAOAA4ADgAOAA4ADgAOAA4ADgAOAAwADgAOAA4ADgAOAA4ADgAOAAwADgAOAA4ACwAOAA4ADgAOAA4ADgAOAA4ADgAOAA4ADgAOAA4ADgAOAA4ADgAOAA4ADgAOAA4ADgAOAA4ADgAOAA4ADgAOAA4ADgAOAA4ADgAOAA4ADgAOAA4ADgAOAA4ADgAOAA4ADgAOAA4ADgAOAA4ADgAOAA4ADgAOAA4ADgAOAA4ADgAOAA4AXgBVAFUAVQAAAAEADgBTAAgBnAFeAF4AXgBeAF4AXgBPAE8ATwBSAFIAUgBSAFIADgBTAAgBnAEBACsABQAAAAQAAAABAA4AUwAIAZwBAQArAAUAAAAEAAgBnAEBACsABQAAAAQAAAABAA4AUwAHAZsBAQArAAUAAAAEAAAAAQABACsABQAAAAQAAAABAA4AUwAIAZwBAQArAAUAAAAEAAAAAQAOAFIABQAEAAAAAAABAA4AUwAIAZwBAQArAAUAAAAEAAAAAQAOAFMACAGcAQQAAAABAA4AUwAIAZwBAQArAAUAAAAEAAAAAQAOAFMACAGcAQEAKwABAA4AUwAIAZwBAQArAAUAAAAEAAAAAQAOAFIACAGcAQEAKwAFAAAAUwAIAZwBAQArAAUAAAAEAAAAAQBSAA4ACAGcAQ==",
          "dtype": "i2"
         },
         "xaxis": "x15",
         "y": {
          "bdata": "BAANAA0ADQANAA0ADQAKAAoADQANAAIAAgAEAAQABAAEAAQADQANAA0ADQANAA0ADQANAA0ADQANAA0ADgAOAA0ADQANAA0ADQANAA0ADQANAA0ADQANAA0ADQANAA0ADQANAA0ADQANAA0ADQANAA0ADQANAA0ADQANAA0ADQANAA0ADQANAA0ADQANAA0ADQANAA0ADQANAA0ADQANAA0ADQANAA0ADQANAA0ADQANAA0ADQANAA0ADQANAA0ADQANAA0ADQANAA0ADQANAA0ADQANAA0ADQANAA0ADQANAA0ADQANAA0ADQANAA0ADQANAA0ADQANAA0ADQANAA0ADQANAA0ADQANAA0ADQANAA0ADQANAA0ADQANAA0ADQANAA0ADQANAA0ADQANAA0ADQANAA0ADQANAA0ADQANAA0ADQANAA0ADQANAA0ADQANAA0ADQANAA0ADQANAA0ADQANAA0ADQANAA0ADQANAA0ADQANAA0ADQANAA0ADQANAA0ADQANAA0ADQANAA0ADQANAA0ADQANAA0ADQANAA0ADQANAA0ADQANAA0ADQANAA0ADQANAA0ADQANAA0ADQANAA0ADQANAA0ADQANAA0ADQANAA0ADQANAA0ADQANAA0ADQANAA0ADQANAA0ADQANAA0ADQANAA0ADQANAA0ADQANAA0ADQANAA0ADQANAA0ADQANAA0ADQANAA0ADQANAA0ADQANAA0ADQANAA0ADQANAA0ADQANAA0ADQANAA0ADQANAA0ADQANAA0ADQANAA0ADQANAA0ADQANAA0ADQANAA0ADQANAA0ADQANAA0ADQANAA0ADQANAA0ADQANAA0ADQANAA0ADQANAA0ADQANAA0ADQANAA0ADQANAA0ADQANAA0ADQANAA0ADQANAA0ADQANAA0ADQANAA0ADQANAA0ADQANAA0ADQANAA0ADQANAA0ADQANAA0ADQANAA0ADQANAA0ADQANAA0ADQANAA0ADQANAA0ADQANAA0ADQANAA0ADQANAA0ADQANAA0ADQANAA0ADQANAA0ADQANAA0ADQANAA0ADQANAA0ADQANAA0ADQANAA0ADQANAA0ADQANAA0ADQANAA0ADQANAA0ADQAOAA0ADQANAA0ADQANAA0ADQANAA0ADQANAA0ADQANAA0ADQANAA0ADQANAA0ADQANAA0ADgANAA0ADQANAA0ADQANAA0ADQANAA0ADQANAA0ADQANAA0ADQANAA0ADQANAA0ADQANAA0ADQANAA0ADQANAA0ADQANAAUADQANAA0ADQANAA0ADQANAA0ADQANAA0ADQANAA0ADQANAA0ADQANAA0ADQANAA0ADQANAA0ADQANAA0ADQANAA0ADQANAA0ADQANAA0ADQANAA0ADQANAA0ADQANAA0ADQANAA0ADQANAA0ADQANAA0ADQANAA0ADQANAA0ADQANAA0ADQANAA0ADQANAA0ADQANAA0ADQANAA0ADQANAA0ADQANAA0ADQANAA0ADQANAA0ADQANAA0ADQANAA0ADQANAA0ADQANAA0ADQANAA0ADQANAA0ADQANAA0ADQANAA0ADQANAA0ADQANAA0ADQANAA0ADQANAA0ADQANAA0ADQANAA0ADQANAA0ADQANAA0ADQANAA0ADQANAA0ADQANAA0ADQANAA0ADQANAA0ADQANAA0ADQANAA0ADQANAA0ADQANAA0ADQANAA0ADQANAA0ADQANAA0ADQANAA0ADQANAA0ADQANAA0ADQANAA0ADQANAA0ADQANAA0ADQANAA0ADQANAA0ADQANAA0ADQANAA0ADQANAA0ADQANAA0AXwBfAA0ADQANAA0ADQANAA0ADQANAA0ADQANAA0ADQANAA0ADQANAA0ADQANAA0ADQANAA0ADQANAA0ADQANAA0ADQANAA0ADgANAA0ADQANAA0ADQANAA0ADQANAA0ADQANAA4ADQANAA0ADQANAA0ADQANAA0ADgAOAA0ADQANAA4ADQANAAwADgANAA4ADgAOAA4ADgANAA0ADgANAA4ADgAOAAsADgAOAA4ADgAOAA4ADQAOAA0ADgANAA4ACgANAA4ADgANAA0ADQANAA0ADQAOAA0ADQAOAA0ADQANAA0ADgAOAA4ADQANAA4ADQANAA4ADQANAA4ADgAOAA4ADQANAA0ADgANAA0ADgAOAA4ADgAOAA4ADgAOAA0ADQANAA0ADQANAA4ADQANAA0ADgANAA0ADQAOAA0ADQAOAA4AXwBfAF8AXwADAAQAGABhAFkBDwJhAGEAYQBhAGEAYQBeAF4AXgBhAGEAYQBhAGEAGABiAFgBDgICACAABQABAAoAAwAEABgAYQBZAQ8CAgAgAAUAAQAKAFcBDQICACAABQABAAoAAwAEABgAYQBZAQ8CAgAfAAYAAQAKAAMABAACAB8ABgABAAoAAwAEABgAYQBYAQ4CAgAfAAUAAQAKAAMAAwAYAGEABQAKAAEAAwAEABgAYQBZAQ8CAgAfAAYAAQAKAAMABAAYAGEAWAEOAgoAAwAEABgAYQBZAQ8CAgAgAAUAAQAKAAMABAAYAGEAWQEPAgIAIAAEABgAYABYAQ4CAgAeAAUAAQAKAAMAAwAYAGEAVwENAgIAIAAFAAEAYQBZAQ8CAgAgAAUAAQAKAAMABABhABgAVwENAg==",
          "dtype": "i2"
         },
         "yaxis": "y15"
        },
        {
         "marker": {
          "color": "blue",
          "size": 5
         },
         "mode": "markers",
         "name": "Nucleocapsid",
         "showlegend": false,
         "type": "scatter",
         "x": {
          "bdata": "AAAhIiEhISEhISEhIiEhISEhISEhISEgICAgICAgICEhKioqKioqKioqKioqKioqKioqKioqKioqKioqKSoqKioqKioqKioqKioqKioqKioqKioqKioqKioqKioqKiopKioqKioqKioqKioqKioqKioqKioqKioqKioqKioqKioqKioqKioqKioqKioqKioqKikqKioqKioqKioqKioqKioqKioqKSoqKioqKioqKioqKioqKioqKioqKioqKioqKioqKioqKioqKioqKioqKioqKioqKioqKioqKioqKioqKioqKioqKioqKioqKioqKioqKioqKioqKioqKioqKioqKioqKioqKioqKioqKioqKioqKioqKioqKioqKioqKioqKioqKioqKioqKioqKioqKioqKioqKioqKioqKioqKikqKioqKioqKioqISEhICIgISAgKioqKioqKioqKioqKioqKioqKioqKioqKioqKioqKioqKioqKioqKioqKioqKioqKioqKioqKioqKioqKioqKioqKioqKioqKioqKioqKioqKioqKioqKioqKioqKioqKioqKioqKioqKioqKioqKioqKioqKioqKioqKioqKioqKioqKioqKioqKioqKioqKioqKioqKioqKiopKioqKioqKioqKioqKioqKikqKioqKioqKioqKSoqKioqKioqKyoqKioqKioqKioqKioqKioqKioqKioqKyoqKioqKioqKioqKioqKioqKioqKioqKioqKiopKioqKioqKioqKioqKioqKioqKioqKioqKioqKioqKioqKioqKioqKioqKioqKioqKioqKioqKioqKioqKionKioqKioqKioqKSoqKioqKioqKioqKSoqKSoqKioqKioqKioqKioqKioqKioqKioqKioqKioqKioqKioqKioqKioqKioqKioqKioqKioqKioqKioqKioqKioqKioqKioqKioqKioqKioqKioqKioqKioqKioqKioqKioqKioqKioqKioqKioqKioqKioqKioqKioqKioqKioqKioqKioqKioqKioqKioqKioqKioqKioqKiorKioqKioqKioqKioqKioqKioqKioqKioqKioqKiopKioqKioqKikqKioqKioqKioqKioqKioqKioqKioqKioqKioqKioqKioqKioqKioqKioqKioqKioqKioqKioqKioqKioqKioqKyoqKioqKioqKioqKioqKioqKSoqKioqKioqKioqKioqKioqKioqKioqKioqKioqKioqKioqKioqKioqKSoqKioqKioqKioqKioqKioqKioqKioqKioqKioqKioqKikqKioqKioqKioqKioqKioqKioqKioqKioqKioqKioqKioqKSoqKioqKioqKioqKioqKioqKioqKioqKioqKioqKioqKioqKioqKioqKioqKioqKiopKioqKioqKioqKioqKioqKioqKikqKioqKioqKioqKioqKioqKioqKioqKioqKioqKioqKioqKioqKioqKioqKioqKioqKioqKioqKioqKioqKioqKioqKioqKioqKioqKioqKioqKioqKioqKioqKioqKioqKioqKioqKioqKioqKioqKioqKioqKioqKioqKioqKioqKioqKioqKioqKioqKioqKioqKioqKioqKiopKioqKioqKioqKg==",
          "dtype": "i1"
         },
         "xaxis": "x15",
         "y": {
          "bdata": "AAATExMTExMTExMTExMTExMTExMTExMSEhMTExITExMTICAhICAgICAgICAgICAgICAgICAgICAgICAgICAgICAgICAgICAgICAgICAgICAgICAgICAgICAgICAgIB8gICAfICAgICAgICAgICAgICAgICAgICAgICAgICAgICAgICAgICAgICAgICAgICAgICAgICAgICAgICAgICAfICAgICAgICAgICAgICAgICAgICAgICAgICAgICAgICAgICAgICAgICAgICAgICAgICAgICAfISAgICAgICAgICAgICAgICAgICAgICAgICAgICAgICAgICAgICAgIB8gICAgICAgICAgICAgICAgICAgICAgICAgICAgISAgICAgICAgICAgICAgICAgICAgICAgICAgICAgHyAgICAgICAgICAgICAgICAgICAgExMTExMTExMSIB8gHyAgICAgICAgIB8gICAgICAgICAgICAgICAgICAgICAgICAgICAgICAgICAgICAgIB8gICAgICAhICAgICAgICAgICAgISAgICAgICAgHyAgICAgICAfICAgIB8gICAgICAgICAgICAgICAgICAgIB8fICAgHyAfICAgHyAgICAgICAgICAgICAgICAgICAgICAgICAgIB8gICAgICAgICAgICAgICAgICAgHyAgISAgICAgICAgICAgICAgIB8gIB8gICAgIB8gIB8gICAgICAgICAgICAgIB8gICAgICAgHyAgICAgICAgICAfICAgICAgICAfICAgICAgICAgICAfICAgICAgICAgISAgICAgICAgICAfICAgHyAgICAfICAgICAgICAgICAgICAgICAeICAfICAgICAgICAgICAgIB8gICAgICAgICAgICAgICAgICAgICAgICAgICAgICAgICAgICAgHyAgHyAgICAgICAgICAgICAgICAgICAgICAgICAgICAgICAgICAgICAgICAgICAgICAgICAgICAgICAgICAgICAgICAgICAgICAgICAgICAgICAgICAgICEgICAgICAgICAgICAgICAgICAgICAgICAgHiEfICAgICAgICAgICAgICAgICAgICAgIB8gICAgICAgICAgICAgICAgICAhICAgICAhICAgICAgICAgICAgICAgICAgICAgICAgICAgICAgICAgICAgICAgICAgICAgICAgICAgICAgICAgICAgICAgICAgICAgICAgICAgICAgICAgICAgISAgHyAgICAgICAgICAgICAgICAgICAgICAgICAgICAgICAgICAgICAgICAgICAgISAgICAgICAgICAgICAgICAgICAgICAgICAgICAgICAgICAgICAgICAgICAgICAgICAgICAgICAgICAfICAgHyAgICAgICAgICAgICAgICAgICAgICAgICAgICAgICAgICAgICAgICAgICAgICAgICAgICAgICAgICAgHyAgICAgICAgICAgICAgICAgICAgICAgICAgICAgICAgICAgICAgICAgICAgICAgICAgICAgHyEgICAgICAgICAgICAgICAgICAgICAgICAgICAgICAgICAgICAgICAfICAgICAgICAgICAgICAgICAgICAgICAgICAgICEgICAgICAgICAgICAgICAgICAgICAgICAgICAgIB8gICAgICAgICAgICAgICAgICAgIA==",
          "dtype": "i1"
         },
         "yaxis": "y15"
        },
        {
         "marker": {
          "color": "orange",
          "size": 5
         },
         "mode": "markers",
         "name": "Spike",
         "showlegend": false,
         "type": "scatter",
         "x": {
          "bdata": "Xl5eXl5eXl5eXl5eXl5eXl5eSEhISEhISEhISEhISkpKaGhoXFxcXFxcXFxcXFxcXFxcXl5eXl5eXl5eXmBgYF9fX19fX19fX19fX1BQUF9fX19fX19fX15eXmBgYGBgYF9fX19fX19fX19fX15eXmBgX2BfX19fX2BgYGBgYGBgYFNTU1NTU1JSUlJSUlJSUg9eXl5LS0tbW1taU1NTSEhIX19OX05OXFxcXFxcW1oPX19fX19fX19fX19fX19fX19fX19fX19fX19fTk5OS0tLT09PW1tbX19fX19fTk5OXFtbW19fX19fX19fX19fX19fX05OTltbW1NTU1NTU1NTU1NTU1tbW1tbW1tbW1IBAU5eXl5aWlpLS0tLDF5eXl5eXgwPXV1dXV1dXV1dTk5OTk5OTlpaWjFgU2BgYGBgYWFhS0tLXlpaWlpaWlRUVE9PTxBTD09PT09PT09PTw9LS0tLS0tLS0tSUlJeXl5eXl5eXkpeSkpOTk5UVFQNW1tbDVtbW1tbW1tbW11fX19fX19fYGBgYEtLUktSUlJSUktLS0tfX19fX19fX18PDw8QX19fX19fX19fX19MTExSUlJSUlJLD19fXxAQEBAAX19fX0tLXl5eDw8PDw9aWlpfX19fX19fX19fX19eXl4PD19fTk5OW1tbU1NTU1NTU1NTU08QUw9PT09PT09PT08PS0tLS0tLDw8QUlJQUlBQUlJLUktLXl5eWlpaXl5eXl5eXl5eXl5eWlpaWlpaVFRUEBAUX19fX19fX19fX19gYGARX1JSUkxMTEtLS0tLS1hYS1hLS0tLS0tLS0tLSw8PWlpaXl5eEBBKSkpfX19iYmJeXl4TE09PTU9NTU9PT1RUVFtbW04PDFhYWFhYWF5eXlNTU1NTU1NTU1NTU1VTTU1NTU1NTU1ND05OTl9fX1RUVFhYWA5eXl5eXl5eEE1NTU1NTRBOTk5aISEhWFhYXl5eXl5eSkpKSkoQShBLS0tNTU0EW1tbEV5eXl5eXl5eUVFRVFRUEBBNTU1NTU1NT09PTU1NTU1NTU1NSkpKBE1NTQEBExNOTk5OXl5OTk5eU1NTDw9YWFheXl5eXl5eXl5aMVpaWlpaXl5eU1NTU1NTU1NTU1NTU1NTU1NTU1NTEBAQDBAQEBAQDw8PVEpKSltbW15eXktLS1RUVFpaUFBQV1dXU1NTUlJSUlJSTk5OEE9PT19fX1VVVVVVW1tbXl5eD15eXl5XV1dXV1dXV1cPAFJSUl9fXwBfX18MT09PDwFfX19fX18PDw8PDw8PYFVVVQ8AD09PT1RUVF5eXl5aWhAQEFJSUhAQS0tLUVFRD2BgYFtbWw==",
          "dtype": "i1"
         },
         "xaxis": "x15",
         "y": {
          "bdata": "X19fX19fX19fX19fX19fX19fWlpaWlpaWlpaWlpaWlpaX19fX19fX19fX19fX19fX19fX19fX19fX19fX19fX15eXl9fX19fX19fX1xcXF5eXl9fX19fX19fX19fX19fX19fX19fX19fX19fX19fX19fXl9eXl9fX19fX19fX19fX19fX19fX2FhYWFhYWFhYQtfX19bW1tgYGBfXl5eWlpaXV1eXV5eYGBgYGBgYF8LXV1dXV1dXV1dXV1dXV1dXV1dXV1dXV1dXV1dXl5eW1tbXl5eX19fXV1dXV1dXl5eYF9fX11dXV1dXV1dXV1dXV1dXV5eXl9fX15eXl5eXl5eXl5eXl9fX19fX2BgYGEBAV5fX19gYGBbW1tbCl9fX19fXwwLYWFhYWFhYWFhXl5eXl5eXmBgYDpfXl9fX19fXFxcW1tbX2BgYGBgYF9fX15eXgZeDF5eXl5eXl5eXgtbW1tbW1tbW1tcXFxfX19fX19fX1pfWlpeXl5fX18KXV1dCl1dXV1dXV1dXV9eXl5eXl5eX19fX19fXl9eXl5eXltbW1tfX19fX19fX18LCwsMX19fX19fX19eXl5fX19eXl5eXl5bC19fXwsLCwsAX15eXltbXl5eDQ0NDQ1gYGBfX19fX19fX19fX19fX18MDF1dXl5eX19fXl5eXl5eXl5eXl4GXgxeXl5eXl5eXl4LW1tbW1tbCwwLXl5fXl9fXl5bXltbXl5eYGBgX19fX19fXl5eX19fX19fX19fYGBgCwsaX19fX19fX19fXl5fX18TXl9fX19fX19fX19fX2FhX2FfX19fX1tbW1tbWwsLYGBgX19fCwtaWlpeXl5hYWFfX18dHV9fXl9eXl9fX19fX1xcXF4KCWBgYGBgYF9fX19fX19fX19fX19fX2BfXl5eXl5eXl5eDF5eXl9fX19fX2BgYApfX19fX19fDV5eXl5eXg1eXl5gJSUlYGBgX19fX19fWlpaWloLWgtaWlpdXV0AXFxcGl9fXl5eX19fXV1dX19fCwtdXl5eXl5eX19fXV1dXV1dXl5eWlpaAl1dXQEBDg5eXl5eX19eXl5fX19fDAxgYGBfX19fX19fX19gOmBgYGBgX19fYGBgX19fYGBgYGBgYGBgYWFhYWFhCwsLCAoKCgoKCQkJX1paWlxcXGFhYV1dXV9fX2BgYmJiXFxcYWFhX19fX19fXl5eDVxcXF9fX19fX19fXFxcX19fCl9fX19cXFxcXFxcXFwMAF9fX19fXwBbW1sKXFxcCgFfX19fX18MDAwMDAwMXV9fXwsBCl5eXl9fX19fX19gYA0NDV5eXg4OW1tbXFxcCl1dXWBgYA==",
          "dtype": "i1"
         },
         "yaxis": "y15"
        },
        {
         "marker": {
          "color": "red"
         },
         "name": "Envelope",
         "nbinsx": 20,
         "opacity": 0.6,
         "showlegend": false,
         "type": "histogram",
         "x": {
          "bdata": "BAQEBAQEAAQEBAQEBAQEBAMDAwMDAwMDAwMDAwMDAwMDAwMDAwMDAwMDAwMDAwMDAwMDAwMDAwMDAwMDAwMDAwMDAwMDAwMDAwMDAwMDAwMDAwMDAwMDAwMDAwMDAwMDAwMDAwMDAwMDAwMDAwMDAwMDAwMDAwMDAwMDAwMDAwMDAwMDAwMDAwMDAwMDAwMDAwMDAwMDAwMDAwMDAwMDAwMDAwMDAwMDAwMDAwMDAwMDAwMDAwMDAwMDAwMDAwMDAwMDAwMDAwMDAwMDAwMDAwMDAwMDAwMDAwMDAwMDAwMDAwMDAwMDAwMDAwMDAwMDAwMDAwMDAwMDAwMDAwMDAwMDAwMDAwMDAwMDAwMDAwMDAwMDAwMDAwMDAwMDAwMDAwMDAwMDAwMDAwMDAwMDAwMDAwMDAwMCAwMDAwMDAwMCAgMDAwMCAwIDAgMCAgICAgMDAgIDAwICAgMCAwIDAwMCAgMDAwIDAgMCAgMCAwMCAwICAgMDAwMDAgMCAgIDAgICAgIDAgIDAwMDAgMDAgIDAwMDAgIDAwMDAgMDAgMDAgIDAwMCAwICAgICAgIDAwMCAwMCAgMDAgMCAgMCAgMDAwICAgMDAgMDAgMDAgMDAwIDAgMDAgMCAwMCAwIDAgIDAwMDAgMDAwIDAgMCAgMCAgMDAgMDAwMCAgMCAgIDAgMCAgMDAwIDAgMCAgIDAgICAwMDAgIDAgMCAgIDAwMDAwMDAwMDAwMCAwMDAwIDAwMDAwMDAwMCAwMDAwMCAgMDAwMDAwIDAwMDAwIDAgMCAgMDAwMDAwIDAwMDAwIDAgIDAgIDAwMCAwMDAwMDAgMCAwIDAwMDAgIDAwMCAwMDAgICAgICAgICAgICAgICAgICAgICAgICAgICAgMCAgICAgICAgI=",
          "dtype": "i1"
         },
         "xaxis": "x16",
         "yaxis": "y16"
        },
        {
         "marker": {
          "color": "green"
         },
         "name": "Membrane",
         "nbinsx": 20,
         "opacity": 0.6,
         "showlegend": false,
         "type": "histogram",
         "x": {
          "bdata": "BAANAA0ADQANAA0ADQAKAAoADQANAAIAAgAEAAQABAAEAAQADQANAA0ADQANAA0ADQANAA0ADQANAA0ADgAOAA0ADQANAA0ADQANAA0ADQANAA0ADQANAA0ADQANAA0ADQANAA0ADQANAA0ADQANAA0ADQANAA0ADQANAA0ADQANAA0ADQANAA0ADQANAA0ADQANAA0ADQANAA0ADQANAA0ADQANAA0ADQANAA0ADQANAA0ADQANAA0ADQANAA0ADQANAA0ADQANAA0ADQANAA0ADQANAA0ADQANAA0ADQANAA0ADQANAA0ADQANAA0ADQANAA0ADQANAA0ADQANAA0ADQANAA0ADQANAA0ADQANAA0ADQANAA0ADQANAA0ADQANAA0ADQANAA0ADQANAA0ADQANAA0ADQANAA0ADQANAA0ADQANAA0ADQANAA0ADQANAA0ADQANAA0ADQANAA0ADQANAA0ADQANAA0ADQANAA0ADQANAA0ADQANAA0ADQANAA0ADQANAA0ADQANAA0ADQANAA0ADQANAA0ADQANAA0ADQANAA0ADQANAA0ADQANAA0ADQANAA0ADQANAA0ADQANAA0ADQANAA0ADQANAA0ADQANAA0ADQANAA0ADQANAA0ADQANAA0ADQANAA0ADQANAA0ADQANAA0ADQANAA0ADQANAA0ADQANAA0ADQANAA0ADQANAA0ADQANAA0ADQANAA0ADQANAA0ADQANAA0ADQANAA0ADQANAA0ADQANAA0ADQANAA0ADQANAA0ADQANAA0ADQANAA0ADQANAA0ADQANAA0ADQANAA0ADQANAA0ADQANAA0ADQANAA0ADQANAA0ADQANAA0ADQANAA0ADQANAA0ADQANAA0ADQANAA0ADQANAA0ADQANAA0ADQANAA0ADQANAA0ADQANAA0ADQANAA0ADQANAA0ADQANAA0ADQANAA0ADQANAA0ADQANAA0ADQANAA0ADQANAA0ADQANAA0ADQANAA0ADQANAA0ADQANAA0ADQANAA0ADQANAA0ADQANAA0ADQANAA0ADQANAA0ADQANAA0ADQANAA0ADQANAA0ADQANAA0ADQANAA0ADQANAA0ADQANAA0ADQANAA0ADQAOAA0ADQANAA0ADQANAA0ADQANAA0ADQANAA0ADQANAA0ADQANAA0ADQANAA0ADQANAA0ADgANAA0ADQANAA0ADQANAA0ADQANAA0ADQANAA0ADQANAA0ADQANAA0ADQANAA0ADQANAA0ADQANAA0ADQANAA0ADQANAAUADQANAA0ADQANAA0ADQANAA0ADQANAA0ADQANAA0ADQANAA0ADQANAA0ADQANAA0ADQANAA0ADQANAA0ADQANAA0ADQANAA0ADQANAA0ADQANAA0ADQANAA0ADQANAA0ADQANAA0ADQANAA0ADQANAA0ADQANAA0ADQANAA0ADQANAA0ADQANAA0ADQANAA0ADQANAA0ADQANAA0ADQANAA0ADQANAA0ADQANAA0ADQANAA0ADQANAA0ADQANAA0ADQANAA0ADQANAA0ADQANAA0ADQANAA0ADQANAA0ADQANAA0ADQANAA0ADQANAA0ADQANAA0ADQANAA0ADQANAA0ADQANAA0ADQANAA0ADQANAA0ADQANAA0ADQANAA0ADQANAA0ADQANAA0ADQANAA0ADQANAA0ADQANAA0ADQANAA0ADQANAA0ADQANAA0ADQANAA0ADQANAA0ADQANAA0ADQANAA0ADQANAA0ADQANAA0ADQANAA0ADQANAA0ADQANAA0ADQANAA0ADQANAA0ADQANAA0ADQANAA0ADQANAA0AXwBfAA0ADQANAA0ADQANAA0ADQANAA0ADQANAA0ADQANAA0ADQANAA0ADQANAA0ADQANAA0ADQANAA0ADQANAA0ADQANAA0ADgANAA0ADQANAA0ADQANAA0ADQANAA0ADQANAA4ADQANAA0ADQANAA0ADQANAA0ADgAOAA0ADQANAA4ADQANAAwADgANAA4ADgAOAA4ADgANAA0ADgANAA4ADgAOAAsADgAOAA4ADgAOAA4ADQAOAA0ADgANAA4ACgANAA4ADgANAA0ADQANAA0ADQAOAA0ADQAOAA0ADQANAA0ADgAOAA4ADQANAA4ADQANAA4ADQANAA4ADgAOAA4ADQANAA0ADgANAA0ADgAOAA4ADgAOAA4ADgAOAA0ADQANAA0ADQANAA4ADQANAA0ADgANAA0ADQAOAA0ADQAOAA4AXwBfAF8AXwADAAQAGABhAFkBDwJhAGEAYQBhAGEAYQBeAF4AXgBhAGEAYQBhAGEAGABiAFgBDgICACAABQABAAoAAwAEABgAYQBZAQ8CAgAgAAUAAQAKAFcBDQICACAABQABAAoAAwAEABgAYQBZAQ8CAgAfAAYAAQAKAAMABAACAB8ABgABAAoAAwAEABgAYQBYAQ4CAgAfAAUAAQAKAAMAAwAYAGEABQAKAAEAAwAEABgAYQBZAQ8CAgAfAAYAAQAKAAMABAAYAGEAWAEOAgoAAwAEABgAYQBZAQ8CAgAgAAUAAQAKAAMABAAYAGEAWQEPAgIAIAAEABgAYABYAQ4CAgAeAAUAAQAKAAMAAwAYAGEAVwENAgIAIAAFAAEAYQBZAQ8CAgAgAAUAAQAKAAMABABhABgAVwENAg==",
          "dtype": "i2"
         },
         "xaxis": "x16",
         "yaxis": "y16"
        },
        {
         "marker": {
          "color": "blue"
         },
         "name": "Nucleocapsid",
         "nbinsx": 20,
         "opacity": 0.6,
         "showlegend": false,
         "type": "histogram",
         "x": {
          "bdata": "AAATExMTExMTExMTExMTExMTExMTExMSEhMTExITExMTICAhICAgICAgICAgICAgICAgICAgICAgICAgICAgICAgICAgICAgICAgICAgICAgICAgICAgICAgICAgIB8gICAfICAgICAgICAgICAgICAgICAgICAgICAgICAgICAgICAgICAgICAgICAgICAgICAgICAgICAgICAgICAfICAgICAgICAgICAgICAgICAgICAgICAgICAgICAgICAgICAgICAgICAgICAgICAgICAgICAfISAgICAgICAgICAgICAgICAgICAgICAgICAgICAgICAgICAgICAgIB8gICAgICAgICAgICAgICAgICAgICAgICAgICAgISAgICAgICAgICAgICAgICAgICAgICAgICAgICAgHyAgICAgICAgICAgICAgICAgICAgExMTExMTExMSIB8gHyAgICAgICAgIB8gICAgICAgICAgICAgICAgICAgICAgICAgICAgICAgICAgICAgIB8gICAgICAhICAgICAgICAgICAgISAgICAgICAgHyAgICAgICAfICAgIB8gICAgICAgICAgICAgICAgICAgIB8fICAgHyAfICAgHyAgICAgICAgICAgICAgICAgICAgICAgICAgIB8gICAgICAgICAgICAgICAgICAgHyAgISAgICAgICAgICAgICAgIB8gIB8gICAgIB8gIB8gICAgICAgICAgICAgIB8gICAgICAgHyAgICAgICAgICAfICAgICAgICAfICAgICAgICAgICAfICAgICAgICAgISAgICAgICAgICAfICAgHyAgICAfICAgICAgICAgICAgICAgICAeICAfICAgICAgICAgICAgIB8gICAgICAgICAgICAgICAgICAgICAgICAgICAgICAgICAgICAgHyAgHyAgICAgICAgICAgICAgICAgICAgICAgICAgICAgICAgICAgICAgICAgICAgICAgICAgICAgICAgICAgICAgICAgICAgICAgICAgICAgICAgICAgICEgICAgICAgICAgICAgICAgICAgICAgICAgHiEfICAgICAgICAgICAgICAgICAgICAgIB8gICAgICAgICAgICAgICAgICAhICAgICAhICAgICAgICAgICAgICAgICAgICAgICAgICAgICAgICAgICAgICAgICAgICAgICAgICAgICAgICAgICAgICAgICAgICAgICAgICAgICAgICAgICAgISAgHyAgICAgICAgICAgICAgICAgICAgICAgICAgICAgICAgICAgICAgICAgICAgISAgICAgICAgICAgICAgICAgICAgICAgICAgICAgICAgICAgICAgICAgICAgICAgICAgICAgICAgICAfICAgHyAgICAgICAgICAgICAgICAgICAgICAgICAgICAgICAgICAgICAgICAgICAgICAgICAgICAgICAgICAgHyAgICAgICAgICAgICAgICAgICAgICAgICAgICAgICAgICAgICAgICAgICAgICAgICAgICAgHyEgICAgICAgICAgICAgICAgICAgICAgICAgICAgICAgICAgICAgICAfICAgICAgICAgICAgICAgICAgICAgICAgICAgICEgICAgICAgICAgICAgICAgICAgICAgICAgICAgIB8gICAgICAgICAgICAgICAgICAgIA==",
          "dtype": "i1"
         },
         "xaxis": "x16",
         "yaxis": "y16"
        },
        {
         "marker": {
          "color": "orange"
         },
         "name": "Spike",
         "nbinsx": 20,
         "opacity": 0.6,
         "showlegend": false,
         "type": "histogram",
         "x": {
          "bdata": "X19fX19fX19fX19fX19fX19fWlpaWlpaWlpaWlpaWlpaX19fX19fX19fX19fX19fX19fX19fX19fX19fX19fX15eXl9fX19fX19fX1xcXF5eXl9fX19fX19fX19fX19fX19fX19fX19fX19fX19fX19fXl9eXl9fX19fX19fX19fX19fX19fX2FhYWFhYWFhYQtfX19bW1tgYGBfXl5eWlpaXV1eXV5eYGBgYGBgYF8LXV1dXV1dXV1dXV1dXV1dXV1dXV1dXV1dXV1dXl5eW1tbXl5eX19fXV1dXV1dXl5eYF9fX11dXV1dXV1dXV1dXV1dXV5eXl9fX15eXl5eXl5eXl5eXl9fX19fX2BgYGEBAV5fX19gYGBbW1tbCl9fX19fXwwLYWFhYWFhYWFhXl5eXl5eXmBgYDpfXl9fX19fXFxcW1tbX2BgYGBgYF9fX15eXgZeDF5eXl5eXl5eXgtbW1tbW1tbW1tcXFxfX19fX19fX1pfWlpeXl5fX18KXV1dCl1dXV1dXV1dXV9eXl5eXl5eX19fX19fXl9eXl5eXltbW1tfX19fX19fX18LCwsMX19fX19fX19eXl5fX19eXl5eXl5bC19fXwsLCwsAX15eXltbXl5eDQ0NDQ1gYGBfX19fX19fX19fX19fX18MDF1dXl5eX19fXl5eXl5eXl5eXl4GXgxeXl5eXl5eXl4LW1tbW1tbCwwLXl5fXl9fXl5bXltbXl5eYGBgX19fX19fXl5eX19fX19fX19fYGBgCwsaX19fX19fX19fXl5fX18TXl9fX19fX19fX19fX2FhX2FfX19fX1tbW1tbWwsLYGBgX19fCwtaWlpeXl5hYWFfX18dHV9fXl9eXl9fX19fX1xcXF4KCWBgYGBgYF9fX19fX19fX19fX19fX2BfXl5eXl5eXl5eDF5eXl9fX19fX2BgYApfX19fX19fDV5eXl5eXg1eXl5gJSUlYGBgX19fX19fWlpaWloLWgtaWlpdXV0AXFxcGl9fXl5eX19fXV1dX19fCwtdXl5eXl5eX19fXV1dXV1dXl5eWlpaAl1dXQEBDg5eXl5eX19eXl5fX19fDAxgYGBfX19fX19fX19gOmBgYGBgX19fYGBgX19fYGBgYGBgYGBgYWFhYWFhCwsLCAoKCgoKCQkJX1paWlxcXGFhYV1dXV9fX2BgYmJiXFxcYWFhX19fX19fXl5eDVxcXF9fX19fX19fXFxcX19fCl9fX19cXFxcXFxcXFwMAF9fX19fXwBbW1sKXFxcCgFfX19fX18MDAwMDAwMXV9fXwsBCl5eXl9fX19fX19gYA0NDV5eXg4OW1tbXFxcCl1dXWBgYA==",
          "dtype": "i1"
         },
         "xaxis": "x16",
         "yaxis": "y16"
        }
       ],
       "layout": {
        "height": 900,
        "template": {
         "data": {
          "bar": [
           {
            "error_x": {
             "color": "#2a3f5f"
            },
            "error_y": {
             "color": "#2a3f5f"
            },
            "marker": {
             "line": {
              "color": "#E5ECF6",
              "width": 0.5
             },
             "pattern": {
              "fillmode": "overlay",
              "size": 10,
              "solidity": 0.2
             }
            },
            "type": "bar"
           }
          ],
          "barpolar": [
           {
            "marker": {
             "line": {
              "color": "#E5ECF6",
              "width": 0.5
             },
             "pattern": {
              "fillmode": "overlay",
              "size": 10,
              "solidity": 0.2
             }
            },
            "type": "barpolar"
           }
          ],
          "carpet": [
           {
            "aaxis": {
             "endlinecolor": "#2a3f5f",
             "gridcolor": "white",
             "linecolor": "white",
             "minorgridcolor": "white",
             "startlinecolor": "#2a3f5f"
            },
            "baxis": {
             "endlinecolor": "#2a3f5f",
             "gridcolor": "white",
             "linecolor": "white",
             "minorgridcolor": "white",
             "startlinecolor": "#2a3f5f"
            },
            "type": "carpet"
           }
          ],
          "choropleth": [
           {
            "colorbar": {
             "outlinewidth": 0,
             "ticks": ""
            },
            "type": "choropleth"
           }
          ],
          "contour": [
           {
            "colorbar": {
             "outlinewidth": 0,
             "ticks": ""
            },
            "colorscale": [
             [
              0,
              "#0d0887"
             ],
             [
              0.1111111111111111,
              "#46039f"
             ],
             [
              0.2222222222222222,
              "#7201a8"
             ],
             [
              0.3333333333333333,
              "#9c179e"
             ],
             [
              0.4444444444444444,
              "#bd3786"
             ],
             [
              0.5555555555555556,
              "#d8576b"
             ],
             [
              0.6666666666666666,
              "#ed7953"
             ],
             [
              0.7777777777777778,
              "#fb9f3a"
             ],
             [
              0.8888888888888888,
              "#fdca26"
             ],
             [
              1,
              "#f0f921"
             ]
            ],
            "type": "contour"
           }
          ],
          "contourcarpet": [
           {
            "colorbar": {
             "outlinewidth": 0,
             "ticks": ""
            },
            "type": "contourcarpet"
           }
          ],
          "heatmap": [
           {
            "colorbar": {
             "outlinewidth": 0,
             "ticks": ""
            },
            "colorscale": [
             [
              0,
              "#0d0887"
             ],
             [
              0.1111111111111111,
              "#46039f"
             ],
             [
              0.2222222222222222,
              "#7201a8"
             ],
             [
              0.3333333333333333,
              "#9c179e"
             ],
             [
              0.4444444444444444,
              "#bd3786"
             ],
             [
              0.5555555555555556,
              "#d8576b"
             ],
             [
              0.6666666666666666,
              "#ed7953"
             ],
             [
              0.7777777777777778,
              "#fb9f3a"
             ],
             [
              0.8888888888888888,
              "#fdca26"
             ],
             [
              1,
              "#f0f921"
             ]
            ],
            "type": "heatmap"
           }
          ],
          "histogram": [
           {
            "marker": {
             "pattern": {
              "fillmode": "overlay",
              "size": 10,
              "solidity": 0.2
             }
            },
            "type": "histogram"
           }
          ],
          "histogram2d": [
           {
            "colorbar": {
             "outlinewidth": 0,
             "ticks": ""
            },
            "colorscale": [
             [
              0,
              "#0d0887"
             ],
             [
              0.1111111111111111,
              "#46039f"
             ],
             [
              0.2222222222222222,
              "#7201a8"
             ],
             [
              0.3333333333333333,
              "#9c179e"
             ],
             [
              0.4444444444444444,
              "#bd3786"
             ],
             [
              0.5555555555555556,
              "#d8576b"
             ],
             [
              0.6666666666666666,
              "#ed7953"
             ],
             [
              0.7777777777777778,
              "#fb9f3a"
             ],
             [
              0.8888888888888888,
              "#fdca26"
             ],
             [
              1,
              "#f0f921"
             ]
            ],
            "type": "histogram2d"
           }
          ],
          "histogram2dcontour": [
           {
            "colorbar": {
             "outlinewidth": 0,
             "ticks": ""
            },
            "colorscale": [
             [
              0,
              "#0d0887"
             ],
             [
              0.1111111111111111,
              "#46039f"
             ],
             [
              0.2222222222222222,
              "#7201a8"
             ],
             [
              0.3333333333333333,
              "#9c179e"
             ],
             [
              0.4444444444444444,
              "#bd3786"
             ],
             [
              0.5555555555555556,
              "#d8576b"
             ],
             [
              0.6666666666666666,
              "#ed7953"
             ],
             [
              0.7777777777777778,
              "#fb9f3a"
             ],
             [
              0.8888888888888888,
              "#fdca26"
             ],
             [
              1,
              "#f0f921"
             ]
            ],
            "type": "histogram2dcontour"
           }
          ],
          "mesh3d": [
           {
            "colorbar": {
             "outlinewidth": 0,
             "ticks": ""
            },
            "type": "mesh3d"
           }
          ],
          "parcoords": [
           {
            "line": {
             "colorbar": {
              "outlinewidth": 0,
              "ticks": ""
             }
            },
            "type": "parcoords"
           }
          ],
          "pie": [
           {
            "automargin": true,
            "type": "pie"
           }
          ],
          "scatter": [
           {
            "fillpattern": {
             "fillmode": "overlay",
             "size": 10,
             "solidity": 0.2
            },
            "type": "scatter"
           }
          ],
          "scatter3d": [
           {
            "line": {
             "colorbar": {
              "outlinewidth": 0,
              "ticks": ""
             }
            },
            "marker": {
             "colorbar": {
              "outlinewidth": 0,
              "ticks": ""
             }
            },
            "type": "scatter3d"
           }
          ],
          "scattercarpet": [
           {
            "marker": {
             "colorbar": {
              "outlinewidth": 0,
              "ticks": ""
             }
            },
            "type": "scattercarpet"
           }
          ],
          "scattergeo": [
           {
            "marker": {
             "colorbar": {
              "outlinewidth": 0,
              "ticks": ""
             }
            },
            "type": "scattergeo"
           }
          ],
          "scattergl": [
           {
            "marker": {
             "colorbar": {
              "outlinewidth": 0,
              "ticks": ""
             }
            },
            "type": "scattergl"
           }
          ],
          "scattermap": [
           {
            "marker": {
             "colorbar": {
              "outlinewidth": 0,
              "ticks": ""
             }
            },
            "type": "scattermap"
           }
          ],
          "scattermapbox": [
           {
            "marker": {
             "colorbar": {
              "outlinewidth": 0,
              "ticks": ""
             }
            },
            "type": "scattermapbox"
           }
          ],
          "scatterpolar": [
           {
            "marker": {
             "colorbar": {
              "outlinewidth": 0,
              "ticks": ""
             }
            },
            "type": "scatterpolar"
           }
          ],
          "scatterpolargl": [
           {
            "marker": {
             "colorbar": {
              "outlinewidth": 0,
              "ticks": ""
             }
            },
            "type": "scatterpolargl"
           }
          ],
          "scatterternary": [
           {
            "marker": {
             "colorbar": {
              "outlinewidth": 0,
              "ticks": ""
             }
            },
            "type": "scatterternary"
           }
          ],
          "surface": [
           {
            "colorbar": {
             "outlinewidth": 0,
             "ticks": ""
            },
            "colorscale": [
             [
              0,
              "#0d0887"
             ],
             [
              0.1111111111111111,
              "#46039f"
             ],
             [
              0.2222222222222222,
              "#7201a8"
             ],
             [
              0.3333333333333333,
              "#9c179e"
             ],
             [
              0.4444444444444444,
              "#bd3786"
             ],
             [
              0.5555555555555556,
              "#d8576b"
             ],
             [
              0.6666666666666666,
              "#ed7953"
             ],
             [
              0.7777777777777778,
              "#fb9f3a"
             ],
             [
              0.8888888888888888,
              "#fdca26"
             ],
             [
              1,
              "#f0f921"
             ]
            ],
            "type": "surface"
           }
          ],
          "table": [
           {
            "cells": {
             "fill": {
              "color": "#EBF0F8"
             },
             "line": {
              "color": "white"
             }
            },
            "header": {
             "fill": {
              "color": "#C8D4E3"
             },
             "line": {
              "color": "white"
             }
            },
            "type": "table"
           }
          ]
         },
         "layout": {
          "annotationdefaults": {
           "arrowcolor": "#2a3f5f",
           "arrowhead": 0,
           "arrowwidth": 1
          },
          "autotypenumbers": "strict",
          "coloraxis": {
           "colorbar": {
            "outlinewidth": 0,
            "ticks": ""
           }
          },
          "colorscale": {
           "diverging": [
            [
             0,
             "#8e0152"
            ],
            [
             0.1,
             "#c51b7d"
            ],
            [
             0.2,
             "#de77ae"
            ],
            [
             0.3,
             "#f1b6da"
            ],
            [
             0.4,
             "#fde0ef"
            ],
            [
             0.5,
             "#f7f7f7"
            ],
            [
             0.6,
             "#e6f5d0"
            ],
            [
             0.7,
             "#b8e186"
            ],
            [
             0.8,
             "#7fbc41"
            ],
            [
             0.9,
             "#4d9221"
            ],
            [
             1,
             "#276419"
            ]
           ],
           "sequential": [
            [
             0,
             "#0d0887"
            ],
            [
             0.1111111111111111,
             "#46039f"
            ],
            [
             0.2222222222222222,
             "#7201a8"
            ],
            [
             0.3333333333333333,
             "#9c179e"
            ],
            [
             0.4444444444444444,
             "#bd3786"
            ],
            [
             0.5555555555555556,
             "#d8576b"
            ],
            [
             0.6666666666666666,
             "#ed7953"
            ],
            [
             0.7777777777777778,
             "#fb9f3a"
            ],
            [
             0.8888888888888888,
             "#fdca26"
            ],
            [
             1,
             "#f0f921"
            ]
           ],
           "sequentialminus": [
            [
             0,
             "#0d0887"
            ],
            [
             0.1111111111111111,
             "#46039f"
            ],
            [
             0.2222222222222222,
             "#7201a8"
            ],
            [
             0.3333333333333333,
             "#9c179e"
            ],
            [
             0.4444444444444444,
             "#bd3786"
            ],
            [
             0.5555555555555556,
             "#d8576b"
            ],
            [
             0.6666666666666666,
             "#ed7953"
            ],
            [
             0.7777777777777778,
             "#fb9f3a"
            ],
            [
             0.8888888888888888,
             "#fdca26"
            ],
            [
             1,
             "#f0f921"
            ]
           ]
          },
          "colorway": [
           "#636efa",
           "#EF553B",
           "#00cc96",
           "#ab63fa",
           "#FFA15A",
           "#19d3f3",
           "#FF6692",
           "#B6E880",
           "#FF97FF",
           "#FECB52"
          ],
          "font": {
           "color": "#2a3f5f"
          },
          "geo": {
           "bgcolor": "white",
           "lakecolor": "white",
           "landcolor": "#E5ECF6",
           "showlakes": true,
           "showland": true,
           "subunitcolor": "white"
          },
          "hoverlabel": {
           "align": "left"
          },
          "hovermode": "closest",
          "mapbox": {
           "style": "light"
          },
          "paper_bgcolor": "white",
          "plot_bgcolor": "#E5ECF6",
          "polar": {
           "angularaxis": {
            "gridcolor": "white",
            "linecolor": "white",
            "ticks": ""
           },
           "bgcolor": "#E5ECF6",
           "radialaxis": {
            "gridcolor": "white",
            "linecolor": "white",
            "ticks": ""
           }
          },
          "scene": {
           "xaxis": {
            "backgroundcolor": "#E5ECF6",
            "gridcolor": "white",
            "gridwidth": 2,
            "linecolor": "white",
            "showbackground": true,
            "ticks": "",
            "zerolinecolor": "white"
           },
           "yaxis": {
            "backgroundcolor": "#E5ECF6",
            "gridcolor": "white",
            "gridwidth": 2,
            "linecolor": "white",
            "showbackground": true,
            "ticks": "",
            "zerolinecolor": "white"
           },
           "zaxis": {
            "backgroundcolor": "#E5ECF6",
            "gridcolor": "white",
            "gridwidth": 2,
            "linecolor": "white",
            "showbackground": true,
            "ticks": "",
            "zerolinecolor": "white"
           }
          },
          "shapedefaults": {
           "line": {
            "color": "#2a3f5f"
           }
          },
          "ternary": {
           "aaxis": {
            "gridcolor": "white",
            "linecolor": "white",
            "ticks": ""
           },
           "baxis": {
            "gridcolor": "white",
            "linecolor": "white",
            "ticks": ""
           },
           "bgcolor": "#E5ECF6",
           "caxis": {
            "gridcolor": "white",
            "linecolor": "white",
            "ticks": ""
           }
          },
          "title": {
           "x": 0.05
          },
          "xaxis": {
           "automargin": true,
           "gridcolor": "white",
           "linecolor": "white",
           "ticks": "",
           "title": {
            "standoff": 15
           },
           "zerolinecolor": "white",
           "zerolinewidth": 2
          },
          "yaxis": {
           "automargin": true,
           "gridcolor": "white",
           "linecolor": "white",
           "ticks": "",
           "title": {
            "standoff": 15
           },
           "zerolinecolor": "white",
           "zerolinewidth": 2
          }
         }
        },
        "title": {
         "text": "Custom Pairplot with Histogram Diagonals"
        },
        "width": 900,
        "xaxis": {
         "anchor": "y",
         "domain": [
          0,
          0.235
         ],
         "showticklabels": false,
         "title": {
          "text": ""
         }
        },
        "xaxis10": {
         "anchor": "y10",
         "domain": [
          0.255,
          0.49
         ],
         "showticklabels": false,
         "title": {
          "text": ""
         }
        },
        "xaxis11": {
         "anchor": "y11",
         "domain": [
          0.51,
          0.745
         ],
         "showticklabels": false,
         "title": {
          "text": ""
         }
        },
        "xaxis12": {
         "anchor": "y12",
         "domain": [
          0.7649999999999999,
          0.9999999999999999
         ],
         "showticklabels": false,
         "title": {
          "text": ""
         }
        },
        "xaxis13": {
         "anchor": "y13",
         "domain": [
          0,
          0.235
         ],
         "showticklabels": true,
         "title": {
          "text": "L"
         }
        },
        "xaxis14": {
         "anchor": "y14",
         "domain": [
          0.255,
          0.49
         ],
         "showticklabels": true,
         "title": {
          "text": "S"
         }
        },
        "xaxis15": {
         "anchor": "y15",
         "domain": [
          0.51,
          0.745
         ],
         "showticklabels": true,
         "title": {
          "text": "G"
         }
        },
        "xaxis16": {
         "anchor": "y16",
         "domain": [
          0.7649999999999999,
          0.9999999999999999
         ],
         "showticklabels": true,
         "title": {
          "text": "T"
         }
        },
        "xaxis2": {
         "anchor": "y2",
         "domain": [
          0.255,
          0.49
         ],
         "showticklabels": false,
         "title": {
          "text": ""
         }
        },
        "xaxis3": {
         "anchor": "y3",
         "domain": [
          0.51,
          0.745
         ],
         "showticklabels": false,
         "title": {
          "text": ""
         }
        },
        "xaxis4": {
         "anchor": "y4",
         "domain": [
          0.7649999999999999,
          0.9999999999999999
         ],
         "showticklabels": false,
         "title": {
          "text": ""
         }
        },
        "xaxis5": {
         "anchor": "y5",
         "domain": [
          0,
          0.235
         ],
         "showticklabels": false,
         "title": {
          "text": ""
         }
        },
        "xaxis6": {
         "anchor": "y6",
         "domain": [
          0.255,
          0.49
         ],
         "showticklabels": false,
         "title": {
          "text": ""
         }
        },
        "xaxis7": {
         "anchor": "y7",
         "domain": [
          0.51,
          0.745
         ],
         "showticklabels": false,
         "title": {
          "text": ""
         }
        },
        "xaxis8": {
         "anchor": "y8",
         "domain": [
          0.7649999999999999,
          0.9999999999999999
         ],
         "showticklabels": false,
         "title": {
          "text": ""
         }
        },
        "xaxis9": {
         "anchor": "y9",
         "domain": [
          0,
          0.235
         ],
         "showticklabels": false,
         "title": {
          "text": ""
         }
        },
        "yaxis": {
         "anchor": "x",
         "domain": [
          0.7649999999999999,
          0.9999999999999999
         ],
         "showticklabels": true,
         "title": {
          "text": "L"
         }
        },
        "yaxis10": {
         "anchor": "x10",
         "domain": [
          0.255,
          0.49
         ],
         "showticklabels": false,
         "title": {
          "text": ""
         }
        },
        "yaxis11": {
         "anchor": "x11",
         "domain": [
          0.255,
          0.49
         ],
         "showticklabels": false,
         "title": {
          "text": ""
         }
        },
        "yaxis12": {
         "anchor": "x12",
         "domain": [
          0.255,
          0.49
         ],
         "showticklabels": false,
         "title": {
          "text": ""
         }
        },
        "yaxis13": {
         "anchor": "x13",
         "domain": [
          0,
          0.235
         ],
         "showticklabels": true,
         "title": {
          "text": "T"
         }
        },
        "yaxis14": {
         "anchor": "x14",
         "domain": [
          0,
          0.235
         ],
         "showticklabels": false,
         "title": {
          "text": ""
         }
        },
        "yaxis15": {
         "anchor": "x15",
         "domain": [
          0,
          0.235
         ],
         "showticklabels": false,
         "title": {
          "text": ""
         }
        },
        "yaxis16": {
         "anchor": "x16",
         "domain": [
          0,
          0.235
         ],
         "showticklabels": false,
         "title": {
          "text": ""
         }
        },
        "yaxis2": {
         "anchor": "x2",
         "domain": [
          0.7649999999999999,
          0.9999999999999999
         ],
         "showticklabels": false,
         "title": {
          "text": ""
         }
        },
        "yaxis3": {
         "anchor": "x3",
         "domain": [
          0.7649999999999999,
          0.9999999999999999
         ],
         "showticklabels": false,
         "title": {
          "text": ""
         }
        },
        "yaxis4": {
         "anchor": "x4",
         "domain": [
          0.7649999999999999,
          0.9999999999999999
         ],
         "showticklabels": false,
         "title": {
          "text": ""
         }
        },
        "yaxis5": {
         "anchor": "x5",
         "domain": [
          0.51,
          0.745
         ],
         "showticklabels": true,
         "title": {
          "text": "S"
         }
        },
        "yaxis6": {
         "anchor": "x6",
         "domain": [
          0.51,
          0.745
         ],
         "showticklabels": false,
         "title": {
          "text": ""
         }
        },
        "yaxis7": {
         "anchor": "x7",
         "domain": [
          0.51,
          0.745
         ],
         "showticklabels": false,
         "title": {
          "text": ""
         }
        },
        "yaxis8": {
         "anchor": "x8",
         "domain": [
          0.51,
          0.745
         ],
         "showticklabels": false,
         "title": {
          "text": ""
         }
        },
        "yaxis9": {
         "anchor": "x9",
         "domain": [
          0.255,
          0.49
         ],
         "showticklabels": true,
         "title": {
          "text": "G"
         }
        }
       }
      }
     },
     "metadata": {},
     "output_type": "display_data"
    }
   ],
   "source": [
    "import plotly.graph_objects as go\n",
    "from plotly.subplots import make_subplots\n",
    "\n",
    "top_letters = total_counts.head(4).index.tolist()\n",
    "labels = df['Label'].unique()\n",
    "colors = ['red', 'green', 'blue', 'orange', 'purple']  # adjust as needed\n",
    "\n",
    "n = len(top_letters)\n",
    "\n",
    "fig = make_subplots(rows=n, cols=n,\n",
    "                    shared_xaxes=False, shared_yaxes=False,\n",
    "                    horizontal_spacing=0.02, vertical_spacing=0.02)\n",
    "\n",
    "for i, x_col in enumerate(top_letters):\n",
    "    for j, y_col in enumerate(top_letters):\n",
    "        if i == j:\n",
    "            # Diagonal: histogram (bar plot)\n",
    "            for k, label in enumerate(labels):\n",
    "                subset = df[df['Label'] == label][x_col]\n",
    "                fig.add_trace(go.Histogram(\n",
    "                    x=subset,\n",
    "                    name=str(label),\n",
    "                    marker_color=colors[k],\n",
    "                    opacity=0.6,\n",
    "                    showlegend=(i == 0 and j == 0),  # legend only once\n",
    "                    nbinsx=20,\n",
    "                ), row=i+1, col=j+1)\n",
    "            # X-axis title only on bottom row\n",
    "            fig.update_xaxes(title_text=x_col if i == n - 1 else '', row=i+1, col=j+1,\n",
    "                             showticklabels=(i == n - 1))\n",
    "            # Y-axis title on leftmost col\n",
    "            # For first subplot (top-left), set to letter name; else blank\n",
    "            yaxis_title = x_col if (i == 0 and j == 0) else ''\n",
    "            fig.update_yaxes(title_text=yaxis_title if j == 0 else '', row=i+1, col=j+1,\n",
    "                             showticklabels=(j == 0))\n",
    "        else:\n",
    "            # Off-diagonal: scatter plot\n",
    "            for k, label in enumerate(labels):\n",
    "                subset = df[df['Label'] == label]\n",
    "                fig.add_trace(go.Scatter(\n",
    "                    x=subset[y_col],\n",
    "                    y=subset[x_col],\n",
    "                    mode='markers',\n",
    "                    marker=dict(color=colors[k], size=5),\n",
    "                    name=str(label),\n",
    "                    showlegend=False,\n",
    "                ), row=i+1, col=j+1)\n",
    "            # X-axis labels only bottom row\n",
    "            fig.update_xaxes(title_text=y_col if i == n - 1 else '', row=i+1, col=j+1,\n",
    "                             showticklabels=(i == n - 1))\n",
    "            # Y-axis labels only leftmost col\n",
    "            fig.update_yaxes(title_text=x_col if j == 0 else '', row=i+1, col=j+1,\n",
    "                             showticklabels=(j == 0))\n",
    "\n",
    "fig.update_layout(height=900, width=900, title_text='Custom Pairplot with Histogram Diagonals')\n",
    "\n",
    "fig.show()\n"
   ]
  },
  {
   "cell_type": "markdown",
   "metadata": {},
   "source": [
    "### 7. KDE Plot of Letter 'E' Across Target Classes"
   ]
  },
  {
   "cell_type": "code",
   "execution_count": 23,
   "metadata": {},
   "outputs": [
    {
     "data": {
      "application/vnd.plotly.v1+json": {
       "config": {
        "plotlyServerURL": "https://plot.ly"
       },
       "data": [
        {
         "fill": "tozeroy",
         "mode": "lines",
         "name": "Target Envelope",
         "type": "scatter",
         "x": {
          "bdata": "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",
          "dtype": "f8"
         },
         "y": {
          "bdata": "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",
          "dtype": "f8"
         }
        },
        {
         "fill": "tozeroy",
         "mode": "lines",
         "name": "Target Membrane",
         "type": "scatter",
         "x": {
          "bdata": "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",
          "dtype": "f8"
         },
         "y": {
          "bdata": "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",
          "dtype": "f8"
         }
        },
        {
         "fill": "tozeroy",
         "mode": "lines",
         "name": "Target Nucleocapsid",
         "type": "scatter",
         "x": {
          "bdata": "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",
          "dtype": "f8"
         },
         "y": {
          "bdata": "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",
          "dtype": "f8"
         }
        },
        {
         "fill": "tozeroy",
         "mode": "lines",
         "name": "Target Spike",
         "type": "scatter",
         "x": {
          "bdata": "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",
          "dtype": "f8"
         },
         "y": {
          "bdata": "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",
          "dtype": "f8"
         }
        }
       ],
       "layout": {
        "height": 500,
        "template": {
         "data": {
          "bar": [
           {
            "error_x": {
             "color": "#2a3f5f"
            },
            "error_y": {
             "color": "#2a3f5f"
            },
            "marker": {
             "line": {
              "color": "#E5ECF6",
              "width": 0.5
             },
             "pattern": {
              "fillmode": "overlay",
              "size": 10,
              "solidity": 0.2
             }
            },
            "type": "bar"
           }
          ],
          "barpolar": [
           {
            "marker": {
             "line": {
              "color": "#E5ECF6",
              "width": 0.5
             },
             "pattern": {
              "fillmode": "overlay",
              "size": 10,
              "solidity": 0.2
             }
            },
            "type": "barpolar"
           }
          ],
          "carpet": [
           {
            "aaxis": {
             "endlinecolor": "#2a3f5f",
             "gridcolor": "white",
             "linecolor": "white",
             "minorgridcolor": "white",
             "startlinecolor": "#2a3f5f"
            },
            "baxis": {
             "endlinecolor": "#2a3f5f",
             "gridcolor": "white",
             "linecolor": "white",
             "minorgridcolor": "white",
             "startlinecolor": "#2a3f5f"
            },
            "type": "carpet"
           }
          ],
          "choropleth": [
           {
            "colorbar": {
             "outlinewidth": 0,
             "ticks": ""
            },
            "type": "choropleth"
           }
          ],
          "contour": [
           {
            "colorbar": {
             "outlinewidth": 0,
             "ticks": ""
            },
            "colorscale": [
             [
              0,
              "#0d0887"
             ],
             [
              0.1111111111111111,
              "#46039f"
             ],
             [
              0.2222222222222222,
              "#7201a8"
             ],
             [
              0.3333333333333333,
              "#9c179e"
             ],
             [
              0.4444444444444444,
              "#bd3786"
             ],
             [
              0.5555555555555556,
              "#d8576b"
             ],
             [
              0.6666666666666666,
              "#ed7953"
             ],
             [
              0.7777777777777778,
              "#fb9f3a"
             ],
             [
              0.8888888888888888,
              "#fdca26"
             ],
             [
              1,
              "#f0f921"
             ]
            ],
            "type": "contour"
           }
          ],
          "contourcarpet": [
           {
            "colorbar": {
             "outlinewidth": 0,
             "ticks": ""
            },
            "type": "contourcarpet"
           }
          ],
          "heatmap": [
           {
            "colorbar": {
             "outlinewidth": 0,
             "ticks": ""
            },
            "colorscale": [
             [
              0,
              "#0d0887"
             ],
             [
              0.1111111111111111,
              "#46039f"
             ],
             [
              0.2222222222222222,
              "#7201a8"
             ],
             [
              0.3333333333333333,
              "#9c179e"
             ],
             [
              0.4444444444444444,
              "#bd3786"
             ],
             [
              0.5555555555555556,
              "#d8576b"
             ],
             [
              0.6666666666666666,
              "#ed7953"
             ],
             [
              0.7777777777777778,
              "#fb9f3a"
             ],
             [
              0.8888888888888888,
              "#fdca26"
             ],
             [
              1,
              "#f0f921"
             ]
            ],
            "type": "heatmap"
           }
          ],
          "histogram": [
           {
            "marker": {
             "pattern": {
              "fillmode": "overlay",
              "size": 10,
              "solidity": 0.2
             }
            },
            "type": "histogram"
           }
          ],
          "histogram2d": [
           {
            "colorbar": {
             "outlinewidth": 0,
             "ticks": ""
            },
            "colorscale": [
             [
              0,
              "#0d0887"
             ],
             [
              0.1111111111111111,
              "#46039f"
             ],
             [
              0.2222222222222222,
              "#7201a8"
             ],
             [
              0.3333333333333333,
              "#9c179e"
             ],
             [
              0.4444444444444444,
              "#bd3786"
             ],
             [
              0.5555555555555556,
              "#d8576b"
             ],
             [
              0.6666666666666666,
              "#ed7953"
             ],
             [
              0.7777777777777778,
              "#fb9f3a"
             ],
             [
              0.8888888888888888,
              "#fdca26"
             ],
             [
              1,
              "#f0f921"
             ]
            ],
            "type": "histogram2d"
           }
          ],
          "histogram2dcontour": [
           {
            "colorbar": {
             "outlinewidth": 0,
             "ticks": ""
            },
            "colorscale": [
             [
              0,
              "#0d0887"
             ],
             [
              0.1111111111111111,
              "#46039f"
             ],
             [
              0.2222222222222222,
              "#7201a8"
             ],
             [
              0.3333333333333333,
              "#9c179e"
             ],
             [
              0.4444444444444444,
              "#bd3786"
             ],
             [
              0.5555555555555556,
              "#d8576b"
             ],
             [
              0.6666666666666666,
              "#ed7953"
             ],
             [
              0.7777777777777778,
              "#fb9f3a"
             ],
             [
              0.8888888888888888,
              "#fdca26"
             ],
             [
              1,
              "#f0f921"
             ]
            ],
            "type": "histogram2dcontour"
           }
          ],
          "mesh3d": [
           {
            "colorbar": {
             "outlinewidth": 0,
             "ticks": ""
            },
            "type": "mesh3d"
           }
          ],
          "parcoords": [
           {
            "line": {
             "colorbar": {
              "outlinewidth": 0,
              "ticks": ""
             }
            },
            "type": "parcoords"
           }
          ],
          "pie": [
           {
            "automargin": true,
            "type": "pie"
           }
          ],
          "scatter": [
           {
            "fillpattern": {
             "fillmode": "overlay",
             "size": 10,
             "solidity": 0.2
            },
            "type": "scatter"
           }
          ],
          "scatter3d": [
           {
            "line": {
             "colorbar": {
              "outlinewidth": 0,
              "ticks": ""
             }
            },
            "marker": {
             "colorbar": {
              "outlinewidth": 0,
              "ticks": ""
             }
            },
            "type": "scatter3d"
           }
          ],
          "scattercarpet": [
           {
            "marker": {
             "colorbar": {
              "outlinewidth": 0,
              "ticks": ""
             }
            },
            "type": "scattercarpet"
           }
          ],
          "scattergeo": [
           {
            "marker": {
             "colorbar": {
              "outlinewidth": 0,
              "ticks": ""
             }
            },
            "type": "scattergeo"
           }
          ],
          "scattergl": [
           {
            "marker": {
             "colorbar": {
              "outlinewidth": 0,
              "ticks": ""
             }
            },
            "type": "scattergl"
           }
          ],
          "scattermap": [
           {
            "marker": {
             "colorbar": {
              "outlinewidth": 0,
              "ticks": ""
             }
            },
            "type": "scattermap"
           }
          ],
          "scattermapbox": [
           {
            "marker": {
             "colorbar": {
              "outlinewidth": 0,
              "ticks": ""
             }
            },
            "type": "scattermapbox"
           }
          ],
          "scatterpolar": [
           {
            "marker": {
             "colorbar": {
              "outlinewidth": 0,
              "ticks": ""
             }
            },
            "type": "scatterpolar"
           }
          ],
          "scatterpolargl": [
           {
            "marker": {
             "colorbar": {
              "outlinewidth": 0,
              "ticks": ""
             }
            },
            "type": "scatterpolargl"
           }
          ],
          "scatterternary": [
           {
            "marker": {
             "colorbar": {
              "outlinewidth": 0,
              "ticks": ""
             }
            },
            "type": "scatterternary"
           }
          ],
          "surface": [
           {
            "colorbar": {
             "outlinewidth": 0,
             "ticks": ""
            },
            "colorscale": [
             [
              0,
              "#0d0887"
             ],
             [
              0.1111111111111111,
              "#46039f"
             ],
             [
              0.2222222222222222,
              "#7201a8"
             ],
             [
              0.3333333333333333,
              "#9c179e"
             ],
             [
              0.4444444444444444,
              "#bd3786"
             ],
             [
              0.5555555555555556,
              "#d8576b"
             ],
             [
              0.6666666666666666,
              "#ed7953"
             ],
             [
              0.7777777777777778,
              "#fb9f3a"
             ],
             [
              0.8888888888888888,
              "#fdca26"
             ],
             [
              1,
              "#f0f921"
             ]
            ],
            "type": "surface"
           }
          ],
          "table": [
           {
            "cells": {
             "fill": {
              "color": "#EBF0F8"
             },
             "line": {
              "color": "white"
             }
            },
            "header": {
             "fill": {
              "color": "#C8D4E3"
             },
             "line": {
              "color": "white"
             }
            },
            "type": "table"
           }
          ]
         },
         "layout": {
          "annotationdefaults": {
           "arrowcolor": "#2a3f5f",
           "arrowhead": 0,
           "arrowwidth": 1
          },
          "autotypenumbers": "strict",
          "coloraxis": {
           "colorbar": {
            "outlinewidth": 0,
            "ticks": ""
           }
          },
          "colorscale": {
           "diverging": [
            [
             0,
             "#8e0152"
            ],
            [
             0.1,
             "#c51b7d"
            ],
            [
             0.2,
             "#de77ae"
            ],
            [
             0.3,
             "#f1b6da"
            ],
            [
             0.4,
             "#fde0ef"
            ],
            [
             0.5,
             "#f7f7f7"
            ],
            [
             0.6,
             "#e6f5d0"
            ],
            [
             0.7,
             "#b8e186"
            ],
            [
             0.8,
             "#7fbc41"
            ],
            [
             0.9,
             "#4d9221"
            ],
            [
             1,
             "#276419"
            ]
           ],
           "sequential": [
            [
             0,
             "#0d0887"
            ],
            [
             0.1111111111111111,
             "#46039f"
            ],
            [
             0.2222222222222222,
             "#7201a8"
            ],
            [
             0.3333333333333333,
             "#9c179e"
            ],
            [
             0.4444444444444444,
             "#bd3786"
            ],
            [
             0.5555555555555556,
             "#d8576b"
            ],
            [
             0.6666666666666666,
             "#ed7953"
            ],
            [
             0.7777777777777778,
             "#fb9f3a"
            ],
            [
             0.8888888888888888,
             "#fdca26"
            ],
            [
             1,
             "#f0f921"
            ]
           ],
           "sequentialminus": [
            [
             0,
             "#0d0887"
            ],
            [
             0.1111111111111111,
             "#46039f"
            ],
            [
             0.2222222222222222,
             "#7201a8"
            ],
            [
             0.3333333333333333,
             "#9c179e"
            ],
            [
             0.4444444444444444,
             "#bd3786"
            ],
            [
             0.5555555555555556,
             "#d8576b"
            ],
            [
             0.6666666666666666,
             "#ed7953"
            ],
            [
             0.7777777777777778,
             "#fb9f3a"
            ],
            [
             0.8888888888888888,
             "#fdca26"
            ],
            [
             1,
             "#f0f921"
            ]
           ]
          },
          "colorway": [
           "#636efa",
           "#EF553B",
           "#00cc96",
           "#ab63fa",
           "#FFA15A",
           "#19d3f3",
           "#FF6692",
           "#B6E880",
           "#FF97FF",
           "#FECB52"
          ],
          "font": {
           "color": "#2a3f5f"
          },
          "geo": {
           "bgcolor": "white",
           "lakecolor": "white",
           "landcolor": "#E5ECF6",
           "showlakes": true,
           "showland": true,
           "subunitcolor": "white"
          },
          "hoverlabel": {
           "align": "left"
          },
          "hovermode": "closest",
          "mapbox": {
           "style": "light"
          },
          "paper_bgcolor": "white",
          "plot_bgcolor": "#E5ECF6",
          "polar": {
           "angularaxis": {
            "gridcolor": "white",
            "linecolor": "white",
            "ticks": ""
           },
           "bgcolor": "#E5ECF6",
           "radialaxis": {
            "gridcolor": "white",
            "linecolor": "white",
            "ticks": ""
           }
          },
          "scene": {
           "xaxis": {
            "backgroundcolor": "#E5ECF6",
            "gridcolor": "white",
            "gridwidth": 2,
            "linecolor": "white",
            "showbackground": true,
            "ticks": "",
            "zerolinecolor": "white"
           },
           "yaxis": {
            "backgroundcolor": "#E5ECF6",
            "gridcolor": "white",
            "gridwidth": 2,
            "linecolor": "white",
            "showbackground": true,
            "ticks": "",
            "zerolinecolor": "white"
           },
           "zaxis": {
            "backgroundcolor": "#E5ECF6",
            "gridcolor": "white",
            "gridwidth": 2,
            "linecolor": "white",
            "showbackground": true,
            "ticks": "",
            "zerolinecolor": "white"
           }
          },
          "shapedefaults": {
           "line": {
            "color": "#2a3f5f"
           }
          },
          "ternary": {
           "aaxis": {
            "gridcolor": "white",
            "linecolor": "white",
            "ticks": ""
           },
           "baxis": {
            "gridcolor": "white",
            "linecolor": "white",
            "ticks": ""
           },
           "bgcolor": "#E5ECF6",
           "caxis": {
            "gridcolor": "white",
            "linecolor": "white",
            "ticks": ""
           }
          },
          "title": {
           "x": 0.05
          },
          "xaxis": {
           "automargin": true,
           "gridcolor": "white",
           "linecolor": "white",
           "ticks": "",
           "title": {
            "standoff": 15
           },
           "zerolinecolor": "white",
           "zerolinewidth": 2
          },
          "yaxis": {
           "automargin": true,
           "gridcolor": "white",
           "linecolor": "white",
           "ticks": "",
           "title": {
            "standoff": 15
           },
           "zerolinecolor": "white",
           "zerolinewidth": 2
          }
         }
        },
        "title": {
         "text": "KDE Plot for Letter 'E' by Target"
        },
        "width": 800,
        "xaxis": {
         "title": {
          "text": "Frequency of E"
         }
        },
        "yaxis": {
         "title": {
          "text": "Density"
         }
        }
       }
      }
     },
     "metadata": {},
     "output_type": "display_data"
    }
   ],
   "source": [
    "from scipy.stats import gaussian_kde\n",
    "fig = go.Figure()\n",
    "\n",
    "for label in df['Label'].unique():\n",
    "    data = df[df['Label'] == label]['E']\n",
    "    kde = gaussian_kde(data)\n",
    "    x_range = np.linspace(data.min(), data.max(), 200)\n",
    "    fig.add_trace(go.Scatter(\n",
    "        x=x_range,\n",
    "        y=kde(x_range),\n",
    "        mode='lines',\n",
    "        fill='tozeroy',\n",
    "        name=f'Target {label}'\n",
    "    ))\n",
    "\n",
    "fig.update_layout(\n",
    "    title=\"KDE Plot for Letter 'E' by Target\",\n",
    "    xaxis_title='Frequency of E',\n",
    "    yaxis_title='Density',\n",
    "    width=800,\n",
    "    height=500\n",
    ")\n",
    "\n",
    "fig.show()"
   ]
  },
  {
   "cell_type": "markdown",
   "metadata": {},
   "source": [
    "### 8. Heatmap of Mean Letter Frequencies Per Class"
   ]
  },
  {
   "cell_type": "code",
   "execution_count": 26,
   "metadata": {},
   "outputs": [
    {
     "data": {
      "application/vnd.plotly.v1+json": {
       "config": {
        "plotlyServerURL": "https://plot.ly"
       },
       "data": [
        {
         "coloraxis": "coloraxis",
         "hovertemplate": "Letter: %{x}<br>Target: %{y}<br>Mean Frequency: %{z}<extra></extra>",
         "name": "0",
         "texttemplate": "%{z:.1f}",
         "type": "heatmap",
         "x": [
          "A",
          "B",
          "C",
          "D",
          "E",
          "F",
          "G",
          "H",
          "I",
          "J",
          "K",
          "L",
          "M",
          "N",
          "O",
          "P",
          "Q",
          "R",
          "S",
          "T",
          "U",
          "V",
          "W",
          "X",
          "Y",
          "Z"
         ],
         "xaxis": "x",
         "y": [
          "Envelope",
          "Membrane",
          "Nucleocapsid",
          "Spike"
         ],
         "yaxis": "y",
         "z": {
          "bdata": "aWlpaWnpEEAAAAAAAAAAAKCfn5+fnwdAe3t7e3t77z+4t7e3t7f/P1paWlpa2hNA9PPz8/Pz7z8AAAAAAAAAAKyrq6urqw9AAAAAAAAAAACCgYGBgYH/P5GQkJCQ0CtAe3t7e3t77z8/Pz8/P78TQAAAAAAAAAAAgoGBgYGB/z8AAAAAAAAAAL69vb29vQdAi4qKioqKH0AnJycnJycGQAAAAAAAAAAA+vn5+fm5KUAAAAAAAAAAAAAAAAAAAAAAfn5+fn5+D0AAAAAAAAAAAIcOHTp06D1AAAAAAAAAAAB+/Pjx48cjQAECBAgQIC9AL126dOlSMEDRokWLFi00QKlRo0aNmjhAT506derUIEDq06dPn747QAAAAAAAAAAAatSoUaNGMkBct27durVIQBkxYsSIER9ASZIkSZIkNUAAAAAAAAAAAC1atGjRoilAIkOGDBkyJkDu3Llz584yQAIECBAgQDtAfPjw4cMHO0AAAAAAAAAAAD58+PDhwztAatOmTZs2IECCBAkSJEjAP/ny5cuXLzFAAAAAAAAAAAD62uJgQUlCQAAAAAAAAAAA5iybf8Y0aT/sxE7sxI43QCHerrp3yCVAAlnDaL+pKUBKOj59bdFEQGFBScenrw9AlecSyBrGK0AAAAAAAAAAAGIndmInFkBAlHR8+tqiO0CBrGG035QbQCtCvF11rzVAAAAAAAAAAABfWxwsKKk6QCjp+PS15UBAaEyTAeasPEB4SFQR4k1BQPLpa4uDhT9AAAAAAAAAAACSG7mRG7kfQEUVId6uuhNA5iybf8Y0iT+iihBvV90lQAAAAAAAAAAAkWBAgFXuUUAAAAAAAAAAANTiQYGrxzxAXJJhlrk7S0Dv9E2JWxJGQF7p8PWjolFAJsSCrB3pU0BQNc7e6Rs0QJ1o8EqHT1BAAAAAAAAAAADX5O3z989KQBUOtCIX2ldAj1/qRi/KJEBS4UArcuFTQAAAAAAAAAAAnBK3JMMsTEArx4RYkLVMQCLBgACrHENAxNePCgfaVkDMMndPinFVQAAAAAAAAAAAafBKh69fVUASYeucaPAjQDd6UTYkGFA/Xz8qHGiFSEAAAAAAAAAAAA==",
          "dtype": "f8",
          "shape": "4, 26"
         }
        }
       ],
       "layout": {
        "coloraxis": {
         "colorbar": {
          "title": {
           "text": "Mean Frequency"
          }
         },
         "colorscale": [
          [
           0,
           "rgb(255,255,217)"
          ],
          [
           0.125,
           "rgb(237,248,177)"
          ],
          [
           0.25,
           "rgb(199,233,180)"
          ],
          [
           0.375,
           "rgb(127,205,187)"
          ],
          [
           0.5,
           "rgb(65,182,196)"
          ],
          [
           0.625,
           "rgb(29,145,192)"
          ],
          [
           0.75,
           "rgb(34,94,168)"
          ],
          [
           0.875,
           "rgb(37,52,148)"
          ],
          [
           1,
           "rgb(8,29,88)"
          ]
         ]
        },
        "height": 600,
        "template": {
         "data": {
          "bar": [
           {
            "error_x": {
             "color": "#2a3f5f"
            },
            "error_y": {
             "color": "#2a3f5f"
            },
            "marker": {
             "line": {
              "color": "#E5ECF6",
              "width": 0.5
             },
             "pattern": {
              "fillmode": "overlay",
              "size": 10,
              "solidity": 0.2
             }
            },
            "type": "bar"
           }
          ],
          "barpolar": [
           {
            "marker": {
             "line": {
              "color": "#E5ECF6",
              "width": 0.5
             },
             "pattern": {
              "fillmode": "overlay",
              "size": 10,
              "solidity": 0.2
             }
            },
            "type": "barpolar"
           }
          ],
          "carpet": [
           {
            "aaxis": {
             "endlinecolor": "#2a3f5f",
             "gridcolor": "white",
             "linecolor": "white",
             "minorgridcolor": "white",
             "startlinecolor": "#2a3f5f"
            },
            "baxis": {
             "endlinecolor": "#2a3f5f",
             "gridcolor": "white",
             "linecolor": "white",
             "minorgridcolor": "white",
             "startlinecolor": "#2a3f5f"
            },
            "type": "carpet"
           }
          ],
          "choropleth": [
           {
            "colorbar": {
             "outlinewidth": 0,
             "ticks": ""
            },
            "type": "choropleth"
           }
          ],
          "contour": [
           {
            "colorbar": {
             "outlinewidth": 0,
             "ticks": ""
            },
            "colorscale": [
             [
              0,
              "#0d0887"
             ],
             [
              0.1111111111111111,
              "#46039f"
             ],
             [
              0.2222222222222222,
              "#7201a8"
             ],
             [
              0.3333333333333333,
              "#9c179e"
             ],
             [
              0.4444444444444444,
              "#bd3786"
             ],
             [
              0.5555555555555556,
              "#d8576b"
             ],
             [
              0.6666666666666666,
              "#ed7953"
             ],
             [
              0.7777777777777778,
              "#fb9f3a"
             ],
             [
              0.8888888888888888,
              "#fdca26"
             ],
             [
              1,
              "#f0f921"
             ]
            ],
            "type": "contour"
           }
          ],
          "contourcarpet": [
           {
            "colorbar": {
             "outlinewidth": 0,
             "ticks": ""
            },
            "type": "contourcarpet"
           }
          ],
          "heatmap": [
           {
            "colorbar": {
             "outlinewidth": 0,
             "ticks": ""
            },
            "colorscale": [
             [
              0,
              "#0d0887"
             ],
             [
              0.1111111111111111,
              "#46039f"
             ],
             [
              0.2222222222222222,
              "#7201a8"
             ],
             [
              0.3333333333333333,
              "#9c179e"
             ],
             [
              0.4444444444444444,
              "#bd3786"
             ],
             [
              0.5555555555555556,
              "#d8576b"
             ],
             [
              0.6666666666666666,
              "#ed7953"
             ],
             [
              0.7777777777777778,
              "#fb9f3a"
             ],
             [
              0.8888888888888888,
              "#fdca26"
             ],
             [
              1,
              "#f0f921"
             ]
            ],
            "type": "heatmap"
           }
          ],
          "histogram": [
           {
            "marker": {
             "pattern": {
              "fillmode": "overlay",
              "size": 10,
              "solidity": 0.2
             }
            },
            "type": "histogram"
           }
          ],
          "histogram2d": [
           {
            "colorbar": {
             "outlinewidth": 0,
             "ticks": ""
            },
            "colorscale": [
             [
              0,
              "#0d0887"
             ],
             [
              0.1111111111111111,
              "#46039f"
             ],
             [
              0.2222222222222222,
              "#7201a8"
             ],
             [
              0.3333333333333333,
              "#9c179e"
             ],
             [
              0.4444444444444444,
              "#bd3786"
             ],
             [
              0.5555555555555556,
              "#d8576b"
             ],
             [
              0.6666666666666666,
              "#ed7953"
             ],
             [
              0.7777777777777778,
              "#fb9f3a"
             ],
             [
              0.8888888888888888,
              "#fdca26"
             ],
             [
              1,
              "#f0f921"
             ]
            ],
            "type": "histogram2d"
           }
          ],
          "histogram2dcontour": [
           {
            "colorbar": {
             "outlinewidth": 0,
             "ticks": ""
            },
            "colorscale": [
             [
              0,
              "#0d0887"
             ],
             [
              0.1111111111111111,
              "#46039f"
             ],
             [
              0.2222222222222222,
              "#7201a8"
             ],
             [
              0.3333333333333333,
              "#9c179e"
             ],
             [
              0.4444444444444444,
              "#bd3786"
             ],
             [
              0.5555555555555556,
              "#d8576b"
             ],
             [
              0.6666666666666666,
              "#ed7953"
             ],
             [
              0.7777777777777778,
              "#fb9f3a"
             ],
             [
              0.8888888888888888,
              "#fdca26"
             ],
             [
              1,
              "#f0f921"
             ]
            ],
            "type": "histogram2dcontour"
           }
          ],
          "mesh3d": [
           {
            "colorbar": {
             "outlinewidth": 0,
             "ticks": ""
            },
            "type": "mesh3d"
           }
          ],
          "parcoords": [
           {
            "line": {
             "colorbar": {
              "outlinewidth": 0,
              "ticks": ""
             }
            },
            "type": "parcoords"
           }
          ],
          "pie": [
           {
            "automargin": true,
            "type": "pie"
           }
          ],
          "scatter": [
           {
            "fillpattern": {
             "fillmode": "overlay",
             "size": 10,
             "solidity": 0.2
            },
            "type": "scatter"
           }
          ],
          "scatter3d": [
           {
            "line": {
             "colorbar": {
              "outlinewidth": 0,
              "ticks": ""
             }
            },
            "marker": {
             "colorbar": {
              "outlinewidth": 0,
              "ticks": ""
             }
            },
            "type": "scatter3d"
           }
          ],
          "scattercarpet": [
           {
            "marker": {
             "colorbar": {
              "outlinewidth": 0,
              "ticks": ""
             }
            },
            "type": "scattercarpet"
           }
          ],
          "scattergeo": [
           {
            "marker": {
             "colorbar": {
              "outlinewidth": 0,
              "ticks": ""
             }
            },
            "type": "scattergeo"
           }
          ],
          "scattergl": [
           {
            "marker": {
             "colorbar": {
              "outlinewidth": 0,
              "ticks": ""
             }
            },
            "type": "scattergl"
           }
          ],
          "scattermap": [
           {
            "marker": {
             "colorbar": {
              "outlinewidth": 0,
              "ticks": ""
             }
            },
            "type": "scattermap"
           }
          ],
          "scattermapbox": [
           {
            "marker": {
             "colorbar": {
              "outlinewidth": 0,
              "ticks": ""
             }
            },
            "type": "scattermapbox"
           }
          ],
          "scatterpolar": [
           {
            "marker": {
             "colorbar": {
              "outlinewidth": 0,
              "ticks": ""
             }
            },
            "type": "scatterpolar"
           }
          ],
          "scatterpolargl": [
           {
            "marker": {
             "colorbar": {
              "outlinewidth": 0,
              "ticks": ""
             }
            },
            "type": "scatterpolargl"
           }
          ],
          "scatterternary": [
           {
            "marker": {
             "colorbar": {
              "outlinewidth": 0,
              "ticks": ""
             }
            },
            "type": "scatterternary"
           }
          ],
          "surface": [
           {
            "colorbar": {
             "outlinewidth": 0,
             "ticks": ""
            },
            "colorscale": [
             [
              0,
              "#0d0887"
             ],
             [
              0.1111111111111111,
              "#46039f"
             ],
             [
              0.2222222222222222,
              "#7201a8"
             ],
             [
              0.3333333333333333,
              "#9c179e"
             ],
             [
              0.4444444444444444,
              "#bd3786"
             ],
             [
              0.5555555555555556,
              "#d8576b"
             ],
             [
              0.6666666666666666,
              "#ed7953"
             ],
             [
              0.7777777777777778,
              "#fb9f3a"
             ],
             [
              0.8888888888888888,
              "#fdca26"
             ],
             [
              1,
              "#f0f921"
             ]
            ],
            "type": "surface"
           }
          ],
          "table": [
           {
            "cells": {
             "fill": {
              "color": "#EBF0F8"
             },
             "line": {
              "color": "white"
             }
            },
            "header": {
             "fill": {
              "color": "#C8D4E3"
             },
             "line": {
              "color": "white"
             }
            },
            "type": "table"
           }
          ]
         },
         "layout": {
          "annotationdefaults": {
           "arrowcolor": "#2a3f5f",
           "arrowhead": 0,
           "arrowwidth": 1
          },
          "autotypenumbers": "strict",
          "coloraxis": {
           "colorbar": {
            "outlinewidth": 0,
            "ticks": ""
           }
          },
          "colorscale": {
           "diverging": [
            [
             0,
             "#8e0152"
            ],
            [
             0.1,
             "#c51b7d"
            ],
            [
             0.2,
             "#de77ae"
            ],
            [
             0.3,
             "#f1b6da"
            ],
            [
             0.4,
             "#fde0ef"
            ],
            [
             0.5,
             "#f7f7f7"
            ],
            [
             0.6,
             "#e6f5d0"
            ],
            [
             0.7,
             "#b8e186"
            ],
            [
             0.8,
             "#7fbc41"
            ],
            [
             0.9,
             "#4d9221"
            ],
            [
             1,
             "#276419"
            ]
           ],
           "sequential": [
            [
             0,
             "#0d0887"
            ],
            [
             0.1111111111111111,
             "#46039f"
            ],
            [
             0.2222222222222222,
             "#7201a8"
            ],
            [
             0.3333333333333333,
             "#9c179e"
            ],
            [
             0.4444444444444444,
             "#bd3786"
            ],
            [
             0.5555555555555556,
             "#d8576b"
            ],
            [
             0.6666666666666666,
             "#ed7953"
            ],
            [
             0.7777777777777778,
             "#fb9f3a"
            ],
            [
             0.8888888888888888,
             "#fdca26"
            ],
            [
             1,
             "#f0f921"
            ]
           ],
           "sequentialminus": [
            [
             0,
             "#0d0887"
            ],
            [
             0.1111111111111111,
             "#46039f"
            ],
            [
             0.2222222222222222,
             "#7201a8"
            ],
            [
             0.3333333333333333,
             "#9c179e"
            ],
            [
             0.4444444444444444,
             "#bd3786"
            ],
            [
             0.5555555555555556,
             "#d8576b"
            ],
            [
             0.6666666666666666,
             "#ed7953"
            ],
            [
             0.7777777777777778,
             "#fb9f3a"
            ],
            [
             0.8888888888888888,
             "#fdca26"
            ],
            [
             1,
             "#f0f921"
            ]
           ]
          },
          "colorway": [
           "#636efa",
           "#EF553B",
           "#00cc96",
           "#ab63fa",
           "#FFA15A",
           "#19d3f3",
           "#FF6692",
           "#B6E880",
           "#FF97FF",
           "#FECB52"
          ],
          "font": {
           "color": "#2a3f5f"
          },
          "geo": {
           "bgcolor": "white",
           "lakecolor": "white",
           "landcolor": "#E5ECF6",
           "showlakes": true,
           "showland": true,
           "subunitcolor": "white"
          },
          "hoverlabel": {
           "align": "left"
          },
          "hovermode": "closest",
          "mapbox": {
           "style": "light"
          },
          "paper_bgcolor": "white",
          "plot_bgcolor": "#E5ECF6",
          "polar": {
           "angularaxis": {
            "gridcolor": "white",
            "linecolor": "white",
            "ticks": ""
           },
           "bgcolor": "#E5ECF6",
           "radialaxis": {
            "gridcolor": "white",
            "linecolor": "white",
            "ticks": ""
           }
          },
          "scene": {
           "xaxis": {
            "backgroundcolor": "#E5ECF6",
            "gridcolor": "white",
            "gridwidth": 2,
            "linecolor": "white",
            "showbackground": true,
            "ticks": "",
            "zerolinecolor": "white"
           },
           "yaxis": {
            "backgroundcolor": "#E5ECF6",
            "gridcolor": "white",
            "gridwidth": 2,
            "linecolor": "white",
            "showbackground": true,
            "ticks": "",
            "zerolinecolor": "white"
           },
           "zaxis": {
            "backgroundcolor": "#E5ECF6",
            "gridcolor": "white",
            "gridwidth": 2,
            "linecolor": "white",
            "showbackground": true,
            "ticks": "",
            "zerolinecolor": "white"
           }
          },
          "shapedefaults": {
           "line": {
            "color": "#2a3f5f"
           }
          },
          "ternary": {
           "aaxis": {
            "gridcolor": "white",
            "linecolor": "white",
            "ticks": ""
           },
           "baxis": {
            "gridcolor": "white",
            "linecolor": "white",
            "ticks": ""
           },
           "bgcolor": "#E5ECF6",
           "caxis": {
            "gridcolor": "white",
            "linecolor": "white",
            "ticks": ""
           }
          },
          "title": {
           "x": 0.05
          },
          "xaxis": {
           "automargin": true,
           "gridcolor": "white",
           "linecolor": "white",
           "ticks": "",
           "title": {
            "standoff": 15
           },
           "zerolinecolor": "white",
           "zerolinewidth": 2
          },
          "yaxis": {
           "automargin": true,
           "gridcolor": "white",
           "linecolor": "white",
           "ticks": "",
           "title": {
            "standoff": 15
           },
           "zerolinecolor": "white",
           "zerolinewidth": 2
          }
         }
        },
        "title": {
         "text": "Mean Letter Frequency by Target Class"
        },
        "width": 900,
        "xaxis": {
         "anchor": "y",
         "constrain": "domain",
         "domain": [
          0,
          1
         ],
         "scaleanchor": "y",
         "title": {
          "text": "Letter"
         }
        },
        "yaxis": {
         "anchor": "x",
         "autorange": "reversed",
         "constrain": "domain",
         "domain": [
          0,
          1
         ],
         "title": {
          "text": "Target"
         }
        }
       }
      }
     },
     "metadata": {},
     "output_type": "display_data"
    }
   ],
   "source": [
    "mean_by_class = df.groupby('Label')[letter_columns].mean()\n",
    "\n",
    "fig = px.imshow(\n",
    "    mean_by_class,\n",
    "    color_continuous_scale='YlGnBu',\n",
    "    text_auto='.1f',\n",
    "    labels=dict(x='Letter', y='Target', color='Mean Frequency'),\n",
    "    title='Mean Letter Frequency by Target Class',\n",
    "    x=mean_by_class.columns,\n",
    "    y=mean_by_class.index\n",
    ")\n",
    "\n",
    "fig.update_layout(\n",
    "    width=900,\n",
    "    height=600\n",
    ")\n",
    "\n",
    "fig.show()"
   ]
  },
  {
   "cell_type": "markdown",
   "metadata": {},
   "source": [
    "### 9. Histogram of Letter 'T'"
   ]
  },
  {
   "cell_type": "code",
   "execution_count": 38,
   "metadata": {},
   "outputs": [
    {
     "data": {
      "application/vnd.plotly.v1+json": {
       "config": {
        "plotlyServerURL": "https://plot.ly"
       },
       "data": [
        {
         "histnorm": "",
         "marker": {
          "color": "coral"
         },
         "name": "Histogram",
         "nbinsx": 30,
         "opacity": 0.7,
         "type": "histogram",
         "x": {
          "bdata": "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",
          "dtype": "i2"
         }
        },
        {
         "line": {
          "color": "darkred"
         },
         "mode": "lines",
         "name": "KDE",
         "type": "scatter",
         "x": {
          "bdata": "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",
          "dtype": "f8"
         },
         "y": {
          "bdata": "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",
          "dtype": "f8"
         }
        }
       ],
       "layout": {
        "bargap": 0.2,
        "height": 500,
        "template": {
         "data": {
          "bar": [
           {
            "error_x": {
             "color": "#2a3f5f"
            },
            "error_y": {
             "color": "#2a3f5f"
            },
            "marker": {
             "line": {
              "color": "white",
              "width": 0.5
             },
             "pattern": {
              "fillmode": "overlay",
              "size": 10,
              "solidity": 0.2
             }
            },
            "type": "bar"
           }
          ],
          "barpolar": [
           {
            "marker": {
             "line": {
              "color": "white",
              "width": 0.5
             },
             "pattern": {
              "fillmode": "overlay",
              "size": 10,
              "solidity": 0.2
             }
            },
            "type": "barpolar"
           }
          ],
          "carpet": [
           {
            "aaxis": {
             "endlinecolor": "#2a3f5f",
             "gridcolor": "#C8D4E3",
             "linecolor": "#C8D4E3",
             "minorgridcolor": "#C8D4E3",
             "startlinecolor": "#2a3f5f"
            },
            "baxis": {
             "endlinecolor": "#2a3f5f",
             "gridcolor": "#C8D4E3",
             "linecolor": "#C8D4E3",
             "minorgridcolor": "#C8D4E3",
             "startlinecolor": "#2a3f5f"
            },
            "type": "carpet"
           }
          ],
          "choropleth": [
           {
            "colorbar": {
             "outlinewidth": 0,
             "ticks": ""
            },
            "type": "choropleth"
           }
          ],
          "contour": [
           {
            "colorbar": {
             "outlinewidth": 0,
             "ticks": ""
            },
            "colorscale": [
             [
              0,
              "#0d0887"
             ],
             [
              0.1111111111111111,
              "#46039f"
             ],
             [
              0.2222222222222222,
              "#7201a8"
             ],
             [
              0.3333333333333333,
              "#9c179e"
             ],
             [
              0.4444444444444444,
              "#bd3786"
             ],
             [
              0.5555555555555556,
              "#d8576b"
             ],
             [
              0.6666666666666666,
              "#ed7953"
             ],
             [
              0.7777777777777778,
              "#fb9f3a"
             ],
             [
              0.8888888888888888,
              "#fdca26"
             ],
             [
              1,
              "#f0f921"
             ]
            ],
            "type": "contour"
           }
          ],
          "contourcarpet": [
           {
            "colorbar": {
             "outlinewidth": 0,
             "ticks": ""
            },
            "type": "contourcarpet"
           }
          ],
          "heatmap": [
           {
            "colorbar": {
             "outlinewidth": 0,
             "ticks": ""
            },
            "colorscale": [
             [
              0,
              "#0d0887"
             ],
             [
              0.1111111111111111,
              "#46039f"
             ],
             [
              0.2222222222222222,
              "#7201a8"
             ],
             [
              0.3333333333333333,
              "#9c179e"
             ],
             [
              0.4444444444444444,
              "#bd3786"
             ],
             [
              0.5555555555555556,
              "#d8576b"
             ],
             [
              0.6666666666666666,
              "#ed7953"
             ],
             [
              0.7777777777777778,
              "#fb9f3a"
             ],
             [
              0.8888888888888888,
              "#fdca26"
             ],
             [
              1,
              "#f0f921"
             ]
            ],
            "type": "heatmap"
           }
          ],
          "histogram": [
           {
            "marker": {
             "pattern": {
              "fillmode": "overlay",
              "size": 10,
              "solidity": 0.2
             }
            },
            "type": "histogram"
           }
          ],
          "histogram2d": [
           {
            "colorbar": {
             "outlinewidth": 0,
             "ticks": ""
            },
            "colorscale": [
             [
              0,
              "#0d0887"
             ],
             [
              0.1111111111111111,
              "#46039f"
             ],
             [
              0.2222222222222222,
              "#7201a8"
             ],
             [
              0.3333333333333333,
              "#9c179e"
             ],
             [
              0.4444444444444444,
              "#bd3786"
             ],
             [
              0.5555555555555556,
              "#d8576b"
             ],
             [
              0.6666666666666666,
              "#ed7953"
             ],
             [
              0.7777777777777778,
              "#fb9f3a"
             ],
             [
              0.8888888888888888,
              "#fdca26"
             ],
             [
              1,
              "#f0f921"
             ]
            ],
            "type": "histogram2d"
           }
          ],
          "histogram2dcontour": [
           {
            "colorbar": {
             "outlinewidth": 0,
             "ticks": ""
            },
            "colorscale": [
             [
              0,
              "#0d0887"
             ],
             [
              0.1111111111111111,
              "#46039f"
             ],
             [
              0.2222222222222222,
              "#7201a8"
             ],
             [
              0.3333333333333333,
              "#9c179e"
             ],
             [
              0.4444444444444444,
              "#bd3786"
             ],
             [
              0.5555555555555556,
              "#d8576b"
             ],
             [
              0.6666666666666666,
              "#ed7953"
             ],
             [
              0.7777777777777778,
              "#fb9f3a"
             ],
             [
              0.8888888888888888,
              "#fdca26"
             ],
             [
              1,
              "#f0f921"
             ]
            ],
            "type": "histogram2dcontour"
           }
          ],
          "mesh3d": [
           {
            "colorbar": {
             "outlinewidth": 0,
             "ticks": ""
            },
            "type": "mesh3d"
           }
          ],
          "parcoords": [
           {
            "line": {
             "colorbar": {
              "outlinewidth": 0,
              "ticks": ""
             }
            },
            "type": "parcoords"
           }
          ],
          "pie": [
           {
            "automargin": true,
            "type": "pie"
           }
          ],
          "scatter": [
           {
            "fillpattern": {
             "fillmode": "overlay",
             "size": 10,
             "solidity": 0.2
            },
            "type": "scatter"
           }
          ],
          "scatter3d": [
           {
            "line": {
             "colorbar": {
              "outlinewidth": 0,
              "ticks": ""
             }
            },
            "marker": {
             "colorbar": {
              "outlinewidth": 0,
              "ticks": ""
             }
            },
            "type": "scatter3d"
           }
          ],
          "scattercarpet": [
           {
            "marker": {
             "colorbar": {
              "outlinewidth": 0,
              "ticks": ""
             }
            },
            "type": "scattercarpet"
           }
          ],
          "scattergeo": [
           {
            "marker": {
             "colorbar": {
              "outlinewidth": 0,
              "ticks": ""
             }
            },
            "type": "scattergeo"
           }
          ],
          "scattergl": [
           {
            "marker": {
             "colorbar": {
              "outlinewidth": 0,
              "ticks": ""
             }
            },
            "type": "scattergl"
           }
          ],
          "scattermap": [
           {
            "marker": {
             "colorbar": {
              "outlinewidth": 0,
              "ticks": ""
             }
            },
            "type": "scattermap"
           }
          ],
          "scattermapbox": [
           {
            "marker": {
             "colorbar": {
              "outlinewidth": 0,
              "ticks": ""
             }
            },
            "type": "scattermapbox"
           }
          ],
          "scatterpolar": [
           {
            "marker": {
             "colorbar": {
              "outlinewidth": 0,
              "ticks": ""
             }
            },
            "type": "scatterpolar"
           }
          ],
          "scatterpolargl": [
           {
            "marker": {
             "colorbar": {
              "outlinewidth": 0,
              "ticks": ""
             }
            },
            "type": "scatterpolargl"
           }
          ],
          "scatterternary": [
           {
            "marker": {
             "colorbar": {
              "outlinewidth": 0,
              "ticks": ""
             }
            },
            "type": "scatterternary"
           }
          ],
          "surface": [
           {
            "colorbar": {
             "outlinewidth": 0,
             "ticks": ""
            },
            "colorscale": [
             [
              0,
              "#0d0887"
             ],
             [
              0.1111111111111111,
              "#46039f"
             ],
             [
              0.2222222222222222,
              "#7201a8"
             ],
             [
              0.3333333333333333,
              "#9c179e"
             ],
             [
              0.4444444444444444,
              "#bd3786"
             ],
             [
              0.5555555555555556,
              "#d8576b"
             ],
             [
              0.6666666666666666,
              "#ed7953"
             ],
             [
              0.7777777777777778,
              "#fb9f3a"
             ],
             [
              0.8888888888888888,
              "#fdca26"
             ],
             [
              1,
              "#f0f921"
             ]
            ],
            "type": "surface"
           }
          ],
          "table": [
           {
            "cells": {
             "fill": {
              "color": "#EBF0F8"
             },
             "line": {
              "color": "white"
             }
            },
            "header": {
             "fill": {
              "color": "#C8D4E3"
             },
             "line": {
              "color": "white"
             }
            },
            "type": "table"
           }
          ]
         },
         "layout": {
          "annotationdefaults": {
           "arrowcolor": "#2a3f5f",
           "arrowhead": 0,
           "arrowwidth": 1
          },
          "autotypenumbers": "strict",
          "coloraxis": {
           "colorbar": {
            "outlinewidth": 0,
            "ticks": ""
           }
          },
          "colorscale": {
           "diverging": [
            [
             0,
             "#8e0152"
            ],
            [
             0.1,
             "#c51b7d"
            ],
            [
             0.2,
             "#de77ae"
            ],
            [
             0.3,
             "#f1b6da"
            ],
            [
             0.4,
             "#fde0ef"
            ],
            [
             0.5,
             "#f7f7f7"
            ],
            [
             0.6,
             "#e6f5d0"
            ],
            [
             0.7,
             "#b8e186"
            ],
            [
             0.8,
             "#7fbc41"
            ],
            [
             0.9,
             "#4d9221"
            ],
            [
             1,
             "#276419"
            ]
           ],
           "sequential": [
            [
             0,
             "#0d0887"
            ],
            [
             0.1111111111111111,
             "#46039f"
            ],
            [
             0.2222222222222222,
             "#7201a8"
            ],
            [
             0.3333333333333333,
             "#9c179e"
            ],
            [
             0.4444444444444444,
             "#bd3786"
            ],
            [
             0.5555555555555556,
             "#d8576b"
            ],
            [
             0.6666666666666666,
             "#ed7953"
            ],
            [
             0.7777777777777778,
             "#fb9f3a"
            ],
            [
             0.8888888888888888,
             "#fdca26"
            ],
            [
             1,
             "#f0f921"
            ]
           ],
           "sequentialminus": [
            [
             0,
             "#0d0887"
            ],
            [
             0.1111111111111111,
             "#46039f"
            ],
            [
             0.2222222222222222,
             "#7201a8"
            ],
            [
             0.3333333333333333,
             "#9c179e"
            ],
            [
             0.4444444444444444,
             "#bd3786"
            ],
            [
             0.5555555555555556,
             "#d8576b"
            ],
            [
             0.6666666666666666,
             "#ed7953"
            ],
            [
             0.7777777777777778,
             "#fb9f3a"
            ],
            [
             0.8888888888888888,
             "#fdca26"
            ],
            [
             1,
             "#f0f921"
            ]
           ]
          },
          "colorway": [
           "#636efa",
           "#EF553B",
           "#00cc96",
           "#ab63fa",
           "#FFA15A",
           "#19d3f3",
           "#FF6692",
           "#B6E880",
           "#FF97FF",
           "#FECB52"
          ],
          "font": {
           "color": "#2a3f5f"
          },
          "geo": {
           "bgcolor": "white",
           "lakecolor": "white",
           "landcolor": "white",
           "showlakes": true,
           "showland": true,
           "subunitcolor": "#C8D4E3"
          },
          "hoverlabel": {
           "align": "left"
          },
          "hovermode": "closest",
          "mapbox": {
           "style": "light"
          },
          "paper_bgcolor": "white",
          "plot_bgcolor": "white",
          "polar": {
           "angularaxis": {
            "gridcolor": "#EBF0F8",
            "linecolor": "#EBF0F8",
            "ticks": ""
           },
           "bgcolor": "white",
           "radialaxis": {
            "gridcolor": "#EBF0F8",
            "linecolor": "#EBF0F8",
            "ticks": ""
           }
          },
          "scene": {
           "xaxis": {
            "backgroundcolor": "white",
            "gridcolor": "#DFE8F3",
            "gridwidth": 2,
            "linecolor": "#EBF0F8",
            "showbackground": true,
            "ticks": "",
            "zerolinecolor": "#EBF0F8"
           },
           "yaxis": {
            "backgroundcolor": "white",
            "gridcolor": "#DFE8F3",
            "gridwidth": 2,
            "linecolor": "#EBF0F8",
            "showbackground": true,
            "ticks": "",
            "zerolinecolor": "#EBF0F8"
           },
           "zaxis": {
            "backgroundcolor": "white",
            "gridcolor": "#DFE8F3",
            "gridwidth": 2,
            "linecolor": "#EBF0F8",
            "showbackground": true,
            "ticks": "",
            "zerolinecolor": "#EBF0F8"
           }
          },
          "shapedefaults": {
           "line": {
            "color": "#2a3f5f"
           }
          },
          "ternary": {
           "aaxis": {
            "gridcolor": "#DFE8F3",
            "linecolor": "#A2B1C6",
            "ticks": ""
           },
           "baxis": {
            "gridcolor": "#DFE8F3",
            "linecolor": "#A2B1C6",
            "ticks": ""
           },
           "bgcolor": "white",
           "caxis": {
            "gridcolor": "#DFE8F3",
            "linecolor": "#A2B1C6",
            "ticks": ""
           }
          },
          "title": {
           "x": 0.05
          },
          "xaxis": {
           "automargin": true,
           "gridcolor": "#EBF0F8",
           "linecolor": "#EBF0F8",
           "ticks": "",
           "title": {
            "standoff": 15
           },
           "zerolinecolor": "#EBF0F8",
           "zerolinewidth": 2
          },
          "yaxis": {
           "automargin": true,
           "gridcolor": "#EBF0F8",
           "linecolor": "#EBF0F8",
           "ticks": "",
           "title": {
            "standoff": 15
           },
           "zerolinecolor": "#EBF0F8",
           "zerolinewidth": 2
          }
         }
        },
        "title": {
         "text": "Histogram of Letter 'T'"
        },
        "width": 800,
        "xaxis": {
         "title": {
          "text": "Frequency of T"
         }
        },
        "yaxis": {
         "title": {
          "text": "Count"
         }
        }
       }
      }
     },
     "metadata": {},
     "output_type": "display_data"
    }
   ],
   "source": [
    "import plotly.graph_objects as go\n",
    "import numpy as np\n",
    "from scipy.stats import gaussian_kde\n",
    "\n",
    "# Data for letter 'T'\n",
    "data = df['T']\n",
    "\n",
    "# Histogram\n",
    "hist = go.Histogram(\n",
    "    x=data,\n",
    "    nbinsx=30,\n",
    "    marker_color='coral',\n",
    "    name='Histogram',\n",
    "    opacity=0.7,\n",
    "    histnorm=''  # raw counts\n",
    ")\n",
    "\n",
    "# KDE calculation\n",
    "kde = gaussian_kde(data)\n",
    "x_range = np.linspace(data.min(), data.max(), 200)\n",
    "kde_vals = kde(x_range) * len(data) * (data.max()-data.min())/30  # scale KDE to histogram counts\n",
    "\n",
    "kde_line = go.Scatter(\n",
    "    x=x_range,\n",
    "    y=kde_vals,\n",
    "    mode='lines',\n",
    "    line=dict(color='darkred'),\n",
    "    name='KDE'\n",
    ")\n",
    "\n",
    "fig = go.Figure(data=[hist, kde_line])\n",
    "\n",
    "fig.update_layout(\n",
    "    title=\"Histogram of Letter 'T'\",\n",
    "    xaxis_title=\"Frequency of T\",\n",
    "    yaxis_title=\"Count\",\n",
    "    bargap=0.2,\n",
    "    template='plotly_white',\n",
    "    width=800,\n",
    "    height=500\n",
    ")\n",
    "\n",
    "fig.show()\n"
   ]
  },
  {
   "cell_type": "code",
   "execution_count": null,
   "metadata": {},
   "outputs": [],
   "source": []
  }
 ],
 "metadata": {
  "kernelspec": {
   "display_name": "Python 3",
   "language": "python",
   "name": "python3"
  },
  "language_info": {
   "codemirror_mode": {
    "name": "ipython",
    "version": 3
   },
   "file_extension": ".py",
   "mimetype": "text/x-python",
   "name": "python",
   "nbconvert_exporter": "python",
   "pygments_lexer": "ipython3",
   "version": "3.13.3"
  }
 },
 "nbformat": 4,
 "nbformat_minor": 2
}
